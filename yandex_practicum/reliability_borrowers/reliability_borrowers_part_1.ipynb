{
 "cells": [
  {
   "cell_type": "markdown",
   "id": "e2fae62e",
   "metadata": {
    "deletable": false,
    "editable": false,
    "id": "c81daeeb"
   },
   "source": [
    "# Исследование надежности заемщиков"
   ]
  },
  {
   "cell_type": "markdown",
   "id": "9c6abb92",
   "metadata": {
    "deletable": false,
    "editable": false,
    "id": "-G3EJWzf62s6"
   },
   "source": [
    "Это первая часть проекта, она будет проверена автоматически. Вторую часть проверит ревьюер. "
   ]
  },
  {
   "cell_type": "markdown",
   "id": "f8b6b102",
   "metadata": {
    "deletable": false,
    "editable": false,
    "id": "744d7639"
   },
   "source": [
    "## Откройте таблицу и изучите общую информацию о данных"
   ]
  },
  {
   "cell_type": "markdown",
   "id": "565df005",
   "metadata": {
    "deletable": false,
    "editable": false,
    "id": "e7a14c31",
    "tags": [
     "start_task"
    ]
   },
   "source": [
    "**Задание 1. Импортируйте библиотеку pandas. Считайте данные из csv-файла в датафрейм и сохраните в переменную `data`. Путь к файлу:**\n",
    "\n",
    "`/datasets/data.csv`"
   ]
  },
  {
   "cell_type": "code",
   "execution_count": 1,
   "id": "ec231eef",
   "metadata": {
    "id": "7bcf75c9"
   },
   "outputs": [],
   "source": [
    "import pandas as pd # импортируйте библиотеку pandas"
   ]
  },
  {
   "cell_type": "code",
   "execution_count": 2,
   "id": "14c68fa2",
   "metadata": {
    "id": "4d240ee2"
   },
   "outputs": [],
   "source": [
    "data = pd.read_csv('/datasets/data.csv') # прочитайте csv-файл"
   ]
  },
  {
   "cell_type": "markdown",
   "id": "1913266c",
   "metadata": {
    "deletable": false,
    "editable": false,
    "id": "b8038fe3",
    "tags": [
     "start_task"
    ]
   },
   "source": [
    "**Задание 2. Выведите первые 20 строчек датафрейма `data` на экран.**"
   ]
  },
  {
   "cell_type": "code",
   "execution_count": 3,
   "id": "0f427d40",
   "metadata": {
    "id": "2a7cab99"
   },
   "outputs": [
    {
     "data": {
      "text/html": [
       "<div>\n",
       "<style scoped>\n",
       "    .dataframe tbody tr th:only-of-type {\n",
       "        vertical-align: middle;\n",
       "    }\n",
       "\n",
       "    .dataframe tbody tr th {\n",
       "        vertical-align: top;\n",
       "    }\n",
       "\n",
       "    .dataframe thead th {\n",
       "        text-align: right;\n",
       "    }\n",
       "</style>\n",
       "<table border=\"1\" class=\"dataframe\">\n",
       "  <thead>\n",
       "    <tr style=\"text-align: right;\">\n",
       "      <th></th>\n",
       "      <th>children</th>\n",
       "      <th>days_employed</th>\n",
       "      <th>dob_years</th>\n",
       "      <th>education</th>\n",
       "      <th>education_id</th>\n",
       "      <th>family_status</th>\n",
       "      <th>family_status_id</th>\n",
       "      <th>gender</th>\n",
       "      <th>income_type</th>\n",
       "      <th>debt</th>\n",
       "      <th>total_income</th>\n",
       "      <th>purpose</th>\n",
       "    </tr>\n",
       "  </thead>\n",
       "  <tbody>\n",
       "    <tr>\n",
       "      <th>0</th>\n",
       "      <td>1</td>\n",
       "      <td>-8437.673028</td>\n",
       "      <td>42</td>\n",
       "      <td>высшее</td>\n",
       "      <td>0</td>\n",
       "      <td>женат / замужем</td>\n",
       "      <td>0</td>\n",
       "      <td>F</td>\n",
       "      <td>сотрудник</td>\n",
       "      <td>0</td>\n",
       "      <td>253875.639453</td>\n",
       "      <td>покупка жилья</td>\n",
       "    </tr>\n",
       "    <tr>\n",
       "      <th>1</th>\n",
       "      <td>1</td>\n",
       "      <td>-4024.803754</td>\n",
       "      <td>36</td>\n",
       "      <td>среднее</td>\n",
       "      <td>1</td>\n",
       "      <td>женат / замужем</td>\n",
       "      <td>0</td>\n",
       "      <td>F</td>\n",
       "      <td>сотрудник</td>\n",
       "      <td>0</td>\n",
       "      <td>112080.014102</td>\n",
       "      <td>приобретение автомобиля</td>\n",
       "    </tr>\n",
       "    <tr>\n",
       "      <th>2</th>\n",
       "      <td>0</td>\n",
       "      <td>-5623.422610</td>\n",
       "      <td>33</td>\n",
       "      <td>Среднее</td>\n",
       "      <td>1</td>\n",
       "      <td>женат / замужем</td>\n",
       "      <td>0</td>\n",
       "      <td>M</td>\n",
       "      <td>сотрудник</td>\n",
       "      <td>0</td>\n",
       "      <td>145885.952297</td>\n",
       "      <td>покупка жилья</td>\n",
       "    </tr>\n",
       "    <tr>\n",
       "      <th>3</th>\n",
       "      <td>3</td>\n",
       "      <td>-4124.747207</td>\n",
       "      <td>32</td>\n",
       "      <td>среднее</td>\n",
       "      <td>1</td>\n",
       "      <td>женат / замужем</td>\n",
       "      <td>0</td>\n",
       "      <td>M</td>\n",
       "      <td>сотрудник</td>\n",
       "      <td>0</td>\n",
       "      <td>267628.550329</td>\n",
       "      <td>дополнительное образование</td>\n",
       "    </tr>\n",
       "    <tr>\n",
       "      <th>4</th>\n",
       "      <td>0</td>\n",
       "      <td>340266.072047</td>\n",
       "      <td>53</td>\n",
       "      <td>среднее</td>\n",
       "      <td>1</td>\n",
       "      <td>гражданский брак</td>\n",
       "      <td>1</td>\n",
       "      <td>F</td>\n",
       "      <td>пенсионер</td>\n",
       "      <td>0</td>\n",
       "      <td>158616.077870</td>\n",
       "      <td>сыграть свадьбу</td>\n",
       "    </tr>\n",
       "    <tr>\n",
       "      <th>5</th>\n",
       "      <td>0</td>\n",
       "      <td>-926.185831</td>\n",
       "      <td>27</td>\n",
       "      <td>высшее</td>\n",
       "      <td>0</td>\n",
       "      <td>гражданский брак</td>\n",
       "      <td>1</td>\n",
       "      <td>M</td>\n",
       "      <td>компаньон</td>\n",
       "      <td>0</td>\n",
       "      <td>255763.565419</td>\n",
       "      <td>покупка жилья</td>\n",
       "    </tr>\n",
       "    <tr>\n",
       "      <th>6</th>\n",
       "      <td>0</td>\n",
       "      <td>-2879.202052</td>\n",
       "      <td>43</td>\n",
       "      <td>высшее</td>\n",
       "      <td>0</td>\n",
       "      <td>женат / замужем</td>\n",
       "      <td>0</td>\n",
       "      <td>F</td>\n",
       "      <td>компаньон</td>\n",
       "      <td>0</td>\n",
       "      <td>240525.971920</td>\n",
       "      <td>операции с жильем</td>\n",
       "    </tr>\n",
       "    <tr>\n",
       "      <th>7</th>\n",
       "      <td>0</td>\n",
       "      <td>-152.779569</td>\n",
       "      <td>50</td>\n",
       "      <td>СРЕДНЕЕ</td>\n",
       "      <td>1</td>\n",
       "      <td>женат / замужем</td>\n",
       "      <td>0</td>\n",
       "      <td>M</td>\n",
       "      <td>сотрудник</td>\n",
       "      <td>0</td>\n",
       "      <td>135823.934197</td>\n",
       "      <td>образование</td>\n",
       "    </tr>\n",
       "    <tr>\n",
       "      <th>8</th>\n",
       "      <td>2</td>\n",
       "      <td>-6929.865299</td>\n",
       "      <td>35</td>\n",
       "      <td>ВЫСШЕЕ</td>\n",
       "      <td>0</td>\n",
       "      <td>гражданский брак</td>\n",
       "      <td>1</td>\n",
       "      <td>F</td>\n",
       "      <td>сотрудник</td>\n",
       "      <td>0</td>\n",
       "      <td>95856.832424</td>\n",
       "      <td>на проведение свадьбы</td>\n",
       "    </tr>\n",
       "    <tr>\n",
       "      <th>9</th>\n",
       "      <td>0</td>\n",
       "      <td>-2188.756445</td>\n",
       "      <td>41</td>\n",
       "      <td>среднее</td>\n",
       "      <td>1</td>\n",
       "      <td>женат / замужем</td>\n",
       "      <td>0</td>\n",
       "      <td>M</td>\n",
       "      <td>сотрудник</td>\n",
       "      <td>0</td>\n",
       "      <td>144425.938277</td>\n",
       "      <td>покупка жилья для семьи</td>\n",
       "    </tr>\n",
       "    <tr>\n",
       "      <th>10</th>\n",
       "      <td>2</td>\n",
       "      <td>-4171.483647</td>\n",
       "      <td>36</td>\n",
       "      <td>высшее</td>\n",
       "      <td>0</td>\n",
       "      <td>женат / замужем</td>\n",
       "      <td>0</td>\n",
       "      <td>M</td>\n",
       "      <td>компаньон</td>\n",
       "      <td>0</td>\n",
       "      <td>113943.491460</td>\n",
       "      <td>покупка недвижимости</td>\n",
       "    </tr>\n",
       "    <tr>\n",
       "      <th>11</th>\n",
       "      <td>0</td>\n",
       "      <td>-792.701887</td>\n",
       "      <td>40</td>\n",
       "      <td>среднее</td>\n",
       "      <td>1</td>\n",
       "      <td>женат / замужем</td>\n",
       "      <td>0</td>\n",
       "      <td>F</td>\n",
       "      <td>сотрудник</td>\n",
       "      <td>0</td>\n",
       "      <td>77069.234271</td>\n",
       "      <td>покупка коммерческой недвижимости</td>\n",
       "    </tr>\n",
       "    <tr>\n",
       "      <th>12</th>\n",
       "      <td>0</td>\n",
       "      <td>NaN</td>\n",
       "      <td>65</td>\n",
       "      <td>среднее</td>\n",
       "      <td>1</td>\n",
       "      <td>гражданский брак</td>\n",
       "      <td>1</td>\n",
       "      <td>M</td>\n",
       "      <td>пенсионер</td>\n",
       "      <td>0</td>\n",
       "      <td>NaN</td>\n",
       "      <td>сыграть свадьбу</td>\n",
       "    </tr>\n",
       "    <tr>\n",
       "      <th>13</th>\n",
       "      <td>0</td>\n",
       "      <td>-1846.641941</td>\n",
       "      <td>54</td>\n",
       "      <td>неоконченное высшее</td>\n",
       "      <td>2</td>\n",
       "      <td>женат / замужем</td>\n",
       "      <td>0</td>\n",
       "      <td>F</td>\n",
       "      <td>сотрудник</td>\n",
       "      <td>0</td>\n",
       "      <td>130458.228857</td>\n",
       "      <td>приобретение автомобиля</td>\n",
       "    </tr>\n",
       "    <tr>\n",
       "      <th>14</th>\n",
       "      <td>0</td>\n",
       "      <td>-1844.956182</td>\n",
       "      <td>56</td>\n",
       "      <td>высшее</td>\n",
       "      <td>0</td>\n",
       "      <td>гражданский брак</td>\n",
       "      <td>1</td>\n",
       "      <td>F</td>\n",
       "      <td>компаньон</td>\n",
       "      <td>1</td>\n",
       "      <td>165127.911772</td>\n",
       "      <td>покупка жилой недвижимости</td>\n",
       "    </tr>\n",
       "    <tr>\n",
       "      <th>15</th>\n",
       "      <td>1</td>\n",
       "      <td>-972.364419</td>\n",
       "      <td>26</td>\n",
       "      <td>среднее</td>\n",
       "      <td>1</td>\n",
       "      <td>женат / замужем</td>\n",
       "      <td>0</td>\n",
       "      <td>F</td>\n",
       "      <td>сотрудник</td>\n",
       "      <td>0</td>\n",
       "      <td>116820.904450</td>\n",
       "      <td>строительство собственной недвижимости</td>\n",
       "    </tr>\n",
       "    <tr>\n",
       "      <th>16</th>\n",
       "      <td>0</td>\n",
       "      <td>-1719.934226</td>\n",
       "      <td>35</td>\n",
       "      <td>среднее</td>\n",
       "      <td>1</td>\n",
       "      <td>женат / замужем</td>\n",
       "      <td>0</td>\n",
       "      <td>F</td>\n",
       "      <td>сотрудник</td>\n",
       "      <td>0</td>\n",
       "      <td>289202.704229</td>\n",
       "      <td>недвижимость</td>\n",
       "    </tr>\n",
       "    <tr>\n",
       "      <th>17</th>\n",
       "      <td>0</td>\n",
       "      <td>-2369.999720</td>\n",
       "      <td>33</td>\n",
       "      <td>высшее</td>\n",
       "      <td>0</td>\n",
       "      <td>гражданский брак</td>\n",
       "      <td>1</td>\n",
       "      <td>M</td>\n",
       "      <td>сотрудник</td>\n",
       "      <td>0</td>\n",
       "      <td>90410.586745</td>\n",
       "      <td>строительство недвижимости</td>\n",
       "    </tr>\n",
       "    <tr>\n",
       "      <th>18</th>\n",
       "      <td>0</td>\n",
       "      <td>400281.136913</td>\n",
       "      <td>53</td>\n",
       "      <td>среднее</td>\n",
       "      <td>1</td>\n",
       "      <td>вдовец / вдова</td>\n",
       "      <td>2</td>\n",
       "      <td>F</td>\n",
       "      <td>пенсионер</td>\n",
       "      <td>0</td>\n",
       "      <td>56823.777243</td>\n",
       "      <td>на покупку подержанного автомобиля</td>\n",
       "    </tr>\n",
       "    <tr>\n",
       "      <th>19</th>\n",
       "      <td>0</td>\n",
       "      <td>-10038.818549</td>\n",
       "      <td>48</td>\n",
       "      <td>СРЕДНЕЕ</td>\n",
       "      <td>1</td>\n",
       "      <td>в разводе</td>\n",
       "      <td>3</td>\n",
       "      <td>F</td>\n",
       "      <td>сотрудник</td>\n",
       "      <td>0</td>\n",
       "      <td>242831.107982</td>\n",
       "      <td>на покупку своего автомобиля</td>\n",
       "    </tr>\n",
       "  </tbody>\n",
       "</table>\n",
       "</div>"
      ],
      "text/plain": [
       "    children  days_employed  dob_years            education  education_id  \\\n",
       "0          1   -8437.673028         42               высшее             0   \n",
       "1          1   -4024.803754         36              среднее             1   \n",
       "2          0   -5623.422610         33              Среднее             1   \n",
       "3          3   -4124.747207         32              среднее             1   \n",
       "4          0  340266.072047         53              среднее             1   \n",
       "5          0    -926.185831         27               высшее             0   \n",
       "6          0   -2879.202052         43               высшее             0   \n",
       "7          0    -152.779569         50              СРЕДНЕЕ             1   \n",
       "8          2   -6929.865299         35               ВЫСШЕЕ             0   \n",
       "9          0   -2188.756445         41              среднее             1   \n",
       "10         2   -4171.483647         36               высшее             0   \n",
       "11         0    -792.701887         40              среднее             1   \n",
       "12         0            NaN         65              среднее             1   \n",
       "13         0   -1846.641941         54  неоконченное высшее             2   \n",
       "14         0   -1844.956182         56               высшее             0   \n",
       "15         1    -972.364419         26              среднее             1   \n",
       "16         0   -1719.934226         35              среднее             1   \n",
       "17         0   -2369.999720         33               высшее             0   \n",
       "18         0  400281.136913         53              среднее             1   \n",
       "19         0  -10038.818549         48              СРЕДНЕЕ             1   \n",
       "\n",
       "       family_status  family_status_id gender income_type  debt  \\\n",
       "0    женат / замужем                 0      F   сотрудник     0   \n",
       "1    женат / замужем                 0      F   сотрудник     0   \n",
       "2    женат / замужем                 0      M   сотрудник     0   \n",
       "3    женат / замужем                 0      M   сотрудник     0   \n",
       "4   гражданский брак                 1      F   пенсионер     0   \n",
       "5   гражданский брак                 1      M   компаньон     0   \n",
       "6    женат / замужем                 0      F   компаньон     0   \n",
       "7    женат / замужем                 0      M   сотрудник     0   \n",
       "8   гражданский брак                 1      F   сотрудник     0   \n",
       "9    женат / замужем                 0      M   сотрудник     0   \n",
       "10   женат / замужем                 0      M   компаньон     0   \n",
       "11   женат / замужем                 0      F   сотрудник     0   \n",
       "12  гражданский брак                 1      M   пенсионер     0   \n",
       "13   женат / замужем                 0      F   сотрудник     0   \n",
       "14  гражданский брак                 1      F   компаньон     1   \n",
       "15   женат / замужем                 0      F   сотрудник     0   \n",
       "16   женат / замужем                 0      F   сотрудник     0   \n",
       "17  гражданский брак                 1      M   сотрудник     0   \n",
       "18    вдовец / вдова                 2      F   пенсионер     0   \n",
       "19         в разводе                 3      F   сотрудник     0   \n",
       "\n",
       "     total_income                                 purpose  \n",
       "0   253875.639453                           покупка жилья  \n",
       "1   112080.014102                 приобретение автомобиля  \n",
       "2   145885.952297                           покупка жилья  \n",
       "3   267628.550329              дополнительное образование  \n",
       "4   158616.077870                         сыграть свадьбу  \n",
       "5   255763.565419                           покупка жилья  \n",
       "6   240525.971920                       операции с жильем  \n",
       "7   135823.934197                             образование  \n",
       "8    95856.832424                   на проведение свадьбы  \n",
       "9   144425.938277                 покупка жилья для семьи  \n",
       "10  113943.491460                    покупка недвижимости  \n",
       "11   77069.234271       покупка коммерческой недвижимости  \n",
       "12            NaN                         сыграть свадьбу  \n",
       "13  130458.228857                 приобретение автомобиля  \n",
       "14  165127.911772              покупка жилой недвижимости  \n",
       "15  116820.904450  строительство собственной недвижимости  \n",
       "16  289202.704229                            недвижимость  \n",
       "17   90410.586745              строительство недвижимости  \n",
       "18   56823.777243      на покупку подержанного автомобиля  \n",
       "19  242831.107982            на покупку своего автомобиля  "
      ]
     },
     "execution_count": 3,
     "metadata": {},
     "output_type": "execute_result"
    }
   ],
   "source": [
    "data.head(20) # ваш код здесь"
   ]
  },
  {
   "cell_type": "markdown",
   "id": "acfbc58c",
   "metadata": {
    "deletable": false,
    "editable": false,
    "id": "1c12e233",
    "tags": [
     "start_task"
    ]
   },
   "source": [
    "**Задание 3. Выведите основную информацию о датафрейме с помощью метода `info()`.**"
   ]
  },
  {
   "cell_type": "code",
   "execution_count": 4,
   "id": "94286c0e",
   "metadata": {
    "id": "2b757bca"
   },
   "outputs": [
    {
     "name": "stdout",
     "output_type": "stream",
     "text": [
      "<class 'pandas.core.frame.DataFrame'>\n",
      "RangeIndex: 21525 entries, 0 to 21524\n",
      "Data columns (total 12 columns):\n",
      " #   Column            Non-Null Count  Dtype  \n",
      "---  ------            --------------  -----  \n",
      " 0   children          21525 non-null  int64  \n",
      " 1   days_employed     19351 non-null  float64\n",
      " 2   dob_years         21525 non-null  int64  \n",
      " 3   education         21525 non-null  object \n",
      " 4   education_id      21525 non-null  int64  \n",
      " 5   family_status     21525 non-null  object \n",
      " 6   family_status_id  21525 non-null  int64  \n",
      " 7   gender            21525 non-null  object \n",
      " 8   income_type       21525 non-null  object \n",
      " 9   debt              21525 non-null  int64  \n",
      " 10  total_income      19351 non-null  float64\n",
      " 11  purpose           21525 non-null  object \n",
      "dtypes: float64(2), int64(5), object(5)\n",
      "memory usage: 2.0+ MB\n"
     ]
    }
   ],
   "source": [
    "data.info() # ваш код здесь"
   ]
  },
  {
   "cell_type": "markdown",
   "id": "5e827bf9",
   "metadata": {
    "deletable": false,
    "editable": false,
    "id": "333ec665"
   },
   "source": [
    "## Предобработка данных"
   ]
  },
  {
   "cell_type": "markdown",
   "id": "abc9abd4",
   "metadata": {
    "deletable": false,
    "editable": false,
    "id": "02d92d53"
   },
   "source": [
    "### Удаление пропусков"
   ]
  },
  {
   "cell_type": "markdown",
   "id": "f50b151a",
   "metadata": {
    "deletable": false,
    "editable": false,
    "id": "cd84967c",
    "tags": [
     "start_task"
    ]
   },
   "source": [
    "**Задание 4. Выведите количество пропущенных значений для каждого столбца. Используйте комбинацию двух методов.**"
   ]
  },
  {
   "cell_type": "code",
   "execution_count": 5,
   "id": "acd8a600",
   "metadata": {
    "id": "7f9b2309"
   },
   "outputs": [
    {
     "data": {
      "text/plain": [
       "children               0\n",
       "days_employed       2174\n",
       "dob_years              0\n",
       "education              0\n",
       "education_id           0\n",
       "family_status          0\n",
       "family_status_id       0\n",
       "gender                 0\n",
       "income_type            0\n",
       "debt                   0\n",
       "total_income        2174\n",
       "purpose                0\n",
       "dtype: int64"
      ]
     },
     "execution_count": 5,
     "metadata": {},
     "output_type": "execute_result"
    }
   ],
   "source": [
    "data.isna().sum() # ваш код здесь"
   ]
  },
  {
   "cell_type": "markdown",
   "id": "fef43987",
   "metadata": {
    "deletable": false,
    "editable": false,
    "id": "db86e27b",
    "tags": [
     "start_task"
    ]
   },
   "source": [
    "**Задание 5. В двух столбцах есть пропущенные значения. Один из них — `days_employed`. Пропуски в этом столбце вы обработаете на следующем этапе. Другой столбец с пропущенными значениями — `total_income` — хранит данные о доходах. На сумму дохода сильнее всего влияет тип занятости, поэтому заполнить пропуски в этом столбце нужно медианным значением по каждому типу из столбца `income_type`. Например, у человека с типом занятости `сотрудник` пропуск в столбце `total_income` должен быть заполнен медианным доходом среди всех записей с тем же типом.**"
   ]
  },
  {
   "cell_type": "code",
   "execution_count": 6,
   "id": "3fd1a55a",
   "metadata": {
    "id": "42006a93"
   },
   "outputs": [],
   "source": [
    "# ваш код здесь\n",
    "data['total_income'] = data['total_income'].fillna(data.groupby('income_type')['total_income'].apply(lambda x: x.fillna(x.median())))"
   ]
  },
  {
   "cell_type": "markdown",
   "id": "0708ec23",
   "metadata": {
    "deletable": false,
    "editable": false,
    "id": "89da5ece"
   },
   "source": [
    "### Обработка аномальных значений"
   ]
  },
  {
   "cell_type": "markdown",
   "id": "45a82201",
   "metadata": {
    "deletable": false,
    "editable": false,
    "id": "57964554",
    "tags": [
     "start_task"
    ]
   },
   "source": [
    "**Задание 6. В данных могут встречаться артефакты (аномалии) — значения, которые не отражают действительность и появились по какой-то ошибке. Таким артефактом будет отрицательное количество дней трудового стажа в столбце `days_employed`. Для реальных данных это нормально. Обработайте значения в этом столбце: замените все отрицательные значения положительными с помощью метода `abs()`.**"
   ]
  },
  {
   "cell_type": "code",
   "execution_count": 7,
   "id": "f56d4fca",
   "metadata": {
    "id": "f6f055bf"
   },
   "outputs": [],
   "source": [
    "data['days_employed'] = data['days_employed'].abs() # ваш код здесь"
   ]
  },
  {
   "cell_type": "markdown",
   "id": "a141173b",
   "metadata": {
    "deletable": false,
    "editable": false,
    "id": "6107dd2f",
    "tags": [
     "start_task"
    ]
   },
   "source": [
    "**Задание 7. Для каждого типа занятости выведите медианное значение трудового стажа `days_employed` в днях.**"
   ]
  },
  {
   "cell_type": "code",
   "execution_count": 8,
   "id": "386a5537",
   "metadata": {
    "id": "85a5faf6"
   },
   "outputs": [
    {
     "data": {
      "text/plain": [
       "income_type\n",
       "безработный        366413.652744\n",
       "в декрете            3296.759962\n",
       "госслужащий          2689.368353\n",
       "компаньон            1547.382223\n",
       "пенсионер          365213.306266\n",
       "предприниматель       520.848083\n",
       "сотрудник            1574.202821\n",
       "студент               578.751554\n",
       "Name: days_employed, dtype: float64"
      ]
     },
     "execution_count": 8,
     "metadata": {},
     "output_type": "execute_result"
    }
   ],
   "source": [
    "# ваш код здесь\n",
    "data.groupby('income_type')['days_employed'].median()"
   ]
  },
  {
   "cell_type": "markdown",
   "id": "f2be6ba4",
   "metadata": {
    "deletable": false,
    "editable": false,
    "id": "38d1a030"
   },
   "source": [
    "У двух типов (безработные и пенсионеры) получатся аномально большие значения. Исправить такие значения сложно, поэтому оставьте их как есть. Тем более этот столбец не понадобится вам для исследования."
   ]
  },
  {
   "cell_type": "markdown",
   "id": "1445881c",
   "metadata": {
    "deletable": false,
    "editable": false,
    "id": "d8a9f147",
    "tags": [
     "start_task"
    ]
   },
   "source": [
    "**Задание 8. Выведите перечень уникальных значений столбца `children`.**"
   ]
  },
  {
   "cell_type": "code",
   "execution_count": 9,
   "id": "42f8d69a",
   "metadata": {
    "id": "ef5056eb"
   },
   "outputs": [
    {
     "data": {
      "text/plain": [
       "array([ 1,  0,  3,  2, -1,  4, 20,  5])"
      ]
     },
     "execution_count": 9,
     "metadata": {},
     "output_type": "execute_result"
    }
   ],
   "source": [
    "data['children'].unique() # ваш код здесь"
   ]
  },
  {
   "cell_type": "markdown",
   "id": "b2bf291b",
   "metadata": {
    "deletable": false,
    "editable": false,
    "id": "40b9ebf2",
    "tags": [
     "start_task"
    ]
   },
   "source": [
    "**Задание 9. В столбце `children` есть два аномальных значения. Удалите строки, в которых встречаются такие аномальные значения из датафрейма `data`.**"
   ]
  },
  {
   "cell_type": "code",
   "execution_count": 10,
   "id": "710cbc13",
   "metadata": {
    "id": "3ff9801d"
   },
   "outputs": [],
   "source": [
    "# ваш код здесь\n",
    "data = data.drop(data[(data['children'] == 20) | (data['children'] == -1)].index)"
   ]
  },
  {
   "cell_type": "markdown",
   "id": "115cc9cf",
   "metadata": {
    "deletable": false,
    "editable": false,
    "id": "bbc4d0ce",
    "tags": [
     "start_task"
    ]
   },
   "source": [
    "**Задание 10. Ещё раз выведите перечень уникальных значений столбца `children`, чтобы убедиться, что артефакты удалены.**"
   ]
  },
  {
   "cell_type": "code",
   "execution_count": 11,
   "id": "4197715b",
   "metadata": {
    "id": "ad4fa8b7"
   },
   "outputs": [
    {
     "data": {
      "text/plain": [
       "array([1, 0, 3, 2, 4, 5])"
      ]
     },
     "execution_count": 11,
     "metadata": {},
     "output_type": "execute_result"
    }
   ],
   "source": [
    "data['children'].unique() # ваш код здесь"
   ]
  },
  {
   "cell_type": "markdown",
   "id": "9185a058",
   "metadata": {
    "deletable": false,
    "editable": false,
    "id": "75440b63"
   },
   "source": [
    "### Удаление пропусков (продолжение)"
   ]
  },
  {
   "cell_type": "markdown",
   "id": "d4176711",
   "metadata": {
    "deletable": false,
    "editable": false,
    "id": "f4ea573f",
    "tags": [
     "start_task"
    ]
   },
   "source": [
    "**Задание 11. Заполните пропуски в столбце `days_employed` медианными значениями по каждому типу занятости `income_type`.**"
   ]
  },
  {
   "cell_type": "code",
   "execution_count": 12,
   "id": "217ce19b",
   "metadata": {
    "id": "af6b1a7e"
   },
   "outputs": [],
   "source": [
    "# ваш код здесь\n",
    "data['days_employed'] = data['days_employed'].fillna(data.groupby('income_type')['days_employed'].apply(lambda x: x.fillna(x.median())))"
   ]
  },
  {
   "cell_type": "markdown",
   "id": "a0c0ef14",
   "metadata": {
    "deletable": false,
    "editable": false,
    "id": "2753f40d",
    "tags": [
     "start_task"
    ]
   },
   "source": [
    "**Задание 12. Убедитесь, что все пропуски заполнены. Проверьте себя и ещё раз выведите количество пропущенных значений для каждого столбца с помощью двух методов.**"
   ]
  },
  {
   "cell_type": "code",
   "execution_count": 13,
   "id": "cb0b40d2",
   "metadata": {
    "id": "55f78bc2"
   },
   "outputs": [
    {
     "data": {
      "text/plain": [
       "children            0\n",
       "days_employed       0\n",
       "dob_years           0\n",
       "education           0\n",
       "education_id        0\n",
       "family_status       0\n",
       "family_status_id    0\n",
       "gender              0\n",
       "income_type         0\n",
       "debt                0\n",
       "total_income        0\n",
       "purpose             0\n",
       "dtype: int64"
      ]
     },
     "execution_count": 13,
     "metadata": {},
     "output_type": "execute_result"
    }
   ],
   "source": [
    "# ваш код здесь\n",
    "data.isna().sum()"
   ]
  },
  {
   "cell_type": "markdown",
   "id": "dcbb7d84",
   "metadata": {
    "deletable": false,
    "editable": false,
    "id": "ddc81e43"
   },
   "source": [
    "### Изменение типов данных"
   ]
  },
  {
   "cell_type": "markdown",
   "id": "14d86191",
   "metadata": {
    "deletable": false,
    "editable": false,
    "id": "42d19d24",
    "tags": [
     "start_task"
    ]
   },
   "source": [
    "**Задание 13. Замените вещественный тип данных в столбце `total_income` на целочисленный с помощью метода `astype()`.**"
   ]
  },
  {
   "cell_type": "code",
   "execution_count": 14,
   "id": "726036d2",
   "metadata": {
    "id": "920b65ad"
   },
   "outputs": [],
   "source": [
    "data['total_income'] = data['total_income'].astype('int') # ваш код здесь"
   ]
  },
  {
   "cell_type": "markdown",
   "id": "d0bfee6e",
   "metadata": {
    "deletable": false,
    "editable": false,
    "id": "80c420ba"
   },
   "source": [
    "### Обработка дубликатов"
   ]
  },
  {
   "cell_type": "markdown",
   "id": "8ac37d6f",
   "metadata": {
    "deletable": false,
    "editable": false,
    "id": "dc587695",
    "tags": [
     "start_task"
    ]
   },
   "source": [
    "**Задание 14. Выведите на экран количество строк-дубликатов в данных. Если такие строки присутствуют, удалите их.**"
   ]
  },
  {
   "cell_type": "code",
   "execution_count": 15,
   "id": "4d5af87c",
   "metadata": {
    "id": "3ee445e4"
   },
   "outputs": [
    {
     "name": "stdout",
     "output_type": "stream",
     "text": [
      "54\n"
     ]
    }
   ],
   "source": [
    "print(data.duplicated().sum()) # посчитайте дубликаты"
   ]
  },
  {
   "cell_type": "code",
   "execution_count": 16,
   "id": "613d4b1f",
   "metadata": {
    "id": "8575fe05"
   },
   "outputs": [],
   "source": [
    "data = data.drop_duplicates().reset_index(drop=True) # удалите дубликаты"
   ]
  },
  {
   "cell_type": "markdown",
   "id": "4192734f",
   "metadata": {
    "deletable": false,
    "editable": false,
    "id": "9771a76c",
    "tags": [
     "start_task"
    ]
   },
   "source": [
    "**Задание 15. Обработайте неявные дубликаты в столбце `education`. В этом столбце есть одни и те же значения, но записанные по-разному: с использованием заглавных и строчных букв. Приведите их к нижнему регистру. Проверьте остальные столбцы.**"
   ]
  },
  {
   "cell_type": "code",
   "execution_count": 17,
   "id": "234b96f9",
   "metadata": {
    "id": "a9f8e2bf"
   },
   "outputs": [
    {
     "data": {
      "text/html": [
       "<div>\n",
       "<style scoped>\n",
       "    .dataframe tbody tr th:only-of-type {\n",
       "        vertical-align: middle;\n",
       "    }\n",
       "\n",
       "    .dataframe tbody tr th {\n",
       "        vertical-align: top;\n",
       "    }\n",
       "\n",
       "    .dataframe thead th {\n",
       "        text-align: right;\n",
       "    }\n",
       "</style>\n",
       "<table border=\"1\" class=\"dataframe\">\n",
       "  <thead>\n",
       "    <tr style=\"text-align: right;\">\n",
       "      <th></th>\n",
       "      <th>children</th>\n",
       "      <th>days_employed</th>\n",
       "      <th>dob_years</th>\n",
       "      <th>education</th>\n",
       "      <th>education_id</th>\n",
       "      <th>family_status</th>\n",
       "      <th>family_status_id</th>\n",
       "      <th>gender</th>\n",
       "      <th>income_type</th>\n",
       "      <th>debt</th>\n",
       "      <th>total_income</th>\n",
       "      <th>purpose</th>\n",
       "    </tr>\n",
       "  </thead>\n",
       "  <tbody>\n",
       "    <tr>\n",
       "      <th>21328</th>\n",
       "      <td>0</td>\n",
       "      <td>338904.866406</td>\n",
       "      <td>53</td>\n",
       "      <td>среднее</td>\n",
       "      <td>1</td>\n",
       "      <td>гражданский брак</td>\n",
       "      <td>1</td>\n",
       "      <td>M</td>\n",
       "      <td>пенсионер</td>\n",
       "      <td>0</td>\n",
       "      <td>75439</td>\n",
       "      <td>сыграть свадьбу</td>\n",
       "    </tr>\n",
       "    <tr>\n",
       "      <th>21329</th>\n",
       "      <td>1</td>\n",
       "      <td>1556.249906</td>\n",
       "      <td>33</td>\n",
       "      <td>высшее</td>\n",
       "      <td>0</td>\n",
       "      <td>гражданский брак</td>\n",
       "      <td>1</td>\n",
       "      <td>F</td>\n",
       "      <td>сотрудник</td>\n",
       "      <td>0</td>\n",
       "      <td>145541</td>\n",
       "      <td>свадьба</td>\n",
       "    </tr>\n",
       "    <tr>\n",
       "      <th>21330</th>\n",
       "      <td>1</td>\n",
       "      <td>79.832064</td>\n",
       "      <td>32</td>\n",
       "      <td>среднее</td>\n",
       "      <td>1</td>\n",
       "      <td>гражданский брак</td>\n",
       "      <td>1</td>\n",
       "      <td>F</td>\n",
       "      <td>госслужащий</td>\n",
       "      <td>0</td>\n",
       "      <td>98180</td>\n",
       "      <td>сделка с подержанным автомобилем</td>\n",
       "    </tr>\n",
       "    <tr>\n",
       "      <th>21331</th>\n",
       "      <td>0</td>\n",
       "      <td>386497.714078</td>\n",
       "      <td>62</td>\n",
       "      <td>среднее</td>\n",
       "      <td>1</td>\n",
       "      <td>женат / замужем</td>\n",
       "      <td>0</td>\n",
       "      <td>M</td>\n",
       "      <td>пенсионер</td>\n",
       "      <td>0</td>\n",
       "      <td>72638</td>\n",
       "      <td>недвижимость</td>\n",
       "    </tr>\n",
       "    <tr>\n",
       "      <th>21332</th>\n",
       "      <td>0</td>\n",
       "      <td>362161.054124</td>\n",
       "      <td>59</td>\n",
       "      <td>высшее</td>\n",
       "      <td>0</td>\n",
       "      <td>женат / замужем</td>\n",
       "      <td>0</td>\n",
       "      <td>M</td>\n",
       "      <td>пенсионер</td>\n",
       "      <td>0</td>\n",
       "      <td>73029</td>\n",
       "      <td>операции с недвижимостью</td>\n",
       "    </tr>\n",
       "    <tr>\n",
       "      <th>21333</th>\n",
       "      <td>2</td>\n",
       "      <td>1572.328285</td>\n",
       "      <td>28</td>\n",
       "      <td>среднее</td>\n",
       "      <td>1</td>\n",
       "      <td>женат / замужем</td>\n",
       "      <td>0</td>\n",
       "      <td>F</td>\n",
       "      <td>сотрудник</td>\n",
       "      <td>0</td>\n",
       "      <td>142594</td>\n",
       "      <td>приобретение автомобиля</td>\n",
       "    </tr>\n",
       "    <tr>\n",
       "      <th>21334</th>\n",
       "      <td>0</td>\n",
       "      <td>612.569129</td>\n",
       "      <td>29</td>\n",
       "      <td>высшее</td>\n",
       "      <td>0</td>\n",
       "      <td>гражданский брак</td>\n",
       "      <td>1</td>\n",
       "      <td>F</td>\n",
       "      <td>сотрудник</td>\n",
       "      <td>1</td>\n",
       "      <td>140068</td>\n",
       "      <td>покупка жилья для сдачи</td>\n",
       "    </tr>\n",
       "    <tr>\n",
       "      <th>21335</th>\n",
       "      <td>0</td>\n",
       "      <td>165.377752</td>\n",
       "      <td>26</td>\n",
       "      <td>высшее</td>\n",
       "      <td>0</td>\n",
       "      <td>Не женат / не замужем</td>\n",
       "      <td>4</td>\n",
       "      <td>M</td>\n",
       "      <td>компаньон</td>\n",
       "      <td>0</td>\n",
       "      <td>147301</td>\n",
       "      <td>получение дополнительного образования</td>\n",
       "    </tr>\n",
       "    <tr>\n",
       "      <th>21336</th>\n",
       "      <td>0</td>\n",
       "      <td>1166.216789</td>\n",
       "      <td>35</td>\n",
       "      <td>среднее</td>\n",
       "      <td>1</td>\n",
       "      <td>женат / замужем</td>\n",
       "      <td>0</td>\n",
       "      <td>F</td>\n",
       "      <td>сотрудник</td>\n",
       "      <td>0</td>\n",
       "      <td>250986</td>\n",
       "      <td>покупка жилья</td>\n",
       "    </tr>\n",
       "    <tr>\n",
       "      <th>21337</th>\n",
       "      <td>0</td>\n",
       "      <td>280.469996</td>\n",
       "      <td>27</td>\n",
       "      <td>неоконченное высшее</td>\n",
       "      <td>2</td>\n",
       "      <td>Не женат / не замужем</td>\n",
       "      <td>4</td>\n",
       "      <td>M</td>\n",
       "      <td>компаньон</td>\n",
       "      <td>0</td>\n",
       "      <td>355988</td>\n",
       "      <td>строительство недвижимости</td>\n",
       "    </tr>\n",
       "    <tr>\n",
       "      <th>21338</th>\n",
       "      <td>1</td>\n",
       "      <td>467.685130</td>\n",
       "      <td>28</td>\n",
       "      <td>среднее</td>\n",
       "      <td>1</td>\n",
       "      <td>женат / замужем</td>\n",
       "      <td>0</td>\n",
       "      <td>F</td>\n",
       "      <td>сотрудник</td>\n",
       "      <td>1</td>\n",
       "      <td>109486</td>\n",
       "      <td>заняться образованием</td>\n",
       "    </tr>\n",
       "    <tr>\n",
       "      <th>21339</th>\n",
       "      <td>0</td>\n",
       "      <td>914.391429</td>\n",
       "      <td>42</td>\n",
       "      <td>высшее</td>\n",
       "      <td>0</td>\n",
       "      <td>женат / замужем</td>\n",
       "      <td>0</td>\n",
       "      <td>F</td>\n",
       "      <td>компаньон</td>\n",
       "      <td>0</td>\n",
       "      <td>322807</td>\n",
       "      <td>покупка своего жилья</td>\n",
       "    </tr>\n",
       "    <tr>\n",
       "      <th>21340</th>\n",
       "      <td>0</td>\n",
       "      <td>404.679034</td>\n",
       "      <td>42</td>\n",
       "      <td>высшее</td>\n",
       "      <td>0</td>\n",
       "      <td>гражданский брак</td>\n",
       "      <td>1</td>\n",
       "      <td>F</td>\n",
       "      <td>компаньон</td>\n",
       "      <td>0</td>\n",
       "      <td>178059</td>\n",
       "      <td>на покупку своего автомобиля</td>\n",
       "    </tr>\n",
       "    <tr>\n",
       "      <th>21341</th>\n",
       "      <td>0</td>\n",
       "      <td>373995.710838</td>\n",
       "      <td>59</td>\n",
       "      <td>среднее</td>\n",
       "      <td>1</td>\n",
       "      <td>женат / замужем</td>\n",
       "      <td>0</td>\n",
       "      <td>F</td>\n",
       "      <td>пенсионер</td>\n",
       "      <td>0</td>\n",
       "      <td>153864</td>\n",
       "      <td>сделка с автомобилем</td>\n",
       "    </tr>\n",
       "    <tr>\n",
       "      <th>21342</th>\n",
       "      <td>1</td>\n",
       "      <td>2351.431934</td>\n",
       "      <td>37</td>\n",
       "      <td>ученая степень</td>\n",
       "      <td>4</td>\n",
       "      <td>в разводе</td>\n",
       "      <td>3</td>\n",
       "      <td>M</td>\n",
       "      <td>сотрудник</td>\n",
       "      <td>0</td>\n",
       "      <td>115949</td>\n",
       "      <td>покупка коммерческой недвижимости</td>\n",
       "    </tr>\n",
       "    <tr>\n",
       "      <th>21343</th>\n",
       "      <td>1</td>\n",
       "      <td>4529.316663</td>\n",
       "      <td>43</td>\n",
       "      <td>среднее</td>\n",
       "      <td>1</td>\n",
       "      <td>гражданский брак</td>\n",
       "      <td>1</td>\n",
       "      <td>F</td>\n",
       "      <td>компаньон</td>\n",
       "      <td>0</td>\n",
       "      <td>224791</td>\n",
       "      <td>операции с жильем</td>\n",
       "    </tr>\n",
       "    <tr>\n",
       "      <th>21344</th>\n",
       "      <td>0</td>\n",
       "      <td>343937.404131</td>\n",
       "      <td>67</td>\n",
       "      <td>среднее</td>\n",
       "      <td>1</td>\n",
       "      <td>женат / замужем</td>\n",
       "      <td>0</td>\n",
       "      <td>F</td>\n",
       "      <td>пенсионер</td>\n",
       "      <td>0</td>\n",
       "      <td>155999</td>\n",
       "      <td>сделка с автомобилем</td>\n",
       "    </tr>\n",
       "    <tr>\n",
       "      <th>21345</th>\n",
       "      <td>1</td>\n",
       "      <td>2113.346888</td>\n",
       "      <td>38</td>\n",
       "      <td>среднее</td>\n",
       "      <td>1</td>\n",
       "      <td>гражданский брак</td>\n",
       "      <td>1</td>\n",
       "      <td>M</td>\n",
       "      <td>сотрудник</td>\n",
       "      <td>1</td>\n",
       "      <td>89672</td>\n",
       "      <td>недвижимость</td>\n",
       "    </tr>\n",
       "    <tr>\n",
       "      <th>21346</th>\n",
       "      <td>3</td>\n",
       "      <td>3112.481705</td>\n",
       "      <td>38</td>\n",
       "      <td>среднее</td>\n",
       "      <td>1</td>\n",
       "      <td>женат / замужем</td>\n",
       "      <td>0</td>\n",
       "      <td>M</td>\n",
       "      <td>сотрудник</td>\n",
       "      <td>1</td>\n",
       "      <td>244093</td>\n",
       "      <td>на покупку своего автомобиля</td>\n",
       "    </tr>\n",
       "    <tr>\n",
       "      <th>21347</th>\n",
       "      <td>2</td>\n",
       "      <td>1984.507589</td>\n",
       "      <td>40</td>\n",
       "      <td>среднее</td>\n",
       "      <td>1</td>\n",
       "      <td>женат / замужем</td>\n",
       "      <td>0</td>\n",
       "      <td>F</td>\n",
       "      <td>сотрудник</td>\n",
       "      <td>0</td>\n",
       "      <td>82047</td>\n",
       "      <td>на покупку автомобиля</td>\n",
       "    </tr>\n",
       "  </tbody>\n",
       "</table>\n",
       "</div>"
      ],
      "text/plain": [
       "       children  days_employed  dob_years            education  education_id  \\\n",
       "21328         0  338904.866406         53              среднее             1   \n",
       "21329         1    1556.249906         33               высшее             0   \n",
       "21330         1      79.832064         32              среднее             1   \n",
       "21331         0  386497.714078         62              среднее             1   \n",
       "21332         0  362161.054124         59               высшее             0   \n",
       "21333         2    1572.328285         28              среднее             1   \n",
       "21334         0     612.569129         29               высшее             0   \n",
       "21335         0     165.377752         26               высшее             0   \n",
       "21336         0    1166.216789         35              среднее             1   \n",
       "21337         0     280.469996         27  неоконченное высшее             2   \n",
       "21338         1     467.685130         28              среднее             1   \n",
       "21339         0     914.391429         42               высшее             0   \n",
       "21340         0     404.679034         42               высшее             0   \n",
       "21341         0  373995.710838         59              среднее             1   \n",
       "21342         1    2351.431934         37       ученая степень             4   \n",
       "21343         1    4529.316663         43              среднее             1   \n",
       "21344         0  343937.404131         67              среднее             1   \n",
       "21345         1    2113.346888         38              среднее             1   \n",
       "21346         3    3112.481705         38              среднее             1   \n",
       "21347         2    1984.507589         40              среднее             1   \n",
       "\n",
       "               family_status  family_status_id gender  income_type  debt  \\\n",
       "21328       гражданский брак                 1      M    пенсионер     0   \n",
       "21329       гражданский брак                 1      F    сотрудник     0   \n",
       "21330       гражданский брак                 1      F  госслужащий     0   \n",
       "21331        женат / замужем                 0      M    пенсионер     0   \n",
       "21332        женат / замужем                 0      M    пенсионер     0   \n",
       "21333        женат / замужем                 0      F    сотрудник     0   \n",
       "21334       гражданский брак                 1      F    сотрудник     1   \n",
       "21335  Не женат / не замужем                 4      M    компаньон     0   \n",
       "21336        женат / замужем                 0      F    сотрудник     0   \n",
       "21337  Не женат / не замужем                 4      M    компаньон     0   \n",
       "21338        женат / замужем                 0      F    сотрудник     1   \n",
       "21339        женат / замужем                 0      F    компаньон     0   \n",
       "21340       гражданский брак                 1      F    компаньон     0   \n",
       "21341        женат / замужем                 0      F    пенсионер     0   \n",
       "21342              в разводе                 3      M    сотрудник     0   \n",
       "21343       гражданский брак                 1      F    компаньон     0   \n",
       "21344        женат / замужем                 0      F    пенсионер     0   \n",
       "21345       гражданский брак                 1      M    сотрудник     1   \n",
       "21346        женат / замужем                 0      M    сотрудник     1   \n",
       "21347        женат / замужем                 0      F    сотрудник     0   \n",
       "\n",
       "       total_income                                purpose  \n",
       "21328         75439                        сыграть свадьбу  \n",
       "21329        145541                                свадьба  \n",
       "21330         98180       сделка с подержанным автомобилем  \n",
       "21331         72638                           недвижимость  \n",
       "21332         73029               операции с недвижимостью  \n",
       "21333        142594                приобретение автомобиля  \n",
       "21334        140068                покупка жилья для сдачи  \n",
       "21335        147301  получение дополнительного образования  \n",
       "21336        250986                          покупка жилья  \n",
       "21337        355988             строительство недвижимости  \n",
       "21338        109486                  заняться образованием  \n",
       "21339        322807                   покупка своего жилья  \n",
       "21340        178059           на покупку своего автомобиля  \n",
       "21341        153864                   сделка с автомобилем  \n",
       "21342        115949      покупка коммерческой недвижимости  \n",
       "21343        224791                      операции с жильем  \n",
       "21344        155999                   сделка с автомобилем  \n",
       "21345         89672                           недвижимость  \n",
       "21346        244093           на покупку своего автомобиля  \n",
       "21347         82047                  на покупку автомобиля  "
      ]
     },
     "execution_count": 17,
     "metadata": {},
     "output_type": "execute_result"
    }
   ],
   "source": [
    "# ваш код здесь\n",
    "data['education'].unique()\n",
    "data['education'] = data['education'].str.lower()\n",
    "data.tail(20)"
   ]
  },
  {
   "cell_type": "markdown",
   "id": "d1c4d514",
   "metadata": {
    "deletable": false,
    "editable": false,
    "id": "9904cf55"
   },
   "source": [
    "### Категоризация данных"
   ]
  },
  {
   "cell_type": "markdown",
   "id": "61c35af2",
   "metadata": {
    "deletable": false,
    "editable": false,
    "id": "72fcc8a2",
    "tags": [
     "start_task"
    ]
   },
   "source": [
    "**Задание 16. На основании диапазонов, указанных ниже, создайте в датафрейме `data` столбец `total_income_category` с категориями:**\n",
    "\n",
    "- 0–30000 — `'E'`;\n",
    "- 30001–50000 — `'D'`;\n",
    "- 50001–200000 — `'C'`;\n",
    "- 200001–1000000 — `'B'`;\n",
    "- 1000001 и выше — `'A'`.\n",
    "\n",
    "\n",
    "**Например, кредитополучателю с доходом 25000 нужно назначить категорию `'E'`, а клиенту, получающему 235000, — `'B'`. Используйте собственную функцию с именем `categorize_income()` и метод `apply()`.**"
   ]
  },
  {
   "cell_type": "code",
   "execution_count": 18,
   "id": "6aa5b5f3",
   "metadata": {
    "id": "e1771346"
   },
   "outputs": [],
   "source": [
    "# создайте функцию categorize_income()\n",
    "def categorize_income(row):\n",
    "    income = row['total_income']\n",
    "    \n",
    "    if income <= 30000:\n",
    "        return 'E'\n",
    "    if income <= 50000:\n",
    "        return 'D'\n",
    "    if income <= 200000:\n",
    "        return 'C'\n",
    "    if income <= 1000000:\n",
    "        return 'B'\n",
    "    if income > 1000000:\n",
    "        return 'A'    "
   ]
  },
  {
   "cell_type": "code",
   "execution_count": 19,
   "id": "369d47dc",
   "metadata": {
    "id": "d5f3586d"
   },
   "outputs": [],
   "source": [
    "data['total_income_category'] = data.apply(categorize_income, axis=1) # примените функцию методом apply()"
   ]
  },
  {
   "cell_type": "markdown",
   "id": "93d9de02",
   "metadata": {
    "deletable": false,
    "editable": false,
    "id": "dde49b5c",
    "tags": [
     "start_task"
    ]
   },
   "source": [
    "**Задание 17. Выведите на экран перечень уникальных целей взятия кредита из столбца `purpose`.**"
   ]
  },
  {
   "cell_type": "code",
   "execution_count": 20,
   "id": "cb7aee17",
   "metadata": {
    "id": "f67ce9b3"
   },
   "outputs": [
    {
     "data": {
      "text/plain": [
       "array(['покупка жилья', 'приобретение автомобиля',\n",
       "       'дополнительное образование', 'сыграть свадьбу',\n",
       "       'операции с жильем', 'образование', 'на проведение свадьбы',\n",
       "       'покупка жилья для семьи', 'покупка недвижимости',\n",
       "       'покупка коммерческой недвижимости', 'покупка жилой недвижимости',\n",
       "       'строительство собственной недвижимости', 'недвижимость',\n",
       "       'строительство недвижимости', 'на покупку подержанного автомобиля',\n",
       "       'на покупку своего автомобиля',\n",
       "       'операции с коммерческой недвижимостью',\n",
       "       'строительство жилой недвижимости', 'жилье',\n",
       "       'операции со своей недвижимостью', 'автомобили',\n",
       "       'заняться образованием', 'сделка с подержанным автомобилем',\n",
       "       'получение образования', 'автомобиль', 'свадьба',\n",
       "       'получение дополнительного образования', 'покупка своего жилья',\n",
       "       'операции с недвижимостью', 'получение высшего образования',\n",
       "       'свой автомобиль', 'сделка с автомобилем',\n",
       "       'профильное образование', 'высшее образование',\n",
       "       'покупка жилья для сдачи', 'на покупку автомобиля', 'ремонт жилью',\n",
       "       'заняться высшим образованием'], dtype=object)"
      ]
     },
     "execution_count": 20,
     "metadata": {},
     "output_type": "execute_result"
    }
   ],
   "source": [
    "data['purpose'].unique() # ваш код здесь"
   ]
  },
  {
   "cell_type": "markdown",
   "id": "7fbcd496",
   "metadata": {
    "deletable": false,
    "editable": false,
    "id": "85d0aef0",
    "tags": [
     "start_task"
    ]
   },
   "source": [
    "**Задание 18. Создайте функцию, которая на основании данных из столбца `purpose` сформирует новый столбец `purpose_category`, в который войдут следующие категории:**\n",
    "\n",
    "- `'операции с автомобилем'`,\n",
    "- `'операции с недвижимостью'`,\n",
    "- `'проведение свадьбы'`,\n",
    "- `'получение образования'`.\n",
    "\n",
    "**Например, если в столбце `purpose` находится подстрока `'на покупку автомобиля'`, то в столбце `purpose_category` должна появиться строка `'операции с автомобилем'`.**\n",
    "\n",
    "**Используйте собственную функцию с именем `categorize_purpose()` и метод `apply()`. Изучите данные в столбце `purpose` и определите, какие подстроки помогут вам правильно определить категорию.**"
   ]
  },
  {
   "cell_type": "code",
   "execution_count": 21,
   "id": "fd9a456c",
   "metadata": {
    "id": "e149fab4"
   },
   "outputs": [],
   "source": [
    "# создайте функцию categorize_purpose()\n",
    "from pymystem3 import Mystem\n",
    "m = Mystem()\n",
    "\n",
    "def lemma_purpose(purpose):\n",
    "    lemma = ' ' .join(m.lemmatize(purpose))\n",
    "    return lemma\n",
    "data_purpose = []\n",
    "data_purpose = data['purpose'].apply(lemma_purpose)\n",
    "# data['purpose_word'].unique\n",
    "\n",
    "def categorize_purpose(list):\n",
    "    if 'автомобиль' in list:\n",
    "        return 'операции с автомобилем'\n",
    "    if 'образование' in list:\n",
    "        return 'получение образования'\n",
    "    if 'свадьба' in list:\n",
    "        return 'проведение свадьбы'\n",
    "    if 'недвижимость' or 'жилье' in list:\n",
    "        return 'операции с недвижимостью'"
   ]
  },
  {
   "cell_type": "code",
   "execution_count": 22,
   "id": "30d62e03",
   "metadata": {
    "id": "bf36e69b"
   },
   "outputs": [
    {
     "data": {
      "text/html": [
       "<div>\n",
       "<style scoped>\n",
       "    .dataframe tbody tr th:only-of-type {\n",
       "        vertical-align: middle;\n",
       "    }\n",
       "\n",
       "    .dataframe tbody tr th {\n",
       "        vertical-align: top;\n",
       "    }\n",
       "\n",
       "    .dataframe thead th {\n",
       "        text-align: right;\n",
       "    }\n",
       "</style>\n",
       "<table border=\"1\" class=\"dataframe\">\n",
       "  <thead>\n",
       "    <tr style=\"text-align: right;\">\n",
       "      <th></th>\n",
       "      <th>children</th>\n",
       "      <th>days_employed</th>\n",
       "      <th>dob_years</th>\n",
       "      <th>education</th>\n",
       "      <th>education_id</th>\n",
       "      <th>family_status</th>\n",
       "      <th>family_status_id</th>\n",
       "      <th>gender</th>\n",
       "      <th>income_type</th>\n",
       "      <th>debt</th>\n",
       "      <th>total_income</th>\n",
       "      <th>purpose</th>\n",
       "      <th>total_income_category</th>\n",
       "      <th>purpose_category</th>\n",
       "    </tr>\n",
       "  </thead>\n",
       "  <tbody>\n",
       "    <tr>\n",
       "      <th>0</th>\n",
       "      <td>1</td>\n",
       "      <td>8437.673028</td>\n",
       "      <td>42</td>\n",
       "      <td>высшее</td>\n",
       "      <td>0</td>\n",
       "      <td>женат / замужем</td>\n",
       "      <td>0</td>\n",
       "      <td>F</td>\n",
       "      <td>сотрудник</td>\n",
       "      <td>0</td>\n",
       "      <td>253875</td>\n",
       "      <td>покупка жилья</td>\n",
       "      <td>B</td>\n",
       "      <td>операции с недвижимостью</td>\n",
       "    </tr>\n",
       "    <tr>\n",
       "      <th>1</th>\n",
       "      <td>1</td>\n",
       "      <td>4024.803754</td>\n",
       "      <td>36</td>\n",
       "      <td>среднее</td>\n",
       "      <td>1</td>\n",
       "      <td>женат / замужем</td>\n",
       "      <td>0</td>\n",
       "      <td>F</td>\n",
       "      <td>сотрудник</td>\n",
       "      <td>0</td>\n",
       "      <td>112080</td>\n",
       "      <td>приобретение автомобиля</td>\n",
       "      <td>C</td>\n",
       "      <td>операции с автомобилем</td>\n",
       "    </tr>\n",
       "    <tr>\n",
       "      <th>2</th>\n",
       "      <td>0</td>\n",
       "      <td>5623.422610</td>\n",
       "      <td>33</td>\n",
       "      <td>среднее</td>\n",
       "      <td>1</td>\n",
       "      <td>женат / замужем</td>\n",
       "      <td>0</td>\n",
       "      <td>M</td>\n",
       "      <td>сотрудник</td>\n",
       "      <td>0</td>\n",
       "      <td>145885</td>\n",
       "      <td>покупка жилья</td>\n",
       "      <td>C</td>\n",
       "      <td>операции с недвижимостью</td>\n",
       "    </tr>\n",
       "    <tr>\n",
       "      <th>3</th>\n",
       "      <td>3</td>\n",
       "      <td>4124.747207</td>\n",
       "      <td>32</td>\n",
       "      <td>среднее</td>\n",
       "      <td>1</td>\n",
       "      <td>женат / замужем</td>\n",
       "      <td>0</td>\n",
       "      <td>M</td>\n",
       "      <td>сотрудник</td>\n",
       "      <td>0</td>\n",
       "      <td>267628</td>\n",
       "      <td>дополнительное образование</td>\n",
       "      <td>B</td>\n",
       "      <td>получение образования</td>\n",
       "    </tr>\n",
       "    <tr>\n",
       "      <th>4</th>\n",
       "      <td>0</td>\n",
       "      <td>340266.072047</td>\n",
       "      <td>53</td>\n",
       "      <td>среднее</td>\n",
       "      <td>1</td>\n",
       "      <td>гражданский брак</td>\n",
       "      <td>1</td>\n",
       "      <td>F</td>\n",
       "      <td>пенсионер</td>\n",
       "      <td>0</td>\n",
       "      <td>158616</td>\n",
       "      <td>сыграть свадьбу</td>\n",
       "      <td>C</td>\n",
       "      <td>проведение свадьбы</td>\n",
       "    </tr>\n",
       "    <tr>\n",
       "      <th>5</th>\n",
       "      <td>0</td>\n",
       "      <td>926.185831</td>\n",
       "      <td>27</td>\n",
       "      <td>высшее</td>\n",
       "      <td>0</td>\n",
       "      <td>гражданский брак</td>\n",
       "      <td>1</td>\n",
       "      <td>M</td>\n",
       "      <td>компаньон</td>\n",
       "      <td>0</td>\n",
       "      <td>255763</td>\n",
       "      <td>покупка жилья</td>\n",
       "      <td>B</td>\n",
       "      <td>операции с недвижимостью</td>\n",
       "    </tr>\n",
       "    <tr>\n",
       "      <th>6</th>\n",
       "      <td>0</td>\n",
       "      <td>2879.202052</td>\n",
       "      <td>43</td>\n",
       "      <td>высшее</td>\n",
       "      <td>0</td>\n",
       "      <td>женат / замужем</td>\n",
       "      <td>0</td>\n",
       "      <td>F</td>\n",
       "      <td>компаньон</td>\n",
       "      <td>0</td>\n",
       "      <td>240525</td>\n",
       "      <td>операции с жильем</td>\n",
       "      <td>B</td>\n",
       "      <td>операции с недвижимостью</td>\n",
       "    </tr>\n",
       "    <tr>\n",
       "      <th>7</th>\n",
       "      <td>0</td>\n",
       "      <td>152.779569</td>\n",
       "      <td>50</td>\n",
       "      <td>среднее</td>\n",
       "      <td>1</td>\n",
       "      <td>женат / замужем</td>\n",
       "      <td>0</td>\n",
       "      <td>M</td>\n",
       "      <td>сотрудник</td>\n",
       "      <td>0</td>\n",
       "      <td>135823</td>\n",
       "      <td>образование</td>\n",
       "      <td>C</td>\n",
       "      <td>получение образования</td>\n",
       "    </tr>\n",
       "    <tr>\n",
       "      <th>8</th>\n",
       "      <td>2</td>\n",
       "      <td>6929.865299</td>\n",
       "      <td>35</td>\n",
       "      <td>высшее</td>\n",
       "      <td>0</td>\n",
       "      <td>гражданский брак</td>\n",
       "      <td>1</td>\n",
       "      <td>F</td>\n",
       "      <td>сотрудник</td>\n",
       "      <td>0</td>\n",
       "      <td>95856</td>\n",
       "      <td>на проведение свадьбы</td>\n",
       "      <td>C</td>\n",
       "      <td>проведение свадьбы</td>\n",
       "    </tr>\n",
       "    <tr>\n",
       "      <th>9</th>\n",
       "      <td>0</td>\n",
       "      <td>2188.756445</td>\n",
       "      <td>41</td>\n",
       "      <td>среднее</td>\n",
       "      <td>1</td>\n",
       "      <td>женат / замужем</td>\n",
       "      <td>0</td>\n",
       "      <td>M</td>\n",
       "      <td>сотрудник</td>\n",
       "      <td>0</td>\n",
       "      <td>144425</td>\n",
       "      <td>покупка жилья для семьи</td>\n",
       "      <td>C</td>\n",
       "      <td>операции с недвижимостью</td>\n",
       "    </tr>\n",
       "    <tr>\n",
       "      <th>10</th>\n",
       "      <td>2</td>\n",
       "      <td>4171.483647</td>\n",
       "      <td>36</td>\n",
       "      <td>высшее</td>\n",
       "      <td>0</td>\n",
       "      <td>женат / замужем</td>\n",
       "      <td>0</td>\n",
       "      <td>M</td>\n",
       "      <td>компаньон</td>\n",
       "      <td>0</td>\n",
       "      <td>113943</td>\n",
       "      <td>покупка недвижимости</td>\n",
       "      <td>C</td>\n",
       "      <td>операции с недвижимостью</td>\n",
       "    </tr>\n",
       "    <tr>\n",
       "      <th>11</th>\n",
       "      <td>0</td>\n",
       "      <td>792.701887</td>\n",
       "      <td>40</td>\n",
       "      <td>среднее</td>\n",
       "      <td>1</td>\n",
       "      <td>женат / замужем</td>\n",
       "      <td>0</td>\n",
       "      <td>F</td>\n",
       "      <td>сотрудник</td>\n",
       "      <td>0</td>\n",
       "      <td>77069</td>\n",
       "      <td>покупка коммерческой недвижимости</td>\n",
       "      <td>C</td>\n",
       "      <td>операции с недвижимостью</td>\n",
       "    </tr>\n",
       "    <tr>\n",
       "      <th>12</th>\n",
       "      <td>0</td>\n",
       "      <td>365286.622650</td>\n",
       "      <td>65</td>\n",
       "      <td>среднее</td>\n",
       "      <td>1</td>\n",
       "      <td>гражданский брак</td>\n",
       "      <td>1</td>\n",
       "      <td>M</td>\n",
       "      <td>пенсионер</td>\n",
       "      <td>0</td>\n",
       "      <td>118514</td>\n",
       "      <td>сыграть свадьбу</td>\n",
       "      <td>C</td>\n",
       "      <td>проведение свадьбы</td>\n",
       "    </tr>\n",
       "    <tr>\n",
       "      <th>13</th>\n",
       "      <td>0</td>\n",
       "      <td>1846.641941</td>\n",
       "      <td>54</td>\n",
       "      <td>неоконченное высшее</td>\n",
       "      <td>2</td>\n",
       "      <td>женат / замужем</td>\n",
       "      <td>0</td>\n",
       "      <td>F</td>\n",
       "      <td>сотрудник</td>\n",
       "      <td>0</td>\n",
       "      <td>130458</td>\n",
       "      <td>приобретение автомобиля</td>\n",
       "      <td>C</td>\n",
       "      <td>операции с автомобилем</td>\n",
       "    </tr>\n",
       "    <tr>\n",
       "      <th>14</th>\n",
       "      <td>0</td>\n",
       "      <td>1844.956182</td>\n",
       "      <td>56</td>\n",
       "      <td>высшее</td>\n",
       "      <td>0</td>\n",
       "      <td>гражданский брак</td>\n",
       "      <td>1</td>\n",
       "      <td>F</td>\n",
       "      <td>компаньон</td>\n",
       "      <td>1</td>\n",
       "      <td>165127</td>\n",
       "      <td>покупка жилой недвижимости</td>\n",
       "      <td>C</td>\n",
       "      <td>операции с недвижимостью</td>\n",
       "    </tr>\n",
       "    <tr>\n",
       "      <th>15</th>\n",
       "      <td>1</td>\n",
       "      <td>972.364419</td>\n",
       "      <td>26</td>\n",
       "      <td>среднее</td>\n",
       "      <td>1</td>\n",
       "      <td>женат / замужем</td>\n",
       "      <td>0</td>\n",
       "      <td>F</td>\n",
       "      <td>сотрудник</td>\n",
       "      <td>0</td>\n",
       "      <td>116820</td>\n",
       "      <td>строительство собственной недвижимости</td>\n",
       "      <td>C</td>\n",
       "      <td>операции с недвижимостью</td>\n",
       "    </tr>\n",
       "    <tr>\n",
       "      <th>16</th>\n",
       "      <td>0</td>\n",
       "      <td>1719.934226</td>\n",
       "      <td>35</td>\n",
       "      <td>среднее</td>\n",
       "      <td>1</td>\n",
       "      <td>женат / замужем</td>\n",
       "      <td>0</td>\n",
       "      <td>F</td>\n",
       "      <td>сотрудник</td>\n",
       "      <td>0</td>\n",
       "      <td>289202</td>\n",
       "      <td>недвижимость</td>\n",
       "      <td>B</td>\n",
       "      <td>операции с недвижимостью</td>\n",
       "    </tr>\n",
       "    <tr>\n",
       "      <th>17</th>\n",
       "      <td>0</td>\n",
       "      <td>2369.999720</td>\n",
       "      <td>33</td>\n",
       "      <td>высшее</td>\n",
       "      <td>0</td>\n",
       "      <td>гражданский брак</td>\n",
       "      <td>1</td>\n",
       "      <td>M</td>\n",
       "      <td>сотрудник</td>\n",
       "      <td>0</td>\n",
       "      <td>90410</td>\n",
       "      <td>строительство недвижимости</td>\n",
       "      <td>C</td>\n",
       "      <td>операции с недвижимостью</td>\n",
       "    </tr>\n",
       "    <tr>\n",
       "      <th>18</th>\n",
       "      <td>0</td>\n",
       "      <td>400281.136913</td>\n",
       "      <td>53</td>\n",
       "      <td>среднее</td>\n",
       "      <td>1</td>\n",
       "      <td>вдовец / вдова</td>\n",
       "      <td>2</td>\n",
       "      <td>F</td>\n",
       "      <td>пенсионер</td>\n",
       "      <td>0</td>\n",
       "      <td>56823</td>\n",
       "      <td>на покупку подержанного автомобиля</td>\n",
       "      <td>C</td>\n",
       "      <td>операции с автомобилем</td>\n",
       "    </tr>\n",
       "    <tr>\n",
       "      <th>19</th>\n",
       "      <td>0</td>\n",
       "      <td>10038.818549</td>\n",
       "      <td>48</td>\n",
       "      <td>среднее</td>\n",
       "      <td>1</td>\n",
       "      <td>в разводе</td>\n",
       "      <td>3</td>\n",
       "      <td>F</td>\n",
       "      <td>сотрудник</td>\n",
       "      <td>0</td>\n",
       "      <td>242831</td>\n",
       "      <td>на покупку своего автомобиля</td>\n",
       "      <td>B</td>\n",
       "      <td>операции с автомобилем</td>\n",
       "    </tr>\n",
       "  </tbody>\n",
       "</table>\n",
       "</div>"
      ],
      "text/plain": [
       "    children  days_employed  dob_years            education  education_id  \\\n",
       "0          1    8437.673028         42               высшее             0   \n",
       "1          1    4024.803754         36              среднее             1   \n",
       "2          0    5623.422610         33              среднее             1   \n",
       "3          3    4124.747207         32              среднее             1   \n",
       "4          0  340266.072047         53              среднее             1   \n",
       "5          0     926.185831         27               высшее             0   \n",
       "6          0    2879.202052         43               высшее             0   \n",
       "7          0     152.779569         50              среднее             1   \n",
       "8          2    6929.865299         35               высшее             0   \n",
       "9          0    2188.756445         41              среднее             1   \n",
       "10         2    4171.483647         36               высшее             0   \n",
       "11         0     792.701887         40              среднее             1   \n",
       "12         0  365286.622650         65              среднее             1   \n",
       "13         0    1846.641941         54  неоконченное высшее             2   \n",
       "14         0    1844.956182         56               высшее             0   \n",
       "15         1     972.364419         26              среднее             1   \n",
       "16         0    1719.934226         35              среднее             1   \n",
       "17         0    2369.999720         33               высшее             0   \n",
       "18         0  400281.136913         53              среднее             1   \n",
       "19         0   10038.818549         48              среднее             1   \n",
       "\n",
       "       family_status  family_status_id gender income_type  debt  total_income  \\\n",
       "0    женат / замужем                 0      F   сотрудник     0        253875   \n",
       "1    женат / замужем                 0      F   сотрудник     0        112080   \n",
       "2    женат / замужем                 0      M   сотрудник     0        145885   \n",
       "3    женат / замужем                 0      M   сотрудник     0        267628   \n",
       "4   гражданский брак                 1      F   пенсионер     0        158616   \n",
       "5   гражданский брак                 1      M   компаньон     0        255763   \n",
       "6    женат / замужем                 0      F   компаньон     0        240525   \n",
       "7    женат / замужем                 0      M   сотрудник     0        135823   \n",
       "8   гражданский брак                 1      F   сотрудник     0         95856   \n",
       "9    женат / замужем                 0      M   сотрудник     0        144425   \n",
       "10   женат / замужем                 0      M   компаньон     0        113943   \n",
       "11   женат / замужем                 0      F   сотрудник     0         77069   \n",
       "12  гражданский брак                 1      M   пенсионер     0        118514   \n",
       "13   женат / замужем                 0      F   сотрудник     0        130458   \n",
       "14  гражданский брак                 1      F   компаньон     1        165127   \n",
       "15   женат / замужем                 0      F   сотрудник     0        116820   \n",
       "16   женат / замужем                 0      F   сотрудник     0        289202   \n",
       "17  гражданский брак                 1      M   сотрудник     0         90410   \n",
       "18    вдовец / вдова                 2      F   пенсионер     0         56823   \n",
       "19         в разводе                 3      F   сотрудник     0        242831   \n",
       "\n",
       "                                   purpose total_income_category  \\\n",
       "0                            покупка жилья                     B   \n",
       "1                  приобретение автомобиля                     C   \n",
       "2                            покупка жилья                     C   \n",
       "3               дополнительное образование                     B   \n",
       "4                          сыграть свадьбу                     C   \n",
       "5                            покупка жилья                     B   \n",
       "6                        операции с жильем                     B   \n",
       "7                              образование                     C   \n",
       "8                    на проведение свадьбы                     C   \n",
       "9                  покупка жилья для семьи                     C   \n",
       "10                    покупка недвижимости                     C   \n",
       "11       покупка коммерческой недвижимости                     C   \n",
       "12                         сыграть свадьбу                     C   \n",
       "13                 приобретение автомобиля                     C   \n",
       "14              покупка жилой недвижимости                     C   \n",
       "15  строительство собственной недвижимости                     C   \n",
       "16                            недвижимость                     B   \n",
       "17              строительство недвижимости                     C   \n",
       "18      на покупку подержанного автомобиля                     C   \n",
       "19            на покупку своего автомобиля                     B   \n",
       "\n",
       "            purpose_category  \n",
       "0   операции с недвижимостью  \n",
       "1     операции с автомобилем  \n",
       "2   операции с недвижимостью  \n",
       "3      получение образования  \n",
       "4         проведение свадьбы  \n",
       "5   операции с недвижимостью  \n",
       "6   операции с недвижимостью  \n",
       "7      получение образования  \n",
       "8         проведение свадьбы  \n",
       "9   операции с недвижимостью  \n",
       "10  операции с недвижимостью  \n",
       "11  операции с недвижимостью  \n",
       "12        проведение свадьбы  \n",
       "13    операции с автомобилем  \n",
       "14  операции с недвижимостью  \n",
       "15  операции с недвижимостью  \n",
       "16  операции с недвижимостью  \n",
       "17  операции с недвижимостью  \n",
       "18    операции с автомобилем  \n",
       "19    операции с автомобилем  "
      ]
     },
     "execution_count": 22,
     "metadata": {},
     "output_type": "execute_result"
    }
   ],
   "source": [
    "# примените функцию методом apply()\n",
    "data['purpose_category'] = data_purpose.apply(categorize_purpose)\n",
    "data.head(20)"
   ]
  }
 ],
 "metadata": {
  "ExecuteTimeLog": [
   {
    "duration": 393,
    "start_time": "2022-07-08T18:38:37.447Z"
   },
   {
    "duration": 105,
    "start_time": "2022-07-08T18:38:38.135Z"
   },
   {
    "duration": 22,
    "start_time": "2022-07-08T18:38:59.304Z"
   },
   {
    "duration": 15,
    "start_time": "2022-07-08T18:39:19.687Z"
   },
   {
    "duration": 12,
    "start_time": "2022-07-08T19:02:37.370Z"
   },
   {
    "duration": 372,
    "start_time": "2022-07-08T19:03:11.554Z"
   },
   {
    "duration": 60,
    "start_time": "2022-07-08T19:03:11.928Z"
   },
   {
    "duration": 21,
    "start_time": "2022-07-08T19:03:11.990Z"
   },
   {
    "duration": 20,
    "start_time": "2022-07-08T19:03:12.012Z"
   },
   {
    "duration": 9,
    "start_time": "2022-07-08T19:03:12.035Z"
   },
   {
    "duration": 2,
    "start_time": "2022-07-08T19:03:12.046Z"
   },
   {
    "duration": 7,
    "start_time": "2022-07-08T19:03:12.050Z"
   },
   {
    "duration": 5,
    "start_time": "2022-07-08T19:03:12.058Z"
   },
   {
    "duration": 5,
    "start_time": "2022-07-08T19:03:12.065Z"
   },
   {
    "duration": 5,
    "start_time": "2022-07-08T19:03:12.071Z"
   },
   {
    "duration": 5,
    "start_time": "2022-07-08T19:03:12.078Z"
   },
   {
    "duration": 4,
    "start_time": "2022-07-08T19:03:12.085Z"
   },
   {
    "duration": 33,
    "start_time": "2022-07-08T19:03:12.091Z"
   },
   {
    "duration": 4,
    "start_time": "2022-07-08T19:03:12.127Z"
   },
   {
    "duration": 6,
    "start_time": "2022-07-08T19:03:12.133Z"
   },
   {
    "duration": 4,
    "start_time": "2022-07-08T19:03:12.141Z"
   },
   {
    "duration": 5,
    "start_time": "2022-07-08T19:03:12.147Z"
   },
   {
    "duration": 4,
    "start_time": "2022-07-08T19:03:12.154Z"
   },
   {
    "duration": 7,
    "start_time": "2022-07-08T19:03:12.160Z"
   },
   {
    "duration": 8,
    "start_time": "2022-07-08T19:03:12.169Z"
   },
   {
    "duration": 10,
    "start_time": "2022-07-08T19:03:12.179Z"
   },
   {
    "duration": 8,
    "start_time": "2022-07-08T19:03:12.191Z"
   },
   {
    "duration": 11,
    "start_time": "2022-07-08T19:05:26.997Z"
   },
   {
    "duration": 11,
    "start_time": "2022-07-08T19:05:35.691Z"
   },
   {
    "duration": 9,
    "start_time": "2022-07-08T19:14:08.727Z"
   },
   {
    "duration": 5,
    "start_time": "2022-07-08T19:14:41.095Z"
   },
   {
    "duration": 8,
    "start_time": "2022-07-08T19:20:09.877Z"
   },
   {
    "duration": 9,
    "start_time": "2022-07-08T19:24:52.919Z"
   },
   {
    "duration": 64,
    "start_time": "2022-07-08T19:26:29.246Z"
   },
   {
    "duration": 11,
    "start_time": "2022-07-08T19:26:45.614Z"
   },
   {
    "duration": 11,
    "start_time": "2022-07-08T19:34:08.640Z"
   },
   {
    "duration": 9,
    "start_time": "2022-07-08T19:34:10.746Z"
   },
   {
    "duration": 10,
    "start_time": "2022-07-08T19:35:43.956Z"
   },
   {
    "duration": 10,
    "start_time": "2022-07-08T19:35:59.996Z"
   },
   {
    "duration": 425,
    "start_time": "2022-07-08T19:36:09.298Z"
   },
   {
    "duration": 61,
    "start_time": "2022-07-08T19:36:09.725Z"
   },
   {
    "duration": 21,
    "start_time": "2022-07-08T19:36:09.788Z"
   },
   {
    "duration": 21,
    "start_time": "2022-07-08T19:36:09.811Z"
   },
   {
    "duration": 9,
    "start_time": "2022-07-08T19:36:09.834Z"
   },
   {
    "duration": 9,
    "start_time": "2022-07-08T19:36:09.845Z"
   },
   {
    "duration": 3,
    "start_time": "2022-07-08T19:36:09.855Z"
   },
   {
    "duration": 4,
    "start_time": "2022-07-08T19:36:09.860Z"
   },
   {
    "duration": 6,
    "start_time": "2022-07-08T19:36:09.865Z"
   },
   {
    "duration": 7,
    "start_time": "2022-07-08T19:36:09.874Z"
   },
   {
    "duration": 5,
    "start_time": "2022-07-08T19:36:09.882Z"
   },
   {
    "duration": 4,
    "start_time": "2022-07-08T19:36:09.889Z"
   },
   {
    "duration": 29,
    "start_time": "2022-07-08T19:36:09.895Z"
   },
   {
    "duration": 7,
    "start_time": "2022-07-08T19:36:09.925Z"
   },
   {
    "duration": 5,
    "start_time": "2022-07-08T19:36:09.934Z"
   },
   {
    "duration": 6,
    "start_time": "2022-07-08T19:36:09.940Z"
   },
   {
    "duration": 8,
    "start_time": "2022-07-08T19:36:09.947Z"
   },
   {
    "duration": 7,
    "start_time": "2022-07-08T19:36:09.956Z"
   },
   {
    "duration": 5,
    "start_time": "2022-07-08T19:36:09.964Z"
   },
   {
    "duration": 5,
    "start_time": "2022-07-08T19:36:09.971Z"
   },
   {
    "duration": 7,
    "start_time": "2022-07-08T19:36:09.978Z"
   },
   {
    "duration": 7,
    "start_time": "2022-07-08T19:36:09.986Z"
   },
   {
    "duration": 63,
    "start_time": "2022-07-08T19:36:19.590Z"
   },
   {
    "duration": 9,
    "start_time": "2022-07-08T19:37:59.084Z"
   },
   {
    "duration": 11,
    "start_time": "2022-07-08T19:38:04.316Z"
   },
   {
    "duration": 10,
    "start_time": "2022-07-08T19:38:09.864Z"
   },
   {
    "duration": 11,
    "start_time": "2022-07-08T20:24:09.595Z"
   },
   {
    "duration": 10,
    "start_time": "2022-07-08T20:27:12.063Z"
   },
   {
    "duration": 10,
    "start_time": "2022-07-08T20:27:47.487Z"
   },
   {
    "duration": 2,
    "start_time": "2022-07-08T20:27:52.583Z"
   },
   {
    "duration": 63,
    "start_time": "2022-07-08T20:27:52.587Z"
   },
   {
    "duration": 15,
    "start_time": "2022-07-08T20:27:52.652Z"
   },
   {
    "duration": 16,
    "start_time": "2022-07-08T20:27:52.669Z"
   },
   {
    "duration": 10,
    "start_time": "2022-07-08T20:27:52.687Z"
   },
   {
    "duration": 9,
    "start_time": "2022-07-08T20:27:52.724Z"
   },
   {
    "duration": 3,
    "start_time": "2022-07-08T20:27:52.734Z"
   },
   {
    "duration": 6,
    "start_time": "2022-07-08T20:27:52.738Z"
   },
   {
    "duration": 4,
    "start_time": "2022-07-08T20:27:52.745Z"
   },
   {
    "duration": 4,
    "start_time": "2022-07-08T20:27:52.751Z"
   },
   {
    "duration": 5,
    "start_time": "2022-07-08T20:27:52.756Z"
   },
   {
    "duration": 5,
    "start_time": "2022-07-08T20:27:52.762Z"
   },
   {
    "duration": 7,
    "start_time": "2022-07-08T20:27:52.768Z"
   },
   {
    "duration": 7,
    "start_time": "2022-07-08T20:27:52.777Z"
   },
   {
    "duration": 8,
    "start_time": "2022-07-08T20:27:52.785Z"
   },
   {
    "duration": 5,
    "start_time": "2022-07-08T20:27:52.795Z"
   },
   {
    "duration": 21,
    "start_time": "2022-07-08T20:27:52.803Z"
   },
   {
    "duration": 4,
    "start_time": "2022-07-08T20:27:52.826Z"
   },
   {
    "duration": 6,
    "start_time": "2022-07-08T20:27:52.832Z"
   },
   {
    "duration": 7,
    "start_time": "2022-07-08T20:27:52.839Z"
   },
   {
    "duration": 7,
    "start_time": "2022-07-08T20:27:52.848Z"
   },
   {
    "duration": 6,
    "start_time": "2022-07-08T20:27:52.856Z"
   },
   {
    "duration": 9,
    "start_time": "2022-07-08T20:28:03.260Z"
   },
   {
    "duration": 9,
    "start_time": "2022-07-08T20:32:52.135Z"
   },
   {
    "duration": 3,
    "start_time": "2022-07-08T20:32:57.063Z"
   },
   {
    "duration": 66,
    "start_time": "2022-07-08T20:32:57.070Z"
   },
   {
    "duration": 18,
    "start_time": "2022-07-08T20:32:57.139Z"
   },
   {
    "duration": 18,
    "start_time": "2022-07-08T20:32:57.158Z"
   },
   {
    "duration": 10,
    "start_time": "2022-07-08T20:32:57.178Z"
   },
   {
    "duration": 18,
    "start_time": "2022-07-08T20:32:57.190Z"
   },
   {
    "duration": 0,
    "start_time": "2022-07-08T20:32:57.224Z"
   },
   {
    "duration": 0,
    "start_time": "2022-07-08T20:32:57.226Z"
   },
   {
    "duration": 0,
    "start_time": "2022-07-08T20:32:57.227Z"
   },
   {
    "duration": 0,
    "start_time": "2022-07-08T20:32:57.228Z"
   },
   {
    "duration": 0,
    "start_time": "2022-07-08T20:32:57.230Z"
   },
   {
    "duration": 0,
    "start_time": "2022-07-08T20:32:57.231Z"
   },
   {
    "duration": 0,
    "start_time": "2022-07-08T20:32:57.232Z"
   },
   {
    "duration": 0,
    "start_time": "2022-07-08T20:32:57.233Z"
   },
   {
    "duration": 0,
    "start_time": "2022-07-08T20:32:57.233Z"
   },
   {
    "duration": 0,
    "start_time": "2022-07-08T20:32:57.235Z"
   },
   {
    "duration": 0,
    "start_time": "2022-07-08T20:32:57.236Z"
   },
   {
    "duration": 0,
    "start_time": "2022-07-08T20:32:57.237Z"
   },
   {
    "duration": 0,
    "start_time": "2022-07-08T20:32:57.238Z"
   },
   {
    "duration": 0,
    "start_time": "2022-07-08T20:32:57.238Z"
   },
   {
    "duration": 0,
    "start_time": "2022-07-08T20:32:57.239Z"
   },
   {
    "duration": 0,
    "start_time": "2022-07-08T20:32:57.241Z"
   },
   {
    "duration": 23,
    "start_time": "2022-07-08T20:33:02.210Z"
   },
   {
    "duration": 8,
    "start_time": "2022-07-08T20:33:20.349Z"
   },
   {
    "duration": 8,
    "start_time": "2022-07-08T20:34:34.206Z"
   },
   {
    "duration": 8,
    "start_time": "2022-07-08T20:59:39.810Z"
   },
   {
    "duration": 13,
    "start_time": "2022-07-08T21:00:37.484Z"
   },
   {
    "duration": 9,
    "start_time": "2022-07-08T21:01:24.903Z"
   },
   {
    "duration": 8,
    "start_time": "2022-07-08T21:04:51.686Z"
   },
   {
    "duration": 8,
    "start_time": "2022-07-08T21:05:08.262Z"
   },
   {
    "duration": 9,
    "start_time": "2022-07-08T21:05:25.324Z"
   },
   {
    "duration": 10,
    "start_time": "2022-07-08T21:05:45.749Z"
   },
   {
    "duration": 10,
    "start_time": "2022-07-08T21:05:49.850Z"
   },
   {
    "duration": 3,
    "start_time": "2022-07-08T21:05:53.946Z"
   },
   {
    "duration": 61,
    "start_time": "2022-07-08T21:05:53.951Z"
   },
   {
    "duration": 15,
    "start_time": "2022-07-08T21:05:54.014Z"
   },
   {
    "duration": 17,
    "start_time": "2022-07-08T21:05:54.031Z"
   },
   {
    "duration": 10,
    "start_time": "2022-07-08T21:05:54.050Z"
   },
   {
    "duration": 10,
    "start_time": "2022-07-08T21:05:54.062Z"
   },
   {
    "duration": 9,
    "start_time": "2022-07-08T21:05:55.746Z"
   },
   {
    "duration": 9,
    "start_time": "2022-07-08T21:07:10.438Z"
   },
   {
    "duration": 8,
    "start_time": "2022-07-08T21:07:20.249Z"
   },
   {
    "duration": 9,
    "start_time": "2022-07-08T21:07:21.847Z"
   },
   {
    "duration": 9,
    "start_time": "2022-07-08T21:07:39.479Z"
   },
   {
    "duration": 15,
    "start_time": "2022-07-08T21:07:52.944Z"
   },
   {
    "duration": 15,
    "start_time": "2022-07-08T21:07:55.155Z"
   },
   {
    "duration": 8,
    "start_time": "2022-07-08T21:09:42.439Z"
   },
   {
    "duration": 8,
    "start_time": "2022-07-08T21:09:46.568Z"
   },
   {
    "duration": 7,
    "start_time": "2022-07-08T21:10:11.711Z"
   },
   {
    "duration": 24,
    "start_time": "2022-07-08T21:11:52.842Z"
   },
   {
    "duration": 18,
    "start_time": "2022-07-08T21:12:03.002Z"
   },
   {
    "duration": 830,
    "start_time": "2022-07-08T21:12:15.146Z"
   },
   {
    "duration": 1362,
    "start_time": "2022-07-08T21:12:22.110Z"
   },
   {
    "duration": 1006,
    "start_time": "2022-07-08T21:12:24.053Z"
   },
   {
    "duration": 757,
    "start_time": "2022-07-08T21:13:36.359Z"
   },
   {
    "duration": 9,
    "start_time": "2022-07-08T21:14:25.733Z"
   },
   {
    "duration": 8,
    "start_time": "2022-07-08T21:14:45.920Z"
   },
   {
    "duration": 9,
    "start_time": "2022-07-08T21:16:25.874Z"
   },
   {
    "duration": 9,
    "start_time": "2022-07-08T21:16:28.645Z"
   },
   {
    "duration": 10,
    "start_time": "2022-07-08T21:16:56.238Z"
   },
   {
    "duration": 10,
    "start_time": "2022-07-08T21:17:02.030Z"
   },
   {
    "duration": 9,
    "start_time": "2022-07-08T21:17:11.815Z"
   },
   {
    "duration": 3,
    "start_time": "2022-07-08T21:17:17.862Z"
   },
   {
    "duration": 64,
    "start_time": "2022-07-08T21:17:17.867Z"
   },
   {
    "duration": 14,
    "start_time": "2022-07-08T21:17:17.933Z"
   },
   {
    "duration": 14,
    "start_time": "2022-07-08T21:17:17.949Z"
   },
   {
    "duration": 9,
    "start_time": "2022-07-08T21:17:17.966Z"
   },
   {
    "duration": 9,
    "start_time": "2022-07-08T21:17:17.976Z"
   },
   {
    "duration": 5,
    "start_time": "2022-07-08T21:17:17.986Z"
   },
   {
    "duration": 32,
    "start_time": "2022-07-08T21:17:17.992Z"
   },
   {
    "duration": 6,
    "start_time": "2022-07-08T21:17:18.026Z"
   },
   {
    "duration": 7,
    "start_time": "2022-07-08T21:17:18.033Z"
   },
   {
    "duration": 4,
    "start_time": "2022-07-08T21:17:18.042Z"
   },
   {
    "duration": 6,
    "start_time": "2022-07-08T21:17:18.048Z"
   },
   {
    "duration": 5,
    "start_time": "2022-07-08T21:17:18.055Z"
   },
   {
    "duration": 6,
    "start_time": "2022-07-08T21:17:18.061Z"
   },
   {
    "duration": 5,
    "start_time": "2022-07-08T21:17:18.068Z"
   },
   {
    "duration": 6,
    "start_time": "2022-07-08T21:17:18.074Z"
   },
   {
    "duration": 4,
    "start_time": "2022-07-08T21:17:18.081Z"
   },
   {
    "duration": 5,
    "start_time": "2022-07-08T21:17:18.087Z"
   },
   {
    "duration": 6,
    "start_time": "2022-07-08T21:17:18.093Z"
   },
   {
    "duration": 6,
    "start_time": "2022-07-08T21:17:18.100Z"
   },
   {
    "duration": 5,
    "start_time": "2022-07-08T21:17:18.108Z"
   },
   {
    "duration": 2,
    "start_time": "2022-07-08T21:17:18.123Z"
   },
   {
    "duration": 10,
    "start_time": "2022-07-08T21:17:25.969Z"
   },
   {
    "duration": 3,
    "start_time": "2022-07-08T21:17:37.542Z"
   },
   {
    "duration": 61,
    "start_time": "2022-07-08T21:17:37.550Z"
   },
   {
    "duration": 16,
    "start_time": "2022-07-08T21:17:37.613Z"
   },
   {
    "duration": 16,
    "start_time": "2022-07-08T21:17:37.631Z"
   },
   {
    "duration": 10,
    "start_time": "2022-07-08T21:17:37.649Z"
   },
   {
    "duration": 8,
    "start_time": "2022-07-08T21:17:40.189Z"
   },
   {
    "duration": 10,
    "start_time": "2022-07-08T21:17:42.342Z"
   },
   {
    "duration": 2,
    "start_time": "2022-07-08T21:17:48.077Z"
   },
   {
    "duration": 61,
    "start_time": "2022-07-08T21:17:48.081Z"
   },
   {
    "duration": 14,
    "start_time": "2022-07-08T21:17:48.144Z"
   },
   {
    "duration": 16,
    "start_time": "2022-07-08T21:17:48.160Z"
   },
   {
    "duration": 10,
    "start_time": "2022-07-08T21:17:48.177Z"
   },
   {
    "duration": 9,
    "start_time": "2022-07-08T21:17:50.946Z"
   },
   {
    "duration": 10,
    "start_time": "2022-07-08T21:31:32.913Z"
   },
   {
    "duration": 2,
    "start_time": "2022-07-08T21:31:47.757Z"
   },
   {
    "duration": 60,
    "start_time": "2022-07-08T21:31:47.761Z"
   },
   {
    "duration": 14,
    "start_time": "2022-07-08T21:31:47.823Z"
   },
   {
    "duration": 16,
    "start_time": "2022-07-08T21:31:47.838Z"
   },
   {
    "duration": 9,
    "start_time": "2022-07-08T21:31:47.856Z"
   },
   {
    "duration": 14,
    "start_time": "2022-07-08T21:31:47.866Z"
   },
   {
    "duration": 4,
    "start_time": "2022-07-08T21:33:51.738Z"
   },
   {
    "duration": 8,
    "start_time": "2022-07-08T21:40:54.049Z"
   },
   {
    "duration": 4,
    "start_time": "2022-07-08T21:41:52.361Z"
   },
   {
    "duration": 68,
    "start_time": "2022-07-09T09:27:08.627Z"
   },
   {
    "duration": 483,
    "start_time": "2022-07-09T09:27:21.233Z"
   },
   {
    "duration": 533,
    "start_time": "2022-07-09T09:27:21.719Z"
   },
   {
    "duration": 25,
    "start_time": "2022-07-09T09:27:22.261Z"
   },
   {
    "duration": 22,
    "start_time": "2022-07-09T09:27:22.288Z"
   },
   {
    "duration": 60,
    "start_time": "2022-07-09T09:27:22.315Z"
   },
   {
    "duration": 17,
    "start_time": "2022-07-09T09:27:22.377Z"
   },
   {
    "duration": 16,
    "start_time": "2022-07-09T09:27:22.396Z"
   },
   {
    "duration": 47,
    "start_time": "2022-07-09T09:27:22.420Z"
   },
   {
    "duration": 7,
    "start_time": "2022-07-09T09:27:22.469Z"
   },
   {
    "duration": 105,
    "start_time": "2022-07-09T09:27:22.478Z"
   },
   {
    "duration": 0,
    "start_time": "2022-07-09T09:27:22.586Z"
   },
   {
    "duration": 0,
    "start_time": "2022-07-09T09:27:22.587Z"
   },
   {
    "duration": 0,
    "start_time": "2022-07-09T09:27:22.589Z"
   },
   {
    "duration": 0,
    "start_time": "2022-07-09T09:27:22.590Z"
   },
   {
    "duration": 0,
    "start_time": "2022-07-09T09:27:22.593Z"
   },
   {
    "duration": 0,
    "start_time": "2022-07-09T09:27:22.594Z"
   },
   {
    "duration": 0,
    "start_time": "2022-07-09T09:27:22.614Z"
   },
   {
    "duration": 0,
    "start_time": "2022-07-09T09:27:22.615Z"
   },
   {
    "duration": 0,
    "start_time": "2022-07-09T09:27:22.616Z"
   },
   {
    "duration": 0,
    "start_time": "2022-07-09T09:27:22.617Z"
   },
   {
    "duration": 0,
    "start_time": "2022-07-09T09:27:22.623Z"
   },
   {
    "duration": 0,
    "start_time": "2022-07-09T09:27:22.624Z"
   },
   {
    "duration": 8,
    "start_time": "2022-07-09T09:27:41.185Z"
   },
   {
    "duration": 24,
    "start_time": "2022-07-09T09:28:06.593Z"
   },
   {
    "duration": 12,
    "start_time": "2022-07-09T09:28:18.256Z"
   },
   {
    "duration": 12,
    "start_time": "2022-07-09T09:28:42.870Z"
   },
   {
    "duration": 20,
    "start_time": "2022-07-09T09:28:54.441Z"
   },
   {
    "duration": 19,
    "start_time": "2022-07-09T09:29:01.228Z"
   },
   {
    "duration": 12,
    "start_time": "2022-07-09T09:29:04.078Z"
   },
   {
    "duration": 28,
    "start_time": "2022-07-09T09:43:09.049Z"
   },
   {
    "duration": 38,
    "start_time": "2022-07-09T09:43:28.520Z"
   },
   {
    "duration": 42,
    "start_time": "2022-07-09T09:46:30.494Z"
   },
   {
    "duration": 14,
    "start_time": "2022-07-09T09:46:51.762Z"
   },
   {
    "duration": 9,
    "start_time": "2022-07-09T09:47:17.090Z"
   },
   {
    "duration": 6,
    "start_time": "2022-07-09T09:47:27.742Z"
   },
   {
    "duration": 407,
    "start_time": "2022-07-09T09:57:04.958Z"
   },
   {
    "duration": 89,
    "start_time": "2022-07-09T09:57:05.367Z"
   },
   {
    "duration": 32,
    "start_time": "2022-07-09T09:57:05.459Z"
   },
   {
    "duration": 31,
    "start_time": "2022-07-09T09:57:05.493Z"
   },
   {
    "duration": 24,
    "start_time": "2022-07-09T09:57:05.531Z"
   },
   {
    "duration": 25,
    "start_time": "2022-07-09T09:57:05.557Z"
   },
   {
    "duration": 12,
    "start_time": "2022-07-09T09:57:05.584Z"
   },
   {
    "duration": 47,
    "start_time": "2022-07-09T09:57:05.598Z"
   },
   {
    "duration": 13,
    "start_time": "2022-07-09T09:57:05.647Z"
   },
   {
    "duration": 11,
    "start_time": "2022-07-09T09:57:05.662Z"
   },
   {
    "duration": 7,
    "start_time": "2022-07-09T09:57:05.675Z"
   },
   {
    "duration": 7,
    "start_time": "2022-07-09T09:57:05.684Z"
   },
   {
    "duration": 38,
    "start_time": "2022-07-09T09:57:05.693Z"
   },
   {
    "duration": 6,
    "start_time": "2022-07-09T09:57:05.734Z"
   },
   {
    "duration": 6,
    "start_time": "2022-07-09T09:57:05.742Z"
   },
   {
    "duration": 17,
    "start_time": "2022-07-09T09:57:05.750Z"
   },
   {
    "duration": 10,
    "start_time": "2022-07-09T09:57:05.769Z"
   },
   {
    "duration": 7,
    "start_time": "2022-07-09T09:57:05.781Z"
   },
   {
    "duration": 7,
    "start_time": "2022-07-09T09:57:05.790Z"
   },
   {
    "duration": 26,
    "start_time": "2022-07-09T09:57:05.801Z"
   },
   {
    "duration": 6,
    "start_time": "2022-07-09T09:57:05.829Z"
   },
   {
    "duration": 12,
    "start_time": "2022-07-09T09:57:05.837Z"
   },
   {
    "duration": 11,
    "start_time": "2022-07-09T09:57:16.593Z"
   },
   {
    "duration": 5,
    "start_time": "2022-07-09T09:57:17.550Z"
   },
   {
    "duration": 5,
    "start_time": "2022-07-09T09:57:21.945Z"
   },
   {
    "duration": 8,
    "start_time": "2022-07-09T09:57:23.069Z"
   },
   {
    "duration": 5,
    "start_time": "2022-07-09T09:57:23.935Z"
   },
   {
    "duration": 79,
    "start_time": "2022-07-09T09:57:34.635Z"
   },
   {
    "duration": 17,
    "start_time": "2022-07-09T09:57:41.447Z"
   },
   {
    "duration": 14,
    "start_time": "2022-07-09T09:57:54.294Z"
   },
   {
    "duration": 8,
    "start_time": "2022-07-09T09:57:55.095Z"
   },
   {
    "duration": 3,
    "start_time": "2022-07-09T10:00:11.657Z"
   },
   {
    "duration": 8,
    "start_time": "2022-07-09T10:00:21.470Z"
   },
   {
    "duration": 15,
    "start_time": "2022-07-09T10:00:37.199Z"
   },
   {
    "duration": 8,
    "start_time": "2022-07-09T10:00:56.225Z"
   },
   {
    "duration": 26,
    "start_time": "2022-07-09T10:01:06.750Z"
   },
   {
    "duration": 75,
    "start_time": "2022-07-09T10:07:15.658Z"
   },
   {
    "duration": 8,
    "start_time": "2022-07-09T10:08:02.554Z"
   },
   {
    "duration": 14,
    "start_time": "2022-07-09T10:08:13.399Z"
   },
   {
    "duration": 62,
    "start_time": "2022-07-09T10:09:33.972Z"
   },
   {
    "duration": 408,
    "start_time": "2022-07-09T10:09:40.855Z"
   },
   {
    "duration": 128,
    "start_time": "2022-07-09T10:09:41.265Z"
   },
   {
    "duration": 46,
    "start_time": "2022-07-09T10:09:41.395Z"
   },
   {
    "duration": 19,
    "start_time": "2022-07-09T10:09:41.443Z"
   },
   {
    "duration": 11,
    "start_time": "2022-07-09T10:09:41.465Z"
   },
   {
    "duration": 27,
    "start_time": "2022-07-09T10:09:41.477Z"
   },
   {
    "duration": 7,
    "start_time": "2022-07-09T10:09:41.505Z"
   },
   {
    "duration": 42,
    "start_time": "2022-07-09T10:09:41.514Z"
   },
   {
    "duration": 5,
    "start_time": "2022-07-09T10:09:41.558Z"
   },
   {
    "duration": 12,
    "start_time": "2022-07-09T10:09:41.564Z"
   },
   {
    "duration": 7,
    "start_time": "2022-07-09T10:09:41.578Z"
   },
   {
    "duration": 144,
    "start_time": "2022-07-09T10:09:41.587Z"
   },
   {
    "duration": 0,
    "start_time": "2022-07-09T10:09:41.734Z"
   },
   {
    "duration": 0,
    "start_time": "2022-07-09T10:09:41.735Z"
   },
   {
    "duration": 0,
    "start_time": "2022-07-09T10:09:41.739Z"
   },
   {
    "duration": 0,
    "start_time": "2022-07-09T10:09:41.744Z"
   },
   {
    "duration": 0,
    "start_time": "2022-07-09T10:09:41.746Z"
   },
   {
    "duration": 0,
    "start_time": "2022-07-09T10:09:41.747Z"
   },
   {
    "duration": 0,
    "start_time": "2022-07-09T10:09:41.749Z"
   },
   {
    "duration": 0,
    "start_time": "2022-07-09T10:09:41.751Z"
   },
   {
    "duration": 0,
    "start_time": "2022-07-09T10:09:41.752Z"
   },
   {
    "duration": 0,
    "start_time": "2022-07-09T10:09:41.753Z"
   },
   {
    "duration": 38,
    "start_time": "2022-07-09T10:11:47.538Z"
   },
   {
    "duration": 19,
    "start_time": "2022-07-09T10:11:59.124Z"
   },
   {
    "duration": 11,
    "start_time": "2022-07-09T10:12:30.264Z"
   },
   {
    "duration": 15,
    "start_time": "2022-07-09T10:12:56.029Z"
   },
   {
    "duration": 16,
    "start_time": "2022-07-09T10:14:08.238Z"
   },
   {
    "duration": 9,
    "start_time": "2022-07-09T11:26:14.730Z"
   },
   {
    "duration": 16,
    "start_time": "2022-07-09T11:26:28.056Z"
   },
   {
    "duration": 410,
    "start_time": "2022-07-09T11:26:36.027Z"
   },
   {
    "duration": 87,
    "start_time": "2022-07-09T11:26:36.440Z"
   },
   {
    "duration": 25,
    "start_time": "2022-07-09T11:26:36.529Z"
   },
   {
    "duration": 18,
    "start_time": "2022-07-09T11:26:36.556Z"
   },
   {
    "duration": 10,
    "start_time": "2022-07-09T11:26:36.576Z"
   },
   {
    "duration": 27,
    "start_time": "2022-07-09T11:26:36.602Z"
   },
   {
    "duration": 12,
    "start_time": "2022-07-09T11:26:36.632Z"
   },
   {
    "duration": 19,
    "start_time": "2022-07-09T11:26:36.646Z"
   },
   {
    "duration": 7,
    "start_time": "2022-07-09T11:26:36.667Z"
   },
   {
    "duration": 24,
    "start_time": "2022-07-09T11:26:36.676Z"
   },
   {
    "duration": 28,
    "start_time": "2022-07-09T11:26:36.705Z"
   },
   {
    "duration": 25,
    "start_time": "2022-07-09T11:26:36.736Z"
   },
   {
    "duration": 19,
    "start_time": "2022-07-09T11:26:36.763Z"
   },
   {
    "duration": 3,
    "start_time": "2022-07-09T11:26:36.786Z"
   },
   {
    "duration": 64,
    "start_time": "2022-07-09T11:26:36.791Z"
   },
   {
    "duration": 34,
    "start_time": "2022-07-09T11:26:36.857Z"
   },
   {
    "duration": 57,
    "start_time": "2022-07-09T11:26:36.893Z"
   },
   {
    "duration": 9,
    "start_time": "2022-07-09T11:26:36.952Z"
   },
   {
    "duration": 22,
    "start_time": "2022-07-09T11:26:36.963Z"
   },
   {
    "duration": 7,
    "start_time": "2022-07-09T11:26:36.987Z"
   },
   {
    "duration": 43,
    "start_time": "2022-07-09T11:26:36.996Z"
   },
   {
    "duration": 10,
    "start_time": "2022-07-09T11:26:37.042Z"
   },
   {
    "duration": 20,
    "start_time": "2022-07-09T11:27:10.894Z"
   },
   {
    "duration": 111,
    "start_time": "2022-07-09T11:28:04.350Z"
   },
   {
    "duration": 22,
    "start_time": "2022-07-09T11:28:11.634Z"
   },
   {
    "duration": 26,
    "start_time": "2022-07-09T11:28:14.054Z"
   },
   {
    "duration": 30,
    "start_time": "2022-07-09T11:28:20.526Z"
   },
   {
    "duration": 18,
    "start_time": "2022-07-09T11:28:22.936Z"
   },
   {
    "duration": 1253,
    "start_time": "2022-07-09T11:37:30.769Z"
   },
   {
    "duration": 1914,
    "start_time": "2022-07-09T11:37:52.468Z"
   },
   {
    "duration": 1161,
    "start_time": "2022-07-09T11:39:40.178Z"
   },
   {
    "duration": 1300,
    "start_time": "2022-07-09T11:39:49.924Z"
   },
   {
    "duration": 1231,
    "start_time": "2022-07-09T11:39:51.807Z"
   },
   {
    "duration": 3385,
    "start_time": "2022-07-09T11:40:15.250Z"
   },
   {
    "duration": 0,
    "start_time": "2022-07-09T11:40:18.638Z"
   },
   {
    "duration": 523,
    "start_time": "2022-07-09T11:40:33.041Z"
   },
   {
    "duration": 98,
    "start_time": "2022-07-09T11:40:33.567Z"
   },
   {
    "duration": 34,
    "start_time": "2022-07-09T11:40:33.667Z"
   },
   {
    "duration": 35,
    "start_time": "2022-07-09T11:40:33.703Z"
   },
   {
    "duration": 17,
    "start_time": "2022-07-09T11:40:33.741Z"
   },
   {
    "duration": 17,
    "start_time": "2022-07-09T11:40:33.759Z"
   },
   {
    "duration": 4,
    "start_time": "2022-07-09T11:40:33.778Z"
   },
   {
    "duration": 60,
    "start_time": "2022-07-09T11:40:33.784Z"
   },
   {
    "duration": 5,
    "start_time": "2022-07-09T11:40:33.846Z"
   },
   {
    "duration": 10,
    "start_time": "2022-07-09T11:40:33.852Z"
   },
   {
    "duration": 6,
    "start_time": "2022-07-09T11:40:33.864Z"
   },
   {
    "duration": 6,
    "start_time": "2022-07-09T11:40:33.872Z"
   },
   {
    "duration": 17,
    "start_time": "2022-07-09T11:40:33.880Z"
   },
   {
    "duration": 17,
    "start_time": "2022-07-09T11:40:33.903Z"
   },
   {
    "duration": 19,
    "start_time": "2022-07-09T11:40:33.922Z"
   },
   {
    "duration": 4,
    "start_time": "2022-07-09T11:40:33.943Z"
   },
   {
    "duration": 4,
    "start_time": "2022-07-09T11:40:33.949Z"
   },
   {
    "duration": 4,
    "start_time": "2022-07-09T11:40:33.955Z"
   },
   {
    "duration": 5,
    "start_time": "2022-07-09T11:40:33.961Z"
   },
   {
    "duration": 5,
    "start_time": "2022-07-09T11:40:33.967Z"
   },
   {
    "duration": 6,
    "start_time": "2022-07-09T11:40:33.974Z"
   },
   {
    "duration": 5,
    "start_time": "2022-07-09T11:40:33.983Z"
   },
   {
    "duration": 4,
    "start_time": "2022-07-09T11:40:41.775Z"
   },
   {
    "duration": 21,
    "start_time": "2022-07-09T11:40:42.933Z"
   },
   {
    "duration": 14,
    "start_time": "2022-07-09T11:40:51.035Z"
   },
   {
    "duration": 26,
    "start_time": "2022-07-09T11:40:52.600Z"
   },
   {
    "duration": 65,
    "start_time": "2022-07-09T11:43:46.417Z"
   },
   {
    "duration": 9,
    "start_time": "2022-07-09T11:43:54.405Z"
   },
   {
    "duration": 15,
    "start_time": "2022-07-09T11:43:55.749Z"
   },
   {
    "duration": 10,
    "start_time": "2022-07-09T11:49:00.871Z"
   },
   {
    "duration": 32,
    "start_time": "2022-07-09T11:49:03.994Z"
   },
   {
    "duration": 8,
    "start_time": "2022-07-09T11:49:20.338Z"
   },
   {
    "duration": 7,
    "start_time": "2022-07-09T11:49:23.744Z"
   },
   {
    "duration": 16,
    "start_time": "2022-07-09T11:49:29.586Z"
   },
   {
    "duration": 12,
    "start_time": "2022-07-09T11:49:35.342Z"
   },
   {
    "duration": 12,
    "start_time": "2022-07-09T11:49:41.020Z"
   },
   {
    "duration": 457,
    "start_time": "2022-07-09T11:49:47.924Z"
   },
   {
    "duration": 101,
    "start_time": "2022-07-09T11:49:48.384Z"
   },
   {
    "duration": 34,
    "start_time": "2022-07-09T11:49:48.488Z"
   },
   {
    "duration": 30,
    "start_time": "2022-07-09T11:49:48.524Z"
   },
   {
    "duration": 11,
    "start_time": "2022-07-09T11:49:48.557Z"
   },
   {
    "duration": 19,
    "start_time": "2022-07-09T11:49:48.570Z"
   },
   {
    "duration": 23,
    "start_time": "2022-07-09T11:49:48.591Z"
   },
   {
    "duration": 27,
    "start_time": "2022-07-09T11:49:48.617Z"
   },
   {
    "duration": 6,
    "start_time": "2022-07-09T11:49:48.646Z"
   },
   {
    "duration": 9,
    "start_time": "2022-07-09T11:49:48.653Z"
   },
   {
    "duration": 6,
    "start_time": "2022-07-09T11:49:48.664Z"
   },
   {
    "duration": 19,
    "start_time": "2022-07-09T11:49:48.671Z"
   },
   {
    "duration": 25,
    "start_time": "2022-07-09T11:49:48.692Z"
   },
   {
    "duration": 15,
    "start_time": "2022-07-09T11:49:48.720Z"
   },
   {
    "duration": 4,
    "start_time": "2022-07-09T11:49:48.737Z"
   },
   {
    "duration": 6,
    "start_time": "2022-07-09T11:49:48.743Z"
   },
   {
    "duration": 6,
    "start_time": "2022-07-09T11:49:48.750Z"
   },
   {
    "duration": 7,
    "start_time": "2022-07-09T11:49:48.757Z"
   },
   {
    "duration": 8,
    "start_time": "2022-07-09T11:49:48.765Z"
   },
   {
    "duration": 6,
    "start_time": "2022-07-09T11:49:48.775Z"
   },
   {
    "duration": 7,
    "start_time": "2022-07-09T11:49:48.783Z"
   },
   {
    "duration": 58,
    "start_time": "2022-07-09T11:49:48.792Z"
   },
   {
    "duration": 9,
    "start_time": "2022-07-09T11:49:53.187Z"
   },
   {
    "duration": 16,
    "start_time": "2022-07-09T11:49:55.422Z"
   },
   {
    "duration": 14,
    "start_time": "2022-07-09T11:49:58.329Z"
   },
   {
    "duration": 6,
    "start_time": "2022-07-09T11:50:10.512Z"
   },
   {
    "duration": 16,
    "start_time": "2022-07-09T11:50:11.563Z"
   },
   {
    "duration": 439,
    "start_time": "2022-07-09T15:57:51.393Z"
   },
   {
    "duration": 441,
    "start_time": "2022-07-09T15:57:51.838Z"
   },
   {
    "duration": 36,
    "start_time": "2022-07-09T15:57:52.281Z"
   },
   {
    "duration": 46,
    "start_time": "2022-07-09T15:57:52.320Z"
   },
   {
    "duration": 19,
    "start_time": "2022-07-09T15:57:52.368Z"
   },
   {
    "duration": 20,
    "start_time": "2022-07-09T15:57:52.389Z"
   },
   {
    "duration": 46,
    "start_time": "2022-07-09T15:57:52.411Z"
   },
   {
    "duration": 22,
    "start_time": "2022-07-09T15:57:52.459Z"
   },
   {
    "duration": 5,
    "start_time": "2022-07-09T15:57:52.483Z"
   },
   {
    "duration": 71,
    "start_time": "2022-07-09T15:57:52.490Z"
   },
   {
    "duration": 5,
    "start_time": "2022-07-09T15:57:52.563Z"
   },
   {
    "duration": 12,
    "start_time": "2022-07-09T15:57:52.570Z"
   },
   {
    "duration": 36,
    "start_time": "2022-07-09T15:57:52.584Z"
   },
   {
    "duration": 11,
    "start_time": "2022-07-09T15:57:52.629Z"
   },
   {
    "duration": 18,
    "start_time": "2022-07-09T15:57:52.646Z"
   },
   {
    "duration": 4,
    "start_time": "2022-07-09T15:57:52.667Z"
   },
   {
    "duration": 5,
    "start_time": "2022-07-09T15:57:52.673Z"
   },
   {
    "duration": 5,
    "start_time": "2022-07-09T15:57:52.680Z"
   },
   {
    "duration": 6,
    "start_time": "2022-07-09T15:57:52.686Z"
   },
   {
    "duration": 38,
    "start_time": "2022-07-09T15:57:52.694Z"
   },
   {
    "duration": 26,
    "start_time": "2022-07-09T15:57:52.734Z"
   },
   {
    "duration": 6,
    "start_time": "2022-07-09T15:57:52.762Z"
   },
   {
    "duration": 35,
    "start_time": "2022-07-09T15:59:33.427Z"
   },
   {
    "duration": 16,
    "start_time": "2022-07-09T15:59:35.776Z"
   },
   {
    "duration": 12,
    "start_time": "2022-07-09T16:00:35.968Z"
   },
   {
    "duration": 83,
    "start_time": "2022-07-09T16:12:10.223Z"
   },
   {
    "duration": 4,
    "start_time": "2022-07-09T16:13:40.391Z"
   },
   {
    "duration": 24,
    "start_time": "2022-07-09T16:14:20.481Z"
   },
   {
    "duration": 20,
    "start_time": "2022-07-09T16:14:38.765Z"
   },
   {
    "duration": 11,
    "start_time": "2022-07-09T16:15:02.777Z"
   },
   {
    "duration": 18,
    "start_time": "2022-07-09T16:15:28.466Z"
   },
   {
    "duration": 26,
    "start_time": "2022-07-09T16:15:33.080Z"
   },
   {
    "duration": 8,
    "start_time": "2022-07-09T16:18:03.672Z"
   },
   {
    "duration": 391,
    "start_time": "2022-07-09T16:19:15.567Z"
   },
   {
    "duration": 87,
    "start_time": "2022-07-09T16:19:15.960Z"
   },
   {
    "duration": 25,
    "start_time": "2022-07-09T16:19:16.049Z"
   },
   {
    "duration": 38,
    "start_time": "2022-07-09T16:19:16.075Z"
   },
   {
    "duration": 18,
    "start_time": "2022-07-09T16:19:16.123Z"
   },
   {
    "duration": 19,
    "start_time": "2022-07-09T16:19:16.143Z"
   },
   {
    "duration": 3,
    "start_time": "2022-07-09T16:19:16.164Z"
   },
   {
    "duration": 13,
    "start_time": "2022-07-09T16:19:16.169Z"
   },
   {
    "duration": 5,
    "start_time": "2022-07-09T16:19:16.184Z"
   },
   {
    "duration": 16,
    "start_time": "2022-07-09T16:19:16.198Z"
   },
   {
    "duration": 39,
    "start_time": "2022-07-09T16:19:16.216Z"
   },
   {
    "duration": 35,
    "start_time": "2022-07-09T16:19:16.257Z"
   },
   {
    "duration": 22,
    "start_time": "2022-07-09T16:19:16.293Z"
   },
   {
    "duration": 25,
    "start_time": "2022-07-09T16:19:16.318Z"
   },
   {
    "duration": 95,
    "start_time": "2022-07-09T16:19:16.345Z"
   },
   {
    "duration": 0,
    "start_time": "2022-07-09T16:19:16.443Z"
   },
   {
    "duration": 0,
    "start_time": "2022-07-09T16:19:16.444Z"
   },
   {
    "duration": 0,
    "start_time": "2022-07-09T16:19:16.445Z"
   },
   {
    "duration": 0,
    "start_time": "2022-07-09T16:19:16.446Z"
   },
   {
    "duration": 0,
    "start_time": "2022-07-09T16:19:16.447Z"
   },
   {
    "duration": 0,
    "start_time": "2022-07-09T16:19:16.449Z"
   },
   {
    "duration": 0,
    "start_time": "2022-07-09T16:19:16.450Z"
   },
   {
    "duration": 9,
    "start_time": "2022-07-09T16:19:20.074Z"
   },
   {
    "duration": 36,
    "start_time": "2022-07-09T16:19:37.210Z"
   },
   {
    "duration": 31,
    "start_time": "2022-07-09T16:19:48.920Z"
   },
   {
    "duration": 56,
    "start_time": "2022-07-09T16:20:19.371Z"
   },
   {
    "duration": 43,
    "start_time": "2022-07-09T16:20:54.168Z"
   },
   {
    "duration": 42,
    "start_time": "2022-07-09T16:20:56.671Z"
   },
   {
    "duration": 18,
    "start_time": "2022-07-09T16:21:16.378Z"
   },
   {
    "duration": 23,
    "start_time": "2022-07-09T16:21:21.627Z"
   },
   {
    "duration": 30,
    "start_time": "2022-07-09T16:21:28.339Z"
   },
   {
    "duration": 19,
    "start_time": "2022-07-09T16:21:45.870Z"
   },
   {
    "duration": 17,
    "start_time": "2022-07-09T16:21:52.740Z"
   },
   {
    "duration": 51,
    "start_time": "2022-07-09T16:22:25.732Z"
   },
   {
    "duration": 48,
    "start_time": "2022-07-09T16:23:21.829Z"
   },
   {
    "duration": 58,
    "start_time": "2022-07-09T16:23:24.175Z"
   },
   {
    "duration": 394,
    "start_time": "2022-07-09T16:23:52.956Z"
   },
   {
    "duration": 88,
    "start_time": "2022-07-09T16:23:53.352Z"
   },
   {
    "duration": 28,
    "start_time": "2022-07-09T16:23:53.442Z"
   },
   {
    "duration": 16,
    "start_time": "2022-07-09T16:23:53.472Z"
   },
   {
    "duration": 31,
    "start_time": "2022-07-09T16:23:53.510Z"
   },
   {
    "duration": 19,
    "start_time": "2022-07-09T16:23:53.544Z"
   },
   {
    "duration": 4,
    "start_time": "2022-07-09T16:23:53.565Z"
   },
   {
    "duration": 10,
    "start_time": "2022-07-09T16:23:53.571Z"
   },
   {
    "duration": 6,
    "start_time": "2022-07-09T16:23:53.583Z"
   },
   {
    "duration": 25,
    "start_time": "2022-07-09T16:23:53.590Z"
   },
   {
    "duration": 30,
    "start_time": "2022-07-09T16:23:53.622Z"
   },
   {
    "duration": 24,
    "start_time": "2022-07-09T16:23:53.654Z"
   },
   {
    "duration": 10,
    "start_time": "2022-07-09T16:23:53.680Z"
   },
   {
    "duration": 5,
    "start_time": "2022-07-09T16:23:53.692Z"
   },
   {
    "duration": 82,
    "start_time": "2022-07-09T16:23:53.703Z"
   },
   {
    "duration": 2,
    "start_time": "2022-07-09T16:23:53.787Z"
   },
   {
    "duration": 5,
    "start_time": "2022-07-09T16:23:53.791Z"
   },
   {
    "duration": 42,
    "start_time": "2022-07-09T16:23:53.801Z"
   },
   {
    "duration": 5,
    "start_time": "2022-07-09T16:23:53.845Z"
   },
   {
    "duration": 7,
    "start_time": "2022-07-09T16:23:53.852Z"
   },
   {
    "duration": 7,
    "start_time": "2022-07-09T16:23:53.861Z"
   },
   {
    "duration": 5,
    "start_time": "2022-07-09T16:23:53.869Z"
   },
   {
    "duration": 47,
    "start_time": "2022-07-09T16:24:02.226Z"
   },
   {
    "duration": 66,
    "start_time": "2022-07-09T16:24:04.379Z"
   },
   {
    "duration": 49,
    "start_time": "2022-07-09T16:25:29.330Z"
   },
   {
    "duration": 65,
    "start_time": "2022-07-09T16:25:36.673Z"
   },
   {
    "duration": 66,
    "start_time": "2022-07-09T16:25:42.478Z"
   },
   {
    "duration": 22,
    "start_time": "2022-07-09T16:25:52.533Z"
   },
   {
    "duration": 46,
    "start_time": "2022-07-09T16:26:15.381Z"
   },
   {
    "duration": 45,
    "start_time": "2022-07-09T16:26:34.790Z"
   },
   {
    "duration": 28,
    "start_time": "2022-07-09T16:26:44.344Z"
   },
   {
    "duration": 441,
    "start_time": "2022-07-09T16:26:56.076Z"
   },
   {
    "duration": 108,
    "start_time": "2022-07-09T16:26:56.522Z"
   },
   {
    "duration": 35,
    "start_time": "2022-07-09T16:26:56.637Z"
   },
   {
    "duration": 36,
    "start_time": "2022-07-09T16:26:56.674Z"
   },
   {
    "duration": 17,
    "start_time": "2022-07-09T16:26:56.714Z"
   },
   {
    "duration": 57,
    "start_time": "2022-07-09T16:26:56.736Z"
   },
   {
    "duration": 73,
    "start_time": "2022-07-09T16:26:56.795Z"
   },
   {
    "duration": 23,
    "start_time": "2022-07-09T16:26:56.871Z"
   },
   {
    "duration": 40,
    "start_time": "2022-07-09T16:26:56.896Z"
   },
   {
    "duration": 29,
    "start_time": "2022-07-09T16:26:56.938Z"
   },
   {
    "duration": 6,
    "start_time": "2022-07-09T16:26:56.969Z"
   },
   {
    "duration": 32,
    "start_time": "2022-07-09T16:26:56.977Z"
   },
   {
    "duration": 18,
    "start_time": "2022-07-09T16:26:57.011Z"
   },
   {
    "duration": 35,
    "start_time": "2022-07-09T16:26:57.032Z"
   },
   {
    "duration": 26,
    "start_time": "2022-07-09T16:26:57.070Z"
   },
   {
    "duration": 31,
    "start_time": "2022-07-09T16:26:57.103Z"
   },
   {
    "duration": 25,
    "start_time": "2022-07-09T16:26:57.139Z"
   },
   {
    "duration": 17,
    "start_time": "2022-07-09T16:26:57.166Z"
   },
   {
    "duration": 15,
    "start_time": "2022-07-09T16:26:57.185Z"
   },
   {
    "duration": 53,
    "start_time": "2022-07-09T16:26:57.211Z"
   },
   {
    "duration": 9,
    "start_time": "2022-07-09T16:26:57.266Z"
   },
   {
    "duration": 9,
    "start_time": "2022-07-09T16:26:57.279Z"
   },
   {
    "duration": 28,
    "start_time": "2022-07-09T16:27:02.036Z"
   },
   {
    "duration": 24,
    "start_time": "2022-07-09T16:27:03.344Z"
   },
   {
    "duration": 17,
    "start_time": "2022-07-09T16:27:04.763Z"
   },
   {
    "duration": 85,
    "start_time": "2022-07-09T16:27:52.537Z"
   },
   {
    "duration": 6,
    "start_time": "2022-07-09T16:27:56.367Z"
   },
   {
    "duration": 5,
    "start_time": "2022-07-09T16:28:24.270Z"
   },
   {
    "duration": 15,
    "start_time": "2022-07-09T16:28:43.735Z"
   },
   {
    "duration": 11,
    "start_time": "2022-07-09T16:29:26.370Z"
   },
   {
    "duration": 141,
    "start_time": "2022-07-09T16:29:30.067Z"
   },
   {
    "duration": 13,
    "start_time": "2022-07-09T16:29:37.278Z"
   },
   {
    "duration": 18,
    "start_time": "2022-07-09T16:30:42.633Z"
   },
   {
    "duration": 16,
    "start_time": "2022-07-09T16:31:12.143Z"
   },
   {
    "duration": 60,
    "start_time": "2022-07-09T16:31:21.072Z"
   },
   {
    "duration": 35,
    "start_time": "2022-07-09T16:31:42.585Z"
   },
   {
    "duration": 130,
    "start_time": "2022-07-09T16:33:32.021Z"
   },
   {
    "duration": 439,
    "start_time": "2022-07-09T18:35:18.343Z"
   },
   {
    "duration": 126,
    "start_time": "2022-07-09T18:35:18.785Z"
   },
   {
    "duration": 25,
    "start_time": "2022-07-09T18:35:18.913Z"
   },
   {
    "duration": 17,
    "start_time": "2022-07-09T18:35:18.940Z"
   },
   {
    "duration": 10,
    "start_time": "2022-07-09T18:35:18.959Z"
   },
   {
    "duration": 19,
    "start_time": "2022-07-09T18:35:18.971Z"
   },
   {
    "duration": 3,
    "start_time": "2022-07-09T18:35:18.992Z"
   },
   {
    "duration": 13,
    "start_time": "2022-07-09T18:35:18.997Z"
   },
   {
    "duration": 31,
    "start_time": "2022-07-09T18:35:19.012Z"
   },
   {
    "duration": 9,
    "start_time": "2022-07-09T18:35:19.045Z"
   },
   {
    "duration": 7,
    "start_time": "2022-07-09T18:35:19.055Z"
   },
   {
    "duration": 18,
    "start_time": "2022-07-09T18:35:19.064Z"
   },
   {
    "duration": 12,
    "start_time": "2022-07-09T18:35:19.084Z"
   },
   {
    "duration": 43,
    "start_time": "2022-07-09T18:35:19.100Z"
   },
   {
    "duration": 20,
    "start_time": "2022-07-09T18:35:19.145Z"
   },
   {
    "duration": 22,
    "start_time": "2022-07-09T18:35:19.168Z"
   },
   {
    "duration": 54,
    "start_time": "2022-07-09T18:35:19.192Z"
   },
   {
    "duration": 43,
    "start_time": "2022-07-09T18:47:32.914Z"
   },
   {
    "duration": 184,
    "start_time": "2022-07-09T18:56:24.636Z"
   },
   {
    "duration": 88,
    "start_time": "2022-07-09T18:56:35.309Z"
   },
   {
    "duration": 3,
    "start_time": "2022-07-09T18:56:37.935Z"
   },
   {
    "duration": 23,
    "start_time": "2022-07-09T18:56:40.520Z"
   },
   {
    "duration": 23,
    "start_time": "2022-07-09T18:57:34.393Z"
   },
   {
    "duration": 11,
    "start_time": "2022-07-09T18:58:25.666Z"
   },
   {
    "duration": 47,
    "start_time": "2022-07-09T19:00:46.161Z"
   },
   {
    "duration": 9,
    "start_time": "2022-07-09T19:01:00.990Z"
   },
   {
    "duration": 11,
    "start_time": "2022-07-09T19:01:50.378Z"
   },
   {
    "duration": 18,
    "start_time": "2022-07-09T19:02:17.818Z"
   },
   {
    "duration": 68,
    "start_time": "2022-07-09T19:04:24.566Z"
   },
   {
    "duration": 450,
    "start_time": "2022-07-09T19:04:30.812Z"
   },
   {
    "duration": 67,
    "start_time": "2022-07-09T19:04:31.265Z"
   },
   {
    "duration": 26,
    "start_time": "2022-07-09T19:04:31.334Z"
   },
   {
    "duration": 17,
    "start_time": "2022-07-09T19:04:31.362Z"
   },
   {
    "duration": 12,
    "start_time": "2022-07-09T19:04:31.383Z"
   },
   {
    "duration": 47,
    "start_time": "2022-07-09T19:04:31.397Z"
   },
   {
    "duration": 5,
    "start_time": "2022-07-09T19:04:31.446Z"
   },
   {
    "duration": 19,
    "start_time": "2022-07-09T19:04:31.453Z"
   },
   {
    "duration": 13,
    "start_time": "2022-07-09T19:04:31.473Z"
   },
   {
    "duration": 11,
    "start_time": "2022-07-09T19:04:31.488Z"
   },
   {
    "duration": 7,
    "start_time": "2022-07-09T19:04:31.501Z"
   },
   {
    "duration": 36,
    "start_time": "2022-07-09T19:04:31.509Z"
   },
   {
    "duration": 10,
    "start_time": "2022-07-09T19:04:31.547Z"
   },
   {
    "duration": 9,
    "start_time": "2022-07-09T19:04:31.559Z"
   },
   {
    "duration": 35,
    "start_time": "2022-07-09T19:04:31.570Z"
   },
   {
    "duration": 20,
    "start_time": "2022-07-09T19:04:31.607Z"
   },
   {
    "duration": 36,
    "start_time": "2022-07-09T19:04:31.628Z"
   },
   {
    "duration": 57,
    "start_time": "2022-07-09T19:04:31.666Z"
   },
   {
    "duration": 0,
    "start_time": "2022-07-09T19:04:31.725Z"
   },
   {
    "duration": 0,
    "start_time": "2022-07-09T19:04:31.727Z"
   },
   {
    "duration": 0,
    "start_time": "2022-07-09T19:04:31.728Z"
   },
   {
    "duration": 0,
    "start_time": "2022-07-09T19:04:31.730Z"
   },
   {
    "duration": 4,
    "start_time": "2022-07-09T19:04:52.509Z"
   },
   {
    "duration": 137,
    "start_time": "2022-07-09T19:04:54.094Z"
   },
   {
    "duration": 6,
    "start_time": "2022-07-09T19:06:01.761Z"
   },
   {
    "duration": 16,
    "start_time": "2022-07-10T06:49:59.499Z"
   },
   {
    "duration": 412,
    "start_time": "2022-07-10T19:35:22.541Z"
   },
   {
    "duration": 109,
    "start_time": "2022-07-10T19:35:22.955Z"
   },
   {
    "duration": 22,
    "start_time": "2022-07-10T19:35:23.066Z"
   },
   {
    "duration": 15,
    "start_time": "2022-07-10T19:35:23.090Z"
   },
   {
    "duration": 16,
    "start_time": "2022-07-10T19:35:23.107Z"
   },
   {
    "duration": 19,
    "start_time": "2022-07-10T19:35:23.125Z"
   },
   {
    "duration": 4,
    "start_time": "2022-07-10T19:35:23.146Z"
   },
   {
    "duration": 16,
    "start_time": "2022-07-10T19:35:23.151Z"
   },
   {
    "duration": 5,
    "start_time": "2022-07-10T19:35:23.169Z"
   },
   {
    "duration": 21,
    "start_time": "2022-07-10T19:35:23.177Z"
   },
   {
    "duration": 25,
    "start_time": "2022-07-10T19:35:23.200Z"
   },
   {
    "duration": 20,
    "start_time": "2022-07-10T19:35:23.227Z"
   },
   {
    "duration": 10,
    "start_time": "2022-07-10T19:35:23.249Z"
   },
   {
    "duration": 7,
    "start_time": "2022-07-10T19:35:23.261Z"
   },
   {
    "duration": 29,
    "start_time": "2022-07-10T19:35:23.271Z"
   },
   {
    "duration": 38,
    "start_time": "2022-07-10T19:35:23.302Z"
   },
   {
    "duration": 26,
    "start_time": "2022-07-10T19:35:23.342Z"
   },
   {
    "duration": 4,
    "start_time": "2022-07-10T19:35:23.370Z"
   },
   {
    "duration": 150,
    "start_time": "2022-07-10T19:35:23.376Z"
   },
   {
    "duration": 6,
    "start_time": "2022-07-10T19:35:23.528Z"
   },
   {
    "duration": 3886,
    "start_time": "2022-07-10T19:35:23.536Z"
   },
   {
    "duration": 15,
    "start_time": "2022-07-10T19:35:27.425Z"
   },
   {
    "duration": 3522,
    "start_time": "2022-07-10T19:36:07.923Z"
   },
   {
    "duration": 9,
    "start_time": "2022-07-10T19:36:11.448Z"
   },
   {
    "duration": 3710,
    "start_time": "2022-07-10T19:41:40.593Z"
   },
   {
    "duration": 18,
    "start_time": "2022-07-10T19:41:44.305Z"
   },
   {
    "duration": 0,
    "start_time": "2022-07-10T19:45:03.169Z"
   },
   {
    "duration": 0,
    "start_time": "2022-07-10T19:45:19.535Z"
   },
   {
    "duration": 391,
    "start_time": "2022-07-10T19:45:25.953Z"
   },
   {
    "duration": 66,
    "start_time": "2022-07-10T19:45:26.346Z"
   },
   {
    "duration": 32,
    "start_time": "2022-07-10T19:45:26.413Z"
   },
   {
    "duration": 17,
    "start_time": "2022-07-10T19:45:26.447Z"
   },
   {
    "duration": 14,
    "start_time": "2022-07-10T19:45:26.466Z"
   },
   {
    "duration": 42,
    "start_time": "2022-07-10T19:45:26.482Z"
   },
   {
    "duration": 9,
    "start_time": "2022-07-10T19:45:26.526Z"
   },
   {
    "duration": 35,
    "start_time": "2022-07-10T19:45:26.537Z"
   },
   {
    "duration": 8,
    "start_time": "2022-07-10T19:45:26.574Z"
   },
   {
    "duration": 13,
    "start_time": "2022-07-10T19:45:26.584Z"
   },
   {
    "duration": 4,
    "start_time": "2022-07-10T19:45:26.599Z"
   },
   {
    "duration": 17,
    "start_time": "2022-07-10T19:45:26.605Z"
   },
   {
    "duration": 17,
    "start_time": "2022-07-10T19:45:26.625Z"
   },
   {
    "duration": 8,
    "start_time": "2022-07-10T19:45:26.644Z"
   },
   {
    "duration": 26,
    "start_time": "2022-07-10T19:45:26.654Z"
   },
   {
    "duration": 19,
    "start_time": "2022-07-10T19:45:26.682Z"
   },
   {
    "duration": 47,
    "start_time": "2022-07-10T19:45:26.703Z"
   },
   {
    "duration": 3,
    "start_time": "2022-07-10T19:45:26.752Z"
   },
   {
    "duration": 145,
    "start_time": "2022-07-10T19:45:26.757Z"
   },
   {
    "duration": 7,
    "start_time": "2022-07-10T19:45:26.904Z"
   },
   {
    "duration": 3991,
    "start_time": "2022-07-10T19:45:26.931Z"
   },
   {
    "duration": 0,
    "start_time": "2022-07-10T19:45:30.925Z"
   },
   {
    "duration": 441,
    "start_time": "2022-07-10T19:46:05.989Z"
   },
   {
    "duration": 73,
    "start_time": "2022-07-10T19:46:06.434Z"
   },
   {
    "duration": 33,
    "start_time": "2022-07-10T19:46:06.509Z"
   },
   {
    "duration": 18,
    "start_time": "2022-07-10T19:46:06.545Z"
   },
   {
    "duration": 11,
    "start_time": "2022-07-10T19:46:06.565Z"
   },
   {
    "duration": 16,
    "start_time": "2022-07-10T19:46:06.578Z"
   },
   {
    "duration": 26,
    "start_time": "2022-07-10T19:46:06.596Z"
   },
   {
    "duration": 25,
    "start_time": "2022-07-10T19:46:06.625Z"
   },
   {
    "duration": 19,
    "start_time": "2022-07-10T19:46:06.652Z"
   },
   {
    "duration": 14,
    "start_time": "2022-07-10T19:46:06.674Z"
   },
   {
    "duration": 6,
    "start_time": "2022-07-10T19:46:06.690Z"
   },
   {
    "duration": 31,
    "start_time": "2022-07-10T19:46:06.698Z"
   },
   {
    "duration": 16,
    "start_time": "2022-07-10T19:46:06.732Z"
   },
   {
    "duration": 6,
    "start_time": "2022-07-10T19:46:06.750Z"
   },
   {
    "duration": 30,
    "start_time": "2022-07-10T19:46:06.758Z"
   },
   {
    "duration": 47,
    "start_time": "2022-07-10T19:46:06.791Z"
   },
   {
    "duration": 39,
    "start_time": "2022-07-10T19:46:06.841Z"
   },
   {
    "duration": 5,
    "start_time": "2022-07-10T19:46:06.882Z"
   },
   {
    "duration": 173,
    "start_time": "2022-07-10T19:46:06.889Z"
   },
   {
    "duration": 6,
    "start_time": "2022-07-10T19:46:07.065Z"
   },
   {
    "duration": 4519,
    "start_time": "2022-07-10T19:46:07.073Z"
   },
   {
    "duration": 29,
    "start_time": "2022-07-10T19:46:11.594Z"
   },
   {
    "duration": 4270,
    "start_time": "2022-07-10T19:46:27.808Z"
   },
   {
    "duration": 4702,
    "start_time": "2022-07-10T19:47:17.706Z"
   },
   {
    "duration": 3807,
    "start_time": "2022-07-10T19:47:24.371Z"
   },
   {
    "duration": 3868,
    "start_time": "2022-07-10T19:47:44.724Z"
   },
   {
    "duration": 4149,
    "start_time": "2022-07-10T19:48:01.082Z"
   },
   {
    "duration": 21,
    "start_time": "2022-07-10T19:48:24.579Z"
   },
   {
    "duration": 36,
    "start_time": "2022-07-10T19:48:40.256Z"
   },
   {
    "duration": 10,
    "start_time": "2022-07-10T19:49:42.185Z"
   },
   {
    "duration": 3978,
    "start_time": "2022-07-10T19:49:53.605Z"
   },
   {
    "duration": 41,
    "start_time": "2022-07-10T19:49:57.586Z"
   },
   {
    "duration": 450,
    "start_time": "2022-07-10T19:50:08.253Z"
   },
   {
    "duration": 76,
    "start_time": "2022-07-10T19:50:08.706Z"
   },
   {
    "duration": 29,
    "start_time": "2022-07-10T19:50:08.784Z"
   },
   {
    "duration": 23,
    "start_time": "2022-07-10T19:50:08.815Z"
   },
   {
    "duration": 19,
    "start_time": "2022-07-10T19:50:08.842Z"
   },
   {
    "duration": 23,
    "start_time": "2022-07-10T19:50:08.863Z"
   },
   {
    "duration": 5,
    "start_time": "2022-07-10T19:50:08.888Z"
   },
   {
    "duration": 10,
    "start_time": "2022-07-10T19:50:08.925Z"
   },
   {
    "duration": 12,
    "start_time": "2022-07-10T19:50:08.936Z"
   },
   {
    "duration": 22,
    "start_time": "2022-07-10T19:50:08.949Z"
   },
   {
    "duration": 11,
    "start_time": "2022-07-10T19:50:08.973Z"
   },
   {
    "duration": 23,
    "start_time": "2022-07-10T19:50:08.986Z"
   },
   {
    "duration": 17,
    "start_time": "2022-07-10T19:50:09.011Z"
   },
   {
    "duration": 12,
    "start_time": "2022-07-10T19:50:09.033Z"
   },
   {
    "duration": 32,
    "start_time": "2022-07-10T19:50:09.048Z"
   },
   {
    "duration": 44,
    "start_time": "2022-07-10T19:50:09.082Z"
   },
   {
    "duration": 41,
    "start_time": "2022-07-10T19:50:09.129Z"
   },
   {
    "duration": 5,
    "start_time": "2022-07-10T19:50:09.172Z"
   },
   {
    "duration": 157,
    "start_time": "2022-07-10T19:50:09.178Z"
   },
   {
    "duration": 6,
    "start_time": "2022-07-10T19:50:09.337Z"
   },
   {
    "duration": 3939,
    "start_time": "2022-07-10T19:50:09.345Z"
   },
   {
    "duration": 43,
    "start_time": "2022-07-10T19:50:13.287Z"
   }
  ],
  "colab": {
   "name": "dpp_template_part1.ipynb",
   "provenance": []
  },
  "kernelspec": {
   "display_name": "Python 3 (ipykernel)",
   "language": "python",
   "name": "python3"
  },
  "language_info": {
   "codemirror_mode": {
    "name": "ipython",
    "version": 3
   },
   "file_extension": ".py",
   "mimetype": "text/x-python",
   "name": "python",
   "nbconvert_exporter": "python",
   "pygments_lexer": "ipython3",
   "version": "3.9.13"
  },
  "toc": {
   "base_numbering": 1,
   "nav_menu": {},
   "number_sections": true,
   "sideBar": true,
   "skip_h1_title": true,
   "title_cell": "Table of Contents",
   "title_sidebar": "Contents",
   "toc_cell": false,
   "toc_position": {},
   "toc_section_display": true,
   "toc_window_display": false
  }
 },
 "nbformat": 4,
 "nbformat_minor": 5
}
