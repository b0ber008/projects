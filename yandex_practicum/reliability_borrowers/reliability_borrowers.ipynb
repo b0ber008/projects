{
 "cells": [
  {
   "cell_type": "markdown",
   "id": "c81daeeb",
   "metadata": {
    "deletable": false,
    "id": "c81daeeb"
   },
   "source": [
    "# Исследование надежности заемщиков\n"
   ]
  },
  {
   "cell_type": "markdown",
   "id": "827c20bf",
   "metadata": {
    "id": "827c20bf"
   },
   "source": [
    "Во второй части проекта вы выполните шаги 3 и 4. Их вручную проверит ревьюер.\n",
    "Чтобы вам не пришлось писать код заново для шагов 1 и 2, мы добавили авторские решения в ячейки с кодом. \n",
    "\n"
   ]
  },
  {
   "cell_type": "markdown",
   "id": "744d7639",
   "metadata": {
    "deletable": false,
    "id": "744d7639"
   },
   "source": [
    "## Откройте таблицу и изучите общую информацию о данных"
   ]
  },
  {
   "cell_type": "markdown",
   "id": "e7a14c31",
   "metadata": {
    "deletable": false,
    "id": "e7a14c31"
   },
   "source": [
    "**Задание 1. Импортируйте библиотеку pandas. Считайте данные из csv-файла в датафрейм и сохраните в переменную `data`. Путь к файлу:**\n",
    "\n",
    "`/datasets/data.csv`"
   ]
  },
  {
   "cell_type": "code",
   "execution_count": 1,
   "id": "7bcf75c9",
   "metadata": {
    "deletable": false,
    "id": "7bcf75c9"
   },
   "outputs": [],
   "source": [
    "import pandas as pd\n",
    "\n",
    "try:\n",
    "    data = pd.read_csv('/datasets/data.csv')\n",
    "except:\n",
    "    data = pd.read_csv('https://code.s3.yandex.net/datasets/data.csv')"
   ]
  },
  {
   "cell_type": "markdown",
   "id": "b8038fe3",
   "metadata": {
    "deletable": false,
    "id": "b8038fe3"
   },
   "source": [
    "**Задание 2. Выведите первые 20 строчек датафрейма `data` на экран.**"
   ]
  },
  {
   "cell_type": "code",
   "execution_count": 2,
   "id": "2a7cab99",
   "metadata": {
    "deletable": false,
    "id": "2a7cab99",
    "outputId": "1a8f3ef2-d323-4ec2-ddf7-89670b5944c4"
   },
   "outputs": [
    {
     "data": {
      "text/html": [
       "<div>\n",
       "<style scoped>\n",
       "    .dataframe tbody tr th:only-of-type {\n",
       "        vertical-align: middle;\n",
       "    }\n",
       "\n",
       "    .dataframe tbody tr th {\n",
       "        vertical-align: top;\n",
       "    }\n",
       "\n",
       "    .dataframe thead th {\n",
       "        text-align: right;\n",
       "    }\n",
       "</style>\n",
       "<table border=\"1\" class=\"dataframe\">\n",
       "  <thead>\n",
       "    <tr style=\"text-align: right;\">\n",
       "      <th></th>\n",
       "      <th>children</th>\n",
       "      <th>days_employed</th>\n",
       "      <th>dob_years</th>\n",
       "      <th>education</th>\n",
       "      <th>education_id</th>\n",
       "      <th>family_status</th>\n",
       "      <th>family_status_id</th>\n",
       "      <th>gender</th>\n",
       "      <th>income_type</th>\n",
       "      <th>debt</th>\n",
       "      <th>total_income</th>\n",
       "      <th>purpose</th>\n",
       "    </tr>\n",
       "  </thead>\n",
       "  <tbody>\n",
       "    <tr>\n",
       "      <th>0</th>\n",
       "      <td>1</td>\n",
       "      <td>-8437.673028</td>\n",
       "      <td>42</td>\n",
       "      <td>высшее</td>\n",
       "      <td>0</td>\n",
       "      <td>женат / замужем</td>\n",
       "      <td>0</td>\n",
       "      <td>F</td>\n",
       "      <td>сотрудник</td>\n",
       "      <td>0</td>\n",
       "      <td>253875.639453</td>\n",
       "      <td>покупка жилья</td>\n",
       "    </tr>\n",
       "    <tr>\n",
       "      <th>1</th>\n",
       "      <td>1</td>\n",
       "      <td>-4024.803754</td>\n",
       "      <td>36</td>\n",
       "      <td>среднее</td>\n",
       "      <td>1</td>\n",
       "      <td>женат / замужем</td>\n",
       "      <td>0</td>\n",
       "      <td>F</td>\n",
       "      <td>сотрудник</td>\n",
       "      <td>0</td>\n",
       "      <td>112080.014102</td>\n",
       "      <td>приобретение автомобиля</td>\n",
       "    </tr>\n",
       "    <tr>\n",
       "      <th>2</th>\n",
       "      <td>0</td>\n",
       "      <td>-5623.422610</td>\n",
       "      <td>33</td>\n",
       "      <td>Среднее</td>\n",
       "      <td>1</td>\n",
       "      <td>женат / замужем</td>\n",
       "      <td>0</td>\n",
       "      <td>M</td>\n",
       "      <td>сотрудник</td>\n",
       "      <td>0</td>\n",
       "      <td>145885.952297</td>\n",
       "      <td>покупка жилья</td>\n",
       "    </tr>\n",
       "    <tr>\n",
       "      <th>3</th>\n",
       "      <td>3</td>\n",
       "      <td>-4124.747207</td>\n",
       "      <td>32</td>\n",
       "      <td>среднее</td>\n",
       "      <td>1</td>\n",
       "      <td>женат / замужем</td>\n",
       "      <td>0</td>\n",
       "      <td>M</td>\n",
       "      <td>сотрудник</td>\n",
       "      <td>0</td>\n",
       "      <td>267628.550329</td>\n",
       "      <td>дополнительное образование</td>\n",
       "    </tr>\n",
       "    <tr>\n",
       "      <th>4</th>\n",
       "      <td>0</td>\n",
       "      <td>340266.072047</td>\n",
       "      <td>53</td>\n",
       "      <td>среднее</td>\n",
       "      <td>1</td>\n",
       "      <td>гражданский брак</td>\n",
       "      <td>1</td>\n",
       "      <td>F</td>\n",
       "      <td>пенсионер</td>\n",
       "      <td>0</td>\n",
       "      <td>158616.077870</td>\n",
       "      <td>сыграть свадьбу</td>\n",
       "    </tr>\n",
       "    <tr>\n",
       "      <th>5</th>\n",
       "      <td>0</td>\n",
       "      <td>-926.185831</td>\n",
       "      <td>27</td>\n",
       "      <td>высшее</td>\n",
       "      <td>0</td>\n",
       "      <td>гражданский брак</td>\n",
       "      <td>1</td>\n",
       "      <td>M</td>\n",
       "      <td>компаньон</td>\n",
       "      <td>0</td>\n",
       "      <td>255763.565419</td>\n",
       "      <td>покупка жилья</td>\n",
       "    </tr>\n",
       "    <tr>\n",
       "      <th>6</th>\n",
       "      <td>0</td>\n",
       "      <td>-2879.202052</td>\n",
       "      <td>43</td>\n",
       "      <td>высшее</td>\n",
       "      <td>0</td>\n",
       "      <td>женат / замужем</td>\n",
       "      <td>0</td>\n",
       "      <td>F</td>\n",
       "      <td>компаньон</td>\n",
       "      <td>0</td>\n",
       "      <td>240525.971920</td>\n",
       "      <td>операции с жильем</td>\n",
       "    </tr>\n",
       "    <tr>\n",
       "      <th>7</th>\n",
       "      <td>0</td>\n",
       "      <td>-152.779569</td>\n",
       "      <td>50</td>\n",
       "      <td>СРЕДНЕЕ</td>\n",
       "      <td>1</td>\n",
       "      <td>женат / замужем</td>\n",
       "      <td>0</td>\n",
       "      <td>M</td>\n",
       "      <td>сотрудник</td>\n",
       "      <td>0</td>\n",
       "      <td>135823.934197</td>\n",
       "      <td>образование</td>\n",
       "    </tr>\n",
       "    <tr>\n",
       "      <th>8</th>\n",
       "      <td>2</td>\n",
       "      <td>-6929.865299</td>\n",
       "      <td>35</td>\n",
       "      <td>ВЫСШЕЕ</td>\n",
       "      <td>0</td>\n",
       "      <td>гражданский брак</td>\n",
       "      <td>1</td>\n",
       "      <td>F</td>\n",
       "      <td>сотрудник</td>\n",
       "      <td>0</td>\n",
       "      <td>95856.832424</td>\n",
       "      <td>на проведение свадьбы</td>\n",
       "    </tr>\n",
       "    <tr>\n",
       "      <th>9</th>\n",
       "      <td>0</td>\n",
       "      <td>-2188.756445</td>\n",
       "      <td>41</td>\n",
       "      <td>среднее</td>\n",
       "      <td>1</td>\n",
       "      <td>женат / замужем</td>\n",
       "      <td>0</td>\n",
       "      <td>M</td>\n",
       "      <td>сотрудник</td>\n",
       "      <td>0</td>\n",
       "      <td>144425.938277</td>\n",
       "      <td>покупка жилья для семьи</td>\n",
       "    </tr>\n",
       "    <tr>\n",
       "      <th>10</th>\n",
       "      <td>2</td>\n",
       "      <td>-4171.483647</td>\n",
       "      <td>36</td>\n",
       "      <td>высшее</td>\n",
       "      <td>0</td>\n",
       "      <td>женат / замужем</td>\n",
       "      <td>0</td>\n",
       "      <td>M</td>\n",
       "      <td>компаньон</td>\n",
       "      <td>0</td>\n",
       "      <td>113943.491460</td>\n",
       "      <td>покупка недвижимости</td>\n",
       "    </tr>\n",
       "    <tr>\n",
       "      <th>11</th>\n",
       "      <td>0</td>\n",
       "      <td>-792.701887</td>\n",
       "      <td>40</td>\n",
       "      <td>среднее</td>\n",
       "      <td>1</td>\n",
       "      <td>женат / замужем</td>\n",
       "      <td>0</td>\n",
       "      <td>F</td>\n",
       "      <td>сотрудник</td>\n",
       "      <td>0</td>\n",
       "      <td>77069.234271</td>\n",
       "      <td>покупка коммерческой недвижимости</td>\n",
       "    </tr>\n",
       "    <tr>\n",
       "      <th>12</th>\n",
       "      <td>0</td>\n",
       "      <td>NaN</td>\n",
       "      <td>65</td>\n",
       "      <td>среднее</td>\n",
       "      <td>1</td>\n",
       "      <td>гражданский брак</td>\n",
       "      <td>1</td>\n",
       "      <td>M</td>\n",
       "      <td>пенсионер</td>\n",
       "      <td>0</td>\n",
       "      <td>NaN</td>\n",
       "      <td>сыграть свадьбу</td>\n",
       "    </tr>\n",
       "    <tr>\n",
       "      <th>13</th>\n",
       "      <td>0</td>\n",
       "      <td>-1846.641941</td>\n",
       "      <td>54</td>\n",
       "      <td>неоконченное высшее</td>\n",
       "      <td>2</td>\n",
       "      <td>женат / замужем</td>\n",
       "      <td>0</td>\n",
       "      <td>F</td>\n",
       "      <td>сотрудник</td>\n",
       "      <td>0</td>\n",
       "      <td>130458.228857</td>\n",
       "      <td>приобретение автомобиля</td>\n",
       "    </tr>\n",
       "    <tr>\n",
       "      <th>14</th>\n",
       "      <td>0</td>\n",
       "      <td>-1844.956182</td>\n",
       "      <td>56</td>\n",
       "      <td>высшее</td>\n",
       "      <td>0</td>\n",
       "      <td>гражданский брак</td>\n",
       "      <td>1</td>\n",
       "      <td>F</td>\n",
       "      <td>компаньон</td>\n",
       "      <td>1</td>\n",
       "      <td>165127.911772</td>\n",
       "      <td>покупка жилой недвижимости</td>\n",
       "    </tr>\n",
       "    <tr>\n",
       "      <th>15</th>\n",
       "      <td>1</td>\n",
       "      <td>-972.364419</td>\n",
       "      <td>26</td>\n",
       "      <td>среднее</td>\n",
       "      <td>1</td>\n",
       "      <td>женат / замужем</td>\n",
       "      <td>0</td>\n",
       "      <td>F</td>\n",
       "      <td>сотрудник</td>\n",
       "      <td>0</td>\n",
       "      <td>116820.904450</td>\n",
       "      <td>строительство собственной недвижимости</td>\n",
       "    </tr>\n",
       "    <tr>\n",
       "      <th>16</th>\n",
       "      <td>0</td>\n",
       "      <td>-1719.934226</td>\n",
       "      <td>35</td>\n",
       "      <td>среднее</td>\n",
       "      <td>1</td>\n",
       "      <td>женат / замужем</td>\n",
       "      <td>0</td>\n",
       "      <td>F</td>\n",
       "      <td>сотрудник</td>\n",
       "      <td>0</td>\n",
       "      <td>289202.704229</td>\n",
       "      <td>недвижимость</td>\n",
       "    </tr>\n",
       "    <tr>\n",
       "      <th>17</th>\n",
       "      <td>0</td>\n",
       "      <td>-2369.999720</td>\n",
       "      <td>33</td>\n",
       "      <td>высшее</td>\n",
       "      <td>0</td>\n",
       "      <td>гражданский брак</td>\n",
       "      <td>1</td>\n",
       "      <td>M</td>\n",
       "      <td>сотрудник</td>\n",
       "      <td>0</td>\n",
       "      <td>90410.586745</td>\n",
       "      <td>строительство недвижимости</td>\n",
       "    </tr>\n",
       "    <tr>\n",
       "      <th>18</th>\n",
       "      <td>0</td>\n",
       "      <td>400281.136913</td>\n",
       "      <td>53</td>\n",
       "      <td>среднее</td>\n",
       "      <td>1</td>\n",
       "      <td>вдовец / вдова</td>\n",
       "      <td>2</td>\n",
       "      <td>F</td>\n",
       "      <td>пенсионер</td>\n",
       "      <td>0</td>\n",
       "      <td>56823.777243</td>\n",
       "      <td>на покупку подержанного автомобиля</td>\n",
       "    </tr>\n",
       "    <tr>\n",
       "      <th>19</th>\n",
       "      <td>0</td>\n",
       "      <td>-10038.818549</td>\n",
       "      <td>48</td>\n",
       "      <td>СРЕДНЕЕ</td>\n",
       "      <td>1</td>\n",
       "      <td>в разводе</td>\n",
       "      <td>3</td>\n",
       "      <td>F</td>\n",
       "      <td>сотрудник</td>\n",
       "      <td>0</td>\n",
       "      <td>242831.107982</td>\n",
       "      <td>на покупку своего автомобиля</td>\n",
       "    </tr>\n",
       "  </tbody>\n",
       "</table>\n",
       "</div>"
      ],
      "text/plain": [
       "    children  days_employed  dob_years            education  education_id  \\\n",
       "0          1   -8437.673028         42               высшее             0   \n",
       "1          1   -4024.803754         36              среднее             1   \n",
       "2          0   -5623.422610         33              Среднее             1   \n",
       "3          3   -4124.747207         32              среднее             1   \n",
       "4          0  340266.072047         53              среднее             1   \n",
       "5          0    -926.185831         27               высшее             0   \n",
       "6          0   -2879.202052         43               высшее             0   \n",
       "7          0    -152.779569         50              СРЕДНЕЕ             1   \n",
       "8          2   -6929.865299         35               ВЫСШЕЕ             0   \n",
       "9          0   -2188.756445         41              среднее             1   \n",
       "10         2   -4171.483647         36               высшее             0   \n",
       "11         0    -792.701887         40              среднее             1   \n",
       "12         0            NaN         65              среднее             1   \n",
       "13         0   -1846.641941         54  неоконченное высшее             2   \n",
       "14         0   -1844.956182         56               высшее             0   \n",
       "15         1    -972.364419         26              среднее             1   \n",
       "16         0   -1719.934226         35              среднее             1   \n",
       "17         0   -2369.999720         33               высшее             0   \n",
       "18         0  400281.136913         53              среднее             1   \n",
       "19         0  -10038.818549         48              СРЕДНЕЕ             1   \n",
       "\n",
       "       family_status  family_status_id gender income_type  debt  \\\n",
       "0    женат / замужем                 0      F   сотрудник     0   \n",
       "1    женат / замужем                 0      F   сотрудник     0   \n",
       "2    женат / замужем                 0      M   сотрудник     0   \n",
       "3    женат / замужем                 0      M   сотрудник     0   \n",
       "4   гражданский брак                 1      F   пенсионер     0   \n",
       "5   гражданский брак                 1      M   компаньон     0   \n",
       "6    женат / замужем                 0      F   компаньон     0   \n",
       "7    женат / замужем                 0      M   сотрудник     0   \n",
       "8   гражданский брак                 1      F   сотрудник     0   \n",
       "9    женат / замужем                 0      M   сотрудник     0   \n",
       "10   женат / замужем                 0      M   компаньон     0   \n",
       "11   женат / замужем                 0      F   сотрудник     0   \n",
       "12  гражданский брак                 1      M   пенсионер     0   \n",
       "13   женат / замужем                 0      F   сотрудник     0   \n",
       "14  гражданский брак                 1      F   компаньон     1   \n",
       "15   женат / замужем                 0      F   сотрудник     0   \n",
       "16   женат / замужем                 0      F   сотрудник     0   \n",
       "17  гражданский брак                 1      M   сотрудник     0   \n",
       "18    вдовец / вдова                 2      F   пенсионер     0   \n",
       "19         в разводе                 3      F   сотрудник     0   \n",
       "\n",
       "     total_income                                 purpose  \n",
       "0   253875.639453                           покупка жилья  \n",
       "1   112080.014102                 приобретение автомобиля  \n",
       "2   145885.952297                           покупка жилья  \n",
       "3   267628.550329              дополнительное образование  \n",
       "4   158616.077870                         сыграть свадьбу  \n",
       "5   255763.565419                           покупка жилья  \n",
       "6   240525.971920                       операции с жильем  \n",
       "7   135823.934197                             образование  \n",
       "8    95856.832424                   на проведение свадьбы  \n",
       "9   144425.938277                 покупка жилья для семьи  \n",
       "10  113943.491460                    покупка недвижимости  \n",
       "11   77069.234271       покупка коммерческой недвижимости  \n",
       "12            NaN                         сыграть свадьбу  \n",
       "13  130458.228857                 приобретение автомобиля  \n",
       "14  165127.911772              покупка жилой недвижимости  \n",
       "15  116820.904450  строительство собственной недвижимости  \n",
       "16  289202.704229                            недвижимость  \n",
       "17   90410.586745              строительство недвижимости  \n",
       "18   56823.777243      на покупку подержанного автомобиля  \n",
       "19  242831.107982            на покупку своего автомобиля  "
      ]
     },
     "execution_count": 2,
     "metadata": {},
     "output_type": "execute_result"
    }
   ],
   "source": [
    "data.head(20)"
   ]
  },
  {
   "cell_type": "markdown",
   "id": "1c12e233",
   "metadata": {
    "deletable": false,
    "id": "1c12e233"
   },
   "source": [
    "**Задание 3. Выведите основную информацию о датафрейме с помощью метода `info()`.**"
   ]
  },
  {
   "cell_type": "code",
   "execution_count": 3,
   "id": "2b757bca",
   "metadata": {
    "deletable": false,
    "id": "2b757bca",
    "outputId": "15376089-8dad-46c9-b520-c05248d43158"
   },
   "outputs": [
    {
     "name": "stdout",
     "output_type": "stream",
     "text": [
      "<class 'pandas.core.frame.DataFrame'>\n",
      "RangeIndex: 21525 entries, 0 to 21524\n",
      "Data columns (total 12 columns):\n",
      " #   Column            Non-Null Count  Dtype  \n",
      "---  ------            --------------  -----  \n",
      " 0   children          21525 non-null  int64  \n",
      " 1   days_employed     19351 non-null  float64\n",
      " 2   dob_years         21525 non-null  int64  \n",
      " 3   education         21525 non-null  object \n",
      " 4   education_id      21525 non-null  int64  \n",
      " 5   family_status     21525 non-null  object \n",
      " 6   family_status_id  21525 non-null  int64  \n",
      " 7   gender            21525 non-null  object \n",
      " 8   income_type       21525 non-null  object \n",
      " 9   debt              21525 non-null  int64  \n",
      " 10  total_income      19351 non-null  float64\n",
      " 11  purpose           21525 non-null  object \n",
      "dtypes: float64(2), int64(5), object(5)\n",
      "memory usage: 2.0+ MB\n"
     ]
    }
   ],
   "source": [
    "data.info()"
   ]
  },
  {
   "cell_type": "markdown",
   "id": "333ec665",
   "metadata": {
    "deletable": false,
    "id": "333ec665"
   },
   "source": [
    "## Предобработка данных"
   ]
  },
  {
   "cell_type": "markdown",
   "id": "02d92d53",
   "metadata": {
    "deletable": false,
    "id": "02d92d53"
   },
   "source": [
    "### Удаление пропусков"
   ]
  },
  {
   "cell_type": "markdown",
   "id": "cd84967c",
   "metadata": {
    "deletable": false,
    "id": "cd84967c"
   },
   "source": [
    "**Задание 4. Выведите количество пропущенных значений для каждого столбца. Используйте комбинацию двух методов.**"
   ]
  },
  {
   "cell_type": "code",
   "execution_count": 4,
   "id": "7f9b2309",
   "metadata": {
    "deletable": false,
    "id": "7f9b2309",
    "outputId": "81f4d817-781c-465c-ed15-91ce4446810d"
   },
   "outputs": [
    {
     "data": {
      "text/plain": [
       "children               0\n",
       "days_employed       2174\n",
       "dob_years              0\n",
       "education              0\n",
       "education_id           0\n",
       "family_status          0\n",
       "family_status_id       0\n",
       "gender                 0\n",
       "income_type            0\n",
       "debt                   0\n",
       "total_income        2174\n",
       "purpose                0\n",
       "dtype: int64"
      ]
     },
     "execution_count": 4,
     "metadata": {},
     "output_type": "execute_result"
    }
   ],
   "source": [
    "data.isna().sum()"
   ]
  },
  {
   "cell_type": "markdown",
   "id": "db86e27b",
   "metadata": {
    "deletable": false,
    "id": "db86e27b"
   },
   "source": [
    "**Задание 5. В двух столбцах есть пропущенные значения. Один из них — `days_employed`. Пропуски в этом столбце вы обработаете на следующем этапе. Другой столбец с пропущенными значениями — `total_income` — хранит данные о доходах. На сумму дохода сильнее всего влияет тип занятости, поэтому заполнить пропуски в этом столбце нужно медианным значением по каждому типу из столбца `income_type`. Например, у человека с типом занятости `сотрудник` пропуск в столбце `total_income` должен быть заполнен медианным доходом среди всех записей с тем же типом.**"
   ]
  },
  {
   "cell_type": "code",
   "execution_count": 5,
   "id": "42006a93",
   "metadata": {
    "deletable": false,
    "id": "42006a93"
   },
   "outputs": [],
   "source": [
    "for t in data['income_type'].unique():\n",
    "    data.loc[(data['income_type'] == t) & (data['total_income'].isna()), 'total_income'] = \\\n",
    "    data.loc[(data['income_type'] == t), 'total_income'].median()"
   ]
  },
  {
   "cell_type": "markdown",
   "id": "89da5ece",
   "metadata": {
    "deletable": false,
    "id": "89da5ece"
   },
   "source": [
    "### Обработка аномальных значений"
   ]
  },
  {
   "cell_type": "markdown",
   "id": "57964554",
   "metadata": {
    "deletable": false,
    "id": "57964554"
   },
   "source": [
    "**Задание 6. В данных могут встречаться артефакты (аномалии) — значения, которые не отражают действительность и появились по какой-то ошибке. таким артефактом будет отрицательное количество дней трудового стажа в столбце `days_employed`. Для реальных данных это нормально. Обработайте значения в этом столбце: замените все отрицательные значения положительными с помощью метода `abs()`.**"
   ]
  },
  {
   "cell_type": "code",
   "execution_count": 6,
   "id": "f6f055bf",
   "metadata": {
    "deletable": false,
    "id": "f6f055bf"
   },
   "outputs": [],
   "source": [
    "data['days_employed'] = data['days_employed'].abs()"
   ]
  },
  {
   "cell_type": "markdown",
   "id": "6107dd2f",
   "metadata": {
    "deletable": false,
    "id": "6107dd2f"
   },
   "source": [
    "**Задание 7. Для каждого типа занятости выведите медианное значение трудового стажа `days_employed` в днях.**"
   ]
  },
  {
   "cell_type": "code",
   "execution_count": 7,
   "id": "85a5faf6",
   "metadata": {
    "deletable": false,
    "id": "85a5faf6",
    "outputId": "801ef80e-522b-4668-f34e-565af7432bcf"
   },
   "outputs": [
    {
     "data": {
      "text/plain": [
       "income_type\n",
       "безработный        366413.652744\n",
       "в декрете            3296.759962\n",
       "госслужащий          2689.368353\n",
       "компаньон            1547.382223\n",
       "пенсионер          365213.306266\n",
       "предприниматель       520.848083\n",
       "сотрудник            1574.202821\n",
       "студент               578.751554\n",
       "Name: days_employed, dtype: float64"
      ]
     },
     "execution_count": 7,
     "metadata": {},
     "output_type": "execute_result"
    }
   ],
   "source": [
    "data.groupby('income_type')['days_employed'].agg('median')"
   ]
  },
  {
   "cell_type": "markdown",
   "id": "38d1a030",
   "metadata": {
    "deletable": false,
    "id": "38d1a030"
   },
   "source": [
    "У двух типов (безработные и пенсионеры) получатся аномально большие значения. Исправить такие значения сложно, поэтому оставьте их как есть. Тем более этот столбец не понадобится вам для исследования."
   ]
  },
  {
   "cell_type": "markdown",
   "id": "d8a9f147",
   "metadata": {
    "deletable": false,
    "id": "d8a9f147"
   },
   "source": [
    "**Задание 8. Выведите перечень уникальных значений столбца `children`.**"
   ]
  },
  {
   "cell_type": "code",
   "execution_count": 8,
   "id": "ef5056eb",
   "metadata": {
    "deletable": false,
    "id": "ef5056eb",
    "outputId": "6975b15c-7f95-4697-d16d-a0c79b657b03"
   },
   "outputs": [
    {
     "data": {
      "text/plain": [
       "array([ 1,  0,  3,  2, -1,  4, 20,  5])"
      ]
     },
     "execution_count": 8,
     "metadata": {},
     "output_type": "execute_result"
    }
   ],
   "source": [
    "data['children'].unique()"
   ]
  },
  {
   "cell_type": "markdown",
   "id": "40b9ebf2",
   "metadata": {
    "deletable": false,
    "id": "40b9ebf2"
   },
   "source": [
    "**Задание 9. В столбце `children` есть два аномальных значения. Удалите строки, в которых встречаются такие аномальные значения из датафрейма `data`.**"
   ]
  },
  {
   "cell_type": "code",
   "execution_count": 9,
   "id": "3ff9801d",
   "metadata": {
    "deletable": false,
    "id": "3ff9801d"
   },
   "outputs": [],
   "source": [
    "data = data[(data['children'] != -1) & (data['children'] != 20)]"
   ]
  },
  {
   "cell_type": "markdown",
   "id": "bbc4d0ce",
   "metadata": {
    "deletable": false,
    "id": "bbc4d0ce"
   },
   "source": [
    "**Задание 10. Ещё раз выведите перечень уникальных значений столбца `children`, чтобы убедиться, что артефакты удалены.**"
   ]
  },
  {
   "cell_type": "code",
   "execution_count": 10,
   "id": "ad4fa8b7",
   "metadata": {
    "deletable": false,
    "id": "ad4fa8b7",
    "outputId": "b2097101-d49d-44d9-901b-32a65c9463d1"
   },
   "outputs": [
    {
     "data": {
      "text/plain": [
       "array([1, 0, 3, 2, 4, 5])"
      ]
     },
     "execution_count": 10,
     "metadata": {},
     "output_type": "execute_result"
    }
   ],
   "source": [
    "data['children'].unique()"
   ]
  },
  {
   "cell_type": "markdown",
   "id": "75440b63",
   "metadata": {
    "deletable": false,
    "id": "75440b63"
   },
   "source": [
    "### Удаление пропусков (продолжение)"
   ]
  },
  {
   "cell_type": "markdown",
   "id": "f4ea573f",
   "metadata": {
    "deletable": false,
    "id": "f4ea573f"
   },
   "source": [
    "**Задание 11. Заполните пропуски в столбце `days_employed` медианными значениями по каждого типа занятости `income_type`.**"
   ]
  },
  {
   "cell_type": "code",
   "execution_count": 11,
   "id": "af6b1a7e",
   "metadata": {
    "deletable": false,
    "id": "af6b1a7e"
   },
   "outputs": [],
   "source": [
    "for t in data['income_type'].unique():\n",
    "    data.loc[(data['income_type'] == t) & (data['days_employed'].isna()), 'days_employed'] = \\\n",
    "    data.loc[(data['income_type'] == t), 'days_employed'].median()"
   ]
  },
  {
   "cell_type": "markdown",
   "id": "2753f40d",
   "metadata": {
    "deletable": false,
    "id": "2753f40d"
   },
   "source": [
    "**Задание 12. Убедитесь, что все пропуски заполнены. Проверьте себя и ещё раз выведите количество пропущенных значений для каждого столбца с помощью двух методов.**"
   ]
  },
  {
   "cell_type": "code",
   "execution_count": 12,
   "id": "55f78bc2",
   "metadata": {
    "deletable": false,
    "id": "55f78bc2",
    "outputId": "8da1e4e1-358e-4e87-98c9-f261bce0a7b2"
   },
   "outputs": [
    {
     "data": {
      "text/plain": [
       "children            0\n",
       "days_employed       0\n",
       "dob_years           0\n",
       "education           0\n",
       "education_id        0\n",
       "family_status       0\n",
       "family_status_id    0\n",
       "gender              0\n",
       "income_type         0\n",
       "debt                0\n",
       "total_income        0\n",
       "purpose             0\n",
       "dtype: int64"
      ]
     },
     "execution_count": 12,
     "metadata": {},
     "output_type": "execute_result"
    }
   ],
   "source": [
    "data.isna().sum()"
   ]
  },
  {
   "cell_type": "markdown",
   "id": "ddc81e43",
   "metadata": {
    "deletable": false,
    "id": "ddc81e43"
   },
   "source": [
    "### Изменение типов данных"
   ]
  },
  {
   "cell_type": "markdown",
   "id": "42d19d24",
   "metadata": {
    "deletable": false,
    "id": "42d19d24"
   },
   "source": [
    "**Задание 13. Замените вещественный тип данных в столбце `total_income` на целочисленный с помощью метода `astype()`.**"
   ]
  },
  {
   "cell_type": "code",
   "execution_count": 13,
   "id": "920b65ad",
   "metadata": {
    "deletable": false,
    "id": "920b65ad"
   },
   "outputs": [],
   "source": [
    "data['total_income'] = data['total_income'].astype(int)"
   ]
  },
  {
   "cell_type": "markdown",
   "id": "80c420ba",
   "metadata": {
    "deletable": false,
    "id": "80c420ba"
   },
   "source": [
    "### Обработка дубликатов"
   ]
  },
  {
   "cell_type": "markdown",
   "id": "dc587695",
   "metadata": {
    "deletable": false,
    "id": "dc587695"
   },
   "source": [
    "**Задание 14. Выведите на экран количество строк-дубликатов в данных. Если такие строки присутствуют, удалите их.**"
   ]
  },
  {
   "cell_type": "code",
   "execution_count": 14,
   "id": "3ee445e4",
   "metadata": {
    "deletable": false,
    "id": "3ee445e4",
    "outputId": "9684deba-1934-42d1-99e1-cda61740f822"
   },
   "outputs": [
    {
     "data": {
      "text/plain": [
       "54"
      ]
     },
     "execution_count": 14,
     "metadata": {},
     "output_type": "execute_result"
    }
   ],
   "source": [
    "data.duplicated().sum()"
   ]
  },
  {
   "cell_type": "code",
   "execution_count": 15,
   "id": "8575fe05",
   "metadata": {
    "deletable": false,
    "id": "8575fe05"
   },
   "outputs": [],
   "source": [
    "data = data.drop_duplicates()"
   ]
  },
  {
   "cell_type": "markdown",
   "id": "9771a76c",
   "metadata": {
    "deletable": false,
    "id": "9771a76c"
   },
   "source": [
    "**Задание 15. Обработайте неявные дубликаты в столбце `education`. В этом столбце есть одни и те же значения, но записанные по-разному: с использованием заглавных и строчных букв. Приведите их к нижнему регистру. Проверьте остальные столбцы.**"
   ]
  },
  {
   "cell_type": "code",
   "execution_count": 16,
   "id": "a9f8e2bf",
   "metadata": {
    "deletable": false,
    "id": "a9f8e2bf"
   },
   "outputs": [],
   "source": [
    "data['education'] = data['education'].str.lower()"
   ]
  },
  {
   "cell_type": "markdown",
   "id": "9904cf55",
   "metadata": {
    "deletable": false,
    "id": "9904cf55"
   },
   "source": [
    "### Категоризация данных"
   ]
  },
  {
   "cell_type": "markdown",
   "id": "72fcc8a2",
   "metadata": {
    "deletable": false,
    "id": "72fcc8a2"
   },
   "source": [
    "**Задание 16. На основании диапазонов, указанных ниже, создайте в датафрейме `data` столбец `total_income_category` с категориями:**\n",
    "\n",
    "- 0–30000 — `'E'`;\n",
    "- 30001–50000 — `'D'`;\n",
    "- 50001–200000 — `'C'`;\n",
    "- 200001–1000000 — `'B'`;\n",
    "- 1000001 и выше — `'A'`.\n",
    "\n",
    "\n",
    "**Например, кредитополучателю с доходом 25000 нужно назначить категорию `'E'`, а клиенту, получающему 235000, — `'B'`. Используйте собственную функцию с именем `categorize_income()` и метод `apply()`.**"
   ]
  },
  {
   "cell_type": "code",
   "execution_count": 17,
   "id": "e1771346",
   "metadata": {
    "deletable": false,
    "id": "e1771346"
   },
   "outputs": [],
   "source": [
    "def categorize_income(income):\n",
    "    try:\n",
    "        if 0 <= income <= 30000:\n",
    "            return 'E'\n",
    "        elif 30001 <= income <= 50000:\n",
    "            return 'D'\n",
    "        elif 50001 <= income <= 200000:\n",
    "            return 'C'\n",
    "        elif 200001 <= income <= 1000000:\n",
    "            return 'B'\n",
    "        elif income >= 1000001:\n",
    "            return 'A'\n",
    "    except:\n",
    "        pass"
   ]
  },
  {
   "cell_type": "code",
   "execution_count": 18,
   "id": "d5f3586d",
   "metadata": {
    "deletable": false,
    "id": "d5f3586d"
   },
   "outputs": [],
   "source": [
    "data['total_income_category'] = data['total_income'].apply(categorize_income)"
   ]
  },
  {
   "cell_type": "markdown",
   "id": "dde49b5c",
   "metadata": {
    "deletable": false,
    "id": "dde49b5c"
   },
   "source": [
    "**Задание 17. Выведите на экран перечень уникальных целей взятия кредита из столбца `purpose`.**"
   ]
  },
  {
   "cell_type": "code",
   "execution_count": 19,
   "id": "f67ce9b3",
   "metadata": {
    "deletable": false,
    "id": "f67ce9b3",
    "outputId": "673c12d9-7d7e-4ae0-9812-c622c89dd244"
   },
   "outputs": [
    {
     "data": {
      "text/plain": [
       "array(['покупка жилья', 'приобретение автомобиля',\n",
       "       'дополнительное образование', 'сыграть свадьбу',\n",
       "       'операции с жильем', 'образование', 'на проведение свадьбы',\n",
       "       'покупка жилья для семьи', 'покупка недвижимости',\n",
       "       'покупка коммерческой недвижимости', 'покупка жилой недвижимости',\n",
       "       'строительство собственной недвижимости', 'недвижимость',\n",
       "       'строительство недвижимости', 'на покупку подержанного автомобиля',\n",
       "       'на покупку своего автомобиля',\n",
       "       'операции с коммерческой недвижимостью',\n",
       "       'строительство жилой недвижимости', 'жилье',\n",
       "       'операции со своей недвижимостью', 'автомобили',\n",
       "       'заняться образованием', 'сделка с подержанным автомобилем',\n",
       "       'получение образования', 'автомобиль', 'свадьба',\n",
       "       'получение дополнительного образования', 'покупка своего жилья',\n",
       "       'операции с недвижимостью', 'получение высшего образования',\n",
       "       'свой автомобиль', 'сделка с автомобилем',\n",
       "       'профильное образование', 'высшее образование',\n",
       "       'покупка жилья для сдачи', 'на покупку автомобиля', 'ремонт жилью',\n",
       "       'заняться высшим образованием'], dtype=object)"
      ]
     },
     "execution_count": 19,
     "metadata": {},
     "output_type": "execute_result"
    }
   ],
   "source": [
    "data['purpose'].unique()"
   ]
  },
  {
   "cell_type": "markdown",
   "id": "85d0aef0",
   "metadata": {
    "deletable": false,
    "id": "85d0aef0"
   },
   "source": [
    "**Задание 18. Создайте функцию, которая на основании данных из столбца `purpose` сформирует новый столбец `purpose_category`, в который войдут следующие категории:**\n",
    "\n",
    "- `'операции с автомобилем'`,\n",
    "- `'операции с недвижимостью'`,\n",
    "- `'проведение свадьбы'`,\n",
    "- `'получение образования'`.\n",
    "\n",
    "**Например, если в столбце `purpose` находится подстрока `'на покупку автомобиля'`, то в столбце `purpose_category` должна появиться строка `'операции с автомобилем'`.**\n",
    "\n",
    "**Используйте собственную функцию с именем `categorize_purpose()` и метод `apply()`. Изучите данные в столбце `purpose` и определите, какие подстроки помогут вам правильно определить категорию.**"
   ]
  },
  {
   "cell_type": "code",
   "execution_count": 20,
   "id": "e149fab4",
   "metadata": {
    "deletable": false,
    "id": "e149fab4"
   },
   "outputs": [],
   "source": [
    "def categorize_purpose(row):\n",
    "    try:\n",
    "        if 'автом' in row:\n",
    "            return 'операции с автомобилем'\n",
    "        elif 'жил' in row or 'недвиж' in row:\n",
    "            return 'операции с недвижимостью'\n",
    "        elif 'свад' in row:\n",
    "            return 'проведение свадьбы'\n",
    "        elif 'образов' in row:\n",
    "            return 'получение образования'\n",
    "    except:\n",
    "        return 'нет категории'"
   ]
  },
  {
   "cell_type": "code",
   "execution_count": 21,
   "id": "bf36e69b",
   "metadata": {
    "deletable": false,
    "id": "bf36e69b"
   },
   "outputs": [],
   "source": [
    "data['purpose_category'] = data['purpose'].apply(categorize_purpose)"
   ]
  },
  {
   "cell_type": "markdown",
   "id": "09b242bf",
   "metadata": {
    "deletable": false,
    "editable": false,
    "id": "09b242bf"
   },
   "source": [
    "## Исследуйте данные и ответьте на вопросы"
   ]
  },
  {
   "cell_type": "markdown",
   "id": "c5d66278",
   "metadata": {
    "deletable": false,
    "editable": false,
    "id": "c5d66278"
   },
   "source": [
    "**Задание 19. Есть ли зависимость между количеством детей и возвратом кредита в срок?**"
   ]
  },
  {
   "cell_type": "code",
   "execution_count": 22,
   "id": "2cacfc4a",
   "metadata": {
    "id": "2cacfc4a"
   },
   "outputs": [
    {
     "data": {
      "text/html": [
       "<div>\n",
       "<style scoped>\n",
       "    .dataframe tbody tr th:only-of-type {\n",
       "        vertical-align: middle;\n",
       "    }\n",
       "\n",
       "    .dataframe tbody tr th {\n",
       "        vertical-align: top;\n",
       "    }\n",
       "\n",
       "    .dataframe thead tr th {\n",
       "        text-align: left;\n",
       "    }\n",
       "\n",
       "    .dataframe thead tr:last-of-type th {\n",
       "        text-align: right;\n",
       "    }\n",
       "</style>\n",
       "<table border=\"1\" class=\"dataframe\">\n",
       "  <thead>\n",
       "    <tr>\n",
       "      <th></th>\n",
       "      <th>len</th>\n",
       "      <th>sum</th>\n",
       "      <th>percent</th>\n",
       "    </tr>\n",
       "    <tr>\n",
       "      <th></th>\n",
       "      <th>debt</th>\n",
       "      <th>debt</th>\n",
       "      <th>debt</th>\n",
       "    </tr>\n",
       "    <tr>\n",
       "      <th>children</th>\n",
       "      <th></th>\n",
       "      <th></th>\n",
       "      <th></th>\n",
       "    </tr>\n",
       "  </thead>\n",
       "  <tbody>\n",
       "    <tr>\n",
       "      <th>0</th>\n",
       "      <td>14107</td>\n",
       "      <td>1063</td>\n",
       "      <td>7.535266</td>\n",
       "    </tr>\n",
       "    <tr>\n",
       "      <th>1</th>\n",
       "      <td>4809</td>\n",
       "      <td>444</td>\n",
       "      <td>9.232689</td>\n",
       "    </tr>\n",
       "    <tr>\n",
       "      <th>2</th>\n",
       "      <td>2052</td>\n",
       "      <td>194</td>\n",
       "      <td>9.454191</td>\n",
       "    </tr>\n",
       "    <tr>\n",
       "      <th>3</th>\n",
       "      <td>330</td>\n",
       "      <td>27</td>\n",
       "      <td>8.181818</td>\n",
       "    </tr>\n",
       "    <tr>\n",
       "      <th>4</th>\n",
       "      <td>41</td>\n",
       "      <td>4</td>\n",
       "      <td>9.756098</td>\n",
       "    </tr>\n",
       "    <tr>\n",
       "      <th>5</th>\n",
       "      <td>9</td>\n",
       "      <td>0</td>\n",
       "      <td>0.000000</td>\n",
       "    </tr>\n",
       "  </tbody>\n",
       "</table>\n",
       "</div>"
      ],
      "text/plain": [
       "            len   sum   percent\n",
       "           debt  debt      debt\n",
       "children                       \n",
       "0         14107  1063  7.535266\n",
       "1          4809   444  9.232689\n",
       "2          2052   194  9.454191\n",
       "3           330    27  8.181818\n",
       "4            41     4  9.756098\n",
       "5             9     0  0.000000"
      ]
     },
     "execution_count": 22,
     "metadata": {},
     "output_type": "execute_result"
    }
   ],
   "source": [
    "def percent(data):\n",
    "    return data.mean() * 100 # создаю функцию, которая переведет значения в процентный вид.\n",
    "\n",
    "pd.pivot_table(data, # исходный датафрейм.\n",
    "              index = ['children'], # ключ для группировки по индексу.\n",
    "              values = ['debt'], # столбец для агрегирования.\n",
    "              aggfunc = [len, sum, percent]) # указываю, что делать с повторяющимися значениями."
   ]
  },
  {
   "cell_type": "code",
   "execution_count": 23,
   "id": "f8fbb6fd",
   "metadata": {},
   "outputs": [
    {
     "data": {
      "text/html": [
       "<div>\n",
       "<style scoped>\n",
       "    .dataframe tbody tr th:only-of-type {\n",
       "        vertical-align: middle;\n",
       "    }\n",
       "\n",
       "    .dataframe tbody tr th {\n",
       "        vertical-align: top;\n",
       "    }\n",
       "\n",
       "    .dataframe thead tr th {\n",
       "        text-align: left;\n",
       "    }\n",
       "\n",
       "    .dataframe thead tr:last-of-type th {\n",
       "        text-align: right;\n",
       "    }\n",
       "</style>\n",
       "<table border=\"1\" class=\"dataframe\">\n",
       "  <thead>\n",
       "    <tr>\n",
       "      <th></th>\n",
       "      <th>len</th>\n",
       "      <th>sum</th>\n",
       "      <th>&lt;lambda&gt;</th>\n",
       "    </tr>\n",
       "    <tr>\n",
       "      <th></th>\n",
       "      <th>debt</th>\n",
       "      <th>debt</th>\n",
       "      <th>debt</th>\n",
       "    </tr>\n",
       "    <tr>\n",
       "      <th>children</th>\n",
       "      <th></th>\n",
       "      <th></th>\n",
       "      <th></th>\n",
       "    </tr>\n",
       "  </thead>\n",
       "  <tbody>\n",
       "    <tr>\n",
       "      <th>0</th>\n",
       "      <td>14107</td>\n",
       "      <td>1063</td>\n",
       "      <td>7.535266</td>\n",
       "    </tr>\n",
       "    <tr>\n",
       "      <th>1</th>\n",
       "      <td>4809</td>\n",
       "      <td>444</td>\n",
       "      <td>9.232689</td>\n",
       "    </tr>\n",
       "    <tr>\n",
       "      <th>2</th>\n",
       "      <td>2052</td>\n",
       "      <td>194</td>\n",
       "      <td>9.454191</td>\n",
       "    </tr>\n",
       "    <tr>\n",
       "      <th>3</th>\n",
       "      <td>330</td>\n",
       "      <td>27</td>\n",
       "      <td>8.181818</td>\n",
       "    </tr>\n",
       "    <tr>\n",
       "      <th>4</th>\n",
       "      <td>41</td>\n",
       "      <td>4</td>\n",
       "      <td>9.756098</td>\n",
       "    </tr>\n",
       "    <tr>\n",
       "      <th>5</th>\n",
       "      <td>9</td>\n",
       "      <td>0</td>\n",
       "      <td>0.000000</td>\n",
       "    </tr>\n",
       "  </tbody>\n",
       "</table>\n",
       "</div>"
      ],
      "text/plain": [
       "            len   sum  <lambda>\n",
       "           debt  debt      debt\n",
       "children                       \n",
       "0         14107  1063  7.535266\n",
       "1          4809   444  9.232689\n",
       "2          2052   194  9.454191\n",
       "3           330    27  8.181818\n",
       "4            41     4  9.756098\n",
       "5             9     0  0.000000"
      ]
     },
     "execution_count": 23,
     "metadata": {},
     "output_type": "execute_result"
    }
   ],
   "source": [
    "pd.pivot_table(data, # исходный датафрейм.\n",
    "              index = ['children'], # ключ для группировки по индексу.\n",
    "              values = ['debt'], # столбец для агрегирования.\n",
    "              aggfunc = [len, sum, lambda x : x.mean() * 100]) # указываю, что делать с повторяющимися значениями."
   ]
  },
  {
   "cell_type": "markdown",
   "id": "3a6b99ec",
   "metadata": {
    "deletable": false,
    "id": "3a6b99ec"
   },
   "source": [
    "**Вывод:** \n",
    "Процент невозврата кредита в срок едва ли зависит от количества детей в семье, т.к. значения отличаются друг от друга слишком слабо, чтобы делать какие-либо предположения. К тому же по семьям с 4 и 5 детьми данный датасет дает слишком маленькую выборку, чтобы исследование было объективным.\n",
    "Семей с пятью детьми у нас показано всего девять и все они вернули кредит в срок. Если бы количество таких семей было бы на порядок больше - скорее всего, мы получили бы совсем другие значения."
   ]
  },
  {
   "cell_type": "code",
   "execution_count": 24,
   "id": "1e1c4e0a",
   "metadata": {},
   "outputs": [
    {
     "data": {
      "text/html": [
       "<style  type=\"text/css\" >\n",
       "</style><table id=\"T_1a15b_\" ><thead>    <tr>        <th class=\"blank level0\" ></th>        <th class=\"col_heading level0 col0\" >число_клиентов</th>        <th class=\"col_heading level0 col1\" >число_должников</th>        <th class=\"col_heading level0 col2\" >доля_должников</th>    </tr>    <tr>        <th class=\"index_name level0\" >children</th>        <th class=\"blank\" ></th>        <th class=\"blank\" ></th>        <th class=\"blank\" ></th>    </tr></thead><tbody>\n",
       "                <tr>\n",
       "                        <th id=\"T_1a15b_level0_row0\" class=\"row_heading level0 row0\" >0</th>\n",
       "                        <td id=\"T_1a15b_row0_col0\" class=\"data row0 col0\" >14107</td>\n",
       "                        <td id=\"T_1a15b_row0_col1\" class=\"data row0 col1\" >1063</td>\n",
       "                        <td id=\"T_1a15b_row0_col2\" class=\"data row0 col2\" >7.54%</td>\n",
       "            </tr>\n",
       "            <tr>\n",
       "                        <th id=\"T_1a15b_level0_row1\" class=\"row_heading level0 row1\" >1</th>\n",
       "                        <td id=\"T_1a15b_row1_col0\" class=\"data row1 col0\" >4809</td>\n",
       "                        <td id=\"T_1a15b_row1_col1\" class=\"data row1 col1\" >444</td>\n",
       "                        <td id=\"T_1a15b_row1_col2\" class=\"data row1 col2\" >9.23%</td>\n",
       "            </tr>\n",
       "            <tr>\n",
       "                        <th id=\"T_1a15b_level0_row2\" class=\"row_heading level0 row2\" >2</th>\n",
       "                        <td id=\"T_1a15b_row2_col0\" class=\"data row2 col0\" >2052</td>\n",
       "                        <td id=\"T_1a15b_row2_col1\" class=\"data row2 col1\" >194</td>\n",
       "                        <td id=\"T_1a15b_row2_col2\" class=\"data row2 col2\" >9.45%</td>\n",
       "            </tr>\n",
       "            <tr>\n",
       "                        <th id=\"T_1a15b_level0_row3\" class=\"row_heading level0 row3\" >3</th>\n",
       "                        <td id=\"T_1a15b_row3_col0\" class=\"data row3 col0\" >330</td>\n",
       "                        <td id=\"T_1a15b_row3_col1\" class=\"data row3 col1\" >27</td>\n",
       "                        <td id=\"T_1a15b_row3_col2\" class=\"data row3 col2\" >8.18%</td>\n",
       "            </tr>\n",
       "            <tr>\n",
       "                        <th id=\"T_1a15b_level0_row4\" class=\"row_heading level0 row4\" >4</th>\n",
       "                        <td id=\"T_1a15b_row4_col0\" class=\"data row4 col0\" >41</td>\n",
       "                        <td id=\"T_1a15b_row4_col1\" class=\"data row4 col1\" >4</td>\n",
       "                        <td id=\"T_1a15b_row4_col2\" class=\"data row4 col2\" >9.76%</td>\n",
       "            </tr>\n",
       "            <tr>\n",
       "                        <th id=\"T_1a15b_level0_row5\" class=\"row_heading level0 row5\" >5</th>\n",
       "                        <td id=\"T_1a15b_row5_col0\" class=\"data row5 col0\" >9</td>\n",
       "                        <td id=\"T_1a15b_row5_col1\" class=\"data row5 col1\" >0</td>\n",
       "                        <td id=\"T_1a15b_row5_col2\" class=\"data row5 col2\" >0.00%</td>\n",
       "            </tr>\n",
       "    </tbody></table>"
      ],
      "text/plain": [
       "<pandas.io.formats.style.Styler at 0x7f6eb0fc9af0>"
      ]
     },
     "execution_count": 24,
     "metadata": {},
     "output_type": "execute_result"
    }
   ],
   "source": [
    "data.groupby('children').agg(число_клиентов=('debt','count'),\n",
    "                             число_должников=('debt','sum'),\n",
    "                             доля_должников=('debt','mean')) \\\n",
    "                        .style.format({'доля_должников' : '{:.2%}'})"
   ]
  },
  {
   "cell_type": "markdown",
   "id": "97be82ca",
   "metadata": {
    "deletable": false,
    "editable": false,
    "id": "97be82ca"
   },
   "source": [
    "**Задание 20. Есть ли зависимость между семейным положением и возвратом кредита в срок?**"
   ]
  },
  {
   "cell_type": "code",
   "execution_count": 25,
   "id": "dc3f7ee8",
   "metadata": {
    "id": "dc3f7ee8"
   },
   "outputs": [
    {
     "data": {
      "text/html": [
       "<div>\n",
       "<style scoped>\n",
       "    .dataframe tbody tr th:only-of-type {\n",
       "        vertical-align: middle;\n",
       "    }\n",
       "\n",
       "    .dataframe tbody tr th {\n",
       "        vertical-align: top;\n",
       "    }\n",
       "\n",
       "    .dataframe thead tr th {\n",
       "        text-align: left;\n",
       "    }\n",
       "\n",
       "    .dataframe thead tr:last-of-type th {\n",
       "        text-align: right;\n",
       "    }\n",
       "</style>\n",
       "<table border=\"1\" class=\"dataframe\">\n",
       "  <thead>\n",
       "    <tr>\n",
       "      <th></th>\n",
       "      <th>len</th>\n",
       "      <th>sum</th>\n",
       "      <th>percent</th>\n",
       "    </tr>\n",
       "    <tr>\n",
       "      <th></th>\n",
       "      <th>debt</th>\n",
       "      <th>debt</th>\n",
       "      <th>debt</th>\n",
       "    </tr>\n",
       "    <tr>\n",
       "      <th>family_status</th>\n",
       "      <th></th>\n",
       "      <th></th>\n",
       "      <th></th>\n",
       "    </tr>\n",
       "  </thead>\n",
       "  <tbody>\n",
       "    <tr>\n",
       "      <th>Не женат / не замужем</th>\n",
       "      <td>2796</td>\n",
       "      <td>273</td>\n",
       "      <td>9.763948</td>\n",
       "    </tr>\n",
       "    <tr>\n",
       "      <th>в разводе</th>\n",
       "      <td>1189</td>\n",
       "      <td>84</td>\n",
       "      <td>7.064760</td>\n",
       "    </tr>\n",
       "    <tr>\n",
       "      <th>вдовец / вдова</th>\n",
       "      <td>951</td>\n",
       "      <td>63</td>\n",
       "      <td>6.624606</td>\n",
       "    </tr>\n",
       "    <tr>\n",
       "      <th>гражданский брак</th>\n",
       "      <td>4146</td>\n",
       "      <td>385</td>\n",
       "      <td>9.286059</td>\n",
       "    </tr>\n",
       "    <tr>\n",
       "      <th>женат / замужем</th>\n",
       "      <td>12266</td>\n",
       "      <td>927</td>\n",
       "      <td>7.557476</td>\n",
       "    </tr>\n",
       "  </tbody>\n",
       "</table>\n",
       "</div>"
      ],
      "text/plain": [
       "                         len  sum   percent\n",
       "                        debt debt      debt\n",
       "family_status                              \n",
       "Не женат / не замужем   2796  273  9.763948\n",
       "в разводе               1189   84  7.064760\n",
       "вдовец / вдова           951   63  6.624606\n",
       "гражданский брак        4146  385  9.286059\n",
       "женат / замужем        12266  927  7.557476"
      ]
     },
     "execution_count": 25,
     "metadata": {},
     "output_type": "execute_result"
    }
   ],
   "source": [
    "def percent(data):\n",
    "    return data.mean() * 100\n",
    "\n",
    "pd.pivot_table(data,\n",
    "              index = ['family_status'],\n",
    "              values = ['debt'],\n",
    "              aggfunc = [len, sum, percent])"
   ]
  },
  {
   "cell_type": "markdown",
   "id": "1cef7837",
   "metadata": {
    "deletable": false,
    "id": "1cef7837"
   },
   "source": [
    "**Вывод:**\n",
    "В данном исследовании зависимость процента невозврата прослеживается уже более явно.\n",
    "Можно предположить, что люди, находящиеся в положениях - `вдовец/вдова`, `женат/замужем`, а также `в разводе` возвращают кредиты лучше, нежели `не женат/не замужем` и находящиеся в статусе `гражданский брак`.\n",
    "Могу предположить, что такое распределение происходит из-за возраста людей в выборке, т.к. вдовец и в разводе, скорее всего, будет старше человека, находящегося в гражданском браке или холостого - соответственно, люди в возрасте имеют больше ответственности и являются более платежеспособными относительно более молодых, которые еще не успели вступить в какие-либо отношения.\n",
    "Однако для подтверждения данной гипотезы необходимо провести отдельное исследование."
   ]
  },
  {
   "cell_type": "markdown",
   "id": "1e8b2fca",
   "metadata": {
    "deletable": false,
    "editable": false,
    "id": "1e8b2fca"
   },
   "source": [
    "**Задание 21. Есть ли зависимость между уровнем дохода и возвратом кредита в срок?**"
   ]
  },
  {
   "cell_type": "code",
   "execution_count": 26,
   "id": "cd7e3720",
   "metadata": {
    "id": "cd7e3720"
   },
   "outputs": [
    {
     "data": {
      "text/html": [
       "<div>\n",
       "<style scoped>\n",
       "    .dataframe tbody tr th:only-of-type {\n",
       "        vertical-align: middle;\n",
       "    }\n",
       "\n",
       "    .dataframe tbody tr th {\n",
       "        vertical-align: top;\n",
       "    }\n",
       "\n",
       "    .dataframe thead tr th {\n",
       "        text-align: left;\n",
       "    }\n",
       "\n",
       "    .dataframe thead tr:last-of-type th {\n",
       "        text-align: right;\n",
       "    }\n",
       "</style>\n",
       "<table border=\"1\" class=\"dataframe\">\n",
       "  <thead>\n",
       "    <tr>\n",
       "      <th></th>\n",
       "      <th>len</th>\n",
       "      <th>sum</th>\n",
       "      <th>percent</th>\n",
       "    </tr>\n",
       "    <tr>\n",
       "      <th></th>\n",
       "      <th>debt</th>\n",
       "      <th>debt</th>\n",
       "      <th>debt</th>\n",
       "    </tr>\n",
       "    <tr>\n",
       "      <th>total_income_category</th>\n",
       "      <th></th>\n",
       "      <th></th>\n",
       "      <th></th>\n",
       "    </tr>\n",
       "  </thead>\n",
       "  <tbody>\n",
       "    <tr>\n",
       "      <th>A</th>\n",
       "      <td>25</td>\n",
       "      <td>2</td>\n",
       "      <td>8.000000</td>\n",
       "    </tr>\n",
       "    <tr>\n",
       "      <th>B</th>\n",
       "      <td>5014</td>\n",
       "      <td>354</td>\n",
       "      <td>7.060231</td>\n",
       "    </tr>\n",
       "    <tr>\n",
       "      <th>C</th>\n",
       "      <td>15938</td>\n",
       "      <td>1353</td>\n",
       "      <td>8.489145</td>\n",
       "    </tr>\n",
       "    <tr>\n",
       "      <th>D</th>\n",
       "      <td>349</td>\n",
       "      <td>21</td>\n",
       "      <td>6.017192</td>\n",
       "    </tr>\n",
       "    <tr>\n",
       "      <th>E</th>\n",
       "      <td>22</td>\n",
       "      <td>2</td>\n",
       "      <td>9.090909</td>\n",
       "    </tr>\n",
       "  </tbody>\n",
       "</table>\n",
       "</div>"
      ],
      "text/plain": [
       "                         len   sum   percent\n",
       "                        debt  debt      debt\n",
       "total_income_category                       \n",
       "A                         25     2  8.000000\n",
       "B                       5014   354  7.060231\n",
       "C                      15938  1353  8.489145\n",
       "D                        349    21  6.017192\n",
       "E                         22     2  9.090909"
      ]
     },
     "execution_count": 26,
     "metadata": {},
     "output_type": "execute_result"
    }
   ],
   "source": [
    "def percent(data):\n",
    "    return data.mean() * 100\n",
    "\n",
    "pd.pivot_table(data,\n",
    "              index = ['total_income_category'],\n",
    "              values = ['debt'],\n",
    "              aggfunc = [len, sum, percent])"
   ]
  },
  {
   "cell_type": "markdown",
   "id": "e8593def",
   "metadata": {
    "deletable": false,
    "id": "e8593def"
   },
   "source": [
    "**Вывод:**\n",
    "В выборку попало слишком мало людей с доходом менее `30 000` и более `1 000 000`, поэтому данные по этим категориям не являются показательными.\n",
    "Основываясь на остальных - можно сказать, что процент невозврата не зависит от уровня дохода, т.к. каждая категория имеет примерно равное распределение относительно других.\n",
    "\n",
    "Диапазоны:\n",
    "* 0–30000 — 'E';\n",
    "* 30001–50000 — 'D';\n",
    "* 50001–200000 — 'C';\n",
    "* 200001–1000000 — 'B';\n",
    "* 1000001 и выше — 'A'."
   ]
  },
  {
   "cell_type": "markdown",
   "id": "99ecbd1f",
   "metadata": {
    "deletable": false,
    "editable": false,
    "id": "99ecbd1f"
   },
   "source": [
    "**Задание 22. Как разные цели кредита влияют на его возврат в срок?**"
   ]
  },
  {
   "cell_type": "code",
   "execution_count": 27,
   "id": "2b687290",
   "metadata": {
    "id": "2b687290"
   },
   "outputs": [
    {
     "data": {
      "text/html": [
       "<div>\n",
       "<style scoped>\n",
       "    .dataframe tbody tr th:only-of-type {\n",
       "        vertical-align: middle;\n",
       "    }\n",
       "\n",
       "    .dataframe tbody tr th {\n",
       "        vertical-align: top;\n",
       "    }\n",
       "\n",
       "    .dataframe thead tr th {\n",
       "        text-align: left;\n",
       "    }\n",
       "\n",
       "    .dataframe thead tr:last-of-type th {\n",
       "        text-align: right;\n",
       "    }\n",
       "</style>\n",
       "<table border=\"1\" class=\"dataframe\">\n",
       "  <thead>\n",
       "    <tr>\n",
       "      <th></th>\n",
       "      <th>len</th>\n",
       "      <th>sum</th>\n",
       "      <th>percent</th>\n",
       "    </tr>\n",
       "    <tr>\n",
       "      <th></th>\n",
       "      <th>debt</th>\n",
       "      <th>debt</th>\n",
       "      <th>debt</th>\n",
       "    </tr>\n",
       "    <tr>\n",
       "      <th>purpose_category</th>\n",
       "      <th></th>\n",
       "      <th></th>\n",
       "      <th></th>\n",
       "    </tr>\n",
       "  </thead>\n",
       "  <tbody>\n",
       "    <tr>\n",
       "      <th>операции с автомобилем</th>\n",
       "      <td>4281</td>\n",
       "      <td>400</td>\n",
       "      <td>9.343611</td>\n",
       "    </tr>\n",
       "    <tr>\n",
       "      <th>операции с недвижимостью</th>\n",
       "      <td>10754</td>\n",
       "      <td>780</td>\n",
       "      <td>7.253115</td>\n",
       "    </tr>\n",
       "    <tr>\n",
       "      <th>получение образования</th>\n",
       "      <td>3989</td>\n",
       "      <td>369</td>\n",
       "      <td>9.250439</td>\n",
       "    </tr>\n",
       "    <tr>\n",
       "      <th>проведение свадьбы</th>\n",
       "      <td>2324</td>\n",
       "      <td>183</td>\n",
       "      <td>7.874355</td>\n",
       "    </tr>\n",
       "  </tbody>\n",
       "</table>\n",
       "</div>"
      ],
      "text/plain": [
       "                            len  sum   percent\n",
       "                           debt debt      debt\n",
       "purpose_category                              \n",
       "операции с автомобилем     4281  400  9.343611\n",
       "операции с недвижимостью  10754  780  7.253115\n",
       "получение образования      3989  369  9.250439\n",
       "проведение свадьбы         2324  183  7.874355"
      ]
     },
     "execution_count": 27,
     "metadata": {},
     "output_type": "execute_result"
    }
   ],
   "source": [
    "def percent(data):\n",
    "    return data.mean() * 100\n",
    "\n",
    "pd.pivot_table(data,\n",
    "              index = ['purpose_category'],\n",
    "              values = ['debt'],\n",
    "              aggfunc = [len, sum, percent])"
   ]
  },
  {
   "cell_type": "markdown",
   "id": "b4bb2ce6",
   "metadata": {
    "deletable": false,
    "id": "b4bb2ce6"
   },
   "source": [
    "**Вывод:** \n",
    "На основании данного исследования можно сказать, что лучше всего возвращают кредиты, связанные с `проведением свадьбы` и `операциями с недвижимостью`.\n",
    "Хуже всего - взятые на `операции с автомобилем`.\n",
    "\n",
    "Операции с автомобилем имеют самый высокий процент невозрата кредита по причине повышенного риска. Автомобиль - это движимое имущество. Риск порчи и утраты автомобиля очень высок и повышается с неопытностью водителя. Водители со стажем - это, скорее всего, люди более старшего возраста, которые редко берут кредиты на автомобиль, т.к. имеют более стабильный и более высокий доход. Молодые водители, берущие автокредиты, неопытны. Траты на востановление автомобиля и одновременная оплата кредита дает высокую финансовую нагрузку на заемщика.\n",
    "\n",
    "Операции с кредитом на образование также имеют высокий процент невозврата, хотя и меньший операций с автомобилем. Причина в том, что если заемщик берет кредит на образование - это значит, что обучение достаточно длительное и занимает много времени, а отсюда следует сложность в совмещении обучения и работы и, как следствие, сложности возврата кредита.\n",
    "\n",
    "Операции с недвижимостью более выгодные и процент невозврата самый низкий. Недвижимость заемщики страхуют и порча имущества востанавливается страховыми компаниями. Рост цен на недвижимость дает стабильность.\n",
    "В отличии от операций с автомобилем, где его идет снижение стоимости от б/у статуса."
   ]
  },
  {
   "cell_type": "markdown",
   "id": "09c3ac4c",
   "metadata": {
    "deletable": false,
    "editable": false,
    "id": "09c3ac4c"
   },
   "source": [
    "**Задание 23. Приведите возможные причины появления пропусков в исходных данных.**"
   ]
  },
  {
   "cell_type": "markdown",
   "id": "9da2ceda",
   "metadata": {
    "deletable": false,
    "id": "9da2ceda"
   },
   "source": [
    "*Ответ:* пропуски наблюдались в столбцах с трудовым стажем и ежемесячным доходом. Связано это может быть с:\n",
    "* технической ошибкой;\n",
    "* отсутствием у человека работы;\n",
    "* неофициальным трудоустройством;"
   ]
  },
  {
   "cell_type": "markdown",
   "id": "7b0487d6",
   "metadata": {
    "deletable": false,
    "editable": false,
    "id": "7b0487d6"
   },
   "source": [
    "**Задание 24. Объясните, почему заполнить пропуски медианным значением — лучшее решение для количественных переменных.**"
   ]
  },
  {
   "cell_type": "markdown",
   "id": "7ecf2b8e",
   "metadata": {
    "deletable": false,
    "id": "7ecf2b8e"
   },
   "source": [
    "*Ответ:* Потому что мы не можем выбрать среднее значение из-за возможной дезинформации, связанной с аномально высокими или нулевыми показателями.\n",
    "Также мы не можем заполнить пропуски случайными значениями из-за их необъективности.\n",
    "В данном случае медиана помогает нам не исказить выборку и не потерять необходимые для анализа строки."
   ]
  },
  {
   "cell_type": "markdown",
   "id": "6db5255a",
   "metadata": {
    "deletable": false,
    "editable": false,
    "id": "6db5255a"
   },
   "source": [
    "## Общий вывод."
   ]
  },
  {
   "cell_type": "markdown",
   "id": "bad65432",
   "metadata": {
    "id": "bad65432"
   },
   "source": [
    "На статистику платежеспособности клиентов практически не влияет `уровень ежемесячного дохода` и `количество детей` в семье. При построении модели кредитного скоринга лучше всего учитывать `семейное положение` и `цель кредита`, т.к. именного они в большей мере сказываются на проценте возврата."
   ]
  }
 ],
 "metadata": {
  "ExecuteTimeLog": [
   {
    "duration": 42,
    "start_time": "2022-07-11T06:17:54.662Z"
   },
   {
    "duration": 518,
    "start_time": "2022-07-11T06:17:59.956Z"
   },
   {
    "duration": 22,
    "start_time": "2022-07-11T06:18:00.476Z"
   },
   {
    "duration": 17,
    "start_time": "2022-07-11T06:18:00.499Z"
   },
   {
    "duration": 20,
    "start_time": "2022-07-11T06:18:00.519Z"
   },
   {
    "duration": 35,
    "start_time": "2022-07-11T06:18:00.541Z"
   },
   {
    "duration": 3,
    "start_time": "2022-07-11T06:18:00.577Z"
   },
   {
    "duration": 20,
    "start_time": "2022-07-11T06:18:00.582Z"
   },
   {
    "duration": 11,
    "start_time": "2022-07-11T06:18:00.604Z"
   },
   {
    "duration": 26,
    "start_time": "2022-07-11T06:18:00.617Z"
   },
   {
    "duration": 38,
    "start_time": "2022-07-11T06:18:00.646Z"
   },
   {
    "duration": 86,
    "start_time": "2022-07-11T06:18:00.685Z"
   },
   {
    "duration": 12,
    "start_time": "2022-07-11T06:18:00.773Z"
   },
   {
    "duration": 22,
    "start_time": "2022-07-11T06:18:00.787Z"
   },
   {
    "duration": 43,
    "start_time": "2022-07-11T06:18:00.811Z"
   },
   {
    "duration": 21,
    "start_time": "2022-07-11T06:18:00.856Z"
   },
   {
    "duration": 13,
    "start_time": "2022-07-11T06:18:00.879Z"
   },
   {
    "duration": 67,
    "start_time": "2022-07-11T06:18:00.894Z"
   },
   {
    "duration": 42,
    "start_time": "2022-07-11T06:18:00.963Z"
   },
   {
    "duration": 13,
    "start_time": "2022-07-11T06:18:01.007Z"
   },
   {
    "duration": 11,
    "start_time": "2022-07-11T06:18:01.022Z"
   },
   {
    "duration": 28,
    "start_time": "2022-07-11T06:18:01.034Z"
   },
   {
    "duration": 21,
    "start_time": "2022-07-11T06:18:01.396Z"
   },
   {
    "duration": 23,
    "start_time": "2022-07-11T06:20:30.711Z"
   },
   {
    "duration": 15,
    "start_time": "2022-07-11T06:20:43.470Z"
   },
   {
    "duration": 17,
    "start_time": "2022-07-11T06:20:48.418Z"
   },
   {
    "duration": 16,
    "start_time": "2022-07-11T06:21:17.353Z"
   },
   {
    "duration": 20,
    "start_time": "2022-07-11T06:21:22.380Z"
   },
   {
    "duration": 20,
    "start_time": "2022-07-11T06:21:31.384Z"
   },
   {
    "duration": 9,
    "start_time": "2022-07-11T06:22:23.885Z"
   },
   {
    "duration": 29,
    "start_time": "2022-07-11T06:22:38.886Z"
   },
   {
    "duration": 80,
    "start_time": "2022-07-11T07:43:56.510Z"
   },
   {
    "duration": 57,
    "start_time": "2022-07-11T07:44:17.128Z"
   },
   {
    "duration": 26,
    "start_time": "2022-07-11T07:44:25.194Z"
   },
   {
    "duration": 66,
    "start_time": "2022-07-11T07:45:00.021Z"
   },
   {
    "duration": 47,
    "start_time": "2022-07-11T07:45:04.040Z"
   },
   {
    "duration": 27,
    "start_time": "2022-07-11T07:45:12.072Z"
   },
   {
    "duration": 24,
    "start_time": "2022-07-11T07:45:25.533Z"
   },
   {
    "duration": 79,
    "start_time": "2022-07-11T07:46:51.930Z"
   },
   {
    "duration": 14,
    "start_time": "2022-07-11T07:46:54.656Z"
   },
   {
    "duration": 7,
    "start_time": "2022-07-11T07:47:15.232Z"
   },
   {
    "duration": 12,
    "start_time": "2022-07-11T07:47:32.365Z"
   },
   {
    "duration": 19,
    "start_time": "2022-07-11T07:47:40.290Z"
   },
   {
    "duration": 17,
    "start_time": "2022-07-11T07:48:59.516Z"
   },
   {
    "duration": 101,
    "start_time": "2022-07-11T07:49:45.764Z"
   },
   {
    "duration": 20,
    "start_time": "2022-07-11T07:49:48.459Z"
   },
   {
    "duration": 19,
    "start_time": "2022-07-11T07:50:17.188Z"
   },
   {
    "duration": 7,
    "start_time": "2022-07-11T07:50:41.711Z"
   },
   {
    "duration": 406,
    "start_time": "2022-07-11T08:42:56.573Z"
   },
   {
    "duration": 21,
    "start_time": "2022-07-11T08:42:56.981Z"
   },
   {
    "duration": 13,
    "start_time": "2022-07-11T08:42:57.004Z"
   },
   {
    "duration": 28,
    "start_time": "2022-07-11T08:42:57.019Z"
   },
   {
    "duration": 36,
    "start_time": "2022-07-11T08:42:57.051Z"
   },
   {
    "duration": 3,
    "start_time": "2022-07-11T08:42:57.089Z"
   },
   {
    "duration": 9,
    "start_time": "2022-07-11T08:42:57.094Z"
   },
   {
    "duration": 4,
    "start_time": "2022-07-11T08:42:57.105Z"
   },
   {
    "duration": 12,
    "start_time": "2022-07-11T08:42:57.111Z"
   },
   {
    "duration": 21,
    "start_time": "2022-07-11T08:42:57.125Z"
   },
   {
    "duration": 35,
    "start_time": "2022-07-11T08:42:57.147Z"
   },
   {
    "duration": 8,
    "start_time": "2022-07-11T08:42:57.184Z"
   },
   {
    "duration": 4,
    "start_time": "2022-07-11T08:42:57.193Z"
   },
   {
    "duration": 18,
    "start_time": "2022-07-11T08:42:57.198Z"
   },
   {
    "duration": 39,
    "start_time": "2022-07-11T08:42:57.218Z"
   },
   {
    "duration": 11,
    "start_time": "2022-07-11T08:42:57.260Z"
   },
   {
    "duration": 4,
    "start_time": "2022-07-11T08:42:57.273Z"
   },
   {
    "duration": 14,
    "start_time": "2022-07-11T08:42:57.278Z"
   },
   {
    "duration": 9,
    "start_time": "2022-07-11T08:42:57.293Z"
   },
   {
    "duration": 9,
    "start_time": "2022-07-11T08:42:57.304Z"
   },
   {
    "duration": 31,
    "start_time": "2022-07-11T08:42:57.315Z"
   },
   {
    "duration": 2,
    "start_time": "2022-07-11T08:43:13.308Z"
   },
   {
    "duration": 8,
    "start_time": "2022-07-11T08:43:13.311Z"
   },
   {
    "duration": 6,
    "start_time": "2022-07-11T08:43:13.320Z"
   },
   {
    "duration": 16278,
    "start_time": "2022-07-11T08:43:29.580Z"
   },
   {
    "duration": 23,
    "start_time": "2022-07-11T08:44:16.937Z"
   },
   {
    "duration": 16075,
    "start_time": "2022-07-11T08:44:24.119Z"
   },
   {
    "duration": 15576,
    "start_time": "2022-07-11T09:07:53.268Z"
   },
   {
    "duration": 28,
    "start_time": "2022-07-11T09:09:16.618Z"
   },
   {
    "duration": 25,
    "start_time": "2022-07-11T10:34:45.591Z"
   },
   {
    "duration": 33,
    "start_time": "2022-07-11T10:52:21.297Z"
   },
   {
    "duration": 1053,
    "start_time": "2022-07-11T11:04:12.272Z"
   },
   {
    "duration": 32,
    "start_time": "2022-07-11T11:04:46.795Z"
   },
   {
    "duration": 34,
    "start_time": "2022-07-11T11:20:07.787Z"
   },
   {
    "duration": 40,
    "start_time": "2022-07-11T11:20:20.780Z"
   },
   {
    "duration": 31,
    "start_time": "2022-07-11T11:20:27.798Z"
   },
   {
    "duration": 31,
    "start_time": "2022-07-11T11:24:58.300Z"
   },
   {
    "duration": 461,
    "start_time": "2022-07-11T12:19:28.444Z"
   },
   {
    "duration": 22,
    "start_time": "2022-07-11T12:19:28.907Z"
   },
   {
    "duration": 15,
    "start_time": "2022-07-11T12:19:28.930Z"
   },
   {
    "duration": 14,
    "start_time": "2022-07-11T12:19:28.948Z"
   },
   {
    "duration": 37,
    "start_time": "2022-07-11T12:19:28.963Z"
   },
   {
    "duration": 3,
    "start_time": "2022-07-11T12:19:29.001Z"
   },
   {
    "duration": 10,
    "start_time": "2022-07-11T12:19:29.006Z"
   },
   {
    "duration": 4,
    "start_time": "2022-07-11T12:19:29.017Z"
   },
   {
    "duration": 6,
    "start_time": "2022-07-11T12:19:29.042Z"
   },
   {
    "duration": 7,
    "start_time": "2022-07-11T12:19:29.052Z"
   },
   {
    "duration": 37,
    "start_time": "2022-07-11T12:19:29.061Z"
   },
   {
    "duration": 9,
    "start_time": "2022-07-11T12:19:29.100Z"
   },
   {
    "duration": 7,
    "start_time": "2022-07-11T12:19:29.111Z"
   },
   {
    "duration": 37,
    "start_time": "2022-07-11T12:19:29.119Z"
   },
   {
    "duration": 16,
    "start_time": "2022-07-11T12:19:29.157Z"
   },
   {
    "duration": 10,
    "start_time": "2022-07-11T12:19:29.175Z"
   },
   {
    "duration": 7,
    "start_time": "2022-07-11T12:19:29.187Z"
   },
   {
    "duration": 14,
    "start_time": "2022-07-11T12:19:29.196Z"
   },
   {
    "duration": 13,
    "start_time": "2022-07-11T12:19:29.212Z"
   },
   {
    "duration": 4,
    "start_time": "2022-07-11T12:19:29.242Z"
   },
   {
    "duration": 11,
    "start_time": "2022-07-11T12:19:29.248Z"
   },
   {
    "duration": 34,
    "start_time": "2022-07-11T12:19:29.261Z"
   },
   {
    "duration": 52,
    "start_time": "2022-07-11T12:19:29.296Z"
   },
   {
    "duration": 32,
    "start_time": "2022-07-11T12:19:29.349Z"
   },
   {
    "duration": 32,
    "start_time": "2022-07-11T12:19:29.382Z"
   },
   {
    "duration": 42,
    "start_time": "2022-07-12T15:33:40.397Z"
   },
   {
    "duration": 703,
    "start_time": "2022-07-12T15:33:43.646Z"
   },
   {
    "duration": 27,
    "start_time": "2022-07-12T15:33:44.352Z"
   },
   {
    "duration": 14,
    "start_time": "2022-07-12T15:33:44.381Z"
   },
   {
    "duration": 10,
    "start_time": "2022-07-12T15:33:44.397Z"
   },
   {
    "duration": 53,
    "start_time": "2022-07-12T15:33:44.408Z"
   },
   {
    "duration": 4,
    "start_time": "2022-07-12T15:33:44.463Z"
   },
   {
    "duration": 9,
    "start_time": "2022-07-12T15:33:44.468Z"
   },
   {
    "duration": 4,
    "start_time": "2022-07-12T15:33:44.479Z"
   },
   {
    "duration": 10,
    "start_time": "2022-07-12T15:33:44.484Z"
   },
   {
    "duration": 4,
    "start_time": "2022-07-12T15:33:44.497Z"
   },
   {
    "duration": 62,
    "start_time": "2022-07-12T15:33:44.502Z"
   },
   {
    "duration": 9,
    "start_time": "2022-07-12T15:33:44.566Z"
   },
   {
    "duration": 17,
    "start_time": "2022-07-12T15:33:44.577Z"
   },
   {
    "duration": 20,
    "start_time": "2022-07-12T15:33:44.596Z"
   },
   {
    "duration": 17,
    "start_time": "2022-07-12T15:33:44.618Z"
   },
   {
    "duration": 22,
    "start_time": "2022-07-12T15:33:44.637Z"
   },
   {
    "duration": 5,
    "start_time": "2022-07-12T15:33:44.661Z"
   },
   {
    "duration": 10,
    "start_time": "2022-07-12T15:33:44.668Z"
   },
   {
    "duration": 7,
    "start_time": "2022-07-12T15:33:44.680Z"
   },
   {
    "duration": 8,
    "start_time": "2022-07-12T15:33:44.689Z"
   },
   {
    "duration": 13,
    "start_time": "2022-07-12T15:33:44.698Z"
   },
   {
    "duration": 51,
    "start_time": "2022-07-12T15:33:44.712Z"
   },
   {
    "duration": 24,
    "start_time": "2022-07-12T15:33:44.765Z"
   },
   {
    "duration": 30,
    "start_time": "2022-07-12T15:33:44.791Z"
   },
   {
    "duration": 46,
    "start_time": "2022-07-12T15:33:44.822Z"
   },
   {
    "duration": 29,
    "start_time": "2022-07-12T15:33:44.870Z"
   },
   {
    "duration": 265,
    "start_time": "2022-07-12T15:42:49.606Z"
   },
   {
    "duration": 77,
    "start_time": "2022-07-12T15:46:08.479Z"
   },
   {
    "duration": 101,
    "start_time": "2022-07-13T10:50:30.375Z"
   },
   {
    "duration": 45,
    "start_time": "2022-07-13T10:50:51.271Z"
   },
   {
    "duration": 529,
    "start_time": "2022-07-13T10:50:55.785Z"
   },
   {
    "duration": 21,
    "start_time": "2022-07-13T10:50:56.316Z"
   },
   {
    "duration": 18,
    "start_time": "2022-07-13T10:50:56.339Z"
   },
   {
    "duration": 19,
    "start_time": "2022-07-13T10:50:56.359Z"
   },
   {
    "duration": 44,
    "start_time": "2022-07-13T10:50:56.380Z"
   },
   {
    "duration": 11,
    "start_time": "2022-07-13T10:50:56.426Z"
   },
   {
    "duration": 21,
    "start_time": "2022-07-13T10:50:56.439Z"
   },
   {
    "duration": 25,
    "start_time": "2022-07-13T10:50:56.462Z"
   },
   {
    "duration": 15,
    "start_time": "2022-07-13T10:50:56.489Z"
   },
   {
    "duration": 12,
    "start_time": "2022-07-13T10:50:56.507Z"
   },
   {
    "duration": 22,
    "start_time": "2022-07-13T10:50:56.520Z"
   },
   {
    "duration": 44,
    "start_time": "2022-07-13T10:50:56.543Z"
   },
   {
    "duration": 10,
    "start_time": "2022-07-13T10:50:56.588Z"
   },
   {
    "duration": 11,
    "start_time": "2022-07-13T10:50:56.599Z"
   },
   {
    "duration": 28,
    "start_time": "2022-07-13T10:50:56.612Z"
   },
   {
    "duration": 21,
    "start_time": "2022-07-13T10:50:56.642Z"
   },
   {
    "duration": 10,
    "start_time": "2022-07-13T10:50:56.665Z"
   },
   {
    "duration": 23,
    "start_time": "2022-07-13T10:50:56.677Z"
   },
   {
    "duration": 18,
    "start_time": "2022-07-13T10:50:56.701Z"
   },
   {
    "duration": 30,
    "start_time": "2022-07-13T10:50:56.720Z"
   },
   {
    "duration": 22,
    "start_time": "2022-07-13T10:50:56.751Z"
   },
   {
    "duration": 36,
    "start_time": "2022-07-13T10:50:56.774Z"
   },
   {
    "duration": 54,
    "start_time": "2022-07-13T10:50:56.812Z"
   },
   {
    "duration": 27,
    "start_time": "2022-07-13T10:50:56.868Z"
   },
   {
    "duration": 420,
    "start_time": "2022-07-13T10:50:56.896Z"
   },
   {
    "duration": 38,
    "start_time": "2022-07-13T10:50:57.317Z"
   },
   {
    "duration": 35,
    "start_time": "2022-07-13T10:50:57.356Z"
   },
   {
    "duration": 35,
    "start_time": "2022-07-13T10:50:57.409Z"
   },
   {
    "duration": 77,
    "start_time": "2022-07-13T10:50:57.446Z"
   },
   {
    "duration": 13,
    "start_time": "2022-07-13T10:51:14.723Z"
   },
   {
    "duration": 442,
    "start_time": "2022-07-13T10:51:33.174Z"
   },
   {
    "duration": 20,
    "start_time": "2022-07-13T10:51:33.618Z"
   },
   {
    "duration": 15,
    "start_time": "2022-07-13T10:51:33.640Z"
   },
   {
    "duration": 9,
    "start_time": "2022-07-13T10:51:33.657Z"
   },
   {
    "duration": 58,
    "start_time": "2022-07-13T10:51:33.668Z"
   },
   {
    "duration": 3,
    "start_time": "2022-07-13T10:51:33.728Z"
   },
   {
    "duration": 9,
    "start_time": "2022-07-13T10:51:33.733Z"
   },
   {
    "duration": 4,
    "start_time": "2022-07-13T10:51:33.744Z"
   },
   {
    "duration": 8,
    "start_time": "2022-07-13T10:51:33.749Z"
   },
   {
    "duration": 3,
    "start_time": "2022-07-13T10:51:33.761Z"
   },
   {
    "duration": 61,
    "start_time": "2022-07-13T10:51:33.765Z"
   },
   {
    "duration": 8,
    "start_time": "2022-07-13T10:51:33.828Z"
   },
   {
    "duration": 3,
    "start_time": "2022-07-13T10:51:33.838Z"
   },
   {
    "duration": 18,
    "start_time": "2022-07-13T10:51:33.842Z"
   },
   {
    "duration": 15,
    "start_time": "2022-07-13T10:51:33.861Z"
   },
   {
    "duration": 10,
    "start_time": "2022-07-13T10:51:33.877Z"
   },
   {
    "duration": 4,
    "start_time": "2022-07-13T10:51:33.910Z"
   },
   {
    "duration": 13,
    "start_time": "2022-07-13T10:51:33.915Z"
   },
   {
    "duration": 5,
    "start_time": "2022-07-13T10:51:33.930Z"
   },
   {
    "duration": 9,
    "start_time": "2022-07-13T10:51:33.937Z"
   },
   {
    "duration": 10,
    "start_time": "2022-07-13T10:51:33.948Z"
   },
   {
    "duration": 53,
    "start_time": "2022-07-13T10:51:33.959Z"
   },
   {
    "duration": 27,
    "start_time": "2022-07-13T10:51:34.014Z"
   },
   {
    "duration": 273,
    "start_time": "2022-07-13T10:51:34.042Z"
   },
   {
    "duration": 34,
    "start_time": "2022-07-13T10:51:34.316Z"
   },
   {
    "duration": 29,
    "start_time": "2022-07-13T10:51:34.352Z"
   },
   {
    "duration": 51,
    "start_time": "2022-07-13T10:51:34.382Z"
   },
   {
    "duration": 57,
    "start_time": "2022-07-13T10:51:34.436Z"
   },
   {
    "duration": 59,
    "start_time": "2022-07-13T10:56:12.970Z"
   }
  ],
  "celltoolbar": "Edit Metadata",
  "colab": {
   "name": "dpp_template_part2.ipynb",
   "provenance": []
  },
  "kernelspec": {
   "display_name": "Python 3 (ipykernel)",
   "language": "python",
   "name": "python3"
  },
  "language_info": {
   "codemirror_mode": {
    "name": "ipython",
    "version": 3
   },
   "file_extension": ".py",
   "mimetype": "text/x-python",
   "name": "python",
   "nbconvert_exporter": "python",
   "pygments_lexer": "ipython3",
   "version": "3.9.13"
  },
  "toc": {
   "base_numbering": 1,
   "nav_menu": {},
   "number_sections": true,
   "sideBar": true,
   "skip_h1_title": true,
   "title_cell": "Table of Contents",
   "title_sidebar": "Contents",
   "toc_cell": false,
   "toc_position": {},
   "toc_section_display": true,
   "toc_window_display": false
  }
 },
 "nbformat": 4,
 "nbformat_minor": 5
}
