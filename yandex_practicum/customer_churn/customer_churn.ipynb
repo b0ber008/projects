{
 "cells": [
  {
   "cell_type": "markdown",
   "metadata": {
    "toc": true
   },
   "source": [
    "<h1>Содержание<span class=\"tocSkip\"></span></h1>\n",
    "<div class=\"toc\"><ul class=\"toc-item\"><li><span><a href=\"#Подготовка-данных\" data-toc-modified-id=\"Подготовка-данных-1\"><span class=\"toc-item-num\">1&nbsp;&nbsp;</span>Подготовка данных</a></span><ul class=\"toc-item\"><li><span><a href=\"#Импортируем-и-изучаем-данные\" data-toc-modified-id=\"Импортируем-и-изучаем-данные-1.1\"><span class=\"toc-item-num\">1.1&nbsp;&nbsp;</span>Импортируем и изучаем данные</a></span></li><li><span><a href=\"#Выполняем-предобработку\" data-toc-modified-id=\"Выполняем-предобработку-1.2\"><span class=\"toc-item-num\">1.2&nbsp;&nbsp;</span>Выполняем предобработку</a></span></li></ul></li><li><span><a href=\"#Исследование-задачи\" data-toc-modified-id=\"Исследование-задачи-2\"><span class=\"toc-item-num\">2&nbsp;&nbsp;</span>Исследование задачи</a></span><ul class=\"toc-item\"><li><span><a href=\"#Изучение-дисбаланса-классов\" data-toc-modified-id=\"Изучение-дисбаланса-классов-2.1\"><span class=\"toc-item-num\">2.1&nbsp;&nbsp;</span>Изучение дисбаланса классов</a></span></li><li><span><a href=\"#Разбиение-данных-на-выборки\" data-toc-modified-id=\"Разбиение-данных-на-выборки-2.2\"><span class=\"toc-item-num\">2.2&nbsp;&nbsp;</span>Разбиение данных на выборки</a></span></li><li><span><a href=\"#Изучаем-модели-без-учета-дисбаланса\" data-toc-modified-id=\"Изучаем-модели-без-учета-дисбаланса-2.3\"><span class=\"toc-item-num\">2.3&nbsp;&nbsp;</span>Изучаем модели без учета дисбаланса</a></span><ul class=\"toc-item\"><li><span><a href=\"#Дерево-решений\" data-toc-modified-id=\"Дерево-решений-2.3.1\"><span class=\"toc-item-num\">2.3.1&nbsp;&nbsp;</span>Дерево решений</a></span></li><li><span><a href=\"#Случайный-лес\" data-toc-modified-id=\"Случайный-лес-2.3.2\"><span class=\"toc-item-num\">2.3.2&nbsp;&nbsp;</span>Случайный лес</a></span></li><li><span><a href=\"#Логистическая-регрессия\" data-toc-modified-id=\"Логистическая-регрессия-2.3.3\"><span class=\"toc-item-num\">2.3.3&nbsp;&nbsp;</span>Логистическая регрессия</a></span></li><li><span><a href=\"#Вывод-по-моделям\" data-toc-modified-id=\"Вывод-по-моделям-2.3.4\"><span class=\"toc-item-num\">2.3.4&nbsp;&nbsp;</span>Вывод по моделям</a></span></li></ul></li></ul></li><li><span><a href=\"#Борьба-с-дисбалансом\" data-toc-modified-id=\"Борьба-с-дисбалансом-3\"><span class=\"toc-item-num\">3&nbsp;&nbsp;</span>Борьба с дисбалансом</a></span><ul class=\"toc-item\"><li><span><a href=\"#Увеличение-выборки\" data-toc-modified-id=\"Увеличение-выборки-3.1\"><span class=\"toc-item-num\">3.1&nbsp;&nbsp;</span>Увеличение выборки</a></span></li><li><span><a href=\"#Уменьшение-выборки\" data-toc-modified-id=\"Уменьшение-выборки-3.2\"><span class=\"toc-item-num\">3.2&nbsp;&nbsp;</span>Уменьшение выборки</a></span></li><li><span><a href=\"#Обучение-моделей-на-увеличенной-выборке\" data-toc-modified-id=\"Обучение-моделей-на-увеличенной-выборке-3.3\"><span class=\"toc-item-num\">3.3&nbsp;&nbsp;</span>Обучение моделей на увеличенной выборке</a></span></li><li><span><a href=\"#Обучение-моделей-на-уменьшенной-выборке\" data-toc-modified-id=\"Обучение-моделей-на-уменьшенной-выборке-3.4\"><span class=\"toc-item-num\">3.4&nbsp;&nbsp;</span>Обучение моделей на уменьшенной выборке</a></span></li></ul></li><li><span><a href=\"#Проведение-тестирования-модели\" data-toc-modified-id=\"Проведение-тестирования-модели-4\"><span class=\"toc-item-num\">4&nbsp;&nbsp;</span>Проведение тестирования модели</a></span></li><li><span><a href=\"#Общий-вывод\" data-toc-modified-id=\"Общий-вывод-5\"><span class=\"toc-item-num\">5&nbsp;&nbsp;</span>Общий вывод</a></span></li></ul></div>"
   ]
  },
  {
   "cell_type": "markdown",
   "metadata": {},
   "source": [
    "# Отток клиентов"
   ]
  },
  {
   "cell_type": "markdown",
   "metadata": {},
   "source": [
    "Из «Бета-Банка» стали уходить клиенты. Каждый месяц. Немного, но заметно. Банковские маркетологи посчитали: сохранять текущих клиентов дешевле, чем привлекать новых.\n",
    "\n",
    "Нужно спрогнозировать, уйдёт клиент из банка в ближайшее время или нет. Нам предоставлены исторические данные о поведении клиентов и расторжении договоров с банком. \n",
    "\n",
    "Необзходимо построить модель с предельно большим значением *F1*-меры. Чтобы сдать проект успешно, нужно довести метрику до 0.59. Проверьте *F1*-меру на тестовой выборке самостоятельно.\n",
    "\n",
    "Дополнительно измеряйте *AUC-ROC*, сравнивайте её значение с *F1*-мерой.\n",
    "\n",
    "Источник данных: [https://www.kaggle.com/barelydedicated/bank-customer-churn-modeling](https://www.kaggle.com/barelydedicated/bank-customer-churn-modeling)"
   ]
  },
  {
   "cell_type": "markdown",
   "metadata": {},
   "source": [
    "Признаки:\n",
    "    \n",
    "* RowNumber — индекс строки в данных\n",
    "* CustomerId — уникальный идентификатор клиента\n",
    "* Surname — фамилия\n",
    "* CreditScore — кредитный рейтинг\n",
    "* Geography — страна проживания\n",
    "* Gender — пол\n",
    "* Age — возраст\n",
    "* Tenure — сколько лет человек является клиентом банка\n",
    "* Balance — баланс на счёте\n",
    "* NumOfProducts — количество продуктов банка, используемых клиентом\n",
    "* HasCrCard — наличие кредитной карты\n",
    "* IsActiveMember — активность клиента\n",
    "* EstimatedSalary — предполагаемая зарплата\n",
    "\n",
    "Целевой признак:\n",
    "    \n",
    "* Exited — факт ухода клиента"
   ]
  },
  {
   "cell_type": "markdown",
   "metadata": {},
   "source": [
    "## Подготовка данных"
   ]
  },
  {
   "cell_type": "markdown",
   "metadata": {},
   "source": [
    "### Импортируем и изучаем данные"
   ]
  },
  {
   "cell_type": "code",
   "execution_count": 1,
   "metadata": {},
   "outputs": [],
   "source": [
    "import pandas as pd\n",
    "import numpy as np\n",
    "import matplotlib.pyplot as plt\n",
    "\n",
    "from sklearn.tree import DecisionTreeClassifier\n",
    "from sklearn.ensemble import RandomForestClassifier\n",
    "from sklearn.linear_model import LogisticRegression\n",
    "\n",
    "from tqdm import tqdm\n",
    "from sklearn.preprocessing import StandardScaler\n",
    "from sklearn.model_selection import train_test_split\n",
    "from sklearn.metrics import accuracy_score\n",
    "from sklearn.metrics import f1_score\n",
    "from sklearn.metrics import roc_auc_score\n",
    "from sklearn.metrics import roc_curve\n",
    "from sklearn.utils import shuffle"
   ]
  },
  {
   "cell_type": "code",
   "execution_count": 2,
   "metadata": {
    "scrolled": false
   },
   "outputs": [
    {
     "data": {
      "text/html": [
       "<div>\n",
       "<style scoped>\n",
       "    .dataframe tbody tr th:only-of-type {\n",
       "        vertical-align: middle;\n",
       "    }\n",
       "\n",
       "    .dataframe tbody tr th {\n",
       "        vertical-align: top;\n",
       "    }\n",
       "\n",
       "    .dataframe thead th {\n",
       "        text-align: right;\n",
       "    }\n",
       "</style>\n",
       "<table border=\"1\" class=\"dataframe\">\n",
       "  <thead>\n",
       "    <tr style=\"text-align: right;\">\n",
       "      <th></th>\n",
       "      <th>RowNumber</th>\n",
       "      <th>CustomerId</th>\n",
       "      <th>Surname</th>\n",
       "      <th>CreditScore</th>\n",
       "      <th>Geography</th>\n",
       "      <th>Gender</th>\n",
       "      <th>Age</th>\n",
       "      <th>Tenure</th>\n",
       "      <th>Balance</th>\n",
       "      <th>NumOfProducts</th>\n",
       "      <th>HasCrCard</th>\n",
       "      <th>IsActiveMember</th>\n",
       "      <th>EstimatedSalary</th>\n",
       "      <th>Exited</th>\n",
       "    </tr>\n",
       "  </thead>\n",
       "  <tbody>\n",
       "    <tr>\n",
       "      <th>0</th>\n",
       "      <td>1</td>\n",
       "      <td>15634602</td>\n",
       "      <td>Hargrave</td>\n",
       "      <td>619</td>\n",
       "      <td>France</td>\n",
       "      <td>Female</td>\n",
       "      <td>42</td>\n",
       "      <td>2.0</td>\n",
       "      <td>0.00</td>\n",
       "      <td>1</td>\n",
       "      <td>1</td>\n",
       "      <td>1</td>\n",
       "      <td>101348.88</td>\n",
       "      <td>1</td>\n",
       "    </tr>\n",
       "    <tr>\n",
       "      <th>1</th>\n",
       "      <td>2</td>\n",
       "      <td>15647311</td>\n",
       "      <td>Hill</td>\n",
       "      <td>608</td>\n",
       "      <td>Spain</td>\n",
       "      <td>Female</td>\n",
       "      <td>41</td>\n",
       "      <td>1.0</td>\n",
       "      <td>83807.86</td>\n",
       "      <td>1</td>\n",
       "      <td>0</td>\n",
       "      <td>1</td>\n",
       "      <td>112542.58</td>\n",
       "      <td>0</td>\n",
       "    </tr>\n",
       "    <tr>\n",
       "      <th>2</th>\n",
       "      <td>3</td>\n",
       "      <td>15619304</td>\n",
       "      <td>Onio</td>\n",
       "      <td>502</td>\n",
       "      <td>France</td>\n",
       "      <td>Female</td>\n",
       "      <td>42</td>\n",
       "      <td>8.0</td>\n",
       "      <td>159660.80</td>\n",
       "      <td>3</td>\n",
       "      <td>1</td>\n",
       "      <td>0</td>\n",
       "      <td>113931.57</td>\n",
       "      <td>1</td>\n",
       "    </tr>\n",
       "    <tr>\n",
       "      <th>3</th>\n",
       "      <td>4</td>\n",
       "      <td>15701354</td>\n",
       "      <td>Boni</td>\n",
       "      <td>699</td>\n",
       "      <td>France</td>\n",
       "      <td>Female</td>\n",
       "      <td>39</td>\n",
       "      <td>1.0</td>\n",
       "      <td>0.00</td>\n",
       "      <td>2</td>\n",
       "      <td>0</td>\n",
       "      <td>0</td>\n",
       "      <td>93826.63</td>\n",
       "      <td>0</td>\n",
       "    </tr>\n",
       "    <tr>\n",
       "      <th>4</th>\n",
       "      <td>5</td>\n",
       "      <td>15737888</td>\n",
       "      <td>Mitchell</td>\n",
       "      <td>850</td>\n",
       "      <td>Spain</td>\n",
       "      <td>Female</td>\n",
       "      <td>43</td>\n",
       "      <td>2.0</td>\n",
       "      <td>125510.82</td>\n",
       "      <td>1</td>\n",
       "      <td>1</td>\n",
       "      <td>1</td>\n",
       "      <td>79084.10</td>\n",
       "      <td>0</td>\n",
       "    </tr>\n",
       "  </tbody>\n",
       "</table>\n",
       "</div>"
      ],
      "text/plain": [
       "   RowNumber  CustomerId   Surname  CreditScore Geography  Gender  Age  \\\n",
       "0          1    15634602  Hargrave          619    France  Female   42   \n",
       "1          2    15647311      Hill          608     Spain  Female   41   \n",
       "2          3    15619304      Onio          502    France  Female   42   \n",
       "3          4    15701354      Boni          699    France  Female   39   \n",
       "4          5    15737888  Mitchell          850     Spain  Female   43   \n",
       "\n",
       "   Tenure    Balance  NumOfProducts  HasCrCard  IsActiveMember  \\\n",
       "0     2.0       0.00              1          1               1   \n",
       "1     1.0   83807.86              1          0               1   \n",
       "2     8.0  159660.80              3          1               0   \n",
       "3     1.0       0.00              2          0               0   \n",
       "4     2.0  125510.82              1          1               1   \n",
       "\n",
       "   EstimatedSalary  Exited  \n",
       "0        101348.88       1  \n",
       "1        112542.58       0  \n",
       "2        113931.57       1  \n",
       "3         93826.63       0  \n",
       "4         79084.10       0  "
      ]
     },
     "execution_count": 2,
     "metadata": {},
     "output_type": "execute_result"
    }
   ],
   "source": [
    "df = pd.read_csv('/datasets/Churn.csv') # Сохраняем информацию файла в датафрейме df\n",
    "\n",
    "df.head() # Выводим шапку датафрейма, дабы ознакомиться с данными"
   ]
  },
  {
   "cell_type": "code",
   "execution_count": 3,
   "metadata": {
    "scrolled": true
   },
   "outputs": [
    {
     "data": {
      "image/png": "[encoded data removed]",
      "text/plain": [
       "<Figure size 1080x1440 with 9 Axes>"
      ]
     },
     "metadata": {
      "needs_background": "light"
     },
     "output_type": "display_data"
    }
   ],
   "source": [
    "df.drop(columns=['RowNumber', 'CustomerId', 'Surname']).hist(figsize=(15, 20)) # Строим гистограммы\n",
    "None"
   ]
  },
  {
   "cell_type": "markdown",
   "metadata": {},
   "source": [
    "На основании выведенных гистограмм видим:\n",
    "* В основном пользователи имеют кредитный рейтинг от 550 до 750;\n",
    "* Возраст, в среднем, от 30 до 45;\n",
    "* Время пользования банком у всех разное, но видим много клиентов, которые остаются с ним более 10 лет;\n",
    "* В основном у людей от 70 до 150 тысяч на балансе, но имеется много нулевых значений;\n",
    "* У большинства людей 1-2 продукта банка;\n",
    "* Людей, у которых есть кредитка в два раза больше;\n",
    "* Активность распределена практически поровну;\n",
    "* По поводу предполагаемой зарплаты и факта ухода клиента пока трудно что-то сказать."
   ]
  },
  {
   "cell_type": "code",
   "execution_count": 4,
   "metadata": {
    "scrolled": true
   },
   "outputs": [
    {
     "name": "stdout",
     "output_type": "stream",
     "text": [
      "<class 'pandas.core.frame.DataFrame'>\n",
      "RangeIndex: 10000 entries, 0 to 9999\n",
      "Data columns (total 14 columns):\n",
      " #   Column           Non-Null Count  Dtype  \n",
      "---  ------           --------------  -----  \n",
      " 0   RowNumber        10000 non-null  int64  \n",
      " 1   CustomerId       10000 non-null  int64  \n",
      " 2   Surname          10000 non-null  object \n",
      " 3   CreditScore      10000 non-null  int64  \n",
      " 4   Geography        10000 non-null  object \n",
      " 5   Gender           10000 non-null  object \n",
      " 6   Age              10000 non-null  int64  \n",
      " 7   Tenure           9091 non-null   float64\n",
      " 8   Balance          10000 non-null  float64\n",
      " 9   NumOfProducts    10000 non-null  int64  \n",
      " 10  HasCrCard        10000 non-null  int64  \n",
      " 11  IsActiveMember   10000 non-null  int64  \n",
      " 12  EstimatedSalary  10000 non-null  float64\n",
      " 13  Exited           10000 non-null  int64  \n",
      "dtypes: float64(3), int64(8), object(3)\n",
      "memory usage: 1.1+ MB\n"
     ]
    }
   ],
   "source": [
    "df.info() # Выводим общую информацию о датасете"
   ]
  },
  {
   "cell_type": "code",
   "execution_count": 5,
   "metadata": {},
   "outputs": [
    {
     "data": {
      "text/plain": [
       "10000"
      ]
     },
     "execution_count": 5,
     "metadata": {},
     "output_type": "execute_result"
    }
   ],
   "source": [
    "df['CustomerId'].value_counts().sum() # Смотрим количество уникальных значений"
   ]
  },
  {
   "cell_type": "markdown",
   "metadata": {},
   "source": [
    "Явных дубликатов не обнаружено. Не вижу смысла проверять остальные столбцы, т.к. возможное повторение значений в них вполне имеет место быть. Из вышенаходящегося вывода мы видим, что пользователи в датафрейме не повторяются."
   ]
  },
  {
   "cell_type": "code",
   "execution_count": 6,
   "metadata": {},
   "outputs": [
    {
     "data": {
      "text/html": [
       "<div>\n",
       "<style scoped>\n",
       "    .dataframe tbody tr th:only-of-type {\n",
       "        vertical-align: middle;\n",
       "    }\n",
       "\n",
       "    .dataframe tbody tr th {\n",
       "        vertical-align: top;\n",
       "    }\n",
       "\n",
       "    .dataframe thead th {\n",
       "        text-align: right;\n",
       "    }\n",
       "</style>\n",
       "<table border=\"1\" class=\"dataframe\">\n",
       "  <thead>\n",
       "    <tr style=\"text-align: right;\">\n",
       "      <th></th>\n",
       "      <th>RowNumber</th>\n",
       "      <th>CustomerId</th>\n",
       "      <th>CreditScore</th>\n",
       "      <th>Age</th>\n",
       "      <th>Tenure</th>\n",
       "      <th>Balance</th>\n",
       "      <th>NumOfProducts</th>\n",
       "      <th>HasCrCard</th>\n",
       "      <th>IsActiveMember</th>\n",
       "      <th>EstimatedSalary</th>\n",
       "      <th>Exited</th>\n",
       "    </tr>\n",
       "  </thead>\n",
       "  <tbody>\n",
       "    <tr>\n",
       "      <th>count</th>\n",
       "      <td>10000.00000</td>\n",
       "      <td>1.000000e+04</td>\n",
       "      <td>10000.000000</td>\n",
       "      <td>10000.000000</td>\n",
       "      <td>9091.000000</td>\n",
       "      <td>10000.000000</td>\n",
       "      <td>10000.000000</td>\n",
       "      <td>10000.00000</td>\n",
       "      <td>10000.000000</td>\n",
       "      <td>10000.000000</td>\n",
       "      <td>10000.000000</td>\n",
       "    </tr>\n",
       "    <tr>\n",
       "      <th>mean</th>\n",
       "      <td>5000.50000</td>\n",
       "      <td>1.569094e+07</td>\n",
       "      <td>650.528800</td>\n",
       "      <td>38.921800</td>\n",
       "      <td>4.997690</td>\n",
       "      <td>76485.889288</td>\n",
       "      <td>1.530200</td>\n",
       "      <td>0.70550</td>\n",
       "      <td>0.515100</td>\n",
       "      <td>100090.239881</td>\n",
       "      <td>0.203700</td>\n",
       "    </tr>\n",
       "    <tr>\n",
       "      <th>std</th>\n",
       "      <td>2886.89568</td>\n",
       "      <td>7.193619e+04</td>\n",
       "      <td>96.653299</td>\n",
       "      <td>10.487806</td>\n",
       "      <td>2.894723</td>\n",
       "      <td>62397.405202</td>\n",
       "      <td>0.581654</td>\n",
       "      <td>0.45584</td>\n",
       "      <td>0.499797</td>\n",
       "      <td>57510.492818</td>\n",
       "      <td>0.402769</td>\n",
       "    </tr>\n",
       "    <tr>\n",
       "      <th>min</th>\n",
       "      <td>1.00000</td>\n",
       "      <td>1.556570e+07</td>\n",
       "      <td>350.000000</td>\n",
       "      <td>18.000000</td>\n",
       "      <td>0.000000</td>\n",
       "      <td>0.000000</td>\n",
       "      <td>1.000000</td>\n",
       "      <td>0.00000</td>\n",
       "      <td>0.000000</td>\n",
       "      <td>11.580000</td>\n",
       "      <td>0.000000</td>\n",
       "    </tr>\n",
       "    <tr>\n",
       "      <th>25%</th>\n",
       "      <td>2500.75000</td>\n",
       "      <td>1.562853e+07</td>\n",
       "      <td>584.000000</td>\n",
       "      <td>32.000000</td>\n",
       "      <td>2.000000</td>\n",
       "      <td>0.000000</td>\n",
       "      <td>1.000000</td>\n",
       "      <td>0.00000</td>\n",
       "      <td>0.000000</td>\n",
       "      <td>51002.110000</td>\n",
       "      <td>0.000000</td>\n",
       "    </tr>\n",
       "    <tr>\n",
       "      <th>50%</th>\n",
       "      <td>5000.50000</td>\n",
       "      <td>1.569074e+07</td>\n",
       "      <td>652.000000</td>\n",
       "      <td>37.000000</td>\n",
       "      <td>5.000000</td>\n",
       "      <td>97198.540000</td>\n",
       "      <td>1.000000</td>\n",
       "      <td>1.00000</td>\n",
       "      <td>1.000000</td>\n",
       "      <td>100193.915000</td>\n",
       "      <td>0.000000</td>\n",
       "    </tr>\n",
       "    <tr>\n",
       "      <th>75%</th>\n",
       "      <td>7500.25000</td>\n",
       "      <td>1.575323e+07</td>\n",
       "      <td>718.000000</td>\n",
       "      <td>44.000000</td>\n",
       "      <td>7.000000</td>\n",
       "      <td>127644.240000</td>\n",
       "      <td>2.000000</td>\n",
       "      <td>1.00000</td>\n",
       "      <td>1.000000</td>\n",
       "      <td>149388.247500</td>\n",
       "      <td>0.000000</td>\n",
       "    </tr>\n",
       "    <tr>\n",
       "      <th>max</th>\n",
       "      <td>10000.00000</td>\n",
       "      <td>1.581569e+07</td>\n",
       "      <td>850.000000</td>\n",
       "      <td>92.000000</td>\n",
       "      <td>10.000000</td>\n",
       "      <td>250898.090000</td>\n",
       "      <td>4.000000</td>\n",
       "      <td>1.00000</td>\n",
       "      <td>1.000000</td>\n",
       "      <td>199992.480000</td>\n",
       "      <td>1.000000</td>\n",
       "    </tr>\n",
       "  </tbody>\n",
       "</table>\n",
       "</div>"
      ],
      "text/plain": [
       "         RowNumber    CustomerId   CreditScore           Age       Tenure  \\\n",
       "count  10000.00000  1.000000e+04  10000.000000  10000.000000  9091.000000   \n",
       "mean    5000.50000  1.569094e+07    650.528800     38.921800     4.997690   \n",
       "std     2886.89568  7.193619e+04     96.653299     10.487806     2.894723   \n",
       "min        1.00000  1.556570e+07    350.000000     18.000000     0.000000   \n",
       "25%     2500.75000  1.562853e+07    584.000000     32.000000     2.000000   \n",
       "50%     5000.50000  1.569074e+07    652.000000     37.000000     5.000000   \n",
       "75%     7500.25000  1.575323e+07    718.000000     44.000000     7.000000   \n",
       "max    10000.00000  1.581569e+07    850.000000     92.000000    10.000000   \n",
       "\n",
       "             Balance  NumOfProducts    HasCrCard  IsActiveMember  \\\n",
       "count   10000.000000   10000.000000  10000.00000    10000.000000   \n",
       "mean    76485.889288       1.530200      0.70550        0.515100   \n",
       "std     62397.405202       0.581654      0.45584        0.499797   \n",
       "min         0.000000       1.000000      0.00000        0.000000   \n",
       "25%         0.000000       1.000000      0.00000        0.000000   \n",
       "50%     97198.540000       1.000000      1.00000        1.000000   \n",
       "75%    127644.240000       2.000000      1.00000        1.000000   \n",
       "max    250898.090000       4.000000      1.00000        1.000000   \n",
       "\n",
       "       EstimatedSalary        Exited  \n",
       "count     10000.000000  10000.000000  \n",
       "mean     100090.239881      0.203700  \n",
       "std       57510.492818      0.402769  \n",
       "min          11.580000      0.000000  \n",
       "25%       51002.110000      0.000000  \n",
       "50%      100193.915000      0.000000  \n",
       "75%      149388.247500      0.000000  \n",
       "max      199992.480000      1.000000  "
      ]
     },
     "execution_count": 6,
     "metadata": {},
     "output_type": "execute_result"
    }
   ],
   "source": [
    "df.describe()"
   ]
  },
  {
   "cell_type": "markdown",
   "metadata": {},
   "source": [
    "### Выполняем предобработку"
   ]
  },
  {
   "cell_type": "code",
   "execution_count": 7,
   "metadata": {},
   "outputs": [],
   "source": [
    "df.drop(columns=['RowNumber', 'CustomerId', 'Surname'], inplace=True) # Удаляем лишние столбцы"
   ]
  },
  {
   "cell_type": "code",
   "execution_count": 8,
   "metadata": {},
   "outputs": [],
   "source": [
    "df.columns = map(str.lower, df.columns) # Приводим к нижнему регистру\n",
    "df.rename(columns={'creditscore': 'credit_score',\n",
    "                   'numofproducts': 'num_of_products',\n",
    "                   'hascrcard': 'has_cr_card',\n",
    "                   'isactivemember': 'is_active_member',\n",
    "                   'estimatedsalary': 'estimated_salary'}, inplace=True) # Переименовываем столбцы"
   ]
  },
  {
   "cell_type": "code",
   "execution_count": 9,
   "metadata": {},
   "outputs": [],
   "source": [
    "df['tenure'] = df['tenure'].fillna(0).astype('int64') # Заменим пропуски в tenure на 0 и приведем к типу int"
   ]
  },
  {
   "cell_type": "code",
   "execution_count": 10,
   "metadata": {
    "scrolled": true
   },
   "outputs": [
    {
     "name": "stdout",
     "output_type": "stream",
     "text": [
      "<class 'pandas.core.frame.DataFrame'>\n",
      "RangeIndex: 10000 entries, 0 to 9999\n",
      "Data columns (total 11 columns):\n",
      " #   Column            Non-Null Count  Dtype  \n",
      "---  ------            --------------  -----  \n",
      " 0   credit_score      10000 non-null  int64  \n",
      " 1   geography         10000 non-null  object \n",
      " 2   gender            10000 non-null  object \n",
      " 3   age               10000 non-null  int64  \n",
      " 4   tenure            10000 non-null  int64  \n",
      " 5   balance           10000 non-null  float64\n",
      " 6   num_of_products   10000 non-null  int64  \n",
      " 7   has_cr_card       10000 non-null  int64  \n",
      " 8   is_active_member  10000 non-null  int64  \n",
      " 9   estimated_salary  10000 non-null  float64\n",
      " 10  exited            10000 non-null  int64  \n",
      "dtypes: float64(2), int64(7), object(2)\n",
      "memory usage: 859.5+ KB\n"
     ]
    }
   ],
   "source": [
    "df.info() # Проверим еще раз наш датафрейм"
   ]
  },
  {
   "cell_type": "markdown",
   "metadata": {},
   "source": [
    "Теперь все впорядке."
   ]
  },
  {
   "cell_type": "markdown",
   "metadata": {},
   "source": [
    "## Исследование задачи"
   ]
  },
  {
   "cell_type": "markdown",
   "metadata": {},
   "source": [
    "### Изучение дисбаланса классов"
   ]
  },
  {
   "cell_type": "code",
   "execution_count": 11,
   "metadata": {},
   "outputs": [
    {
     "data": {
      "text/plain": [
       "0    0.7963\n",
       "1    0.2037\n",
       "Name: exited, dtype: float64"
      ]
     },
     "execution_count": 11,
     "metadata": {},
     "output_type": "execute_result"
    }
   ],
   "source": [
    "df['exited'].value_counts(normalize=True) # Посмотрим как распрделились значения в exited"
   ]
  },
  {
   "cell_type": "code",
   "execution_count": 12,
   "metadata": {},
   "outputs": [
    {
     "data": {
      "text/plain": [
       "<AxesSubplot:>"
      ]
     },
     "execution_count": 12,
     "metadata": {},
     "output_type": "execute_result"
    },
    {
     "data": {
      "image/png": "[encoded data removed]",
      "text/plain": [
       "<Figure size 360x360 with 1 Axes>"
      ]
     },
     "metadata": {
      "needs_background": "light"
     },
     "output_type": "display_data"
    }
   ],
   "source": [
    "df['exited'].value_counts(normalize=True).plot(figsize=(5,5), kind='bar')"
   ]
  },
  {
   "cell_type": "markdown",
   "metadata": {},
   "source": [
    "Видим существенный дисбаланс целевого признака. Соотношения тех, кто ушел, и тех, кто остался - 1:4"
   ]
  },
  {
   "cell_type": "code",
   "execution_count": 13,
   "metadata": {
    "scrolled": true
   },
   "outputs": [
    {
     "data": {
      "text/html": [
       "<div>\n",
       "<style scoped>\n",
       "    .dataframe tbody tr th:only-of-type {\n",
       "        vertical-align: middle;\n",
       "    }\n",
       "\n",
       "    .dataframe tbody tr th {\n",
       "        vertical-align: top;\n",
       "    }\n",
       "\n",
       "    .dataframe thead th {\n",
       "        text-align: right;\n",
       "    }\n",
       "</style>\n",
       "<table border=\"1\" class=\"dataframe\">\n",
       "  <thead>\n",
       "    <tr style=\"text-align: right;\">\n",
       "      <th></th>\n",
       "      <th>credit_score</th>\n",
       "      <th>age</th>\n",
       "      <th>tenure</th>\n",
       "      <th>balance</th>\n",
       "      <th>num_of_products</th>\n",
       "      <th>has_cr_card</th>\n",
       "      <th>is_active_member</th>\n",
       "      <th>estimated_salary</th>\n",
       "      <th>exited</th>\n",
       "    </tr>\n",
       "  </thead>\n",
       "  <tbody>\n",
       "    <tr>\n",
       "      <th>credit_score</th>\n",
       "      <td>1.000000</td>\n",
       "      <td>-0.003965</td>\n",
       "      <td>0.003087</td>\n",
       "      <td>0.006268</td>\n",
       "      <td>0.012238</td>\n",
       "      <td>-0.005458</td>\n",
       "      <td>0.025651</td>\n",
       "      <td>-0.001384</td>\n",
       "      <td>-0.027094</td>\n",
       "    </tr>\n",
       "    <tr>\n",
       "      <th>age</th>\n",
       "      <td>-0.003965</td>\n",
       "      <td>1.000000</td>\n",
       "      <td>-0.007368</td>\n",
       "      <td>0.028308</td>\n",
       "      <td>-0.030680</td>\n",
       "      <td>-0.011721</td>\n",
       "      <td>0.085472</td>\n",
       "      <td>-0.007201</td>\n",
       "      <td>0.285323</td>\n",
       "    </tr>\n",
       "    <tr>\n",
       "      <th>tenure</th>\n",
       "      <td>0.003087</td>\n",
       "      <td>-0.007368</td>\n",
       "      <td>1.000000</td>\n",
       "      <td>-0.005821</td>\n",
       "      <td>0.010106</td>\n",
       "      <td>0.021387</td>\n",
       "      <td>-0.025856</td>\n",
       "      <td>0.011225</td>\n",
       "      <td>-0.013319</td>\n",
       "    </tr>\n",
       "    <tr>\n",
       "      <th>balance</th>\n",
       "      <td>0.006268</td>\n",
       "      <td>0.028308</td>\n",
       "      <td>-0.005821</td>\n",
       "      <td>1.000000</td>\n",
       "      <td>-0.304180</td>\n",
       "      <td>-0.014858</td>\n",
       "      <td>-0.010084</td>\n",
       "      <td>0.012797</td>\n",
       "      <td>0.118533</td>\n",
       "    </tr>\n",
       "    <tr>\n",
       "      <th>num_of_products</th>\n",
       "      <td>0.012238</td>\n",
       "      <td>-0.030680</td>\n",
       "      <td>0.010106</td>\n",
       "      <td>-0.304180</td>\n",
       "      <td>1.000000</td>\n",
       "      <td>0.003183</td>\n",
       "      <td>0.009612</td>\n",
       "      <td>0.014204</td>\n",
       "      <td>-0.047820</td>\n",
       "    </tr>\n",
       "    <tr>\n",
       "      <th>has_cr_card</th>\n",
       "      <td>-0.005458</td>\n",
       "      <td>-0.011721</td>\n",
       "      <td>0.021387</td>\n",
       "      <td>-0.014858</td>\n",
       "      <td>0.003183</td>\n",
       "      <td>1.000000</td>\n",
       "      <td>-0.011866</td>\n",
       "      <td>-0.009933</td>\n",
       "      <td>-0.007138</td>\n",
       "    </tr>\n",
       "    <tr>\n",
       "      <th>is_active_member</th>\n",
       "      <td>0.025651</td>\n",
       "      <td>0.085472</td>\n",
       "      <td>-0.025856</td>\n",
       "      <td>-0.010084</td>\n",
       "      <td>0.009612</td>\n",
       "      <td>-0.011866</td>\n",
       "      <td>1.000000</td>\n",
       "      <td>-0.011421</td>\n",
       "      <td>-0.156128</td>\n",
       "    </tr>\n",
       "    <tr>\n",
       "      <th>estimated_salary</th>\n",
       "      <td>-0.001384</td>\n",
       "      <td>-0.007201</td>\n",
       "      <td>0.011225</td>\n",
       "      <td>0.012797</td>\n",
       "      <td>0.014204</td>\n",
       "      <td>-0.009933</td>\n",
       "      <td>-0.011421</td>\n",
       "      <td>1.000000</td>\n",
       "      <td>0.012097</td>\n",
       "    </tr>\n",
       "    <tr>\n",
       "      <th>exited</th>\n",
       "      <td>-0.027094</td>\n",
       "      <td>0.285323</td>\n",
       "      <td>-0.013319</td>\n",
       "      <td>0.118533</td>\n",
       "      <td>-0.047820</td>\n",
       "      <td>-0.007138</td>\n",
       "      <td>-0.156128</td>\n",
       "      <td>0.012097</td>\n",
       "      <td>1.000000</td>\n",
       "    </tr>\n",
       "  </tbody>\n",
       "</table>\n",
       "</div>"
      ],
      "text/plain": [
       "                  credit_score       age    tenure   balance  num_of_products  \\\n",
       "credit_score          1.000000 -0.003965  0.003087  0.006268         0.012238   \n",
       "age                  -0.003965  1.000000 -0.007368  0.028308        -0.030680   \n",
       "tenure                0.003087 -0.007368  1.000000 -0.005821         0.010106   \n",
       "balance               0.006268  0.028308 -0.005821  1.000000        -0.304180   \n",
       "num_of_products       0.012238 -0.030680  0.010106 -0.304180         1.000000   \n",
       "has_cr_card          -0.005458 -0.011721  0.021387 -0.014858         0.003183   \n",
       "is_active_member      0.025651  0.085472 -0.025856 -0.010084         0.009612   \n",
       "estimated_salary     -0.001384 -0.007201  0.011225  0.012797         0.014204   \n",
       "exited               -0.027094  0.285323 -0.013319  0.118533        -0.047820   \n",
       "\n",
       "                  has_cr_card  is_active_member  estimated_salary    exited  \n",
       "credit_score        -0.005458          0.025651         -0.001384 -0.027094  \n",
       "age                 -0.011721          0.085472         -0.007201  0.285323  \n",
       "tenure               0.021387         -0.025856          0.011225 -0.013319  \n",
       "balance             -0.014858         -0.010084          0.012797  0.118533  \n",
       "num_of_products      0.003183          0.009612          0.014204 -0.047820  \n",
       "has_cr_card          1.000000         -0.011866         -0.009933 -0.007138  \n",
       "is_active_member    -0.011866          1.000000         -0.011421 -0.156128  \n",
       "estimated_salary    -0.009933         -0.011421          1.000000  0.012097  \n",
       "exited              -0.007138         -0.156128          0.012097  1.000000  "
      ]
     },
     "execution_count": 13,
     "metadata": {},
     "output_type": "execute_result"
    }
   ],
   "source": [
    "df.corr() # Посмотрим на корреляции признаков"
   ]
  },
  {
   "cell_type": "markdown",
   "metadata": {},
   "source": [
    "С `exited` каждый из признаков коррелирует очень слабо. На основании таких коэффициентов невозможно построить какую-либо теорию."
   ]
  },
  {
   "cell_type": "markdown",
   "metadata": {},
   "source": [
    "Также у нас имеются категориальные признаки. Их мы преобразуем с помощью One Hot Encoding, чтобы моделям было проще выявлять закономерности."
   ]
  },
  {
   "cell_type": "code",
   "execution_count": 14,
   "metadata": {},
   "outputs": [
    {
     "data": {
      "text/plain": [
       "(10000, 12)"
      ]
     },
     "execution_count": 14,
     "metadata": {},
     "output_type": "execute_result"
    }
   ],
   "source": [
    "df_ohe = pd.get_dummies(df, drop_first=True) # Используем метод get_dummies\n",
    "\n",
    "df_ohe.shape # После преобразование у нас в наличии 12 столбцов"
   ]
  },
  {
   "cell_type": "markdown",
   "metadata": {},
   "source": [
    "### Разбиение данных на выборки"
   ]
  },
  {
   "cell_type": "code",
   "execution_count": 15,
   "metadata": {},
   "outputs": [],
   "source": [
    "features = df_ohe.drop(['exited'], axis=1) # Переменная с признаками\n",
    "target = df_ohe['exited'] # Переменная с целевым признаком"
   ]
  },
  {
   "cell_type": "code",
   "execution_count": 16,
   "metadata": {},
   "outputs": [],
   "source": [
    "(features_train,\n",
    " features_test,\n",
    " target_train,\n",
    " target_test) = train_test_split(features,\n",
    "                                 target,\n",
    "                                 test_size = 0.33,\n",
    "                                 stratify = target,\n",
    "                                 random_state = 12345)\n",
    "# Создаем обучающую выборку"
   ]
  },
  {
   "cell_type": "code",
   "execution_count": 17,
   "metadata": {},
   "outputs": [
    {
     "name": "stdout",
     "output_type": "stream",
     "text": [
      "(6700, 11)\n",
      "(3300, 11)\n",
      "(6700,)\n",
      "(3300,)\n"
     ]
    }
   ],
   "source": [
    "# После разбиения перестрахуемся и используем .shape для контроля за корректностью разбиения\n",
    "print(features_train.shape)\n",
    "print(features_test.shape)\n",
    "print(target_train.shape)\n",
    "print(target_test.shape)"
   ]
  },
  {
   "cell_type": "code",
   "execution_count": 18,
   "metadata": {},
   "outputs": [],
   "source": [
    "(features_valid,\n",
    " features_test,\n",
    " target_valid,\n",
    " target_test) = train_test_split(features_test,\n",
    "                                 target_test,\n",
    "                                 test_size = 0.5,\n",
    "                                 stratify = target_test,\n",
    "                                 random_state = 12345)\n",
    "# Создаем валидационную выборку"
   ]
  },
  {
   "cell_type": "code",
   "execution_count": 19,
   "metadata": {},
   "outputs": [
    {
     "name": "stdout",
     "output_type": "stream",
     "text": [
      "(1650, 11)\n",
      "(1650,)\n"
     ]
    }
   ],
   "source": [
    "print(features_valid.shape)\n",
    "print(target_valid.shape)"
   ]
  },
  {
   "cell_type": "code",
   "execution_count": 20,
   "metadata": {},
   "outputs": [
    {
     "data": {
      "text/html": [
       "<div>\n",
       "<style scoped>\n",
       "    .dataframe tbody tr th:only-of-type {\n",
       "        vertical-align: middle;\n",
       "    }\n",
       "\n",
       "    .dataframe tbody tr th {\n",
       "        vertical-align: top;\n",
       "    }\n",
       "\n",
       "    .dataframe thead th {\n",
       "        text-align: right;\n",
       "    }\n",
       "</style>\n",
       "<table border=\"1\" class=\"dataframe\">\n",
       "  <thead>\n",
       "    <tr style=\"text-align: right;\">\n",
       "      <th></th>\n",
       "      <th>credit_score</th>\n",
       "      <th>geography</th>\n",
       "      <th>gender</th>\n",
       "      <th>age</th>\n",
       "      <th>tenure</th>\n",
       "      <th>balance</th>\n",
       "      <th>num_of_products</th>\n",
       "      <th>has_cr_card</th>\n",
       "      <th>is_active_member</th>\n",
       "      <th>estimated_salary</th>\n",
       "      <th>exited</th>\n",
       "    </tr>\n",
       "  </thead>\n",
       "  <tbody>\n",
       "    <tr>\n",
       "      <th>0</th>\n",
       "      <td>619</td>\n",
       "      <td>France</td>\n",
       "      <td>Female</td>\n",
       "      <td>42</td>\n",
       "      <td>2</td>\n",
       "      <td>0.00</td>\n",
       "      <td>1</td>\n",
       "      <td>1</td>\n",
       "      <td>1</td>\n",
       "      <td>101348.88</td>\n",
       "      <td>1</td>\n",
       "    </tr>\n",
       "    <tr>\n",
       "      <th>1</th>\n",
       "      <td>608</td>\n",
       "      <td>Spain</td>\n",
       "      <td>Female</td>\n",
       "      <td>41</td>\n",
       "      <td>1</td>\n",
       "      <td>83807.86</td>\n",
       "      <td>1</td>\n",
       "      <td>0</td>\n",
       "      <td>1</td>\n",
       "      <td>112542.58</td>\n",
       "      <td>0</td>\n",
       "    </tr>\n",
       "    <tr>\n",
       "      <th>2</th>\n",
       "      <td>502</td>\n",
       "      <td>France</td>\n",
       "      <td>Female</td>\n",
       "      <td>42</td>\n",
       "      <td>8</td>\n",
       "      <td>159660.80</td>\n",
       "      <td>3</td>\n",
       "      <td>1</td>\n",
       "      <td>0</td>\n",
       "      <td>113931.57</td>\n",
       "      <td>1</td>\n",
       "    </tr>\n",
       "    <tr>\n",
       "      <th>3</th>\n",
       "      <td>699</td>\n",
       "      <td>France</td>\n",
       "      <td>Female</td>\n",
       "      <td>39</td>\n",
       "      <td>1</td>\n",
       "      <td>0.00</td>\n",
       "      <td>2</td>\n",
       "      <td>0</td>\n",
       "      <td>0</td>\n",
       "      <td>93826.63</td>\n",
       "      <td>0</td>\n",
       "    </tr>\n",
       "    <tr>\n",
       "      <th>4</th>\n",
       "      <td>850</td>\n",
       "      <td>Spain</td>\n",
       "      <td>Female</td>\n",
       "      <td>43</td>\n",
       "      <td>2</td>\n",
       "      <td>125510.82</td>\n",
       "      <td>1</td>\n",
       "      <td>1</td>\n",
       "      <td>1</td>\n",
       "      <td>79084.10</td>\n",
       "      <td>0</td>\n",
       "    </tr>\n",
       "  </tbody>\n",
       "</table>\n",
       "</div>"
      ],
      "text/plain": [
       "   credit_score geography  gender  age  tenure    balance  num_of_products  \\\n",
       "0           619    France  Female   42       2       0.00                1   \n",
       "1           608     Spain  Female   41       1   83807.86                1   \n",
       "2           502    France  Female   42       8  159660.80                3   \n",
       "3           699    France  Female   39       1       0.00                2   \n",
       "4           850     Spain  Female   43       2  125510.82                1   \n",
       "\n",
       "   has_cr_card  is_active_member  estimated_salary  exited  \n",
       "0            1                 1         101348.88       1  \n",
       "1            0                 1         112542.58       0  \n",
       "2            1                 0         113931.57       1  \n",
       "3            0                 0          93826.63       0  \n",
       "4            1                 1          79084.10       0  "
      ]
     },
     "execution_count": 20,
     "metadata": {},
     "output_type": "execute_result"
    }
   ],
   "source": [
    "df.head()"
   ]
  },
  {
   "cell_type": "code",
   "execution_count": 21,
   "metadata": {},
   "outputs": [
    {
     "name": "stderr",
     "output_type": "stream",
     "text": [
      "/tmp/ipykernel_48/3043041806.py:6: SettingWithCopyWarning: \n",
      "A value is trying to be set on a copy of a slice from a DataFrame.\n",
      "Try using .loc[row_indexer,col_indexer] = value instead\n",
      "\n",
      "See the caveats in the documentation: https://pandas.pydata.org/pandas-docs/stable/user_guide/indexing.html#returning-a-view-versus-a-copy\n",
      "  features_train[numeric] = scaler.transform(features_train[numeric])\n",
      "/opt/conda/lib/python3.9/site-packages/pandas/core/indexing.py:1738: SettingWithCopyWarning: \n",
      "A value is trying to be set on a copy of a slice from a DataFrame.\n",
      "Try using .loc[row_indexer,col_indexer] = value instead\n",
      "\n",
      "See the caveats in the documentation: https://pandas.pydata.org/pandas-docs/stable/user_guide/indexing.html#returning-a-view-versus-a-copy\n",
      "  self._setitem_single_column(loc, value[:, i].tolist(), pi)\n"
     ]
    }
   ],
   "source": [
    "numeric = ['credit_score','age','tenure','balance','num_of_products','estimated_salary']\n",
    "\n",
    "scaler = StandardScaler()\n",
    "scaler.fit(features_train[numeric])\n",
    "\n",
    "features_train[numeric] = scaler.transform(features_train[numeric])\n",
    "features_valid[numeric] = scaler.transform(features_valid[numeric])\n",
    "features_test[numeric] = scaler.transform(features_test[numeric])\n",
    "\n",
    "pd.options.mode.chained_assignment = None"
   ]
  },
  {
   "cell_type": "markdown",
   "metadata": {},
   "source": [
    "### Изучаем модели без учета дисбаланса"
   ]
  },
  {
   "cell_type": "markdown",
   "metadata": {},
   "source": [
    "#### Дерево решений"
   ]
  },
  {
   "cell_type": "markdown",
   "metadata": {},
   "source": [
    "Строим модель дерева решений. Создадим также цикл для изменения гиперпараметра max_depth от 2 до 50"
   ]
  },
  {
   "cell_type": "code",
   "execution_count": 22,
   "metadata": {},
   "outputs": [
    {
     "name": "stderr",
     "output_type": "stream",
     "text": [
      "100%|██████████| 19/19 [00:00<00:00, 43.80it/s]\n"
     ]
    }
   ],
   "source": [
    "best_DT = None\n",
    "best_f1_DT = 0\n",
    "best_depth_DT = 0\n",
    "for depth in tqdm(range(1, 20)):\n",
    "    DT = DecisionTreeClassifier(random_state = 12345, max_depth = depth)\n",
    "    DT.fit(features_train, target_train)\n",
    "    prediction_valid_DT = DT.predict(features_valid)\n",
    "    f1_DT = f1_score(prediction_valid_DT, target_valid)\n",
    "    if best_f1_DT < f1_DT:\n",
    "        best_DT = DT\n",
    "        best_f1_DT = f1_DT\n",
    "        best_depth_DT = depth"
   ]
  },
  {
   "cell_type": "code",
   "execution_count": 23,
   "metadata": {},
   "outputs": [
    {
     "name": "stdout",
     "output_type": "stream",
     "text": [
      "Decision Tree: 0.5781818181818181\n"
     ]
    }
   ],
   "source": [
    "print('Decision Tree:', best_f1_DT)"
   ]
  },
  {
   "cell_type": "code",
   "execution_count": 24,
   "metadata": {
    "scrolled": true
   },
   "outputs": [
    {
     "data": {
      "text/plain": [
       "DecisionTreeClassifier(max_depth=7, random_state=12345)"
      ]
     },
     "execution_count": 24,
     "metadata": {},
     "output_type": "execute_result"
    }
   ],
   "source": [
    "# Код ревьюера\n",
    "best_DT"
   ]
  },
  {
   "cell_type": "markdown",
   "metadata": {},
   "source": [
    "#### Случайный лес"
   ]
  },
  {
   "cell_type": "markdown",
   "metadata": {},
   "source": [
    "В модели случайного леса применим два цикла. Первый цикл будет перебирать глубину дерева max_depth, а второй для каждой глубины дерева будет перебирать n_estimators."
   ]
  },
  {
   "cell_type": "code",
   "execution_count": 25,
   "metadata": {},
   "outputs": [
    {
     "name": "stderr",
     "output_type": "stream",
     "text": [
      "100%|██████████| 20/20 [01:16<00:00,  3.81s/it]\n"
     ]
    }
   ],
   "source": [
    "best_RF = None\n",
    "best_f1_RF = 0\n",
    "best_est_RF = 0\n",
    "best_depth_RF = 0\n",
    "for est in tqdm(range(50, 150, 5)):\n",
    "    for depth in range(1, 11):\n",
    "        RF = RandomForestClassifier(random_state = 12345, n_estimators = est, max_depth = depth)\n",
    "        RF.fit(features_train, target_train)\n",
    "        prediction_valid_RF = RF.predict(features_valid)\n",
    "        f1_RF = f1_score(prediction_valid_RF, target_valid)\n",
    "        if best_f1_RF < f1_RF:\n",
    "            best_RF = RF\n",
    "            best_depth_RF = depth\n",
    "            best_est_RF = est\n",
    "            best_f1_RF = f1_RF"
   ]
  },
  {
   "cell_type": "code",
   "execution_count": 26,
   "metadata": {},
   "outputs": [
    {
     "name": "stdout",
     "output_type": "stream",
     "text": [
      "Random Forest: 0.5788497217068646\n"
     ]
    }
   ],
   "source": [
    "print('Random Forest:', best_f1_RF)"
   ]
  },
  {
   "cell_type": "code",
   "execution_count": 27,
   "metadata": {},
   "outputs": [
    {
     "data": {
      "text/plain": [
       "RandomForestClassifier(max_depth=10, n_estimators=80, random_state=12345)"
      ]
     },
     "execution_count": 27,
     "metadata": {},
     "output_type": "execute_result"
    }
   ],
   "source": [
    "best_RF"
   ]
  },
  {
   "cell_type": "markdown",
   "metadata": {},
   "source": [
    "#### Логистическая регрессия"
   ]
  },
  {
   "cell_type": "code",
   "execution_count": 28,
   "metadata": {},
   "outputs": [
    {
     "name": "stdout",
     "output_type": "stream",
     "text": [
      "CPU times: user 116 ms, sys: 143 ms, total: 260 ms\n",
      "Wall time: 249 ms\n"
     ]
    }
   ],
   "source": [
    "%%time\n",
    "\n",
    "LR = LogisticRegression(random_state = 12345).fit(features_train, target_train)\n",
    "prediction = LR.predict(features_valid)\n",
    "f1_LR = f1_score(target_valid, prediction)"
   ]
  },
  {
   "cell_type": "code",
   "execution_count": 29,
   "metadata": {},
   "outputs": [
    {
     "name": "stdout",
     "output_type": "stream",
     "text": [
      "Logistic Regression: 0.2696629213483146\n"
     ]
    }
   ],
   "source": [
    "print('Logistic Regression:', f1_LR)"
   ]
  },
  {
   "cell_type": "markdown",
   "metadata": {},
   "source": [
    "#### Вывод по моделям"
   ]
  },
  {
   "cell_type": "markdown",
   "metadata": {},
   "source": [
    "Посмотрим заодно на то, как ведет себя ROC-кривая у каждой модели"
   ]
  },
  {
   "cell_type": "code",
   "execution_count": 30,
   "metadata": {},
   "outputs": [
    {
     "data": {
      "text/plain": [
       "0.6815612089584693"
      ]
     },
     "execution_count": 30,
     "metadata": {},
     "output_type": "execute_result"
    }
   ],
   "source": [
    "probabilities_DT = DT.predict_proba(features_valid)\n",
    "probabilities_one_valid_DT = probabilities_DT[:,1]\n",
    "fpr_DT, tpr_DT, thresholds = roc_curve(target_valid, probabilities_one_valid_DT)\n",
    "\n",
    "auc_roc_DT = roc_auc_score(target_valid, probabilities_one_valid_DT)\n",
    "auc_roc_DT"
   ]
  },
  {
   "cell_type": "code",
   "execution_count": 31,
   "metadata": {},
   "outputs": [
    {
     "data": {
      "text/plain": [
       "0.8695323258679424"
      ]
     },
     "execution_count": 31,
     "metadata": {},
     "output_type": "execute_result"
    }
   ],
   "source": [
    "probabilities_RF = RF.predict_proba(features_valid)\n",
    "probabilities_one_valid_RF = probabilities_RF[:,1]\n",
    "fpr_RF, tpr_RF, thresholds = roc_curve(target_valid, probabilities_one_valid_RF)\n",
    "\n",
    "auc_roc_RF = roc_auc_score(target_valid, probabilities_one_valid_RF)\n",
    "auc_roc_RF"
   ]
  },
  {
   "cell_type": "code",
   "execution_count": 32,
   "metadata": {},
   "outputs": [
    {
     "data": {
      "text/plain": [
       "0.7624868630861782"
      ]
     },
     "execution_count": 32,
     "metadata": {},
     "output_type": "execute_result"
    }
   ],
   "source": [
    "probabilities_LR = LR.predict_proba(features_valid)\n",
    "probabilities_one_valid_LR = probabilities_LR[:,1]\n",
    "fpr_LR, tpr_LR, thresholds = roc_curve(target_valid, probabilities_one_valid_LR)\n",
    "\n",
    "auc_roc_LR = roc_auc_score(target_valid, probabilities_one_valid_LR)\n",
    "auc_roc_LR"
   ]
  },
  {
   "cell_type": "code",
   "execution_count": 33,
   "metadata": {},
   "outputs": [
    {
     "data": {
      "text/plain": [
       "<Figure size 432x288 with 0 Axes>"
      ]
     },
     "metadata": {},
     "output_type": "display_data"
    },
    {
     "data": {
      "image/png": "[encoded data removed]",
      "text/plain": [
       "<Figure size 720x504 with 1 Axes>"
      ]
     },
     "metadata": {
      "needs_background": "light"
     },
     "output_type": "display_data"
    }
   ],
   "source": [
    "plt.figure()\n",
    "\n",
    "plt.figure(figsize=(10,7))\n",
    "plt.plot([0, 1], [0, 1], linestyle='--')\n",
    "plt.xlim([0.0, 1.0])\n",
    "plt.ylim([0.0, 1.0])\n",
    "plt.plot(fpr_LR, tpr_LR)\n",
    "plt.plot(fpr_DT, tpr_DT)\n",
    "plt.plot(fpr_RF, tpr_RF)\n",
    "plt.xlabel('False Positive Rate')\n",
    "plt.ylabel('True Positive Rate')\n",
    "plt.title('ROC-кривая')\n",
    "plt.legend(('Случайная модель', 'Логистическая регрессия', 'Дерево решений', 'Случайный лес'),\n",
    "           loc= 'upper left') \n",
    "plt.show()"
   ]
  },
  {
   "cell_type": "code",
   "execution_count": 34,
   "metadata": {},
   "outputs": [
    {
     "name": "stdout",
     "output_type": "stream",
     "text": [
      "Decision Tree: 0.5781818181818181\n",
      "Random Forest: 0.5788497217068646\n",
      "Logistic Regression: 0.2696629213483146\n"
     ]
    }
   ],
   "source": [
    "print('Decision Tree:', best_f1_DT)\n",
    "print('Random Forest:', best_f1_RF)\n",
    "print('Logistic Regression:', f1_LR)"
   ]
  },
  {
   "cell_type": "markdown",
   "metadata": {},
   "source": [
    "Рассматривая данные с дисбалансом на трех моделях можно сделать вывод, что самая лучшая среди них - случайный лес, имеющая значение F1-меры аж `0.581`. Хуже всех тем временем показала себя логистическая регрессия."
   ]
  },
  {
   "cell_type": "markdown",
   "metadata": {},
   "source": [
    "## Борьба с дисбалансом"
   ]
  },
  {
   "cell_type": "markdown",
   "metadata": {},
   "source": [
    "### Увеличение выборки"
   ]
  },
  {
   "cell_type": "markdown",
   "metadata": {},
   "source": [
    "Сделаем объекты редкого класса не такими редкими, увеличив их количество в обучающей выборке и перемешаем данные."
   ]
  },
  {
   "cell_type": "code",
   "execution_count": 35,
   "metadata": {},
   "outputs": [],
   "source": [
    "def upsample(features, target, repeat):\n",
    "    features_zeros = features[target == 0]\n",
    "    features_ones = features[target == 1]\n",
    "    target_zeros = target[target == 0]\n",
    "    target_ones = target[target == 1]\n",
    "\n",
    "    features_upsampled = pd.concat([features_zeros] + [features_ones] * repeat)\n",
    "    target_upsampled = pd.concat([target_zeros] + [target_ones] * repeat)\n",
    "    \n",
    "    features_upsampled, target_upsampled = shuffle(\n",
    "        features_upsampled, target_upsampled, random_state=12345)\n",
    "    \n",
    "    return features_upsampled, target_upsampled\n",
    "\n",
    "features_upsampled, target_upsampled = upsample(features_train, target_train, 4)"
   ]
  },
  {
   "cell_type": "markdown",
   "metadata": {},
   "source": [
    "### Уменьшение выборки"
   ]
  },
  {
   "cell_type": "code",
   "execution_count": 36,
   "metadata": {},
   "outputs": [],
   "source": [
    "def downsample(features, target, fraction):\n",
    "    features_zeros = features[target == 0]\n",
    "    features_ones = features[target == 1]\n",
    "    target_zeros = target[target == 0]\n",
    "    target_ones = target[target == 1]\n",
    "\n",
    "    features_downsampled = pd.concat(\n",
    "        [features_zeros.sample(frac=fraction, random_state=12345)] + [features_ones])\n",
    "    target_downsampled = pd.concat(\n",
    "        [target_zeros.sample(frac=fraction, random_state=12345)] + [target_ones])\n",
    "    \n",
    "    features_downsampled, target_downsampled = shuffle(\n",
    "        features_downsampled, target_downsampled, random_state=12345)\n",
    "    \n",
    "    return features_downsampled, target_downsampled\n",
    "\n",
    "features_downsampled, target_downsampled = downsample(features_train, target_train, 0.2)"
   ]
  },
  {
   "cell_type": "markdown",
   "metadata": {},
   "source": [
    "### Обучение моделей на увеличенной выборке"
   ]
  },
  {
   "cell_type": "markdown",
   "metadata": {},
   "source": [
    "Посмотрим, как изменились значения F1-меры после внесенных изменений в данные.\n",
    "Я не стал помещать сюда код с обучением на уменьшенной выборке, т.к. это не имеет никакого смысла - модели стали выдавать сильно меньшие значения."
   ]
  },
  {
   "cell_type": "code",
   "execution_count": 37,
   "metadata": {},
   "outputs": [
    {
     "name": "stdout",
     "output_type": "stream",
     "text": [
      "max_depth: 1 F1: 0.4652567975830816\n",
      "max_depth: 2 F1: 0.4881889763779527\n",
      "max_depth: 3 F1: 0.4881889763779527\n",
      "max_depth: 4 F1: 0.5458468176914779\n",
      "max_depth: 5 F1: 0.5397148676171081\n",
      "max_depth: 6 F1: 0.5398138572905895\n",
      "max_depth: 7 F1: 0.5589307411907655\n",
      "max_depth: 8 F1: 0.5601965601965603\n",
      "max_depth: 9 F1: 0.54292343387471\n",
      "max_depth: 10 F1: 0.5519801980198019\n",
      "max_depth: 11 F1: 0.5458937198067634\n",
      "max_depth: 12 F1: 0.529338327091136\n",
      "max_depth: 13 F1: 0.5220680958385876\n",
      "max_depth: 14 F1: 0.5229960578186597\n",
      "max_depth: 15 F1: 0.5108108108108108\n",
      "max_depth: 16 F1: 0.5167597765363129\n",
      "max_depth: 17 F1: 0.5243553008595988\n",
      "max_depth: 18 F1: 0.499265785609398\n",
      "max_depth: 19 F1: 0.4947526236881559\n",
      "CPU times: user 569 ms, sys: 15.9 ms, total: 585 ms\n",
      "Wall time: 599 ms\n"
     ]
    }
   ],
   "source": [
    "%%time\n",
    "\n",
    "for depth in range(1, 20, 1):\n",
    "    model_DT = DecisionTreeClassifier(max_depth=depth,random_state=12345).fit(features_upsampled, target_upsampled)\n",
    "  \n",
    "    prediction = model_DT.predict(features_valid)\n",
    "    print('max_depth:', depth, 'F1:', f1_score(target_valid, prediction))"
   ]
  },
  {
   "cell_type": "code",
   "execution_count": 38,
   "metadata": {},
   "outputs": [
    {
     "name": "stderr",
     "output_type": "stream",
     "text": [
      "100%|██████████| 10/10 [07:38<00:00, 45.89s/it]\n"
     ]
    }
   ],
   "source": [
    "best_RF = None\n",
    "best_f1_RF = 0\n",
    "best_est_RF = 0\n",
    "best_depth_RF = 0\n",
    "best_leaf = 0\n",
    "for est in tqdm(range(50, 150, 10)):\n",
    "    for depth in range(1, 16):\n",
    "        for leaf in range(1, 6):\n",
    "            RF = RandomForestClassifier(random_state = 12345,\n",
    "                                    n_estimators = est,\n",
    "                                    max_depth = depth,\n",
    "                                    min_samples_leaf=leaf)\n",
    "            RF.fit(features_upsampled, target_upsampled)\n",
    "            prediction_valid_RF = RF.predict(features_valid)\n",
    "            f1_RF = f1_score(prediction_valid_RF, target_valid)\n",
    "            if best_f1_RF < f1_RF:\n",
    "                best_RF = RF\n",
    "                best_depth_RF = depth\n",
    "                best_est_RF = est\n",
    "                best_f1_RF = f1_RF\n",
    "                best_leaf = leaf"
   ]
  },
  {
   "cell_type": "code",
   "execution_count": 39,
   "metadata": {},
   "outputs": [
    {
     "name": "stdout",
     "output_type": "stream",
     "text": [
      "0.6281208935611039 10 130 3\n"
     ]
    }
   ],
   "source": [
    "print(best_f1_RF, best_depth_RF, best_est_RF, best_leaf)"
   ]
  },
  {
   "cell_type": "raw",
   "metadata": {},
   "source": [
    "%%time\n",
    "\n",
    "# Код ревьюера\n",
    "best_rfc_model = None\n",
    "best_result = 0\n",
    "best_depth = 0\n",
    "best_estimators = 0\n",
    "best_leaf = 0\n",
    "\n",
    "for depth in range(1, 16):\n",
    "    for estimators in range(50, 150, 10):\n",
    "        for leaf in range(1, 6):\n",
    "            model_forest = RandomForestClassifier(random_state=12345, \n",
    "                                                  max_depth=depth,\n",
    "                                                  n_estimators=estimators,\n",
    "                                                  min_samples_leaf=leaf) \n",
    "            model_forest.fit(features_train, target_train)\n",
    "            predictions = model_forest.predict(features_valid)\n",
    "            result = f1_score(target_valid, predictions)\n",
    "            if result > best_result:\n",
    "                best_result = result\n",
    "                best_depth = depth\n",
    "                best_estimators = estimators\n",
    "                best_leaf = leaf\n",
    "                best_rfc_model = model_forest\n",
    "\n",
    "print(best_result, best_depth, best_estimator, best_leaf)"
   ]
  },
  {
   "cell_type": "code",
   "execution_count": 40,
   "metadata": {},
   "outputs": [
    {
     "name": "stdout",
     "output_type": "stream",
     "text": [
      "F1: 0.49075975359342916\n",
      "CPU times: user 18 ms, sys: 19.9 ms, total: 38 ms\n",
      "Wall time: 21.3 ms\n"
     ]
    }
   ],
   "source": [
    "%%time\n",
    "\n",
    "model_LR = LogisticRegression(solver='liblinear').fit(features_upsampled, target_upsampled)\n",
    "prediction = model_LR.predict(features_valid)\n",
    "print('F1:', f1_score(target_valid, prediction))"
   ]
  },
  {
   "cell_type": "markdown",
   "metadata": {},
   "source": [
    "Лучшее значение F1-меры у случайного леса при max_depht 8 и estim 75 - `0.619`.\n",
    "У логистической регрессии оно тоже повысилось с `0.063` до `0.495`, что не может не радовать."
   ]
  },
  {
   "cell_type": "code",
   "execution_count": 41,
   "metadata": {
    "scrolled": true
   },
   "outputs": [],
   "source": [
    "probabilities_DT_up = model_DT.predict_proba(features_valid)\n",
    "probabilities_one_valid_tree_DT = probabilities_DT_up[:,1]\n",
    "fpr_DT_up, tpr_DT_up, thresholds = roc_curve(target_valid, probabilities_one_valid_tree_DT)\n",
    "\n",
    "probabilities_RF_up = best_RF.predict_proba(features_valid)\n",
    "probabilities_one_valid_tree_RF = probabilities_RF_up[:,1]\n",
    "fpr_RF_up, tpr_RF_up, thresholds = roc_curve(target_valid, probabilities_one_valid_tree_RF)\n",
    "\n",
    "probabilities_LR_up = model_LR.predict_proba(features_valid)\n",
    "probabilities_one_valid_tree_LR = probabilities_LR_up[:,1]\n",
    "fpr_LR_up, tpr_LR_up, thresholds = roc_curve(target_valid, probabilities_one_valid_tree_LR)"
   ]
  },
  {
   "cell_type": "code",
   "execution_count": 42,
   "metadata": {
    "scrolled": false
   },
   "outputs": [
    {
     "data": {
      "text/plain": [
       "<Figure size 432x288 with 0 Axes>"
      ]
     },
     "metadata": {},
     "output_type": "display_data"
    },
    {
     "data": {
      "image/png": "[encoded data removed]",
      "text/plain": [
       "<Figure size 720x504 with 1 Axes>"
      ]
     },
     "metadata": {
      "needs_background": "light"
     },
     "output_type": "display_data"
    }
   ],
   "source": [
    "plt.figure()\n",
    "\n",
    "plt.figure(figsize=(10,7))\n",
    "plt.plot([0, 1], [0, 1], linestyle='--')\n",
    "plt.xlim([0.0, 1.0])\n",
    "plt.ylim([0.0, 1.0])\n",
    "plt.plot(fpr_LR_up, tpr_LR_up)\n",
    "plt.plot(fpr_DT_up, tpr_DT_up)\n",
    "plt.plot(fpr_RF_up, tpr_RF_up)\n",
    "plt.xlabel('False Positive Rate')\n",
    "plt.ylabel('True Positive Rate')\n",
    "plt.title('ROC-кривая')\n",
    "plt.legend(('Случайная модель', 'Логистическая регрессия', 'Дерево решений', 'Случайный лес'),\n",
    "           loc= 'upper left') \n",
    "plt.show()"
   ]
  },
  {
   "cell_type": "code",
   "execution_count": 43,
   "metadata": {},
   "outputs": [
    {
     "name": "stdout",
     "output_type": "stream",
     "text": [
      "Дерево решений: 0.688659672392549\n",
      "Случайный лес: 0.8648981662680293\n",
      "Логистическая регрессия: 0.7672070921214756\n"
     ]
    }
   ],
   "source": [
    "print('Дерево решений:', roc_auc_score(target_valid, probabilities_one_valid_tree_DT))\n",
    "print('Случайный лес:', roc_auc_score(target_valid, probabilities_one_valid_tree_RF))\n",
    "print('Логистическая регрессия:', roc_auc_score(target_valid, probabilities_one_valid_tree_LR))"
   ]
  },
  {
   "cell_type": "code",
   "execution_count": 44,
   "metadata": {},
   "outputs": [
    {
     "name": "stdout",
     "output_type": "stream",
     "text": [
      "Дерево решений: 0.7733972965137348\n"
     ]
    },
    {
     "data": {
      "text/plain": [
       "<Figure size 432x288 with 0 Axes>"
      ]
     },
     "metadata": {},
     "output_type": "display_data"
    },
    {
     "data": {
      "image/png": "[encoded data removed]",
      "text/plain": [
       "<Figure size 720x504 with 1 Axes>"
      ]
     },
     "metadata": {
      "needs_background": "light"
     },
     "output_type": "display_data"
    }
   ],
   "source": [
    "# Код ревьюера\n",
    "model_DT = DecisionTreeClassifier(random_state=12345, max_depth=8)\n",
    "model_DT.fit(features_upsampled, target_upsampled)\n",
    "\n",
    "probabilities_DT_up = model_DT.predict_proba(features_valid)\n",
    "probabilities_one_valid_tree_DT = probabilities_DT_up[:,1]\n",
    "fpr_DT_up, tpr_DT_up, thresholds = roc_curve(target_valid, probabilities_one_valid_tree_DT)\n",
    "print('Дерево решений:', roc_auc_score(target_valid, probabilities_one_valid_tree_DT))\n",
    "\n",
    "\n",
    "plt.figure()\n",
    "\n",
    "plt.figure(figsize=(10,7))\n",
    "plt.plot([0, 1], [0, 1], linestyle='--')\n",
    "plt.xlim([0.0, 1.0])\n",
    "plt.ylim([0.0, 1.0])\n",
    "plt.plot(fpr_DT_up, tpr_DT_up)\n",
    "plt.xlabel('False Positive Rate')\n",
    "plt.ylabel('True Positive Rate')\n",
    "plt.title('ROC-кривая')\n",
    "plt.legend(('Случайная модель', 'Дерево решений'),\n",
    "           loc= 'upper left') \n",
    "plt.show()"
   ]
  },
  {
   "cell_type": "markdown",
   "metadata": {},
   "source": [
    "### Обучение моделей на уменьшенной выборке"
   ]
  },
  {
   "cell_type": "code",
   "execution_count": 45,
   "metadata": {},
   "outputs": [
    {
     "name": "stdout",
     "output_type": "stream",
     "text": [
      "max_depth: 1 F1: 0.48418491484184917\n",
      "max_depth: 2 F1: 0.41374373657838226\n",
      "max_depth: 3 F1: 0.5211267605633803\n",
      "max_depth: 4 F1: 0.5458290422245108\n",
      "max_depth: 5 F1: 0.5458207452165156\n",
      "max_depth: 6 F1: 0.5566343042071197\n",
      "max_depth: 7 F1: 0.5263157894736842\n",
      "max_depth: 8 F1: 0.5041322314049587\n",
      "max_depth: 9 F1: 0.5105953582240162\n",
      "max_depth: 10 F1: 0.4951456310679611\n",
      "max_depth: 11 F1: 0.502492522432702\n",
      "max_depth: 12 F1: 0.5015105740181268\n",
      "max_depth: 13 F1: 0.5035105315947844\n",
      "max_depth: 14 F1: 0.484\n",
      "max_depth: 15 F1: 0.49648241206030147\n",
      "max_depth: 16 F1: 0.4964682139253279\n",
      "max_depth: 17 F1: 0.49800796812749004\n",
      "max_depth: 18 F1: 0.49199999999999994\n",
      "max_depth: 19 F1: 0.49199999999999994\n",
      "CPU times: user 218 ms, sys: 3.96 ms, total: 222 ms\n",
      "Wall time: 229 ms\n"
     ]
    }
   ],
   "source": [
    "%%time\n",
    "\n",
    "for depth in range(1, 20, 1):\n",
    "    model_DT_dw = DecisionTreeClassifier(max_depth=depth, random_state=12345).fit(features_downsampled, target_downsampled)\n",
    "  \n",
    "    prediction = model_DT_dw.predict(features_valid)\n",
    "    print('max_depth:', depth, 'F1:', f1_score(target_valid, prediction))"
   ]
  },
  {
   "cell_type": "code",
   "execution_count": 46,
   "metadata": {},
   "outputs": [
    {
     "name": "stderr",
     "output_type": "stream",
     "text": [
      "100%|██████████| 10/10 [03:34<00:00, 21.40s/it]\n"
     ]
    }
   ],
   "source": [
    "best_RF_dw = None\n",
    "best_f1_RF = 0\n",
    "best_est_RF = 0\n",
    "best_depth_RF = 0\n",
    "best_leaf = 0\n",
    "for est in tqdm(range(50, 150, 10)):\n",
    "    for depth in range(1, 16):\n",
    "        for leaf in range(1, 6):\n",
    "            RF_dw = RandomForestClassifier(random_state = 12345,\n",
    "                                    n_estimators = est,\n",
    "                                    max_depth = depth,\n",
    "                                    min_samples_leaf=leaf)\n",
    "            RF_dw.fit(features_downsampled, target_downsampled)\n",
    "            prediction_valid_RF = RF.predict(features_valid)\n",
    "            f1_RF = f1_score(prediction_valid_RF, target_valid)\n",
    "            if best_f1_RF < f1_RF:\n",
    "                best_RF_dw = RF\n",
    "                best_depth_RF = depth\n",
    "                best_est_RF = est\n",
    "                best_f1_RF = f1_RF\n",
    "                best_leaf = leaf"
   ]
  },
  {
   "cell_type": "code",
   "execution_count": 47,
   "metadata": {},
   "outputs": [
    {
     "name": "stdout",
     "output_type": "stream",
     "text": [
      "0.6083333333333333 1 50 1\n"
     ]
    }
   ],
   "source": [
    "print(best_f1_RF, best_depth_RF, best_est_RF, best_leaf)"
   ]
  },
  {
   "cell_type": "code",
   "execution_count": 48,
   "metadata": {},
   "outputs": [
    {
     "name": "stdout",
     "output_type": "stream",
     "text": [
      "F1: 0.4773139745916515\n",
      "CPU times: user 22.9 ms, sys: 80 µs, total: 23 ms\n",
      "Wall time: 31.1 ms\n"
     ]
    }
   ],
   "source": [
    "%%time\n",
    "\n",
    "model_LR_dw = LogisticRegression(solver='liblinear').fit(features_downsampled, target_downsampled)\n",
    "prediction = model_LR_dw.predict(features_valid)\n",
    "print('F1:', f1_score(target_valid, prediction))"
   ]
  },
  {
   "cell_type": "code",
   "execution_count": 49,
   "metadata": {},
   "outputs": [],
   "source": [
    "probabilities_DT_dw = model_DT_dw.predict_proba(features_valid)\n",
    "probabilities_one_valid_tree_DT_dw = probabilities_DT_dw[:,1]\n",
    "fpr_DT_dw, tpr_DT_dw, thresholds = roc_curve(target_valid, probabilities_one_valid_tree_DT_dw)\n",
    "\n",
    "probabilities_RF_dw = best_RF_dw.predict_proba(features_valid)\n",
    "probabilities_one_valid_tree_RF_dw = probabilities_RF_dw[:,1]\n",
    "fpr_RF_dw, tpr_RF_dw, thresholds = roc_curve(target_valid, probabilities_one_valid_tree_RF_dw)\n",
    "\n",
    "probabilities_LR_dw = model_LR_dw.predict_proba(features_valid)\n",
    "probabilities_one_valid_tree_LR_dw = probabilities_LR_dw[:,1]\n",
    "fpr_LR_dw, tpr_LR_dw, thresholds = roc_curve(target_valid, probabilities_one_valid_tree_LR_dw)"
   ]
  },
  {
   "cell_type": "code",
   "execution_count": 50,
   "metadata": {
    "scrolled": false
   },
   "outputs": [
    {
     "data": {
      "text/plain": [
       "<Figure size 432x288 with 0 Axes>"
      ]
     },
     "metadata": {},
     "output_type": "display_data"
    },
    {
     "data": {
      "image/png": "[encoded data removed]",
      "text/plain": [
       "<Figure size 720x504 with 1 Axes>"
      ]
     },
     "metadata": {
      "needs_background": "light"
     },
     "output_type": "display_data"
    }
   ],
   "source": [
    "plt.figure()\n",
    "\n",
    "plt.figure(figsize=(10,7))\n",
    "plt.plot([0, 1], [0, 1], linestyle='--')\n",
    "plt.xlim([0.0, 1.0])\n",
    "plt.ylim([0.0, 1.0])\n",
    "plt.plot(fpr_LR_dw, tpr_LR_dw)\n",
    "plt.plot(fpr_DT_dw, tpr_DT_dw)\n",
    "plt.plot(fpr_RF_dw, tpr_RF_dw)\n",
    "plt.xlabel('False Positive Rate')\n",
    "plt.ylabel('True Positive Rate')\n",
    "plt.title('ROC-кривая')\n",
    "plt.legend(('Случайная модель', 'Логистическая регрессия', 'Дерево решений', 'Случайный лес'),\n",
    "           loc= 'upper left') \n",
    "plt.show()"
   ]
  },
  {
   "cell_type": "code",
   "execution_count": 51,
   "metadata": {},
   "outputs": [
    {
     "name": "stdout",
     "output_type": "stream",
     "text": [
      "Дерево решений: 0.7070151119808654\n",
      "Случайный лес: 0.8642934152351961\n",
      "Логистическая регрессия: 0.7666091360440676\n"
     ]
    }
   ],
   "source": [
    "print('Дерево решений:', roc_auc_score(target_valid, probabilities_one_valid_tree_DT_dw))\n",
    "print('Случайный лес:',roc_auc_score(target_valid, probabilities_one_valid_tree_RF_dw))\n",
    "print('Логистическая регрессия:',roc_auc_score(target_valid, probabilities_one_valid_tree_LR_dw))"
   ]
  },
  {
   "cell_type": "code",
   "execution_count": 52,
   "metadata": {},
   "outputs": [
    {
     "name": "stdout",
     "output_type": "stream",
     "text": [
      "Дерево решений: 0.8177094658259042\n"
     ]
    },
    {
     "data": {
      "text/plain": [
       "<Figure size 432x288 with 0 Axes>"
      ]
     },
     "metadata": {},
     "output_type": "display_data"
    },
    {
     "data": {
      "image/png": "[encoded data removed]",
      "text/plain": [
       "<Figure size 720x504 with 1 Axes>"
      ]
     },
     "metadata": {
      "needs_background": "light"
     },
     "output_type": "display_data"
    }
   ],
   "source": [
    "# Код ревьюера\n",
    "model_DT_dw = DecisionTreeClassifier(max_depth=6, random_state=12345)\n",
    "model_DT_dw.fit(features_downsampled, target_downsampled)\n",
    "\n",
    "probabilities_DT_dw = model_DT_dw.predict_proba(features_valid)\n",
    "probabilities_one_valid_tree_DT = probabilities_DT_dw[:,1]\n",
    "fpr_DT_down, tpr_DT_down, thresholds = roc_curve(target_valid, probabilities_one_valid_tree_DT)\n",
    "print('Дерево решений:', roc_auc_score(target_valid, probabilities_one_valid_tree_DT))\n",
    "\n",
    "\n",
    "plt.figure()\n",
    "\n",
    "plt.figure(figsize=(10,7))\n",
    "plt.plot([0, 1], [0, 1], linestyle='--')\n",
    "plt.xlim([0.0, 1.0])\n",
    "plt.ylim([0.0, 1.0])\n",
    "plt.plot(fpr_DT_down, tpr_DT_down)\n",
    "plt.xlabel('False Positive Rate')\n",
    "plt.ylabel('True Positive Rate')\n",
    "plt.title('ROC-кривая')\n",
    "plt.legend(('Случайная модель', 'Дерево решений'),\n",
    "           loc= 'upper left') \n",
    "plt.show()"
   ]
  },
  {
   "cell_type": "markdown",
   "metadata": {},
   "source": [
    "## Проведение тестирования модели"
   ]
  },
  {
   "cell_type": "markdown",
   "metadata": {},
   "source": [
    "Проведем итоговое тестирование. Для него используем модель случайного леса, т.к. она показывала себя лучше всего."
   ]
  },
  {
   "cell_type": "code",
   "execution_count": 53,
   "metadata": {},
   "outputs": [],
   "source": [
    "features_full_train = pd.concat([features_train, features_valid])\n",
    "target_full_train = pd.concat([target_train, target_valid])\n",
    "\n",
    "features_upsampled, target_upsampled = upsample(features_full_train, target_full_train, 4)"
   ]
  },
  {
   "cell_type": "code",
   "execution_count": 54,
   "metadata": {},
   "outputs": [
    {
     "name": "stdout",
     "output_type": "stream",
     "text": [
      "F1: 0.622154779969651\n"
     ]
    }
   ],
   "source": [
    "RF_test = RandomForestClassifier(random_state=12345, n_estimators=50, max_depth=15, min_samples_leaf=1)\n",
    "RF_test.fit(features_upsampled, target_upsampled)\n",
    "prediction_RF_test = RF_test.predict(features_test)\n",
    "print('F1:', f1_score(target_test, prediction_RF_test))"
   ]
  },
  {
   "cell_type": "code",
   "execution_count": 55,
   "metadata": {},
   "outputs": [
    {
     "name": "stdout",
     "output_type": "stream",
     "text": [
      "ROC-AUC: 0.8630589983329708\n"
     ]
    }
   ],
   "source": [
    "probabilities_RF = RF_test.predict_proba(features_test)\n",
    "probabilities_one_test_RF = probabilities_RF[:,1]\n",
    "fpr_RF, tpr_RF, thresholds = roc_curve(target_test, probabilities_one_test_RF)\n",
    "print('ROC-AUC:', roc_auc_score(target_test, probabilities_one_test_RF))"
   ]
  },
  {
   "cell_type": "code",
   "execution_count": 56,
   "metadata": {},
   "outputs": [
    {
     "name": "stdout",
     "output_type": "stream",
     "text": [
      "F1: 0.5376661742983752\n"
     ]
    }
   ],
   "source": [
    "model_DT_test = DecisionTreeClassifier(max_depth=19, random_state=12345).fit(features_upsampled, target_upsampled)\n",
    "prediction_DT_test = model_DT_test.predict(features_test)\n",
    "\n",
    "print('F1:', f1_score(target_test, prediction_DT_test))"
   ]
  },
  {
   "cell_type": "code",
   "execution_count": 57,
   "metadata": {},
   "outputs": [
    {
     "name": "stdout",
     "output_type": "stream",
     "text": [
      "ROC-AUC: 0.7136300010871929\n"
     ]
    }
   ],
   "source": [
    "probabilities_DT = model_DT_test.predict_proba(features_test)\n",
    "probabilities_one_test_DT = probabilities_DT[:,1]\n",
    "fpr_DT, tpr_DT, thresholds = roc_curve(target_test, probabilities_one_test_DT)\n",
    "print('ROC-AUC:', roc_auc_score(target_test, probabilities_one_test_DT))"
   ]
  },
  {
   "cell_type": "markdown",
   "metadata": {},
   "source": [
    "Видим, что нам удалось добиться значения `> 0.59` на тестовой выборке у модели случайного леса. Площадь под ROC-кривой при этом равняется `0.875`."
   ]
  },
  {
   "cell_type": "raw",
   "metadata": {},
   "source": [
    "features_full_train = pd.concat([features_train, features_valid])\n",
    "target_full_train = pd.concat([target_train, target_valid])\n",
    "\n",
    "features_upsampled, target_upsampled = upsample(features_full_train, target_full_train, 4)"
   ]
  },
  {
   "cell_type": "markdown",
   "metadata": {},
   "source": [
    "## Общий вывод"
   ]
  },
  {
   "cell_type": "markdown",
   "metadata": {},
   "source": [
    "В этом проекте мы выполнили предобработку данных и изучение дисбаланса классов.\n",
    "Обучили модели сначала на несбалансированных данных, получив значения F1-меры:\n",
    "\n",
    "* Дерево решений: `0.578`\n",
    "* Случаный лес: `0.578`\n",
    "* Логистическая регрессия: `0.269`\n",
    "\n",
    "После чего провели борьбу с дисбалансом и значения метрики изменились:\n",
    "\n",
    "* Дерево решений: `0.560`\n",
    "* Случаный лес: `0.625`\n",
    "* Логистическая регрессия: `0.490`\n",
    "\n",
    "Лучше всех себя показала модель случайного леса с показателями F1-меры в `0.622` и площадью под ROC-кривой равной `0.863`."
   ]
  }
 ],
 "metadata": {
  "ExecuteTimeLog": [
   {
    "duration": 386,
    "start_time": "2022-09-03T16:36:07.133Z"
   },
   {
    "duration": 79,
    "start_time": "2022-09-03T16:36:48.435Z"
   },
   {
    "duration": 3,
    "start_time": "2022-09-03T16:37:04.292Z"
   },
   {
    "duration": 37,
    "start_time": "2022-09-03T16:37:13.163Z"
   },
   {
    "duration": 12,
    "start_time": "2022-09-03T16:37:19.636Z"
   },
   {
    "duration": 11,
    "start_time": "2022-09-03T16:40:28.963Z"
   },
   {
    "duration": 96,
    "start_time": "2022-09-03T16:46:01.369Z"
   },
   {
    "duration": 10,
    "start_time": "2022-09-03T16:46:07.029Z"
   },
   {
    "duration": 6,
    "start_time": "2022-09-03T16:47:22.283Z"
   },
   {
    "duration": 65,
    "start_time": "2022-09-03T16:51:19.962Z"
   },
   {
    "duration": 50,
    "start_time": "2022-09-03T16:51:40.393Z"
   },
   {
    "duration": 5,
    "start_time": "2022-09-03T16:52:39.640Z"
   },
   {
    "duration": 16,
    "start_time": "2022-09-03T16:52:46.053Z"
   },
   {
    "duration": 14,
    "start_time": "2022-09-03T17:09:06.880Z"
   },
   {
    "duration": 11,
    "start_time": "2022-09-03T17:09:16.488Z"
   },
   {
    "duration": 12,
    "start_time": "2022-09-03T17:09:28.163Z"
   },
   {
    "duration": 359,
    "start_time": "2022-09-03T17:09:33.641Z"
   },
   {
    "duration": 55,
    "start_time": "2022-09-03T17:09:34.001Z"
   },
   {
    "duration": 11,
    "start_time": "2022-09-03T17:09:34.058Z"
   },
   {
    "duration": 11,
    "start_time": "2022-09-03T17:09:34.071Z"
   },
   {
    "duration": 80,
    "start_time": "2022-09-03T17:10:06.502Z"
   },
   {
    "duration": 388,
    "start_time": "2022-09-03T17:10:14.545Z"
   },
   {
    "duration": 61,
    "start_time": "2022-09-03T17:10:14.935Z"
   },
   {
    "duration": 12,
    "start_time": "2022-09-03T17:10:14.997Z"
   },
   {
    "duration": 17,
    "start_time": "2022-09-03T17:10:15.011Z"
   },
   {
    "duration": 65,
    "start_time": "2022-09-03T17:19:18.716Z"
   },
   {
    "duration": 3,
    "start_time": "2022-09-03T17:19:28.237Z"
   },
   {
    "duration": 12,
    "start_time": "2022-09-03T17:19:37.711Z"
   },
   {
    "duration": 4,
    "start_time": "2022-09-03T17:19:45.901Z"
   },
   {
    "duration": 3,
    "start_time": "2022-09-03T17:20:06.974Z"
   },
   {
    "duration": 5,
    "start_time": "2022-09-03T17:21:55.158Z"
   },
   {
    "duration": 4,
    "start_time": "2022-09-03T17:22:25.472Z"
   },
   {
    "duration": 11,
    "start_time": "2022-09-03T17:23:20.006Z"
   },
   {
    "duration": 10,
    "start_time": "2022-09-03T17:23:54.127Z"
   },
   {
    "duration": 1479,
    "start_time": "2022-09-03T17:24:31.080Z"
   },
   {
    "duration": 1023,
    "start_time": "2022-09-03T17:26:00.161Z"
   },
   {
    "duration": 383,
    "start_time": "2022-09-03T17:29:25.409Z"
   },
   {
    "duration": 54,
    "start_time": "2022-09-03T17:29:25.794Z"
   },
   {
    "duration": 1545,
    "start_time": "2022-09-03T17:29:25.849Z"
   },
   {
    "duration": 17,
    "start_time": "2022-09-03T17:29:27.395Z"
   },
   {
    "duration": 12,
    "start_time": "2022-09-03T17:29:27.415Z"
   },
   {
    "duration": 8,
    "start_time": "2022-09-03T17:29:27.429Z"
   },
   {
    "duration": 7,
    "start_time": "2022-09-03T17:29:27.438Z"
   },
   {
    "duration": 11,
    "start_time": "2022-09-03T17:29:27.447Z"
   },
   {
    "duration": 61,
    "start_time": "2022-09-03T17:31:25.275Z"
   },
   {
    "duration": 91,
    "start_time": "2022-09-03T17:31:30.818Z"
   },
   {
    "duration": 382,
    "start_time": "2022-09-03T17:31:38.576Z"
   },
   {
    "duration": 60,
    "start_time": "2022-09-03T17:31:38.959Z"
   },
   {
    "duration": 1261,
    "start_time": "2022-09-03T17:31:39.021Z"
   },
   {
    "duration": 20,
    "start_time": "2022-09-03T17:31:40.284Z"
   },
   {
    "duration": 62,
    "start_time": "2022-09-03T17:31:40.306Z"
   },
   {
    "duration": 10,
    "start_time": "2022-09-03T17:31:40.369Z"
   },
   {
    "duration": 17,
    "start_time": "2022-09-03T17:31:40.381Z"
   },
   {
    "duration": 17,
    "start_time": "2022-09-03T17:31:40.400Z"
   },
   {
    "duration": 7,
    "start_time": "2022-09-03T17:40:09.973Z"
   },
   {
    "duration": 9,
    "start_time": "2022-09-03T17:40:13.384Z"
   },
   {
    "duration": 9,
    "start_time": "2022-09-03T17:41:11.124Z"
   },
   {
    "duration": 7,
    "start_time": "2022-09-03T17:41:57.879Z"
   },
   {
    "duration": 9,
    "start_time": "2022-09-03T17:43:17.159Z"
   },
   {
    "duration": 9,
    "start_time": "2022-09-03T17:44:56.924Z"
   },
   {
    "duration": 8,
    "start_time": "2022-09-03T17:45:50.668Z"
   },
   {
    "duration": 5,
    "start_time": "2022-09-03T17:46:03.513Z"
   },
   {
    "duration": 110,
    "start_time": "2022-09-03T17:46:10.518Z"
   },
   {
    "duration": 8,
    "start_time": "2022-09-03T17:46:13.262Z"
   },
   {
    "duration": 5,
    "start_time": "2022-09-03T17:46:18.482Z"
   },
   {
    "duration": 393,
    "start_time": "2022-09-03T17:48:11.788Z"
   },
   {
    "duration": 59,
    "start_time": "2022-09-03T17:48:12.183Z"
   },
   {
    "duration": 1233,
    "start_time": "2022-09-03T17:48:12.243Z"
   },
   {
    "duration": 11,
    "start_time": "2022-09-03T17:48:13.479Z"
   },
   {
    "duration": 54,
    "start_time": "2022-09-03T17:48:13.501Z"
   },
   {
    "duration": 12,
    "start_time": "2022-09-03T17:48:13.557Z"
   },
   {
    "duration": 16,
    "start_time": "2022-09-03T17:48:13.570Z"
   },
   {
    "duration": 21,
    "start_time": "2022-09-03T17:48:13.587Z"
   },
   {
    "duration": 110,
    "start_time": "2022-09-03T17:54:59.914Z"
   },
   {
    "duration": 393,
    "start_time": "2022-09-03T17:55:11.028Z"
   },
   {
    "duration": 55,
    "start_time": "2022-09-03T17:55:11.423Z"
   },
   {
    "duration": 1287,
    "start_time": "2022-09-03T17:55:11.480Z"
   },
   {
    "duration": 59,
    "start_time": "2022-09-03T17:55:12.769Z"
   },
   {
    "duration": 5,
    "start_time": "2022-09-03T17:55:12.829Z"
   },
   {
    "duration": 6,
    "start_time": "2022-09-03T17:55:12.836Z"
   },
   {
    "duration": 6,
    "start_time": "2022-09-03T17:55:12.843Z"
   },
   {
    "duration": 12,
    "start_time": "2022-09-03T17:55:12.850Z"
   },
   {
    "duration": 16,
    "start_time": "2022-09-03T17:55:12.863Z"
   },
   {
    "duration": 5071,
    "start_time": "2022-09-03T18:02:18.911Z"
   },
   {
    "duration": 15,
    "start_time": "2022-09-03T18:11:46.840Z"
   },
   {
    "duration": 16,
    "start_time": "2022-09-03T18:11:59.220Z"
   },
   {
    "duration": 8,
    "start_time": "2022-09-03T18:14:15.920Z"
   },
   {
    "duration": 6,
    "start_time": "2022-09-03T18:14:24.868Z"
   },
   {
    "duration": 6,
    "start_time": "2022-09-03T18:15:49.620Z"
   },
   {
    "duration": 6,
    "start_time": "2022-09-03T18:15:53.919Z"
   },
   {
    "duration": 11,
    "start_time": "2022-09-03T18:23:03.132Z"
   },
   {
    "duration": 10,
    "start_time": "2022-09-03T18:23:39.522Z"
   },
   {
    "duration": 4,
    "start_time": "2022-09-03T18:23:59.034Z"
   },
   {
    "duration": 388,
    "start_time": "2022-09-03T18:24:04.141Z"
   },
   {
    "duration": 60,
    "start_time": "2022-09-03T18:24:04.531Z"
   },
   {
    "duration": 1310,
    "start_time": "2022-09-03T18:24:04.593Z"
   },
   {
    "duration": 62,
    "start_time": "2022-09-03T18:24:05.906Z"
   },
   {
    "duration": 5,
    "start_time": "2022-09-03T18:24:05.969Z"
   },
   {
    "duration": 23,
    "start_time": "2022-09-03T18:24:05.975Z"
   },
   {
    "duration": 4,
    "start_time": "2022-09-03T18:24:06.000Z"
   },
   {
    "duration": 6,
    "start_time": "2022-09-03T18:24:06.005Z"
   },
   {
    "duration": 15,
    "start_time": "2022-09-03T18:24:06.013Z"
   },
   {
    "duration": 6,
    "start_time": "2022-09-03T18:24:06.030Z"
   },
   {
    "duration": 23,
    "start_time": "2022-09-03T18:24:06.037Z"
   },
   {
    "duration": 36,
    "start_time": "2022-09-03T18:24:06.062Z"
   },
   {
    "duration": 11,
    "start_time": "2022-09-03T18:24:06.100Z"
   },
   {
    "duration": 10,
    "start_time": "2022-09-03T18:24:15.524Z"
   },
   {
    "duration": 11,
    "start_time": "2022-09-03T18:24:37.390Z"
   },
   {
    "duration": 11,
    "start_time": "2022-09-03T18:25:30.627Z"
   },
   {
    "duration": 5,
    "start_time": "2022-09-03T18:27:17.034Z"
   },
   {
    "duration": 74,
    "start_time": "2022-09-03T18:28:39.613Z"
   },
   {
    "duration": 8,
    "start_time": "2022-09-03T18:28:39.960Z"
   },
   {
    "duration": 666,
    "start_time": "2022-09-03T18:29:30.285Z"
   },
   {
    "duration": 8,
    "start_time": "2022-09-03T18:29:37.489Z"
   },
   {
    "duration": 4,
    "start_time": "2022-09-03T18:29:38.001Z"
   },
   {
    "duration": 6,
    "start_time": "2022-09-03T18:29:38.323Z"
   },
   {
    "duration": 3,
    "start_time": "2022-09-03T18:29:38.838Z"
   },
   {
    "duration": 4,
    "start_time": "2022-09-03T18:30:57.648Z"
   },
   {
    "duration": 4,
    "start_time": "2022-09-03T18:31:29.936Z"
   },
   {
    "duration": 64,
    "start_time": "2022-09-03T18:40:34.143Z"
   },
   {
    "duration": 3,
    "start_time": "2022-09-03T18:40:57.106Z"
   },
   {
    "duration": 1553,
    "start_time": "2022-09-03T18:41:02.500Z"
   },
   {
    "duration": 3,
    "start_time": "2022-09-03T18:41:18.269Z"
   },
   {
    "duration": 6574,
    "start_time": "2022-09-03T18:42:05.581Z"
   },
   {
    "duration": 4,
    "start_time": "2022-09-03T18:42:14.329Z"
   },
   {
    "duration": 265,
    "start_time": "2022-09-03T18:44:09.338Z"
   },
   {
    "duration": 4,
    "start_time": "2022-09-03T18:44:19.136Z"
   },
   {
    "duration": 4,
    "start_time": "2022-09-03T18:44:55.133Z"
   },
   {
    "duration": 5,
    "start_time": "2022-09-03T18:45:55.845Z"
   },
   {
    "duration": 12,
    "start_time": "2022-09-03T18:48:15.304Z"
   },
   {
    "duration": 14,
    "start_time": "2022-09-03T18:49:19.301Z"
   },
   {
    "duration": 18,
    "start_time": "2022-09-03T18:49:31.966Z"
   },
   {
    "duration": 12,
    "start_time": "2022-09-03T18:50:18.857Z"
   },
   {
    "duration": 61717,
    "start_time": "2022-09-03T18:50:27.108Z"
   },
   {
    "duration": 3,
    "start_time": "2022-09-03T18:52:41.153Z"
   },
   {
    "duration": 1676,
    "start_time": "2022-09-03T18:54:41.688Z"
   },
   {
    "duration": 3,
    "start_time": "2022-09-03T18:54:49.373Z"
   },
   {
    "duration": 6716,
    "start_time": "2022-09-03T18:55:57.847Z"
   },
   {
    "duration": 1596,
    "start_time": "2022-09-03T18:56:21.551Z"
   },
   {
    "duration": 4,
    "start_time": "2022-09-03T18:56:25.259Z"
   },
   {
    "duration": 6544,
    "start_time": "2022-09-03T18:56:36.427Z"
   },
   {
    "duration": 3,
    "start_time": "2022-09-03T18:56:45.469Z"
   },
   {
    "duration": 10,
    "start_time": "2022-09-03T18:57:25.135Z"
   },
   {
    "duration": 351,
    "start_time": "2022-09-03T18:57:27.054Z"
   },
   {
    "duration": 4,
    "start_time": "2022-09-03T18:57:27.407Z"
   },
   {
    "duration": 3,
    "start_time": "2022-09-03T18:57:30.536Z"
   },
   {
    "duration": 814,
    "start_time": "2022-09-03T18:59:26.497Z"
   },
   {
    "duration": 4,
    "start_time": "2022-09-03T18:59:28.450Z"
   },
   {
    "duration": 665,
    "start_time": "2022-09-03T18:59:30.737Z"
   },
   {
    "duration": 4,
    "start_time": "2022-09-03T18:59:31.403Z"
   },
   {
    "duration": 237,
    "start_time": "2022-09-03T18:59:37.566Z"
   },
   {
    "duration": 2,
    "start_time": "2022-09-03T18:59:38.057Z"
   },
   {
    "duration": 241,
    "start_time": "2022-09-03T18:59:41.263Z"
   },
   {
    "duration": 8,
    "start_time": "2022-09-03T18:59:41.601Z"
   },
   {
    "duration": 4,
    "start_time": "2022-09-03T19:01:41.049Z"
   },
   {
    "duration": 4,
    "start_time": "2022-09-03T19:04:55.664Z"
   },
   {
    "duration": 10,
    "start_time": "2022-09-03T19:07:35.197Z"
   },
   {
    "duration": 10,
    "start_time": "2022-09-03T19:07:48.128Z"
   },
   {
    "duration": 4,
    "start_time": "2022-09-03T19:08:08.444Z"
   },
   {
    "duration": 10,
    "start_time": "2022-09-03T19:08:23.797Z"
   },
   {
    "duration": 8,
    "start_time": "2022-09-03T19:08:33.771Z"
   },
   {
    "duration": 21,
    "start_time": "2022-09-03T19:09:37.321Z"
   },
   {
    "duration": 14,
    "start_time": "2022-09-03T19:10:23.249Z"
   },
   {
    "duration": 160,
    "start_time": "2022-09-03T19:12:58.680Z"
   },
   {
    "duration": 4,
    "start_time": "2022-09-03T19:13:22.414Z"
   },
   {
    "duration": 36,
    "start_time": "2022-09-03T19:55:54.953Z"
   },
   {
    "duration": 4,
    "start_time": "2022-09-03T19:56:09.935Z"
   },
   {
    "duration": 15,
    "start_time": "2022-09-03T19:56:16.531Z"
   },
   {
    "duration": 3256,
    "start_time": "2022-09-03T20:02:08.244Z"
   },
   {
    "duration": 4,
    "start_time": "2022-09-03T20:02:19.957Z"
   },
   {
    "duration": 1068,
    "start_time": "2022-09-05T05:15:49.662Z"
   },
   {
    "duration": 96,
    "start_time": "2022-09-05T05:15:50.732Z"
   },
   {
    "duration": 1696,
    "start_time": "2022-09-05T05:15:50.830Z"
   },
   {
    "duration": 15,
    "start_time": "2022-09-05T05:15:52.528Z"
   },
   {
    "duration": 5,
    "start_time": "2022-09-05T05:15:52.545Z"
   },
   {
    "duration": 13,
    "start_time": "2022-09-05T05:15:52.551Z"
   },
   {
    "duration": 7,
    "start_time": "2022-09-05T05:15:52.566Z"
   },
   {
    "duration": 8,
    "start_time": "2022-09-05T05:15:52.575Z"
   },
   {
    "duration": 29,
    "start_time": "2022-09-05T05:15:52.584Z"
   },
   {
    "duration": 5,
    "start_time": "2022-09-05T05:15:52.616Z"
   },
   {
    "duration": 24,
    "start_time": "2022-09-05T05:15:52.622Z"
   },
   {
    "duration": 11,
    "start_time": "2022-09-05T05:15:52.648Z"
   },
   {
    "duration": 4,
    "start_time": "2022-09-05T05:15:52.661Z"
   },
   {
    "duration": 36,
    "start_time": "2022-09-05T05:15:52.667Z"
   },
   {
    "duration": 3,
    "start_time": "2022-09-05T05:15:52.705Z"
   },
   {
    "duration": 7,
    "start_time": "2022-09-05T05:15:52.712Z"
   },
   {
    "duration": 4,
    "start_time": "2022-09-05T05:15:52.721Z"
   },
   {
    "duration": 149,
    "start_time": "2022-09-05T05:15:52.727Z"
   },
   {
    "duration": 0,
    "start_time": "2022-09-05T05:15:52.878Z"
   },
   {
    "duration": 0,
    "start_time": "2022-09-05T05:15:52.880Z"
   },
   {
    "duration": 0,
    "start_time": "2022-09-05T05:15:52.881Z"
   },
   {
    "duration": 0,
    "start_time": "2022-09-05T05:15:52.882Z"
   },
   {
    "duration": 0,
    "start_time": "2022-09-05T05:15:52.884Z"
   },
   {
    "duration": 0,
    "start_time": "2022-09-05T05:15:52.885Z"
   },
   {
    "duration": 0,
    "start_time": "2022-09-05T05:15:52.886Z"
   },
   {
    "duration": 0,
    "start_time": "2022-09-05T05:15:52.887Z"
   },
   {
    "duration": 0,
    "start_time": "2022-09-05T05:15:52.903Z"
   },
   {
    "duration": 0,
    "start_time": "2022-09-05T05:15:52.904Z"
   },
   {
    "duration": 0,
    "start_time": "2022-09-05T05:15:52.905Z"
   },
   {
    "duration": 0,
    "start_time": "2022-09-05T05:15:52.906Z"
   },
   {
    "duration": 0,
    "start_time": "2022-09-05T05:15:52.907Z"
   },
   {
    "duration": 15,
    "start_time": "2022-09-05T05:17:54.173Z"
   },
   {
    "duration": 1143,
    "start_time": "2022-09-05T05:18:00.838Z"
   },
   {
    "duration": 65,
    "start_time": "2022-09-05T05:18:01.983Z"
   },
   {
    "duration": 1467,
    "start_time": "2022-09-05T05:18:02.049Z"
   },
   {
    "duration": 98,
    "start_time": "2022-09-05T05:18:03.519Z"
   },
   {
    "duration": 5,
    "start_time": "2022-09-05T05:18:03.619Z"
   },
   {
    "duration": 7,
    "start_time": "2022-09-05T05:18:03.625Z"
   },
   {
    "duration": 6,
    "start_time": "2022-09-05T05:18:03.633Z"
   },
   {
    "duration": 6,
    "start_time": "2022-09-05T05:18:03.641Z"
   },
   {
    "duration": 16,
    "start_time": "2022-09-05T05:18:03.649Z"
   },
   {
    "duration": 5,
    "start_time": "2022-09-05T05:18:03.669Z"
   },
   {
    "duration": 20,
    "start_time": "2022-09-05T05:18:03.702Z"
   },
   {
    "duration": 13,
    "start_time": "2022-09-05T05:18:03.723Z"
   },
   {
    "duration": 5,
    "start_time": "2022-09-05T05:18:03.737Z"
   },
   {
    "duration": 8,
    "start_time": "2022-09-05T05:18:03.744Z"
   },
   {
    "duration": 4,
    "start_time": "2022-09-05T05:18:03.753Z"
   },
   {
    "duration": 49,
    "start_time": "2022-09-05T05:18:03.759Z"
   },
   {
    "duration": 3,
    "start_time": "2022-09-05T05:18:03.810Z"
   },
   {
    "duration": 150,
    "start_time": "2022-09-05T05:18:03.814Z"
   },
   {
    "duration": 0,
    "start_time": "2022-09-05T05:18:03.966Z"
   },
   {
    "duration": 0,
    "start_time": "2022-09-05T05:18:03.967Z"
   },
   {
    "duration": 0,
    "start_time": "2022-09-05T05:18:03.968Z"
   },
   {
    "duration": 0,
    "start_time": "2022-09-05T05:18:03.970Z"
   },
   {
    "duration": 0,
    "start_time": "2022-09-05T05:18:03.971Z"
   },
   {
    "duration": 0,
    "start_time": "2022-09-05T05:18:03.972Z"
   },
   {
    "duration": 0,
    "start_time": "2022-09-05T05:18:03.974Z"
   },
   {
    "duration": 0,
    "start_time": "2022-09-05T05:18:03.975Z"
   },
   {
    "duration": 0,
    "start_time": "2022-09-05T05:18:03.976Z"
   },
   {
    "duration": 0,
    "start_time": "2022-09-05T05:18:04.003Z"
   },
   {
    "duration": 0,
    "start_time": "2022-09-05T05:18:04.004Z"
   },
   {
    "duration": 0,
    "start_time": "2022-09-05T05:18:04.006Z"
   },
   {
    "duration": 0,
    "start_time": "2022-09-05T05:18:04.007Z"
   },
   {
    "duration": 1613,
    "start_time": "2022-09-05T05:18:45.244Z"
   },
   {
    "duration": 3,
    "start_time": "2022-09-05T05:18:57.802Z"
   },
   {
    "duration": 7044,
    "start_time": "2022-09-05T05:19:01.574Z"
   },
   {
    "duration": 5,
    "start_time": "2022-09-05T05:19:10.374Z"
   },
   {
    "duration": 440,
    "start_time": "2022-09-05T05:19:14.272Z"
   },
   {
    "duration": 9,
    "start_time": "2022-09-05T05:19:15.746Z"
   },
   {
    "duration": 417,
    "start_time": "2022-09-05T05:20:11.787Z"
   },
   {
    "duration": 3,
    "start_time": "2022-09-05T05:20:13.556Z"
   },
   {
    "duration": 9,
    "start_time": "2022-09-05T05:20:17.792Z"
   },
   {
    "duration": 28,
    "start_time": "2022-09-05T05:20:18.238Z"
   },
   {
    "duration": 79,
    "start_time": "2022-09-05T05:20:18.724Z"
   },
   {
    "duration": 12,
    "start_time": "2022-09-05T05:20:19.302Z"
   },
   {
    "duration": 5,
    "start_time": "2022-09-05T05:20:19.739Z"
   },
   {
    "duration": 4,
    "start_time": "2022-09-05T05:20:59.789Z"
   },
   {
    "duration": 196,
    "start_time": "2022-09-05T05:21:03.115Z"
   },
   {
    "duration": 5,
    "start_time": "2022-09-05T05:21:12.369Z"
   },
   {
    "duration": 17,
    "start_time": "2022-09-05T05:21:14.267Z"
   },
   {
    "duration": 2652,
    "start_time": "2022-09-05T05:21:17.223Z"
   },
   {
    "duration": 3,
    "start_time": "2022-09-05T05:21:20.538Z"
   },
   {
    "duration": 15091,
    "start_time": "2022-09-05T05:23:35.794Z"
   },
   {
    "duration": 4,
    "start_time": "2022-09-05T05:23:52.645Z"
   },
   {
    "duration": 935,
    "start_time": "2022-09-05T05:24:44.071Z"
   },
   {
    "duration": 3,
    "start_time": "2022-09-05T05:24:45.215Z"
   },
   {
    "duration": 12,
    "start_time": "2022-09-05T05:29:45.967Z"
   },
   {
    "duration": 3209,
    "start_time": "2022-09-05T05:31:55.998Z"
   },
   {
    "duration": 4,
    "start_time": "2022-09-05T05:32:26.074Z"
   },
   {
    "duration": 3145,
    "start_time": "2022-09-05T05:32:50.183Z"
   },
   {
    "duration": 4,
    "start_time": "2022-09-05T05:32:53.330Z"
   },
   {
    "duration": 3141,
    "start_time": "2022-09-05T05:33:54.200Z"
   },
   {
    "duration": 3125,
    "start_time": "2022-09-05T05:34:29.527Z"
   },
   {
    "duration": 1278,
    "start_time": "2022-09-05T05:35:24.236Z"
   },
   {
    "duration": 0,
    "start_time": "2022-09-05T05:35:25.518Z"
   },
   {
    "duration": 0,
    "start_time": "2022-09-05T05:35:25.521Z"
   },
   {
    "duration": 0,
    "start_time": "2022-09-05T05:35:25.522Z"
   },
   {
    "duration": 0,
    "start_time": "2022-09-05T05:35:25.523Z"
   },
   {
    "duration": 0,
    "start_time": "2022-09-05T05:35:25.525Z"
   },
   {
    "duration": 0,
    "start_time": "2022-09-05T05:35:25.526Z"
   },
   {
    "duration": 0,
    "start_time": "2022-09-05T05:35:25.527Z"
   },
   {
    "duration": 0,
    "start_time": "2022-09-05T05:35:25.528Z"
   },
   {
    "duration": 0,
    "start_time": "2022-09-05T05:35:25.529Z"
   },
   {
    "duration": 0,
    "start_time": "2022-09-05T05:35:25.530Z"
   },
   {
    "duration": 0,
    "start_time": "2022-09-05T05:35:25.531Z"
   },
   {
    "duration": 0,
    "start_time": "2022-09-05T05:35:25.532Z"
   },
   {
    "duration": 0,
    "start_time": "2022-09-05T05:35:25.533Z"
   },
   {
    "duration": 0,
    "start_time": "2022-09-05T05:35:25.534Z"
   },
   {
    "duration": 0,
    "start_time": "2022-09-05T05:35:25.535Z"
   },
   {
    "duration": 0,
    "start_time": "2022-09-05T05:35:25.536Z"
   },
   {
    "duration": 0,
    "start_time": "2022-09-05T05:35:25.537Z"
   },
   {
    "duration": 0,
    "start_time": "2022-09-05T05:35:25.538Z"
   },
   {
    "duration": 0,
    "start_time": "2022-09-05T05:35:25.539Z"
   },
   {
    "duration": 0,
    "start_time": "2022-09-05T05:35:25.540Z"
   },
   {
    "duration": 0,
    "start_time": "2022-09-05T05:35:25.541Z"
   },
   {
    "duration": 0,
    "start_time": "2022-09-05T05:35:25.542Z"
   },
   {
    "duration": 0,
    "start_time": "2022-09-05T05:35:25.543Z"
   },
   {
    "duration": 0,
    "start_time": "2022-09-05T05:35:25.544Z"
   },
   {
    "duration": 0,
    "start_time": "2022-09-05T05:35:25.545Z"
   },
   {
    "duration": 0,
    "start_time": "2022-09-05T05:35:25.546Z"
   },
   {
    "duration": 0,
    "start_time": "2022-09-05T05:35:25.547Z"
   },
   {
    "duration": 0,
    "start_time": "2022-09-05T05:35:25.549Z"
   },
   {
    "duration": 0,
    "start_time": "2022-09-05T05:35:25.550Z"
   },
   {
    "duration": 0,
    "start_time": "2022-09-05T05:35:25.551Z"
   },
   {
    "duration": 0,
    "start_time": "2022-09-05T05:35:25.603Z"
   },
   {
    "duration": 0,
    "start_time": "2022-09-05T05:35:25.605Z"
   },
   {
    "duration": 0,
    "start_time": "2022-09-05T05:35:25.606Z"
   },
   {
    "duration": 0,
    "start_time": "2022-09-05T05:35:25.607Z"
   },
   {
    "duration": 0,
    "start_time": "2022-09-05T05:35:25.608Z"
   },
   {
    "duration": 0,
    "start_time": "2022-09-05T05:35:25.609Z"
   },
   {
    "duration": 0,
    "start_time": "2022-09-05T05:35:25.611Z"
   },
   {
    "duration": 224,
    "start_time": "2022-09-05T05:36:31.755Z"
   },
   {
    "duration": 1286,
    "start_time": "2022-09-05T05:36:36.242Z"
   },
   {
    "duration": 54,
    "start_time": "2022-09-05T05:36:37.530Z"
   },
   {
    "duration": 1178,
    "start_time": "2022-09-05T05:36:37.585Z"
   },
   {
    "duration": 13,
    "start_time": "2022-09-05T05:36:38.765Z"
   },
   {
    "duration": 103,
    "start_time": "2022-09-05T05:36:38.780Z"
   },
   {
    "duration": 18,
    "start_time": "2022-09-05T05:36:38.885Z"
   },
   {
    "duration": 13,
    "start_time": "2022-09-05T05:36:38.905Z"
   },
   {
    "duration": 12,
    "start_time": "2022-09-05T05:36:38.921Z"
   },
   {
    "duration": 20,
    "start_time": "2022-09-05T05:36:38.935Z"
   },
   {
    "duration": 7,
    "start_time": "2022-09-05T05:36:38.958Z"
   },
   {
    "duration": 34,
    "start_time": "2022-09-05T05:36:38.967Z"
   },
   {
    "duration": 14,
    "start_time": "2022-09-05T05:36:39.004Z"
   },
   {
    "duration": 6,
    "start_time": "2022-09-05T05:36:39.020Z"
   },
   {
    "duration": 18,
    "start_time": "2022-09-05T05:36:39.029Z"
   },
   {
    "duration": 5,
    "start_time": "2022-09-05T05:36:39.049Z"
   },
   {
    "duration": 12,
    "start_time": "2022-09-05T05:36:39.057Z"
   },
   {
    "duration": 33,
    "start_time": "2022-09-05T05:36:39.071Z"
   },
   {
    "duration": 1922,
    "start_time": "2022-09-05T05:36:39.107Z"
   },
   {
    "duration": 4,
    "start_time": "2022-09-05T05:36:41.031Z"
   },
   {
    "duration": 8323,
    "start_time": "2022-09-05T05:36:41.037Z"
   },
   {
    "duration": 3,
    "start_time": "2022-09-05T05:36:49.362Z"
   },
   {
    "duration": 446,
    "start_time": "2022-09-05T05:36:49.366Z"
   },
   {
    "duration": 92,
    "start_time": "2022-09-05T05:36:49.813Z"
   },
   {
    "duration": 119,
    "start_time": "2022-09-05T05:36:49.906Z"
   },
   {
    "duration": 34,
    "start_time": "2022-09-05T05:36:50.026Z"
   },
   {
    "duration": 42,
    "start_time": "2022-09-05T05:36:50.061Z"
   },
   {
    "duration": 287,
    "start_time": "2022-09-05T05:36:50.107Z"
   },
   {
    "duration": 3,
    "start_time": "2022-09-05T05:36:50.403Z"
   },
   {
    "duration": 33,
    "start_time": "2022-09-05T05:36:50.408Z"
   },
   {
    "duration": 20,
    "start_time": "2022-09-05T05:36:50.443Z"
   },
   {
    "duration": 3117,
    "start_time": "2022-09-05T05:36:50.465Z"
   },
   {
    "duration": 4,
    "start_time": "2022-09-05T05:36:53.584Z"
   },
   {
    "duration": 2579,
    "start_time": "2022-09-05T05:36:53.590Z"
   },
   {
    "duration": 4,
    "start_time": "2022-09-05T05:36:56.170Z"
   },
   {
    "duration": 13448,
    "start_time": "2022-09-05T05:36:56.175Z"
   },
   {
    "duration": 3,
    "start_time": "2022-09-05T05:37:09.625Z"
   },
   {
    "duration": 976,
    "start_time": "2022-09-05T05:37:09.630Z"
   },
   {
    "duration": 4,
    "start_time": "2022-09-05T05:37:10.608Z"
   },
   {
    "duration": 325,
    "start_time": "2022-09-05T05:44:53.327Z"
   },
   {
    "duration": 255,
    "start_time": "2022-09-05T05:44:58.704Z"
   },
   {
    "duration": 233,
    "start_time": "2022-09-05T05:45:07.911Z"
   },
   {
    "duration": 11091,
    "start_time": "2022-09-05T05:45:16.049Z"
   },
   {
    "duration": 52,
    "start_time": "2022-09-05T05:47:38.214Z"
   },
   {
    "duration": 86,
    "start_time": "2022-09-05T05:48:49.882Z"
   },
   {
    "duration": 2660,
    "start_time": "2022-09-05T05:48:55.138Z"
   },
   {
    "duration": 2599,
    "start_time": "2022-09-05T05:50:37.541Z"
   },
   {
    "duration": 3,
    "start_time": "2022-09-05T05:50:41.815Z"
   },
   {
    "duration": 11119,
    "start_time": "2022-09-05T05:51:39.540Z"
   },
   {
    "duration": 4,
    "start_time": "2022-09-05T05:51:59.023Z"
   },
   {
    "duration": 11062,
    "start_time": "2022-09-05T05:52:05.275Z"
   },
   {
    "duration": 86,
    "start_time": "2022-09-05T05:53:34.033Z"
   },
   {
    "duration": 2856,
    "start_time": "2022-09-05T05:53:50.899Z"
   },
   {
    "duration": 2878,
    "start_time": "2022-09-05T05:54:49.542Z"
   },
   {
    "duration": 116,
    "start_time": "2022-09-05T05:55:38.893Z"
   },
   {
    "duration": 24,
    "start_time": "2022-09-05T06:05:56.243Z"
   },
   {
    "duration": 2752,
    "start_time": "2022-09-05T06:07:30.679Z"
   },
   {
    "duration": 15,
    "start_time": "2022-09-05T06:11:16.039Z"
   },
   {
    "duration": 3,
    "start_time": "2022-09-05T06:11:16.376Z"
   },
   {
    "duration": 15,
    "start_time": "2022-09-05T06:11:44.189Z"
   },
   {
    "duration": 16,
    "start_time": "2022-09-05T06:13:40.872Z"
   },
   {
    "duration": 15,
    "start_time": "2022-09-05T06:13:55.250Z"
   },
   {
    "duration": 8,
    "start_time": "2022-09-05T06:14:29.582Z"
   },
   {
    "duration": 5,
    "start_time": "2022-09-05T06:14:35.759Z"
   },
   {
    "duration": 44,
    "start_time": "2022-09-05T06:16:30.332Z"
   },
   {
    "duration": 55,
    "start_time": "2022-09-05T06:17:46.838Z"
   },
   {
    "duration": 46,
    "start_time": "2022-09-05T06:17:53.849Z"
   },
   {
    "duration": 53,
    "start_time": "2022-09-05T06:19:57.708Z"
   },
   {
    "duration": 46,
    "start_time": "2022-09-05T06:20:02.450Z"
   },
   {
    "duration": 1449,
    "start_time": "2022-09-05T06:30:09.817Z"
   },
   {
    "duration": 57,
    "start_time": "2022-09-05T06:30:11.268Z"
   },
   {
    "duration": 1201,
    "start_time": "2022-09-05T06:30:11.327Z"
   },
   {
    "duration": 14,
    "start_time": "2022-09-05T06:30:12.530Z"
   },
   {
    "duration": 101,
    "start_time": "2022-09-05T06:30:12.546Z"
   },
   {
    "duration": 5,
    "start_time": "2022-09-05T06:30:12.648Z"
   },
   {
    "duration": 7,
    "start_time": "2022-09-05T06:30:12.654Z"
   },
   {
    "duration": 6,
    "start_time": "2022-09-05T06:30:12.663Z"
   },
   {
    "duration": 14,
    "start_time": "2022-09-05T06:30:12.670Z"
   },
   {
    "duration": 5,
    "start_time": "2022-09-05T06:30:12.703Z"
   },
   {
    "duration": 21,
    "start_time": "2022-09-05T06:30:12.709Z"
   },
   {
    "duration": 13,
    "start_time": "2022-09-05T06:30:12.731Z"
   },
   {
    "duration": 5,
    "start_time": "2022-09-05T06:30:12.745Z"
   },
   {
    "duration": 8,
    "start_time": "2022-09-05T06:30:12.753Z"
   },
   {
    "duration": 4,
    "start_time": "2022-09-05T06:30:12.762Z"
   },
   {
    "duration": 40,
    "start_time": "2022-09-05T06:30:12.767Z"
   },
   {
    "duration": 4,
    "start_time": "2022-09-05T06:30:12.809Z"
   },
   {
    "duration": 1547,
    "start_time": "2022-09-05T06:30:12.815Z"
   },
   {
    "duration": 4,
    "start_time": "2022-09-05T06:30:14.363Z"
   },
   {
    "duration": 6852,
    "start_time": "2022-09-05T06:30:14.368Z"
   },
   {
    "duration": 4,
    "start_time": "2022-09-05T06:30:21.222Z"
   },
   {
    "duration": 383,
    "start_time": "2022-09-05T06:30:21.229Z"
   },
   {
    "duration": 4,
    "start_time": "2022-09-05T06:30:21.705Z"
   },
   {
    "duration": 100,
    "start_time": "2022-09-05T06:30:21.711Z"
   },
   {
    "duration": 30,
    "start_time": "2022-09-05T06:30:21.813Z"
   },
   {
    "duration": 62,
    "start_time": "2022-09-05T06:30:21.845Z"
   },
   {
    "duration": 290,
    "start_time": "2022-09-05T06:30:21.909Z"
   },
   {
    "duration": 3,
    "start_time": "2022-09-05T06:30:22.203Z"
   },
   {
    "duration": 22,
    "start_time": "2022-09-05T06:30:22.208Z"
   },
   {
    "duration": 13,
    "start_time": "2022-09-05T06:30:22.231Z"
   },
   {
    "duration": 2809,
    "start_time": "2022-09-05T06:30:22.246Z"
   },
   {
    "duration": 10940,
    "start_time": "2022-09-05T06:30:25.056Z"
   },
   {
    "duration": 103,
    "start_time": "2022-09-05T06:30:36.002Z"
   },
   {
    "duration": 120,
    "start_time": "2022-09-05T06:30:36.107Z"
   },
   {
    "duration": 35,
    "start_time": "2022-09-05T06:30:36.229Z"
   },
   {
    "duration": 1425,
    "start_time": "2022-09-05T06:31:06.558Z"
   },
   {
    "duration": 53,
    "start_time": "2022-09-05T06:31:07.985Z"
   },
   {
    "duration": 1257,
    "start_time": "2022-09-05T06:31:08.040Z"
   },
   {
    "duration": 16,
    "start_time": "2022-09-05T06:31:09.298Z"
   },
   {
    "duration": 106,
    "start_time": "2022-09-05T06:31:09.317Z"
   },
   {
    "duration": 4,
    "start_time": "2022-09-05T06:31:09.425Z"
   },
   {
    "duration": 18,
    "start_time": "2022-09-05T06:31:09.431Z"
   },
   {
    "duration": 36,
    "start_time": "2022-09-05T06:31:09.451Z"
   },
   {
    "duration": 34,
    "start_time": "2022-09-05T06:31:09.489Z"
   },
   {
    "duration": 21,
    "start_time": "2022-09-05T06:31:09.525Z"
   },
   {
    "duration": 23,
    "start_time": "2022-09-05T06:31:09.548Z"
   },
   {
    "duration": 12,
    "start_time": "2022-09-05T06:31:09.573Z"
   },
   {
    "duration": 21,
    "start_time": "2022-09-05T06:31:09.587Z"
   },
   {
    "duration": 30,
    "start_time": "2022-09-05T06:31:09.611Z"
   },
   {
    "duration": 13,
    "start_time": "2022-09-05T06:31:09.643Z"
   },
   {
    "duration": 30,
    "start_time": "2022-09-05T06:31:09.657Z"
   },
   {
    "duration": 15,
    "start_time": "2022-09-05T06:31:09.689Z"
   },
   {
    "duration": 1615,
    "start_time": "2022-09-05T06:31:09.705Z"
   },
   {
    "duration": 5,
    "start_time": "2022-09-05T06:31:11.322Z"
   },
   {
    "duration": 6839,
    "start_time": "2022-09-05T06:31:11.329Z"
   },
   {
    "duration": 4,
    "start_time": "2022-09-05T06:31:18.169Z"
   },
   {
    "duration": 537,
    "start_time": "2022-09-05T06:31:18.175Z"
   },
   {
    "duration": 90,
    "start_time": "2022-09-05T06:31:18.714Z"
   },
   {
    "duration": 107,
    "start_time": "2022-09-05T06:31:18.806Z"
   },
   {
    "duration": 33,
    "start_time": "2022-09-05T06:31:18.915Z"
   },
   {
    "duration": 54,
    "start_time": "2022-09-05T06:31:18.950Z"
   },
   {
    "duration": 306,
    "start_time": "2022-09-05T06:31:19.006Z"
   },
   {
    "duration": 4,
    "start_time": "2022-09-05T06:31:19.314Z"
   },
   {
    "duration": 19,
    "start_time": "2022-09-05T06:31:19.319Z"
   },
   {
    "duration": 11,
    "start_time": "2022-09-05T06:31:19.339Z"
   },
   {
    "duration": 2770,
    "start_time": "2022-09-05T06:31:19.352Z"
   },
   {
    "duration": 10938,
    "start_time": "2022-09-05T06:31:22.123Z"
   },
   {
    "duration": 78,
    "start_time": "2022-09-05T06:31:33.063Z"
   },
   {
    "duration": 171,
    "start_time": "2022-09-05T06:31:33.143Z"
   },
   {
    "duration": 34,
    "start_time": "2022-09-05T06:31:33.316Z"
   },
   {
    "duration": 1582,
    "start_time": "2022-09-05T07:01:45.311Z"
   },
   {
    "duration": 97,
    "start_time": "2022-09-05T07:01:46.895Z"
   },
   {
    "duration": 1037,
    "start_time": "2022-09-05T07:01:46.994Z"
   },
   {
    "duration": 11,
    "start_time": "2022-09-05T07:01:48.038Z"
   },
   {
    "duration": 78,
    "start_time": "2022-09-05T07:01:48.051Z"
   },
   {
    "duration": 10,
    "start_time": "2022-09-05T07:01:48.131Z"
   },
   {
    "duration": 8,
    "start_time": "2022-09-05T07:01:48.142Z"
   },
   {
    "duration": 6,
    "start_time": "2022-09-05T07:01:48.152Z"
   },
   {
    "duration": 14,
    "start_time": "2022-09-05T07:01:48.159Z"
   },
   {
    "duration": 5,
    "start_time": "2022-09-05T07:01:48.174Z"
   },
   {
    "duration": 17,
    "start_time": "2022-09-05T07:01:48.180Z"
   },
   {
    "duration": 10,
    "start_time": "2022-09-05T07:01:48.199Z"
   },
   {
    "duration": 32,
    "start_time": "2022-09-05T07:01:48.210Z"
   },
   {
    "duration": 7,
    "start_time": "2022-09-05T07:01:48.245Z"
   },
   {
    "duration": 4,
    "start_time": "2022-09-05T07:01:48.253Z"
   },
   {
    "duration": 8,
    "start_time": "2022-09-05T07:01:48.258Z"
   },
   {
    "duration": 4,
    "start_time": "2022-09-05T07:01:48.267Z"
   },
   {
    "duration": 1441,
    "start_time": "2022-09-05T07:01:48.273Z"
   },
   {
    "duration": 3,
    "start_time": "2022-09-05T07:01:49.715Z"
   },
   {
    "duration": 6345,
    "start_time": "2022-09-05T07:01:49.720Z"
   },
   {
    "duration": 3,
    "start_time": "2022-09-05T07:01:56.067Z"
   },
   {
    "duration": 579,
    "start_time": "2022-09-05T07:01:56.072Z"
   },
   {
    "duration": 4,
    "start_time": "2022-09-05T07:01:56.739Z"
   },
   {
    "duration": 100,
    "start_time": "2022-09-05T07:01:56.745Z"
   },
   {
    "duration": 28,
    "start_time": "2022-09-05T07:01:56.847Z"
   },
   {
    "duration": 69,
    "start_time": "2022-09-05T07:01:56.877Z"
   },
   {
    "duration": 283,
    "start_time": "2022-09-05T07:01:56.948Z"
   },
   {
    "duration": 7,
    "start_time": "2022-09-05T07:01:57.233Z"
   },
   {
    "duration": 24,
    "start_time": "2022-09-05T07:01:57.242Z"
   },
   {
    "duration": 12,
    "start_time": "2022-09-05T07:01:57.267Z"
   },
   {
    "duration": 2547,
    "start_time": "2022-09-05T07:01:57.280Z"
   },
   {
    "duration": 9646,
    "start_time": "2022-09-05T07:01:59.828Z"
   },
   {
    "duration": 165,
    "start_time": "2022-09-05T07:02:09.476Z"
   },
   {
    "duration": 117,
    "start_time": "2022-09-05T07:02:09.643Z"
   },
   {
    "duration": 29,
    "start_time": "2022-09-05T07:02:09.761Z"
   },
   {
    "duration": 11,
    "start_time": "2022-09-05T11:30:15.772Z"
   },
   {
    "duration": 5,
    "start_time": "2022-09-05T11:42:31.330Z"
   },
   {
    "duration": 1421,
    "start_time": "2022-09-05T11:42:34.901Z"
   },
   {
    "duration": 3,
    "start_time": "2022-09-05T11:42:38.295Z"
   },
   {
    "duration": 3,
    "start_time": "2022-09-05T11:42:38.824Z"
   },
   {
    "duration": 4,
    "start_time": "2022-09-05T11:44:34.051Z"
   },
   {
    "duration": 48,
    "start_time": "2022-09-05T12:31:08.661Z"
   },
   {
    "duration": 1612,
    "start_time": "2022-09-05T12:31:15.934Z"
   },
   {
    "duration": 171,
    "start_time": "2022-09-05T12:31:17.548Z"
   },
   {
    "duration": 1094,
    "start_time": "2022-09-05T12:31:17.721Z"
   },
   {
    "duration": 12,
    "start_time": "2022-09-05T12:31:18.817Z"
   },
   {
    "duration": 99,
    "start_time": "2022-09-05T12:31:18.830Z"
   },
   {
    "duration": 4,
    "start_time": "2022-09-05T12:31:18.931Z"
   },
   {
    "duration": 24,
    "start_time": "2022-09-05T12:31:18.937Z"
   },
   {
    "duration": 13,
    "start_time": "2022-09-05T12:31:18.963Z"
   },
   {
    "duration": 20,
    "start_time": "2022-09-05T12:31:18.978Z"
   },
   {
    "duration": 12,
    "start_time": "2022-09-05T12:31:19.000Z"
   },
   {
    "duration": 35,
    "start_time": "2022-09-05T12:31:19.013Z"
   },
   {
    "duration": 15,
    "start_time": "2022-09-05T12:31:19.050Z"
   },
   {
    "duration": 7,
    "start_time": "2022-09-05T12:31:19.067Z"
   },
   {
    "duration": 19,
    "start_time": "2022-09-05T12:31:19.076Z"
   },
   {
    "duration": 13,
    "start_time": "2022-09-05T12:31:19.096Z"
   },
   {
    "duration": 18,
    "start_time": "2022-09-05T12:31:19.110Z"
   },
   {
    "duration": 18,
    "start_time": "2022-09-05T12:31:19.130Z"
   },
   {
    "duration": 1465,
    "start_time": "2022-09-05T12:31:19.150Z"
   },
   {
    "duration": 3,
    "start_time": "2022-09-05T12:31:20.617Z"
   },
   {
    "duration": 28,
    "start_time": "2022-09-05T12:31:20.622Z"
   },
   {
    "duration": 6629,
    "start_time": "2022-09-05T12:31:20.652Z"
   },
   {
    "duration": 4,
    "start_time": "2022-09-05T12:31:27.282Z"
   },
   {
    "duration": 487,
    "start_time": "2022-09-05T12:31:27.288Z"
   },
   {
    "duration": 92,
    "start_time": "2022-09-05T12:31:27.777Z"
   },
   {
    "duration": 109,
    "start_time": "2022-09-05T12:31:27.872Z"
   },
   {
    "duration": 28,
    "start_time": "2022-09-05T12:31:27.983Z"
   },
   {
    "duration": 56,
    "start_time": "2022-09-05T12:31:28.013Z"
   },
   {
    "duration": 313,
    "start_time": "2022-09-05T12:31:28.073Z"
   },
   {
    "duration": 4,
    "start_time": "2022-09-05T12:31:28.388Z"
   },
   {
    "duration": 19,
    "start_time": "2022-09-05T12:31:28.393Z"
   },
   {
    "duration": 12,
    "start_time": "2022-09-05T12:31:28.414Z"
   },
   {
    "duration": 3640,
    "start_time": "2022-09-05T12:31:28.428Z"
   },
   {
    "duration": 10678,
    "start_time": "2022-09-05T12:31:32.070Z"
   },
   {
    "duration": 117,
    "start_time": "2022-09-05T12:31:42.750Z"
   },
   {
    "duration": 117,
    "start_time": "2022-09-05T12:31:42.868Z"
   },
   {
    "duration": 31,
    "start_time": "2022-09-05T12:31:42.987Z"
   },
   {
    "duration": 6,
    "start_time": "2022-09-05T12:31:52.094Z"
   },
   {
    "duration": 5,
    "start_time": "2022-09-05T12:32:02.670Z"
   },
   {
    "duration": 3,
    "start_time": "2022-09-05T12:33:25.422Z"
   },
   {
    "duration": 52,
    "start_time": "2022-09-06T04:21:27.613Z"
   },
   {
    "duration": 1644,
    "start_time": "2022-09-06T04:21:36.694Z"
   },
   {
    "duration": 103,
    "start_time": "2022-09-06T04:21:38.340Z"
   },
   {
    "duration": 1327,
    "start_time": "2022-09-06T04:21:38.446Z"
   },
   {
    "duration": 13,
    "start_time": "2022-09-06T04:21:39.775Z"
   },
   {
    "duration": 99,
    "start_time": "2022-09-06T04:21:39.790Z"
   },
   {
    "duration": 14,
    "start_time": "2022-09-06T04:21:39.891Z"
   },
   {
    "duration": 8,
    "start_time": "2022-09-06T04:21:39.906Z"
   },
   {
    "duration": 8,
    "start_time": "2022-09-06T04:21:39.916Z"
   },
   {
    "duration": 13,
    "start_time": "2022-09-06T04:21:39.926Z"
   },
   {
    "duration": 5,
    "start_time": "2022-09-06T04:21:39.943Z"
   },
   {
    "duration": 53,
    "start_time": "2022-09-06T04:21:39.950Z"
   },
   {
    "duration": 13,
    "start_time": "2022-09-06T04:21:40.004Z"
   },
   {
    "duration": 9,
    "start_time": "2022-09-06T04:21:40.019Z"
   },
   {
    "duration": 12,
    "start_time": "2022-09-06T04:21:40.030Z"
   },
   {
    "duration": 4,
    "start_time": "2022-09-06T04:21:40.043Z"
   },
   {
    "duration": 9,
    "start_time": "2022-09-06T04:21:40.049Z"
   },
   {
    "duration": 9,
    "start_time": "2022-09-06T04:21:40.059Z"
   },
   {
    "duration": 1642,
    "start_time": "2022-09-06T04:21:40.070Z"
   },
   {
    "duration": 3,
    "start_time": "2022-09-06T04:21:41.714Z"
   },
   {
    "duration": 8,
    "start_time": "2022-09-06T04:21:41.719Z"
   },
   {
    "duration": 8016,
    "start_time": "2022-09-06T04:21:41.729Z"
   },
   {
    "duration": 3,
    "start_time": "2022-09-06T04:21:49.747Z"
   },
   {
    "duration": 662,
    "start_time": "2022-09-06T04:21:49.752Z"
   },
   {
    "duration": 89,
    "start_time": "2022-09-06T04:21:50.417Z"
   },
   {
    "duration": 15,
    "start_time": "2022-09-06T04:21:50.508Z"
   },
   {
    "duration": 29,
    "start_time": "2022-09-06T04:21:50.525Z"
   },
   {
    "duration": 51,
    "start_time": "2022-09-06T04:21:50.556Z"
   },
   {
    "duration": 306,
    "start_time": "2022-09-06T04:21:50.612Z"
   },
   {
    "duration": 4,
    "start_time": "2022-09-06T04:21:50.920Z"
   },
   {
    "duration": 18,
    "start_time": "2022-09-06T04:21:50.925Z"
   },
   {
    "duration": 11,
    "start_time": "2022-09-06T04:21:50.945Z"
   },
   {
    "duration": 2947,
    "start_time": "2022-09-06T04:21:50.958Z"
   },
   {
    "duration": 11728,
    "start_time": "2022-09-06T04:21:53.907Z"
   },
   {
    "duration": 165,
    "start_time": "2022-09-06T04:22:05.638Z"
   },
   {
    "duration": 123,
    "start_time": "2022-09-06T04:22:05.805Z"
   },
   {
    "duration": 36,
    "start_time": "2022-09-06T04:22:05.930Z"
   },
   {
    "duration": 37,
    "start_time": "2022-09-06T04:22:30.830Z"
   },
   {
    "duration": 7,
    "start_time": "2022-09-06T04:26:40.026Z"
   },
   {
    "duration": 4,
    "start_time": "2022-09-06T04:27:22.894Z"
   },
   {
    "duration": 241,
    "start_time": "2022-09-06T04:27:26.869Z"
   },
   {
    "duration": 140,
    "start_time": "2022-09-06T04:27:40.105Z"
   },
   {
    "duration": 144,
    "start_time": "2022-09-06T04:27:55.462Z"
   },
   {
    "duration": 133,
    "start_time": "2022-09-06T04:30:31.941Z"
   },
   {
    "duration": 119,
    "start_time": "2022-09-06T04:30:41.058Z"
   },
   {
    "duration": 127,
    "start_time": "2022-09-06T04:30:48.596Z"
   },
   {
    "duration": 1439,
    "start_time": "2022-09-06T04:33:24.374Z"
   },
   {
    "duration": 55,
    "start_time": "2022-09-06T04:33:25.815Z"
   },
   {
    "duration": 1202,
    "start_time": "2022-09-06T04:33:25.872Z"
   },
   {
    "duration": 27,
    "start_time": "2022-09-06T04:33:27.077Z"
   },
   {
    "duration": 110,
    "start_time": "2022-09-06T04:33:27.106Z"
   },
   {
    "duration": 49,
    "start_time": "2022-09-06T04:33:27.217Z"
   },
   {
    "duration": 5,
    "start_time": "2022-09-06T04:33:27.268Z"
   },
   {
    "duration": 9,
    "start_time": "2022-09-06T04:33:27.275Z"
   },
   {
    "duration": 5,
    "start_time": "2022-09-06T04:33:27.302Z"
   },
   {
    "duration": 17,
    "start_time": "2022-09-06T04:33:27.310Z"
   },
   {
    "duration": 7,
    "start_time": "2022-09-06T04:33:27.329Z"
   },
   {
    "duration": 133,
    "start_time": "2022-09-06T04:33:27.338Z"
   },
   {
    "duration": 32,
    "start_time": "2022-09-06T04:33:27.472Z"
   },
   {
    "duration": 14,
    "start_time": "2022-09-06T04:33:27.506Z"
   },
   {
    "duration": 11,
    "start_time": "2022-09-06T04:33:27.522Z"
   },
   {
    "duration": 12,
    "start_time": "2022-09-06T04:33:27.535Z"
   },
   {
    "duration": 6,
    "start_time": "2022-09-06T04:33:27.549Z"
   },
   {
    "duration": 12,
    "start_time": "2022-09-06T04:33:27.557Z"
   },
   {
    "duration": 3,
    "start_time": "2022-09-06T04:33:27.571Z"
   },
   {
    "duration": 1626,
    "start_time": "2022-09-06T04:33:27.604Z"
   },
   {
    "duration": 3,
    "start_time": "2022-09-06T04:33:29.232Z"
   },
   {
    "duration": 16,
    "start_time": "2022-09-06T04:33:29.237Z"
   },
   {
    "duration": 6906,
    "start_time": "2022-09-06T04:33:29.254Z"
   },
   {
    "duration": 4,
    "start_time": "2022-09-06T04:33:36.162Z"
   },
   {
    "duration": 843,
    "start_time": "2022-09-06T04:33:36.168Z"
   },
   {
    "duration": 95,
    "start_time": "2022-09-06T04:33:37.013Z"
   },
   {
    "duration": 101,
    "start_time": "2022-09-06T04:33:37.113Z"
   },
   {
    "duration": 28,
    "start_time": "2022-09-06T04:33:37.218Z"
   },
   {
    "duration": 58,
    "start_time": "2022-09-06T04:33:37.248Z"
   },
   {
    "duration": 296,
    "start_time": "2022-09-06T04:33:37.311Z"
   },
   {
    "duration": 3,
    "start_time": "2022-09-06T04:33:37.609Z"
   },
   {
    "duration": 21,
    "start_time": "2022-09-06T04:33:37.614Z"
   },
   {
    "duration": 14,
    "start_time": "2022-09-06T04:33:37.636Z"
   },
   {
    "duration": 3980,
    "start_time": "2022-09-06T04:33:37.652Z"
   },
   {
    "duration": 10992,
    "start_time": "2022-09-06T04:33:41.633Z"
   },
   {
    "duration": 80,
    "start_time": "2022-09-06T04:33:52.627Z"
   },
   {
    "duration": 213,
    "start_time": "2022-09-06T04:33:52.709Z"
   },
   {
    "duration": 36,
    "start_time": "2022-09-06T04:33:52.924Z"
   },
   {
    "duration": 115,
    "start_time": "2022-09-06T04:38:11.635Z"
   },
   {
    "duration": 4,
    "start_time": "2022-09-06T04:38:47.634Z"
   },
   {
    "duration": 4,
    "start_time": "2022-09-06T04:38:50.880Z"
   },
   {
    "duration": 32,
    "start_time": "2022-09-06T04:39:03.638Z"
   },
   {
    "duration": 39,
    "start_time": "2022-09-06T04:41:16.047Z"
   },
   {
    "duration": 26,
    "start_time": "2022-09-06T04:41:19.376Z"
   },
   {
    "duration": 33,
    "start_time": "2022-09-06T04:41:23.038Z"
   },
   {
    "duration": 503,
    "start_time": "2022-09-06T04:43:42.087Z"
   },
   {
    "duration": 3,
    "start_time": "2022-09-06T04:43:45.597Z"
   },
   {
    "duration": 1457,
    "start_time": "2022-09-06T04:43:51.443Z"
   },
   {
    "duration": 56,
    "start_time": "2022-09-06T04:43:52.902Z"
   },
   {
    "duration": 1237,
    "start_time": "2022-09-06T04:43:52.960Z"
   },
   {
    "duration": 14,
    "start_time": "2022-09-06T04:43:54.199Z"
   },
   {
    "duration": 100,
    "start_time": "2022-09-06T04:43:54.214Z"
   },
   {
    "duration": 48,
    "start_time": "2022-09-06T04:43:54.316Z"
   },
   {
    "duration": 5,
    "start_time": "2022-09-06T04:43:54.365Z"
   },
   {
    "duration": 6,
    "start_time": "2022-09-06T04:43:54.371Z"
   },
   {
    "duration": 24,
    "start_time": "2022-09-06T04:43:54.379Z"
   },
   {
    "duration": 14,
    "start_time": "2022-09-06T04:43:54.407Z"
   },
   {
    "duration": 9,
    "start_time": "2022-09-06T04:43:54.423Z"
   },
   {
    "duration": 140,
    "start_time": "2022-09-06T04:43:54.434Z"
   },
   {
    "duration": 28,
    "start_time": "2022-09-06T04:43:54.576Z"
   },
   {
    "duration": 13,
    "start_time": "2022-09-06T04:43:54.606Z"
   },
   {
    "duration": 136,
    "start_time": "2022-09-06T04:43:54.620Z"
   },
   {
    "duration": 0,
    "start_time": "2022-09-06T04:43:54.758Z"
   },
   {
    "duration": 0,
    "start_time": "2022-09-06T04:43:54.759Z"
   },
   {
    "duration": 0,
    "start_time": "2022-09-06T04:43:54.760Z"
   },
   {
    "duration": 0,
    "start_time": "2022-09-06T04:43:54.761Z"
   },
   {
    "duration": 0,
    "start_time": "2022-09-06T04:43:54.762Z"
   },
   {
    "duration": 0,
    "start_time": "2022-09-06T04:43:54.763Z"
   },
   {
    "duration": 0,
    "start_time": "2022-09-06T04:43:54.764Z"
   },
   {
    "duration": 0,
    "start_time": "2022-09-06T04:43:54.766Z"
   },
   {
    "duration": 0,
    "start_time": "2022-09-06T04:43:54.767Z"
   },
   {
    "duration": 0,
    "start_time": "2022-09-06T04:43:54.768Z"
   },
   {
    "duration": 0,
    "start_time": "2022-09-06T04:43:54.769Z"
   },
   {
    "duration": 0,
    "start_time": "2022-09-06T04:43:54.770Z"
   },
   {
    "duration": 0,
    "start_time": "2022-09-06T04:43:54.771Z"
   },
   {
    "duration": 0,
    "start_time": "2022-09-06T04:43:54.772Z"
   },
   {
    "duration": 0,
    "start_time": "2022-09-06T04:43:54.772Z"
   },
   {
    "duration": 0,
    "start_time": "2022-09-06T04:43:54.773Z"
   },
   {
    "duration": 0,
    "start_time": "2022-09-06T04:43:54.774Z"
   },
   {
    "duration": 0,
    "start_time": "2022-09-06T04:43:54.775Z"
   },
   {
    "duration": 0,
    "start_time": "2022-09-06T04:43:54.803Z"
   },
   {
    "duration": 0,
    "start_time": "2022-09-06T04:43:54.804Z"
   },
   {
    "duration": 0,
    "start_time": "2022-09-06T04:43:54.805Z"
   },
   {
    "duration": 0,
    "start_time": "2022-09-06T04:43:54.807Z"
   },
   {
    "duration": 0,
    "start_time": "2022-09-06T04:43:54.808Z"
   },
   {
    "duration": 0,
    "start_time": "2022-09-06T04:43:54.809Z"
   },
   {
    "duration": 11,
    "start_time": "2022-09-06T04:44:37.278Z"
   },
   {
    "duration": 7,
    "start_time": "2022-09-06T04:44:59.235Z"
   },
   {
    "duration": 8,
    "start_time": "2022-09-06T04:44:59.774Z"
   },
   {
    "duration": 4,
    "start_time": "2022-09-06T04:45:00.167Z"
   },
   {
    "duration": 6,
    "start_time": "2022-09-06T04:45:00.550Z"
   },
   {
    "duration": 4,
    "start_time": "2022-09-06T04:45:01.429Z"
   },
   {
    "duration": 32,
    "start_time": "2022-09-06T04:45:01.939Z"
   },
   {
    "duration": 26,
    "start_time": "2022-09-06T04:45:05.934Z"
   },
   {
    "duration": 24,
    "start_time": "2022-09-06T04:45:20.978Z"
   },
   {
    "duration": 498,
    "start_time": "2022-09-06T04:45:25.232Z"
   },
   {
    "duration": 4,
    "start_time": "2022-09-06T04:45:26.523Z"
   },
   {
    "duration": 6,
    "start_time": "2022-09-06T04:45:29.352Z"
   },
   {
    "duration": 90,
    "start_time": "2022-09-06T04:46:11.826Z"
   },
   {
    "duration": 87969,
    "start_time": "2022-09-06T04:46:47.178Z"
   },
   {
    "duration": 3,
    "start_time": "2022-09-06T04:49:16.096Z"
   },
   {
    "duration": 10,
    "start_time": "2022-09-06T04:50:02.705Z"
   },
   {
    "duration": 83,
    "start_time": "2022-09-06T04:50:13.723Z"
   },
   {
    "duration": 3,
    "start_time": "2022-09-06T04:50:14.154Z"
   },
   {
    "duration": 162,
    "start_time": "2022-09-06T04:50:16.743Z"
   },
   {
    "duration": 3,
    "start_time": "2022-09-06T04:50:18.829Z"
   },
   {
    "duration": 53,
    "start_time": "2022-09-06T04:50:45.335Z"
   },
   {
    "duration": 9,
    "start_time": "2022-09-06T04:50:53.762Z"
   },
   {
    "duration": 79,
    "start_time": "2022-09-06T04:50:54.124Z"
   },
   {
    "duration": 58,
    "start_time": "2022-09-06T04:50:54.547Z"
   },
   {
    "duration": 196,
    "start_time": "2022-09-06T04:50:55.074Z"
   },
   {
    "duration": 126,
    "start_time": "2022-09-06T04:51:04.193Z"
   },
   {
    "duration": 4,
    "start_time": "2022-09-06T04:51:24.074Z"
   },
   {
    "duration": 249,
    "start_time": "2022-09-06T04:52:09.088Z"
   },
   {
    "duration": 194,
    "start_time": "2022-09-06T04:52:32.128Z"
   },
   {
    "duration": 13,
    "start_time": "2022-09-06T04:53:07.281Z"
   },
   {
    "duration": 11,
    "start_time": "2022-09-06T04:53:27.352Z"
   },
   {
    "duration": 11,
    "start_time": "2022-09-06T04:54:00.744Z"
   },
   {
    "duration": 11,
    "start_time": "2022-09-06T04:57:54.632Z"
   },
   {
    "duration": 42,
    "start_time": "2022-09-06T04:58:09.633Z"
   },
   {
    "duration": 705,
    "start_time": "2022-09-06T04:58:50.041Z"
   },
   {
    "duration": 8175,
    "start_time": "2022-09-06T04:59:36.434Z"
   },
   {
    "duration": 8209,
    "start_time": "2022-09-06T05:01:15.410Z"
   },
   {
    "duration": 49,
    "start_time": "2022-09-06T05:01:58.162Z"
   },
   {
    "duration": 696,
    "start_time": "2022-09-06T05:02:43.591Z"
   },
   {
    "duration": 8272,
    "start_time": "2022-09-06T05:02:48.887Z"
   },
   {
    "duration": 106,
    "start_time": "2022-09-06T05:03:54.606Z"
   },
   {
    "duration": 21189,
    "start_time": "2022-09-06T05:04:01.233Z"
   },
   {
    "duration": 368,
    "start_time": "2022-09-06T05:04:59.882Z"
   },
   {
    "duration": 104,
    "start_time": "2022-09-06T05:05:22.021Z"
   },
   {
    "duration": 53,
    "start_time": "2022-09-06T05:05:33.762Z"
   },
   {
    "duration": 49,
    "start_time": "2022-09-06T05:06:24.524Z"
   },
   {
    "duration": 269,
    "start_time": "2022-09-06T05:09:16.325Z"
   },
   {
    "duration": 29,
    "start_time": "2022-09-06T05:09:41.312Z"
   },
   {
    "duration": 1470,
    "start_time": "2022-09-06T05:10:37.477Z"
   },
   {
    "duration": 75,
    "start_time": "2022-09-06T05:10:38.950Z"
   },
   {
    "duration": 1292,
    "start_time": "2022-09-06T05:10:39.027Z"
   },
   {
    "duration": 17,
    "start_time": "2022-09-06T05:10:40.322Z"
   },
   {
    "duration": 121,
    "start_time": "2022-09-06T05:10:40.341Z"
   },
   {
    "duration": 57,
    "start_time": "2022-09-06T05:10:40.465Z"
   },
   {
    "duration": 6,
    "start_time": "2022-09-06T05:10:40.524Z"
   },
   {
    "duration": 6,
    "start_time": "2022-09-06T05:10:40.533Z"
   },
   {
    "duration": 7,
    "start_time": "2022-09-06T05:10:40.541Z"
   },
   {
    "duration": 11,
    "start_time": "2022-09-06T05:10:40.551Z"
   },
   {
    "duration": 39,
    "start_time": "2022-09-06T05:10:40.565Z"
   },
   {
    "duration": 143,
    "start_time": "2022-09-06T05:10:40.606Z"
   },
   {
    "duration": 20,
    "start_time": "2022-09-06T05:10:40.752Z"
   },
   {
    "duration": 40,
    "start_time": "2022-09-06T05:10:40.774Z"
   },
   {
    "duration": 7,
    "start_time": "2022-09-06T05:10:40.816Z"
   },
   {
    "duration": 14,
    "start_time": "2022-09-06T05:10:40.825Z"
   },
   {
    "duration": 5,
    "start_time": "2022-09-06T05:10:40.840Z"
   },
   {
    "duration": 8,
    "start_time": "2022-09-06T05:10:40.847Z"
   },
   {
    "duration": 4,
    "start_time": "2022-09-06T05:10:40.857Z"
   },
   {
    "duration": 64,
    "start_time": "2022-09-06T05:10:40.863Z"
   },
   {
    "duration": 525,
    "start_time": "2022-09-06T05:10:40.929Z"
   },
   {
    "duration": 3,
    "start_time": "2022-09-06T05:10:41.457Z"
   },
   {
    "duration": 9,
    "start_time": "2022-09-06T05:10:41.462Z"
   },
   {
    "duration": 90185,
    "start_time": "2022-09-06T05:10:41.473Z"
   },
   {
    "duration": 4,
    "start_time": "2022-09-06T05:12:11.660Z"
   },
   {
    "duration": 18,
    "start_time": "2022-09-06T05:12:11.665Z"
   },
   {
    "duration": 227,
    "start_time": "2022-09-06T05:12:11.685Z"
   },
   {
    "duration": 187,
    "start_time": "2022-09-06T05:12:11.918Z"
   },
   {
    "duration": 20,
    "start_time": "2022-09-06T05:12:12.106Z"
   },
   {
    "duration": 79,
    "start_time": "2022-09-06T05:12:12.127Z"
   },
   {
    "duration": 95,
    "start_time": "2022-09-06T05:12:12.208Z"
   },
   {
    "duration": 283,
    "start_time": "2022-09-06T05:12:12.305Z"
   },
   {
    "duration": 15,
    "start_time": "2022-09-06T05:12:12.590Z"
   },
   {
    "duration": 29,
    "start_time": "2022-09-06T05:12:12.606Z"
   },
   {
    "duration": 36,
    "start_time": "2022-09-06T05:12:12.637Z"
   },
   {
    "duration": 695,
    "start_time": "2022-09-06T05:12:12.675Z"
   },
   {
    "duration": 8100,
    "start_time": "2022-09-06T05:12:13.372Z"
   },
   {
    "duration": 20737,
    "start_time": "2022-09-06T05:12:21.474Z"
   },
   {
    "duration": 94,
    "start_time": "2022-09-06T05:12:42.212Z"
   },
   {
    "duration": 454,
    "start_time": "2022-09-06T05:12:42.308Z"
   },
   {
    "duration": 76,
    "start_time": "2022-09-06T05:12:42.764Z"
   },
   {
    "duration": 80,
    "start_time": "2022-09-06T05:12:42.842Z"
   },
   {
    "duration": 8000,
    "start_time": "2022-09-06T05:15:02.805Z"
   },
   {
    "duration": 3010,
    "start_time": "2022-09-06T05:15:23.683Z"
   },
   {
    "duration": 7784,
    "start_time": "2022-09-06T05:16:03.685Z"
   },
   {
    "duration": 10,
    "start_time": "2022-09-06T05:19:43.806Z"
   },
   {
    "duration": 139,
    "start_time": "2022-09-06T05:20:19.075Z"
   },
   {
    "duration": 23,
    "start_time": "2022-09-06T05:20:37.222Z"
   },
   {
    "duration": 8,
    "start_time": "2022-09-06T05:21:33.069Z"
   },
   {
    "duration": 10,
    "start_time": "2022-09-06T05:21:46.318Z"
   },
   {
    "duration": 22,
    "start_time": "2022-09-06T05:21:50.305Z"
   },
   {
    "duration": 16,
    "start_time": "2022-09-06T05:24:38.445Z"
   },
   {
    "duration": 9,
    "start_time": "2022-09-06T05:24:50.777Z"
   },
   {
    "duration": 248,
    "start_time": "2022-09-06T05:27:10.855Z"
   },
   {
    "duration": 295,
    "start_time": "2022-09-06T05:28:29.941Z"
   },
   {
    "duration": 207,
    "start_time": "2022-09-06T05:29:15.798Z"
   },
   {
    "duration": 218,
    "start_time": "2022-09-06T05:29:53.912Z"
   },
   {
    "duration": 210,
    "start_time": "2022-09-06T05:30:17.272Z"
   },
   {
    "duration": 12,
    "start_time": "2022-09-06T05:35:10.633Z"
   },
   {
    "duration": 294,
    "start_time": "2022-09-06T05:37:08.825Z"
   },
   {
    "duration": 224,
    "start_time": "2022-09-06T05:37:10.397Z"
   },
   {
    "duration": 272,
    "start_time": "2022-09-06T05:44:00.152Z"
   },
   {
    "duration": 188,
    "start_time": "2022-09-06T05:44:32.715Z"
   },
   {
    "duration": 230,
    "start_time": "2022-09-06T05:44:50.420Z"
   },
   {
    "duration": 18322,
    "start_time": "2022-09-06T05:51:16.977Z"
   },
   {
    "duration": 88,
    "start_time": "2022-09-06T05:54:23.539Z"
   },
   {
    "duration": 132,
    "start_time": "2022-09-06T05:54:38.674Z"
   },
   {
    "duration": 81,
    "start_time": "2022-09-06T05:54:57.757Z"
   },
   {
    "duration": 10,
    "start_time": "2022-09-06T05:58:09.468Z"
   },
   {
    "duration": 544,
    "start_time": "2022-09-06T06:01:04.537Z"
   },
   {
    "duration": 613,
    "start_time": "2022-09-06T06:01:09.839Z"
   },
   {
    "duration": 73,
    "start_time": "2022-09-06T06:01:14.585Z"
   },
   {
    "duration": 615,
    "start_time": "2022-09-06T06:01:18.378Z"
   },
   {
    "duration": 78,
    "start_time": "2022-09-06T06:01:18.995Z"
   },
   {
    "duration": 849,
    "start_time": "2022-09-06T06:02:00.059Z"
   },
   {
    "duration": 777,
    "start_time": "2022-09-06T06:02:04.318Z"
   },
   {
    "duration": 65,
    "start_time": "2022-09-06T06:02:05.097Z"
   },
   {
    "duration": 36,
    "start_time": "2022-09-06T06:02:38.031Z"
   },
   {
    "duration": 57,
    "start_time": "2022-09-06T06:03:41.524Z"
   },
   {
    "duration": 1756,
    "start_time": "2022-09-06T06:04:46.591Z"
   },
   {
    "duration": 58,
    "start_time": "2022-09-06T06:04:48.349Z"
   },
   {
    "duration": 1468,
    "start_time": "2022-09-06T06:04:48.409Z"
   },
   {
    "duration": 28,
    "start_time": "2022-09-06T06:04:49.879Z"
   },
   {
    "duration": 97,
    "start_time": "2022-09-06T06:04:49.909Z"
   },
   {
    "duration": 77,
    "start_time": "2022-09-06T06:04:50.008Z"
   },
   {
    "duration": 5,
    "start_time": "2022-09-06T06:04:50.087Z"
   },
   {
    "duration": 8,
    "start_time": "2022-09-06T06:04:50.094Z"
   },
   {
    "duration": 37,
    "start_time": "2022-09-06T06:04:50.106Z"
   },
   {
    "duration": 24,
    "start_time": "2022-09-06T06:04:50.149Z"
   },
   {
    "duration": 8,
    "start_time": "2022-09-06T06:04:50.175Z"
   },
   {
    "duration": 152,
    "start_time": "2022-09-06T06:04:50.185Z"
   },
   {
    "duration": 18,
    "start_time": "2022-09-06T06:04:50.339Z"
   },
   {
    "duration": 13,
    "start_time": "2022-09-06T06:04:50.358Z"
   },
   {
    "duration": 7,
    "start_time": "2022-09-06T06:04:50.372Z"
   },
   {
    "duration": 37,
    "start_time": "2022-09-06T06:04:50.381Z"
   },
   {
    "duration": 33,
    "start_time": "2022-09-06T06:04:50.422Z"
   },
   {
    "duration": 13,
    "start_time": "2022-09-06T06:04:50.457Z"
   },
   {
    "duration": 5,
    "start_time": "2022-09-06T06:04:50.471Z"
   },
   {
    "duration": 37,
    "start_time": "2022-09-06T06:04:50.478Z"
   },
   {
    "duration": 550,
    "start_time": "2022-09-06T06:04:50.517Z"
   },
   {
    "duration": 4,
    "start_time": "2022-09-06T06:04:51.069Z"
   },
   {
    "duration": 9,
    "start_time": "2022-09-06T06:04:51.074Z"
   },
   {
    "duration": 97511,
    "start_time": "2022-09-06T06:04:51.106Z"
   },
   {
    "duration": 4,
    "start_time": "2022-09-06T06:06:28.619Z"
   },
   {
    "duration": 20,
    "start_time": "2022-09-06T06:06:28.625Z"
   },
   {
    "duration": 160,
    "start_time": "2022-09-06T06:06:28.646Z"
   },
   {
    "duration": 91,
    "start_time": "2022-09-06T06:06:28.814Z"
   },
   {
    "duration": 53,
    "start_time": "2022-09-06T06:06:28.907Z"
   },
   {
    "duration": 85,
    "start_time": "2022-09-06T06:06:28.963Z"
   },
   {
    "duration": 58,
    "start_time": "2022-09-06T06:06:29.050Z"
   },
   {
    "duration": 340,
    "start_time": "2022-09-06T06:06:29.112Z"
   },
   {
    "duration": 4,
    "start_time": "2022-09-06T06:06:29.454Z"
   },
   {
    "duration": 13,
    "start_time": "2022-09-06T06:06:29.460Z"
   },
   {
    "duration": 29,
    "start_time": "2022-09-06T06:06:29.475Z"
   },
   {
    "duration": 784,
    "start_time": "2022-09-06T06:06:29.506Z"
   },
   {
    "duration": 8865,
    "start_time": "2022-09-06T06:06:30.292Z"
   },
   {
    "duration": 18798,
    "start_time": "2022-09-06T06:06:39.159Z"
   },
   {
    "duration": 50,
    "start_time": "2022-09-06T06:06:57.958Z"
   },
   {
    "duration": 343,
    "start_time": "2022-09-06T06:06:58.010Z"
   },
   {
    "duration": 302,
    "start_time": "2022-09-06T06:06:58.416Z"
   },
   {
    "duration": 326,
    "start_time": "2022-09-06T06:06:58.721Z"
   },
   {
    "duration": 3409,
    "start_time": "2022-09-06T06:06:59.049Z"
   },
   {
    "duration": 8547,
    "start_time": "2022-09-06T06:07:02.460Z"
   },
   {
    "duration": 130,
    "start_time": "2022-09-06T06:07:11.008Z"
   },
   {
    "duration": 362,
    "start_time": "2022-09-06T06:07:11.140Z"
   },
   {
    "duration": 11,
    "start_time": "2022-09-06T06:07:11.504Z"
   },
   {
    "duration": 851,
    "start_time": "2022-09-06T06:07:11.517Z"
   },
   {
    "duration": 38,
    "start_time": "2022-09-06T06:07:12.370Z"
   },
   {
    "duration": 37,
    "start_time": "2022-09-06T06:07:12.412Z"
   },
   {
    "duration": 882,
    "start_time": "2022-09-06T06:09:42.050Z"
   },
   {
    "duration": 880,
    "start_time": "2022-09-06T06:09:49.786Z"
   },
   {
    "duration": 13,
    "start_time": "2022-09-06T06:13:23.740Z"
   },
   {
    "duration": 3,
    "start_time": "2022-09-06T06:13:24.124Z"
   },
   {
    "duration": 3,
    "start_time": "2022-09-06T06:13:24.479Z"
   },
   {
    "duration": 62,
    "start_time": "2022-09-06T06:14:44.425Z"
   },
   {
    "duration": 60,
    "start_time": "2022-09-06T06:14:50.222Z"
   },
   {
    "duration": 737,
    "start_time": "2022-09-06T06:14:59.249Z"
   },
   {
    "duration": 57,
    "start_time": "2022-09-06T06:15:08.870Z"
   },
   {
    "duration": 11,
    "start_time": "2022-09-06T06:15:59.044Z"
   },
   {
    "duration": 1722,
    "start_time": "2022-09-06T08:32:22.962Z"
   },
   {
    "duration": 187,
    "start_time": "2022-09-06T08:32:24.687Z"
   },
   {
    "duration": 2201,
    "start_time": "2022-09-06T08:32:24.875Z"
   },
   {
    "duration": 14,
    "start_time": "2022-09-06T08:32:27.078Z"
   },
   {
    "duration": 104,
    "start_time": "2022-09-06T08:32:27.093Z"
   },
   {
    "duration": 42,
    "start_time": "2022-09-06T08:32:27.199Z"
   },
   {
    "duration": 5,
    "start_time": "2022-09-06T08:32:27.243Z"
   },
   {
    "duration": 21,
    "start_time": "2022-09-06T08:32:27.250Z"
   },
   {
    "duration": 10,
    "start_time": "2022-09-06T08:32:27.273Z"
   },
   {
    "duration": 14,
    "start_time": "2022-09-06T08:32:27.286Z"
   },
   {
    "duration": 6,
    "start_time": "2022-09-06T08:32:27.301Z"
   },
   {
    "duration": 138,
    "start_time": "2022-09-06T08:32:27.309Z"
   },
   {
    "duration": 29,
    "start_time": "2022-09-06T08:32:27.450Z"
   },
   {
    "duration": 14,
    "start_time": "2022-09-06T08:32:27.481Z"
   },
   {
    "duration": 5,
    "start_time": "2022-09-06T08:32:27.497Z"
   },
   {
    "duration": 10,
    "start_time": "2022-09-06T08:32:27.504Z"
   },
   {
    "duration": 4,
    "start_time": "2022-09-06T08:32:27.516Z"
   },
   {
    "duration": 15,
    "start_time": "2022-09-06T08:32:27.522Z"
   },
   {
    "duration": 5,
    "start_time": "2022-09-06T08:32:27.567Z"
   },
   {
    "duration": 44,
    "start_time": "2022-09-06T08:32:27.574Z"
   },
   {
    "duration": 510,
    "start_time": "2022-09-06T08:32:27.620Z"
   },
   {
    "duration": 4,
    "start_time": "2022-09-06T08:32:28.131Z"
   },
   {
    "duration": 8,
    "start_time": "2022-09-06T08:32:28.137Z"
   },
   {
    "duration": 84078,
    "start_time": "2022-09-06T08:32:28.147Z"
   },
   {
    "duration": 3,
    "start_time": "2022-09-06T08:33:52.227Z"
   },
   {
    "duration": 10,
    "start_time": "2022-09-06T08:33:52.231Z"
   },
   {
    "duration": 131,
    "start_time": "2022-09-06T08:33:52.243Z"
   },
   {
    "duration": 94,
    "start_time": "2022-09-06T08:33:52.378Z"
   },
   {
    "duration": 101,
    "start_time": "2022-09-06T08:33:52.474Z"
   },
   {
    "duration": 58,
    "start_time": "2022-09-06T08:33:52.577Z"
   },
   {
    "duration": 34,
    "start_time": "2022-09-06T08:33:52.637Z"
   },
   {
    "duration": 290,
    "start_time": "2022-09-06T08:33:52.673Z"
   },
   {
    "duration": 4,
    "start_time": "2022-09-06T08:33:52.965Z"
   },
   {
    "duration": 11,
    "start_time": "2022-09-06T08:33:52.970Z"
   },
   {
    "duration": 10,
    "start_time": "2022-09-06T08:33:52.983Z"
   },
   {
    "duration": 623,
    "start_time": "2022-09-06T08:33:52.994Z"
   },
   {
    "duration": 7351,
    "start_time": "2022-09-06T08:33:53.618Z"
   },
   {
    "duration": 16317,
    "start_time": "2022-09-06T08:34:00.971Z"
   },
   {
    "duration": 79,
    "start_time": "2022-09-06T08:34:17.290Z"
   },
   {
    "duration": 296,
    "start_time": "2022-09-06T08:34:17.372Z"
   },
   {
    "duration": 375,
    "start_time": "2022-09-06T08:34:17.670Z"
   },
   {
    "duration": 244,
    "start_time": "2022-09-06T08:34:18.047Z"
   },
   {
    "duration": 3055,
    "start_time": "2022-09-06T08:34:18.292Z"
   },
   {
    "duration": 7602,
    "start_time": "2022-09-06T08:34:21.349Z"
   },
   {
    "duration": 116,
    "start_time": "2022-09-06T08:34:28.952Z"
   },
   {
    "duration": 268,
    "start_time": "2022-09-06T08:34:29.071Z"
   },
   {
    "duration": 9,
    "start_time": "2022-09-06T08:34:29.341Z"
   },
   {
    "duration": 665,
    "start_time": "2022-09-06T08:34:29.352Z"
   },
   {
    "duration": 32,
    "start_time": "2022-09-06T08:34:30.019Z"
   },
   {
    "duration": 67,
    "start_time": "2022-09-06T08:34:30.053Z"
   },
   {
    "duration": 8,
    "start_time": "2022-09-06T08:34:30.122Z"
   },
   {
    "duration": 58,
    "start_time": "2022-09-06T12:00:04.903Z"
   },
   {
    "duration": 1933,
    "start_time": "2022-09-06T12:00:13.397Z"
   },
   {
    "duration": 185,
    "start_time": "2022-09-06T12:00:15.332Z"
   },
   {
    "duration": 1212,
    "start_time": "2022-09-06T12:00:15.519Z"
   },
   {
    "duration": 14,
    "start_time": "2022-09-06T12:00:16.734Z"
   },
   {
    "duration": 9,
    "start_time": "2022-09-06T12:00:16.750Z"
   },
   {
    "duration": 155,
    "start_time": "2022-09-06T12:00:16.761Z"
   },
   {
    "duration": 5,
    "start_time": "2022-09-06T12:00:16.919Z"
   },
   {
    "duration": 8,
    "start_time": "2022-09-06T12:00:16.926Z"
   },
   {
    "duration": 12,
    "start_time": "2022-09-06T12:00:16.937Z"
   },
   {
    "duration": 18,
    "start_time": "2022-09-06T12:00:16.953Z"
   },
   {
    "duration": 9,
    "start_time": "2022-09-06T12:00:16.993Z"
   },
   {
    "duration": 139,
    "start_time": "2022-09-06T12:00:17.004Z"
   },
   {
    "duration": 28,
    "start_time": "2022-09-06T12:00:17.144Z"
   },
   {
    "duration": 27,
    "start_time": "2022-09-06T12:00:17.174Z"
   },
   {
    "duration": 6,
    "start_time": "2022-09-06T12:00:17.204Z"
   },
   {
    "duration": 10,
    "start_time": "2022-09-06T12:00:17.212Z"
   },
   {
    "duration": 5,
    "start_time": "2022-09-06T12:00:17.224Z"
   },
   {
    "duration": 11,
    "start_time": "2022-09-06T12:00:17.231Z"
   },
   {
    "duration": 7,
    "start_time": "2022-09-06T12:00:17.244Z"
   },
   {
    "duration": 67,
    "start_time": "2022-09-06T12:00:17.253Z"
   },
   {
    "duration": 516,
    "start_time": "2022-09-06T12:00:17.321Z"
   },
   {
    "duration": 4,
    "start_time": "2022-09-06T12:00:17.838Z"
   },
   {
    "duration": 10,
    "start_time": "2022-09-06T12:00:17.844Z"
   },
   {
    "duration": 91071,
    "start_time": "2022-09-06T12:00:17.856Z"
   },
   {
    "duration": 4,
    "start_time": "2022-09-06T12:01:48.929Z"
   },
   {
    "duration": 15,
    "start_time": "2022-09-06T12:01:48.935Z"
   },
   {
    "duration": 244,
    "start_time": "2022-09-06T12:01:48.952Z"
   },
   {
    "duration": 191,
    "start_time": "2022-09-06T12:01:49.201Z"
   },
   {
    "duration": 24,
    "start_time": "2022-09-06T12:01:49.394Z"
   },
   {
    "duration": 17,
    "start_time": "2022-09-06T12:02:05.781Z"
   },
   {
    "duration": 27,
    "start_time": "2022-09-06T12:03:24.991Z"
   },
   {
    "duration": 383,
    "start_time": "2022-09-06T12:03:38.623Z"
   },
   {
    "duration": 4,
    "start_time": "2022-09-06T12:03:39.284Z"
   },
   {
    "duration": 26,
    "start_time": "2022-09-06T12:05:07.879Z"
   },
   {
    "duration": 212,
    "start_time": "2022-09-06T12:05:21.686Z"
   },
   {
    "duration": 95,
    "start_time": "2022-09-06T12:05:21.903Z"
   },
   {
    "duration": 5,
    "start_time": "2022-09-06T12:06:08.246Z"
   },
   {
    "duration": 9,
    "start_time": "2022-09-06T12:06:08.476Z"
   },
   {
    "duration": 4,
    "start_time": "2022-09-06T12:06:08.650Z"
   },
   {
    "duration": 8,
    "start_time": "2022-09-06T12:06:08.839Z"
   },
   {
    "duration": 3,
    "start_time": "2022-09-06T12:06:09.346Z"
   },
   {
    "duration": 32,
    "start_time": "2022-09-06T12:06:10.543Z"
   },
   {
    "duration": 338,
    "start_time": "2022-09-06T12:06:15.456Z"
   },
   {
    "duration": 4,
    "start_time": "2022-09-06T12:06:16.731Z"
   },
   {
    "duration": 76,
    "start_time": "2022-09-06T12:22:35.321Z"
   },
   {
    "duration": 11,
    "start_time": "2022-09-06T12:22:50.625Z"
   },
   {
    "duration": 17,
    "start_time": "2022-09-06T12:23:00.040Z"
   },
   {
    "duration": 823,
    "start_time": "2022-09-06T12:23:00.650Z"
   },
   {
    "duration": 35,
    "start_time": "2022-09-06T12:23:02.761Z"
   },
   {
    "duration": 61,
    "start_time": "2022-09-06T12:23:03.427Z"
   },
   {
    "duration": 58,
    "start_time": "2022-09-06T12:23:16.125Z"
   },
   {
    "duration": 68,
    "start_time": "2022-09-06T12:23:38.638Z"
   },
   {
    "duration": 10,
    "start_time": "2022-09-06T12:23:40.104Z"
   },
   {
    "duration": 67,
    "start_time": "2022-09-06T12:23:50.453Z"
   },
   {
    "duration": 50,
    "start_time": "2022-09-06T12:38:07.251Z"
   },
   {
    "duration": 1654,
    "start_time": "2022-09-06T12:38:11.427Z"
   },
   {
    "duration": 371,
    "start_time": "2022-09-06T12:38:13.083Z"
   },
   {
    "duration": 1200,
    "start_time": "2022-09-06T12:38:13.456Z"
   },
   {
    "duration": 13,
    "start_time": "2022-09-06T12:38:14.659Z"
   },
   {
    "duration": 98,
    "start_time": "2022-09-06T12:38:14.674Z"
   },
   {
    "duration": 56,
    "start_time": "2022-09-06T12:38:14.773Z"
   },
   {
    "duration": 5,
    "start_time": "2022-09-06T12:38:14.830Z"
   },
   {
    "duration": 10,
    "start_time": "2022-09-06T12:38:14.836Z"
   },
   {
    "duration": 8,
    "start_time": "2022-09-06T12:38:14.847Z"
   },
   {
    "duration": 15,
    "start_time": "2022-09-06T12:38:14.858Z"
   },
   {
    "duration": 21,
    "start_time": "2022-09-06T12:38:14.875Z"
   },
   {
    "duration": 127,
    "start_time": "2022-09-06T12:38:14.898Z"
   },
   {
    "duration": 20,
    "start_time": "2022-09-06T12:38:15.027Z"
   },
   {
    "duration": 22,
    "start_time": "2022-09-06T12:38:15.048Z"
   },
   {
    "duration": 21,
    "start_time": "2022-09-06T12:38:15.071Z"
   },
   {
    "duration": 9,
    "start_time": "2022-09-06T12:38:15.094Z"
   },
   {
    "duration": 7,
    "start_time": "2022-09-06T12:38:15.105Z"
   },
   {
    "duration": 29,
    "start_time": "2022-09-06T12:38:15.114Z"
   },
   {
    "duration": 20,
    "start_time": "2022-09-06T12:38:15.144Z"
   },
   {
    "duration": 33,
    "start_time": "2022-09-06T12:38:15.166Z"
   },
   {
    "duration": 56,
    "start_time": "2022-09-06T12:38:15.201Z"
   },
   {
    "duration": 511,
    "start_time": "2022-09-06T12:38:15.259Z"
   },
   {
    "duration": 3,
    "start_time": "2022-09-06T12:38:15.772Z"
   },
   {
    "duration": 19,
    "start_time": "2022-09-06T12:38:15.777Z"
   },
   {
    "duration": 94295,
    "start_time": "2022-09-06T12:38:15.798Z"
   },
   {
    "duration": 4,
    "start_time": "2022-09-06T12:39:50.096Z"
   },
   {
    "duration": 24,
    "start_time": "2022-09-06T12:39:50.102Z"
   },
   {
    "duration": 371,
    "start_time": "2022-09-06T12:39:50.131Z"
   },
   {
    "duration": 84,
    "start_time": "2022-09-06T12:39:50.509Z"
   },
   {
    "duration": 114,
    "start_time": "2022-09-06T12:39:50.596Z"
   },
   {
    "duration": 156,
    "start_time": "2022-09-06T12:39:50.711Z"
   },
   {
    "duration": 46,
    "start_time": "2022-09-06T12:39:50.869Z"
   },
   {
    "duration": 417,
    "start_time": "2022-09-06T12:39:50.918Z"
   },
   {
    "duration": 4,
    "start_time": "2022-09-06T12:39:51.337Z"
   },
   {
    "duration": 30,
    "start_time": "2022-09-06T12:39:51.343Z"
   },
   {
    "duration": 21,
    "start_time": "2022-09-06T12:39:51.375Z"
   },
   {
    "duration": 811,
    "start_time": "2022-09-06T12:39:51.398Z"
   },
   {
    "duration": 8650,
    "start_time": "2022-09-06T12:39:52.212Z"
   },
   {
    "duration": 18672,
    "start_time": "2022-09-06T12:40:00.864Z"
   },
   {
    "duration": 58,
    "start_time": "2022-09-06T12:40:19.538Z"
   },
   {
    "duration": 398,
    "start_time": "2022-09-06T12:40:19.599Z"
   },
   {
    "duration": 306,
    "start_time": "2022-09-06T12:40:20.000Z"
   },
   {
    "duration": 269,
    "start_time": "2022-09-06T12:40:20.309Z"
   },
   {
    "duration": 3269,
    "start_time": "2022-09-06T12:40:20.580Z"
   },
   {
    "duration": 8467,
    "start_time": "2022-09-06T12:40:23.850Z"
   },
   {
    "duration": 95,
    "start_time": "2022-09-06T12:40:32.319Z"
   },
   {
    "duration": 364,
    "start_time": "2022-09-06T12:40:32.416Z"
   },
   {
    "duration": 17,
    "start_time": "2022-09-06T12:40:32.781Z"
   },
   {
    "duration": 801,
    "start_time": "2022-09-06T12:40:32.801Z"
   },
   {
    "duration": 34,
    "start_time": "2022-09-06T12:40:33.604Z"
   },
   {
    "duration": 76,
    "start_time": "2022-09-06T12:40:33.640Z"
   },
   {
    "duration": 9,
    "start_time": "2022-09-06T12:40:33.717Z"
   },
   {
    "duration": 42,
    "start_time": "2022-09-06T12:40:33.729Z"
   },
   {
    "duration": 24,
    "start_time": "2022-09-06T12:41:10.731Z"
   },
   {
    "duration": 80,
    "start_time": "2022-09-06T12:42:01.103Z"
   },
   {
    "duration": 537,
    "start_time": "2022-09-06T12:42:13.222Z"
   },
   {
    "duration": 4,
    "start_time": "2022-09-06T12:42:14.404Z"
   },
   {
    "duration": 1620,
    "start_time": "2022-09-06T12:42:21.108Z"
   },
   {
    "duration": 56,
    "start_time": "2022-09-06T12:42:22.730Z"
   },
   {
    "duration": 1325,
    "start_time": "2022-09-06T12:42:22.787Z"
   },
   {
    "duration": 13,
    "start_time": "2022-09-06T12:42:24.114Z"
   },
   {
    "duration": 108,
    "start_time": "2022-09-06T12:42:24.130Z"
   },
   {
    "duration": 59,
    "start_time": "2022-09-06T12:42:24.239Z"
   },
   {
    "duration": 7,
    "start_time": "2022-09-06T12:42:24.300Z"
   },
   {
    "duration": 17,
    "start_time": "2022-09-06T12:42:24.309Z"
   },
   {
    "duration": 19,
    "start_time": "2022-09-06T12:42:24.328Z"
   },
   {
    "duration": 36,
    "start_time": "2022-09-06T12:42:24.350Z"
   },
   {
    "duration": 13,
    "start_time": "2022-09-06T12:42:24.388Z"
   },
   {
    "duration": 159,
    "start_time": "2022-09-06T12:42:24.404Z"
   },
   {
    "duration": 30,
    "start_time": "2022-09-06T12:42:24.565Z"
   },
   {
    "duration": 15,
    "start_time": "2022-09-06T12:42:24.601Z"
   },
   {
    "duration": 5,
    "start_time": "2022-09-06T12:42:24.618Z"
   },
   {
    "duration": 10,
    "start_time": "2022-09-06T12:42:24.624Z"
   },
   {
    "duration": 6,
    "start_time": "2022-09-06T12:42:24.636Z"
   },
   {
    "duration": 11,
    "start_time": "2022-09-06T12:42:24.644Z"
   },
   {
    "duration": 36,
    "start_time": "2022-09-06T12:42:24.657Z"
   },
   {
    "duration": 24,
    "start_time": "2022-09-06T12:42:24.696Z"
   },
   {
    "duration": 39,
    "start_time": "2022-09-06T12:42:24.722Z"
   },
   {
    "duration": 557,
    "start_time": "2022-09-06T12:42:24.763Z"
   },
   {
    "duration": 4,
    "start_time": "2022-09-06T12:42:25.322Z"
   },
   {
    "duration": 15,
    "start_time": "2022-09-06T12:42:25.327Z"
   },
   {
    "duration": 99496,
    "start_time": "2022-09-06T12:42:25.343Z"
   },
   {
    "duration": 3,
    "start_time": "2022-09-06T12:44:04.841Z"
   },
   {
    "duration": 17,
    "start_time": "2022-09-06T12:44:04.846Z"
   },
   {
    "duration": 546,
    "start_time": "2022-09-06T12:44:04.864Z"
   },
   {
    "duration": 9,
    "start_time": "2022-09-06T12:44:05.491Z"
   },
   {
    "duration": 217,
    "start_time": "2022-09-06T12:44:05.505Z"
   },
   {
    "duration": 118,
    "start_time": "2022-09-06T12:44:05.724Z"
   },
   {
    "duration": 149,
    "start_time": "2022-09-06T12:44:05.844Z"
   },
   {
    "duration": 274,
    "start_time": "2022-09-06T12:44:05.997Z"
   },
   {
    "duration": 4,
    "start_time": "2022-09-06T12:44:06.273Z"
   },
   {
    "duration": 53,
    "start_time": "2022-09-06T12:44:06.279Z"
   },
   {
    "duration": 23,
    "start_time": "2022-09-06T12:44:06.333Z"
   },
   {
    "duration": 748,
    "start_time": "2022-09-06T12:44:06.358Z"
   },
   {
    "duration": 8812,
    "start_time": "2022-09-06T12:44:07.109Z"
   },
   {
    "duration": 19093,
    "start_time": "2022-09-06T12:44:15.922Z"
   },
   {
    "duration": 179,
    "start_time": "2022-09-06T12:44:35.017Z"
   },
   {
    "duration": 294,
    "start_time": "2022-09-06T12:44:35.202Z"
   },
   {
    "duration": 324,
    "start_time": "2022-09-06T12:44:35.499Z"
   },
   {
    "duration": 300,
    "start_time": "2022-09-06T12:44:35.825Z"
   },
   {
    "duration": 3464,
    "start_time": "2022-09-06T12:44:36.127Z"
   },
   {
    "duration": 8503,
    "start_time": "2022-09-06T12:44:39.593Z"
   },
   {
    "duration": 114,
    "start_time": "2022-09-06T12:44:48.099Z"
   },
   {
    "duration": 375,
    "start_time": "2022-09-06T12:44:48.217Z"
   },
   {
    "duration": 18,
    "start_time": "2022-09-06T12:44:48.595Z"
   },
   {
    "duration": 818,
    "start_time": "2022-09-06T12:44:48.615Z"
   },
   {
    "duration": 36,
    "start_time": "2022-09-06T12:44:49.435Z"
   },
   {
    "duration": 84,
    "start_time": "2022-09-06T12:44:49.473Z"
   },
   {
    "duration": 10,
    "start_time": "2022-09-06T12:44:49.559Z"
   },
   {
    "duration": 57,
    "start_time": "2022-09-06T12:44:49.571Z"
   },
   {
    "duration": 433772,
    "start_time": "2022-09-06T12:52:18.908Z"
   },
   {
    "duration": 84500,
    "start_time": "2022-09-06T12:59:32.683Z"
   },
   {
    "duration": 11,
    "start_time": "2022-09-06T13:31:46.768Z"
   },
   {
    "duration": 4,
    "start_time": "2022-09-06T13:32:13.962Z"
   },
   {
    "duration": 87,
    "start_time": "2022-09-06T13:32:49.129Z"
   },
   {
    "duration": 19,
    "start_time": "2022-09-06T13:33:46.219Z"
   },
   {
    "duration": 221,
    "start_time": "2022-09-06T13:33:46.850Z"
   },
   {
    "duration": 1678,
    "start_time": "2022-09-06T13:34:00.292Z"
   },
   {
    "duration": 84,
    "start_time": "2022-09-06T13:34:01.972Z"
   },
   {
    "duration": 1422,
    "start_time": "2022-09-06T13:34:02.058Z"
   },
   {
    "duration": 23,
    "start_time": "2022-09-06T13:34:03.482Z"
   },
   {
    "duration": 122,
    "start_time": "2022-09-06T13:34:03.509Z"
   },
   {
    "duration": 44,
    "start_time": "2022-09-06T13:34:03.633Z"
   },
   {
    "duration": 4,
    "start_time": "2022-09-06T13:34:03.679Z"
   },
   {
    "duration": 19,
    "start_time": "2022-09-06T13:34:03.702Z"
   },
   {
    "duration": 23,
    "start_time": "2022-09-06T13:34:03.723Z"
   },
   {
    "duration": 37,
    "start_time": "2022-09-06T13:34:03.747Z"
   },
   {
    "duration": 31,
    "start_time": "2022-09-06T13:34:03.786Z"
   },
   {
    "duration": 143,
    "start_time": "2022-09-06T13:34:03.818Z"
   },
   {
    "duration": 31,
    "start_time": "2022-09-06T13:34:03.963Z"
   },
   {
    "duration": 19,
    "start_time": "2022-09-06T13:34:03.998Z"
   },
   {
    "duration": 35,
    "start_time": "2022-09-06T13:34:04.020Z"
   },
   {
    "duration": 22,
    "start_time": "2022-09-06T13:34:04.056Z"
   },
   {
    "duration": 39,
    "start_time": "2022-09-06T13:34:04.080Z"
   },
   {
    "duration": 30,
    "start_time": "2022-09-06T13:34:04.121Z"
   },
   {
    "duration": 19,
    "start_time": "2022-09-06T13:34:04.153Z"
   },
   {
    "duration": 43,
    "start_time": "2022-09-06T13:34:04.173Z"
   },
   {
    "duration": 56,
    "start_time": "2022-09-06T13:34:04.218Z"
   },
   {
    "duration": 577,
    "start_time": "2022-09-06T13:34:04.275Z"
   },
   {
    "duration": 4,
    "start_time": "2022-09-06T13:34:04.854Z"
   },
   {
    "duration": 23,
    "start_time": "2022-09-06T13:34:04.859Z"
   },
   {
    "duration": 99189,
    "start_time": "2022-09-06T13:34:04.884Z"
   },
   {
    "duration": 4,
    "start_time": "2022-09-06T13:35:44.075Z"
   },
   {
    "duration": 16,
    "start_time": "2022-09-06T13:35:44.080Z"
   },
   {
    "duration": 311,
    "start_time": "2022-09-06T13:35:44.098Z"
   },
   {
    "duration": 5,
    "start_time": "2022-09-06T13:35:44.492Z"
   },
   {
    "duration": 118,
    "start_time": "2022-09-06T13:35:44.499Z"
   },
   {
    "duration": 61,
    "start_time": "2022-09-06T13:35:44.619Z"
   },
   {
    "duration": 11,
    "start_time": "2022-09-06T13:35:44.682Z"
   },
   {
    "duration": 382,
    "start_time": "2022-09-06T13:35:44.696Z"
   },
   {
    "duration": 12,
    "start_time": "2022-09-06T13:35:45.080Z"
   },
   {
    "duration": 15,
    "start_time": "2022-09-06T13:35:45.100Z"
   },
   {
    "duration": 12,
    "start_time": "2022-09-06T13:35:45.117Z"
   },
   {
    "duration": 707,
    "start_time": "2022-09-06T13:35:45.131Z"
   },
   {
    "duration": 142,
    "start_time": "2022-09-06T13:35:45.840Z"
   },
   {
    "duration": 0,
    "start_time": "2022-09-06T13:35:45.984Z"
   },
   {
    "duration": 0,
    "start_time": "2022-09-06T13:35:45.985Z"
   },
   {
    "duration": 0,
    "start_time": "2022-09-06T13:35:45.987Z"
   },
   {
    "duration": 0,
    "start_time": "2022-09-06T13:35:45.995Z"
   },
   {
    "duration": 0,
    "start_time": "2022-09-06T13:35:45.996Z"
   },
   {
    "duration": 0,
    "start_time": "2022-09-06T13:35:45.997Z"
   },
   {
    "duration": 0,
    "start_time": "2022-09-06T13:35:46.002Z"
   },
   {
    "duration": 0,
    "start_time": "2022-09-06T13:35:46.004Z"
   },
   {
    "duration": 0,
    "start_time": "2022-09-06T13:35:46.005Z"
   },
   {
    "duration": 0,
    "start_time": "2022-09-06T13:35:46.007Z"
   },
   {
    "duration": 0,
    "start_time": "2022-09-06T13:35:46.008Z"
   },
   {
    "duration": 0,
    "start_time": "2022-09-06T13:35:46.009Z"
   },
   {
    "duration": 0,
    "start_time": "2022-09-06T13:35:46.011Z"
   },
   {
    "duration": 0,
    "start_time": "2022-09-06T13:35:46.012Z"
   },
   {
    "duration": 82620,
    "start_time": "2022-09-06T13:44:25.428Z"
   },
   {
    "duration": 1523,
    "start_time": "2022-09-06T15:03:53.899Z"
   },
   {
    "duration": 95,
    "start_time": "2022-09-06T15:03:55.424Z"
   },
   {
    "duration": 1000,
    "start_time": "2022-09-06T15:03:55.521Z"
   },
   {
    "duration": 13,
    "start_time": "2022-09-06T15:03:56.523Z"
   },
   {
    "duration": 88,
    "start_time": "2022-09-06T15:03:56.539Z"
   },
   {
    "duration": 35,
    "start_time": "2022-09-06T15:03:56.629Z"
   },
   {
    "duration": 4,
    "start_time": "2022-09-06T15:03:56.666Z"
   },
   {
    "duration": 4,
    "start_time": "2022-09-06T15:03:56.672Z"
   },
   {
    "duration": 27,
    "start_time": "2022-09-06T15:03:56.677Z"
   },
   {
    "duration": 15,
    "start_time": "2022-09-06T15:03:56.705Z"
   },
   {
    "duration": 7,
    "start_time": "2022-09-06T15:03:56.721Z"
   },
   {
    "duration": 105,
    "start_time": "2022-09-06T15:03:56.729Z"
   },
   {
    "duration": 15,
    "start_time": "2022-09-06T15:03:56.836Z"
   },
   {
    "duration": 10,
    "start_time": "2022-09-06T15:03:56.854Z"
   },
   {
    "duration": 4,
    "start_time": "2022-09-06T15:03:56.866Z"
   },
   {
    "duration": 28,
    "start_time": "2022-09-06T15:03:56.871Z"
   },
   {
    "duration": 4,
    "start_time": "2022-09-06T15:03:56.901Z"
   },
   {
    "duration": 8,
    "start_time": "2022-09-06T15:03:56.906Z"
   },
   {
    "duration": 5,
    "start_time": "2022-09-06T15:03:56.916Z"
   },
   {
    "duration": 19,
    "start_time": "2022-09-06T15:03:56.922Z"
   },
   {
    "duration": 29,
    "start_time": "2022-09-06T15:03:56.943Z"
   },
   {
    "duration": 518,
    "start_time": "2022-09-06T15:03:56.973Z"
   },
   {
    "duration": 8,
    "start_time": "2022-09-06T15:03:57.492Z"
   },
   {
    "duration": 5,
    "start_time": "2022-09-06T15:03:57.501Z"
   },
   {
    "duration": 83647,
    "start_time": "2022-09-06T15:03:57.507Z"
   },
   {
    "duration": 3,
    "start_time": "2022-09-06T15:05:21.156Z"
   },
   {
    "duration": 12,
    "start_time": "2022-09-06T15:05:21.160Z"
   },
   {
    "duration": 326,
    "start_time": "2022-09-06T15:05:21.173Z"
   },
   {
    "duration": 98,
    "start_time": "2022-09-06T15:05:21.502Z"
   },
   {
    "duration": 8,
    "start_time": "2022-09-06T15:05:21.602Z"
   },
   {
    "duration": 46,
    "start_time": "2022-09-06T15:05:21.611Z"
   },
   {
    "duration": 45,
    "start_time": "2022-09-06T15:05:21.659Z"
   },
   {
    "duration": 291,
    "start_time": "2022-09-06T15:05:21.706Z"
   },
   {
    "duration": 5,
    "start_time": "2022-09-06T15:05:21.998Z"
   },
   {
    "duration": 11,
    "start_time": "2022-09-06T15:05:22.005Z"
   },
   {
    "duration": 9,
    "start_time": "2022-09-06T15:05:22.018Z"
   },
   {
    "duration": 690,
    "start_time": "2022-09-06T15:05:22.029Z"
   },
   {
    "duration": 72036,
    "start_time": "2022-09-06T15:05:22.720Z"
   },
   {
    "duration": 3,
    "start_time": "2022-09-06T15:06:34.757Z"
   },
   {
    "duration": 47,
    "start_time": "2022-09-06T15:06:34.761Z"
   },
   {
    "duration": 314,
    "start_time": "2022-09-06T15:06:34.815Z"
   },
   {
    "duration": 0,
    "start_time": "2022-09-06T15:06:35.130Z"
   },
   {
    "duration": 0,
    "start_time": "2022-09-06T15:06:35.131Z"
   },
   {
    "duration": 0,
    "start_time": "2022-09-06T15:06:35.132Z"
   },
   {
    "duration": 0,
    "start_time": "2022-09-06T15:06:35.133Z"
   },
   {
    "duration": 0,
    "start_time": "2022-09-06T15:06:35.134Z"
   },
   {
    "duration": 0,
    "start_time": "2022-09-06T15:06:35.135Z"
   },
   {
    "duration": 0,
    "start_time": "2022-09-06T15:06:35.136Z"
   },
   {
    "duration": 0,
    "start_time": "2022-09-06T15:06:35.137Z"
   },
   {
    "duration": 0,
    "start_time": "2022-09-06T15:06:35.138Z"
   },
   {
    "duration": 0,
    "start_time": "2022-09-06T15:06:35.139Z"
   },
   {
    "duration": 0,
    "start_time": "2022-09-06T15:06:35.140Z"
   },
   {
    "duration": 18,
    "start_time": "2022-09-06T15:12:12.344Z"
   },
   {
    "duration": 169,
    "start_time": "2022-09-06T15:13:04.429Z"
   },
   {
    "duration": 173,
    "start_time": "2022-09-06T15:13:56.621Z"
   },
   {
    "duration": 19,
    "start_time": "2022-09-06T15:14:14.570Z"
   },
   {
    "duration": 45,
    "start_time": "2022-09-06T15:18:09.085Z"
   },
   {
    "duration": 170,
    "start_time": "2022-09-06T15:18:13.963Z"
   },
   {
    "duration": 13,
    "start_time": "2022-09-06T15:22:33.617Z"
   },
   {
    "duration": 782,
    "start_time": "2022-09-06T15:22:34.163Z"
   },
   {
    "duration": 30,
    "start_time": "2022-09-06T15:22:34.947Z"
   },
   {
    "duration": 75,
    "start_time": "2022-09-06T15:22:34.979Z"
   },
   {
    "duration": 61,
    "start_time": "2022-09-06T15:23:30.962Z"
   },
   {
    "duration": 768,
    "start_time": "2022-09-06T15:41:10.299Z"
   },
   {
    "duration": 60,
    "start_time": "2022-09-06T15:41:44.262Z"
   },
   {
    "duration": 32,
    "start_time": "2022-09-06T15:42:55.719Z"
   },
   {
    "duration": 165,
    "start_time": "2022-09-06T15:42:56.262Z"
   },
   {
    "duration": 14,
    "start_time": "2022-09-06T15:43:48.129Z"
   },
   {
    "duration": 14,
    "start_time": "2022-09-06T15:44:04.462Z"
   },
   {
    "duration": 30,
    "start_time": "2022-09-06T15:44:11.848Z"
   },
   {
    "duration": 162,
    "start_time": "2022-09-06T15:44:13.345Z"
   },
   {
    "duration": 241,
    "start_time": "2022-09-06T15:45:30.050Z"
   },
   {
    "duration": 171,
    "start_time": "2022-09-06T15:45:42.332Z"
   },
   {
    "duration": 2845,
    "start_time": "2022-09-06T15:45:54.715Z"
   },
   {
    "duration": 785,
    "start_time": "2022-09-06T15:47:09.064Z"
   },
   {
    "duration": 124914,
    "start_time": "2022-09-06T15:47:25.619Z"
   },
   {
    "duration": 41969,
    "start_time": "2022-09-06T15:51:21.611Z"
   },
   {
    "duration": 3,
    "start_time": "2022-09-06T15:52:51.191Z"
   },
   {
    "duration": 11,
    "start_time": "2022-09-06T15:53:56.961Z"
   },
   {
    "duration": 166,
    "start_time": "2022-09-06T15:54:17.243Z"
   },
   {
    "duration": 1233,
    "start_time": "2022-09-06T15:54:32.043Z"
   },
   {
    "duration": 52,
    "start_time": "2022-09-06T15:54:33.278Z"
   },
   {
    "duration": 1004,
    "start_time": "2022-09-06T15:54:33.332Z"
   },
   {
    "duration": 12,
    "start_time": "2022-09-06T15:54:34.338Z"
   },
   {
    "duration": 94,
    "start_time": "2022-09-06T15:54:34.352Z"
   },
   {
    "duration": 57,
    "start_time": "2022-09-06T15:54:34.447Z"
   },
   {
    "duration": 4,
    "start_time": "2022-09-06T15:54:34.506Z"
   },
   {
    "duration": 10,
    "start_time": "2022-09-06T15:54:34.512Z"
   },
   {
    "duration": 12,
    "start_time": "2022-09-06T15:54:34.523Z"
   },
   {
    "duration": 19,
    "start_time": "2022-09-06T15:54:34.539Z"
   },
   {
    "duration": 8,
    "start_time": "2022-09-06T15:54:34.560Z"
   },
   {
    "duration": 133,
    "start_time": "2022-09-06T15:54:34.570Z"
   },
   {
    "duration": 16,
    "start_time": "2022-09-06T15:54:34.705Z"
   },
   {
    "duration": 11,
    "start_time": "2022-09-06T15:54:34.722Z"
   },
   {
    "duration": 5,
    "start_time": "2022-09-06T15:54:34.735Z"
   },
   {
    "duration": 8,
    "start_time": "2022-09-06T15:54:34.742Z"
   },
   {
    "duration": 4,
    "start_time": "2022-09-06T15:54:34.752Z"
   },
   {
    "duration": 40,
    "start_time": "2022-09-06T15:54:34.758Z"
   },
   {
    "duration": 5,
    "start_time": "2022-09-06T15:54:34.800Z"
   },
   {
    "duration": 12,
    "start_time": "2022-09-06T15:54:34.806Z"
   },
   {
    "duration": 24,
    "start_time": "2022-09-06T15:54:34.819Z"
   },
   {
    "duration": 555,
    "start_time": "2022-09-06T15:54:34.844Z"
   },
   {
    "duration": 3,
    "start_time": "2022-09-06T15:54:35.401Z"
   },
   {
    "duration": 10,
    "start_time": "2022-09-06T15:54:35.405Z"
   },
   {
    "duration": 85213,
    "start_time": "2022-09-06T15:54:35.416Z"
   },
   {
    "duration": 3,
    "start_time": "2022-09-06T15:56:00.630Z"
   },
   {
    "duration": 16,
    "start_time": "2022-09-06T15:56:00.635Z"
   },
   {
    "duration": 151,
    "start_time": "2022-09-06T15:56:00.654Z"
   },
   {
    "duration": 94,
    "start_time": "2022-09-06T15:56:00.807Z"
   },
   {
    "duration": 109,
    "start_time": "2022-09-06T15:56:00.903Z"
   },
   {
    "duration": 61,
    "start_time": "2022-09-06T15:56:01.013Z"
   },
   {
    "duration": 28,
    "start_time": "2022-09-06T15:56:01.075Z"
   },
   {
    "duration": 341,
    "start_time": "2022-09-06T15:56:01.105Z"
   },
   {
    "duration": 4,
    "start_time": "2022-09-06T15:56:01.447Z"
   },
   {
    "duration": 17,
    "start_time": "2022-09-06T15:56:01.453Z"
   },
   {
    "duration": 12,
    "start_time": "2022-09-06T15:56:01.471Z"
   },
   {
    "duration": 681,
    "start_time": "2022-09-06T15:56:01.484Z"
   },
   {
    "duration": 101131,
    "start_time": "2022-09-06T15:56:02.166Z"
   },
   {
    "duration": 3,
    "start_time": "2022-09-06T15:57:43.299Z"
   },
   {
    "duration": 33,
    "start_time": "2022-09-06T15:57:43.303Z"
   },
   {
    "duration": 173,
    "start_time": "2022-09-06T15:57:43.338Z"
   },
   {
    "duration": 349,
    "start_time": "2022-09-06T15:57:43.513Z"
   },
   {
    "duration": 253,
    "start_time": "2022-09-06T15:57:43.864Z"
   },
   {
    "duration": 40598,
    "start_time": "2022-09-06T15:57:44.119Z"
   },
   {
    "duration": 3,
    "start_time": "2022-09-06T15:58:24.719Z"
   },
   {
    "duration": 122,
    "start_time": "2022-09-06T15:58:24.723Z"
   },
   {
    "duration": 0,
    "start_time": "2022-09-06T15:58:24.847Z"
   },
   {
    "duration": 0,
    "start_time": "2022-09-06T15:58:24.848Z"
   },
   {
    "duration": 0,
    "start_time": "2022-09-06T15:58:24.849Z"
   },
   {
    "duration": 0,
    "start_time": "2022-09-06T15:58:24.850Z"
   },
   {
    "duration": 0,
    "start_time": "2022-09-06T15:58:24.850Z"
   },
   {
    "duration": 0,
    "start_time": "2022-09-06T15:58:24.851Z"
   },
   {
    "duration": 0,
    "start_time": "2022-09-06T15:58:24.852Z"
   },
   {
    "duration": 9,
    "start_time": "2022-09-06T16:00:28.720Z"
   },
   {
    "duration": 7,
    "start_time": "2022-09-06T16:00:48.285Z"
   },
   {
    "duration": 7,
    "start_time": "2022-09-06T16:01:06.718Z"
   },
   {
    "duration": 8,
    "start_time": "2022-09-06T16:01:15.202Z"
   },
   {
    "duration": 68,
    "start_time": "2022-09-06T16:01:40.257Z"
   },
   {
    "duration": 197,
    "start_time": "2022-09-06T16:01:44.085Z"
   },
   {
    "duration": 9,
    "start_time": "2022-09-06T16:02:00.926Z"
   },
   {
    "duration": 8,
    "start_time": "2022-09-06T16:02:38.564Z"
   },
   {
    "duration": 12,
    "start_time": "2022-09-06T16:03:34.058Z"
   },
   {
    "duration": 13,
    "start_time": "2022-09-06T16:03:55.776Z"
   },
   {
    "duration": 1317,
    "start_time": "2022-09-06T16:04:01.375Z"
   },
   {
    "duration": 53,
    "start_time": "2022-09-06T16:04:02.694Z"
   },
   {
    "duration": 995,
    "start_time": "2022-09-06T16:04:02.748Z"
   },
   {
    "duration": 13,
    "start_time": "2022-09-06T16:04:03.745Z"
   },
   {
    "duration": 78,
    "start_time": "2022-09-06T16:04:03.760Z"
   },
   {
    "duration": 34,
    "start_time": "2022-09-06T16:04:03.840Z"
   },
   {
    "duration": 4,
    "start_time": "2022-09-06T16:04:03.876Z"
   },
   {
    "duration": 5,
    "start_time": "2022-09-06T16:04:03.898Z"
   },
   {
    "duration": 8,
    "start_time": "2022-09-06T16:04:03.904Z"
   },
   {
    "duration": 13,
    "start_time": "2022-09-06T16:04:03.915Z"
   },
   {
    "duration": 6,
    "start_time": "2022-09-06T16:04:03.930Z"
   },
   {
    "duration": 122,
    "start_time": "2022-09-06T16:04:03.938Z"
   },
   {
    "duration": 15,
    "start_time": "2022-09-06T16:04:04.062Z"
   },
   {
    "duration": 24,
    "start_time": "2022-09-06T16:04:04.078Z"
   },
   {
    "duration": 4,
    "start_time": "2022-09-06T16:04:04.104Z"
   },
   {
    "duration": 15,
    "start_time": "2022-09-06T16:04:04.109Z"
   },
   {
    "duration": 4,
    "start_time": "2022-09-06T16:04:04.126Z"
   },
   {
    "duration": 24,
    "start_time": "2022-09-06T16:04:04.132Z"
   },
   {
    "duration": 4,
    "start_time": "2022-09-06T16:04:04.157Z"
   },
   {
    "duration": 18,
    "start_time": "2022-09-06T16:04:04.163Z"
   },
   {
    "duration": 43,
    "start_time": "2022-09-06T16:04:04.182Z"
   },
   {
    "duration": 553,
    "start_time": "2022-09-06T16:04:04.227Z"
   },
   {
    "duration": 3,
    "start_time": "2022-09-06T16:04:04.782Z"
   },
   {
    "duration": 12,
    "start_time": "2022-09-06T16:04:04.787Z"
   },
   {
    "duration": 85559,
    "start_time": "2022-09-06T16:04:04.800Z"
   },
   {
    "duration": 3,
    "start_time": "2022-09-06T16:05:30.361Z"
   },
   {
    "duration": 18,
    "start_time": "2022-09-06T16:05:30.365Z"
   },
   {
    "duration": 120,
    "start_time": "2022-09-06T16:05:30.386Z"
   },
   {
    "duration": 99,
    "start_time": "2022-09-06T16:05:30.508Z"
   },
   {
    "duration": 8,
    "start_time": "2022-09-06T16:05:30.699Z"
   },
   {
    "duration": 61,
    "start_time": "2022-09-06T16:05:30.709Z"
   },
   {
    "duration": 27,
    "start_time": "2022-09-06T16:05:30.773Z"
   },
   {
    "duration": 312,
    "start_time": "2022-09-06T16:05:30.802Z"
   },
   {
    "duration": 4,
    "start_time": "2022-09-06T16:05:31.116Z"
   },
   {
    "duration": 39,
    "start_time": "2022-09-06T16:05:31.122Z"
   },
   {
    "duration": 16,
    "start_time": "2022-09-06T16:05:31.162Z"
   },
   {
    "duration": 670,
    "start_time": "2022-09-06T16:05:31.179Z"
   },
   {
    "duration": 102039,
    "start_time": "2022-09-06T16:05:31.851Z"
   },
   {
    "duration": 7,
    "start_time": "2022-09-06T16:07:13.891Z"
   },
   {
    "duration": 25,
    "start_time": "2022-09-06T16:07:13.900Z"
   },
   {
    "duration": 184,
    "start_time": "2022-09-06T16:07:13.927Z"
   },
   {
    "duration": 363,
    "start_time": "2022-09-06T16:07:14.113Z"
   },
   {
    "duration": 20,
    "start_time": "2022-09-06T16:07:14.478Z"
   },
   {
    "duration": 268,
    "start_time": "2022-09-06T16:07:14.501Z"
   },
   {
    "duration": 41083,
    "start_time": "2022-09-06T16:07:14.771Z"
   },
   {
    "duration": 3,
    "start_time": "2022-09-06T16:07:55.855Z"
   },
   {
    "duration": 147,
    "start_time": "2022-09-06T16:07:55.860Z"
   },
   {
    "duration": 0,
    "start_time": "2022-09-06T16:07:56.010Z"
   },
   {
    "duration": 0,
    "start_time": "2022-09-06T16:07:56.011Z"
   },
   {
    "duration": 0,
    "start_time": "2022-09-06T16:07:56.013Z"
   },
   {
    "duration": 0,
    "start_time": "2022-09-06T16:07:56.014Z"
   },
   {
    "duration": 0,
    "start_time": "2022-09-06T16:07:56.015Z"
   },
   {
    "duration": 0,
    "start_time": "2022-09-06T16:07:56.017Z"
   },
   {
    "duration": 13,
    "start_time": "2022-09-06T16:11:15.038Z"
   },
   {
    "duration": 174,
    "start_time": "2022-09-06T16:25:45.181Z"
   },
   {
    "duration": 59,
    "start_time": "2022-09-06T16:31:23.720Z"
   },
   {
    "duration": 13,
    "start_time": "2022-09-06T16:31:26.196Z"
   },
   {
    "duration": 57,
    "start_time": "2022-09-06T16:31:39.861Z"
   },
   {
    "duration": 71,
    "start_time": "2022-09-06T16:31:54.494Z"
   },
   {
    "duration": 55,
    "start_time": "2022-09-06T16:31:58.794Z"
   },
   {
    "duration": 57,
    "start_time": "2022-09-06T16:32:13.990Z"
   },
   {
    "duration": 13,
    "start_time": "2022-09-06T16:32:55.137Z"
   },
   {
    "duration": 40665,
    "start_time": "2022-09-06T16:34:08.918Z"
   },
   {
    "duration": 3,
    "start_time": "2022-09-06T16:35:03.174Z"
   },
   {
    "duration": 67,
    "start_time": "2022-09-06T16:35:04.862Z"
   },
   {
    "duration": 29,
    "start_time": "2022-09-06T16:35:38.219Z"
   },
   {
    "duration": 15,
    "start_time": "2022-09-06T16:35:57.980Z"
   },
   {
    "duration": 55,
    "start_time": "2022-09-06T16:35:59.292Z"
   },
   {
    "duration": 164,
    "start_time": "2022-09-06T16:36:01.336Z"
   },
   {
    "duration": 105,
    "start_time": "2022-09-06T16:36:44.481Z"
   },
   {
    "duration": 9,
    "start_time": "2022-09-06T16:37:52.124Z"
   },
   {
    "duration": 8,
    "start_time": "2022-09-06T16:44:13.323Z"
   },
   {
    "duration": 1273,
    "start_time": "2022-09-06T16:44:38.935Z"
   },
   {
    "duration": 59,
    "start_time": "2022-09-06T16:44:40.210Z"
   },
   {
    "duration": 1070,
    "start_time": "2022-09-06T16:44:40.271Z"
   },
   {
    "duration": 11,
    "start_time": "2022-09-06T16:44:41.343Z"
   },
   {
    "duration": 81,
    "start_time": "2022-09-06T16:44:41.356Z"
   },
   {
    "duration": 42,
    "start_time": "2022-09-06T16:44:41.439Z"
   },
   {
    "duration": 18,
    "start_time": "2022-09-06T16:44:41.482Z"
   },
   {
    "duration": 4,
    "start_time": "2022-09-06T16:44:41.502Z"
   },
   {
    "duration": 5,
    "start_time": "2022-09-06T16:44:41.508Z"
   },
   {
    "duration": 12,
    "start_time": "2022-09-06T16:44:41.515Z"
   },
   {
    "duration": 6,
    "start_time": "2022-09-06T16:44:41.529Z"
   },
   {
    "duration": 126,
    "start_time": "2022-09-06T16:44:41.536Z"
   },
   {
    "duration": 15,
    "start_time": "2022-09-06T16:44:41.663Z"
   },
   {
    "duration": 21,
    "start_time": "2022-09-06T16:44:41.679Z"
   },
   {
    "duration": 6,
    "start_time": "2022-09-06T16:44:41.701Z"
   },
   {
    "duration": 14,
    "start_time": "2022-09-06T16:44:41.708Z"
   },
   {
    "duration": 7,
    "start_time": "2022-09-06T16:44:41.723Z"
   },
   {
    "duration": 7,
    "start_time": "2022-09-06T16:44:41.732Z"
   },
   {
    "duration": 5,
    "start_time": "2022-09-06T16:44:41.741Z"
   },
   {
    "duration": 15,
    "start_time": "2022-09-06T16:44:41.748Z"
   },
   {
    "duration": 57,
    "start_time": "2022-09-06T16:44:41.764Z"
   },
   {
    "duration": 531,
    "start_time": "2022-09-06T16:44:41.822Z"
   },
   {
    "duration": 2,
    "start_time": "2022-09-06T16:44:42.355Z"
   },
   {
    "duration": 11,
    "start_time": "2022-09-06T16:44:42.359Z"
   },
   {
    "duration": 84144,
    "start_time": "2022-09-06T16:44:42.372Z"
   },
   {
    "duration": 3,
    "start_time": "2022-09-06T16:46:06.517Z"
   },
   {
    "duration": 7,
    "start_time": "2022-09-06T16:46:06.521Z"
   },
   {
    "duration": 168,
    "start_time": "2022-09-06T16:46:06.531Z"
   },
   {
    "duration": 4,
    "start_time": "2022-09-06T16:46:06.701Z"
   },
   {
    "duration": 97,
    "start_time": "2022-09-06T16:46:06.706Z"
   },
   {
    "duration": 47,
    "start_time": "2022-09-06T16:46:06.804Z"
   },
   {
    "duration": 47,
    "start_time": "2022-09-06T16:46:06.853Z"
   },
   {
    "duration": 265,
    "start_time": "2022-09-06T16:46:06.902Z"
   },
   {
    "duration": 3,
    "start_time": "2022-09-06T16:46:07.168Z"
   },
   {
    "duration": 13,
    "start_time": "2022-09-06T16:46:07.172Z"
   },
   {
    "duration": 19,
    "start_time": "2022-09-06T16:46:07.186Z"
   },
   {
    "duration": 669,
    "start_time": "2022-09-06T16:46:07.206Z"
   },
   {
    "duration": 101619,
    "start_time": "2022-09-06T16:46:07.876Z"
   },
   {
    "duration": 3,
    "start_time": "2022-09-06T16:47:49.498Z"
   },
   {
    "duration": 30,
    "start_time": "2022-09-06T16:47:49.502Z"
   },
   {
    "duration": 117,
    "start_time": "2022-09-06T16:47:49.599Z"
   },
   {
    "duration": 337,
    "start_time": "2022-09-06T16:47:49.717Z"
   },
   {
    "duration": 9,
    "start_time": "2022-09-06T16:47:50.055Z"
   },
   {
    "duration": 248,
    "start_time": "2022-09-06T16:47:50.066Z"
   },
   {
    "duration": 41005,
    "start_time": "2022-09-06T16:47:50.315Z"
   },
   {
    "duration": 4,
    "start_time": "2022-09-06T16:48:31.321Z"
   },
   {
    "duration": 32,
    "start_time": "2022-09-06T16:48:31.326Z"
   },
   {
    "duration": 151,
    "start_time": "2022-09-06T16:48:31.397Z"
   },
   {
    "duration": 320,
    "start_time": "2022-09-06T16:48:31.550Z"
   },
   {
    "duration": 8,
    "start_time": "2022-09-06T16:48:31.871Z"
   },
   {
    "duration": 22,
    "start_time": "2022-09-06T16:48:31.881Z"
   },
   {
    "duration": 812,
    "start_time": "2022-09-06T16:48:31.904Z"
   },
   {
    "duration": 28,
    "start_time": "2022-09-06T16:48:32.718Z"
   },
   {
    "duration": 78,
    "start_time": "2022-09-06T16:48:32.748Z"
   },
   {
    "duration": 10,
    "start_time": "2022-09-06T16:48:32.827Z"
   },
   {
    "duration": 1510,
    "start_time": "2022-09-07T03:27:35.322Z"
   },
   {
    "duration": 53,
    "start_time": "2022-09-07T03:27:36.834Z"
   },
   {
    "duration": 1205,
    "start_time": "2022-09-07T03:27:36.889Z"
   },
   {
    "duration": 17,
    "start_time": "2022-09-07T03:27:38.096Z"
   },
   {
    "duration": 105,
    "start_time": "2022-09-07T03:27:38.115Z"
   },
   {
    "duration": 42,
    "start_time": "2022-09-07T03:27:38.222Z"
   },
   {
    "duration": 5,
    "start_time": "2022-09-07T03:27:38.265Z"
   },
   {
    "duration": 32,
    "start_time": "2022-09-07T03:27:38.271Z"
   },
   {
    "duration": 26,
    "start_time": "2022-09-07T03:27:38.304Z"
   },
   {
    "duration": 29,
    "start_time": "2022-09-07T03:27:38.332Z"
   },
   {
    "duration": 12,
    "start_time": "2022-09-07T03:27:38.362Z"
   },
   {
    "duration": 135,
    "start_time": "2022-09-07T03:27:38.376Z"
   },
   {
    "duration": 18,
    "start_time": "2022-09-07T03:27:38.513Z"
   },
   {
    "duration": 15,
    "start_time": "2022-09-07T03:27:38.533Z"
   },
   {
    "duration": 16,
    "start_time": "2022-09-07T03:27:38.550Z"
   },
   {
    "duration": 26,
    "start_time": "2022-09-07T03:27:38.568Z"
   },
   {
    "duration": 10,
    "start_time": "2022-09-07T03:27:38.596Z"
   },
   {
    "duration": 28,
    "start_time": "2022-09-07T03:27:38.608Z"
   },
   {
    "duration": 17,
    "start_time": "2022-09-07T03:27:38.638Z"
   },
   {
    "duration": 33,
    "start_time": "2022-09-07T03:27:38.657Z"
   },
   {
    "duration": 49,
    "start_time": "2022-09-07T03:27:38.692Z"
   },
   {
    "duration": 542,
    "start_time": "2022-09-07T03:27:38.743Z"
   },
   {
    "duration": 3,
    "start_time": "2022-09-07T03:27:39.287Z"
   },
   {
    "duration": 22,
    "start_time": "2022-09-07T03:27:39.303Z"
   },
   {
    "duration": 88800,
    "start_time": "2022-09-07T03:27:39.326Z"
   },
   {
    "duration": 4,
    "start_time": "2022-09-07T03:29:08.128Z"
   },
   {
    "duration": 12,
    "start_time": "2022-09-07T03:29:08.133Z"
   },
   {
    "duration": 460,
    "start_time": "2022-09-07T03:29:08.149Z"
   },
   {
    "duration": 93,
    "start_time": "2022-09-07T03:29:08.611Z"
   },
   {
    "duration": 22,
    "start_time": "2022-09-07T03:29:08.706Z"
   },
   {
    "duration": 83,
    "start_time": "2022-09-07T03:29:08.730Z"
   },
   {
    "duration": 88,
    "start_time": "2022-09-07T03:29:08.815Z"
   },
   {
    "duration": 333,
    "start_time": "2022-09-07T03:29:08.905Z"
   },
   {
    "duration": 5,
    "start_time": "2022-09-07T03:29:09.239Z"
   },
   {
    "duration": 23,
    "start_time": "2022-09-07T03:29:09.246Z"
   },
   {
    "duration": 14,
    "start_time": "2022-09-07T03:29:09.271Z"
   },
   {
    "duration": 643,
    "start_time": "2022-09-07T03:29:09.287Z"
   },
   {
    "duration": 103965,
    "start_time": "2022-09-07T03:29:09.932Z"
   },
   {
    "duration": 5,
    "start_time": "2022-09-07T03:30:53.899Z"
   },
   {
    "duration": 103,
    "start_time": "2022-09-07T03:30:53.906Z"
   },
   {
    "duration": 120,
    "start_time": "2022-09-07T03:30:54.011Z"
   },
   {
    "duration": 288,
    "start_time": "2022-09-07T03:30:54.203Z"
   },
   {
    "duration": 10,
    "start_time": "2022-09-07T03:30:54.502Z"
   },
   {
    "duration": 260,
    "start_time": "2022-09-07T03:30:54.513Z"
   },
   {
    "duration": 44460,
    "start_time": "2022-09-07T03:30:54.775Z"
   },
   {
    "duration": 4,
    "start_time": "2022-09-07T03:31:39.236Z"
   },
   {
    "duration": 62,
    "start_time": "2022-09-07T03:31:39.242Z"
   },
   {
    "duration": 200,
    "start_time": "2022-09-07T03:31:39.305Z"
   },
   {
    "duration": 276,
    "start_time": "2022-09-07T03:31:39.506Z"
   },
   {
    "duration": 19,
    "start_time": "2022-09-07T03:31:39.784Z"
   },
   {
    "duration": 14,
    "start_time": "2022-09-07T03:31:39.804Z"
   },
   {
    "duration": 800,
    "start_time": "2022-09-07T03:31:39.820Z"
   },
   {
    "duration": 36,
    "start_time": "2022-09-07T03:31:40.622Z"
   },
   {
    "duration": 72,
    "start_time": "2022-09-07T03:31:40.660Z"
   },
   {
    "duration": 8,
    "start_time": "2022-09-07T03:31:40.733Z"
   },
   {
    "duration": 625278,
    "start_time": "2022-09-07T03:35:33.706Z"
   },
   {
    "duration": 5,
    "start_time": "2022-09-07T03:45:58.986Z"
   },
   {
    "duration": 54,
    "start_time": "2022-09-07T03:48:09.249Z"
   },
   {
    "duration": 102,
    "start_time": "2022-09-07T03:48:17.155Z"
   },
   {
    "duration": 3,
    "start_time": "2022-09-07T03:48:35.942Z"
   },
   {
    "duration": 4,
    "start_time": "2022-09-07T03:48:43.445Z"
   },
   {
    "duration": 110,
    "start_time": "2022-09-07T03:49:30.859Z"
   },
   {
    "duration": 42,
    "start_time": "2022-09-07T03:50:08.734Z"
   },
   {
    "duration": 44,
    "start_time": "2022-09-07T03:50:21.457Z"
   },
   {
    "duration": 200,
    "start_time": "2022-09-07T03:51:06.152Z"
   },
   {
    "duration": 240,
    "start_time": "2022-09-07T03:53:46.986Z"
   },
   {
    "duration": 176,
    "start_time": "2022-09-07T03:55:45.858Z"
   },
   {
    "duration": 12,
    "start_time": "2022-09-07T03:58:58.087Z"
   },
   {
    "duration": 682,
    "start_time": "2022-09-07T03:58:58.432Z"
   },
   {
    "duration": 34,
    "start_time": "2022-09-07T03:59:00.822Z"
   },
   {
    "duration": 1455,
    "start_time": "2022-09-10T17:08:08.698Z"
   },
   {
    "duration": 99,
    "start_time": "2022-09-10T17:08:10.156Z"
   },
   {
    "duration": 1015,
    "start_time": "2022-09-10T17:08:10.257Z"
   },
   {
    "duration": 12,
    "start_time": "2022-09-10T17:08:11.274Z"
   },
   {
    "duration": 94,
    "start_time": "2022-09-10T17:08:11.287Z"
   },
   {
    "duration": 37,
    "start_time": "2022-09-10T17:08:11.382Z"
   },
   {
    "duration": 3,
    "start_time": "2022-09-10T17:08:11.420Z"
   },
   {
    "duration": 16,
    "start_time": "2022-09-10T17:08:11.424Z"
   },
   {
    "duration": 7,
    "start_time": "2022-09-10T17:08:11.441Z"
   },
   {
    "duration": 14,
    "start_time": "2022-09-10T17:08:11.450Z"
   },
   {
    "duration": 7,
    "start_time": "2022-09-10T17:08:11.465Z"
   },
   {
    "duration": 119,
    "start_time": "2022-09-10T17:08:11.473Z"
   },
   {
    "duration": 16,
    "start_time": "2022-09-10T17:08:11.594Z"
   },
   {
    "duration": 25,
    "start_time": "2022-09-10T17:08:11.612Z"
   },
   {
    "duration": 4,
    "start_time": "2022-09-10T17:08:11.639Z"
   },
   {
    "duration": 8,
    "start_time": "2022-09-10T17:08:11.645Z"
   },
   {
    "duration": 3,
    "start_time": "2022-09-10T17:08:11.655Z"
   },
   {
    "duration": 7,
    "start_time": "2022-09-10T17:08:11.659Z"
   },
   {
    "duration": 4,
    "start_time": "2022-09-10T17:08:11.667Z"
   },
   {
    "duration": 14,
    "start_time": "2022-09-10T17:08:11.672Z"
   },
   {
    "duration": 27,
    "start_time": "2022-09-10T17:08:11.687Z"
   },
   {
    "duration": 440,
    "start_time": "2022-09-10T17:08:11.737Z"
   },
   {
    "duration": 3,
    "start_time": "2022-09-10T17:08:12.179Z"
   },
   {
    "duration": 8,
    "start_time": "2022-09-10T17:08:12.184Z"
   },
   {
    "duration": 76173,
    "start_time": "2022-09-10T17:08:12.193Z"
   },
   {
    "duration": 3,
    "start_time": "2022-09-10T17:09:28.367Z"
   },
   {
    "duration": 9,
    "start_time": "2022-09-10T17:09:28.372Z"
   },
   {
    "duration": 257,
    "start_time": "2022-09-10T17:09:28.384Z"
   },
   {
    "duration": 94,
    "start_time": "2022-09-10T17:09:28.643Z"
   },
   {
    "duration": 12,
    "start_time": "2022-09-10T17:09:28.739Z"
   },
   {
    "duration": 123,
    "start_time": "2022-09-10T17:09:28.753Z"
   },
   {
    "duration": 160,
    "start_time": "2022-09-10T17:09:28.878Z"
   },
   {
    "duration": 175,
    "start_time": "2022-09-10T17:09:29.040Z"
   },
   {
    "duration": 4,
    "start_time": "2022-09-10T17:09:29.216Z"
   },
   {
    "duration": 18,
    "start_time": "2022-09-10T17:09:29.221Z"
   },
   {
    "duration": 10,
    "start_time": "2022-09-10T17:09:29.241Z"
   },
   {
    "duration": 609,
    "start_time": "2022-09-10T17:09:29.252Z"
   },
   {
    "duration": 458864,
    "start_time": "2022-09-10T17:09:29.863Z"
   },
   {
    "duration": 9,
    "start_time": "2022-09-10T17:17:08.729Z"
   },
   {
    "duration": 42,
    "start_time": "2022-09-10T17:17:08.742Z"
   },
   {
    "duration": 190,
    "start_time": "2022-09-10T17:17:08.787Z"
   },
   {
    "duration": 316,
    "start_time": "2022-09-10T17:17:08.980Z"
   },
   {
    "duration": 9,
    "start_time": "2022-09-10T17:17:09.298Z"
   },
   {
    "duration": 203,
    "start_time": "2022-09-10T17:17:09.308Z"
   },
   {
    "duration": 240,
    "start_time": "2022-09-10T17:17:09.512Z"
   },
   {
    "duration": 214031,
    "start_time": "2022-09-10T17:17:09.754Z"
   },
   {
    "duration": 2,
    "start_time": "2022-09-10T17:20:43.787Z"
   },
   {
    "duration": 61,
    "start_time": "2022-09-10T17:20:43.791Z"
   },
   {
    "duration": 106,
    "start_time": "2022-09-10T17:20:43.938Z"
   },
   {
    "duration": 313,
    "start_time": "2022-09-10T17:20:44.054Z"
   },
   {
    "duration": 8,
    "start_time": "2022-09-10T17:20:44.368Z"
   },
   {
    "duration": 175,
    "start_time": "2022-09-10T17:20:44.378Z"
   },
   {
    "duration": 13,
    "start_time": "2022-09-10T17:20:44.556Z"
   },
   {
    "duration": 624,
    "start_time": "2022-09-10T17:20:44.570Z"
   },
   {
    "duration": 27,
    "start_time": "2022-09-10T17:20:45.196Z"
   },
   {
    "duration": 69,
    "start_time": "2022-09-10T17:20:45.224Z"
   },
   {
    "duration": 8,
    "start_time": "2022-09-10T17:20:45.294Z"
   },
   {
    "duration": 5,
    "start_time": "2022-09-10T17:49:45.231Z"
   }
  ],
  "kernelspec": {
   "display_name": "Python 3 (ipykernel)",
   "language": "python",
   "name": "python3"
  },
  "language_info": {
   "codemirror_mode": {
    "name": "ipython",
    "version": 3
   },
   "file_extension": ".py",
   "mimetype": "text/x-python",
   "name": "python",
   "nbconvert_exporter": "python",
   "pygments_lexer": "ipython3",
   "version": "3.9.13"
  },
  "toc": {
   "base_numbering": 1,
   "nav_menu": {},
   "number_sections": true,
   "sideBar": false,
   "skip_h1_title": true,
   "title_cell": "Содержание",
   "title_sidebar": "Contents",
   "toc_cell": true,
   "toc_position": {
    "height": "635.2px",
    "left": "42px",
    "top": "111.125px",
    "width": "281.275px"
   },
   "toc_section_display": true,
   "toc_window_display": false
  }
 },
 "nbformat": 4,
 "nbformat_minor": 2
}
