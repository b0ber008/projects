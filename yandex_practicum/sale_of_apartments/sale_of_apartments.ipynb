{
 "cells": [
  {
   "cell_type": "markdown",
   "metadata": {},
   "source": [
    "# Исследование объявлений о продаже квартир\n",
    "\n",
    "В вашем распоряжении данные сервиса Яндекс.Недвижимость — архив объявлений о продаже квартир в Санкт-Петербурге и соседних населённых пунктов за несколько лет. Нужно научиться определять рыночную стоимость объектов недвижимости. Ваша задача — установить параметры. Это позволит построить автоматизированную систему: она отследит аномалии и мошенническую деятельность. \n",
    "\n",
    "По каждой квартире на продажу доступны два вида данных. Первые вписаны пользователем, вторые — получены автоматически на основе картографических данных. Например, расстояние до центра, аэропорта, ближайшего парка и водоёма. "
   ]
  },
  {
   "cell_type": "markdown",
   "metadata": {},
   "source": [
    "## Откройте файл с данными и изучите общую информацию. "
   ]
  },
  {
   "cell_type": "markdown",
   "metadata": {},
   "source": [
    "### Импортируем данные"
   ]
  },
  {
   "cell_type": "code",
   "execution_count": 1,
   "metadata": {},
   "outputs": [],
   "source": [
    "import pandas as pd # Импортируем Pandas\n",
    "import matplotlib.pyplot as plt # Импортируем matplotlib"
   ]
  },
  {
   "cell_type": "code",
   "execution_count": 2,
   "metadata": {},
   "outputs": [
    {
     "data": {
      "text/html": [
       "<div>\n",
       "<style scoped>\n",
       "    .dataframe tbody tr th:only-of-type {\n",
       "        vertical-align: middle;\n",
       "    }\n",
       "\n",
       "    .dataframe tbody tr th {\n",
       "        vertical-align: top;\n",
       "    }\n",
       "\n",
       "    .dataframe thead th {\n",
       "        text-align: right;\n",
       "    }\n",
       "</style>\n",
       "<table border=\"1\" class=\"dataframe\">\n",
       "  <thead>\n",
       "    <tr style=\"text-align: right;\">\n",
       "      <th></th>\n",
       "      <th>total_images</th>\n",
       "      <th>last_price</th>\n",
       "      <th>total_area</th>\n",
       "      <th>first_day_exposition</th>\n",
       "      <th>rooms</th>\n",
       "      <th>ceiling_height</th>\n",
       "      <th>floors_total</th>\n",
       "      <th>living_area</th>\n",
       "      <th>floor</th>\n",
       "      <th>is_apartment</th>\n",
       "      <th>studio</th>\n",
       "      <th>open_plan</th>\n",
       "      <th>kitchen_area</th>\n",
       "      <th>balcony</th>\n",
       "      <th>locality_name</th>\n",
       "      <th>airports_nearest</th>\n",
       "      <th>cityCenters_nearest</th>\n",
       "      <th>parks_around3000</th>\n",
       "      <th>parks_nearest</th>\n",
       "      <th>ponds_around3000</th>\n",
       "      <th>ponds_nearest</th>\n",
       "      <th>days_exposition</th>\n",
       "    </tr>\n",
       "  </thead>\n",
       "  <tbody>\n",
       "    <tr>\n",
       "      <th>0</th>\n",
       "      <td>20</td>\n",
       "      <td>13000000.0</td>\n",
       "      <td>108.0</td>\n",
       "      <td>2019-03-07T00:00:00</td>\n",
       "      <td>3</td>\n",
       "      <td>2.70</td>\n",
       "      <td>16.0</td>\n",
       "      <td>51.0</td>\n",
       "      <td>8</td>\n",
       "      <td>NaN</td>\n",
       "      <td>False</td>\n",
       "      <td>False</td>\n",
       "      <td>25.0</td>\n",
       "      <td>NaN</td>\n",
       "      <td>Санкт-Петербург</td>\n",
       "      <td>18863.0</td>\n",
       "      <td>16028.0</td>\n",
       "      <td>1.0</td>\n",
       "      <td>482.0</td>\n",
       "      <td>2.0</td>\n",
       "      <td>755.0</td>\n",
       "      <td>NaN</td>\n",
       "    </tr>\n",
       "    <tr>\n",
       "      <th>1</th>\n",
       "      <td>7</td>\n",
       "      <td>3350000.0</td>\n",
       "      <td>40.4</td>\n",
       "      <td>2018-12-04T00:00:00</td>\n",
       "      <td>1</td>\n",
       "      <td>NaN</td>\n",
       "      <td>11.0</td>\n",
       "      <td>18.6</td>\n",
       "      <td>1</td>\n",
       "      <td>NaN</td>\n",
       "      <td>False</td>\n",
       "      <td>False</td>\n",
       "      <td>11.0</td>\n",
       "      <td>2.0</td>\n",
       "      <td>посёлок Шушары</td>\n",
       "      <td>12817.0</td>\n",
       "      <td>18603.0</td>\n",
       "      <td>0.0</td>\n",
       "      <td>NaN</td>\n",
       "      <td>0.0</td>\n",
       "      <td>NaN</td>\n",
       "      <td>81.0</td>\n",
       "    </tr>\n",
       "    <tr>\n",
       "      <th>2</th>\n",
       "      <td>10</td>\n",
       "      <td>5196000.0</td>\n",
       "      <td>56.0</td>\n",
       "      <td>2015-08-20T00:00:00</td>\n",
       "      <td>2</td>\n",
       "      <td>NaN</td>\n",
       "      <td>5.0</td>\n",
       "      <td>34.3</td>\n",
       "      <td>4</td>\n",
       "      <td>NaN</td>\n",
       "      <td>False</td>\n",
       "      <td>False</td>\n",
       "      <td>8.3</td>\n",
       "      <td>0.0</td>\n",
       "      <td>Санкт-Петербург</td>\n",
       "      <td>21741.0</td>\n",
       "      <td>13933.0</td>\n",
       "      <td>1.0</td>\n",
       "      <td>90.0</td>\n",
       "      <td>2.0</td>\n",
       "      <td>574.0</td>\n",
       "      <td>558.0</td>\n",
       "    </tr>\n",
       "    <tr>\n",
       "      <th>3</th>\n",
       "      <td>0</td>\n",
       "      <td>64900000.0</td>\n",
       "      <td>159.0</td>\n",
       "      <td>2015-07-24T00:00:00</td>\n",
       "      <td>3</td>\n",
       "      <td>NaN</td>\n",
       "      <td>14.0</td>\n",
       "      <td>NaN</td>\n",
       "      <td>9</td>\n",
       "      <td>NaN</td>\n",
       "      <td>False</td>\n",
       "      <td>False</td>\n",
       "      <td>NaN</td>\n",
       "      <td>0.0</td>\n",
       "      <td>Санкт-Петербург</td>\n",
       "      <td>28098.0</td>\n",
       "      <td>6800.0</td>\n",
       "      <td>2.0</td>\n",
       "      <td>84.0</td>\n",
       "      <td>3.0</td>\n",
       "      <td>234.0</td>\n",
       "      <td>424.0</td>\n",
       "    </tr>\n",
       "    <tr>\n",
       "      <th>4</th>\n",
       "      <td>2</td>\n",
       "      <td>10000000.0</td>\n",
       "      <td>100.0</td>\n",
       "      <td>2018-06-19T00:00:00</td>\n",
       "      <td>2</td>\n",
       "      <td>3.03</td>\n",
       "      <td>14.0</td>\n",
       "      <td>32.0</td>\n",
       "      <td>13</td>\n",
       "      <td>NaN</td>\n",
       "      <td>False</td>\n",
       "      <td>False</td>\n",
       "      <td>41.0</td>\n",
       "      <td>NaN</td>\n",
       "      <td>Санкт-Петербург</td>\n",
       "      <td>31856.0</td>\n",
       "      <td>8098.0</td>\n",
       "      <td>2.0</td>\n",
       "      <td>112.0</td>\n",
       "      <td>1.0</td>\n",
       "      <td>48.0</td>\n",
       "      <td>121.0</td>\n",
       "    </tr>\n",
       "  </tbody>\n",
       "</table>\n",
       "</div>"
      ],
      "text/plain": [
       "   total_images  last_price  total_area first_day_exposition  rooms  \\\n",
       "0            20  13000000.0       108.0  2019-03-07T00:00:00      3   \n",
       "1             7   3350000.0        40.4  2018-12-04T00:00:00      1   \n",
       "2            10   5196000.0        56.0  2015-08-20T00:00:00      2   \n",
       "3             0  64900000.0       159.0  2015-07-24T00:00:00      3   \n",
       "4             2  10000000.0       100.0  2018-06-19T00:00:00      2   \n",
       "\n",
       "   ceiling_height  floors_total  living_area  floor is_apartment  studio  \\\n",
       "0            2.70          16.0         51.0      8          NaN   False   \n",
       "1             NaN          11.0         18.6      1          NaN   False   \n",
       "2             NaN           5.0         34.3      4          NaN   False   \n",
       "3             NaN          14.0          NaN      9          NaN   False   \n",
       "4            3.03          14.0         32.0     13          NaN   False   \n",
       "\n",
       "   open_plan  kitchen_area  balcony    locality_name  airports_nearest  \\\n",
       "0      False          25.0      NaN  Санкт-Петербург           18863.0   \n",
       "1      False          11.0      2.0   посёлок Шушары           12817.0   \n",
       "2      False           8.3      0.0  Санкт-Петербург           21741.0   \n",
       "3      False           NaN      0.0  Санкт-Петербург           28098.0   \n",
       "4      False          41.0      NaN  Санкт-Петербург           31856.0   \n",
       "\n",
       "   cityCenters_nearest  parks_around3000  parks_nearest  ponds_around3000  \\\n",
       "0              16028.0               1.0          482.0               2.0   \n",
       "1              18603.0               0.0            NaN               0.0   \n",
       "2              13933.0               1.0           90.0               2.0   \n",
       "3               6800.0               2.0           84.0               3.0   \n",
       "4               8098.0               2.0          112.0               1.0   \n",
       "\n",
       "   ponds_nearest  days_exposition  \n",
       "0          755.0              NaN  \n",
       "1            NaN             81.0  \n",
       "2          574.0            558.0  \n",
       "3          234.0            424.0  \n",
       "4           48.0            121.0  "
      ]
     },
     "execution_count": 2,
     "metadata": {},
     "output_type": "execute_result"
    }
   ],
   "source": [
    "data = pd.read_csv('/datasets/real_estate_data.csv', sep='\\t') # Сохраняем информацию файла в датафрейме data\n",
    "\n",
    "pd.set_option('display.max_columns', 50) \n",
    "    \n",
    "data.head() # Выводим шапку датафрейма, дабы ознакомиться с данными"
   ]
  },
  {
   "cell_type": "markdown",
   "metadata": {},
   "source": [
    "### Изучаем общую информацию о данных"
   ]
  },
  {
   "cell_type": "code",
   "execution_count": 3,
   "metadata": {
    "scrolled": false
   },
   "outputs": [
    {
     "name": "stdout",
     "output_type": "stream",
     "text": [
      "<class 'pandas.core.frame.DataFrame'>\n",
      "RangeIndex: 23699 entries, 0 to 23698\n",
      "Data columns (total 22 columns):\n",
      " #   Column                Non-Null Count  Dtype  \n",
      "---  ------                --------------  -----  \n",
      " 0   total_images          23699 non-null  int64  \n",
      " 1   last_price            23699 non-null  float64\n",
      " 2   total_area            23699 non-null  float64\n",
      " 3   first_day_exposition  23699 non-null  object \n",
      " 4   rooms                 23699 non-null  int64  \n",
      " 5   ceiling_height        14504 non-null  float64\n",
      " 6   floors_total          23613 non-null  float64\n",
      " 7   living_area           21796 non-null  float64\n",
      " 8   floor                 23699 non-null  int64  \n",
      " 9   is_apartment          2775 non-null   object \n",
      " 10  studio                23699 non-null  bool   \n",
      " 11  open_plan             23699 non-null  bool   \n",
      " 12  kitchen_area          21421 non-null  float64\n",
      " 13  balcony               12180 non-null  float64\n",
      " 14  locality_name         23650 non-null  object \n",
      " 15  airports_nearest      18157 non-null  float64\n",
      " 16  cityCenters_nearest   18180 non-null  float64\n",
      " 17  parks_around3000      18181 non-null  float64\n",
      " 18  parks_nearest         8079 non-null   float64\n",
      " 19  ponds_around3000      18181 non-null  float64\n",
      " 20  ponds_nearest         9110 non-null   float64\n",
      " 21  days_exposition       20518 non-null  float64\n",
      "dtypes: bool(2), float64(14), int64(3), object(3)\n",
      "memory usage: 3.7+ MB\n"
     ]
    }
   ],
   "source": [
    "data.info() # Выводим информацию о датафрейме, чтобы изучить типы данных и пропуски значений"
   ]
  },
  {
   "cell_type": "markdown",
   "metadata": {},
   "source": [
    "### Строим гистограммы"
   ]
  },
  {
   "cell_type": "code",
   "execution_count": 4,
   "metadata": {
    "scrolled": true
   },
   "outputs": [
    {
     "data": {
      "text/plain": [
       "array([[<AxesSubplot:title={'center':'total_images'}>,\n",
       "        <AxesSubplot:title={'center':'last_price'}>,\n",
       "        <AxesSubplot:title={'center':'total_area'}>,\n",
       "        <AxesSubplot:title={'center':'rooms'}>],\n",
       "       [<AxesSubplot:title={'center':'ceiling_height'}>,\n",
       "        <AxesSubplot:title={'center':'floors_total'}>,\n",
       "        <AxesSubplot:title={'center':'living_area'}>,\n",
       "        <AxesSubplot:title={'center':'floor'}>],\n",
       "       [<AxesSubplot:title={'center':'kitchen_area'}>,\n",
       "        <AxesSubplot:title={'center':'balcony'}>,\n",
       "        <AxesSubplot:title={'center':'airports_nearest'}>,\n",
       "        <AxesSubplot:title={'center':'cityCenters_nearest'}>],\n",
       "       [<AxesSubplot:title={'center':'parks_around3000'}>,\n",
       "        <AxesSubplot:title={'center':'parks_nearest'}>,\n",
       "        <AxesSubplot:title={'center':'ponds_around3000'}>,\n",
       "        <AxesSubplot:title={'center':'ponds_nearest'}>],\n",
       "       [<AxesSubplot:title={'center':'days_exposition'}>, <AxesSubplot:>,\n",
       "        <AxesSubplot:>, <AxesSubplot:>]], dtype=object)"
      ]
     },
     "execution_count": 4,
     "metadata": {},
     "output_type": "execute_result"
    },
    {
     "data": {
      "image/png": "[encoded data removed]",
      "text/plain": [
       "<Figure size 1080x1440 with 20 Axes>"
      ]
     },
     "metadata": {
      "needs_background": "light"
     },
     "output_type": "display_data"
    }
   ],
   "source": [
    "data.hist(figsize=(15, 20)) # Строим общую гистограмму для всех столбцов таблицы"
   ]
  },
  {
   "cell_type": "code",
   "execution_count": 5,
   "metadata": {},
   "outputs": [
    {
     "data": {
      "image/png": "[encoded data removed]",
      "text/plain": [
       "<Figure size 1080x1440 with 20 Axes>"
      ]
     },
     "metadata": {
      "needs_background": "light"
     },
     "output_type": "display_data"
    }
   ],
   "source": [
    "# Код ревьюера\n",
    "\n",
    "data.hist(figsize=(15, 20))\n",
    "None"
   ]
  },
  {
   "cell_type": "markdown",
   "metadata": {},
   "source": [
    "1. first_day_exposition - имеет тип 'object', а должен быть 'datetime'\n",
    "2. ceiling_height - пропуски значений\n",
    "3. floors_total - есть пропуски значений, тип float, хотя должен быть int, т.к. не может быть дробного числа этажей\n",
    "4. is_apartment - есть пропуски значений, тип должен быть булевым\n",
    "5. living_area - есть пропуски значений\n",
    "6. kitchen_area - есть пропуски значений\n",
    "7. balcony - есть пропуски значений\n",
    "8. locality_name - есть пропуски значений\n",
    "9. airports_nearest - есть пропуски значений\n",
    "10. cityCenters_nearest - есть пропуски значений\n",
    "11. parks_around3000 - есть пропуски значений, тип должен быть int\n",
    "12. parks_nearest - есть пропуски значений\n",
    "13. ponds_around3000 - есть пропуски значений, тип должен быть int\n",
    "14. ponds_nearest - есть пропуски значений\n",
    "15. days_exposition - есть пропуски значений? тип должен быть int"
   ]
  },
  {
   "cell_type": "markdown",
   "metadata": {},
   "source": [
    "Наименования столбцов имеют вполне корректный вид. Разве что \"cityCenters_nearest\" можно было бы привести к \"city_centers_nearest\", но это не столь серьезный недочет. Оставим так как есть."
   ]
  },
  {
   "cell_type": "markdown",
   "metadata": {},
   "source": [
    "## Предобработка данных"
   ]
  },
  {
   "cell_type": "markdown",
   "metadata": {},
   "source": [
    "### Устраняем пропуски"
   ]
  },
  {
   "cell_type": "code",
   "execution_count": 6,
   "metadata": {},
   "outputs": [
    {
     "data": {
      "text/plain": [
       "count    21796.000000\n",
       "mean        34.457852\n",
       "std         22.030445\n",
       "min          2.000000\n",
       "25%         18.600000\n",
       "50%         30.000000\n",
       "75%         42.300000\n",
       "max        409.700000\n",
       "Name: living_area, dtype: float64"
      ]
     },
     "execution_count": 6,
     "metadata": {},
     "output_type": "execute_result"
    }
   ],
   "source": [
    "# Заменяю пропущенные значения и изменяю тип данных\n",
    "\n",
    "# Пропуски в кол-ве этажей не имеют никакой закономерности и их не так много.\n",
    "# Оставим их, как есть. Перевести в int с nan мы не сможем.\n",
    "data['floors_total'].value_counts()\n",
    "data[data['floors_total'].isna()]\n",
    "\n",
    "# Площадь кухни имеет не так много пропусков. Связаны они могут быть с ее отсутствием, как вариант\n",
    "# Но нужно проверять отдельно.\n",
    "data['kitchen_area'].describe()\n",
    "\n",
    "# Пропуски в балконах связаны, скорее всего, с их отсутствием, поэтому меняем их на 0\n",
    "data['balcony'].value_counts()\n",
    "data['balcony'] = data['balcony'].fillna(0)\n",
    "\n",
    "# Не ясна причина пропуска в наименовании населенного пункта. Закономерность выявить трудно.\n",
    "# Поэтому оставим пропуски как они есть. Тем более, их тоже не так уж и много.\n",
    "data['locality_name'].value_counts()\n",
    "data['locality_name'].unique()\n",
    "\n",
    "# Для living_area можно было бы сделать выборку и заполнить пропущенные значения средним от этой выборки\n",
    "# Но я не уверен, что это будет правильно, т.к. у каждой квартиры разное кол-во комнат, разный тип, как \"студия\", к примеру\n",
    "# И это может исказить данные.\n",
    "data['living_area'].value_counts()\n",
    "data['living_area'].describe()"
   ]
  },
  {
   "cell_type": "markdown",
   "metadata": {},
   "source": [
    "### Меняем типы данных"
   ]
  },
  {
   "cell_type": "code",
   "execution_count": 7,
   "metadata": {},
   "outputs": [],
   "source": [
    "# Переведем в формат datetime, откинем часы, минуты и секунды, т.к. они не указаны в датафрейме.\n",
    "data['first_day_exposition'] = pd.to_datetime(data['first_day_exposition'], format = '%Y-%m-%d')\n",
    "\n",
    "# Апартаменты заполним False. Приведем к типу bool.\n",
    "data['is_apartment'] = data['is_apartment'].fillna(False).astype('bool')\n",
    "\n",
    "# Приводим к типу int\n",
    "data['balcony'] = data['balcony'].astype('int')\n",
    "\n",
    "# Заменим пропуски в days_exposition и приведем к типу int.\n",
    "data['days_exposition'] = data['days_exposition'].fillna(0).astype('int')"
   ]
  },
  {
   "cell_type": "code",
   "execution_count": 8,
   "metadata": {},
   "outputs": [],
   "source": [
    "# Эти столбы тоже не будем трогать, т.к. отсутствие значений в них может быть связано с тем, что\n",
    "# Их либо не указали при введении данных, либо поблизости нет ни одного парка, аэропорта или водоема.\n",
    "# Менее ясно обстоят дела с растоянием до центра, но пока не будем чем-нибудь заполнять.\n",
    "\n",
    "# data['airports_nearest'].value_counts()\n",
    "# data['cityCenters_nearest'].value_counts()\n",
    "# data['parks_around3000'].value_counts()\n",
    "# data['parks_nearest'].value_counts()\n",
    "# data['ponds_around3000'].value_counts()"
   ]
  },
  {
   "cell_type": "code",
   "execution_count": 9,
   "metadata": {},
   "outputs": [],
   "source": [
    "# Смотрим на аномальные значения высоты потолков.\n",
    "data['ceiling_height'].sort_values().unique()\n",
    "\n",
    "# Допустим, что потолки высотой до 10м считаем нормой. Тогда остальные значения введены, скорее всего, ошибочно\n",
    "# Пропущена точка при введеннии данных.\n",
    "data = data.replace({'ceiling_height':{14.:10, 20.:2.0, 22.6:2.26, 24:2.4, 25:2.5, 26:2.6, 27.:2.7, 27.5:2.7, 32:3.2, 100:10.0,}})\n",
    "\n",
    "# Мне слабо верится, что потолки бывают высотой 1м или 1.2, поэтому приравняем их к 1.75. Таких потолков я тоже не видел,\n",
    "# Но уже больше похоже на правду\n",
    "data = data.replace({'ceiling_height':{1.:1.75, 1.2:1.75}})\n",
    "\n",
    "# Стандартный потолок высотой 2.75. Заполним пропуски медианой, т.к. она ушла не далеко от этого значения.\n",
    "data['ceiling_height'] = data['ceiling_height'].fillna(data['ceiling_height'].median())"
   ]
  },
  {
   "cell_type": "markdown",
   "metadata": {},
   "source": [
    "### Изучаем уникальные значения"
   ]
  },
  {
   "cell_type": "code",
   "execution_count": 10,
   "metadata": {},
   "outputs": [
    {
     "data": {
      "text/plain": [
       "array(['Бокситогорск', 'Волосово', 'Волхов', 'Всеволожск', 'Выборг',\n",
       "       'Высоцк', 'Гатчина', 'Зеленогорск', 'Ивангород', 'Каменногорск',\n",
       "       'Кингисепп', 'Кириши', 'Кировск', 'Колпино', 'Коммунар',\n",
       "       'Красное Село', 'Кронштадт', 'Кудрово', 'Лодейное Поле',\n",
       "       'Ломоносов', 'Луга', 'Любань', 'Мурино', 'Никольское',\n",
       "       'Новая Ладога', 'Отрадное', 'Павловск', 'Петергоф', 'Пикалёво',\n",
       "       'Подпорожье', 'Приморск', 'Приозерск', 'Пушкин', 'Санкт-Петербург',\n",
       "       'Светогорск', 'Сертолово', 'Сестрорецк', 'Сланцы', 'Сосновый Бор',\n",
       "       'Сясьстрой', 'Тихвин', 'Тосно', 'Шлиссельбург',\n",
       "       'городской поселок Большая Ижора', 'городской поселок Янино-1',\n",
       "       'городской посёлок Будогощь', 'городской посёлок Виллози',\n",
       "       'городской посёлок Лесогорский', 'городской посёлок Мга',\n",
       "       'городской посёлок Назия', 'городской посёлок Новоселье',\n",
       "       'городской посёлок Павлово', 'городской посёлок Рощино',\n",
       "       'городской посёлок Свирьстрой', 'городской посёлок Советский',\n",
       "       'городской посёлок Фёдоровское', 'городской посёлок Янино-1',\n",
       "       'деревня Агалатово', 'деревня Аро', 'деревня Батово',\n",
       "       'деревня Бегуницы', 'деревня Белогорка', 'деревня Большая Вруда',\n",
       "       'деревня Большая Пустомержа', 'деревня Большие Колпаны',\n",
       "       'деревня Большое Рейзино', 'деревня Большой Сабск', 'деревня Бор',\n",
       "       'деревня Борисова Грива', 'деревня Ваганово', 'деревня Вартемяги',\n",
       "       'деревня Вахнова Кара', 'деревня Выскатка', 'деревня Гарболово',\n",
       "       'деревня Глинка', 'деревня Горбунки', 'деревня Гостилицы',\n",
       "       'деревня Заклинье', 'деревня Заневка', 'деревня Зимитицы',\n",
       "       'деревня Извара', 'деревня Иссад', 'деревня Калитино',\n",
       "       'деревня Кальтино', 'деревня Камышовка', 'деревня Каськово',\n",
       "       'деревня Келози', 'деревня Кипень', 'деревня Кисельня',\n",
       "       'деревня Колтуши', 'деревня Коркино', 'деревня Котлы',\n",
       "       'деревня Кривко', 'деревня Кудрово', 'деревня Кузьмолово',\n",
       "       'деревня Курковицы', 'деревня Куровицы', 'деревня Куттузи',\n",
       "       'деревня Лаврики', 'деревня Лаголово', 'деревня Лампово',\n",
       "       'деревня Лесколово', 'деревня Лопухинка', 'деревня Лупполово',\n",
       "       'деревня Малая Романовка', 'деревня Малое Верево',\n",
       "       'деревня Малое Карлино', 'деревня Малые Колпаны',\n",
       "       'деревня Мануйлово', 'деревня Меньково', 'деревня Мины',\n",
       "       'деревня Мистолово', 'деревня Ненимяки', 'деревня Нижние Осельки',\n",
       "       'деревня Нижняя', 'деревня Низино', 'деревня Новое Девяткино',\n",
       "       'деревня Новолисино', 'деревня Нурма', 'деревня Оржицы',\n",
       "       'деревня Парицы', 'деревня Пельгора', 'деревня Пеники',\n",
       "       'деревня Пижма', 'деревня Пикколово', 'деревня Пудомяги',\n",
       "       'деревня Пустынка', 'деревня Пчева', 'деревня Рабитицы',\n",
       "       'деревня Разбегаево', 'деревня Раздолье', 'деревня Разметелево',\n",
       "       'деревня Рапполово', 'деревня Реброво', 'деревня Русско',\n",
       "       'деревня Сижно', 'деревня Снегирёвка', 'деревня Старая',\n",
       "       'деревня Старая Пустошь', 'деревня Старое Хинколово',\n",
       "       'деревня Старополье', 'деревня Старосиверская',\n",
       "       'деревня Старые Бегуницы', 'деревня Суоранда',\n",
       "       'деревня Сяськелево', 'деревня Тарасово', 'деревня Терпилицы',\n",
       "       'деревня Тихковицы', 'деревня Тойворово', 'деревня Торосово',\n",
       "       'деревня Торошковичи', 'деревня Трубников Бор',\n",
       "       'деревня Фалилеево', 'деревня Фёдоровское', 'деревня Хапо-Ое',\n",
       "       'деревня Хязельки', 'деревня Чудской Бор', 'деревня Шпаньково',\n",
       "       'деревня Щеглово', 'деревня Юкки', 'деревня Ялгино',\n",
       "       'деревня Яльгелево', 'деревня Ям-Тесово',\n",
       "       'коттеджный поселок Кивеннапа Север', 'коттеджный поселок Счастье',\n",
       "       'коттеджный посёлок Лесное', 'поселок Аннино', 'поселок Барышево',\n",
       "       'поселок Бугры', 'поселок Возрождение', 'поселок Войсковицы',\n",
       "       'поселок Володарское', 'поселок Гаврилово', 'поселок Гарболово',\n",
       "       'поселок Гладкое', 'поселок Глажево', 'поселок Глебычево',\n",
       "       'поселок Гончарово', 'поселок Громово', 'поселок Дружноселье',\n",
       "       'поселок Елизаветино', 'поселок Жилгородок', 'поселок Жилпосёлок',\n",
       "       'поселок Житково', 'поселок Заводской', 'поселок Запорожское',\n",
       "       'поселок Зимитицы', 'поселок Ильичёво', 'поселок Калитино',\n",
       "       'поселок Каложицы', 'поселок Кингисеппский', 'поселок Кирпичное',\n",
       "       'поселок Кобралово', 'поселок Кобринское', 'поселок Коммунары',\n",
       "       'поселок Коробицыно', 'поселок Котельский',\n",
       "       'поселок Красная Долина', 'поселок Красносельское',\n",
       "       'поселок Лесное', 'поселок Лисий Нос', 'поселок Лукаши',\n",
       "       'поселок Любань', 'поселок Мельниково', 'поселок Мичуринское',\n",
       "       'поселок Молодцово', 'поселок Мурино', 'поселок Новый Свет',\n",
       "       'поселок Новый Учхоз', 'поселок Оредеж',\n",
       "       'поселок Пансионат Зелёный Бор', 'поселок Первомайское',\n",
       "       'поселок Перово', 'поселок Петровское', 'поселок Победа',\n",
       "       'поселок Поляны', 'поселок Почап', 'поселок Починок',\n",
       "       'поселок Пушное', 'поселок Пчевжа', 'поселок Рабитицы',\n",
       "       'поселок Романовка', 'поселок Ромашки', 'поселок Рябово',\n",
       "       'поселок Севастьяново', 'поселок Селезнёво', 'поселок Сельцо',\n",
       "       'поселок Семиозерье', 'поселок Семрино', 'поселок Серебрянский',\n",
       "       'поселок Совхозный', 'поселок Старая Малукса',\n",
       "       'поселок Стеклянный', 'поселок Сумино', 'поселок Суходолье',\n",
       "       'поселок Тельмана', 'поселок Терволово', 'поселок Торковичи',\n",
       "       'поселок Тёсово-4', 'поселок Углово', 'поселок Усть-Луга',\n",
       "       'поселок Ушаки', 'поселок Цвелодубово', 'поселок Цвылёво',\n",
       "       'поселок городского типа Большая Ижора',\n",
       "       'поселок городского типа Вырица',\n",
       "       'поселок городского типа Дружная Горка',\n",
       "       'поселок городского типа Дубровка',\n",
       "       'поселок городского типа Ефимовский',\n",
       "       'поселок городского типа Кондратьево',\n",
       "       'поселок городского типа Красный Бор',\n",
       "       'поселок городского типа Кузьмоловский',\n",
       "       'поселок городского типа Лебяжье',\n",
       "       'поселок городского типа Лесогорский',\n",
       "       'поселок городского типа Назия',\n",
       "       'поселок городского типа Никольский',\n",
       "       'поселок городского типа Приладожский',\n",
       "       'поселок городского типа Рахья', 'поселок городского типа Рощино',\n",
       "       'поселок городского типа Рябово',\n",
       "       'поселок городского типа Синявино',\n",
       "       'поселок городского типа Советский',\n",
       "       'поселок городского типа Токсово',\n",
       "       'поселок городского типа Форносово',\n",
       "       'поселок городского типа имени Свердлова',\n",
       "       'поселок станции Вещево', 'поселок станции Корнево',\n",
       "       'поселок станции Лужайка', 'поселок станции Приветнинское',\n",
       "       'посёлок Александровская', 'посёлок Алексеевка', 'посёлок Аннино',\n",
       "       'посёлок Белоостров', 'посёлок Бугры', 'посёлок Возрождение',\n",
       "       'посёлок Войскорово', 'посёлок Высокоключевой',\n",
       "       'посёлок Гаврилово', 'посёлок Дзержинского', 'посёлок Жилгородок',\n",
       "       'посёлок Ильичёво', 'посёлок Кикерино', 'посёлок Кобралово',\n",
       "       'посёлок Коробицыно', 'посёлок Левашово', 'посёлок Ленинское',\n",
       "       'посёлок Лисий Нос', 'посёлок Мельниково', 'посёлок Металлострой',\n",
       "       'посёлок Мичуринское', 'посёлок Молодёжное', 'посёлок Мурино',\n",
       "       'посёлок Мыза-Ивановка', 'посёлок Новогорелово',\n",
       "       'посёлок Новый Свет', 'посёлок Пансионат Зелёный Бор',\n",
       "       'посёлок Парголово', 'посёлок Перово', 'посёлок Песочный',\n",
       "       'посёлок Петро-Славянка', 'посёлок Петровское',\n",
       "       'посёлок Платформа 69-й километр', 'посёлок Плодовое',\n",
       "       'посёлок Плоское', 'посёлок Победа', 'посёлок Поляны',\n",
       "       'посёлок Понтонный', 'посёлок Пригородный', 'посёлок Пудость',\n",
       "       'посёлок Репино', 'посёлок Ропша', 'посёлок Сапёрное',\n",
       "       'посёлок Сапёрный', 'посёлок Сосново', 'посёлок Старая Малукса',\n",
       "       'посёлок Стеклянный', 'посёлок Стрельна', 'посёлок Суйда',\n",
       "       'посёлок Сумино', 'посёлок Тельмана', 'посёлок Терволово',\n",
       "       'посёлок Торфяное', 'посёлок Усть-Ижора', 'посёлок Усть-Луга',\n",
       "       'посёлок Форт Красная Горка', 'посёлок Шугозеро', 'посёлок Шушары',\n",
       "       'посёлок Щеглово', 'посёлок городского типа Важины',\n",
       "       'посёлок городского типа Вознесенье',\n",
       "       'посёлок городского типа Вырица',\n",
       "       'посёлок городского типа Красный Бор',\n",
       "       'посёлок городского типа Кузнечное',\n",
       "       'посёлок городского типа Кузьмоловский',\n",
       "       'посёлок городского типа Лебяжье', 'посёлок городского типа Мга',\n",
       "       'посёлок городского типа Павлово',\n",
       "       'посёлок городского типа Рощино', 'посёлок городского типа Рябово',\n",
       "       'посёлок городского типа Сиверский',\n",
       "       'посёлок городского типа Тайцы', 'посёлок городского типа Токсово',\n",
       "       'посёлок городского типа Ульяновка',\n",
       "       'посёлок городского типа Форносово',\n",
       "       'посёлок городского типа имени Морозова',\n",
       "       'посёлок городского типа имени Свердлова',\n",
       "       'посёлок при железнодорожной станции Вещево',\n",
       "       'посёлок при железнодорожной станции Приветнинское',\n",
       "       'посёлок станции Громово', 'посёлок станции Свирь',\n",
       "       'садоводческое некоммерческое товарищество Лесная Поляна',\n",
       "       'садовое товарищество Новая Ропша',\n",
       "       'садовое товарищество Приладожский', 'садовое товарищество Рахья',\n",
       "       'садовое товарищество Садко', 'село Копорье', 'село Никольское',\n",
       "       'село Павлово', 'село Паша', 'село Путилово', 'село Рождествено',\n",
       "       'село Русско-Высоцкое', 'село Старая Ладога', 'село Шум', nan],\n",
       "      dtype=object)"
      ]
     },
     "execution_count": 10,
     "metadata": {},
     "output_type": "execute_result"
    }
   ],
   "source": [
    "data['locality_name'].sort_values().unique()"
   ]
  },
  {
   "cell_type": "code",
   "execution_count": 11,
   "metadata": {
    "scrolled": true
   },
   "outputs": [
    {
     "data": {
      "text/plain": [
       "23334"
      ]
     },
     "execution_count": 11,
     "metadata": {},
     "output_type": "execute_result"
    }
   ],
   "source": [
    "data['locality_name'].duplicated().sum() # Проверяем кол-во явных дубликатов\n",
    "# Убирать мы их не будем, т.к. одно и то же значение может повторяться в датафрейме несколько раз"
   ]
  },
  {
   "cell_type": "code",
   "execution_count": 12,
   "metadata": {},
   "outputs": [
    {
     "data": {
      "text/plain": [
       "365"
      ]
     },
     "execution_count": 12,
     "metadata": {},
     "output_type": "execute_result"
    }
   ],
   "source": [
    "data['locality_name'].unique().shape[0] # Смотрим количество уникальных значений"
   ]
  },
  {
   "cell_type": "code",
   "execution_count": 13,
   "metadata": {},
   "outputs": [
    {
     "data": {
      "text/plain": [
       "326"
      ]
     },
     "execution_count": 13,
     "metadata": {},
     "output_type": "execute_result"
    }
   ],
   "source": [
    "# Заменяем \"городской поселок\" на \"поселок городского типа\"\n",
    "data['locality_name'] = data['locality_name'].str.replace(\"городской посёлок\", \"поселок городского типа\")\n",
    "\n",
    "# Поменяем все \"ё\" на \"е\"\n",
    "data['locality_name'] = data['locality_name'].str.replace('ё', 'е')\n",
    "\n",
    "# Проверяем количество уникальных значений еще раз\n",
    "data['locality_name'].unique().shape[0]"
   ]
  },
  {
   "cell_type": "markdown",
   "metadata": {},
   "source": [
    "После этого я решил проверить неявные дубликаты по примеру из описания проекта, где сказано следующее: \"например, «поселок Рябово» и «поселок городского типа Рябово»\"\n",
    "Уточнив эту информацию, приходим к выводу, что это все-таки два разных населенных пункта, один из которых находится в Тосненском районе Ленинградской области, а другой Выборгском районе все той же Ленинградской области. То есть, дубликатами данный случай не является.\n",
    "\n",
    "На основании этого было принято решение не искать остальные подобные дубликаты, т.к. проверять, существуют ли те или иные населенные пункты - слишком долго."
   ]
  },
  {
   "cell_type": "markdown",
   "metadata": {},
   "source": [
    "## Посчитайте и добавьте в таблицу новые столбцы"
   ]
  },
  {
   "cell_type": "code",
   "execution_count": 14,
   "metadata": {},
   "outputs": [],
   "source": [
    "# Произведем расчет цены за квадратный метр:\n",
    "data['price_per_square_meter'] = data['last_price'] / data['total_area']\n",
    "\n",
    "# Переведем в тип int, чтобы удобнее было воспринимать информацию:\n",
    "data['price_per_square_meter'] = data['price_per_square_meter'].astype('int')\n",
    "\n",
    "# Добавим день публикации объявления:\n",
    "data['weekday_exposition'] = data['first_day_exposition'].dt.weekday\n",
    "\n",
    "# Месяц:\n",
    "data['month_exposition'] = data['first_day_exposition'].dt.month\n",
    "\n",
    "# Год:\n",
    "data['year_exposition'] = data['first_day_exposition'].dt.year\n",
    "\n",
    "# Создадим функцию для категоризации типа этажа:\n",
    "def floor_type(row):\n",
    "    floors_total = row['floors_total']\n",
    "    floor = row['floor']\n",
    "    if floor == 1:\n",
    "        return 'первый'\n",
    "    elif floor == floors_total:\n",
    "        return 'последний'\n",
    "    else:\n",
    "        return 'другой'\n",
    "\n",
    "# Вызываем функцию:\n",
    "data['floor_type'] = data.apply(floor_type, axis = 1)\n",
    "\n",
    "# Создадим столбец с расстоянием до центра города в км\n",
    "data['cityCenters_nearest_km'] = data['cityCenters_nearest']/1000"
   ]
  },
  {
   "cell_type": "markdown",
   "metadata": {},
   "source": [
    "## Проведите исследовательский анализ данных"
   ]
  },
  {
   "cell_type": "markdown",
   "metadata": {},
   "source": [
    "### Изучаем параметры"
   ]
  },
  {
   "cell_type": "code",
   "execution_count": 15,
   "metadata": {},
   "outputs": [
    {
     "data": {
      "text/plain": [
       "count    23699.000000\n",
       "mean        60.348651\n",
       "std         35.654083\n",
       "min         12.000000\n",
       "25%         40.000000\n",
       "50%         52.000000\n",
       "75%         69.900000\n",
       "max        900.000000\n",
       "Name: total_area, dtype: float64"
      ]
     },
     "execution_count": 15,
     "metadata": {},
     "output_type": "execute_result"
    },
    {
     "data": {
      "image/png": "[encoded data removed]",
      "text/plain": [
       "<Figure size 432x288 with 1 Axes>"
      ]
     },
     "metadata": {
      "needs_background": "light"
     },
     "output_type": "display_data"
    },
    {
     "data": {
      "image/png": "[encoded data removed]",
      "text/plain": [
       "<Figure size 432x288 with 1 Axes>"
      ]
     },
     "metadata": {
      "needs_background": "light"
     },
     "output_type": "display_data"
    }
   ],
   "source": [
    "data.hist('total_area', bins = 100)\n",
    "data.hist('total_area', bins = 100, range = (0, 200))\n",
    "data['total_area'].describe()"
   ]
  },
  {
   "cell_type": "markdown",
   "metadata": {},
   "source": [
    "Вывод: видим, что основная часть объектов имеет площадь от 30 до 70 кв.м.\n",
    "Редко можно встретить значения менее 25 и гистограмма практически сходит на нет после 125 кв.м."
   ]
  },
  {
   "cell_type": "code",
   "execution_count": 16,
   "metadata": {},
   "outputs": [
    {
     "data": {
      "text/plain": [
       "count    21796.000000\n",
       "mean        34.457852\n",
       "std         22.030445\n",
       "min          2.000000\n",
       "25%         18.600000\n",
       "50%         30.000000\n",
       "75%         42.300000\n",
       "max        409.700000\n",
       "Name: living_area, dtype: float64"
      ]
     },
     "execution_count": 16,
     "metadata": {},
     "output_type": "execute_result"
    },
    {
     "data": {
      "image/png": "[encoded data removed]",
      "text/plain": [
       "<Figure size 432x288 with 1 Axes>"
      ]
     },
     "metadata": {
      "needs_background": "light"
     },
     "output_type": "display_data"
    },
    {
     "data": {
      "image/png": "[encoded data removed]",
      "text/plain": [
       "<Figure size 432x288 with 1 Axes>"
      ]
     },
     "metadata": {
      "needs_background": "light"
     },
     "output_type": "display_data"
    }
   ],
   "source": [
    "data.hist('living_area', bins = 100)\n",
    "data.hist('living_area', bins = 100, range = (0, 100))\n",
    "data['living_area'].describe()"
   ]
  },
  {
   "cell_type": "markdown",
   "metadata": {},
   "source": [
    "Вывод: в основном объекты имеют от 18 до 42 кв.м. жилой площади. Имеем при этом два резких скачка на 18 и 30.\n",
    "Думаю, это может быть связано с типовой застройкой, где примерно одинаковая планировка от города к городу, дающая данные резкие подъемы частоты."
   ]
  },
  {
   "cell_type": "code",
   "execution_count": 17,
   "metadata": {},
   "outputs": [
    {
     "data": {
      "text/plain": [
       "count    21421.000000\n",
       "mean        10.569807\n",
       "std          5.905438\n",
       "min          1.300000\n",
       "25%          7.000000\n",
       "50%          9.100000\n",
       "75%         12.000000\n",
       "max        112.000000\n",
       "Name: kitchen_area, dtype: float64"
      ]
     },
     "execution_count": 17,
     "metadata": {},
     "output_type": "execute_result"
    },
    {
     "data": {
      "image/png": "[encoded data removed]",
      "text/plain": [
       "<Figure size 432x288 with 1 Axes>"
      ]
     },
     "metadata": {
      "needs_background": "light"
     },
     "output_type": "display_data"
    },
    {
     "data": {
      "image/png": "[encoded data removed]",
      "text/plain": [
       "<Figure size 432x288 with 1 Axes>"
      ]
     },
     "metadata": {
      "needs_background": "light"
     },
     "output_type": "display_data"
    }
   ],
   "source": [
    "data.hist('kitchen_area', bins = 100)\n",
    "data.hist('kitchen_area', bins = 100, range = (0, 40))\n",
    "data['kitchen_area'].describe()"
   ]
  },
  {
   "cell_type": "markdown",
   "metadata": {},
   "source": [
    "Вывод: основная доля площади кухни находится от 7 до 12 кв.м.\n",
    "Встречаются, конечно, и совсем крохотные размером менее 5, и целые столовые более 40, что редкость."
   ]
  },
  {
   "cell_type": "code",
   "execution_count": 18,
   "metadata": {},
   "outputs": [
    {
     "data": {
      "text/plain": [
       "count    2.369900e+04\n",
       "mean     6.541549e+06\n",
       "std      1.088701e+07\n",
       "min      1.219000e+04\n",
       "25%      3.400000e+06\n",
       "50%      4.650000e+06\n",
       "75%      6.800000e+06\n",
       "max      7.630000e+08\n",
       "Name: last_price, dtype: float64"
      ]
     },
     "execution_count": 18,
     "metadata": {},
     "output_type": "execute_result"
    },
    {
     "data": {
      "image/png": "[encoded data removed]",
      "text/plain": [
       "<Figure size 432x288 with 1 Axes>"
      ]
     },
     "metadata": {
      "needs_background": "light"
     },
     "output_type": "display_data"
    },
    {
     "data": {
      "image/png": "[encoded data removed]",
      "text/plain": [
       "<Figure size 432x288 with 1 Axes>"
      ]
     },
     "metadata": {
      "needs_background": "light"
     },
     "output_type": "display_data"
    }
   ],
   "source": [
    "data.hist('last_price', bins = 100)\n",
    "data.hist('last_price', bins = 100, range = (0, 2e+07))\n",
    "data['last_price'].describe()"
   ]
  },
  {
   "cell_type": "markdown",
   "metadata": {},
   "source": [
    "Вывод: видим медиану в 4.5 миллиона и среднее в 6.5\n",
    "При этом основная доля недвижимости расположилась в ценовой категории от 250 000 до 750 000.\n",
    "Связано это с тем, что цены в крупных городах сильно выше, нежели если сравнивать с остальными населенными пунктами страны, поэтому среднее значение смещается за несколько миллионов, хотя основная часть не дотягивает и до одного."
   ]
  },
  {
   "cell_type": "code",
   "execution_count": 19,
   "metadata": {},
   "outputs": [
    {
     "data": {
      "text/plain": [
       "count    23699.000000\n",
       "mean         2.070636\n",
       "std          1.078405\n",
       "min          0.000000\n",
       "25%          1.000000\n",
       "50%          2.000000\n",
       "75%          3.000000\n",
       "max         19.000000\n",
       "Name: rooms, dtype: float64"
      ]
     },
     "execution_count": 19,
     "metadata": {},
     "output_type": "execute_result"
    },
    {
     "data": {
      "image/png": "[encoded data removed]",
      "text/plain": [
       "<Figure size 432x288 with 1 Axes>"
      ]
     },
     "metadata": {
      "needs_background": "light"
     },
     "output_type": "display_data"
    }
   ],
   "source": [
    "data.hist('rooms', bins = 20)\n",
    "data['rooms'].describe()"
   ]
  },
  {
   "cell_type": "markdown",
   "metadata": {},
   "source": [
    "Вывод: основной диапазон лежит от однокомнатных до трехкомнатных объектов. Недвижимости с количеством комнат более 5 практически не наблюдается, хотя есть и аномально большой показатель в 19.\n",
    "Выбросом его считать вряд ли можно, учитывая, что в выборку мог попасть и целый особняк. Как мы видели на предыдущих гистограммах, есть значения в 900 кв.м. общей площади. Думаю, это он."
   ]
  },
  {
   "cell_type": "code",
   "execution_count": 20,
   "metadata": {},
   "outputs": [
    {
     "data": {
      "text/plain": [
       "count    23699.000000\n",
       "mean         2.698605\n",
       "std          0.246645\n",
       "min          1.750000\n",
       "25%          2.600000\n",
       "50%          2.650000\n",
       "75%          2.700000\n",
       "max         10.300000\n",
       "Name: ceiling_height, dtype: float64"
      ]
     },
     "execution_count": 20,
     "metadata": {},
     "output_type": "execute_result"
    },
    {
     "data": {
      "image/png": "[encoded data removed]",
      "text/plain": [
       "<Figure size 432x288 with 1 Axes>"
      ]
     },
     "metadata": {
      "needs_background": "light"
     },
     "output_type": "display_data"
    }
   ],
   "source": [
    "data.hist('ceiling_height', bins = 100, range=(0,10))\n",
    "data['ceiling_height'].describe()"
   ]
  },
  {
   "cell_type": "markdown",
   "metadata": {},
   "source": [
    "Вывод: значение типичной высоты потолка, если поискать его в интернете, равняется 2.7, что и подтверждает наша выборка, имея основной диапазон в 2.6-2.7 метра."
   ]
  },
  {
   "cell_type": "code",
   "execution_count": 21,
   "metadata": {},
   "outputs": [
    {
     "data": {
      "text/plain": [
       "count    23699.000000\n",
       "mean         5.892358\n",
       "std          4.885249\n",
       "min          1.000000\n",
       "25%          2.000000\n",
       "50%          4.000000\n",
       "75%          8.000000\n",
       "max         33.000000\n",
       "Name: floor, dtype: float64"
      ]
     },
     "execution_count": 21,
     "metadata": {},
     "output_type": "execute_result"
    },
    {
     "data": {
      "image/png": "[encoded data removed]",
      "text/plain": [
       "<Figure size 432x288 with 1 Axes>"
      ]
     },
     "metadata": {
      "needs_background": "light"
     },
     "output_type": "display_data"
    },
    {
     "data": {
      "image/png": "[encoded data removed]",
      "text/plain": [
       "<Figure size 432x288 with 1 Axes>"
      ]
     },
     "metadata": {
      "needs_background": "light"
     },
     "output_type": "display_data"
    }
   ],
   "source": [
    "data.hist('floor', bins=100)\n",
    "data.hist('floor', bins=30)\n",
    "data['floor'].describe()"
   ]
  },
  {
   "cell_type": "markdown",
   "metadata": {},
   "source": [
    "Вывод: можно заметить, что в основном распространены квартиры, расположеные до пятого этажа, и резкий скачок на одноэтажных объектах. Связано это, скорее всего, с частными домами, коих много, а резкий спад количества квартир после 5 этажа обусловлен типичной застройкой панельных пятиэтажек по всей стране. В основном были распространены 5 и 9 этажные здания."
   ]
  },
  {
   "cell_type": "code",
   "execution_count": 22,
   "metadata": {},
   "outputs": [
    {
     "data": {
      "text/plain": [
       "count    23613.000000\n",
       "mean        10.673824\n",
       "std          6.597173\n",
       "min          1.000000\n",
       "25%          5.000000\n",
       "50%          9.000000\n",
       "75%         16.000000\n",
       "max         60.000000\n",
       "Name: floors_total, dtype: float64"
      ]
     },
     "execution_count": 22,
     "metadata": {},
     "output_type": "execute_result"
    },
    {
     "data": {
      "image/png": "[encoded data removed]",
      "text/plain": [
       "<Figure size 432x288 with 1 Axes>"
      ]
     },
     "metadata": {
      "needs_background": "light"
     },
     "output_type": "display_data"
    }
   ],
   "source": [
    "data.hist('floors_total', bins=30)\n",
    "data['floors_total'].describe()"
   ]
  },
  {
   "cell_type": "markdown",
   "metadata": {},
   "source": [
    "Вывод: подтверждается теория о пятиэтажках из прошлого параметра. Их больше всего, как и 9-этажных домов."
   ]
  },
  {
   "cell_type": "code",
   "execution_count": 23,
   "metadata": {},
   "outputs": [
    {
     "data": {
      "text/plain": [
       "count    18180.000000\n",
       "mean     14191.277833\n",
       "std       8608.386210\n",
       "min        181.000000\n",
       "25%       9238.000000\n",
       "50%      13098.500000\n",
       "75%      16293.000000\n",
       "max      65968.000000\n",
       "Name: cityCenters_nearest, dtype: float64"
      ]
     },
     "execution_count": 23,
     "metadata": {},
     "output_type": "execute_result"
    },
    {
     "data": {
      "image/png": "[encoded data removed]",
      "text/plain": [
       "<Figure size 432x288 with 1 Axes>"
      ]
     },
     "metadata": {
      "needs_background": "light"
     },
     "output_type": "display_data"
    }
   ],
   "source": [
    "data.hist('cityCenters_nearest', bins=100)\n",
    "data['cityCenters_nearest'].describe()"
   ]
  },
  {
   "cell_type": "markdown",
   "metadata": {},
   "source": [
    "Вывод: основная часть недвижимости удалена от центра на 5-15 км. Медиана и среднее пракически одинаковые и показывают нам значение в 13-14 км."
   ]
  },
  {
   "cell_type": "code",
   "execution_count": 24,
   "metadata": {},
   "outputs": [
    {
     "data": {
      "text/plain": [
       "count    8079.000000\n",
       "mean      490.804555\n",
       "std       342.317995\n",
       "min         1.000000\n",
       "25%       288.000000\n",
       "50%       455.000000\n",
       "75%       612.000000\n",
       "max      3190.000000\n",
       "Name: parks_nearest, dtype: float64"
      ]
     },
     "execution_count": 24,
     "metadata": {},
     "output_type": "execute_result"
    },
    {
     "data": {
      "image/png": "[encoded data removed]",
      "text/plain": [
       "<Figure size 432x288 with 1 Axes>"
      ]
     },
     "metadata": {
      "needs_background": "light"
     },
     "output_type": "display_data"
    }
   ],
   "source": [
    "data.hist('parks_nearest', bins=100)\n",
    "data['parks_nearest'].describe()"
   ]
  },
  {
   "cell_type": "markdown",
   "metadata": {},
   "source": [
    "Вывод: в основном дома расположены в пешей доступности от парка - медиана и среднее менее километра."
   ]
  },
  {
   "cell_type": "code",
   "execution_count": 25,
   "metadata": {},
   "outputs": [
    {
     "data": {
      "text/plain": [
       "count    18157.000000\n",
       "mean     28793.672193\n",
       "std      12630.880622\n",
       "min          0.000000\n",
       "25%      18585.000000\n",
       "50%      26726.000000\n",
       "75%      37273.000000\n",
       "max      84869.000000\n",
       "Name: airports_nearest, dtype: float64"
      ]
     },
     "execution_count": 25,
     "metadata": {},
     "output_type": "execute_result"
    },
    {
     "data": {
      "image/png": "[encoded data removed]",
      "text/plain": [
       "<Figure size 432x288 with 1 Axes>"
      ]
     },
     "metadata": {
      "needs_background": "light"
     },
     "output_type": "display_data"
    }
   ],
   "source": [
    "data.hist('airports_nearest', bins=100)\n",
    "data['airports_nearest'].describe()"
   ]
  },
  {
   "cell_type": "markdown",
   "metadata": {},
   "source": [
    "Вывод: а вот аэропорты располагается в основном сильно дальше - 25-30 км. Обусловен данный факт тем, что в городе обычно один, край два, аэропорта и расположены они специально на большом расстоянии, чтобы не мешать шумом взлета и посадки, а так же прогонкой двигателей самолетов и т.д. (я по образованию авиационный инженер, поэтому могу смело заявить, что жить рядом с подобным объектом - такое себе удовольствие)"
   ]
  },
  {
   "cell_type": "code",
   "execution_count": 26,
   "metadata": {
    "scrolled": true
   },
   "outputs": [
    {
     "data": {
      "text/html": [
       "<div>\n",
       "<style scoped>\n",
       "    .dataframe tbody tr th:only-of-type {\n",
       "        vertical-align: middle;\n",
       "    }\n",
       "\n",
       "    .dataframe tbody tr th {\n",
       "        vertical-align: top;\n",
       "    }\n",
       "\n",
       "    .dataframe thead th {\n",
       "        text-align: right;\n",
       "    }\n",
       "</style>\n",
       "<table border=\"1\" class=\"dataframe\">\n",
       "  <thead>\n",
       "    <tr style=\"text-align: right;\">\n",
       "      <th></th>\n",
       "      <th>total_images</th>\n",
       "      <th>last_price</th>\n",
       "      <th>total_area</th>\n",
       "      <th>first_day_exposition</th>\n",
       "      <th>rooms</th>\n",
       "      <th>ceiling_height</th>\n",
       "      <th>floors_total</th>\n",
       "      <th>living_area</th>\n",
       "      <th>floor</th>\n",
       "      <th>is_apartment</th>\n",
       "      <th>studio</th>\n",
       "      <th>open_plan</th>\n",
       "      <th>kitchen_area</th>\n",
       "      <th>balcony</th>\n",
       "      <th>locality_name</th>\n",
       "      <th>airports_nearest</th>\n",
       "      <th>cityCenters_nearest</th>\n",
       "      <th>parks_around3000</th>\n",
       "      <th>parks_nearest</th>\n",
       "      <th>ponds_around3000</th>\n",
       "      <th>ponds_nearest</th>\n",
       "      <th>days_exposition</th>\n",
       "      <th>price_per_square_meter</th>\n",
       "      <th>weekday_exposition</th>\n",
       "      <th>month_exposition</th>\n",
       "      <th>year_exposition</th>\n",
       "      <th>floor_type</th>\n",
       "      <th>cityCenters_nearest_km</th>\n",
       "    </tr>\n",
       "  </thead>\n",
       "  <tbody>\n",
       "    <tr>\n",
       "      <th>21085</th>\n",
       "      <td>0</td>\n",
       "      <td>7000000.0</td>\n",
       "      <td>34.7</td>\n",
       "      <td>2018-09-23</td>\n",
       "      <td>1</td>\n",
       "      <td>2.7</td>\n",
       "      <td>9.0</td>\n",
       "      <td>19.8</td>\n",
       "      <td>3</td>\n",
       "      <td>False</td>\n",
       "      <td>False</td>\n",
       "      <td>False</td>\n",
       "      <td>6.0</td>\n",
       "      <td>2</td>\n",
       "      <td>Санкт-Петербург</td>\n",
       "      <td>0.0</td>\n",
       "      <td>22801.0</td>\n",
       "      <td>0.0</td>\n",
       "      <td>NaN</td>\n",
       "      <td>0.0</td>\n",
       "      <td>NaN</td>\n",
       "      <td>60</td>\n",
       "      <td>201729</td>\n",
       "      <td>6</td>\n",
       "      <td>9</td>\n",
       "      <td>2018</td>\n",
       "      <td>другой</td>\n",
       "      <td>22.801</td>\n",
       "    </tr>\n",
       "  </tbody>\n",
       "</table>\n",
       "</div>"
      ],
      "text/plain": [
       "       total_images  last_price  total_area first_day_exposition  rooms  \\\n",
       "21085             0   7000000.0        34.7           2018-09-23      1   \n",
       "\n",
       "       ceiling_height  floors_total  living_area  floor  is_apartment  studio  \\\n",
       "21085             2.7           9.0         19.8      3         False   False   \n",
       "\n",
       "       open_plan  kitchen_area  balcony    locality_name  airports_nearest  \\\n",
       "21085      False           6.0        2  Санкт-Петербург               0.0   \n",
       "\n",
       "       cityCenters_nearest  parks_around3000  parks_nearest  ponds_around3000  \\\n",
       "21085              22801.0               0.0            NaN               0.0   \n",
       "\n",
       "       ponds_nearest  days_exposition  price_per_square_meter  \\\n",
       "21085            NaN               60                  201729   \n",
       "\n",
       "       weekday_exposition  month_exposition  year_exposition floor_type  \\\n",
       "21085                   6                 9             2018     другой   \n",
       "\n",
       "       cityCenters_nearest_km  \n",
       "21085                  22.801  "
      ]
     },
     "execution_count": 26,
     "metadata": {},
     "output_type": "execute_result"
    }
   ],
   "source": [
    "data[data['airports_nearest'] == 0]"
   ]
  },
  {
   "cell_type": "markdown",
   "metadata": {},
   "source": [
    "В ходе данного изучания параметров обнаруживается один жилой объект, который имеет 34.7 кв.м. жилой площади за 7 млн. и находится прямо в аэропорту, при этом заявляют, что удален он от центра на почти 23 км.\n",
    "Удаление от центра на правду похоже, т.к. среднее значение расстояния до аэропорта у нас 25-30.\n",
    "Я бы предположил, что такое может быть из-за комнат отдыха для сотрудников аэропорта, в которых фактически можно жить, но вряд ли бы их тогда продавали. Неясно, считать ли это выбросом."
   ]
  },
  {
   "cell_type": "code",
   "execution_count": 27,
   "metadata": {},
   "outputs": [
    {
     "data": {
      "text/plain": [
       "count    23699.000000\n",
       "mean         6.400101\n",
       "std          3.491561\n",
       "min          1.000000\n",
       "25%          3.000000\n",
       "50%          6.000000\n",
       "75%         10.000000\n",
       "max         12.000000\n",
       "Name: month_exposition, dtype: float64"
      ]
     },
     "execution_count": 27,
     "metadata": {},
     "output_type": "execute_result"
    },
    {
     "data": {
      "image/png": "[encoded data removed]",
      "text/plain": [
       "<Figure size 432x288 with 1 Axes>"
      ]
     },
     "metadata": {
      "needs_background": "light"
     },
     "output_type": "display_data"
    }
   ],
   "source": [
    "data.hist('month_exposition', bins=10)\n",
    "data['month_exposition'].describe()"
   ]
  },
  {
   "cell_type": "markdown",
   "metadata": {},
   "source": [
    "Вывод: замечены два скачка продаж в декабре и январе, откуда можно сделать вывод, что недвижимость почему-то лучше продается зимой, нежели летом. С чем это связано - сказать трудно. Тут, думаю, нужно проводить отдельное исследование.\n",
    "Отчасти, могу предположить, спад летом вызван временем отпуска у большинства людей, отчего может идти снижение числа продаж. Людям попросту не до этого. Ну и изъянов на частных домах зимой из-за снега может быть заметно в разы меньше, чем летом, когда ничего не мешает внешнему осмотру дома, отчего проще совершить продажу."
   ]
  },
  {
   "cell_type": "markdown",
   "metadata": {},
   "source": [
    "### Изучаем, как быстро продавались квартиры"
   ]
  },
  {
   "cell_type": "code",
   "execution_count": 28,
   "metadata": {},
   "outputs": [
    {
     "data": {
      "text/plain": [
       "array([3181,  880,  538,  234,  208,  204,  176,  158,  152,  148,  143,\n",
       "        139,  138,  135,  129,  128,  127,  126,  125,  124,  122,  120,\n",
       "        116,  115,  112,  110,  109,  108,  107,  106,  104,  101,  100,\n",
       "         99,   96,   93,   91,   90,   89,   88,   86,   84,   83,   81,\n",
       "         79,   78,   77,   76,   75,   74,   73,   72,   71,   70,   69,\n",
       "         68,   67,   66,   65,   64,   62,   61,   60,   59,   58,   57,\n",
       "         56,   55,   54,   53,   52,   51,   50,   49,   48,   47,   46,\n",
       "         45,   44,   43,   42,   41,   40,   39,   38,   36,   35,   34,\n",
       "         33,   32,   31,   30,   29,   28,   27,   26,   25,   24,   23,\n",
       "         22,   21,   20,   19,   18,   17,   16,   15,   14,   13,   12,\n",
       "         11,   10,    9,    8,    7,    6,    5,    4,    3,    2,    1])"
      ]
     },
     "execution_count": 28,
     "metadata": {},
     "output_type": "execute_result"
    }
   ],
   "source": [
    "data['days_exposition'].value_counts().unique()"
   ]
  },
  {
   "cell_type": "code",
   "execution_count": 29,
   "metadata": {},
   "outputs": [
    {
     "data": {
      "text/plain": [
       "count    20518.000000\n",
       "mean       180.888634\n",
       "std        219.727988\n",
       "min          1.000000\n",
       "25%         45.000000\n",
       "50%         95.000000\n",
       "75%        232.000000\n",
       "max       1580.000000\n",
       "Name: days_exposition, dtype: float64"
      ]
     },
     "execution_count": 29,
     "metadata": {},
     "output_type": "execute_result"
    },
    {
     "data": {
      "image/png": "[encoded data removed]",
      "text/plain": [
       "<Figure size 432x288 with 1 Axes>"
      ]
     },
     "metadata": {
      "needs_background": "light"
     },
     "output_type": "display_data"
    },
    {
     "data": {
      "image/png": "[encoded data removed]",
      "text/plain": [
       "<Figure size 432x288 with 1 Axes>"
      ]
     },
     "metadata": {
      "needs_background": "light"
     },
     "output_type": "display_data"
    },
    {
     "data": {
      "image/png": "[encoded data removed]",
      "text/plain": [
       "<Figure size 432x288 with 1 Axes>"
      ]
     },
     "metadata": {
      "needs_background": "light"
     },
     "output_type": "display_data"
    }
   ],
   "source": [
    "# Строим диаграмму размаха, не учитывая заполненные нами пропуски нулевыми значениями.\n",
    "plt.boxplot(data[data['days_exposition']!=0]['days_exposition'])\n",
    "plt.ylim(1,1000)\n",
    "\n",
    "# Строим гистограмму от 1 до 1000, т.к. основные значения лежат в этом диапазоне. Считаю, что 3000 - выброс и с данным размахом\n",
    "# Гистограмма станет совсем неинформативной.\n",
    "data.plot(y = 'days_exposition', kind = 'hist', bins = 50, grid = True, range = (1,1000))\n",
    "\n",
    "# Основные значения лежат в диапазоне от 1 до 200, что подтверждает среднее и медиана.\n",
    "# Строим более детальную гистограмму, чтобы взглянуть на распределение поближе.\n",
    "data.plot(y = 'days_exposition', kind = 'hist', bins = 100, grid = True, range = (1,200))\n",
    "\n",
    "# Применяем метод describe, чтобы увидеть среднее и медиану.\n",
    "data[data['days_exposition']!=0]['days_exposition'].describe()"
   ]
  },
  {
   "cell_type": "markdown",
   "metadata": {},
   "source": [
    "Вывод: среднее находится на отметке 180, медиана равняется 95. Некоторая недвижимость сдается годами, но основная масса успевает сдаться в первые 200 дней.\n",
    "На более детальной гистограмме видим аномальные пики на, примерно, 45, 60 и ~90 дней. Думаю, необходимо уточнить у Яндекс.Недвижимости, чем могут быть обоснованы пики именно на этих числах, чтобы можно было делать вывод, является ли это выбросом или несет под собой другую скрытую причину.\n",
    "\n",
    "Посмотрим на межквартильный размах. Ссылаясь на все тот же метод describe, можно говорить, что он находится в диапазоне от 45 до 232 дней. Диаграмма размаха показывает, что выбросы находятся от ~550.\n",
    "То есть, интерпретируя, могу сказать, что нормальные значения находятся в диапазоне от 1 до 550 дней. Все, что вне этого диапазона - выброс.\n",
    "\n",
    "То есть, быстрыми продажами можно считать те, что осуществились до первого пика, а необычно долгими все, что выходят за значение в 550 дней.\n"
   ]
  },
  {
   "cell_type": "markdown",
   "metadata": {},
   "source": [
    "### Какие факторы больше всего влияют на общую (полную) стоимость объекта"
   ]
  },
  {
   "cell_type": "code",
   "execution_count": 30,
   "metadata": {},
   "outputs": [
    {
     "data": {
      "text/plain": [
       "0.3019601438779257"
      ]
     },
     "execution_count": 30,
     "metadata": {},
     "output_type": "execute_result"
    },
    {
     "data": {
      "image/png": "[encoded data removed]",
      "text/plain": [
       "<Figure size 432x288 with 1 Axes>"
      ]
     },
     "metadata": {
      "needs_background": "light"
     },
     "output_type": "display_data"
    }
   ],
   "source": [
    "# Посмотрим зависимость стоимость кв.м. от общей площади\n",
    "# Для этого создадим сводную таблицу, поместив туда нужные нам значения и создадим по ним график:\n",
    "data.pivot_table(index = 'total_area',\n",
    "                 values = 'price_per_square_meter',\n",
    "                 aggfunc = ['median']).plot(y = 'median', style = 'o', grid = True, alpha=0.05)\n",
    "\n",
    "# Также посмотрим на коэффициент корреляции Пирсона:\n",
    "data['total_area'].corr(data['price_per_square_meter'])"
   ]
  },
  {
   "cell_type": "markdown",
   "metadata": {},
   "source": [
    "Вывод:\n",
    "Значениям 0.2, 0.4 и т.д. соответствуют цены в 200 000, 400 000 и т.д.\n",
    "Ссылаясь на корреляцию, могу заявить, что зависимость выявляется слабая. С увеличением площади стоимость растет совсем незначительно.\n",
    "Выявляется пара аномальных значений, где за ~900 кв.м. мы имеем стоимость в 500 000 и аномально высокая цена в\n",
    "1 000 000 при 200-400 кв.м."
   ]
  },
  {
   "cell_type": "code",
   "execution_count": 31,
   "metadata": {
    "scrolled": true
   },
   "outputs": [
    {
     "data": {
      "text/plain": [
       "0.3019601438779257"
      ]
     },
     "execution_count": 31,
     "metadata": {},
     "output_type": "execute_result"
    },
    {
     "data": {
      "image/png": "[encoded data removed]",
      "text/plain": [
       "<Figure size 432x288 with 1 Axes>"
      ]
     },
     "metadata": {
      "needs_background": "light"
     },
     "output_type": "display_data"
    }
   ],
   "source": [
    "# Посмотрим зависимость стоимость кв.м. от жилой площади\n",
    "data.pivot_table(index = 'living_area',\n",
    "                 values = 'price_per_square_meter',\n",
    "                 aggfunc = ['median']).plot(y = 'median', style = 'o', grid = True, alpha=0.1)\n",
    "\n",
    "data['total_area'].corr(data['price_per_square_meter'])"
   ]
  },
  {
   "cell_type": "markdown",
   "metadata": {},
   "source": [
    "Вывод: замечаем очень слабую корреляцию, которая говорит нам о том, что с увеличением площади совсем чуть-чуть увеличивается цена."
   ]
  },
  {
   "cell_type": "code",
   "execution_count": 32,
   "metadata": {},
   "outputs": [
    {
     "data": {
      "text/plain": [
       "0.3974934510795303"
      ]
     },
     "execution_count": 32,
     "metadata": {},
     "output_type": "execute_result"
    },
    {
     "data": {
      "image/png": "[encoded data removed]",
      "text/plain": [
       "<Figure size 432x288 with 1 Axes>"
      ]
     },
     "metadata": {
      "needs_background": "light"
     },
     "output_type": "display_data"
    }
   ],
   "source": [
    "# Посмотрим зависимость стоимость кв.м. от площади кухни\n",
    "data.pivot_table(index = 'kitchen_area',\n",
    "                 values = 'price_per_square_meter',\n",
    "                 aggfunc = ['median']).plot(y = 'median', style = 'o', grid = True, alpha=0.05)\n",
    "\n",
    "data['kitchen_area'].corr(data['price_per_square_meter'])"
   ]
  },
  {
   "cell_type": "markdown",
   "metadata": {},
   "source": [
    "Вывод: то же самое подтверждает нам и площадь кухни, хоть и зависимость немного больше."
   ]
  },
  {
   "cell_type": "code",
   "execution_count": 33,
   "metadata": {},
   "outputs": [
    {
     "data": {
      "text/plain": [
       "0.05541949967059211"
      ]
     },
     "execution_count": 33,
     "metadata": {},
     "output_type": "execute_result"
    },
    {
     "data": {
      "image/png": "[encoded data removed]",
      "text/plain": [
       "<Figure size 432x288 with 1 Axes>"
      ]
     },
     "metadata": {
      "needs_background": "light"
     },
     "output_type": "display_data"
    }
   ],
   "source": [
    "# Посмотрим зависимость стоимость кв.м. от количества комнат\n",
    "data.pivot_table(index = 'rooms',\n",
    "                 values = 'price_per_square_meter',\n",
    "                 aggfunc = ['median']).plot(y = 'median', style = '-o', grid = True)\n",
    "\n",
    "data['rooms'].corr(data['price_per_square_meter'])"
   ]
  },
  {
   "cell_type": "markdown",
   "metadata": {},
   "source": [
    "Вывод: видим выброс в очень дорогом объекте, имеющем 12 комнат. Проведем исследование без его учета, чтобы было более понятно распределение."
   ]
  },
  {
   "cell_type": "code",
   "execution_count": 34,
   "metadata": {
    "scrolled": true
   },
   "outputs": [
    {
     "data": {
      "text/plain": [
       "<AxesSubplot:xlabel='rooms'>"
      ]
     },
     "execution_count": 34,
     "metadata": {},
     "output_type": "execute_result"
    },
    {
     "data": {
      "image/png": "[encoded data removed]",
      "text/plain": [
       "<Figure size 432x288 with 1 Axes>"
      ]
     },
     "metadata": {
      "needs_background": "light"
     },
     "output_type": "display_data"
    }
   ],
   "source": [
    "data_rooms = data.pivot_table(index = 'rooms',\n",
    "                 values = 'price_per_square_meter',\n",
    "                 aggfunc = ['median'])\n",
    "data_rooms.columns = ['median']\n",
    "data_rooms.query('median < 450000').plot(y = 'median', style = '-o', grid = True)"
   ]
  },
  {
   "cell_type": "markdown",
   "metadata": {},
   "source": [
    "Вывод: почему-то чем меньше количество комнат к 3, тем меньше цена. Как мы помним основная часть недвижимости имеет как раз-таки от 1 до 3 комнат. И намного реже более пяти. В больших (более, чем пятикомнатные) домах сложно найти закономерность распределения цен. Думаю, объекты там носят сликом индивидуальный характер и поэтому мы можем найти очень дорогую 6 комнатный дом, к примеру, но при этом дешевые 10 и 14 комнатные. Все зависит, думаю, от множества других факторов, а не конкретно от количества комнат в данном случае.\n",
    "\n",
    "Я не строитель, поэтому мне сложно предположить, почему трехкомнатные квартиры обваливают график с ценами вниз, но, немного поискав информацию в интернете, обнаружил цитату: \"трешка может быть дешевле из-за неудачного расположения комнат\". Возможно, связано с этим, но утверждать сложно."
   ]
  },
  {
   "cell_type": "code",
   "execution_count": 35,
   "metadata": {},
   "outputs": [
    {
     "data": {
      "text/html": [
       "<div>\n",
       "<style scoped>\n",
       "    .dataframe tbody tr th:only-of-type {\n",
       "        vertical-align: middle;\n",
       "    }\n",
       "\n",
       "    .dataframe tbody tr th {\n",
       "        vertical-align: top;\n",
       "    }\n",
       "\n",
       "    .dataframe thead th {\n",
       "        text-align: right;\n",
       "    }\n",
       "</style>\n",
       "<table border=\"1\" class=\"dataframe\">\n",
       "  <thead>\n",
       "    <tr style=\"text-align: right;\">\n",
       "      <th></th>\n",
       "      <th>count</th>\n",
       "      <th>median</th>\n",
       "    </tr>\n",
       "    <tr>\n",
       "      <th>floor_type</th>\n",
       "      <th></th>\n",
       "      <th></th>\n",
       "    </tr>\n",
       "  </thead>\n",
       "  <tbody>\n",
       "    <tr>\n",
       "      <th>первый</th>\n",
       "      <td>2917</td>\n",
       "      <td>81223</td>\n",
       "    </tr>\n",
       "    <tr>\n",
       "      <th>последний</th>\n",
       "      <td>3336</td>\n",
       "      <td>87777</td>\n",
       "    </tr>\n",
       "  </tbody>\n",
       "</table>\n",
       "</div>"
      ],
      "text/plain": [
       "            count  median\n",
       "floor_type               \n",
       "первый       2917   81223\n",
       "последний    3336   87777"
      ]
     },
     "execution_count": 35,
     "metadata": {},
     "output_type": "execute_result"
    },
    {
     "data": {
      "image/png": "[encoded data removed]",
      "text/plain": [
       "<Figure size 432x288 with 1 Axes>"
      ]
     },
     "metadata": {
      "needs_background": "light"
     },
     "output_type": "display_data"
    }
   ],
   "source": [
    "data_foolr_type = data.query('floor_type != \"другой\"').pivot_table(index = 'floor_type',\n",
    "                                                                   values = 'price_per_square_meter',\n",
    "                                                                   aggfunc = ['count', 'median'])\n",
    "data_foolr_type.columns = ['count', 'median']\n",
    "data_foolr_type.plot(y = 'median')\n",
    "data_foolr_type"
   ]
  },
  {
   "cell_type": "markdown",
   "metadata": {},
   "source": [
    "Вывод:если судить по нему то практически на 10% дешевле квартиры на первом этаже, нежели на последнем.\n",
    "Могу предположить, что это связано с тем, что на первом этаже жить не так комфортно. Мало, кому понравится, когда перед окнами ходят люди. Намного приятнее иметь вид с высоты, когда к тебе никто не может заглянуть."
   ]
  },
  {
   "cell_type": "code",
   "execution_count": 36,
   "metadata": {},
   "outputs": [
    {
     "data": {
      "text/plain": [
       "<AxesSubplot:xlabel='weekday_exposition'>"
      ]
     },
     "execution_count": 36,
     "metadata": {},
     "output_type": "execute_result"
    },
    {
     "data": {
      "image/png": "[encoded data removed]",
      "text/plain": [
       "<Figure size 432x288 with 1 Axes>"
      ]
     },
     "metadata": {
      "needs_background": "light"
     },
     "output_type": "display_data"
    }
   ],
   "source": [
    "data.pivot_table(index = 'weekday_exposition',\n",
    "                 values = 'price_per_square_meter',\n",
    "                 aggfunc = ['median']).plot(y = 'median', style = '-o', grid = True)"
   ]
  },
  {
   "cell_type": "markdown",
   "metadata": {},
   "source": [
    "Вывод: разброс мы видим совсем незначительный, но дороже всего квартиры, выставленные во вторник, а к выходным, к субботе в частности, цены ниже. С чем это связано сказать трудно, но предположу, что во время выходных люди расслабленнее и менее активны, отчего выставляют недвижимость чуть-чуть дешевле."
   ]
  },
  {
   "cell_type": "code",
   "execution_count": 37,
   "metadata": {},
   "outputs": [
    {
     "data": {
      "text/plain": [
       "<AxesSubplot:xlabel='month_exposition'>"
      ]
     },
     "execution_count": 37,
     "metadata": {},
     "output_type": "execute_result"
    },
    {
     "data": {
      "image/png": "[encoded data removed]",
      "text/plain": [
       "<Figure size 432x288 with 1 Axes>"
      ]
     },
     "metadata": {
      "needs_background": "light"
     },
     "output_type": "display_data"
    }
   ],
   "source": [
    "data.pivot_table(index = 'month_exposition',\n",
    "                 values = 'price_per_square_meter',\n",
    "                 aggfunc = ['median']).plot(y = 'median', style = '-o', grid = True)"
   ]
  },
  {
   "cell_type": "markdown",
   "metadata": {},
   "source": [
    "Вывод: данный график практически полностью соответствуют параметру, который был выше, отображающему скачок продаж зимой. Летом недвижимость дешевле всего."
   ]
  },
  {
   "cell_type": "code",
   "execution_count": 38,
   "metadata": {},
   "outputs": [
    {
     "data": {
      "text/plain": [
       "<AxesSubplot:xlabel='year_exposition'>"
      ]
     },
     "execution_count": 38,
     "metadata": {},
     "output_type": "execute_result"
    },
    {
     "data": {
      "image/png": "[encoded data removed]",
      "text/plain": [
       "<Figure size 432x288 with 1 Axes>"
      ]
     },
     "metadata": {
      "needs_background": "light"
     },
     "output_type": "display_data"
    }
   ],
   "source": [
    "data.pivot_table(index = 'year_exposition',\n",
    "                 values = 'price_per_square_meter',\n",
    "                 aggfunc = ['median']).plot(y = 'median', style = '-o', grid = True)"
   ]
  },
  {
   "cell_type": "markdown",
   "metadata": {},
   "source": [
    "Вывод: нужно проводить отдельный анализ, описывающий, почему рынок недвижимости упал к 2015 году, но, немного поискав информацию в интернете, я наткнулся на новости о том, что в эти годы \"пугали отменой льготной ипотеки и страхами дальнейшего обесценения рубля\" и \"скидки от застройщиков, необходимые для оживления спроса, достигли 20-25%\".\n",
    "Утверждать о достоверности не могу, но похоже на правду, если сравнивать с нашим графиком."
   ]
  },
  {
   "cell_type": "markdown",
   "metadata": {},
   "source": [
    "### Считаем среднюю цену одного квадратного метра в топ-10 населенных пунктов."
   ]
  },
  {
   "cell_type": "code",
   "execution_count": 39,
   "metadata": {
    "scrolled": false
   },
   "outputs": [
    {
     "data": {
      "text/html": [
       "<div>\n",
       "<style scoped>\n",
       "    .dataframe tbody tr th:only-of-type {\n",
       "        vertical-align: middle;\n",
       "    }\n",
       "\n",
       "    .dataframe tbody tr th {\n",
       "        vertical-align: top;\n",
       "    }\n",
       "\n",
       "    .dataframe thead th {\n",
       "        text-align: right;\n",
       "    }\n",
       "</style>\n",
       "<table border=\"1\" class=\"dataframe\">\n",
       "  <thead>\n",
       "    <tr style=\"text-align: right;\">\n",
       "      <th></th>\n",
       "      <th>last_price_sum</th>\n",
       "      <th>total_area_sum</th>\n",
       "      <th>last_price_count</th>\n",
       "      <th>total_area_count</th>\n",
       "      <th>price_per_square_meter</th>\n",
       "    </tr>\n",
       "    <tr>\n",
       "      <th>locality_name</th>\n",
       "      <th></th>\n",
       "      <th></th>\n",
       "      <th></th>\n",
       "      <th></th>\n",
       "      <th></th>\n",
       "    </tr>\n",
       "  </thead>\n",
       "  <tbody>\n",
       "    <tr>\n",
       "      <th>Санкт-Петербург</th>\n",
       "      <td>1.267507e+11</td>\n",
       "      <td>1017958.15</td>\n",
       "      <td>15721</td>\n",
       "      <td>15721</td>\n",
       "      <td>124514.621378</td>\n",
       "    </tr>\n",
       "    <tr>\n",
       "      <th>Зеленогорск</th>\n",
       "      <td>1.509201e+08</td>\n",
       "      <td>1307.70</td>\n",
       "      <td>24</td>\n",
       "      <td>24</td>\n",
       "      <td>115408.809360</td>\n",
       "    </tr>\n",
       "    <tr>\n",
       "      <th>поселок Репино</th>\n",
       "      <td>4.866742e+07</td>\n",
       "      <td>431.70</td>\n",
       "      <td>4</td>\n",
       "      <td>4</td>\n",
       "      <td>112734.343294</td>\n",
       "    </tr>\n",
       "    <tr>\n",
       "      <th>Пушкин</th>\n",
       "      <td>2.387074e+09</td>\n",
       "      <td>22712.98</td>\n",
       "      <td>369</td>\n",
       "      <td>369</td>\n",
       "      <td>105097.361245</td>\n",
       "    </tr>\n",
       "    <tr>\n",
       "      <th>поселок Лисий Нос</th>\n",
       "      <td>1.240500e+07</td>\n",
       "      <td>120.20</td>\n",
       "      <td>3</td>\n",
       "      <td>3</td>\n",
       "      <td>103202.995008</td>\n",
       "    </tr>\n",
       "    <tr>\n",
       "      <th>Сестрорецк</th>\n",
       "      <td>1.160535e+09</td>\n",
       "      <td>11596.16</td>\n",
       "      <td>183</td>\n",
       "      <td>183</td>\n",
       "      <td>100079.262445</td>\n",
       "    </tr>\n",
       "    <tr>\n",
       "      <th>Кудрово</th>\n",
       "      <td>7.912875e+08</td>\n",
       "      <td>7973.68</td>\n",
       "      <td>173</td>\n",
       "      <td>173</td>\n",
       "      <td>99237.433657</td>\n",
       "    </tr>\n",
       "    <tr>\n",
       "      <th>деревня Мистолово</th>\n",
       "      <td>5.247125e+07</td>\n",
       "      <td>528.88</td>\n",
       "      <td>11</td>\n",
       "      <td>11</td>\n",
       "      <td>99212.014067</td>\n",
       "    </tr>\n",
       "    <tr>\n",
       "      <th>поселок Левашово</th>\n",
       "      <td>4.200000e+06</td>\n",
       "      <td>43.30</td>\n",
       "      <td>1</td>\n",
       "      <td>1</td>\n",
       "      <td>96997.690531</td>\n",
       "    </tr>\n",
       "    <tr>\n",
       "      <th>деревня Кудрово</th>\n",
       "      <td>1.266013e+09</td>\n",
       "      <td>13924.95</td>\n",
       "      <td>299</td>\n",
       "      <td>299</td>\n",
       "      <td>90916.895213</td>\n",
       "    </tr>\n",
       "  </tbody>\n",
       "</table>\n",
       "</div>"
      ],
      "text/plain": [
       "                   last_price_sum  total_area_sum  last_price_count  \\\n",
       "locality_name                                                         \n",
       "Санкт-Петербург      1.267507e+11      1017958.15             15721   \n",
       "Зеленогорск          1.509201e+08         1307.70                24   \n",
       "поселок Репино       4.866742e+07          431.70                 4   \n",
       "Пушкин               2.387074e+09        22712.98               369   \n",
       "поселок Лисий Нос    1.240500e+07          120.20                 3   \n",
       "Сестрорецк           1.160535e+09        11596.16               183   \n",
       "Кудрово              7.912875e+08         7973.68               173   \n",
       "деревня Мистолово    5.247125e+07          528.88                11   \n",
       "поселок Левашово     4.200000e+06           43.30                 1   \n",
       "деревня Кудрово      1.266013e+09        13924.95               299   \n",
       "\n",
       "                   total_area_count  price_per_square_meter  \n",
       "locality_name                                                \n",
       "Санкт-Петербург               15721           124514.621378  \n",
       "Зеленогорск                      24           115408.809360  \n",
       "поселок Репино                    4           112734.343294  \n",
       "Пушкин                          369           105097.361245  \n",
       "поселок Лисий Нос                 3           103202.995008  \n",
       "Сестрорецк                      183           100079.262445  \n",
       "Кудрово                         173            99237.433657  \n",
       "деревня Мистолово                11            99212.014067  \n",
       "поселок Левашово                  1            96997.690531  \n",
       "деревня Кудрово                 299            90916.895213  "
      ]
     },
     "execution_count": 39,
     "metadata": {},
     "output_type": "execute_result"
    }
   ],
   "source": [
    "top_10 = data.pivot_table(index='locality_name',\n",
    "                          values=['last_price', 'total_area'],\n",
    "                          aggfunc=['sum', 'count'])\n",
    "top_10.columns = ['last_price_sum', 'total_area_sum', 'last_price_count', 'total_area_count']\n",
    "\n",
    "top_10['price_per_square_meter'] = top_10['last_price_sum'] / top_10['total_area_sum']\n",
    "top_10.sort_values('price_per_square_meter', ascending=False).head(10)"
   ]
  },
  {
   "cell_type": "code",
   "execution_count": 40,
   "metadata": {},
   "outputs": [
    {
     "data": {
      "image/png": "[encoded data removed]",
      "text/plain": [
       "<Figure size 432x288 with 1 Axes>"
      ]
     },
     "metadata": {
      "needs_background": "light"
     },
     "output_type": "display_data"
    }
   ],
   "source": [
    "top_10.sort_values('price_per_square_meter', ascending=False).head(10).boxplot('price_per_square_meter')\n",
    "None"
   ]
  },
  {
   "cell_type": "markdown",
   "metadata": {},
   "source": [
    "Судя по ящику с усами медиана располагается чуть выше 100 тысяч, а межквартильный диапазон составляет ~18 000"
   ]
  },
  {
   "cell_type": "code",
   "execution_count": 41,
   "metadata": {},
   "outputs": [
    {
     "data": {
      "text/html": [
       "<div>\n",
       "<style scoped>\n",
       "    .dataframe tbody tr th:only-of-type {\n",
       "        vertical-align: middle;\n",
       "    }\n",
       "\n",
       "    .dataframe tbody tr th {\n",
       "        vertical-align: top;\n",
       "    }\n",
       "\n",
       "    .dataframe thead th {\n",
       "        text-align: right;\n",
       "    }\n",
       "</style>\n",
       "<table border=\"1\" class=\"dataframe\">\n",
       "  <thead>\n",
       "    <tr style=\"text-align: right;\">\n",
       "      <th></th>\n",
       "      <th>last_price_sum</th>\n",
       "      <th>total_area_sum</th>\n",
       "      <th>last_price_count</th>\n",
       "      <th>total_area_count</th>\n",
       "      <th>price_per_square_meter</th>\n",
       "    </tr>\n",
       "  </thead>\n",
       "  <tbody>\n",
       "    <tr>\n",
       "      <th>count</th>\n",
       "      <td>1.000000e+01</td>\n",
       "      <td>1.000000e+01</td>\n",
       "      <td>10.000000</td>\n",
       "      <td>10.000000</td>\n",
       "      <td>10.000000</td>\n",
       "    </tr>\n",
       "    <tr>\n",
       "      <th>mean</th>\n",
       "      <td>1.326242e+10</td>\n",
       "      <td>1.076598e+05</td>\n",
       "      <td>1678.800000</td>\n",
       "      <td>1678.800000</td>\n",
       "      <td>104740.142620</td>\n",
       "    </tr>\n",
       "    <tr>\n",
       "      <th>std</th>\n",
       "      <td>3.988332e+10</td>\n",
       "      <td>3.199379e+05</td>\n",
       "      <td>4935.763474</td>\n",
       "      <td>4935.763474</td>\n",
       "      <td>10026.851067</td>\n",
       "    </tr>\n",
       "    <tr>\n",
       "      <th>min</th>\n",
       "      <td>4.200000e+06</td>\n",
       "      <td>4.330000e+01</td>\n",
       "      <td>1.000000</td>\n",
       "      <td>1.000000</td>\n",
       "      <td>90916.895213</td>\n",
       "    </tr>\n",
       "    <tr>\n",
       "      <th>25%</th>\n",
       "      <td>4.961837e+07</td>\n",
       "      <td>4.559950e+02</td>\n",
       "      <td>5.750000</td>\n",
       "      <td>5.750000</td>\n",
       "      <td>99218.368965</td>\n",
       "    </tr>\n",
       "    <tr>\n",
       "      <th>50%</th>\n",
       "      <td>4.711038e+08</td>\n",
       "      <td>4.640690e+03</td>\n",
       "      <td>98.500000</td>\n",
       "      <td>98.500000</td>\n",
       "      <td>101641.128727</td>\n",
       "    </tr>\n",
       "    <tr>\n",
       "      <th>75%</th>\n",
       "      <td>1.239644e+09</td>\n",
       "      <td>1.334275e+04</td>\n",
       "      <td>270.000000</td>\n",
       "      <td>270.000000</td>\n",
       "      <td>110825.097782</td>\n",
       "    </tr>\n",
       "    <tr>\n",
       "      <th>max</th>\n",
       "      <td>1.267507e+11</td>\n",
       "      <td>1.017958e+06</td>\n",
       "      <td>15721.000000</td>\n",
       "      <td>15721.000000</td>\n",
       "      <td>124514.621378</td>\n",
       "    </tr>\n",
       "  </tbody>\n",
       "</table>\n",
       "</div>"
      ],
      "text/plain": [
       "       last_price_sum  total_area_sum  last_price_count  total_area_count  \\\n",
       "count    1.000000e+01    1.000000e+01         10.000000         10.000000   \n",
       "mean     1.326242e+10    1.076598e+05       1678.800000       1678.800000   \n",
       "std      3.988332e+10    3.199379e+05       4935.763474       4935.763474   \n",
       "min      4.200000e+06    4.330000e+01          1.000000          1.000000   \n",
       "25%      4.961837e+07    4.559950e+02          5.750000          5.750000   \n",
       "50%      4.711038e+08    4.640690e+03         98.500000         98.500000   \n",
       "75%      1.239644e+09    1.334275e+04        270.000000        270.000000   \n",
       "max      1.267507e+11    1.017958e+06      15721.000000      15721.000000   \n",
       "\n",
       "       price_per_square_meter  \n",
       "count               10.000000  \n",
       "mean            104740.142620  \n",
       "std              10026.851067  \n",
       "min              90916.895213  \n",
       "25%              99218.368965  \n",
       "50%             101641.128727  \n",
       "75%             110825.097782  \n",
       "max             124514.621378  "
      ]
     },
     "execution_count": 41,
     "metadata": {},
     "output_type": "execute_result"
    }
   ],
   "source": [
    "top_10.sort_values('price_per_square_meter', ascending=False).head(10).describe()"
   ]
  },
  {
   "cell_type": "code",
   "execution_count": 42,
   "metadata": {},
   "outputs": [
    {
     "data": {
      "image/png": "[encoded data removed]",
      "text/plain": [
       "<Figure size 432x288 with 1 Axes>"
      ]
     },
     "metadata": {
      "needs_background": "light"
     },
     "output_type": "display_data"
    }
   ],
   "source": [
    "index = top_10.sort_values('price_per_square_meter', ascending=False).head(10).index\n",
    "values = top_10.sort_values('price_per_square_meter', ascending=False).head(10)['price_per_square_meter']\n",
    "\n",
    "plt.barh(index, values)\n",
    "None"
   ]
  },
  {
   "cell_type": "markdown",
   "metadata": {},
   "source": [
    "Вывод: самая высокая стоимость жилья из 10 населённых пунктов с самым большим количеством объявлений в Санкт-Петербурге, тогда как самая низкая стоимость в Гатчине."
   ]
  },
  {
   "cell_type": "code",
   "execution_count": 43,
   "metadata": {},
   "outputs": [
    {
     "data": {
      "text/html": [
       "<div>\n",
       "<style scoped>\n",
       "    .dataframe tbody tr th:only-of-type {\n",
       "        vertical-align: middle;\n",
       "    }\n",
       "\n",
       "    .dataframe tbody tr th {\n",
       "        vertical-align: top;\n",
       "    }\n",
       "\n",
       "    .dataframe thead th {\n",
       "        text-align: right;\n",
       "    }\n",
       "</style>\n",
       "<table border=\"1\" class=\"dataframe\">\n",
       "  <thead>\n",
       "    <tr style=\"text-align: right;\">\n",
       "      <th></th>\n",
       "      <th>last_price_sum</th>\n",
       "      <th>total_area_sum</th>\n",
       "      <th>last_price_count</th>\n",
       "      <th>total_area_count</th>\n",
       "      <th>price_per_square_meter</th>\n",
       "    </tr>\n",
       "    <tr>\n",
       "      <th>locality_name</th>\n",
       "      <th></th>\n",
       "      <th></th>\n",
       "      <th></th>\n",
       "      <th></th>\n",
       "      <th></th>\n",
       "    </tr>\n",
       "  </thead>\n",
       "  <tbody>\n",
       "    <tr>\n",
       "      <th>деревня Пустынка</th>\n",
       "      <td>850000.0</td>\n",
       "      <td>31.1</td>\n",
       "      <td>1</td>\n",
       "      <td>1</td>\n",
       "      <td>27331.189711</td>\n",
       "    </tr>\n",
       "    <tr>\n",
       "      <th>деревня Малая Романовка</th>\n",
       "      <td>850000.0</td>\n",
       "      <td>66.8</td>\n",
       "      <td>1</td>\n",
       "      <td>1</td>\n",
       "      <td>12724.550898</td>\n",
       "    </tr>\n",
       "    <tr>\n",
       "      <th>поселок Почап</th>\n",
       "      <td>850000.0</td>\n",
       "      <td>53.0</td>\n",
       "      <td>1</td>\n",
       "      <td>1</td>\n",
       "      <td>16037.735849</td>\n",
       "    </tr>\n",
       "    <tr>\n",
       "      <th>поселок Володарское</th>\n",
       "      <td>799000.0</td>\n",
       "      <td>47.2</td>\n",
       "      <td>1</td>\n",
       "      <td>1</td>\n",
       "      <td>16927.966102</td>\n",
       "    </tr>\n",
       "    <tr>\n",
       "      <th>деревня Ялгино</th>\n",
       "      <td>777000.0</td>\n",
       "      <td>44.0</td>\n",
       "      <td>1</td>\n",
       "      <td>1</td>\n",
       "      <td>17659.090909</td>\n",
       "    </tr>\n",
       "    <tr>\n",
       "      <th>поселок Тесово-4</th>\n",
       "      <td>750000.0</td>\n",
       "      <td>58.0</td>\n",
       "      <td>1</td>\n",
       "      <td>1</td>\n",
       "      <td>12931.034483</td>\n",
       "    </tr>\n",
       "    <tr>\n",
       "      <th>поселок городского типа Кондратьево</th>\n",
       "      <td>750000.0</td>\n",
       "      <td>30.0</td>\n",
       "      <td>1</td>\n",
       "      <td>1</td>\n",
       "      <td>25000.000000</td>\n",
       "    </tr>\n",
       "    <tr>\n",
       "      <th>поселок Цвылево</th>\n",
       "      <td>650000.0</td>\n",
       "      <td>34.0</td>\n",
       "      <td>1</td>\n",
       "      <td>1</td>\n",
       "      <td>19117.647059</td>\n",
       "    </tr>\n",
       "    <tr>\n",
       "      <th>деревня Чудской Бор</th>\n",
       "      <td>500000.0</td>\n",
       "      <td>30.7</td>\n",
       "      <td>1</td>\n",
       "      <td>1</td>\n",
       "      <td>16286.644951</td>\n",
       "    </tr>\n",
       "    <tr>\n",
       "      <th>деревня Вахнова Кара</th>\n",
       "      <td>450000.0</td>\n",
       "      <td>38.5</td>\n",
       "      <td>1</td>\n",
       "      <td>1</td>\n",
       "      <td>11688.311688</td>\n",
       "    </tr>\n",
       "  </tbody>\n",
       "</table>\n",
       "</div>"
      ],
      "text/plain": [
       "                                     last_price_sum  total_area_sum  \\\n",
       "locality_name                                                         \n",
       "деревня Пустынка                           850000.0            31.1   \n",
       "деревня Малая Романовка                    850000.0            66.8   \n",
       "поселок Почап                              850000.0            53.0   \n",
       "поселок Володарское                        799000.0            47.2   \n",
       "деревня Ялгино                             777000.0            44.0   \n",
       "поселок Тесово-4                           750000.0            58.0   \n",
       "поселок городского типа Кондратьево        750000.0            30.0   \n",
       "поселок Цвылево                            650000.0            34.0   \n",
       "деревня Чудской Бор                        500000.0            30.7   \n",
       "деревня Вахнова Кара                       450000.0            38.5   \n",
       "\n",
       "                                     last_price_count  total_area_count  \\\n",
       "locality_name                                                             \n",
       "деревня Пустынка                                    1                 1   \n",
       "деревня Малая Романовка                             1                 1   \n",
       "поселок Почап                                       1                 1   \n",
       "поселок Володарское                                 1                 1   \n",
       "деревня Ялгино                                      1                 1   \n",
       "поселок Тесово-4                                    1                 1   \n",
       "поселок городского типа Кондратьево                 1                 1   \n",
       "поселок Цвылево                                     1                 1   \n",
       "деревня Чудской Бор                                 1                 1   \n",
       "деревня Вахнова Кара                                1                 1   \n",
       "\n",
       "                                     price_per_square_meter  \n",
       "locality_name                                                \n",
       "деревня Пустынка                               27331.189711  \n",
       "деревня Малая Романовка                        12724.550898  \n",
       "поселок Почап                                  16037.735849  \n",
       "поселок Володарское                            16927.966102  \n",
       "деревня Ялгино                                 17659.090909  \n",
       "поселок Тесово-4                               12931.034483  \n",
       "поселок городского типа Кондратьево            25000.000000  \n",
       "поселок Цвылево                                19117.647059  \n",
       "деревня Чудской Бор                            16286.644951  \n",
       "деревня Вахнова Кара                           11688.311688  "
      ]
     },
     "execution_count": 43,
     "metadata": {},
     "output_type": "execute_result"
    }
   ],
   "source": [
    "top_10.sort_values('last_price_sum', ascending=False).tail(10)"
   ]
  },
  {
   "cell_type": "markdown",
   "metadata": {},
   "source": [
    "Вывод: а вот вообще самое дешевое жилье находится в деревне Вахновая Кара, где за один квадратный метр необходимо заплатить всего лишь 11.7 тысяч. Но и объявление о продаже там всего одно."
   ]
  },
  {
   "cell_type": "markdown",
   "metadata": {},
   "source": [
    "### Средняя цена каждого километра в Санкт-Петербурге"
   ]
  },
  {
   "cell_type": "code",
   "execution_count": 44,
   "metadata": {
    "scrolled": true
   },
   "outputs": [
    {
     "data": {
      "text/plain": [
       "<AxesSubplot:xlabel='cityCenters_nearest_km', ylabel='mean_price_for_km'>"
      ]
     },
     "execution_count": 44,
     "metadata": {},
     "output_type": "execute_result"
    },
    {
     "data": {
      "image/png": "[encoded data removed]",
      "text/plain": [
       "<Figure size 720x360 with 1 Axes>"
      ]
     },
     "metadata": {
      "needs_background": "light"
     },
     "output_type": "display_data"
    }
   ],
   "source": [
    "data[data['locality_name'] == 'Санкт-Петербург']['last_price'].sort_values()\n",
    "# Отсортировав таблицу под нужные нам параметры, обнаруживаем объект ценой в 12190\n",
    "# Предположим, что в данных была допущена ошибка при их вводе, т.к., мне кажется, что столь маленькая цена для\n",
    "# Санкт-Петербурга вряд ли будет реальна\n",
    "# Ближайшая цена 1 190 000. Скорее всего в 12190 пропустили два ноля.\n",
    "data.loc[data['last_price'] == 12190, 'last_price'] = 1219000\n",
    "\n",
    "spb = data.query('locality_name == \"Санкт-Петербург\"') # Фильтруем объекты только по Санкт-Петербургу\n",
    "spb = spb.dropna(subset = ['cityCenters_nearest'], inplace = False) # Убираем пропуски\n",
    "spb['cityCenters_nearest_km'] = spb['cityCenters_nearest_km'].round() # Выполняем округление\n",
    "spb_mean_price_per_meter = spb['price_per_square_meter'].mean() # Считаем среднюю цену за кв.м\n",
    "spb['mean_price_for_km'] = spb_mean_price_per_meter / spb['cityCenters_nearest_km'] # Средняя цена для каждого км.\n",
    "spb.plot(x='cityCenters_nearest_km', y='mean_price_for_km', kind='scatter', figsize=(10, 5), grid=True)\n",
    "#Строим график"
   ]
  },
  {
   "cell_type": "markdown",
   "metadata": {},
   "source": [
    "Вывод: Цена не сильно варьируется при сильном удалении от центра, совсем чуть-чуть увеличиваясь при приближении.\n",
    "А вот в совсем близком к центру в радиусе в пять км. скачком поднимается вверх. Недвижимость непосредственно в центре самая дорогая. Это логичный факт."
   ]
  },
  {
   "cell_type": "markdown",
   "metadata": {},
   "source": [
    "## Общий вывод"
   ]
  },
  {
   "cell_type": "markdown",
   "metadata": {},
   "source": [
    "Мы выполнили предобработку данных и изучили их, чтобы найти интересные особенности и зависимости, которые существуют на рынке недвижимости.\n",
    "\n",
    "На основании выполненного проекта было выяснено:\n",
    "\n",
    "По сроку продажи:\n",
    "* В основном недвижимость сдается в интервале до `200 дней`. При этом продажа до `45 дней` считается быстрой, а свыше `550 дней` сверхдолгой.\n",
    "* Имеются аномальные пики продаж на отметках в `45`, `60` и `90 дней`.\n",
    "    \n",
    "По влиянию параметров на стоимость объекта:\n",
    "* С увеличением общей площади стоимость растет совсем незначительно. Коэффициент корреляции всего `0.3`. Ровно как и с ростом жилой площади, и площади кухни.\n",
    "* Основная часть недвижимости имеет от 1 до 3 комнат. При этом 3 комнатные квартиры дешевле.\n",
    "* Квартиры на первом этаже в среднем дешевле на 10%, чем на последнем.\n",
    "* Недвижимость, выставленная на продажу во вторник дороже выставленной в субботу, хоть и незначительно.\n",
    "* Зимой недвижимость продают чаще и дороже, чем летом\n",
    "* C 2015 по 2018 года был обвал цен на недвижимость примерно `на 20%`, но сейчас цены постепенно приходят в норму.\n",
    "\n",
    "Цена за квадратный метр в топ-10 городах:\n",
    "* Самый дорогой город - `Санкт-Петербург` с ценой в `124 500` за кв.м.\n",
    "* Остальные места занимают пригородные населенные пункты Санкт-Петербурга\n",
    "* В среднем мы имеем цену в `100 000` за кв.м., а диапазон разброса от `91` до `124.5` тысяч за кв.м.\n",
    "\n",
    "Цена не сильно варьируется при сильном удалении от центра Санкт-Петербурга. Разкий скачок вверх происходит только в 5 километровом радиусе непосредственной близости к нему.\n",
    "\n",
    "Типичная квартира имеет параметры:\n",
    "* Общая площадь от `30` до `75 кв.м.`, жилая от `18` до `42`, кухня от `7` до `12`.\n",
    "* Количество комнат от `1` до `3`.\n",
    "* Высота потолков `2.7`\n",
    "* Количество этажей в доме от `1` до `5`.\n",
    "* Удалена от центра на `15` километров, а от аэропорта на `25-30`.\n",
    "* Имеет парк в пешей доступности."
   ]
  }
 ],
 "metadata": {
  "ExecuteTimeLog": [
   {
    "duration": 56,
    "start_time": "2022-08-02T17:43:56.505Z"
   },
   {
    "duration": 366,
    "start_time": "2022-08-02T17:44:08.211Z"
   },
   {
    "duration": 28,
    "start_time": "2022-08-02T17:44:08.658Z"
   },
   {
    "duration": 268,
    "start_time": "2022-08-02T17:44:16.913Z"
   },
   {
    "duration": 80,
    "start_time": "2022-08-02T17:44:48.431Z"
   },
   {
    "duration": 18,
    "start_time": "2022-08-02T17:45:13.766Z"
   },
   {
    "duration": 12,
    "start_time": "2022-08-02T17:45:34.985Z"
   },
   {
    "duration": 80,
    "start_time": "2022-08-02T17:47:06.418Z"
   },
   {
    "duration": 115,
    "start_time": "2022-08-02T17:48:10.776Z"
   },
   {
    "duration": 89,
    "start_time": "2022-08-02T17:48:19.024Z"
   },
   {
    "duration": 114,
    "start_time": "2022-08-02T17:48:27.236Z"
   },
   {
    "duration": 21,
    "start_time": "2022-08-02T17:48:29.030Z"
   },
   {
    "duration": 17,
    "start_time": "2022-08-02T17:57:05.185Z"
   },
   {
    "duration": 32,
    "start_time": "2022-08-02T17:57:24.249Z"
   },
   {
    "duration": 22,
    "start_time": "2022-08-02T17:57:31.779Z"
   },
   {
    "duration": 117,
    "start_time": "2022-08-02T17:58:01.970Z"
   },
   {
    "duration": 7,
    "start_time": "2022-08-02T18:02:30.479Z"
   },
   {
    "duration": 4,
    "start_time": "2022-08-02T18:02:34.889Z"
   },
   {
    "duration": 28,
    "start_time": "2022-08-02T18:03:41.354Z"
   },
   {
    "duration": 6,
    "start_time": "2022-08-02T18:05:57.692Z"
   },
   {
    "duration": 13,
    "start_time": "2022-08-02T18:08:02.143Z"
   },
   {
    "duration": 2661,
    "start_time": "2022-08-02T18:08:08.872Z"
   },
   {
    "duration": 2246,
    "start_time": "2022-08-02T19:00:54.881Z"
   },
   {
    "duration": 2152,
    "start_time": "2022-08-02T19:01:02.050Z"
   },
   {
    "duration": 5,
    "start_time": "2022-08-02T20:20:24.498Z"
   },
   {
    "duration": 14,
    "start_time": "2022-08-02T20:20:42.672Z"
   },
   {
    "duration": 10,
    "start_time": "2022-08-02T20:21:22.162Z"
   },
   {
    "duration": 9,
    "start_time": "2022-08-02T20:21:35.234Z"
   },
   {
    "duration": 4,
    "start_time": "2022-08-02T20:21:48.485Z"
   },
   {
    "duration": 7,
    "start_time": "2022-08-02T20:28:56.627Z"
   },
   {
    "duration": 14,
    "start_time": "2022-08-02T20:29:03.864Z"
   },
   {
    "duration": 157,
    "start_time": "2022-08-02T20:31:22.631Z"
   },
   {
    "duration": 9,
    "start_time": "2022-08-02T20:31:56.885Z"
   },
   {
    "duration": 11,
    "start_time": "2022-08-02T20:32:29.754Z"
   },
   {
    "duration": 6,
    "start_time": "2022-08-02T20:33:51.959Z"
   },
   {
    "duration": 10,
    "start_time": "2022-08-02T20:33:57.927Z"
   },
   {
    "duration": 5,
    "start_time": "2022-08-02T20:34:04.638Z"
   },
   {
    "duration": 7,
    "start_time": "2022-08-02T20:36:16.556Z"
   },
   {
    "duration": 7,
    "start_time": "2022-08-02T20:36:21.782Z"
   },
   {
    "duration": 35,
    "start_time": "2022-08-02T20:37:05.537Z"
   },
   {
    "duration": 5,
    "start_time": "2022-08-02T20:37:57.167Z"
   },
   {
    "duration": 7,
    "start_time": "2022-08-02T20:39:41.728Z"
   },
   {
    "duration": 6,
    "start_time": "2022-08-02T20:39:48.330Z"
   },
   {
    "duration": 15,
    "start_time": "2022-08-02T20:40:43.437Z"
   },
   {
    "duration": 11,
    "start_time": "2022-08-02T20:46:26.273Z"
   },
   {
    "duration": 7,
    "start_time": "2022-08-02T20:46:33.033Z"
   },
   {
    "duration": 44,
    "start_time": "2022-08-02T20:47:02.057Z"
   },
   {
    "duration": 5,
    "start_time": "2022-08-02T20:47:50.110Z"
   },
   {
    "duration": 4,
    "start_time": "2022-08-02T20:48:06.530Z"
   },
   {
    "duration": 26,
    "start_time": "2022-08-02T20:48:09.033Z"
   },
   {
    "duration": 22,
    "start_time": "2022-08-02T20:48:31.555Z"
   },
   {
    "duration": 15,
    "start_time": "2022-08-02T20:48:50.316Z"
   },
   {
    "duration": 8,
    "start_time": "2022-08-02T20:48:53.408Z"
   },
   {
    "duration": 47,
    "start_time": "2022-08-02T20:49:02.389Z"
   },
   {
    "duration": 10,
    "start_time": "2022-08-02T20:49:36.133Z"
   },
   {
    "duration": 17,
    "start_time": "2022-08-02T20:50:46.735Z"
   },
   {
    "duration": 14,
    "start_time": "2022-08-02T20:52:54.525Z"
   },
   {
    "duration": 46,
    "start_time": "2022-08-02T20:54:50.034Z"
   },
   {
    "duration": 326,
    "start_time": "2022-08-02T20:55:23.964Z"
   },
   {
    "duration": 319,
    "start_time": "2022-08-02T20:58:11.320Z"
   },
   {
    "duration": 314,
    "start_time": "2022-08-02T20:58:36.218Z"
   },
   {
    "duration": 369,
    "start_time": "2022-08-02T20:58:54.619Z"
   },
   {
    "duration": 309,
    "start_time": "2022-08-02T20:59:19.796Z"
   },
   {
    "duration": 326,
    "start_time": "2022-08-02T21:00:29.244Z"
   },
   {
    "duration": 96,
    "start_time": "2022-08-02T21:04:27.320Z"
   },
   {
    "duration": 12,
    "start_time": "2022-08-02T21:05:19.745Z"
   },
   {
    "duration": 1886,
    "start_time": "2022-08-02T21:06:04.422Z"
   },
   {
    "duration": 13,
    "start_time": "2022-08-02T21:07:32.531Z"
   },
   {
    "duration": 13,
    "start_time": "2022-08-02T21:22:13.210Z"
   },
   {
    "duration": 9,
    "start_time": "2022-08-02T21:22:45.616Z"
   },
   {
    "duration": 28,
    "start_time": "2022-08-02T21:23:00.485Z"
   },
   {
    "duration": 4,
    "start_time": "2022-08-02T21:24:18.104Z"
   },
   {
    "duration": 4,
    "start_time": "2022-08-02T21:24:31.291Z"
   },
   {
    "duration": 17,
    "start_time": "2022-08-02T21:25:55.242Z"
   },
   {
    "duration": 505,
    "start_time": "2022-08-02T21:26:04.234Z"
   },
   {
    "duration": 17,
    "start_time": "2022-08-02T21:26:04.741Z"
   },
   {
    "duration": 2169,
    "start_time": "2022-08-02T21:26:04.760Z"
   },
   {
    "duration": 18,
    "start_time": "2022-08-02T21:26:06.930Z"
   },
   {
    "duration": 77,
    "start_time": "2022-08-02T21:26:06.950Z"
   },
   {
    "duration": 305,
    "start_time": "2022-08-02T21:26:21.062Z"
   },
   {
    "duration": 275,
    "start_time": "2022-08-02T21:30:06.889Z"
   },
   {
    "duration": 330,
    "start_time": "2022-08-02T21:30:19.626Z"
   },
   {
    "duration": 270,
    "start_time": "2022-08-02T21:30:27.118Z"
   },
   {
    "duration": 295,
    "start_time": "2022-08-02T21:30:53.205Z"
   },
   {
    "duration": 272,
    "start_time": "2022-08-02T21:31:13.009Z"
   },
   {
    "duration": 54,
    "start_time": "2022-08-03T07:14:45.271Z"
   },
   {
    "duration": 741,
    "start_time": "2022-08-03T07:14:51.274Z"
   },
   {
    "duration": 16,
    "start_time": "2022-08-03T07:14:52.018Z"
   },
   {
    "duration": 2394,
    "start_time": "2022-08-03T07:14:52.036Z"
   },
   {
    "duration": 5,
    "start_time": "2022-08-03T07:14:54.432Z"
   },
   {
    "duration": 27,
    "start_time": "2022-08-03T07:14:54.439Z"
   },
   {
    "duration": 294,
    "start_time": "2022-08-03T07:14:54.468Z"
   },
   {
    "duration": 69,
    "start_time": "2022-08-03T07:15:41.734Z"
   },
   {
    "duration": 9,
    "start_time": "2022-08-03T07:15:44.981Z"
   },
   {
    "duration": 8,
    "start_time": "2022-08-03T07:15:53.211Z"
   },
   {
    "duration": 15,
    "start_time": "2022-08-03T07:16:37.935Z"
   },
   {
    "duration": 88,
    "start_time": "2022-08-03T07:17:41.079Z"
   },
   {
    "duration": 21,
    "start_time": "2022-08-03T07:17:49.907Z"
   },
   {
    "duration": 33,
    "start_time": "2022-08-03T07:19:58.236Z"
   },
   {
    "duration": 14,
    "start_time": "2022-08-03T07:20:04.361Z"
   },
   {
    "duration": 25,
    "start_time": "2022-08-03T07:22:54.719Z"
   },
   {
    "duration": 15,
    "start_time": "2022-08-03T07:23:03.450Z"
   },
   {
    "duration": 12,
    "start_time": "2022-08-03T07:27:05.927Z"
   },
   {
    "duration": 65,
    "start_time": "2022-08-03T07:27:27.813Z"
   },
   {
    "duration": 35,
    "start_time": "2022-08-03T07:27:36.757Z"
   },
   {
    "duration": 12,
    "start_time": "2022-08-03T07:28:30.535Z"
   },
   {
    "duration": 12,
    "start_time": "2022-08-03T07:32:07.441Z"
   },
   {
    "duration": 8,
    "start_time": "2022-08-03T07:32:20.997Z"
   },
   {
    "duration": 7,
    "start_time": "2022-08-03T07:32:27.327Z"
   },
   {
    "duration": 8,
    "start_time": "2022-08-03T07:32:56.852Z"
   },
   {
    "duration": 7,
    "start_time": "2022-08-03T07:37:09.587Z"
   },
   {
    "duration": 8,
    "start_time": "2022-08-03T07:37:26.478Z"
   },
   {
    "duration": 8,
    "start_time": "2022-08-03T07:37:29.648Z"
   },
   {
    "duration": 14,
    "start_time": "2022-08-03T07:40:06.190Z"
   },
   {
    "duration": 12,
    "start_time": "2022-08-03T07:40:16.077Z"
   },
   {
    "duration": 3,
    "start_time": "2022-08-03T07:40:47.882Z"
   },
   {
    "duration": 6,
    "start_time": "2022-08-03T07:45:01.858Z"
   },
   {
    "duration": 5,
    "start_time": "2022-08-03T07:45:09.118Z"
   },
   {
    "duration": 9,
    "start_time": "2022-08-03T07:45:13.133Z"
   },
   {
    "duration": 5,
    "start_time": "2022-08-03T07:45:21.343Z"
   },
   {
    "duration": 31,
    "start_time": "2022-08-03T07:46:13.555Z"
   },
   {
    "duration": 10,
    "start_time": "2022-08-03T07:46:57.721Z"
   },
   {
    "duration": 6,
    "start_time": "2022-08-03T07:47:03.254Z"
   },
   {
    "duration": 31,
    "start_time": "2022-08-03T07:48:35.972Z"
   },
   {
    "duration": 6,
    "start_time": "2022-08-03T07:50:36.421Z"
   },
   {
    "duration": 90,
    "start_time": "2022-08-03T08:06:56.311Z"
   },
   {
    "duration": 71,
    "start_time": "2022-08-03T08:06:59.135Z"
   },
   {
    "duration": 8,
    "start_time": "2022-08-03T08:07:03.928Z"
   },
   {
    "duration": 9,
    "start_time": "2022-08-03T08:07:08.568Z"
   },
   {
    "duration": 7,
    "start_time": "2022-08-03T08:07:22.306Z"
   },
   {
    "duration": 8,
    "start_time": "2022-08-03T08:09:46.462Z"
   },
   {
    "duration": 15,
    "start_time": "2022-08-03T08:09:51.320Z"
   },
   {
    "duration": 16,
    "start_time": "2022-08-03T08:10:17.494Z"
   },
   {
    "duration": 13,
    "start_time": "2022-08-03T08:11:20.516Z"
   },
   {
    "duration": 49,
    "start_time": "2022-08-03T08:12:58.450Z"
   },
   {
    "duration": 15,
    "start_time": "2022-08-03T08:13:09.261Z"
   },
   {
    "duration": 15,
    "start_time": "2022-08-03T08:13:56.410Z"
   },
   {
    "duration": 18,
    "start_time": "2022-08-03T08:15:26.930Z"
   },
   {
    "duration": 22,
    "start_time": "2022-08-03T08:15:43.307Z"
   },
   {
    "duration": 18,
    "start_time": "2022-08-03T08:16:15.224Z"
   },
   {
    "duration": 12,
    "start_time": "2022-08-03T08:17:03.390Z"
   },
   {
    "duration": 18,
    "start_time": "2022-08-03T08:18:56.334Z"
   },
   {
    "duration": 8,
    "start_time": "2022-08-03T08:20:53.260Z"
   },
   {
    "duration": 9,
    "start_time": "2022-08-03T08:20:55.688Z"
   },
   {
    "duration": 8,
    "start_time": "2022-08-03T08:28:30.322Z"
   },
   {
    "duration": 7,
    "start_time": "2022-08-03T08:28:59.442Z"
   },
   {
    "duration": 60,
    "start_time": "2022-08-03T08:29:21.614Z"
   },
   {
    "duration": 8,
    "start_time": "2022-08-03T08:29:25.239Z"
   },
   {
    "duration": 18,
    "start_time": "2022-08-03T08:29:29.439Z"
   },
   {
    "duration": 6,
    "start_time": "2022-08-03T08:30:01.562Z"
   },
   {
    "duration": 5,
    "start_time": "2022-08-03T08:30:08.429Z"
   },
   {
    "duration": 6,
    "start_time": "2022-08-03T08:30:24.081Z"
   },
   {
    "duration": 17,
    "start_time": "2022-08-03T09:53:22.612Z"
   },
   {
    "duration": 522,
    "start_time": "2022-08-03T09:53:30.119Z"
   },
   {
    "duration": 15,
    "start_time": "2022-08-03T09:53:30.643Z"
   },
   {
    "duration": 2163,
    "start_time": "2022-08-03T09:53:30.659Z"
   },
   {
    "duration": 36,
    "start_time": "2022-08-03T09:53:32.824Z"
   },
   {
    "duration": 2,
    "start_time": "2022-08-03T09:53:32.862Z"
   },
   {
    "duration": 17,
    "start_time": "2022-08-03T09:53:32.865Z"
   },
   {
    "duration": 26,
    "start_time": "2022-08-03T09:53:32.884Z"
   },
   {
    "duration": 282,
    "start_time": "2022-08-03T09:53:32.911Z"
   },
   {
    "duration": 78,
    "start_time": "2022-08-03T09:53:33.195Z"
   },
   {
    "duration": 4,
    "start_time": "2022-08-03T09:54:06.120Z"
   },
   {
    "duration": 53,
    "start_time": "2022-08-03T09:54:13.861Z"
   },
   {
    "duration": 90,
    "start_time": "2022-08-03T09:54:16.519Z"
   },
   {
    "duration": 14,
    "start_time": "2022-08-03T09:54:19.451Z"
   },
   {
    "duration": 84,
    "start_time": "2022-08-03T09:54:23.719Z"
   },
   {
    "duration": 88,
    "start_time": "2022-08-03T09:55:45.083Z"
   },
   {
    "duration": 337,
    "start_time": "2022-08-03T09:55:49.150Z"
   },
   {
    "duration": 566,
    "start_time": "2022-08-03T09:56:02.863Z"
   },
   {
    "duration": 571,
    "start_time": "2022-08-03T09:56:26.445Z"
   },
   {
    "duration": 570,
    "start_time": "2022-08-03T09:56:32.989Z"
   },
   {
    "duration": 49,
    "start_time": "2022-08-03T09:56:49.026Z"
   },
   {
    "duration": 10,
    "start_time": "2022-08-03T09:56:53.115Z"
   },
   {
    "duration": 7,
    "start_time": "2022-08-03T09:57:00.020Z"
   },
   {
    "duration": 646,
    "start_time": "2022-08-03T09:57:19.666Z"
   },
   {
    "duration": 558,
    "start_time": "2022-08-03T09:57:29.254Z"
   },
   {
    "duration": 555,
    "start_time": "2022-08-03T09:58:12.086Z"
   },
   {
    "duration": 705,
    "start_time": "2022-08-03T10:04:47.785Z"
   },
   {
    "duration": 603,
    "start_time": "2022-08-03T10:04:55.450Z"
   },
   {
    "duration": 595,
    "start_time": "2022-08-03T10:04:59.622Z"
   },
   {
    "duration": 47,
    "start_time": "2022-08-03T21:26:45.178Z"
   },
   {
    "duration": 759,
    "start_time": "2022-08-03T21:26:53.829Z"
   },
   {
    "duration": 15,
    "start_time": "2022-08-03T21:26:54.590Z"
   },
   {
    "duration": 2338,
    "start_time": "2022-08-03T21:26:54.607Z"
   },
   {
    "duration": 37,
    "start_time": "2022-08-03T21:26:56.948Z"
   },
   {
    "duration": 2,
    "start_time": "2022-08-03T21:26:56.987Z"
   },
   {
    "duration": 19,
    "start_time": "2022-08-03T21:26:56.991Z"
   },
   {
    "duration": 28,
    "start_time": "2022-08-03T21:26:57.011Z"
   },
   {
    "duration": 298,
    "start_time": "2022-08-03T21:26:57.041Z"
   },
   {
    "duration": 5,
    "start_time": "2022-08-03T21:26:57.341Z"
   },
   {
    "duration": 660,
    "start_time": "2022-08-03T21:26:57.347Z"
   },
   {
    "duration": 35,
    "start_time": "2022-08-03T21:26:58.009Z"
   },
   {
    "duration": 34,
    "start_time": "2022-08-03T21:27:15.137Z"
   },
   {
    "duration": 30,
    "start_time": "2022-08-03T21:27:24.189Z"
   },
   {
    "duration": 150,
    "start_time": "2022-08-03T21:28:33.128Z"
   },
   {
    "duration": 29,
    "start_time": "2022-08-03T21:28:57.538Z"
   },
   {
    "duration": 221,
    "start_time": "2022-08-03T21:29:13.433Z"
   },
   {
    "duration": 150,
    "start_time": "2022-08-03T21:29:22.432Z"
   },
   {
    "duration": 150,
    "start_time": "2022-08-03T21:29:35.028Z"
   },
   {
    "duration": 171,
    "start_time": "2022-08-03T21:29:49.335Z"
   },
   {
    "duration": 151,
    "start_time": "2022-08-03T21:29:55.928Z"
   },
   {
    "duration": 145,
    "start_time": "2022-08-03T21:30:02.066Z"
   },
   {
    "duration": 154,
    "start_time": "2022-08-03T21:30:33.627Z"
   },
   {
    "duration": 145,
    "start_time": "2022-08-03T21:30:45.191Z"
   },
   {
    "duration": 150,
    "start_time": "2022-08-03T21:33:23.381Z"
   },
   {
    "duration": 470,
    "start_time": "2022-08-03T21:33:31.982Z"
   },
   {
    "duration": 14,
    "start_time": "2022-08-03T21:33:32.454Z"
   },
   {
    "duration": 2083,
    "start_time": "2022-08-03T21:33:32.470Z"
   },
   {
    "duration": 36,
    "start_time": "2022-08-03T21:33:34.555Z"
   },
   {
    "duration": 2,
    "start_time": "2022-08-03T21:33:34.593Z"
   },
   {
    "duration": 30,
    "start_time": "2022-08-03T21:33:34.596Z"
   },
   {
    "duration": 32,
    "start_time": "2022-08-03T21:33:34.628Z"
   },
   {
    "duration": 277,
    "start_time": "2022-08-03T21:33:34.662Z"
   },
   {
    "duration": 5,
    "start_time": "2022-08-03T21:33:34.940Z"
   },
   {
    "duration": 572,
    "start_time": "2022-08-03T21:33:34.947Z"
   },
   {
    "duration": 262,
    "start_time": "2022-08-03T21:33:35.520Z"
   },
   {
    "duration": 180,
    "start_time": "2022-08-03T21:33:54.948Z"
   },
   {
    "duration": 150,
    "start_time": "2022-08-03T21:34:02.727Z"
   },
   {
    "duration": 290,
    "start_time": "2022-08-03T21:34:49.878Z"
   },
   {
    "duration": 195,
    "start_time": "2022-08-03T21:34:58.991Z"
   },
   {
    "duration": 871,
    "start_time": "2022-08-03T21:35:47.224Z"
   },
   {
    "duration": 874,
    "start_time": "2022-08-03T21:35:51.586Z"
   },
   {
    "duration": 31,
    "start_time": "2022-08-03T21:36:05.924Z"
   },
   {
    "duration": 175,
    "start_time": "2022-08-03T21:36:35.255Z"
   },
   {
    "duration": 136,
    "start_time": "2022-08-03T21:36:52.532Z"
   },
   {
    "duration": 464,
    "start_time": "2022-08-03T21:37:01.592Z"
   },
   {
    "duration": 14,
    "start_time": "2022-08-03T21:37:02.058Z"
   },
   {
    "duration": 2031,
    "start_time": "2022-08-03T21:37:02.074Z"
   },
   {
    "duration": 35,
    "start_time": "2022-08-03T21:37:04.107Z"
   },
   {
    "duration": 2,
    "start_time": "2022-08-03T21:37:04.144Z"
   },
   {
    "duration": 17,
    "start_time": "2022-08-03T21:37:04.148Z"
   },
   {
    "duration": 26,
    "start_time": "2022-08-03T21:37:04.166Z"
   },
   {
    "duration": 291,
    "start_time": "2022-08-03T21:37:04.194Z"
   },
   {
    "duration": 5,
    "start_time": "2022-08-03T21:37:04.486Z"
   },
   {
    "duration": 562,
    "start_time": "2022-08-03T21:37:04.493Z"
   },
   {
    "duration": 213,
    "start_time": "2022-08-03T21:37:05.057Z"
   },
   {
    "duration": 153,
    "start_time": "2022-08-03T21:37:45.464Z"
   },
   {
    "duration": 142,
    "start_time": "2022-08-03T21:37:56.416Z"
   },
   {
    "duration": 77,
    "start_time": "2022-08-03T21:42:30.238Z"
   },
   {
    "duration": 139,
    "start_time": "2022-08-03T21:42:51.054Z"
   },
   {
    "duration": 156,
    "start_time": "2022-08-03T21:43:07.633Z"
   },
   {
    "duration": 498,
    "start_time": "2022-08-03T21:43:13.874Z"
   },
   {
    "duration": 15,
    "start_time": "2022-08-03T21:43:14.374Z"
   },
   {
    "duration": 2198,
    "start_time": "2022-08-03T21:43:14.391Z"
   },
   {
    "duration": 36,
    "start_time": "2022-08-03T21:43:16.591Z"
   },
   {
    "duration": 3,
    "start_time": "2022-08-03T21:43:16.629Z"
   },
   {
    "duration": 16,
    "start_time": "2022-08-03T21:43:16.633Z"
   },
   {
    "duration": 17,
    "start_time": "2022-08-03T21:43:16.650Z"
   },
   {
    "duration": 308,
    "start_time": "2022-08-03T21:43:16.669Z"
   },
   {
    "duration": 7,
    "start_time": "2022-08-03T21:43:16.979Z"
   },
   {
    "duration": 582,
    "start_time": "2022-08-03T21:43:16.987Z"
   },
   {
    "duration": 241,
    "start_time": "2022-08-03T21:43:17.571Z"
   },
   {
    "duration": 148,
    "start_time": "2022-08-03T21:44:39.752Z"
   },
   {
    "duration": 191,
    "start_time": "2022-08-03T21:46:48.750Z"
   },
   {
    "duration": 145,
    "start_time": "2022-08-03T21:46:54.951Z"
   },
   {
    "duration": 166,
    "start_time": "2022-08-03T21:52:54.298Z"
   },
   {
    "duration": 151,
    "start_time": "2022-08-03T21:54:16.351Z"
   },
   {
    "duration": 148,
    "start_time": "2022-08-03T21:56:14.074Z"
   },
   {
    "duration": 157,
    "start_time": "2022-08-03T21:56:20.339Z"
   },
   {
    "duration": 131,
    "start_time": "2022-08-03T21:57:37.375Z"
   },
   {
    "duration": 63,
    "start_time": "2022-08-03T21:57:49.465Z"
   },
   {
    "duration": 133,
    "start_time": "2022-08-03T22:01:11.367Z"
   },
   {
    "duration": 152,
    "start_time": "2022-08-03T22:01:46.285Z"
   },
   {
    "duration": 165,
    "start_time": "2022-08-03T22:02:03.570Z"
   },
   {
    "duration": 93,
    "start_time": "2022-08-03T22:02:29.179Z"
   },
   {
    "duration": 38,
    "start_time": "2022-08-03T22:02:38.436Z"
   },
   {
    "duration": 18,
    "start_time": "2022-08-03T22:02:54.353Z"
   },
   {
    "duration": 169,
    "start_time": "2022-08-03T22:03:03.626Z"
   },
   {
    "duration": 15,
    "start_time": "2022-08-03T22:04:35.969Z"
   },
   {
    "duration": 161,
    "start_time": "2022-08-03T22:06:07.825Z"
   },
   {
    "duration": 252,
    "start_time": "2022-08-03T22:18:40.850Z"
   },
   {
    "duration": 62,
    "start_time": "2022-08-03T22:20:01.746Z"
   },
   {
    "duration": 135,
    "start_time": "2022-08-03T22:20:04.742Z"
   },
   {
    "duration": 866,
    "start_time": "2022-08-03T22:20:45.447Z"
   },
   {
    "duration": 11,
    "start_time": "2022-08-03T22:20:53.226Z"
   },
   {
    "duration": 20,
    "start_time": "2022-08-03T22:21:13.592Z"
   },
   {
    "duration": 155,
    "start_time": "2022-08-03T22:21:47.635Z"
   },
   {
    "duration": 149,
    "start_time": "2022-08-03T22:22:15.351Z"
   },
   {
    "duration": 26,
    "start_time": "2022-08-03T22:27:35.879Z"
   },
   {
    "duration": 15,
    "start_time": "2022-08-03T22:28:28.140Z"
   },
   {
    "duration": 156,
    "start_time": "2022-08-03T22:29:23.942Z"
   },
   {
    "duration": 151,
    "start_time": "2022-08-03T22:29:27.547Z"
   },
   {
    "duration": 157,
    "start_time": "2022-08-03T22:30:09.423Z"
   },
   {
    "duration": 155,
    "start_time": "2022-08-03T22:30:36.921Z"
   },
   {
    "duration": 226,
    "start_time": "2022-08-03T22:30:48.323Z"
   },
   {
    "duration": 160,
    "start_time": "2022-08-03T22:31:00.644Z"
   },
   {
    "duration": 158,
    "start_time": "2022-08-03T22:31:56.886Z"
   },
   {
    "duration": 38,
    "start_time": "2022-08-03T22:32:15.877Z"
   },
   {
    "duration": 26,
    "start_time": "2022-08-03T22:32:42.223Z"
   },
   {
    "duration": 39,
    "start_time": "2022-08-03T22:32:57.826Z"
   },
   {
    "duration": 41,
    "start_time": "2022-08-03T22:33:06.144Z"
   },
   {
    "duration": 36,
    "start_time": "2022-08-03T22:33:27.933Z"
   },
   {
    "duration": 36,
    "start_time": "2022-08-03T22:33:33.031Z"
   },
   {
    "duration": 35,
    "start_time": "2022-08-03T22:33:44.755Z"
   },
   {
    "duration": 37,
    "start_time": "2022-08-03T22:33:51.462Z"
   },
   {
    "duration": 156,
    "start_time": "2022-08-03T22:34:01.157Z"
   },
   {
    "duration": 162,
    "start_time": "2022-08-03T22:34:16.218Z"
   },
   {
    "duration": 572,
    "start_time": "2022-08-03T22:34:30.028Z"
   },
   {
    "duration": 14,
    "start_time": "2022-08-03T22:34:30.602Z"
   },
   {
    "duration": 2135,
    "start_time": "2022-08-03T22:34:30.618Z"
   },
   {
    "duration": 36,
    "start_time": "2022-08-03T22:34:32.755Z"
   },
   {
    "duration": 2,
    "start_time": "2022-08-03T22:34:32.793Z"
   },
   {
    "duration": 23,
    "start_time": "2022-08-03T22:34:32.796Z"
   },
   {
    "duration": 25,
    "start_time": "2022-08-03T22:34:32.820Z"
   },
   {
    "duration": 297,
    "start_time": "2022-08-03T22:34:32.847Z"
   },
   {
    "duration": 5,
    "start_time": "2022-08-03T22:34:33.146Z"
   },
   {
    "duration": 579,
    "start_time": "2022-08-03T22:34:33.152Z"
   },
   {
    "duration": 224,
    "start_time": "2022-08-03T22:34:33.733Z"
   },
   {
    "duration": 173,
    "start_time": "2022-08-03T22:34:33.959Z"
   },
   {
    "duration": 151,
    "start_time": "2022-08-03T22:34:34.134Z"
   },
   {
    "duration": 102,
    "start_time": "2022-08-03T22:34:34.289Z"
   },
   {
    "duration": 176,
    "start_time": "2022-08-03T22:34:54.326Z"
   },
   {
    "duration": 162,
    "start_time": "2022-08-03T22:35:28.237Z"
   },
   {
    "duration": 159,
    "start_time": "2022-08-03T22:35:32.834Z"
   },
   {
    "duration": 167,
    "start_time": "2022-08-03T22:35:39.441Z"
   },
   {
    "duration": 199,
    "start_time": "2022-08-03T22:37:23.817Z"
   },
   {
    "duration": 178,
    "start_time": "2022-08-03T22:37:26.014Z"
   },
   {
    "duration": 165,
    "start_time": "2022-08-03T22:38:14.323Z"
   },
   {
    "duration": 155,
    "start_time": "2022-08-03T22:38:23.919Z"
   },
   {
    "duration": 17,
    "start_time": "2022-08-03T22:39:11.441Z"
   },
   {
    "duration": 14,
    "start_time": "2022-08-03T22:39:29.281Z"
   },
   {
    "duration": 18,
    "start_time": "2022-08-03T22:39:43.963Z"
   },
   {
    "duration": 34,
    "start_time": "2022-08-03T22:40:11.032Z"
   },
   {
    "duration": 16,
    "start_time": "2022-08-03T22:40:25.925Z"
   },
   {
    "duration": 34,
    "start_time": "2022-08-03T22:40:42.861Z"
   },
   {
    "duration": 33,
    "start_time": "2022-08-03T22:40:50.785Z"
   },
   {
    "duration": 143,
    "start_time": "2022-08-03T22:41:24.060Z"
   },
   {
    "duration": 167,
    "start_time": "2022-08-03T22:42:00.226Z"
   },
   {
    "duration": 229,
    "start_time": "2022-08-03T22:42:09.212Z"
   },
   {
    "duration": 150,
    "start_time": "2022-08-03T22:42:18.262Z"
   },
   {
    "duration": 148,
    "start_time": "2022-08-03T22:42:30.549Z"
   },
   {
    "duration": 156,
    "start_time": "2022-08-03T22:42:42.247Z"
   },
   {
    "duration": 136,
    "start_time": "2022-08-03T22:42:48.974Z"
   },
   {
    "duration": 27,
    "start_time": "2022-08-03T22:44:35.647Z"
   },
   {
    "duration": 13,
    "start_time": "2022-08-03T22:44:53.143Z"
   },
   {
    "duration": 146,
    "start_time": "2022-08-03T22:45:06.718Z"
   },
   {
    "duration": 136,
    "start_time": "2022-08-03T22:46:49.818Z"
   },
   {
    "duration": 205,
    "start_time": "2022-08-03T22:47:09.251Z"
   },
   {
    "duration": 135,
    "start_time": "2022-08-03T22:47:18.626Z"
   },
   {
    "duration": 144,
    "start_time": "2022-08-03T22:53:54.023Z"
   },
   {
    "duration": 139,
    "start_time": "2022-08-03T22:55:10.609Z"
   },
   {
    "duration": 137,
    "start_time": "2022-08-03T22:55:35.074Z"
   },
   {
    "duration": 137,
    "start_time": "2022-08-03T22:55:39.722Z"
   },
   {
    "duration": 136,
    "start_time": "2022-08-03T22:55:45.278Z"
   },
   {
    "duration": 135,
    "start_time": "2022-08-03T22:55:57.071Z"
   },
   {
    "duration": 140,
    "start_time": "2022-08-03T22:56:09.018Z"
   },
   {
    "duration": 276,
    "start_time": "2022-08-03T22:57:18.787Z"
   },
   {
    "duration": 141,
    "start_time": "2022-08-03T22:57:25.487Z"
   },
   {
    "duration": 233,
    "start_time": "2022-08-03T23:07:04.529Z"
   },
   {
    "duration": 219,
    "start_time": "2022-08-03T23:07:19.868Z"
   },
   {
    "duration": 618,
    "start_time": "2022-08-03T23:08:09.245Z"
   },
   {
    "duration": 661,
    "start_time": "2022-08-03T23:08:26.354Z"
   },
   {
    "duration": 518,
    "start_time": "2022-08-03T23:08:34.594Z"
   },
   {
    "duration": 627,
    "start_time": "2022-08-03T23:08:37.726Z"
   },
   {
    "duration": 772,
    "start_time": "2022-08-03T23:08:51.635Z"
   },
   {
    "duration": 617,
    "start_time": "2022-08-03T23:08:55.825Z"
   },
   {
    "duration": 664,
    "start_time": "2022-08-03T23:09:09.998Z"
   },
   {
    "duration": 68,
    "start_time": "2022-08-03T23:09:23.978Z"
   },
   {
    "duration": 1016,
    "start_time": "2022-08-03T23:09:26.948Z"
   },
   {
    "duration": 447,
    "start_time": "2022-08-03T23:09:46.727Z"
   },
   {
    "duration": 594,
    "start_time": "2022-08-03T23:10:22.765Z"
   },
   {
    "duration": 477,
    "start_time": "2022-08-03T23:10:36.437Z"
   },
   {
    "duration": 437,
    "start_time": "2022-08-03T23:11:02.645Z"
   },
   {
    "duration": 481,
    "start_time": "2022-08-03T23:11:14.186Z"
   },
   {
    "duration": 604,
    "start_time": "2022-08-03T23:11:20.795Z"
   },
   {
    "duration": 463,
    "start_time": "2022-08-03T23:12:29.828Z"
   },
   {
    "duration": 477,
    "start_time": "2022-08-03T23:12:42.439Z"
   },
   {
    "duration": 645,
    "start_time": "2022-08-03T23:12:52.446Z"
   },
   {
    "duration": 507,
    "start_time": "2022-08-03T23:12:58.635Z"
   },
   {
    "duration": 13,
    "start_time": "2022-08-03T23:14:00.885Z"
   },
   {
    "duration": 493,
    "start_time": "2022-08-03T23:14:18.452Z"
   },
   {
    "duration": 22,
    "start_time": "2022-08-03T23:14:44.629Z"
   },
   {
    "duration": 503,
    "start_time": "2022-08-03T23:14:58.754Z"
   },
   {
    "duration": 652,
    "start_time": "2022-08-03T23:15:05.128Z"
   },
   {
    "duration": 492,
    "start_time": "2022-08-03T23:15:37.233Z"
   },
   {
    "duration": 464,
    "start_time": "2022-08-03T23:15:50.089Z"
   },
   {
    "duration": 231,
    "start_time": "2022-08-03T23:17:33.560Z"
   },
   {
    "duration": 72,
    "start_time": "2022-08-03T23:17:49.986Z"
   },
   {
    "duration": 231,
    "start_time": "2022-08-03T23:18:14.555Z"
   },
   {
    "duration": 150,
    "start_time": "2022-08-03T23:18:48.165Z"
   },
   {
    "duration": 183,
    "start_time": "2022-08-03T23:18:57.650Z"
   },
   {
    "duration": 155,
    "start_time": "2022-08-03T23:19:02.334Z"
   },
   {
    "duration": 146,
    "start_time": "2022-08-03T23:19:32.601Z"
   },
   {
    "duration": 133,
    "start_time": "2022-08-03T23:19:37.229Z"
   },
   {
    "duration": 366,
    "start_time": "2022-08-03T23:19:41.759Z"
   },
   {
    "duration": 158,
    "start_time": "2022-08-03T23:19:46.083Z"
   },
   {
    "duration": 170,
    "start_time": "2022-08-03T23:19:48.787Z"
   },
   {
    "duration": 140,
    "start_time": "2022-08-03T23:19:55.661Z"
   },
   {
    "duration": 162,
    "start_time": "2022-08-03T23:20:08.127Z"
   },
   {
    "duration": 133,
    "start_time": "2022-08-03T23:20:16.395Z"
   },
   {
    "duration": 148,
    "start_time": "2022-08-03T23:20:19.486Z"
   },
   {
    "duration": 145,
    "start_time": "2022-08-03T23:20:28.132Z"
   },
   {
    "duration": 155,
    "start_time": "2022-08-03T23:20:32.239Z"
   },
   {
    "duration": 150,
    "start_time": "2022-08-03T23:20:36.152Z"
   },
   {
    "duration": 158,
    "start_time": "2022-08-03T23:20:48.963Z"
   },
   {
    "duration": 152,
    "start_time": "2022-08-03T23:20:53.159Z"
   },
   {
    "duration": 150,
    "start_time": "2022-08-03T23:21:03.947Z"
   },
   {
    "duration": 55,
    "start_time": "2022-08-04T09:50:44.643Z"
   },
   {
    "duration": 6,
    "start_time": "2022-08-04T09:50:55.731Z"
   },
   {
    "duration": 588,
    "start_time": "2022-08-04T09:51:06.768Z"
   },
   {
    "duration": 22,
    "start_time": "2022-08-04T09:51:07.358Z"
   },
   {
    "duration": 2562,
    "start_time": "2022-08-04T09:51:07.383Z"
   },
   {
    "duration": 41,
    "start_time": "2022-08-04T09:51:09.948Z"
   },
   {
    "duration": 2,
    "start_time": "2022-08-04T09:51:09.991Z"
   },
   {
    "duration": 19,
    "start_time": "2022-08-04T09:51:09.995Z"
   },
   {
    "duration": 19,
    "start_time": "2022-08-04T09:51:10.015Z"
   },
   {
    "duration": 376,
    "start_time": "2022-08-04T09:51:10.036Z"
   },
   {
    "duration": 651,
    "start_time": "2022-08-04T09:51:10.415Z"
   },
   {
    "duration": 561,
    "start_time": "2022-08-04T09:51:11.071Z"
   },
   {
    "duration": 548,
    "start_time": "2022-08-04T09:51:11.634Z"
   },
   {
    "duration": 619,
    "start_time": "2022-08-04T09:51:12.183Z"
   },
   {
    "duration": 182,
    "start_time": "2022-08-04T09:51:12.804Z"
   },
   {
    "duration": 284,
    "start_time": "2022-08-04T09:51:12.987Z"
   },
   {
    "duration": 7,
    "start_time": "2022-08-04T09:51:13.281Z"
   },
   {
    "duration": 694,
    "start_time": "2022-08-04T09:51:13.289Z"
   },
   {
    "duration": 151,
    "start_time": "2022-08-04T09:51:13.985Z"
   },
   {
    "duration": 171,
    "start_time": "2022-08-04T09:51:14.137Z"
   },
   {
    "duration": 154,
    "start_time": "2022-08-04T09:51:14.309Z"
   },
   {
    "duration": 200,
    "start_time": "2022-08-04T09:51:14.471Z"
   },
   {
    "duration": 269,
    "start_time": "2022-08-04T09:51:14.680Z"
   },
   {
    "duration": 165,
    "start_time": "2022-08-04T09:51:14.951Z"
   },
   {
    "duration": 164,
    "start_time": "2022-08-04T09:51:15.118Z"
   },
   {
    "duration": 143,
    "start_time": "2022-08-04T09:51:15.284Z"
   },
   {
    "duration": 185,
    "start_time": "2022-08-04T09:51:15.429Z"
   },
   {
    "duration": 153,
    "start_time": "2022-08-04T09:51:26.712Z"
   },
   {
    "duration": 121,
    "start_time": "2022-08-04T09:51:35.637Z"
   },
   {
    "duration": 20,
    "start_time": "2022-08-04T09:51:46.686Z"
   },
   {
    "duration": 24,
    "start_time": "2022-08-04T09:51:53.224Z"
   },
   {
    "duration": 129,
    "start_time": "2022-08-04T09:52:29.911Z"
   },
   {
    "duration": 158,
    "start_time": "2022-08-04T09:52:35.830Z"
   },
   {
    "duration": 156,
    "start_time": "2022-08-04T09:52:42.351Z"
   },
   {
    "duration": 9,
    "start_time": "2022-08-04T09:53:05.608Z"
   },
   {
    "duration": 5,
    "start_time": "2022-08-04T09:53:18.798Z"
   },
   {
    "duration": 8,
    "start_time": "2022-08-04T09:53:31.718Z"
   },
   {
    "duration": 7,
    "start_time": "2022-08-04T09:54:09.908Z"
   },
   {
    "duration": 8,
    "start_time": "2022-08-04T09:54:18.887Z"
   },
   {
    "duration": 81,
    "start_time": "2022-08-04T09:54:44.230Z"
   },
   {
    "duration": 17,
    "start_time": "2022-08-04T09:54:50.661Z"
   },
   {
    "duration": 12,
    "start_time": "2022-08-04T09:54:52.771Z"
   },
   {
    "duration": 14,
    "start_time": "2022-08-04T09:55:34.154Z"
   },
   {
    "duration": 11,
    "start_time": "2022-08-04T09:55:35.507Z"
   },
   {
    "duration": 163,
    "start_time": "2022-08-04T09:55:59.515Z"
   },
   {
    "duration": 194,
    "start_time": "2022-08-04T09:56:04.079Z"
   },
   {
    "duration": 260,
    "start_time": "2022-08-04T09:56:09.377Z"
   },
   {
    "duration": 433,
    "start_time": "2022-08-04T09:56:50.356Z"
   },
   {
    "duration": 85,
    "start_time": "2022-08-04T09:58:27.657Z"
   },
   {
    "duration": 307,
    "start_time": "2022-08-04T09:58:41.394Z"
   },
   {
    "duration": 204,
    "start_time": "2022-08-04T09:58:51.851Z"
   },
   {
    "duration": 201,
    "start_time": "2022-08-04T09:58:57.889Z"
   },
   {
    "duration": 188,
    "start_time": "2022-08-04T09:59:01.643Z"
   },
   {
    "duration": 475,
    "start_time": "2022-08-04T09:59:14.727Z"
   },
   {
    "duration": 599,
    "start_time": "2022-08-04T09:59:43.972Z"
   },
   {
    "duration": 18,
    "start_time": "2022-08-04T10:01:35.328Z"
   },
   {
    "duration": 14,
    "start_time": "2022-08-04T10:01:39.090Z"
   },
   {
    "duration": 16,
    "start_time": "2022-08-04T10:01:49.067Z"
   },
   {
    "duration": 13,
    "start_time": "2022-08-04T10:02:06.871Z"
   },
   {
    "duration": 485,
    "start_time": "2022-08-04T10:03:29.010Z"
   },
   {
    "duration": 447,
    "start_time": "2022-08-04T10:03:37.233Z"
   },
   {
    "duration": 14,
    "start_time": "2022-08-04T10:05:04.057Z"
   },
   {
    "duration": 247,
    "start_time": "2022-08-04T10:05:09.621Z"
   },
   {
    "duration": 185,
    "start_time": "2022-08-04T10:05:14.909Z"
   },
   {
    "duration": 207,
    "start_time": "2022-08-04T10:05:26.307Z"
   },
   {
    "duration": 194,
    "start_time": "2022-08-04T10:05:43.713Z"
   },
   {
    "duration": 14,
    "start_time": "2022-08-04T10:14:38.682Z"
   },
   {
    "duration": 485,
    "start_time": "2022-08-04T10:15:02.758Z"
   },
   {
    "duration": 321,
    "start_time": "2022-08-04T10:15:16.756Z"
   },
   {
    "duration": 311,
    "start_time": "2022-08-04T10:15:20.853Z"
   },
   {
    "duration": 16,
    "start_time": "2022-08-04T10:16:30.941Z"
   },
   {
    "duration": 257,
    "start_time": "2022-08-04T10:18:33.446Z"
   },
   {
    "duration": 243,
    "start_time": "2022-08-04T10:18:50.410Z"
   },
   {
    "duration": 299,
    "start_time": "2022-08-04T10:20:15.774Z"
   },
   {
    "duration": 474,
    "start_time": "2022-08-04T10:20:35.911Z"
   },
   {
    "duration": 187,
    "start_time": "2022-08-04T10:21:40.778Z"
   },
   {
    "duration": 278,
    "start_time": "2022-08-04T10:21:45.279Z"
   },
   {
    "duration": 273,
    "start_time": "2022-08-04T10:22:00.081Z"
   },
   {
    "duration": 74,
    "start_time": "2022-08-04T10:22:31.136Z"
   },
   {
    "duration": 601,
    "start_time": "2022-08-04T10:22:36.616Z"
   },
   {
    "duration": 426,
    "start_time": "2022-08-04T10:22:44.533Z"
   },
   {
    "duration": 667,
    "start_time": "2022-08-04T10:23:02.112Z"
   },
   {
    "duration": 533,
    "start_time": "2022-08-04T10:23:17.278Z"
   },
   {
    "duration": 524,
    "start_time": "2022-08-04T10:24:19.912Z"
   },
   {
    "duration": 505,
    "start_time": "2022-08-04T10:24:30.325Z"
   },
   {
    "duration": 461,
    "start_time": "2022-08-04T10:24:35.297Z"
   },
   {
    "duration": 292,
    "start_time": "2022-08-04T10:24:55.137Z"
   },
   {
    "duration": 296,
    "start_time": "2022-08-04T10:25:01.524Z"
   },
   {
    "duration": 173,
    "start_time": "2022-08-04T10:25:05.514Z"
   },
   {
    "duration": 21,
    "start_time": "2022-08-04T10:33:17.945Z"
   },
   {
    "duration": 29,
    "start_time": "2022-08-04T10:33:39.498Z"
   },
   {
    "duration": 28,
    "start_time": "2022-08-04T10:33:53.313Z"
   },
   {
    "duration": 9,
    "start_time": "2022-08-04T10:34:14.579Z"
   },
   {
    "duration": 38,
    "start_time": "2022-08-04T10:34:31.312Z"
   },
   {
    "duration": 39,
    "start_time": "2022-08-04T10:34:46.517Z"
   },
   {
    "duration": 31,
    "start_time": "2022-08-04T10:34:54.943Z"
   },
   {
    "duration": 32,
    "start_time": "2022-08-04T10:36:31.848Z"
   },
   {
    "duration": 40,
    "start_time": "2022-08-04T10:36:44.328Z"
   },
   {
    "duration": 48,
    "start_time": "2022-08-04T10:36:54.266Z"
   },
   {
    "duration": 37,
    "start_time": "2022-08-04T10:37:08.319Z"
   },
   {
    "duration": 35,
    "start_time": "2022-08-04T10:37:18.937Z"
   },
   {
    "duration": 27,
    "start_time": "2022-08-04T10:42:18.613Z"
   },
   {
    "duration": 42,
    "start_time": "2022-08-04T10:42:39.525Z"
   },
   {
    "duration": 28,
    "start_time": "2022-08-04T10:43:59.516Z"
   },
   {
    "duration": 14,
    "start_time": "2022-08-04T10:45:02.884Z"
   },
   {
    "duration": 16,
    "start_time": "2022-08-04T10:45:33.028Z"
   },
   {
    "duration": 1230,
    "start_time": "2022-08-04T10:46:40.126Z"
   },
   {
    "duration": 23,
    "start_time": "2022-08-04T10:46:56.878Z"
   },
   {
    "duration": 32,
    "start_time": "2022-08-04T10:47:04.885Z"
   },
   {
    "duration": 38,
    "start_time": "2022-08-04T10:49:09.236Z"
   },
   {
    "duration": 31,
    "start_time": "2022-08-04T10:49:32.997Z"
   },
   {
    "duration": 12,
    "start_time": "2022-08-04T10:50:00.383Z"
   },
   {
    "duration": 49,
    "start_time": "2022-08-05T08:49:06.556Z"
   },
   {
    "duration": 812,
    "start_time": "2022-08-05T08:49:12.884Z"
   },
   {
    "duration": 18,
    "start_time": "2022-08-05T08:49:13.699Z"
   },
   {
    "duration": 2584,
    "start_time": "2022-08-05T08:49:13.722Z"
   },
   {
    "duration": 45,
    "start_time": "2022-08-05T08:49:16.309Z"
   },
   {
    "duration": 2,
    "start_time": "2022-08-05T08:49:16.356Z"
   },
   {
    "duration": 21,
    "start_time": "2022-08-05T08:49:16.360Z"
   },
   {
    "duration": 45,
    "start_time": "2022-08-05T08:49:16.383Z"
   },
   {
    "duration": 335,
    "start_time": "2022-08-05T08:49:16.429Z"
   },
   {
    "duration": 673,
    "start_time": "2022-08-05T08:49:16.766Z"
   },
   {
    "duration": 559,
    "start_time": "2022-08-05T08:49:17.441Z"
   },
   {
    "duration": 600,
    "start_time": "2022-08-05T08:49:18.001Z"
   },
   {
    "duration": 660,
    "start_time": "2022-08-05T08:49:18.603Z"
   },
   {
    "duration": 191,
    "start_time": "2022-08-05T08:49:19.265Z"
   },
   {
    "duration": 7,
    "start_time": "2022-08-05T08:49:19.459Z"
   },
   {
    "duration": 312,
    "start_time": "2022-08-05T08:49:19.467Z"
   },
   {
    "duration": 457,
    "start_time": "2022-08-05T08:49:19.781Z"
   },
   {
    "duration": 204,
    "start_time": "2022-08-05T08:49:20.240Z"
   },
   {
    "duration": 288,
    "start_time": "2022-08-05T08:49:20.446Z"
   },
   {
    "duration": 411,
    "start_time": "2022-08-05T08:49:20.735Z"
   },
   {
    "duration": 263,
    "start_time": "2022-08-05T08:49:21.148Z"
   },
   {
    "duration": 170,
    "start_time": "2022-08-05T08:49:21.413Z"
   },
   {
    "duration": 6,
    "start_time": "2022-08-05T08:49:21.584Z"
   },
   {
    "duration": 662,
    "start_time": "2022-08-05T08:49:21.592Z"
   },
   {
    "duration": 182,
    "start_time": "2022-08-05T08:49:22.256Z"
   },
   {
    "duration": 182,
    "start_time": "2022-08-05T08:49:22.439Z"
   },
   {
    "duration": 147,
    "start_time": "2022-08-05T08:49:22.624Z"
   },
   {
    "duration": 286,
    "start_time": "2022-08-05T08:49:22.772Z"
   },
   {
    "duration": 162,
    "start_time": "2022-08-05T08:49:23.060Z"
   },
   {
    "duration": 159,
    "start_time": "2022-08-05T08:49:23.224Z"
   },
   {
    "duration": 167,
    "start_time": "2022-08-05T08:49:23.385Z"
   },
   {
    "duration": 182,
    "start_time": "2022-08-05T08:49:23.554Z"
   },
   {
    "duration": 171,
    "start_time": "2022-08-05T08:49:23.738Z"
   },
   {
    "duration": 43,
    "start_time": "2022-08-05T08:49:23.911Z"
   },
   {
    "duration": 10,
    "start_time": "2022-08-05T08:49:23.957Z"
   },
   {
    "duration": 25,
    "start_time": "2022-08-05T08:49:24.011Z"
   },
   {
    "duration": 7,
    "start_time": "2022-08-05T08:50:39.899Z"
   },
   {
    "duration": 22,
    "start_time": "2022-08-05T08:50:49.460Z"
   },
   {
    "duration": 91,
    "start_time": "2022-08-05T08:51:07.745Z"
   },
   {
    "duration": 8,
    "start_time": "2022-08-05T08:53:06.849Z"
   },
   {
    "duration": 41,
    "start_time": "2022-08-05T08:53:13.429Z"
   },
   {
    "duration": 12,
    "start_time": "2022-08-05T08:53:27.770Z"
   },
   {
    "duration": 27,
    "start_time": "2022-08-05T08:54:36.547Z"
   },
   {
    "duration": 29,
    "start_time": "2022-08-05T08:54:48.946Z"
   },
   {
    "duration": 20,
    "start_time": "2022-08-05T08:54:56.562Z"
   },
   {
    "duration": 23,
    "start_time": "2022-08-05T08:55:01.752Z"
   },
   {
    "duration": 28,
    "start_time": "2022-08-05T08:55:12.468Z"
   },
   {
    "duration": 23,
    "start_time": "2022-08-05T08:55:18.154Z"
   },
   {
    "duration": 19,
    "start_time": "2022-08-05T08:55:22.137Z"
   },
   {
    "duration": 7,
    "start_time": "2022-08-05T08:56:18.644Z"
   },
   {
    "duration": 8,
    "start_time": "2022-08-05T08:56:32.303Z"
   },
   {
    "duration": 11,
    "start_time": "2022-08-05T08:56:40.910Z"
   },
   {
    "duration": 9,
    "start_time": "2022-08-05T08:56:49.804Z"
   },
   {
    "duration": 9,
    "start_time": "2022-08-05T08:56:56.186Z"
   },
   {
    "duration": 12,
    "start_time": "2022-08-05T08:57:04.137Z"
   },
   {
    "duration": 546,
    "start_time": "2022-08-05T08:57:42.945Z"
   },
   {
    "duration": 5,
    "start_time": "2022-08-05T08:59:12.616Z"
   },
   {
    "duration": 8,
    "start_time": "2022-08-05T08:59:42.170Z"
   },
   {
    "duration": 8,
    "start_time": "2022-08-05T09:00:45.362Z"
   },
   {
    "duration": 10,
    "start_time": "2022-08-05T09:02:23.832Z"
   },
   {
    "duration": 17,
    "start_time": "2022-08-05T09:02:31.739Z"
   },
   {
    "duration": 10,
    "start_time": "2022-08-05T09:02:45.005Z"
   },
   {
    "duration": 15,
    "start_time": "2022-08-05T09:02:50.053Z"
   },
   {
    "duration": 13,
    "start_time": "2022-08-05T09:03:28.985Z"
   },
   {
    "duration": 63,
    "start_time": "2022-08-05T09:03:36.032Z"
   },
   {
    "duration": 11,
    "start_time": "2022-08-05T09:03:39.057Z"
   },
   {
    "duration": 16,
    "start_time": "2022-08-05T09:03:48.902Z"
   },
   {
    "duration": 12,
    "start_time": "2022-08-05T09:04:08.941Z"
   },
   {
    "duration": 25,
    "start_time": "2022-08-05T09:04:31.758Z"
   },
   {
    "duration": 13,
    "start_time": "2022-08-05T09:04:36.348Z"
   },
   {
    "duration": 11,
    "start_time": "2022-08-05T09:05:03.713Z"
   },
   {
    "duration": 11,
    "start_time": "2022-08-05T09:05:13.905Z"
   },
   {
    "duration": 11,
    "start_time": "2022-08-05T09:05:17.479Z"
   },
   {
    "duration": 12,
    "start_time": "2022-08-05T09:05:19.847Z"
   },
   {
    "duration": 14,
    "start_time": "2022-08-05T09:05:24.396Z"
   },
   {
    "duration": 17,
    "start_time": "2022-08-05T09:05:27.288Z"
   },
   {
    "duration": 13,
    "start_time": "2022-08-05T09:06:23.018Z"
   },
   {
    "duration": 10,
    "start_time": "2022-08-05T09:09:41.130Z"
   },
   {
    "duration": 27,
    "start_time": "2022-08-05T09:10:56.059Z"
   },
   {
    "duration": 10,
    "start_time": "2022-08-05T09:11:22.253Z"
   },
   {
    "duration": 512,
    "start_time": "2022-08-05T09:12:23.429Z"
   },
   {
    "duration": 16,
    "start_time": "2022-08-05T09:12:23.943Z"
   },
   {
    "duration": 2216,
    "start_time": "2022-08-05T09:12:23.962Z"
   },
   {
    "duration": 38,
    "start_time": "2022-08-05T09:12:26.180Z"
   },
   {
    "duration": 2,
    "start_time": "2022-08-05T09:12:26.220Z"
   },
   {
    "duration": 19,
    "start_time": "2022-08-05T09:12:26.223Z"
   },
   {
    "duration": 18,
    "start_time": "2022-08-05T09:12:26.244Z"
   },
   {
    "duration": 299,
    "start_time": "2022-08-05T09:12:26.263Z"
   },
   {
    "duration": 498,
    "start_time": "2022-08-05T09:12:26.564Z"
   },
   {
    "duration": 656,
    "start_time": "2022-08-05T09:12:27.064Z"
   },
   {
    "duration": 512,
    "start_time": "2022-08-05T09:12:27.722Z"
   },
   {
    "duration": 512,
    "start_time": "2022-08-05T09:12:28.236Z"
   },
   {
    "duration": 169,
    "start_time": "2022-08-05T09:12:28.750Z"
   },
   {
    "duration": 8,
    "start_time": "2022-08-05T09:12:28.923Z"
   },
   {
    "duration": 366,
    "start_time": "2022-08-05T09:12:28.933Z"
   },
   {
    "duration": 445,
    "start_time": "2022-08-05T09:12:29.301Z"
   },
   {
    "duration": 183,
    "start_time": "2022-08-05T09:12:29.748Z"
   },
   {
    "duration": 253,
    "start_time": "2022-08-05T09:12:29.933Z"
   },
   {
    "duration": 243,
    "start_time": "2022-08-05T09:12:30.188Z"
   },
   {
    "duration": 379,
    "start_time": "2022-08-05T09:12:30.432Z"
   },
   {
    "duration": 158,
    "start_time": "2022-08-05T09:12:30.812Z"
   },
   {
    "duration": 5,
    "start_time": "2022-08-05T09:12:30.972Z"
   },
   {
    "duration": 598,
    "start_time": "2022-08-05T09:12:30.979Z"
   },
   {
    "duration": 159,
    "start_time": "2022-08-05T09:12:31.579Z"
   },
   {
    "duration": 175,
    "start_time": "2022-08-05T09:12:31.740Z"
   },
   {
    "duration": 144,
    "start_time": "2022-08-05T09:12:31.916Z"
   },
   {
    "duration": 169,
    "start_time": "2022-08-05T09:12:32.062Z"
   },
   {
    "duration": 155,
    "start_time": "2022-08-05T09:12:32.232Z"
   },
   {
    "duration": 147,
    "start_time": "2022-08-05T09:12:32.388Z"
   },
   {
    "duration": 262,
    "start_time": "2022-08-05T09:12:32.537Z"
   },
   {
    "duration": 163,
    "start_time": "2022-08-05T09:12:32.800Z"
   },
   {
    "duration": 167,
    "start_time": "2022-08-05T09:12:32.965Z"
   },
   {
    "duration": 37,
    "start_time": "2022-08-05T09:12:33.134Z"
   },
   {
    "duration": 10,
    "start_time": "2022-08-05T09:12:33.173Z"
   },
   {
    "duration": 54,
    "start_time": "2022-08-05T09:12:33.185Z"
   },
   {
    "duration": 29,
    "start_time": "2022-08-05T09:12:33.242Z"
   },
   {
    "duration": 78,
    "start_time": "2022-08-05T09:16:16.676Z"
   },
   {
    "duration": 26,
    "start_time": "2022-08-05T09:16:33.062Z"
   },
   {
    "duration": 20,
    "start_time": "2022-08-05T09:16:51.463Z"
   },
   {
    "duration": 50,
    "start_time": "2022-08-05T09:17:00.850Z"
   },
   {
    "duration": 21,
    "start_time": "2022-08-05T09:17:07.902Z"
   },
   {
    "duration": 17,
    "start_time": "2022-08-05T09:18:20.313Z"
   },
   {
    "duration": 27,
    "start_time": "2022-08-05T09:19:01.761Z"
   },
   {
    "duration": 25,
    "start_time": "2022-08-05T09:19:06.950Z"
   },
   {
    "duration": 31,
    "start_time": "2022-08-05T09:19:28.165Z"
   },
   {
    "duration": 19,
    "start_time": "2022-08-05T09:19:34.095Z"
   },
   {
    "duration": 18,
    "start_time": "2022-08-05T09:21:14.673Z"
   },
   {
    "duration": 18,
    "start_time": "2022-08-05T09:21:25.383Z"
   },
   {
    "duration": 21,
    "start_time": "2022-08-05T09:22:20.557Z"
   },
   {
    "duration": 18,
    "start_time": "2022-08-05T09:22:33.829Z"
   },
   {
    "duration": 44,
    "start_time": "2022-08-05T09:22:41.755Z"
   },
   {
    "duration": 853,
    "start_time": "2022-08-05T09:22:58.816Z"
   },
   {
    "duration": 20,
    "start_time": "2022-08-05T09:23:12.680Z"
   },
   {
    "duration": 19,
    "start_time": "2022-08-05T09:23:36.151Z"
   },
   {
    "duration": 19,
    "start_time": "2022-08-05T09:23:50.936Z"
   },
   {
    "duration": 27,
    "start_time": "2022-08-05T09:23:58.055Z"
   },
   {
    "duration": 28,
    "start_time": "2022-08-05T09:24:42.253Z"
   },
   {
    "duration": 21,
    "start_time": "2022-08-05T09:25:18.052Z"
   },
   {
    "duration": 16,
    "start_time": "2022-08-05T09:27:20.613Z"
   },
   {
    "duration": 20,
    "start_time": "2022-08-05T09:27:23.004Z"
   },
   {
    "duration": 20,
    "start_time": "2022-08-05T09:28:47.146Z"
   },
   {
    "duration": 20,
    "start_time": "2022-08-05T09:28:58.433Z"
   },
   {
    "duration": 22,
    "start_time": "2022-08-05T09:29:03.135Z"
   },
   {
    "duration": 26,
    "start_time": "2022-08-05T09:29:07.674Z"
   },
   {
    "duration": 25,
    "start_time": "2022-08-05T09:29:17.415Z"
   },
   {
    "duration": 27,
    "start_time": "2022-08-05T09:31:02.553Z"
   },
   {
    "duration": 33,
    "start_time": "2022-08-05T09:31:50.106Z"
   },
   {
    "duration": 28,
    "start_time": "2022-08-05T09:32:00.776Z"
   },
   {
    "duration": 15,
    "start_time": "2022-08-05T09:32:56.391Z"
   },
   {
    "duration": 21,
    "start_time": "2022-08-05T09:33:11.547Z"
   },
   {
    "duration": 22,
    "start_time": "2022-08-05T09:33:15.326Z"
   },
   {
    "duration": 18,
    "start_time": "2022-08-05T09:33:23.208Z"
   },
   {
    "duration": 20,
    "start_time": "2022-08-05T09:33:25.929Z"
   },
   {
    "duration": 17,
    "start_time": "2022-08-05T09:33:39.196Z"
   },
   {
    "duration": 20,
    "start_time": "2022-08-05T09:33:54.268Z"
   },
   {
    "duration": 19,
    "start_time": "2022-08-05T09:34:02.349Z"
   },
   {
    "duration": 20,
    "start_time": "2022-08-05T09:34:12.239Z"
   },
   {
    "duration": 19,
    "start_time": "2022-08-05T09:37:20.220Z"
   },
   {
    "duration": 16,
    "start_time": "2022-08-05T09:37:33.790Z"
   },
   {
    "duration": 1005,
    "start_time": "2022-08-05T09:37:39.782Z"
   },
   {
    "duration": 16,
    "start_time": "2022-08-05T09:37:46.642Z"
   },
   {
    "duration": 18,
    "start_time": "2022-08-05T09:37:58.715Z"
   },
   {
    "duration": 1733,
    "start_time": "2022-08-05T09:38:12.744Z"
   },
   {
    "duration": 890,
    "start_time": "2022-08-05T09:38:18.698Z"
   },
   {
    "duration": 19,
    "start_time": "2022-08-05T09:38:53.289Z"
   },
   {
    "duration": 154,
    "start_time": "2022-08-05T09:41:01.028Z"
   },
   {
    "duration": 248,
    "start_time": "2022-08-05T09:41:27.478Z"
   },
   {
    "duration": 32,
    "start_time": "2022-08-05T09:42:08.617Z"
   },
   {
    "duration": 13,
    "start_time": "2022-08-05T09:43:27.403Z"
   },
   {
    "duration": 12,
    "start_time": "2022-08-05T09:43:31.982Z"
   },
   {
    "duration": 12,
    "start_time": "2022-08-05T09:44:57.773Z"
   },
   {
    "duration": 22,
    "start_time": "2022-08-05T09:46:00.305Z"
   },
   {
    "duration": 14,
    "start_time": "2022-08-05T09:46:11.055Z"
   },
   {
    "duration": 11,
    "start_time": "2022-08-05T09:46:35.852Z"
   },
   {
    "duration": 21,
    "start_time": "2022-08-05T09:48:36.385Z"
   },
   {
    "duration": 16,
    "start_time": "2022-08-05T09:49:28.075Z"
   },
   {
    "duration": 31,
    "start_time": "2022-08-05T09:49:38.807Z"
   },
   {
    "duration": 12,
    "start_time": "2022-08-05T09:50:54.544Z"
   },
   {
    "duration": 15,
    "start_time": "2022-08-05T09:51:36.599Z"
   },
   {
    "duration": 19,
    "start_time": "2022-08-05T09:51:57.148Z"
   },
   {
    "duration": 22,
    "start_time": "2022-08-05T09:54:02.645Z"
   },
   {
    "duration": 15,
    "start_time": "2022-08-05T09:55:12.110Z"
   },
   {
    "duration": 13,
    "start_time": "2022-08-05T09:55:18.536Z"
   },
   {
    "duration": 11,
    "start_time": "2022-08-05T09:55:26.580Z"
   },
   {
    "duration": 851,
    "start_time": "2022-08-05T09:57:16.780Z"
   },
   {
    "duration": 233,
    "start_time": "2022-08-05T09:57:48.817Z"
   },
   {
    "duration": 201,
    "start_time": "2022-08-05T09:58:40.412Z"
   },
   {
    "duration": 317,
    "start_time": "2022-08-05T10:34:58.378Z"
   },
   {
    "duration": 256,
    "start_time": "2022-08-05T10:35:06.700Z"
   },
   {
    "duration": 287,
    "start_time": "2022-08-05T10:35:25.894Z"
   },
   {
    "duration": 601,
    "start_time": "2022-08-05T10:35:37.245Z"
   },
   {
    "duration": 18,
    "start_time": "2022-08-05T10:35:37.848Z"
   },
   {
    "duration": 2789,
    "start_time": "2022-08-05T10:35:37.868Z"
   },
   {
    "duration": 69,
    "start_time": "2022-08-05T10:35:40.660Z"
   },
   {
    "duration": 3,
    "start_time": "2022-08-05T10:35:40.732Z"
   },
   {
    "duration": 28,
    "start_time": "2022-08-05T10:35:40.737Z"
   },
   {
    "duration": 44,
    "start_time": "2022-08-05T10:35:40.768Z"
   },
   {
    "duration": 325,
    "start_time": "2022-08-05T10:35:40.814Z"
   },
   {
    "duration": 655,
    "start_time": "2022-08-05T10:35:41.141Z"
   },
   {
    "duration": 633,
    "start_time": "2022-08-05T10:35:41.798Z"
   },
   {
    "duration": 691,
    "start_time": "2022-08-05T10:35:42.433Z"
   },
   {
    "duration": 680,
    "start_time": "2022-08-05T10:35:43.127Z"
   },
   {
    "duration": 193,
    "start_time": "2022-08-05T10:35:43.809Z"
   },
   {
    "duration": 11,
    "start_time": "2022-08-05T10:35:44.007Z"
   },
   {
    "duration": 395,
    "start_time": "2022-08-05T10:35:44.020Z"
   },
   {
    "duration": 462,
    "start_time": "2022-08-05T10:35:44.418Z"
   },
   {
    "duration": 293,
    "start_time": "2022-08-05T10:35:44.883Z"
   },
   {
    "duration": 425,
    "start_time": "2022-08-05T10:35:45.178Z"
   },
   {
    "duration": 400,
    "start_time": "2022-08-05T10:35:45.609Z"
   },
   {
    "duration": 414,
    "start_time": "2022-08-05T10:35:46.011Z"
   },
   {
    "duration": 226,
    "start_time": "2022-08-05T10:35:46.427Z"
   },
   {
    "duration": 10,
    "start_time": "2022-08-05T10:35:46.656Z"
   },
   {
    "duration": 994,
    "start_time": "2022-08-05T10:35:46.669Z"
   },
   {
    "duration": 205,
    "start_time": "2022-08-05T10:35:47.665Z"
   },
   {
    "duration": 182,
    "start_time": "2022-08-05T10:35:47.873Z"
   },
   {
    "duration": 230,
    "start_time": "2022-08-05T10:35:48.058Z"
   },
   {
    "duration": 230,
    "start_time": "2022-08-05T10:35:48.290Z"
   },
   {
    "duration": 187,
    "start_time": "2022-08-05T10:35:48.522Z"
   },
   {
    "duration": 268,
    "start_time": "2022-08-05T10:35:48.711Z"
   },
   {
    "duration": 425,
    "start_time": "2022-08-05T10:35:48.982Z"
   },
   {
    "duration": 251,
    "start_time": "2022-08-05T10:35:49.410Z"
   },
   {
    "duration": 254,
    "start_time": "2022-08-05T10:35:49.663Z"
   },
   {
    "duration": 36,
    "start_time": "2022-08-05T10:35:49.920Z"
   },
   {
    "duration": 11,
    "start_time": "2022-08-05T10:35:49.960Z"
   },
   {
    "duration": 62,
    "start_time": "2022-08-05T10:35:49.973Z"
   },
   {
    "duration": 16,
    "start_time": "2022-08-05T10:35:50.037Z"
   },
   {
    "duration": 24,
    "start_time": "2022-08-05T10:35:50.055Z"
   },
   {
    "duration": 112,
    "start_time": "2022-08-05T10:35:50.082Z"
   },
   {
    "duration": 322,
    "start_time": "2022-08-05T10:36:07.314Z"
   },
   {
    "duration": 223,
    "start_time": "2022-08-05T10:37:14.443Z"
   },
   {
    "duration": 226,
    "start_time": "2022-08-05T10:37:24.650Z"
   },
   {
    "duration": 224,
    "start_time": "2022-08-05T10:37:29.787Z"
   },
   {
    "duration": 233,
    "start_time": "2022-08-05T10:37:43.097Z"
   },
   {
    "duration": 244,
    "start_time": "2022-08-05T10:37:49.385Z"
   },
   {
    "duration": 209,
    "start_time": "2022-08-05T10:38:25.500Z"
   },
   {
    "duration": 200,
    "start_time": "2022-08-05T10:38:51.269Z"
   },
   {
    "duration": 242,
    "start_time": "2022-08-05T10:40:08.619Z"
   },
   {
    "duration": 273,
    "start_time": "2022-08-05T10:40:17.082Z"
   },
   {
    "duration": 220,
    "start_time": "2022-08-05T10:40:28.266Z"
   },
   {
    "duration": 4,
    "start_time": "2022-08-05T10:48:55.608Z"
   },
   {
    "duration": 37,
    "start_time": "2022-08-05T11:02:22.223Z"
   },
   {
    "duration": 24,
    "start_time": "2022-08-05T11:05:28.703Z"
   },
   {
    "duration": 25,
    "start_time": "2022-08-05T11:06:06.994Z"
   },
   {
    "duration": 11,
    "start_time": "2022-08-05T11:06:58.565Z"
   },
   {
    "duration": 9,
    "start_time": "2022-08-05T11:07:02.447Z"
   },
   {
    "duration": 8,
    "start_time": "2022-08-05T11:07:34.358Z"
   },
   {
    "duration": 7,
    "start_time": "2022-08-05T11:08:30.652Z"
   },
   {
    "duration": 9,
    "start_time": "2022-08-05T11:08:34.058Z"
   },
   {
    "duration": 10,
    "start_time": "2022-08-05T11:08:39.788Z"
   },
   {
    "duration": 3,
    "start_time": "2022-08-05T11:10:34.626Z"
   },
   {
    "duration": 922,
    "start_time": "2022-08-05T11:10:42.205Z"
   },
   {
    "duration": 7,
    "start_time": "2022-08-05T11:10:49.836Z"
   },
   {
    "duration": 6,
    "start_time": "2022-08-05T11:10:56.161Z"
   },
   {
    "duration": 530,
    "start_time": "2022-08-05T11:11:06.015Z"
   },
   {
    "duration": 15,
    "start_time": "2022-08-05T11:11:06.548Z"
   },
   {
    "duration": 2393,
    "start_time": "2022-08-05T11:11:06.565Z"
   },
   {
    "duration": 42,
    "start_time": "2022-08-05T11:11:08.960Z"
   },
   {
    "duration": 3,
    "start_time": "2022-08-05T11:11:09.008Z"
   },
   {
    "duration": 19,
    "start_time": "2022-08-05T11:11:09.013Z"
   },
   {
    "duration": 22,
    "start_time": "2022-08-05T11:11:09.034Z"
   },
   {
    "duration": 5,
    "start_time": "2022-08-05T11:11:09.058Z"
   },
   {
    "duration": 8,
    "start_time": "2022-08-05T11:11:09.065Z"
   },
   {
    "duration": 71,
    "start_time": "2022-08-05T11:11:09.075Z"
   },
   {
    "duration": 292,
    "start_time": "2022-08-05T11:11:09.148Z"
   },
   {
    "duration": 536,
    "start_time": "2022-08-05T11:11:09.442Z"
   },
   {
    "duration": 619,
    "start_time": "2022-08-05T11:11:09.980Z"
   },
   {
    "duration": 727,
    "start_time": "2022-08-05T11:11:10.608Z"
   },
   {
    "duration": 1105,
    "start_time": "2022-08-05T11:11:11.336Z"
   },
   {
    "duration": 329,
    "start_time": "2022-08-05T11:11:12.443Z"
   },
   {
    "duration": 35,
    "start_time": "2022-08-05T11:11:12.774Z"
   },
   {
    "duration": 382,
    "start_time": "2022-08-05T11:11:12.811Z"
   },
   {
    "duration": 493,
    "start_time": "2022-08-05T11:11:13.195Z"
   },
   {
    "duration": 209,
    "start_time": "2022-08-05T11:11:13.690Z"
   },
   {
    "duration": 256,
    "start_time": "2022-08-05T11:11:13.909Z"
   },
   {
    "duration": 258,
    "start_time": "2022-08-05T11:11:14.167Z"
   },
   {
    "duration": 397,
    "start_time": "2022-08-05T11:11:14.427Z"
   },
   {
    "duration": 176,
    "start_time": "2022-08-05T11:11:14.826Z"
   },
   {
    "duration": 11,
    "start_time": "2022-08-05T11:11:15.004Z"
   },
   {
    "duration": 612,
    "start_time": "2022-08-05T11:11:15.017Z"
   },
   {
    "duration": 174,
    "start_time": "2022-08-05T11:11:15.630Z"
   },
   {
    "duration": 195,
    "start_time": "2022-08-05T11:11:15.806Z"
   },
   {
    "duration": 170,
    "start_time": "2022-08-05T11:11:16.003Z"
   },
   {
    "duration": 185,
    "start_time": "2022-08-05T11:11:16.175Z"
   },
   {
    "duration": 172,
    "start_time": "2022-08-05T11:11:16.362Z"
   },
   {
    "duration": 173,
    "start_time": "2022-08-05T11:11:16.536Z"
   },
   {
    "duration": 326,
    "start_time": "2022-08-05T11:11:16.711Z"
   },
   {
    "duration": 213,
    "start_time": "2022-08-05T11:11:17.039Z"
   },
   {
    "duration": 236,
    "start_time": "2022-08-05T11:11:17.254Z"
   },
   {
    "duration": 42,
    "start_time": "2022-08-05T11:11:17.492Z"
   },
   {
    "duration": 12,
    "start_time": "2022-08-05T11:11:17.536Z"
   },
   {
    "duration": 31,
    "start_time": "2022-08-05T11:11:17.550Z"
   },
   {
    "duration": 31,
    "start_time": "2022-08-05T11:11:17.583Z"
   },
   {
    "duration": 251,
    "start_time": "2022-08-05T11:11:17.616Z"
   },
   {
    "duration": 40,
    "start_time": "2022-08-05T11:13:40.519Z"
   },
   {
    "duration": 502,
    "start_time": "2022-08-05T11:19:40.453Z"
   },
   {
    "duration": 498,
    "start_time": "2022-08-05T11:24:39.446Z"
   },
   {
    "duration": 660,
    "start_time": "2022-08-05T11:27:11.972Z"
   },
   {
    "duration": 173,
    "start_time": "2022-08-05T11:33:32.405Z"
   },
   {
    "duration": 181,
    "start_time": "2022-08-05T11:33:51.361Z"
   },
   {
    "duration": 190,
    "start_time": "2022-08-05T11:34:02.139Z"
   },
   {
    "duration": 150,
    "start_time": "2022-08-05T11:34:09.537Z"
   },
   {
    "duration": 165,
    "start_time": "2022-08-05T11:34:13.935Z"
   },
   {
    "duration": 168,
    "start_time": "2022-08-05T11:34:16.655Z"
   },
   {
    "duration": 149,
    "start_time": "2022-08-05T11:34:19.589Z"
   },
   {
    "duration": 180,
    "start_time": "2022-08-05T11:34:22.163Z"
   },
   {
    "duration": 9,
    "start_time": "2022-08-05T11:52:13.052Z"
   },
   {
    "duration": 11,
    "start_time": "2022-08-05T11:52:38.812Z"
   },
   {
    "duration": 22,
    "start_time": "2022-08-05T11:53:01.142Z"
   },
   {
    "duration": 328,
    "start_time": "2022-08-05T12:55:42.933Z"
   },
   {
    "duration": 535,
    "start_time": "2022-08-05T12:55:51.615Z"
   },
   {
    "duration": 15,
    "start_time": "2022-08-05T12:55:52.151Z"
   },
   {
    "duration": 2206,
    "start_time": "2022-08-05T12:55:52.168Z"
   },
   {
    "duration": 38,
    "start_time": "2022-08-05T12:55:54.376Z"
   },
   {
    "duration": 3,
    "start_time": "2022-08-05T12:55:54.417Z"
   },
   {
    "duration": 18,
    "start_time": "2022-08-05T12:55:54.421Z"
   },
   {
    "duration": 20,
    "start_time": "2022-08-05T12:55:54.440Z"
   },
   {
    "duration": 5,
    "start_time": "2022-08-05T12:55:54.463Z"
   },
   {
    "duration": 42,
    "start_time": "2022-08-05T12:55:54.470Z"
   },
   {
    "duration": 26,
    "start_time": "2022-08-05T12:55:54.514Z"
   },
   {
    "duration": 291,
    "start_time": "2022-08-05T12:55:54.541Z"
   },
   {
    "duration": 479,
    "start_time": "2022-08-05T12:55:54.834Z"
   },
   {
    "duration": 569,
    "start_time": "2022-08-05T12:55:55.314Z"
   },
   {
    "duration": 558,
    "start_time": "2022-08-05T12:55:55.886Z"
   },
   {
    "duration": 534,
    "start_time": "2022-08-05T12:55:56.446Z"
   },
   {
    "duration": 185,
    "start_time": "2022-08-05T12:55:56.982Z"
   },
   {
    "duration": 455,
    "start_time": "2022-08-05T12:55:57.169Z"
   },
   {
    "duration": 426,
    "start_time": "2022-08-05T12:55:57.626Z"
   },
   {
    "duration": 182,
    "start_time": "2022-08-05T12:55:58.054Z"
   },
   {
    "duration": 245,
    "start_time": "2022-08-05T12:55:58.237Z"
   },
   {
    "duration": 251,
    "start_time": "2022-08-05T12:55:58.484Z"
   },
   {
    "duration": 342,
    "start_time": "2022-08-05T12:55:58.737Z"
   },
   {
    "duration": 29,
    "start_time": "2022-08-05T12:55:59.081Z"
   },
   {
    "duration": 155,
    "start_time": "2022-08-05T12:55:59.112Z"
   },
   {
    "duration": 6,
    "start_time": "2022-08-05T12:55:59.269Z"
   },
   {
    "duration": 693,
    "start_time": "2022-08-05T12:55:59.277Z"
   },
   {
    "duration": 199,
    "start_time": "2022-08-05T12:55:59.971Z"
   },
   {
    "duration": 173,
    "start_time": "2022-08-05T12:56:00.172Z"
   },
   {
    "duration": 153,
    "start_time": "2022-08-05T12:56:00.346Z"
   },
   {
    "duration": 183,
    "start_time": "2022-08-05T12:56:00.501Z"
   },
   {
    "duration": 173,
    "start_time": "2022-08-05T12:56:00.686Z"
   },
   {
    "duration": 276,
    "start_time": "2022-08-05T12:56:00.861Z"
   },
   {
    "duration": 162,
    "start_time": "2022-08-05T12:56:01.139Z"
   },
   {
    "duration": 165,
    "start_time": "2022-08-05T12:56:01.303Z"
   },
   {
    "duration": 169,
    "start_time": "2022-08-05T12:56:01.470Z"
   },
   {
    "duration": 31,
    "start_time": "2022-08-05T12:56:01.641Z"
   },
   {
    "duration": 37,
    "start_time": "2022-08-05T12:56:01.674Z"
   },
   {
    "duration": 225,
    "start_time": "2022-08-05T12:56:01.713Z"
   },
   {
    "duration": 607,
    "start_time": "2022-08-05T13:16:57.192Z"
   },
   {
    "duration": 15,
    "start_time": "2022-08-05T13:16:57.801Z"
   },
   {
    "duration": 2340,
    "start_time": "2022-08-05T13:16:57.817Z"
   },
   {
    "duration": 1953,
    "start_time": "2022-08-05T13:17:00.159Z"
   },
   {
    "duration": 35,
    "start_time": "2022-08-05T13:17:02.113Z"
   },
   {
    "duration": 3,
    "start_time": "2022-08-05T13:17:02.149Z"
   },
   {
    "duration": 41,
    "start_time": "2022-08-05T13:17:02.153Z"
   },
   {
    "duration": 18,
    "start_time": "2022-08-05T13:17:02.195Z"
   },
   {
    "duration": 6,
    "start_time": "2022-08-05T13:17:02.215Z"
   },
   {
    "duration": 12,
    "start_time": "2022-08-05T13:17:02.223Z"
   },
   {
    "duration": 42,
    "start_time": "2022-08-05T13:17:02.236Z"
   },
   {
    "duration": 286,
    "start_time": "2022-08-05T13:17:02.279Z"
   },
   {
    "duration": 483,
    "start_time": "2022-08-05T13:17:02.566Z"
   },
   {
    "duration": 594,
    "start_time": "2022-08-05T13:17:03.051Z"
   },
   {
    "duration": 512,
    "start_time": "2022-08-05T13:17:03.647Z"
   },
   {
    "duration": 506,
    "start_time": "2022-08-05T13:17:04.160Z"
   },
   {
    "duration": 169,
    "start_time": "2022-08-05T13:17:04.667Z"
   },
   {
    "duration": 361,
    "start_time": "2022-08-05T13:17:04.838Z"
   },
   {
    "duration": 423,
    "start_time": "2022-08-05T13:17:05.206Z"
   },
   {
    "duration": 183,
    "start_time": "2022-08-05T13:17:05.631Z"
   },
   {
    "duration": 317,
    "start_time": "2022-08-05T13:17:05.816Z"
   },
   {
    "duration": 309,
    "start_time": "2022-08-05T13:17:06.135Z"
   },
   {
    "duration": 272,
    "start_time": "2022-08-05T13:17:06.446Z"
   },
   {
    "duration": 22,
    "start_time": "2022-08-05T13:17:06.720Z"
   },
   {
    "duration": 276,
    "start_time": "2022-08-05T13:17:06.743Z"
   },
   {
    "duration": 6,
    "start_time": "2022-08-05T13:17:07.021Z"
   },
   {
    "duration": 623,
    "start_time": "2022-08-05T13:17:07.029Z"
   },
   {
    "duration": 153,
    "start_time": "2022-08-05T13:17:07.655Z"
   },
   {
    "duration": 170,
    "start_time": "2022-08-05T13:17:07.810Z"
   },
   {
    "duration": 157,
    "start_time": "2022-08-05T13:17:07.981Z"
   },
   {
    "duration": 184,
    "start_time": "2022-08-05T13:17:08.140Z"
   },
   {
    "duration": 162,
    "start_time": "2022-08-05T13:17:08.325Z"
   },
   {
    "duration": 163,
    "start_time": "2022-08-05T13:17:08.488Z"
   },
   {
    "duration": 248,
    "start_time": "2022-08-05T13:17:08.653Z"
   },
   {
    "duration": 169,
    "start_time": "2022-08-05T13:17:08.903Z"
   },
   {
    "duration": 175,
    "start_time": "2022-08-05T13:17:09.074Z"
   },
   {
    "duration": 31,
    "start_time": "2022-08-05T13:17:09.251Z"
   },
   {
    "duration": 25,
    "start_time": "2022-08-05T13:17:09.284Z"
   },
   {
    "duration": 220,
    "start_time": "2022-08-05T13:17:09.310Z"
   },
   {
    "duration": 3,
    "start_time": "2022-08-05T13:45:24.428Z"
   },
   {
    "duration": 106,
    "start_time": "2022-08-05T13:46:41.119Z"
   },
   {
    "duration": 60,
    "start_time": "2022-08-05T13:50:48.955Z"
   },
   {
    "duration": 72,
    "start_time": "2022-08-05T13:54:21.449Z"
   },
   {
    "duration": 11,
    "start_time": "2022-08-05T13:54:26.623Z"
   },
   {
    "duration": 663,
    "start_time": "2022-08-05T13:54:39.389Z"
   },
   {
    "duration": 116,
    "start_time": "2022-08-05T13:54:40.054Z"
   },
   {
    "duration": 23,
    "start_time": "2022-08-05T13:54:40.172Z"
   },
   {
    "duration": 1972,
    "start_time": "2022-08-05T13:54:40.198Z"
   },
   {
    "duration": 1955,
    "start_time": "2022-08-05T13:54:42.172Z"
   },
   {
    "duration": 24,
    "start_time": "2022-08-05T13:54:44.129Z"
   },
   {
    "duration": 15,
    "start_time": "2022-08-05T13:54:44.155Z"
   },
   {
    "duration": 6,
    "start_time": "2022-08-05T13:54:44.172Z"
   },
   {
    "duration": 39,
    "start_time": "2022-08-05T13:54:44.180Z"
   },
   {
    "duration": 20,
    "start_time": "2022-08-05T13:54:44.221Z"
   },
   {
    "duration": 6,
    "start_time": "2022-08-05T13:54:44.242Z"
   },
   {
    "duration": 8,
    "start_time": "2022-08-05T13:54:44.250Z"
   },
   {
    "duration": 51,
    "start_time": "2022-08-05T13:54:44.260Z"
   },
   {
    "duration": 297,
    "start_time": "2022-08-05T13:54:44.313Z"
   },
   {
    "duration": 476,
    "start_time": "2022-08-05T13:54:44.612Z"
   },
   {
    "duration": 628,
    "start_time": "2022-08-05T13:54:45.090Z"
   },
   {
    "duration": 557,
    "start_time": "2022-08-05T13:54:45.720Z"
   },
   {
    "duration": 510,
    "start_time": "2022-08-05T13:54:46.278Z"
   },
   {
    "duration": 188,
    "start_time": "2022-08-05T13:54:46.790Z"
   },
   {
    "duration": 304,
    "start_time": "2022-08-05T13:54:46.980Z"
   },
   {
    "duration": 591,
    "start_time": "2022-08-05T13:54:47.287Z"
   },
   {
    "duration": 189,
    "start_time": "2022-08-05T13:54:47.880Z"
   },
   {
    "duration": 251,
    "start_time": "2022-08-05T13:54:48.071Z"
   },
   {
    "duration": 250,
    "start_time": "2022-08-05T13:54:48.325Z"
   },
   {
    "duration": 247,
    "start_time": "2022-08-05T13:54:48.577Z"
   },
   {
    "duration": 21,
    "start_time": "2022-08-05T13:54:48.826Z"
   },
   {
    "duration": 184,
    "start_time": "2022-08-05T13:54:48.849Z"
   },
   {
    "duration": 7,
    "start_time": "2022-08-05T13:54:49.036Z"
   },
   {
    "duration": 732,
    "start_time": "2022-08-05T13:54:49.045Z"
   },
   {
    "duration": 148,
    "start_time": "2022-08-05T13:54:49.779Z"
   },
   {
    "duration": 174,
    "start_time": "2022-08-05T13:54:49.929Z"
   },
   {
    "duration": 157,
    "start_time": "2022-08-05T13:54:50.105Z"
   },
   {
    "duration": 197,
    "start_time": "2022-08-05T13:54:50.264Z"
   },
   {
    "duration": 170,
    "start_time": "2022-08-05T13:54:50.463Z"
   },
   {
    "duration": 144,
    "start_time": "2022-08-05T13:54:50.634Z"
   },
   {
    "duration": 159,
    "start_time": "2022-08-05T13:54:50.780Z"
   },
   {
    "duration": 164,
    "start_time": "2022-08-05T13:54:50.940Z"
   },
   {
    "duration": 284,
    "start_time": "2022-08-05T13:54:51.109Z"
   },
   {
    "duration": 36,
    "start_time": "2022-08-05T13:54:51.394Z"
   },
   {
    "duration": 11,
    "start_time": "2022-08-05T13:54:51.432Z"
   },
   {
    "duration": 217,
    "start_time": "2022-08-05T13:54:51.445Z"
   },
   {
    "duration": 151,
    "start_time": "2022-08-05T13:55:08.905Z"
   },
   {
    "duration": 153,
    "start_time": "2022-08-05T13:55:14.266Z"
   },
   {
    "duration": 157,
    "start_time": "2022-08-05T13:55:21.910Z"
   },
   {
    "duration": 202,
    "start_time": "2022-08-05T13:55:30.988Z"
   },
   {
    "duration": 181,
    "start_time": "2022-08-05T13:55:37.216Z"
   },
   {
    "duration": 149,
    "start_time": "2022-08-05T13:55:57.754Z"
   },
   {
    "duration": 153,
    "start_time": "2022-08-05T13:56:06.593Z"
   },
   {
    "duration": 160,
    "start_time": "2022-08-05T13:57:54.211Z"
   },
   {
    "duration": 144,
    "start_time": "2022-08-05T13:58:10.451Z"
   },
   {
    "duration": 152,
    "start_time": "2022-08-05T13:58:13.676Z"
   },
   {
    "duration": 165,
    "start_time": "2022-08-05T13:58:41.401Z"
   },
   {
    "duration": 164,
    "start_time": "2022-08-05T13:58:50.305Z"
   },
   {
    "duration": 168,
    "start_time": "2022-08-05T13:58:58.389Z"
   },
   {
    "duration": 280,
    "start_time": "2022-08-05T13:59:03.355Z"
   },
   {
    "duration": 159,
    "start_time": "2022-08-05T13:59:07.627Z"
   },
   {
    "duration": 163,
    "start_time": "2022-08-05T13:59:15.329Z"
   },
   {
    "duration": 167,
    "start_time": "2022-08-05T13:59:25.486Z"
   },
   {
    "duration": 149,
    "start_time": "2022-08-05T13:59:31.803Z"
   },
   {
    "duration": 138,
    "start_time": "2022-08-05T13:59:34.898Z"
   },
   {
    "duration": 168,
    "start_time": "2022-08-05T13:59:40.318Z"
   },
   {
    "duration": 76,
    "start_time": "2022-08-05T14:02:12.490Z"
   },
   {
    "duration": 114,
    "start_time": "2022-08-05T14:02:28.586Z"
   },
   {
    "duration": 8637,
    "start_time": "2022-08-05T14:02:33.642Z"
   },
   {
    "duration": 8535,
    "start_time": "2022-08-05T14:02:52.666Z"
   },
   {
    "duration": 65,
    "start_time": "2022-08-05T14:07:31.824Z"
   },
   {
    "duration": 76,
    "start_time": "2022-08-05T14:07:36.450Z"
   },
   {
    "duration": 758,
    "start_time": "2022-08-05T14:07:45.394Z"
   },
   {
    "duration": 127,
    "start_time": "2022-08-05T14:07:52.599Z"
   },
   {
    "duration": 127,
    "start_time": "2022-08-05T14:08:03.930Z"
   },
   {
    "duration": 6554,
    "start_time": "2022-08-05T14:08:15.678Z"
   },
   {
    "duration": 6369,
    "start_time": "2022-08-05T14:08:53.318Z"
   },
   {
    "duration": 6409,
    "start_time": "2022-08-05T14:09:08.148Z"
   },
   {
    "duration": 5,
    "start_time": "2022-08-05T14:11:40.890Z"
   },
   {
    "duration": 4,
    "start_time": "2022-08-05T14:12:07.553Z"
   },
   {
    "duration": 1078,
    "start_time": "2022-08-05T14:12:23.927Z"
   },
   {
    "duration": 958,
    "start_time": "2022-08-05T14:12:37.590Z"
   },
   {
    "duration": 1185,
    "start_time": "2022-08-05T14:12:53.417Z"
   },
   {
    "duration": 104,
    "start_time": "2022-08-05T14:13:05.253Z"
   },
   {
    "duration": 116,
    "start_time": "2022-08-05T14:13:15.862Z"
   },
   {
    "duration": 107,
    "start_time": "2022-08-05T14:13:33.252Z"
   },
   {
    "duration": 115,
    "start_time": "2022-08-05T14:13:39.972Z"
   },
   {
    "duration": 128,
    "start_time": "2022-08-05T14:16:39.359Z"
   },
   {
    "duration": 221,
    "start_time": "2022-08-05T14:24:39.172Z"
   },
   {
    "duration": 1055,
    "start_time": "2022-08-05T14:25:31.329Z"
   },
   {
    "duration": 8,
    "start_time": "2022-08-05T14:26:10.091Z"
   },
   {
    "duration": 7,
    "start_time": "2022-08-05T14:26:16.553Z"
   },
   {
    "duration": 156,
    "start_time": "2022-08-05T14:48:26.612Z"
   },
   {
    "duration": 9,
    "start_time": "2022-08-05T14:48:50.684Z"
   },
   {
    "duration": 112,
    "start_time": "2022-08-05T14:50:03.477Z"
   },
   {
    "duration": 96,
    "start_time": "2022-08-05T14:50:32.724Z"
   },
   {
    "duration": 9,
    "start_time": "2022-08-05T14:52:49.074Z"
   },
   {
    "duration": 11,
    "start_time": "2022-08-05T14:53:14.098Z"
   },
   {
    "duration": 11,
    "start_time": "2022-08-05T14:53:17.484Z"
   },
   {
    "duration": 5850,
    "start_time": "2022-08-05T14:53:26.576Z"
   },
   {
    "duration": 6496,
    "start_time": "2022-08-05T14:54:25.025Z"
   },
   {
    "duration": 5893,
    "start_time": "2022-08-05T14:54:39.945Z"
   },
   {
    "duration": 6450,
    "start_time": "2022-08-05T14:54:51.546Z"
   },
   {
    "duration": 5989,
    "start_time": "2022-08-05T14:56:43.263Z"
   },
   {
    "duration": 39,
    "start_time": "2022-08-05T14:57:43.425Z"
   },
   {
    "duration": 32,
    "start_time": "2022-08-05T14:57:49.149Z"
   },
   {
    "duration": 516,
    "start_time": "2022-08-05T14:58:42.970Z"
   },
   {
    "duration": 546,
    "start_time": "2022-08-05T14:59:04.102Z"
   },
   {
    "duration": 504,
    "start_time": "2022-08-05T15:00:24.963Z"
   },
   {
    "duration": 552,
    "start_time": "2022-08-05T15:03:11.601Z"
   },
   {
    "duration": 116,
    "start_time": "2022-08-05T15:04:09.411Z"
   },
   {
    "duration": 1007,
    "start_time": "2022-08-05T15:04:31.322Z"
   },
   {
    "duration": 4,
    "start_time": "2022-08-05T15:13:36.403Z"
   },
   {
    "duration": 8,
    "start_time": "2022-08-05T15:14:33.457Z"
   },
   {
    "duration": 14,
    "start_time": "2022-08-05T15:14:55.400Z"
   },
   {
    "duration": 10,
    "start_time": "2022-08-05T15:15:03.378Z"
   },
   {
    "duration": 14,
    "start_time": "2022-08-05T15:15:07.577Z"
   },
   {
    "duration": 20,
    "start_time": "2022-08-05T15:15:19.671Z"
   },
   {
    "duration": 14,
    "start_time": "2022-08-05T15:15:47.132Z"
   },
   {
    "duration": 1091,
    "start_time": "2022-08-05T15:17:46.537Z"
   },
   {
    "duration": 15,
    "start_time": "2022-08-05T15:18:40.953Z"
   },
   {
    "duration": 17,
    "start_time": "2022-08-05T15:18:54.834Z"
   },
   {
    "duration": 14,
    "start_time": "2022-08-05T15:19:08.716Z"
   },
   {
    "duration": 565,
    "start_time": "2022-08-05T15:19:29.907Z"
   },
   {
    "duration": 106,
    "start_time": "2022-08-05T15:20:10.015Z"
   },
   {
    "duration": 159,
    "start_time": "2022-08-05T15:20:33.619Z"
   },
   {
    "duration": 159,
    "start_time": "2022-08-05T15:20:40.460Z"
   },
   {
    "duration": 133,
    "start_time": "2022-08-05T15:20:52.349Z"
   },
   {
    "duration": 140,
    "start_time": "2022-08-05T15:21:18.313Z"
   },
   {
    "duration": 137,
    "start_time": "2022-08-05T15:21:23.769Z"
   },
   {
    "duration": 141,
    "start_time": "2022-08-05T15:21:33.010Z"
   },
   {
    "duration": 679,
    "start_time": "2022-08-05T15:21:42.498Z"
   },
   {
    "duration": 115,
    "start_time": "2022-08-05T15:21:43.179Z"
   },
   {
    "duration": 18,
    "start_time": "2022-08-05T15:21:43.296Z"
   },
   {
    "duration": 2070,
    "start_time": "2022-08-05T15:21:43.316Z"
   },
   {
    "duration": 2063,
    "start_time": "2022-08-05T15:21:45.389Z"
   },
   {
    "duration": 22,
    "start_time": "2022-08-05T15:21:47.453Z"
   },
   {
    "duration": 33,
    "start_time": "2022-08-05T15:21:47.476Z"
   },
   {
    "duration": 12,
    "start_time": "2022-08-05T15:21:47.511Z"
   },
   {
    "duration": 21,
    "start_time": "2022-08-05T15:21:47.526Z"
   },
   {
    "duration": 18,
    "start_time": "2022-08-05T15:21:47.549Z"
   },
   {
    "duration": 5,
    "start_time": "2022-08-05T15:21:47.569Z"
   },
   {
    "duration": 9,
    "start_time": "2022-08-05T15:21:47.575Z"
   },
   {
    "duration": 37,
    "start_time": "2022-08-05T15:21:47.586Z"
   },
   {
    "duration": 288,
    "start_time": "2022-08-05T15:21:47.624Z"
   },
   {
    "duration": 499,
    "start_time": "2022-08-05T15:21:47.914Z"
   },
   {
    "duration": 617,
    "start_time": "2022-08-05T15:21:48.415Z"
   },
   {
    "duration": 496,
    "start_time": "2022-08-05T15:21:49.034Z"
   },
   {
    "duration": 515,
    "start_time": "2022-08-05T15:21:49.532Z"
   },
   {
    "duration": 179,
    "start_time": "2022-08-05T15:21:50.049Z"
   },
   {
    "duration": 256,
    "start_time": "2022-08-05T15:21:50.230Z"
   },
   {
    "duration": 558,
    "start_time": "2022-08-05T15:21:50.488Z"
   },
   {
    "duration": 172,
    "start_time": "2022-08-05T15:21:51.048Z"
   },
   {
    "duration": 250,
    "start_time": "2022-08-05T15:21:51.221Z"
   },
   {
    "duration": 245,
    "start_time": "2022-08-05T15:21:51.473Z"
   },
   {
    "duration": 237,
    "start_time": "2022-08-05T15:21:51.719Z"
   },
   {
    "duration": 20,
    "start_time": "2022-08-05T15:21:51.957Z"
   },
   {
    "duration": 157,
    "start_time": "2022-08-05T15:21:51.979Z"
   },
   {
    "duration": 5,
    "start_time": "2022-08-05T15:21:52.140Z"
   },
   {
    "duration": 687,
    "start_time": "2022-08-05T15:21:52.147Z"
   },
   {
    "duration": 150,
    "start_time": "2022-08-05T15:21:52.836Z"
   },
   {
    "duration": 170,
    "start_time": "2022-08-05T15:21:52.989Z"
   },
   {
    "duration": 152,
    "start_time": "2022-08-05T15:21:53.161Z"
   },
   {
    "duration": 166,
    "start_time": "2022-08-05T15:21:53.315Z"
   },
   {
    "duration": 154,
    "start_time": "2022-08-05T15:21:53.483Z"
   },
   {
    "duration": 146,
    "start_time": "2022-08-05T15:21:53.639Z"
   },
   {
    "duration": 162,
    "start_time": "2022-08-05T15:21:53.787Z"
   },
   {
    "duration": 159,
    "start_time": "2022-08-05T15:21:53.950Z"
   },
   {
    "duration": 263,
    "start_time": "2022-08-05T15:21:54.111Z"
   },
   {
    "duration": 50,
    "start_time": "2022-08-05T15:21:54.376Z"
   },
   {
    "duration": 200,
    "start_time": "2022-08-05T15:21:54.428Z"
   },
   {
    "duration": 116,
    "start_time": "2022-08-05T15:21:54.629Z"
   },
   {
    "duration": 0,
    "start_time": "2022-08-05T15:21:54.747Z"
   },
   {
    "duration": 0,
    "start_time": "2022-08-05T15:21:54.748Z"
   },
   {
    "duration": 47,
    "start_time": "2022-08-05T15:23:08.274Z"
   },
   {
    "duration": 28,
    "start_time": "2022-08-05T15:23:55.552Z"
   },
   {
    "duration": 121,
    "start_time": "2022-08-05T15:24:10.389Z"
   },
   {
    "duration": 139,
    "start_time": "2022-08-05T15:24:26.483Z"
   },
   {
    "duration": 147,
    "start_time": "2022-08-05T15:24:44.064Z"
   },
   {
    "duration": 25,
    "start_time": "2022-08-05T15:25:19.680Z"
   },
   {
    "duration": 28,
    "start_time": "2022-08-05T15:25:38.527Z"
   },
   {
    "duration": 156,
    "start_time": "2022-08-05T15:25:42.314Z"
   },
   {
    "duration": 148,
    "start_time": "2022-08-05T15:25:48.576Z"
   }
  ],
  "kernelspec": {
   "display_name": "Python 3 (ipykernel)",
   "language": "python",
   "name": "python3"
  },
  "language_info": {
   "codemirror_mode": {
    "name": "ipython",
    "version": 3
   },
   "file_extension": ".py",
   "mimetype": "text/x-python",
   "name": "python",
   "nbconvert_exporter": "python",
   "pygments_lexer": "ipython3",
   "version": "3.9.13"
  },
  "toc": {
   "base_numbering": 1,
   "nav_menu": {},
   "number_sections": true,
   "sideBar": true,
   "skip_h1_title": true,
   "title_cell": "Table of Contents",
   "title_sidebar": "Contents",
   "toc_cell": false,
   "toc_position": {
    "height": "calc(100% - 180px)",
    "left": "10px",
    "top": "150px",
    "width": "252px"
   },
   "toc_section_display": true,
   "toc_window_display": true
  }
 },
 "nbformat": 4,
 "nbformat_minor": 2
}
