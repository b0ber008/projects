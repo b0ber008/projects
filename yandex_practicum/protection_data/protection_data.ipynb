{
 "cells": [
  {
   "cell_type": "markdown",
   "metadata": {},
   "source": [
    "# Защита персональных данных клиентов"
   ]
  },
  {
   "cell_type": "markdown",
   "metadata": {},
   "source": [
    "Вам нужно защитить данные клиентов страховой компании «Хоть потоп». Разработайте такой метод преобразования данных, чтобы по ним было сложно восстановить персональную информацию. Обоснуйте корректность его работы.\n",
    "\n",
    "Нужно защитить данные, чтобы при преобразовании качество моделей машинного обучения не ухудшилось. Подбирать наилучшую модель не требуется."
   ]
  },
  {
   "cell_type": "markdown",
   "metadata": {},
   "source": [
    "## Загрузка данных"
   ]
  },
  {
   "cell_type": "markdown",
   "metadata": {},
   "source": [
    "* Признаки: пол, возраст и зарплата застрахованного, количество членов его семьи;\n",
    "* Целевой признак: количество страховых выплат клиенту за последние 5 лет.\n",
    "\n",
    "Цель проекта - предложить алгоритм преобразования данных для их защиты без ухудшения качества моделей."
   ]
  },
  {
   "cell_type": "markdown",
   "metadata": {},
   "source": [
    "### Импортируем и изучаем данные"
   ]
  },
  {
   "cell_type": "code",
   "execution_count": 1,
   "metadata": {},
   "outputs": [],
   "source": [
    "# Импортируем необходимые библиотеки\n",
    "import pandas as pd\n",
    "import numpy as np\n",
    "import seaborn as sns\n",
    "\n",
    "from sklearn.linear_model import LinearRegression\n",
    "\n",
    "from sklearn.model_selection import train_test_split\n",
    "from sklearn.metrics import mean_squared_error\n",
    "from sklearn.metrics import r2_score"
   ]
  },
  {
   "cell_type": "code",
   "execution_count": 2,
   "metadata": {},
   "outputs": [
    {
     "data": {
      "text/html": [
       "<div>\n",
       "<style scoped>\n",
       "    .dataframe tbody tr th:only-of-type {\n",
       "        vertical-align: middle;\n",
       "    }\n",
       "\n",
       "    .dataframe tbody tr th {\n",
       "        vertical-align: top;\n",
       "    }\n",
       "\n",
       "    .dataframe thead th {\n",
       "        text-align: right;\n",
       "    }\n",
       "</style>\n",
       "<table border=\"1\" class=\"dataframe\">\n",
       "  <thead>\n",
       "    <tr style=\"text-align: right;\">\n",
       "      <th></th>\n",
       "      <th>Пол</th>\n",
       "      <th>Возраст</th>\n",
       "      <th>Зарплата</th>\n",
       "      <th>Члены семьи</th>\n",
       "      <th>Страховые выплаты</th>\n",
       "    </tr>\n",
       "  </thead>\n",
       "  <tbody>\n",
       "    <tr>\n",
       "      <th>0</th>\n",
       "      <td>1</td>\n",
       "      <td>41.0</td>\n",
       "      <td>49600.0</td>\n",
       "      <td>1</td>\n",
       "      <td>0</td>\n",
       "    </tr>\n",
       "    <tr>\n",
       "      <th>1</th>\n",
       "      <td>0</td>\n",
       "      <td>46.0</td>\n",
       "      <td>38000.0</td>\n",
       "      <td>1</td>\n",
       "      <td>1</td>\n",
       "    </tr>\n",
       "    <tr>\n",
       "      <th>2</th>\n",
       "      <td>0</td>\n",
       "      <td>29.0</td>\n",
       "      <td>21000.0</td>\n",
       "      <td>0</td>\n",
       "      <td>0</td>\n",
       "    </tr>\n",
       "    <tr>\n",
       "      <th>3</th>\n",
       "      <td>0</td>\n",
       "      <td>21.0</td>\n",
       "      <td>41700.0</td>\n",
       "      <td>2</td>\n",
       "      <td>0</td>\n",
       "    </tr>\n",
       "    <tr>\n",
       "      <th>4</th>\n",
       "      <td>1</td>\n",
       "      <td>28.0</td>\n",
       "      <td>26100.0</td>\n",
       "      <td>0</td>\n",
       "      <td>0</td>\n",
       "    </tr>\n",
       "  </tbody>\n",
       "</table>\n",
       "</div>"
      ],
      "text/plain": [
       "   Пол  Возраст  Зарплата  Члены семьи  Страховые выплаты\n",
       "0    1     41.0   49600.0            1                  0\n",
       "1    0     46.0   38000.0            1                  1\n",
       "2    0     29.0   21000.0            0                  0\n",
       "3    0     21.0   41700.0            2                  0\n",
       "4    1     28.0   26100.0            0                  0"
      ]
     },
     "execution_count": 2,
     "metadata": {},
     "output_type": "execute_result"
    }
   ],
   "source": [
    "# Сохраняем информацию файла в датафрейме data\n",
    "data = pd.read_csv('/datasets/insurance.csv')\n",
    "data.head()"
   ]
  },
  {
   "cell_type": "code",
   "execution_count": 3,
   "metadata": {
    "scrolled": true
   },
   "outputs": [
    {
     "name": "stdout",
     "output_type": "stream",
     "text": [
      "<class 'pandas.core.frame.DataFrame'>\n",
      "RangeIndex: 5000 entries, 0 to 4999\n",
      "Data columns (total 5 columns):\n",
      " #   Column             Non-Null Count  Dtype  \n",
      "---  ------             --------------  -----  \n",
      " 0   Пол                5000 non-null   int64  \n",
      " 1   Возраст            5000 non-null   float64\n",
      " 2   Зарплата           5000 non-null   float64\n",
      " 3   Члены семьи        5000 non-null   int64  \n",
      " 4   Страховые выплаты  5000 non-null   int64  \n",
      "dtypes: float64(2), int64(3)\n",
      "memory usage: 195.4 KB\n"
     ]
    }
   ],
   "source": [
    "# Выводим общую информацию о датафрейме\n",
    "data.info()"
   ]
  },
  {
   "cell_type": "code",
   "execution_count": 4,
   "metadata": {},
   "outputs": [
    {
     "data": {
      "text/plain": [
       "153"
      ]
     },
     "execution_count": 4,
     "metadata": {},
     "output_type": "execute_result"
    }
   ],
   "source": [
    "# Проверяем на наличие явных дубликатов\n",
    "data.duplicated().sum()"
   ]
  },
  {
   "cell_type": "code",
   "execution_count": 5,
   "metadata": {},
   "outputs": [
    {
     "name": "stdout",
     "output_type": "stream",
     "text": [
      "Пол : [0 1]\n",
      "Возраст : [18. 19. 20. 21. 22. 23. 24. 25. 26. 27. 28. 29. 30. 31. 32. 33. 34. 35.\n",
      " 36. 37. 38. 39. 40. 41. 42. 43. 44. 45. 46. 47. 48. 49. 50. 51. 52. 53.\n",
      " 54. 55. 56. 57. 58. 59. 60. 61. 62. 65.]\n",
      "Члены семьи : [0 1 2 3 4 5 6]\n",
      "Страховые выплаты : [0 1 2 3 4 5]\n"
     ]
    }
   ],
   "source": [
    "# Смотрим на категориальные признаки. Зарплату сразу исключим.\n",
    "data_category = data.drop('Зарплата', axis=1)\n",
    "for i in data_category.columns:\n",
    "    print(i, ':', data_category[i].sort_values().unique())"
   ]
  },
  {
   "cell_type": "code",
   "execution_count": 6,
   "metadata": {},
   "outputs": [
    {
     "data": {
      "image/png": "[encoded data removed]",
      "text/plain": [
       "<Figure size 1080x1440 with 6 Axes>"
      ]
     },
     "metadata": {
      "needs_background": "light"
     },
     "output_type": "display_data"
    }
   ],
   "source": [
    "# Строим гистограммы, чтобы нагляднее прикоснуться к данным\n",
    "data.hist(figsize=(15, 20))\n",
    "None"
   ]
  },
  {
   "cell_type": "code",
   "execution_count": 7,
   "metadata": {
    "scrolled": true
   },
   "outputs": [
    {
     "data": {
      "text/html": [
       "<div>\n",
       "<style scoped>\n",
       "    .dataframe tbody tr th:only-of-type {\n",
       "        vertical-align: middle;\n",
       "    }\n",
       "\n",
       "    .dataframe tbody tr th {\n",
       "        vertical-align: top;\n",
       "    }\n",
       "\n",
       "    .dataframe thead th {\n",
       "        text-align: right;\n",
       "    }\n",
       "</style>\n",
       "<table border=\"1\" class=\"dataframe\">\n",
       "  <thead>\n",
       "    <tr style=\"text-align: right;\">\n",
       "      <th></th>\n",
       "      <th>Пол</th>\n",
       "      <th>Возраст</th>\n",
       "      <th>Зарплата</th>\n",
       "      <th>Члены семьи</th>\n",
       "      <th>Страховые выплаты</th>\n",
       "    </tr>\n",
       "  </thead>\n",
       "  <tbody>\n",
       "    <tr>\n",
       "      <th>count</th>\n",
       "      <td>5000.000000</td>\n",
       "      <td>5000.000000</td>\n",
       "      <td>5000.000000</td>\n",
       "      <td>5000.000000</td>\n",
       "      <td>5000.000000</td>\n",
       "    </tr>\n",
       "    <tr>\n",
       "      <th>mean</th>\n",
       "      <td>0.499000</td>\n",
       "      <td>30.952800</td>\n",
       "      <td>39916.360000</td>\n",
       "      <td>1.194200</td>\n",
       "      <td>0.148000</td>\n",
       "    </tr>\n",
       "    <tr>\n",
       "      <th>std</th>\n",
       "      <td>0.500049</td>\n",
       "      <td>8.440807</td>\n",
       "      <td>9900.083569</td>\n",
       "      <td>1.091387</td>\n",
       "      <td>0.463183</td>\n",
       "    </tr>\n",
       "    <tr>\n",
       "      <th>min</th>\n",
       "      <td>0.000000</td>\n",
       "      <td>18.000000</td>\n",
       "      <td>5300.000000</td>\n",
       "      <td>0.000000</td>\n",
       "      <td>0.000000</td>\n",
       "    </tr>\n",
       "    <tr>\n",
       "      <th>25%</th>\n",
       "      <td>0.000000</td>\n",
       "      <td>24.000000</td>\n",
       "      <td>33300.000000</td>\n",
       "      <td>0.000000</td>\n",
       "      <td>0.000000</td>\n",
       "    </tr>\n",
       "    <tr>\n",
       "      <th>50%</th>\n",
       "      <td>0.000000</td>\n",
       "      <td>30.000000</td>\n",
       "      <td>40200.000000</td>\n",
       "      <td>1.000000</td>\n",
       "      <td>0.000000</td>\n",
       "    </tr>\n",
       "    <tr>\n",
       "      <th>75%</th>\n",
       "      <td>1.000000</td>\n",
       "      <td>37.000000</td>\n",
       "      <td>46600.000000</td>\n",
       "      <td>2.000000</td>\n",
       "      <td>0.000000</td>\n",
       "    </tr>\n",
       "    <tr>\n",
       "      <th>max</th>\n",
       "      <td>1.000000</td>\n",
       "      <td>65.000000</td>\n",
       "      <td>79000.000000</td>\n",
       "      <td>6.000000</td>\n",
       "      <td>5.000000</td>\n",
       "    </tr>\n",
       "  </tbody>\n",
       "</table>\n",
       "</div>"
      ],
      "text/plain": [
       "               Пол      Возраст      Зарплата  Члены семьи  Страховые выплаты\n",
       "count  5000.000000  5000.000000   5000.000000  5000.000000        5000.000000\n",
       "mean      0.499000    30.952800  39916.360000     1.194200           0.148000\n",
       "std       0.500049     8.440807   9900.083569     1.091387           0.463183\n",
       "min       0.000000    18.000000   5300.000000     0.000000           0.000000\n",
       "25%       0.000000    24.000000  33300.000000     0.000000           0.000000\n",
       "50%       0.000000    30.000000  40200.000000     1.000000           0.000000\n",
       "75%       1.000000    37.000000  46600.000000     2.000000           0.000000\n",
       "max       1.000000    65.000000  79000.000000     6.000000           5.000000"
      ]
     },
     "execution_count": 7,
     "metadata": {},
     "output_type": "execute_result"
    }
   ],
   "source": [
    "# Более подробно смотрим на распределение значений \n",
    "data.describe()"
   ]
  },
  {
   "cell_type": "code",
   "execution_count": 8,
   "metadata": {
    "scrolled": true
   },
   "outputs": [
    {
     "data": {
      "text/html": [
       "<div>\n",
       "<style scoped>\n",
       "    .dataframe tbody tr th:only-of-type {\n",
       "        vertical-align: middle;\n",
       "    }\n",
       "\n",
       "    .dataframe tbody tr th {\n",
       "        vertical-align: top;\n",
       "    }\n",
       "\n",
       "    .dataframe thead th {\n",
       "        text-align: right;\n",
       "    }\n",
       "</style>\n",
       "<table border=\"1\" class=\"dataframe\">\n",
       "  <thead>\n",
       "    <tr style=\"text-align: right;\">\n",
       "      <th></th>\n",
       "      <th>Пол</th>\n",
       "      <th>Возраст</th>\n",
       "      <th>Зарплата</th>\n",
       "      <th>Члены семьи</th>\n",
       "      <th>Страховые выплаты</th>\n",
       "    </tr>\n",
       "  </thead>\n",
       "  <tbody>\n",
       "    <tr>\n",
       "      <th>Пол</th>\n",
       "      <td>1.000000</td>\n",
       "      <td>0.002074</td>\n",
       "      <td>0.014910</td>\n",
       "      <td>-0.008991</td>\n",
       "      <td>0.010140</td>\n",
       "    </tr>\n",
       "    <tr>\n",
       "      <th>Возраст</th>\n",
       "      <td>0.002074</td>\n",
       "      <td>1.000000</td>\n",
       "      <td>-0.019093</td>\n",
       "      <td>-0.006692</td>\n",
       "      <td>0.651030</td>\n",
       "    </tr>\n",
       "    <tr>\n",
       "      <th>Зарплата</th>\n",
       "      <td>0.014910</td>\n",
       "      <td>-0.019093</td>\n",
       "      <td>1.000000</td>\n",
       "      <td>-0.030296</td>\n",
       "      <td>-0.014963</td>\n",
       "    </tr>\n",
       "    <tr>\n",
       "      <th>Члены семьи</th>\n",
       "      <td>-0.008991</td>\n",
       "      <td>-0.006692</td>\n",
       "      <td>-0.030296</td>\n",
       "      <td>1.000000</td>\n",
       "      <td>-0.036290</td>\n",
       "    </tr>\n",
       "    <tr>\n",
       "      <th>Страховые выплаты</th>\n",
       "      <td>0.010140</td>\n",
       "      <td>0.651030</td>\n",
       "      <td>-0.014963</td>\n",
       "      <td>-0.036290</td>\n",
       "      <td>1.000000</td>\n",
       "    </tr>\n",
       "  </tbody>\n",
       "</table>\n",
       "</div>"
      ],
      "text/plain": [
       "                        Пол   Возраст  Зарплата  Члены семьи  \\\n",
       "Пол                1.000000  0.002074  0.014910    -0.008991   \n",
       "Возраст            0.002074  1.000000 -0.019093    -0.006692   \n",
       "Зарплата           0.014910 -0.019093  1.000000    -0.030296   \n",
       "Члены семьи       -0.008991 -0.006692 -0.030296     1.000000   \n",
       "Страховые выплаты  0.010140  0.651030 -0.014963    -0.036290   \n",
       "\n",
       "                   Страховые выплаты  \n",
       "Пол                         0.010140  \n",
       "Возраст                     0.651030  \n",
       "Зарплата                   -0.014963  \n",
       "Члены семьи                -0.036290  \n",
       "Страховые выплаты           1.000000  "
      ]
     },
     "execution_count": 8,
     "metadata": {},
     "output_type": "execute_result"
    }
   ],
   "source": [
    "# Оцениваем, как признаки коррелируют друг с другом\n",
    "data.corr()"
   ]
  },
  {
   "cell_type": "code",
   "execution_count": 1,
   "metadata": {
    "scrolled": true
   },
   "outputs": [
    {
     "ename": "NameError",
     "evalue": "name 'sns' is not defined",
     "output_type": "error",
     "traceback": [
      "\u001b[0;31m---------------------------------------------------------------------------\u001b[0m",
      "\u001b[0;31mNameError\u001b[0m                                 Traceback (most recent call last)",
      "\u001b[0;32m/tmp/ipykernel_55/315241930.py\u001b[0m in \u001b[0;36m<module>\u001b[0;34m\u001b[0m\n\u001b[0;32m----> 1\u001b[0;31m \u001b[0mcm\u001b[0m \u001b[0;34m=\u001b[0m \u001b[0msns\u001b[0m\u001b[0;34m.\u001b[0m\u001b[0mlight_palette\u001b[0m\u001b[0;34m(\u001b[0m\u001b[0;34m\"green\"\u001b[0m\u001b[0;34m,\u001b[0m \u001b[0mas_cmap\u001b[0m\u001b[0;34m=\u001b[0m\u001b[0;32mTrue\u001b[0m\u001b[0;34m)\u001b[0m\u001b[0;34m\u001b[0m\u001b[0;34m\u001b[0m\u001b[0m\n\u001b[0m\u001b[1;32m      2\u001b[0m \u001b[0mdata_corr\u001b[0m \u001b[0;34m=\u001b[0m \u001b[0mdata\u001b[0m\u001b[0;34m.\u001b[0m\u001b[0mcorr\u001b[0m\u001b[0;34m(\u001b[0m\u001b[0;34m)\u001b[0m\u001b[0;34m\u001b[0m\u001b[0;34m\u001b[0m\u001b[0m\n\u001b[1;32m      3\u001b[0m \u001b[0mdata_corr\u001b[0m\u001b[0;34m.\u001b[0m\u001b[0mstyle\u001b[0m\u001b[0;34m.\u001b[0m\u001b[0mbackground_gradient\u001b[0m\u001b[0;34m(\u001b[0m\u001b[0mcmap\u001b[0m\u001b[0;34m=\u001b[0m\u001b[0mcm\u001b[0m\u001b[0;34m)\u001b[0m\u001b[0;34m.\u001b[0m\u001b[0mset_precision\u001b[0m\u001b[0;34m(\u001b[0m\u001b[0;36m2\u001b[0m\u001b[0;34m)\u001b[0m\u001b[0;34m.\u001b[0m\u001b[0mhighlight_min\u001b[0m\u001b[0;34m(\u001b[0m\u001b[0maxis\u001b[0m\u001b[0;34m=\u001b[0m\u001b[0;36m0\u001b[0m\u001b[0;34m,\u001b[0m \u001b[0mcolor\u001b[0m\u001b[0;34m=\u001b[0m\u001b[0;34m'lightblue'\u001b[0m\u001b[0;34m)\u001b[0m\u001b[0;34m.\u001b[0m\u001b[0mhighlight_max\u001b[0m\u001b[0;34m(\u001b[0m\u001b[0maxis\u001b[0m\u001b[0;34m=\u001b[0m\u001b[0;36m0\u001b[0m\u001b[0;34m,\u001b[0m \u001b[0mcolor\u001b[0m\u001b[0;34m=\u001b[0m\u001b[0;34m'blue'\u001b[0m\u001b[0;34m)\u001b[0m\u001b[0;34m\u001b[0m\u001b[0;34m\u001b[0m\u001b[0m\n",
      "\u001b[0;31mNameError\u001b[0m: name 'sns' is not defined"
     ]
    }
   ],
   "source": [
    "cm = sns.light_palette(\"green\", as_cmap=True)\n",
    "data_corr = data.corr()\n",
    "data_corr.style.background_gradient(cmap=cm).set_precision(2).highlight_min(axis=0, color='lightblue').highlight_max(axis=0, color='blue')"
   ]
  },
  {
   "cell_type": "markdown",
   "metadata": {},
   "source": [
    "### Вывод по данным"
   ]
  },
  {
   "cell_type": "markdown",
   "metadata": {},
   "source": [
    "На основе полученных сведений о предоставленных нам данных можно сделать следующие выводы:\n",
    "* Датафрейм содержит данные в 5 колонках и 5000 строках;\n",
    "* Пропущенных значений нет;\n",
    "* Имеется один категориальный признак - \"Пол\";\n",
    "* В сумме имеется 153 дубликата, которые необходимо убрать, т.к. в исследовании они не пригодятся;\n",
    "* Типы данных имеют корректный вид, за исключением возраста. Его нужно привести к типу int;\n",
    "* Наименования столбцов приводить к змеиному регистру не будем, т.к. они вполне корректны и их слишком мало, чтобы запутаться;\n",
    "* Признаки практически никак не коррелируют друг с другом. Корреляция прослеживается только возраста и страховых выплат и возраста и количества членов семьи (что, наверное, логично)."
   ]
  },
  {
   "cell_type": "markdown",
   "metadata": {},
   "source": [
    "Также можно отметить, что, в среднем, клиенты:\n",
    "* Находятся в возрасте 20-40 лет;\n",
    "* Имеют зарплату около 40 тыс.;\n",
    "* Имеют семью, состоящую из 1-2 человек;\n",
    "* Практически не получают страховых выплат."
   ]
  },
  {
   "cell_type": "code",
   "execution_count": 10,
   "metadata": {},
   "outputs": [
    {
     "name": "stdout",
     "output_type": "stream",
     "text": [
      "<class 'pandas.core.frame.DataFrame'>\n",
      "Int64Index: 4847 entries, 0 to 4999\n",
      "Data columns (total 5 columns):\n",
      " #   Column             Non-Null Count  Dtype  \n",
      "---  ------             --------------  -----  \n",
      " 0   Пол                4847 non-null   int64  \n",
      " 1   Возраст            4847 non-null   int64  \n",
      " 2   Зарплата           4847 non-null   float64\n",
      " 3   Члены семьи        4847 non-null   int64  \n",
      " 4   Страховые выплаты  4847 non-null   int64  \n",
      "dtypes: float64(1), int64(4)\n",
      "memory usage: 227.2 KB\n"
     ]
    }
   ],
   "source": [
    "data = data.drop_duplicates() # Убираем дубликаты из нашего датафрейма\n",
    "# data.duplicated().sum()\n",
    "\n",
    "data['Возраст'] = data['Возраст'].astype(int) # Приводим возраст к типу int\n",
    "data.info() # Проверяем"
   ]
  },
  {
   "cell_type": "markdown",
   "metadata": {},
   "source": [
    "## Умножение матриц"
   ]
  },
  {
   "cell_type": "markdown",
   "metadata": {},
   "source": [
    "В этом задании вы можете записывать формулы в *Jupyter Notebook.*\n",
    "\n",
    "Чтобы записать формулу внутри текста, окружите её символами доллара \\\\$; если снаружи —  двойными символами \\\\$\\\\$. Эти формулы записываются на языке вёрстки *LaTeX.* \n",
    "\n",
    "Для примера мы записали формулы линейной регрессии. Можете их скопировать и отредактировать, чтобы решить задачу.\n",
    "\n",
    "Работать в *LaTeX* необязательно."
   ]
  },
  {
   "cell_type": "markdown",
   "metadata": {},
   "source": [
    "Обозначения:\n",
    "\n",
    "- $X$ — матрица признаков (нулевой столбец состоит из единиц)\n",
    "\n",
    "- $y$ — вектор целевого признака\n",
    "\n",
    "- $P$ — матрица, на которую умножаются признаки\n",
    "\n",
    "- $w$ — вектор весов линейной регрессии (нулевой элемент равен сдвигу)"
   ]
  },
  {
   "cell_type": "markdown",
   "metadata": {},
   "source": [
    "Предсказания:\n",
    "\n",
    "$$\n",
    "a = Xw\n",
    "$$\n",
    "\n",
    "Задача обучения:\n",
    "\n",
    "$$\n",
    "w = \\arg\\min_w MSE(Xw, y)\n",
    "$$\n",
    "\n",
    "Формула обучения:\n",
    "\n",
    "$$\n",
    "w = (X^T X)^{-1} X^T y\n",
    "$$"
   ]
  },
  {
   "cell_type": "markdown",
   "metadata": {},
   "source": [
    "**Ответ:** если признаки умножить на обратимую матрицу, то качество модели не изменится.\n",
    "\n",
    "**Обоснование:** умножить признаки на обратимую матрицу мы можем только в том случае, если у нас совпадают размерности.\n",
    "То есть, если ширина первой матрицы $ A(mxn) $ равна высоте второны матрицы $ P(nxr) $. Тогда размер произведения будет $ (mxr) $.\n",
    "\n",
    "Представим матрицу признаков как результат умножения исходной матрицы признаков на обратимую матрицу $ X=XP $.\n",
    "Формула обучения, как говорилось выше, имеет вид:\n",
    "$$\n",
    "w = (X^T X)^{-1} X^T y\n",
    "$$\n",
    "Если преобразовать ее, домножив на обратимую матрицу - она станет выглядеть следующим образом:\n",
    "$$\n",
    "w_1 = ((XP)^T XP)^{-1} (XP)^T y\n",
    "$$\n",
    "\n",
    "Чтобы было понятно, изменится ли качество регресии или нет, нужно ее упростить, опираясь на свойства матриц.\n",
    "$$\n",
    "w_1=(P^T(X^T X) P)^{-1} P^T X^T y\n",
    "$$\n",
    "\n",
    "Так как нам известно, что $$ A(BC)=(AB)C $$\n",
    "$$\n",
    "(AB)^T=B^T A^T\n",
    "$$\n",
    "$$\n",
    "(AB)^{-1} = B^{-1} A^{-1}\n",
    "$$\n",
    "А также:\n",
    "$$\n",
    "(A^T)^{-1}=(A^{-1})^T\n",
    "$$\n",
    "$$\n",
    "AA^{-1}=E\n",
    "$$\n",
    "$$\n",
    "AE=EA=A\n",
    "$$\n",
    "\n",
    "В таком случае получаем:\n",
    "$$\n",
    "w_1=P^{-1}(X^T X)^{-1}(P^T)^{-1} P^T X^T y\n",
    "$$\n",
    "$$\n",
    "w_1=P^{-1}(X^T X)^{-1}EX^T y\n",
    "$$\n",
    "\n",
    "И в итоге: $ w_1=P^{-1} w $"
   ]
  },
  {
   "cell_type": "markdown",
   "metadata": {},
   "source": [
    "Теперь вернемся назад и посмотрим на формулу предсказаний: $ a=Xw $\n",
    "\n",
    "Подставим в нее наше домножение на обратимую матрицу и полученную выше упрощенную формулу $ w $ и придем к выводу, что:\n",
    "$$\n",
    "a_1=XP P^{-1}w=Xw\n",
    "$$\n",
    "\n",
    "Что равняется первоначальной формуле. Отсюда делаем вывод, что домножение на обратимую матрицу никак не скажется на предсказаниях линейной регрессии."
   ]
  },
  {
   "cell_type": "markdown",
   "metadata": {},
   "source": [
    "## Алгоритм преобразования"
   ]
  },
  {
   "cell_type": "markdown",
   "metadata": {},
   "source": [
    "Проверим данную гипотезу, создав модель по исходным данным. Затем преобразуем их, умножив признаки на произвольную обратимую матрицу, и посмотрим, изменится ли результат в сравнении."
   ]
  },
  {
   "cell_type": "markdown",
   "metadata": {},
   "source": [
    "**Алгоритм**\n",
    "\n",
    "* Разбить данные на тестовую и тренировночную выборку;\n",
    "* Создать произвольную матрицу;\n",
    "* Проверить ее на обратимость;\n",
    "* Создать модель на исходных данных;\n",
    "* Вычислить для нее метрики качества;\n",
    "* Изменить признаки путем умножения их на произвольную обратимую матрицу;"
   ]
  },
  {
   "cell_type": "markdown",
   "metadata": {},
   "source": [
    "**Обоснование**\n",
    "Домножение сделает невозможным восстановление персональной информации, а качество предсказаний модели при этом измениться не должно, как это было выяснено в предыдущем шаге.\n",
    "\n",
    "Чтобы матрицу наших признаков можно было домножить на произвольную обратимую матрицу, у них должны, как говорилось, совпадать размерности. Т.е. ширина первой матрицы $ A(mxn) $ равна высоте второны матрицы $ P(nxr) $. Тогда размер произведения будет $ (mxr) $.\n",
    "Если наша матрица признаков $ А $ имеет размеры (3635, 4), то создавать мы будем для нее обратимую матрицу $ B $ размерностью (4, 4). Тогда результатом их умножения станет набор данных $ C $ (3635, 4).\n",
    "$$\n",
    "C_ij=(A_i, B_j)\n",
    "$$\n",
    "\n",
    "Наша обратимая матрица будет квадратной (4, 4)\n",
    "Обратная для квадратной матрицы A — матрица A с верхним индексом -1, произведение которой на А равно единичной матрице. Умножение может быть в любом порядке:\n",
    "$$\n",
    "AA^{-1}=A^{-1}A=E\n",
    "$$\n",
    "\n",
    "Далее обучение происходит по следующей формуле:\n",
    "$$\n",
    "w = (X^T X)^{-1} X^T y\n",
    "$$\n",
    "Т.е.\n",
    "* Транспонированная матрица признаков умножается на себя;\n",
    "* Вычисляется обратная к результату матрица;\n",
    "* Обратная умножается на транспонированную матрицу признаков;\n",
    "* Результат умножается на вектор значений целевого признака.\n",
    "\n",
    "Предсказания же в линейной регрессии мы получаем по формуле:\n",
    "$$\n",
    "a=Xw+w_0\n",
    "$$\n",
    "\n",
    "Изменения качества же, в свою очередь, не произойдет благодаря вышеуказанному алгоритму, где по результату скалярного умножения вычисляется число, на которое будет умножена тестовая выборка. И если тестовая выборка домножена на ту же матрицу, то качество наших предсказаний не будет изменено.\n",
    "\n"
   ]
  },
  {
   "cell_type": "markdown",
   "metadata": {},
   "source": [
    "## Проверка алгоритма"
   ]
  },
  {
   "cell_type": "markdown",
   "metadata": {},
   "source": [
    "### Разделение данных на выборки"
   ]
  },
  {
   "cell_type": "code",
   "execution_count": 11,
   "metadata": {},
   "outputs": [
    {
     "name": "stdout",
     "output_type": "stream",
     "text": [
      "(3635, 4)\n",
      "(1212, 4)\n",
      "(3635,)\n",
      "(1212,)\n",
      "0.7499484217041469 0.2500515782958531\n"
     ]
    }
   ],
   "source": [
    "features = data.drop(['Страховые выплаты'], axis=1) # Создаем переменную с признаками\n",
    "target = data['Страховые выплаты'] # Создаем переменную с целевым признаком\n",
    "\n",
    "\n",
    "# Выполняем разделение на тренировочную и тестовую выборку в соотношении 75:25\n",
    "(train_features,\n",
    "test_features,\n",
    "train_target,\n",
    "test_target) = train_test_split(features, target, test_size=0.25, random_state=12345)\n",
    "\n",
    "# Проверяем\n",
    "print(train_features.shape)\n",
    "print(test_features.shape)\n",
    "print(train_target.shape)\n",
    "print(test_target.shape)\n",
    "print(train_features.shape[0]/features.shape[0], test_features.shape[0]/features.shape[0])"
   ]
  },
  {
   "cell_type": "markdown",
   "metadata": {},
   "source": [
    "### Линейная регрессия по исходным данным"
   ]
  },
  {
   "cell_type": "code",
   "execution_count": 12,
   "metadata": {},
   "outputs": [],
   "source": [
    "# Создаем класс LinearRegression\n",
    "class LinearRegression:\n",
    "    def fit(self, train_features, train_target): # Метод fit\n",
    "        X = np.concatenate((np.ones((train_features.shape[0], 1)), train_features), axis=1)\n",
    "        y = train_target\n",
    "        w = (np.linalg.inv(X.T.dot(X)).dot(X.T)).dot(y)\n",
    "        self.w = w[1:]\n",
    "        self.w0 = w[0]\n",
    "\n",
    "    def predict(self, test_features): # Метод predict\n",
    "        return test_features.dot(self.w) + self.w0"
   ]
  },
  {
   "cell_type": "code",
   "execution_count": 13,
   "metadata": {},
   "outputs": [
    {
     "name": "stdout",
     "output_type": "stream",
     "text": [
      "R2_score: 0.4230772749214825\n",
      "MSE: 0.11955009374099718\n"
     ]
    }
   ],
   "source": [
    "model = LinearRegression() # Создаем модель и сохраняем в переменной model\n",
    "model.fit(train_features, train_target) # Обучаем\n",
    "predict = model.predict(test_features) # Делаем предсказания\n",
    "\n",
    "# Метрики качества\n",
    "r2 = r2_score(test_target, predict)\n",
    "mse = mean_squared_error(predict,test_target)\n",
    "\n",
    "print(\"R2_score:\", r2)\n",
    "print(\"MSE:\", mse)"
   ]
  },
  {
   "cell_type": "markdown",
   "metadata": {},
   "source": [
    "### Умножение на обратимую матрицу"
   ]
  },
  {
   "cell_type": "code",
   "execution_count": 14,
   "metadata": {
    "scrolled": true
   },
   "outputs": [
    {
     "data": {
      "text/plain": [
       "'Матрица:'"
      ]
     },
     "metadata": {},
     "output_type": "display_data"
    },
    {
     "data": {
      "text/plain": [
       "array([[ 0.09123069, -0.47640822, -0.1664755 , -1.5074707 ],\n",
       "       [ 0.95368457,  0.2308188 ,  1.03858849, -0.46807213],\n",
       "       [ 1.00418111, -0.27714527,  0.02920126,  0.11083123],\n",
       "       [ 0.06389049, -0.08985834, -0.20894171, -0.26592288]])"
      ]
     },
     "metadata": {},
     "output_type": "display_data"
    },
    {
     "name": "stdout",
     "output_type": "stream",
     "text": [
      "\n",
      "\n"
     ]
    },
    {
     "data": {
      "text/plain": [
       "'Обратная матрица:'"
      ]
     },
     "metadata": {},
     "output_type": "display_data"
    },
    {
     "data": {
      "text/plain": [
       "array([[-0.56597704,  0.429068  ,  0.47118656,  2.64956976],\n",
       "       [-2.01954462,  1.39318119, -1.66779865,  8.30109424],\n",
       "       [ 0.89712822,  0.06906424,  0.1794525 , -5.13243767],\n",
       "       [-0.15844864, -0.42194937,  0.53577508, -1.89626395]])"
      ]
     },
     "metadata": {},
     "output_type": "display_data"
    }
   ],
   "source": [
    "inv_matrix = np.random.normal(size=(4, 4)) # Создаем матрицу размером 4х4\n",
    "display('Матрица:', inv_matrix) # Выводим ее на экран для ознакомления\n",
    "\n",
    "print() # Отступы для упрощения восприятия разделения\n",
    "print()\n",
    "display('Обратная матрица:', np.linalg.inv(inv_matrix)) # Проверяем, обратима она или нет"
   ]
  },
  {
   "cell_type": "code",
   "execution_count": 15,
   "metadata": {},
   "outputs": [
    {
     "data": {
      "text/html": [
       "<div>\n",
       "<style scoped>\n",
       "    .dataframe tbody tr th:only-of-type {\n",
       "        vertical-align: middle;\n",
       "    }\n",
       "\n",
       "    .dataframe tbody tr th {\n",
       "        vertical-align: top;\n",
       "    }\n",
       "\n",
       "    .dataframe thead th {\n",
       "        text-align: right;\n",
       "    }\n",
       "</style>\n",
       "<table border=\"1\" class=\"dataframe\">\n",
       "  <thead>\n",
       "    <tr style=\"text-align: right;\">\n",
       "      <th></th>\n",
       "      <th>Пол</th>\n",
       "      <th>Возраст</th>\n",
       "      <th>Зарплата</th>\n",
       "      <th>Члены семьи</th>\n",
       "    </tr>\n",
       "  </thead>\n",
       "  <tbody>\n",
       "    <tr>\n",
       "      <th>0</th>\n",
       "      <td>54754.701465</td>\n",
       "      <td>-15098.133847</td>\n",
       "      <td>1620.131397</td>\n",
       "      <td>6026.664127</td>\n",
       "    </tr>\n",
       "    <tr>\n",
       "      <th>1</th>\n",
       "      <td>50948.377432</td>\n",
       "      <td>-14043.060194</td>\n",
       "      <td>1519.594950</td>\n",
       "      <td>5599.583187</td>\n",
       "    </tr>\n",
       "    <tr>\n",
       "      <th>2</th>\n",
       "      <td>28140.023411</td>\n",
       "      <td>-7754.617686</td>\n",
       "      <td>842.352530</td>\n",
       "      <td>3091.774764</td>\n",
       "    </tr>\n",
       "    <tr>\n",
       "      <th>3</th>\n",
       "      <td>39007.050258</td>\n",
       "      <td>-10742.387880</td>\n",
       "      <td>1181.822641</td>\n",
       "      <td>4278.252304</td>\n",
       "    </tr>\n",
       "    <tr>\n",
       "      <th>4</th>\n",
       "      <td>32674.097361</td>\n",
       "      <td>-8998.078287</td>\n",
       "      <td>990.375627</td>\n",
       "      <td>3583.026142</td>\n",
       "    </tr>\n",
       "  </tbody>\n",
       "</table>\n",
       "</div>"
      ],
      "text/plain": [
       "            Пол       Возраст     Зарплата  Члены семьи\n",
       "0  54754.701465 -15098.133847  1620.131397  6026.664127\n",
       "1  50948.377432 -14043.060194  1519.594950  5599.583187\n",
       "2  28140.023411  -7754.617686   842.352530  3091.774764\n",
       "3  39007.050258 -10742.387880  1181.822641  4278.252304\n",
       "4  32674.097361  -8998.078287   990.375627  3583.026142"
      ]
     },
     "metadata": {},
     "output_type": "display_data"
    },
    {
     "data": {
      "text/html": [
       "<div>\n",
       "<style scoped>\n",
       "    .dataframe tbody tr th:only-of-type {\n",
       "        vertical-align: middle;\n",
       "    }\n",
       "\n",
       "    .dataframe tbody tr th {\n",
       "        vertical-align: top;\n",
       "    }\n",
       "\n",
       "    .dataframe thead th {\n",
       "        text-align: right;\n",
       "    }\n",
       "</style>\n",
       "<table border=\"1\" class=\"dataframe\">\n",
       "  <thead>\n",
       "    <tr style=\"text-align: right;\">\n",
       "      <th></th>\n",
       "      <th>Пол</th>\n",
       "      <th>Возраст</th>\n",
       "      <th>Зарплата</th>\n",
       "      <th>Члены семьи</th>\n",
       "    </tr>\n",
       "  </thead>\n",
       "  <tbody>\n",
       "    <tr>\n",
       "      <th>0</th>\n",
       "      <td>47419.374386</td>\n",
       "      <td>-13076.424183</td>\n",
       "      <td>1402.020646</td>\n",
       "      <td>5218.960889</td>\n",
       "    </tr>\n",
       "    <tr>\n",
       "      <th>1</th>\n",
       "      <td>66206.144312</td>\n",
       "      <td>-18256.963308</td>\n",
       "      <td>1957.431550</td>\n",
       "      <td>7287.292227</td>\n",
       "    </tr>\n",
       "    <tr>\n",
       "      <th>2</th>\n",
       "      <td>34073.430245</td>\n",
       "      <td>-9388.263659</td>\n",
       "      <td>1023.611858</td>\n",
       "      <td>3739.692974</td>\n",
       "    </tr>\n",
       "    <tr>\n",
       "      <th>3</th>\n",
       "      <td>19418.016910</td>\n",
       "      <td>-5340.081439</td>\n",
       "      <td>603.671433</td>\n",
       "      <td>2120.256065</td>\n",
       "    </tr>\n",
       "    <tr>\n",
       "      <th>4</th>\n",
       "      <td>27658.977807</td>\n",
       "      <td>-7611.056897</td>\n",
       "      <td>850.391904</td>\n",
       "      <td>3025.795640</td>\n",
       "    </tr>\n",
       "  </tbody>\n",
       "</table>\n",
       "</div>"
      ],
      "text/plain": [
       "            Пол       Возраст     Зарплата  Члены семьи\n",
       "0  47419.374386 -13076.424183  1402.020646  5218.960889\n",
       "1  66206.144312 -18256.963308  1957.431550  7287.292227\n",
       "2  34073.430245  -9388.263659  1023.611858  3739.692974\n",
       "3  19418.016910  -5340.081439   603.671433  2120.256065\n",
       "4  27658.977807  -7611.056897   850.391904  3025.795640"
      ]
     },
     "metadata": {},
     "output_type": "display_data"
    }
   ],
   "source": [
    "# Умножаем признаки на обратимую матрицу и сохраняем их в новой переменной\n",
    "train_matrix = train_features.values @ inv_matrix\n",
    "train_matrix = pd.DataFrame (train_matrix, columns = features.columns)\n",
    "\n",
    "test_matrix = test_features.values @ inv_matrix\n",
    "test_matrix = pd.DataFrame (test_matrix, columns = features.columns)\n",
    "\n",
    "# Проверяем\n",
    "display(train_matrix.head())\n",
    "display(test_matrix.head())"
   ]
  },
  {
   "cell_type": "code",
   "execution_count": 16,
   "metadata": {},
   "outputs": [],
   "source": [
    "matrix_model = LinearRegression() # Создадим модель по измененным данным\n",
    "matrix_model.fit(train_matrix, train_target) # Обучаем\n",
    "predict = matrix_model.predict(test_matrix) # Делаем предсказания\n",
    "\n",
    "# Метрики качества\n",
    "matrix_r2 = r2_score(test_target, predict)\n",
    "matrix_mse = mean_squared_error(predict, test_target)"
   ]
  },
  {
   "cell_type": "code",
   "execution_count": 17,
   "metadata": {},
   "outputs": [],
   "source": [
    "models = ['normal_model R2', 'matrix_model R2', 'normal_model MSE', 'matrix_model MSE']\n",
    "\n",
    "result = pd.DataFrame(np.array([r2, matrix_r2, mse, matrix_mse]), index=models)\n",
    "result.set_axis(['Метрики качества'], axis='columns', inplace=True)"
   ]
  },
  {
   "cell_type": "markdown",
   "metadata": {},
   "source": [
    "## Общий вывод"
   ]
  },
  {
   "cell_type": "markdown",
   "metadata": {},
   "source": [
    "На основании полученных данных:"
   ]
  },
  {
   "cell_type": "code",
   "execution_count": 18,
   "metadata": {
    "scrolled": true
   },
   "outputs": [
    {
     "data": {
      "text/html": [
       "<div>\n",
       "<style scoped>\n",
       "    .dataframe tbody tr th:only-of-type {\n",
       "        vertical-align: middle;\n",
       "    }\n",
       "\n",
       "    .dataframe tbody tr th {\n",
       "        vertical-align: top;\n",
       "    }\n",
       "\n",
       "    .dataframe thead th {\n",
       "        text-align: right;\n",
       "    }\n",
       "</style>\n",
       "<table border=\"1\" class=\"dataframe\">\n",
       "  <thead>\n",
       "    <tr style=\"text-align: right;\">\n",
       "      <th></th>\n",
       "      <th>Метрики качества</th>\n",
       "    </tr>\n",
       "  </thead>\n",
       "  <tbody>\n",
       "    <tr>\n",
       "      <th>normal_model R2</th>\n",
       "      <td>0.423077</td>\n",
       "    </tr>\n",
       "    <tr>\n",
       "      <th>matrix_model R2</th>\n",
       "      <td>0.423077</td>\n",
       "    </tr>\n",
       "    <tr>\n",
       "      <th>normal_model MSE</th>\n",
       "      <td>0.119550</td>\n",
       "    </tr>\n",
       "    <tr>\n",
       "      <th>matrix_model MSE</th>\n",
       "      <td>0.119550</td>\n",
       "    </tr>\n",
       "  </tbody>\n",
       "</table>\n",
       "</div>"
      ],
      "text/plain": [
       "                  Метрики качества\n",
       "normal_model R2           0.423077\n",
       "matrix_model R2           0.423077\n",
       "normal_model MSE          0.119550\n",
       "matrix_model MSE          0.119550"
      ]
     },
     "metadata": {},
     "output_type": "display_data"
    }
   ],
   "source": [
    "display(result)"
   ]
  },
  {
   "cell_type": "markdown",
   "metadata": {},
   "source": [
    "Делаем вывод, что качество линейной регрессии не изменится при умножении на обратимую матрицу и что наш алгоритм по преобразованию данных работает корректно.\n",
    "Персональную информацию клиентов по измененным данным восстановить будет сложно, а метрики качества выдают идентичные значения."
   ]
  }
 ],
 "metadata": {
  "ExecuteTimeLog": [
   {
    "duration": 369,
    "start_time": "2022-09-30T06:11:10.635Z"
   },
   {
    "duration": 83,
    "start_time": "2022-09-30T06:11:48.437Z"
   },
   {
    "duration": 37,
    "start_time": "2022-09-30T06:12:24.728Z"
   },
   {
    "duration": 11,
    "start_time": "2022-09-30T06:12:33.338Z"
   },
   {
    "duration": 10,
    "start_time": "2022-09-30T06:14:52.093Z"
   },
   {
    "duration": 5,
    "start_time": "2022-09-30T08:42:01.684Z"
   },
   {
    "duration": 6,
    "start_time": "2022-09-30T08:42:34.701Z"
   },
   {
    "duration": 78,
    "start_time": "2022-09-30T08:43:45.252Z"
   },
   {
    "duration": 9,
    "start_time": "2022-09-30T08:45:02.901Z"
   },
   {
    "duration": 6,
    "start_time": "2022-09-30T08:52:37.128Z"
   },
   {
    "duration": 7,
    "start_time": "2022-09-30T08:54:02.329Z"
   },
   {
    "duration": 6,
    "start_time": "2022-09-30T08:54:07.858Z"
   },
   {
    "duration": 7,
    "start_time": "2022-09-30T08:54:26.555Z"
   },
   {
    "duration": 6,
    "start_time": "2022-09-30T08:54:32.014Z"
   },
   {
    "duration": 8,
    "start_time": "2022-09-30T08:54:45.168Z"
   },
   {
    "duration": 7,
    "start_time": "2022-09-30T08:54:55.934Z"
   },
   {
    "duration": 7,
    "start_time": "2022-09-30T08:55:00.352Z"
   },
   {
    "duration": 8,
    "start_time": "2022-09-30T08:55:28.931Z"
   },
   {
    "duration": 9,
    "start_time": "2022-09-30T08:55:32.134Z"
   },
   {
    "duration": 9,
    "start_time": "2022-09-30T08:55:34.134Z"
   },
   {
    "duration": 6,
    "start_time": "2022-09-30T08:56:18.141Z"
   },
   {
    "duration": 6,
    "start_time": "2022-09-30T08:56:22.065Z"
   },
   {
    "duration": 6,
    "start_time": "2022-09-30T08:56:29.218Z"
   },
   {
    "duration": 6,
    "start_time": "2022-09-30T08:56:31.820Z"
   },
   {
    "duration": 9,
    "start_time": "2022-09-30T08:59:39.706Z"
   },
   {
    "duration": 8,
    "start_time": "2022-09-30T09:00:13.795Z"
   },
   {
    "duration": 5,
    "start_time": "2022-09-30T09:01:27.306Z"
   },
   {
    "duration": 12,
    "start_time": "2022-09-30T09:01:42.051Z"
   },
   {
    "duration": 13,
    "start_time": "2022-09-30T09:01:55.221Z"
   },
   {
    "duration": 983,
    "start_time": "2022-09-30T09:04:48.213Z"
   },
   {
    "duration": 642,
    "start_time": "2022-09-30T09:04:52.861Z"
   },
   {
    "duration": 18,
    "start_time": "2022-09-30T09:05:12.316Z"
   },
   {
    "duration": 23,
    "start_time": "2022-09-30T09:05:17.464Z"
   },
   {
    "duration": 8,
    "start_time": "2022-09-30T09:06:29.127Z"
   },
   {
    "duration": 10,
    "start_time": "2022-09-30T09:06:31.557Z"
   },
   {
    "duration": 36,
    "start_time": "2022-09-30T09:10:05.535Z"
   },
   {
    "duration": 33,
    "start_time": "2022-09-30T09:10:11.472Z"
   },
   {
    "duration": 4,
    "start_time": "2022-09-30T09:16:22.059Z"
   },
   {
    "duration": 4,
    "start_time": "2022-09-30T09:17:50.425Z"
   },
   {
    "duration": 19,
    "start_time": "2022-09-30T09:17:57.418Z"
   },
   {
    "duration": 8,
    "start_time": "2022-09-30T09:24:20.146Z"
   },
   {
    "duration": 9,
    "start_time": "2022-09-30T09:24:22.827Z"
   },
   {
    "duration": 5,
    "start_time": "2022-09-30T09:24:26.393Z"
   },
   {
    "duration": 12,
    "start_time": "2022-09-30T09:24:43.822Z"
   },
   {
    "duration": 7,
    "start_time": "2022-09-30T09:25:00.275Z"
   },
   {
    "duration": 6,
    "start_time": "2022-09-30T09:27:54.036Z"
   },
   {
    "duration": 16,
    "start_time": "2022-09-30T09:28:01.028Z"
   },
   {
    "duration": 27,
    "start_time": "2022-09-30T09:32:34.210Z"
   },
   {
    "duration": 19,
    "start_time": "2022-09-30T09:33:44.518Z"
   },
   {
    "duration": 401,
    "start_time": "2022-10-03T04:19:35.432Z"
   },
   {
    "duration": 84,
    "start_time": "2022-10-03T04:19:35.835Z"
   },
   {
    "duration": 11,
    "start_time": "2022-10-03T04:19:35.920Z"
   },
   {
    "duration": 8,
    "start_time": "2022-10-03T04:19:35.933Z"
   },
   {
    "duration": 10,
    "start_time": "2022-10-03T04:19:35.942Z"
   },
   {
    "duration": 970,
    "start_time": "2022-10-03T04:19:35.954Z"
   },
   {
    "duration": 25,
    "start_time": "2022-10-03T04:19:36.926Z"
   },
   {
    "duration": 8,
    "start_time": "2022-10-03T04:19:36.953Z"
   },
   {
    "duration": 74,
    "start_time": "2022-10-03T04:19:36.963Z"
   },
   {
    "duration": 4,
    "start_time": "2022-10-03T04:19:37.038Z"
   },
   {
    "duration": 66,
    "start_time": "2022-10-03T04:20:41.728Z"
   },
   {
    "duration": 8,
    "start_time": "2022-10-03T04:20:49.215Z"
   },
   {
    "duration": 603,
    "start_time": "2022-10-03T04:21:20.889Z"
   },
   {
    "duration": 7,
    "start_time": "2022-10-03T04:21:26.901Z"
   },
   {
    "duration": 7,
    "start_time": "2022-10-03T04:23:44.052Z"
   },
   {
    "duration": 8,
    "start_time": "2022-10-03T04:24:11.618Z"
   },
   {
    "duration": 8,
    "start_time": "2022-10-03T04:24:27.508Z"
   },
   {
    "duration": 9,
    "start_time": "2022-10-03T04:58:58.701Z"
   },
   {
    "duration": 47,
    "start_time": "2022-10-03T04:59:39.306Z"
   },
   {
    "duration": 10,
    "start_time": "2022-10-03T05:00:13.743Z"
   },
   {
    "duration": 10,
    "start_time": "2022-10-03T05:00:40.280Z"
   },
   {
    "duration": 11,
    "start_time": "2022-10-03T05:00:42.452Z"
   },
   {
    "duration": 5,
    "start_time": "2022-10-03T05:04:58.733Z"
   },
   {
    "duration": 4,
    "start_time": "2022-10-03T05:05:09.026Z"
   },
   {
    "duration": 21,
    "start_time": "2022-10-03T05:05:33.074Z"
   },
   {
    "duration": 5,
    "start_time": "2022-10-03T05:05:37.063Z"
   },
   {
    "duration": 23,
    "start_time": "2022-10-03T05:09:16.333Z"
   },
   {
    "duration": 3,
    "start_time": "2022-10-03T05:10:07.756Z"
   },
   {
    "duration": 34,
    "start_time": "2022-10-03T05:10:12.760Z"
   },
   {
    "duration": 11,
    "start_time": "2022-10-03T05:10:12.797Z"
   },
   {
    "duration": 9,
    "start_time": "2022-10-03T05:10:12.810Z"
   },
   {
    "duration": 14,
    "start_time": "2022-10-03T05:10:12.821Z"
   },
   {
    "duration": 676,
    "start_time": "2022-10-03T05:10:12.837Z"
   },
   {
    "duration": 31,
    "start_time": "2022-10-03T05:10:13.516Z"
   },
   {
    "duration": 11,
    "start_time": "2022-10-03T05:10:13.549Z"
   },
   {
    "duration": 13,
    "start_time": "2022-10-03T05:10:13.562Z"
   },
   {
    "duration": 10,
    "start_time": "2022-10-03T05:10:13.577Z"
   },
   {
    "duration": 5,
    "start_time": "2022-10-03T05:10:13.589Z"
   },
   {
    "duration": 46,
    "start_time": "2022-10-03T05:10:13.595Z"
   },
   {
    "duration": 47,
    "start_time": "2022-10-03T06:48:30.692Z"
   },
   {
    "duration": 1005,
    "start_time": "2022-10-03T06:48:39.686Z"
   },
   {
    "duration": 9,
    "start_time": "2022-10-03T06:48:45.754Z"
   },
   {
    "duration": 6,
    "start_time": "2022-10-03T06:48:56.246Z"
   },
   {
    "duration": 5,
    "start_time": "2022-10-03T06:49:02.160Z"
   },
   {
    "duration": 6,
    "start_time": "2022-10-03T06:49:39.919Z"
   },
   {
    "duration": 6,
    "start_time": "2022-10-03T06:49:44.569Z"
   },
   {
    "duration": 10,
    "start_time": "2022-10-03T06:50:41.573Z"
   },
   {
    "duration": 10,
    "start_time": "2022-10-03T06:50:48.525Z"
   },
   {
    "duration": 11,
    "start_time": "2022-10-03T06:50:54.321Z"
   },
   {
    "duration": 10,
    "start_time": "2022-10-03T06:50:58.077Z"
   },
   {
    "duration": 10,
    "start_time": "2022-10-03T06:51:18.878Z"
   },
   {
    "duration": 10,
    "start_time": "2022-10-03T06:51:34.852Z"
   },
   {
    "duration": 11,
    "start_time": "2022-10-03T06:51:49.010Z"
   },
   {
    "duration": 10,
    "start_time": "2022-10-03T06:51:55.724Z"
   },
   {
    "duration": 8,
    "start_time": "2022-10-03T06:52:12.699Z"
   },
   {
    "duration": 10,
    "start_time": "2022-10-03T06:52:18.388Z"
   },
   {
    "duration": 61,
    "start_time": "2022-10-03T06:54:25.868Z"
   },
   {
    "duration": 1056,
    "start_time": "2022-10-03T06:54:34.512Z"
   },
   {
    "duration": 105,
    "start_time": "2022-10-03T06:54:35.570Z"
   },
   {
    "duration": 12,
    "start_time": "2022-10-03T06:54:35.677Z"
   },
   {
    "duration": 12,
    "start_time": "2022-10-03T06:54:35.691Z"
   },
   {
    "duration": 15,
    "start_time": "2022-10-03T06:54:35.704Z"
   },
   {
    "duration": 1065,
    "start_time": "2022-10-03T06:54:35.721Z"
   },
   {
    "duration": 22,
    "start_time": "2022-10-03T06:54:36.788Z"
   },
   {
    "duration": 26,
    "start_time": "2022-10-03T06:54:36.812Z"
   },
   {
    "duration": 14,
    "start_time": "2022-10-03T06:54:36.840Z"
   },
   {
    "duration": 9,
    "start_time": "2022-10-03T06:54:36.856Z"
   },
   {
    "duration": 4,
    "start_time": "2022-10-03T06:54:36.867Z"
   },
   {
    "duration": 64,
    "start_time": "2022-10-03T06:54:36.872Z"
   },
   {
    "duration": 105,
    "start_time": "2022-10-03T06:54:36.938Z"
   },
   {
    "duration": 5,
    "start_time": "2022-10-03T06:56:27.526Z"
   },
   {
    "duration": 104,
    "start_time": "2022-10-03T06:57:36.854Z"
   },
   {
    "duration": 4,
    "start_time": "2022-10-03T06:57:41.592Z"
   },
   {
    "duration": 3,
    "start_time": "2022-10-03T06:59:09.701Z"
   },
   {
    "duration": 3,
    "start_time": "2022-10-03T06:59:14.041Z"
   },
   {
    "duration": 3,
    "start_time": "2022-10-03T06:59:39.035Z"
   },
   {
    "duration": 1072,
    "start_time": "2022-10-03T06:59:45.248Z"
   },
   {
    "duration": 47,
    "start_time": "2022-10-03T06:59:46.322Z"
   },
   {
    "duration": 13,
    "start_time": "2022-10-03T06:59:46.371Z"
   },
   {
    "duration": 13,
    "start_time": "2022-10-03T06:59:46.387Z"
   },
   {
    "duration": 16,
    "start_time": "2022-10-03T06:59:46.402Z"
   },
   {
    "duration": 872,
    "start_time": "2022-10-03T06:59:46.422Z"
   },
   {
    "duration": 23,
    "start_time": "2022-10-03T06:59:47.296Z"
   },
   {
    "duration": 19,
    "start_time": "2022-10-03T06:59:47.320Z"
   },
   {
    "duration": 12,
    "start_time": "2022-10-03T06:59:47.341Z"
   },
   {
    "duration": 7,
    "start_time": "2022-10-03T06:59:47.355Z"
   },
   {
    "duration": 13,
    "start_time": "2022-10-03T06:59:47.363Z"
   },
   {
    "duration": 22,
    "start_time": "2022-10-03T06:59:47.377Z"
   },
   {
    "duration": 10,
    "start_time": "2022-10-03T06:59:47.435Z"
   },
   {
    "duration": 96,
    "start_time": "2022-10-03T06:59:47.446Z"
   },
   {
    "duration": 11,
    "start_time": "2022-10-03T07:00:58.262Z"
   },
   {
    "duration": 12,
    "start_time": "2022-10-03T07:01:05.248Z"
   },
   {
    "duration": 10,
    "start_time": "2022-10-03T07:01:43.077Z"
   },
   {
    "duration": 11,
    "start_time": "2022-10-03T07:03:36.990Z"
   },
   {
    "duration": 17,
    "start_time": "2022-10-03T07:03:50.098Z"
   },
   {
    "duration": 15,
    "start_time": "2022-10-03T07:04:01.705Z"
   },
   {
    "duration": 10,
    "start_time": "2022-10-03T07:07:00.102Z"
   },
   {
    "duration": 8,
    "start_time": "2022-10-03T07:07:41.879Z"
   },
   {
    "duration": 7,
    "start_time": "2022-10-03T07:07:58.575Z"
   },
   {
    "duration": 129,
    "start_time": "2022-10-03T07:14:16.396Z"
   },
   {
    "duration": 4,
    "start_time": "2022-10-03T07:14:25.524Z"
   },
   {
    "duration": 7,
    "start_time": "2022-10-03T07:14:35.523Z"
   },
   {
    "duration": 10,
    "start_time": "2022-10-03T07:14:54.655Z"
   },
   {
    "duration": 10,
    "start_time": "2022-10-03T07:15:03.391Z"
   },
   {
    "duration": 10,
    "start_time": "2022-10-03T07:16:17.136Z"
   },
   {
    "duration": 1065,
    "start_time": "2022-10-03T07:19:22.329Z"
   },
   {
    "duration": 41,
    "start_time": "2022-10-03T07:19:23.396Z"
   },
   {
    "duration": 11,
    "start_time": "2022-10-03T07:19:23.439Z"
   },
   {
    "duration": 8,
    "start_time": "2022-10-03T07:19:23.452Z"
   },
   {
    "duration": 16,
    "start_time": "2022-10-03T07:19:23.462Z"
   },
   {
    "duration": 818,
    "start_time": "2022-10-03T07:19:23.479Z"
   },
   {
    "duration": 35,
    "start_time": "2022-10-03T07:19:24.299Z"
   },
   {
    "duration": 10,
    "start_time": "2022-10-03T07:19:24.336Z"
   },
   {
    "duration": 13,
    "start_time": "2022-10-03T07:19:24.348Z"
   },
   {
    "duration": 9,
    "start_time": "2022-10-03T07:19:24.362Z"
   },
   {
    "duration": 4,
    "start_time": "2022-10-03T07:19:24.373Z"
   },
   {
    "duration": 55,
    "start_time": "2022-10-03T07:19:24.379Z"
   },
   {
    "duration": 98,
    "start_time": "2022-10-03T07:19:24.437Z"
   },
   {
    "duration": 99,
    "start_time": "2022-10-03T07:19:24.538Z"
   },
   {
    "duration": 7,
    "start_time": "2022-10-03T07:19:24.639Z"
   },
   {
    "duration": 268,
    "start_time": "2022-10-03T07:19:24.648Z"
   },
   {
    "duration": 7,
    "start_time": "2022-10-03T07:19:33.063Z"
   },
   {
    "duration": 107,
    "start_time": "2022-10-03T07:19:47.149Z"
   },
   {
    "duration": 9,
    "start_time": "2022-10-03T07:19:51.816Z"
   },
   {
    "duration": 10,
    "start_time": "2022-10-03T07:19:57.501Z"
   },
   {
    "duration": 79,
    "start_time": "2022-10-03T07:21:52.280Z"
   },
   {
    "duration": 25,
    "start_time": "2022-10-03T07:22:07.431Z"
   },
   {
    "duration": 8,
    "start_time": "2022-10-03T07:23:16.141Z"
   },
   {
    "duration": 63,
    "start_time": "2022-10-04T19:36:19.272Z"
   },
   {
    "duration": 43,
    "start_time": "2022-10-04T19:37:25.630Z"
   },
   {
    "duration": 47,
    "start_time": "2022-10-04T20:24:04.581Z"
   },
   {
    "duration": 996,
    "start_time": "2022-10-04T20:24:09.536Z"
   },
   {
    "duration": 86,
    "start_time": "2022-10-04T20:24:10.534Z"
   },
   {
    "duration": 10,
    "start_time": "2022-10-04T20:24:10.622Z"
   },
   {
    "duration": 39,
    "start_time": "2022-10-04T20:24:10.633Z"
   },
   {
    "duration": 34,
    "start_time": "2022-10-04T20:24:10.674Z"
   },
   {
    "duration": 1059,
    "start_time": "2022-10-04T20:24:10.710Z"
   },
   {
    "duration": 24,
    "start_time": "2022-10-04T20:24:11.776Z"
   },
   {
    "duration": 10,
    "start_time": "2022-10-04T20:24:11.802Z"
   },
   {
    "duration": 14,
    "start_time": "2022-10-04T20:24:11.814Z"
   },
   {
    "duration": 11,
    "start_time": "2022-10-04T20:24:11.837Z"
   },
   {
    "duration": 27,
    "start_time": "2022-10-04T20:24:11.850Z"
   },
   {
    "duration": 13,
    "start_time": "2022-10-04T20:24:11.879Z"
   },
   {
    "duration": 186,
    "start_time": "2022-10-04T20:24:11.894Z"
   },
   {
    "duration": 96,
    "start_time": "2022-10-04T20:24:12.082Z"
   },
   {
    "duration": 7,
    "start_time": "2022-10-04T20:24:12.179Z"
   },
   {
    "duration": 10,
    "start_time": "2022-10-04T20:24:12.188Z"
   },
   {
    "duration": 6,
    "start_time": "2022-10-04T20:24:33.055Z"
   },
   {
    "duration": 3,
    "start_time": "2022-10-04T20:35:57.000Z"
   },
   {
    "duration": 49,
    "start_time": "2022-10-05T20:26:13.080Z"
   },
   {
    "duration": 1084,
    "start_time": "2022-10-05T20:26:19.688Z"
   },
   {
    "duration": 93,
    "start_time": "2022-10-05T20:26:20.774Z"
   },
   {
    "duration": 13,
    "start_time": "2022-10-05T20:26:20.869Z"
   },
   {
    "duration": 8,
    "start_time": "2022-10-05T20:26:20.884Z"
   },
   {
    "duration": 10,
    "start_time": "2022-10-05T20:26:20.894Z"
   },
   {
    "duration": 1232,
    "start_time": "2022-10-05T20:26:20.906Z"
   },
   {
    "duration": 35,
    "start_time": "2022-10-05T20:26:22.140Z"
   },
   {
    "duration": 10,
    "start_time": "2022-10-05T20:26:22.177Z"
   },
   {
    "duration": 164,
    "start_time": "2022-10-05T20:26:22.189Z"
   },
   {
    "duration": 0,
    "start_time": "2022-10-05T20:26:22.355Z"
   },
   {
    "duration": 0,
    "start_time": "2022-10-05T20:26:22.356Z"
   },
   {
    "duration": 0,
    "start_time": "2022-10-05T20:26:22.357Z"
   },
   {
    "duration": 0,
    "start_time": "2022-10-05T20:26:22.359Z"
   },
   {
    "duration": 0,
    "start_time": "2022-10-05T20:26:22.360Z"
   },
   {
    "duration": 0,
    "start_time": "2022-10-05T20:26:22.361Z"
   },
   {
    "duration": 0,
    "start_time": "2022-10-05T20:26:22.362Z"
   },
   {
    "duration": 0,
    "start_time": "2022-10-05T20:26:22.363Z"
   },
   {
    "duration": 1,
    "start_time": "2022-10-05T20:26:22.364Z"
   },
   {
    "duration": 11,
    "start_time": "2022-10-05T20:27:25.614Z"
   },
   {
    "duration": 149,
    "start_time": "2022-10-05T20:27:51.081Z"
   },
   {
    "duration": 1717,
    "start_time": "2022-10-05T20:27:55.197Z"
   },
   {
    "duration": 16,
    "start_time": "2022-10-05T20:29:59.598Z"
   },
   {
    "duration": 40,
    "start_time": "2022-10-05T20:30:42.179Z"
   },
   {
    "duration": 34,
    "start_time": "2022-10-05T20:30:57.582Z"
   },
   {
    "duration": 43,
    "start_time": "2022-10-05T20:31:51.415Z"
   },
   {
    "duration": 36,
    "start_time": "2022-10-05T20:32:05.476Z"
   },
   {
    "duration": 33,
    "start_time": "2022-10-05T20:32:11.845Z"
   },
   {
    "duration": 35,
    "start_time": "2022-10-05T20:32:15.782Z"
   },
   {
    "duration": 36,
    "start_time": "2022-10-05T20:32:24.519Z"
   },
   {
    "duration": 37,
    "start_time": "2022-10-05T20:32:31.904Z"
   },
   {
    "duration": 34,
    "start_time": "2022-10-05T20:32:39.329Z"
   },
   {
    "duration": 41,
    "start_time": "2022-10-05T20:32:48.424Z"
   },
   {
    "duration": 23,
    "start_time": "2022-10-05T20:34:53.717Z"
   },
   {
    "duration": 36,
    "start_time": "2022-10-05T20:35:03.533Z"
   },
   {
    "duration": 47,
    "start_time": "2022-10-05T20:37:19.214Z"
   },
   {
    "duration": 53,
    "start_time": "2022-10-05T20:43:09.074Z"
   },
   {
    "duration": 49,
    "start_time": "2022-10-05T20:44:24.705Z"
   },
   {
    "duration": 124,
    "start_time": "2022-10-05T20:52:59.943Z"
   },
   {
    "duration": 1596,
    "start_time": "2022-10-06T10:07:51.442Z"
   },
   {
    "duration": 94,
    "start_time": "2022-10-06T10:07:53.040Z"
   },
   {
    "duration": 14,
    "start_time": "2022-10-06T10:07:53.136Z"
   },
   {
    "duration": 21,
    "start_time": "2022-10-06T10:07:53.152Z"
   },
   {
    "duration": 24,
    "start_time": "2022-10-06T10:07:53.175Z"
   },
   {
    "duration": 748,
    "start_time": "2022-10-06T10:07:53.201Z"
   },
   {
    "duration": 24,
    "start_time": "2022-10-06T10:07:53.951Z"
   },
   {
    "duration": 10,
    "start_time": "2022-10-06T10:07:53.978Z"
   },
   {
    "duration": 93,
    "start_time": "2022-10-06T10:07:53.990Z"
   },
   {
    "duration": 12,
    "start_time": "2022-10-06T10:07:54.085Z"
   },
   {
    "duration": 22,
    "start_time": "2022-10-06T10:07:54.099Z"
   },
   {
    "duration": 18,
    "start_time": "2022-10-06T10:07:54.123Z"
   },
   {
    "duration": 13,
    "start_time": "2022-10-06T10:07:54.143Z"
   },
   {
    "duration": 165,
    "start_time": "2022-10-06T10:07:54.161Z"
   },
   {
    "duration": 102,
    "start_time": "2022-10-06T10:07:54.328Z"
   },
   {
    "duration": 7,
    "start_time": "2022-10-06T10:07:54.432Z"
   },
   {
    "duration": 17,
    "start_time": "2022-10-06T10:07:54.521Z"
   },
   {
    "duration": 94,
    "start_time": "2022-10-06T10:07:54.539Z"
   },
   {
    "duration": 160,
    "start_time": "2022-10-06T11:58:00.968Z"
   },
   {
    "duration": 1674,
    "start_time": "2022-10-06T21:34:24.689Z"
   },
   {
    "duration": 101,
    "start_time": "2022-10-06T21:34:26.365Z"
   },
   {
    "duration": 11,
    "start_time": "2022-10-06T21:34:26.468Z"
   },
   {
    "duration": 11,
    "start_time": "2022-10-06T21:34:26.481Z"
   },
   {
    "duration": 11,
    "start_time": "2022-10-06T21:34:26.494Z"
   },
   {
    "duration": 605,
    "start_time": "2022-10-06T21:34:26.507Z"
   },
   {
    "duration": 23,
    "start_time": "2022-10-06T21:34:27.114Z"
   },
   {
    "duration": 9,
    "start_time": "2022-10-06T21:34:27.138Z"
   },
   {
    "duration": 81,
    "start_time": "2022-10-06T21:34:27.149Z"
   },
   {
    "duration": 12,
    "start_time": "2022-10-06T21:34:27.232Z"
   },
   {
    "duration": 8,
    "start_time": "2022-10-06T21:34:27.246Z"
   },
   {
    "duration": 16,
    "start_time": "2022-10-06T21:34:27.255Z"
   },
   {
    "duration": 29,
    "start_time": "2022-10-06T21:34:27.272Z"
   },
   {
    "duration": 115,
    "start_time": "2022-10-06T21:34:27.303Z"
   },
   {
    "duration": 182,
    "start_time": "2022-10-06T21:34:27.420Z"
   },
   {
    "duration": 9,
    "start_time": "2022-10-06T21:34:27.603Z"
   },
   {
    "duration": 88,
    "start_time": "2022-10-06T21:34:27.614Z"
   },
   {
    "duration": 11,
    "start_time": "2022-10-06T21:34:27.704Z"
   },
   {
    "duration": 48,
    "start_time": "2022-10-07T05:42:10.963Z"
   },
   {
    "duration": 1601,
    "start_time": "2022-10-07T05:42:18.770Z"
   },
   {
    "duration": 90,
    "start_time": "2022-10-07T05:42:20.374Z"
   },
   {
    "duration": 11,
    "start_time": "2022-10-07T05:42:20.466Z"
   },
   {
    "duration": 14,
    "start_time": "2022-10-07T05:42:20.479Z"
   },
   {
    "duration": 10,
    "start_time": "2022-10-07T05:42:20.494Z"
   },
   {
    "duration": 696,
    "start_time": "2022-10-07T05:42:20.505Z"
   },
   {
    "duration": 25,
    "start_time": "2022-10-07T05:42:21.202Z"
   },
   {
    "duration": 10,
    "start_time": "2022-10-07T05:42:21.229Z"
   },
   {
    "duration": 88,
    "start_time": "2022-10-07T05:42:21.241Z"
   },
   {
    "duration": 14,
    "start_time": "2022-10-07T05:42:21.332Z"
   },
   {
    "duration": 28,
    "start_time": "2022-10-07T05:42:21.348Z"
   },
   {
    "duration": 21,
    "start_time": "2022-10-07T05:42:21.378Z"
   },
   {
    "duration": 29,
    "start_time": "2022-10-07T05:42:21.401Z"
   },
   {
    "duration": 154,
    "start_time": "2022-10-07T05:42:21.432Z"
   },
   {
    "duration": 108,
    "start_time": "2022-10-07T05:42:21.588Z"
   },
   {
    "duration": 85,
    "start_time": "2022-10-07T05:42:21.698Z"
   },
   {
    "duration": 92,
    "start_time": "2022-10-07T05:42:21.785Z"
   },
   {
    "duration": 100,
    "start_time": "2022-10-07T05:42:21.879Z"
   },
   {
    "duration": 51,
    "start_time": "2022-10-07T22:15:11.432Z"
   }
  ],
  "kernelspec": {
   "display_name": "Python 3 (ipykernel)",
   "language": "python",
   "name": "python3"
  },
  "language_info": {
   "codemirror_mode": {
    "name": "ipython",
    "version": 3
   },
   "file_extension": ".py",
   "mimetype": "text/x-python",
   "name": "python",
   "nbconvert_exporter": "python",
   "pygments_lexer": "ipython3",
   "version": "3.9.13"
  },
  "toc": {
   "base_numbering": 1,
   "nav_menu": {},
   "number_sections": true,
   "sideBar": true,
   "skip_h1_title": true,
   "title_cell": "Содержание",
   "title_sidebar": "Contents",
   "toc_cell": true,
   "toc_position": {},
   "toc_section_display": true,
   "toc_window_display": true
  }
 },
 "nbformat": 4,
 "nbformat_minor": 2
}
