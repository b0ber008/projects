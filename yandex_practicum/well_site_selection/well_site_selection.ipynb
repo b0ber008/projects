{
 "cells": [
  {
   "cell_type": "markdown",
   "metadata": {},
   "source": [
    "# Выбор локации для скважины"
   ]
  },
  {
   "cell_type": "markdown",
   "metadata": {},
   "source": [
    "Мы выполняем задачу бизнеса \"ГлавРосГосНефть.\n",
    "\n",
    "\n",
    "Цель:\n",
    "* Определить регион для бурения новой скважины.\n",
    "\n",
    "Нам доступны файлы с пробами нефти в трех регионах. В каждом - 10 000 месторождений, где измерили качество и объем её запасов.\n",
    "Необходимо построить модель машинного обучения, помогающая определить регион, где добыча принесет наибольшую прибыль.\n",
    "\n",
    "Шаги, которое необходимо выполнить для выбора локации:\n",
    "- В избранном регионе найти месторождения, для каждого определить значения признаков;\n",
    "- Построить модель и оценить объём запасов;\n",
    "- Выбрать месторождения с самым высокими оценками значений. Количество месторождений зависит от бюджета компании и стоимости разработки одной скважины;\n",
    "- Прибыль равна суммарной прибыли отобранных месторождений."
   ]
  },
  {
   "cell_type": "markdown",
   "metadata": {},
   "source": [
    "## Описание данных"
   ]
  },
  {
   "cell_type": "markdown",
   "metadata": {},
   "source": [
    "Данные геологоразведки трёх регионов находятся в файлах:\n",
    "\n",
    "* /datasets/geo_data_0.csv.\n",
    "* /datasets/geo_data_1.csv.\n",
    "* /datasets/geo_data_2.csv.\n",
    "\n",
    "\n",
    "* id — уникальный идентификатор скважины;\n",
    "* f0, f1, f2 — три признака точек (неважно, что они означают, но сами признаки значимы);\n",
    "* product — объём запасов в скважине (тыс. баррелей)."
   ]
  },
  {
   "cell_type": "markdown",
   "metadata": {},
   "source": [
    "## Загрузка и подготовка данных"
   ]
  },
  {
   "cell_type": "code",
   "execution_count": 1,
   "metadata": {},
   "outputs": [],
   "source": [
    "# Импортируем все необходимые библиотеки\n",
    "\n",
    "import pandas as pd\n",
    "import numpy as np\n",
    "from scipy import stats\n",
    "\n",
    "from sklearn.model_selection import train_test_split\n",
    "from sklearn.linear_model import LinearRegression\n",
    "from sklearn.metrics import mean_squared_error\n",
    "from IPython.display import display\n",
    "import warnings"
   ]
  },
  {
   "cell_type": "code",
   "execution_count": 2,
   "metadata": {},
   "outputs": [],
   "source": [
    "# Константы\n",
    "\n",
    "# Бюджет\n",
    "BUDGET = 10_000_000_000/200\n",
    "\n",
    "# Сколько нужно тысяч баррелей для того, чтобы окупить затраты\n",
    "COUNT_BARR = BUDGET/450000"
   ]
  },
  {
   "cell_type": "code",
   "execution_count": 3,
   "metadata": {},
   "outputs": [
    {
     "data": {
      "text/html": [
       "<div>\n",
       "<style scoped>\n",
       "    .dataframe tbody tr th:only-of-type {\n",
       "        vertical-align: middle;\n",
       "    }\n",
       "\n",
       "    .dataframe tbody tr th {\n",
       "        vertical-align: top;\n",
       "    }\n",
       "\n",
       "    .dataframe thead th {\n",
       "        text-align: right;\n",
       "    }\n",
       "</style>\n",
       "<table border=\"1\" class=\"dataframe\">\n",
       "  <thead>\n",
       "    <tr style=\"text-align: right;\">\n",
       "      <th></th>\n",
       "      <th>id</th>\n",
       "      <th>f0</th>\n",
       "      <th>f1</th>\n",
       "      <th>f2</th>\n",
       "      <th>product</th>\n",
       "    </tr>\n",
       "  </thead>\n",
       "  <tbody>\n",
       "    <tr>\n",
       "      <th>0</th>\n",
       "      <td>txEyH</td>\n",
       "      <td>0.705745</td>\n",
       "      <td>-0.497823</td>\n",
       "      <td>1.221170</td>\n",
       "      <td>105.280062</td>\n",
       "    </tr>\n",
       "    <tr>\n",
       "      <th>1</th>\n",
       "      <td>2acmU</td>\n",
       "      <td>1.334711</td>\n",
       "      <td>-0.340164</td>\n",
       "      <td>4.365080</td>\n",
       "      <td>73.037750</td>\n",
       "    </tr>\n",
       "    <tr>\n",
       "      <th>2</th>\n",
       "      <td>409Wp</td>\n",
       "      <td>1.022732</td>\n",
       "      <td>0.151990</td>\n",
       "      <td>1.419926</td>\n",
       "      <td>85.265647</td>\n",
       "    </tr>\n",
       "    <tr>\n",
       "      <th>3</th>\n",
       "      <td>iJLyR</td>\n",
       "      <td>-0.032172</td>\n",
       "      <td>0.139033</td>\n",
       "      <td>2.978566</td>\n",
       "      <td>168.620776</td>\n",
       "    </tr>\n",
       "    <tr>\n",
       "      <th>4</th>\n",
       "      <td>Xdl7t</td>\n",
       "      <td>1.988431</td>\n",
       "      <td>0.155413</td>\n",
       "      <td>4.751769</td>\n",
       "      <td>154.036647</td>\n",
       "    </tr>\n",
       "  </tbody>\n",
       "</table>\n",
       "</div>"
      ],
      "text/plain": [
       "      id        f0        f1        f2     product\n",
       "0  txEyH  0.705745 -0.497823  1.221170  105.280062\n",
       "1  2acmU  1.334711 -0.340164  4.365080   73.037750\n",
       "2  409Wp  1.022732  0.151990  1.419926   85.265647\n",
       "3  iJLyR -0.032172  0.139033  2.978566  168.620776\n",
       "4  Xdl7t  1.988431  0.155413  4.751769  154.036647"
      ]
     },
     "metadata": {},
     "output_type": "display_data"
    },
    {
     "data": {
      "text/html": [
       "<div>\n",
       "<style scoped>\n",
       "    .dataframe tbody tr th:only-of-type {\n",
       "        vertical-align: middle;\n",
       "    }\n",
       "\n",
       "    .dataframe tbody tr th {\n",
       "        vertical-align: top;\n",
       "    }\n",
       "\n",
       "    .dataframe thead th {\n",
       "        text-align: right;\n",
       "    }\n",
       "</style>\n",
       "<table border=\"1\" class=\"dataframe\">\n",
       "  <thead>\n",
       "    <tr style=\"text-align: right;\">\n",
       "      <th></th>\n",
       "      <th>id</th>\n",
       "      <th>f0</th>\n",
       "      <th>f1</th>\n",
       "      <th>f2</th>\n",
       "      <th>product</th>\n",
       "    </tr>\n",
       "  </thead>\n",
       "  <tbody>\n",
       "    <tr>\n",
       "      <th>0</th>\n",
       "      <td>kBEdx</td>\n",
       "      <td>-15.001348</td>\n",
       "      <td>-8.276000</td>\n",
       "      <td>-0.005876</td>\n",
       "      <td>3.179103</td>\n",
       "    </tr>\n",
       "    <tr>\n",
       "      <th>1</th>\n",
       "      <td>62mP7</td>\n",
       "      <td>14.272088</td>\n",
       "      <td>-3.475083</td>\n",
       "      <td>0.999183</td>\n",
       "      <td>26.953261</td>\n",
       "    </tr>\n",
       "    <tr>\n",
       "      <th>2</th>\n",
       "      <td>vyE1P</td>\n",
       "      <td>6.263187</td>\n",
       "      <td>-5.948386</td>\n",
       "      <td>5.001160</td>\n",
       "      <td>134.766305</td>\n",
       "    </tr>\n",
       "    <tr>\n",
       "      <th>3</th>\n",
       "      <td>KcrkZ</td>\n",
       "      <td>-13.081196</td>\n",
       "      <td>-11.506057</td>\n",
       "      <td>4.999415</td>\n",
       "      <td>137.945408</td>\n",
       "    </tr>\n",
       "    <tr>\n",
       "      <th>4</th>\n",
       "      <td>AHL4O</td>\n",
       "      <td>12.702195</td>\n",
       "      <td>-8.147433</td>\n",
       "      <td>5.004363</td>\n",
       "      <td>134.766305</td>\n",
       "    </tr>\n",
       "  </tbody>\n",
       "</table>\n",
       "</div>"
      ],
      "text/plain": [
       "      id         f0         f1        f2     product\n",
       "0  kBEdx -15.001348  -8.276000 -0.005876    3.179103\n",
       "1  62mP7  14.272088  -3.475083  0.999183   26.953261\n",
       "2  vyE1P   6.263187  -5.948386  5.001160  134.766305\n",
       "3  KcrkZ -13.081196 -11.506057  4.999415  137.945408\n",
       "4  AHL4O  12.702195  -8.147433  5.004363  134.766305"
      ]
     },
     "metadata": {},
     "output_type": "display_data"
    },
    {
     "data": {
      "text/html": [
       "<div>\n",
       "<style scoped>\n",
       "    .dataframe tbody tr th:only-of-type {\n",
       "        vertical-align: middle;\n",
       "    }\n",
       "\n",
       "    .dataframe tbody tr th {\n",
       "        vertical-align: top;\n",
       "    }\n",
       "\n",
       "    .dataframe thead th {\n",
       "        text-align: right;\n",
       "    }\n",
       "</style>\n",
       "<table border=\"1\" class=\"dataframe\">\n",
       "  <thead>\n",
       "    <tr style=\"text-align: right;\">\n",
       "      <th></th>\n",
       "      <th>id</th>\n",
       "      <th>f0</th>\n",
       "      <th>f1</th>\n",
       "      <th>f2</th>\n",
       "      <th>product</th>\n",
       "    </tr>\n",
       "  </thead>\n",
       "  <tbody>\n",
       "    <tr>\n",
       "      <th>0</th>\n",
       "      <td>fwXo0</td>\n",
       "      <td>-1.146987</td>\n",
       "      <td>0.963328</td>\n",
       "      <td>-0.828965</td>\n",
       "      <td>27.758673</td>\n",
       "    </tr>\n",
       "    <tr>\n",
       "      <th>1</th>\n",
       "      <td>WJtFt</td>\n",
       "      <td>0.262778</td>\n",
       "      <td>0.269839</td>\n",
       "      <td>-2.530187</td>\n",
       "      <td>56.069697</td>\n",
       "    </tr>\n",
       "    <tr>\n",
       "      <th>2</th>\n",
       "      <td>ovLUW</td>\n",
       "      <td>0.194587</td>\n",
       "      <td>0.289035</td>\n",
       "      <td>-5.586433</td>\n",
       "      <td>62.871910</td>\n",
       "    </tr>\n",
       "    <tr>\n",
       "      <th>3</th>\n",
       "      <td>q6cA6</td>\n",
       "      <td>2.236060</td>\n",
       "      <td>-0.553760</td>\n",
       "      <td>0.930038</td>\n",
       "      <td>114.572842</td>\n",
       "    </tr>\n",
       "    <tr>\n",
       "      <th>4</th>\n",
       "      <td>WPMUX</td>\n",
       "      <td>-0.515993</td>\n",
       "      <td>1.716266</td>\n",
       "      <td>5.899011</td>\n",
       "      <td>149.600746</td>\n",
       "    </tr>\n",
       "  </tbody>\n",
       "</table>\n",
       "</div>"
      ],
      "text/plain": [
       "      id        f0        f1        f2     product\n",
       "0  fwXo0 -1.146987  0.963328 -0.828965   27.758673\n",
       "1  WJtFt  0.262778  0.269839 -2.530187   56.069697\n",
       "2  ovLUW  0.194587  0.289035 -5.586433   62.871910\n",
       "3  q6cA6  2.236060 -0.553760  0.930038  114.572842\n",
       "4  WPMUX -0.515993  1.716266  5.899011  149.600746"
      ]
     },
     "metadata": {},
     "output_type": "display_data"
    }
   ],
   "source": [
    "# Сохраняем информацию файлов в датафреймы и выводим на экран первые 5 строк каждого\n",
    "\n",
    "data0=pd.read_csv('/datasets/geo_data_0.csv')\n",
    "data1=pd.read_csv('/datasets/geo_data_1.csv')\n",
    "data2=pd.read_csv('/datasets/geo_data_2.csv')\n",
    "\n",
    "display(data0.head())\n",
    "display(data1.head())\n",
    "display(data2.head())"
   ]
  },
  {
   "cell_type": "code",
   "execution_count": 4,
   "metadata": {},
   "outputs": [
    {
     "name": "stdout",
     "output_type": "stream",
     "text": [
      "<class 'pandas.core.frame.DataFrame'>\n",
      "RangeIndex: 100000 entries, 0 to 99999\n",
      "Data columns (total 5 columns):\n",
      " #   Column   Non-Null Count   Dtype  \n",
      "---  ------   --------------   -----  \n",
      " 0   id       100000 non-null  object \n",
      " 1   f0       100000 non-null  float64\n",
      " 2   f1       100000 non-null  float64\n",
      " 3   f2       100000 non-null  float64\n",
      " 4   product  100000 non-null  float64\n",
      "dtypes: float64(4), object(1)\n",
      "memory usage: 3.8+ MB\n"
     ]
    },
    {
     "data": {
      "text/plain": [
       "None"
      ]
     },
     "metadata": {},
     "output_type": "display_data"
    },
    {
     "name": "stdout",
     "output_type": "stream",
     "text": [
      "<class 'pandas.core.frame.DataFrame'>\n",
      "RangeIndex: 100000 entries, 0 to 99999\n",
      "Data columns (total 5 columns):\n",
      " #   Column   Non-Null Count   Dtype  \n",
      "---  ------   --------------   -----  \n",
      " 0   id       100000 non-null  object \n",
      " 1   f0       100000 non-null  float64\n",
      " 2   f1       100000 non-null  float64\n",
      " 3   f2       100000 non-null  float64\n",
      " 4   product  100000 non-null  float64\n",
      "dtypes: float64(4), object(1)\n",
      "memory usage: 3.8+ MB\n"
     ]
    },
    {
     "data": {
      "text/plain": [
       "None"
      ]
     },
     "metadata": {},
     "output_type": "display_data"
    },
    {
     "name": "stdout",
     "output_type": "stream",
     "text": [
      "<class 'pandas.core.frame.DataFrame'>\n",
      "RangeIndex: 100000 entries, 0 to 99999\n",
      "Data columns (total 5 columns):\n",
      " #   Column   Non-Null Count   Dtype  \n",
      "---  ------   --------------   -----  \n",
      " 0   id       100000 non-null  object \n",
      " 1   f0       100000 non-null  float64\n",
      " 2   f1       100000 non-null  float64\n",
      " 3   f2       100000 non-null  float64\n",
      " 4   product  100000 non-null  float64\n",
      "dtypes: float64(4), object(1)\n",
      "memory usage: 3.8+ MB\n"
     ]
    },
    {
     "data": {
      "text/plain": [
       "None"
      ]
     },
     "metadata": {},
     "output_type": "display_data"
    }
   ],
   "source": [
    "# Изучаем общую информацию каждого датафрейма\n",
    "\n",
    "display(data0.info())\n",
    "display(data1.info())\n",
    "display(data2.info())"
   ]
  },
  {
   "cell_type": "code",
   "execution_count": 5,
   "metadata": {
    "scrolled": true
   },
   "outputs": [
    {
     "data": {
      "text/html": [
       "<div>\n",
       "<style scoped>\n",
       "    .dataframe tbody tr th:only-of-type {\n",
       "        vertical-align: middle;\n",
       "    }\n",
       "\n",
       "    .dataframe tbody tr th {\n",
       "        vertical-align: top;\n",
       "    }\n",
       "\n",
       "    .dataframe thead th {\n",
       "        text-align: right;\n",
       "    }\n",
       "</style>\n",
       "<table border=\"1\" class=\"dataframe\">\n",
       "  <thead>\n",
       "    <tr style=\"text-align: right;\">\n",
       "      <th></th>\n",
       "      <th>f0</th>\n",
       "      <th>f1</th>\n",
       "      <th>f2</th>\n",
       "      <th>product</th>\n",
       "    </tr>\n",
       "  </thead>\n",
       "  <tbody>\n",
       "    <tr>\n",
       "      <th>count</th>\n",
       "      <td>100000.000000</td>\n",
       "      <td>100000.000000</td>\n",
       "      <td>100000.000000</td>\n",
       "      <td>100000.000000</td>\n",
       "    </tr>\n",
       "    <tr>\n",
       "      <th>mean</th>\n",
       "      <td>0.500419</td>\n",
       "      <td>0.250143</td>\n",
       "      <td>2.502647</td>\n",
       "      <td>92.500000</td>\n",
       "    </tr>\n",
       "    <tr>\n",
       "      <th>std</th>\n",
       "      <td>0.871832</td>\n",
       "      <td>0.504433</td>\n",
       "      <td>3.248248</td>\n",
       "      <td>44.288691</td>\n",
       "    </tr>\n",
       "    <tr>\n",
       "      <th>min</th>\n",
       "      <td>-1.408605</td>\n",
       "      <td>-0.848218</td>\n",
       "      <td>-12.088328</td>\n",
       "      <td>0.000000</td>\n",
       "    </tr>\n",
       "    <tr>\n",
       "      <th>25%</th>\n",
       "      <td>-0.072580</td>\n",
       "      <td>-0.200881</td>\n",
       "      <td>0.287748</td>\n",
       "      <td>56.497507</td>\n",
       "    </tr>\n",
       "    <tr>\n",
       "      <th>50%</th>\n",
       "      <td>0.502360</td>\n",
       "      <td>0.250252</td>\n",
       "      <td>2.515969</td>\n",
       "      <td>91.849972</td>\n",
       "    </tr>\n",
       "    <tr>\n",
       "      <th>75%</th>\n",
       "      <td>1.073581</td>\n",
       "      <td>0.700646</td>\n",
       "      <td>4.715088</td>\n",
       "      <td>128.564089</td>\n",
       "    </tr>\n",
       "    <tr>\n",
       "      <th>max</th>\n",
       "      <td>2.362331</td>\n",
       "      <td>1.343769</td>\n",
       "      <td>16.003790</td>\n",
       "      <td>185.364347</td>\n",
       "    </tr>\n",
       "  </tbody>\n",
       "</table>\n",
       "</div>"
      ],
      "text/plain": [
       "                  f0             f1             f2        product\n",
       "count  100000.000000  100000.000000  100000.000000  100000.000000\n",
       "mean        0.500419       0.250143       2.502647      92.500000\n",
       "std         0.871832       0.504433       3.248248      44.288691\n",
       "min        -1.408605      -0.848218     -12.088328       0.000000\n",
       "25%        -0.072580      -0.200881       0.287748      56.497507\n",
       "50%         0.502360       0.250252       2.515969      91.849972\n",
       "75%         1.073581       0.700646       4.715088     128.564089\n",
       "max         2.362331       1.343769      16.003790     185.364347"
      ]
     },
     "metadata": {},
     "output_type": "display_data"
    },
    {
     "data": {
      "text/html": [
       "<div>\n",
       "<style scoped>\n",
       "    .dataframe tbody tr th:only-of-type {\n",
       "        vertical-align: middle;\n",
       "    }\n",
       "\n",
       "    .dataframe tbody tr th {\n",
       "        vertical-align: top;\n",
       "    }\n",
       "\n",
       "    .dataframe thead th {\n",
       "        text-align: right;\n",
       "    }\n",
       "</style>\n",
       "<table border=\"1\" class=\"dataframe\">\n",
       "  <thead>\n",
       "    <tr style=\"text-align: right;\">\n",
       "      <th></th>\n",
       "      <th>f0</th>\n",
       "      <th>f1</th>\n",
       "      <th>f2</th>\n",
       "      <th>product</th>\n",
       "    </tr>\n",
       "  </thead>\n",
       "  <tbody>\n",
       "    <tr>\n",
       "      <th>count</th>\n",
       "      <td>100000.000000</td>\n",
       "      <td>100000.000000</td>\n",
       "      <td>100000.000000</td>\n",
       "      <td>100000.000000</td>\n",
       "    </tr>\n",
       "    <tr>\n",
       "      <th>mean</th>\n",
       "      <td>1.141296</td>\n",
       "      <td>-4.796579</td>\n",
       "      <td>2.494541</td>\n",
       "      <td>68.825000</td>\n",
       "    </tr>\n",
       "    <tr>\n",
       "      <th>std</th>\n",
       "      <td>8.965932</td>\n",
       "      <td>5.119872</td>\n",
       "      <td>1.703572</td>\n",
       "      <td>45.944423</td>\n",
       "    </tr>\n",
       "    <tr>\n",
       "      <th>min</th>\n",
       "      <td>-31.609576</td>\n",
       "      <td>-26.358598</td>\n",
       "      <td>-0.018144</td>\n",
       "      <td>0.000000</td>\n",
       "    </tr>\n",
       "    <tr>\n",
       "      <th>25%</th>\n",
       "      <td>-6.298551</td>\n",
       "      <td>-8.267985</td>\n",
       "      <td>1.000021</td>\n",
       "      <td>26.953261</td>\n",
       "    </tr>\n",
       "    <tr>\n",
       "      <th>50%</th>\n",
       "      <td>1.153055</td>\n",
       "      <td>-4.813172</td>\n",
       "      <td>2.011479</td>\n",
       "      <td>57.085625</td>\n",
       "    </tr>\n",
       "    <tr>\n",
       "      <th>75%</th>\n",
       "      <td>8.621015</td>\n",
       "      <td>-1.332816</td>\n",
       "      <td>3.999904</td>\n",
       "      <td>107.813044</td>\n",
       "    </tr>\n",
       "    <tr>\n",
       "      <th>max</th>\n",
       "      <td>29.421755</td>\n",
       "      <td>18.734063</td>\n",
       "      <td>5.019721</td>\n",
       "      <td>137.945408</td>\n",
       "    </tr>\n",
       "  </tbody>\n",
       "</table>\n",
       "</div>"
      ],
      "text/plain": [
       "                  f0             f1             f2        product\n",
       "count  100000.000000  100000.000000  100000.000000  100000.000000\n",
       "mean        1.141296      -4.796579       2.494541      68.825000\n",
       "std         8.965932       5.119872       1.703572      45.944423\n",
       "min       -31.609576     -26.358598      -0.018144       0.000000\n",
       "25%        -6.298551      -8.267985       1.000021      26.953261\n",
       "50%         1.153055      -4.813172       2.011479      57.085625\n",
       "75%         8.621015      -1.332816       3.999904     107.813044\n",
       "max        29.421755      18.734063       5.019721     137.945408"
      ]
     },
     "metadata": {},
     "output_type": "display_data"
    },
    {
     "data": {
      "text/html": [
       "<div>\n",
       "<style scoped>\n",
       "    .dataframe tbody tr th:only-of-type {\n",
       "        vertical-align: middle;\n",
       "    }\n",
       "\n",
       "    .dataframe tbody tr th {\n",
       "        vertical-align: top;\n",
       "    }\n",
       "\n",
       "    .dataframe thead th {\n",
       "        text-align: right;\n",
       "    }\n",
       "</style>\n",
       "<table border=\"1\" class=\"dataframe\">\n",
       "  <thead>\n",
       "    <tr style=\"text-align: right;\">\n",
       "      <th></th>\n",
       "      <th>f0</th>\n",
       "      <th>f1</th>\n",
       "      <th>f2</th>\n",
       "      <th>product</th>\n",
       "    </tr>\n",
       "  </thead>\n",
       "  <tbody>\n",
       "    <tr>\n",
       "      <th>count</th>\n",
       "      <td>100000.000000</td>\n",
       "      <td>100000.000000</td>\n",
       "      <td>100000.000000</td>\n",
       "      <td>100000.000000</td>\n",
       "    </tr>\n",
       "    <tr>\n",
       "      <th>mean</th>\n",
       "      <td>0.002023</td>\n",
       "      <td>-0.002081</td>\n",
       "      <td>2.495128</td>\n",
       "      <td>95.000000</td>\n",
       "    </tr>\n",
       "    <tr>\n",
       "      <th>std</th>\n",
       "      <td>1.732045</td>\n",
       "      <td>1.730417</td>\n",
       "      <td>3.473445</td>\n",
       "      <td>44.749921</td>\n",
       "    </tr>\n",
       "    <tr>\n",
       "      <th>min</th>\n",
       "      <td>-8.760004</td>\n",
       "      <td>-7.084020</td>\n",
       "      <td>-11.970335</td>\n",
       "      <td>0.000000</td>\n",
       "    </tr>\n",
       "    <tr>\n",
       "      <th>25%</th>\n",
       "      <td>-1.162288</td>\n",
       "      <td>-1.174820</td>\n",
       "      <td>0.130359</td>\n",
       "      <td>59.450441</td>\n",
       "    </tr>\n",
       "    <tr>\n",
       "      <th>50%</th>\n",
       "      <td>0.009424</td>\n",
       "      <td>-0.009482</td>\n",
       "      <td>2.484236</td>\n",
       "      <td>94.925613</td>\n",
       "    </tr>\n",
       "    <tr>\n",
       "      <th>75%</th>\n",
       "      <td>1.158535</td>\n",
       "      <td>1.163678</td>\n",
       "      <td>4.858794</td>\n",
       "      <td>130.595027</td>\n",
       "    </tr>\n",
       "    <tr>\n",
       "      <th>max</th>\n",
       "      <td>7.238262</td>\n",
       "      <td>7.844801</td>\n",
       "      <td>16.739402</td>\n",
       "      <td>190.029838</td>\n",
       "    </tr>\n",
       "  </tbody>\n",
       "</table>\n",
       "</div>"
      ],
      "text/plain": [
       "                  f0             f1             f2        product\n",
       "count  100000.000000  100000.000000  100000.000000  100000.000000\n",
       "mean        0.002023      -0.002081       2.495128      95.000000\n",
       "std         1.732045       1.730417       3.473445      44.749921\n",
       "min        -8.760004      -7.084020     -11.970335       0.000000\n",
       "25%        -1.162288      -1.174820       0.130359      59.450441\n",
       "50%         0.009424      -0.009482       2.484236      94.925613\n",
       "75%         1.158535       1.163678       4.858794     130.595027\n",
       "max         7.238262       7.844801      16.739402     190.029838"
      ]
     },
     "metadata": {},
     "output_type": "display_data"
    }
   ],
   "source": [
    "# Получаем сводку числовых значений для каждого нашего датафрейма\n",
    "\n",
    "display(data0.describe())\n",
    "display(data1.describe())\n",
    "display(data2.describe())"
   ]
  },
  {
   "cell_type": "code",
   "execution_count": 6,
   "metadata": {},
   "outputs": [
    {
     "data": {
      "text/plain": [
       "0"
      ]
     },
     "metadata": {},
     "output_type": "display_data"
    },
    {
     "data": {
      "text/plain": [
       "0"
      ]
     },
     "metadata": {},
     "output_type": "display_data"
    },
    {
     "data": {
      "text/plain": [
       "0"
      ]
     },
     "metadata": {},
     "output_type": "display_data"
    }
   ],
   "source": [
    "# Проверяем наличие явных дубликатов\n",
    "\n",
    "display(data0.duplicated().sum())\n",
    "display(data1.duplicated().sum())\n",
    "display(data2.duplicated().sum())"
   ]
  },
  {
   "cell_type": "code",
   "execution_count": 7,
   "metadata": {},
   "outputs": [
    {
     "data": {
      "text/plain": [
       "id          99990\n",
       "f0         100000\n",
       "f1         100000\n",
       "f2         100000\n",
       "product    100000\n",
       "dtype: int64"
      ]
     },
     "metadata": {},
     "output_type": "display_data"
    },
    {
     "data": {
      "text/plain": [
       "id          99996\n",
       "f0         100000\n",
       "f1         100000\n",
       "f2         100000\n",
       "product        12\n",
       "dtype: int64"
      ]
     },
     "metadata": {},
     "output_type": "display_data"
    },
    {
     "data": {
      "text/plain": [
       "id          99996\n",
       "f0         100000\n",
       "f1         100000\n",
       "f2         100000\n",
       "product    100000\n",
       "dtype: int64"
      ]
     },
     "metadata": {},
     "output_type": "display_data"
    }
   ],
   "source": [
    "display(data0.nunique())\n",
    "display(data1.nunique())\n",
    "display(data2.nunique())"
   ]
  },
  {
   "cell_type": "code",
   "execution_count": 8,
   "metadata": {},
   "outputs": [
    {
     "data": {
      "text/plain": [
       "QcMuo    2\n",
       "74z30    2\n",
       "A5aEY    2\n",
       "HZww2    2\n",
       "Tdehs    2\n",
       "        ..\n",
       "tJixR    1\n",
       "OUYI3    1\n",
       "iXvMn    1\n",
       "xd1Kt    1\n",
       "V3PKm    1\n",
       "Name: id, Length: 99990, dtype: int64"
      ]
     },
     "execution_count": 8,
     "metadata": {},
     "output_type": "execute_result"
    }
   ],
   "source": [
    "data0['id'].value_counts()"
   ]
  },
  {
   "cell_type": "code",
   "execution_count": 9,
   "metadata": {},
   "outputs": [
    {
     "data": {
      "text/html": [
       "<div>\n",
       "<style scoped>\n",
       "    .dataframe tbody tr th:only-of-type {\n",
       "        vertical-align: middle;\n",
       "    }\n",
       "\n",
       "    .dataframe tbody tr th {\n",
       "        vertical-align: top;\n",
       "    }\n",
       "\n",
       "    .dataframe thead th {\n",
       "        text-align: right;\n",
       "    }\n",
       "</style>\n",
       "<table border=\"1\" class=\"dataframe\">\n",
       "  <thead>\n",
       "    <tr style=\"text-align: right;\">\n",
       "      <th></th>\n",
       "      <th>id</th>\n",
       "      <th>f0</th>\n",
       "      <th>f1</th>\n",
       "      <th>f2</th>\n",
       "      <th>product</th>\n",
       "    </tr>\n",
       "  </thead>\n",
       "  <tbody>\n",
       "    <tr>\n",
       "      <th>1364</th>\n",
       "      <td>bxg6G</td>\n",
       "      <td>0.411645</td>\n",
       "      <td>0.856830</td>\n",
       "      <td>-3.653440</td>\n",
       "      <td>73.604260</td>\n",
       "    </tr>\n",
       "    <tr>\n",
       "      <th>41724</th>\n",
       "      <td>bxg6G</td>\n",
       "      <td>-0.823752</td>\n",
       "      <td>0.546319</td>\n",
       "      <td>3.630479</td>\n",
       "      <td>93.007798</td>\n",
       "    </tr>\n",
       "  </tbody>\n",
       "</table>\n",
       "</div>"
      ],
      "text/plain": [
       "          id        f0        f1        f2    product\n",
       "1364   bxg6G  0.411645  0.856830 -3.653440  73.604260\n",
       "41724  bxg6G -0.823752  0.546319  3.630479  93.007798"
      ]
     },
     "execution_count": 9,
     "metadata": {},
     "output_type": "execute_result"
    }
   ],
   "source": [
    "data0[data0['id'] == 'bxg6G']"
   ]
  },
  {
   "cell_type": "markdown",
   "metadata": {},
   "source": [
    "Пропущенных значений нет, дубликатов нет, стобцы имеют корректное наименование. Смущают лишь повторяющиеся значения в столбце id, но, т.к. данные в строках разные - убирать их не будем. Уберем лишь сам столбец с id, т.к. он не нужен для обучения модели.\n",
    "\n",
    "Можно приступать к работе."
   ]
  },
  {
   "cell_type": "code",
   "execution_count": 10,
   "metadata": {},
   "outputs": [
    {
     "data": {
      "text/html": [
       "<div>\n",
       "<style scoped>\n",
       "    .dataframe tbody tr th:only-of-type {\n",
       "        vertical-align: middle;\n",
       "    }\n",
       "\n",
       "    .dataframe tbody tr th {\n",
       "        vertical-align: top;\n",
       "    }\n",
       "\n",
       "    .dataframe thead th {\n",
       "        text-align: right;\n",
       "    }\n",
       "</style>\n",
       "<table border=\"1\" class=\"dataframe\">\n",
       "  <thead>\n",
       "    <tr style=\"text-align: right;\">\n",
       "      <th></th>\n",
       "      <th>f0</th>\n",
       "      <th>f1</th>\n",
       "      <th>f2</th>\n",
       "      <th>product</th>\n",
       "    </tr>\n",
       "  </thead>\n",
       "  <tbody>\n",
       "    <tr>\n",
       "      <th>f0</th>\n",
       "      <td>1.000000</td>\n",
       "      <td>-0.440723</td>\n",
       "      <td>-0.003153</td>\n",
       "      <td>0.143536</td>\n",
       "    </tr>\n",
       "    <tr>\n",
       "      <th>f1</th>\n",
       "      <td>-0.440723</td>\n",
       "      <td>1.000000</td>\n",
       "      <td>0.001724</td>\n",
       "      <td>-0.192356</td>\n",
       "    </tr>\n",
       "    <tr>\n",
       "      <th>f2</th>\n",
       "      <td>-0.003153</td>\n",
       "      <td>0.001724</td>\n",
       "      <td>1.000000</td>\n",
       "      <td>0.483663</td>\n",
       "    </tr>\n",
       "    <tr>\n",
       "      <th>product</th>\n",
       "      <td>0.143536</td>\n",
       "      <td>-0.192356</td>\n",
       "      <td>0.483663</td>\n",
       "      <td>1.000000</td>\n",
       "    </tr>\n",
       "  </tbody>\n",
       "</table>\n",
       "</div>"
      ],
      "text/plain": [
       "               f0        f1        f2   product\n",
       "f0       1.000000 -0.440723 -0.003153  0.143536\n",
       "f1      -0.440723  1.000000  0.001724 -0.192356\n",
       "f2      -0.003153  0.001724  1.000000  0.483663\n",
       "product  0.143536 -0.192356  0.483663  1.000000"
      ]
     },
     "metadata": {},
     "output_type": "display_data"
    },
    {
     "data": {
      "text/html": [
       "<div>\n",
       "<style scoped>\n",
       "    .dataframe tbody tr th:only-of-type {\n",
       "        vertical-align: middle;\n",
       "    }\n",
       "\n",
       "    .dataframe tbody tr th {\n",
       "        vertical-align: top;\n",
       "    }\n",
       "\n",
       "    .dataframe thead th {\n",
       "        text-align: right;\n",
       "    }\n",
       "</style>\n",
       "<table border=\"1\" class=\"dataframe\">\n",
       "  <thead>\n",
       "    <tr style=\"text-align: right;\">\n",
       "      <th></th>\n",
       "      <th>f0</th>\n",
       "      <th>f1</th>\n",
       "      <th>f2</th>\n",
       "      <th>product</th>\n",
       "    </tr>\n",
       "  </thead>\n",
       "  <tbody>\n",
       "    <tr>\n",
       "      <th>f0</th>\n",
       "      <td>1.000000</td>\n",
       "      <td>0.182287</td>\n",
       "      <td>-0.001777</td>\n",
       "      <td>-0.030491</td>\n",
       "    </tr>\n",
       "    <tr>\n",
       "      <th>f1</th>\n",
       "      <td>0.182287</td>\n",
       "      <td>1.000000</td>\n",
       "      <td>-0.002595</td>\n",
       "      <td>-0.010155</td>\n",
       "    </tr>\n",
       "    <tr>\n",
       "      <th>f2</th>\n",
       "      <td>-0.001777</td>\n",
       "      <td>-0.002595</td>\n",
       "      <td>1.000000</td>\n",
       "      <td>0.999397</td>\n",
       "    </tr>\n",
       "    <tr>\n",
       "      <th>product</th>\n",
       "      <td>-0.030491</td>\n",
       "      <td>-0.010155</td>\n",
       "      <td>0.999397</td>\n",
       "      <td>1.000000</td>\n",
       "    </tr>\n",
       "  </tbody>\n",
       "</table>\n",
       "</div>"
      ],
      "text/plain": [
       "               f0        f1        f2   product\n",
       "f0       1.000000  0.182287 -0.001777 -0.030491\n",
       "f1       0.182287  1.000000 -0.002595 -0.010155\n",
       "f2      -0.001777 -0.002595  1.000000  0.999397\n",
       "product -0.030491 -0.010155  0.999397  1.000000"
      ]
     },
     "metadata": {},
     "output_type": "display_data"
    },
    {
     "data": {
      "text/html": [
       "<div>\n",
       "<style scoped>\n",
       "    .dataframe tbody tr th:only-of-type {\n",
       "        vertical-align: middle;\n",
       "    }\n",
       "\n",
       "    .dataframe tbody tr th {\n",
       "        vertical-align: top;\n",
       "    }\n",
       "\n",
       "    .dataframe thead th {\n",
       "        text-align: right;\n",
       "    }\n",
       "</style>\n",
       "<table border=\"1\" class=\"dataframe\">\n",
       "  <thead>\n",
       "    <tr style=\"text-align: right;\">\n",
       "      <th></th>\n",
       "      <th>f0</th>\n",
       "      <th>f1</th>\n",
       "      <th>f2</th>\n",
       "      <th>product</th>\n",
       "    </tr>\n",
       "  </thead>\n",
       "  <tbody>\n",
       "    <tr>\n",
       "      <th>f0</th>\n",
       "      <td>1.000000</td>\n",
       "      <td>0.000528</td>\n",
       "      <td>-0.000448</td>\n",
       "      <td>-0.001987</td>\n",
       "    </tr>\n",
       "    <tr>\n",
       "      <th>f1</th>\n",
       "      <td>0.000528</td>\n",
       "      <td>1.000000</td>\n",
       "      <td>0.000779</td>\n",
       "      <td>-0.001012</td>\n",
       "    </tr>\n",
       "    <tr>\n",
       "      <th>f2</th>\n",
       "      <td>-0.000448</td>\n",
       "      <td>0.000779</td>\n",
       "      <td>1.000000</td>\n",
       "      <td>0.445871</td>\n",
       "    </tr>\n",
       "    <tr>\n",
       "      <th>product</th>\n",
       "      <td>-0.001987</td>\n",
       "      <td>-0.001012</td>\n",
       "      <td>0.445871</td>\n",
       "      <td>1.000000</td>\n",
       "    </tr>\n",
       "  </tbody>\n",
       "</table>\n",
       "</div>"
      ],
      "text/plain": [
       "               f0        f1        f2   product\n",
       "f0       1.000000  0.000528 -0.000448 -0.001987\n",
       "f1       0.000528  1.000000  0.000779 -0.001012\n",
       "f2      -0.000448  0.000779  1.000000  0.445871\n",
       "product -0.001987 -0.001012  0.445871  1.000000"
      ]
     },
     "metadata": {},
     "output_type": "display_data"
    }
   ],
   "source": [
    "# Посмотрим на корреляцию признаков\n",
    "\n",
    "display(data0.corr())\n",
    "display(data1.corr())\n",
    "display(data2.corr())"
   ]
  },
  {
   "cell_type": "markdown",
   "metadata": {},
   "source": [
    "По полученным значениям можно сделать вывод:\n",
    "* f0 и f1 практически никак не коррелируют\n",
    "* f2 у первого и третьего региона имеет слабую корреляционную связь\n",
    "* f2 у второго региона показывает очень сильную корреляцию с объемами запасов в скважине"
   ]
  },
  {
   "cell_type": "markdown",
   "metadata": {},
   "source": [
    "## Обучение и проверка модели"
   ]
  },
  {
   "cell_type": "code",
   "execution_count": 11,
   "metadata": {},
   "outputs": [],
   "source": [
    "# Начинаем делить данные на две выборки - обучающую и валидационную в соотношении 75:25\n",
    "\n",
    "data0_train, data0_valid = train_test_split(data0, test_size=0.25, random_state=12345)\n",
    "data1_train, data1_valid = train_test_split(data1, test_size=0.25, random_state=12345)\n",
    "data2_train, data2_valid = train_test_split(data2, test_size=0.25, random_state=12345)"
   ]
  },
  {
   "cell_type": "code",
   "execution_count": 12,
   "metadata": {},
   "outputs": [],
   "source": [
    "# Создаем переменные с признаками и переменные с целевым признаком\n",
    "\n",
    "features_train0 = data0_train.drop(['id', 'product'], axis=1)\n",
    "target_train0 = data0_train['product']\n",
    "features_valid0 = data0_valid.drop(['id', 'product'], axis=1)\n",
    "target_valid0 = data0_valid['product']\n",
    "\n",
    "features_train1 = data1_train.drop(['id', 'product'], axis=1)\n",
    "target_train1 = data1_train['product']\n",
    "features_valid1 = data1_valid.drop(['id', 'product'], axis=1)\n",
    "target_valid1 = data1_valid['product']\n",
    "\n",
    "features_train2 = data2_train.drop(['id', 'product'], axis=1)\n",
    "target_train2 = data2_train['product']\n",
    "features_valid2 = data2_valid.drop(['id', 'product'], axis=1)\n",
    "target_valid2 = data2_valid['product']"
   ]
  },
  {
   "cell_type": "code",
   "execution_count": 13,
   "metadata": {},
   "outputs": [
    {
     "name": "stdout",
     "output_type": "stream",
     "text": [
      "data0_train: (75000, 3)\n",
      "(75000,)\n",
      "data0_valid (25000, 3)\n",
      "(25000,)\n",
      "\n",
      "data1_train: (75000, 3)\n",
      "(75000,)\n",
      "data1_valid (25000, 3)\n",
      "(25000,)\n",
      "\n",
      "data2_train: (75000, 3)\n",
      "(75000,)\n",
      "data2_valid (25000, 3)\n",
      "(25000,)\n"
     ]
    }
   ],
   "source": [
    "# Проверяем методом shape\n",
    "\n",
    "print('data0_train:', features_train0.shape)\n",
    "print(target_train0.shape)\n",
    "print('data0_valid', features_valid0.shape)\n",
    "print(target_valid0.shape)\n",
    "print()\n",
    "print('data1_train:', features_train1.shape)\n",
    "print(target_train1.shape)\n",
    "print('data1_valid', features_valid1.shape)\n",
    "print(target_valid1.shape)\n",
    "print()\n",
    "print('data2_train:', features_train2.shape)\n",
    "print(target_train2.shape)\n",
    "print('data2_valid', features_valid2.shape)\n",
    "print(target_valid2.shape)"
   ]
  },
  {
   "cell_type": "code",
   "execution_count": 14,
   "metadata": {},
   "outputs": [
    {
     "name": "stdout",
     "output_type": "stream",
     "text": [
      "Средний предсказанный запас сырья 92.59256778438035\n",
      "Средний фактический запас сырья 92.07859674082927\n",
      "RMSE модели на валидационной выборке: 37.5794217150813\n"
     ]
    }
   ],
   "source": [
    "# Первый регион\n",
    "\n",
    "model = LinearRegression() # Создаем модель линейной регрессии\n",
    "model.fit(features_train0,target_train0) # обучение модели на тренировочной выборке\n",
    "predictions_valid = model.predict(features_valid0) # Предсказания модели\n",
    "\n",
    "# Считаем средний предсказанный запас сырья \n",
    "data0_pred_mean = predictions_valid.mean()\n",
    "\n",
    "# Считаем RMSE\n",
    "result = mean_squared_error(target_valid0,predictions_valid)**0.5\n",
    "\n",
    "# предсказания модели на валидационной выборке и сохраняем результат\n",
    "# в отдельной переменной\n",
    "data0_predictions_valid = model.predict(features_valid0)\n",
    "\n",
    "print('Средний предсказанный запас сырья', data0_pred_mean)\n",
    "print('Средний фактический запас сырья', target_valid0.mean())\n",
    "print('RMSE модели на валидационной выборке:', result)"
   ]
  },
  {
   "cell_type": "code",
   "execution_count": 15,
   "metadata": {},
   "outputs": [
    {
     "name": "stdout",
     "output_type": "stream",
     "text": [
      "Средний предсказанный запас сырья 68.728546895446\n",
      "Средний фактический запас сырья 68.72313602435997\n",
      "RMSE модели на валидационной выборке: 0.893099286775617\n"
     ]
    }
   ],
   "source": [
    "#Второй регион\n",
    "\n",
    "model = LinearRegression()\n",
    "model.fit(features_train1,target_train1)\n",
    "predictions_valid = model.predict(features_valid1)\n",
    "data1_pred_mean=predictions_valid.mean()\n",
    "result = mean_squared_error(target_valid1,predictions_valid)**0.5\n",
    "data1_predictions_valid = model.predict(features_valid1)\n",
    "\n",
    "print('Средний предсказанный запас сырья', data1_pred_mean)\n",
    "print('Средний фактический запас сырья', target_valid1.mean())\n",
    "print('RMSE модели на валидационной выборке:', result)"
   ]
  },
  {
   "cell_type": "code",
   "execution_count": 16,
   "metadata": {},
   "outputs": [
    {
     "name": "stdout",
     "output_type": "stream",
     "text": [
      "Средний предсказанный запас сырья 94.96504596800489\n",
      "Средний фактический запас сырья 94.88423280885438\n",
      "RMSE модели на валидационной выборке: 40.02970873393434\n"
     ]
    }
   ],
   "source": [
    "#Третий регион\n",
    "\n",
    "model = LinearRegression()\n",
    "model.fit(features_train2,target_train2)\n",
    "predictions_valid = model.predict(features_valid2)\n",
    "data2_pred_mean=predictions_valid.mean()\n",
    "result = mean_squared_error(target_valid2,predictions_valid)**0.5\n",
    "data2_predictions_valid = model.predict(features_valid2)\n",
    "\n",
    "print('Средний предсказанный запас сырья', data2_pred_mean)\n",
    "print('Средний фактический запас сырья', target_valid2.mean())\n",
    "print('RMSE модели на валидационной выборке:', result)"
   ]
  },
  {
   "cell_type": "code",
   "execution_count": 17,
   "metadata": {},
   "outputs": [],
   "source": [
    "def LR (features_train, target_train, features_valid, target_valid):\n",
    "    model = LinearRegression()\n",
    "    model.fit(features_train, target_train)\n",
    "    predictions_valid = model.predict(features_valid)\n",
    "    data_pred_mean = predictions_valid.mean()\n",
    "    result = mean_squared_error(target_valid, predictions_valid) ** 0.5\n",
    "    data_predictions_valid = model.predict(features_valid)\n",
    "    \n",
    "    print('Средний предсказанный запас сырья', data_pred_mean)\n",
    "    print('Средний фактический запас сырья', target_valid.mean())\n",
    "    print('RMSE модели на валидационной выборке:', result)\n",
    "    return"
   ]
  },
  {
   "cell_type": "code",
   "execution_count": 18,
   "metadata": {},
   "outputs": [
    {
     "name": "stdout",
     "output_type": "stream",
     "text": [
      "Средний предсказанный запас сырья 92.59256778438035\n",
      "Средний фактический запас сырья 92.07859674082927\n",
      "RMSE модели на валидационной выборке: 37.5794217150813\n",
      "None\n"
     ]
    }
   ],
   "source": [
    "print(LR(features_train0, target_train0, features_valid0, target_valid0))"
   ]
  },
  {
   "cell_type": "code",
   "execution_count": 19,
   "metadata": {
    "scrolled": true
   },
   "outputs": [
    {
     "name": "stdout",
     "output_type": "stream",
     "text": [
      "Средний предсказанный запас сырья 68.728546895446\n",
      "Средний фактический запас сырья 68.72313602435997\n",
      "RMSE модели на валидационной выборке: 0.893099286775617\n",
      "None\n"
     ]
    }
   ],
   "source": [
    "print(LR(features_train1, target_train1, features_valid1, target_valid1))"
   ]
  },
  {
   "cell_type": "code",
   "execution_count": 20,
   "metadata": {},
   "outputs": [
    {
     "name": "stdout",
     "output_type": "stream",
     "text": [
      "Средний предсказанный запас сырья 94.96504596800489\n",
      "Средний фактический запас сырья 94.88423280885438\n",
      "RMSE модели на валидационной выборке: 40.02970873393434\n",
      "None\n"
     ]
    }
   ],
   "source": [
    "print(LR(features_train2, target_train2, features_valid2, target_valid2))"
   ]
  },
  {
   "cell_type": "markdown",
   "metadata": {},
   "source": [
    "Основываясь на полученных данных, мы видим, что у второго региона средний запас сырья сильно уступает двум другим, но при этом у него самый маленький показатель RMSE. Самый худший показатель RMSE - `40` у третьего региона."
   ]
  },
  {
   "cell_type": "markdown",
   "metadata": {},
   "source": [
    "## Подготовка к расчёту прибыли"
   ]
  },
  {
   "cell_type": "code",
   "execution_count": 21,
   "metadata": {},
   "outputs": [
    {
     "name": "stdout",
     "output_type": "stream",
     "text": [
      "Бюджет: 50000000.0\n",
      "Необходимое количество для окупаемости: 111.11111111111111 тыс. барр.\n",
      "Объём сырья для безубыточной разработки новой скважины в первом регионе: 19.032514370281845\n",
      "Объём сырья для безубыточной разработки новой скважины во втором регионе: 42.38797508675114\n",
      "Объём сырья для безубыточной разработки новой скважины в третьем регионе: 16.226878302256736\n"
     ]
    }
   ],
   "source": [
    "# Бюджет\n",
    "print('Бюджет:', BUDGET)\n",
    "\n",
    "# Сколько нужно тысяч баррелей для того, чтобы окупить затраты\n",
    "print('Необходимое количество для окупаемости:', COUNT_BARR, 'тыс. барр.')\n",
    "\n",
    "# Средний истинный запас сырья в регионах, тыс. баррелей\n",
    "data0_mean = 92.07859674082927\n",
    "data1_mean = 68.72313602435997\n",
    "data2_mean = 94.88423280885438\n",
    "print('Объём сырья для безубыточной разработки новой скважины в первом регионе:', COUNT_BARR - data0_mean)\n",
    "print('Объём сырья для безубыточной разработки новой скважины во втором регионе:', COUNT_BARR - data1_mean)\n",
    "print('Объём сырья для безубыточной разработки новой скважины в третьем регионе:', COUNT_BARR - data2_mean)"
   ]
  },
  {
   "cell_type": "markdown",
   "metadata": {},
   "source": [
    "* Чтобы была окупаемость - необходимо выбрать скважины с запасом более 111 тыс. баррелей.\n",
    "* Второй регион выглядит затратным"
   ]
  },
  {
   "cell_type": "markdown",
   "metadata": {},
   "source": [
    "## Расчёт прибыли и рисков "
   ]
  },
  {
   "cell_type": "code",
   "execution_count": 22,
   "metadata": {},
   "outputs": [],
   "source": [
    "pd.options.mode.chained_assignment = None # Чтобы не появлялось предупреждение"
   ]
  },
  {
   "cell_type": "code",
   "execution_count": 23,
   "metadata": {},
   "outputs": [],
   "source": [
    "# Cоздам функцию по расчету прибыли\n",
    "\n",
    "# def profit(target, predictions, count):\n",
    "#     profit = 0\n",
    "#     probs_sorted = predictions.sort_values(ascending=False).head(200)\n",
    "#     selected = target[probs_sorted.index][:count] \n",
    "#     for top in selected:\n",
    "#         profit += (top - COUNT_BARR)*450000\n",
    "#     return profit"
   ]
  },
  {
   "cell_type": "code",
   "execution_count": 24,
   "metadata": {},
   "outputs": [],
   "source": [
    "def profit(target, predictions, count):\n",
    "    profit = 0\n",
    "    probs_sorted = predictions.sort_values(ascending=False).head(200)\n",
    "    selected = target[probs_sorted.index][:count] \n",
    "    profit += ((selected - COUNT_BARR) * 450000).sum()\n",
    "    \n",
    "    return profit"
   ]
  },
  {
   "cell_type": "code",
   "execution_count": 25,
   "metadata": {},
   "outputs": [
    {
     "name": "stdout",
     "output_type": "stream",
     "text": [
      "Прибиыльность 200 лучших скважин валидационной выборки 3321 млн.\n"
     ]
    }
   ],
   "source": [
    "data0_valid['product_pred'] = data0_predictions_valid\n",
    "data0_valid.reset_index(drop=True, inplace=True)\n",
    "profit0 = profit(data0_valid['product'], data0_valid['product_pred'], 200)\n",
    "print('Прибиыльность 200 лучших скважин валидационной выборки', round(profit0/1000000), 'млн.')"
   ]
  },
  {
   "cell_type": "code",
   "execution_count": 26,
   "metadata": {},
   "outputs": [
    {
     "name": "stdout",
     "output_type": "stream",
     "text": [
      "Прибиыльность 200 лучших скважин валидационной выборки 2415 млн.\n"
     ]
    }
   ],
   "source": [
    "data1_valid['product_pred']=data1_predictions_valid\n",
    "data1_valid.reset_index(drop=True, inplace=True)\n",
    "profit1=profit(data1_valid['product'], data1_valid['product_pred'],200)\n",
    "print('Прибиыльность 200 лучших скважин валидационной выборки', round(profit1/1000000), 'млн.')"
   ]
  },
  {
   "cell_type": "code",
   "execution_count": 27,
   "metadata": {},
   "outputs": [
    {
     "name": "stdout",
     "output_type": "stream",
     "text": [
      "Прибиыльность 200 лучших скважин валидационной выборки 2710 млн.\n"
     ]
    }
   ],
   "source": [
    "data2_valid['product_pred']=data2_predictions_valid\n",
    "data2_valid.reset_index(drop=True, inplace=True)\n",
    "profit2=profit(data2_valid['product'], data2_valid['product_pred'],200)\n",
    "print('Прибиыльность 200 лучших скважин валидационной выборки', round(profit2/1000000), 'млн.')"
   ]
  },
  {
   "cell_type": "code",
   "execution_count": 28,
   "metadata": {
    "scrolled": true
   },
   "outputs": [
    {
     "name": "stdout",
     "output_type": "stream",
     "text": [
      "Для первого региона\n",
      "Вероятность убытков 6.9 %\n",
      "Среднее значение bootstrap 396.16498480237084 млн.\n",
      "Верхняя граница доверительного интервала 909766941.5534226\n",
      "Нижняя граница доверительного интервала -111215545.89049557\n",
      "\n",
      "\n",
      "Для второго региона\n",
      "Вероятность убытков 1.5 %\n",
      "Среднее значение bootstrap 456.04510578666026 млн.\n",
      "Верхняя граница доверительного интервала 852289453.866034\n",
      "Нижняя граница доверительного интервала 33820509.39898549\n",
      "\n",
      "\n",
      "Для третьего региона\n",
      "Вероятность убытков 7.6000000000000005 %\n",
      "Среднее значение bootstrap 404.4038665683566 млн.\n",
      "Верхняя граница доверительного интервала 950359574.9237998\n",
      "Нижняя граница доверительного интервала -163350413.39560002\n",
      "\n"
     ]
    }
   ],
   "source": [
    "# Создадим функцию, которая найдет 500 случайных точек и выберет из них 200 лучших 1000 раз\n",
    "\n",
    "def bootstrap (target, predictions):\n",
    "    state = np.random.RandomState(12345)\n",
    "    values = []\n",
    "    counter=0\n",
    "    for i in range(1000):\n",
    "        target_subsample = target.sample(n=500, replace=True, random_state=state)\n",
    "        preds_subsample = predictions[target_subsample.index]\n",
    "        target_subsample.reset_index(drop=True, inplace=True)\n",
    "        preds_subsample.reset_index(drop=True, inplace=True)\n",
    "        values.append(profit(target_subsample, preds_subsample, 200))\n",
    "        \n",
    "    values = pd.Series(values)\n",
    "    lower = values.quantile(0.025)\n",
    "    higher = values.quantile(0.975)\n",
    "    \n",
    "   \n",
    "    \n",
    "    print('Вероятность убытков',stats.percentileofscore(values, 0),'%')\n",
    "    print('Среднее значение bootstrap', (values.mean())/1000000, 'млн.')\n",
    "    print('Верхняя граница доверительного интервала', higher)\n",
    "    print('Нижняя граница доверительного интервала', lower)\n",
    "    print()\n",
    "        \n",
    "print('Для первого региона')\n",
    "bootstrap(data0_valid['product'], data0_valid['product_pred'])\n",
    "print()\n",
    "print('Для второго региона')\n",
    "bootstrap(data1_valid['product'], data1_valid['product_pred'])\n",
    "print()\n",
    "print('Для третьего региона')\n",
    "bootstrap(data2_valid['product'], data2_valid['product_pred'])"
   ]
  },
  {
   "cell_type": "markdown",
   "metadata": {},
   "source": [
    "## Общий вывод:"
   ]
  },
  {
   "cell_type": "markdown",
   "metadata": {},
   "source": [
    "* У первого региона больше всего скважин с лучшими запасами. Он показал прибыль в `3.4` млрд.\n",
    "* У второго региона меньше всего вероятность понести убытки - всего `1.5%`\n",
    "* Третий регион имеет наибольшую, среди остальных, верхнюю границу доверительного интервала.\n",
    "\n",
    "На основании проведенного исследования отметим, что подходит под поставленные условия задачи бизнеса только второй регион, т.к. вероятность убытка только у него `>2.5%`"
   ]
  }
 ],
 "metadata": {
  "ExecuteTimeLog": [
   {
    "duration": 1014,
    "start_time": "2022-09-09T12:19:42.852Z"
   },
   {
    "duration": 428,
    "start_time": "2022-09-09T12:19:57.451Z"
   },
   {
    "duration": 598,
    "start_time": "2022-09-09T12:20:31.668Z"
   },
   {
    "duration": 107,
    "start_time": "2022-09-09T12:20:51.746Z"
   },
   {
    "duration": 13,
    "start_time": "2022-09-09T12:21:19.064Z"
   },
   {
    "duration": 38,
    "start_time": "2022-09-09T12:21:36.151Z"
   },
   {
    "duration": 113,
    "start_time": "2022-09-09T12:22:23.974Z"
   },
   {
    "duration": 10,
    "start_time": "2022-09-09T12:23:11.930Z"
   },
   {
    "duration": 53,
    "start_time": "2022-09-09T12:23:23.430Z"
   },
   {
    "duration": 43,
    "start_time": "2022-09-09T12:23:32.548Z"
   },
   {
    "duration": 134,
    "start_time": "2022-09-09T12:23:43.364Z"
   },
   {
    "duration": 44,
    "start_time": "2022-09-09T12:25:13.076Z"
   },
   {
    "duration": 13,
    "start_time": "2022-09-09T12:25:49.291Z"
   },
   {
    "duration": 5,
    "start_time": "2022-09-09T12:26:17.840Z"
   },
   {
    "duration": 7,
    "start_time": "2022-09-09T12:27:14.825Z"
   },
   {
    "duration": 6,
    "start_time": "2022-09-09T12:27:29.897Z"
   },
   {
    "duration": 48,
    "start_time": "2022-09-09T12:28:08.079Z"
   },
   {
    "duration": 20,
    "start_time": "2022-09-09T12:28:31.107Z"
   },
   {
    "duration": 7,
    "start_time": "2022-09-09T12:28:32.029Z"
   },
   {
    "duration": 24,
    "start_time": "2022-09-09T12:29:19.673Z"
   },
   {
    "duration": 15,
    "start_time": "2022-09-09T12:29:27.847Z"
   },
   {
    "duration": 5,
    "start_time": "2022-09-09T12:30:01.350Z"
   },
   {
    "duration": 4,
    "start_time": "2022-09-09T12:30:20.949Z"
   },
   {
    "duration": 11,
    "start_time": "2022-09-09T12:30:36.606Z"
   },
   {
    "duration": 8,
    "start_time": "2022-09-09T12:30:36.788Z"
   },
   {
    "duration": 8,
    "start_time": "2022-09-09T12:30:38.842Z"
   },
   {
    "duration": 9,
    "start_time": "2022-09-09T12:30:53.799Z"
   },
   {
    "duration": 10,
    "start_time": "2022-09-09T12:31:02.491Z"
   },
   {
    "duration": 2,
    "start_time": "2022-09-09T12:36:33.093Z"
   },
   {
    "duration": 8,
    "start_time": "2022-09-09T12:36:35.797Z"
   },
   {
    "duration": 9,
    "start_time": "2022-09-09T12:36:36.382Z"
   },
   {
    "duration": 8,
    "start_time": "2022-09-09T12:36:37.235Z"
   },
   {
    "duration": 8,
    "start_time": "2022-09-09T12:36:49.289Z"
   },
   {
    "duration": 9,
    "start_time": "2022-09-09T12:36:49.453Z"
   },
   {
    "duration": 20,
    "start_time": "2022-09-09T12:36:49.807Z"
   },
   {
    "duration": 1068,
    "start_time": "2022-09-09T12:36:57.322Z"
   },
   {
    "duration": 387,
    "start_time": "2022-09-09T12:36:58.392Z"
   },
   {
    "duration": 53,
    "start_time": "2022-09-09T12:36:58.780Z"
   },
   {
    "duration": 110,
    "start_time": "2022-09-09T12:36:58.834Z"
   },
   {
    "duration": 125,
    "start_time": "2022-09-09T12:36:58.946Z"
   },
   {
    "duration": 48,
    "start_time": "2022-09-09T12:36:59.073Z"
   },
   {
    "duration": 14,
    "start_time": "2022-09-09T12:36:59.122Z"
   },
   {
    "duration": 15,
    "start_time": "2022-09-09T12:36:59.137Z"
   },
   {
    "duration": 76,
    "start_time": "2022-09-09T12:36:59.154Z"
   },
   {
    "duration": 205,
    "start_time": "2022-09-09T12:36:59.232Z"
   },
   {
    "duration": 177,
    "start_time": "2022-09-09T12:36:59.438Z"
   },
   {
    "duration": 106,
    "start_time": "2022-09-09T12:36:59.624Z"
   },
   {
    "duration": 4,
    "start_time": "2022-09-09T12:36:59.732Z"
   },
   {
    "duration": 7,
    "start_time": "2022-09-09T12:36:59.738Z"
   },
   {
    "duration": 16,
    "start_time": "2022-09-09T12:36:59.746Z"
   },
   {
    "duration": 8,
    "start_time": "2022-09-09T12:36:59.763Z"
   },
   {
    "duration": 8,
    "start_time": "2022-09-09T12:36:59.772Z"
   },
   {
    "duration": 2954,
    "start_time": "2022-09-09T12:37:33.379Z"
   },
   {
    "duration": 3,
    "start_time": "2022-09-09T12:45:24.826Z"
   },
   {
    "duration": 468,
    "start_time": "2022-09-09T12:46:14.265Z"
   },
   {
    "duration": 44,
    "start_time": "2022-09-09T12:46:31.475Z"
   },
   {
    "duration": 112,
    "start_time": "2022-09-09T12:47:40.347Z"
   },
   {
    "duration": 123,
    "start_time": "2022-09-09T12:47:55.317Z"
   },
   {
    "duration": 15,
    "start_time": "2022-09-09T12:50:53.321Z"
   },
   {
    "duration": 16,
    "start_time": "2022-09-09T12:50:59.401Z"
   },
   {
    "duration": 23,
    "start_time": "2022-09-09T12:50:59.610Z"
   },
   {
    "duration": 31,
    "start_time": "2022-09-09T12:51:00.199Z"
   },
   {
    "duration": 42,
    "start_time": "2022-09-09T12:53:13.733Z"
   },
   {
    "duration": 46,
    "start_time": "2022-09-09T12:59:53.221Z"
   },
   {
    "duration": 26,
    "start_time": "2022-09-09T13:00:30.294Z"
   },
   {
    "duration": 15,
    "start_time": "2022-09-09T13:00:31.763Z"
   },
   {
    "duration": 15,
    "start_time": "2022-09-09T13:00:31.935Z"
   },
   {
    "duration": 83,
    "start_time": "2022-09-09T13:02:29.829Z"
   },
   {
    "duration": 29,
    "start_time": "2022-09-09T13:02:30.795Z"
   },
   {
    "duration": 34,
    "start_time": "2022-09-09T13:02:31.103Z"
   },
   {
    "duration": 9,
    "start_time": "2022-09-09T14:13:18.985Z"
   },
   {
    "duration": 115,
    "start_time": "2022-09-09T14:20:42.147Z"
   },
   {
    "duration": 18,
    "start_time": "2022-09-09T14:22:56.727Z"
   },
   {
    "duration": 5,
    "start_time": "2022-09-09T14:23:08.809Z"
   },
   {
    "duration": 47,
    "start_time": "2022-09-09T14:23:12.225Z"
   },
   {
    "duration": 13,
    "start_time": "2022-09-09T14:23:41.394Z"
   },
   {
    "duration": 4,
    "start_time": "2022-09-09T15:03:37.954Z"
   },
   {
    "duration": 4,
    "start_time": "2022-09-09T15:04:05.352Z"
   },
   {
    "duration": 5,
    "start_time": "2022-09-09T15:05:13.338Z"
   },
   {
    "duration": 5,
    "start_time": "2022-09-09T15:05:48.362Z"
   },
   {
    "duration": 2,
    "start_time": "2022-09-09T15:11:35.389Z"
   },
   {
    "duration": 3,
    "start_time": "2022-09-09T15:13:11.049Z"
   },
   {
    "duration": 5,
    "start_time": "2022-09-09T15:19:30.990Z"
   },
   {
    "duration": 5,
    "start_time": "2022-09-09T15:19:47.450Z"
   },
   {
    "duration": 4,
    "start_time": "2022-09-09T15:19:52.303Z"
   },
   {
    "duration": 6,
    "start_time": "2022-09-09T15:20:08.300Z"
   },
   {
    "duration": 814,
    "start_time": "2022-09-09T15:36:03.205Z"
   },
   {
    "duration": 821,
    "start_time": "2022-09-09T15:36:15.675Z"
   },
   {
    "duration": 1021,
    "start_time": "2022-09-09T15:36:22.481Z"
   },
   {
    "duration": 374,
    "start_time": "2022-09-09T15:36:23.504Z"
   },
   {
    "duration": 58,
    "start_time": "2022-09-09T15:36:23.879Z"
   },
   {
    "duration": 118,
    "start_time": "2022-09-09T15:36:23.940Z"
   },
   {
    "duration": 141,
    "start_time": "2022-09-09T15:36:24.060Z"
   },
   {
    "duration": 133,
    "start_time": "2022-09-09T15:36:24.202Z"
   },
   {
    "duration": 56,
    "start_time": "2022-09-09T15:36:24.336Z"
   },
   {
    "duration": 42,
    "start_time": "2022-09-09T15:36:24.393Z"
   },
   {
    "duration": 45,
    "start_time": "2022-09-09T15:36:24.437Z"
   },
   {
    "duration": 13,
    "start_time": "2022-09-09T15:36:24.485Z"
   },
   {
    "duration": 50,
    "start_time": "2022-09-09T15:36:24.500Z"
   },
   {
    "duration": 35,
    "start_time": "2022-09-09T15:36:24.552Z"
   },
   {
    "duration": 144,
    "start_time": "2022-09-09T15:36:24.588Z"
   },
   {
    "duration": 202,
    "start_time": "2022-09-09T15:36:24.735Z"
   },
   {
    "duration": 197,
    "start_time": "2022-09-09T15:36:24.938Z"
   },
   {
    "duration": 11,
    "start_time": "2022-09-09T15:36:25.137Z"
   },
   {
    "duration": 26,
    "start_time": "2022-09-09T15:36:25.149Z"
   },
   {
    "duration": 23,
    "start_time": "2022-09-09T15:36:25.176Z"
   },
   {
    "duration": 16,
    "start_time": "2022-09-09T15:36:25.200Z"
   },
   {
    "duration": 21,
    "start_time": "2022-09-09T15:36:25.217Z"
   },
   {
    "duration": 2914,
    "start_time": "2022-09-09T15:36:25.240Z"
   },
   {
    "duration": 2802,
    "start_time": "2022-09-09T15:36:32.838Z"
   },
   {
    "duration": 2735,
    "start_time": "2022-09-09T15:36:40.934Z"
   },
   {
    "duration": 2842,
    "start_time": "2022-09-09T15:37:46.789Z"
   },
   {
    "duration": 72,
    "start_time": "2022-09-09T15:43:00.692Z"
   },
   {
    "duration": 2936,
    "start_time": "2022-09-09T15:43:40.301Z"
   },
   {
    "duration": 48,
    "start_time": "2022-09-10T02:53:07.785Z"
   },
   {
    "duration": 1020,
    "start_time": "2022-09-10T02:53:15.816Z"
   },
   {
    "duration": 779,
    "start_time": "2022-09-10T02:53:16.838Z"
   },
   {
    "duration": 39,
    "start_time": "2022-09-10T02:53:17.618Z"
   },
   {
    "duration": 114,
    "start_time": "2022-09-10T02:53:17.659Z"
   },
   {
    "duration": 123,
    "start_time": "2022-09-10T02:53:17.774Z"
   },
   {
    "duration": 125,
    "start_time": "2022-09-10T02:53:17.898Z"
   },
   {
    "duration": 59,
    "start_time": "2022-09-10T02:53:18.024Z"
   },
   {
    "duration": 21,
    "start_time": "2022-09-10T02:53:18.085Z"
   },
   {
    "duration": 48,
    "start_time": "2022-09-10T02:53:18.122Z"
   },
   {
    "duration": 14,
    "start_time": "2022-09-10T02:53:18.172Z"
   },
   {
    "duration": 10,
    "start_time": "2022-09-10T02:53:18.187Z"
   },
   {
    "duration": 126,
    "start_time": "2022-09-10T02:53:18.198Z"
   },
   {
    "duration": 197,
    "start_time": "2022-09-10T02:53:18.326Z"
   },
   {
    "duration": 109,
    "start_time": "2022-09-10T02:53:18.525Z"
   },
   {
    "duration": 91,
    "start_time": "2022-09-10T02:53:18.636Z"
   },
   {
    "duration": 94,
    "start_time": "2022-09-10T02:53:18.729Z"
   },
   {
    "duration": 6,
    "start_time": "2022-09-10T02:53:18.825Z"
   },
   {
    "duration": 29,
    "start_time": "2022-09-10T02:53:18.832Z"
   },
   {
    "duration": 12,
    "start_time": "2022-09-10T02:53:18.863Z"
   },
   {
    "duration": 10,
    "start_time": "2022-09-10T02:53:18.877Z"
   },
   {
    "duration": 3010,
    "start_time": "2022-09-10T02:53:18.889Z"
   },
   {
    "duration": 7,
    "start_time": "2022-09-10T02:53:21.901Z"
   },
   {
    "duration": 52,
    "start_time": "2022-09-10T06:08:37.232Z"
   },
   {
    "duration": 49,
    "start_time": "2022-09-10T07:01:30.150Z"
   },
   {
    "duration": 1074,
    "start_time": "2022-09-10T07:01:35.745Z"
   },
   {
    "duration": 855,
    "start_time": "2022-09-10T07:01:36.821Z"
   },
   {
    "duration": 47,
    "start_time": "2022-09-10T07:01:37.678Z"
   },
   {
    "duration": 99,
    "start_time": "2022-09-10T07:01:37.727Z"
   },
   {
    "duration": 128,
    "start_time": "2022-09-10T07:01:37.828Z"
   },
   {
    "duration": 128,
    "start_time": "2022-09-10T07:01:37.958Z"
   },
   {
    "duration": 66,
    "start_time": "2022-09-10T07:01:38.088Z"
   },
   {
    "duration": 13,
    "start_time": "2022-09-10T07:01:38.155Z"
   },
   {
    "duration": 18,
    "start_time": "2022-09-10T07:01:38.169Z"
   },
   {
    "duration": 62,
    "start_time": "2022-09-10T07:01:38.189Z"
   },
   {
    "duration": 12,
    "start_time": "2022-09-10T07:01:38.253Z"
   },
   {
    "duration": 7,
    "start_time": "2022-09-10T07:01:38.267Z"
   },
   {
    "duration": 52,
    "start_time": "2022-09-10T07:01:38.276Z"
   },
   {
    "duration": 102,
    "start_time": "2022-09-10T07:01:38.332Z"
   },
   {
    "duration": 128,
    "start_time": "2022-09-10T07:01:38.510Z"
   },
   {
    "duration": 176,
    "start_time": "2022-09-10T07:01:38.640Z"
   },
   {
    "duration": 12,
    "start_time": "2022-09-10T07:01:38.818Z"
   },
   {
    "duration": 8,
    "start_time": "2022-09-10T07:01:38.831Z"
   },
   {
    "duration": 17,
    "start_time": "2022-09-10T07:01:38.841Z"
   },
   {
    "duration": 8,
    "start_time": "2022-09-10T07:01:38.860Z"
   },
   {
    "duration": 13,
    "start_time": "2022-09-10T07:01:38.870Z"
   },
   {
    "duration": 2866,
    "start_time": "2022-09-10T07:01:38.884Z"
   },
   {
    "duration": 59,
    "start_time": "2022-09-10T07:03:28.229Z"
   },
   {
    "duration": 56,
    "start_time": "2022-09-10T07:05:10.999Z"
   },
   {
    "duration": 5,
    "start_time": "2022-09-10T07:15:39.323Z"
   },
   {
    "duration": 22,
    "start_time": "2022-09-10T07:17:37.133Z"
   },
   {
    "duration": 4,
    "start_time": "2022-09-10T07:20:52.131Z"
   },
   {
    "duration": 16,
    "start_time": "2022-09-10T07:20:54.875Z"
   },
   {
    "duration": 4,
    "start_time": "2022-09-10T07:21:07.099Z"
   },
   {
    "duration": 24,
    "start_time": "2022-09-10T07:21:28.857Z"
   },
   {
    "duration": 2,
    "start_time": "2022-09-10T07:25:14.382Z"
   },
   {
    "duration": 2,
    "start_time": "2022-09-10T07:25:14.736Z"
   },
   {
    "duration": 3,
    "start_time": "2022-09-10T07:25:15.021Z"
   },
   {
    "duration": 4,
    "start_time": "2022-09-10T07:25:36.879Z"
   },
   {
    "duration": 16,
    "start_time": "2022-09-10T07:25:37.259Z"
   },
   {
    "duration": 14,
    "start_time": "2022-09-10T07:25:40.527Z"
   },
   {
    "duration": 13,
    "start_time": "2022-09-10T07:25:43.644Z"
   },
   {
    "duration": 19,
    "start_time": "2022-09-10T07:25:44.102Z"
   },
   {
    "duration": 18,
    "start_time": "2022-09-10T07:26:08.745Z"
   },
   {
    "duration": 1111,
    "start_time": "2022-09-10T07:26:15.135Z"
   },
   {
    "duration": 439,
    "start_time": "2022-09-10T07:26:16.249Z"
   },
   {
    "duration": 52,
    "start_time": "2022-09-10T07:26:16.690Z"
   },
   {
    "duration": 117,
    "start_time": "2022-09-10T07:26:16.744Z"
   },
   {
    "duration": 134,
    "start_time": "2022-09-10T07:26:16.863Z"
   },
   {
    "duration": 131,
    "start_time": "2022-09-10T07:26:16.998Z"
   },
   {
    "duration": 51,
    "start_time": "2022-09-10T07:26:17.130Z"
   },
   {
    "duration": 40,
    "start_time": "2022-09-10T07:26:17.182Z"
   },
   {
    "duration": 38,
    "start_time": "2022-09-10T07:26:17.224Z"
   },
   {
    "duration": 46,
    "start_time": "2022-09-10T07:26:17.265Z"
   },
   {
    "duration": 21,
    "start_time": "2022-09-10T07:26:17.312Z"
   },
   {
    "duration": 23,
    "start_time": "2022-09-10T07:26:17.335Z"
   },
   {
    "duration": 6,
    "start_time": "2022-09-10T07:26:17.360Z"
   },
   {
    "duration": 6,
    "start_time": "2022-09-10T07:26:17.368Z"
   },
   {
    "duration": 4,
    "start_time": "2022-09-10T07:26:17.376Z"
   },
   {
    "duration": 7,
    "start_time": "2022-09-10T07:26:17.382Z"
   },
   {
    "duration": 125,
    "start_time": "2022-09-10T07:26:17.390Z"
   },
   {
    "duration": 118,
    "start_time": "2022-09-10T07:26:17.517Z"
   },
   {
    "duration": 125,
    "start_time": "2022-09-10T07:26:17.710Z"
   },
   {
    "duration": 78,
    "start_time": "2022-09-10T07:26:17.837Z"
   },
   {
    "duration": 5,
    "start_time": "2022-09-10T07:26:17.916Z"
   },
   {
    "duration": 106,
    "start_time": "2022-09-10T07:26:17.923Z"
   },
   {
    "duration": 132,
    "start_time": "2022-09-10T07:26:18.031Z"
   },
   {
    "duration": 0,
    "start_time": "2022-09-10T07:26:18.165Z"
   },
   {
    "duration": 0,
    "start_time": "2022-09-10T07:26:18.166Z"
   },
   {
    "duration": 0,
    "start_time": "2022-09-10T07:26:18.167Z"
   },
   {
    "duration": 78,
    "start_time": "2022-09-10T07:27:29.346Z"
   },
   {
    "duration": 3,
    "start_time": "2022-09-10T07:30:59.500Z"
   },
   {
    "duration": 5,
    "start_time": "2022-09-10T07:31:28.096Z"
   },
   {
    "duration": 54,
    "start_time": "2022-09-10T07:45:53.861Z"
   },
   {
    "duration": 19,
    "start_time": "2022-09-10T07:45:54.969Z"
   },
   {
    "duration": 19,
    "start_time": "2022-09-10T07:45:57.741Z"
   },
   {
    "duration": 11,
    "start_time": "2022-09-10T07:46:21.230Z"
   },
   {
    "duration": 10,
    "start_time": "2022-09-10T07:46:21.900Z"
   },
   {
    "duration": 8,
    "start_time": "2022-09-10T07:46:22.094Z"
   },
   {
    "duration": 8,
    "start_time": "2022-09-10T08:24:53.367Z"
   },
   {
    "duration": 34,
    "start_time": "2022-09-10T08:27:26.331Z"
   },
   {
    "duration": 23,
    "start_time": "2022-09-10T08:28:12.579Z"
   },
   {
    "duration": 50,
    "start_time": "2022-09-10T08:28:21.897Z"
   },
   {
    "duration": 127,
    "start_time": "2022-09-10T08:29:56.653Z"
   },
   {
    "duration": 35,
    "start_time": "2022-09-10T08:30:00.171Z"
   },
   {
    "duration": 26,
    "start_time": "2022-09-10T08:30:07.940Z"
   },
   {
    "duration": 43,
    "start_time": "2022-09-10T08:31:34.600Z"
   },
   {
    "duration": 42,
    "start_time": "2022-09-10T08:32:19.033Z"
   },
   {
    "duration": 3165,
    "start_time": "2022-09-10T08:33:40.424Z"
   },
   {
    "duration": 44,
    "start_time": "2022-09-10T08:34:57.791Z"
   },
   {
    "duration": 21,
    "start_time": "2022-09-10T08:35:21.974Z"
   },
   {
    "duration": 3248,
    "start_time": "2022-09-10T08:35:45.083Z"
   },
   {
    "duration": 19,
    "start_time": "2022-09-10T08:36:33.097Z"
   },
   {
    "duration": 29,
    "start_time": "2022-09-10T08:36:53.670Z"
   },
   {
    "duration": 1194,
    "start_time": "2022-09-10T08:37:01.841Z"
   },
   {
    "duration": 117,
    "start_time": "2022-09-10T08:37:03.040Z"
   },
   {
    "duration": 0,
    "start_time": "2022-09-10T08:37:03.164Z"
   },
   {
    "duration": 0,
    "start_time": "2022-09-10T08:37:03.169Z"
   },
   {
    "duration": 0,
    "start_time": "2022-09-10T08:37:03.170Z"
   },
   {
    "duration": 0,
    "start_time": "2022-09-10T08:37:03.172Z"
   },
   {
    "duration": 0,
    "start_time": "2022-09-10T08:37:03.174Z"
   },
   {
    "duration": 0,
    "start_time": "2022-09-10T08:37:03.175Z"
   },
   {
    "duration": 0,
    "start_time": "2022-09-10T08:37:03.176Z"
   },
   {
    "duration": 0,
    "start_time": "2022-09-10T08:37:03.177Z"
   },
   {
    "duration": 0,
    "start_time": "2022-09-10T08:37:03.178Z"
   },
   {
    "duration": 0,
    "start_time": "2022-09-10T08:37:03.179Z"
   },
   {
    "duration": 0,
    "start_time": "2022-09-10T08:37:03.180Z"
   },
   {
    "duration": 0,
    "start_time": "2022-09-10T08:37:03.183Z"
   },
   {
    "duration": 0,
    "start_time": "2022-09-10T08:37:03.184Z"
   },
   {
    "duration": 0,
    "start_time": "2022-09-10T08:37:03.186Z"
   },
   {
    "duration": 0,
    "start_time": "2022-09-10T08:37:03.188Z"
   },
   {
    "duration": 0,
    "start_time": "2022-09-10T08:37:03.189Z"
   },
   {
    "duration": 0,
    "start_time": "2022-09-10T08:37:03.191Z"
   },
   {
    "duration": 0,
    "start_time": "2022-09-10T08:37:03.225Z"
   },
   {
    "duration": 0,
    "start_time": "2022-09-10T08:37:03.226Z"
   },
   {
    "duration": 0,
    "start_time": "2022-09-10T08:37:03.227Z"
   },
   {
    "duration": 0,
    "start_time": "2022-09-10T08:37:03.228Z"
   },
   {
    "duration": 0,
    "start_time": "2022-09-10T08:37:03.229Z"
   },
   {
    "duration": 0,
    "start_time": "2022-09-10T08:37:03.231Z"
   },
   {
    "duration": 0,
    "start_time": "2022-09-10T08:37:03.232Z"
   },
   {
    "duration": 0,
    "start_time": "2022-09-10T08:37:03.236Z"
   },
   {
    "duration": 0,
    "start_time": "2022-09-10T08:37:03.239Z"
   },
   {
    "duration": 2,
    "start_time": "2022-09-10T08:37:47.702Z"
   },
   {
    "duration": 1325,
    "start_time": "2022-09-10T08:37:53.651Z"
   },
   {
    "duration": 3,
    "start_time": "2022-09-10T08:37:54.978Z"
   },
   {
    "duration": 682,
    "start_time": "2022-09-10T08:37:54.983Z"
   },
   {
    "duration": 81,
    "start_time": "2022-09-10T08:37:55.676Z"
   },
   {
    "duration": 185,
    "start_time": "2022-09-10T08:37:55.760Z"
   },
   {
    "duration": 199,
    "start_time": "2022-09-10T08:37:55.954Z"
   },
   {
    "duration": 200,
    "start_time": "2022-09-10T08:37:56.155Z"
   },
   {
    "duration": 108,
    "start_time": "2022-09-10T08:37:56.360Z"
   },
   {
    "duration": 18,
    "start_time": "2022-09-10T08:37:56.470Z"
   },
   {
    "duration": 97,
    "start_time": "2022-09-10T08:37:56.491Z"
   },
   {
    "duration": 58,
    "start_time": "2022-09-10T08:37:56.590Z"
   },
   {
    "duration": 18,
    "start_time": "2022-09-10T08:37:56.652Z"
   },
   {
    "duration": 20,
    "start_time": "2022-09-10T08:37:56.672Z"
   },
   {
    "duration": 57,
    "start_time": "2022-09-10T08:37:56.694Z"
   },
   {
    "duration": 185,
    "start_time": "2022-09-10T08:37:56.827Z"
   },
   {
    "duration": 134,
    "start_time": "2022-09-10T08:37:57.018Z"
   },
   {
    "duration": 117,
    "start_time": "2022-09-10T08:37:57.163Z"
   },
   {
    "duration": 70,
    "start_time": "2022-09-10T08:37:57.283Z"
   },
   {
    "duration": 91,
    "start_time": "2022-09-10T08:37:57.360Z"
   },
   {
    "duration": 75,
    "start_time": "2022-09-10T08:37:57.452Z"
   },
   {
    "duration": 21,
    "start_time": "2022-09-10T08:37:57.529Z"
   },
   {
    "duration": 116,
    "start_time": "2022-09-10T08:37:57.552Z"
   },
   {
    "duration": 8,
    "start_time": "2022-09-10T08:37:57.670Z"
   },
   {
    "duration": 136,
    "start_time": "2022-09-10T08:37:57.680Z"
   },
   {
    "duration": 0,
    "start_time": "2022-09-10T08:37:57.817Z"
   },
   {
    "duration": 0,
    "start_time": "2022-09-10T08:37:57.818Z"
   },
   {
    "duration": 0,
    "start_time": "2022-09-10T08:37:57.819Z"
   },
   {
    "duration": 0,
    "start_time": "2022-09-10T08:37:57.820Z"
   },
   {
    "duration": 54,
    "start_time": "2022-09-10T08:38:53.201Z"
   },
   {
    "duration": 3,
    "start_time": "2022-09-10T08:39:28.996Z"
   },
   {
    "duration": 15,
    "start_time": "2022-09-10T08:39:30.443Z"
   },
   {
    "duration": 11,
    "start_time": "2022-09-10T08:39:31.778Z"
   },
   {
    "duration": 9,
    "start_time": "2022-09-10T08:39:31.970Z"
   },
   {
    "duration": 3255,
    "start_time": "2022-09-10T08:39:32.795Z"
   },
   {
    "duration": 3,
    "start_time": "2022-09-10T08:39:36.052Z"
   },
   {
    "duration": 3,
    "start_time": "2022-09-10T08:41:02.478Z"
   },
   {
    "duration": 55,
    "start_time": "2022-09-10T08:44:00.977Z"
   },
   {
    "duration": 13,
    "start_time": "2022-09-10T08:44:12.006Z"
   },
   {
    "duration": 8,
    "start_time": "2022-09-10T08:44:14.552Z"
   },
   {
    "duration": 15,
    "start_time": "2022-09-10T08:44:30.370Z"
   },
   {
    "duration": 62,
    "start_time": "2022-09-10T08:45:06.381Z"
   },
   {
    "duration": 3515,
    "start_time": "2022-09-10T08:45:20.832Z"
   },
   {
    "duration": 3,
    "start_time": "2022-09-10T08:46:23.480Z"
   },
   {
    "duration": 28,
    "start_time": "2022-09-10T08:47:23.340Z"
   },
   {
    "duration": 15,
    "start_time": "2022-09-10T08:47:44.886Z"
   },
   {
    "duration": 2,
    "start_time": "2022-09-10T08:47:49.193Z"
   },
   {
    "duration": 15,
    "start_time": "2022-09-10T08:47:49.388Z"
   },
   {
    "duration": 16,
    "start_time": "2022-09-10T08:48:08.650Z"
   },
   {
    "duration": 3677,
    "start_time": "2022-09-10T08:48:24.658Z"
   },
   {
    "duration": 10,
    "start_time": "2022-09-10T08:51:01.215Z"
   },
   {
    "duration": 13,
    "start_time": "2022-09-10T08:51:27.951Z"
   },
   {
    "duration": 6,
    "start_time": "2022-09-10T08:51:36.185Z"
   },
   {
    "duration": 19,
    "start_time": "2022-09-10T08:51:37.452Z"
   },
   {
    "duration": 13,
    "start_time": "2022-09-10T08:51:55.956Z"
   },
   {
    "duration": 18,
    "start_time": "2022-09-10T08:52:06.733Z"
   },
   {
    "duration": 9,
    "start_time": "2022-09-10T08:52:29.579Z"
   },
   {
    "duration": 37,
    "start_time": "2022-09-10T08:54:03.644Z"
   },
   {
    "duration": 19,
    "start_time": "2022-09-10T08:54:36.804Z"
   },
   {
    "duration": 15,
    "start_time": "2022-09-10T08:54:42.968Z"
   },
   {
    "duration": 55,
    "start_time": "2022-09-10T08:55:04.228Z"
   },
   {
    "duration": 4,
    "start_time": "2022-09-10T08:58:43.275Z"
   },
   {
    "duration": 6,
    "start_time": "2022-09-10T08:58:45.582Z"
   },
   {
    "duration": 14,
    "start_time": "2022-09-10T08:58:59.481Z"
   },
   {
    "duration": 11,
    "start_time": "2022-09-10T09:00:12.736Z"
   },
   {
    "duration": 42,
    "start_time": "2022-09-10T09:00:56.677Z"
   },
   {
    "duration": 110,
    "start_time": "2022-09-10T09:01:27.153Z"
   },
   {
    "duration": 3840,
    "start_time": "2022-09-10T09:01:56.840Z"
   },
   {
    "duration": 3,
    "start_time": "2022-09-10T09:31:38.981Z"
   },
   {
    "duration": 14,
    "start_time": "2022-09-10T09:31:53.007Z"
   },
   {
    "duration": 7,
    "start_time": "2022-09-10T09:32:45.532Z"
   },
   {
    "duration": 5,
    "start_time": "2022-09-10T09:33:45.775Z"
   },
   {
    "duration": 5,
    "start_time": "2022-09-10T09:34:22.959Z"
   },
   {
    "duration": 63,
    "start_time": "2022-09-10T09:34:41.583Z"
   },
   {
    "duration": 39,
    "start_time": "2022-09-10T09:35:37.213Z"
   },
   {
    "duration": 3456,
    "start_time": "2022-09-10T09:44:34.479Z"
   },
   {
    "duration": 3,
    "start_time": "2022-09-10T09:46:43.392Z"
   },
   {
    "duration": 3295,
    "start_time": "2022-09-10T09:46:54.380Z"
   },
   {
    "duration": 3628,
    "start_time": "2022-09-10T09:48:35.802Z"
   },
   {
    "duration": 4,
    "start_time": "2022-09-10T09:49:37.652Z"
   },
   {
    "duration": 4,
    "start_time": "2022-09-10T09:49:45.594Z"
   },
   {
    "duration": 4,
    "start_time": "2022-09-10T09:49:58.282Z"
   },
   {
    "duration": 6,
    "start_time": "2022-09-10T09:50:03.040Z"
   },
   {
    "duration": 11,
    "start_time": "2022-09-10T09:50:04.048Z"
   },
   {
    "duration": 19,
    "start_time": "2022-09-10T09:50:06.603Z"
   },
   {
    "duration": 8,
    "start_time": "2022-09-10T09:50:07.354Z"
   },
   {
    "duration": 27,
    "start_time": "2022-09-10T09:50:08.276Z"
   },
   {
    "duration": 22,
    "start_time": "2022-09-10T09:50:28.658Z"
   },
   {
    "duration": 1111,
    "start_time": "2022-09-10T09:50:38.044Z"
   },
   {
    "duration": 8,
    "start_time": "2022-09-10T09:50:39.156Z"
   },
   {
    "duration": 496,
    "start_time": "2022-09-10T09:50:39.165Z"
   },
   {
    "duration": 78,
    "start_time": "2022-09-10T09:50:39.663Z"
   },
   {
    "duration": 100,
    "start_time": "2022-09-10T09:50:39.749Z"
   },
   {
    "duration": 140,
    "start_time": "2022-09-10T09:50:39.850Z"
   },
   {
    "duration": 194,
    "start_time": "2022-09-10T09:50:39.993Z"
   },
   {
    "duration": 101,
    "start_time": "2022-09-10T09:50:40.189Z"
   },
   {
    "duration": 24,
    "start_time": "2022-09-10T09:50:40.291Z"
   },
   {
    "duration": 120,
    "start_time": "2022-09-10T09:50:40.323Z"
   },
   {
    "duration": 50,
    "start_time": "2022-09-10T09:50:40.444Z"
   },
   {
    "duration": 35,
    "start_time": "2022-09-10T09:50:40.496Z"
   },
   {
    "duration": 42,
    "start_time": "2022-09-10T09:50:40.536Z"
   },
   {
    "duration": 133,
    "start_time": "2022-09-10T09:50:40.582Z"
   },
   {
    "duration": 121,
    "start_time": "2022-09-10T09:50:40.724Z"
   },
   {
    "duration": 118,
    "start_time": "2022-09-10T09:50:40.914Z"
   },
   {
    "duration": 85,
    "start_time": "2022-09-10T09:50:41.034Z"
   },
   {
    "duration": 94,
    "start_time": "2022-09-10T09:50:41.120Z"
   },
   {
    "duration": 113,
    "start_time": "2022-09-10T09:50:41.216Z"
   },
   {
    "duration": 99,
    "start_time": "2022-09-10T09:50:41.332Z"
   },
   {
    "duration": 137,
    "start_time": "2022-09-10T09:50:41.432Z"
   },
   {
    "duration": 48,
    "start_time": "2022-09-10T09:50:41.571Z"
   },
   {
    "duration": 17,
    "start_time": "2022-09-10T09:50:41.624Z"
   },
   {
    "duration": 19,
    "start_time": "2022-09-10T09:50:41.644Z"
   },
   {
    "duration": 10,
    "start_time": "2022-09-10T09:50:41.665Z"
   },
   {
    "duration": 10,
    "start_time": "2022-09-10T09:50:41.677Z"
   },
   {
    "duration": 162,
    "start_time": "2022-09-10T09:50:41.689Z"
   },
   {
    "duration": 0,
    "start_time": "2022-09-10T09:50:41.853Z"
   },
   {
    "duration": 3199,
    "start_time": "2022-09-10T09:50:59.662Z"
   },
   {
    "duration": 4,
    "start_time": "2022-09-10T10:06:31.616Z"
   },
   {
    "duration": 4,
    "start_time": "2022-09-10T10:06:32.373Z"
   },
   {
    "duration": 8,
    "start_time": "2022-09-10T10:06:33.341Z"
   },
   {
    "duration": 9,
    "start_time": "2022-09-10T10:06:33.953Z"
   },
   {
    "duration": 8,
    "start_time": "2022-09-10T10:06:34.140Z"
   },
   {
    "duration": 2973,
    "start_time": "2022-09-10T10:06:38.389Z"
   },
   {
    "duration": 3,
    "start_time": "2022-09-10T10:07:13.847Z"
   },
   {
    "duration": 4,
    "start_time": "2022-09-10T10:07:14.681Z"
   },
   {
    "duration": 10,
    "start_time": "2022-09-10T10:07:15.377Z"
   },
   {
    "duration": 8,
    "start_time": "2022-09-10T10:07:15.743Z"
   },
   {
    "duration": 10,
    "start_time": "2022-09-10T10:07:16.291Z"
   },
   {
    "duration": 3145,
    "start_time": "2022-09-10T10:07:16.670Z"
   },
   {
    "duration": 1370,
    "start_time": "2022-09-10T10:07:23.645Z"
   },
   {
    "duration": 3,
    "start_time": "2022-09-10T10:07:25.024Z"
   },
   {
    "duration": 540,
    "start_time": "2022-09-10T10:07:25.028Z"
   },
   {
    "duration": 65,
    "start_time": "2022-09-10T10:07:25.570Z"
   },
   {
    "duration": 136,
    "start_time": "2022-09-10T10:07:25.640Z"
   },
   {
    "duration": 170,
    "start_time": "2022-09-10T10:07:25.778Z"
   },
   {
    "duration": 154,
    "start_time": "2022-09-10T10:07:25.950Z"
   },
   {
    "duration": 134,
    "start_time": "2022-09-10T10:07:26.108Z"
   },
   {
    "duration": 21,
    "start_time": "2022-09-10T10:07:26.251Z"
   },
   {
    "duration": 64,
    "start_time": "2022-09-10T10:07:26.276Z"
   },
   {
    "duration": 39,
    "start_time": "2022-09-10T10:07:26.341Z"
   },
   {
    "duration": 15,
    "start_time": "2022-09-10T10:07:26.382Z"
   },
   {
    "duration": 23,
    "start_time": "2022-09-10T10:07:26.399Z"
   },
   {
    "duration": 127,
    "start_time": "2022-09-10T10:07:26.426Z"
   },
   {
    "duration": 101,
    "start_time": "2022-09-10T10:07:26.563Z"
   },
   {
    "duration": 159,
    "start_time": "2022-09-10T10:07:26.709Z"
   },
   {
    "duration": 138,
    "start_time": "2022-09-10T10:07:26.872Z"
   },
   {
    "duration": 43,
    "start_time": "2022-09-10T10:07:27.016Z"
   },
   {
    "duration": 168,
    "start_time": "2022-09-10T10:07:27.064Z"
   },
   {
    "duration": 170,
    "start_time": "2022-09-10T10:07:27.241Z"
   },
   {
    "duration": 14,
    "start_time": "2022-09-10T10:07:27.417Z"
   },
   {
    "duration": 117,
    "start_time": "2022-09-10T10:07:27.434Z"
   },
   {
    "duration": 9,
    "start_time": "2022-09-10T10:07:27.553Z"
   },
   {
    "duration": 10,
    "start_time": "2022-09-10T10:07:27.564Z"
   },
   {
    "duration": 16,
    "start_time": "2022-09-10T10:07:27.576Z"
   },
   {
    "duration": 10,
    "start_time": "2022-09-10T10:07:27.594Z"
   },
   {
    "duration": 46,
    "start_time": "2022-09-10T10:07:27.606Z"
   },
   {
    "duration": 3053,
    "start_time": "2022-09-10T10:07:27.655Z"
   },
   {
    "duration": 14,
    "start_time": "2022-09-10T10:07:30.720Z"
   },
   {
    "duration": 1121,
    "start_time": "2022-09-10T10:07:52.650Z"
   },
   {
    "duration": 2,
    "start_time": "2022-09-10T10:07:53.773Z"
   },
   {
    "duration": 514,
    "start_time": "2022-09-10T10:07:53.777Z"
   },
   {
    "duration": 54,
    "start_time": "2022-09-10T10:07:54.293Z"
   },
   {
    "duration": 147,
    "start_time": "2022-09-10T10:07:54.349Z"
   },
   {
    "duration": 184,
    "start_time": "2022-09-10T10:07:54.498Z"
   },
   {
    "duration": 178,
    "start_time": "2022-09-10T10:07:54.684Z"
   },
   {
    "duration": 104,
    "start_time": "2022-09-10T10:07:54.864Z"
   },
   {
    "duration": 20,
    "start_time": "2022-09-10T10:07:54.970Z"
   },
   {
    "duration": 73,
    "start_time": "2022-09-10T10:07:54.991Z"
   },
   {
    "duration": 64,
    "start_time": "2022-09-10T10:07:55.066Z"
   },
   {
    "duration": 18,
    "start_time": "2022-09-10T10:07:55.132Z"
   },
   {
    "duration": 18,
    "start_time": "2022-09-10T10:07:55.152Z"
   },
   {
    "duration": 18,
    "start_time": "2022-09-10T10:07:55.173Z"
   },
   {
    "duration": 42,
    "start_time": "2022-09-10T10:07:55.193Z"
   },
   {
    "duration": 186,
    "start_time": "2022-09-10T10:07:55.236Z"
   },
   {
    "duration": 20,
    "start_time": "2022-09-10T10:07:55.428Z"
   },
   {
    "duration": 169,
    "start_time": "2022-09-10T10:07:55.450Z"
   },
   {
    "duration": 124,
    "start_time": "2022-09-10T10:07:55.623Z"
   },
   {
    "duration": 191,
    "start_time": "2022-09-10T10:07:55.748Z"
   },
   {
    "duration": 83,
    "start_time": "2022-09-10T10:07:55.944Z"
   },
   {
    "duration": 127,
    "start_time": "2022-09-10T10:07:56.032Z"
   },
   {
    "duration": 4,
    "start_time": "2022-09-10T10:07:56.161Z"
   },
   {
    "duration": 9,
    "start_time": "2022-09-10T10:07:56.167Z"
   },
   {
    "duration": 15,
    "start_time": "2022-09-10T10:07:56.178Z"
   },
   {
    "duration": 31,
    "start_time": "2022-09-10T10:07:56.195Z"
   },
   {
    "duration": 27,
    "start_time": "2022-09-10T10:07:56.235Z"
   },
   {
    "duration": 3152,
    "start_time": "2022-09-10T10:07:56.264Z"
   },
   {
    "duration": 13,
    "start_time": "2022-09-10T10:07:59.418Z"
   },
   {
    "duration": 12,
    "start_time": "2022-09-10T10:13:35.734Z"
   },
   {
    "duration": 1288,
    "start_time": "2022-09-10T10:13:53.655Z"
   },
   {
    "duration": 10,
    "start_time": "2022-09-10T10:13:54.945Z"
   },
   {
    "duration": 518,
    "start_time": "2022-09-10T10:13:54.956Z"
   },
   {
    "duration": 76,
    "start_time": "2022-09-10T10:13:55.476Z"
   },
   {
    "duration": 116,
    "start_time": "2022-09-10T10:13:55.554Z"
   },
   {
    "duration": 174,
    "start_time": "2022-09-10T10:13:55.671Z"
   },
   {
    "duration": 155,
    "start_time": "2022-09-10T10:13:55.846Z"
   },
   {
    "duration": 81,
    "start_time": "2022-09-10T10:13:56.003Z"
   },
   {
    "duration": 21,
    "start_time": "2022-09-10T10:13:56.086Z"
   },
   {
    "duration": 86,
    "start_time": "2022-09-10T10:13:56.116Z"
   },
   {
    "duration": 48,
    "start_time": "2022-09-10T10:13:56.204Z"
   },
   {
    "duration": 30,
    "start_time": "2022-09-10T10:13:56.260Z"
   },
   {
    "duration": 13,
    "start_time": "2022-09-10T10:13:56.293Z"
   },
   {
    "duration": 96,
    "start_time": "2022-09-10T10:13:56.309Z"
   },
   {
    "duration": 64,
    "start_time": "2022-09-10T10:13:56.407Z"
   },
   {
    "duration": 119,
    "start_time": "2022-09-10T10:13:56.520Z"
   },
   {
    "duration": 123,
    "start_time": "2022-09-10T10:13:56.640Z"
   },
   {
    "duration": 63,
    "start_time": "2022-09-10T10:13:56.765Z"
   },
   {
    "duration": 132,
    "start_time": "2022-09-10T10:13:56.830Z"
   },
   {
    "duration": 246,
    "start_time": "2022-09-10T10:13:56.969Z"
   },
   {
    "duration": 38,
    "start_time": "2022-09-10T10:13:57.236Z"
   },
   {
    "duration": 38,
    "start_time": "2022-09-10T10:13:57.276Z"
   },
   {
    "duration": 50,
    "start_time": "2022-09-10T10:13:57.316Z"
   },
   {
    "duration": 19,
    "start_time": "2022-09-10T10:13:57.368Z"
   },
   {
    "duration": 10,
    "start_time": "2022-09-10T10:13:57.389Z"
   },
   {
    "duration": 20,
    "start_time": "2022-09-10T10:13:57.401Z"
   },
   {
    "duration": 3652,
    "start_time": "2022-09-10T10:13:57.427Z"
   },
   {
    "duration": 5,
    "start_time": "2022-09-10T10:14:01.081Z"
   },
   {
    "duration": 974,
    "start_time": "2022-09-11T10:43:29.063Z"
   },
   {
    "duration": 2,
    "start_time": "2022-09-11T10:43:30.039Z"
   },
   {
    "duration": 743,
    "start_time": "2022-09-11T10:43:30.043Z"
   },
   {
    "duration": 33,
    "start_time": "2022-09-11T10:43:30.788Z"
   },
   {
    "duration": 95,
    "start_time": "2022-09-11T10:43:30.823Z"
   },
   {
    "duration": 117,
    "start_time": "2022-09-11T10:43:30.919Z"
   },
   {
    "duration": 121,
    "start_time": "2022-09-11T10:43:31.037Z"
   },
   {
    "duration": 59,
    "start_time": "2022-09-11T10:43:31.159Z"
   },
   {
    "duration": 13,
    "start_time": "2022-09-11T10:43:31.219Z"
   },
   {
    "duration": 45,
    "start_time": "2022-09-11T10:43:31.234Z"
   },
   {
    "duration": 45,
    "start_time": "2022-09-11T10:43:31.281Z"
   },
   {
    "duration": 13,
    "start_time": "2022-09-11T10:43:31.328Z"
   },
   {
    "duration": 8,
    "start_time": "2022-09-11T10:43:31.343Z"
   },
   {
    "duration": 59,
    "start_time": "2022-09-11T10:43:31.352Z"
   },
   {
    "duration": 107,
    "start_time": "2022-09-11T10:43:31.413Z"
   },
   {
    "duration": 193,
    "start_time": "2022-09-11T10:43:31.522Z"
   },
   {
    "duration": 197,
    "start_time": "2022-09-11T10:43:31.716Z"
   },
   {
    "duration": 14,
    "start_time": "2022-09-11T10:43:31.915Z"
   },
   {
    "duration": 180,
    "start_time": "2022-09-11T10:43:31.931Z"
   },
   {
    "duration": 106,
    "start_time": "2022-09-11T10:43:32.113Z"
   },
   {
    "duration": 96,
    "start_time": "2022-09-11T10:43:32.221Z"
   },
   {
    "duration": 96,
    "start_time": "2022-09-11T10:43:32.320Z"
   },
   {
    "duration": 4,
    "start_time": "2022-09-11T10:43:32.417Z"
   },
   {
    "duration": 10,
    "start_time": "2022-09-11T10:43:32.422Z"
   },
   {
    "duration": 8,
    "start_time": "2022-09-11T10:43:32.433Z"
   },
   {
    "duration": 7,
    "start_time": "2022-09-11T10:43:32.443Z"
   },
   {
    "duration": 2832,
    "start_time": "2022-09-11T10:43:32.452Z"
   },
   {
    "duration": 2,
    "start_time": "2022-09-11T10:43:35.286Z"
   },
   {
    "duration": 115,
    "start_time": "2022-09-11T10:44:29.730Z"
   },
   {
    "duration": 18,
    "start_time": "2022-09-11T10:44:43.220Z"
   },
   {
    "duration": 2727,
    "start_time": "2022-09-11T10:44:48.994Z"
   },
   {
    "duration": 2911,
    "start_time": "2022-09-11T10:45:03.217Z"
   },
   {
    "duration": 4501,
    "start_time": "2022-09-11T10:47:22.854Z"
   },
   {
    "duration": 3003,
    "start_time": "2022-09-11T10:47:36.068Z"
   },
   {
    "duration": 23,
    "start_time": "2022-09-11T10:47:47.609Z"
   },
   {
    "duration": 2687,
    "start_time": "2022-09-11T10:55:41.467Z"
   },
   {
    "duration": 11,
    "start_time": "2022-09-11T12:49:29.955Z"
   },
   {
    "duration": 25,
    "start_time": "2022-09-11T12:49:46.213Z"
   },
   {
    "duration": 2847,
    "start_time": "2022-09-11T12:50:00.618Z"
   },
   {
    "duration": 3419,
    "start_time": "2022-09-11T12:50:32.116Z"
   },
   {
    "duration": 3102,
    "start_time": "2022-09-11T12:50:56.207Z"
   },
   {
    "duration": 2813,
    "start_time": "2022-09-11T12:51:13.135Z"
   },
   {
    "duration": 1047,
    "start_time": "2022-09-11T12:51:21.209Z"
   },
   {
    "duration": 3,
    "start_time": "2022-09-11T12:51:22.258Z"
   },
   {
    "duration": 432,
    "start_time": "2022-09-11T12:51:22.263Z"
   },
   {
    "duration": 57,
    "start_time": "2022-09-11T12:51:22.697Z"
   },
   {
    "duration": 136,
    "start_time": "2022-09-11T12:51:22.756Z"
   },
   {
    "duration": 132,
    "start_time": "2022-09-11T12:51:22.894Z"
   },
   {
    "duration": 132,
    "start_time": "2022-09-11T12:51:23.028Z"
   },
   {
    "duration": 60,
    "start_time": "2022-09-11T12:51:23.162Z"
   },
   {
    "duration": 19,
    "start_time": "2022-09-11T12:51:23.225Z"
   },
   {
    "duration": 72,
    "start_time": "2022-09-11T12:51:23.247Z"
   },
   {
    "duration": 38,
    "start_time": "2022-09-11T12:51:23.321Z"
   },
   {
    "duration": 13,
    "start_time": "2022-09-11T12:51:23.361Z"
   },
   {
    "duration": 14,
    "start_time": "2022-09-11T12:51:23.375Z"
   },
   {
    "duration": 123,
    "start_time": "2022-09-11T12:51:23.391Z"
   },
   {
    "duration": 107,
    "start_time": "2022-09-11T12:51:23.516Z"
   },
   {
    "duration": 195,
    "start_time": "2022-09-11T12:51:23.625Z"
   },
   {
    "duration": 193,
    "start_time": "2022-09-11T12:51:23.825Z"
   },
   {
    "duration": 24,
    "start_time": "2022-09-11T12:51:24.019Z"
   },
   {
    "duration": 81,
    "start_time": "2022-09-11T12:51:24.045Z"
   },
   {
    "duration": 194,
    "start_time": "2022-09-11T12:51:24.128Z"
   },
   {
    "duration": 195,
    "start_time": "2022-09-11T12:51:24.324Z"
   },
   {
    "duration": 12,
    "start_time": "2022-09-11T12:51:24.521Z"
   },
   {
    "duration": 6,
    "start_time": "2022-09-11T12:51:24.535Z"
   },
   {
    "duration": 12,
    "start_time": "2022-09-11T12:51:24.543Z"
   },
   {
    "duration": 11,
    "start_time": "2022-09-11T12:51:24.557Z"
   },
   {
    "duration": 13,
    "start_time": "2022-09-11T12:51:24.570Z"
   },
   {
    "duration": 2854,
    "start_time": "2022-09-11T12:51:24.585Z"
   },
   {
    "duration": 2,
    "start_time": "2022-09-11T12:51:27.442Z"
   },
   {
    "duration": 1092,
    "start_time": "2022-09-11T12:51:39.083Z"
   },
   {
    "duration": 3,
    "start_time": "2022-09-11T12:51:40.178Z"
   },
   {
    "duration": 417,
    "start_time": "2022-09-11T12:51:40.183Z"
   },
   {
    "duration": 38,
    "start_time": "2022-09-11T12:51:40.601Z"
   },
   {
    "duration": 122,
    "start_time": "2022-09-11T12:51:40.641Z"
   },
   {
    "duration": 145,
    "start_time": "2022-09-11T12:51:40.765Z"
   },
   {
    "duration": 155,
    "start_time": "2022-09-11T12:51:40.911Z"
   },
   {
    "duration": 62,
    "start_time": "2022-09-11T12:51:41.068Z"
   },
   {
    "duration": 13,
    "start_time": "2022-09-11T12:51:41.131Z"
   },
   {
    "duration": 65,
    "start_time": "2022-09-11T12:51:41.148Z"
   },
   {
    "duration": 42,
    "start_time": "2022-09-11T12:51:41.214Z"
   },
   {
    "duration": 12,
    "start_time": "2022-09-11T12:51:41.257Z"
   },
   {
    "duration": 12,
    "start_time": "2022-09-11T12:51:41.271Z"
   },
   {
    "duration": 126,
    "start_time": "2022-09-11T12:51:41.284Z"
   },
   {
    "duration": 106,
    "start_time": "2022-09-11T12:51:41.412Z"
   },
   {
    "duration": 193,
    "start_time": "2022-09-11T12:51:41.520Z"
   },
   {
    "duration": 101,
    "start_time": "2022-09-11T12:51:41.715Z"
   },
   {
    "duration": 105,
    "start_time": "2022-09-11T12:51:41.818Z"
   },
   {
    "duration": 90,
    "start_time": "2022-09-11T12:51:41.924Z"
   },
   {
    "duration": 193,
    "start_time": "2022-09-11T12:51:42.016Z"
   },
   {
    "duration": 8,
    "start_time": "2022-09-11T12:51:42.211Z"
   },
   {
    "duration": 95,
    "start_time": "2022-09-11T12:51:42.222Z"
   },
   {
    "duration": 5,
    "start_time": "2022-09-11T12:51:42.318Z"
   },
   {
    "duration": 9,
    "start_time": "2022-09-11T12:51:42.325Z"
   },
   {
    "duration": 9,
    "start_time": "2022-09-11T12:51:42.336Z"
   },
   {
    "duration": 10,
    "start_time": "2022-09-11T12:51:42.347Z"
   },
   {
    "duration": 2932,
    "start_time": "2022-09-11T12:51:42.358Z"
   },
   {
    "duration": 2,
    "start_time": "2022-09-11T12:51:45.293Z"
   },
   {
    "duration": 58,
    "start_time": "2022-09-11T12:52:10.235Z"
   },
   {
    "duration": 2494,
    "start_time": "2022-09-11T12:52:14.263Z"
   },
   {
    "duration": 1082,
    "start_time": "2022-09-11T12:52:31.448Z"
   },
   {
    "duration": 2,
    "start_time": "2022-09-11T12:52:32.534Z"
   },
   {
    "duration": 467,
    "start_time": "2022-09-11T12:52:32.538Z"
   },
   {
    "duration": 42,
    "start_time": "2022-09-11T12:52:33.006Z"
   },
   {
    "duration": 107,
    "start_time": "2022-09-11T12:52:33.050Z"
   },
   {
    "duration": 128,
    "start_time": "2022-09-11T12:52:33.159Z"
   },
   {
    "duration": 128,
    "start_time": "2022-09-11T12:52:33.289Z"
   },
   {
    "duration": 59,
    "start_time": "2022-09-11T12:52:33.419Z"
   },
   {
    "duration": 14,
    "start_time": "2022-09-11T12:52:33.479Z"
   },
   {
    "duration": 41,
    "start_time": "2022-09-11T12:52:33.510Z"
   },
   {
    "duration": 36,
    "start_time": "2022-09-11T12:52:33.553Z"
   },
   {
    "duration": 30,
    "start_time": "2022-09-11T12:52:33.591Z"
   },
   {
    "duration": 36,
    "start_time": "2022-09-11T12:52:33.622Z"
   },
   {
    "duration": 50,
    "start_time": "2022-09-11T12:52:33.659Z"
   },
   {
    "duration": 102,
    "start_time": "2022-09-11T12:52:33.712Z"
   },
   {
    "duration": 213,
    "start_time": "2022-09-11T12:52:33.816Z"
   },
   {
    "duration": 177,
    "start_time": "2022-09-11T12:52:34.033Z"
   },
   {
    "duration": 19,
    "start_time": "2022-09-11T12:52:34.212Z"
   },
   {
    "duration": 89,
    "start_time": "2022-09-11T12:52:34.234Z"
   },
   {
    "duration": 201,
    "start_time": "2022-09-11T12:52:34.325Z"
   },
   {
    "duration": 80,
    "start_time": "2022-09-11T12:52:34.528Z"
   },
   {
    "duration": 98,
    "start_time": "2022-09-11T12:52:34.611Z"
   },
   {
    "duration": 10,
    "start_time": "2022-09-11T12:52:34.712Z"
   },
   {
    "duration": 25,
    "start_time": "2022-09-11T12:52:34.724Z"
   },
   {
    "duration": 11,
    "start_time": "2022-09-11T12:52:34.752Z"
   },
   {
    "duration": 11,
    "start_time": "2022-09-11T12:52:34.765Z"
   },
   {
    "duration": 2440,
    "start_time": "2022-09-11T12:52:34.778Z"
   },
   {
    "duration": 2,
    "start_time": "2022-09-11T12:52:37.222Z"
   },
   {
    "duration": 43,
    "start_time": "2022-09-11T12:53:29.563Z"
   },
   {
    "duration": 1165,
    "start_time": "2022-09-11T12:55:19.089Z"
   },
   {
    "duration": 3,
    "start_time": "2022-09-11T12:55:20.256Z"
   },
   {
    "duration": 410,
    "start_time": "2022-09-11T12:55:20.261Z"
   },
   {
    "duration": 48,
    "start_time": "2022-09-11T12:55:20.673Z"
   },
   {
    "duration": 114,
    "start_time": "2022-09-11T12:55:20.723Z"
   },
   {
    "duration": 138,
    "start_time": "2022-09-11T12:55:20.838Z"
   },
   {
    "duration": 137,
    "start_time": "2022-09-11T12:55:20.978Z"
   },
   {
    "duration": 58,
    "start_time": "2022-09-11T12:55:21.117Z"
   },
   {
    "duration": 14,
    "start_time": "2022-09-11T12:55:21.176Z"
   },
   {
    "duration": 57,
    "start_time": "2022-09-11T12:55:21.191Z"
   },
   {
    "duration": 67,
    "start_time": "2022-09-11T12:55:21.249Z"
   },
   {
    "duration": 17,
    "start_time": "2022-09-11T12:55:21.318Z"
   },
   {
    "duration": 16,
    "start_time": "2022-09-11T12:55:21.337Z"
   },
   {
    "duration": 55,
    "start_time": "2022-09-11T12:55:21.356Z"
   },
   {
    "duration": 97,
    "start_time": "2022-09-11T12:55:21.412Z"
   },
   {
    "duration": 101,
    "start_time": "2022-09-11T12:55:21.511Z"
   },
   {
    "duration": 4,
    "start_time": "2022-09-11T12:55:21.614Z"
   },
   {
    "duration": 102,
    "start_time": "2022-09-11T12:55:21.620Z"
   },
   {
    "duration": 93,
    "start_time": "2022-09-11T12:55:21.728Z"
   },
   {
    "duration": 193,
    "start_time": "2022-09-11T12:55:21.822Z"
   },
   {
    "duration": 95,
    "start_time": "2022-09-11T12:55:22.017Z"
   },
   {
    "duration": 106,
    "start_time": "2022-09-11T12:55:22.113Z"
   },
   {
    "duration": 9,
    "start_time": "2022-09-11T12:55:22.221Z"
   },
   {
    "duration": 15,
    "start_time": "2022-09-11T12:55:22.232Z"
   },
   {
    "duration": 16,
    "start_time": "2022-09-11T12:55:22.248Z"
   },
   {
    "duration": 11,
    "start_time": "2022-09-11T12:55:22.266Z"
   },
   {
    "duration": 2543,
    "start_time": "2022-09-11T12:55:22.279Z"
   },
   {
    "duration": 3,
    "start_time": "2022-09-11T12:55:24.824Z"
   },
   {
    "duration": 3,
    "start_time": "2022-09-11T12:57:34.325Z"
   },
   {
    "duration": 12,
    "start_time": "2022-09-11T12:57:39.443Z"
   },
   {
    "duration": 4,
    "start_time": "2022-09-11T12:58:05.368Z"
   },
   {
    "duration": 9,
    "start_time": "2022-09-11T12:58:06.739Z"
   },
   {
    "duration": 12,
    "start_time": "2022-09-11T12:58:07.438Z"
   },
   {
    "duration": 3,
    "start_time": "2022-09-11T12:59:03.387Z"
   },
   {
    "duration": 8,
    "start_time": "2022-09-11T12:59:04.653Z"
   },
   {
    "duration": 9,
    "start_time": "2022-09-11T12:59:05.742Z"
   },
   {
    "duration": 8,
    "start_time": "2022-09-11T12:59:06.427Z"
   },
   {
    "duration": 3,
    "start_time": "2022-09-11T12:59:14.151Z"
   },
   {
    "duration": 1056,
    "start_time": "2022-09-11T12:59:22.159Z"
   },
   {
    "duration": 3,
    "start_time": "2022-09-11T12:59:23.217Z"
   },
   {
    "duration": 385,
    "start_time": "2022-09-11T12:59:23.221Z"
   },
   {
    "duration": 38,
    "start_time": "2022-09-11T12:59:23.609Z"
   },
   {
    "duration": 113,
    "start_time": "2022-09-11T12:59:23.648Z"
   },
   {
    "duration": 136,
    "start_time": "2022-09-11T12:59:23.762Z"
   },
   {
    "duration": 133,
    "start_time": "2022-09-11T12:59:23.899Z"
   },
   {
    "duration": 57,
    "start_time": "2022-09-11T12:59:24.033Z"
   },
   {
    "duration": 29,
    "start_time": "2022-09-11T12:59:24.092Z"
   },
   {
    "duration": 52,
    "start_time": "2022-09-11T12:59:24.124Z"
   },
   {
    "duration": 46,
    "start_time": "2022-09-11T12:59:24.178Z"
   },
   {
    "duration": 14,
    "start_time": "2022-09-11T12:59:24.225Z"
   },
   {
    "duration": 8,
    "start_time": "2022-09-11T12:59:24.240Z"
   },
   {
    "duration": 63,
    "start_time": "2022-09-11T12:59:24.250Z"
   },
   {
    "duration": 104,
    "start_time": "2022-09-11T12:59:24.318Z"
   },
   {
    "duration": 107,
    "start_time": "2022-09-11T12:59:24.510Z"
   },
   {
    "duration": 96,
    "start_time": "2022-09-11T12:59:24.619Z"
   },
   {
    "duration": 194,
    "start_time": "2022-09-11T12:59:24.718Z"
   },
   {
    "duration": 110,
    "start_time": "2022-09-11T12:59:24.914Z"
   },
   {
    "duration": 184,
    "start_time": "2022-09-11T12:59:25.027Z"
   },
   {
    "duration": 119,
    "start_time": "2022-09-11T12:59:25.212Z"
   },
   {
    "duration": 14,
    "start_time": "2022-09-11T12:59:25.332Z"
   },
   {
    "duration": 8,
    "start_time": "2022-09-11T12:59:25.348Z"
   },
   {
    "duration": 6,
    "start_time": "2022-09-11T12:59:25.357Z"
   },
   {
    "duration": 15,
    "start_time": "2022-09-11T12:59:25.365Z"
   },
   {
    "duration": 12,
    "start_time": "2022-09-11T12:59:25.381Z"
   },
   {
    "duration": 8,
    "start_time": "2022-09-11T12:59:25.408Z"
   },
   {
    "duration": 3080,
    "start_time": "2022-09-11T12:59:25.420Z"
   },
   {
    "duration": 3,
    "start_time": "2022-09-11T12:59:28.501Z"
   },
   {
    "duration": 50,
    "start_time": "2022-09-11T13:00:12.043Z"
   }
  ],
  "kernelspec": {
   "display_name": "Python 3 (ipykernel)",
   "language": "python",
   "name": "python3"
  },
  "language_info": {
   "codemirror_mode": {
    "name": "ipython",
    "version": 3
   },
   "file_extension": ".py",
   "mimetype": "text/x-python",
   "name": "python",
   "nbconvert_exporter": "python",
   "pygments_lexer": "ipython3",
   "version": "3.9.5"
  },
  "toc": {
   "base_numbering": 1,
   "nav_menu": {},
   "number_sections": true,
   "sideBar": true,
   "skip_h1_title": true,
   "title_cell": "Table of Contents",
   "title_sidebar": "Contents",
   "toc_cell": false,
   "toc_position": {},
   "toc_section_display": true,
   "toc_window_display": false
  }
 },
 "nbformat": 4,
 "nbformat_minor": 2
}
