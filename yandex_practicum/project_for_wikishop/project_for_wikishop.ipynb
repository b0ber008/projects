{
 "cells": [
  {
   "cell_type": "markdown",
   "metadata": {},
   "source": [
    "# Проект для «Викишоп»"
   ]
  },
  {
   "cell_type": "markdown",
   "metadata": {},
   "source": [
    "Интернет-магазин «Викишоп» запускает новый сервис. Теперь пользователи могут редактировать и дополнять описания товаров, как в вики-сообществах. То есть клиенты предлагают свои правки и комментируют изменения других. Магазину нужен инструмент, который будет искать токсичные комментарии и отправлять их на модерацию. \n",
    "\n",
    "Обучите модель классифицировать комментарии на позитивные и негативные. В вашем распоряжении набор данных с разметкой о токсичности правок.\n",
    "\n",
    "Постройте модель со значением метрики качества *F1* не меньше 0.75. \n",
    "\n",
    "**Инструкция по выполнению проекта**\n",
    "\n",
    "1. Загрузите и подготовьте данные.\n",
    "2. Обучите разные модели. \n",
    "3. Сделайте выводы.\n",
    "\n",
    "Для выполнения проекта применять *BERT* необязательно, но вы можете попробовать.\n",
    "\n",
    "**Описание данных**\n",
    "\n",
    "Данные находятся в файле `toxic_comments.csv`. Столбец *text* в нём содержит текст комментария, а *toxic* — целевой признак."
   ]
  },
  {
   "cell_type": "markdown",
   "metadata": {},
   "source": [
    "## Подготовка"
   ]
  },
  {
   "cell_type": "markdown",
   "metadata": {},
   "source": [
    "### Импорт и ознакомление с данными"
   ]
  },
  {
   "cell_type": "code",
   "execution_count": 1,
   "metadata": {
    "scrolled": true
   },
   "outputs": [],
   "source": [
    "# выполняем необходимые импорты\n",
    "\n",
    "import matplotlib.pyplot as plt\n",
    "import numpy as np\n",
    "import pandas as pd\n",
    "import re\n",
    "from pymystem3 import Mystem\n",
    "\n",
    "import nltk\n",
    "from nltk.corpus import wordnet\n",
    "from nltk.stem import WordNetLemmatizer \n",
    "from nltk.corpus import stopwords as nltk_stopwords\n",
    "from sklearn.feature_extraction.text import TfidfVectorizer\n",
    "\n",
    "from sklearn.linear_model import LogisticRegression\n",
    "from sklearn.tree import DecisionTreeClassifier\n",
    "from catboost import CatBoostClassifier\n",
    "\n",
    "from sklearn.feature_extraction.text import TfidfVectorizer\n",
    "from sklearn.model_selection import train_test_split, cross_val_score, GridSearchCV\n",
    "from sklearn.metrics import f1_score, precision_score, recall_score, accuracy_score, roc_auc_score, roc_curve\n",
    "from sklearn.utils import shuffle\n",
    "\n",
    "import warnings\n",
    "warnings.filterwarnings('ignore')"
   ]
  },
  {
   "cell_type": "code",
   "execution_count": 2,
   "metadata": {},
   "outputs": [
    {
     "name": "stderr",
     "output_type": "stream",
     "text": [
      "[nltk_data] Downloading package averaged_perceptron_tagger to\n",
      "[nltk_data]     /home/jovyan/nltk_data...\n",
      "[nltk_data]   Package averaged_perceptron_tagger is already up-to-\n",
      "[nltk_data]       date!\n"
     ]
    },
    {
     "data": {
      "text/plain": [
       "True"
      ]
     },
     "execution_count": 2,
     "metadata": {},
     "output_type": "execute_result"
    }
   ],
   "source": [
    "nltk.download('averaged_perceptron_tagger')"
   ]
  },
  {
   "cell_type": "code",
   "execution_count": 3,
   "metadata": {},
   "outputs": [
    {
     "name": "stderr",
     "output_type": "stream",
     "text": [
      "[nltk_data] Downloading package stopwords to /home/jovyan/nltk_data...\n",
      "[nltk_data]   Package stopwords is already up-to-date!\n"
     ]
    }
   ],
   "source": [
    "# библиотека для обработки слов\n",
    "nltk.download('stopwords')\n",
    "stopwords = set(nltk_stopwords.words('english'))"
   ]
  },
  {
   "cell_type": "code",
   "execution_count": 4,
   "metadata": {},
   "outputs": [
    {
     "data": {
      "text/html": [
       "<div>\n",
       "<style scoped>\n",
       "    .dataframe tbody tr th:only-of-type {\n",
       "        vertical-align: middle;\n",
       "    }\n",
       "\n",
       "    .dataframe tbody tr th {\n",
       "        vertical-align: top;\n",
       "    }\n",
       "\n",
       "    .dataframe thead th {\n",
       "        text-align: right;\n",
       "    }\n",
       "</style>\n",
       "<table border=\"1\" class=\"dataframe\">\n",
       "  <thead>\n",
       "    <tr style=\"text-align: right;\">\n",
       "      <th></th>\n",
       "      <th>Unnamed: 0</th>\n",
       "      <th>text</th>\n",
       "      <th>toxic</th>\n",
       "    </tr>\n",
       "  </thead>\n",
       "  <tbody>\n",
       "    <tr>\n",
       "      <th>0</th>\n",
       "      <td>0</td>\n",
       "      <td>Explanation\\nWhy the edits made under my usern...</td>\n",
       "      <td>0</td>\n",
       "    </tr>\n",
       "    <tr>\n",
       "      <th>1</th>\n",
       "      <td>1</td>\n",
       "      <td>D'aww! He matches this background colour I'm s...</td>\n",
       "      <td>0</td>\n",
       "    </tr>\n",
       "    <tr>\n",
       "      <th>2</th>\n",
       "      <td>2</td>\n",
       "      <td>Hey man, I'm really not trying to edit war. It...</td>\n",
       "      <td>0</td>\n",
       "    </tr>\n",
       "    <tr>\n",
       "      <th>3</th>\n",
       "      <td>3</td>\n",
       "      <td>\"\\nMore\\nI can't make any real suggestions on ...</td>\n",
       "      <td>0</td>\n",
       "    </tr>\n",
       "    <tr>\n",
       "      <th>4</th>\n",
       "      <td>4</td>\n",
       "      <td>You, sir, are my hero. Any chance you remember...</td>\n",
       "      <td>0</td>\n",
       "    </tr>\n",
       "  </tbody>\n",
       "</table>\n",
       "</div>"
      ],
      "text/plain": [
       "   Unnamed: 0                                               text  toxic\n",
       "0           0  Explanation\\nWhy the edits made under my usern...      0\n",
       "1           1  D'aww! He matches this background colour I'm s...      0\n",
       "2           2  Hey man, I'm really not trying to edit war. It...      0\n",
       "3           3  \"\\nMore\\nI can't make any real suggestions on ...      0\n",
       "4           4  You, sir, are my hero. Any chance you remember...      0"
      ]
     },
     "execution_count": 4,
     "metadata": {},
     "output_type": "execute_result"
    }
   ],
   "source": [
    "data = pd.read_csv('/datasets/toxic_comments.csv') # сохраняем датасет в переменной data\n",
    "data.head() # выводим на экран первые строчки для ознакомления"
   ]
  },
  {
   "cell_type": "code",
   "execution_count": 5,
   "metadata": {},
   "outputs": [
    {
     "name": "stdout",
     "output_type": "stream",
     "text": [
      "<class 'pandas.core.frame.DataFrame'>\n",
      "RangeIndex: 159292 entries, 0 to 159291\n",
      "Data columns (total 3 columns):\n",
      " #   Column      Non-Null Count   Dtype \n",
      "---  ------      --------------   ----- \n",
      " 0   Unnamed: 0  159292 non-null  int64 \n",
      " 1   text        159292 non-null  object\n",
      " 2   toxic       159292 non-null  int64 \n",
      "dtypes: int64(2), object(1)\n",
      "memory usage: 3.6+ MB\n"
     ]
    }
   ],
   "source": [
    "data.info() # смотрим на данные более подробно"
   ]
  },
  {
   "cell_type": "markdown",
   "metadata": {},
   "source": [
    "Итак, мы имеем:\n",
    "* Датасет с тремя столбцами, первый из который дублирует индекс;\n",
    "* Почти 160 000 строк;\n",
    "* Типы данных установлены верно;\n",
    "* Пропусков нет."
   ]
  },
  {
   "cell_type": "markdown",
   "metadata": {},
   "source": [
    "### Предобработка"
   ]
  },
  {
   "cell_type": "code",
   "execution_count": 6,
   "metadata": {
    "scrolled": true
   },
   "outputs": [],
   "source": [
    "# %%time\n",
    "\n",
    "# m = Mystem()\n",
    "\n",
    "# # фунция для лемматизации и очистки текста\n",
    "# def lemmatize_text(text):\n",
    "#     text = text.lower()\n",
    "#     lemm_text = \"\".join(m.lemmatize(text))\n",
    "#     cleared_text = re.sub(r'[^a-zA-Z]', ' ', lemm_text) \n",
    "#     return ' '.join(cleared_text.split())\n",
    "\n",
    "# # применяем функцию и заменяем стобец text на обработанный\n",
    "# data['lemm_text'] = data['text'].apply(lemmatize_text)\n",
    "# data = data.drop(['text'], axis=1)"
   ]
  },
  {
   "cell_type": "code",
   "execution_count": 7,
   "metadata": {},
   "outputs": [],
   "source": [
    "def get_wordnet_pos(word):\n",
    "    tag = nltk.pos_tag([word])[0][1][0].upper()\n",
    "    tag_dict = {\"J\": wordnet.ADJ,\n",
    "                \"N\": wordnet.NOUN,\n",
    "                \"V\": wordnet.VERB,\n",
    "                \"R\": wordnet.ADV}\n",
    "    return tag_dict.get(tag, wordnet.NOUN)"
   ]
  },
  {
   "cell_type": "code",
   "execution_count": 8,
   "metadata": {},
   "outputs": [
    {
     "name": "stdout",
     "output_type": "stream",
     "text": [
      "CPU times: user 17min 33s, sys: 1min 44s, total: 19min 17s\n",
      "Wall time: 19min 18s\n"
     ]
    }
   ],
   "source": [
    "%%time\n",
    "\n",
    "wnl = WordNetLemmatizer()\n",
    "\n",
    "# фунция для лемматизации и очистки текста\n",
    "def lemmatize_text(text):\n",
    "    text = text.lower()\n",
    "    text = re.sub(r'[^a-zA-Z]', ' ', text)\n",
    "    clear_text = text.split()\n",
    "    lemm_text = []\n",
    "    for i in range(len(clear_text)):\n",
    "        lemm_text.append(wnl.lemmatize(clear_text[i], get_wordnet_pos(clear_text[i])))\n",
    "    return ' '.join(lemm_text)\n",
    "\n",
    "# применяем функцию и заменяем стобец text на обработанный\n",
    "data['lemm_text'] = data['text'].apply(lemmatize_text)\n",
    "# data = data.drop(['text'], axis=1)"
   ]
  },
  {
   "cell_type": "code",
   "execution_count": 9,
   "metadata": {
    "scrolled": true
   },
   "outputs": [
    {
     "data": {
      "text/plain": [
       "'more i can t make any real suggestion on improvement i wonder if the section statistic should be later on or a subsection of type of accident i think the reference may need tidy so that they be all in the exact same format ie date format etc i can do that later on if no one else do first if you have any preference for format style on reference or want to do it yourself please let me know there appear to be a backlog on article for review so i guess there may be a delay until a reviewer turn up it s list in the relevant form eg wikipedia good article nomination transport'"
      ]
     },
     "execution_count": 9,
     "metadata": {},
     "output_type": "execute_result"
    }
   ],
   "source": [
    "data['lemm_text'][3] # проверяем"
   ]
  },
  {
   "cell_type": "code",
   "execution_count": 10,
   "metadata": {},
   "outputs": [
    {
     "data": {
      "text/plain": [
       "'\"\\nMore\\nI can\\'t make any real suggestions on improvement - I wondered if the section statistics should be later on, or a subsection of \"\"types of accidents\"\"  -I think the references may need tidying so that they are all in the exact same format ie date format etc. I can do that later on, if no-one else does first - if you have any preferences for formatting style on references or want to do it yourself please let me know.\\n\\nThere appears to be a backlog on articles for review so I guess there may be a delay until a reviewer turns up. It\\'s listed in the relevant form eg Wikipedia:Good_article_nominations#Transport  \"'"
      ]
     },
     "execution_count": 10,
     "metadata": {},
     "output_type": "execute_result"
    }
   ],
   "source": [
    "data['text'][3]"
   ]
  },
  {
   "cell_type": "code",
   "execution_count": 11,
   "metadata": {},
   "outputs": [],
   "source": [
    "data = data.drop(['text'], axis=1)"
   ]
  },
  {
   "cell_type": "code",
   "execution_count": 12,
   "metadata": {},
   "outputs": [
    {
     "name": "stdout",
     "output_type": "stream",
     "text": [
      "(95575, 111013)\n",
      "(31858, 111013)\n",
      "(31859, 111013)\n"
     ]
    }
   ],
   "source": [
    "# создаем переменные с признаками и целевым признаком\n",
    "target = data['toxic']\n",
    "features = data.drop(['toxic'], axis=1)\n",
    "\n",
    "# производим деление на три выборки - тренировочную (40%), валидационную (20%) и тестовую (20%)\n",
    "features_train, features_valid, target_train, target_valid = train_test_split(features, \n",
    "                                                                              target, \n",
    "                                                                              test_size=0.4, \n",
    "                                                                              random_state=12345)\n",
    "features_valid, features_test, target_valid, target_test = train_test_split(features_valid, \n",
    "                                                                            target_valid, \n",
    "                                                                            test_size=0.5,\n",
    "                                                                            random_state=12345)\n",
    "\n",
    "# создадим счётчик, указав в нём стоп-слова\n",
    "count_tf_idf = TfidfVectorizer(stop_words=stopwords)\n",
    "\n",
    "# переводим переменные в формат юникода\n",
    "# features_train = count_tf_idf.fit_transform(features_train['lemm_text'].values.astype('U'))\n",
    "# features_valid = count_tf_idf.transform(features_valid['lemm_text'].values.astype('U'))\n",
    "# features_test = count_tf_idf.transform(features_test['lemm_text'].values.astype('U'))\n",
    "\n",
    "features_train = count_tf_idf.fit_transform(features_train['lemm_text'])\n",
    "features_valid = count_tf_idf.transform(features_valid['lemm_text'])\n",
    "features_test = count_tf_idf.transform(features_test['lemm_text'])\n",
    "\n",
    "# проверяем\n",
    "print(features_train.shape)\n",
    "print(features_valid.shape)\n",
    "print(features_test.shape)"
   ]
  },
  {
   "cell_type": "code",
   "execution_count": 13,
   "metadata": {},
   "outputs": [
    {
     "name": "stdout",
     "output_type": "stream",
     "text": [
      "F1 на CV 0.6862141964439274\n",
      "CPU times: user 40.6 s, sys: 1min, total: 1min 41s\n",
      "Wall time: 1min 41s\n"
     ]
    }
   ],
   "source": [
    "%%time\n",
    "\n",
    "# сохраняем модель линейной регрессии в переменную\n",
    "model_LR = LogisticRegression()\n",
    "\n",
    "# выполняем перекрестную проверку\n",
    "train_f1 = cross_val_score(model_LR, \n",
    "                      features_train, \n",
    "                      target_train, \n",
    "                      cv=3, \n",
    "                      scoring='f1').mean()\n",
    "print('F1 на CV', train_f1)"
   ]
  },
  {
   "cell_type": "markdown",
   "metadata": {},
   "source": [
    "Значение F1-меры не дотягивает до необходимой нам величины. Чтобы повысить ее показатели, посмотрим на соотношение классов в нашем датасете."
   ]
  },
  {
   "cell_type": "markdown",
   "metadata": {},
   "source": [
    "### Соотношение классов"
   ]
  },
  {
   "cell_type": "code",
   "execution_count": 14,
   "metadata": {},
   "outputs": [
    {
     "data": {
      "text/plain": [
       "0    143106\n",
       "1     16186\n",
       "Name: toxic, dtype: int64"
      ]
     },
     "metadata": {},
     "output_type": "display_data"
    },
    {
     "data": {
      "text/plain": [
       "8.841344371679229"
      ]
     },
     "metadata": {},
     "output_type": "display_data"
    }
   ],
   "source": [
    "display(data['toxic'].value_counts())\n",
    "display(data['toxic'].value_counts()[0] / data['toxic'].value_counts()[1])"
   ]
  },
  {
   "cell_type": "code",
   "execution_count": 15,
   "metadata": {},
   "outputs": [
    {
     "data": {
      "image/png": "[encoded data removed]",
      "text/plain": [
       "<Figure size 396x396 with 1 Axes>"
      ]
     },
     "metadata": {},
     "output_type": "display_data"
    }
   ],
   "source": [
    "target.value_counts(normalize=True).plot(kind='pie',\n",
    "                                         figsize=[5.5,5.5],\n",
    "                                         legend=False,\n",
    "                                         autopct='%1.1f%%',\n",
    "                                         labels=['Отзыв токсичный, класс [0]', 'Отзыв не токсичный, класс [1]'])\n",
    "\n",
    "plt.title('Баланс распределения классов в тренировочных данных')\n",
    "plt.ylabel('')\n",
    "plt.show()"
   ]
  },
  {
   "cell_type": "markdown",
   "metadata": {},
   "source": [
    "Классы оказались крайне несбалансированными, распределившись в соотношении 1 к 8.\n",
    "Для устранения данной проблемы необходимо сдвинуть весы и уменьшить нулевой класс."
   ]
  },
  {
   "cell_type": "code",
   "execution_count": 16,
   "metadata": {},
   "outputs": [
    {
     "name": "stdout",
     "output_type": "stream",
     "text": [
      "F1: 0.7392553882621958\n",
      "CPU times: user 26.6 s, sys: 38 s, total: 1min 4s\n",
      "Wall time: 1min 4s\n"
     ]
    }
   ],
   "source": [
    "%%time\n",
    "\n",
    "# изменение весов\n",
    "model_LR = LogisticRegression(class_weight='balanced')\n",
    "train_f1_balanced = cross_val_score(model_LR, \n",
    "                                    features_train, \n",
    "                                    target_train, \n",
    "                                    cv=3, \n",
    "                                    scoring='f1').mean()\n",
    "print('F1:', train_f1_balanced)"
   ]
  },
  {
   "cell_type": "markdown",
   "metadata": {},
   "source": [
    "Теперь уравняем количество строк класса 0 и класса 1"
   ]
  },
  {
   "cell_type": "code",
   "execution_count": 17,
   "metadata": {},
   "outputs": [],
   "source": [
    "# делим классы и создаем для каждого свою переменную\n",
    "comments_train = data.iloc[target_train.index]\n",
    "\n",
    "target_train_zero = comments_train[comments_train['toxic'] == 0]['toxic']\n",
    "target_train_one = comments_train[comments_train['toxic'] == 1]['toxic']"
   ]
  },
  {
   "cell_type": "code",
   "execution_count": 21,
   "metadata": {},
   "outputs": [],
   "source": [
    "target_train_zero_downsample = target_train_zero.sample(target_train_one.shape[0], random_state=12345)\n",
    "target_train_downsample = pd.concat([target_train_zero_downsample, target_train_one])\n",
    "\n",
    "features_train_downsample = data.iloc[target_train_downsample.index]\n",
    "features_train_downsample, target_train_downsample = shuffle(features_train_downsample, # перемешиваем\n",
    "                                                             target_train_downsample,\n",
    "                                                             random_state=12345)\n",
    "\n",
    "# кодируем под тип юникода\n",
    "# features_train_downsample = count_tf_idf.transform(features_train_downsample['lemm_text']\n",
    "#                                                    .values.astype('U'))\n",
    "features_train_downsample = count_tf_idf.transform(features_train_downsample['lemm_text'])"
   ]
  },
  {
   "cell_type": "code",
   "execution_count": 22,
   "metadata": {},
   "outputs": [
    {
     "name": "stdout",
     "output_type": "stream",
     "text": [
      "F1: 0.8822452331370351\n"
     ]
    }
   ],
   "source": [
    "model_LR = LogisticRegression()\n",
    "train_f1_downsampled = cross_val_score(model_LR,\n",
    "                      features_train_downsample, \n",
    "                      target_train_downsample, \n",
    "                      cv=3, \n",
    "                      scoring='f1').mean()\n",
    "print('F1:', train_f1_downsampled)"
   ]
  },
  {
   "cell_type": "markdown",
   "metadata": {},
   "source": [
    "F1-мера заметно изменила свое значение в хорошую сторону."
   ]
  },
  {
   "cell_type": "markdown",
   "metadata": {},
   "source": [
    "Теперь посмотрим вероятность классов, построим ROC-кривую и на основе полученных данных составим небольшую сводную таблицу с результатами, чтобы можно было наглядно оценить проделанную работу."
   ]
  },
  {
   "cell_type": "markdown",
   "metadata": {},
   "source": [
    "### Построение ROC-кривой"
   ]
  },
  {
   "cell_type": "code",
   "execution_count": 23,
   "metadata": {},
   "outputs": [
    {
     "data": {
      "image/png": "[encoded data removed]",
      "text/plain": [
       "<Figure size 864x648 with 1 Axes>"
      ]
     },
     "metadata": {
      "needs_background": "light"
     },
     "output_type": "display_data"
    }
   ],
   "source": [
    "plt.figure(figsize=[12,9])\n",
    "\n",
    "plt.plot([0, 1], [0, 1], linestyle='--', label='RandomModel')\n",
    "\n",
    "\n",
    "model_LR = LogisticRegression()\n",
    "model_LR.fit(features_train, target_train)\n",
    "probabilities_valid = model_LR.predict_proba(features_valid)\n",
    "probabilities_one_valid = probabilities_valid[:, 1]\n",
    "fpr, tpr, thresholds = roc_curve(target_valid, probabilities_one_valid)\n",
    "auc_roc = roc_auc_score(target_valid, probabilities_one_valid)\n",
    "valid_f1 = f1_score(target_valid, model_LR.predict(features_valid))\n",
    "plt.plot(fpr, tpr, label='LR')\n",
    "\n",
    "model_LR = LogisticRegression(class_weight='balanced')\n",
    "model_LR.fit(features_train, target_train)\n",
    "probabilities_valid = model_LR.predict_proba(features_valid)\n",
    "probabilities_one_valid = probabilities_valid[:, 1]\n",
    "fpr, tpr, thresholds = roc_curve(target_valid, probabilities_one_valid)\n",
    "auc_roc_balanced = roc_auc_score(target_valid, probabilities_one_valid)\n",
    "valid_f1_balanced = f1_score(target_valid, model_LR.predict(features_valid))\n",
    "plt.plot(fpr, tpr, label='balansed')\n",
    "\n",
    "model_LR = LogisticRegression()\n",
    "model_LR.fit(features_train_downsample,target_train_downsample)\n",
    "probabilities_valid = model_LR.predict_proba(features_valid)\n",
    "probabilities_one_valid = probabilities_valid[:, 1]\n",
    "fpr, tpr, thresholds = roc_curve(target_valid, probabilities_one_valid)\n",
    "auc_roc_downsampled = roc_auc_score(target_valid, probabilities_one_valid)\n",
    "valid_f1_downsampled = f1_score(target_valid, model_LR.predict(features_valid))\n",
    "plt.plot(fpr, tpr, label='downsampled')\n",
    "\n",
    "plt.xlim([0,1])\n",
    "plt.ylim([0,1])\n",
    "\n",
    "plt.xlabel(\"False Positive Rate\")\n",
    "plt.ylabel(\"True Positive Rate\")\n",
    "\n",
    "plt.legend(loc='lower right', fontsize='x-large')\n",
    "\n",
    "plt.title(\"ROC-кривая\")\n",
    "plt.show()"
   ]
  },
  {
   "cell_type": "code",
   "execution_count": 24,
   "metadata": {
    "scrolled": true
   },
   "outputs": [
    {
     "data": {
      "text/html": [
       "<div>\n",
       "<style scoped>\n",
       "    .dataframe tbody tr th:only-of-type {\n",
       "        vertical-align: middle;\n",
       "    }\n",
       "\n",
       "    .dataframe tbody tr th {\n",
       "        vertical-align: top;\n",
       "    }\n",
       "\n",
       "    .dataframe thead th {\n",
       "        text-align: right;\n",
       "    }\n",
       "</style>\n",
       "<table border=\"1\" class=\"dataframe\">\n",
       "  <thead>\n",
       "    <tr style=\"text-align: right;\">\n",
       "      <th></th>\n",
       "      <th>F1 на CV</th>\n",
       "      <th>F1 на валидации</th>\n",
       "      <th>AUC-ROC</th>\n",
       "    </tr>\n",
       "  </thead>\n",
       "  <tbody>\n",
       "    <tr>\n",
       "      <th>LogisticRegression</th>\n",
       "      <td>0.686214</td>\n",
       "      <td>0.732400</td>\n",
       "      <td>0.968181</td>\n",
       "    </tr>\n",
       "    <tr>\n",
       "      <th>balansed</th>\n",
       "      <td>0.739255</td>\n",
       "      <td>0.744969</td>\n",
       "      <td>0.969344</td>\n",
       "    </tr>\n",
       "    <tr>\n",
       "      <th>downsampled</th>\n",
       "      <td>0.882245</td>\n",
       "      <td>0.692747</td>\n",
       "      <td>0.961708</td>\n",
       "    </tr>\n",
       "  </tbody>\n",
       "</table>\n",
       "</div>"
      ],
      "text/plain": [
       "                    F1 на CV  F1 на валидации   AUC-ROC\n",
       "LogisticRegression  0.686214         0.732400  0.968181\n",
       "balansed            0.739255         0.744969  0.969344\n",
       "downsampled         0.882245         0.692747  0.961708"
      ]
     },
     "execution_count": 24,
     "metadata": {},
     "output_type": "execute_result"
    }
   ],
   "source": [
    "# создаем сводную таблицу с результатами преобразований\n",
    "index = ['LogisticRegression',\n",
    "         'balansed',\n",
    "         'downsampled']\n",
    "data = {'F1 на CV':[train_f1,\n",
    "                    train_f1_balanced,\n",
    "                    train_f1_downsampled],\n",
    "        'F1 на валидации':[valid_f1,\n",
    "                           valid_f1_balanced,\n",
    "                           valid_f1_downsampled],\n",
    "        'AUC-ROC':[auc_roc,\n",
    "                   auc_roc_balanced,\n",
    "                   auc_roc_downsampled]}\n",
    "\n",
    "scores_data = pd.DataFrame(data=data, index=index)\n",
    "scores_data"
   ]
  },
  {
   "cell_type": "markdown",
   "metadata": {},
   "source": [
    "## Обучение"
   ]
  },
  {
   "cell_type": "markdown",
   "metadata": {},
   "source": [
    "### Логистическая регрессия"
   ]
  },
  {
   "cell_type": "code",
   "execution_count": 25,
   "metadata": {},
   "outputs": [
    {
     "name": "stdout",
     "output_type": "stream",
     "text": [
      "Лучшие параметры:\n",
      "\n",
      "{'C': 10, 'class_weight': {0: 1, 1: 8.4}, 'solver': 'lbfgs'}\n",
      "\n",
      "Grid scores\n",
      "\n",
      "0.713196 for {'C': 0.1, 'class_weight': {0: 1, 1: 8.4}, 'solver': 'newton-cg'}\n",
      "0.713130 for {'C': 0.1, 'class_weight': {0: 1, 1: 8.4}, 'solver': 'lbfgs'}\n",
      "0.713234 for {'C': 0.1, 'class_weight': {0: 1, 1: 8.4}, 'solver': 'liblinear'}\n",
      "0.748575 for {'C': 1, 'class_weight': {0: 1, 1: 8.4}, 'solver': 'newton-cg'}\n",
      "0.748539 for {'C': 1, 'class_weight': {0: 1, 1: 8.4}, 'solver': 'lbfgs'}\n",
      "0.748538 for {'C': 1, 'class_weight': {0: 1, 1: 8.4}, 'solver': 'liblinear'}\n",
      "0.752734 for {'C': 10, 'class_weight': {0: 1, 1: 8.4}, 'solver': 'newton-cg'}\n",
      "0.752978 for {'C': 10, 'class_weight': {0: 1, 1: 8.4}, 'solver': 'lbfgs'}\n",
      "0.752734 for {'C': 10, 'class_weight': {0: 1, 1: 8.4}, 'solver': 'liblinear'}\n",
      "\n",
      "CPU times: user 4min 16s, sys: 5min 40s, total: 9min 56s\n",
      "Wall time: 9min 57s\n"
     ]
    }
   ],
   "source": [
    "%%time\n",
    "\n",
    "dict_classes = {0:1, 1:8.4}\n",
    "\n",
    "model_LR = LogisticRegression()\n",
    "params = [{'solver':['newton-cg', 'lbfgs', 'liblinear'],\n",
    "                'C':[0.1, 1, 10],\n",
    "                'class_weight':[dict_classes]}]\n",
    "\n",
    "clf = GridSearchCV(model_LR, params, scoring='f1', cv=3)\n",
    "clf.fit(features_train, target_train)\n",
    "print('Лучшие параметры:')\n",
    "print()\n",
    "LR_best_params = clf.best_params_\n",
    "print(LR_best_params)\n",
    "print()\n",
    "print('Grid scores')\n",
    "print()\n",
    "means = clf.cv_results_['mean_test_score']\n",
    "stds = clf.cv_results_['std_test_score']\n",
    "for mean, std, params in zip(means, stds, clf.cv_results_['params']):\n",
    "    print(\"%0.6f for %r\"% (mean, params))\n",
    "print()\n",
    "\n",
    "cv_f1_LR = max(means)"
   ]
  },
  {
   "cell_type": "code",
   "execution_count": 26,
   "metadata": {},
   "outputs": [
    {
     "name": "stdout",
     "output_type": "stream",
     "text": [
      "F1 на cv 0.7529775227525274\n",
      "F1 на валидации 0.7592382035247299\n",
      "CPU times: user 20.5 s, sys: 28.1 s, total: 48.7 s\n",
      "Wall time: 48.7 s\n"
     ]
    }
   ],
   "source": [
    "%%time\n",
    "\n",
    "model_LR = LogisticRegression()\n",
    "model_LR.set_params(**LR_best_params)\n",
    "model_LR.fit(features_train, target_train)\n",
    "target_predict = model_LR.predict(features_valid)\n",
    "valid_f1_LR = f1_score(target_valid, target_predict)\n",
    "print('F1 на cv', cv_f1_LR)\n",
    "print('F1 на валидации', valid_f1_LR)"
   ]
  },
  {
   "cell_type": "markdown",
   "metadata": {},
   "source": [
    "### Дерево решений"
   ]
  },
  {
   "cell_type": "code",
   "execution_count": 27,
   "metadata": {},
   "outputs": [
    {
     "name": "stdout",
     "output_type": "stream",
     "text": [
      "# Tuning hyper-parameters for f1_score\n",
      "\n",
      "Best parameters set found on development set:\n",
      "\n",
      "{'class_weight': {0: 1, 1: 8.4}, 'max_depth': 36, 'random_state': 12345}\n",
      "\n",
      "Grid scores on development set:\n",
      "\n",
      "0.613408 for {'class_weight': {0: 1, 1: 8.4}, 'max_depth': 30, 'random_state': 12345}\n",
      "0.621505 for {'class_weight': {0: 1, 1: 8.4}, 'max_depth': 32, 'random_state': 12345}\n",
      "0.620619 for {'class_weight': {0: 1, 1: 8.4}, 'max_depth': 34, 'random_state': 12345}\n",
      "0.624875 for {'class_weight': {0: 1, 1: 8.4}, 'max_depth': 36, 'random_state': 12345}\n",
      "0.616523 for {'class_weight': {0: 1, 1: 8.4}, 'max_depth': 38, 'random_state': 12345}\n",
      "0.620028 for {'class_weight': {0: 1, 1: 8.4}, 'max_depth': 40, 'random_state': 12345}\n",
      "0.614247 for {'class_weight': {0: 1, 1: 8.4}, 'max_depth': 42, 'random_state': 12345}\n",
      "0.619062 for {'class_weight': {0: 1, 1: 8.4}, 'max_depth': 44, 'random_state': 12345}\n",
      "0.619799 for {'class_weight': {0: 1, 1: 8.4}, 'max_depth': 46, 'random_state': 12345}\n",
      "0.612789 for {'class_weight': {0: 1, 1: 8.4}, 'max_depth': 48, 'random_state': 12345}\n",
      "0.613868 for {'class_weight': {0: 1, 1: 8.4}, 'max_depth': 50, 'random_state': 12345}\n",
      "\n",
      "CPU times: user 11min 29s, sys: 7.33 s, total: 11min 36s\n",
      "Wall time: 11min 37s\n"
     ]
    }
   ],
   "source": [
    "%%time\n",
    "\n",
    "model_DT = DecisionTreeClassifier()\n",
    "params = [{'max_depth':[x for x in range(30,51,2)],\n",
    "                'random_state':[12345],\n",
    "                'class_weight':[dict_classes]}]\n",
    "\n",
    "\n",
    "print('# Tuning hyper-parameters for f1_score')\n",
    "print()\n",
    "clf = GridSearchCV(model_DT, params, scoring='f1', cv=3)\n",
    "clf.fit(features_train, target_train)\n",
    "print(\"Best parameters set found on development set:\")\n",
    "print()\n",
    "DTC_best_params = clf.best_params_\n",
    "print(DTC_best_params)\n",
    "print()\n",
    "print(\"Grid scores on development set:\")\n",
    "print()\n",
    "means = clf.cv_results_['mean_test_score']\n",
    "stds = clf.cv_results_['std_test_score']\n",
    "for mean, std, params in zip(means, stds, clf.cv_results_['params']):\n",
    "    print(\"%0.6f for %r\"% (mean, params))\n",
    "print()\n",
    "\n",
    "cv_f1_DTC = max(means)"
   ]
  },
  {
   "cell_type": "code",
   "execution_count": 28,
   "metadata": {},
   "outputs": [
    {
     "name": "stdout",
     "output_type": "stream",
     "text": [
      "F1 на cv 0.6248752190686176\n",
      "F1 на валидации 0.6394448030987734\n",
      "CPU times: user 24.9 s, sys: 186 ms, total: 25.1 s\n",
      "Wall time: 25.1 s\n"
     ]
    }
   ],
   "source": [
    "%%time\n",
    "\n",
    "model_DT = DecisionTreeClassifier()\n",
    "model_DT.set_params(**DTC_best_params)\n",
    "model_DT.fit(features_train, target_train)\n",
    "target_predict = model_DT.predict(features_valid)\n",
    "valid_f1_DTC = f1_score(target_valid, target_predict)\n",
    "print('F1 на cv', cv_f1_DTC)\n",
    "print('F1 на валидации', valid_f1_DTC)"
   ]
  },
  {
   "cell_type": "markdown",
   "metadata": {},
   "source": [
    "### CatBoost"
   ]
  },
  {
   "cell_type": "code",
   "execution_count": 29,
   "metadata": {},
   "outputs": [
    {
     "name": "stdout",
     "output_type": "stream",
     "text": [
      "F1 на cv 0.7220312891809758\n",
      "F1 на валидации 0.744741532976827\n",
      "CPU times: user 20min 14s, sys: 16.3 s, total: 20min 30s\n",
      "Wall time: 20min 35s\n"
     ]
    }
   ],
   "source": [
    "%%time\n",
    "\n",
    "model_cat = CatBoostClassifier(verbose=False, iterations=200)\n",
    "model_cat.fit(features_train, target_train)\n",
    "target_predict = model_cat.predict(features_valid)\n",
    "cv_f1_CBC = cross_val_score(model_cat,\n",
    "                            features_train, \n",
    "                            target_train, \n",
    "                            cv=3, \n",
    "                            scoring='f1').mean()\n",
    "valid_f1_CBC = f1_score(target_valid, target_predict)\n",
    "print('F1 на cv', cv_f1_CBC)\n",
    "print('F1 на валидации', valid_f1_CBC)"
   ]
  },
  {
   "cell_type": "markdown",
   "metadata": {},
   "source": [
    "### Вывод"
   ]
  },
  {
   "cell_type": "code",
   "execution_count": 30,
   "metadata": {},
   "outputs": [
    {
     "data": {
      "text/html": [
       "<div>\n",
       "<style scoped>\n",
       "    .dataframe tbody tr th:only-of-type {\n",
       "        vertical-align: middle;\n",
       "    }\n",
       "\n",
       "    .dataframe tbody tr th {\n",
       "        vertical-align: top;\n",
       "    }\n",
       "\n",
       "    .dataframe thead th {\n",
       "        text-align: right;\n",
       "    }\n",
       "</style>\n",
       "<table border=\"1\" class=\"dataframe\">\n",
       "  <thead>\n",
       "    <tr style=\"text-align: right;\">\n",
       "      <th></th>\n",
       "      <th>F1 на CV</th>\n",
       "      <th>F1 на валидации</th>\n",
       "    </tr>\n",
       "  </thead>\n",
       "  <tbody>\n",
       "    <tr>\n",
       "      <th>LogisticRegression</th>\n",
       "      <td>0.752978</td>\n",
       "      <td>0.759238</td>\n",
       "    </tr>\n",
       "    <tr>\n",
       "      <th>DecisionTreeClassifier</th>\n",
       "      <td>0.624875</td>\n",
       "      <td>0.639445</td>\n",
       "    </tr>\n",
       "    <tr>\n",
       "      <th>CatBoostClassifier</th>\n",
       "      <td>0.722031</td>\n",
       "      <td>0.744742</td>\n",
       "    </tr>\n",
       "  </tbody>\n",
       "</table>\n",
       "</div>"
      ],
      "text/plain": [
       "                        F1 на CV  F1 на валидации\n",
       "LogisticRegression      0.752978         0.759238\n",
       "DecisionTreeClassifier  0.624875         0.639445\n",
       "CatBoostClassifier      0.722031         0.744742"
      ]
     },
     "execution_count": 30,
     "metadata": {},
     "output_type": "execute_result"
    }
   ],
   "source": [
    "index = ['LogisticRegression',\n",
    "         'DecisionTreeClassifier',\n",
    "         'CatBoostClassifier']\n",
    "data = {'F1 на CV':[cv_f1_LR,\n",
    "                    cv_f1_DTC,\n",
    "                    cv_f1_CBC],\n",
    "        'F1 на валидации':[valid_f1_LR,\n",
    "                           valid_f1_DTC,\n",
    "                           valid_f1_CBC]}\n",
    "\n",
    "scores_data = pd.DataFrame(data=data, index=index)\n",
    "scores_data"
   ]
  },
  {
   "cell_type": "markdown",
   "metadata": {},
   "source": [
    "По полученным результатам можно увидеть, что лучше всего себя проявила модель логистической регресии. Поэтому именно на ней мы и будем проводить дальнейшее тестирование."
   ]
  },
  {
   "cell_type": "markdown",
   "metadata": {},
   "source": [
    "## Тестирование"
   ]
  },
  {
   "cell_type": "code",
   "execution_count": 31,
   "metadata": {},
   "outputs": [
    {
     "name": "stdout",
     "output_type": "stream",
     "text": [
      "ROC AUC: 0.9597569031848374\n",
      "F1: 0.7449143860676131\n",
      "Precision: 0.7044007749792416\n",
      "Recall: 0.7903726708074534\n",
      "Accuracy: 0.9452901848771148\n",
      "CPU times: user 19 s, sys: 27.7 s, total: 46.7 s\n",
      "Wall time: 46.8 s\n"
     ]
    }
   ],
   "source": [
    "%%time\n",
    "\n",
    "model_LR = LogisticRegression()\n",
    "model_LR.set_params(**LR_best_params)\n",
    "model_LR.fit(features_train, target_train)\n",
    "probabilities_test = model_LR.predict_proba(features_test)\n",
    "probabilities_one_test = probabilities_test[:, 1]\n",
    "fpr, tpr, thresholds = roc_curve(target_test, probabilities_one_test)\n",
    "predict_test = model_LR.predict(features_test)\n",
    "\n",
    "print('ROC AUC:', roc_auc_score(target_test, probabilities_one_test))\n",
    "print('F1:', f1_score(target_test, predict_test))\n",
    "print('Precision:', precision_score(target_test, predict_test))\n",
    "print('Recall:', recall_score(target_test, predict_test))\n",
    "print('Accuracy:', accuracy_score(target_test, predict_test))"
   ]
  },
  {
   "cell_type": "markdown",
   "metadata": {},
   "source": [
    "## Общий вывод"
   ]
  },
  {
   "cell_type": "markdown",
   "metadata": {},
   "source": [
    "В данном проекте мы выполнили предобработку данных, убрали дисбаланс целевого признака и на очищенных лемматизированных признаках обучили три модели.\n",
    "Перед нами стояла задача - создать инструмент, который будет искать токсичные комментарии и отправлять их на модерацию.\n",
    "На основании результатов, полученных в ходе обучения моделей, было решено выбрать в роли лучшей - логистическую регрессию, которую в дальнейшем мы протестировали на тестовой выборке, добившись показателей:\n",
    "* `0.759` F1 на валидации;\n",
    "* `0.744` F1 на тесте.\n",
    "\n",
    "Что соответствует условиям, поставленной перед нами задачи."
   ]
  }
 ],
 "metadata": {
  "ExecuteTimeLog": [
   {
    "duration": 379,
    "start_time": "2022-11-27T10:13:16.072Z"
   },
   {
    "duration": 7,
    "start_time": "2022-11-27T10:13:27.782Z"
   },
   {
    "duration": 105,
    "start_time": "2022-11-27T10:13:53.126Z"
   },
   {
    "duration": 3376,
    "start_time": "2022-11-27T10:14:06.201Z"
   },
   {
    "duration": 13,
    "start_time": "2022-11-27T10:14:15.432Z"
   },
   {
    "duration": 32,
    "start_time": "2022-11-27T10:14:20.810Z"
   },
   {
    "duration": 9,
    "start_time": "2022-11-27T10:14:51.355Z"
   },
   {
    "duration": 419,
    "start_time": "2022-11-27T10:15:06.035Z"
   },
   {
    "duration": 3373,
    "start_time": "2022-11-27T10:15:06.456Z"
   },
   {
    "duration": 14,
    "start_time": "2022-11-27T10:15:09.831Z"
   },
   {
    "duration": 31,
    "start_time": "2022-11-27T10:15:09.847Z"
   },
   {
    "duration": 474,
    "start_time": "2022-11-27T10:15:26.816Z"
   },
   {
    "duration": 3467,
    "start_time": "2022-11-27T10:15:27.292Z"
   },
   {
    "duration": 14,
    "start_time": "2022-11-27T10:15:30.760Z"
   },
   {
    "duration": 48,
    "start_time": "2022-11-27T10:15:30.776Z"
   },
   {
    "duration": 56,
    "start_time": "2022-11-27T10:17:56.835Z"
   },
   {
    "duration": 383,
    "start_time": "2022-11-27T10:18:03.891Z"
   },
   {
    "duration": 3392,
    "start_time": "2022-11-27T10:18:04.276Z"
   },
   {
    "duration": 14,
    "start_time": "2022-11-27T10:18:07.669Z"
   },
   {
    "duration": 36,
    "start_time": "2022-11-27T10:18:07.684Z"
   },
   {
    "duration": 420,
    "start_time": "2022-11-27T10:18:27.831Z"
   },
   {
    "duration": 3416,
    "start_time": "2022-11-27T10:18:29.025Z"
   },
   {
    "duration": 14,
    "start_time": "2022-11-27T10:18:32.443Z"
   },
   {
    "duration": 42,
    "start_time": "2022-11-27T10:18:32.458Z"
   },
   {
    "duration": 422,
    "start_time": "2022-11-27T12:29:56.629Z"
   },
   {
    "duration": 3381,
    "start_time": "2022-11-27T12:29:57.054Z"
   },
   {
    "duration": 13,
    "start_time": "2022-11-27T12:30:00.437Z"
   },
   {
    "duration": 38,
    "start_time": "2022-11-27T12:30:00.451Z"
   },
   {
    "duration": 398,
    "start_time": "2022-11-27T14:05:25.862Z"
   },
   {
    "duration": 3403,
    "start_time": "2022-11-27T14:05:26.263Z"
   },
   {
    "duration": 14,
    "start_time": "2022-11-27T14:05:29.667Z"
   },
   {
    "duration": 31,
    "start_time": "2022-11-27T14:05:29.682Z"
   },
   {
    "duration": 1752,
    "start_time": "2022-11-27T14:06:35.234Z"
   },
   {
    "duration": 3533,
    "start_time": "2022-11-27T14:06:44.624Z"
   },
   {
    "duration": 12,
    "start_time": "2022-11-27T14:06:50.250Z"
   },
   {
    "duration": 12,
    "start_time": "2022-11-27T14:06:57.004Z"
   },
   {
    "duration": 7236,
    "start_time": "2022-11-27T14:07:05.613Z"
   },
   {
    "duration": 11629,
    "start_time": "2022-11-27T14:07:20.511Z"
   },
   {
    "duration": 52321,
    "start_time": "2022-11-27T14:07:32.142Z"
   },
   {
    "duration": 377,
    "start_time": "2022-11-27T14:19:57.072Z"
   },
   {
    "duration": 2,
    "start_time": "2022-11-27T14:20:13.673Z"
   },
   {
    "duration": 899,
    "start_time": "2022-11-27T14:20:28.241Z"
   },
   {
    "duration": 843,
    "start_time": "2022-11-27T14:20:52.503Z"
   },
   {
    "duration": 829,
    "start_time": "2022-11-27T14:20:58.329Z"
   },
   {
    "duration": 809,
    "start_time": "2022-11-27T14:21:13.395Z"
   },
   {
    "duration": 32,
    "start_time": "2022-11-27T14:21:22.247Z"
   },
   {
    "duration": 32,
    "start_time": "2022-11-27T14:21:32.910Z"
   },
   {
    "duration": 49,
    "start_time": "2022-11-27T15:08:41.406Z"
   },
   {
    "duration": 421,
    "start_time": "2022-11-27T15:08:45.730Z"
   },
   {
    "duration": 3404,
    "start_time": "2022-11-27T15:08:46.153Z"
   },
   {
    "duration": 32,
    "start_time": "2022-11-27T15:08:49.558Z"
   },
   {
    "duration": 37,
    "start_time": "2022-11-27T15:08:49.592Z"
   },
   {
    "duration": 32,
    "start_time": "2022-11-27T15:09:18.613Z"
   },
   {
    "duration": 1552,
    "start_time": "2022-11-27T15:09:29.519Z"
   },
   {
    "duration": 10,
    "start_time": "2022-11-27T15:09:44.949Z"
   },
   {
    "duration": 2,
    "start_time": "2022-11-27T15:09:54.423Z"
   },
   {
    "duration": 2,
    "start_time": "2022-11-27T15:10:14.059Z"
   },
   {
    "duration": 46,
    "start_time": "2022-11-27T15:11:45.912Z"
   },
   {
    "duration": 1298,
    "start_time": "2022-11-27T15:11:54.021Z"
   },
   {
    "duration": 321,
    "start_time": "2022-11-27T15:11:55.321Z"
   },
   {
    "duration": 3344,
    "start_time": "2022-11-27T15:11:55.643Z"
   },
   {
    "duration": 36,
    "start_time": "2022-11-27T15:11:58.990Z"
   },
   {
    "duration": 48,
    "start_time": "2022-11-27T15:12:07.983Z"
   },
   {
    "duration": 1286,
    "start_time": "2022-11-27T15:12:13.060Z"
   },
   {
    "duration": 317,
    "start_time": "2022-11-27T15:12:14.348Z"
   },
   {
    "duration": 3368,
    "start_time": "2022-11-27T15:12:14.667Z"
   },
   {
    "duration": 30,
    "start_time": "2022-11-27T15:12:18.037Z"
   },
   {
    "duration": 29,
    "start_time": "2022-11-27T15:12:18.069Z"
   },
   {
    "duration": 3,
    "start_time": "2022-11-27T15:14:43.125Z"
   },
   {
    "duration": 4,
    "start_time": "2022-11-27T15:16:17.121Z"
   },
   {
    "duration": 6,
    "start_time": "2022-11-27T15:19:53.901Z"
   },
   {
    "duration": 201,
    "start_time": "2022-11-27T15:21:29.956Z"
   },
   {
    "duration": 1094,
    "start_time": "2022-11-27T15:21:49.330Z"
   },
   {
    "duration": 4,
    "start_time": "2022-11-27T15:22:04.000Z"
   },
   {
    "duration": 1270,
    "start_time": "2022-11-27T15:23:51.002Z"
   },
   {
    "duration": 1400,
    "start_time": "2022-11-27T20:02:48.751Z"
   },
   {
    "duration": 183,
    "start_time": "2022-11-27T20:02:50.153Z"
   },
   {
    "duration": 865,
    "start_time": "2022-11-27T20:02:50.338Z"
   },
   {
    "duration": 37,
    "start_time": "2022-11-27T20:02:51.206Z"
   },
   {
    "duration": 29,
    "start_time": "2022-11-27T20:02:51.244Z"
   },
   {
    "duration": 9,
    "start_time": "2022-11-27T20:02:51.275Z"
   },
   {
    "duration": 99610,
    "start_time": "2022-11-27T20:02:51.286Z"
   },
   {
    "duration": 3,
    "start_time": "2022-11-27T20:10:51.419Z"
   },
   {
    "duration": 137,
    "start_time": "2022-11-27T20:21:00.550Z"
   },
   {
    "duration": 84,
    "start_time": "2022-11-27T20:22:01.479Z"
   },
   {
    "duration": 14,
    "start_time": "2022-11-27T20:22:04.322Z"
   },
   {
    "duration": 278,
    "start_time": "2022-11-27T20:22:27.021Z"
   },
   {
    "duration": 5,
    "start_time": "2022-11-27T20:22:27.301Z"
   },
   {
    "duration": 12727,
    "start_time": "2022-11-27T20:22:45.601Z"
   },
   {
    "duration": 137087,
    "start_time": "2022-11-27T20:23:44.177Z"
   },
   {
    "duration": 88,
    "start_time": "2022-11-27T20:32:56.018Z"
   },
   {
    "duration": 11,
    "start_time": "2022-11-27T20:33:28.561Z"
   },
   {
    "duration": 18,
    "start_time": "2022-11-27T20:33:43.343Z"
   },
   {
    "duration": 150898,
    "start_time": "2022-11-27T20:33:45.069Z"
   },
   {
    "duration": 20,
    "start_time": "2022-11-27T20:38:27.437Z"
   },
   {
    "duration": 148575,
    "start_time": "2022-11-27T20:38:48.366Z"
   },
   {
    "duration": 12,
    "start_time": "2022-11-27T20:41:16.942Z"
   },
   {
    "duration": 141627,
    "start_time": "2022-11-27T20:42:46.621Z"
   },
   {
    "duration": 11,
    "start_time": "2022-11-27T20:45:08.250Z"
   },
   {
    "duration": 147358,
    "start_time": "2022-11-27T20:50:54.003Z"
   },
   {
    "duration": 81396,
    "start_time": "2022-11-27T20:53:21.363Z"
   },
   {
    "duration": 11,
    "start_time": "2022-11-27T20:54:42.761Z"
   },
   {
    "duration": 12,
    "start_time": "2022-11-27T21:10:01.377Z"
   },
   {
    "duration": 44,
    "start_time": "2022-11-27T21:10:12.091Z"
   },
   {
    "duration": 15,
    "start_time": "2022-11-27T21:10:25.883Z"
   },
   {
    "duration": 1414,
    "start_time": "2022-11-27T21:10:34.278Z"
   },
   {
    "duration": 16,
    "start_time": "2022-11-27T21:10:42.849Z"
   },
   {
    "duration": 58246,
    "start_time": "2022-11-27T21:12:29.700Z"
   },
   {
    "duration": 90,
    "start_time": "2022-11-27T21:13:27.956Z"
   },
   {
    "duration": 110848,
    "start_time": "2022-11-27T21:14:15.482Z"
   },
   {
    "duration": 18,
    "start_time": "2022-11-27T21:16:06.331Z"
   },
   {
    "duration": 690199,
    "start_time": "2022-11-27T21:17:51.143Z"
   },
   {
    "duration": 45697,
    "start_time": "2022-11-27T21:31:52.049Z"
   },
   {
    "duration": 664723,
    "start_time": "2022-11-27T21:32:37.748Z"
   },
   {
    "duration": 31967,
    "start_time": "2022-11-27T21:43:42.473Z"
   },
   {
    "duration": 1670284,
    "start_time": "2022-11-27T21:44:14.442Z"
   },
   {
    "duration": 19,
    "start_time": "2022-11-27T22:12:04.728Z"
   },
   {
    "duration": 0,
    "start_time": "2022-11-27T22:12:04.748Z"
   },
   {
    "duration": 17,
    "start_time": "2022-11-27T22:23:51.546Z"
   },
   {
    "duration": 1549,
    "start_time": "2022-11-27T22:24:02.850Z"
   },
   {
    "duration": 259,
    "start_time": "2022-11-27T22:24:04.401Z"
   },
   {
    "duration": 3427,
    "start_time": "2022-11-27T22:24:04.664Z"
   },
   {
    "duration": 31,
    "start_time": "2022-11-27T22:24:08.093Z"
   },
   {
    "duration": 11,
    "start_time": "2022-11-27T22:24:08.126Z"
   },
   {
    "duration": 100100,
    "start_time": "2022-11-27T22:24:08.139Z"
   },
   {
    "duration": 11778,
    "start_time": "2022-11-27T22:25:48.241Z"
   },
   {
    "duration": 118818,
    "start_time": "2022-11-27T22:26:00.020Z"
   },
   {
    "duration": 13,
    "start_time": "2022-11-27T22:27:58.842Z"
   },
   {
    "duration": 125383,
    "start_time": "2022-11-27T22:27:58.856Z"
   },
   {
    "duration": 69998,
    "start_time": "2022-11-27T22:30:04.241Z"
   },
   {
    "duration": 26,
    "start_time": "2022-11-27T22:31:14.241Z"
   },
   {
    "duration": 1351,
    "start_time": "2022-11-27T22:31:14.269Z"
   },
   {
    "duration": 43919,
    "start_time": "2022-11-27T22:31:15.622Z"
   },
   {
    "duration": 94603,
    "start_time": "2022-11-27T22:31:59.543Z"
   },
   {
    "duration": 14,
    "start_time": "2022-11-27T22:33:34.148Z"
   },
   {
    "duration": 650377,
    "start_time": "2022-11-27T22:33:34.164Z"
   },
   {
    "duration": 44993,
    "start_time": "2022-11-27T22:44:24.545Z"
   },
   {
    "duration": 665687,
    "start_time": "2022-11-27T22:45:09.540Z"
   },
   {
    "duration": 31390,
    "start_time": "2022-11-27T22:56:15.229Z"
   },
   {
    "duration": 1656212,
    "start_time": "2022-11-27T22:56:46.621Z"
   },
   {
    "duration": 138,
    "start_time": "2022-11-27T23:24:22.838Z"
   },
   {
    "duration": 0,
    "start_time": "2022-11-27T23:24:22.978Z"
   },
   {
    "duration": 0,
    "start_time": "2022-11-27T23:24:22.979Z"
   },
   {
    "duration": 0,
    "start_time": "2022-11-27T23:24:22.981Z"
   },
   {
    "duration": 0,
    "start_time": "2022-11-27T23:24:22.982Z"
   },
   {
    "duration": 11,
    "start_time": "2022-11-27T23:27:51.042Z"
   },
   {
    "duration": 43387,
    "start_time": "2022-11-27T23:28:08.755Z"
   },
   {
    "duration": 11,
    "start_time": "2022-11-27T23:29:40.558Z"
   },
   {
    "duration": 9,
    "start_time": "2022-11-27T23:30:00.932Z"
   },
   {
    "duration": 3,
    "start_time": "2022-11-27T23:30:54.857Z"
   },
   {
    "duration": 10,
    "start_time": "2022-11-27T23:31:06.724Z"
   },
   {
    "duration": 4,
    "start_time": "2022-11-27T23:31:10.967Z"
   },
   {
    "duration": 1473,
    "start_time": "2022-11-27T23:31:40.568Z"
   },
   {
    "duration": 212,
    "start_time": "2022-11-27T23:31:42.044Z"
   },
   {
    "duration": 890,
    "start_time": "2022-11-27T23:31:42.258Z"
   },
   {
    "duration": 33,
    "start_time": "2022-11-27T23:31:48.597Z"
   },
   {
    "duration": 91079,
    "start_time": "2022-11-27T23:31:49.760Z"
   },
   {
    "duration": 8,
    "start_time": "2022-11-27T23:37:11.767Z"
   },
   {
    "duration": 4,
    "start_time": "2022-11-27T23:37:38.372Z"
   },
   {
    "duration": 4,
    "start_time": "2022-11-27T23:37:43.733Z"
   },
   {
    "duration": 1310,
    "start_time": "2022-11-27T23:38:10.555Z"
   },
   {
    "duration": 4,
    "start_time": "2022-11-27T23:38:20.628Z"
   },
   {
    "duration": 11578,
    "start_time": "2022-11-27T23:44:24.066Z"
   },
   {
    "duration": 11697,
    "start_time": "2022-11-27T23:48:09.983Z"
   },
   {
    "duration": 108657,
    "start_time": "2022-11-27T23:48:21.682Z"
   },
   {
    "duration": 10,
    "start_time": "2022-11-27T23:54:26.083Z"
   },
   {
    "duration": 2,
    "start_time": "2022-11-28T00:07:01.752Z"
   },
   {
    "duration": 60694,
    "start_time": "2022-11-28T00:07:23.024Z"
   },
   {
    "duration": 68417,
    "start_time": "2022-11-28T00:08:44.422Z"
   },
   {
    "duration": 75866,
    "start_time": "2022-11-28T00:09:59.186Z"
   },
   {
    "duration": 10,
    "start_time": "2022-11-28T00:12:49.118Z"
   },
   {
    "duration": 28,
    "start_time": "2022-11-28T00:12:52.202Z"
   },
   {
    "duration": 10,
    "start_time": "2022-11-28T00:12:53.969Z"
   },
   {
    "duration": 27,
    "start_time": "2022-11-28T00:13:50.495Z"
   },
   {
    "duration": 28,
    "start_time": "2022-11-28T00:16:29.367Z"
   },
   {
    "duration": 1313,
    "start_time": "2022-11-28T00:18:44.654Z"
   },
   {
    "duration": 31149,
    "start_time": "2022-11-28T00:19:09.889Z"
   },
   {
    "duration": 84780,
    "start_time": "2022-11-28T00:21:43.480Z"
   },
   {
    "duration": 109582,
    "start_time": "2022-11-28T00:23:08.262Z"
   },
   {
    "duration": 31759,
    "start_time": "2022-11-28T00:27:23.379Z"
   },
   {
    "duration": 96,
    "start_time": "2022-11-28T00:37:17.247Z"
   },
   {
    "duration": 347025,
    "start_time": "2022-11-28T00:37:24.448Z"
   },
   {
    "duration": 0,
    "start_time": "2022-11-28T00:43:11.637Z"
   },
   {
    "duration": 156,
    "start_time": "2022-11-28T00:47:05.504Z"
   },
   {
    "duration": 1537,
    "start_time": "2022-11-28T00:47:39.714Z"
   },
   {
    "duration": 141,
    "start_time": "2022-11-28T00:47:41.253Z"
   },
   {
    "duration": 898,
    "start_time": "2022-11-28T00:47:41.395Z"
   },
   {
    "duration": 43,
    "start_time": "2022-11-28T00:47:42.294Z"
   },
   {
    "duration": 90332,
    "start_time": "2022-11-28T00:47:42.340Z"
   },
   {
    "duration": 5,
    "start_time": "2022-11-28T00:49:12.674Z"
   },
   {
    "duration": 11774,
    "start_time": "2022-11-28T00:49:12.681Z"
   },
   {
    "duration": 194,
    "start_time": "2022-11-28T00:49:24.457Z"
   },
   {
    "duration": 11,
    "start_time": "2022-11-28T00:49:24.653Z"
   },
   {
    "duration": 2,
    "start_time": "2022-11-28T00:49:24.666Z"
   },
   {
    "duration": 83,
    "start_time": "2022-11-28T00:49:24.669Z"
   },
   {
    "duration": 27,
    "start_time": "2022-11-28T00:49:24.753Z"
   },
   {
    "duration": 1286,
    "start_time": "2022-11-28T00:49:24.781Z"
   },
   {
    "duration": 32367,
    "start_time": "2022-11-28T00:49:26.070Z"
   },
   {
    "duration": 45061,
    "start_time": "2022-11-28T00:49:58.440Z"
   },
   {
    "duration": 0,
    "start_time": "2022-11-28T00:50:43.503Z"
   },
   {
    "duration": 0,
    "start_time": "2022-11-28T00:50:43.505Z"
   },
   {
    "duration": 0,
    "start_time": "2022-11-28T00:50:43.506Z"
   },
   {
    "duration": 0,
    "start_time": "2022-11-28T00:50:43.507Z"
   },
   {
    "duration": 0,
    "start_time": "2022-11-28T00:50:43.509Z"
   },
   {
    "duration": 0,
    "start_time": "2022-11-28T00:50:43.510Z"
   },
   {
    "duration": 0,
    "start_time": "2022-11-28T00:50:43.511Z"
   },
   {
    "duration": 0,
    "start_time": "2022-11-28T00:50:43.512Z"
   },
   {
    "duration": 0,
    "start_time": "2022-11-28T00:50:43.513Z"
   },
   {
    "duration": 70,
    "start_time": "2022-11-28T00:50:53.205Z"
   },
   {
    "duration": 64538,
    "start_time": "2022-11-28T00:50:58.010Z"
   },
   {
    "duration": 27,
    "start_time": "2022-11-28T00:52:26.383Z"
   },
   {
    "duration": 1301,
    "start_time": "2022-11-28T00:52:27.131Z"
   },
   {
    "duration": 31093,
    "start_time": "2022-11-28T00:52:29.145Z"
   },
   {
    "duration": 44257,
    "start_time": "2022-11-28T00:53:00.240Z"
   },
   {
    "duration": 0,
    "start_time": "2022-11-28T00:53:44.499Z"
   },
   {
    "duration": 0,
    "start_time": "2022-11-28T00:53:44.501Z"
   },
   {
    "duration": 0,
    "start_time": "2022-11-28T00:53:44.502Z"
   },
   {
    "duration": 0,
    "start_time": "2022-11-28T00:53:44.503Z"
   },
   {
    "duration": 0,
    "start_time": "2022-11-28T00:53:44.504Z"
   },
   {
    "duration": 0,
    "start_time": "2022-11-28T00:53:44.505Z"
   },
   {
    "duration": 94891,
    "start_time": "2022-11-28T00:55:38.539Z"
   },
   {
    "duration": 12,
    "start_time": "2022-11-28T00:57:54.085Z"
   },
   {
    "duration": 84,
    "start_time": "2022-11-28T00:58:54.344Z"
   },
   {
    "duration": 110893,
    "start_time": "2022-11-28T00:59:00.849Z"
   },
   {
    "duration": 13,
    "start_time": "2022-11-28T01:02:44.910Z"
   },
   {
    "duration": 10,
    "start_time": "2022-11-28T01:03:16.189Z"
   },
   {
    "duration": 94,
    "start_time": "2022-11-28T01:03:21.385Z"
   },
   {
    "duration": 84,
    "start_time": "2022-11-28T01:03:36.372Z"
   },
   {
    "duration": 77,
    "start_time": "2022-11-28T01:04:05.394Z"
   },
   {
    "duration": 39,
    "start_time": "2022-11-28T01:04:29.441Z"
   },
   {
    "duration": 44,
    "start_time": "2022-11-28T01:04:41.071Z"
   },
   {
    "duration": 38,
    "start_time": "2022-11-28T01:04:56.250Z"
   },
   {
    "duration": 43,
    "start_time": "2022-11-28T01:05:05.468Z"
   },
   {
    "duration": 595197,
    "start_time": "2022-11-28T01:05:47.555Z"
   },
   {
    "duration": 44476,
    "start_time": "2022-11-28T01:15:54.581Z"
   },
   {
    "duration": 635812,
    "start_time": "2022-11-28T01:16:39.060Z"
   },
   {
    "duration": 22123,
    "start_time": "2022-11-28T01:27:14.874Z"
   },
   {
    "duration": 406584,
    "start_time": "2022-11-28T01:27:36.999Z"
   },
   {
    "duration": 11,
    "start_time": "2022-11-28T01:34:23.585Z"
   },
   {
    "duration": 0,
    "start_time": "2022-11-28T01:34:23.598Z"
   },
   {
    "duration": 0,
    "start_time": "2022-11-28T01:34:23.600Z"
   },
   {
    "duration": 21962,
    "start_time": "2022-11-28T01:35:26.517Z"
   },
   {
    "duration": 1641388,
    "start_time": "2022-11-28T01:35:48.481Z"
   },
   {
    "duration": 10,
    "start_time": "2022-11-28T02:03:09.872Z"
   },
   {
    "duration": 44256,
    "start_time": "2022-11-28T02:03:09.883Z"
   },
   {
    "duration": 8,
    "start_time": "2022-11-28T02:07:17.416Z"
   },
   {
    "duration": 43693,
    "start_time": "2022-11-28T02:07:17.438Z"
   },
   {
    "duration": 44897,
    "start_time": "2022-11-28T02:09:13.072Z"
   },
   {
    "duration": 99,
    "start_time": "2022-11-28T02:11:54.716Z"
   },
   {
    "duration": 116,
    "start_time": "2022-11-28T02:12:33.835Z"
   },
   {
    "duration": 178,
    "start_time": "2022-11-28T02:12:40.975Z"
   },
   {
    "duration": 639594,
    "start_time": "2022-11-28T02:13:45.361Z"
   },
   {
    "duration": 589411,
    "start_time": "2022-11-28T02:25:49.231Z"
   },
   {
    "duration": 50,
    "start_time": "2022-11-28T12:02:36.035Z"
   },
   {
    "duration": 1830,
    "start_time": "2022-11-28T12:02:51.867Z"
   },
   {
    "duration": 216,
    "start_time": "2022-11-28T12:02:53.699Z"
   },
   {
    "duration": 3430,
    "start_time": "2022-11-28T12:02:53.917Z"
   },
   {
    "duration": 31,
    "start_time": "2022-11-28T12:02:57.349Z"
   },
   {
    "duration": 112903,
    "start_time": "2022-11-28T12:02:57.382Z"
   },
   {
    "duration": 11,
    "start_time": "2022-11-28T12:04:50.294Z"
   },
   {
    "duration": 151,
    "start_time": "2022-11-28T12:04:50.307Z"
   },
   {
    "duration": 2221,
    "start_time": "2022-12-04T04:53:23.448Z"
   },
   {
    "duration": 149,
    "start_time": "2022-12-04T04:53:29.345Z"
   },
   {
    "duration": 3920,
    "start_time": "2022-12-04T04:53:30.977Z"
   },
   {
    "duration": 34,
    "start_time": "2022-12-04T04:53:36.247Z"
   },
   {
    "duration": 99798,
    "start_time": "2022-12-04T04:53:42.320Z"
   },
   {
    "duration": 1301,
    "start_time": "2022-12-04T04:57:05.481Z"
   },
   {
    "duration": 1654,
    "start_time": "2022-12-04T04:57:29.757Z"
   },
   {
    "duration": 213,
    "start_time": "2022-12-04T04:57:31.413Z"
   },
   {
    "duration": 930,
    "start_time": "2022-12-04T04:57:31.628Z"
   },
   {
    "duration": 33,
    "start_time": "2022-12-04T04:57:32.560Z"
   },
   {
    "duration": 15,
    "start_time": "2022-12-04T04:57:32.596Z"
   },
   {
    "duration": 76095,
    "start_time": "2022-12-04T04:57:32.613Z"
   },
   {
    "duration": 14779,
    "start_time": "2022-12-04T05:02:04.120Z"
   },
   {
    "duration": 3112,
    "start_time": "2022-12-04T05:03:14.739Z"
   },
   {
    "duration": 8,
    "start_time": "2022-12-04T05:10:45.692Z"
   },
   {
    "duration": 1237,
    "start_time": "2022-12-04T05:10:55.864Z"
   },
   {
    "duration": 1237,
    "start_time": "2022-12-04T05:11:49.148Z"
   },
   {
    "duration": 2801,
    "start_time": "2022-12-04T05:12:03.661Z"
   },
   {
    "duration": 165,
    "start_time": "2022-12-04T05:12:06.465Z"
   },
   {
    "duration": 940,
    "start_time": "2022-12-04T05:12:06.631Z"
   },
   {
    "duration": 38,
    "start_time": "2022-12-04T05:12:07.573Z"
   },
   {
    "duration": 15,
    "start_time": "2022-12-04T05:12:07.614Z"
   },
   {
    "duration": 7298,
    "start_time": "2022-12-04T05:12:09.834Z"
   },
   {
    "duration": 5,
    "start_time": "2022-12-04T05:13:38.440Z"
   },
   {
    "duration": 4,
    "start_time": "2022-12-04T05:13:42.335Z"
   },
   {
    "duration": 2901,
    "start_time": "2022-12-04T05:17:08.171Z"
   },
   {
    "duration": 153,
    "start_time": "2022-12-04T05:17:11.074Z"
   },
   {
    "duration": 953,
    "start_time": "2022-12-04T05:17:11.229Z"
   },
   {
    "duration": 34,
    "start_time": "2022-12-04T05:17:12.184Z"
   },
   {
    "duration": 2,
    "start_time": "2022-12-04T05:17:12.220Z"
   },
   {
    "duration": 604,
    "start_time": "2022-12-04T05:17:13.560Z"
   },
   {
    "duration": 37978,
    "start_time": "2022-12-04T05:17:26.712Z"
   },
   {
    "duration": 1302,
    "start_time": "2022-12-04T05:19:04.265Z"
   },
   {
    "duration": 5,
    "start_time": "2022-12-04T05:19:05.569Z"
   },
   {
    "duration": 5,
    "start_time": "2022-12-04T05:19:16.504Z"
   },
   {
    "duration": 2783,
    "start_time": "2022-12-04T05:20:16.694Z"
   },
   {
    "duration": 146,
    "start_time": "2022-12-04T05:20:19.479Z"
   },
   {
    "duration": 978,
    "start_time": "2022-12-04T05:20:19.627Z"
   },
   {
    "duration": 51,
    "start_time": "2022-12-04T05:20:20.607Z"
   },
   {
    "duration": 3,
    "start_time": "2022-12-04T05:20:20.661Z"
   },
   {
    "duration": 37016,
    "start_time": "2022-12-04T05:20:20.666Z"
   },
   {
    "duration": 5,
    "start_time": "2022-12-04T05:20:57.684Z"
   },
   {
    "duration": 6,
    "start_time": "2022-12-04T05:20:57.690Z"
   },
   {
    "duration": 4,
    "start_time": "2022-12-04T05:33:17.514Z"
   },
   {
    "duration": 567,
    "start_time": "2022-12-04T05:43:54.525Z"
   },
   {
    "duration": 2701,
    "start_time": "2022-12-04T05:44:05.292Z"
   },
   {
    "duration": 134,
    "start_time": "2022-12-04T05:44:07.996Z"
   },
   {
    "duration": 929,
    "start_time": "2022-12-04T05:44:08.133Z"
   },
   {
    "duration": 35,
    "start_time": "2022-12-04T05:44:09.064Z"
   },
   {
    "duration": 2,
    "start_time": "2022-12-04T05:44:09.101Z"
   },
   {
    "duration": 6,
    "start_time": "2022-12-04T05:44:09.105Z"
   },
   {
    "duration": 571,
    "start_time": "2022-12-04T05:44:17.244Z"
   },
   {
    "duration": 464,
    "start_time": "2022-12-04T05:45:15.381Z"
   },
   {
    "duration": 580,
    "start_time": "2022-12-04T05:45:21.647Z"
   },
   {
    "duration": 13,
    "start_time": "2022-12-04T05:45:39.630Z"
   },
   {
    "duration": 2994,
    "start_time": "2022-12-04T05:58:22.218Z"
   },
   {
    "duration": 170,
    "start_time": "2022-12-04T05:58:25.215Z"
   },
   {
    "duration": 950,
    "start_time": "2022-12-04T05:58:25.387Z"
   },
   {
    "duration": 41,
    "start_time": "2022-12-04T05:58:26.338Z"
   },
   {
    "duration": 3,
    "start_time": "2022-12-04T05:58:26.382Z"
   },
   {
    "duration": 8,
    "start_time": "2022-12-04T05:58:26.387Z"
   },
   {
    "duration": 15,
    "start_time": "2022-12-04T05:58:26.397Z"
   },
   {
    "duration": 1150499,
    "start_time": "2022-12-04T05:58:26.414Z"
   },
   {
    "duration": 5,
    "start_time": "2022-12-04T06:23:22.459Z"
   },
   {
    "duration": 4,
    "start_time": "2022-12-04T06:23:28.735Z"
   },
   {
    "duration": 10,
    "start_time": "2022-12-04T06:23:45.423Z"
   },
   {
    "duration": 5,
    "start_time": "2022-12-04T06:24:10.254Z"
   },
   {
    "duration": 5,
    "start_time": "2022-12-04T06:27:56.112Z"
   },
   {
    "duration": 1696,
    "start_time": "2022-12-04T06:29:26.178Z"
   },
   {
    "duration": 217,
    "start_time": "2022-12-04T06:29:27.876Z"
   },
   {
    "duration": 6,
    "start_time": "2022-12-04T06:29:28.095Z"
   },
   {
    "duration": 938,
    "start_time": "2022-12-04T06:29:28.102Z"
   },
   {
    "duration": 41,
    "start_time": "2022-12-04T06:29:29.042Z"
   },
   {
    "duration": 3,
    "start_time": "2022-12-04T06:29:29.084Z"
   },
   {
    "duration": 8,
    "start_time": "2022-12-04T06:29:29.088Z"
   },
   {
    "duration": 1656,
    "start_time": "2022-12-04T06:30:21.461Z"
   },
   {
    "duration": 153,
    "start_time": "2022-12-04T06:30:23.119Z"
   },
   {
    "duration": 6,
    "start_time": "2022-12-04T06:30:23.274Z"
   },
   {
    "duration": 925,
    "start_time": "2022-12-04T06:30:23.282Z"
   },
   {
    "duration": 42,
    "start_time": "2022-12-04T06:30:24.209Z"
   },
   {
    "duration": 2,
    "start_time": "2022-12-04T06:30:24.253Z"
   },
   {
    "duration": 7,
    "start_time": "2022-12-04T06:30:24.256Z"
   },
   {
    "duration": 1136942,
    "start_time": "2022-12-04T06:30:24.265Z"
   },
   {
    "duration": 6,
    "start_time": "2022-12-04T06:49:21.209Z"
   },
   {
    "duration": 6,
    "start_time": "2022-12-04T06:49:21.218Z"
   },
   {
    "duration": 115,
    "start_time": "2022-12-04T06:49:21.225Z"
   },
   {
    "duration": 148,
    "start_time": "2022-12-04T06:49:21.350Z"
   },
   {
    "duration": 12,
    "start_time": "2022-12-04T06:49:21.499Z"
   },
   {
    "duration": 140,
    "start_time": "2022-12-04T06:49:21.512Z"
   },
   {
    "duration": 145,
    "start_time": "2022-12-04T06:49:21.654Z"
   },
   {
    "duration": 55,
    "start_time": "2022-12-04T06:49:21.801Z"
   },
   {
    "duration": 403,
    "start_time": "2022-12-04T06:49:21.858Z"
   },
   {
    "duration": 0,
    "start_time": "2022-12-04T06:49:22.263Z"
   },
   {
    "duration": 0,
    "start_time": "2022-12-04T06:49:22.265Z"
   },
   {
    "duration": 0,
    "start_time": "2022-12-04T06:49:22.267Z"
   },
   {
    "duration": 0,
    "start_time": "2022-12-04T06:49:22.268Z"
   },
   {
    "duration": 0,
    "start_time": "2022-12-04T06:49:22.270Z"
   },
   {
    "duration": 0,
    "start_time": "2022-12-04T06:49:22.271Z"
   },
   {
    "duration": 0,
    "start_time": "2022-12-04T06:49:22.273Z"
   },
   {
    "duration": 0,
    "start_time": "2022-12-04T06:49:22.275Z"
   },
   {
    "duration": 0,
    "start_time": "2022-12-04T06:49:22.276Z"
   },
   {
    "duration": 0,
    "start_time": "2022-12-04T06:49:22.278Z"
   },
   {
    "duration": 19,
    "start_time": "2022-12-04T06:50:15.269Z"
   },
   {
    "duration": 36,
    "start_time": "2022-12-04T06:50:22.965Z"
   },
   {
    "duration": 223,
    "start_time": "2022-12-04T06:50:23.003Z"
   },
   {
    "duration": 0,
    "start_time": "2022-12-04T06:50:23.229Z"
   },
   {
    "duration": 0,
    "start_time": "2022-12-04T06:50:23.230Z"
   },
   {
    "duration": 0,
    "start_time": "2022-12-04T06:50:23.231Z"
   },
   {
    "duration": 0,
    "start_time": "2022-12-04T06:50:23.233Z"
   },
   {
    "duration": 0,
    "start_time": "2022-12-04T06:50:23.234Z"
   },
   {
    "duration": 0,
    "start_time": "2022-12-04T06:50:23.250Z"
   },
   {
    "duration": 0,
    "start_time": "2022-12-04T06:50:23.252Z"
   },
   {
    "duration": 0,
    "start_time": "2022-12-04T06:50:23.253Z"
   },
   {
    "duration": 215,
    "start_time": "2022-12-04T06:51:40.335Z"
   },
   {
    "duration": 14,
    "start_time": "2022-12-04T06:53:48.998Z"
   },
   {
    "duration": 58,
    "start_time": "2022-12-04T06:53:53.289Z"
   },
   {
    "duration": 82,
    "start_time": "2022-12-04T06:53:58.022Z"
   },
   {
    "duration": 88,
    "start_time": "2022-12-04T06:54:03.809Z"
   },
   {
    "duration": 1629,
    "start_time": "2022-12-04T06:54:19.379Z"
   },
   {
    "duration": 173,
    "start_time": "2022-12-04T06:54:21.010Z"
   },
   {
    "duration": 5,
    "start_time": "2022-12-04T06:54:21.185Z"
   },
   {
    "duration": 938,
    "start_time": "2022-12-04T06:54:21.192Z"
   },
   {
    "duration": 45,
    "start_time": "2022-12-04T06:54:22.132Z"
   },
   {
    "duration": 3,
    "start_time": "2022-12-04T06:54:22.179Z"
   },
   {
    "duration": 6,
    "start_time": "2022-12-04T06:54:22.184Z"
   },
   {
    "duration": 1172657,
    "start_time": "2022-12-04T06:54:22.192Z"
   },
   {
    "duration": 7,
    "start_time": "2022-12-04T07:13:54.851Z"
   },
   {
    "duration": 17,
    "start_time": "2022-12-04T07:13:54.860Z"
   },
   {
    "duration": 42,
    "start_time": "2022-12-04T07:13:54.879Z"
   },
   {
    "duration": 75,
    "start_time": "2022-12-04T07:13:54.922Z"
   },
   {
    "duration": 98,
    "start_time": "2022-12-04T07:13:55.000Z"
   },
   {
    "duration": 94,
    "start_time": "2022-12-04T07:16:47.931Z"
   },
   {
    "duration": 12658,
    "start_time": "2022-12-04T07:16:55.785Z"
   },
   {
    "duration": 103831,
    "start_time": "2022-12-04T07:17:17.235Z"
   },
   {
    "duration": 6710,
    "start_time": "2022-12-04T07:40:28.510Z"
   },
   {
    "duration": 1671,
    "start_time": "2022-12-04T07:42:17.582Z"
   },
   {
    "duration": 260,
    "start_time": "2022-12-04T07:42:19.256Z"
   },
   {
    "duration": 5,
    "start_time": "2022-12-04T07:42:19.518Z"
   },
   {
    "duration": 984,
    "start_time": "2022-12-04T07:42:19.525Z"
   },
   {
    "duration": 43,
    "start_time": "2022-12-04T07:42:20.511Z"
   },
   {
    "duration": 2,
    "start_time": "2022-12-04T07:42:20.556Z"
   },
   {
    "duration": 21,
    "start_time": "2022-12-04T07:42:20.560Z"
   },
   {
    "duration": 1158510,
    "start_time": "2022-12-04T07:42:20.582Z"
   },
   {
    "duration": 4,
    "start_time": "2022-12-04T08:01:39.093Z"
   },
   {
    "duration": 46,
    "start_time": "2022-12-04T08:01:39.099Z"
   },
   {
    "duration": 47,
    "start_time": "2022-12-04T08:01:39.147Z"
   },
   {
    "duration": 6847,
    "start_time": "2022-12-04T08:01:39.196Z"
   },
   {
    "duration": 101528,
    "start_time": "2022-12-04T08:01:46.045Z"
   },
   {
    "duration": 17,
    "start_time": "2022-12-04T08:03:27.654Z"
   },
   {
    "duration": 130,
    "start_time": "2022-12-04T08:03:27.673Z"
   },
   {
    "duration": 64847,
    "start_time": "2022-12-04T08:03:27.805Z"
   },
   {
    "duration": 114,
    "start_time": "2022-12-04T08:04:32.655Z"
   },
   {
    "duration": 15,
    "start_time": "2022-12-04T08:04:32.771Z"
   },
   {
    "duration": 36,
    "start_time": "2022-12-04T08:04:32.788Z"
   },
   {
    "duration": 81547,
    "start_time": "2022-12-04T08:04:32.826Z"
   },
   {
    "duration": 0,
    "start_time": "2022-12-04T08:05:54.375Z"
   },
   {
    "duration": 0,
    "start_time": "2022-12-04T08:05:54.376Z"
   },
   {
    "duration": 0,
    "start_time": "2022-12-04T08:05:54.378Z"
   },
   {
    "duration": 0,
    "start_time": "2022-12-04T08:05:54.380Z"
   },
   {
    "duration": 0,
    "start_time": "2022-12-04T08:05:54.381Z"
   },
   {
    "duration": 0,
    "start_time": "2022-12-04T08:05:54.383Z"
   },
   {
    "duration": 0,
    "start_time": "2022-12-04T08:05:54.384Z"
   },
   {
    "duration": 0,
    "start_time": "2022-12-04T08:05:54.386Z"
   },
   {
    "duration": 821,
    "start_time": "2022-12-04T08:07:00.444Z"
   },
   {
    "duration": 33289,
    "start_time": "2022-12-04T08:07:03.664Z"
   },
   {
    "duration": 92625,
    "start_time": "2022-12-04T08:07:36.955Z"
   },
   {
    "duration": 18,
    "start_time": "2022-12-04T08:09:09.583Z"
   },
   {
    "duration": 597448,
    "start_time": "2022-12-04T08:09:09.604Z"
   },
   {
    "duration": 48796,
    "start_time": "2022-12-04T08:19:07.055Z"
   },
   {
    "duration": 697606,
    "start_time": "2022-12-04T08:19:55.852Z"
   },
   {
    "duration": 25131,
    "start_time": "2022-12-04T08:31:33.461Z"
   },
   {
    "duration": 1235526,
    "start_time": "2022-12-04T08:31:58.594Z"
   },
   {
    "duration": 8,
    "start_time": "2022-12-04T08:52:34.122Z"
   },
   {
    "duration": 46820,
    "start_time": "2022-12-04T08:52:34.132Z"
   },
   {
    "duration": 102,
    "start_time": "2022-12-04T09:06:02.840Z"
   },
   {
    "duration": 70,
    "start_time": "2022-12-04T09:35:53.930Z"
   }
  ],
  "kernelspec": {
   "display_name": "Python 3 (ipykernel)",
   "language": "python",
   "name": "python3"
  },
  "language_info": {
   "codemirror_mode": {
    "name": "ipython",
    "version": 3
   },
   "file_extension": ".py",
   "mimetype": "text/x-python",
   "name": "python",
   "nbconvert_exporter": "python",
   "pygments_lexer": "ipython3",
   "version": "3.9.13"
  },
  "toc": {
   "base_numbering": 1,
   "nav_menu": {},
   "number_sections": true,
   "sideBar": true,
   "skip_h1_title": true,
   "title_cell": "Содержание",
   "title_sidebar": "Contents",
   "toc_cell": true,
   "toc_position": {
    "height": "calc(100% - 180px)",
    "left": "10px",
    "top": "150px",
    "width": "246.387px"
   },
   "toc_section_display": true,
   "toc_window_display": true
  }
 },
 "nbformat": 4,
 "nbformat_minor": 2
}
