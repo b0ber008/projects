{
 "cells": [
  {
   "cell_type": "markdown",
   "metadata": {},
   "source": [
    "# Восстановление золота из руды"
   ]
  },
  {
   "cell_type": "markdown",
   "metadata": {},
   "source": [
    "Подготовьте прототип модели машинного обучения для «Цифры». Компания разрабатывает решения для эффективной работы промышленных предприятий.\n",
    "\n",
    "Модель должна предсказать коэффициент восстановления золота из золотосодержащей руды. Используйте данные с параметрами добычи и очистки. \n",
    "\n",
    "Модель поможет оптимизировать производство, чтобы не запускать предприятие с убыточными характеристиками.\n",
    "\n",
    "Вам нужно:\n",
    "\n",
    "1. Подготовить данные;\n",
    "2. Провести исследовательский анализ данных;\n",
    "3. Построить и обучить модель.\n",
    "\n",
    "Чтобы выполнить проект, обращайтесь к библиотекам *pandas*, *matplotlib* и *sklearn.* Вам поможет их документация."
   ]
  },
  {
   "cell_type": "markdown",
   "metadata": {},
   "source": [
    "Данные находятся в трёх файлах:\n",
    "* gold_recovery_train_new.csv — обучающая выборка;\n",
    "* gold_recovery_test_new.csv — тестовая выборка;\n",
    "* gold_recovery_full_new.csv — исходные данные."
   ]
  },
  {
   "cell_type": "markdown",
   "metadata": {},
   "source": [
    "## Подготовка данных"
   ]
  },
  {
   "cell_type": "markdown",
   "metadata": {},
   "source": [
    "### Импорт и знакомство с данными"
   ]
  },
  {
   "cell_type": "code",
   "execution_count": 1,
   "metadata": {},
   "outputs": [],
   "source": [
    "import pandas as pd\n",
    "import numpy as np\n",
    "import matplotlib.pyplot as plt\n",
    "import seaborn as sns\n",
    "\n",
    "from sklearn.ensemble import RandomForestRegressor\n",
    "from sklearn.linear_model import LinearRegression\n",
    "from sklearn.linear_model import SGDRegressor\n",
    "from sklearn.svm import LinearSVR\n",
    "from sklearn.dummy import DummyRegressor\n",
    "\n",
    "from sklearn.metrics import mean_absolute_error\n",
    "\n",
    "import warnings\n",
    "warnings.filterwarnings(\"ignore\")"
   ]
  },
  {
   "cell_type": "code",
   "execution_count": 2,
   "metadata": {},
   "outputs": [],
   "source": [
    "df_train = pd.read_csv('/datasets/gold_recovery_train_new.csv', parse_dates = ['date']) #обучающая выборка\n",
    "df_test = pd.read_csv('/datasets/gold_recovery_test_new.csv', parse_dates = ['date']) # тестовая выборка\n",
    "df_full = pd.read_csv('/datasets/gold_recovery_full_new.csv', parse_dates = ['date']) # исходные данные"
   ]
  },
  {
   "cell_type": "code",
   "execution_count": 3,
   "metadata": {},
   "outputs": [
    {
     "name": "stdout",
     "output_type": "stream",
     "text": [
      "<class 'pandas.core.frame.DataFrame'>\n",
      "RangeIndex: 19439 entries, 0 to 19438\n",
      "Data columns (total 87 columns):\n",
      " #   Column                                              Non-Null Count  Dtype         \n",
      "---  ------                                              --------------  -----         \n",
      " 0   date                                                19439 non-null  datetime64[ns]\n",
      " 1   final.output.concentrate_ag                         19438 non-null  float64       \n",
      " 2   final.output.concentrate_pb                         19438 non-null  float64       \n",
      " 3   final.output.concentrate_sol                        19228 non-null  float64       \n",
      " 4   final.output.concentrate_au                         19439 non-null  float64       \n",
      " 5   final.output.recovery                               19439 non-null  float64       \n",
      " 6   final.output.tail_ag                                19438 non-null  float64       \n",
      " 7   final.output.tail_pb                                19338 non-null  float64       \n",
      " 8   final.output.tail_sol                               19433 non-null  float64       \n",
      " 9   final.output.tail_au                                19439 non-null  float64       \n",
      " 10  primary_cleaner.input.sulfate                       19415 non-null  float64       \n",
      " 11  primary_cleaner.input.depressant                    19402 non-null  float64       \n",
      " 12  primary_cleaner.input.feed_size                     19439 non-null  float64       \n",
      " 13  primary_cleaner.input.xanthate                      19335 non-null  float64       \n",
      " 14  primary_cleaner.output.concentrate_ag               19439 non-null  float64       \n",
      " 15  primary_cleaner.output.concentrate_pb               19323 non-null  float64       \n",
      " 16  primary_cleaner.output.concentrate_sol              19069 non-null  float64       \n",
      " 17  primary_cleaner.output.concentrate_au               19439 non-null  float64       \n",
      " 18  primary_cleaner.output.tail_ag                      19435 non-null  float64       \n",
      " 19  primary_cleaner.output.tail_pb                      19418 non-null  float64       \n",
      " 20  primary_cleaner.output.tail_sol                     19377 non-null  float64       \n",
      " 21  primary_cleaner.output.tail_au                      19439 non-null  float64       \n",
      " 22  primary_cleaner.state.floatbank8_a_air              19435 non-null  float64       \n",
      " 23  primary_cleaner.state.floatbank8_a_level            19438 non-null  float64       \n",
      " 24  primary_cleaner.state.floatbank8_b_air              19435 non-null  float64       \n",
      " 25  primary_cleaner.state.floatbank8_b_level            19438 non-null  float64       \n",
      " 26  primary_cleaner.state.floatbank8_c_air              19437 non-null  float64       \n",
      " 27  primary_cleaner.state.floatbank8_c_level            19438 non-null  float64       \n",
      " 28  primary_cleaner.state.floatbank8_d_air              19436 non-null  float64       \n",
      " 29  primary_cleaner.state.floatbank8_d_level            19438 non-null  float64       \n",
      " 30  rougher.calculation.sulfate_to_au_concentrate       19437 non-null  float64       \n",
      " 31  rougher.calculation.floatbank10_sulfate_to_au_feed  19437 non-null  float64       \n",
      " 32  rougher.calculation.floatbank11_sulfate_to_au_feed  19437 non-null  float64       \n",
      " 33  rougher.calculation.au_pb_ratio                     19439 non-null  float64       \n",
      " 34  rougher.input.feed_ag                               19439 non-null  float64       \n",
      " 35  rougher.input.feed_pb                               19339 non-null  float64       \n",
      " 36  rougher.input.feed_rate                             19428 non-null  float64       \n",
      " 37  rougher.input.feed_size                             19294 non-null  float64       \n",
      " 38  rougher.input.feed_sol                              19340 non-null  float64       \n",
      " 39  rougher.input.feed_au                               19439 non-null  float64       \n",
      " 40  rougher.input.floatbank10_sulfate                   19405 non-null  float64       \n",
      " 41  rougher.input.floatbank10_xanthate                  19431 non-null  float64       \n",
      " 42  rougher.input.floatbank11_sulfate                   19395 non-null  float64       \n",
      " 43  rougher.input.floatbank11_xanthate                  18986 non-null  float64       \n",
      " 44  rougher.output.concentrate_ag                       19439 non-null  float64       \n",
      " 45  rougher.output.concentrate_pb                       19439 non-null  float64       \n",
      " 46  rougher.output.concentrate_sol                      19416 non-null  float64       \n",
      " 47  rougher.output.concentrate_au                       19439 non-null  float64       \n",
      " 48  rougher.output.recovery                             19439 non-null  float64       \n",
      " 49  rougher.output.tail_ag                              19438 non-null  float64       \n",
      " 50  rougher.output.tail_pb                              19439 non-null  float64       \n",
      " 51  rougher.output.tail_sol                             19439 non-null  float64       \n",
      " 52  rougher.output.tail_au                              19439 non-null  float64       \n",
      " 53  rougher.state.floatbank10_a_air                     19438 non-null  float64       \n",
      " 54  rougher.state.floatbank10_a_level                   19438 non-null  float64       \n",
      " 55  rougher.state.floatbank10_b_air                     19438 non-null  float64       \n",
      " 56  rougher.state.floatbank10_b_level                   19438 non-null  float64       \n",
      " 57  rougher.state.floatbank10_c_air                     19438 non-null  float64       \n",
      " 58  rougher.state.floatbank10_c_level                   19438 non-null  float64       \n",
      " 59  rougher.state.floatbank10_d_air                     19439 non-null  float64       \n",
      " 60  rougher.state.floatbank10_d_level                   19439 non-null  float64       \n",
      " 61  rougher.state.floatbank10_e_air                     19003 non-null  float64       \n",
      " 62  rougher.state.floatbank10_e_level                   19439 non-null  float64       \n",
      " 63  rougher.state.floatbank10_f_air                     19439 non-null  float64       \n",
      " 64  rougher.state.floatbank10_f_level                   19439 non-null  float64       \n",
      " 65  secondary_cleaner.output.tail_ag                    19437 non-null  float64       \n",
      " 66  secondary_cleaner.output.tail_pb                    19427 non-null  float64       \n",
      " 67  secondary_cleaner.output.tail_sol                   17691 non-null  float64       \n",
      " 68  secondary_cleaner.output.tail_au                    19439 non-null  float64       \n",
      " 69  secondary_cleaner.state.floatbank2_a_air            19219 non-null  float64       \n",
      " 70  secondary_cleaner.state.floatbank2_a_level          19438 non-null  float64       \n",
      " 71  secondary_cleaner.state.floatbank2_b_air            19416 non-null  float64       \n",
      " 72  secondary_cleaner.state.floatbank2_b_level          19438 non-null  float64       \n",
      " 73  secondary_cleaner.state.floatbank3_a_air            19426 non-null  float64       \n",
      " 74  secondary_cleaner.state.floatbank3_a_level          19438 non-null  float64       \n",
      " 75  secondary_cleaner.state.floatbank3_b_air            19438 non-null  float64       \n",
      " 76  secondary_cleaner.state.floatbank3_b_level          19438 non-null  float64       \n",
      " 77  secondary_cleaner.state.floatbank4_a_air            19433 non-null  float64       \n",
      " 78  secondary_cleaner.state.floatbank4_a_level          19438 non-null  float64       \n",
      " 79  secondary_cleaner.state.floatbank4_b_air            19438 non-null  float64       \n",
      " 80  secondary_cleaner.state.floatbank4_b_level          19438 non-null  float64       \n",
      " 81  secondary_cleaner.state.floatbank5_a_air            19438 non-null  float64       \n",
      " 82  secondary_cleaner.state.floatbank5_a_level          19438 non-null  float64       \n",
      " 83  secondary_cleaner.state.floatbank5_b_air            19438 non-null  float64       \n",
      " 84  secondary_cleaner.state.floatbank5_b_level          19438 non-null  float64       \n",
      " 85  secondary_cleaner.state.floatbank6_a_air            19437 non-null  float64       \n",
      " 86  secondary_cleaner.state.floatbank6_a_level          19438 non-null  float64       \n",
      "dtypes: datetime64[ns](1), float64(86)\n",
      "memory usage: 12.9 MB\n"
     ]
    }
   ],
   "source": [
    "df_full.info() # Выводим общую информацию о датафреймах"
   ]
  },
  {
   "cell_type": "code",
   "execution_count": 4,
   "metadata": {},
   "outputs": [
    {
     "name": "stdout",
     "output_type": "stream",
     "text": [
      "<class 'pandas.core.frame.DataFrame'>\n",
      "RangeIndex: 14149 entries, 0 to 14148\n",
      "Data columns (total 87 columns):\n",
      " #   Column                                              Non-Null Count  Dtype         \n",
      "---  ------                                              --------------  -----         \n",
      " 0   date                                                14149 non-null  datetime64[ns]\n",
      " 1   final.output.concentrate_ag                         14148 non-null  float64       \n",
      " 2   final.output.concentrate_pb                         14148 non-null  float64       \n",
      " 3   final.output.concentrate_sol                        13938 non-null  float64       \n",
      " 4   final.output.concentrate_au                         14149 non-null  float64       \n",
      " 5   final.output.recovery                               14149 non-null  float64       \n",
      " 6   final.output.tail_ag                                14149 non-null  float64       \n",
      " 7   final.output.tail_pb                                14049 non-null  float64       \n",
      " 8   final.output.tail_sol                               14144 non-null  float64       \n",
      " 9   final.output.tail_au                                14149 non-null  float64       \n",
      " 10  primary_cleaner.input.sulfate                       14129 non-null  float64       \n",
      " 11  primary_cleaner.input.depressant                    14117 non-null  float64       \n",
      " 12  primary_cleaner.input.feed_size                     14149 non-null  float64       \n",
      " 13  primary_cleaner.input.xanthate                      14049 non-null  float64       \n",
      " 14  primary_cleaner.output.concentrate_ag               14149 non-null  float64       \n",
      " 15  primary_cleaner.output.concentrate_pb               14063 non-null  float64       \n",
      " 16  primary_cleaner.output.concentrate_sol              13863 non-null  float64       \n",
      " 17  primary_cleaner.output.concentrate_au               14149 non-null  float64       \n",
      " 18  primary_cleaner.output.tail_ag                      14148 non-null  float64       \n",
      " 19  primary_cleaner.output.tail_pb                      14134 non-null  float64       \n",
      " 20  primary_cleaner.output.tail_sol                     14103 non-null  float64       \n",
      " 21  primary_cleaner.output.tail_au                      14149 non-null  float64       \n",
      " 22  primary_cleaner.state.floatbank8_a_air              14145 non-null  float64       \n",
      " 23  primary_cleaner.state.floatbank8_a_level            14148 non-null  float64       \n",
      " 24  primary_cleaner.state.floatbank8_b_air              14145 non-null  float64       \n",
      " 25  primary_cleaner.state.floatbank8_b_level            14148 non-null  float64       \n",
      " 26  primary_cleaner.state.floatbank8_c_air              14147 non-null  float64       \n",
      " 27  primary_cleaner.state.floatbank8_c_level            14148 non-null  float64       \n",
      " 28  primary_cleaner.state.floatbank8_d_air              14146 non-null  float64       \n",
      " 29  primary_cleaner.state.floatbank8_d_level            14148 non-null  float64       \n",
      " 30  rougher.calculation.sulfate_to_au_concentrate       14148 non-null  float64       \n",
      " 31  rougher.calculation.floatbank10_sulfate_to_au_feed  14148 non-null  float64       \n",
      " 32  rougher.calculation.floatbank11_sulfate_to_au_feed  14148 non-null  float64       \n",
      " 33  rougher.calculation.au_pb_ratio                     14149 non-null  float64       \n",
      " 34  rougher.input.feed_ag                               14149 non-null  float64       \n",
      " 35  rougher.input.feed_pb                               14049 non-null  float64       \n",
      " 36  rougher.input.feed_rate                             14141 non-null  float64       \n",
      " 37  rougher.input.feed_size                             14005 non-null  float64       \n",
      " 38  rougher.input.feed_sol                              14071 non-null  float64       \n",
      " 39  rougher.input.feed_au                               14149 non-null  float64       \n",
      " 40  rougher.input.floatbank10_sulfate                   14120 non-null  float64       \n",
      " 41  rougher.input.floatbank10_xanthate                  14141 non-null  float64       \n",
      " 42  rougher.input.floatbank11_sulfate                   14113 non-null  float64       \n",
      " 43  rougher.input.floatbank11_xanthate                  13721 non-null  float64       \n",
      " 44  rougher.output.concentrate_ag                       14149 non-null  float64       \n",
      " 45  rougher.output.concentrate_pb                       14149 non-null  float64       \n",
      " 46  rougher.output.concentrate_sol                      14127 non-null  float64       \n",
      " 47  rougher.output.concentrate_au                       14149 non-null  float64       \n",
      " 48  rougher.output.recovery                             14149 non-null  float64       \n",
      " 49  rougher.output.tail_ag                              14148 non-null  float64       \n",
      " 50  rougher.output.tail_pb                              14149 non-null  float64       \n",
      " 51  rougher.output.tail_sol                             14149 non-null  float64       \n",
      " 52  rougher.output.tail_au                              14149 non-null  float64       \n",
      " 53  rougher.state.floatbank10_a_air                     14148 non-null  float64       \n",
      " 54  rougher.state.floatbank10_a_level                   14148 non-null  float64       \n",
      " 55  rougher.state.floatbank10_b_air                     14148 non-null  float64       \n",
      " 56  rougher.state.floatbank10_b_level                   14148 non-null  float64       \n",
      " 57  rougher.state.floatbank10_c_air                     14148 non-null  float64       \n",
      " 58  rougher.state.floatbank10_c_level                   14148 non-null  float64       \n",
      " 59  rougher.state.floatbank10_d_air                     14149 non-null  float64       \n",
      " 60  rougher.state.floatbank10_d_level                   14149 non-null  float64       \n",
      " 61  rougher.state.floatbank10_e_air                     13713 non-null  float64       \n",
      " 62  rougher.state.floatbank10_e_level                   14149 non-null  float64       \n",
      " 63  rougher.state.floatbank10_f_air                     14149 non-null  float64       \n",
      " 64  rougher.state.floatbank10_f_level                   14149 non-null  float64       \n",
      " 65  secondary_cleaner.output.tail_ag                    14147 non-null  float64       \n",
      " 66  secondary_cleaner.output.tail_pb                    14139 non-null  float64       \n",
      " 67  secondary_cleaner.output.tail_sol                   12544 non-null  float64       \n",
      " 68  secondary_cleaner.output.tail_au                    14149 non-null  float64       \n",
      " 69  secondary_cleaner.state.floatbank2_a_air            13932 non-null  float64       \n",
      " 70  secondary_cleaner.state.floatbank2_a_level          14148 non-null  float64       \n",
      " 71  secondary_cleaner.state.floatbank2_b_air            14128 non-null  float64       \n",
      " 72  secondary_cleaner.state.floatbank2_b_level          14148 non-null  float64       \n",
      " 73  secondary_cleaner.state.floatbank3_a_air            14145 non-null  float64       \n",
      " 74  secondary_cleaner.state.floatbank3_a_level          14148 non-null  float64       \n",
      " 75  secondary_cleaner.state.floatbank3_b_air            14148 non-null  float64       \n",
      " 76  secondary_cleaner.state.floatbank3_b_level          14148 non-null  float64       \n",
      " 77  secondary_cleaner.state.floatbank4_a_air            14143 non-null  float64       \n",
      " 78  secondary_cleaner.state.floatbank4_a_level          14148 non-null  float64       \n",
      " 79  secondary_cleaner.state.floatbank4_b_air            14148 non-null  float64       \n",
      " 80  secondary_cleaner.state.floatbank4_b_level          14148 non-null  float64       \n",
      " 81  secondary_cleaner.state.floatbank5_a_air            14148 non-null  float64       \n",
      " 82  secondary_cleaner.state.floatbank5_a_level          14148 non-null  float64       \n",
      " 83  secondary_cleaner.state.floatbank5_b_air            14148 non-null  float64       \n",
      " 84  secondary_cleaner.state.floatbank5_b_level          14148 non-null  float64       \n",
      " 85  secondary_cleaner.state.floatbank6_a_air            14147 non-null  float64       \n",
      " 86  secondary_cleaner.state.floatbank6_a_level          14148 non-null  float64       \n",
      "dtypes: datetime64[ns](1), float64(86)\n",
      "memory usage: 9.4 MB\n"
     ]
    }
   ],
   "source": [
    "df_train.info()"
   ]
  },
  {
   "cell_type": "code",
   "execution_count": 5,
   "metadata": {},
   "outputs": [
    {
     "name": "stdout",
     "output_type": "stream",
     "text": [
      "<class 'pandas.core.frame.DataFrame'>\n",
      "RangeIndex: 5290 entries, 0 to 5289\n",
      "Data columns (total 53 columns):\n",
      " #   Column                                      Non-Null Count  Dtype         \n",
      "---  ------                                      --------------  -----         \n",
      " 0   date                                        5290 non-null   datetime64[ns]\n",
      " 1   primary_cleaner.input.sulfate               5286 non-null   float64       \n",
      " 2   primary_cleaner.input.depressant            5285 non-null   float64       \n",
      " 3   primary_cleaner.input.feed_size             5290 non-null   float64       \n",
      " 4   primary_cleaner.input.xanthate              5286 non-null   float64       \n",
      " 5   primary_cleaner.state.floatbank8_a_air      5290 non-null   float64       \n",
      " 6   primary_cleaner.state.floatbank8_a_level    5290 non-null   float64       \n",
      " 7   primary_cleaner.state.floatbank8_b_air      5290 non-null   float64       \n",
      " 8   primary_cleaner.state.floatbank8_b_level    5290 non-null   float64       \n",
      " 9   primary_cleaner.state.floatbank8_c_air      5290 non-null   float64       \n",
      " 10  primary_cleaner.state.floatbank8_c_level    5290 non-null   float64       \n",
      " 11  primary_cleaner.state.floatbank8_d_air      5290 non-null   float64       \n",
      " 12  primary_cleaner.state.floatbank8_d_level    5290 non-null   float64       \n",
      " 13  rougher.input.feed_ag                       5290 non-null   float64       \n",
      " 14  rougher.input.feed_pb                       5290 non-null   float64       \n",
      " 15  rougher.input.feed_rate                     5287 non-null   float64       \n",
      " 16  rougher.input.feed_size                     5289 non-null   float64       \n",
      " 17  rougher.input.feed_sol                      5269 non-null   float64       \n",
      " 18  rougher.input.feed_au                       5290 non-null   float64       \n",
      " 19  rougher.input.floatbank10_sulfate           5285 non-null   float64       \n",
      " 20  rougher.input.floatbank10_xanthate          5290 non-null   float64       \n",
      " 21  rougher.input.floatbank11_sulfate           5282 non-null   float64       \n",
      " 22  rougher.input.floatbank11_xanthate          5265 non-null   float64       \n",
      " 23  rougher.state.floatbank10_a_air             5290 non-null   float64       \n",
      " 24  rougher.state.floatbank10_a_level           5290 non-null   float64       \n",
      " 25  rougher.state.floatbank10_b_air             5290 non-null   float64       \n",
      " 26  rougher.state.floatbank10_b_level           5290 non-null   float64       \n",
      " 27  rougher.state.floatbank10_c_air             5290 non-null   float64       \n",
      " 28  rougher.state.floatbank10_c_level           5290 non-null   float64       \n",
      " 29  rougher.state.floatbank10_d_air             5290 non-null   float64       \n",
      " 30  rougher.state.floatbank10_d_level           5290 non-null   float64       \n",
      " 31  rougher.state.floatbank10_e_air             5290 non-null   float64       \n",
      " 32  rougher.state.floatbank10_e_level           5290 non-null   float64       \n",
      " 33  rougher.state.floatbank10_f_air             5290 non-null   float64       \n",
      " 34  rougher.state.floatbank10_f_level           5290 non-null   float64       \n",
      " 35  secondary_cleaner.state.floatbank2_a_air    5287 non-null   float64       \n",
      " 36  secondary_cleaner.state.floatbank2_a_level  5290 non-null   float64       \n",
      " 37  secondary_cleaner.state.floatbank2_b_air    5288 non-null   float64       \n",
      " 38  secondary_cleaner.state.floatbank2_b_level  5290 non-null   float64       \n",
      " 39  secondary_cleaner.state.floatbank3_a_air    5281 non-null   float64       \n",
      " 40  secondary_cleaner.state.floatbank3_a_level  5290 non-null   float64       \n",
      " 41  secondary_cleaner.state.floatbank3_b_air    5290 non-null   float64       \n",
      " 42  secondary_cleaner.state.floatbank3_b_level  5290 non-null   float64       \n",
      " 43  secondary_cleaner.state.floatbank4_a_air    5290 non-null   float64       \n",
      " 44  secondary_cleaner.state.floatbank4_a_level  5290 non-null   float64       \n",
      " 45  secondary_cleaner.state.floatbank4_b_air    5290 non-null   float64       \n",
      " 46  secondary_cleaner.state.floatbank4_b_level  5290 non-null   float64       \n",
      " 47  secondary_cleaner.state.floatbank5_a_air    5290 non-null   float64       \n",
      " 48  secondary_cleaner.state.floatbank5_a_level  5290 non-null   float64       \n",
      " 49  secondary_cleaner.state.floatbank5_b_air    5290 non-null   float64       \n",
      " 50  secondary_cleaner.state.floatbank5_b_level  5290 non-null   float64       \n",
      " 51  secondary_cleaner.state.floatbank6_a_air    5290 non-null   float64       \n",
      " 52  secondary_cleaner.state.floatbank6_a_level  5290 non-null   float64       \n",
      "dtypes: datetime64[ns](1), float64(52)\n",
      "memory usage: 2.1 MB\n"
     ]
    }
   ],
   "source": [
    "df_test.info()"
   ]
  },
  {
   "cell_type": "markdown",
   "metadata": {},
   "source": [
    "Итак, мы видим очень больше количество столбцов с признаками. Многие из них имеют пропущенные значения.\n",
    "\n",
    "Скорее всего они возникли из-за того, что замеряются и/или рассчитываются значительно позже.\n",
    "\n",
    "Подведем небольшие итоги:\n",
    "* df_full - 87 колонок и 19438 строк;\n",
    "* df_train - 87 колонок и 14148 строк;\n",
    "* df_test - 53 колонки и 5289 строк."
   ]
  },
  {
   "cell_type": "code",
   "execution_count": 6,
   "metadata": {},
   "outputs": [
    {
     "data": {
      "text/html": [
       "<div>\n",
       "<style scoped>\n",
       "    .dataframe tbody tr th:only-of-type {\n",
       "        vertical-align: middle;\n",
       "    }\n",
       "\n",
       "    .dataframe tbody tr th {\n",
       "        vertical-align: top;\n",
       "    }\n",
       "\n",
       "    .dataframe thead th {\n",
       "        text-align: right;\n",
       "    }\n",
       "</style>\n",
       "<table border=\"1\" class=\"dataframe\">\n",
       "  <thead>\n",
       "    <tr style=\"text-align: right;\">\n",
       "      <th></th>\n",
       "      <th>date</th>\n",
       "      <th>final.output.concentrate_ag</th>\n",
       "      <th>final.output.concentrate_pb</th>\n",
       "      <th>final.output.concentrate_sol</th>\n",
       "      <th>final.output.concentrate_au</th>\n",
       "      <th>final.output.recovery</th>\n",
       "      <th>final.output.tail_ag</th>\n",
       "      <th>final.output.tail_pb</th>\n",
       "      <th>final.output.tail_sol</th>\n",
       "      <th>final.output.tail_au</th>\n",
       "      <th>...</th>\n",
       "      <th>secondary_cleaner.state.floatbank4_a_air</th>\n",
       "      <th>secondary_cleaner.state.floatbank4_a_level</th>\n",
       "      <th>secondary_cleaner.state.floatbank4_b_air</th>\n",
       "      <th>secondary_cleaner.state.floatbank4_b_level</th>\n",
       "      <th>secondary_cleaner.state.floatbank5_a_air</th>\n",
       "      <th>secondary_cleaner.state.floatbank5_a_level</th>\n",
       "      <th>secondary_cleaner.state.floatbank5_b_air</th>\n",
       "      <th>secondary_cleaner.state.floatbank5_b_level</th>\n",
       "      <th>secondary_cleaner.state.floatbank6_a_air</th>\n",
       "      <th>secondary_cleaner.state.floatbank6_a_level</th>\n",
       "    </tr>\n",
       "  </thead>\n",
       "  <tbody>\n",
       "    <tr>\n",
       "      <th>0</th>\n",
       "      <td>2016-01-15 00:00:00</td>\n",
       "      <td>6.055403</td>\n",
       "      <td>9.889648</td>\n",
       "      <td>5.507324</td>\n",
       "      <td>42.192020</td>\n",
       "      <td>70.541216</td>\n",
       "      <td>10.411962</td>\n",
       "      <td>0.895447</td>\n",
       "      <td>16.904297</td>\n",
       "      <td>2.143149</td>\n",
       "      <td>...</td>\n",
       "      <td>14.016835</td>\n",
       "      <td>-502.488007</td>\n",
       "      <td>12.099931</td>\n",
       "      <td>-504.715942</td>\n",
       "      <td>9.925633</td>\n",
       "      <td>-498.310211</td>\n",
       "      <td>8.079666</td>\n",
       "      <td>-500.470978</td>\n",
       "      <td>14.151341</td>\n",
       "      <td>-605.841980</td>\n",
       "    </tr>\n",
       "    <tr>\n",
       "      <th>1</th>\n",
       "      <td>2016-01-15 01:00:00</td>\n",
       "      <td>6.029369</td>\n",
       "      <td>9.968944</td>\n",
       "      <td>5.257781</td>\n",
       "      <td>42.701629</td>\n",
       "      <td>69.266198</td>\n",
       "      <td>10.462676</td>\n",
       "      <td>0.927452</td>\n",
       "      <td>16.634514</td>\n",
       "      <td>2.224930</td>\n",
       "      <td>...</td>\n",
       "      <td>13.992281</td>\n",
       "      <td>-505.503262</td>\n",
       "      <td>11.950531</td>\n",
       "      <td>-501.331529</td>\n",
       "      <td>10.039245</td>\n",
       "      <td>-500.169983</td>\n",
       "      <td>7.984757</td>\n",
       "      <td>-500.582168</td>\n",
       "      <td>13.998353</td>\n",
       "      <td>-599.787184</td>\n",
       "    </tr>\n",
       "    <tr>\n",
       "      <th>2</th>\n",
       "      <td>2016-01-15 02:00:00</td>\n",
       "      <td>6.055926</td>\n",
       "      <td>10.213995</td>\n",
       "      <td>5.383759</td>\n",
       "      <td>42.657501</td>\n",
       "      <td>68.116445</td>\n",
       "      <td>10.507046</td>\n",
       "      <td>0.953716</td>\n",
       "      <td>16.208849</td>\n",
       "      <td>2.257889</td>\n",
       "      <td>...</td>\n",
       "      <td>14.015015</td>\n",
       "      <td>-502.520901</td>\n",
       "      <td>11.912783</td>\n",
       "      <td>-501.133383</td>\n",
       "      <td>10.070913</td>\n",
       "      <td>-500.129135</td>\n",
       "      <td>8.013877</td>\n",
       "      <td>-500.517572</td>\n",
       "      <td>14.028663</td>\n",
       "      <td>-601.427363</td>\n",
       "    </tr>\n",
       "    <tr>\n",
       "      <th>3</th>\n",
       "      <td>2016-01-15 03:00:00</td>\n",
       "      <td>6.047977</td>\n",
       "      <td>9.977019</td>\n",
       "      <td>4.858634</td>\n",
       "      <td>42.689819</td>\n",
       "      <td>68.347543</td>\n",
       "      <td>10.422762</td>\n",
       "      <td>0.883763</td>\n",
       "      <td>16.532835</td>\n",
       "      <td>2.146849</td>\n",
       "      <td>...</td>\n",
       "      <td>14.036510</td>\n",
       "      <td>-500.857308</td>\n",
       "      <td>11.999550</td>\n",
       "      <td>-501.193686</td>\n",
       "      <td>9.970366</td>\n",
       "      <td>-499.201640</td>\n",
       "      <td>7.977324</td>\n",
       "      <td>-500.255908</td>\n",
       "      <td>14.005551</td>\n",
       "      <td>-599.996129</td>\n",
       "    </tr>\n",
       "    <tr>\n",
       "      <th>4</th>\n",
       "      <td>2016-01-15 04:00:00</td>\n",
       "      <td>6.148599</td>\n",
       "      <td>10.142511</td>\n",
       "      <td>4.939416</td>\n",
       "      <td>42.774141</td>\n",
       "      <td>66.927016</td>\n",
       "      <td>10.360302</td>\n",
       "      <td>0.792826</td>\n",
       "      <td>16.525686</td>\n",
       "      <td>2.055292</td>\n",
       "      <td>...</td>\n",
       "      <td>14.027298</td>\n",
       "      <td>-499.838632</td>\n",
       "      <td>11.953070</td>\n",
       "      <td>-501.053894</td>\n",
       "      <td>9.925709</td>\n",
       "      <td>-501.686727</td>\n",
       "      <td>7.894242</td>\n",
       "      <td>-500.356035</td>\n",
       "      <td>13.996647</td>\n",
       "      <td>-601.496691</td>\n",
       "    </tr>\n",
       "    <tr>\n",
       "      <th>...</th>\n",
       "      <td>...</td>\n",
       "      <td>...</td>\n",
       "      <td>...</td>\n",
       "      <td>...</td>\n",
       "      <td>...</td>\n",
       "      <td>...</td>\n",
       "      <td>...</td>\n",
       "      <td>...</td>\n",
       "      <td>...</td>\n",
       "      <td>...</td>\n",
       "      <td>...</td>\n",
       "      <td>...</td>\n",
       "      <td>...</td>\n",
       "      <td>...</td>\n",
       "      <td>...</td>\n",
       "      <td>...</td>\n",
       "      <td>...</td>\n",
       "      <td>...</td>\n",
       "      <td>...</td>\n",
       "      <td>...</td>\n",
       "      <td>...</td>\n",
       "    </tr>\n",
       "    <tr>\n",
       "      <th>19434</th>\n",
       "      <td>2018-08-18 06:59:59</td>\n",
       "      <td>3.224920</td>\n",
       "      <td>11.356233</td>\n",
       "      <td>6.803482</td>\n",
       "      <td>46.713954</td>\n",
       "      <td>73.755150</td>\n",
       "      <td>8.769645</td>\n",
       "      <td>3.141541</td>\n",
       "      <td>10.403181</td>\n",
       "      <td>1.529220</td>\n",
       "      <td>...</td>\n",
       "      <td>23.031497</td>\n",
       "      <td>-501.167942</td>\n",
       "      <td>20.007571</td>\n",
       "      <td>-499.740028</td>\n",
       "      <td>18.006038</td>\n",
       "      <td>-499.834374</td>\n",
       "      <td>13.001114</td>\n",
       "      <td>-500.155694</td>\n",
       "      <td>20.007840</td>\n",
       "      <td>-501.296428</td>\n",
       "    </tr>\n",
       "    <tr>\n",
       "      <th>19435</th>\n",
       "      <td>2018-08-18 07:59:59</td>\n",
       "      <td>3.195978</td>\n",
       "      <td>11.349355</td>\n",
       "      <td>6.862249</td>\n",
       "      <td>46.866780</td>\n",
       "      <td>69.049291</td>\n",
       "      <td>8.897321</td>\n",
       "      <td>3.130493</td>\n",
       "      <td>10.549470</td>\n",
       "      <td>1.612542</td>\n",
       "      <td>...</td>\n",
       "      <td>22.960095</td>\n",
       "      <td>-501.612783</td>\n",
       "      <td>20.035660</td>\n",
       "      <td>-500.251357</td>\n",
       "      <td>17.998535</td>\n",
       "      <td>-500.395178</td>\n",
       "      <td>12.954048</td>\n",
       "      <td>-499.895163</td>\n",
       "      <td>19.968498</td>\n",
       "      <td>-501.041608</td>\n",
       "    </tr>\n",
       "    <tr>\n",
       "      <th>19436</th>\n",
       "      <td>2018-08-18 08:59:59</td>\n",
       "      <td>3.109998</td>\n",
       "      <td>11.434366</td>\n",
       "      <td>6.886013</td>\n",
       "      <td>46.795691</td>\n",
       "      <td>67.002189</td>\n",
       "      <td>8.529606</td>\n",
       "      <td>2.911418</td>\n",
       "      <td>11.115147</td>\n",
       "      <td>1.596616</td>\n",
       "      <td>...</td>\n",
       "      <td>23.015718</td>\n",
       "      <td>-501.711599</td>\n",
       "      <td>19.951231</td>\n",
       "      <td>-499.857027</td>\n",
       "      <td>18.019543</td>\n",
       "      <td>-500.451156</td>\n",
       "      <td>13.023431</td>\n",
       "      <td>-499.914391</td>\n",
       "      <td>19.990885</td>\n",
       "      <td>-501.518452</td>\n",
       "    </tr>\n",
       "    <tr>\n",
       "      <th>19437</th>\n",
       "      <td>2018-08-18 09:59:59</td>\n",
       "      <td>3.367241</td>\n",
       "      <td>11.625587</td>\n",
       "      <td>6.799433</td>\n",
       "      <td>46.408188</td>\n",
       "      <td>65.523246</td>\n",
       "      <td>8.777171</td>\n",
       "      <td>2.819214</td>\n",
       "      <td>10.463847</td>\n",
       "      <td>1.602879</td>\n",
       "      <td>...</td>\n",
       "      <td>23.024963</td>\n",
       "      <td>-501.153409</td>\n",
       "      <td>20.054122</td>\n",
       "      <td>-500.314711</td>\n",
       "      <td>17.979515</td>\n",
       "      <td>-499.272871</td>\n",
       "      <td>12.992404</td>\n",
       "      <td>-499.976268</td>\n",
       "      <td>20.013986</td>\n",
       "      <td>-500.625471</td>\n",
       "    </tr>\n",
       "    <tr>\n",
       "      <th>19438</th>\n",
       "      <td>2018-08-18 10:59:59</td>\n",
       "      <td>3.598375</td>\n",
       "      <td>11.737832</td>\n",
       "      <td>6.717509</td>\n",
       "      <td>46.299438</td>\n",
       "      <td>70.281454</td>\n",
       "      <td>8.406690</td>\n",
       "      <td>2.517518</td>\n",
       "      <td>10.652193</td>\n",
       "      <td>1.389434</td>\n",
       "      <td>...</td>\n",
       "      <td>23.018622</td>\n",
       "      <td>-500.492702</td>\n",
       "      <td>20.020205</td>\n",
       "      <td>-500.220296</td>\n",
       "      <td>17.963512</td>\n",
       "      <td>-499.939490</td>\n",
       "      <td>12.990306</td>\n",
       "      <td>-500.080993</td>\n",
       "      <td>19.990336</td>\n",
       "      <td>-499.191575</td>\n",
       "    </tr>\n",
       "  </tbody>\n",
       "</table>\n",
       "<p>19439 rows × 87 columns</p>\n",
       "</div>"
      ],
      "text/plain": [
       "                     date  final.output.concentrate_ag  \\\n",
       "0     2016-01-15 00:00:00                     6.055403   \n",
       "1     2016-01-15 01:00:00                     6.029369   \n",
       "2     2016-01-15 02:00:00                     6.055926   \n",
       "3     2016-01-15 03:00:00                     6.047977   \n",
       "4     2016-01-15 04:00:00                     6.148599   \n",
       "...                   ...                          ...   \n",
       "19434 2018-08-18 06:59:59                     3.224920   \n",
       "19435 2018-08-18 07:59:59                     3.195978   \n",
       "19436 2018-08-18 08:59:59                     3.109998   \n",
       "19437 2018-08-18 09:59:59                     3.367241   \n",
       "19438 2018-08-18 10:59:59                     3.598375   \n",
       "\n",
       "       final.output.concentrate_pb  final.output.concentrate_sol  \\\n",
       "0                         9.889648                      5.507324   \n",
       "1                         9.968944                      5.257781   \n",
       "2                        10.213995                      5.383759   \n",
       "3                         9.977019                      4.858634   \n",
       "4                        10.142511                      4.939416   \n",
       "...                            ...                           ...   \n",
       "19434                    11.356233                      6.803482   \n",
       "19435                    11.349355                      6.862249   \n",
       "19436                    11.434366                      6.886013   \n",
       "19437                    11.625587                      6.799433   \n",
       "19438                    11.737832                      6.717509   \n",
       "\n",
       "       final.output.concentrate_au  final.output.recovery  \\\n",
       "0                        42.192020              70.541216   \n",
       "1                        42.701629              69.266198   \n",
       "2                        42.657501              68.116445   \n",
       "3                        42.689819              68.347543   \n",
       "4                        42.774141              66.927016   \n",
       "...                            ...                    ...   \n",
       "19434                    46.713954              73.755150   \n",
       "19435                    46.866780              69.049291   \n",
       "19436                    46.795691              67.002189   \n",
       "19437                    46.408188              65.523246   \n",
       "19438                    46.299438              70.281454   \n",
       "\n",
       "       final.output.tail_ag  final.output.tail_pb  final.output.tail_sol  \\\n",
       "0                 10.411962              0.895447              16.904297   \n",
       "1                 10.462676              0.927452              16.634514   \n",
       "2                 10.507046              0.953716              16.208849   \n",
       "3                 10.422762              0.883763              16.532835   \n",
       "4                 10.360302              0.792826              16.525686   \n",
       "...                     ...                   ...                    ...   \n",
       "19434              8.769645              3.141541              10.403181   \n",
       "19435              8.897321              3.130493              10.549470   \n",
       "19436              8.529606              2.911418              11.115147   \n",
       "19437              8.777171              2.819214              10.463847   \n",
       "19438              8.406690              2.517518              10.652193   \n",
       "\n",
       "       final.output.tail_au  ...  secondary_cleaner.state.floatbank4_a_air  \\\n",
       "0                  2.143149  ...                                 14.016835   \n",
       "1                  2.224930  ...                                 13.992281   \n",
       "2                  2.257889  ...                                 14.015015   \n",
       "3                  2.146849  ...                                 14.036510   \n",
       "4                  2.055292  ...                                 14.027298   \n",
       "...                     ...  ...                                       ...   \n",
       "19434              1.529220  ...                                 23.031497   \n",
       "19435              1.612542  ...                                 22.960095   \n",
       "19436              1.596616  ...                                 23.015718   \n",
       "19437              1.602879  ...                                 23.024963   \n",
       "19438              1.389434  ...                                 23.018622   \n",
       "\n",
       "       secondary_cleaner.state.floatbank4_a_level  \\\n",
       "0                                     -502.488007   \n",
       "1                                     -505.503262   \n",
       "2                                     -502.520901   \n",
       "3                                     -500.857308   \n",
       "4                                     -499.838632   \n",
       "...                                           ...   \n",
       "19434                                 -501.167942   \n",
       "19435                                 -501.612783   \n",
       "19436                                 -501.711599   \n",
       "19437                                 -501.153409   \n",
       "19438                                 -500.492702   \n",
       "\n",
       "       secondary_cleaner.state.floatbank4_b_air  \\\n",
       "0                                     12.099931   \n",
       "1                                     11.950531   \n",
       "2                                     11.912783   \n",
       "3                                     11.999550   \n",
       "4                                     11.953070   \n",
       "...                                         ...   \n",
       "19434                                 20.007571   \n",
       "19435                                 20.035660   \n",
       "19436                                 19.951231   \n",
       "19437                                 20.054122   \n",
       "19438                                 20.020205   \n",
       "\n",
       "       secondary_cleaner.state.floatbank4_b_level  \\\n",
       "0                                     -504.715942   \n",
       "1                                     -501.331529   \n",
       "2                                     -501.133383   \n",
       "3                                     -501.193686   \n",
       "4                                     -501.053894   \n",
       "...                                           ...   \n",
       "19434                                 -499.740028   \n",
       "19435                                 -500.251357   \n",
       "19436                                 -499.857027   \n",
       "19437                                 -500.314711   \n",
       "19438                                 -500.220296   \n",
       "\n",
       "       secondary_cleaner.state.floatbank5_a_air  \\\n",
       "0                                      9.925633   \n",
       "1                                     10.039245   \n",
       "2                                     10.070913   \n",
       "3                                      9.970366   \n",
       "4                                      9.925709   \n",
       "...                                         ...   \n",
       "19434                                 18.006038   \n",
       "19435                                 17.998535   \n",
       "19436                                 18.019543   \n",
       "19437                                 17.979515   \n",
       "19438                                 17.963512   \n",
       "\n",
       "       secondary_cleaner.state.floatbank5_a_level  \\\n",
       "0                                     -498.310211   \n",
       "1                                     -500.169983   \n",
       "2                                     -500.129135   \n",
       "3                                     -499.201640   \n",
       "4                                     -501.686727   \n",
       "...                                           ...   \n",
       "19434                                 -499.834374   \n",
       "19435                                 -500.395178   \n",
       "19436                                 -500.451156   \n",
       "19437                                 -499.272871   \n",
       "19438                                 -499.939490   \n",
       "\n",
       "       secondary_cleaner.state.floatbank5_b_air  \\\n",
       "0                                      8.079666   \n",
       "1                                      7.984757   \n",
       "2                                      8.013877   \n",
       "3                                      7.977324   \n",
       "4                                      7.894242   \n",
       "...                                         ...   \n",
       "19434                                 13.001114   \n",
       "19435                                 12.954048   \n",
       "19436                                 13.023431   \n",
       "19437                                 12.992404   \n",
       "19438                                 12.990306   \n",
       "\n",
       "       secondary_cleaner.state.floatbank5_b_level  \\\n",
       "0                                     -500.470978   \n",
       "1                                     -500.582168   \n",
       "2                                     -500.517572   \n",
       "3                                     -500.255908   \n",
       "4                                     -500.356035   \n",
       "...                                           ...   \n",
       "19434                                 -500.155694   \n",
       "19435                                 -499.895163   \n",
       "19436                                 -499.914391   \n",
       "19437                                 -499.976268   \n",
       "19438                                 -500.080993   \n",
       "\n",
       "       secondary_cleaner.state.floatbank6_a_air  \\\n",
       "0                                     14.151341   \n",
       "1                                     13.998353   \n",
       "2                                     14.028663   \n",
       "3                                     14.005551   \n",
       "4                                     13.996647   \n",
       "...                                         ...   \n",
       "19434                                 20.007840   \n",
       "19435                                 19.968498   \n",
       "19436                                 19.990885   \n",
       "19437                                 20.013986   \n",
       "19438                                 19.990336   \n",
       "\n",
       "       secondary_cleaner.state.floatbank6_a_level  \n",
       "0                                     -605.841980  \n",
       "1                                     -599.787184  \n",
       "2                                     -601.427363  \n",
       "3                                     -599.996129  \n",
       "4                                     -601.496691  \n",
       "...                                           ...  \n",
       "19434                                 -501.296428  \n",
       "19435                                 -501.041608  \n",
       "19436                                 -501.518452  \n",
       "19437                                 -500.625471  \n",
       "19438                                 -499.191575  \n",
       "\n",
       "[19439 rows x 87 columns]"
      ]
     },
     "metadata": {},
     "output_type": "display_data"
    },
    {
     "data": {
      "text/html": [
       "<div>\n",
       "<style scoped>\n",
       "    .dataframe tbody tr th:only-of-type {\n",
       "        vertical-align: middle;\n",
       "    }\n",
       "\n",
       "    .dataframe tbody tr th {\n",
       "        vertical-align: top;\n",
       "    }\n",
       "\n",
       "    .dataframe thead th {\n",
       "        text-align: right;\n",
       "    }\n",
       "</style>\n",
       "<table border=\"1\" class=\"dataframe\">\n",
       "  <thead>\n",
       "    <tr style=\"text-align: right;\">\n",
       "      <th></th>\n",
       "      <th>date</th>\n",
       "      <th>final.output.concentrate_ag</th>\n",
       "      <th>final.output.concentrate_pb</th>\n",
       "      <th>final.output.concentrate_sol</th>\n",
       "      <th>final.output.concentrate_au</th>\n",
       "      <th>final.output.recovery</th>\n",
       "      <th>final.output.tail_ag</th>\n",
       "      <th>final.output.tail_pb</th>\n",
       "      <th>final.output.tail_sol</th>\n",
       "      <th>final.output.tail_au</th>\n",
       "      <th>...</th>\n",
       "      <th>secondary_cleaner.state.floatbank4_a_air</th>\n",
       "      <th>secondary_cleaner.state.floatbank4_a_level</th>\n",
       "      <th>secondary_cleaner.state.floatbank4_b_air</th>\n",
       "      <th>secondary_cleaner.state.floatbank4_b_level</th>\n",
       "      <th>secondary_cleaner.state.floatbank5_a_air</th>\n",
       "      <th>secondary_cleaner.state.floatbank5_a_level</th>\n",
       "      <th>secondary_cleaner.state.floatbank5_b_air</th>\n",
       "      <th>secondary_cleaner.state.floatbank5_b_level</th>\n",
       "      <th>secondary_cleaner.state.floatbank6_a_air</th>\n",
       "      <th>secondary_cleaner.state.floatbank6_a_level</th>\n",
       "    </tr>\n",
       "  </thead>\n",
       "  <tbody>\n",
       "    <tr>\n",
       "      <th>0</th>\n",
       "      <td>2016-01-15 00:00:00</td>\n",
       "      <td>6.055403</td>\n",
       "      <td>9.889648</td>\n",
       "      <td>5.507324</td>\n",
       "      <td>42.192020</td>\n",
       "      <td>70.541216</td>\n",
       "      <td>10.411962</td>\n",
       "      <td>0.895447</td>\n",
       "      <td>16.904297</td>\n",
       "      <td>2.143149</td>\n",
       "      <td>...</td>\n",
       "      <td>14.016835</td>\n",
       "      <td>-502.488007</td>\n",
       "      <td>12.099931</td>\n",
       "      <td>-504.715942</td>\n",
       "      <td>9.925633</td>\n",
       "      <td>-498.310211</td>\n",
       "      <td>8.079666</td>\n",
       "      <td>-500.470978</td>\n",
       "      <td>14.151341</td>\n",
       "      <td>-605.841980</td>\n",
       "    </tr>\n",
       "    <tr>\n",
       "      <th>1</th>\n",
       "      <td>2016-01-15 01:00:00</td>\n",
       "      <td>6.029369</td>\n",
       "      <td>9.968944</td>\n",
       "      <td>5.257781</td>\n",
       "      <td>42.701629</td>\n",
       "      <td>69.266198</td>\n",
       "      <td>10.462676</td>\n",
       "      <td>0.927452</td>\n",
       "      <td>16.634514</td>\n",
       "      <td>2.224930</td>\n",
       "      <td>...</td>\n",
       "      <td>13.992281</td>\n",
       "      <td>-505.503262</td>\n",
       "      <td>11.950531</td>\n",
       "      <td>-501.331529</td>\n",
       "      <td>10.039245</td>\n",
       "      <td>-500.169983</td>\n",
       "      <td>7.984757</td>\n",
       "      <td>-500.582168</td>\n",
       "      <td>13.998353</td>\n",
       "      <td>-599.787184</td>\n",
       "    </tr>\n",
       "    <tr>\n",
       "      <th>2</th>\n",
       "      <td>2016-01-15 02:00:00</td>\n",
       "      <td>6.055926</td>\n",
       "      <td>10.213995</td>\n",
       "      <td>5.383759</td>\n",
       "      <td>42.657501</td>\n",
       "      <td>68.116445</td>\n",
       "      <td>10.507046</td>\n",
       "      <td>0.953716</td>\n",
       "      <td>16.208849</td>\n",
       "      <td>2.257889</td>\n",
       "      <td>...</td>\n",
       "      <td>14.015015</td>\n",
       "      <td>-502.520901</td>\n",
       "      <td>11.912783</td>\n",
       "      <td>-501.133383</td>\n",
       "      <td>10.070913</td>\n",
       "      <td>-500.129135</td>\n",
       "      <td>8.013877</td>\n",
       "      <td>-500.517572</td>\n",
       "      <td>14.028663</td>\n",
       "      <td>-601.427363</td>\n",
       "    </tr>\n",
       "    <tr>\n",
       "      <th>3</th>\n",
       "      <td>2016-01-15 03:00:00</td>\n",
       "      <td>6.047977</td>\n",
       "      <td>9.977019</td>\n",
       "      <td>4.858634</td>\n",
       "      <td>42.689819</td>\n",
       "      <td>68.347543</td>\n",
       "      <td>10.422762</td>\n",
       "      <td>0.883763</td>\n",
       "      <td>16.532835</td>\n",
       "      <td>2.146849</td>\n",
       "      <td>...</td>\n",
       "      <td>14.036510</td>\n",
       "      <td>-500.857308</td>\n",
       "      <td>11.999550</td>\n",
       "      <td>-501.193686</td>\n",
       "      <td>9.970366</td>\n",
       "      <td>-499.201640</td>\n",
       "      <td>7.977324</td>\n",
       "      <td>-500.255908</td>\n",
       "      <td>14.005551</td>\n",
       "      <td>-599.996129</td>\n",
       "    </tr>\n",
       "    <tr>\n",
       "      <th>4</th>\n",
       "      <td>2016-01-15 04:00:00</td>\n",
       "      <td>6.148599</td>\n",
       "      <td>10.142511</td>\n",
       "      <td>4.939416</td>\n",
       "      <td>42.774141</td>\n",
       "      <td>66.927016</td>\n",
       "      <td>10.360302</td>\n",
       "      <td>0.792826</td>\n",
       "      <td>16.525686</td>\n",
       "      <td>2.055292</td>\n",
       "      <td>...</td>\n",
       "      <td>14.027298</td>\n",
       "      <td>-499.838632</td>\n",
       "      <td>11.953070</td>\n",
       "      <td>-501.053894</td>\n",
       "      <td>9.925709</td>\n",
       "      <td>-501.686727</td>\n",
       "      <td>7.894242</td>\n",
       "      <td>-500.356035</td>\n",
       "      <td>13.996647</td>\n",
       "      <td>-601.496691</td>\n",
       "    </tr>\n",
       "    <tr>\n",
       "      <th>...</th>\n",
       "      <td>...</td>\n",
       "      <td>...</td>\n",
       "      <td>...</td>\n",
       "      <td>...</td>\n",
       "      <td>...</td>\n",
       "      <td>...</td>\n",
       "      <td>...</td>\n",
       "      <td>...</td>\n",
       "      <td>...</td>\n",
       "      <td>...</td>\n",
       "      <td>...</td>\n",
       "      <td>...</td>\n",
       "      <td>...</td>\n",
       "      <td>...</td>\n",
       "      <td>...</td>\n",
       "      <td>...</td>\n",
       "      <td>...</td>\n",
       "      <td>...</td>\n",
       "      <td>...</td>\n",
       "      <td>...</td>\n",
       "      <td>...</td>\n",
       "    </tr>\n",
       "    <tr>\n",
       "      <th>14144</th>\n",
       "      <td>2018-08-18 06:59:59</td>\n",
       "      <td>3.224920</td>\n",
       "      <td>11.356233</td>\n",
       "      <td>6.803482</td>\n",
       "      <td>46.713954</td>\n",
       "      <td>73.755150</td>\n",
       "      <td>8.769645</td>\n",
       "      <td>3.141541</td>\n",
       "      <td>10.403181</td>\n",
       "      <td>1.529220</td>\n",
       "      <td>...</td>\n",
       "      <td>23.031497</td>\n",
       "      <td>-501.167942</td>\n",
       "      <td>20.007571</td>\n",
       "      <td>-499.740028</td>\n",
       "      <td>18.006038</td>\n",
       "      <td>-499.834374</td>\n",
       "      <td>13.001114</td>\n",
       "      <td>-500.155694</td>\n",
       "      <td>20.007840</td>\n",
       "      <td>-501.296428</td>\n",
       "    </tr>\n",
       "    <tr>\n",
       "      <th>14145</th>\n",
       "      <td>2018-08-18 07:59:59</td>\n",
       "      <td>3.195978</td>\n",
       "      <td>11.349355</td>\n",
       "      <td>6.862249</td>\n",
       "      <td>46.866780</td>\n",
       "      <td>69.049291</td>\n",
       "      <td>8.897321</td>\n",
       "      <td>3.130493</td>\n",
       "      <td>10.549470</td>\n",
       "      <td>1.612542</td>\n",
       "      <td>...</td>\n",
       "      <td>22.960095</td>\n",
       "      <td>-501.612783</td>\n",
       "      <td>20.035660</td>\n",
       "      <td>-500.251357</td>\n",
       "      <td>17.998535</td>\n",
       "      <td>-500.395178</td>\n",
       "      <td>12.954048</td>\n",
       "      <td>-499.895163</td>\n",
       "      <td>19.968498</td>\n",
       "      <td>-501.041608</td>\n",
       "    </tr>\n",
       "    <tr>\n",
       "      <th>14146</th>\n",
       "      <td>2018-08-18 08:59:59</td>\n",
       "      <td>3.109998</td>\n",
       "      <td>11.434366</td>\n",
       "      <td>6.886013</td>\n",
       "      <td>46.795691</td>\n",
       "      <td>67.002189</td>\n",
       "      <td>8.529606</td>\n",
       "      <td>2.911418</td>\n",
       "      <td>11.115147</td>\n",
       "      <td>1.596616</td>\n",
       "      <td>...</td>\n",
       "      <td>23.015718</td>\n",
       "      <td>-501.711599</td>\n",
       "      <td>19.951231</td>\n",
       "      <td>-499.857027</td>\n",
       "      <td>18.019543</td>\n",
       "      <td>-500.451156</td>\n",
       "      <td>13.023431</td>\n",
       "      <td>-499.914391</td>\n",
       "      <td>19.990885</td>\n",
       "      <td>-501.518452</td>\n",
       "    </tr>\n",
       "    <tr>\n",
       "      <th>14147</th>\n",
       "      <td>2018-08-18 09:59:59</td>\n",
       "      <td>3.367241</td>\n",
       "      <td>11.625587</td>\n",
       "      <td>6.799433</td>\n",
       "      <td>46.408188</td>\n",
       "      <td>65.523246</td>\n",
       "      <td>8.777171</td>\n",
       "      <td>2.819214</td>\n",
       "      <td>10.463847</td>\n",
       "      <td>1.602879</td>\n",
       "      <td>...</td>\n",
       "      <td>23.024963</td>\n",
       "      <td>-501.153409</td>\n",
       "      <td>20.054122</td>\n",
       "      <td>-500.314711</td>\n",
       "      <td>17.979515</td>\n",
       "      <td>-499.272871</td>\n",
       "      <td>12.992404</td>\n",
       "      <td>-499.976268</td>\n",
       "      <td>20.013986</td>\n",
       "      <td>-500.625471</td>\n",
       "    </tr>\n",
       "    <tr>\n",
       "      <th>14148</th>\n",
       "      <td>2018-08-18 10:59:59</td>\n",
       "      <td>3.598375</td>\n",
       "      <td>11.737832</td>\n",
       "      <td>6.717509</td>\n",
       "      <td>46.299438</td>\n",
       "      <td>70.281454</td>\n",
       "      <td>8.406690</td>\n",
       "      <td>2.517518</td>\n",
       "      <td>10.652193</td>\n",
       "      <td>1.389434</td>\n",
       "      <td>...</td>\n",
       "      <td>23.018622</td>\n",
       "      <td>-500.492702</td>\n",
       "      <td>20.020205</td>\n",
       "      <td>-500.220296</td>\n",
       "      <td>17.963512</td>\n",
       "      <td>-499.939490</td>\n",
       "      <td>12.990306</td>\n",
       "      <td>-500.080993</td>\n",
       "      <td>19.990336</td>\n",
       "      <td>-499.191575</td>\n",
       "    </tr>\n",
       "  </tbody>\n",
       "</table>\n",
       "<p>14149 rows × 87 columns</p>\n",
       "</div>"
      ],
      "text/plain": [
       "                     date  final.output.concentrate_ag  \\\n",
       "0     2016-01-15 00:00:00                     6.055403   \n",
       "1     2016-01-15 01:00:00                     6.029369   \n",
       "2     2016-01-15 02:00:00                     6.055926   \n",
       "3     2016-01-15 03:00:00                     6.047977   \n",
       "4     2016-01-15 04:00:00                     6.148599   \n",
       "...                   ...                          ...   \n",
       "14144 2018-08-18 06:59:59                     3.224920   \n",
       "14145 2018-08-18 07:59:59                     3.195978   \n",
       "14146 2018-08-18 08:59:59                     3.109998   \n",
       "14147 2018-08-18 09:59:59                     3.367241   \n",
       "14148 2018-08-18 10:59:59                     3.598375   \n",
       "\n",
       "       final.output.concentrate_pb  final.output.concentrate_sol  \\\n",
       "0                         9.889648                      5.507324   \n",
       "1                         9.968944                      5.257781   \n",
       "2                        10.213995                      5.383759   \n",
       "3                         9.977019                      4.858634   \n",
       "4                        10.142511                      4.939416   \n",
       "...                            ...                           ...   \n",
       "14144                    11.356233                      6.803482   \n",
       "14145                    11.349355                      6.862249   \n",
       "14146                    11.434366                      6.886013   \n",
       "14147                    11.625587                      6.799433   \n",
       "14148                    11.737832                      6.717509   \n",
       "\n",
       "       final.output.concentrate_au  final.output.recovery  \\\n",
       "0                        42.192020              70.541216   \n",
       "1                        42.701629              69.266198   \n",
       "2                        42.657501              68.116445   \n",
       "3                        42.689819              68.347543   \n",
       "4                        42.774141              66.927016   \n",
       "...                            ...                    ...   \n",
       "14144                    46.713954              73.755150   \n",
       "14145                    46.866780              69.049291   \n",
       "14146                    46.795691              67.002189   \n",
       "14147                    46.408188              65.523246   \n",
       "14148                    46.299438              70.281454   \n",
       "\n",
       "       final.output.tail_ag  final.output.tail_pb  final.output.tail_sol  \\\n",
       "0                 10.411962              0.895447              16.904297   \n",
       "1                 10.462676              0.927452              16.634514   \n",
       "2                 10.507046              0.953716              16.208849   \n",
       "3                 10.422762              0.883763              16.532835   \n",
       "4                 10.360302              0.792826              16.525686   \n",
       "...                     ...                   ...                    ...   \n",
       "14144              8.769645              3.141541              10.403181   \n",
       "14145              8.897321              3.130493              10.549470   \n",
       "14146              8.529606              2.911418              11.115147   \n",
       "14147              8.777171              2.819214              10.463847   \n",
       "14148              8.406690              2.517518              10.652193   \n",
       "\n",
       "       final.output.tail_au  ...  secondary_cleaner.state.floatbank4_a_air  \\\n",
       "0                  2.143149  ...                                 14.016835   \n",
       "1                  2.224930  ...                                 13.992281   \n",
       "2                  2.257889  ...                                 14.015015   \n",
       "3                  2.146849  ...                                 14.036510   \n",
       "4                  2.055292  ...                                 14.027298   \n",
       "...                     ...  ...                                       ...   \n",
       "14144              1.529220  ...                                 23.031497   \n",
       "14145              1.612542  ...                                 22.960095   \n",
       "14146              1.596616  ...                                 23.015718   \n",
       "14147              1.602879  ...                                 23.024963   \n",
       "14148              1.389434  ...                                 23.018622   \n",
       "\n",
       "       secondary_cleaner.state.floatbank4_a_level  \\\n",
       "0                                     -502.488007   \n",
       "1                                     -505.503262   \n",
       "2                                     -502.520901   \n",
       "3                                     -500.857308   \n",
       "4                                     -499.838632   \n",
       "...                                           ...   \n",
       "14144                                 -501.167942   \n",
       "14145                                 -501.612783   \n",
       "14146                                 -501.711599   \n",
       "14147                                 -501.153409   \n",
       "14148                                 -500.492702   \n",
       "\n",
       "       secondary_cleaner.state.floatbank4_b_air  \\\n",
       "0                                     12.099931   \n",
       "1                                     11.950531   \n",
       "2                                     11.912783   \n",
       "3                                     11.999550   \n",
       "4                                     11.953070   \n",
       "...                                         ...   \n",
       "14144                                 20.007571   \n",
       "14145                                 20.035660   \n",
       "14146                                 19.951231   \n",
       "14147                                 20.054122   \n",
       "14148                                 20.020205   \n",
       "\n",
       "       secondary_cleaner.state.floatbank4_b_level  \\\n",
       "0                                     -504.715942   \n",
       "1                                     -501.331529   \n",
       "2                                     -501.133383   \n",
       "3                                     -501.193686   \n",
       "4                                     -501.053894   \n",
       "...                                           ...   \n",
       "14144                                 -499.740028   \n",
       "14145                                 -500.251357   \n",
       "14146                                 -499.857027   \n",
       "14147                                 -500.314711   \n",
       "14148                                 -500.220296   \n",
       "\n",
       "       secondary_cleaner.state.floatbank5_a_air  \\\n",
       "0                                      9.925633   \n",
       "1                                     10.039245   \n",
       "2                                     10.070913   \n",
       "3                                      9.970366   \n",
       "4                                      9.925709   \n",
       "...                                         ...   \n",
       "14144                                 18.006038   \n",
       "14145                                 17.998535   \n",
       "14146                                 18.019543   \n",
       "14147                                 17.979515   \n",
       "14148                                 17.963512   \n",
       "\n",
       "       secondary_cleaner.state.floatbank5_a_level  \\\n",
       "0                                     -498.310211   \n",
       "1                                     -500.169983   \n",
       "2                                     -500.129135   \n",
       "3                                     -499.201640   \n",
       "4                                     -501.686727   \n",
       "...                                           ...   \n",
       "14144                                 -499.834374   \n",
       "14145                                 -500.395178   \n",
       "14146                                 -500.451156   \n",
       "14147                                 -499.272871   \n",
       "14148                                 -499.939490   \n",
       "\n",
       "       secondary_cleaner.state.floatbank5_b_air  \\\n",
       "0                                      8.079666   \n",
       "1                                      7.984757   \n",
       "2                                      8.013877   \n",
       "3                                      7.977324   \n",
       "4                                      7.894242   \n",
       "...                                         ...   \n",
       "14144                                 13.001114   \n",
       "14145                                 12.954048   \n",
       "14146                                 13.023431   \n",
       "14147                                 12.992404   \n",
       "14148                                 12.990306   \n",
       "\n",
       "       secondary_cleaner.state.floatbank5_b_level  \\\n",
       "0                                     -500.470978   \n",
       "1                                     -500.582168   \n",
       "2                                     -500.517572   \n",
       "3                                     -500.255908   \n",
       "4                                     -500.356035   \n",
       "...                                           ...   \n",
       "14144                                 -500.155694   \n",
       "14145                                 -499.895163   \n",
       "14146                                 -499.914391   \n",
       "14147                                 -499.976268   \n",
       "14148                                 -500.080993   \n",
       "\n",
       "       secondary_cleaner.state.floatbank6_a_air  \\\n",
       "0                                     14.151341   \n",
       "1                                     13.998353   \n",
       "2                                     14.028663   \n",
       "3                                     14.005551   \n",
       "4                                     13.996647   \n",
       "...                                         ...   \n",
       "14144                                 20.007840   \n",
       "14145                                 19.968498   \n",
       "14146                                 19.990885   \n",
       "14147                                 20.013986   \n",
       "14148                                 19.990336   \n",
       "\n",
       "       secondary_cleaner.state.floatbank6_a_level  \n",
       "0                                     -605.841980  \n",
       "1                                     -599.787184  \n",
       "2                                     -601.427363  \n",
       "3                                     -599.996129  \n",
       "4                                     -601.496691  \n",
       "...                                           ...  \n",
       "14144                                 -501.296428  \n",
       "14145                                 -501.041608  \n",
       "14146                                 -501.518452  \n",
       "14147                                 -500.625471  \n",
       "14148                                 -499.191575  \n",
       "\n",
       "[14149 rows x 87 columns]"
      ]
     },
     "metadata": {},
     "output_type": "display_data"
    },
    {
     "data": {
      "text/html": [
       "<div>\n",
       "<style scoped>\n",
       "    .dataframe tbody tr th:only-of-type {\n",
       "        vertical-align: middle;\n",
       "    }\n",
       "\n",
       "    .dataframe tbody tr th {\n",
       "        vertical-align: top;\n",
       "    }\n",
       "\n",
       "    .dataframe thead th {\n",
       "        text-align: right;\n",
       "    }\n",
       "</style>\n",
       "<table border=\"1\" class=\"dataframe\">\n",
       "  <thead>\n",
       "    <tr style=\"text-align: right;\">\n",
       "      <th></th>\n",
       "      <th>date</th>\n",
       "      <th>primary_cleaner.input.sulfate</th>\n",
       "      <th>primary_cleaner.input.depressant</th>\n",
       "      <th>primary_cleaner.input.feed_size</th>\n",
       "      <th>primary_cleaner.input.xanthate</th>\n",
       "      <th>primary_cleaner.state.floatbank8_a_air</th>\n",
       "      <th>primary_cleaner.state.floatbank8_a_level</th>\n",
       "      <th>primary_cleaner.state.floatbank8_b_air</th>\n",
       "      <th>primary_cleaner.state.floatbank8_b_level</th>\n",
       "      <th>primary_cleaner.state.floatbank8_c_air</th>\n",
       "      <th>...</th>\n",
       "      <th>secondary_cleaner.state.floatbank4_a_air</th>\n",
       "      <th>secondary_cleaner.state.floatbank4_a_level</th>\n",
       "      <th>secondary_cleaner.state.floatbank4_b_air</th>\n",
       "      <th>secondary_cleaner.state.floatbank4_b_level</th>\n",
       "      <th>secondary_cleaner.state.floatbank5_a_air</th>\n",
       "      <th>secondary_cleaner.state.floatbank5_a_level</th>\n",
       "      <th>secondary_cleaner.state.floatbank5_b_air</th>\n",
       "      <th>secondary_cleaner.state.floatbank5_b_level</th>\n",
       "      <th>secondary_cleaner.state.floatbank6_a_air</th>\n",
       "      <th>secondary_cleaner.state.floatbank6_a_level</th>\n",
       "    </tr>\n",
       "  </thead>\n",
       "  <tbody>\n",
       "    <tr>\n",
       "      <th>0</th>\n",
       "      <td>2016-09-01 00:59:59</td>\n",
       "      <td>210.800909</td>\n",
       "      <td>14.993118</td>\n",
       "      <td>8.080000</td>\n",
       "      <td>1.005021</td>\n",
       "      <td>1398.981301</td>\n",
       "      <td>-500.225577</td>\n",
       "      <td>1399.144926</td>\n",
       "      <td>-499.919735</td>\n",
       "      <td>1400.102998</td>\n",
       "      <td>...</td>\n",
       "      <td>12.023554</td>\n",
       "      <td>-497.795834</td>\n",
       "      <td>8.016656</td>\n",
       "      <td>-501.289139</td>\n",
       "      <td>7.946562</td>\n",
       "      <td>-432.317850</td>\n",
       "      <td>4.872511</td>\n",
       "      <td>-500.037437</td>\n",
       "      <td>26.705889</td>\n",
       "      <td>-499.709414</td>\n",
       "    </tr>\n",
       "    <tr>\n",
       "      <th>1</th>\n",
       "      <td>2016-09-01 01:59:59</td>\n",
       "      <td>215.392455</td>\n",
       "      <td>14.987471</td>\n",
       "      <td>8.080000</td>\n",
       "      <td>0.990469</td>\n",
       "      <td>1398.777912</td>\n",
       "      <td>-500.057435</td>\n",
       "      <td>1398.055362</td>\n",
       "      <td>-499.778182</td>\n",
       "      <td>1396.151033</td>\n",
       "      <td>...</td>\n",
       "      <td>12.058140</td>\n",
       "      <td>-498.695773</td>\n",
       "      <td>8.130979</td>\n",
       "      <td>-499.634209</td>\n",
       "      <td>7.958270</td>\n",
       "      <td>-525.839648</td>\n",
       "      <td>4.878850</td>\n",
       "      <td>-500.162375</td>\n",
       "      <td>25.019940</td>\n",
       "      <td>-499.819438</td>\n",
       "    </tr>\n",
       "    <tr>\n",
       "      <th>2</th>\n",
       "      <td>2016-09-01 02:59:59</td>\n",
       "      <td>215.259946</td>\n",
       "      <td>12.884934</td>\n",
       "      <td>7.786667</td>\n",
       "      <td>0.996043</td>\n",
       "      <td>1398.493666</td>\n",
       "      <td>-500.868360</td>\n",
       "      <td>1398.860436</td>\n",
       "      <td>-499.764529</td>\n",
       "      <td>1398.075709</td>\n",
       "      <td>...</td>\n",
       "      <td>11.962366</td>\n",
       "      <td>-498.767484</td>\n",
       "      <td>8.096893</td>\n",
       "      <td>-500.827423</td>\n",
       "      <td>8.071056</td>\n",
       "      <td>-500.801673</td>\n",
       "      <td>4.905125</td>\n",
       "      <td>-499.828510</td>\n",
       "      <td>24.994862</td>\n",
       "      <td>-500.622559</td>\n",
       "    </tr>\n",
       "    <tr>\n",
       "      <th>3</th>\n",
       "      <td>2016-09-01 03:59:59</td>\n",
       "      <td>215.336236</td>\n",
       "      <td>12.006805</td>\n",
       "      <td>7.640000</td>\n",
       "      <td>0.863514</td>\n",
       "      <td>1399.618111</td>\n",
       "      <td>-498.863574</td>\n",
       "      <td>1397.440120</td>\n",
       "      <td>-499.211024</td>\n",
       "      <td>1400.129303</td>\n",
       "      <td>...</td>\n",
       "      <td>12.033091</td>\n",
       "      <td>-498.350935</td>\n",
       "      <td>8.074946</td>\n",
       "      <td>-499.474407</td>\n",
       "      <td>7.897085</td>\n",
       "      <td>-500.868509</td>\n",
       "      <td>4.931400</td>\n",
       "      <td>-499.963623</td>\n",
       "      <td>24.948919</td>\n",
       "      <td>-498.709987</td>\n",
       "    </tr>\n",
       "    <tr>\n",
       "      <th>4</th>\n",
       "      <td>2016-09-01 04:59:59</td>\n",
       "      <td>199.099327</td>\n",
       "      <td>10.682530</td>\n",
       "      <td>7.530000</td>\n",
       "      <td>0.805575</td>\n",
       "      <td>1401.268123</td>\n",
       "      <td>-500.808305</td>\n",
       "      <td>1398.128818</td>\n",
       "      <td>-499.504543</td>\n",
       "      <td>1402.172226</td>\n",
       "      <td>...</td>\n",
       "      <td>12.025367</td>\n",
       "      <td>-500.786497</td>\n",
       "      <td>8.054678</td>\n",
       "      <td>-500.397500</td>\n",
       "      <td>8.107890</td>\n",
       "      <td>-509.526725</td>\n",
       "      <td>4.957674</td>\n",
       "      <td>-500.360026</td>\n",
       "      <td>25.003331</td>\n",
       "      <td>-500.856333</td>\n",
       "    </tr>\n",
       "    <tr>\n",
       "      <th>...</th>\n",
       "      <td>...</td>\n",
       "      <td>...</td>\n",
       "      <td>...</td>\n",
       "      <td>...</td>\n",
       "      <td>...</td>\n",
       "      <td>...</td>\n",
       "      <td>...</td>\n",
       "      <td>...</td>\n",
       "      <td>...</td>\n",
       "      <td>...</td>\n",
       "      <td>...</td>\n",
       "      <td>...</td>\n",
       "      <td>...</td>\n",
       "      <td>...</td>\n",
       "      <td>...</td>\n",
       "      <td>...</td>\n",
       "      <td>...</td>\n",
       "      <td>...</td>\n",
       "      <td>...</td>\n",
       "      <td>...</td>\n",
       "      <td>...</td>\n",
       "    </tr>\n",
       "    <tr>\n",
       "      <th>5285</th>\n",
       "      <td>2017-12-31 19:59:59</td>\n",
       "      <td>173.957757</td>\n",
       "      <td>15.963399</td>\n",
       "      <td>8.070000</td>\n",
       "      <td>0.896701</td>\n",
       "      <td>1401.930554</td>\n",
       "      <td>-499.728848</td>\n",
       "      <td>1401.441445</td>\n",
       "      <td>-499.193423</td>\n",
       "      <td>1399.810313</td>\n",
       "      <td>...</td>\n",
       "      <td>13.995957</td>\n",
       "      <td>-500.157454</td>\n",
       "      <td>12.069155</td>\n",
       "      <td>-499.673279</td>\n",
       "      <td>7.977259</td>\n",
       "      <td>-499.516126</td>\n",
       "      <td>5.933319</td>\n",
       "      <td>-499.965973</td>\n",
       "      <td>8.987171</td>\n",
       "      <td>-499.755909</td>\n",
       "    </tr>\n",
       "    <tr>\n",
       "      <th>5286</th>\n",
       "      <td>2017-12-31 20:59:59</td>\n",
       "      <td>172.910270</td>\n",
       "      <td>16.002605</td>\n",
       "      <td>8.070000</td>\n",
       "      <td>0.896519</td>\n",
       "      <td>1447.075722</td>\n",
       "      <td>-494.716823</td>\n",
       "      <td>1448.851892</td>\n",
       "      <td>-465.963026</td>\n",
       "      <td>1443.890424</td>\n",
       "      <td>...</td>\n",
       "      <td>16.749781</td>\n",
       "      <td>-496.031539</td>\n",
       "      <td>13.365371</td>\n",
       "      <td>-499.122723</td>\n",
       "      <td>9.288553</td>\n",
       "      <td>-496.892967</td>\n",
       "      <td>7.372897</td>\n",
       "      <td>-499.942956</td>\n",
       "      <td>8.986832</td>\n",
       "      <td>-499.903761</td>\n",
       "    </tr>\n",
       "    <tr>\n",
       "      <th>5287</th>\n",
       "      <td>2017-12-31 21:59:59</td>\n",
       "      <td>171.135718</td>\n",
       "      <td>15.993669</td>\n",
       "      <td>8.070000</td>\n",
       "      <td>1.165996</td>\n",
       "      <td>1498.836182</td>\n",
       "      <td>-501.770403</td>\n",
       "      <td>1499.572353</td>\n",
       "      <td>-495.516347</td>\n",
       "      <td>1502.749213</td>\n",
       "      <td>...</td>\n",
       "      <td>19.994130</td>\n",
       "      <td>-499.791312</td>\n",
       "      <td>15.101425</td>\n",
       "      <td>-499.936252</td>\n",
       "      <td>10.989181</td>\n",
       "      <td>-498.347898</td>\n",
       "      <td>9.020944</td>\n",
       "      <td>-500.040448</td>\n",
       "      <td>8.982038</td>\n",
       "      <td>-497.789882</td>\n",
       "    </tr>\n",
       "    <tr>\n",
       "      <th>5288</th>\n",
       "      <td>2017-12-31 22:59:59</td>\n",
       "      <td>179.697158</td>\n",
       "      <td>15.438979</td>\n",
       "      <td>8.070000</td>\n",
       "      <td>1.501068</td>\n",
       "      <td>1498.466243</td>\n",
       "      <td>-500.483984</td>\n",
       "      <td>1497.986986</td>\n",
       "      <td>-519.200340</td>\n",
       "      <td>1496.569047</td>\n",
       "      <td>...</td>\n",
       "      <td>19.958760</td>\n",
       "      <td>-499.958750</td>\n",
       "      <td>15.026853</td>\n",
       "      <td>-499.723143</td>\n",
       "      <td>11.011607</td>\n",
       "      <td>-499.985046</td>\n",
       "      <td>9.009783</td>\n",
       "      <td>-499.937902</td>\n",
       "      <td>9.012660</td>\n",
       "      <td>-500.154284</td>\n",
       "    </tr>\n",
       "    <tr>\n",
       "      <th>5289</th>\n",
       "      <td>2017-12-31 23:59:59</td>\n",
       "      <td>181.556856</td>\n",
       "      <td>14.995850</td>\n",
       "      <td>8.070000</td>\n",
       "      <td>1.623454</td>\n",
       "      <td>1498.096303</td>\n",
       "      <td>-499.796922</td>\n",
       "      <td>1501.743791</td>\n",
       "      <td>-505.146931</td>\n",
       "      <td>1499.535978</td>\n",
       "      <td>...</td>\n",
       "      <td>20.034715</td>\n",
       "      <td>-500.728588</td>\n",
       "      <td>14.914199</td>\n",
       "      <td>-499.948518</td>\n",
       "      <td>10.986607</td>\n",
       "      <td>-500.658027</td>\n",
       "      <td>8.989497</td>\n",
       "      <td>-500.337588</td>\n",
       "      <td>8.988632</td>\n",
       "      <td>-500.764937</td>\n",
       "    </tr>\n",
       "  </tbody>\n",
       "</table>\n",
       "<p>5290 rows × 53 columns</p>\n",
       "</div>"
      ],
      "text/plain": [
       "                    date  primary_cleaner.input.sulfate  \\\n",
       "0    2016-09-01 00:59:59                     210.800909   \n",
       "1    2016-09-01 01:59:59                     215.392455   \n",
       "2    2016-09-01 02:59:59                     215.259946   \n",
       "3    2016-09-01 03:59:59                     215.336236   \n",
       "4    2016-09-01 04:59:59                     199.099327   \n",
       "...                  ...                            ...   \n",
       "5285 2017-12-31 19:59:59                     173.957757   \n",
       "5286 2017-12-31 20:59:59                     172.910270   \n",
       "5287 2017-12-31 21:59:59                     171.135718   \n",
       "5288 2017-12-31 22:59:59                     179.697158   \n",
       "5289 2017-12-31 23:59:59                     181.556856   \n",
       "\n",
       "      primary_cleaner.input.depressant  primary_cleaner.input.feed_size  \\\n",
       "0                            14.993118                         8.080000   \n",
       "1                            14.987471                         8.080000   \n",
       "2                            12.884934                         7.786667   \n",
       "3                            12.006805                         7.640000   \n",
       "4                            10.682530                         7.530000   \n",
       "...                                ...                              ...   \n",
       "5285                         15.963399                         8.070000   \n",
       "5286                         16.002605                         8.070000   \n",
       "5287                         15.993669                         8.070000   \n",
       "5288                         15.438979                         8.070000   \n",
       "5289                         14.995850                         8.070000   \n",
       "\n",
       "      primary_cleaner.input.xanthate  primary_cleaner.state.floatbank8_a_air  \\\n",
       "0                           1.005021                             1398.981301   \n",
       "1                           0.990469                             1398.777912   \n",
       "2                           0.996043                             1398.493666   \n",
       "3                           0.863514                             1399.618111   \n",
       "4                           0.805575                             1401.268123   \n",
       "...                              ...                                     ...   \n",
       "5285                        0.896701                             1401.930554   \n",
       "5286                        0.896519                             1447.075722   \n",
       "5287                        1.165996                             1498.836182   \n",
       "5288                        1.501068                             1498.466243   \n",
       "5289                        1.623454                             1498.096303   \n",
       "\n",
       "      primary_cleaner.state.floatbank8_a_level  \\\n",
       "0                                  -500.225577   \n",
       "1                                  -500.057435   \n",
       "2                                  -500.868360   \n",
       "3                                  -498.863574   \n",
       "4                                  -500.808305   \n",
       "...                                        ...   \n",
       "5285                               -499.728848   \n",
       "5286                               -494.716823   \n",
       "5287                               -501.770403   \n",
       "5288                               -500.483984   \n",
       "5289                               -499.796922   \n",
       "\n",
       "      primary_cleaner.state.floatbank8_b_air  \\\n",
       "0                                1399.144926   \n",
       "1                                1398.055362   \n",
       "2                                1398.860436   \n",
       "3                                1397.440120   \n",
       "4                                1398.128818   \n",
       "...                                      ...   \n",
       "5285                             1401.441445   \n",
       "5286                             1448.851892   \n",
       "5287                             1499.572353   \n",
       "5288                             1497.986986   \n",
       "5289                             1501.743791   \n",
       "\n",
       "      primary_cleaner.state.floatbank8_b_level  \\\n",
       "0                                  -499.919735   \n",
       "1                                  -499.778182   \n",
       "2                                  -499.764529   \n",
       "3                                  -499.211024   \n",
       "4                                  -499.504543   \n",
       "...                                        ...   \n",
       "5285                               -499.193423   \n",
       "5286                               -465.963026   \n",
       "5287                               -495.516347   \n",
       "5288                               -519.200340   \n",
       "5289                               -505.146931   \n",
       "\n",
       "      primary_cleaner.state.floatbank8_c_air  ...  \\\n",
       "0                                1400.102998  ...   \n",
       "1                                1396.151033  ...   \n",
       "2                                1398.075709  ...   \n",
       "3                                1400.129303  ...   \n",
       "4                                1402.172226  ...   \n",
       "...                                      ...  ...   \n",
       "5285                             1399.810313  ...   \n",
       "5286                             1443.890424  ...   \n",
       "5287                             1502.749213  ...   \n",
       "5288                             1496.569047  ...   \n",
       "5289                             1499.535978  ...   \n",
       "\n",
       "      secondary_cleaner.state.floatbank4_a_air  \\\n",
       "0                                    12.023554   \n",
       "1                                    12.058140   \n",
       "2                                    11.962366   \n",
       "3                                    12.033091   \n",
       "4                                    12.025367   \n",
       "...                                        ...   \n",
       "5285                                 13.995957   \n",
       "5286                                 16.749781   \n",
       "5287                                 19.994130   \n",
       "5288                                 19.958760   \n",
       "5289                                 20.034715   \n",
       "\n",
       "      secondary_cleaner.state.floatbank4_a_level  \\\n",
       "0                                    -497.795834   \n",
       "1                                    -498.695773   \n",
       "2                                    -498.767484   \n",
       "3                                    -498.350935   \n",
       "4                                    -500.786497   \n",
       "...                                          ...   \n",
       "5285                                 -500.157454   \n",
       "5286                                 -496.031539   \n",
       "5287                                 -499.791312   \n",
       "5288                                 -499.958750   \n",
       "5289                                 -500.728588   \n",
       "\n",
       "      secondary_cleaner.state.floatbank4_b_air  \\\n",
       "0                                     8.016656   \n",
       "1                                     8.130979   \n",
       "2                                     8.096893   \n",
       "3                                     8.074946   \n",
       "4                                     8.054678   \n",
       "...                                        ...   \n",
       "5285                                 12.069155   \n",
       "5286                                 13.365371   \n",
       "5287                                 15.101425   \n",
       "5288                                 15.026853   \n",
       "5289                                 14.914199   \n",
       "\n",
       "      secondary_cleaner.state.floatbank4_b_level  \\\n",
       "0                                    -501.289139   \n",
       "1                                    -499.634209   \n",
       "2                                    -500.827423   \n",
       "3                                    -499.474407   \n",
       "4                                    -500.397500   \n",
       "...                                          ...   \n",
       "5285                                 -499.673279   \n",
       "5286                                 -499.122723   \n",
       "5287                                 -499.936252   \n",
       "5288                                 -499.723143   \n",
       "5289                                 -499.948518   \n",
       "\n",
       "      secondary_cleaner.state.floatbank5_a_air  \\\n",
       "0                                     7.946562   \n",
       "1                                     7.958270   \n",
       "2                                     8.071056   \n",
       "3                                     7.897085   \n",
       "4                                     8.107890   \n",
       "...                                        ...   \n",
       "5285                                  7.977259   \n",
       "5286                                  9.288553   \n",
       "5287                                 10.989181   \n",
       "5288                                 11.011607   \n",
       "5289                                 10.986607   \n",
       "\n",
       "      secondary_cleaner.state.floatbank5_a_level  \\\n",
       "0                                    -432.317850   \n",
       "1                                    -525.839648   \n",
       "2                                    -500.801673   \n",
       "3                                    -500.868509   \n",
       "4                                    -509.526725   \n",
       "...                                          ...   \n",
       "5285                                 -499.516126   \n",
       "5286                                 -496.892967   \n",
       "5287                                 -498.347898   \n",
       "5288                                 -499.985046   \n",
       "5289                                 -500.658027   \n",
       "\n",
       "      secondary_cleaner.state.floatbank5_b_air  \\\n",
       "0                                     4.872511   \n",
       "1                                     4.878850   \n",
       "2                                     4.905125   \n",
       "3                                     4.931400   \n",
       "4                                     4.957674   \n",
       "...                                        ...   \n",
       "5285                                  5.933319   \n",
       "5286                                  7.372897   \n",
       "5287                                  9.020944   \n",
       "5288                                  9.009783   \n",
       "5289                                  8.989497   \n",
       "\n",
       "      secondary_cleaner.state.floatbank5_b_level  \\\n",
       "0                                    -500.037437   \n",
       "1                                    -500.162375   \n",
       "2                                    -499.828510   \n",
       "3                                    -499.963623   \n",
       "4                                    -500.360026   \n",
       "...                                          ...   \n",
       "5285                                 -499.965973   \n",
       "5286                                 -499.942956   \n",
       "5287                                 -500.040448   \n",
       "5288                                 -499.937902   \n",
       "5289                                 -500.337588   \n",
       "\n",
       "      secondary_cleaner.state.floatbank6_a_air  \\\n",
       "0                                    26.705889   \n",
       "1                                    25.019940   \n",
       "2                                    24.994862   \n",
       "3                                    24.948919   \n",
       "4                                    25.003331   \n",
       "...                                        ...   \n",
       "5285                                  8.987171   \n",
       "5286                                  8.986832   \n",
       "5287                                  8.982038   \n",
       "5288                                  9.012660   \n",
       "5289                                  8.988632   \n",
       "\n",
       "      secondary_cleaner.state.floatbank6_a_level  \n",
       "0                                    -499.709414  \n",
       "1                                    -499.819438  \n",
       "2                                    -500.622559  \n",
       "3                                    -498.709987  \n",
       "4                                    -500.856333  \n",
       "...                                          ...  \n",
       "5285                                 -499.755909  \n",
       "5286                                 -499.903761  \n",
       "5287                                 -497.789882  \n",
       "5288                                 -500.154284  \n",
       "5289                                 -500.764937  \n",
       "\n",
       "[5290 rows x 53 columns]"
      ]
     },
     "metadata": {},
     "output_type": "display_data"
    }
   ],
   "source": [
    "# Выведем первые строчки каждого из наших датафреймов, чтобы ознакомиться с данными еще лучше\n",
    "display(df_full)\n",
    "display(df_train)\n",
    "display(df_test)"
   ]
  },
  {
   "cell_type": "code",
   "execution_count": 7,
   "metadata": {
    "scrolled": true
   },
   "outputs": [
    {
     "data": {
      "text/html": [
       "<div>\n",
       "<style scoped>\n",
       "    .dataframe tbody tr th:only-of-type {\n",
       "        vertical-align: middle;\n",
       "    }\n",
       "\n",
       "    .dataframe tbody tr th {\n",
       "        vertical-align: top;\n",
       "    }\n",
       "\n",
       "    .dataframe thead th {\n",
       "        text-align: right;\n",
       "    }\n",
       "</style>\n",
       "<table border=\"1\" class=\"dataframe\">\n",
       "  <thead>\n",
       "    <tr style=\"text-align: right;\">\n",
       "      <th></th>\n",
       "      <th>final.output.concentrate_ag</th>\n",
       "      <th>final.output.concentrate_pb</th>\n",
       "      <th>final.output.concentrate_sol</th>\n",
       "      <th>final.output.concentrate_au</th>\n",
       "      <th>final.output.recovery</th>\n",
       "      <th>final.output.tail_ag</th>\n",
       "      <th>final.output.tail_pb</th>\n",
       "      <th>final.output.tail_sol</th>\n",
       "      <th>final.output.tail_au</th>\n",
       "      <th>primary_cleaner.input.sulfate</th>\n",
       "      <th>...</th>\n",
       "      <th>secondary_cleaner.state.floatbank4_a_air</th>\n",
       "      <th>secondary_cleaner.state.floatbank4_a_level</th>\n",
       "      <th>secondary_cleaner.state.floatbank4_b_air</th>\n",
       "      <th>secondary_cleaner.state.floatbank4_b_level</th>\n",
       "      <th>secondary_cleaner.state.floatbank5_a_air</th>\n",
       "      <th>secondary_cleaner.state.floatbank5_a_level</th>\n",
       "      <th>secondary_cleaner.state.floatbank5_b_air</th>\n",
       "      <th>secondary_cleaner.state.floatbank5_b_level</th>\n",
       "      <th>secondary_cleaner.state.floatbank6_a_air</th>\n",
       "      <th>secondary_cleaner.state.floatbank6_a_level</th>\n",
       "    </tr>\n",
       "  </thead>\n",
       "  <tbody>\n",
       "    <tr>\n",
       "      <th>final.output.concentrate_ag</th>\n",
       "      <td>1.000000</td>\n",
       "      <td>0.063570</td>\n",
       "      <td>0.380142</td>\n",
       "      <td>-0.038373</td>\n",
       "      <td>0.185952</td>\n",
       "      <td>0.334596</td>\n",
       "      <td>-0.051855</td>\n",
       "      <td>0.028890</td>\n",
       "      <td>0.206569</td>\n",
       "      <td>0.071158</td>\n",
       "      <td>...</td>\n",
       "      <td>0.027343</td>\n",
       "      <td>0.104118</td>\n",
       "      <td>0.029887</td>\n",
       "      <td>-0.063246</td>\n",
       "      <td>-0.004246</td>\n",
       "      <td>0.184332</td>\n",
       "      <td>0.003693</td>\n",
       "      <td>0.156471</td>\n",
       "      <td>0.162591</td>\n",
       "      <td>0.059581</td>\n",
       "    </tr>\n",
       "    <tr>\n",
       "      <th>final.output.concentrate_pb</th>\n",
       "      <td>0.063570</td>\n",
       "      <td>1.000000</td>\n",
       "      <td>-0.048586</td>\n",
       "      <td>0.374400</td>\n",
       "      <td>0.151987</td>\n",
       "      <td>-0.126886</td>\n",
       "      <td>0.221372</td>\n",
       "      <td>0.094385</td>\n",
       "      <td>-0.047446</td>\n",
       "      <td>0.079160</td>\n",
       "      <td>...</td>\n",
       "      <td>0.058380</td>\n",
       "      <td>0.028962</td>\n",
       "      <td>0.115404</td>\n",
       "      <td>0.093859</td>\n",
       "      <td>0.125920</td>\n",
       "      <td>-0.024668</td>\n",
       "      <td>0.149266</td>\n",
       "      <td>-0.060038</td>\n",
       "      <td>-0.042372</td>\n",
       "      <td>0.067458</td>\n",
       "    </tr>\n",
       "    <tr>\n",
       "      <th>final.output.concentrate_sol</th>\n",
       "      <td>0.380142</td>\n",
       "      <td>-0.048586</td>\n",
       "      <td>1.000000</td>\n",
       "      <td>0.261225</td>\n",
       "      <td>0.265993</td>\n",
       "      <td>0.286305</td>\n",
       "      <td>0.221714</td>\n",
       "      <td>-0.023865</td>\n",
       "      <td>0.267781</td>\n",
       "      <td>0.316233</td>\n",
       "      <td>...</td>\n",
       "      <td>-0.049341</td>\n",
       "      <td>0.147304</td>\n",
       "      <td>0.020544</td>\n",
       "      <td>0.002077</td>\n",
       "      <td>-0.002361</td>\n",
       "      <td>0.163992</td>\n",
       "      <td>-0.009510</td>\n",
       "      <td>0.152343</td>\n",
       "      <td>0.245158</td>\n",
       "      <td>-0.216734</td>\n",
       "    </tr>\n",
       "    <tr>\n",
       "      <th>final.output.concentrate_au</th>\n",
       "      <td>-0.038373</td>\n",
       "      <td>0.374400</td>\n",
       "      <td>0.261225</td>\n",
       "      <td>1.000000</td>\n",
       "      <td>0.288568</td>\n",
       "      <td>0.080381</td>\n",
       "      <td>0.081291</td>\n",
       "      <td>0.134978</td>\n",
       "      <td>-0.031696</td>\n",
       "      <td>0.102781</td>\n",
       "      <td>...</td>\n",
       "      <td>0.008308</td>\n",
       "      <td>-0.019481</td>\n",
       "      <td>-0.015284</td>\n",
       "      <td>-0.018636</td>\n",
       "      <td>-0.000971</td>\n",
       "      <td>-0.080786</td>\n",
       "      <td>-0.016961</td>\n",
       "      <td>-0.084962</td>\n",
       "      <td>-0.082184</td>\n",
       "      <td>-0.019523</td>\n",
       "    </tr>\n",
       "    <tr>\n",
       "      <th>final.output.recovery</th>\n",
       "      <td>0.185952</td>\n",
       "      <td>0.151987</td>\n",
       "      <td>0.265993</td>\n",
       "      <td>0.288568</td>\n",
       "      <td>1.000000</td>\n",
       "      <td>0.125986</td>\n",
       "      <td>-0.143094</td>\n",
       "      <td>-0.050280</td>\n",
       "      <td>-0.409200</td>\n",
       "      <td>0.366954</td>\n",
       "      <td>...</td>\n",
       "      <td>0.167059</td>\n",
       "      <td>0.031317</td>\n",
       "      <td>0.158557</td>\n",
       "      <td>-0.049973</td>\n",
       "      <td>0.067014</td>\n",
       "      <td>0.011871</td>\n",
       "      <td>0.052017</td>\n",
       "      <td>0.016480</td>\n",
       "      <td>-0.025192</td>\n",
       "      <td>-0.005305</td>\n",
       "    </tr>\n",
       "    <tr>\n",
       "      <th>...</th>\n",
       "      <td>...</td>\n",
       "      <td>...</td>\n",
       "      <td>...</td>\n",
       "      <td>...</td>\n",
       "      <td>...</td>\n",
       "      <td>...</td>\n",
       "      <td>...</td>\n",
       "      <td>...</td>\n",
       "      <td>...</td>\n",
       "      <td>...</td>\n",
       "      <td>...</td>\n",
       "      <td>...</td>\n",
       "      <td>...</td>\n",
       "      <td>...</td>\n",
       "      <td>...</td>\n",
       "      <td>...</td>\n",
       "      <td>...</td>\n",
       "      <td>...</td>\n",
       "      <td>...</td>\n",
       "      <td>...</td>\n",
       "      <td>...</td>\n",
       "    </tr>\n",
       "    <tr>\n",
       "      <th>secondary_cleaner.state.floatbank5_a_level</th>\n",
       "      <td>0.184332</td>\n",
       "      <td>-0.024668</td>\n",
       "      <td>0.163992</td>\n",
       "      <td>-0.080786</td>\n",
       "      <td>0.011871</td>\n",
       "      <td>-0.021662</td>\n",
       "      <td>0.015060</td>\n",
       "      <td>-0.073670</td>\n",
       "      <td>0.035272</td>\n",
       "      <td>-0.098079</td>\n",
       "      <td>...</td>\n",
       "      <td>0.175689</td>\n",
       "      <td>0.737533</td>\n",
       "      <td>0.069865</td>\n",
       "      <td>0.417890</td>\n",
       "      <td>0.154722</td>\n",
       "      <td>1.000000</td>\n",
       "      <td>0.108107</td>\n",
       "      <td>0.818406</td>\n",
       "      <td>0.464142</td>\n",
       "      <td>0.344494</td>\n",
       "    </tr>\n",
       "    <tr>\n",
       "      <th>secondary_cleaner.state.floatbank5_b_air</th>\n",
       "      <td>0.003693</td>\n",
       "      <td>0.149266</td>\n",
       "      <td>-0.009510</td>\n",
       "      <td>-0.016961</td>\n",
       "      <td>0.052017</td>\n",
       "      <td>-0.013677</td>\n",
       "      <td>0.132744</td>\n",
       "      <td>-0.135330</td>\n",
       "      <td>-0.160522</td>\n",
       "      <td>-0.088879</td>\n",
       "      <td>...</td>\n",
       "      <td>0.734503</td>\n",
       "      <td>0.289059</td>\n",
       "      <td>0.855785</td>\n",
       "      <td>0.099747</td>\n",
       "      <td>0.895832</td>\n",
       "      <td>0.108107</td>\n",
       "      <td>1.000000</td>\n",
       "      <td>0.090751</td>\n",
       "      <td>0.491707</td>\n",
       "      <td>-0.011976</td>\n",
       "    </tr>\n",
       "    <tr>\n",
       "      <th>secondary_cleaner.state.floatbank5_b_level</th>\n",
       "      <td>0.156471</td>\n",
       "      <td>-0.060038</td>\n",
       "      <td>0.152343</td>\n",
       "      <td>-0.084962</td>\n",
       "      <td>0.016480</td>\n",
       "      <td>-0.003762</td>\n",
       "      <td>0.041558</td>\n",
       "      <td>-0.087635</td>\n",
       "      <td>0.063404</td>\n",
       "      <td>-0.054203</td>\n",
       "      <td>...</td>\n",
       "      <td>0.147999</td>\n",
       "      <td>0.630466</td>\n",
       "      <td>0.076251</td>\n",
       "      <td>0.364582</td>\n",
       "      <td>0.135991</td>\n",
       "      <td>0.818406</td>\n",
       "      <td>0.090751</td>\n",
       "      <td>1.000000</td>\n",
       "      <td>0.411510</td>\n",
       "      <td>0.327861</td>\n",
       "    </tr>\n",
       "    <tr>\n",
       "      <th>secondary_cleaner.state.floatbank6_a_air</th>\n",
       "      <td>0.162591</td>\n",
       "      <td>-0.042372</td>\n",
       "      <td>0.245158</td>\n",
       "      <td>-0.082184</td>\n",
       "      <td>-0.025192</td>\n",
       "      <td>-0.055311</td>\n",
       "      <td>0.007496</td>\n",
       "      <td>-0.070706</td>\n",
       "      <td>0.038797</td>\n",
       "      <td>-0.175804</td>\n",
       "      <td>...</td>\n",
       "      <td>0.229330</td>\n",
       "      <td>0.503967</td>\n",
       "      <td>0.311676</td>\n",
       "      <td>0.087389</td>\n",
       "      <td>0.473300</td>\n",
       "      <td>0.464142</td>\n",
       "      <td>0.491707</td>\n",
       "      <td>0.411510</td>\n",
       "      <td>1.000000</td>\n",
       "      <td>0.106270</td>\n",
       "    </tr>\n",
       "    <tr>\n",
       "      <th>secondary_cleaner.state.floatbank6_a_level</th>\n",
       "      <td>0.059581</td>\n",
       "      <td>0.067458</td>\n",
       "      <td>-0.216734</td>\n",
       "      <td>-0.019523</td>\n",
       "      <td>-0.005305</td>\n",
       "      <td>-0.088461</td>\n",
       "      <td>-0.117950</td>\n",
       "      <td>0.021293</td>\n",
       "      <td>-0.065571</td>\n",
       "      <td>-0.055692</td>\n",
       "      <td>...</td>\n",
       "      <td>0.007269</td>\n",
       "      <td>0.186186</td>\n",
       "      <td>-0.064545</td>\n",
       "      <td>0.191545</td>\n",
       "      <td>-0.008790</td>\n",
       "      <td>0.344494</td>\n",
       "      <td>-0.011976</td>\n",
       "      <td>0.327861</td>\n",
       "      <td>0.106270</td>\n",
       "      <td>1.000000</td>\n",
       "    </tr>\n",
       "  </tbody>\n",
       "</table>\n",
       "<p>86 rows × 86 columns</p>\n",
       "</div>"
      ],
      "text/plain": [
       "                                            final.output.concentrate_ag  \\\n",
       "final.output.concentrate_ag                                    1.000000   \n",
       "final.output.concentrate_pb                                    0.063570   \n",
       "final.output.concentrate_sol                                   0.380142   \n",
       "final.output.concentrate_au                                   -0.038373   \n",
       "final.output.recovery                                          0.185952   \n",
       "...                                                                 ...   \n",
       "secondary_cleaner.state.floatbank5_a_level                     0.184332   \n",
       "secondary_cleaner.state.floatbank5_b_air                       0.003693   \n",
       "secondary_cleaner.state.floatbank5_b_level                     0.156471   \n",
       "secondary_cleaner.state.floatbank6_a_air                       0.162591   \n",
       "secondary_cleaner.state.floatbank6_a_level                     0.059581   \n",
       "\n",
       "                                            final.output.concentrate_pb  \\\n",
       "final.output.concentrate_ag                                    0.063570   \n",
       "final.output.concentrate_pb                                    1.000000   \n",
       "final.output.concentrate_sol                                  -0.048586   \n",
       "final.output.concentrate_au                                    0.374400   \n",
       "final.output.recovery                                          0.151987   \n",
       "...                                                                 ...   \n",
       "secondary_cleaner.state.floatbank5_a_level                    -0.024668   \n",
       "secondary_cleaner.state.floatbank5_b_air                       0.149266   \n",
       "secondary_cleaner.state.floatbank5_b_level                    -0.060038   \n",
       "secondary_cleaner.state.floatbank6_a_air                      -0.042372   \n",
       "secondary_cleaner.state.floatbank6_a_level                     0.067458   \n",
       "\n",
       "                                            final.output.concentrate_sol  \\\n",
       "final.output.concentrate_ag                                     0.380142   \n",
       "final.output.concentrate_pb                                    -0.048586   \n",
       "final.output.concentrate_sol                                    1.000000   \n",
       "final.output.concentrate_au                                     0.261225   \n",
       "final.output.recovery                                           0.265993   \n",
       "...                                                                  ...   \n",
       "secondary_cleaner.state.floatbank5_a_level                      0.163992   \n",
       "secondary_cleaner.state.floatbank5_b_air                       -0.009510   \n",
       "secondary_cleaner.state.floatbank5_b_level                      0.152343   \n",
       "secondary_cleaner.state.floatbank6_a_air                        0.245158   \n",
       "secondary_cleaner.state.floatbank6_a_level                     -0.216734   \n",
       "\n",
       "                                            final.output.concentrate_au  \\\n",
       "final.output.concentrate_ag                                   -0.038373   \n",
       "final.output.concentrate_pb                                    0.374400   \n",
       "final.output.concentrate_sol                                   0.261225   \n",
       "final.output.concentrate_au                                    1.000000   \n",
       "final.output.recovery                                          0.288568   \n",
       "...                                                                 ...   \n",
       "secondary_cleaner.state.floatbank5_a_level                    -0.080786   \n",
       "secondary_cleaner.state.floatbank5_b_air                      -0.016961   \n",
       "secondary_cleaner.state.floatbank5_b_level                    -0.084962   \n",
       "secondary_cleaner.state.floatbank6_a_air                      -0.082184   \n",
       "secondary_cleaner.state.floatbank6_a_level                    -0.019523   \n",
       "\n",
       "                                            final.output.recovery  \\\n",
       "final.output.concentrate_ag                              0.185952   \n",
       "final.output.concentrate_pb                              0.151987   \n",
       "final.output.concentrate_sol                             0.265993   \n",
       "final.output.concentrate_au                              0.288568   \n",
       "final.output.recovery                                    1.000000   \n",
       "...                                                           ...   \n",
       "secondary_cleaner.state.floatbank5_a_level               0.011871   \n",
       "secondary_cleaner.state.floatbank5_b_air                 0.052017   \n",
       "secondary_cleaner.state.floatbank5_b_level               0.016480   \n",
       "secondary_cleaner.state.floatbank6_a_air                -0.025192   \n",
       "secondary_cleaner.state.floatbank6_a_level              -0.005305   \n",
       "\n",
       "                                            final.output.tail_ag  \\\n",
       "final.output.concentrate_ag                             0.334596   \n",
       "final.output.concentrate_pb                            -0.126886   \n",
       "final.output.concentrate_sol                            0.286305   \n",
       "final.output.concentrate_au                             0.080381   \n",
       "final.output.recovery                                   0.125986   \n",
       "...                                                          ...   \n",
       "secondary_cleaner.state.floatbank5_a_level             -0.021662   \n",
       "secondary_cleaner.state.floatbank5_b_air               -0.013677   \n",
       "secondary_cleaner.state.floatbank5_b_level             -0.003762   \n",
       "secondary_cleaner.state.floatbank6_a_air               -0.055311   \n",
       "secondary_cleaner.state.floatbank6_a_level             -0.088461   \n",
       "\n",
       "                                            final.output.tail_pb  \\\n",
       "final.output.concentrate_ag                            -0.051855   \n",
       "final.output.concentrate_pb                             0.221372   \n",
       "final.output.concentrate_sol                            0.221714   \n",
       "final.output.concentrate_au                             0.081291   \n",
       "final.output.recovery                                  -0.143094   \n",
       "...                                                          ...   \n",
       "secondary_cleaner.state.floatbank5_a_level              0.015060   \n",
       "secondary_cleaner.state.floatbank5_b_air                0.132744   \n",
       "secondary_cleaner.state.floatbank5_b_level              0.041558   \n",
       "secondary_cleaner.state.floatbank6_a_air                0.007496   \n",
       "secondary_cleaner.state.floatbank6_a_level             -0.117950   \n",
       "\n",
       "                                            final.output.tail_sol  \\\n",
       "final.output.concentrate_ag                              0.028890   \n",
       "final.output.concentrate_pb                              0.094385   \n",
       "final.output.concentrate_sol                            -0.023865   \n",
       "final.output.concentrate_au                              0.134978   \n",
       "final.output.recovery                                   -0.050280   \n",
       "...                                                           ...   \n",
       "secondary_cleaner.state.floatbank5_a_level              -0.073670   \n",
       "secondary_cleaner.state.floatbank5_b_air                -0.135330   \n",
       "secondary_cleaner.state.floatbank5_b_level              -0.087635   \n",
       "secondary_cleaner.state.floatbank6_a_air                -0.070706   \n",
       "secondary_cleaner.state.floatbank6_a_level               0.021293   \n",
       "\n",
       "                                            final.output.tail_au  \\\n",
       "final.output.concentrate_ag                             0.206569   \n",
       "final.output.concentrate_pb                            -0.047446   \n",
       "final.output.concentrate_sol                            0.267781   \n",
       "final.output.concentrate_au                            -0.031696   \n",
       "final.output.recovery                                  -0.409200   \n",
       "...                                                          ...   \n",
       "secondary_cleaner.state.floatbank5_a_level              0.035272   \n",
       "secondary_cleaner.state.floatbank5_b_air               -0.160522   \n",
       "secondary_cleaner.state.floatbank5_b_level              0.063404   \n",
       "secondary_cleaner.state.floatbank6_a_air                0.038797   \n",
       "secondary_cleaner.state.floatbank6_a_level             -0.065571   \n",
       "\n",
       "                                            primary_cleaner.input.sulfate  \\\n",
       "final.output.concentrate_ag                                      0.071158   \n",
       "final.output.concentrate_pb                                      0.079160   \n",
       "final.output.concentrate_sol                                     0.316233   \n",
       "final.output.concentrate_au                                      0.102781   \n",
       "final.output.recovery                                            0.366954   \n",
       "...                                                                   ...   \n",
       "secondary_cleaner.state.floatbank5_a_level                      -0.098079   \n",
       "secondary_cleaner.state.floatbank5_b_air                        -0.088879   \n",
       "secondary_cleaner.state.floatbank5_b_level                      -0.054203   \n",
       "secondary_cleaner.state.floatbank6_a_air                        -0.175804   \n",
       "secondary_cleaner.state.floatbank6_a_level                      -0.055692   \n",
       "\n",
       "                                            ...  \\\n",
       "final.output.concentrate_ag                 ...   \n",
       "final.output.concentrate_pb                 ...   \n",
       "final.output.concentrate_sol                ...   \n",
       "final.output.concentrate_au                 ...   \n",
       "final.output.recovery                       ...   \n",
       "...                                         ...   \n",
       "secondary_cleaner.state.floatbank5_a_level  ...   \n",
       "secondary_cleaner.state.floatbank5_b_air    ...   \n",
       "secondary_cleaner.state.floatbank5_b_level  ...   \n",
       "secondary_cleaner.state.floatbank6_a_air    ...   \n",
       "secondary_cleaner.state.floatbank6_a_level  ...   \n",
       "\n",
       "                                            secondary_cleaner.state.floatbank4_a_air  \\\n",
       "final.output.concentrate_ag                                                 0.027343   \n",
       "final.output.concentrate_pb                                                 0.058380   \n",
       "final.output.concentrate_sol                                               -0.049341   \n",
       "final.output.concentrate_au                                                 0.008308   \n",
       "final.output.recovery                                                       0.167059   \n",
       "...                                                                              ...   \n",
       "secondary_cleaner.state.floatbank5_a_level                                  0.175689   \n",
       "secondary_cleaner.state.floatbank5_b_air                                    0.734503   \n",
       "secondary_cleaner.state.floatbank5_b_level                                  0.147999   \n",
       "secondary_cleaner.state.floatbank6_a_air                                    0.229330   \n",
       "secondary_cleaner.state.floatbank6_a_level                                  0.007269   \n",
       "\n",
       "                                            secondary_cleaner.state.floatbank4_a_level  \\\n",
       "final.output.concentrate_ag                                                   0.104118   \n",
       "final.output.concentrate_pb                                                   0.028962   \n",
       "final.output.concentrate_sol                                                  0.147304   \n",
       "final.output.concentrate_au                                                  -0.019481   \n",
       "final.output.recovery                                                         0.031317   \n",
       "...                                                                                ...   \n",
       "secondary_cleaner.state.floatbank5_a_level                                    0.737533   \n",
       "secondary_cleaner.state.floatbank5_b_air                                      0.289059   \n",
       "secondary_cleaner.state.floatbank5_b_level                                    0.630466   \n",
       "secondary_cleaner.state.floatbank6_a_air                                      0.503967   \n",
       "secondary_cleaner.state.floatbank6_a_level                                    0.186186   \n",
       "\n",
       "                                            secondary_cleaner.state.floatbank4_b_air  \\\n",
       "final.output.concentrate_ag                                                 0.029887   \n",
       "final.output.concentrate_pb                                                 0.115404   \n",
       "final.output.concentrate_sol                                                0.020544   \n",
       "final.output.concentrate_au                                                -0.015284   \n",
       "final.output.recovery                                                       0.158557   \n",
       "...                                                                              ...   \n",
       "secondary_cleaner.state.floatbank5_a_level                                  0.069865   \n",
       "secondary_cleaner.state.floatbank5_b_air                                    0.855785   \n",
       "secondary_cleaner.state.floatbank5_b_level                                  0.076251   \n",
       "secondary_cleaner.state.floatbank6_a_air                                    0.311676   \n",
       "secondary_cleaner.state.floatbank6_a_level                                 -0.064545   \n",
       "\n",
       "                                            secondary_cleaner.state.floatbank4_b_level  \\\n",
       "final.output.concentrate_ag                                                  -0.063246   \n",
       "final.output.concentrate_pb                                                   0.093859   \n",
       "final.output.concentrate_sol                                                  0.002077   \n",
       "final.output.concentrate_au                                                  -0.018636   \n",
       "final.output.recovery                                                        -0.049973   \n",
       "...                                                                                ...   \n",
       "secondary_cleaner.state.floatbank5_a_level                                    0.417890   \n",
       "secondary_cleaner.state.floatbank5_b_air                                      0.099747   \n",
       "secondary_cleaner.state.floatbank5_b_level                                    0.364582   \n",
       "secondary_cleaner.state.floatbank6_a_air                                      0.087389   \n",
       "secondary_cleaner.state.floatbank6_a_level                                    0.191545   \n",
       "\n",
       "                                            secondary_cleaner.state.floatbank5_a_air  \\\n",
       "final.output.concentrate_ag                                                -0.004246   \n",
       "final.output.concentrate_pb                                                 0.125920   \n",
       "final.output.concentrate_sol                                               -0.002361   \n",
       "final.output.concentrate_au                                                -0.000971   \n",
       "final.output.recovery                                                       0.067014   \n",
       "...                                                                              ...   \n",
       "secondary_cleaner.state.floatbank5_a_level                                  0.154722   \n",
       "secondary_cleaner.state.floatbank5_b_air                                    0.895832   \n",
       "secondary_cleaner.state.floatbank5_b_level                                  0.135991   \n",
       "secondary_cleaner.state.floatbank6_a_air                                    0.473300   \n",
       "secondary_cleaner.state.floatbank6_a_level                                 -0.008790   \n",
       "\n",
       "                                            secondary_cleaner.state.floatbank5_a_level  \\\n",
       "final.output.concentrate_ag                                                   0.184332   \n",
       "final.output.concentrate_pb                                                  -0.024668   \n",
       "final.output.concentrate_sol                                                  0.163992   \n",
       "final.output.concentrate_au                                                  -0.080786   \n",
       "final.output.recovery                                                         0.011871   \n",
       "...                                                                                ...   \n",
       "secondary_cleaner.state.floatbank5_a_level                                    1.000000   \n",
       "secondary_cleaner.state.floatbank5_b_air                                      0.108107   \n",
       "secondary_cleaner.state.floatbank5_b_level                                    0.818406   \n",
       "secondary_cleaner.state.floatbank6_a_air                                      0.464142   \n",
       "secondary_cleaner.state.floatbank6_a_level                                    0.344494   \n",
       "\n",
       "                                            secondary_cleaner.state.floatbank5_b_air  \\\n",
       "final.output.concentrate_ag                                                 0.003693   \n",
       "final.output.concentrate_pb                                                 0.149266   \n",
       "final.output.concentrate_sol                                               -0.009510   \n",
       "final.output.concentrate_au                                                -0.016961   \n",
       "final.output.recovery                                                       0.052017   \n",
       "...                                                                              ...   \n",
       "secondary_cleaner.state.floatbank5_a_level                                  0.108107   \n",
       "secondary_cleaner.state.floatbank5_b_air                                    1.000000   \n",
       "secondary_cleaner.state.floatbank5_b_level                                  0.090751   \n",
       "secondary_cleaner.state.floatbank6_a_air                                    0.491707   \n",
       "secondary_cleaner.state.floatbank6_a_level                                 -0.011976   \n",
       "\n",
       "                                            secondary_cleaner.state.floatbank5_b_level  \\\n",
       "final.output.concentrate_ag                                                   0.156471   \n",
       "final.output.concentrate_pb                                                  -0.060038   \n",
       "final.output.concentrate_sol                                                  0.152343   \n",
       "final.output.concentrate_au                                                  -0.084962   \n",
       "final.output.recovery                                                         0.016480   \n",
       "...                                                                                ...   \n",
       "secondary_cleaner.state.floatbank5_a_level                                    0.818406   \n",
       "secondary_cleaner.state.floatbank5_b_air                                      0.090751   \n",
       "secondary_cleaner.state.floatbank5_b_level                                    1.000000   \n",
       "secondary_cleaner.state.floatbank6_a_air                                      0.411510   \n",
       "secondary_cleaner.state.floatbank6_a_level                                    0.327861   \n",
       "\n",
       "                                            secondary_cleaner.state.floatbank6_a_air  \\\n",
       "final.output.concentrate_ag                                                 0.162591   \n",
       "final.output.concentrate_pb                                                -0.042372   \n",
       "final.output.concentrate_sol                                                0.245158   \n",
       "final.output.concentrate_au                                                -0.082184   \n",
       "final.output.recovery                                                      -0.025192   \n",
       "...                                                                              ...   \n",
       "secondary_cleaner.state.floatbank5_a_level                                  0.464142   \n",
       "secondary_cleaner.state.floatbank5_b_air                                    0.491707   \n",
       "secondary_cleaner.state.floatbank5_b_level                                  0.411510   \n",
       "secondary_cleaner.state.floatbank6_a_air                                    1.000000   \n",
       "secondary_cleaner.state.floatbank6_a_level                                  0.106270   \n",
       "\n",
       "                                            secondary_cleaner.state.floatbank6_a_level  \n",
       "final.output.concentrate_ag                                                   0.059581  \n",
       "final.output.concentrate_pb                                                   0.067458  \n",
       "final.output.concentrate_sol                                                 -0.216734  \n",
       "final.output.concentrate_au                                                  -0.019523  \n",
       "final.output.recovery                                                        -0.005305  \n",
       "...                                                                                ...  \n",
       "secondary_cleaner.state.floatbank5_a_level                                    0.344494  \n",
       "secondary_cleaner.state.floatbank5_b_air                                     -0.011976  \n",
       "secondary_cleaner.state.floatbank5_b_level                                    0.327861  \n",
       "secondary_cleaner.state.floatbank6_a_air                                      0.106270  \n",
       "secondary_cleaner.state.floatbank6_a_level                                    1.000000  \n",
       "\n",
       "[86 rows x 86 columns]"
      ]
     },
     "execution_count": 7,
     "metadata": {},
     "output_type": "execute_result"
    }
   ],
   "source": [
    "# Посмотрим корреляцию признаков на примере df_full.\n",
    "df_full.corr()"
   ]
  },
  {
   "cell_type": "markdown",
   "metadata": {},
   "source": [
    "Признаков очень много и коэффициент корреляции у них разный - в основном очень слабый, хотя парочку сильно коррелирующих найти можно."
   ]
  },
  {
   "cell_type": "markdown",
   "metadata": {},
   "source": [
    "### Предобработка данных"
   ]
  },
  {
   "cell_type": "code",
   "execution_count": 8,
   "metadata": {},
   "outputs": [
    {
     "data": {
      "text/html": [
       "<div>\n",
       "<style scoped>\n",
       "    .dataframe tbody tr th:only-of-type {\n",
       "        vertical-align: middle;\n",
       "    }\n",
       "\n",
       "    .dataframe tbody tr th {\n",
       "        vertical-align: top;\n",
       "    }\n",
       "\n",
       "    .dataframe thead th {\n",
       "        text-align: right;\n",
       "    }\n",
       "</style>\n",
       "<table border=\"1\" class=\"dataframe\">\n",
       "  <thead>\n",
       "    <tr style=\"text-align: right;\">\n",
       "      <th></th>\n",
       "      <th>date</th>\n",
       "      <th>final.output.concentrate_ag</th>\n",
       "      <th>final.output.concentrate_pb</th>\n",
       "      <th>final.output.concentrate_sol</th>\n",
       "      <th>final.output.concentrate_au</th>\n",
       "      <th>final.output.recovery</th>\n",
       "      <th>final.output.tail_ag</th>\n",
       "      <th>final.output.tail_pb</th>\n",
       "      <th>final.output.tail_sol</th>\n",
       "      <th>final.output.tail_au</th>\n",
       "      <th>...</th>\n",
       "      <th>secondary_cleaner.state.floatbank4_a_air</th>\n",
       "      <th>secondary_cleaner.state.floatbank4_a_level</th>\n",
       "      <th>secondary_cleaner.state.floatbank4_b_air</th>\n",
       "      <th>secondary_cleaner.state.floatbank4_b_level</th>\n",
       "      <th>secondary_cleaner.state.floatbank5_a_air</th>\n",
       "      <th>secondary_cleaner.state.floatbank5_a_level</th>\n",
       "      <th>secondary_cleaner.state.floatbank5_b_air</th>\n",
       "      <th>secondary_cleaner.state.floatbank5_b_level</th>\n",
       "      <th>secondary_cleaner.state.floatbank6_a_air</th>\n",
       "      <th>secondary_cleaner.state.floatbank6_a_level</th>\n",
       "    </tr>\n",
       "  </thead>\n",
       "  <tbody>\n",
       "    <tr>\n",
       "      <th>2869</th>\n",
       "      <td>2016-06-08 17:59:59</td>\n",
       "      <td>NaN</td>\n",
       "      <td>NaN</td>\n",
       "      <td>10.188231</td>\n",
       "      <td>29.020814</td>\n",
       "      <td>63.725335</td>\n",
       "      <td>7.387115</td>\n",
       "      <td>2.072266</td>\n",
       "      <td>16.982505</td>\n",
       "      <td>2.908215</td>\n",
       "      <td>...</td>\n",
       "      <td>8.985634</td>\n",
       "      <td>-548.815307</td>\n",
       "      <td>7.011665</td>\n",
       "      <td>-537.231749</td>\n",
       "      <td>8.031238</td>\n",
       "      <td>-550.028193</td>\n",
       "      <td>5.984399</td>\n",
       "      <td>-549.63625</td>\n",
       "      <td>18.01224</td>\n",
       "      <td>-551.325271</td>\n",
       "    </tr>\n",
       "  </tbody>\n",
       "</table>\n",
       "<p>1 rows × 87 columns</p>\n",
       "</div>"
      ],
      "text/plain": [
       "                    date  final.output.concentrate_ag  \\\n",
       "2869 2016-06-08 17:59:59                          NaN   \n",
       "\n",
       "      final.output.concentrate_pb  final.output.concentrate_sol  \\\n",
       "2869                          NaN                     10.188231   \n",
       "\n",
       "      final.output.concentrate_au  final.output.recovery  \\\n",
       "2869                    29.020814              63.725335   \n",
       "\n",
       "      final.output.tail_ag  final.output.tail_pb  final.output.tail_sol  \\\n",
       "2869              7.387115              2.072266              16.982505   \n",
       "\n",
       "      final.output.tail_au  ...  secondary_cleaner.state.floatbank4_a_air  \\\n",
       "2869              2.908215  ...                                  8.985634   \n",
       "\n",
       "      secondary_cleaner.state.floatbank4_a_level  \\\n",
       "2869                                 -548.815307   \n",
       "\n",
       "      secondary_cleaner.state.floatbank4_b_air  \\\n",
       "2869                                  7.011665   \n",
       "\n",
       "      secondary_cleaner.state.floatbank4_b_level  \\\n",
       "2869                                 -537.231749   \n",
       "\n",
       "      secondary_cleaner.state.floatbank5_a_air  \\\n",
       "2869                                  8.031238   \n",
       "\n",
       "      secondary_cleaner.state.floatbank5_a_level  \\\n",
       "2869                                 -550.028193   \n",
       "\n",
       "      secondary_cleaner.state.floatbank5_b_air  \\\n",
       "2869                                  5.984399   \n",
       "\n",
       "      secondary_cleaner.state.floatbank5_b_level  \\\n",
       "2869                                  -549.63625   \n",
       "\n",
       "      secondary_cleaner.state.floatbank6_a_air  \\\n",
       "2869                                  18.01224   \n",
       "\n",
       "      secondary_cleaner.state.floatbank6_a_level  \n",
       "2869                                 -551.325271  \n",
       "\n",
       "[1 rows x 87 columns]"
      ]
     },
     "execution_count": 8,
     "metadata": {},
     "output_type": "execute_result"
    }
   ],
   "source": [
    "df_full[df_full['final.output.concentrate_pb'].isna()].head()"
   ]
  },
  {
   "cell_type": "code",
   "execution_count": 9,
   "metadata": {},
   "outputs": [
    {
     "data": {
      "text/html": [
       "<div>\n",
       "<style scoped>\n",
       "    .dataframe tbody tr th:only-of-type {\n",
       "        vertical-align: middle;\n",
       "    }\n",
       "\n",
       "    .dataframe tbody tr th {\n",
       "        vertical-align: top;\n",
       "    }\n",
       "\n",
       "    .dataframe thead th {\n",
       "        text-align: right;\n",
       "    }\n",
       "</style>\n",
       "<table border=\"1\" class=\"dataframe\">\n",
       "  <thead>\n",
       "    <tr style=\"text-align: right;\">\n",
       "      <th></th>\n",
       "      <th>date</th>\n",
       "      <th>final.output.concentrate_ag</th>\n",
       "      <th>final.output.concentrate_pb</th>\n",
       "      <th>final.output.concentrate_sol</th>\n",
       "      <th>final.output.concentrate_au</th>\n",
       "      <th>final.output.recovery</th>\n",
       "      <th>final.output.tail_ag</th>\n",
       "      <th>final.output.tail_pb</th>\n",
       "      <th>final.output.tail_sol</th>\n",
       "      <th>final.output.tail_au</th>\n",
       "      <th>...</th>\n",
       "      <th>secondary_cleaner.state.floatbank4_a_air</th>\n",
       "      <th>secondary_cleaner.state.floatbank4_a_level</th>\n",
       "      <th>secondary_cleaner.state.floatbank4_b_air</th>\n",
       "      <th>secondary_cleaner.state.floatbank4_b_level</th>\n",
       "      <th>secondary_cleaner.state.floatbank5_a_air</th>\n",
       "      <th>secondary_cleaner.state.floatbank5_a_level</th>\n",
       "      <th>secondary_cleaner.state.floatbank5_b_air</th>\n",
       "      <th>secondary_cleaner.state.floatbank5_b_level</th>\n",
       "      <th>secondary_cleaner.state.floatbank6_a_air</th>\n",
       "      <th>secondary_cleaner.state.floatbank6_a_level</th>\n",
       "    </tr>\n",
       "  </thead>\n",
       "  <tbody>\n",
       "    <tr>\n",
       "      <th>2869</th>\n",
       "      <td>2016-06-08 17:59:59</td>\n",
       "      <td>NaN</td>\n",
       "      <td>NaN</td>\n",
       "      <td>10.188231</td>\n",
       "      <td>29.020814</td>\n",
       "      <td>63.725335</td>\n",
       "      <td>7.387115</td>\n",
       "      <td>2.072266</td>\n",
       "      <td>16.982505</td>\n",
       "      <td>2.908215</td>\n",
       "      <td>...</td>\n",
       "      <td>8.985634</td>\n",
       "      <td>-548.815307</td>\n",
       "      <td>7.011665</td>\n",
       "      <td>-537.231749</td>\n",
       "      <td>8.031238</td>\n",
       "      <td>-550.028193</td>\n",
       "      <td>5.984399</td>\n",
       "      <td>-549.63625</td>\n",
       "      <td>18.01224</td>\n",
       "      <td>-551.325271</td>\n",
       "    </tr>\n",
       "  </tbody>\n",
       "</table>\n",
       "<p>1 rows × 87 columns</p>\n",
       "</div>"
      ],
      "text/plain": [
       "                    date  final.output.concentrate_ag  \\\n",
       "2869 2016-06-08 17:59:59                          NaN   \n",
       "\n",
       "      final.output.concentrate_pb  final.output.concentrate_sol  \\\n",
       "2869                          NaN                     10.188231   \n",
       "\n",
       "      final.output.concentrate_au  final.output.recovery  \\\n",
       "2869                    29.020814              63.725335   \n",
       "\n",
       "      final.output.tail_ag  final.output.tail_pb  final.output.tail_sol  \\\n",
       "2869              7.387115              2.072266              16.982505   \n",
       "\n",
       "      final.output.tail_au  ...  secondary_cleaner.state.floatbank4_a_air  \\\n",
       "2869              2.908215  ...                                  8.985634   \n",
       "\n",
       "      secondary_cleaner.state.floatbank4_a_level  \\\n",
       "2869                                 -548.815307   \n",
       "\n",
       "      secondary_cleaner.state.floatbank4_b_air  \\\n",
       "2869                                  7.011665   \n",
       "\n",
       "      secondary_cleaner.state.floatbank4_b_level  \\\n",
       "2869                                 -537.231749   \n",
       "\n",
       "      secondary_cleaner.state.floatbank5_a_air  \\\n",
       "2869                                  8.031238   \n",
       "\n",
       "      secondary_cleaner.state.floatbank5_a_level  \\\n",
       "2869                                 -550.028193   \n",
       "\n",
       "      secondary_cleaner.state.floatbank5_b_air  \\\n",
       "2869                                  5.984399   \n",
       "\n",
       "      secondary_cleaner.state.floatbank5_b_level  \\\n",
       "2869                                  -549.63625   \n",
       "\n",
       "      secondary_cleaner.state.floatbank6_a_air  \\\n",
       "2869                                  18.01224   \n",
       "\n",
       "      secondary_cleaner.state.floatbank6_a_level  \n",
       "2869                                 -551.325271  \n",
       "\n",
       "[1 rows x 87 columns]"
      ]
     },
     "execution_count": 9,
     "metadata": {},
     "output_type": "execute_result"
    }
   ],
   "source": [
    "df_train[df_train['final.output.concentrate_pb'].isna()].head() # Смотрим припуски"
   ]
  },
  {
   "cell_type": "markdown",
   "metadata": {},
   "source": [
    "Видим всего одну строчку с двумя пропущенными значениями.\n",
    "\n",
    "Итак, нам известно, что \"данные индексируются датой и временем получения информации (признак date). Соседние по времени параметры часто похожи\".\n",
    "Попробуем заполнить наш пропуск, основываясь на этом выражении, последним действительным значением."
   ]
  },
  {
   "cell_type": "code",
   "execution_count": 10,
   "metadata": {},
   "outputs": [],
   "source": [
    "df_full = df_full.fillna(method='ffill')\n",
    "df_train = df_train.fillna(method='ffill')"
   ]
  },
  {
   "cell_type": "code",
   "execution_count": 11,
   "metadata": {},
   "outputs": [
    {
     "data": {
      "text/html": [
       "<div>\n",
       "<style scoped>\n",
       "    .dataframe tbody tr th:only-of-type {\n",
       "        vertical-align: middle;\n",
       "    }\n",
       "\n",
       "    .dataframe tbody tr th {\n",
       "        vertical-align: top;\n",
       "    }\n",
       "\n",
       "    .dataframe thead th {\n",
       "        text-align: right;\n",
       "    }\n",
       "</style>\n",
       "<table border=\"1\" class=\"dataframe\">\n",
       "  <thead>\n",
       "    <tr style=\"text-align: right;\">\n",
       "      <th></th>\n",
       "      <th>date</th>\n",
       "      <th>final.output.concentrate_ag</th>\n",
       "      <th>final.output.concentrate_pb</th>\n",
       "      <th>final.output.concentrate_sol</th>\n",
       "      <th>final.output.concentrate_au</th>\n",
       "      <th>final.output.recovery</th>\n",
       "      <th>final.output.tail_ag</th>\n",
       "      <th>final.output.tail_pb</th>\n",
       "      <th>final.output.tail_sol</th>\n",
       "      <th>final.output.tail_au</th>\n",
       "      <th>...</th>\n",
       "      <th>secondary_cleaner.state.floatbank4_a_air</th>\n",
       "      <th>secondary_cleaner.state.floatbank4_a_level</th>\n",
       "      <th>secondary_cleaner.state.floatbank4_b_air</th>\n",
       "      <th>secondary_cleaner.state.floatbank4_b_level</th>\n",
       "      <th>secondary_cleaner.state.floatbank5_a_air</th>\n",
       "      <th>secondary_cleaner.state.floatbank5_a_level</th>\n",
       "      <th>secondary_cleaner.state.floatbank5_b_air</th>\n",
       "      <th>secondary_cleaner.state.floatbank5_b_level</th>\n",
       "      <th>secondary_cleaner.state.floatbank6_a_air</th>\n",
       "      <th>secondary_cleaner.state.floatbank6_a_level</th>\n",
       "    </tr>\n",
       "  </thead>\n",
       "  <tbody>\n",
       "  </tbody>\n",
       "</table>\n",
       "<p>0 rows × 87 columns</p>\n",
       "</div>"
      ],
      "text/plain": [
       "Empty DataFrame\n",
       "Columns: [date, final.output.concentrate_ag, final.output.concentrate_pb, final.output.concentrate_sol, final.output.concentrate_au, final.output.recovery, final.output.tail_ag, final.output.tail_pb, final.output.tail_sol, final.output.tail_au, primary_cleaner.input.sulfate, primary_cleaner.input.depressant, primary_cleaner.input.feed_size, primary_cleaner.input.xanthate, primary_cleaner.output.concentrate_ag, primary_cleaner.output.concentrate_pb, primary_cleaner.output.concentrate_sol, primary_cleaner.output.concentrate_au, primary_cleaner.output.tail_ag, primary_cleaner.output.tail_pb, primary_cleaner.output.tail_sol, primary_cleaner.output.tail_au, primary_cleaner.state.floatbank8_a_air, primary_cleaner.state.floatbank8_a_level, primary_cleaner.state.floatbank8_b_air, primary_cleaner.state.floatbank8_b_level, primary_cleaner.state.floatbank8_c_air, primary_cleaner.state.floatbank8_c_level, primary_cleaner.state.floatbank8_d_air, primary_cleaner.state.floatbank8_d_level, rougher.calculation.sulfate_to_au_concentrate, rougher.calculation.floatbank10_sulfate_to_au_feed, rougher.calculation.floatbank11_sulfate_to_au_feed, rougher.calculation.au_pb_ratio, rougher.input.feed_ag, rougher.input.feed_pb, rougher.input.feed_rate, rougher.input.feed_size, rougher.input.feed_sol, rougher.input.feed_au, rougher.input.floatbank10_sulfate, rougher.input.floatbank10_xanthate, rougher.input.floatbank11_sulfate, rougher.input.floatbank11_xanthate, rougher.output.concentrate_ag, rougher.output.concentrate_pb, rougher.output.concentrate_sol, rougher.output.concentrate_au, rougher.output.recovery, rougher.output.tail_ag, rougher.output.tail_pb, rougher.output.tail_sol, rougher.output.tail_au, rougher.state.floatbank10_a_air, rougher.state.floatbank10_a_level, rougher.state.floatbank10_b_air, rougher.state.floatbank10_b_level, rougher.state.floatbank10_c_air, rougher.state.floatbank10_c_level, rougher.state.floatbank10_d_air, rougher.state.floatbank10_d_level, rougher.state.floatbank10_e_air, rougher.state.floatbank10_e_level, rougher.state.floatbank10_f_air, rougher.state.floatbank10_f_level, secondary_cleaner.output.tail_ag, secondary_cleaner.output.tail_pb, secondary_cleaner.output.tail_sol, secondary_cleaner.output.tail_au, secondary_cleaner.state.floatbank2_a_air, secondary_cleaner.state.floatbank2_a_level, secondary_cleaner.state.floatbank2_b_air, secondary_cleaner.state.floatbank2_b_level, secondary_cleaner.state.floatbank3_a_air, secondary_cleaner.state.floatbank3_a_level, secondary_cleaner.state.floatbank3_b_air, secondary_cleaner.state.floatbank3_b_level, secondary_cleaner.state.floatbank4_a_air, secondary_cleaner.state.floatbank4_a_level, secondary_cleaner.state.floatbank4_b_air, secondary_cleaner.state.floatbank4_b_level, secondary_cleaner.state.floatbank5_a_air, secondary_cleaner.state.floatbank5_a_level, secondary_cleaner.state.floatbank5_b_air, secondary_cleaner.state.floatbank5_b_level, secondary_cleaner.state.floatbank6_a_air, secondary_cleaner.state.floatbank6_a_level]\n",
       "Index: []\n",
       "\n",
       "[0 rows x 87 columns]"
      ]
     },
     "execution_count": 11,
     "metadata": {},
     "output_type": "execute_result"
    }
   ],
   "source": [
    "df_full[df_full['final.output.concentrate_pb'].isna()].head() # Проверяем"
   ]
  },
  {
   "cell_type": "markdown",
   "metadata": {},
   "source": [
    "### Эффективность обогащения"
   ]
  },
  {
   "attachments": {
    "image.png": {
     "image/png": "[encoded data removed]"
    }
   },
   "cell_type": "markdown",
   "metadata": {},
   "source": [
    "![image.png](attachment:image.png)"
   ]
  },
  {
   "cell_type": "code",
   "execution_count": 12,
   "metadata": {},
   "outputs": [],
   "source": [
    "recovery = df_train # Создаем переменную recovery\n",
    "recovery = recovery.dropna().reset_index(drop=True) # Устраняем в ней пропуски\n",
    "\n",
    "rougher_output_recovery = recovery['rougher.output.recovery']\n",
    "rougher_output_tail_au = recovery['rougher.output.tail_au']\n",
    "rougher_input_feed_au = recovery['rougher.input.feed_au']\n",
    "rougher_output_concentrate_au = recovery['rougher.output.concentrate_au']"
   ]
  },
  {
   "cell_type": "code",
   "execution_count": 13,
   "metadata": {},
   "outputs": [],
   "source": [
    "def calc_rougher_output_recovery(rougher_output_concentrate, rougher_input_feed, rougher_output_tail):\n",
    "    calc_rougher_output_recovery = ((rougher_output_concentrate_au*(rougher_input_feed_au-rougher_output_tail_au))/(rougher_input_feed_au*(rougher_output_concentrate_au-rougher_output_tail_au)))*100\n",
    "    return calc_rougher_output_recovery"
   ]
  },
  {
   "cell_type": "code",
   "execution_count": 14,
   "metadata": {},
   "outputs": [
    {
     "data": {
      "text/plain": [
       "0        87.107763\n",
       "1        86.843261\n",
       "2        86.842308\n",
       "3        87.226430\n",
       "4        86.688794\n",
       "           ...    \n",
       "14144    89.574376\n",
       "14145    87.724007\n",
       "14146    88.890579\n",
       "14147    89.858126\n",
       "14148    89.514960\n",
       "Length: 14149, dtype: float64"
      ]
     },
     "execution_count": 14,
     "metadata": {},
     "output_type": "execute_result"
    }
   ],
   "source": [
    "calc_rougher_output_recovery(rougher_output_concentrate_au, rougher_input_feed_au, rougher_output_tail_au)"
   ]
  },
  {
   "cell_type": "code",
   "execution_count": 15,
   "metadata": {},
   "outputs": [
    {
     "data": {
      "text/plain": [
       "0        87.107763\n",
       "1        86.843261\n",
       "2        86.842308\n",
       "3        87.226430\n",
       "4        86.688794\n",
       "           ...    \n",
       "14144    89.574376\n",
       "14145    87.724007\n",
       "14146    88.890579\n",
       "14147    89.858126\n",
       "14148    89.514960\n",
       "Name: rougher.output.recovery, Length: 14149, dtype: float64"
      ]
     },
     "execution_count": 15,
     "metadata": {},
     "output_type": "execute_result"
    }
   ],
   "source": [
    "rougher_output_recovery"
   ]
  },
  {
   "cell_type": "code",
   "execution_count": 16,
   "metadata": {},
   "outputs": [
    {
     "data": {
      "text/plain": [
       "'Минимальные значения:'"
      ]
     },
     "metadata": {},
     "output_type": "display_data"
    },
    {
     "data": {
      "text/plain": [
       "-0.0"
      ]
     },
     "metadata": {},
     "output_type": "display_data"
    },
    {
     "data": {
      "text/plain": [
       "'Максимальные значения:'"
      ]
     },
     "metadata": {},
     "output_type": "display_data"
    },
    {
     "data": {
      "text/plain": [
       "100.0"
      ]
     },
     "metadata": {},
     "output_type": "display_data"
    }
   ],
   "source": [
    "display('Минимальные значения:', calc_rougher_output_recovery(rougher_output_concentrate_au, rougher_input_feed_au, rougher_output_tail_au).min())\n",
    "display('Максимальные значения:', calc_rougher_output_recovery(rougher_output_concentrate_au, rougher_input_feed_au, rougher_output_tail_au).max())"
   ]
  },
  {
   "cell_type": "markdown",
   "metadata": {},
   "source": [
    "### Метрика MAE"
   ]
  },
  {
   "cell_type": "code",
   "execution_count": 17,
   "metadata": {},
   "outputs": [
    {
     "data": {
      "text/plain": [
       "9.73512347450521e-15"
      ]
     },
     "execution_count": 17,
     "metadata": {},
     "output_type": "execute_result"
    }
   ],
   "source": [
    "mean_absolute_error(calc_rougher_output_recovery(rougher_output_concentrate_au, rougher_input_feed_au, rougher_output_tail_au),rougher_output_recovery)"
   ]
  },
  {
   "cell_type": "markdown",
   "metadata": {},
   "source": [
    "Абсолютная средняя ошибка получилась $ 9.7 \\cdot 10^{-15} $"
   ]
  },
  {
   "cell_type": "markdown",
   "metadata": {},
   "source": [
    "### Анализ недоступных признаков"
   ]
  },
  {
   "cell_type": "code",
   "execution_count": 18,
   "metadata": {},
   "outputs": [
    {
     "data": {
      "text/plain": [
       "23                          final.output.concentrate_ag\n",
       "14                          final.output.concentrate_au\n",
       "32                          final.output.concentrate_pb\n",
       "25                         final.output.concentrate_sol\n",
       "33                                final.output.recovery\n",
       "12                                 final.output.tail_ag\n",
       "13                                 final.output.tail_au\n",
       "26                                 final.output.tail_pb\n",
       "5                                 final.output.tail_sol\n",
       "4                 primary_cleaner.output.concentrate_ag\n",
       "18                primary_cleaner.output.concentrate_au\n",
       "22                primary_cleaner.output.concentrate_pb\n",
       "6                primary_cleaner.output.concentrate_sol\n",
       "7                        primary_cleaner.output.tail_ag\n",
       "10                       primary_cleaner.output.tail_au\n",
       "27                       primary_cleaner.output.tail_pb\n",
       "21                      primary_cleaner.output.tail_sol\n",
       "24                      rougher.calculation.au_pb_ratio\n",
       "16    rougher.calculation.floatbank10_sulfate_to_au_...\n",
       "31    rougher.calculation.floatbank11_sulfate_to_au_...\n",
       "15        rougher.calculation.sulfate_to_au_concentrate\n",
       "3                         rougher.output.concentrate_ag\n",
       "20                        rougher.output.concentrate_au\n",
       "1                         rougher.output.concentrate_pb\n",
       "8                        rougher.output.concentrate_sol\n",
       "11                              rougher.output.recovery\n",
       "28                               rougher.output.tail_ag\n",
       "30                               rougher.output.tail_au\n",
       "2                                rougher.output.tail_pb\n",
       "29                              rougher.output.tail_sol\n",
       "17                     secondary_cleaner.output.tail_ag\n",
       "0                      secondary_cleaner.output.tail_au\n",
       "19                     secondary_cleaner.output.tail_pb\n",
       "9                     secondary_cleaner.output.tail_sol\n",
       "dtype: object"
      ]
     },
     "metadata": {},
     "output_type": "display_data"
    }
   ],
   "source": [
    "test_col = df_test.columns\n",
    "full_col = df_full.columns\n",
    "\n",
    "main_list = list(set(full_col)-set(test_col))\n",
    "main_list = pd.Series(main_list)\n",
    "\n",
    "display(main_list.sort_values())"
   ]
  },
  {
   "cell_type": "markdown",
   "metadata": {},
   "source": [
    "Как нам известно - \"Некоторые параметры недоступны, потому что замеряются и/или рассчитываются значительно позже\".\n",
    "\n",
    "По полученным данным видим, что это выходные признаки после каждого технологического этапа.\n",
    "Тут есть и final.output.recovery и rougher.output.recovery, с которыми мы ранее проводили расчеты."
   ]
  },
  {
   "cell_type": "markdown",
   "metadata": {},
   "source": [
    "## Анализ данных"
   ]
  },
  {
   "cell_type": "markdown",
   "metadata": {},
   "source": [
    "### Концентрация металлов (Au, Ag, Pb)"
   ]
  },
  {
   "cell_type": "markdown",
   "metadata": {},
   "source": [
    "Концентрация металлов на первичной очистке:"
   ]
  },
  {
   "cell_type": "code",
   "execution_count": 19,
   "metadata": {},
   "outputs": [],
   "source": [
    "concetrates_primary=[]\n",
    "concetrates_primary=pd.DataFrame(concetrates_primary)\n",
    "concetrates_primary['primary_cleaner.output.concentrate_ag'] = df_full['primary_cleaner.output.concentrate_ag']\n",
    "concetrates_primary['primary_cleaner.output.concentrate_pb'] = df_full['primary_cleaner.output.concentrate_pb']\n",
    "concetrates_primary['primary_cleaner.output.concentrate_sol'] = df_full['primary_cleaner.output.concentrate_sol']\n",
    "concetrates_primary['primary_cleaner.output.concentrate_au'] = df_full['primary_cleaner.output.concentrate_au']"
   ]
  },
  {
   "cell_type": "code",
   "execution_count": 20,
   "metadata": {
    "scrolled": true
   },
   "outputs": [
    {
     "data": {
      "image/png": "[encoded data removed]",
      "text/plain": [
       "<Figure size 720x720 with 1 Axes>"
      ]
     },
     "metadata": {
      "needs_background": "light"
     },
     "output_type": "display_data"
    }
   ],
   "source": [
    "plt.figure(figsize=(10, 10))\n",
    "a = sns.set(style=\"whitegrid\")\n",
    "a = sns.boxplot(data=concetrates_primary)"
   ]
  },
  {
   "cell_type": "markdown",
   "metadata": {},
   "source": [
    "Концентрация металлов на финальной очистке:"
   ]
  },
  {
   "cell_type": "code",
   "execution_count": 21,
   "metadata": {},
   "outputs": [],
   "source": [
    "concetrates_final=[]\n",
    "concetrates_final=pd.DataFrame(concetrates_final)\n",
    "concetrates_final['final.output.concentrate_ag'] = df_full['final.output.concentrate_ag']\n",
    "concetrates_final['final.output.concentrate_pb'] = df_full['final.output.concentrate_pb']\n",
    "concetrates_final['final.output.concentrate_sol'] = df_full['final.output.concentrate_sol']\n",
    "concetrates_final['final.output.concentrate_au'] = df_full['final.output.concentrate_au']"
   ]
  },
  {
   "cell_type": "code",
   "execution_count": 22,
   "metadata": {},
   "outputs": [
    {
     "data": {
      "image/png": "[encoded data removed]",
      "text/plain": [
       "<Figure size 720x720 with 1 Axes>"
      ]
     },
     "metadata": {},
     "output_type": "display_data"
    }
   ],
   "source": [
    "plt.figure(figsize=(10, 10))\n",
    "a = sns.set(style=\"whitegrid\")\n",
    "a = sns.boxplot(data=concetrates_final)"
   ]
  },
  {
   "cell_type": "markdown",
   "metadata": {},
   "source": [
    "Если проводить сравнение двух полученных графика с ящиками - концентрация золота подросла после финальной очистки.\n",
    "Также можно отметить большое число выбросов. Особенно, опять же, в золоте."
   ]
  },
  {
   "cell_type": "markdown",
   "metadata": {},
   "source": [
    "### Распределение концентрации"
   ]
  },
  {
   "cell_type": "markdown",
   "metadata": {},
   "source": [
    "Посмотрим на распределение концентрации на этапе первичной очистки"
   ]
  },
  {
   "cell_type": "code",
   "execution_count": 23,
   "metadata": {},
   "outputs": [
    {
     "data": {
      "image/png": "[encoded data removed]",
      "text/plain": [
       "<Figure size 1008x576 with 1 Axes>"
      ]
     },
     "metadata": {},
     "output_type": "display_data"
    }
   ],
   "source": [
    "plt.figure(figsize=(14,8))\n",
    "sns.distplot(df_full[df_full['primary_cleaner.output.concentrate_ag']>0.3]['primary_cleaner.output.concentrate_ag'],bins=30,label='primary_cleaner.output.concentrate_ag')\n",
    "sns.distplot(df_full[df_full['primary_cleaner.output.concentrate_pb']>0.01]['primary_cleaner.output.concentrate_pb'],bins=30,label='primary_cleaner.output.concentrate_pb')\n",
    "sns.distplot(df_full[df_full['primary_cleaner.output.concentrate_sol']>0.01]['primary_cleaner.output.concentrate_sol'],bins=30,label='primary_cleaner.output.concentrate_sol')\n",
    "sns.distplot(df_full[df_full['primary_cleaner.output.concentrate_au']>0.01]['primary_cleaner.output.concentrate_au'],bins=30,label='primary_cleaner.output.concentrate_au')\n",
    "plt.vlines(df_full[df_full['primary_cleaner.output.concentrate_ag']>0.3]['primary_cleaner.output.concentrate_ag'].mean(),0,0.24,color = 'r')\n",
    "plt.vlines(df_full[df_full['primary_cleaner.output.concentrate_pb']>0.3]['primary_cleaner.output.concentrate_pb'].mean(),0,0.23,color = 'g')\n",
    "plt.vlines(df_full[df_full['primary_cleaner.output.concentrate_sol']>0.3]['primary_cleaner.output.concentrate_sol'].mean(),0,0.23,color = 'b')\n",
    "plt.vlines(df_full[df_full['primary_cleaner.output.concentrate_au']>0.3]['primary_cleaner.output.concentrate_au'].mean(),0,0.13,color = 'y')\n",
    "\n",
    "plt.text(8,0.22,round(df_full['primary_cleaner.output.concentrate_ag'].mean(),2),fontsize=12)\n",
    "plt.text(8,0.24,round(df_full['primary_cleaner.output.concentrate_pb'].mean(),2),fontsize=12)\n",
    "plt.text(10,0.23,round(df_full['primary_cleaner.output.concentrate_sol'].mean(),2),fontsize=12)\n",
    "plt.text(32,0.12,round(df_full['primary_cleaner.output.concentrate_au'].mean(),2),fontsize=12)\n",
    "plt.legend()\n",
    "plt.title('Metal concentrate primary cleaner output')\n",
    "plt.xlabel(\"% Metal concentrate\")\n",
    "plt.ylabel(\"Friqency\")\n",
    "None"
   ]
  },
  {
   "cell_type": "markdown",
   "metadata": {},
   "source": [
    "Финальная очистка:"
   ]
  },
  {
   "cell_type": "code",
   "execution_count": 24,
   "metadata": {},
   "outputs": [
    {
     "data": {
      "image/png": "[encoded data removed]",
      "text/plain": [
       "<Figure size 1008x576 with 1 Axes>"
      ]
     },
     "metadata": {},
     "output_type": "display_data"
    }
   ],
   "source": [
    "plt.figure(figsize=(14,8))\n",
    "sns.distplot(df_full[df_full['final.output.concentrate_ag']>0.03]['final.output.concentrate_ag'],bins=30,label='final.output.concentrate_ag')\n",
    "sns.distplot(df_full[df_full['final.output.concentrate_pb']>0.03]['final.output.concentrate_pb'],bins=30,label='final.output.concentrate_pb')\n",
    "sns.distplot(df_full[df_full['final.output.concentrate_sol']>0.03]['final.output.concentrate_sol'],bins=30,label='final.output.concentrate_sol')\n",
    "sns.distplot(df_full[df_full['final.output.concentrate_au']>0.03]['final.output.concentrate_au'],bins=30,label='final.output.concentrate_au')\n",
    "plt.vlines(df_full[df_full['final.output.concentrate_ag']>0.3]['final.output.concentrate_ag'].mean(),0,0.32,color = 'r')\n",
    "plt.vlines(df_full[df_full['final.output.concentrate_pb']>0.3]['final.output.concentrate_pb'].mean(),0,0.30,color = 'r')\n",
    "plt.vlines(df_full[df_full['final.output.concentrate_sol']>0.3]['final.output.concentrate_sol'].mean(),0,0.20,color = 'r')\n",
    "plt.vlines(df_full[df_full['final.output.concentrate_au']>0.3]['final.output.concentrate_au'].mean(),0,0.21,color = 'r')\n",
    "\n",
    "plt.text(5,0.32,round(df_full['final.output.concentrate_ag'].mean(),2),fontsize=12)\n",
    "plt.text(8,0.30,round(df_full['final.output.concentrate_pb'].mean(),2),fontsize=12)\n",
    "plt.text(10,0.17,round(df_full['final.output.concentrate_sol'].mean(),2),fontsize=12)\n",
    "plt.text(45,0.21,round(df_full['final.output.concentrate_au'].mean(),2),fontsize=12)\n",
    "\n",
    "plt.legend()\n",
    "plt.title('Metal concentrate final output')\n",
    "plt.xlabel(\"% Metal concentrate\")\n",
    "plt.ylabel(\"Friqency\")\n",
    "None"
   ]
  },
  {
   "cell_type": "markdown",
   "metadata": {},
   "source": [
    "После финальной очистки, если сравнивать два полученных графика, концентрация распределилась более плотно к среднему. Концентрация золота подросла - с `32` до `44%`"
   ]
  },
  {
   "cell_type": "markdown",
   "metadata": {},
   "source": [
    "### Этап флотации"
   ]
  },
  {
   "cell_type": "code",
   "execution_count": 25,
   "metadata": {},
   "outputs": [
    {
     "data": {
      "image/png": "[encoded data removed]",
      "text/plain": [
       "<Figure size 1008x576 with 1 Axes>"
      ]
     },
     "metadata": {},
     "output_type": "display_data"
    }
   ],
   "source": [
    "plt.figure(figsize=(14,8))\n",
    "sns.distplot(df_full[df_full['rougher.output.concentrate_ag']>0.03]['rougher.output.concentrate_ag'],bins=30,label='rougher.output.concentrate_ag')\n",
    "sns.distplot(df_full[df_full['rougher.output.concentrate_pb']>0.03]['rougher.output.concentrate_pb'],bins=30,label='rougher.output.concentrate_pb')\n",
    "sns.distplot(df_full[df_full['rougher.output.concentrate_sol']>0.03]['rougher.output.concentrate_sol'],bins=30,label='rougher.output.concentrate_sol')\n",
    "sns.distplot(df_full[df_full['rougher.output.concentrate_au']>0.03]['rougher.output.concentrate_au'],bins=30,label='rougher.output.concentrate_au')\n",
    "plt.vlines(df_full[df_full['rougher.output.concentrate_ag']>0.3]['rougher.output.concentrate_ag'].mean(),0,0.32,color = 'r')\n",
    "plt.vlines(df_full[df_full['rougher.output.concentrate_pb']>0.3]['rougher.output.concentrate_pb'].mean(),0,0.30,color = 'r')\n",
    "plt.vlines(df_full[df_full['rougher.output.concentrate_sol']>0.3]['rougher.output.concentrate_sol'].mean(),0,0.20,color = 'r')\n",
    "plt.vlines(df_full[df_full['rougher.output.concentrate_au']>0.3]['rougher.output.concentrate_au'].mean(),0,0.21,color = 'r')\n",
    "\n",
    "plt.text(11,0.18,round(df_full['rougher.output.concentrate_ag'].mean(),2),fontsize=12)\n",
    "plt.text(8,0.30,round(df_full['rougher.output.concentrate_pb'].mean(),2),fontsize=12)\n",
    "plt.text(28,0.12,round(df_full['rougher.output.concentrate_sol'].mean(),2),fontsize=12)\n",
    "plt.text(20,0.21,round(df_full['rougher.output.concentrate_au'].mean(),2),fontsize=12)\n",
    "\n",
    "plt.legend()\n",
    "plt.title('Metal concentrate rougher output')\n",
    "plt.xlabel(\"% Metal concentrate\")\n",
    "plt.ylabel(\"Friqency\")\n",
    "None"
   ]
  },
  {
   "cell_type": "markdown",
   "metadata": {},
   "source": [
    "Концентрация металлов заметно подросла. На примере золота видно, что она была `12`, а стала `28.8`, что является увеличением более чем в два раза"
   ]
  },
  {
   "cell_type": "code",
   "execution_count": 26,
   "metadata": {},
   "outputs": [
    {
     "data": {
      "image/png": "[encoded data removed]",
      "text/plain": [
       "<Figure size 1080x1224 with 4 Axes>"
      ]
     },
     "metadata": {},
     "output_type": "display_data"
    }
   ],
   "source": [
    "position = 0\n",
    "plt.figure(figsize=[15, 17])\n",
    "plt.subplots_adjust(top=0.94, wspace=0.2, hspace=0.3)\n",
    "plt.suptitle('Концентрация металлов на различных этапах очистки', fontsize=15)\n",
    "for metal in ['au', 'ag', 'pb', 'sol']:\n",
    "    position += 1\n",
    "    plt.subplot(4, 1, position)\n",
    "    plt.title(f'Распределение металла {str(metal).upper()}', fontsize=13)\n",
    "    sns.set_style('whitegrid')\n",
    "    sns.histplot(df_full[f'rougher.input.feed_{metal}'], color='y', label='Сырье', kde=False)\n",
    "    sns.histplot(df_full[f'rougher.output.concentrate_{metal}'], color='b', label='Флотация', kde=False)\n",
    "    sns.histplot(df_full[f'primary_cleaner.output.concentrate_{metal}'], color='g', label='Первичная очистка', kde=False)\n",
    "    sns.histplot(df_full[f'final.output.concentrate_{metal}'], color='r', label='Финальная концетрация',kde=False)\n",
    "    plt.xlabel('Концентрация металла')\n",
    "    plt.ylabel('Количество наблюдений')\n",
    "    plt.legend()\n",
    "plt.show();"
   ]
  },
  {
   "cell_type": "markdown",
   "metadata": {},
   "source": [
    "По выведенным графикам видно:\n",
    "\n",
    "* Концентрация AU после каждого этапа очистки постепенно увеличивается;\n",
    "* Концентрация AG сначала увеличивается до этапа флотации, а потом становится меньше изначального;\n",
    "* Концентрация PB постепенно растет, но после этапа первичной очистки остается примерно на том же уровне;\n",
    "* Концентрация SOL после каждого этапа очистки постепенно уменьшается."
   ]
  },
  {
   "cell_type": "markdown",
   "metadata": {},
   "source": [
    "### Сравнение распределения размеров гранул сырья на обучающей и тестовой выборках"
   ]
  },
  {
   "cell_type": "code",
   "execution_count": 27,
   "metadata": {},
   "outputs": [
    {
     "data": {
      "image/png": "[encoded data removed]",
      "text/plain": [
       "<Figure size 1080x576 with 1 Axes>"
      ]
     },
     "metadata": {},
     "output_type": "display_data"
    }
   ],
   "source": [
    "plt.figure(figsize=(15,8))\n",
    "sns.distplot(df_train['primary_cleaner.input.feed_size'], label = 'train primary_cleaner.input.feed_size')\n",
    "sns.distplot(df_test['primary_cleaner.input.feed_size'], label = 'test primary_cleaner.input.feed_size')\n",
    "plt.title('Feed size in Train and Test data')\n",
    "plt.legend\n",
    "plt.xlabel('Feed size')\n",
    "plt.ylabel('Frequency')\n",
    "None"
   ]
  },
  {
   "cell_type": "markdown",
   "metadata": {},
   "source": [
    "На графике невооруженным глазом видно, что распределение размеров гранул сырья совпадает у обоих выборок."
   ]
  },
  {
   "cell_type": "markdown",
   "metadata": {},
   "source": [
    "###  Cуммарная концентрация всех веществ на разных стадиях"
   ]
  },
  {
   "cell_type": "code",
   "execution_count": 28,
   "metadata": {},
   "outputs": [],
   "source": [
    "# # Сумма концентраций металлов после флотации\n",
    "# df_full['sum_concentrate_rougher'] = df_full['rougher.output.concentrate_ag'] + df_full['rougher.output.concentrate_pb'] + df_full['rougher.output.concentrate_sol'] + df_full['rougher.output.concentrate_au']\n",
    "\n",
    "# # Сумму концентраций металлов после первичной очистки\n",
    "# df_full['sum_primary_cleaner_output_concentrate'] = df_full['primary_cleaner.output.concentrate_ag'] + df_full['primary_cleaner.output.concentrate_pb'] + df_full['primary_cleaner.output.concentrate_sol'] + df_full['primary_cleaner.output.concentrate_au']\n",
    "\n",
    "# # Сумма концентраций металлов после финальной очистки\n",
    "# df_full['sum_final_output_concentrate'] = df_full['final.output.concentrate_ag'] + df_full['final.output.concentrate_pb'] + df_full['final.output.concentrate_sol'] + df_full['final.output.concentrate_au']\n",
    "# sum_concentrate = ['sum_concentrate_rougher', 'sum_primary_cleaner_output_concentrate', 'sum_final_output_concentrate']"
   ]
  },
  {
   "cell_type": "code",
   "execution_count": 29,
   "metadata": {},
   "outputs": [],
   "source": [
    "# plt.figure(figsize=(14,8))\n",
    "# sns.distplot(df_full[df_full['sum_concentrate_rougher']>0.04]['sum_concentrate_rougher'],bins=80,label='sum_concentrate_rougher')\n",
    "# sns.distplot(df_full[df_full['sum_primary_cleaner_output_concentrate']>0.04]['sum_primary_cleaner_output_concentrate'],bins=80,label='sum_primary_cleaner_output_concentrate')\n",
    "# sns.distplot(df_full[df_full['sum_final_output_concentrate']>0.04]['sum_final_output_concentrate'],bins=80,label='sum_final_output_concentrate')\n",
    "# plt.vlines(df_full[df_full['sum_concentrate_rougher']>0.3]['sum_concentrate_rougher'].mean(),0,0.07,color = 'r')\n",
    "# plt.vlines(df_full[df_full['sum_primary_cleaner_output_concentrate']>0.3]['sum_primary_cleaner_output_concentrate'].mean(),0,0.10,color = 'r')\n",
    "# plt.vlines(df_full[df_full['sum_final_output_concentrate']>0.3]['sum_final_output_concentrate'].mean(),0,0.17,color = 'r')\n",
    "# plt.legend()\n",
    "# plt.title('Sum concentrate of metal in rougher, primary clean and final state')\n",
    "# plt.xlabel(\"Sum concentrate of metal\")\n",
    "# plt.ylabel(\"Frequency\")\n",
    "# None"
   ]
  },
  {
   "cell_type": "markdown",
   "metadata": {},
   "source": [
    "Можно отметить присутствие данных с концентрацией от `0` до `40`. Они могут помешать обучению модели, поэтому считаю необходимым от них избавиться."
   ]
  },
  {
   "cell_type": "code",
   "execution_count": 30,
   "metadata": {
    "scrolled": true
   },
   "outputs": [],
   "source": [
    "# df_full = df_full[df_full['sum_final_output_concentrate']>40]\n",
    "# df_full = df_full[df_full['sum_primary_cleaner_output_concentrate']>40]\n",
    "# df_full = df_full[df_full['sum_concentrate_rougher']>40]\n",
    "# df_full.head()"
   ]
  },
  {
   "cell_type": "code",
   "execution_count": 31,
   "metadata": {
    "scrolled": true
   },
   "outputs": [],
   "source": [
    "# plt.figure(figsize=(14,8))\n",
    "# sns.distplot(df_full['sum_concentrate_rougher'],bins=80,label='sum_concentrate_rougher')\n",
    "# sns.distplot(df_full['sum_primary_cleaner_output_concentrate'],bins=80,label='sum_primary_cleaner_output_concentrate')\n",
    "# sns.distplot(df_full['sum_final_output_concentrate'],bins=80,label='sum_final_output_concentrate')\n",
    "# plt.vlines(df_full['sum_concentrate_rougher'].mean(),0,0.07,color = 'r')\n",
    "# plt.vlines(df_full['sum_primary_cleaner_output_concentrate'].mean(),0,0.10,color = 'r')\n",
    "# plt.vlines(df_full['sum_final_output_concentrate'].mean(),0,0.17,color = 'r')\n",
    "# plt.legend()\n",
    "# plt.title('Sum concentrate of metal in rougher, primary clean and final state')\n",
    "# plt.xlabel(\"Sum concentrate of metal\")\n",
    "# plt.ylabel(\"Frequency\")\n",
    "# None"
   ]
  },
  {
   "cell_type": "code",
   "execution_count": 32,
   "metadata": {},
   "outputs": [],
   "source": [
    "# plt.figure(figsize=(5,5))\n",
    "# sns.set(style=\"whitegrid\")\n",
    "# sns.boxplot(data=df_full['sum_concentrate_rougher'])\n",
    "# None"
   ]
  },
  {
   "cell_type": "code",
   "execution_count": 33,
   "metadata": {
    "scrolled": true
   },
   "outputs": [
    {
     "data": {
      "image/png": "[encoded data removed]",
      "text/plain": [
       "<Figure size 1080x648 with 1 Axes>"
      ]
     },
     "metadata": {},
     "output_type": "display_data"
    }
   ],
   "source": [
    "sum_concentrate_of_rougher_input = 0\n",
    "sum_concentrate_of_rougher_output = 0\n",
    "sum_concentrate_of_final_output = 0\n",
    "for metal in ['au', 'ag', 'pb', 'sol']:\n",
    "    sum_concentrate_of_rougher_input += df_full[f'rougher.input.feed_{metal}']\n",
    "    sum_concentrate_of_rougher_output += df_full[f'rougher.output.concentrate_{metal}']\n",
    "    sum_concentrate_of_final_output += df_full[f'final.output.concentrate_{metal}']\n",
    "    \n",
    "plt.figure(figsize=[15, 9])\n",
    "plt.suptitle('Суммарная концентрация на разных стадиях', fontsize=15)\n",
    "sns.set_style('whitegrid')\n",
    "sns.histplot(sum_concentrate_of_rougher_input, color='y', label='Сырье', kde=False)\n",
    "sns.histplot(sum_concentrate_of_rougher_output, color='b', label='Флотации', kde=False)\n",
    "sns.histplot(sum_concentrate_of_final_output, color='r', label='Финальная концетрация',kde=False)\n",
    "plt.xlabel('Концентрация металла')\n",
    "plt.ylabel('Количество наблюдений')\n",
    "plt.legend()\n",
    "plt.show();"
   ]
  },
  {
   "cell_type": "markdown",
   "metadata": {},
   "source": [
    "По графику видно - концентрация металла постепенно увеличивается по мере приближения к финальному этапу очистки. На самом же финальном этапе диапазон концентрации сужается."
   ]
  },
  {
   "cell_type": "code",
   "execution_count": 34,
   "metadata": {},
   "outputs": [],
   "source": [
    "df_train = df_train[(df_train['rougher.output.concentrate_au'] != 0) & (df_train['rougher.output.concentrate_ag'] != 0) & (df_train['rougher.output.concentrate_pb'] != 0) & (df_train['rougher.output.concentrate_sol'] != 0)]\n",
    "df_train = df_train[(df_train['final.output.concentrate_au'] != 0) & (df_train['final.output.concentrate_ag'] != 0) & (df_train['final.output.concentrate_pb'] != 0) & (df_train['final.output.concentrate_sol'] != 0)]\n",
    "df_train = df_train[(df_train['primary_cleaner.output.concentrate_au'] != 0) & (df_train['primary_cleaner.output.concentrate_ag'] != 0) & (df_train['primary_cleaner.output.concentrate_pb'] != 0) & (df_train['primary_cleaner.output.concentrate_sol'] != 0)]\n",
    "\n",
    "df_train = df_train.reset_index()"
   ]
  },
  {
   "cell_type": "markdown",
   "metadata": {},
   "source": [
    "## Модель"
   ]
  },
  {
   "attachments": {
    "image.png": {
     "image/png": "[encoded data removed]"
    }
   },
   "cell_type": "markdown",
   "metadata": {},
   "source": [
    "![image.png](attachment:image.png)"
   ]
  },
  {
   "cell_type": "code",
   "execution_count": 35,
   "metadata": {},
   "outputs": [],
   "source": [
    "# Функция метрики качества\n",
    "def sMAPE(predict, target):\n",
    "    predict_rougher = predict[:,0]\n",
    "    target__rougher = target[:,0]\n",
    "    predict_final = predict[:,1]\n",
    "    target__final = target[:,1]\n",
    "    \n",
    "    sMAPE_rougher = np.sum(abs(target__rougher-predict_rougher) / ((abs(target__rougher) + abs(predict_rougher)) / 2))\n",
    "    \n",
    "\n",
    "    sMAPE_rougher = sMAPE_rougher / len(target__rougher) * 100\n",
    "    \n",
    "   \n",
    "    sMAPE_final = np.sum(abs(target__final-predict_final) / ((abs(target__final) + abs(predict_final)) / 2))\n",
    "    sMAPE_final = sMAPE_final / len(target__final) * 100\n",
    "    \n",
    "    sMAP = 0.25 * sMAPE_rougher + 0.75 * sMAPE_final\n",
    "    return sMAP"
   ]
  },
  {
   "cell_type": "code",
   "execution_count": 36,
   "metadata": {},
   "outputs": [],
   "source": [
    "columns = df_test.columns # Берем столбцы тестовой выборки\n",
    "feature = df_train[columns] # Формируем признаки из train только с теми столбцами, которые есть у нас в test\n",
    "feature = feature.drop(['date'], axis=1) # Убираем дату\n",
    "target = df_train[['rougher.output.recovery', 'final.output.recovery']] # Формируем вектор целевых признаков\n",
    "target_array=np.array(target)"
   ]
  },
  {
   "cell_type": "code",
   "execution_count": 37,
   "metadata": {},
   "outputs": [],
   "source": [
    "sample_size = int(len(target)/6) # Длина для кроссвалидации"
   ]
  },
  {
   "cell_type": "code",
   "execution_count": 38,
   "metadata": {},
   "outputs": [
    {
     "name": "stdout",
     "output_type": "stream",
     "text": [
      "6.181765059268664\n",
      "9.808510898117923\n"
     ]
    }
   ],
   "source": [
    "# Линейная регрессия\n",
    "# Кросс-валидация\n",
    "\n",
    "mae_score=[]\n",
    "smape_score=[]\n",
    "\n",
    "for i in range(0, len(target), sample_size):\n",
    "    valid_index = feature.iloc[i:i+sample_size].index\n",
    "    \n",
    "    train_index = feature.query('index not in @valid_index').index\n",
    "    \n",
    "    target_valid = target.iloc[valid_index]\n",
    "   \n",
    "    feature_valid = feature.iloc[valid_index]\n",
    "    \n",
    "    target_train = target.iloc[train_index]\n",
    "    feature_train = feature.iloc[train_index]\n",
    "    \n",
    "    target_valid_arr = np.array(target_valid)\n",
    "    \n",
    "    model_regression = LinearRegression().fit(feature_train,target_train)\n",
    "    prediction_regress = model_regression.predict(feature_valid)   \n",
    "    \n",
    "    mae = mean_absolute_error(prediction_regress,target_valid)\n",
    "    mae_score.append(mae)\n",
    "    smape = sMAPE(prediction_regress,target_valid_arr)\n",
    "    smape_score.append(smape)\n",
    "    \n",
    "print(np.mean(mae_score))\n",
    "print(np.mean(smape_score))"
   ]
  },
  {
   "cell_type": "code",
   "execution_count": 39,
   "metadata": {},
   "outputs": [
    {
     "name": "stdout",
     "output_type": "stream",
     "text": [
      "max_depth: 1 MAE: 5.990691879181171\n",
      "max_depth: 1 sMAPE: 9.25105715483048\n",
      "max_depth: 2 MAE: 6.089942883272894\n",
      "max_depth: 2 sMAPE: 9.340648041543055\n",
      "max_depth: 3 MAE: 6.280179319289974\n",
      "max_depth: 3 sMAPE: 9.73272037679361\n",
      "max_depth: 4 MAE: 6.390616282178623\n",
      "max_depth: 4 sMAPE: 9.997753999341557\n",
      "max_depth: 1 MAE: 6.414448101565685\n",
      "max_depth: 1 sMAPE: 9.771941688600467\n",
      "max_depth: 2 MAE: 6.349991145098909\n",
      "max_depth: 2 sMAPE: 9.527822490331205\n",
      "max_depth: 3 MAE: 6.256111189263796\n",
      "max_depth: 3 sMAPE: 9.325276878215254\n",
      "max_depth: 4 MAE: 6.151791409122856\n",
      "max_depth: 4 sMAPE: 9.180278814132546\n",
      "max_depth: 1 MAE: 5.998058206666351\n",
      "max_depth: 1 sMAPE: 8.911927248055111\n",
      "max_depth: 2 MAE: 5.845946598322953\n",
      "max_depth: 2 sMAPE: 8.677234558035956\n",
      "max_depth: 3 MAE: 5.745825804279982\n",
      "max_depth: 3 sMAPE: 8.525212068458186\n",
      "max_depth: 4 MAE: 5.700996437952479\n",
      "max_depth: 4 sMAPE: 8.441374753499707\n",
      "max_depth: 1 MAE: 5.73769783009706\n",
      "max_depth: 1 sMAPE: 8.615960252259487\n",
      "max_depth: 2 MAE: 5.750825473931191\n",
      "max_depth: 2 sMAPE: 8.727720256183426\n",
      "max_depth: 3 MAE: 5.729410814679223\n",
      "max_depth: 3 sMAPE: 8.778933785113498\n",
      "max_depth: 4 MAE: 5.7027539705381445\n",
      "max_depth: 4 sMAPE: 8.821103882058008\n",
      "max_depth: 1 MAE: 5.75588610251044\n",
      "max_depth: 1 sMAPE: 8.843375406745539\n",
      "max_depth: 2 MAE: 5.8173626487126775\n",
      "max_depth: 2 sMAPE: 8.879337268843447\n",
      "max_depth: 3 MAE: 5.864632069842127\n",
      "max_depth: 3 sMAPE: 8.89530766273425\n",
      "max_depth: 4 MAE: 5.886598475225485\n",
      "max_depth: 4 sMAPE: 8.88957790815024\n",
      "max_depth: 1 MAE: 5.957117425870189\n",
      "max_depth: 1 sMAPE: 8.981457490955249\n",
      "max_depth: 2 MAE: 6.009532051841917\n",
      "max_depth: 2 sMAPE: 9.045764261816355\n",
      "max_depth: 3 MAE: 6.030748669872946\n",
      "max_depth: 3 sMAPE: 9.077860625040802\n",
      "max_depth: 4 MAE: 6.045544910320973\n",
      "max_depth: 4 sMAPE: 9.109048912633254\n",
      "CPU times: user 23 s, sys: 109 ms, total: 23.1 s\n",
      "Wall time: 23.2 s\n"
     ]
    }
   ],
   "source": [
    "%%time\n",
    "# Случайный лес\n",
    "# Кросс-валидация\n",
    "\n",
    "mae_score=[]\n",
    "smape_score=[]\n",
    "for i in range(0, len(target), sample_size):\n",
    "    \n",
    "    valid_index = feature.iloc[i:i+sample_size].index\n",
    "    \n",
    "    train_index = feature.query('index not in @valid_index').index\n",
    "    \n",
    "    target_valid = target.iloc[valid_index]\n",
    "    feature_valid = feature.iloc[valid_index]\n",
    "    \n",
    "    target_train = target.iloc[train_index]\n",
    "    feature_train = feature.iloc[train_index]\n",
    "    \n",
    "    target_valid_arr = np.array(target_valid)\n",
    "    for i in range(1,5,1):\n",
    "        \n",
    "        model_forest = RandomForestRegressor(random_state=1234,max_depth=i,n_estimators=10).fit(feature_train,target_train)\n",
    "        prediction_forest = model_forest.predict(feature_valid)\n",
    "        mae = mean_absolute_error(prediction_forest,target_valid)\n",
    "        mae_score.append(mae)\n",
    "        smape = sMAPE(prediction_forest,target_valid_arr)\n",
    "        smape_score.append(smape)\n",
    "        \n",
    "        print('max_depth:', i, 'MAE:', np.mean(mae_score))\n",
    "        print('max_depth:', i, 'sMAPE:', np.mean(smape_score))"
   ]
  },
  {
   "cell_type": "code",
   "execution_count": 40,
   "metadata": {
    "scrolled": true
   },
   "outputs": [
    {
     "name": "stdout",
     "output_type": "stream",
     "text": [
      "MAE: 6.003615068344488\n",
      "sMAPE: 9.103191019485912\n",
      "CPU times: user 3.47 s, sys: 490 µs, total: 3.47 s\n",
      "Wall time: 3.48 s\n"
     ]
    }
   ],
   "source": [
    "%%time\n",
    "# Случайный лес при параметрах:\n",
    "# max_depth = 3\n",
    "# n_estimators = 5\n",
    "\n",
    "\n",
    "mae_score=[]\n",
    "smape_score=[]\n",
    "for i in range(0,len(target),sample_size):\n",
    "    \n",
    "    valid_index=feature.iloc[i:i+sample_size].index\n",
    "    \n",
    "    train_index=feature.query('index not in @valid_index').index\n",
    "    \n",
    "    target_valid=target.iloc[valid_index]\n",
    "    feature_valid=feature.iloc[valid_index]\n",
    "    \n",
    "    target_train=target.iloc[train_index]\n",
    "    feature_train=feature.iloc[train_index]\n",
    "    \n",
    "    target_valid_arr=np.array(target_valid)\n",
    "    \n",
    "        \n",
    "    model_forest=RandomForestRegressor(random_state=1234,max_depth=3,n_estimators=5).fit(feature_train,target_train)\n",
    "    prediction_forest=model_forest.predict(feature_valid)\n",
    "    mae=mean_absolute_error(prediction_forest,target_valid)\n",
    "    mae_score.append(mae)\n",
    "    smape=sMAPE(prediction_forest,target_valid_arr)\n",
    "    smape_score.append(smape)\n",
    "        \n",
    "print('MAE:',np.mean(mae_score))\n",
    "print('sMAPE:',np.mean(smape_score))"
   ]
  },
  {
   "cell_type": "code",
   "execution_count": 41,
   "metadata": {},
   "outputs": [
    {
     "name": "stdout",
     "output_type": "stream",
     "text": [
      "10.301917235510857\n",
      "CPU times: user 29.9 s, sys: 1.01 s, total: 31 s\n",
      "Wall time: 31.1 s\n"
     ]
    }
   ],
   "source": [
    "%%time\n",
    "# Linear Support Vector Classification - всётаки Regression )\n",
    "\n",
    "mae_score=[]\n",
    "smape_score=[]\n",
    "for i in range(0,len(target),sample_size):\n",
    "    valid_index=feature.iloc[i:i+sample_size].index\n",
    "    \n",
    "    train_index=feature.query('index not in @valid_index').index\n",
    "    \n",
    "    target_valid=target.iloc[valid_index]\n",
    "    feature_valid=feature.iloc[valid_index]\n",
    "    \n",
    "    target_train=target.iloc[train_index]\n",
    "    feature_train=feature.iloc[train_index]\n",
    "    \n",
    "    target_valid_arr=np.array(target_valid)\n",
    "    \n",
    "    target_train_1=target_train.iloc[:,0]\n",
    "    target_train_2=target_train.iloc[:,1]\n",
    "    \n",
    "    model_regressionSVR_1=LinearSVR(C=1.0, dual=True, epsilon=0.0, fit_intercept=True,\n",
    "    intercept_scaling=1.0, loss='epsilon_insensitive', max_iter=1000,\n",
    "    random_state=0, tol=1e-05, verbose=0).fit(feature_train,target_train_1)\n",
    "    prediction_regressSVR_rouger=model_regressionSVR_1.predict(feature_valid)   \n",
    "    \n",
    "    model_regressionSVR_2=LinearSVR(C=1.0, dual=True, epsilon=0.0, fit_intercept=True,\n",
    "    intercept_scaling=1.0, loss='epsilon_insensitive', max_iter=1000,\n",
    "    random_state=0, tol=1e-05, verbose=0).fit(feature_train,target_train_2)\n",
    "    prediction_regressSVR_final=model_regressionSVR_2.predict(feature_valid)   \n",
    "    \n",
    "    prediction_regressSVR=pd.DataFrame(prediction_regressSVR_rouger)\n",
    "    prediction_regressSVR['final.output.recovery']=pd.DataFrame(prediction_regressSVR_final)\n",
    "    prediction_regressSVR.set_axis(['rougher.output.recovery','final.output.recovery'],axis='columns',inplace=True)\n",
    "    prediction_regressSVR=np.array(prediction_regressSVR)\n",
    "    smape=sMAPE(prediction_regressSVR,target_valid_arr)\n",
    "    smape_score.append(smape)\n",
    "    \n",
    "print(np.mean(smape_score))"
   ]
  },
  {
   "cell_type": "markdown",
   "metadata": {},
   "source": [
    "### Проверка на тестовом наборе данных"
   ]
  },
  {
   "cell_type": "code",
   "execution_count": 42,
   "metadata": {},
   "outputs": [],
   "source": [
    "# df_test.info()"
   ]
  },
  {
   "cell_type": "code",
   "execution_count": 43,
   "metadata": {},
   "outputs": [
    {
     "data": {
      "text/plain": [
       "(5229, 2)"
      ]
     },
     "metadata": {},
     "output_type": "display_data"
    },
    {
     "data": {
      "text/plain": [
       "(5229, 52)"
      ]
     },
     "metadata": {},
     "output_type": "display_data"
    }
   ],
   "source": [
    "target = df_full[['date','rougher.output.recovery', 'final.output.recovery']]\n",
    "test = df_test.merge(target, on=['date'], how='left')\n",
    "test = test.dropna()\n",
    "\n",
    "target = test[['rougher.output.recovery', 'final.output.recovery']]\n",
    "feature = test.drop(['date', 'rougher.output.recovery', 'final.output.recovery'], axis=1)\n",
    "\n",
    "display(target.shape)\n",
    "display(feature.shape)"
   ]
  },
  {
   "cell_type": "code",
   "execution_count": 44,
   "metadata": {},
   "outputs": [
    {
     "data": {
      "text/plain": [
       "9.093132609451562"
      ]
     },
     "execution_count": 44,
     "metadata": {},
     "output_type": "execute_result"
    }
   ],
   "source": [
    "prediction_reg = model_regression.predict(feature)\n",
    "\n",
    "smape_line = sMAPE(prediction_reg, np.array(target))\n",
    "smape_line"
   ]
  },
  {
   "cell_type": "code",
   "execution_count": 45,
   "metadata": {},
   "outputs": [
    {
     "data": {
      "text/plain": [
       "8.611892825612502"
      ]
     },
     "execution_count": 45,
     "metadata": {},
     "output_type": "execute_result"
    }
   ],
   "source": [
    "prediction_forest = model_forest.predict(feature)\n",
    "\n",
    "smape_forest = sMAPE(prediction_forest,np.array(target))\n",
    "smape_forest"
   ]
  },
  {
   "cell_type": "code",
   "execution_count": 46,
   "metadata": {},
   "outputs": [],
   "source": [
    "prediction_regressSVR_rouger = model_regressionSVR_1.predict(feature) \n",
    "prediction_regressSVR_final = model_regressionSVR_2.predict(feature) \n",
    "\n",
    "prediction_regressSVR=pd.DataFrame(prediction_regressSVR_rouger)\n",
    "prediction_regressSVR['final.output.recovery']=pd.DataFrame(prediction_regressSVR_final)\n",
    "prediction_regressSVR.set_axis(['rougher.output.recovery','final.output.recovery'],axis='columns',inplace=True)\n",
    "prediction_regressSVR=np.array(prediction_regressSVR)"
   ]
  },
  {
   "cell_type": "code",
   "execution_count": 47,
   "metadata": {
    "scrolled": true
   },
   "outputs": [
    {
     "data": {
      "text/plain": [
       "11.406364802647522"
      ]
     },
     "execution_count": 47,
     "metadata": {},
     "output_type": "execute_result"
    }
   ],
   "source": [
    "smape_line_svr=sMAPE(prediction_regressSVR,np.array(target))\n",
    "smape_line_svr"
   ]
  },
  {
   "cell_type": "markdown",
   "metadata": {},
   "source": [
    "### Проверка модели на адекватность"
   ]
  },
  {
   "cell_type": "code",
   "execution_count": 48,
   "metadata": {},
   "outputs": [
    {
     "data": {
      "text/plain": [
       "9.4051251334699"
      ]
     },
     "execution_count": 48,
     "metadata": {},
     "output_type": "execute_result"
    }
   ],
   "source": [
    "target_train = df_train[['rougher.output.recovery', 'final.output.recovery']]\n",
    "features_train = df_train.drop(['date', 'rougher.output.recovery', 'final.output.recovery'], axis=1)\n",
    "\n",
    "dummy_model = DummyRegressor(strategy= 'mean')\n",
    "dummy_model.fit(features_train, target_train)\n",
    "prediction_dummy = dummy_model.predict(feature)\n",
    "\n",
    "smape_dummy = sMAPE(prediction_dummy, np.array(target))\n",
    "smape_dummy"
   ]
  },
  {
   "cell_type": "markdown",
   "metadata": {},
   "source": [
    "Наша константная модель показала значение sMAPE сильно выше, чем у лучшей модели - случайного леса, что показывает хорошее качество RandomForest."
   ]
  },
  {
   "cell_type": "markdown",
   "metadata": {},
   "source": [
    "## Общий вывод"
   ]
  },
  {
   "cell_type": "markdown",
   "metadata": {},
   "source": [
    "В данном проекте мы провели небольшой анализ данных, убедившись в том, что они корректны и подходят под наше исследование. На их основе выполнили:\n",
    "* Исследование концентрации металлов на различных этапах обработки;\n",
    "* Исследование суммарных концентраций;\n",
    "* Сравнение распределения размеров гранул сырья;\n",
    "* Построили модели для, предсказывающие коэффициент восстановления золота из золотосодержащей руды.\n",
    "\n",
    "В ходе выполнения проекта было выяснено:\n",
    "* Концентрация золота по мере прохождения очистки растет вплоть до `~44%`;\n",
    "* Концентрация аллюминия ведет себя примерно похожим образом, но после первичной очистки практически не изменяется;\n",
    "* Концентрация AG и SOL после финальной очистки начинает уменьшаться.\n",
    "\n",
    "Модели имеют sMAPE на тестовом наборе данных:\n",
    "* LinearRegression - `9.8`;\n",
    "* RandomForest - `9.1`;\n",
    "* LinearSVR - `10.3`."
   ]
  },
  {
   "cell_type": "code",
   "execution_count": 49,
   "metadata": {
    "scrolled": true
   },
   "outputs": [],
   "source": [
    "models = ['LinearRegression', 'RandomForestRegressor', 'LinearSVR']\n",
    "\n",
    "sMAPE_rezult = pd.DataFrame(np.array([smape_line, smape_forest,smape_line_svr]), index=models)\n",
    "sMAPE_rezult.set_axis(['sMAPE'], axis='columns', inplace=True)"
   ]
  },
  {
   "cell_type": "code",
   "execution_count": 50,
   "metadata": {},
   "outputs": [
    {
     "data": {
      "text/plain": [
       "'На тестовом наборе данных модели показали себя:'"
      ]
     },
     "metadata": {},
     "output_type": "display_data"
    },
    {
     "data": {
      "text/html": [
       "<div>\n",
       "<style scoped>\n",
       "    .dataframe tbody tr th:only-of-type {\n",
       "        vertical-align: middle;\n",
       "    }\n",
       "\n",
       "    .dataframe tbody tr th {\n",
       "        vertical-align: top;\n",
       "    }\n",
       "\n",
       "    .dataframe thead th {\n",
       "        text-align: right;\n",
       "    }\n",
       "</style>\n",
       "<table border=\"1\" class=\"dataframe\">\n",
       "  <thead>\n",
       "    <tr style=\"text-align: right;\">\n",
       "      <th></th>\n",
       "      <th>sMAPE</th>\n",
       "    </tr>\n",
       "  </thead>\n",
       "  <tbody>\n",
       "    <tr>\n",
       "      <th>LinearRegression</th>\n",
       "      <td>9.093133</td>\n",
       "    </tr>\n",
       "    <tr>\n",
       "      <th>RandomForestRegressor</th>\n",
       "      <td>8.611893</td>\n",
       "    </tr>\n",
       "    <tr>\n",
       "      <th>LinearSVR</th>\n",
       "      <td>11.406365</td>\n",
       "    </tr>\n",
       "  </tbody>\n",
       "</table>\n",
       "</div>"
      ],
      "text/plain": [
       "                           sMAPE\n",
       "LinearRegression        9.093133\n",
       "RandomForestRegressor   8.611893\n",
       "LinearSVR              11.406365"
      ]
     },
     "metadata": {},
     "output_type": "display_data"
    }
   ],
   "source": [
    "display('На тестовом наборе данных модели показали себя:', sMAPE_rezult)"
   ]
  },
  {
   "cell_type": "markdown",
   "metadata": {},
   "source": [
    "По данным из сводной таблицы можно сделать вывод - лучше всего себя показала модель случайного леса с показателями sMAPE `6.71`, опережающие показатели константной модели, имеющей sMAPE `9.87`"
   ]
  }
 ],
 "metadata": {
  "ExecuteTimeLog": [
   {
    "duration": 82,
    "start_time": "2022-09-12T03:23:45.767Z"
   },
   {
    "duration": 1508,
    "start_time": "2022-09-12T03:24:36.256Z"
   },
   {
    "duration": 128,
    "start_time": "2022-09-12T03:26:45.354Z"
   },
   {
    "duration": 37,
    "start_time": "2022-09-12T03:27:10.779Z"
   },
   {
    "duration": 34,
    "start_time": "2022-09-12T03:27:58.230Z"
   },
   {
    "duration": 36,
    "start_time": "2022-09-12T03:29:44.641Z"
   },
   {
    "duration": 34,
    "start_time": "2022-09-12T03:30:14.325Z"
   },
   {
    "duration": 2951,
    "start_time": "2022-09-12T03:31:28.094Z"
   },
   {
    "duration": 22,
    "start_time": "2022-09-12T03:31:31.046Z"
   },
   {
    "duration": 17,
    "start_time": "2022-09-12T03:31:35.915Z"
   },
   {
    "duration": 1341,
    "start_time": "2022-09-12T03:32:00.302Z"
   },
   {
    "duration": 738,
    "start_time": "2022-09-12T03:32:01.645Z"
   },
   {
    "duration": 20,
    "start_time": "2022-09-12T03:32:02.385Z"
   },
   {
    "duration": 746,
    "start_time": "2022-09-12T03:32:35.822Z"
   },
   {
    "duration": 17,
    "start_time": "2022-09-12T03:32:36.570Z"
   },
   {
    "duration": 16,
    "start_time": "2022-09-12T03:33:14.533Z"
   },
   {
    "duration": 14,
    "start_time": "2022-09-12T03:33:14.722Z"
   },
   {
    "duration": 71,
    "start_time": "2022-09-12T03:38:28.819Z"
   },
   {
    "duration": 244,
    "start_time": "2022-09-12T03:38:49.496Z"
   },
   {
    "duration": 325,
    "start_time": "2022-09-12T03:39:04.259Z"
   },
   {
    "duration": 100,
    "start_time": "2022-09-12T03:41:08.305Z"
   },
   {
    "duration": 84,
    "start_time": "2022-09-12T03:41:14.522Z"
   },
   {
    "duration": 184,
    "start_time": "2022-09-12T03:42:05.537Z"
   },
   {
    "duration": 89,
    "start_time": "2022-09-12T03:42:10.059Z"
   },
   {
    "duration": 90,
    "start_time": "2022-09-12T03:42:15.529Z"
   },
   {
    "duration": 1435,
    "start_time": "2022-09-12T03:49:08.118Z"
   },
   {
    "duration": 733,
    "start_time": "2022-09-12T03:49:09.555Z"
   },
   {
    "duration": 19,
    "start_time": "2022-09-12T03:49:10.290Z"
   },
   {
    "duration": 16,
    "start_time": "2022-09-12T03:49:10.311Z"
   },
   {
    "duration": 15,
    "start_time": "2022-09-12T03:49:10.346Z"
   },
   {
    "duration": 101,
    "start_time": "2022-09-12T03:49:10.363Z"
   },
   {
    "duration": 361,
    "start_time": "2022-09-12T03:49:10.466Z"
   },
   {
    "duration": 27,
    "start_time": "2022-09-12T03:50:04.399Z"
   },
   {
    "duration": 11,
    "start_time": "2022-09-12T03:50:59.719Z"
   },
   {
    "duration": 11,
    "start_time": "2022-09-12T03:51:01.939Z"
   },
   {
    "duration": 12,
    "start_time": "2022-09-12T03:51:50.594Z"
   },
   {
    "duration": 3,
    "start_time": "2022-09-12T03:53:50.931Z"
   },
   {
    "duration": 107,
    "start_time": "2022-09-12T03:54:09.515Z"
   },
   {
    "duration": 13,
    "start_time": "2022-09-12T03:54:24.176Z"
   },
   {
    "duration": 4,
    "start_time": "2022-09-12T03:54:24.510Z"
   },
   {
    "duration": 10,
    "start_time": "2022-09-12T03:54:24.748Z"
   },
   {
    "duration": 7,
    "start_time": "2022-09-12T03:54:58.317Z"
   },
   {
    "duration": 5,
    "start_time": "2022-09-12T03:55:05.095Z"
   },
   {
    "duration": 6,
    "start_time": "2022-09-12T03:57:25.062Z"
   },
   {
    "duration": 11,
    "start_time": "2022-09-12T03:57:50.017Z"
   },
   {
    "duration": 7,
    "start_time": "2022-09-12T03:59:25.151Z"
   },
   {
    "duration": 7,
    "start_time": "2022-09-12T03:59:33.483Z"
   },
   {
    "duration": 12,
    "start_time": "2022-09-12T04:00:37.044Z"
   },
   {
    "duration": 15,
    "start_time": "2022-09-12T04:00:53.479Z"
   },
   {
    "duration": 7,
    "start_time": "2022-09-12T04:01:15.779Z"
   },
   {
    "duration": 10,
    "start_time": "2022-09-12T04:04:11.085Z"
   },
   {
    "duration": 2,
    "start_time": "2022-09-12T04:04:23.174Z"
   },
   {
    "duration": 6,
    "start_time": "2022-09-12T04:04:53.322Z"
   },
   {
    "duration": 6,
    "start_time": "2022-09-12T04:04:56.598Z"
   },
   {
    "duration": 6,
    "start_time": "2022-09-12T04:05:02.793Z"
   },
   {
    "duration": 5,
    "start_time": "2022-09-12T04:05:33.283Z"
   },
   {
    "duration": 7,
    "start_time": "2022-09-12T04:05:38.499Z"
   },
   {
    "duration": 6,
    "start_time": "2022-09-12T04:05:59.146Z"
   },
   {
    "duration": 9,
    "start_time": "2022-09-12T04:06:05.532Z"
   },
   {
    "duration": 7,
    "start_time": "2022-09-12T04:06:41.509Z"
   },
   {
    "duration": 11,
    "start_time": "2022-09-12T04:06:49.209Z"
   },
   {
    "duration": 45,
    "start_time": "2022-09-12T04:09:07.343Z"
   },
   {
    "duration": 10,
    "start_time": "2022-09-12T04:10:15.525Z"
   },
   {
    "duration": 25,
    "start_time": "2022-09-12T04:10:30.243Z"
   },
   {
    "duration": 19,
    "start_time": "2022-09-12T04:10:40.971Z"
   },
   {
    "duration": 19,
    "start_time": "2022-09-12T04:10:49.460Z"
   },
   {
    "duration": 20,
    "start_time": "2022-09-12T04:14:46.477Z"
   },
   {
    "duration": 19,
    "start_time": "2022-09-12T04:15:17.597Z"
   },
   {
    "duration": 17,
    "start_time": "2022-09-12T04:16:22.732Z"
   },
   {
    "duration": 12,
    "start_time": "2022-09-12T04:16:37.648Z"
   },
   {
    "duration": 10,
    "start_time": "2022-09-12T04:19:34.564Z"
   },
   {
    "duration": 8,
    "start_time": "2022-09-12T04:20:04.919Z"
   },
   {
    "duration": 194,
    "start_time": "2022-09-12T04:20:19.415Z"
   },
   {
    "duration": 169,
    "start_time": "2022-09-12T04:20:42.672Z"
   },
   {
    "duration": 183,
    "start_time": "2022-09-12T04:22:35.467Z"
   },
   {
    "duration": 10,
    "start_time": "2022-09-12T04:22:37.664Z"
   },
   {
    "duration": 246,
    "start_time": "2022-09-12T04:22:38.243Z"
   },
   {
    "duration": 119,
    "start_time": "2022-09-12T04:22:59.847Z"
   },
   {
    "duration": 179,
    "start_time": "2022-09-12T04:23:05.672Z"
   },
   {
    "duration": 9,
    "start_time": "2022-09-12T04:23:23.910Z"
   },
   {
    "duration": 168,
    "start_time": "2022-09-12T04:23:25.186Z"
   },
   {
    "duration": 43,
    "start_time": "2022-09-12T04:24:07.069Z"
   },
   {
    "duration": 203,
    "start_time": "2022-09-12T04:24:10.219Z"
   },
   {
    "duration": 199,
    "start_time": "2022-09-12T04:24:36.138Z"
   },
   {
    "duration": 16,
    "start_time": "2022-09-12T04:26:56.709Z"
   },
   {
    "duration": 1419,
    "start_time": "2022-09-12T04:27:47.855Z"
   },
   {
    "duration": 60,
    "start_time": "2022-09-12T04:28:17.995Z"
   },
   {
    "duration": 16,
    "start_time": "2022-09-12T04:30:00.354Z"
   },
   {
    "duration": 1553,
    "start_time": "2022-09-12T04:30:06.632Z"
   },
   {
    "duration": 1509,
    "start_time": "2022-09-12T04:30:08.540Z"
   },
   {
    "duration": 1526,
    "start_time": "2022-09-12T04:31:02.142Z"
   },
   {
    "duration": 1401,
    "start_time": "2022-09-12T04:31:20.641Z"
   },
   {
    "duration": 1654,
    "start_time": "2022-09-12T04:36:06.709Z"
   },
   {
    "duration": 1536,
    "start_time": "2022-09-12T04:36:19.840Z"
   },
   {
    "duration": 11,
    "start_time": "2022-09-12T04:39:30.457Z"
   },
   {
    "duration": 579,
    "start_time": "2022-09-12T04:40:07.070Z"
   },
   {
    "duration": 615,
    "start_time": "2022-09-12T04:40:10.286Z"
   },
   {
    "duration": 8,
    "start_time": "2022-09-12T04:53:06.785Z"
   },
   {
    "duration": 18,
    "start_time": "2022-09-12T04:53:16.461Z"
   },
   {
    "duration": 1495,
    "start_time": "2022-09-12T04:53:42.758Z"
   },
   {
    "duration": 1394,
    "start_time": "2022-09-12T04:53:47.873Z"
   },
   {
    "duration": 32,
    "start_time": "2022-09-12T04:55:51.050Z"
   },
   {
    "duration": 1344,
    "start_time": "2022-09-12T04:56:28.314Z"
   },
   {
    "duration": 1463,
    "start_time": "2022-09-12T04:56:34.783Z"
   },
   {
    "duration": 92,
    "start_time": "2022-09-12T04:58:51.112Z"
   },
   {
    "duration": 87,
    "start_time": "2022-09-12T04:58:59.516Z"
   },
   {
    "duration": 85,
    "start_time": "2022-09-12T04:59:03.028Z"
   },
   {
    "duration": 96,
    "start_time": "2022-09-12T04:59:10.943Z"
   },
   {
    "duration": 94,
    "start_time": "2022-09-12T04:59:17.737Z"
   },
   {
    "duration": 88,
    "start_time": "2022-09-12T04:59:30.219Z"
   },
   {
    "duration": 99,
    "start_time": "2022-09-12T04:59:33.247Z"
   },
   {
    "duration": 5,
    "start_time": "2022-09-12T05:02:05.947Z"
   },
   {
    "duration": 13,
    "start_time": "2022-09-12T05:04:16.381Z"
   },
   {
    "duration": 8,
    "start_time": "2022-09-12T05:04:52.017Z"
   },
   {
    "duration": 11,
    "start_time": "2022-09-12T05:05:09.045Z"
   },
   {
    "duration": 8,
    "start_time": "2022-09-12T05:05:11.327Z"
   },
   {
    "duration": 12,
    "start_time": "2022-09-12T05:07:18.701Z"
   },
   {
    "duration": 3,
    "start_time": "2022-09-12T05:07:25.156Z"
   },
   {
    "duration": 1549,
    "start_time": "2022-09-12T05:07:25.399Z"
   },
   {
    "duration": 1514,
    "start_time": "2022-09-12T05:07:57.640Z"
   },
   {
    "duration": 29103,
    "start_time": "2022-09-12T05:09:19.397Z"
   },
   {
    "duration": 4431,
    "start_time": "2022-09-12T05:11:11.505Z"
   },
   {
    "duration": 4336,
    "start_time": "2022-09-12T05:11:26.950Z"
   },
   {
    "duration": 29585,
    "start_time": "2022-09-12T05:11:43.323Z"
   },
   {
    "duration": 4,
    "start_time": "2022-09-12T05:15:32.326Z"
   },
   {
    "duration": 41294,
    "start_time": "2022-09-12T05:15:37.361Z"
   },
   {
    "duration": 15,
    "start_time": "2022-09-12T05:17:59.589Z"
   },
   {
    "duration": 24,
    "start_time": "2022-09-12T05:18:13.573Z"
   },
   {
    "duration": 11,
    "start_time": "2022-09-12T05:18:59.702Z"
   },
   {
    "duration": 16,
    "start_time": "2022-09-12T05:19:05.583Z"
   },
   {
    "duration": 23,
    "start_time": "2022-09-12T05:19:11.427Z"
   },
   {
    "duration": 29,
    "start_time": "2022-09-12T05:21:12.090Z"
   },
   {
    "duration": 24,
    "start_time": "2022-09-12T05:22:05.355Z"
   },
   {
    "duration": 19,
    "start_time": "2022-09-12T05:22:35.654Z"
   },
   {
    "duration": 12,
    "start_time": "2022-09-12T05:23:05.438Z"
   },
   {
    "duration": 13,
    "start_time": "2022-09-12T05:23:09.728Z"
   },
   {
    "duration": 27,
    "start_time": "2022-09-12T05:24:43.123Z"
   },
   {
    "duration": 3,
    "start_time": "2022-09-12T05:26:36.153Z"
   },
   {
    "duration": 3,
    "start_time": "2022-09-12T05:26:46.427Z"
   },
   {
    "duration": 23,
    "start_time": "2022-09-12T05:38:31.951Z"
   },
   {
    "duration": 107,
    "start_time": "2022-09-12T05:38:42.709Z"
   },
   {
    "duration": 24,
    "start_time": "2022-09-12T05:38:45.790Z"
   },
   {
    "duration": 49,
    "start_time": "2022-09-12T05:38:50.336Z"
   },
   {
    "duration": 23,
    "start_time": "2022-09-12T05:38:53.216Z"
   },
   {
    "duration": 18,
    "start_time": "2022-09-12T05:38:57.856Z"
   },
   {
    "duration": 32,
    "start_time": "2022-09-12T05:39:03.837Z"
   },
   {
    "duration": 27,
    "start_time": "2022-09-12T05:41:27.182Z"
   },
   {
    "duration": 27,
    "start_time": "2022-09-12T05:42:17.223Z"
   },
   {
    "duration": 3,
    "start_time": "2022-09-12T05:42:59.222Z"
   },
   {
    "duration": 24,
    "start_time": "2022-09-12T05:43:00.562Z"
   },
   {
    "duration": 3,
    "start_time": "2022-09-12T05:43:17.398Z"
   },
   {
    "duration": 27,
    "start_time": "2022-09-12T05:43:19.036Z"
   },
   {
    "duration": 29,
    "start_time": "2022-09-12T05:44:22.341Z"
   },
   {
    "duration": 56,
    "start_time": "2022-09-12T05:50:59.879Z"
   },
   {
    "duration": 4,
    "start_time": "2022-09-12T05:51:52.886Z"
   },
   {
    "duration": 70,
    "start_time": "2022-09-12T05:52:03.456Z"
   },
   {
    "duration": 56,
    "start_time": "2022-09-12T05:52:29.299Z"
   },
   {
    "duration": 71,
    "start_time": "2022-09-12T05:53:09.976Z"
   },
   {
    "duration": 4,
    "start_time": "2022-09-12T05:53:45.402Z"
   },
   {
    "duration": 77,
    "start_time": "2022-09-12T05:53:54.279Z"
   },
   {
    "duration": 4828,
    "start_time": "2022-09-12T05:54:08.820Z"
   },
   {
    "duration": 4,
    "start_time": "2022-09-12T05:54:21.846Z"
   },
   {
    "duration": 32,
    "start_time": "2022-09-12T05:54:26.352Z"
   },
   {
    "duration": 4705,
    "start_time": "2022-09-12T05:54:31.582Z"
   },
   {
    "duration": 9,
    "start_time": "2022-09-12T05:55:43.639Z"
   },
   {
    "duration": 12,
    "start_time": "2022-09-12T05:56:05.744Z"
   },
   {
    "duration": 12,
    "start_time": "2022-09-12T05:56:37.272Z"
   },
   {
    "duration": 27,
    "start_time": "2022-09-12T05:56:43.306Z"
   },
   {
    "duration": 20,
    "start_time": "2022-09-12T05:56:59.245Z"
   },
   {
    "duration": 16,
    "start_time": "2022-09-12T05:57:32.655Z"
   },
   {
    "duration": 19,
    "start_time": "2022-09-12T05:57:45.028Z"
   },
   {
    "duration": 9,
    "start_time": "2022-09-12T05:58:32.265Z"
   },
   {
    "duration": 15,
    "start_time": "2022-09-12T05:58:57.935Z"
   },
   {
    "duration": 9,
    "start_time": "2022-09-12T05:59:03.293Z"
   },
   {
    "duration": 12,
    "start_time": "2022-09-12T05:59:08.996Z"
   },
   {
    "duration": 8,
    "start_time": "2022-09-12T05:59:30.003Z"
   },
   {
    "duration": 1357,
    "start_time": "2022-09-12T06:00:07.083Z"
   },
   {
    "duration": 736,
    "start_time": "2022-09-12T06:00:08.442Z"
   },
   {
    "duration": 17,
    "start_time": "2022-09-12T06:00:09.180Z"
   },
   {
    "duration": 19,
    "start_time": "2022-09-12T06:00:09.199Z"
   },
   {
    "duration": 33,
    "start_time": "2022-09-12T06:00:09.220Z"
   },
   {
    "duration": 93,
    "start_time": "2022-09-12T06:00:09.255Z"
   },
   {
    "duration": 375,
    "start_time": "2022-09-12T06:00:09.349Z"
   },
   {
    "duration": 24,
    "start_time": "2022-09-12T06:00:09.726Z"
   },
   {
    "duration": 21,
    "start_time": "2022-09-12T06:00:09.752Z"
   },
   {
    "duration": 28,
    "start_time": "2022-09-12T06:00:09.776Z"
   },
   {
    "duration": 13,
    "start_time": "2022-09-12T06:00:09.806Z"
   },
   {
    "duration": 46,
    "start_time": "2022-09-12T06:00:09.821Z"
   },
   {
    "duration": 4,
    "start_time": "2022-09-12T06:00:09.868Z"
   },
   {
    "duration": 26,
    "start_time": "2022-09-12T06:00:09.874Z"
   },
   {
    "duration": 5,
    "start_time": "2022-09-12T06:00:09.902Z"
   },
   {
    "duration": 13,
    "start_time": "2022-09-12T06:00:09.909Z"
   },
   {
    "duration": 25,
    "start_time": "2022-09-12T06:00:09.923Z"
   },
   {
    "duration": 6,
    "start_time": "2022-09-12T06:00:09.949Z"
   },
   {
    "duration": 13,
    "start_time": "2022-09-12T06:00:09.956Z"
   },
   {
    "duration": 216,
    "start_time": "2022-09-12T06:00:09.971Z"
   },
   {
    "duration": 9,
    "start_time": "2022-09-12T06:00:10.189Z"
   },
   {
    "duration": 229,
    "start_time": "2022-09-12T06:00:10.199Z"
   },
   {
    "duration": 1627,
    "start_time": "2022-09-12T06:00:10.430Z"
   },
   {
    "duration": 1605,
    "start_time": "2022-09-12T06:00:12.058Z"
   },
   {
    "duration": 1592,
    "start_time": "2022-09-12T06:00:13.664Z"
   },
   {
    "duration": 631,
    "start_time": "2022-09-12T06:00:15.257Z"
   },
   {
    "duration": 7,
    "start_time": "2022-09-12T06:00:15.890Z"
   },
   {
    "duration": 1568,
    "start_time": "2022-09-12T06:00:15.900Z"
   },
   {
    "duration": 31,
    "start_time": "2022-09-12T06:00:17.469Z"
   },
   {
    "duration": 1345,
    "start_time": "2022-09-12T06:00:17.502Z"
   },
   {
    "duration": 109,
    "start_time": "2022-09-12T06:00:18.848Z"
   },
   {
    "duration": 4,
    "start_time": "2022-09-12T06:00:18.959Z"
   },
   {
    "duration": 14,
    "start_time": "2022-09-12T06:00:18.964Z"
   },
   {
    "duration": 12,
    "start_time": "2022-09-12T06:00:18.981Z"
   },
   {
    "duration": 1457,
    "start_time": "2022-09-12T06:00:18.995Z"
   },
   {
    "duration": 29236,
    "start_time": "2022-09-12T06:00:20.454Z"
   },
   {
    "duration": 4359,
    "start_time": "2022-09-12T06:00:49.691Z"
   },
   {
    "duration": 42797,
    "start_time": "2022-09-12T06:00:54.052Z"
   },
   {
    "duration": 2,
    "start_time": "2022-09-12T06:01:36.850Z"
   },
   {
    "duration": 30,
    "start_time": "2022-09-12T06:01:36.854Z"
   },
   {
    "duration": 12,
    "start_time": "2022-09-12T06:01:36.886Z"
   },
   {
    "duration": 149,
    "start_time": "2022-09-12T06:01:36.901Z"
   },
   {
    "duration": 6,
    "start_time": "2022-09-12T06:01:59.896Z"
   },
   {
    "duration": 10,
    "start_time": "2022-09-12T06:02:06.236Z"
   },
   {
    "duration": 11,
    "start_time": "2022-09-12T06:02:12.656Z"
   },
   {
    "duration": 8,
    "start_time": "2022-09-12T06:02:13.274Z"
   },
   {
    "duration": 8,
    "start_time": "2022-09-12T06:02:34.204Z"
   },
   {
    "duration": 10,
    "start_time": "2022-09-12T06:02:39.510Z"
   },
   {
    "duration": 14,
    "start_time": "2022-09-12T06:02:48.705Z"
   },
   {
    "duration": 5,
    "start_time": "2022-09-12T06:02:57.203Z"
   },
   {
    "duration": 14,
    "start_time": "2022-09-12T06:05:25.619Z"
   },
   {
    "duration": 3,
    "start_time": "2022-09-12T06:07:32.468Z"
   },
   {
    "duration": 17,
    "start_time": "2022-09-12T06:07:49.876Z"
   },
   {
    "duration": 1331,
    "start_time": "2022-09-12T06:08:23.663Z"
   },
   {
    "duration": 725,
    "start_time": "2022-09-12T06:08:24.996Z"
   },
   {
    "duration": 24,
    "start_time": "2022-09-12T06:08:25.723Z"
   },
   {
    "duration": 14,
    "start_time": "2022-09-12T06:08:25.749Z"
   },
   {
    "duration": 11,
    "start_time": "2022-09-12T06:08:25.765Z"
   },
   {
    "duration": 101,
    "start_time": "2022-09-12T06:08:25.777Z"
   },
   {
    "duration": 371,
    "start_time": "2022-09-12T06:08:25.880Z"
   },
   {
    "duration": 27,
    "start_time": "2022-09-12T06:08:26.253Z"
   },
   {
    "duration": 25,
    "start_time": "2022-09-12T06:08:26.282Z"
   },
   {
    "duration": 58,
    "start_time": "2022-09-12T06:08:26.309Z"
   },
   {
    "duration": 16,
    "start_time": "2022-09-12T06:08:26.369Z"
   },
   {
    "duration": 33,
    "start_time": "2022-09-12T06:08:26.388Z"
   },
   {
    "duration": 24,
    "start_time": "2022-09-12T06:08:26.424Z"
   },
   {
    "duration": 12,
    "start_time": "2022-09-12T06:08:26.452Z"
   },
   {
    "duration": 10,
    "start_time": "2022-09-12T06:08:26.467Z"
   },
   {
    "duration": 16,
    "start_time": "2022-09-12T06:08:26.481Z"
   },
   {
    "duration": 10,
    "start_time": "2022-09-12T06:08:26.499Z"
   },
   {
    "duration": 40,
    "start_time": "2022-09-12T06:08:26.511Z"
   },
   {
    "duration": 9,
    "start_time": "2022-09-12T06:08:26.553Z"
   },
   {
    "duration": 218,
    "start_time": "2022-09-12T06:08:26.564Z"
   },
   {
    "duration": 10,
    "start_time": "2022-09-12T06:08:26.784Z"
   },
   {
    "duration": 196,
    "start_time": "2022-09-12T06:08:26.796Z"
   },
   {
    "duration": 1576,
    "start_time": "2022-09-12T06:08:26.994Z"
   },
   {
    "duration": 1582,
    "start_time": "2022-09-12T06:08:28.572Z"
   },
   {
    "duration": 1606,
    "start_time": "2022-09-12T06:08:30.156Z"
   },
   {
    "duration": 635,
    "start_time": "2022-09-12T06:08:31.764Z"
   },
   {
    "duration": 8,
    "start_time": "2022-09-12T06:08:32.401Z"
   },
   {
    "duration": 1468,
    "start_time": "2022-09-12T06:08:32.410Z"
   },
   {
    "duration": 31,
    "start_time": "2022-09-12T06:08:33.880Z"
   },
   {
    "duration": 1347,
    "start_time": "2022-09-12T06:08:33.912Z"
   },
   {
    "duration": 103,
    "start_time": "2022-09-12T06:08:35.261Z"
   },
   {
    "duration": 4,
    "start_time": "2022-09-12T06:08:35.366Z"
   },
   {
    "duration": 18,
    "start_time": "2022-09-12T06:08:35.371Z"
   },
   {
    "duration": 6,
    "start_time": "2022-09-12T06:08:35.390Z"
   },
   {
    "duration": 1359,
    "start_time": "2022-09-12T06:08:35.397Z"
   },
   {
    "duration": 29160,
    "start_time": "2022-09-12T06:08:36.849Z"
   },
   {
    "duration": 4608,
    "start_time": "2022-09-12T06:09:06.011Z"
   },
   {
    "duration": 40957,
    "start_time": "2022-09-12T06:09:10.620Z"
   },
   {
    "duration": 2,
    "start_time": "2022-09-12T06:09:51.579Z"
   },
   {
    "duration": 26,
    "start_time": "2022-09-12T06:09:51.583Z"
   },
   {
    "duration": 38,
    "start_time": "2022-09-12T06:09:51.613Z"
   },
   {
    "duration": 96,
    "start_time": "2022-09-12T06:09:51.653Z"
   },
   {
    "duration": 15,
    "start_time": "2022-09-12T06:09:51.751Z"
   },
   {
    "duration": 106,
    "start_time": "2022-09-12T06:09:51.849Z"
   },
   {
    "duration": 10,
    "start_time": "2022-09-12T06:09:51.957Z"
   },
   {
    "duration": 155,
    "start_time": "2022-09-12T08:12:26.407Z"
   },
   {
    "duration": 84,
    "start_time": "2022-09-13T03:47:19.880Z"
   },
   {
    "duration": 41,
    "start_time": "2022-09-13T04:01:32.454Z"
   },
   {
    "duration": 1559,
    "start_time": "2022-09-13T04:01:40.391Z"
   },
   {
    "duration": 2345,
    "start_time": "2022-09-13T04:01:41.952Z"
   },
   {
    "duration": 23,
    "start_time": "2022-09-13T04:01:44.299Z"
   },
   {
    "duration": 14,
    "start_time": "2022-09-13T04:01:44.324Z"
   },
   {
    "duration": 13,
    "start_time": "2022-09-13T04:01:44.339Z"
   },
   {
    "duration": 96,
    "start_time": "2022-09-13T04:01:44.353Z"
   },
   {
    "duration": 346,
    "start_time": "2022-09-13T04:01:44.451Z"
   },
   {
    "duration": 22,
    "start_time": "2022-09-13T04:01:44.805Z"
   },
   {
    "duration": 17,
    "start_time": "2022-09-13T04:01:44.828Z"
   },
   {
    "duration": 23,
    "start_time": "2022-09-13T04:01:44.848Z"
   },
   {
    "duration": 11,
    "start_time": "2022-09-13T04:01:44.872Z"
   },
   {
    "duration": 39,
    "start_time": "2022-09-13T04:01:44.884Z"
   },
   {
    "duration": 4,
    "start_time": "2022-09-13T04:01:44.925Z"
   },
   {
    "duration": 9,
    "start_time": "2022-09-13T04:01:44.931Z"
   },
   {
    "duration": 6,
    "start_time": "2022-09-13T04:01:44.941Z"
   },
   {
    "duration": 20,
    "start_time": "2022-09-13T04:01:44.948Z"
   },
   {
    "duration": 9,
    "start_time": "2022-09-13T04:01:44.970Z"
   },
   {
    "duration": 33,
    "start_time": "2022-09-13T04:01:44.981Z"
   },
   {
    "duration": 23,
    "start_time": "2022-09-13T04:01:45.018Z"
   },
   {
    "duration": 181,
    "start_time": "2022-09-13T04:01:45.043Z"
   },
   {
    "duration": 7,
    "start_time": "2022-09-13T04:01:45.226Z"
   },
   {
    "duration": 180,
    "start_time": "2022-09-13T04:01:45.235Z"
   },
   {
    "duration": 1404,
    "start_time": "2022-09-13T04:01:45.417Z"
   },
   {
    "duration": 1709,
    "start_time": "2022-09-13T04:01:46.823Z"
   },
   {
    "duration": 2530,
    "start_time": "2022-09-13T04:01:48.534Z"
   },
   {
    "duration": 16,
    "start_time": "2022-09-13T04:01:51.065Z"
   },
   {
    "duration": 278,
    "start_time": "2022-09-13T04:01:51.082Z"
   },
   {
    "duration": 0,
    "start_time": "2022-09-13T04:01:51.362Z"
   },
   {
    "duration": 0,
    "start_time": "2022-09-13T04:01:51.364Z"
   },
   {
    "duration": 0,
    "start_time": "2022-09-13T04:01:51.364Z"
   },
   {
    "duration": 0,
    "start_time": "2022-09-13T04:01:51.365Z"
   },
   {
    "duration": 0,
    "start_time": "2022-09-13T04:01:51.366Z"
   },
   {
    "duration": 0,
    "start_time": "2022-09-13T04:01:51.367Z"
   },
   {
    "duration": 0,
    "start_time": "2022-09-13T04:01:51.368Z"
   },
   {
    "duration": 0,
    "start_time": "2022-09-13T04:01:51.369Z"
   },
   {
    "duration": 0,
    "start_time": "2022-09-13T04:01:51.370Z"
   },
   {
    "duration": 0,
    "start_time": "2022-09-13T04:01:51.371Z"
   },
   {
    "duration": 0,
    "start_time": "2022-09-13T04:01:51.372Z"
   },
   {
    "duration": 0,
    "start_time": "2022-09-13T04:01:51.373Z"
   },
   {
    "duration": 0,
    "start_time": "2022-09-13T04:01:51.374Z"
   },
   {
    "duration": 0,
    "start_time": "2022-09-13T04:01:51.375Z"
   },
   {
    "duration": 0,
    "start_time": "2022-09-13T04:01:51.376Z"
   },
   {
    "duration": 0,
    "start_time": "2022-09-13T04:01:51.377Z"
   },
   {
    "duration": 0,
    "start_time": "2022-09-13T04:01:51.378Z"
   },
   {
    "duration": 0,
    "start_time": "2022-09-13T04:01:51.408Z"
   },
   {
    "duration": 0,
    "start_time": "2022-09-13T04:01:51.410Z"
   },
   {
    "duration": 0,
    "start_time": "2022-09-13T04:01:51.411Z"
   },
   {
    "duration": 3029,
    "start_time": "2022-09-13T04:02:48.329Z"
   },
   {
    "duration": 2741,
    "start_time": "2022-09-13T04:03:51.420Z"
   },
   {
    "duration": 3085,
    "start_time": "2022-09-13T04:04:14.796Z"
   },
   {
    "duration": 3143,
    "start_time": "2022-09-13T04:04:45.034Z"
   },
   {
    "duration": 3659,
    "start_time": "2022-09-13T04:05:08.877Z"
   },
   {
    "duration": 4138,
    "start_time": "2022-09-13T04:13:47.338Z"
   },
   {
    "duration": 84,
    "start_time": "2022-09-13T04:14:43.870Z"
   },
   {
    "duration": 3330,
    "start_time": "2022-09-13T04:15:16.592Z"
   },
   {
    "duration": 2073,
    "start_time": "2022-09-13T04:18:54.198Z"
   },
   {
    "duration": 2240,
    "start_time": "2022-09-13T04:19:56.779Z"
   },
   {
    "duration": 2105,
    "start_time": "2022-09-13T04:20:33.795Z"
   },
   {
    "duration": 5103,
    "start_time": "2022-09-13T04:20:57.452Z"
   },
   {
    "duration": 3802,
    "start_time": "2022-09-13T04:21:07.100Z"
   },
   {
    "duration": 3758,
    "start_time": "2022-09-13T04:25:00.063Z"
   },
   {
    "duration": 3972,
    "start_time": "2022-09-13T04:28:06.307Z"
   },
   {
    "duration": 1280,
    "start_time": "2022-09-13T04:34:52.851Z"
   },
   {
    "duration": 2520,
    "start_time": "2022-09-13T04:34:54.133Z"
   },
   {
    "duration": 60,
    "start_time": "2022-09-13T04:34:56.655Z"
   },
   {
    "duration": 15,
    "start_time": "2022-09-13T04:34:56.716Z"
   },
   {
    "duration": 11,
    "start_time": "2022-09-13T04:34:56.733Z"
   },
   {
    "duration": 101,
    "start_time": "2022-09-13T04:34:56.745Z"
   },
   {
    "duration": 370,
    "start_time": "2022-09-13T04:34:56.848Z"
   },
   {
    "duration": 19,
    "start_time": "2022-09-13T04:34:57.219Z"
   },
   {
    "duration": 23,
    "start_time": "2022-09-13T04:34:57.240Z"
   },
   {
    "duration": 25,
    "start_time": "2022-09-13T04:34:57.265Z"
   },
   {
    "duration": 17,
    "start_time": "2022-09-13T04:34:57.306Z"
   },
   {
    "duration": 29,
    "start_time": "2022-09-13T04:34:57.325Z"
   },
   {
    "duration": 3,
    "start_time": "2022-09-13T04:34:57.356Z"
   },
   {
    "duration": 11,
    "start_time": "2022-09-13T04:34:57.364Z"
   },
   {
    "duration": 7,
    "start_time": "2022-09-13T04:34:57.376Z"
   },
   {
    "duration": 29,
    "start_time": "2022-09-13T04:34:57.384Z"
   },
   {
    "duration": 33,
    "start_time": "2022-09-13T04:34:57.416Z"
   },
   {
    "duration": 13,
    "start_time": "2022-09-13T04:34:57.451Z"
   },
   {
    "duration": 21,
    "start_time": "2022-09-13T04:34:57.466Z"
   },
   {
    "duration": 203,
    "start_time": "2022-09-13T04:34:57.489Z"
   },
   {
    "duration": 17,
    "start_time": "2022-09-13T04:34:57.694Z"
   },
   {
    "duration": 181,
    "start_time": "2022-09-13T04:34:57.718Z"
   },
   {
    "duration": 1310,
    "start_time": "2022-09-13T04:34:57.910Z"
   },
   {
    "duration": 1450,
    "start_time": "2022-09-13T04:34:59.222Z"
   },
   {
    "duration": 1389,
    "start_time": "2022-09-13T04:35:00.674Z"
   },
   {
    "duration": 47,
    "start_time": "2022-09-13T04:35:30.555Z"
   },
   {
    "duration": 1485,
    "start_time": "2022-09-13T04:35:35.912Z"
   },
   {
    "duration": 1966,
    "start_time": "2022-09-13T04:35:37.400Z"
   },
   {
    "duration": 18,
    "start_time": "2022-09-13T04:35:39.367Z"
   },
   {
    "duration": 13,
    "start_time": "2022-09-13T04:35:39.387Z"
   },
   {
    "duration": 27,
    "start_time": "2022-09-13T04:35:39.401Z"
   },
   {
    "duration": 71,
    "start_time": "2022-09-13T04:35:39.430Z"
   },
   {
    "duration": 333,
    "start_time": "2022-09-13T04:35:39.503Z"
   },
   {
    "duration": 17,
    "start_time": "2022-09-13T04:35:39.837Z"
   },
   {
    "duration": 35,
    "start_time": "2022-09-13T04:35:39.855Z"
   },
   {
    "duration": 33,
    "start_time": "2022-09-13T04:35:39.892Z"
   },
   {
    "duration": 13,
    "start_time": "2022-09-13T04:35:39.926Z"
   },
   {
    "duration": 25,
    "start_time": "2022-09-13T04:35:39.941Z"
   },
   {
    "duration": 5,
    "start_time": "2022-09-13T04:35:39.967Z"
   },
   {
    "duration": 27,
    "start_time": "2022-09-13T04:35:39.973Z"
   },
   {
    "duration": 17,
    "start_time": "2022-09-13T04:35:40.002Z"
   },
   {
    "duration": 20,
    "start_time": "2022-09-13T04:35:40.020Z"
   },
   {
    "duration": 27,
    "start_time": "2022-09-13T04:35:40.041Z"
   },
   {
    "duration": 23,
    "start_time": "2022-09-13T04:35:40.069Z"
   },
   {
    "duration": 28,
    "start_time": "2022-09-13T04:35:40.093Z"
   },
   {
    "duration": 181,
    "start_time": "2022-09-13T04:35:40.123Z"
   },
   {
    "duration": 18,
    "start_time": "2022-09-13T04:35:40.305Z"
   },
   {
    "duration": 183,
    "start_time": "2022-09-13T04:35:40.324Z"
   },
   {
    "duration": 1401,
    "start_time": "2022-09-13T04:35:40.515Z"
   },
   {
    "duration": 1256,
    "start_time": "2022-09-13T04:35:41.917Z"
   },
   {
    "duration": 1427,
    "start_time": "2022-09-13T04:35:43.174Z"
   },
   {
    "duration": 4036,
    "start_time": "2022-09-13T04:35:44.603Z"
   },
   {
    "duration": 766,
    "start_time": "2022-09-13T04:35:48.641Z"
   },
   {
    "duration": 9,
    "start_time": "2022-09-13T04:35:49.411Z"
   },
   {
    "duration": 1360,
    "start_time": "2022-09-13T04:35:49.421Z"
   },
   {
    "duration": 38,
    "start_time": "2022-09-13T04:35:50.782Z"
   },
   {
    "duration": 1243,
    "start_time": "2022-09-13T04:35:50.822Z"
   },
   {
    "duration": 91,
    "start_time": "2022-09-13T04:35:52.066Z"
   },
   {
    "duration": 4,
    "start_time": "2022-09-13T04:35:52.159Z"
   },
   {
    "duration": 11,
    "start_time": "2022-09-13T04:35:52.165Z"
   },
   {
    "duration": 7,
    "start_time": "2022-09-13T04:35:52.178Z"
   },
   {
    "duration": 2127,
    "start_time": "2022-09-13T04:35:52.187Z"
   },
   {
    "duration": 26035,
    "start_time": "2022-09-13T04:35:54.321Z"
   },
   {
    "duration": 4121,
    "start_time": "2022-09-13T04:36:20.357Z"
   },
   {
    "duration": 39818,
    "start_time": "2022-09-13T04:36:24.480Z"
   },
   {
    "duration": 16,
    "start_time": "2022-09-13T04:37:04.300Z"
   },
   {
    "duration": 22,
    "start_time": "2022-09-13T04:37:04.318Z"
   },
   {
    "duration": 65,
    "start_time": "2022-09-13T04:37:04.342Z"
   },
   {
    "duration": 125,
    "start_time": "2022-09-13T04:37:04.408Z"
   },
   {
    "duration": 69,
    "start_time": "2022-09-13T04:37:04.535Z"
   },
   {
    "duration": 120,
    "start_time": "2022-09-13T04:37:04.607Z"
   },
   {
    "duration": 10,
    "start_time": "2022-09-13T04:37:04.729Z"
   },
   {
    "duration": 3103,
    "start_time": "2022-09-13T04:42:48.990Z"
   },
   {
    "duration": 1151,
    "start_time": "2022-09-13T04:44:15.341Z"
   },
   {
    "duration": 1042,
    "start_time": "2022-09-13T04:44:36.763Z"
   },
   {
    "duration": 3257,
    "start_time": "2022-09-13T04:44:59.892Z"
   },
   {
    "duration": 1422,
    "start_time": "2022-09-13T04:56:27.017Z"
   },
   {
    "duration": 672,
    "start_time": "2022-09-13T04:56:28.441Z"
   },
   {
    "duration": 17,
    "start_time": "2022-09-13T04:56:29.115Z"
   },
   {
    "duration": 20,
    "start_time": "2022-09-13T04:56:29.134Z"
   },
   {
    "duration": 11,
    "start_time": "2022-09-13T04:56:29.205Z"
   },
   {
    "duration": 124,
    "start_time": "2022-09-13T04:56:29.218Z"
   },
   {
    "duration": 680,
    "start_time": "2022-09-13T04:56:29.343Z"
   },
   {
    "duration": 17,
    "start_time": "2022-09-13T04:56:30.025Z"
   },
   {
    "duration": 72,
    "start_time": "2022-09-13T04:56:30.044Z"
   },
   {
    "duration": 36,
    "start_time": "2022-09-13T04:56:30.118Z"
   },
   {
    "duration": 57,
    "start_time": "2022-09-13T04:56:30.155Z"
   },
   {
    "duration": 47,
    "start_time": "2022-09-13T04:56:30.213Z"
   },
   {
    "duration": 45,
    "start_time": "2022-09-13T04:56:30.262Z"
   },
   {
    "duration": 54,
    "start_time": "2022-09-13T04:56:30.308Z"
   },
   {
    "duration": 48,
    "start_time": "2022-09-13T04:56:30.364Z"
   },
   {
    "duration": 36,
    "start_time": "2022-09-13T04:56:30.414Z"
   },
   {
    "duration": 58,
    "start_time": "2022-09-13T04:56:30.452Z"
   },
   {
    "duration": 38,
    "start_time": "2022-09-13T04:56:30.511Z"
   },
   {
    "duration": 18,
    "start_time": "2022-09-13T04:56:30.551Z"
   },
   {
    "duration": 201,
    "start_time": "2022-09-13T04:56:30.571Z"
   },
   {
    "duration": 7,
    "start_time": "2022-09-13T04:56:30.774Z"
   },
   {
    "duration": 171,
    "start_time": "2022-09-13T04:56:30.783Z"
   },
   {
    "duration": 1344,
    "start_time": "2022-09-13T04:56:30.955Z"
   },
   {
    "duration": 1369,
    "start_time": "2022-09-13T04:56:32.301Z"
   },
   {
    "duration": 1502,
    "start_time": "2022-09-13T04:56:33.671Z"
   },
   {
    "duration": 3722,
    "start_time": "2022-09-13T04:56:35.175Z"
   },
   {
    "duration": 680,
    "start_time": "2022-09-13T04:56:38.904Z"
   },
   {
    "duration": 7,
    "start_time": "2022-09-13T04:56:39.587Z"
   },
   {
    "duration": 1357,
    "start_time": "2022-09-13T04:56:39.595Z"
   },
   {
    "duration": 30,
    "start_time": "2022-09-13T04:56:40.954Z"
   },
   {
    "duration": 1258,
    "start_time": "2022-09-13T04:56:40.986Z"
   },
   {
    "duration": 88,
    "start_time": "2022-09-13T04:56:42.246Z"
   },
   {
    "duration": 8,
    "start_time": "2022-09-13T04:56:42.336Z"
   },
   {
    "duration": 16,
    "start_time": "2022-09-13T04:56:42.346Z"
   },
   {
    "duration": 5,
    "start_time": "2022-09-13T04:56:42.363Z"
   },
   {
    "duration": 1537,
    "start_time": "2022-09-13T04:56:42.369Z"
   },
   {
    "duration": 25842,
    "start_time": "2022-09-13T04:56:43.908Z"
   },
   {
    "duration": 3852,
    "start_time": "2022-09-13T04:57:09.751Z"
   },
   {
    "duration": 39847,
    "start_time": "2022-09-13T04:57:13.605Z"
   },
   {
    "duration": 3,
    "start_time": "2022-09-13T04:57:53.453Z"
   },
   {
    "duration": 20,
    "start_time": "2022-09-13T04:57:53.457Z"
   },
   {
    "duration": 40,
    "start_time": "2022-09-13T04:57:53.478Z"
   },
   {
    "duration": 95,
    "start_time": "2022-09-13T04:57:53.520Z"
   },
   {
    "duration": 93,
    "start_time": "2022-09-13T04:57:53.617Z"
   },
   {
    "duration": 5,
    "start_time": "2022-09-13T04:57:53.712Z"
   },
   {
    "duration": 105,
    "start_time": "2022-09-13T04:57:53.806Z"
   },
   {
    "duration": 97,
    "start_time": "2022-09-13T04:57:53.915Z"
   },
   {
    "duration": 2,
    "start_time": "2022-09-13T04:58:50.361Z"
   },
   {
    "duration": 2,
    "start_time": "2022-09-13T04:59:05.071Z"
   },
   {
    "duration": 3,
    "start_time": "2022-09-13T04:59:06.199Z"
   },
   {
    "duration": 3,
    "start_time": "2022-09-13T04:59:16.304Z"
   },
   {
    "duration": 3,
    "start_time": "2022-09-13T04:59:24.187Z"
   },
   {
    "duration": 2,
    "start_time": "2022-09-13T04:59:24.405Z"
   },
   {
    "duration": 3192,
    "start_time": "2022-09-13T05:01:46.488Z"
   },
   {
    "duration": 112,
    "start_time": "2022-09-13T05:02:04.288Z"
   },
   {
    "duration": 929,
    "start_time": "2022-09-13T05:02:34.162Z"
   },
   {
    "duration": 125,
    "start_time": "2022-09-13T05:14:28.501Z"
   },
   {
    "duration": 23,
    "start_time": "2022-09-13T05:14:36.728Z"
   },
   {
    "duration": 24,
    "start_time": "2022-09-13T05:15:10.215Z"
   },
   {
    "duration": 9,
    "start_time": "2022-09-13T05:16:56.909Z"
   },
   {
    "duration": 14,
    "start_time": "2022-09-13T05:17:21.686Z"
   },
   {
    "duration": 17,
    "start_time": "2022-09-13T05:18:22.292Z"
   },
   {
    "duration": 4,
    "start_time": "2022-09-13T05:18:55.117Z"
   },
   {
    "duration": 14,
    "start_time": "2022-09-13T05:18:59.277Z"
   },
   {
    "duration": 13,
    "start_time": "2022-09-13T05:19:06.699Z"
   },
   {
    "duration": 16,
    "start_time": "2022-09-13T05:19:16.688Z"
   },
   {
    "duration": 22,
    "start_time": "2022-09-13T05:19:21.676Z"
   },
   {
    "duration": 1440,
    "start_time": "2022-09-13T05:20:14.594Z"
   },
   {
    "duration": 648,
    "start_time": "2022-09-13T05:20:16.036Z"
   },
   {
    "duration": 25,
    "start_time": "2022-09-13T05:20:16.686Z"
   },
   {
    "duration": 15,
    "start_time": "2022-09-13T05:20:16.712Z"
   },
   {
    "duration": 11,
    "start_time": "2022-09-13T05:20:16.729Z"
   },
   {
    "duration": 97,
    "start_time": "2022-09-13T05:20:16.742Z"
   },
   {
    "duration": 326,
    "start_time": "2022-09-13T05:20:16.840Z"
   },
   {
    "duration": 17,
    "start_time": "2022-09-13T05:20:17.167Z"
   },
   {
    "duration": 31,
    "start_time": "2022-09-13T05:20:17.185Z"
   },
   {
    "duration": 19,
    "start_time": "2022-09-13T05:20:17.218Z"
   },
   {
    "duration": 12,
    "start_time": "2022-09-13T05:20:17.238Z"
   },
   {
    "duration": 23,
    "start_time": "2022-09-13T05:20:17.251Z"
   },
   {
    "duration": 4,
    "start_time": "2022-09-13T05:20:17.275Z"
   },
   {
    "duration": 31,
    "start_time": "2022-09-13T05:20:17.281Z"
   },
   {
    "duration": 18,
    "start_time": "2022-09-13T05:20:17.314Z"
   },
   {
    "duration": 31,
    "start_time": "2022-09-13T05:20:17.334Z"
   },
   {
    "duration": 8,
    "start_time": "2022-09-13T05:20:17.367Z"
   },
   {
    "duration": 9,
    "start_time": "2022-09-13T05:20:17.377Z"
   },
   {
    "duration": 17,
    "start_time": "2022-09-13T05:20:17.388Z"
   },
   {
    "duration": 206,
    "start_time": "2022-09-13T05:20:17.408Z"
   },
   {
    "duration": 7,
    "start_time": "2022-09-13T05:20:17.616Z"
   },
   {
    "duration": 165,
    "start_time": "2022-09-13T05:20:17.625Z"
   },
   {
    "duration": 1391,
    "start_time": "2022-09-13T05:20:17.792Z"
   },
   {
    "duration": 1410,
    "start_time": "2022-09-13T05:20:19.184Z"
   },
   {
    "duration": 1273,
    "start_time": "2022-09-13T05:20:20.595Z"
   },
   {
    "duration": 3708,
    "start_time": "2022-09-13T05:20:21.870Z"
   },
   {
    "duration": 724,
    "start_time": "2022-09-13T05:20:25.579Z"
   },
   {
    "duration": 3,
    "start_time": "2022-09-13T05:20:26.304Z"
   },
   {
    "duration": 8,
    "start_time": "2022-09-13T05:20:26.308Z"
   },
   {
    "duration": 10,
    "start_time": "2022-09-13T05:20:26.317Z"
   },
   {
    "duration": 5,
    "start_time": "2022-09-13T05:20:26.328Z"
   },
   {
    "duration": 6,
    "start_time": "2022-09-13T05:20:26.334Z"
   },
   {
    "duration": 1044,
    "start_time": "2022-09-13T05:20:26.341Z"
   },
   {
    "duration": 5,
    "start_time": "2022-09-13T05:20:27.387Z"
   },
   {
    "duration": 17,
    "start_time": "2022-09-13T05:20:27.394Z"
   },
   {
    "duration": 10,
    "start_time": "2022-09-13T05:20:27.414Z"
   },
   {
    "duration": 1481,
    "start_time": "2022-09-13T05:20:27.426Z"
   },
   {
    "duration": 25740,
    "start_time": "2022-09-13T05:20:28.909Z"
   },
   {
    "duration": 3890,
    "start_time": "2022-09-13T05:20:54.651Z"
   },
   {
    "duration": 39286,
    "start_time": "2022-09-13T05:20:58.542Z"
   },
   {
    "duration": 2,
    "start_time": "2022-09-13T05:21:37.831Z"
   },
   {
    "duration": 18,
    "start_time": "2022-09-13T05:21:37.835Z"
   },
   {
    "duration": 54,
    "start_time": "2022-09-13T05:21:37.855Z"
   },
   {
    "duration": 104,
    "start_time": "2022-09-13T05:21:37.912Z"
   },
   {
    "duration": 89,
    "start_time": "2022-09-13T05:21:38.018Z"
   },
   {
    "duration": 106,
    "start_time": "2022-09-13T05:21:38.108Z"
   },
   {
    "duration": 105,
    "start_time": "2022-09-13T05:21:38.216Z"
   },
   {
    "duration": 0,
    "start_time": "2022-09-13T05:21:38.322Z"
   },
   {
    "duration": 17,
    "start_time": "2022-09-13T05:23:54.921Z"
   },
   {
    "duration": 24,
    "start_time": "2022-09-13T05:25:25.202Z"
   },
   {
    "duration": 14,
    "start_time": "2022-09-13T05:28:07.117Z"
   },
   {
    "duration": 1174,
    "start_time": "2022-09-13T05:28:13.772Z"
   },
   {
    "duration": 12,
    "start_time": "2022-09-13T05:35:49.695Z"
   },
   {
    "duration": 10,
    "start_time": "2022-09-13T05:39:03.244Z"
   },
   {
    "duration": 15,
    "start_time": "2022-09-13T05:39:16.341Z"
   },
   {
    "duration": 16,
    "start_time": "2022-09-13T05:39:43.921Z"
   },
   {
    "duration": 13,
    "start_time": "2022-09-13T05:40:30.279Z"
   },
   {
    "duration": 26,
    "start_time": "2022-09-13T05:41:25.046Z"
   },
   {
    "duration": 21,
    "start_time": "2022-09-13T05:42:30.409Z"
   },
   {
    "duration": 23,
    "start_time": "2022-09-13T05:44:09.380Z"
   },
   {
    "duration": 17,
    "start_time": "2022-09-13T05:44:21.548Z"
   },
   {
    "duration": 22,
    "start_time": "2022-09-13T05:49:07.146Z"
   },
   {
    "duration": 20,
    "start_time": "2022-09-13T05:49:26.913Z"
   },
   {
    "duration": 20,
    "start_time": "2022-09-13T05:50:30.203Z"
   },
   {
    "duration": 15,
    "start_time": "2022-09-13T06:15:30.961Z"
   },
   {
    "duration": 10,
    "start_time": "2022-09-13T06:15:43.047Z"
   },
   {
    "duration": 11,
    "start_time": "2022-09-13T06:16:02.385Z"
   },
   {
    "duration": 7,
    "start_time": "2022-09-13T06:17:58.130Z"
   },
   {
    "duration": 7,
    "start_time": "2022-09-13T06:31:05.934Z"
   },
   {
    "duration": 4,
    "start_time": "2022-09-13T06:31:14.978Z"
   },
   {
    "duration": 7,
    "start_time": "2022-09-13T06:31:44.315Z"
   },
   {
    "duration": 101,
    "start_time": "2022-09-13T06:31:52.979Z"
   },
   {
    "duration": 7,
    "start_time": "2022-09-13T06:31:55.366Z"
   },
   {
    "duration": 200,
    "start_time": "2022-09-13T06:33:22.409Z"
   },
   {
    "duration": 105,
    "start_time": "2022-09-13T06:36:51.444Z"
   },
   {
    "duration": 1352,
    "start_time": "2022-09-13T06:37:20.913Z"
   },
   {
    "duration": 678,
    "start_time": "2022-09-13T06:37:22.268Z"
   },
   {
    "duration": 17,
    "start_time": "2022-09-13T06:37:22.948Z"
   },
   {
    "duration": 15,
    "start_time": "2022-09-13T06:37:22.967Z"
   },
   {
    "duration": 32,
    "start_time": "2022-09-13T06:37:22.984Z"
   },
   {
    "duration": 91,
    "start_time": "2022-09-13T06:37:23.017Z"
   },
   {
    "duration": 337,
    "start_time": "2022-09-13T06:37:23.109Z"
   },
   {
    "duration": 18,
    "start_time": "2022-09-13T06:37:23.447Z"
   },
   {
    "duration": 31,
    "start_time": "2022-09-13T06:37:23.467Z"
   },
   {
    "duration": 23,
    "start_time": "2022-09-13T06:37:23.504Z"
   },
   {
    "duration": 13,
    "start_time": "2022-09-13T06:37:23.529Z"
   },
   {
    "duration": 27,
    "start_time": "2022-09-13T06:37:23.543Z"
   },
   {
    "duration": 3,
    "start_time": "2022-09-13T06:37:23.571Z"
   },
   {
    "duration": 30,
    "start_time": "2022-09-13T06:37:23.575Z"
   },
   {
    "duration": 5,
    "start_time": "2022-09-13T06:37:23.607Z"
   },
   {
    "duration": 11,
    "start_time": "2022-09-13T06:37:23.613Z"
   },
   {
    "duration": 5,
    "start_time": "2022-09-13T06:37:23.626Z"
   },
   {
    "duration": 6,
    "start_time": "2022-09-13T06:37:23.632Z"
   },
   {
    "duration": 9,
    "start_time": "2022-09-13T06:37:23.639Z"
   },
   {
    "duration": 193,
    "start_time": "2022-09-13T06:37:23.649Z"
   },
   {
    "duration": 8,
    "start_time": "2022-09-13T06:37:23.844Z"
   },
   {
    "duration": 169,
    "start_time": "2022-09-13T06:37:23.853Z"
   },
   {
    "duration": 1344,
    "start_time": "2022-09-13T06:37:24.024Z"
   },
   {
    "duration": 1290,
    "start_time": "2022-09-13T06:37:25.369Z"
   },
   {
    "duration": 1427,
    "start_time": "2022-09-13T06:37:26.661Z"
   },
   {
    "duration": 3441,
    "start_time": "2022-09-13T06:37:28.090Z"
   },
   {
    "duration": 760,
    "start_time": "2022-09-13T06:37:31.532Z"
   },
   {
    "duration": 3,
    "start_time": "2022-09-13T06:37:32.295Z"
   },
   {
    "duration": 14,
    "start_time": "2022-09-13T06:37:32.305Z"
   },
   {
    "duration": 31,
    "start_time": "2022-09-13T06:37:32.320Z"
   },
   {
    "duration": 8,
    "start_time": "2022-09-13T06:37:32.352Z"
   },
   {
    "duration": 8,
    "start_time": "2022-09-13T06:37:32.361Z"
   },
   {
    "duration": 1049,
    "start_time": "2022-09-13T06:37:32.371Z"
   },
   {
    "duration": 5,
    "start_time": "2022-09-13T06:37:33.422Z"
   },
   {
    "duration": 11,
    "start_time": "2022-09-13T06:37:33.428Z"
   },
   {
    "duration": 7,
    "start_time": "2022-09-13T06:37:33.441Z"
   },
   {
    "duration": 1356,
    "start_time": "2022-09-13T06:37:33.449Z"
   },
   {
    "duration": 25793,
    "start_time": "2022-09-13T06:37:34.807Z"
   },
   {
    "duration": 3857,
    "start_time": "2022-09-13T06:38:00.602Z"
   },
   {
    "duration": 40847,
    "start_time": "2022-09-13T06:38:04.460Z"
   },
   {
    "duration": 2,
    "start_time": "2022-09-13T06:38:45.309Z"
   },
   {
    "duration": 22,
    "start_time": "2022-09-13T06:38:45.313Z"
   },
   {
    "duration": 8,
    "start_time": "2022-09-13T06:38:45.336Z"
   },
   {
    "duration": 161,
    "start_time": "2022-09-13T06:38:45.345Z"
   },
   {
    "duration": 11,
    "start_time": "2022-09-13T06:38:45.508Z"
   },
   {
    "duration": 184,
    "start_time": "2022-09-13T06:38:45.520Z"
   },
   {
    "duration": 11,
    "start_time": "2022-09-13T06:38:45.706Z"
   },
   {
    "duration": 4,
    "start_time": "2022-09-13T06:38:45.719Z"
   },
   {
    "duration": 13,
    "start_time": "2022-09-13T06:38:45.725Z"
   },
   {
    "duration": 44,
    "start_time": "2022-09-14T05:30:54.293Z"
   },
   {
    "duration": 1605,
    "start_time": "2022-09-14T05:31:05.147Z"
   },
   {
    "duration": 3192,
    "start_time": "2022-09-14T05:31:06.754Z"
   },
   {
    "duration": 21,
    "start_time": "2022-09-14T05:31:09.948Z"
   },
   {
    "duration": 14,
    "start_time": "2022-09-14T05:31:09.971Z"
   },
   {
    "duration": 11,
    "start_time": "2022-09-14T05:31:09.987Z"
   },
   {
    "duration": 100,
    "start_time": "2022-09-14T05:31:10.000Z"
   },
   {
    "duration": 354,
    "start_time": "2022-09-14T05:31:10.101Z"
   },
   {
    "duration": 18,
    "start_time": "2022-09-14T05:31:10.457Z"
   },
   {
    "duration": 22,
    "start_time": "2022-09-14T05:31:10.476Z"
   },
   {
    "duration": 20,
    "start_time": "2022-09-14T05:31:10.500Z"
   },
   {
    "duration": 30,
    "start_time": "2022-09-14T05:31:10.522Z"
   },
   {
    "duration": 21,
    "start_time": "2022-09-14T05:31:10.554Z"
   },
   {
    "duration": 3,
    "start_time": "2022-09-14T05:31:10.576Z"
   },
   {
    "duration": 8,
    "start_time": "2022-09-14T05:31:10.581Z"
   },
   {
    "duration": 5,
    "start_time": "2022-09-14T05:31:10.591Z"
   },
   {
    "duration": 12,
    "start_time": "2022-09-14T05:31:10.597Z"
   },
   {
    "duration": 40,
    "start_time": "2022-09-14T05:31:10.610Z"
   },
   {
    "duration": 7,
    "start_time": "2022-09-14T05:31:10.652Z"
   },
   {
    "duration": 13,
    "start_time": "2022-09-14T05:31:10.661Z"
   },
   {
    "duration": 197,
    "start_time": "2022-09-14T05:31:10.676Z"
   },
   {
    "duration": 8,
    "start_time": "2022-09-14T05:31:10.875Z"
   },
   {
    "duration": 175,
    "start_time": "2022-09-14T05:31:10.884Z"
   },
   {
    "duration": 1525,
    "start_time": "2022-09-14T05:31:11.061Z"
   },
   {
    "duration": 1549,
    "start_time": "2022-09-14T05:31:12.588Z"
   },
   {
    "duration": 1503,
    "start_time": "2022-09-14T05:31:14.138Z"
   },
   {
    "duration": 3850,
    "start_time": "2022-09-14T05:31:15.643Z"
   },
   {
    "duration": 773,
    "start_time": "2022-09-14T05:31:19.495Z"
   },
   {
    "duration": 2,
    "start_time": "2022-09-14T05:31:20.273Z"
   },
   {
    "duration": 8,
    "start_time": "2022-09-14T05:31:20.277Z"
   },
   {
    "duration": 7,
    "start_time": "2022-09-14T05:31:20.286Z"
   },
   {
    "duration": 7,
    "start_time": "2022-09-14T05:31:20.295Z"
   },
   {
    "duration": 6,
    "start_time": "2022-09-14T05:31:20.303Z"
   },
   {
    "duration": 1115,
    "start_time": "2022-09-14T05:31:20.310Z"
   },
   {
    "duration": 961,
    "start_time": "2022-09-14T05:31:21.427Z"
   },
   {
    "duration": 0,
    "start_time": "2022-09-14T05:31:22.389Z"
   },
   {
    "duration": 0,
    "start_time": "2022-09-14T05:31:22.391Z"
   },
   {
    "duration": 0,
    "start_time": "2022-09-14T05:31:22.392Z"
   },
   {
    "duration": 0,
    "start_time": "2022-09-14T05:31:22.393Z"
   },
   {
    "duration": 0,
    "start_time": "2022-09-14T05:31:22.394Z"
   },
   {
    "duration": 0,
    "start_time": "2022-09-14T05:31:22.395Z"
   },
   {
    "duration": 0,
    "start_time": "2022-09-14T05:31:22.396Z"
   },
   {
    "duration": 0,
    "start_time": "2022-09-14T05:31:22.397Z"
   },
   {
    "duration": 0,
    "start_time": "2022-09-14T05:31:22.398Z"
   },
   {
    "duration": 0,
    "start_time": "2022-09-14T05:31:22.399Z"
   },
   {
    "duration": 0,
    "start_time": "2022-09-14T05:31:22.400Z"
   },
   {
    "duration": 0,
    "start_time": "2022-09-14T05:31:22.401Z"
   },
   {
    "duration": 0,
    "start_time": "2022-09-14T05:31:22.402Z"
   },
   {
    "duration": 0,
    "start_time": "2022-09-14T05:31:22.403Z"
   },
   {
    "duration": 0,
    "start_time": "2022-09-14T05:31:22.404Z"
   },
   {
    "duration": 0,
    "start_time": "2022-09-14T05:31:22.405Z"
   },
   {
    "duration": 0,
    "start_time": "2022-09-14T05:31:22.407Z"
   },
   {
    "duration": 16,
    "start_time": "2022-09-14T05:37:13.513Z"
   },
   {
    "duration": 903,
    "start_time": "2022-09-14T05:42:45.196Z"
   },
   {
    "duration": 7,
    "start_time": "2022-09-14T05:43:05.292Z"
   },
   {
    "duration": 4,
    "start_time": "2022-09-14T05:43:13.370Z"
   },
   {
    "duration": 6,
    "start_time": "2022-09-14T05:43:37.406Z"
   },
   {
    "duration": 24,
    "start_time": "2022-09-14T05:44:45.882Z"
   },
   {
    "duration": 9,
    "start_time": "2022-09-14T05:45:20.188Z"
   },
   {
    "duration": 4,
    "start_time": "2022-09-14T05:45:32.235Z"
   },
   {
    "duration": 30,
    "start_time": "2022-09-14T05:51:18.477Z"
   },
   {
    "duration": 1249,
    "start_time": "2022-09-14T05:51:21.648Z"
   },
   {
    "duration": 3604,
    "start_time": "2022-09-14T05:54:48.794Z"
   },
   {
    "duration": 820,
    "start_time": "2022-09-14T05:57:37.117Z"
   },
   {
    "duration": 36,
    "start_time": "2022-09-14T05:57:56.187Z"
   },
   {
    "duration": 1288,
    "start_time": "2022-09-14T05:58:02.496Z"
   },
   {
    "duration": 3628,
    "start_time": "2022-09-14T05:58:20.447Z"
   },
   {
    "duration": 3965,
    "start_time": "2022-09-14T05:58:52.578Z"
   },
   {
    "duration": 34,
    "start_time": "2022-09-14T05:59:37.240Z"
   },
   {
    "duration": 3872,
    "start_time": "2022-09-14T05:59:43.278Z"
   },
   {
    "duration": 13,
    "start_time": "2022-09-14T06:01:23.388Z"
   },
   {
    "duration": 1207,
    "start_time": "2022-09-14T06:01:55.575Z"
   },
   {
    "duration": 4115,
    "start_time": "2022-09-14T06:02:13.835Z"
   },
   {
    "duration": 9,
    "start_time": "2022-09-14T06:02:42.303Z"
   },
   {
    "duration": 9,
    "start_time": "2022-09-14T06:03:15.996Z"
   },
   {
    "duration": 9,
    "start_time": "2022-09-14T06:03:22.152Z"
   },
   {
    "duration": 21,
    "start_time": "2022-09-14T06:03:36.458Z"
   },
   {
    "duration": 10,
    "start_time": "2022-09-14T06:03:54.372Z"
   },
   {
    "duration": 9,
    "start_time": "2022-09-14T06:04:05.683Z"
   },
   {
    "duration": 10,
    "start_time": "2022-09-14T06:04:13.484Z"
   },
   {
    "duration": 22,
    "start_time": "2022-09-14T06:09:18.770Z"
   },
   {
    "duration": 1402,
    "start_time": "2022-09-14T06:09:28.396Z"
   },
   {
    "duration": 658,
    "start_time": "2022-09-14T06:09:29.800Z"
   },
   {
    "duration": 18,
    "start_time": "2022-09-14T06:09:30.460Z"
   },
   {
    "duration": 19,
    "start_time": "2022-09-14T06:09:30.480Z"
   },
   {
    "duration": 11,
    "start_time": "2022-09-14T06:09:30.501Z"
   },
   {
    "duration": 98,
    "start_time": "2022-09-14T06:09:30.513Z"
   },
   {
    "duration": 359,
    "start_time": "2022-09-14T06:09:30.613Z"
   },
   {
    "duration": 19,
    "start_time": "2022-09-14T06:09:30.974Z"
   },
   {
    "duration": 18,
    "start_time": "2022-09-14T06:09:30.995Z"
   },
   {
    "duration": 40,
    "start_time": "2022-09-14T06:09:31.016Z"
   },
   {
    "duration": 12,
    "start_time": "2022-09-14T06:09:31.058Z"
   },
   {
    "duration": 34,
    "start_time": "2022-09-14T06:09:31.072Z"
   },
   {
    "duration": 3,
    "start_time": "2022-09-14T06:09:31.108Z"
   },
   {
    "duration": 25,
    "start_time": "2022-09-14T06:09:31.112Z"
   },
   {
    "duration": 25,
    "start_time": "2022-09-14T06:09:31.139Z"
   },
   {
    "duration": 16,
    "start_time": "2022-09-14T06:09:31.166Z"
   },
   {
    "duration": 9,
    "start_time": "2022-09-14T06:09:31.183Z"
   },
   {
    "duration": 13,
    "start_time": "2022-09-14T06:09:31.194Z"
   },
   {
    "duration": 26,
    "start_time": "2022-09-14T06:09:31.209Z"
   },
   {
    "duration": 199,
    "start_time": "2022-09-14T06:09:31.237Z"
   },
   {
    "duration": 8,
    "start_time": "2022-09-14T06:09:31.438Z"
   },
   {
    "duration": 170,
    "start_time": "2022-09-14T06:09:31.448Z"
   },
   {
    "duration": 1546,
    "start_time": "2022-09-14T06:09:31.620Z"
   },
   {
    "duration": 1476,
    "start_time": "2022-09-14T06:09:33.168Z"
   },
   {
    "duration": 1508,
    "start_time": "2022-09-14T06:09:34.646Z"
   },
   {
    "duration": 3881,
    "start_time": "2022-09-14T06:09:36.156Z"
   },
   {
    "duration": 1332,
    "start_time": "2022-09-14T06:09:40.039Z"
   },
   {
    "duration": 3,
    "start_time": "2022-09-14T06:09:41.374Z"
   },
   {
    "duration": 8,
    "start_time": "2022-09-14T06:09:41.379Z"
   },
   {
    "duration": 58,
    "start_time": "2022-09-14T06:09:41.389Z"
   },
   {
    "duration": 6,
    "start_time": "2022-09-14T06:09:41.449Z"
   },
   {
    "duration": 5,
    "start_time": "2022-09-14T06:09:41.457Z"
   },
   {
    "duration": 1516,
    "start_time": "2022-09-14T06:09:41.464Z"
   },
   {
    "duration": 22,
    "start_time": "2022-09-14T06:09:42.981Z"
   },
   {
    "duration": 43,
    "start_time": "2022-09-14T06:09:43.004Z"
   },
   {
    "duration": 13,
    "start_time": "2022-09-14T06:09:43.049Z"
   },
   {
    "duration": 5,
    "start_time": "2022-09-14T06:09:43.063Z"
   },
   {
    "duration": 141,
    "start_time": "2022-09-14T06:09:43.069Z"
   },
   {
    "duration": 0,
    "start_time": "2022-09-14T06:09:43.211Z"
   },
   {
    "duration": 0,
    "start_time": "2022-09-14T06:09:43.212Z"
   },
   {
    "duration": 0,
    "start_time": "2022-09-14T06:09:43.213Z"
   },
   {
    "duration": 0,
    "start_time": "2022-09-14T06:09:43.214Z"
   },
   {
    "duration": 0,
    "start_time": "2022-09-14T06:09:43.215Z"
   },
   {
    "duration": 0,
    "start_time": "2022-09-14T06:09:43.216Z"
   },
   {
    "duration": 0,
    "start_time": "2022-09-14T06:09:43.217Z"
   },
   {
    "duration": 0,
    "start_time": "2022-09-14T06:09:43.218Z"
   },
   {
    "duration": 0,
    "start_time": "2022-09-14T06:09:43.219Z"
   },
   {
    "duration": 0,
    "start_time": "2022-09-14T06:09:43.220Z"
   },
   {
    "duration": 0,
    "start_time": "2022-09-14T06:09:43.221Z"
   },
   {
    "duration": 0,
    "start_time": "2022-09-14T06:09:43.221Z"
   },
   {
    "duration": 24,
    "start_time": "2022-09-14T06:10:13.768Z"
   },
   {
    "duration": 1360,
    "start_time": "2022-09-14T06:12:12.804Z"
   },
   {
    "duration": 699,
    "start_time": "2022-09-14T06:12:14.166Z"
   },
   {
    "duration": 17,
    "start_time": "2022-09-14T06:12:14.867Z"
   },
   {
    "duration": 18,
    "start_time": "2022-09-14T06:12:14.886Z"
   },
   {
    "duration": 12,
    "start_time": "2022-09-14T06:12:14.905Z"
   },
   {
    "duration": 100,
    "start_time": "2022-09-14T06:12:14.919Z"
   },
   {
    "duration": 356,
    "start_time": "2022-09-14T06:12:15.020Z"
   },
   {
    "duration": 20,
    "start_time": "2022-09-14T06:12:15.378Z"
   },
   {
    "duration": 34,
    "start_time": "2022-09-14T06:12:15.400Z"
   },
   {
    "duration": 29,
    "start_time": "2022-09-14T06:12:15.436Z"
   },
   {
    "duration": 12,
    "start_time": "2022-09-14T06:12:15.467Z"
   },
   {
    "duration": 28,
    "start_time": "2022-09-14T06:12:15.480Z"
   },
   {
    "duration": 12,
    "start_time": "2022-09-14T06:12:15.509Z"
   },
   {
    "duration": 20,
    "start_time": "2022-09-14T06:12:15.522Z"
   },
   {
    "duration": 17,
    "start_time": "2022-09-14T06:12:15.544Z"
   },
   {
    "duration": 21,
    "start_time": "2022-09-14T06:12:15.563Z"
   },
   {
    "duration": 6,
    "start_time": "2022-09-14T06:12:15.586Z"
   },
   {
    "duration": 8,
    "start_time": "2022-09-14T06:12:15.593Z"
   },
   {
    "duration": 21,
    "start_time": "2022-09-14T06:12:15.602Z"
   },
   {
    "duration": 213,
    "start_time": "2022-09-14T06:12:15.625Z"
   },
   {
    "duration": 9,
    "start_time": "2022-09-14T06:12:15.840Z"
   },
   {
    "duration": 182,
    "start_time": "2022-09-14T06:12:15.851Z"
   },
   {
    "duration": 1583,
    "start_time": "2022-09-14T06:12:16.035Z"
   },
   {
    "duration": 1567,
    "start_time": "2022-09-14T06:12:17.620Z"
   },
   {
    "duration": 1567,
    "start_time": "2022-09-14T06:12:19.189Z"
   },
   {
    "duration": 3902,
    "start_time": "2022-09-14T06:12:20.758Z"
   },
   {
    "duration": 874,
    "start_time": "2022-09-14T06:12:24.662Z"
   },
   {
    "duration": 2,
    "start_time": "2022-09-14T06:12:25.546Z"
   },
   {
    "duration": 12,
    "start_time": "2022-09-14T06:12:25.550Z"
   },
   {
    "duration": 7,
    "start_time": "2022-09-14T06:12:25.564Z"
   },
   {
    "duration": 8,
    "start_time": "2022-09-14T06:12:25.572Z"
   },
   {
    "duration": 32,
    "start_time": "2022-09-14T06:12:25.582Z"
   },
   {
    "duration": 1293,
    "start_time": "2022-09-14T06:12:25.615Z"
   },
   {
    "duration": 4,
    "start_time": "2022-09-14T06:12:26.909Z"
   },
   {
    "duration": 7,
    "start_time": "2022-09-14T06:12:26.914Z"
   },
   {
    "duration": 25,
    "start_time": "2022-09-14T06:12:26.922Z"
   },
   {
    "duration": 5,
    "start_time": "2022-09-14T06:12:26.948Z"
   },
   {
    "duration": 1593,
    "start_time": "2022-09-14T06:12:26.954Z"
   },
   {
    "duration": 30229,
    "start_time": "2022-09-14T06:12:28.549Z"
   },
   {
    "duration": 4394,
    "start_time": "2022-09-14T06:12:58.780Z"
   },
   {
    "duration": 40394,
    "start_time": "2022-09-14T06:13:03.176Z"
   },
   {
    "duration": 3,
    "start_time": "2022-09-14T06:13:43.571Z"
   },
   {
    "duration": 18,
    "start_time": "2022-09-14T06:13:43.576Z"
   },
   {
    "duration": 58,
    "start_time": "2022-09-14T06:13:43.596Z"
   },
   {
    "duration": 98,
    "start_time": "2022-09-14T06:13:43.656Z"
   },
   {
    "duration": 99,
    "start_time": "2022-09-14T06:13:43.755Z"
   },
   {
    "duration": 7,
    "start_time": "2022-09-14T06:13:43.947Z"
   },
   {
    "duration": 105,
    "start_time": "2022-09-14T06:13:43.956Z"
   },
   {
    "duration": 6,
    "start_time": "2022-09-14T06:13:44.063Z"
   },
   {
    "duration": 10,
    "start_time": "2022-09-14T06:13:44.070Z"
   },
   {
    "duration": 23,
    "start_time": "2022-09-14T06:13:44.698Z"
   },
   {
    "duration": 5,
    "start_time": "2022-09-14T06:13:48.565Z"
   },
   {
    "duration": 9,
    "start_time": "2022-09-14T06:13:50.834Z"
   },
   {
    "duration": 2,
    "start_time": "2022-09-14T06:13:52.694Z"
   },
   {
    "duration": 120,
    "start_time": "2022-09-14T06:13:53.660Z"
   },
   {
    "duration": 111,
    "start_time": "2022-09-14T06:15:31.962Z"
   },
   {
    "duration": 3,
    "start_time": "2022-09-14T06:17:56.844Z"
   },
   {
    "duration": 24,
    "start_time": "2022-09-14T06:17:57.653Z"
   },
   {
    "duration": 13,
    "start_time": "2022-09-14T06:28:57.215Z"
   },
   {
    "duration": 5,
    "start_time": "2022-09-14T06:29:01.981Z"
   },
   {
    "duration": 9,
    "start_time": "2022-09-14T06:29:03.356Z"
   },
   {
    "duration": 3,
    "start_time": "2022-09-14T06:29:03.922Z"
   },
   {
    "duration": 26,
    "start_time": "2022-09-14T06:29:04.581Z"
   },
   {
    "duration": 1411,
    "start_time": "2022-09-14T06:29:09.298Z"
   },
   {
    "duration": 711,
    "start_time": "2022-09-14T06:29:10.711Z"
   },
   {
    "duration": 25,
    "start_time": "2022-09-14T06:29:11.424Z"
   },
   {
    "duration": 15,
    "start_time": "2022-09-14T06:29:11.451Z"
   },
   {
    "duration": 12,
    "start_time": "2022-09-14T06:29:11.468Z"
   },
   {
    "duration": 106,
    "start_time": "2022-09-14T06:29:11.481Z"
   },
   {
    "duration": 366,
    "start_time": "2022-09-14T06:29:11.589Z"
   },
   {
    "duration": 17,
    "start_time": "2022-09-14T06:29:11.957Z"
   },
   {
    "duration": 21,
    "start_time": "2022-09-14T06:29:11.975Z"
   },
   {
    "duration": 21,
    "start_time": "2022-09-14T06:29:11.998Z"
   },
   {
    "duration": 31,
    "start_time": "2022-09-14T06:29:12.021Z"
   },
   {
    "duration": 21,
    "start_time": "2022-09-14T06:29:12.054Z"
   },
   {
    "duration": 3,
    "start_time": "2022-09-14T06:29:12.076Z"
   },
   {
    "duration": 9,
    "start_time": "2022-09-14T06:29:12.081Z"
   },
   {
    "duration": 6,
    "start_time": "2022-09-14T06:29:12.092Z"
   },
   {
    "duration": 11,
    "start_time": "2022-09-14T06:29:12.100Z"
   },
   {
    "duration": 35,
    "start_time": "2022-09-14T06:29:12.112Z"
   },
   {
    "duration": 6,
    "start_time": "2022-09-14T06:29:12.149Z"
   },
   {
    "duration": 9,
    "start_time": "2022-09-14T06:29:12.157Z"
   },
   {
    "duration": 199,
    "start_time": "2022-09-14T06:29:12.168Z"
   },
   {
    "duration": 9,
    "start_time": "2022-09-14T06:29:12.369Z"
   },
   {
    "duration": 184,
    "start_time": "2022-09-14T06:29:12.380Z"
   },
   {
    "duration": 1604,
    "start_time": "2022-09-14T06:29:12.566Z"
   },
   {
    "duration": 1593,
    "start_time": "2022-09-14T06:29:14.172Z"
   },
   {
    "duration": 1588,
    "start_time": "2022-09-14T06:29:15.767Z"
   },
   {
    "duration": 4657,
    "start_time": "2022-09-14T06:29:17.356Z"
   },
   {
    "duration": 790,
    "start_time": "2022-09-14T06:29:22.014Z"
   },
   {
    "duration": 2,
    "start_time": "2022-09-14T06:29:22.808Z"
   },
   {
    "duration": 13,
    "start_time": "2022-09-14T06:29:22.812Z"
   },
   {
    "duration": 11,
    "start_time": "2022-09-14T06:29:22.826Z"
   },
   {
    "duration": 4,
    "start_time": "2022-09-14T06:29:22.839Z"
   },
   {
    "duration": 4,
    "start_time": "2022-09-14T06:29:22.845Z"
   },
   {
    "duration": 1095,
    "start_time": "2022-09-14T06:29:22.850Z"
   },
   {
    "duration": 12,
    "start_time": "2022-09-14T06:29:23.946Z"
   },
   {
    "duration": 5,
    "start_time": "2022-09-14T06:29:23.959Z"
   },
   {
    "duration": 26,
    "start_time": "2022-09-14T06:29:23.965Z"
   },
   {
    "duration": 7,
    "start_time": "2022-09-14T06:29:23.993Z"
   },
   {
    "duration": 123,
    "start_time": "2022-09-14T06:29:24.001Z"
   },
   {
    "duration": 0,
    "start_time": "2022-09-14T06:29:24.126Z"
   },
   {
    "duration": 0,
    "start_time": "2022-09-14T06:29:24.127Z"
   },
   {
    "duration": 0,
    "start_time": "2022-09-14T06:29:24.128Z"
   },
   {
    "duration": 0,
    "start_time": "2022-09-14T06:29:24.129Z"
   },
   {
    "duration": 0,
    "start_time": "2022-09-14T06:29:24.130Z"
   },
   {
    "duration": 0,
    "start_time": "2022-09-14T06:29:24.131Z"
   },
   {
    "duration": 0,
    "start_time": "2022-09-14T06:29:24.132Z"
   },
   {
    "duration": 0,
    "start_time": "2022-09-14T06:29:24.133Z"
   },
   {
    "duration": 0,
    "start_time": "2022-09-14T06:29:24.134Z"
   },
   {
    "duration": 0,
    "start_time": "2022-09-14T06:29:24.147Z"
   },
   {
    "duration": 0,
    "start_time": "2022-09-14T06:29:24.148Z"
   },
   {
    "duration": 0,
    "start_time": "2022-09-14T06:29:24.149Z"
   },
   {
    "duration": 2,
    "start_time": "2022-09-14T06:29:52.183Z"
   },
   {
    "duration": 23,
    "start_time": "2022-09-14T06:29:52.393Z"
   },
   {
    "duration": 5,
    "start_time": "2022-09-14T06:30:24.456Z"
   },
   {
    "duration": 4,
    "start_time": "2022-09-14T06:30:42.426Z"
   },
   {
    "duration": 1438,
    "start_time": "2022-09-14T06:31:09.162Z"
   },
   {
    "duration": 702,
    "start_time": "2022-09-14T06:31:10.602Z"
   },
   {
    "duration": 18,
    "start_time": "2022-09-14T06:31:11.306Z"
   },
   {
    "duration": 24,
    "start_time": "2022-09-14T06:31:11.326Z"
   },
   {
    "duration": 12,
    "start_time": "2022-09-14T06:31:11.351Z"
   },
   {
    "duration": 112,
    "start_time": "2022-09-14T06:31:11.364Z"
   },
   {
    "duration": 362,
    "start_time": "2022-09-14T06:31:11.478Z"
   },
   {
    "duration": 18,
    "start_time": "2022-09-14T06:31:11.846Z"
   },
   {
    "duration": 19,
    "start_time": "2022-09-14T06:31:11.865Z"
   },
   {
    "duration": 22,
    "start_time": "2022-09-14T06:31:11.888Z"
   },
   {
    "duration": 12,
    "start_time": "2022-09-14T06:31:11.911Z"
   },
   {
    "duration": 20,
    "start_time": "2022-09-14T06:31:11.946Z"
   },
   {
    "duration": 4,
    "start_time": "2022-09-14T06:31:11.968Z"
   },
   {
    "duration": 11,
    "start_time": "2022-09-14T06:31:11.973Z"
   },
   {
    "duration": 7,
    "start_time": "2022-09-14T06:31:11.985Z"
   },
   {
    "duration": 13,
    "start_time": "2022-09-14T06:31:11.993Z"
   },
   {
    "duration": 40,
    "start_time": "2022-09-14T06:31:12.007Z"
   },
   {
    "duration": 7,
    "start_time": "2022-09-14T06:31:12.048Z"
   },
   {
    "duration": 11,
    "start_time": "2022-09-14T06:31:12.056Z"
   },
   {
    "duration": 194,
    "start_time": "2022-09-14T06:31:12.068Z"
   },
   {
    "duration": 8,
    "start_time": "2022-09-14T06:31:12.263Z"
   },
   {
    "duration": 184,
    "start_time": "2022-09-14T06:31:12.272Z"
   },
   {
    "duration": 1616,
    "start_time": "2022-09-14T06:31:12.458Z"
   },
   {
    "duration": 1574,
    "start_time": "2022-09-14T06:31:14.076Z"
   },
   {
    "duration": 1486,
    "start_time": "2022-09-14T06:31:15.652Z"
   },
   {
    "duration": 3892,
    "start_time": "2022-09-14T06:31:17.140Z"
   },
   {
    "duration": 857,
    "start_time": "2022-09-14T06:31:21.033Z"
   },
   {
    "duration": 2,
    "start_time": "2022-09-14T06:31:21.893Z"
   },
   {
    "duration": 11,
    "start_time": "2022-09-14T06:31:21.896Z"
   },
   {
    "duration": 11,
    "start_time": "2022-09-14T06:31:21.908Z"
   },
   {
    "duration": 4,
    "start_time": "2022-09-14T06:31:21.921Z"
   },
   {
    "duration": 7,
    "start_time": "2022-09-14T06:31:21.927Z"
   },
   {
    "duration": 1110,
    "start_time": "2022-09-14T06:31:21.935Z"
   },
   {
    "duration": 116,
    "start_time": "2022-09-14T06:31:23.047Z"
   },
   {
    "duration": 0,
    "start_time": "2022-09-14T06:31:23.165Z"
   },
   {
    "duration": 1,
    "start_time": "2022-09-14T06:31:23.166Z"
   },
   {
    "duration": 0,
    "start_time": "2022-09-14T06:31:23.169Z"
   },
   {
    "duration": 0,
    "start_time": "2022-09-14T06:31:23.170Z"
   },
   {
    "duration": 0,
    "start_time": "2022-09-14T06:31:23.171Z"
   },
   {
    "duration": 0,
    "start_time": "2022-09-14T06:31:23.172Z"
   },
   {
    "duration": 0,
    "start_time": "2022-09-14T06:31:23.173Z"
   },
   {
    "duration": 0,
    "start_time": "2022-09-14T06:31:23.174Z"
   },
   {
    "duration": 0,
    "start_time": "2022-09-14T06:31:23.175Z"
   },
   {
    "duration": 0,
    "start_time": "2022-09-14T06:31:23.177Z"
   },
   {
    "duration": 0,
    "start_time": "2022-09-14T06:31:23.177Z"
   },
   {
    "duration": 0,
    "start_time": "2022-09-14T06:31:23.179Z"
   },
   {
    "duration": 0,
    "start_time": "2022-09-14T06:31:23.180Z"
   },
   {
    "duration": 0,
    "start_time": "2022-09-14T06:31:23.181Z"
   },
   {
    "duration": 0,
    "start_time": "2022-09-14T06:31:23.183Z"
   },
   {
    "duration": 0,
    "start_time": "2022-09-14T06:31:23.184Z"
   },
   {
    "duration": 0,
    "start_time": "2022-09-14T06:31:23.185Z"
   },
   {
    "duration": 0,
    "start_time": "2022-09-14T06:31:23.186Z"
   },
   {
    "duration": 2,
    "start_time": "2022-09-14T06:32:44.255Z"
   },
   {
    "duration": 5,
    "start_time": "2022-09-14T06:32:45.444Z"
   },
   {
    "duration": 9,
    "start_time": "2022-09-14T06:32:46.839Z"
   },
   {
    "duration": 10,
    "start_time": "2022-09-14T06:32:48.757Z"
   },
   {
    "duration": 3,
    "start_time": "2022-09-14T06:32:50.637Z"
   },
   {
    "duration": 1909,
    "start_time": "2022-09-14T06:32:51.439Z"
   },
   {
    "duration": 5,
    "start_time": "2022-09-14T06:32:56.699Z"
   },
   {
    "duration": 12,
    "start_time": "2022-09-14T06:33:03.097Z"
   },
   {
    "duration": 4,
    "start_time": "2022-09-14T06:33:04.439Z"
   },
   {
    "duration": 4,
    "start_time": "2022-09-14T06:33:06.481Z"
   },
   {
    "duration": 2,
    "start_time": "2022-09-14T06:33:12.467Z"
   },
   {
    "duration": 4,
    "start_time": "2022-09-14T06:33:15.043Z"
   },
   {
    "duration": 3,
    "start_time": "2022-09-14T06:33:23.106Z"
   },
   {
    "duration": 1354,
    "start_time": "2022-09-14T06:33:31.109Z"
   },
   {
    "duration": 675,
    "start_time": "2022-09-14T06:33:32.464Z"
   },
   {
    "duration": 20,
    "start_time": "2022-09-14T06:33:33.141Z"
   },
   {
    "duration": 14,
    "start_time": "2022-09-14T06:33:33.163Z"
   },
   {
    "duration": 11,
    "start_time": "2022-09-14T06:33:33.179Z"
   },
   {
    "duration": 105,
    "start_time": "2022-09-14T06:33:33.192Z"
   },
   {
    "duration": 344,
    "start_time": "2022-09-14T06:33:33.299Z"
   },
   {
    "duration": 18,
    "start_time": "2022-09-14T06:33:33.646Z"
   },
   {
    "duration": 17,
    "start_time": "2022-09-14T06:33:33.665Z"
   },
   {
    "duration": 21,
    "start_time": "2022-09-14T06:33:33.685Z"
   },
   {
    "duration": 45,
    "start_time": "2022-09-14T06:33:33.708Z"
   },
   {
    "duration": 23,
    "start_time": "2022-09-14T06:33:33.755Z"
   },
   {
    "duration": 3,
    "start_time": "2022-09-14T06:33:33.779Z"
   },
   {
    "duration": 9,
    "start_time": "2022-09-14T06:33:33.784Z"
   },
   {
    "duration": 6,
    "start_time": "2022-09-14T06:33:33.795Z"
   },
   {
    "duration": 15,
    "start_time": "2022-09-14T06:33:33.803Z"
   },
   {
    "duration": 7,
    "start_time": "2022-09-14T06:33:33.848Z"
   },
   {
    "duration": 7,
    "start_time": "2022-09-14T06:33:33.857Z"
   },
   {
    "duration": 9,
    "start_time": "2022-09-14T06:33:33.866Z"
   },
   {
    "duration": 203,
    "start_time": "2022-09-14T06:33:33.877Z"
   },
   {
    "duration": 8,
    "start_time": "2022-09-14T06:33:34.082Z"
   },
   {
    "duration": 172,
    "start_time": "2022-09-14T06:33:34.091Z"
   },
   {
    "duration": 1485,
    "start_time": "2022-09-14T06:33:34.265Z"
   },
   {
    "duration": 1373,
    "start_time": "2022-09-14T06:33:35.752Z"
   },
   {
    "duration": 1506,
    "start_time": "2022-09-14T06:33:37.127Z"
   },
   {
    "duration": 3722,
    "start_time": "2022-09-14T06:33:38.635Z"
   },
   {
    "duration": 792,
    "start_time": "2022-09-14T06:33:42.359Z"
   },
   {
    "duration": 3,
    "start_time": "2022-09-14T06:33:43.154Z"
   },
   {
    "duration": 12,
    "start_time": "2022-09-14T06:33:43.158Z"
   },
   {
    "duration": 15,
    "start_time": "2022-09-14T06:33:43.171Z"
   },
   {
    "duration": 9,
    "start_time": "2022-09-14T06:33:43.187Z"
   },
   {
    "duration": 7,
    "start_time": "2022-09-14T06:33:43.197Z"
   },
   {
    "duration": 1082,
    "start_time": "2022-09-14T06:33:43.206Z"
   },
   {
    "duration": 12,
    "start_time": "2022-09-14T06:33:44.290Z"
   },
   {
    "duration": 4,
    "start_time": "2022-09-14T06:33:44.304Z"
   },
   {
    "duration": 7,
    "start_time": "2022-09-14T06:33:44.309Z"
   },
   {
    "duration": 11,
    "start_time": "2022-09-14T06:33:44.318Z"
   },
   {
    "duration": 17,
    "start_time": "2022-09-14T06:33:44.331Z"
   },
   {
    "duration": 134,
    "start_time": "2022-09-14T06:33:44.350Z"
   },
   {
    "duration": 0,
    "start_time": "2022-09-14T06:33:44.485Z"
   },
   {
    "duration": 0,
    "start_time": "2022-09-14T06:33:44.486Z"
   },
   {
    "duration": 1,
    "start_time": "2022-09-14T06:33:44.487Z"
   },
   {
    "duration": 0,
    "start_time": "2022-09-14T06:33:44.489Z"
   },
   {
    "duration": 0,
    "start_time": "2022-09-14T06:33:44.490Z"
   },
   {
    "duration": 0,
    "start_time": "2022-09-14T06:33:44.491Z"
   },
   {
    "duration": 0,
    "start_time": "2022-09-14T06:33:44.492Z"
   },
   {
    "duration": 0,
    "start_time": "2022-09-14T06:33:44.493Z"
   },
   {
    "duration": 0,
    "start_time": "2022-09-14T06:33:44.494Z"
   },
   {
    "duration": 0,
    "start_time": "2022-09-14T06:33:44.495Z"
   },
   {
    "duration": 0,
    "start_time": "2022-09-14T06:33:44.497Z"
   },
   {
    "duration": 0,
    "start_time": "2022-09-14T06:33:44.498Z"
   },
   {
    "duration": 4,
    "start_time": "2022-09-14T06:34:00.242Z"
   },
   {
    "duration": 1462,
    "start_time": "2022-09-14T06:59:48.871Z"
   },
   {
    "duration": 710,
    "start_time": "2022-09-14T06:59:50.335Z"
   },
   {
    "duration": 18,
    "start_time": "2022-09-14T06:59:51.047Z"
   },
   {
    "duration": 14,
    "start_time": "2022-09-14T06:59:51.067Z"
   },
   {
    "duration": 11,
    "start_time": "2022-09-14T06:59:51.082Z"
   },
   {
    "duration": 100,
    "start_time": "2022-09-14T06:59:51.095Z"
   },
   {
    "duration": 369,
    "start_time": "2022-09-14T06:59:51.197Z"
   },
   {
    "duration": 19,
    "start_time": "2022-09-14T06:59:51.568Z"
   },
   {
    "duration": 24,
    "start_time": "2022-09-14T06:59:51.589Z"
   },
   {
    "duration": 37,
    "start_time": "2022-09-14T06:59:51.616Z"
   },
   {
    "duration": 12,
    "start_time": "2022-09-14T06:59:51.655Z"
   },
   {
    "duration": 23,
    "start_time": "2022-09-14T06:59:51.669Z"
   },
   {
    "duration": 4,
    "start_time": "2022-09-14T06:59:51.694Z"
   },
   {
    "duration": 13,
    "start_time": "2022-09-14T06:59:51.701Z"
   },
   {
    "duration": 5,
    "start_time": "2022-09-14T06:59:51.716Z"
   },
   {
    "duration": 14,
    "start_time": "2022-09-14T06:59:51.747Z"
   },
   {
    "duration": 7,
    "start_time": "2022-09-14T06:59:51.762Z"
   },
   {
    "duration": 8,
    "start_time": "2022-09-14T06:59:51.771Z"
   },
   {
    "duration": 9,
    "start_time": "2022-09-14T06:59:51.781Z"
   },
   {
    "duration": 212,
    "start_time": "2022-09-14T06:59:51.792Z"
   },
   {
    "duration": 9,
    "start_time": "2022-09-14T06:59:52.006Z"
   },
   {
    "duration": 197,
    "start_time": "2022-09-14T06:59:52.017Z"
   },
   {
    "duration": 1474,
    "start_time": "2022-09-14T06:59:52.216Z"
   },
   {
    "duration": 1353,
    "start_time": "2022-09-14T06:59:53.692Z"
   },
   {
    "duration": 1492,
    "start_time": "2022-09-14T06:59:55.049Z"
   },
   {
    "duration": 3877,
    "start_time": "2022-09-14T06:59:56.543Z"
   },
   {
    "duration": 824,
    "start_time": "2022-09-14T07:00:00.422Z"
   },
   {
    "duration": 3,
    "start_time": "2022-09-14T07:00:01.249Z"
   },
   {
    "duration": 59,
    "start_time": "2022-09-14T07:00:01.254Z"
   },
   {
    "duration": 14,
    "start_time": "2022-09-14T07:00:01.315Z"
   },
   {
    "duration": 16,
    "start_time": "2022-09-14T07:00:01.330Z"
   },
   {
    "duration": 13,
    "start_time": "2022-09-14T07:00:01.348Z"
   },
   {
    "duration": 1228,
    "start_time": "2022-09-14T07:00:01.362Z"
   },
   {
    "duration": 5,
    "start_time": "2022-09-14T07:00:02.592Z"
   },
   {
    "duration": 18,
    "start_time": "2022-09-14T07:00:02.599Z"
   },
   {
    "duration": 7,
    "start_time": "2022-09-14T07:00:02.619Z"
   },
   {
    "duration": 1829,
    "start_time": "2022-09-14T07:00:02.628Z"
   },
   {
    "duration": 32721,
    "start_time": "2022-09-14T07:00:04.548Z"
   },
   {
    "duration": 5261,
    "start_time": "2022-09-14T07:00:37.271Z"
   },
   {
    "duration": 39479,
    "start_time": "2022-09-14T07:00:42.533Z"
   },
   {
    "duration": 2,
    "start_time": "2022-09-14T07:01:22.014Z"
   },
   {
    "duration": 24,
    "start_time": "2022-09-14T07:01:22.018Z"
   },
   {
    "duration": 12,
    "start_time": "2022-09-14T07:01:22.043Z"
   },
   {
    "duration": 191,
    "start_time": "2022-09-14T07:01:22.057Z"
   },
   {
    "duration": 13,
    "start_time": "2022-09-14T07:01:22.250Z"
   },
   {
    "duration": 84,
    "start_time": "2022-09-14T07:01:22.265Z"
   },
   {
    "duration": 105,
    "start_time": "2022-09-14T07:01:22.350Z"
   },
   {
    "duration": 8,
    "start_time": "2022-09-14T07:01:22.457Z"
   },
   {
    "duration": 12,
    "start_time": "2022-09-14T07:01:22.466Z"
   },
   {
    "duration": 4,
    "start_time": "2022-09-14T07:01:22.481Z"
   },
   {
    "duration": 13,
    "start_time": "2022-09-14T07:01:22.487Z"
   },
   {
    "duration": 17,
    "start_time": "2022-09-14T07:07:53.840Z"
   },
   {
    "duration": 19,
    "start_time": "2022-09-14T07:08:13.962Z"
   },
   {
    "duration": 6,
    "start_time": "2022-09-14T07:08:16.442Z"
   },
   {
    "duration": 8,
    "start_time": "2022-09-14T07:08:17.434Z"
   },
   {
    "duration": 3,
    "start_time": "2022-09-14T07:08:17.722Z"
   },
   {
    "duration": 1057,
    "start_time": "2022-09-14T07:08:18.191Z"
   },
   {
    "duration": 1503,
    "start_time": "2022-09-14T07:08:27.961Z"
   },
   {
    "duration": 723,
    "start_time": "2022-09-14T07:08:29.466Z"
   },
   {
    "duration": 18,
    "start_time": "2022-09-14T07:08:30.191Z"
   },
   {
    "duration": 15,
    "start_time": "2022-09-14T07:08:30.211Z"
   },
   {
    "duration": 30,
    "start_time": "2022-09-14T07:08:30.228Z"
   },
   {
    "duration": 91,
    "start_time": "2022-09-14T07:08:30.260Z"
   },
   {
    "duration": 342,
    "start_time": "2022-09-14T07:08:30.353Z"
   },
   {
    "duration": 18,
    "start_time": "2022-09-14T07:08:30.696Z"
   },
   {
    "duration": 43,
    "start_time": "2022-09-14T07:08:30.716Z"
   },
   {
    "duration": 45,
    "start_time": "2022-09-14T07:08:30.762Z"
   },
   {
    "duration": 14,
    "start_time": "2022-09-14T07:08:30.809Z"
   },
   {
    "duration": 54,
    "start_time": "2022-09-14T07:08:30.825Z"
   },
   {
    "duration": 3,
    "start_time": "2022-09-14T07:08:30.881Z"
   },
   {
    "duration": 15,
    "start_time": "2022-09-14T07:08:30.886Z"
   },
   {
    "duration": 22,
    "start_time": "2022-09-14T07:08:30.902Z"
   },
   {
    "duration": 23,
    "start_time": "2022-09-14T07:08:30.927Z"
   },
   {
    "duration": 12,
    "start_time": "2022-09-14T07:08:30.951Z"
   },
   {
    "duration": 25,
    "start_time": "2022-09-14T07:08:30.965Z"
   },
   {
    "duration": 22,
    "start_time": "2022-09-14T07:08:30.992Z"
   },
   {
    "duration": 231,
    "start_time": "2022-09-14T07:08:31.016Z"
   },
   {
    "duration": 8,
    "start_time": "2022-09-14T07:08:31.249Z"
   },
   {
    "duration": 179,
    "start_time": "2022-09-14T07:08:31.258Z"
   },
   {
    "duration": 1419,
    "start_time": "2022-09-14T07:08:31.439Z"
   },
   {
    "duration": 1479,
    "start_time": "2022-09-14T07:08:32.860Z"
   },
   {
    "duration": 1485,
    "start_time": "2022-09-14T07:08:34.340Z"
   },
   {
    "duration": 3745,
    "start_time": "2022-09-14T07:08:35.826Z"
   },
   {
    "duration": 778,
    "start_time": "2022-09-14T07:08:39.573Z"
   },
   {
    "duration": 2,
    "start_time": "2022-09-14T07:08:40.354Z"
   },
   {
    "duration": 13,
    "start_time": "2022-09-14T07:08:40.357Z"
   },
   {
    "duration": 16,
    "start_time": "2022-09-14T07:08:40.372Z"
   },
   {
    "duration": 6,
    "start_time": "2022-09-14T07:08:40.389Z"
   },
   {
    "duration": 6,
    "start_time": "2022-09-14T07:08:40.396Z"
   },
   {
    "duration": 1078,
    "start_time": "2022-09-14T07:08:40.403Z"
   },
   {
    "duration": 16,
    "start_time": "2022-09-14T07:08:41.482Z"
   },
   {
    "duration": 4,
    "start_time": "2022-09-14T07:08:41.500Z"
   },
   {
    "duration": 13,
    "start_time": "2022-09-14T07:08:41.505Z"
   },
   {
    "duration": 5,
    "start_time": "2022-09-14T07:08:41.519Z"
   },
   {
    "duration": 1123,
    "start_time": "2022-09-14T07:08:41.526Z"
   },
   {
    "duration": 23756,
    "start_time": "2022-09-14T07:08:42.652Z"
   },
   {
    "duration": 3577,
    "start_time": "2022-09-14T07:09:06.410Z"
   },
   {
    "duration": 30859,
    "start_time": "2022-09-14T07:09:09.989Z"
   },
   {
    "duration": 6,
    "start_time": "2022-09-14T07:09:40.850Z"
   },
   {
    "duration": 111,
    "start_time": "2022-09-14T07:09:40.949Z"
   },
   {
    "duration": 7,
    "start_time": "2022-09-14T07:09:41.061Z"
   },
   {
    "duration": 104,
    "start_time": "2022-09-14T07:09:41.146Z"
   },
   {
    "duration": 11,
    "start_time": "2022-09-14T07:09:41.253Z"
   },
   {
    "duration": 85,
    "start_time": "2022-09-14T07:09:41.266Z"
   },
   {
    "duration": 110,
    "start_time": "2022-09-14T07:09:41.353Z"
   },
   {
    "duration": 4,
    "start_time": "2022-09-14T07:09:41.465Z"
   },
   {
    "duration": 10,
    "start_time": "2022-09-14T07:09:41.470Z"
   },
   {
    "duration": 1530,
    "start_time": "2022-09-14T07:11:05.363Z"
   },
   {
    "duration": 717,
    "start_time": "2022-09-14T07:11:06.895Z"
   },
   {
    "duration": 20,
    "start_time": "2022-09-14T07:11:07.614Z"
   },
   {
    "duration": 26,
    "start_time": "2022-09-14T07:11:07.636Z"
   },
   {
    "duration": 13,
    "start_time": "2022-09-14T07:11:07.664Z"
   },
   {
    "duration": 112,
    "start_time": "2022-09-14T07:11:07.678Z"
   },
   {
    "duration": 361,
    "start_time": "2022-09-14T07:11:07.792Z"
   },
   {
    "duration": 19,
    "start_time": "2022-09-14T07:11:08.155Z"
   },
   {
    "duration": 29,
    "start_time": "2022-09-14T07:11:08.175Z"
   },
   {
    "duration": 33,
    "start_time": "2022-09-14T07:11:08.206Z"
   },
   {
    "duration": 13,
    "start_time": "2022-09-14T07:11:08.241Z"
   },
   {
    "duration": 27,
    "start_time": "2022-09-14T07:11:08.255Z"
   },
   {
    "duration": 3,
    "start_time": "2022-09-14T07:11:08.283Z"
   },
   {
    "duration": 11,
    "start_time": "2022-09-14T07:11:08.288Z"
   },
   {
    "duration": 5,
    "start_time": "2022-09-14T07:11:08.300Z"
   },
   {
    "duration": 12,
    "start_time": "2022-09-14T07:11:08.307Z"
   },
   {
    "duration": 27,
    "start_time": "2022-09-14T07:11:08.320Z"
   },
   {
    "duration": 6,
    "start_time": "2022-09-14T07:11:08.349Z"
   },
   {
    "duration": 9,
    "start_time": "2022-09-14T07:11:08.356Z"
   },
   {
    "duration": 194,
    "start_time": "2022-09-14T07:11:08.367Z"
   },
   {
    "duration": 8,
    "start_time": "2022-09-14T07:11:08.563Z"
   },
   {
    "duration": 187,
    "start_time": "2022-09-14T07:11:08.572Z"
   },
   {
    "duration": 1661,
    "start_time": "2022-09-14T07:11:08.761Z"
   },
   {
    "duration": 1554,
    "start_time": "2022-09-14T07:11:10.424Z"
   },
   {
    "duration": 1598,
    "start_time": "2022-09-14T07:11:11.979Z"
   },
   {
    "duration": 3896,
    "start_time": "2022-09-14T07:11:13.579Z"
   },
   {
    "duration": 857,
    "start_time": "2022-09-14T07:11:17.477Z"
   },
   {
    "duration": 3,
    "start_time": "2022-09-14T07:11:18.338Z"
   },
   {
    "duration": 15,
    "start_time": "2022-09-14T07:11:18.346Z"
   },
   {
    "duration": 8,
    "start_time": "2022-09-14T07:11:18.363Z"
   },
   {
    "duration": 11,
    "start_time": "2022-09-14T07:11:18.373Z"
   },
   {
    "duration": 7,
    "start_time": "2022-09-14T07:11:18.385Z"
   },
   {
    "duration": 1228,
    "start_time": "2022-09-14T07:11:18.394Z"
   },
   {
    "duration": 3,
    "start_time": "2022-09-14T07:11:19.623Z"
   },
   {
    "duration": 5,
    "start_time": "2022-09-14T07:11:19.628Z"
   },
   {
    "duration": 26,
    "start_time": "2022-09-14T07:11:19.634Z"
   },
   {
    "duration": 8,
    "start_time": "2022-09-14T07:11:19.661Z"
   },
   {
    "duration": 1481,
    "start_time": "2022-09-14T07:11:19.670Z"
   },
   {
    "duration": 29940,
    "start_time": "2022-09-14T07:11:21.153Z"
   },
   {
    "duration": 4364,
    "start_time": "2022-09-14T07:11:51.095Z"
   },
   {
    "duration": 41366,
    "start_time": "2022-09-14T07:11:55.461Z"
   },
   {
    "duration": 2,
    "start_time": "2022-09-14T07:12:36.829Z"
   },
   {
    "duration": 22,
    "start_time": "2022-09-14T07:12:36.833Z"
   },
   {
    "duration": 6,
    "start_time": "2022-09-14T07:12:36.857Z"
   },
   {
    "duration": 186,
    "start_time": "2022-09-14T07:12:36.865Z"
   },
   {
    "duration": 11,
    "start_time": "2022-09-14T07:12:37.052Z"
   },
   {
    "duration": 8,
    "start_time": "2022-09-14T07:12:37.147Z"
   },
   {
    "duration": 105,
    "start_time": "2022-09-14T07:12:37.156Z"
   },
   {
    "duration": 3,
    "start_time": "2022-09-14T07:12:37.263Z"
   },
   {
    "duration": 9,
    "start_time": "2022-09-14T07:12:37.268Z"
   },
   {
    "duration": 1361,
    "start_time": "2022-09-14T07:13:57.599Z"
   },
   {
    "duration": 697,
    "start_time": "2022-09-14T07:13:58.962Z"
   },
   {
    "duration": 18,
    "start_time": "2022-09-14T07:13:59.661Z"
   },
   {
    "duration": 14,
    "start_time": "2022-09-14T07:13:59.681Z"
   },
   {
    "duration": 15,
    "start_time": "2022-09-14T07:13:59.696Z"
   },
   {
    "duration": 93,
    "start_time": "2022-09-14T07:13:59.712Z"
   },
   {
    "duration": 345,
    "start_time": "2022-09-14T07:13:59.807Z"
   },
   {
    "duration": 18,
    "start_time": "2022-09-14T07:14:00.153Z"
   },
   {
    "duration": 16,
    "start_time": "2022-09-14T07:14:00.173Z"
   },
   {
    "duration": 30,
    "start_time": "2022-09-14T07:14:00.192Z"
   },
   {
    "duration": 28,
    "start_time": "2022-09-14T07:14:00.224Z"
   },
   {
    "duration": 39,
    "start_time": "2022-09-14T07:14:00.254Z"
   },
   {
    "duration": 3,
    "start_time": "2022-09-14T07:14:00.294Z"
   },
   {
    "duration": 29,
    "start_time": "2022-09-14T07:14:00.299Z"
   },
   {
    "duration": 25,
    "start_time": "2022-09-14T07:14:00.329Z"
   },
   {
    "duration": 49,
    "start_time": "2022-09-14T07:14:00.356Z"
   },
   {
    "duration": 21,
    "start_time": "2022-09-14T07:14:00.407Z"
   },
   {
    "duration": 38,
    "start_time": "2022-09-14T07:14:00.429Z"
   },
   {
    "duration": 37,
    "start_time": "2022-09-14T07:14:00.469Z"
   },
   {
    "duration": 210,
    "start_time": "2022-09-14T07:14:00.508Z"
   },
   {
    "duration": 8,
    "start_time": "2022-09-14T07:14:00.720Z"
   },
   {
    "duration": 186,
    "start_time": "2022-09-14T07:14:00.729Z"
   },
   {
    "duration": 1585,
    "start_time": "2022-09-14T07:14:00.917Z"
   },
   {
    "duration": 1533,
    "start_time": "2022-09-14T07:14:02.504Z"
   },
   {
    "duration": 1577,
    "start_time": "2022-09-14T07:14:04.038Z"
   },
   {
    "duration": 4017,
    "start_time": "2022-09-14T07:14:05.617Z"
   },
   {
    "duration": 758,
    "start_time": "2022-09-14T07:14:09.635Z"
   },
   {
    "duration": 3,
    "start_time": "2022-09-14T07:14:10.396Z"
   },
   {
    "duration": 8,
    "start_time": "2022-09-14T07:14:10.400Z"
   },
   {
    "duration": 6,
    "start_time": "2022-09-14T07:14:10.410Z"
   },
   {
    "duration": 4,
    "start_time": "2022-09-14T07:14:10.418Z"
   },
   {
    "duration": 4,
    "start_time": "2022-09-14T07:14:10.424Z"
   },
   {
    "duration": 1173,
    "start_time": "2022-09-14T07:14:10.429Z"
   },
   {
    "duration": 17,
    "start_time": "2022-09-14T07:14:11.604Z"
   },
   {
    "duration": 5,
    "start_time": "2022-09-14T07:14:11.623Z"
   },
   {
    "duration": 9,
    "start_time": "2022-09-14T07:14:11.646Z"
   },
   {
    "duration": 8,
    "start_time": "2022-09-14T07:14:11.657Z"
   },
   {
    "duration": 1187,
    "start_time": "2022-09-14T07:14:11.666Z"
   },
   {
    "duration": 22878,
    "start_time": "2022-09-14T07:14:12.856Z"
   },
   {
    "duration": 3478,
    "start_time": "2022-09-14T07:14:35.736Z"
   },
   {
    "duration": 30161,
    "start_time": "2022-09-14T07:14:39.215Z"
   },
   {
    "duration": 68,
    "start_time": "2022-09-14T07:15:09.379Z"
   },
   {
    "duration": 113,
    "start_time": "2022-09-14T07:15:09.450Z"
   },
   {
    "duration": 25,
    "start_time": "2022-09-14T07:15:09.565Z"
   },
   {
    "duration": 115,
    "start_time": "2022-09-14T07:15:09.648Z"
   },
   {
    "duration": 31,
    "start_time": "2022-09-14T07:15:09.765Z"
   },
   {
    "duration": 102,
    "start_time": "2022-09-14T07:15:09.846Z"
   },
   {
    "duration": 30,
    "start_time": "2022-09-14T07:15:09.950Z"
   },
   {
    "duration": 30,
    "start_time": "2022-09-14T07:15:09.982Z"
   },
   {
    "duration": 30,
    "start_time": "2022-09-14T07:15:10.014Z"
   },
   {
    "duration": 123,
    "start_time": "2022-09-14T07:20:33.110Z"
   },
   {
    "duration": 1211,
    "start_time": "2022-09-14T07:20:49.764Z"
   },
   {
    "duration": 3010,
    "start_time": "2022-09-14T07:22:33.998Z"
   },
   {
    "duration": 1805,
    "start_time": "2022-09-14T07:23:27.761Z"
   },
   {
    "duration": 20,
    "start_time": "2022-09-14T07:24:51.709Z"
   },
   {
    "duration": 1253,
    "start_time": "2022-09-14T07:25:30.726Z"
   },
   {
    "duration": 1260,
    "start_time": "2022-09-14T07:27:37.499Z"
   },
   {
    "duration": 50,
    "start_time": "2022-09-14T07:29:49.607Z"
   },
   {
    "duration": 1279,
    "start_time": "2022-09-14T07:29:52.828Z"
   },
   {
    "duration": 27,
    "start_time": "2022-09-14T07:30:13.795Z"
   },
   {
    "duration": 1429,
    "start_time": "2022-09-14T07:30:31.817Z"
   },
   {
    "duration": 758,
    "start_time": "2022-09-14T07:30:33.248Z"
   },
   {
    "duration": 19,
    "start_time": "2022-09-14T07:30:34.007Z"
   },
   {
    "duration": 28,
    "start_time": "2022-09-14T07:30:34.028Z"
   },
   {
    "duration": 13,
    "start_time": "2022-09-14T07:30:34.061Z"
   },
   {
    "duration": 94,
    "start_time": "2022-09-14T07:30:34.076Z"
   },
   {
    "duration": 363,
    "start_time": "2022-09-14T07:30:34.172Z"
   },
   {
    "duration": 29,
    "start_time": "2022-09-14T07:30:34.536Z"
   },
   {
    "duration": 20,
    "start_time": "2022-09-14T07:30:34.566Z"
   },
   {
    "duration": 21,
    "start_time": "2022-09-14T07:30:34.588Z"
   },
   {
    "duration": 13,
    "start_time": "2022-09-14T07:30:34.610Z"
   },
   {
    "duration": 24,
    "start_time": "2022-09-14T07:30:34.647Z"
   },
   {
    "duration": 5,
    "start_time": "2022-09-14T07:30:34.672Z"
   },
   {
    "duration": 9,
    "start_time": "2022-09-14T07:30:34.680Z"
   },
   {
    "duration": 5,
    "start_time": "2022-09-14T07:30:34.691Z"
   },
   {
    "duration": 12,
    "start_time": "2022-09-14T07:30:34.698Z"
   },
   {
    "duration": 41,
    "start_time": "2022-09-14T07:30:34.711Z"
   },
   {
    "duration": 10,
    "start_time": "2022-09-14T07:30:34.756Z"
   },
   {
    "duration": 9,
    "start_time": "2022-09-14T07:30:34.767Z"
   },
   {
    "duration": 195,
    "start_time": "2022-09-14T07:30:34.777Z"
   },
   {
    "duration": 8,
    "start_time": "2022-09-14T07:30:34.974Z"
   },
   {
    "duration": 204,
    "start_time": "2022-09-14T07:30:34.983Z"
   },
   {
    "duration": 1533,
    "start_time": "2022-09-14T07:30:35.189Z"
   },
   {
    "duration": 1596,
    "start_time": "2022-09-14T07:30:36.724Z"
   },
   {
    "duration": 1421,
    "start_time": "2022-09-14T07:30:38.322Z"
   },
   {
    "duration": 4854,
    "start_time": "2022-09-14T07:30:39.744Z"
   },
   {
    "duration": 796,
    "start_time": "2022-09-14T07:30:44.600Z"
   },
   {
    "duration": 4,
    "start_time": "2022-09-14T07:30:45.398Z"
   },
   {
    "duration": 42,
    "start_time": "2022-09-14T07:30:45.404Z"
   },
   {
    "duration": 45,
    "start_time": "2022-09-14T07:30:45.447Z"
   },
   {
    "duration": 31,
    "start_time": "2022-09-14T07:30:45.494Z"
   },
   {
    "duration": 19,
    "start_time": "2022-09-14T07:30:45.526Z"
   },
   {
    "duration": 1245,
    "start_time": "2022-09-14T07:30:45.546Z"
   },
   {
    "duration": 18,
    "start_time": "2022-09-14T07:30:46.792Z"
   },
   {
    "duration": 1275,
    "start_time": "2022-09-14T07:30:46.812Z"
   },
   {
    "duration": 4,
    "start_time": "2022-09-14T07:30:48.088Z"
   },
   {
    "duration": 11,
    "start_time": "2022-09-14T07:30:48.094Z"
   },
   {
    "duration": 12,
    "start_time": "2022-09-14T07:30:48.106Z"
   },
   {
    "duration": 1933,
    "start_time": "2022-09-14T07:30:48.120Z"
   },
   {
    "duration": 23655,
    "start_time": "2022-09-14T07:30:50.057Z"
   },
   {
    "duration": 3689,
    "start_time": "2022-09-14T07:31:13.716Z"
   },
   {
    "duration": 31742,
    "start_time": "2022-09-14T07:31:17.406Z"
   },
   {
    "duration": 6,
    "start_time": "2022-09-14T07:31:49.151Z"
   },
   {
    "duration": 117,
    "start_time": "2022-09-14T07:31:49.159Z"
   },
   {
    "duration": 8,
    "start_time": "2022-09-14T07:31:49.278Z"
   },
   {
    "duration": 19,
    "start_time": "2022-09-14T07:31:49.348Z"
   },
   {
    "duration": 19,
    "start_time": "2022-09-14T07:31:49.453Z"
   },
   {
    "duration": 18,
    "start_time": "2022-09-14T07:31:49.554Z"
   },
   {
    "duration": 30,
    "start_time": "2022-09-14T07:31:49.646Z"
   },
   {
    "duration": 4,
    "start_time": "2022-09-14T07:31:49.678Z"
   },
   {
    "duration": 13,
    "start_time": "2022-09-14T07:31:49.684Z"
   },
   {
    "duration": 1076,
    "start_time": "2022-09-14T07:34:02.166Z"
   },
   {
    "duration": 1407,
    "start_time": "2022-09-14T07:34:15.219Z"
   },
   {
    "duration": 1023,
    "start_time": "2022-09-14T07:34:46.121Z"
   },
   {
    "duration": 1319,
    "start_time": "2022-09-14T07:35:13.711Z"
   },
   {
    "duration": 175,
    "start_time": "2022-09-14T07:46:45.911Z"
   },
   {
    "duration": 1403,
    "start_time": "2022-09-14T07:47:01.897Z"
   },
   {
    "duration": 756,
    "start_time": "2022-09-14T07:47:03.303Z"
   },
   {
    "duration": 19,
    "start_time": "2022-09-14T07:47:04.060Z"
   },
   {
    "duration": 14,
    "start_time": "2022-09-14T07:47:04.081Z"
   },
   {
    "duration": 12,
    "start_time": "2022-09-14T07:47:04.096Z"
   },
   {
    "duration": 97,
    "start_time": "2022-09-14T07:47:04.109Z"
   },
   {
    "duration": 370,
    "start_time": "2022-09-14T07:47:04.208Z"
   },
   {
    "duration": 18,
    "start_time": "2022-09-14T07:47:04.579Z"
   },
   {
    "duration": 19,
    "start_time": "2022-09-14T07:47:04.599Z"
   },
   {
    "duration": 43,
    "start_time": "2022-09-14T07:47:04.620Z"
   },
   {
    "duration": 12,
    "start_time": "2022-09-14T07:47:04.665Z"
   },
   {
    "duration": 19,
    "start_time": "2022-09-14T07:47:04.679Z"
   },
   {
    "duration": 3,
    "start_time": "2022-09-14T07:47:04.699Z"
   },
   {
    "duration": 13,
    "start_time": "2022-09-14T07:47:04.703Z"
   },
   {
    "duration": 5,
    "start_time": "2022-09-14T07:47:04.718Z"
   },
   {
    "duration": 34,
    "start_time": "2022-09-14T07:47:04.725Z"
   },
   {
    "duration": 21,
    "start_time": "2022-09-14T07:47:04.761Z"
   },
   {
    "duration": 11,
    "start_time": "2022-09-14T07:47:04.784Z"
   },
   {
    "duration": 9,
    "start_time": "2022-09-14T07:47:04.797Z"
   },
   {
    "duration": 195,
    "start_time": "2022-09-14T07:47:04.808Z"
   },
   {
    "duration": 8,
    "start_time": "2022-09-14T07:47:05.005Z"
   },
   {
    "duration": 188,
    "start_time": "2022-09-14T07:47:05.014Z"
   },
   {
    "duration": 1574,
    "start_time": "2022-09-14T07:47:05.204Z"
   },
   {
    "duration": 1402,
    "start_time": "2022-09-14T07:47:06.780Z"
   },
   {
    "duration": 1601,
    "start_time": "2022-09-14T07:47:08.183Z"
   },
   {
    "duration": 4398,
    "start_time": "2022-09-14T07:47:09.786Z"
   },
   {
    "duration": 1546,
    "start_time": "2022-09-14T07:47:14.185Z"
   },
   {
    "duration": 3,
    "start_time": "2022-09-14T07:47:15.735Z"
   },
   {
    "duration": 19,
    "start_time": "2022-09-14T07:47:15.746Z"
   },
   {
    "duration": 9,
    "start_time": "2022-09-14T07:47:15.766Z"
   },
   {
    "duration": 8,
    "start_time": "2022-09-14T07:47:15.777Z"
   },
   {
    "duration": 6,
    "start_time": "2022-09-14T07:47:15.787Z"
   },
   {
    "duration": 1271,
    "start_time": "2022-09-14T07:47:15.794Z"
   },
   {
    "duration": 17,
    "start_time": "2022-09-14T07:47:17.067Z"
   },
   {
    "duration": 4,
    "start_time": "2022-09-14T07:47:17.086Z"
   },
   {
    "duration": 13,
    "start_time": "2022-09-14T07:47:17.092Z"
   },
   {
    "duration": 6,
    "start_time": "2022-09-14T07:47:17.106Z"
   },
   {
    "duration": 1944,
    "start_time": "2022-09-14T07:47:17.113Z"
   },
   {
    "duration": 23998,
    "start_time": "2022-09-14T07:47:19.061Z"
   },
   {
    "duration": 3604,
    "start_time": "2022-09-14T07:47:43.061Z"
   },
   {
    "duration": 32818,
    "start_time": "2022-09-14T07:47:46.667Z"
   },
   {
    "duration": 2,
    "start_time": "2022-09-14T07:48:19.548Z"
   },
   {
    "duration": 129,
    "start_time": "2022-09-14T07:48:19.552Z"
   },
   {
    "duration": 10,
    "start_time": "2022-09-14T07:48:19.682Z"
   },
   {
    "duration": 118,
    "start_time": "2022-09-14T07:48:19.750Z"
   },
   {
    "duration": 13,
    "start_time": "2022-09-14T07:48:19.871Z"
   },
   {
    "duration": 187,
    "start_time": "2022-09-14T07:48:19.886Z"
   },
   {
    "duration": 27,
    "start_time": "2022-09-14T07:48:20.075Z"
   },
   {
    "duration": 38,
    "start_time": "2022-09-14T07:48:20.104Z"
   },
   {
    "duration": 32,
    "start_time": "2022-09-14T07:48:20.144Z"
   },
   {
    "duration": 219,
    "start_time": "2022-09-14T07:48:20.179Z"
   },
   {
    "duration": 74,
    "start_time": "2022-09-14T07:48:49.814Z"
   },
   {
    "duration": 1403,
    "start_time": "2022-09-14T07:48:56.778Z"
   },
   {
    "duration": 738,
    "start_time": "2022-09-14T07:48:58.183Z"
   },
   {
    "duration": 35,
    "start_time": "2022-09-14T07:48:58.923Z"
   },
   {
    "duration": 17,
    "start_time": "2022-09-14T07:48:58.960Z"
   },
   {
    "duration": 12,
    "start_time": "2022-09-14T07:48:58.979Z"
   },
   {
    "duration": 96,
    "start_time": "2022-09-14T07:48:58.993Z"
   },
   {
    "duration": 370,
    "start_time": "2022-09-14T07:48:59.091Z"
   },
   {
    "duration": 18,
    "start_time": "2022-09-14T07:48:59.463Z"
   },
   {
    "duration": 21,
    "start_time": "2022-09-14T07:48:59.483Z"
   },
   {
    "duration": 41,
    "start_time": "2022-09-14T07:48:59.508Z"
   },
   {
    "duration": 16,
    "start_time": "2022-09-14T07:48:59.551Z"
   },
   {
    "duration": 23,
    "start_time": "2022-09-14T07:48:59.568Z"
   },
   {
    "duration": 3,
    "start_time": "2022-09-14T07:48:59.593Z"
   },
   {
    "duration": 11,
    "start_time": "2022-09-14T07:48:59.597Z"
   },
   {
    "duration": 5,
    "start_time": "2022-09-14T07:48:59.610Z"
   },
   {
    "duration": 12,
    "start_time": "2022-09-14T07:48:59.616Z"
   },
   {
    "duration": 9,
    "start_time": "2022-09-14T07:48:59.649Z"
   },
   {
    "duration": 10,
    "start_time": "2022-09-14T07:48:59.659Z"
   },
   {
    "duration": 8,
    "start_time": "2022-09-14T07:48:59.671Z"
   },
   {
    "duration": 196,
    "start_time": "2022-09-14T07:48:59.680Z"
   },
   {
    "duration": 7,
    "start_time": "2022-09-14T07:48:59.878Z"
   },
   {
    "duration": 188,
    "start_time": "2022-09-14T07:48:59.887Z"
   },
   {
    "duration": 1617,
    "start_time": "2022-09-14T07:49:00.077Z"
   },
   {
    "duration": 1557,
    "start_time": "2022-09-14T07:49:01.696Z"
   },
   {
    "duration": 1480,
    "start_time": "2022-09-14T07:49:03.255Z"
   },
   {
    "duration": 4084,
    "start_time": "2022-09-14T07:49:04.737Z"
   },
   {
    "duration": 779,
    "start_time": "2022-09-14T07:49:08.823Z"
   },
   {
    "duration": 2,
    "start_time": "2022-09-14T07:49:09.606Z"
   },
   {
    "duration": 10,
    "start_time": "2022-09-14T07:49:09.610Z"
   },
   {
    "duration": 14,
    "start_time": "2022-09-14T07:49:09.621Z"
   },
   {
    "duration": 6,
    "start_time": "2022-09-14T07:49:09.636Z"
   },
   {
    "duration": 7,
    "start_time": "2022-09-14T07:49:09.644Z"
   },
   {
    "duration": 1159,
    "start_time": "2022-09-14T07:49:09.653Z"
   },
   {
    "duration": 18,
    "start_time": "2022-09-14T07:49:10.814Z"
   },
   {
    "duration": 13,
    "start_time": "2022-09-14T07:49:10.834Z"
   },
   {
    "duration": 21,
    "start_time": "2022-09-14T07:49:10.851Z"
   },
   {
    "duration": 6,
    "start_time": "2022-09-14T07:49:10.873Z"
   },
   {
    "duration": 2179,
    "start_time": "2022-09-14T07:49:10.880Z"
   },
   {
    "duration": 23808,
    "start_time": "2022-09-14T07:49:13.062Z"
   },
   {
    "duration": 3516,
    "start_time": "2022-09-14T07:49:36.872Z"
   },
   {
    "duration": 32887,
    "start_time": "2022-09-14T07:49:40.390Z"
   },
   {
    "duration": 8,
    "start_time": "2022-09-14T07:50:13.354Z"
   },
   {
    "duration": 105,
    "start_time": "2022-09-14T07:50:13.373Z"
   },
   {
    "duration": 78,
    "start_time": "2022-09-14T07:50:13.480Z"
   },
   {
    "duration": 104,
    "start_time": "2022-09-14T07:50:13.560Z"
   },
   {
    "duration": 12,
    "start_time": "2022-09-14T07:50:13.666Z"
   },
   {
    "duration": 112,
    "start_time": "2022-09-14T07:50:13.749Z"
   },
   {
    "duration": 12,
    "start_time": "2022-09-14T07:50:13.863Z"
   },
   {
    "duration": 4,
    "start_time": "2022-09-14T07:50:13.877Z"
   },
   {
    "duration": 11,
    "start_time": "2022-09-14T07:50:13.883Z"
   },
   {
    "duration": 127,
    "start_time": "2022-09-14T08:00:34.274Z"
   },
   {
    "duration": 264,
    "start_time": "2022-09-14T08:00:41.727Z"
   },
   {
    "duration": 1593,
    "start_time": "2022-09-14T08:00:47.934Z"
   },
   {
    "duration": 693,
    "start_time": "2022-09-14T08:00:49.529Z"
   },
   {
    "duration": 24,
    "start_time": "2022-09-14T08:00:50.223Z"
   },
   {
    "duration": 15,
    "start_time": "2022-09-14T08:00:50.249Z"
   },
   {
    "duration": 11,
    "start_time": "2022-09-14T08:00:50.265Z"
   },
   {
    "duration": 99,
    "start_time": "2022-09-14T08:00:50.278Z"
   },
   {
    "duration": 351,
    "start_time": "2022-09-14T08:00:50.379Z"
   },
   {
    "duration": 25,
    "start_time": "2022-09-14T08:00:50.732Z"
   },
   {
    "duration": 19,
    "start_time": "2022-09-14T08:00:50.759Z"
   },
   {
    "duration": 21,
    "start_time": "2022-09-14T08:00:50.780Z"
   },
   {
    "duration": 12,
    "start_time": "2022-09-14T08:00:50.803Z"
   },
   {
    "duration": 45,
    "start_time": "2022-09-14T08:00:50.816Z"
   },
   {
    "duration": 3,
    "start_time": "2022-09-14T08:00:50.862Z"
   },
   {
    "duration": 16,
    "start_time": "2022-09-14T08:00:50.867Z"
   },
   {
    "duration": 6,
    "start_time": "2022-09-14T08:00:50.884Z"
   },
   {
    "duration": 11,
    "start_time": "2022-09-14T08:00:50.892Z"
   },
   {
    "duration": 5,
    "start_time": "2022-09-14T08:00:50.904Z"
   },
   {
    "duration": 6,
    "start_time": "2022-09-14T08:00:50.911Z"
   },
   {
    "duration": 8,
    "start_time": "2022-09-14T08:00:50.947Z"
   },
   {
    "duration": 190,
    "start_time": "2022-09-14T08:00:50.957Z"
   },
   {
    "duration": 8,
    "start_time": "2022-09-14T08:00:51.148Z"
   },
   {
    "duration": 178,
    "start_time": "2022-09-14T08:00:51.158Z"
   },
   {
    "duration": 1445,
    "start_time": "2022-09-14T08:00:51.337Z"
   },
   {
    "duration": 1473,
    "start_time": "2022-09-14T08:00:52.784Z"
   },
   {
    "duration": 1499,
    "start_time": "2022-09-14T08:00:54.259Z"
   },
   {
    "duration": 4003,
    "start_time": "2022-09-14T08:00:55.760Z"
   },
   {
    "duration": 834,
    "start_time": "2022-09-14T08:00:59.764Z"
   },
   {
    "duration": 2,
    "start_time": "2022-09-14T08:01:00.602Z"
   },
   {
    "duration": 22,
    "start_time": "2022-09-14T08:01:00.606Z"
   },
   {
    "duration": 19,
    "start_time": "2022-09-14T08:01:00.629Z"
   },
   {
    "duration": 30,
    "start_time": "2022-09-14T08:01:00.649Z"
   },
   {
    "duration": 13,
    "start_time": "2022-09-14T08:01:00.681Z"
   },
   {
    "duration": 1144,
    "start_time": "2022-09-14T08:01:00.696Z"
   },
   {
    "duration": 19,
    "start_time": "2022-09-14T08:01:01.842Z"
   },
   {
    "duration": 12,
    "start_time": "2022-09-14T08:01:01.863Z"
   },
   {
    "duration": 38,
    "start_time": "2022-09-14T08:01:01.876Z"
   },
   {
    "duration": 12,
    "start_time": "2022-09-14T08:01:01.916Z"
   },
   {
    "duration": 1219,
    "start_time": "2022-09-14T08:01:01.929Z"
   },
   {
    "duration": 23226,
    "start_time": "2022-09-14T08:01:03.150Z"
   },
   {
    "duration": 3479,
    "start_time": "2022-09-14T08:01:26.378Z"
   },
   {
    "duration": 32801,
    "start_time": "2022-09-14T08:01:29.858Z"
   },
   {
    "duration": 85,
    "start_time": "2022-09-14T08:02:02.663Z"
   },
   {
    "duration": 115,
    "start_time": "2022-09-14T08:02:02.754Z"
   },
   {
    "duration": 8,
    "start_time": "2022-09-14T08:02:02.870Z"
   },
   {
    "duration": 172,
    "start_time": "2022-09-14T08:02:02.880Z"
   },
   {
    "duration": 10,
    "start_time": "2022-09-14T08:02:03.054Z"
   },
   {
    "duration": 186,
    "start_time": "2022-09-14T08:02:03.066Z"
   },
   {
    "duration": 12,
    "start_time": "2022-09-14T08:02:03.254Z"
   },
   {
    "duration": 8,
    "start_time": "2022-09-14T08:02:03.267Z"
   },
   {
    "duration": 30,
    "start_time": "2022-09-14T08:02:03.276Z"
   },
   {
    "duration": 1752,
    "start_time": "2022-09-14T08:02:38.152Z"
   },
   {
    "duration": 734,
    "start_time": "2022-09-14T08:02:39.906Z"
   },
   {
    "duration": 20,
    "start_time": "2022-09-14T08:02:40.642Z"
   },
   {
    "duration": 15,
    "start_time": "2022-09-14T08:02:40.664Z"
   },
   {
    "duration": 24,
    "start_time": "2022-09-14T08:02:40.680Z"
   },
   {
    "duration": 110,
    "start_time": "2022-09-14T08:02:40.705Z"
   },
   {
    "duration": 378,
    "start_time": "2022-09-14T08:02:40.816Z"
   },
   {
    "duration": 19,
    "start_time": "2022-09-14T08:02:41.196Z"
   },
   {
    "duration": 37,
    "start_time": "2022-09-14T08:02:41.216Z"
   },
   {
    "duration": 22,
    "start_time": "2022-09-14T08:02:41.256Z"
   },
   {
    "duration": 13,
    "start_time": "2022-09-14T08:02:41.281Z"
   },
   {
    "duration": 34,
    "start_time": "2022-09-14T08:02:41.296Z"
   },
   {
    "duration": 39,
    "start_time": "2022-09-14T08:02:41.332Z"
   },
   {
    "duration": 47,
    "start_time": "2022-09-14T08:02:41.373Z"
   },
   {
    "duration": 40,
    "start_time": "2022-09-14T08:02:41.421Z"
   },
   {
    "duration": 33,
    "start_time": "2022-09-14T08:02:41.464Z"
   },
   {
    "duration": 17,
    "start_time": "2022-09-14T08:02:41.499Z"
   },
   {
    "duration": 34,
    "start_time": "2022-09-14T08:02:41.517Z"
   },
   {
    "duration": 16,
    "start_time": "2022-09-14T08:02:41.552Z"
   },
   {
    "duration": 205,
    "start_time": "2022-09-14T08:02:41.570Z"
   },
   {
    "duration": 11,
    "start_time": "2022-09-14T08:02:41.776Z"
   },
   {
    "duration": 224,
    "start_time": "2022-09-14T08:02:41.789Z"
   },
   {
    "duration": 1587,
    "start_time": "2022-09-14T08:02:42.015Z"
   },
   {
    "duration": 1527,
    "start_time": "2022-09-14T08:02:43.604Z"
   },
   {
    "duration": 1566,
    "start_time": "2022-09-14T08:02:45.133Z"
   },
   {
    "duration": 3764,
    "start_time": "2022-09-14T08:02:46.701Z"
   },
   {
    "duration": 856,
    "start_time": "2022-09-14T08:02:50.467Z"
   },
   {
    "duration": 3,
    "start_time": "2022-09-14T08:02:51.326Z"
   },
   {
    "duration": 15,
    "start_time": "2022-09-14T08:02:51.330Z"
   },
   {
    "duration": 8,
    "start_time": "2022-09-14T08:02:51.346Z"
   },
   {
    "duration": 14,
    "start_time": "2022-09-14T08:02:51.355Z"
   },
   {
    "duration": 12,
    "start_time": "2022-09-14T08:02:51.372Z"
   },
   {
    "duration": 1163,
    "start_time": "2022-09-14T08:02:51.386Z"
   },
   {
    "duration": 18,
    "start_time": "2022-09-14T08:02:52.551Z"
   },
   {
    "duration": 5,
    "start_time": "2022-09-14T08:02:52.570Z"
   },
   {
    "duration": 23,
    "start_time": "2022-09-14T08:02:52.577Z"
   },
   {
    "duration": 8,
    "start_time": "2022-09-14T08:02:52.601Z"
   },
   {
    "duration": 1339,
    "start_time": "2022-09-14T08:02:52.611Z"
   },
   {
    "duration": 24145,
    "start_time": "2022-09-14T08:02:53.953Z"
   },
   {
    "duration": 2774,
    "start_time": "2022-09-14T08:03:18.100Z"
   },
   {
    "duration": 31003,
    "start_time": "2022-09-14T08:03:20.876Z"
   },
   {
    "duration": 67,
    "start_time": "2022-09-14T08:03:51.881Z"
   },
   {
    "duration": 117,
    "start_time": "2022-09-14T08:03:51.950Z"
   },
   {
    "duration": 79,
    "start_time": "2022-09-14T08:03:52.068Z"
   },
   {
    "duration": 106,
    "start_time": "2022-09-14T08:03:52.150Z"
   },
   {
    "duration": 12,
    "start_time": "2022-09-14T08:03:52.258Z"
   },
   {
    "duration": 106,
    "start_time": "2022-09-14T08:03:52.347Z"
   },
   {
    "duration": 14,
    "start_time": "2022-09-14T08:03:52.455Z"
   },
   {
    "duration": 14,
    "start_time": "2022-09-14T08:03:52.471Z"
   },
   {
    "duration": 14,
    "start_time": "2022-09-14T08:03:52.487Z"
   },
   {
    "duration": 1515,
    "start_time": "2022-09-14T08:06:40.416Z"
   },
   {
    "duration": 725,
    "start_time": "2022-09-14T08:06:41.932Z"
   },
   {
    "duration": 18,
    "start_time": "2022-09-14T08:06:42.659Z"
   },
   {
    "duration": 16,
    "start_time": "2022-09-14T08:06:42.679Z"
   },
   {
    "duration": 12,
    "start_time": "2022-09-14T08:06:42.696Z"
   },
   {
    "duration": 106,
    "start_time": "2022-09-14T08:06:42.709Z"
   },
   {
    "duration": 346,
    "start_time": "2022-09-14T08:06:42.816Z"
   },
   {
    "duration": 17,
    "start_time": "2022-09-14T08:06:43.164Z"
   },
   {
    "duration": 18,
    "start_time": "2022-09-14T08:06:43.182Z"
   },
   {
    "duration": 19,
    "start_time": "2022-09-14T08:06:43.202Z"
   },
   {
    "duration": 33,
    "start_time": "2022-09-14T08:06:43.223Z"
   },
   {
    "duration": 22,
    "start_time": "2022-09-14T08:06:43.257Z"
   },
   {
    "duration": 2,
    "start_time": "2022-09-14T08:06:43.281Z"
   },
   {
    "duration": 9,
    "start_time": "2022-09-14T08:06:43.285Z"
   },
   {
    "duration": 6,
    "start_time": "2022-09-14T08:06:43.295Z"
   },
   {
    "duration": 19,
    "start_time": "2022-09-14T08:06:43.303Z"
   },
   {
    "duration": 27,
    "start_time": "2022-09-14T08:06:43.324Z"
   },
   {
    "duration": 7,
    "start_time": "2022-09-14T08:06:43.352Z"
   },
   {
    "duration": 9,
    "start_time": "2022-09-14T08:06:43.361Z"
   },
   {
    "duration": 206,
    "start_time": "2022-09-14T08:06:43.371Z"
   },
   {
    "duration": 9,
    "start_time": "2022-09-14T08:06:43.579Z"
   },
   {
    "duration": 185,
    "start_time": "2022-09-14T08:06:43.589Z"
   },
   {
    "duration": 1498,
    "start_time": "2022-09-14T08:06:43.776Z"
   },
   {
    "duration": 1491,
    "start_time": "2022-09-14T08:06:45.275Z"
   },
   {
    "duration": 1584,
    "start_time": "2022-09-14T08:06:46.767Z"
   },
   {
    "duration": 3739,
    "start_time": "2022-09-14T08:06:48.352Z"
   },
   {
    "duration": 779,
    "start_time": "2022-09-14T08:06:52.093Z"
   },
   {
    "duration": 3,
    "start_time": "2022-09-14T08:06:52.876Z"
   },
   {
    "duration": 8,
    "start_time": "2022-09-14T08:06:52.881Z"
   },
   {
    "duration": 9,
    "start_time": "2022-09-14T08:06:52.890Z"
   },
   {
    "duration": 5,
    "start_time": "2022-09-14T08:06:52.901Z"
   },
   {
    "duration": 12,
    "start_time": "2022-09-14T08:06:52.908Z"
   },
   {
    "duration": 1139,
    "start_time": "2022-09-14T08:06:52.921Z"
   },
   {
    "duration": 20,
    "start_time": "2022-09-14T08:06:54.062Z"
   },
   {
    "duration": 4,
    "start_time": "2022-09-14T08:06:54.084Z"
   },
   {
    "duration": 13,
    "start_time": "2022-09-14T08:06:54.090Z"
   },
   {
    "duration": 6,
    "start_time": "2022-09-14T08:06:54.105Z"
   },
   {
    "duration": 1136,
    "start_time": "2022-09-14T08:06:54.112Z"
   },
   {
    "duration": 23180,
    "start_time": "2022-09-14T08:06:55.250Z"
   },
   {
    "duration": 3484,
    "start_time": "2022-09-14T08:07:18.432Z"
   },
   {
    "duration": 31131,
    "start_time": "2022-09-14T08:07:21.918Z"
   },
   {
    "duration": 3,
    "start_time": "2022-09-14T08:07:53.052Z"
   },
   {
    "duration": 26,
    "start_time": "2022-09-14T08:07:53.148Z"
   },
   {
    "duration": 75,
    "start_time": "2022-09-14T08:07:53.176Z"
   },
   {
    "duration": 102,
    "start_time": "2022-09-14T08:07:53.254Z"
   },
   {
    "duration": 14,
    "start_time": "2022-09-14T08:07:53.358Z"
   },
   {
    "duration": 6,
    "start_time": "2022-09-14T08:07:53.450Z"
   },
   {
    "duration": 92,
    "start_time": "2022-09-14T08:07:53.459Z"
   },
   {
    "duration": 3,
    "start_time": "2022-09-14T08:07:53.553Z"
   },
   {
    "duration": 9,
    "start_time": "2022-09-14T08:07:53.558Z"
   },
   {
    "duration": 113,
    "start_time": "2022-09-14T08:10:52.694Z"
   }
  ],
  "kernelspec": {
   "display_name": "Python 3 (ipykernel)",
   "language": "python",
   "name": "python3"
  },
  "language_info": {
   "codemirror_mode": {
    "name": "ipython",
    "version": 3
   },
   "file_extension": ".py",
   "mimetype": "text/x-python",
   "name": "python",
   "nbconvert_exporter": "python",
   "pygments_lexer": "ipython3",
   "version": "3.9.13"
  },
  "toc": {
   "base_numbering": 1,
   "nav_menu": {},
   "number_sections": true,
   "sideBar": true,
   "skip_h1_title": true,
   "title_cell": "Содержание",
   "title_sidebar": "Contents",
   "toc_cell": true,
   "toc_position": {
    "height": "calc(100% - 180px)",
    "left": "10px",
    "top": "150px",
    "width": "200px"
   },
   "toc_section_display": true,
   "toc_window_display": true
  }
 },
 "nbformat": 4,
 "nbformat_minor": 2
}
