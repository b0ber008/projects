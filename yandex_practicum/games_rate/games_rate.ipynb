{
 "cells": [
  {
   "cell_type": "markdown",
   "metadata": {},
   "source": [
    "## Описание проекта"
   ]
  },
  {
   "cell_type": "markdown",
   "metadata": {},
   "source": [
    "Вы работаете в интернет-магазине «Стримчик», который продаёт по всему миру компьютерные игры. Из открытых источников доступны исторические данные о продажах игр, оценки пользователей и экспертов, жанры и платформы (например, Xbox или PlayStation). Вам нужно выявить определяющие успешность игры закономерности. Это позволит сделать ставку на потенциально популярный продукт и спланировать рекламные кампании.\n",
    "\n",
    "Цель проекта - выявить определяющие успешность игры закономерности. Это позволит сделать ставку на потенциально популярный продукт и спланировать рекламные кампании."
   ]
  },
  {
   "cell_type": "markdown",
   "metadata": {},
   "source": [
    "### Описание данных"
   ]
  },
  {
   "cell_type": "markdown",
   "metadata": {},
   "source": [
    "* Name — название игры\n",
    "* Platform — платформа\n",
    "* Year_of_Release — год выпуска\n",
    "* Genre — жанр игры\n",
    "* NA_sales — продажи в Северной Америке (миллионы проданных копий)\n",
    "* EU_sales — продажи в Европе (миллионы проданных копий)\n",
    "* JP_sales — продажи в Японии (миллионы проданных копий)\n",
    "* Other_sales — продажи в других странах (миллионы проданных копий)\n",
    "* Critic_Score — оценка критиков (максимум 100)\n",
    "* User_Score — оценка пользователей (максимум 10)\n",
    "* Rating — рейтинг от организации ESRB (англ. Entertainment Software Rating Board). Эта ассоциация определяет рейтинг компьютерных игр и присваивает им подходящую возрастную категорию.\n",
    "\n",
    "Данные за 2016 год могут быть неполными."
   ]
  },
  {
   "cell_type": "markdown",
   "metadata": {},
   "source": [
    "## Импорт данных и изучение информации"
   ]
  },
  {
   "cell_type": "markdown",
   "metadata": {},
   "source": [
    "### Импортируем данные"
   ]
  },
  {
   "cell_type": "code",
   "execution_count": 1,
   "metadata": {},
   "outputs": [],
   "source": [
    "# Импорт необходимых нам для работы библиотек\n",
    "import pandas as pd # Импортируем pandas\n",
    "import matplotlib.pyplot as plt # Импортируем matplotlib\n",
    "import seaborn as sns # Импортируем seaborn\n",
    "from scipy import stats as st # Импортируем scipy"
   ]
  },
  {
   "cell_type": "code",
   "execution_count": 2,
   "metadata": {
    "scrolled": true
   },
   "outputs": [
    {
     "data": {
      "text/html": [
       "<div>\n",
       "<style scoped>\n",
       "    .dataframe tbody tr th:only-of-type {\n",
       "        vertical-align: middle;\n",
       "    }\n",
       "\n",
       "    .dataframe tbody tr th {\n",
       "        vertical-align: top;\n",
       "    }\n",
       "\n",
       "    .dataframe thead th {\n",
       "        text-align: right;\n",
       "    }\n",
       "</style>\n",
       "<table border=\"1\" class=\"dataframe\">\n",
       "  <thead>\n",
       "    <tr style=\"text-align: right;\">\n",
       "      <th></th>\n",
       "      <th>Name</th>\n",
       "      <th>Platform</th>\n",
       "      <th>Year_of_Release</th>\n",
       "      <th>Genre</th>\n",
       "      <th>NA_sales</th>\n",
       "      <th>EU_sales</th>\n",
       "      <th>JP_sales</th>\n",
       "      <th>Other_sales</th>\n",
       "      <th>Critic_Score</th>\n",
       "      <th>User_Score</th>\n",
       "      <th>Rating</th>\n",
       "    </tr>\n",
       "  </thead>\n",
       "  <tbody>\n",
       "    <tr>\n",
       "      <th>0</th>\n",
       "      <td>Wii Sports</td>\n",
       "      <td>Wii</td>\n",
       "      <td>2006.0</td>\n",
       "      <td>Sports</td>\n",
       "      <td>41.36</td>\n",
       "      <td>28.96</td>\n",
       "      <td>3.77</td>\n",
       "      <td>8.45</td>\n",
       "      <td>76.0</td>\n",
       "      <td>8</td>\n",
       "      <td>E</td>\n",
       "    </tr>\n",
       "    <tr>\n",
       "      <th>1</th>\n",
       "      <td>Super Mario Bros.</td>\n",
       "      <td>NES</td>\n",
       "      <td>1985.0</td>\n",
       "      <td>Platform</td>\n",
       "      <td>29.08</td>\n",
       "      <td>3.58</td>\n",
       "      <td>6.81</td>\n",
       "      <td>0.77</td>\n",
       "      <td>NaN</td>\n",
       "      <td>NaN</td>\n",
       "      <td>NaN</td>\n",
       "    </tr>\n",
       "    <tr>\n",
       "      <th>2</th>\n",
       "      <td>Mario Kart Wii</td>\n",
       "      <td>Wii</td>\n",
       "      <td>2008.0</td>\n",
       "      <td>Racing</td>\n",
       "      <td>15.68</td>\n",
       "      <td>12.76</td>\n",
       "      <td>3.79</td>\n",
       "      <td>3.29</td>\n",
       "      <td>82.0</td>\n",
       "      <td>8.3</td>\n",
       "      <td>E</td>\n",
       "    </tr>\n",
       "    <tr>\n",
       "      <th>3</th>\n",
       "      <td>Wii Sports Resort</td>\n",
       "      <td>Wii</td>\n",
       "      <td>2009.0</td>\n",
       "      <td>Sports</td>\n",
       "      <td>15.61</td>\n",
       "      <td>10.93</td>\n",
       "      <td>3.28</td>\n",
       "      <td>2.95</td>\n",
       "      <td>80.0</td>\n",
       "      <td>8</td>\n",
       "      <td>E</td>\n",
       "    </tr>\n",
       "    <tr>\n",
       "      <th>4</th>\n",
       "      <td>Pokemon Red/Pokemon Blue</td>\n",
       "      <td>GB</td>\n",
       "      <td>1996.0</td>\n",
       "      <td>Role-Playing</td>\n",
       "      <td>11.27</td>\n",
       "      <td>8.89</td>\n",
       "      <td>10.22</td>\n",
       "      <td>1.00</td>\n",
       "      <td>NaN</td>\n",
       "      <td>NaN</td>\n",
       "      <td>NaN</td>\n",
       "    </tr>\n",
       "  </tbody>\n",
       "</table>\n",
       "</div>"
      ],
      "text/plain": [
       "                       Name Platform  Year_of_Release         Genre  NA_sales  \\\n",
       "0                Wii Sports      Wii           2006.0        Sports     41.36   \n",
       "1         Super Mario Bros.      NES           1985.0      Platform     29.08   \n",
       "2            Mario Kart Wii      Wii           2008.0        Racing     15.68   \n",
       "3         Wii Sports Resort      Wii           2009.0        Sports     15.61   \n",
       "4  Pokemon Red/Pokemon Blue       GB           1996.0  Role-Playing     11.27   \n",
       "\n",
       "   EU_sales  JP_sales  Other_sales  Critic_Score User_Score Rating  \n",
       "0     28.96      3.77         8.45          76.0          8      E  \n",
       "1      3.58      6.81         0.77           NaN        NaN    NaN  \n",
       "2     12.76      3.79         3.29          82.0        8.3      E  \n",
       "3     10.93      3.28         2.95          80.0          8      E  \n",
       "4      8.89     10.22         1.00           NaN        NaN    NaN  "
      ]
     },
     "execution_count": 2,
     "metadata": {},
     "output_type": "execute_result"
    }
   ],
   "source": [
    "data = pd.read_csv('/datasets/games.csv') # # Сохраняем информацию файла в датафрейме data\n",
    "\n",
    "data.head() # Выводим шапку датафрейма, дабы ознакомиться с данными"
   ]
  },
  {
   "cell_type": "markdown",
   "metadata": {},
   "source": [
    "### Изучаем общую информацию о данных"
   ]
  },
  {
   "cell_type": "code",
   "execution_count": 3,
   "metadata": {},
   "outputs": [
    {
     "name": "stdout",
     "output_type": "stream",
     "text": [
      "<class 'pandas.core.frame.DataFrame'>\n",
      "RangeIndex: 16715 entries, 0 to 16714\n",
      "Data columns (total 11 columns):\n",
      " #   Column           Non-Null Count  Dtype  \n",
      "---  ------           --------------  -----  \n",
      " 0   Name             16713 non-null  object \n",
      " 1   Platform         16715 non-null  object \n",
      " 2   Year_of_Release  16446 non-null  float64\n",
      " 3   Genre            16713 non-null  object \n",
      " 4   NA_sales         16715 non-null  float64\n",
      " 5   EU_sales         16715 non-null  float64\n",
      " 6   JP_sales         16715 non-null  float64\n",
      " 7   Other_sales      16715 non-null  float64\n",
      " 8   Critic_Score     8137 non-null   float64\n",
      " 9   User_Score       10014 non-null  object \n",
      " 10  Rating           9949 non-null   object \n",
      "dtypes: float64(6), object(5)\n",
      "memory usage: 1.4+ MB\n"
     ]
    }
   ],
   "source": [
    "data.info() # Выводим информацию о датафрейме, чтобы изучить типы данных и пропуски значений"
   ]
  },
  {
   "cell_type": "markdown",
   "metadata": {},
   "source": [
    "* Name - пропуски значений\n",
    "* Year_of_Release - пропуски значений, имеет тип 'float', а должен быть 'int', т.к. год не может быть дробным\n",
    "* Genre - пропуски значений\n",
    "* Critic_Score - пропуски значений\n",
    "* User_Score - пропуски значений, имеет тип 'object' вместо 'float'\n",
    "* Rating - пропуски значений"
   ]
  },
  {
   "cell_type": "markdown",
   "metadata": {},
   "source": [
    "Названия столбцов необходимо привести к нижнему регистру."
   ]
  },
  {
   "cell_type": "markdown",
   "metadata": {},
   "source": [
    "### Строим гистограммы"
   ]
  },
  {
   "cell_type": "code",
   "execution_count": 4,
   "metadata": {
    "scrolled": false
   },
   "outputs": [
    {
     "data": {
      "image/png": "[encoded data removed]",
      "text/plain": [
       "<Figure size 1080x1440 with 6 Axes>"
      ]
     },
     "metadata": {
      "needs_background": "light"
     },
     "output_type": "display_data"
    }
   ],
   "source": [
    "data.hist(figsize=(15, 20)) # Строим общую гистограмму для всех столбцов таблицы\n",
    "None"
   ]
  },
  {
   "cell_type": "markdown",
   "metadata": {},
   "source": [
    "По графикам видно:\n",
    "* Год релиза - с `~1995` года идет стремительное увеличение изданных игр вплоть до `2011-2012` года, после которого следует обвал почти на половину.\n",
    "* Продажи - каждый из трех графиков примерно одинаков по оси Y, что показывает, что количество продаж от региона к региону практически не меняется, но различия можно заметить в сумме этих продаж.\n",
    "* Оценки критиков - в основном сосредоточены на `70-80` и никогда не доходят до отметки в `100`. Вполовину реже критики ставят 50."
   ]
  },
  {
   "cell_type": "markdown",
   "metadata": {},
   "source": [
    "## Подготовка данных"
   ]
  },
  {
   "cell_type": "markdown",
   "metadata": {},
   "source": [
    "### Изменение регистра столбцов"
   ]
  },
  {
   "cell_type": "code",
   "execution_count": 5,
   "metadata": {},
   "outputs": [],
   "source": [
    "data.columns = map(str.lower, data.columns) # Приводим названия столбцов к нижнему регистру"
   ]
  },
  {
   "cell_type": "markdown",
   "metadata": {},
   "source": [
    "### Устранение пропусков"
   ]
  },
  {
   "cell_type": "markdown",
   "metadata": {},
   "source": [
    "Наибольшее количество пропусков мы видим в столбцах с оценками пользователей, критиков и рейтинга организации ESRB.\n",
    "Пропуски в данных столбцах могли быть вызваны несколькими причинами:\n",
    "* Система сбора информации дала сбой\n",
    "* Сокрытие информации\n",
    "* Фрод"
   ]
  },
  {
   "cell_type": "code",
   "execution_count": 6,
   "metadata": {},
   "outputs": [
    {
     "data": {
      "text/html": [
       "<div>\n",
       "<style scoped>\n",
       "    .dataframe tbody tr th:only-of-type {\n",
       "        vertical-align: middle;\n",
       "    }\n",
       "\n",
       "    .dataframe tbody tr th {\n",
       "        vertical-align: top;\n",
       "    }\n",
       "\n",
       "    .dataframe thead th {\n",
       "        text-align: right;\n",
       "    }\n",
       "</style>\n",
       "<table border=\"1\" class=\"dataframe\">\n",
       "  <thead>\n",
       "    <tr style=\"text-align: right;\">\n",
       "      <th></th>\n",
       "      <th>missing_values</th>\n",
       "      <th>% of total</th>\n",
       "    </tr>\n",
       "  </thead>\n",
       "  <tbody>\n",
       "    <tr>\n",
       "      <th>critic_score</th>\n",
       "      <td>8578</td>\n",
       "      <td>0.51</td>\n",
       "    </tr>\n",
       "    <tr>\n",
       "      <th>rating</th>\n",
       "      <td>6766</td>\n",
       "      <td>0.40</td>\n",
       "    </tr>\n",
       "    <tr>\n",
       "      <th>user_score</th>\n",
       "      <td>6701</td>\n",
       "      <td>0.40</td>\n",
       "    </tr>\n",
       "    <tr>\n",
       "      <th>year_of_release</th>\n",
       "      <td>269</td>\n",
       "      <td>0.02</td>\n",
       "    </tr>\n",
       "    <tr>\n",
       "      <th>name</th>\n",
       "      <td>2</td>\n",
       "      <td>0.00</td>\n",
       "    </tr>\n",
       "    <tr>\n",
       "      <th>genre</th>\n",
       "      <td>2</td>\n",
       "      <td>0.00</td>\n",
       "    </tr>\n",
       "    <tr>\n",
       "      <th>platform</th>\n",
       "      <td>0</td>\n",
       "      <td>0.00</td>\n",
       "    </tr>\n",
       "    <tr>\n",
       "      <th>na_sales</th>\n",
       "      <td>0</td>\n",
       "      <td>0.00</td>\n",
       "    </tr>\n",
       "    <tr>\n",
       "      <th>eu_sales</th>\n",
       "      <td>0</td>\n",
       "      <td>0.00</td>\n",
       "    </tr>\n",
       "    <tr>\n",
       "      <th>jp_sales</th>\n",
       "      <td>0</td>\n",
       "      <td>0.00</td>\n",
       "    </tr>\n",
       "    <tr>\n",
       "      <th>other_sales</th>\n",
       "      <td>0</td>\n",
       "      <td>0.00</td>\n",
       "    </tr>\n",
       "  </tbody>\n",
       "</table>\n",
       "</div>"
      ],
      "text/plain": [
       "                 missing_values  % of total\n",
       "critic_score               8578        0.51\n",
       "rating                     6766        0.40\n",
       "user_score                 6701        0.40\n",
       "year_of_release             269        0.02\n",
       "name                          2        0.00\n",
       "genre                         2        0.00\n",
       "platform                      0        0.00\n",
       "na_sales                      0        0.00\n",
       "eu_sales                      0        0.00\n",
       "jp_sales                      0        0.00\n",
       "other_sales                   0        0.00"
      ]
     },
     "execution_count": 6,
     "metadata": {},
     "output_type": "execute_result"
    }
   ],
   "source": [
    "report = data.isna().sum().to_frame()\n",
    "report = report.rename(columns = {0: 'missing_values'})\n",
    "report['% of total'] = (report['missing_values'] / data.shape[0]).round(2)\n",
    "report.sort_values(by = 'missing_values', ascending = False)"
   ]
  },
  {
   "cell_type": "code",
   "execution_count": 7,
   "metadata": {},
   "outputs": [
    {
     "data": {
      "text/plain": [
       "name                  2\n",
       "platform              0\n",
       "year_of_release     269\n",
       "genre                 2\n",
       "na_sales              0\n",
       "eu_sales              0\n",
       "jp_sales              0\n",
       "other_sales           0\n",
       "critic_score       8578\n",
       "user_score         6701\n",
       "rating             6766\n",
       "dtype: int64"
      ]
     },
     "execution_count": 7,
     "metadata": {},
     "output_type": "execute_result"
    }
   ],
   "source": [
    "data.isna().sum()"
   ]
  },
  {
   "cell_type": "markdown",
   "metadata": {},
   "source": [
    "Удалять строки в `critic_score`, `user_score`, `rating` мы не станем, чтобы не лишиться строк с остальными важными данными."
   ]
  },
  {
   "cell_type": "code",
   "execution_count": 8,
   "metadata": {},
   "outputs": [
    {
     "data": {
      "text/plain": [
       "array([1980., 1981., 1982., 1983., 1984., 1985., 1986., 1987., 1988.,\n",
       "       1989., 1990., 1991., 1992., 1993., 1994., 1995., 1996., 1997.,\n",
       "       1998., 1999., 2000., 2001., 2002., 2003., 2004., 2005., 2006.,\n",
       "       2007., 2008., 2009., 2010., 2011., 2012., 2013., 2014., 2015.,\n",
       "       2016.,   nan])"
      ]
     },
     "execution_count": 8,
     "metadata": {},
     "output_type": "execute_result"
    }
   ],
   "source": [
    "data['year_of_release'].sort_values().unique() # Смотрим уникальные значения года релиза"
   ]
  },
  {
   "cell_type": "markdown",
   "metadata": {},
   "source": [
    "Как мы видим - в нашем распоряжении данные об играх, изданных в период с 1980 по 2016 год.\n",
    "Ассоциация ESRB (Entertainment Software Rating Board) была основана в 1994 году.\n",
    "Проверим, вызваны ли пропуски в столбе \"rating\" фактом, что до 1994 года ее не существовало"
   ]
  },
  {
   "cell_type": "code",
   "execution_count": 9,
   "metadata": {
    "scrolled": true
   },
   "outputs": [
    {
     "data": {
      "text/plain": [
       "name                 2\n",
       "platform             0\n",
       "year_of_release      0\n",
       "genre                2\n",
       "na_sales             0\n",
       "eu_sales             0\n",
       "jp_sales             0\n",
       "other_sales          0\n",
       "critic_score       484\n",
       "user_score         484\n",
       "rating             483\n",
       "dtype: int64"
      ]
     },
     "execution_count": 9,
     "metadata": {},
     "output_type": "execute_result"
    }
   ],
   "source": [
    "data[data['year_of_release'] <= 1994].isna().sum() # фильтруем датафрейм с данными об играх до 1994\n",
    "# и смотрим на количество пропущенных значений"
   ]
  },
  {
   "cell_type": "code",
   "execution_count": 10,
   "metadata": {},
   "outputs": [
    {
     "data": {
      "text/html": [
       "<div>\n",
       "<style scoped>\n",
       "    .dataframe tbody tr th:only-of-type {\n",
       "        vertical-align: middle;\n",
       "    }\n",
       "\n",
       "    .dataframe tbody tr th {\n",
       "        vertical-align: top;\n",
       "    }\n",
       "\n",
       "    .dataframe thead th {\n",
       "        text-align: right;\n",
       "    }\n",
       "</style>\n",
       "<table border=\"1\" class=\"dataframe\">\n",
       "  <thead>\n",
       "    <tr style=\"text-align: right;\">\n",
       "      <th></th>\n",
       "      <th>name</th>\n",
       "      <th>platform</th>\n",
       "      <th>year_of_release</th>\n",
       "      <th>genre</th>\n",
       "      <th>na_sales</th>\n",
       "      <th>eu_sales</th>\n",
       "      <th>jp_sales</th>\n",
       "      <th>other_sales</th>\n",
       "      <th>critic_score</th>\n",
       "      <th>user_score</th>\n",
       "      <th>rating</th>\n",
       "    </tr>\n",
       "  </thead>\n",
       "  <tbody>\n",
       "    <tr>\n",
       "      <th>1</th>\n",
       "      <td>Super Mario Bros.</td>\n",
       "      <td>NES</td>\n",
       "      <td>1985.0</td>\n",
       "      <td>Platform</td>\n",
       "      <td>29.08</td>\n",
       "      <td>3.58</td>\n",
       "      <td>6.81</td>\n",
       "      <td>0.77</td>\n",
       "      <td>NaN</td>\n",
       "      <td>NaN</td>\n",
       "      <td>NaN</td>\n",
       "    </tr>\n",
       "    <tr>\n",
       "      <th>5</th>\n",
       "      <td>Tetris</td>\n",
       "      <td>GB</td>\n",
       "      <td>1989.0</td>\n",
       "      <td>Puzzle</td>\n",
       "      <td>23.20</td>\n",
       "      <td>2.26</td>\n",
       "      <td>4.22</td>\n",
       "      <td>0.58</td>\n",
       "      <td>NaN</td>\n",
       "      <td>NaN</td>\n",
       "      <td>NaN</td>\n",
       "    </tr>\n",
       "    <tr>\n",
       "      <th>9</th>\n",
       "      <td>Duck Hunt</td>\n",
       "      <td>NES</td>\n",
       "      <td>1984.0</td>\n",
       "      <td>Shooter</td>\n",
       "      <td>26.93</td>\n",
       "      <td>0.63</td>\n",
       "      <td>0.28</td>\n",
       "      <td>0.47</td>\n",
       "      <td>NaN</td>\n",
       "      <td>NaN</td>\n",
       "      <td>NaN</td>\n",
       "    </tr>\n",
       "    <tr>\n",
       "      <th>18</th>\n",
       "      <td>Super Mario World</td>\n",
       "      <td>SNES</td>\n",
       "      <td>1990.0</td>\n",
       "      <td>Platform</td>\n",
       "      <td>12.78</td>\n",
       "      <td>3.75</td>\n",
       "      <td>3.54</td>\n",
       "      <td>0.55</td>\n",
       "      <td>NaN</td>\n",
       "      <td>NaN</td>\n",
       "      <td>NaN</td>\n",
       "    </tr>\n",
       "    <tr>\n",
       "      <th>21</th>\n",
       "      <td>Super Mario Land</td>\n",
       "      <td>GB</td>\n",
       "      <td>1989.0</td>\n",
       "      <td>Platform</td>\n",
       "      <td>10.83</td>\n",
       "      <td>2.71</td>\n",
       "      <td>4.18</td>\n",
       "      <td>0.42</td>\n",
       "      <td>NaN</td>\n",
       "      <td>NaN</td>\n",
       "      <td>NaN</td>\n",
       "    </tr>\n",
       "  </tbody>\n",
       "</table>\n",
       "</div>"
      ],
      "text/plain": [
       "                 name platform  year_of_release     genre  na_sales  eu_sales  \\\n",
       "1   Super Mario Bros.      NES           1985.0  Platform     29.08      3.58   \n",
       "5              Tetris       GB           1989.0    Puzzle     23.20      2.26   \n",
       "9           Duck Hunt      NES           1984.0   Shooter     26.93      0.63   \n",
       "18  Super Mario World     SNES           1990.0  Platform     12.78      3.75   \n",
       "21   Super Mario Land       GB           1989.0  Platform     10.83      2.71   \n",
       "\n",
       "    jp_sales  other_sales  critic_score user_score rating  \n",
       "1       6.81         0.77           NaN        NaN    NaN  \n",
       "5       4.22         0.58           NaN        NaN    NaN  \n",
       "9       0.28         0.47           NaN        NaN    NaN  \n",
       "18      3.54         0.55           NaN        NaN    NaN  \n",
       "21      4.18         0.42           NaN        NaN    NaN  "
      ]
     },
     "execution_count": 10,
     "metadata": {},
     "output_type": "execute_result"
    }
   ],
   "source": [
    "data[data['year_of_release'] <= 1994].head()"
   ]
  },
  {
   "cell_type": "code",
   "execution_count": 11,
   "metadata": {},
   "outputs": [
    {
     "data": {
      "text/plain": [
       "486"
      ]
     },
     "execution_count": 11,
     "metadata": {},
     "output_type": "execute_result"
    }
   ],
   "source": [
    "data[data['year_of_release'] <= 1994]['name'].count()"
   ]
  },
  {
   "cell_type": "markdown",
   "metadata": {},
   "source": [
    "Практически все игры в то время издавались без оценок, но в общей совокупности количество пропусков за эти года составляет менее 10% от всех пропущенных значений. Значит, проблема не в отсутствии ESRB."
   ]
  },
  {
   "cell_type": "code",
   "execution_count": 12,
   "metadata": {},
   "outputs": [
    {
     "data": {
      "text/plain": [
       "0          E\n",
       "1        NaN\n",
       "2          E\n",
       "3          E\n",
       "4        NaN\n",
       "        ... \n",
       "16710    NaN\n",
       "16711    NaN\n",
       "16712    NaN\n",
       "16713    NaN\n",
       "16714    NaN\n",
       "Name: rating, Length: 16715, dtype: object"
      ]
     },
     "execution_count": 12,
     "metadata": {},
     "output_type": "execute_result"
    }
   ],
   "source": [
    "data['rating']"
   ]
  },
  {
   "cell_type": "code",
   "execution_count": 13,
   "metadata": {},
   "outputs": [],
   "source": [
    "data['rating'] = data['rating'].fillna('undefined')\n",
    "data = data.fillna(0)"
   ]
  },
  {
   "cell_type": "markdown",
   "metadata": {},
   "source": [
    "Заменим все пропущенные значения на ноль, т.к. невозможно выявить их причину, а заполнять пропуски в оценках средним или медианой было бы нечестно и исказило бы данные. К тому же, можно исключить нулевые оценки в дальнейших исследованиях."
   ]
  },
  {
   "cell_type": "code",
   "execution_count": 14,
   "metadata": {},
   "outputs": [
    {
     "data": {
      "text/plain": [
       "array(['8', 0, '8.3', '8.5', '6.6', '8.4', '8.6', '7.7', '6.3', '7.4',\n",
       "       '8.2', '9', '7.9', '8.1', '8.7', '7.1', '3.4', '5.3', '4.8', '3.2',\n",
       "       '8.9', '6.4', '7.8', '7.5', '2.6', '7.2', '9.2', '7', '7.3', '4.3',\n",
       "       '7.6', '5.7', '5', '9.1', '6.5', 'tbd', '8.8', '6.9', '9.4', '6.8',\n",
       "       '6.1', '6.7', '5.4', '4', '4.9', '4.5', '9.3', '6.2', '4.2', '6',\n",
       "       '3.7', '4.1', '5.8', '5.6', '5.5', '4.4', '4.6', '5.9', '3.9',\n",
       "       '3.1', '2.9', '5.2', '3.3', '4.7', '5.1', '3.5', '2.5', '1.9', '3',\n",
       "       '2.7', '2.2', '2', '9.5', '2.1', '3.6', '2.8', '1.8', '3.8', '0',\n",
       "       '1.6', '9.6', '2.4', '1.7', '1.1', '0.3', '1.5', '0.7', '1.2',\n",
       "       '2.3', '0.5', '1.3', '0.2', '0.6', '1.4', '0.9', '1', '9.7'],\n",
       "      dtype=object)"
      ]
     },
     "execution_count": 14,
     "metadata": {},
     "output_type": "execute_result"
    }
   ],
   "source": [
    "data['user_score'].unique()"
   ]
  },
  {
   "cell_type": "markdown",
   "metadata": {},
   "source": [
    "Также в столбце с оценкой пользователей мы можем встретить аббревиатуру 'tdb' от английского To Be Determined (будет определено) или To Be Decided (будет решено). Используется, если какая-то информация еще не определена или решение по вопросу не принято.\n",
    "Так как заменить ее каким-либо определенным значением мы не можем - поменяем ее на 0, дабы иметь возможность дальше корректно работать с данными в этом столбце"
   ]
  },
  {
   "cell_type": "code",
   "execution_count": 15,
   "metadata": {},
   "outputs": [],
   "source": [
    "data['user_score'] = data['user_score'].replace('tbd', 0.00)"
   ]
  },
  {
   "cell_type": "markdown",
   "metadata": {},
   "source": [
    "### Изменяем типы данных"
   ]
  },
  {
   "cell_type": "code",
   "execution_count": 16,
   "metadata": {},
   "outputs": [],
   "source": [
    "data['year_of_release'] = data['year_of_release'].astype(int) # делаем значения годов релиза целым числом\n",
    "data['user_score'] = data['user_score'].astype(float) # а оценки пользователей типом float"
   ]
  },
  {
   "cell_type": "code",
   "execution_count": 17,
   "metadata": {},
   "outputs": [
    {
     "name": "stdout",
     "output_type": "stream",
     "text": [
      "<class 'pandas.core.frame.DataFrame'>\n",
      "RangeIndex: 16715 entries, 0 to 16714\n",
      "Data columns (total 11 columns):\n",
      " #   Column           Non-Null Count  Dtype  \n",
      "---  ------           --------------  -----  \n",
      " 0   name             16715 non-null  object \n",
      " 1   platform         16715 non-null  object \n",
      " 2   year_of_release  16715 non-null  int64  \n",
      " 3   genre            16715 non-null  object \n",
      " 4   na_sales         16715 non-null  float64\n",
      " 5   eu_sales         16715 non-null  float64\n",
      " 6   jp_sales         16715 non-null  float64\n",
      " 7   other_sales      16715 non-null  float64\n",
      " 8   critic_score     16715 non-null  float64\n",
      " 9   user_score       16715 non-null  float64\n",
      " 10  rating           16715 non-null  object \n",
      "dtypes: float64(6), int64(1), object(4)\n",
      "memory usage: 1.4+ MB\n"
     ]
    }
   ],
   "source": [
    "# Еще раз взглянем на информацию о наших уже предобработанных данных\n",
    "data.info()"
   ]
  },
  {
   "cell_type": "markdown",
   "metadata": {},
   "source": [
    "Пропущенных значений не осталось и каждый столбец имеет нужный тип данных."
   ]
  },
  {
   "cell_type": "markdown",
   "metadata": {},
   "source": [
    "### Суммарные продажи во всех регионах"
   ]
  },
  {
   "cell_type": "code",
   "execution_count": 18,
   "metadata": {},
   "outputs": [
    {
     "data": {
      "text/html": [
       "<div>\n",
       "<style scoped>\n",
       "    .dataframe tbody tr th:only-of-type {\n",
       "        vertical-align: middle;\n",
       "    }\n",
       "\n",
       "    .dataframe tbody tr th {\n",
       "        vertical-align: top;\n",
       "    }\n",
       "\n",
       "    .dataframe thead th {\n",
       "        text-align: right;\n",
       "    }\n",
       "</style>\n",
       "<table border=\"1\" class=\"dataframe\">\n",
       "  <thead>\n",
       "    <tr style=\"text-align: right;\">\n",
       "      <th></th>\n",
       "      <th>name</th>\n",
       "      <th>platform</th>\n",
       "      <th>year_of_release</th>\n",
       "      <th>genre</th>\n",
       "      <th>na_sales</th>\n",
       "      <th>eu_sales</th>\n",
       "      <th>jp_sales</th>\n",
       "      <th>other_sales</th>\n",
       "      <th>critic_score</th>\n",
       "      <th>user_score</th>\n",
       "      <th>rating</th>\n",
       "      <th>total_sales</th>\n",
       "    </tr>\n",
       "  </thead>\n",
       "  <tbody>\n",
       "    <tr>\n",
       "      <th>0</th>\n",
       "      <td>Wii Sports</td>\n",
       "      <td>Wii</td>\n",
       "      <td>2006</td>\n",
       "      <td>Sports</td>\n",
       "      <td>41.36</td>\n",
       "      <td>28.96</td>\n",
       "      <td>3.77</td>\n",
       "      <td>8.45</td>\n",
       "      <td>76.0</td>\n",
       "      <td>8.0</td>\n",
       "      <td>E</td>\n",
       "      <td>82.54</td>\n",
       "    </tr>\n",
       "    <tr>\n",
       "      <th>1</th>\n",
       "      <td>Super Mario Bros.</td>\n",
       "      <td>NES</td>\n",
       "      <td>1985</td>\n",
       "      <td>Platform</td>\n",
       "      <td>29.08</td>\n",
       "      <td>3.58</td>\n",
       "      <td>6.81</td>\n",
       "      <td>0.77</td>\n",
       "      <td>0.0</td>\n",
       "      <td>0.0</td>\n",
       "      <td>undefined</td>\n",
       "      <td>40.24</td>\n",
       "    </tr>\n",
       "    <tr>\n",
       "      <th>2</th>\n",
       "      <td>Mario Kart Wii</td>\n",
       "      <td>Wii</td>\n",
       "      <td>2008</td>\n",
       "      <td>Racing</td>\n",
       "      <td>15.68</td>\n",
       "      <td>12.76</td>\n",
       "      <td>3.79</td>\n",
       "      <td>3.29</td>\n",
       "      <td>82.0</td>\n",
       "      <td>8.3</td>\n",
       "      <td>E</td>\n",
       "      <td>35.52</td>\n",
       "    </tr>\n",
       "    <tr>\n",
       "      <th>3</th>\n",
       "      <td>Wii Sports Resort</td>\n",
       "      <td>Wii</td>\n",
       "      <td>2009</td>\n",
       "      <td>Sports</td>\n",
       "      <td>15.61</td>\n",
       "      <td>10.93</td>\n",
       "      <td>3.28</td>\n",
       "      <td>2.95</td>\n",
       "      <td>80.0</td>\n",
       "      <td>8.0</td>\n",
       "      <td>E</td>\n",
       "      <td>32.77</td>\n",
       "    </tr>\n",
       "    <tr>\n",
       "      <th>4</th>\n",
       "      <td>Pokemon Red/Pokemon Blue</td>\n",
       "      <td>GB</td>\n",
       "      <td>1996</td>\n",
       "      <td>Role-Playing</td>\n",
       "      <td>11.27</td>\n",
       "      <td>8.89</td>\n",
       "      <td>10.22</td>\n",
       "      <td>1.00</td>\n",
       "      <td>0.0</td>\n",
       "      <td>0.0</td>\n",
       "      <td>undefined</td>\n",
       "      <td>31.38</td>\n",
       "    </tr>\n",
       "  </tbody>\n",
       "</table>\n",
       "</div>"
      ],
      "text/plain": [
       "                       name platform  year_of_release         genre  na_sales  \\\n",
       "0                Wii Sports      Wii             2006        Sports     41.36   \n",
       "1         Super Mario Bros.      NES             1985      Platform     29.08   \n",
       "2            Mario Kart Wii      Wii             2008        Racing     15.68   \n",
       "3         Wii Sports Resort      Wii             2009        Sports     15.61   \n",
       "4  Pokemon Red/Pokemon Blue       GB             1996  Role-Playing     11.27   \n",
       "\n",
       "   eu_sales  jp_sales  other_sales  critic_score  user_score     rating  \\\n",
       "0     28.96      3.77         8.45          76.0         8.0          E   \n",
       "1      3.58      6.81         0.77           0.0         0.0  undefined   \n",
       "2     12.76      3.79         3.29          82.0         8.3          E   \n",
       "3     10.93      3.28         2.95          80.0         8.0          E   \n",
       "4      8.89     10.22         1.00           0.0         0.0  undefined   \n",
       "\n",
       "   total_sales  \n",
       "0        82.54  \n",
       "1        40.24  \n",
       "2        35.52  \n",
       "3        32.77  \n",
       "4        31.38  "
      ]
     },
     "execution_count": 18,
     "metadata": {},
     "output_type": "execute_result"
    }
   ],
   "source": [
    "data['total_sales'] = data['na_sales'] + data['eu_sales'] + data['jp_sales'] + data['other_sales']\n",
    "data.head()"
   ]
  },
  {
   "cell_type": "markdown",
   "metadata": {},
   "source": [
    "## Исследовательский анализ данных"
   ]
  },
  {
   "cell_type": "markdown",
   "metadata": {},
   "source": [
    "### Cколько игр выпускалось в разные годы"
   ]
  },
  {
   "cell_type": "code",
   "execution_count": 19,
   "metadata": {
    "scrolled": false
   },
   "outputs": [
    {
     "data": {
      "text/plain": [
       "year_of_release\n",
       "0        269\n",
       "1980       9\n",
       "1981      46\n",
       "1982      36\n",
       "1983      17\n",
       "1984      14\n",
       "1985      14\n",
       "1986      21\n",
       "1987      16\n",
       "1988      15\n",
       "1989      17\n",
       "1990      16\n",
       "1991      41\n",
       "1992      43\n",
       "1993      62\n",
       "1994     121\n",
       "1995     219\n",
       "1996     263\n",
       "1997     289\n",
       "1998     379\n",
       "1999     338\n",
       "2000     350\n",
       "2001     482\n",
       "2002     829\n",
       "2003     775\n",
       "2004     762\n",
       "2005     939\n",
       "2006    1006\n",
       "2007    1197\n",
       "2008    1427\n",
       "2009    1426\n",
       "2010    1255\n",
       "2011    1136\n",
       "2012     653\n",
       "2013     544\n",
       "2014     581\n",
       "2015     606\n",
       "2016     502\n",
       "Name: name, dtype: int64"
      ]
     },
     "execution_count": 19,
     "metadata": {},
     "output_type": "execute_result"
    }
   ],
   "source": [
    "data.groupby('year_of_release')['name'].count() # посмотрим, сколько игр выпускалось в разные годы"
   ]
  },
  {
   "cell_type": "code",
   "execution_count": 20,
   "metadata": {},
   "outputs": [
    {
     "data": {
      "image/png": "[encoded data removed]",
      "text/plain": [
       "<Figure size 864x432 with 1 Axes>"
      ]
     },
     "metadata": {
      "needs_background": "light"
     },
     "output_type": "display_data"
    }
   ],
   "source": [
    "release_data = data.loc[data['year_of_release'] > 1994].pivot_table(index='year_of_release',\n",
    "                                                                    values='name',\n",
    "                                                                    aggfunc='count')\n",
    "plt.figure(figsize=(12,6))\n",
    "\n",
    "sns.lineplot(data=release_data)\n",
    "\n",
    "plt.title('Сколько игр выпускалось в разные годы')\n",
    "plt.xlabel('Год выпуска')\n",
    "plt.ylabel('Количество игр')\n",
    "plt.legend('')\n",
    "None"
   ]
  },
  {
   "cell_type": "markdown",
   "metadata": {},
   "source": [
    "Всего у нас было выпущенно `16715`. Наибольшее кол-во игр было выпущено в 2008-2009 гг.\n",
    "\n",
    "До с 1980 по 1993 количество игр, выпускаемых в год, росло постепенно.\n",
    "Начиная с 1994 произошел резкий скачок вплоть до 2011.\n",
    "А вот с 2012 почему-то идет спад почти в два раза.\n",
    "\n",
    "Немного покапавшись в интернете, выяснил, что связано это может быть с тем, что многие компании игровой индустрии перестали получать должное финансирование на разработку из-за кризиса того времени. К тому же упала платежеспособность людей, которые лишились возможности тратить деньги на развлечения и покупать новые консоли. Спад продаж нового поколения консолей привёл к сокращению потенциального рынка сбыта.\n",
    "\n",
    "Сложно утверждать, именно это ли повлияло на обвал, но похоже на правду."
   ]
  },
  {
   "cell_type": "markdown",
   "metadata": {},
   "source": [
    "Также, так как до 1994 года количество игр, выпускаемых за год, было не особо велико, а оценки пользователей и критиков полностью пропущены - считаю, что этот период в нашем исследовании не так важен и его можно убрать."
   ]
  },
  {
   "cell_type": "code",
   "execution_count": 21,
   "metadata": {},
   "outputs": [],
   "source": [
    "data = data.loc[data['year_of_release'] > 1994]"
   ]
  },
  {
   "cell_type": "markdown",
   "metadata": {},
   "source": [
    "### Как менялись продажи по платформам"
   ]
  },
  {
   "cell_type": "code",
   "execution_count": 22,
   "metadata": {},
   "outputs": [],
   "source": [
    "# Посмотрим, как менялись продажи по платформам по данным из сводной таблицы\n",
    "top_total_sales = data.pivot_table(index='platform',\n",
    "                 values=['na_sales', 'eu_sales', 'jp_sales', 'other_sales', 'total_sales'],\n",
    "                 aggfunc='sum').sort_values(by = 'total_sales', ascending=False)"
   ]
  },
  {
   "cell_type": "code",
   "execution_count": 23,
   "metadata": {},
   "outputs": [
    {
     "data": {
      "image/png": "[encoded data removed]",
      "text/plain": [
       "<Figure size 864x432 with 1 Axes>"
      ]
     },
     "metadata": {
      "needs_background": "light"
     },
     "output_type": "display_data"
    }
   ],
   "source": [
    "# Построим график для наглядности\n",
    "index = top_total_sales.sort_values('total_sales', ascending=False).index\n",
    "values = top_total_sales.sort_values('total_sales', ascending=False)['total_sales']\n",
    "\n",
    "plt.figure(figsize=(12,6))\n",
    "\n",
    "plt.title('Количество продаж по платформам')\n",
    "plt.xlabel('Количество продаж')\n",
    "plt.ylabel('Платформы')\n",
    "\n",
    "plt.barh(index, values)\n",
    "None"
   ]
  },
  {
   "cell_type": "markdown",
   "metadata": {},
   "source": [
    "Из него видно, что больше всего продаж было на PS2, X360, PS3, Wii и DS."
   ]
  },
  {
   "cell_type": "code",
   "execution_count": 24,
   "metadata": {},
   "outputs": [
    {
     "data": {
      "text/html": [
       "<div>\n",
       "<style scoped>\n",
       "    .dataframe tbody tr th:only-of-type {\n",
       "        vertical-align: middle;\n",
       "    }\n",
       "\n",
       "    .dataframe tbody tr th {\n",
       "        vertical-align: top;\n",
       "    }\n",
       "\n",
       "    .dataframe thead th {\n",
       "        text-align: right;\n",
       "    }\n",
       "</style>\n",
       "<table border=\"1\" class=\"dataframe\">\n",
       "  <thead>\n",
       "    <tr style=\"text-align: right;\">\n",
       "      <th></th>\n",
       "      <th>eu_sales</th>\n",
       "      <th>jp_sales</th>\n",
       "      <th>na_sales</th>\n",
       "      <th>other_sales</th>\n",
       "      <th>total_sales</th>\n",
       "    </tr>\n",
       "    <tr>\n",
       "      <th>platform</th>\n",
       "      <th></th>\n",
       "      <th></th>\n",
       "      <th></th>\n",
       "      <th></th>\n",
       "      <th></th>\n",
       "    </tr>\n",
       "  </thead>\n",
       "  <tbody>\n",
       "    <tr>\n",
       "      <th>PS2</th>\n",
       "      <td>332.63</td>\n",
       "      <td>137.54</td>\n",
       "      <td>572.92</td>\n",
       "      <td>190.47</td>\n",
       "      <td>1233.56</td>\n",
       "    </tr>\n",
       "    <tr>\n",
       "      <th>X360</th>\n",
       "      <td>268.32</td>\n",
       "      <td>12.30</td>\n",
       "      <td>595.74</td>\n",
       "      <td>84.88</td>\n",
       "      <td>961.24</td>\n",
       "    </tr>\n",
       "    <tr>\n",
       "      <th>PS3</th>\n",
       "      <td>327.21</td>\n",
       "      <td>79.41</td>\n",
       "      <td>390.13</td>\n",
       "      <td>134.59</td>\n",
       "      <td>931.34</td>\n",
       "    </tr>\n",
       "    <tr>\n",
       "      <th>Wii</th>\n",
       "      <td>258.32</td>\n",
       "      <td>68.28</td>\n",
       "      <td>486.87</td>\n",
       "      <td>77.71</td>\n",
       "      <td>891.18</td>\n",
       "    </tr>\n",
       "    <tr>\n",
       "      <th>DS</th>\n",
       "      <td>188.41</td>\n",
       "      <td>175.00</td>\n",
       "      <td>380.31</td>\n",
       "      <td>59.04</td>\n",
       "      <td>802.76</td>\n",
       "    </tr>\n",
       "  </tbody>\n",
       "</table>\n",
       "</div>"
      ],
      "text/plain": [
       "          eu_sales  jp_sales  na_sales  other_sales  total_sales\n",
       "platform                                                        \n",
       "PS2         332.63    137.54    572.92       190.47      1233.56\n",
       "X360        268.32     12.30    595.74        84.88       961.24\n",
       "PS3         327.21     79.41    390.13       134.59       931.34\n",
       "Wii         258.32     68.28    486.87        77.71       891.18\n",
       "DS          188.41    175.00    380.31        59.04       802.76"
      ]
     },
     "execution_count": 24,
     "metadata": {},
     "output_type": "execute_result"
    }
   ],
   "source": [
    "# Выберем платформы с наибольшими суммарными продажами\n",
    "top5_total_sales = data.pivot_table(index='platform',\n",
    "                 values=['na_sales', 'eu_sales', 'jp_sales', 'other_sales', 'total_sales'],\n",
    "                 aggfunc='sum').sort_values(by = 'total_sales', ascending=False).head(5)\n",
    "top5_total_sales"
   ]
  },
  {
   "cell_type": "code",
   "execution_count": 25,
   "metadata": {},
   "outputs": [
    {
     "data": {
      "image/png": "[encoded data removed]",
      "text/plain": [
       "<Figure size 1080x360 with 1 Axes>"
      ]
     },
     "metadata": {
      "needs_background": "light"
     },
     "output_type": "display_data"
    },
    {
     "data": {
      "image/png": "[encoded data removed]",
      "text/plain": [
       "<Figure size 1080x360 with 1 Axes>"
      ]
     },
     "metadata": {
      "needs_background": "light"
     },
     "output_type": "display_data"
    },
    {
     "data": {
      "image/png": "[encoded data removed]",
      "text/plain": [
       "<Figure size 1080x360 with 1 Axes>"
      ]
     },
     "metadata": {
      "needs_background": "light"
     },
     "output_type": "display_data"
    },
    {
     "data": {
      "image/png": "[encoded data removed]",
      "text/plain": [
       "<Figure size 1080x360 with 1 Axes>"
      ]
     },
     "metadata": {
      "needs_background": "light"
     },
     "output_type": "display_data"
    },
    {
     "data": {
      "image/png": "[encoded data removed]",
      "text/plain": [
       "<Figure size 1080x360 with 1 Axes>"
      ]
     },
     "metadata": {
      "needs_background": "light"
     },
     "output_type": "display_data"
    }
   ],
   "source": [
    "# Посмотрим распределение продаж по годам для наиболее прибыльных платформ\n",
    "for platform in top5_total_sales.index:\n",
    "    data[data['platform'] == platform].pivot_table(index='year_of_release',\n",
    "                                                   values='total_sales',\n",
    "                                                   aggfunc='sum').plot(kind='bar', figsize=(15,5))\n",
    "    plt.title(platform)"
   ]
  },
  {
   "cell_type": "markdown",
   "metadata": {},
   "source": [
    "Из графиков видно, что среднее время жизни платформы - 10 лет."
   ]
  },
  {
   "cell_type": "markdown",
   "metadata": {},
   "source": [
    "### Актуальный период"
   ]
  },
  {
   "cell_type": "markdown",
   "metadata": {},
   "source": [
    "Основываясь на предудщих выводах - возьмем за актуальный период с 2012 по 2016 гг., т.к. данные до этого периода могут исказить прогноз на 2017 год."
   ]
  },
  {
   "cell_type": "code",
   "execution_count": 26,
   "metadata": {},
   "outputs": [],
   "source": [
    "actual_data = data.query('year_of_release >= 2012')"
   ]
  },
  {
   "cell_type": "markdown",
   "metadata": {},
   "source": [
    "### Потенциально прибыльные платформы"
   ]
  },
  {
   "cell_type": "markdown",
   "metadata": {},
   "source": [
    "Какие платформы лидируют по продажам, растут или падают? Выберем несколько потенциально прибыльных платформ."
   ]
  },
  {
   "cell_type": "code",
   "execution_count": 27,
   "metadata": {},
   "outputs": [
    {
     "data": {
      "text/plain": [
       "<AxesSubplot:xlabel='platform', ylabel='total_sales'>"
      ]
     },
     "execution_count": 27,
     "metadata": {},
     "output_type": "execute_result"
    },
    {
     "data": {
      "image/png": "[encoded data removed]",
      "text/plain": [
       "<Figure size 1296x360 with 1 Axes>"
      ]
     },
     "metadata": {},
     "output_type": "display_data"
    }
   ],
   "source": [
    "actual_pivot = actual_data.pivot_table(index='platform',\n",
    "                                          values='total_sales',\n",
    "                                          aggfunc='sum').reset_index().sort_values(by='total_sales', ascending=False)\n",
    " \n",
    "sns.set_style('whitegrid')\n",
    "plt.figure(figsize=(18, 5))\n",
    "sns.barplot(data = actual_pivot, x='platform', y='total_sales')"
   ]
  },
  {
   "cell_type": "markdown",
   "metadata": {},
   "source": [
    "Наиболее прибыльными себя показывают PS4, PS3, X360, 3DS, XOne"
   ]
  },
  {
   "cell_type": "code",
   "execution_count": 28,
   "metadata": {},
   "outputs": [
    {
     "data": {
      "text/html": [
       "<div>\n",
       "<style scoped>\n",
       "    .dataframe tbody tr th:only-of-type {\n",
       "        vertical-align: middle;\n",
       "    }\n",
       "\n",
       "    .dataframe tbody tr th {\n",
       "        vertical-align: top;\n",
       "    }\n",
       "\n",
       "    .dataframe thead th {\n",
       "        text-align: right;\n",
       "    }\n",
       "</style>\n",
       "<table border=\"1\" class=\"dataframe\">\n",
       "  <thead>\n",
       "    <tr style=\"text-align: right;\">\n",
       "      <th>platform</th>\n",
       "      <th>3DS</th>\n",
       "      <th>DS</th>\n",
       "      <th>PC</th>\n",
       "      <th>PS3</th>\n",
       "      <th>PS4</th>\n",
       "      <th>PSP</th>\n",
       "      <th>PSV</th>\n",
       "      <th>Wii</th>\n",
       "      <th>WiiU</th>\n",
       "      <th>X360</th>\n",
       "      <th>XOne</th>\n",
       "    </tr>\n",
       "    <tr>\n",
       "      <th>year_of_release</th>\n",
       "      <th></th>\n",
       "      <th></th>\n",
       "      <th></th>\n",
       "      <th></th>\n",
       "      <th></th>\n",
       "      <th></th>\n",
       "      <th></th>\n",
       "      <th></th>\n",
       "      <th></th>\n",
       "      <th></th>\n",
       "      <th></th>\n",
       "    </tr>\n",
       "  </thead>\n",
       "  <tbody>\n",
       "    <tr>\n",
       "      <th>2012</th>\n",
       "      <td>51.36</td>\n",
       "      <td>11.01</td>\n",
       "      <td>23.22</td>\n",
       "      <td>107.36</td>\n",
       "      <td>NaN</td>\n",
       "      <td>7.69</td>\n",
       "      <td>16.19</td>\n",
       "      <td>21.71</td>\n",
       "      <td>17.56</td>\n",
       "      <td>99.74</td>\n",
       "      <td>NaN</td>\n",
       "    </tr>\n",
       "    <tr>\n",
       "      <th>2013</th>\n",
       "      <td>56.57</td>\n",
       "      <td>1.54</td>\n",
       "      <td>12.38</td>\n",
       "      <td>113.25</td>\n",
       "      <td>25.99</td>\n",
       "      <td>3.14</td>\n",
       "      <td>10.59</td>\n",
       "      <td>8.59</td>\n",
       "      <td>21.65</td>\n",
       "      <td>88.58</td>\n",
       "      <td>18.96</td>\n",
       "    </tr>\n",
       "    <tr>\n",
       "      <th>2014</th>\n",
       "      <td>43.76</td>\n",
       "      <td>NaN</td>\n",
       "      <td>13.28</td>\n",
       "      <td>47.76</td>\n",
       "      <td>100.00</td>\n",
       "      <td>0.24</td>\n",
       "      <td>11.90</td>\n",
       "      <td>3.75</td>\n",
       "      <td>22.03</td>\n",
       "      <td>34.74</td>\n",
       "      <td>54.07</td>\n",
       "    </tr>\n",
       "    <tr>\n",
       "      <th>2015</th>\n",
       "      <td>27.78</td>\n",
       "      <td>NaN</td>\n",
       "      <td>8.52</td>\n",
       "      <td>16.82</td>\n",
       "      <td>118.90</td>\n",
       "      <td>0.12</td>\n",
       "      <td>6.25</td>\n",
       "      <td>1.14</td>\n",
       "      <td>16.35</td>\n",
       "      <td>11.96</td>\n",
       "      <td>60.14</td>\n",
       "    </tr>\n",
       "    <tr>\n",
       "      <th>2016</th>\n",
       "      <td>15.14</td>\n",
       "      <td>NaN</td>\n",
       "      <td>5.25</td>\n",
       "      <td>3.60</td>\n",
       "      <td>69.25</td>\n",
       "      <td>NaN</td>\n",
       "      <td>4.25</td>\n",
       "      <td>0.18</td>\n",
       "      <td>4.60</td>\n",
       "      <td>1.52</td>\n",
       "      <td>26.15</td>\n",
       "    </tr>\n",
       "  </tbody>\n",
       "</table>\n",
       "</div>"
      ],
      "text/plain": [
       "platform           3DS     DS     PC     PS3     PS4   PSP    PSV    Wii  \\\n",
       "year_of_release                                                            \n",
       "2012             51.36  11.01  23.22  107.36     NaN  7.69  16.19  21.71   \n",
       "2013             56.57   1.54  12.38  113.25   25.99  3.14  10.59   8.59   \n",
       "2014             43.76    NaN  13.28   47.76  100.00  0.24  11.90   3.75   \n",
       "2015             27.78    NaN   8.52   16.82  118.90  0.12   6.25   1.14   \n",
       "2016             15.14    NaN   5.25    3.60   69.25   NaN   4.25   0.18   \n",
       "\n",
       "platform          WiiU   X360   XOne  \n",
       "year_of_release                       \n",
       "2012             17.56  99.74    NaN  \n",
       "2013             21.65  88.58  18.96  \n",
       "2014             22.03  34.74  54.07  \n",
       "2015             16.35  11.96  60.14  \n",
       "2016              4.60   1.52  26.15  "
      ]
     },
     "execution_count": 28,
     "metadata": {},
     "output_type": "execute_result"
    }
   ],
   "source": [
    "actual_data.pivot_table(index='year_of_release', columns = 'platform', values='total_sales', aggfunc='sum')"
   ]
  },
  {
   "cell_type": "markdown",
   "metadata": {},
   "source": [
    "Смотря на данную сводную таблицу необходимо помнить, что данные за 2016 год являются неполными.\n",
    "\n",
    "Можно отметить неплохой рост продаж PS4 и XOne, а вот продажи PC, PS3, PSV, Wii, X360 заметно идут вниз.\n",
    "Продажи DS сошли на нет практически также, как и PSP."
   ]
  },
  {
   "cell_type": "markdown",
   "metadata": {},
   "source": [
    "Продажи PS3 и X360 начали падать по понятным причинам - вышло новое поколение консолей."
   ]
  },
  {
   "cell_type": "markdown",
   "metadata": {},
   "source": [
    "В лидеры продаж можно отметить 3DS, PS4, XOne"
   ]
  },
  {
   "cell_type": "markdown",
   "metadata": {},
   "source": [
    "### «Ящик с усами» по глобальным продажам игр в разбивке по платформам"
   ]
  },
  {
   "cell_type": "markdown",
   "metadata": {},
   "source": [
    "#### PS4"
   ]
  },
  {
   "cell_type": "code",
   "execution_count": 29,
   "metadata": {},
   "outputs": [
    {
     "data": {
      "text/plain": [
       "(0.0, 3.0)"
      ]
     },
     "execution_count": 29,
     "metadata": {},
     "output_type": "execute_result"
    },
    {
     "data": {
      "image/png": "[encoded data removed]",
      "text/plain": [
       "<Figure size 864x432 with 1 Axes>"
      ]
     },
     "metadata": {},
     "output_type": "display_data"
    }
   ],
   "source": [
    "fig, ax = plt.subplots(figsize=(12, 6))\n",
    "\n",
    "ps4 = actual_data.query('platform == \"PS4\"')\n",
    "ps4.boxplot(column='total_sales')\n",
    "\n",
    "ax.set_ylim([0, 3])"
   ]
  },
  {
   "cell_type": "code",
   "execution_count": 30,
   "metadata": {},
   "outputs": [
    {
     "data": {
      "text/html": [
       "<div>\n",
       "<style scoped>\n",
       "    .dataframe tbody tr th:only-of-type {\n",
       "        vertical-align: middle;\n",
       "    }\n",
       "\n",
       "    .dataframe tbody tr th {\n",
       "        vertical-align: top;\n",
       "    }\n",
       "\n",
       "    .dataframe thead th {\n",
       "        text-align: right;\n",
       "    }\n",
       "</style>\n",
       "<table border=\"1\" class=\"dataframe\">\n",
       "  <thead>\n",
       "    <tr style=\"text-align: right;\">\n",
       "      <th></th>\n",
       "      <th>total_sales</th>\n",
       "    </tr>\n",
       "    <tr>\n",
       "      <th>year_of_release</th>\n",
       "      <th></th>\n",
       "    </tr>\n",
       "  </thead>\n",
       "  <tbody>\n",
       "    <tr>\n",
       "      <th>2013</th>\n",
       "      <td>25.99</td>\n",
       "    </tr>\n",
       "    <tr>\n",
       "      <th>2014</th>\n",
       "      <td>100.00</td>\n",
       "    </tr>\n",
       "    <tr>\n",
       "      <th>2015</th>\n",
       "      <td>118.90</td>\n",
       "    </tr>\n",
       "    <tr>\n",
       "      <th>2016</th>\n",
       "      <td>69.25</td>\n",
       "    </tr>\n",
       "  </tbody>\n",
       "</table>\n",
       "</div>"
      ],
      "text/plain": [
       "                 total_sales\n",
       "year_of_release             \n",
       "2013                   25.99\n",
       "2014                  100.00\n",
       "2015                  118.90\n",
       "2016                   69.25"
      ]
     },
     "execution_count": 30,
     "metadata": {},
     "output_type": "execute_result"
    }
   ],
   "source": [
    "actual_data_pivot = actual_data[actual_data['platform'] == 'PS4'].pivot_table(index='year_of_release',\n",
    "                                                                              values = 'total_sales',\n",
    "                                                                              aggfunc = 'sum')\n",
    "actual_data_pivot"
   ]
  },
  {
   "cell_type": "markdown",
   "metadata": {},
   "source": [
    "PS4 в 2013 году только начинает набирать популярность после своего релиза и имеет на старте продаж почти 26 млн.\n",
    "И продажи продолжают стремительно расти."
   ]
  },
  {
   "cell_type": "markdown",
   "metadata": {},
   "source": [
    "#### 3DS"
   ]
  },
  {
   "cell_type": "code",
   "execution_count": 31,
   "metadata": {},
   "outputs": [
    {
     "data": {
      "text/html": [
       "<div>\n",
       "<style scoped>\n",
       "    .dataframe tbody tr th:only-of-type {\n",
       "        vertical-align: middle;\n",
       "    }\n",
       "\n",
       "    .dataframe tbody tr th {\n",
       "        vertical-align: top;\n",
       "    }\n",
       "\n",
       "    .dataframe thead th {\n",
       "        text-align: right;\n",
       "    }\n",
       "</style>\n",
       "<table border=\"1\" class=\"dataframe\">\n",
       "  <thead>\n",
       "    <tr style=\"text-align: right;\">\n",
       "      <th></th>\n",
       "      <th>total_sales</th>\n",
       "    </tr>\n",
       "    <tr>\n",
       "      <th>year_of_release</th>\n",
       "      <th></th>\n",
       "    </tr>\n",
       "  </thead>\n",
       "  <tbody>\n",
       "    <tr>\n",
       "      <th>2012</th>\n",
       "      <td>51.36</td>\n",
       "    </tr>\n",
       "    <tr>\n",
       "      <th>2013</th>\n",
       "      <td>56.57</td>\n",
       "    </tr>\n",
       "    <tr>\n",
       "      <th>2014</th>\n",
       "      <td>43.76</td>\n",
       "    </tr>\n",
       "    <tr>\n",
       "      <th>2015</th>\n",
       "      <td>27.78</td>\n",
       "    </tr>\n",
       "    <tr>\n",
       "      <th>2016</th>\n",
       "      <td>15.14</td>\n",
       "    </tr>\n",
       "  </tbody>\n",
       "</table>\n",
       "</div>"
      ],
      "text/plain": [
       "                 total_sales\n",
       "year_of_release             \n",
       "2012                   51.36\n",
       "2013                   56.57\n",
       "2014                   43.76\n",
       "2015                   27.78\n",
       "2016                   15.14"
      ]
     },
     "execution_count": 31,
     "metadata": {},
     "output_type": "execute_result"
    }
   ],
   "source": [
    "actual_data_pivot = actual_data[actual_data['platform'] == '3DS'].pivot_table(index='year_of_release',\n",
    "                                                                              values = 'total_sales',\n",
    "                                                                              aggfunc = 'sum')\n",
    "actual_data_pivot"
   ]
  },
  {
   "cell_type": "code",
   "execution_count": 32,
   "metadata": {},
   "outputs": [
    {
     "data": {
      "text/plain": [
       "(0.0, 2.0)"
      ]
     },
     "execution_count": 32,
     "metadata": {},
     "output_type": "execute_result"
    },
    {
     "data": {
      "image/png": "[encoded data removed]",
      "text/plain": [
       "<Figure size 864x432 with 1 Axes>"
      ]
     },
     "metadata": {},
     "output_type": "display_data"
    }
   ],
   "source": [
    "fig, ax = plt.subplots(figsize=(12, 6))\n",
    "\n",
    "n_3ds = actual_data.query('platform == \"3DS\"')\n",
    "n_3ds.boxplot(column='total_sales')\n",
    "\n",
    "ax.set_ylim([0, 2])"
   ]
  },
  {
   "cell_type": "code",
   "execution_count": 33,
   "metadata": {},
   "outputs": [
    {
     "data": {
      "text/html": [
       "<div>\n",
       "<style scoped>\n",
       "    .dataframe tbody tr th:only-of-type {\n",
       "        vertical-align: middle;\n",
       "    }\n",
       "\n",
       "    .dataframe tbody tr th {\n",
       "        vertical-align: top;\n",
       "    }\n",
       "\n",
       "    .dataframe thead th {\n",
       "        text-align: right;\n",
       "    }\n",
       "</style>\n",
       "<table border=\"1\" class=\"dataframe\">\n",
       "  <thead>\n",
       "    <tr style=\"text-align: right;\">\n",
       "      <th></th>\n",
       "      <th>total_sales</th>\n",
       "    </tr>\n",
       "    <tr>\n",
       "      <th>year_of_release</th>\n",
       "      <th></th>\n",
       "    </tr>\n",
       "  </thead>\n",
       "  <tbody>\n",
       "    <tr>\n",
       "      <th>2012</th>\n",
       "      <td>51.36</td>\n",
       "    </tr>\n",
       "    <tr>\n",
       "      <th>2013</th>\n",
       "      <td>56.57</td>\n",
       "    </tr>\n",
       "    <tr>\n",
       "      <th>2014</th>\n",
       "      <td>43.76</td>\n",
       "    </tr>\n",
       "    <tr>\n",
       "      <th>2015</th>\n",
       "      <td>27.78</td>\n",
       "    </tr>\n",
       "    <tr>\n",
       "      <th>2016</th>\n",
       "      <td>15.14</td>\n",
       "    </tr>\n",
       "  </tbody>\n",
       "</table>\n",
       "</div>"
      ],
      "text/plain": [
       "                 total_sales\n",
       "year_of_release             \n",
       "2012                   51.36\n",
       "2013                   56.57\n",
       "2014                   43.76\n",
       "2015                   27.78\n",
       "2016                   15.14"
      ]
     },
     "execution_count": 33,
     "metadata": {},
     "output_type": "execute_result"
    }
   ],
   "source": [
    "actual_data_pivot = actual_data[actual_data['platform'] == '3DS'].pivot_table(index='year_of_release',\n",
    "                                                                              values = 'total_sales',\n",
    "                                                                              aggfunc = 'sum')\n",
    "actual_data_pivot"
   ]
  },
  {
   "cell_type": "markdown",
   "metadata": {},
   "source": [
    "3DS появилась раньше, но тенденция с ее продажами стремительно идет на спад."
   ]
  },
  {
   "cell_type": "markdown",
   "metadata": {},
   "source": [
    "#### XOne"
   ]
  },
  {
   "cell_type": "code",
   "execution_count": 34,
   "metadata": {},
   "outputs": [
    {
     "data": {
      "text/plain": [
       "(0.0, 3.0)"
      ]
     },
     "execution_count": 34,
     "metadata": {},
     "output_type": "execute_result"
    },
    {
     "data": {
      "image/png": "[encoded data removed]",
      "text/plain": [
       "<Figure size 864x432 with 1 Axes>"
      ]
     },
     "metadata": {},
     "output_type": "display_data"
    }
   ],
   "source": [
    "fig, ax = plt.subplots(figsize=(12, 6))\n",
    "\n",
    "ps4 = actual_data.query('platform == \"XOne\"')\n",
    "ps4.boxplot(column='total_sales')\n",
    "\n",
    "ax.set_ylim([0, 3])"
   ]
  },
  {
   "cell_type": "code",
   "execution_count": 35,
   "metadata": {},
   "outputs": [
    {
     "data": {
      "text/html": [
       "<div>\n",
       "<style scoped>\n",
       "    .dataframe tbody tr th:only-of-type {\n",
       "        vertical-align: middle;\n",
       "    }\n",
       "\n",
       "    .dataframe tbody tr th {\n",
       "        vertical-align: top;\n",
       "    }\n",
       "\n",
       "    .dataframe thead th {\n",
       "        text-align: right;\n",
       "    }\n",
       "</style>\n",
       "<table border=\"1\" class=\"dataframe\">\n",
       "  <thead>\n",
       "    <tr style=\"text-align: right;\">\n",
       "      <th></th>\n",
       "      <th>total_sales</th>\n",
       "    </tr>\n",
       "    <tr>\n",
       "      <th>year_of_release</th>\n",
       "      <th></th>\n",
       "    </tr>\n",
       "  </thead>\n",
       "  <tbody>\n",
       "    <tr>\n",
       "      <th>2013</th>\n",
       "      <td>18.96</td>\n",
       "    </tr>\n",
       "    <tr>\n",
       "      <th>2014</th>\n",
       "      <td>54.07</td>\n",
       "    </tr>\n",
       "    <tr>\n",
       "      <th>2015</th>\n",
       "      <td>60.14</td>\n",
       "    </tr>\n",
       "    <tr>\n",
       "      <th>2016</th>\n",
       "      <td>26.15</td>\n",
       "    </tr>\n",
       "  </tbody>\n",
       "</table>\n",
       "</div>"
      ],
      "text/plain": [
       "                 total_sales\n",
       "year_of_release             \n",
       "2013                   18.96\n",
       "2014                   54.07\n",
       "2015                   60.14\n",
       "2016                   26.15"
      ]
     },
     "execution_count": 35,
     "metadata": {},
     "output_type": "execute_result"
    }
   ],
   "source": [
    "actual_data_pivot = actual_data[actual_data['platform'] == 'XOne'].pivot_table(index='year_of_release',\n",
    "                                                                              values = 'total_sales',\n",
    "                                                                              aggfunc = 'sum')\n",
    "actual_data_pivot"
   ]
  },
  {
   "cell_type": "markdown",
   "metadata": {},
   "source": [
    "А вот у XOne продажи хоть и растут, но их явно меньше, чем у PS4, и рост этот идет не так резко."
   ]
  },
  {
   "cell_type": "markdown",
   "metadata": {},
   "source": [
    "### Влияние отзывов пользователей и критиков на продажи"
   ]
  },
  {
   "cell_type": "markdown",
   "metadata": {},
   "source": [
    "#### PS4"
   ]
  },
  {
   "cell_type": "code",
   "execution_count": 36,
   "metadata": {},
   "outputs": [],
   "source": [
    "# Посмотрим, как влияют отзывы на продажи PS4, предварительно исключив наши заполненные нулями пропуски.\n",
    "ps4 = actual_data.query('platform == \"PS4\" and critic_score > 0 and user_score > 0')"
   ]
  },
  {
   "cell_type": "code",
   "execution_count": 37,
   "metadata": {},
   "outputs": [
    {
     "data": {
      "image/png": "[encoded data removed]",
      "text/plain": [
       "<Figure size 1440x432 with 1 Axes>"
      ]
     },
     "metadata": {},
     "output_type": "display_data"
    },
    {
     "data": {
      "image/png": "[encoded data removed]",
      "text/plain": [
       "<Figure size 1440x432 with 1 Axes>"
      ]
     },
     "metadata": {},
     "output_type": "display_data"
    }
   ],
   "source": [
    "ps4.plot(x= 'critic_score', y= 'total_sales', style='o', grid=True, figsize=(20, 6), alpha = 0.3)\n",
    "ps4.plot(x= 'user_score', y= 'total_sales', style='o', grid=True, figsize=(20, 6), alpha = 0.3)\n",
    "None"
   ]
  },
  {
   "cell_type": "code",
   "execution_count": 38,
   "metadata": {},
   "outputs": [
    {
     "data": {
      "text/plain": [
       "0.40589480145836687"
      ]
     },
     "metadata": {},
     "output_type": "display_data"
    },
    {
     "data": {
      "text/plain": [
       "-0.03362497596528878"
      ]
     },
     "metadata": {},
     "output_type": "display_data"
    }
   ],
   "source": [
    "display(ps4['total_sales'].corr(ps4['critic_score']))\n",
    "display(ps4['total_sales'].corr(ps4['user_score']))"
   ]
  },
  {
   "cell_type": "markdown",
   "metadata": {},
   "source": [
    "Оценки критиков и оценки пользователей имеют разный коэффициент корреляции.\n",
    "Так критики слабо влияют на продажи, а вот пользователи практически не оказывают на них никакого действия."
   ]
  },
  {
   "cell_type": "markdown",
   "metadata": {},
   "source": [
    "#### XOne"
   ]
  },
  {
   "cell_type": "markdown",
   "metadata": {},
   "source": [
    "Сравним с показателями XOne"
   ]
  },
  {
   "cell_type": "code",
   "execution_count": 39,
   "metadata": {},
   "outputs": [],
   "source": [
    "XOne = actual_data.query('platform == \"XOne\" and critic_score > 0 and user_score > 0')"
   ]
  },
  {
   "cell_type": "code",
   "execution_count": 40,
   "metadata": {},
   "outputs": [
    {
     "data": {
      "image/png": "[encoded data removed]",
      "text/plain": [
       "<Figure size 1440x432 with 1 Axes>"
      ]
     },
     "metadata": {},
     "output_type": "display_data"
    },
    {
     "data": {
      "image/png": "[encoded data removed]",
      "text/plain": [
       "<Figure size 1440x432 with 1 Axes>"
      ]
     },
     "metadata": {},
     "output_type": "display_data"
    }
   ],
   "source": [
    "XOne.plot(x= 'critic_score', y= 'total_sales', style='o', grid=True, figsize=(20, 6), alpha = 0.3)\n",
    "XOne.plot(x= 'user_score', y= 'total_sales', style='o', grid=True, figsize=(20, 6), alpha = 0.3)\n",
    "None"
   ]
  },
  {
   "cell_type": "code",
   "execution_count": 41,
   "metadata": {},
   "outputs": [
    {
     "data": {
      "text/plain": [
       "0.4104220356129637"
      ]
     },
     "metadata": {},
     "output_type": "display_data"
    },
    {
     "data": {
      "text/plain": [
       "-0.09400318326920852"
      ]
     },
     "metadata": {},
     "output_type": "display_data"
    }
   ],
   "source": [
    "display(XOne['total_sales'].corr(XOne['critic_score']))\n",
    "display(XOne['total_sales'].corr(XOne['user_score']))"
   ]
  },
  {
   "cell_type": "markdown",
   "metadata": {},
   "source": [
    "Показатели практически полностью идентичны PS4"
   ]
  },
  {
   "cell_type": "markdown",
   "metadata": {},
   "source": [
    "#### 3DS"
   ]
  },
  {
   "cell_type": "code",
   "execution_count": 42,
   "metadata": {},
   "outputs": [],
   "source": [
    "n_3ds = actual_data.query('platform == \"3DS\" and critic_score > 0 and user_score > 0')"
   ]
  },
  {
   "cell_type": "code",
   "execution_count": 43,
   "metadata": {},
   "outputs": [
    {
     "data": {
      "image/png": "[encoded data removed]",
      "text/plain": [
       "<Figure size 1440x432 with 1 Axes>"
      ]
     },
     "metadata": {},
     "output_type": "display_data"
    },
    {
     "data": {
      "image/png": "[encoded data removed]",
      "text/plain": [
       "<Figure size 1440x432 with 1 Axes>"
      ]
     },
     "metadata": {},
     "output_type": "display_data"
    }
   ],
   "source": [
    "n_3ds.plot(x= 'critic_score', y= 'total_sales', style='o', grid=True, figsize=(20, 6), alpha = 0.3)\n",
    "n_3ds.plot(x= 'user_score', y= 'total_sales', style='o', grid=True, figsize=(20, 6), alpha = 0.3)\n",
    "None"
   ]
  },
  {
   "cell_type": "code",
   "execution_count": 44,
   "metadata": {},
   "outputs": [
    {
     "data": {
      "text/plain": [
       "0.31055301915326294"
      ]
     },
     "metadata": {},
     "output_type": "display_data"
    },
    {
     "data": {
      "text/plain": [
       "0.2018125500765528"
      ]
     },
     "metadata": {},
     "output_type": "display_data"
    }
   ],
   "source": [
    "display(n_3ds['total_sales'].corr(n_3ds['critic_score']))\n",
    "display(n_3ds['total_sales'].corr(n_3ds['user_score']))"
   ]
  },
  {
   "cell_type": "markdown",
   "metadata": {},
   "source": [
    "А вот корреляция по нинтендо немного отличается от предыдущих, хоть и взаимосвязь оценок с продажами остается довольно слабой."
   ]
  },
  {
   "cell_type": "markdown",
   "metadata": {},
   "source": [
    "#### Общий вывод о влиянии отзывов"
   ]
  },
  {
   "cell_type": "markdown",
   "metadata": {},
   "source": [
    "* У PS4 и XOne корреляции схожи, где пользователи никак на продажи не влияют.\n",
    "* У 3DS пользовательские оценки имеют больше веса, но коэффициент корреляции все равно прослеживается слабо.\n",
    "* Покупатели на всех платформах больше прислушиваются к оценкам критиков, чем к пользователям."
   ]
  },
  {
   "cell_type": "markdown",
   "metadata": {},
   "source": [
    "### Общее распределение игр по жанрам"
   ]
  },
  {
   "cell_type": "code",
   "execution_count": 45,
   "metadata": {},
   "outputs": [
    {
     "data": {
      "text/html": [
       "<div>\n",
       "<style scoped>\n",
       "    .dataframe tbody tr th:only-of-type {\n",
       "        vertical-align: middle;\n",
       "    }\n",
       "\n",
       "    .dataframe tbody tr th {\n",
       "        vertical-align: top;\n",
       "    }\n",
       "\n",
       "    .dataframe thead th {\n",
       "        text-align: right;\n",
       "    }\n",
       "</style>\n",
       "<table border=\"1\" class=\"dataframe\">\n",
       "  <thead>\n",
       "    <tr style=\"text-align: right;\">\n",
       "      <th></th>\n",
       "      <th>genre</th>\n",
       "      <th>total_sales</th>\n",
       "    </tr>\n",
       "  </thead>\n",
       "  <tbody>\n",
       "    <tr>\n",
       "      <th>0</th>\n",
       "      <td>Action</td>\n",
       "      <td>441.12</td>\n",
       "    </tr>\n",
       "    <tr>\n",
       "      <th>8</th>\n",
       "      <td>Shooter</td>\n",
       "      <td>304.73</td>\n",
       "    </tr>\n",
       "    <tr>\n",
       "      <th>7</th>\n",
       "      <td>Role-Playing</td>\n",
       "      <td>192.80</td>\n",
       "    </tr>\n",
       "    <tr>\n",
       "      <th>10</th>\n",
       "      <td>Sports</td>\n",
       "      <td>181.07</td>\n",
       "    </tr>\n",
       "    <tr>\n",
       "      <th>3</th>\n",
       "      <td>Misc</td>\n",
       "      <td>85.04</td>\n",
       "    </tr>\n",
       "    <tr>\n",
       "      <th>4</th>\n",
       "      <td>Platform</td>\n",
       "      <td>61.00</td>\n",
       "    </tr>\n",
       "    <tr>\n",
       "      <th>6</th>\n",
       "      <td>Racing</td>\n",
       "      <td>53.50</td>\n",
       "    </tr>\n",
       "    <tr>\n",
       "      <th>2</th>\n",
       "      <td>Fighting</td>\n",
       "      <td>44.49</td>\n",
       "    </tr>\n",
       "    <tr>\n",
       "      <th>9</th>\n",
       "      <td>Simulation</td>\n",
       "      <td>35.12</td>\n",
       "    </tr>\n",
       "    <tr>\n",
       "      <th>1</th>\n",
       "      <td>Adventure</td>\n",
       "      <td>29.43</td>\n",
       "    </tr>\n",
       "    <tr>\n",
       "      <th>11</th>\n",
       "      <td>Strategy</td>\n",
       "      <td>13.34</td>\n",
       "    </tr>\n",
       "    <tr>\n",
       "      <th>5</th>\n",
       "      <td>Puzzle</td>\n",
       "      <td>4.89</td>\n",
       "    </tr>\n",
       "  </tbody>\n",
       "</table>\n",
       "</div>"
      ],
      "text/plain": [
       "           genre  total_sales\n",
       "0         Action       441.12\n",
       "8        Shooter       304.73\n",
       "7   Role-Playing       192.80\n",
       "10        Sports       181.07\n",
       "3           Misc        85.04\n",
       "4       Platform        61.00\n",
       "6         Racing        53.50\n",
       "2       Fighting        44.49\n",
       "9     Simulation        35.12\n",
       "1      Adventure        29.43\n",
       "11      Strategy        13.34\n",
       "5         Puzzle         4.89"
      ]
     },
     "execution_count": 45,
     "metadata": {},
     "output_type": "execute_result"
    }
   ],
   "source": [
    "actual_data.groupby('genre', as_index=False).agg({'total_sales': 'sum'}).sort_values(by ='total_sales', ascending=False)"
   ]
  },
  {
   "cell_type": "code",
   "execution_count": 46,
   "metadata": {},
   "outputs": [
    {
     "data": {
      "text/html": [
       "<div>\n",
       "<style scoped>\n",
       "    .dataframe tbody tr th:only-of-type {\n",
       "        vertical-align: middle;\n",
       "    }\n",
       "\n",
       "    .dataframe tbody tr th {\n",
       "        vertical-align: top;\n",
       "    }\n",
       "\n",
       "    .dataframe thead th {\n",
       "        text-align: right;\n",
       "    }\n",
       "</style>\n",
       "<table border=\"1\" class=\"dataframe\">\n",
       "  <thead>\n",
       "    <tr style=\"text-align: right;\">\n",
       "      <th></th>\n",
       "      <th>sum</th>\n",
       "      <th>mean</th>\n",
       "      <th>median</th>\n",
       "    </tr>\n",
       "    <tr>\n",
       "      <th>genre</th>\n",
       "      <th></th>\n",
       "      <th></th>\n",
       "      <th></th>\n",
       "    </tr>\n",
       "  </thead>\n",
       "  <tbody>\n",
       "    <tr>\n",
       "      <th>Shooter</th>\n",
       "      <td>304.73</td>\n",
       "      <td>1.296723</td>\n",
       "      <td>0.440</td>\n",
       "    </tr>\n",
       "    <tr>\n",
       "      <th>Sports</th>\n",
       "      <td>181.07</td>\n",
       "      <td>0.675634</td>\n",
       "      <td>0.240</td>\n",
       "    </tr>\n",
       "    <tr>\n",
       "      <th>Platform</th>\n",
       "      <td>61.00</td>\n",
       "      <td>0.717647</td>\n",
       "      <td>0.210</td>\n",
       "    </tr>\n",
       "    <tr>\n",
       "      <th>Role-Playing</th>\n",
       "      <td>192.80</td>\n",
       "      <td>0.521081</td>\n",
       "      <td>0.140</td>\n",
       "    </tr>\n",
       "    <tr>\n",
       "      <th>Racing</th>\n",
       "      <td>53.50</td>\n",
       "      <td>0.465217</td>\n",
       "      <td>0.140</td>\n",
       "    </tr>\n",
       "    <tr>\n",
       "      <th>Fighting</th>\n",
       "      <td>44.49</td>\n",
       "      <td>0.408165</td>\n",
       "      <td>0.130</td>\n",
       "    </tr>\n",
       "    <tr>\n",
       "      <th>Action</th>\n",
       "      <td>441.12</td>\n",
       "      <td>0.427856</td>\n",
       "      <td>0.120</td>\n",
       "    </tr>\n",
       "    <tr>\n",
       "      <th>Misc</th>\n",
       "      <td>85.04</td>\n",
       "      <td>0.442917</td>\n",
       "      <td>0.120</td>\n",
       "    </tr>\n",
       "    <tr>\n",
       "      <th>Simulation</th>\n",
       "      <td>35.12</td>\n",
       "      <td>0.439000</td>\n",
       "      <td>0.120</td>\n",
       "    </tr>\n",
       "    <tr>\n",
       "      <th>Strategy</th>\n",
       "      <td>13.34</td>\n",
       "      <td>0.187887</td>\n",
       "      <td>0.080</td>\n",
       "    </tr>\n",
       "    <tr>\n",
       "      <th>Puzzle</th>\n",
       "      <td>4.89</td>\n",
       "      <td>0.174643</td>\n",
       "      <td>0.045</td>\n",
       "    </tr>\n",
       "    <tr>\n",
       "      <th>Adventure</th>\n",
       "      <td>29.43</td>\n",
       "      <td>0.097450</td>\n",
       "      <td>0.030</td>\n",
       "    </tr>\n",
       "  </tbody>\n",
       "</table>\n",
       "</div>"
      ],
      "text/plain": [
       "                 sum      mean  median\n",
       "genre                                 \n",
       "Shooter       304.73  1.296723   0.440\n",
       "Sports        181.07  0.675634   0.240\n",
       "Platform       61.00  0.717647   0.210\n",
       "Role-Playing  192.80  0.521081   0.140\n",
       "Racing         53.50  0.465217   0.140\n",
       "Fighting       44.49  0.408165   0.130\n",
       "Action        441.12  0.427856   0.120\n",
       "Misc           85.04  0.442917   0.120\n",
       "Simulation     35.12  0.439000   0.120\n",
       "Strategy       13.34  0.187887   0.080\n",
       "Puzzle          4.89  0.174643   0.045\n",
       "Adventure      29.43  0.097450   0.030"
      ]
     },
     "execution_count": 46,
     "metadata": {},
     "output_type": "execute_result"
    }
   ],
   "source": [
    "top_genre = actual_data.pivot_table(index='genre',\n",
    "                       values='total_sales',\n",
    "                       aggfunc=['sum', 'mean' ,'median'])\n",
    "\n",
    "top_genre.columns = ['sum', 'mean', 'median']\n",
    "top_genre.sort_values('median', ascending=False)"
   ]
  },
  {
   "cell_type": "markdown",
   "metadata": {},
   "source": [
    "В топ-5 по продажам входят жанры shooter, sports, platform и role-playing. Самый менее продаваемый жанр пазлов и приключений.\n",
    "Популярность первых топ-5 жанров обуславливается, я думаю, их динамичностью и вовлеченностью в процесс игры. Эти жанры являются самыми интересными, к тому же по большей части подобные проекты носят online-характер.\n",
    "Стратегии, к примеру, таким спросом не пользуются. Они спокойные и обычно партии в них длятся по несколько суток, отчего у основной массы людей внимание на них не лежит.\n",
    "Ну а пазлы вообще довольно специфичный жанр на любитея. На него вряд ли станут тратить много денег. Да и игры подобные не имеют большой стоимости."
   ]
  },
  {
   "cell_type": "markdown",
   "metadata": {},
   "source": [
    "## Портрет пользователя каждого региона"
   ]
  },
  {
   "cell_type": "markdown",
   "metadata": {},
   "source": [
    "### Северная Америка"
   ]
  },
  {
   "cell_type": "code",
   "execution_count": 47,
   "metadata": {},
   "outputs": [
    {
     "data": {
      "text/html": [
       "<div>\n",
       "<style scoped>\n",
       "    .dataframe tbody tr th:only-of-type {\n",
       "        vertical-align: middle;\n",
       "    }\n",
       "\n",
       "    .dataframe tbody tr th {\n",
       "        vertical-align: top;\n",
       "    }\n",
       "\n",
       "    .dataframe thead th {\n",
       "        text-align: right;\n",
       "    }\n",
       "</style>\n",
       "<table border=\"1\" class=\"dataframe\">\n",
       "  <thead>\n",
       "    <tr style=\"text-align: right;\">\n",
       "      <th></th>\n",
       "      <th>platform</th>\n",
       "      <th>na_sales</th>\n",
       "    </tr>\n",
       "  </thead>\n",
       "  <tbody>\n",
       "    <tr>\n",
       "      <th>9</th>\n",
       "      <td>X360</td>\n",
       "      <td>140.05</td>\n",
       "    </tr>\n",
       "    <tr>\n",
       "      <th>4</th>\n",
       "      <td>PS4</td>\n",
       "      <td>108.74</td>\n",
       "    </tr>\n",
       "    <tr>\n",
       "      <th>3</th>\n",
       "      <td>PS3</td>\n",
       "      <td>103.38</td>\n",
       "    </tr>\n",
       "    <tr>\n",
       "      <th>10</th>\n",
       "      <td>XOne</td>\n",
       "      <td>93.12</td>\n",
       "    </tr>\n",
       "    <tr>\n",
       "      <th>0</th>\n",
       "      <td>3DS</td>\n",
       "      <td>55.31</td>\n",
       "    </tr>\n",
       "  </tbody>\n",
       "</table>\n",
       "</div>"
      ],
      "text/plain": [
       "   platform  na_sales\n",
       "9      X360    140.05\n",
       "4       PS4    108.74\n",
       "3       PS3    103.38\n",
       "10     XOne     93.12\n",
       "0       3DS     55.31"
      ]
     },
     "execution_count": 47,
     "metadata": {},
     "output_type": "execute_result"
    }
   ],
   "source": [
    "# Топ-5 популярных платформ в Северной Америке:\n",
    "na_platform = actual_data.groupby('platform', as_index=False).agg({'na_sales': 'sum'}).sort_values(by ='na_sales', ascending=False).head()\n",
    "na_platform"
   ]
  },
  {
   "cell_type": "markdown",
   "metadata": {},
   "source": [
    "Самым большим спросом пользуется X360. Думаю, PS4 только начинает набирать популярность."
   ]
  },
  {
   "cell_type": "code",
   "execution_count": 48,
   "metadata": {},
   "outputs": [
    {
     "data": {
      "text/html": [
       "<div>\n",
       "<style scoped>\n",
       "    .dataframe tbody tr th:only-of-type {\n",
       "        vertical-align: middle;\n",
       "    }\n",
       "\n",
       "    .dataframe tbody tr th {\n",
       "        vertical-align: top;\n",
       "    }\n",
       "\n",
       "    .dataframe thead th {\n",
       "        text-align: right;\n",
       "    }\n",
       "</style>\n",
       "<table border=\"1\" class=\"dataframe\">\n",
       "  <thead>\n",
       "    <tr style=\"text-align: right;\">\n",
       "      <th></th>\n",
       "      <th>genre</th>\n",
       "      <th>na_sales</th>\n",
       "    </tr>\n",
       "  </thead>\n",
       "  <tbody>\n",
       "    <tr>\n",
       "      <th>0</th>\n",
       "      <td>Action</td>\n",
       "      <td>177.84</td>\n",
       "    </tr>\n",
       "    <tr>\n",
       "      <th>8</th>\n",
       "      <td>Shooter</td>\n",
       "      <td>144.77</td>\n",
       "    </tr>\n",
       "    <tr>\n",
       "      <th>10</th>\n",
       "      <td>Sports</td>\n",
       "      <td>81.53</td>\n",
       "    </tr>\n",
       "    <tr>\n",
       "      <th>7</th>\n",
       "      <td>Role-Playing</td>\n",
       "      <td>64.00</td>\n",
       "    </tr>\n",
       "    <tr>\n",
       "      <th>3</th>\n",
       "      <td>Misc</td>\n",
       "      <td>38.19</td>\n",
       "    </tr>\n",
       "  </tbody>\n",
       "</table>\n",
       "</div>"
      ],
      "text/plain": [
       "           genre  na_sales\n",
       "0         Action    177.84\n",
       "8        Shooter    144.77\n",
       "10        Sports     81.53\n",
       "7   Role-Playing     64.00\n",
       "3           Misc     38.19"
      ]
     },
     "execution_count": 48,
     "metadata": {},
     "output_type": "execute_result"
    }
   ],
   "source": [
    "# Посмотрим топ-5 популярных жанров для данного региона:\n",
    "na_genre = actual_data.groupby('genre', as_index=False).agg({'na_sales': 'sum'}).sort_values(by ='na_sales', ascending=False).head()\n",
    "na_genre"
   ]
  },
  {
   "cell_type": "markdown",
   "metadata": {},
   "source": [
    "По жанрам распределение сопадает с топом по миру."
   ]
  },
  {
   "cell_type": "code",
   "execution_count": 49,
   "metadata": {},
   "outputs": [
    {
     "data": {
      "text/html": [
       "<div>\n",
       "<style scoped>\n",
       "    .dataframe tbody tr th:only-of-type {\n",
       "        vertical-align: middle;\n",
       "    }\n",
       "\n",
       "    .dataframe tbody tr th {\n",
       "        vertical-align: top;\n",
       "    }\n",
       "\n",
       "    .dataframe thead th {\n",
       "        text-align: right;\n",
       "    }\n",
       "</style>\n",
       "<table border=\"1\" class=\"dataframe\">\n",
       "  <thead>\n",
       "    <tr style=\"text-align: right;\">\n",
       "      <th></th>\n",
       "      <th>rating</th>\n",
       "      <th>na_sales</th>\n",
       "    </tr>\n",
       "  </thead>\n",
       "  <tbody>\n",
       "    <tr>\n",
       "      <th>2</th>\n",
       "      <td>M</td>\n",
       "      <td>231.57</td>\n",
       "    </tr>\n",
       "    <tr>\n",
       "      <th>0</th>\n",
       "      <td>E</td>\n",
       "      <td>114.37</td>\n",
       "    </tr>\n",
       "    <tr>\n",
       "      <th>4</th>\n",
       "      <td>undefined</td>\n",
       "      <td>103.31</td>\n",
       "    </tr>\n",
       "    <tr>\n",
       "      <th>1</th>\n",
       "      <td>E10+</td>\n",
       "      <td>75.70</td>\n",
       "    </tr>\n",
       "    <tr>\n",
       "      <th>3</th>\n",
       "      <td>T</td>\n",
       "      <td>66.02</td>\n",
       "    </tr>\n",
       "  </tbody>\n",
       "</table>\n",
       "</div>"
      ],
      "text/plain": [
       "      rating  na_sales\n",
       "2          M    231.57\n",
       "0          E    114.37\n",
       "4  undefined    103.31\n",
       "1       E10+     75.70\n",
       "3          T     66.02"
      ]
     },
     "execution_count": 49,
     "metadata": {},
     "output_type": "execute_result"
    }
   ],
   "source": [
    "# Влияет ли рейтинг ESRB на продажи:\n",
    "na_esbr = actual_data.groupby('rating', as_index=False).agg({'na_sales': 'sum'}).sort_values(by ='na_sales', ascending=False).head()\n",
    "na_esbr"
   ]
  },
  {
   "cell_type": "markdown",
   "metadata": {},
   "source": [
    "В Северной Америке самые высокие рейтинги у жанра «M» («Mature») — «Для взрослых»: Материалы игры не подходят для подростков младше 17 лет.\n",
    "\n",
    "Далее идет «E» («Everyone») — «Для всех»: Содержание вполне подходит для возрастной категории от 6 лет.\n",
    "\n",
    "И следом за ним игры с неопреденным жанром.\n",
    "\n",
    "Остальные жанры менее популярные."
   ]
  },
  {
   "cell_type": "code",
   "execution_count": 50,
   "metadata": {},
   "outputs": [
    {
     "data": {
      "image/png": "[encoded data removed]",
      "text/plain": [
       "<Figure size 864x504 with 3 Axes>"
      ]
     },
     "metadata": {},
     "output_type": "display_data"
    }
   ],
   "source": [
    "plt.subplots(figsize=(12, 7))\n",
    "plt.subplot(221)\n",
    "sns.barplot(data=na_platform, x='platform', y='na_sales')\n",
    "plt.subplot(222)\n",
    "sns.barplot(data=na_genre, x='genre', y='na_sales')\n",
    "plt.subplot(223)\n",
    "sns.barplot(data=na_esbr, x='rating', y='na_sales')\n",
    "None"
   ]
  },
  {
   "cell_type": "markdown",
   "metadata": {},
   "source": [
    "### Европа"
   ]
  },
  {
   "cell_type": "code",
   "execution_count": 51,
   "metadata": {},
   "outputs": [
    {
     "data": {
      "text/html": [
       "<div>\n",
       "<style scoped>\n",
       "    .dataframe tbody tr th:only-of-type {\n",
       "        vertical-align: middle;\n",
       "    }\n",
       "\n",
       "    .dataframe tbody tr th {\n",
       "        vertical-align: top;\n",
       "    }\n",
       "\n",
       "    .dataframe thead th {\n",
       "        text-align: right;\n",
       "    }\n",
       "</style>\n",
       "<table border=\"1\" class=\"dataframe\">\n",
       "  <thead>\n",
       "    <tr style=\"text-align: right;\">\n",
       "      <th></th>\n",
       "      <th>platform</th>\n",
       "      <th>eu_sales</th>\n",
       "    </tr>\n",
       "  </thead>\n",
       "  <tbody>\n",
       "    <tr>\n",
       "      <th>4</th>\n",
       "      <td>PS4</td>\n",
       "      <td>141.09</td>\n",
       "    </tr>\n",
       "    <tr>\n",
       "      <th>3</th>\n",
       "      <td>PS3</td>\n",
       "      <td>106.86</td>\n",
       "    </tr>\n",
       "    <tr>\n",
       "      <th>9</th>\n",
       "      <td>X360</td>\n",
       "      <td>74.52</td>\n",
       "    </tr>\n",
       "    <tr>\n",
       "      <th>10</th>\n",
       "      <td>XOne</td>\n",
       "      <td>51.59</td>\n",
       "    </tr>\n",
       "    <tr>\n",
       "      <th>0</th>\n",
       "      <td>3DS</td>\n",
       "      <td>42.64</td>\n",
       "    </tr>\n",
       "  </tbody>\n",
       "</table>\n",
       "</div>"
      ],
      "text/plain": [
       "   platform  eu_sales\n",
       "4       PS4    141.09\n",
       "3       PS3    106.86\n",
       "9      X360     74.52\n",
       "10     XOne     51.59\n",
       "0       3DS     42.64"
      ]
     },
     "execution_count": 51,
     "metadata": {},
     "output_type": "execute_result"
    }
   ],
   "source": [
    "# Топ-5 популярных в Европе:\n",
    "eu_platform = actual_data.groupby('platform', as_index=False).agg({'eu_sales': 'sum'}).sort_values(by ='eu_sales', ascending=False).head()\n",
    "eu_platform"
   ]
  },
  {
   "cell_type": "markdown",
   "metadata": {},
   "source": [
    "А вот в Европе во всю уже лидирует PS4."
   ]
  },
  {
   "cell_type": "code",
   "execution_count": 52,
   "metadata": {},
   "outputs": [
    {
     "data": {
      "text/html": [
       "<div>\n",
       "<style scoped>\n",
       "    .dataframe tbody tr th:only-of-type {\n",
       "        vertical-align: middle;\n",
       "    }\n",
       "\n",
       "    .dataframe tbody tr th {\n",
       "        vertical-align: top;\n",
       "    }\n",
       "\n",
       "    .dataframe thead th {\n",
       "        text-align: right;\n",
       "    }\n",
       "</style>\n",
       "<table border=\"1\" class=\"dataframe\">\n",
       "  <thead>\n",
       "    <tr style=\"text-align: right;\">\n",
       "      <th></th>\n",
       "      <th>genre</th>\n",
       "      <th>eu_sales</th>\n",
       "    </tr>\n",
       "  </thead>\n",
       "  <tbody>\n",
       "    <tr>\n",
       "      <th>0</th>\n",
       "      <td>Action</td>\n",
       "      <td>159.34</td>\n",
       "    </tr>\n",
       "    <tr>\n",
       "      <th>8</th>\n",
       "      <td>Shooter</td>\n",
       "      <td>113.47</td>\n",
       "    </tr>\n",
       "    <tr>\n",
       "      <th>10</th>\n",
       "      <td>Sports</td>\n",
       "      <td>69.09</td>\n",
       "    </tr>\n",
       "    <tr>\n",
       "      <th>7</th>\n",
       "      <td>Role-Playing</td>\n",
       "      <td>48.53</td>\n",
       "    </tr>\n",
       "    <tr>\n",
       "      <th>6</th>\n",
       "      <td>Racing</td>\n",
       "      <td>27.29</td>\n",
       "    </tr>\n",
       "  </tbody>\n",
       "</table>\n",
       "</div>"
      ],
      "text/plain": [
       "           genre  eu_sales\n",
       "0         Action    159.34\n",
       "8        Shooter    113.47\n",
       "10        Sports     69.09\n",
       "7   Role-Playing     48.53\n",
       "6         Racing     27.29"
      ]
     },
     "execution_count": 52,
     "metadata": {},
     "output_type": "execute_result"
    }
   ],
   "source": [
    "# Топ-5 самых популярных жанров:\n",
    "eu_genre = actual_data.groupby('genre', as_index=False).agg({'eu_sales': 'sum'}).sort_values(by ='eu_sales', ascending=False).head()\n",
    "eu_genre"
   ]
  },
  {
   "cell_type": "markdown",
   "metadata": {},
   "source": [
    "Распределение, опять же, аналогично распределению Северной Америке, разве что количество продаж совсем немного меньше."
   ]
  },
  {
   "cell_type": "code",
   "execution_count": 53,
   "metadata": {},
   "outputs": [
    {
     "data": {
      "text/html": [
       "<div>\n",
       "<style scoped>\n",
       "    .dataframe tbody tr th:only-of-type {\n",
       "        vertical-align: middle;\n",
       "    }\n",
       "\n",
       "    .dataframe tbody tr th {\n",
       "        vertical-align: top;\n",
       "    }\n",
       "\n",
       "    .dataframe thead th {\n",
       "        text-align: right;\n",
       "    }\n",
       "</style>\n",
       "<table border=\"1\" class=\"dataframe\">\n",
       "  <thead>\n",
       "    <tr style=\"text-align: right;\">\n",
       "      <th></th>\n",
       "      <th>rating</th>\n",
       "      <th>eu_sales</th>\n",
       "    </tr>\n",
       "  </thead>\n",
       "  <tbody>\n",
       "    <tr>\n",
       "      <th>2</th>\n",
       "      <td>M</td>\n",
       "      <td>193.96</td>\n",
       "    </tr>\n",
       "    <tr>\n",
       "      <th>0</th>\n",
       "      <td>E</td>\n",
       "      <td>113.03</td>\n",
       "    </tr>\n",
       "    <tr>\n",
       "      <th>4</th>\n",
       "      <td>undefined</td>\n",
       "      <td>91.50</td>\n",
       "    </tr>\n",
       "    <tr>\n",
       "      <th>1</th>\n",
       "      <td>E10+</td>\n",
       "      <td>55.37</td>\n",
       "    </tr>\n",
       "    <tr>\n",
       "      <th>3</th>\n",
       "      <td>T</td>\n",
       "      <td>52.96</td>\n",
       "    </tr>\n",
       "  </tbody>\n",
       "</table>\n",
       "</div>"
      ],
      "text/plain": [
       "      rating  eu_sales\n",
       "2          M    193.96\n",
       "0          E    113.03\n",
       "4  undefined     91.50\n",
       "1       E10+     55.37\n",
       "3          T     52.96"
      ]
     },
     "execution_count": 53,
     "metadata": {},
     "output_type": "execute_result"
    }
   ],
   "source": [
    "# Влияет ли рейтинг ESRB на продажи:\n",
    "eu_esbr = actual_data.groupby('rating', as_index=False).agg({'eu_sales': 'sum'}).sort_values(by ='eu_sales', ascending=False).head()\n",
    "eu_esbr"
   ]
  },
  {
   "cell_type": "markdown",
   "metadata": {},
   "source": [
    "Аналогичное распределение по рейтингу ESRB и в Европе, разве что количество продаж по прежнему чуть меньше."
   ]
  },
  {
   "cell_type": "code",
   "execution_count": 54,
   "metadata": {},
   "outputs": [
    {
     "data": {
      "image/png": "[encoded data removed]",
      "text/plain": [
       "<Figure size 864x504 with 3 Axes>"
      ]
     },
     "metadata": {},
     "output_type": "display_data"
    }
   ],
   "source": [
    "plt.subplots(figsize=(12, 7))\n",
    "plt.subplot(221)\n",
    "sns.barplot(data=eu_platform, x='platform', y='eu_sales')\n",
    "plt.subplot(222)\n",
    "sns.barplot(data=eu_genre, x='genre', y='eu_sales')\n",
    "plt.subplot(223)\n",
    "sns.barplot(data=eu_esbr, x='rating', y='eu_sales')\n",
    "None"
   ]
  },
  {
   "cell_type": "markdown",
   "metadata": {},
   "source": [
    "### Япония"
   ]
  },
  {
   "cell_type": "code",
   "execution_count": 55,
   "metadata": {},
   "outputs": [
    {
     "data": {
      "text/html": [
       "<div>\n",
       "<style scoped>\n",
       "    .dataframe tbody tr th:only-of-type {\n",
       "        vertical-align: middle;\n",
       "    }\n",
       "\n",
       "    .dataframe tbody tr th {\n",
       "        vertical-align: top;\n",
       "    }\n",
       "\n",
       "    .dataframe thead th {\n",
       "        text-align: right;\n",
       "    }\n",
       "</style>\n",
       "<table border=\"1\" class=\"dataframe\">\n",
       "  <thead>\n",
       "    <tr style=\"text-align: right;\">\n",
       "      <th></th>\n",
       "      <th>platform</th>\n",
       "      <th>jp_sales</th>\n",
       "    </tr>\n",
       "  </thead>\n",
       "  <tbody>\n",
       "    <tr>\n",
       "      <th>0</th>\n",
       "      <td>3DS</td>\n",
       "      <td>87.79</td>\n",
       "    </tr>\n",
       "    <tr>\n",
       "      <th>3</th>\n",
       "      <td>PS3</td>\n",
       "      <td>35.29</td>\n",
       "    </tr>\n",
       "    <tr>\n",
       "      <th>6</th>\n",
       "      <td>PSV</td>\n",
       "      <td>21.04</td>\n",
       "    </tr>\n",
       "    <tr>\n",
       "      <th>4</th>\n",
       "      <td>PS4</td>\n",
       "      <td>15.96</td>\n",
       "    </tr>\n",
       "    <tr>\n",
       "      <th>8</th>\n",
       "      <td>WiiU</td>\n",
       "      <td>13.01</td>\n",
       "    </tr>\n",
       "  </tbody>\n",
       "</table>\n",
       "</div>"
      ],
      "text/plain": [
       "  platform  jp_sales\n",
       "0      3DS     87.79\n",
       "3      PS3     35.29\n",
       "6      PSV     21.04\n",
       "4      PS4     15.96\n",
       "8     WiiU     13.01"
      ]
     },
     "execution_count": 55,
     "metadata": {},
     "output_type": "execute_result"
    }
   ],
   "source": [
    "# Топ-5 популярных в Японии:\n",
    "jp_platform = actual_data.groupby('platform', as_index=False).agg({'jp_sales': 'sum'}).sort_values(by ='jp_sales', ascending=False).head()\n",
    "jp_platform"
   ]
  },
  {
   "cell_type": "markdown",
   "metadata": {},
   "source": [
    "А вот с Японием дела обстоят иначе. У них популярна в основном 3DS."
   ]
  },
  {
   "cell_type": "code",
   "execution_count": 56,
   "metadata": {},
   "outputs": [
    {
     "data": {
      "text/html": [
       "<div>\n",
       "<style scoped>\n",
       "    .dataframe tbody tr th:only-of-type {\n",
       "        vertical-align: middle;\n",
       "    }\n",
       "\n",
       "    .dataframe tbody tr th {\n",
       "        vertical-align: top;\n",
       "    }\n",
       "\n",
       "    .dataframe thead th {\n",
       "        text-align: right;\n",
       "    }\n",
       "</style>\n",
       "<table border=\"1\" class=\"dataframe\">\n",
       "  <thead>\n",
       "    <tr style=\"text-align: right;\">\n",
       "      <th></th>\n",
       "      <th>genre</th>\n",
       "      <th>jp_sales</th>\n",
       "    </tr>\n",
       "  </thead>\n",
       "  <tbody>\n",
       "    <tr>\n",
       "      <th>7</th>\n",
       "      <td>Role-Playing</td>\n",
       "      <td>65.44</td>\n",
       "    </tr>\n",
       "    <tr>\n",
       "      <th>0</th>\n",
       "      <td>Action</td>\n",
       "      <td>52.80</td>\n",
       "    </tr>\n",
       "    <tr>\n",
       "      <th>3</th>\n",
       "      <td>Misc</td>\n",
       "      <td>12.86</td>\n",
       "    </tr>\n",
       "    <tr>\n",
       "      <th>9</th>\n",
       "      <td>Simulation</td>\n",
       "      <td>10.41</td>\n",
       "    </tr>\n",
       "    <tr>\n",
       "      <th>2</th>\n",
       "      <td>Fighting</td>\n",
       "      <td>9.44</td>\n",
       "    </tr>\n",
       "  </tbody>\n",
       "</table>\n",
       "</div>"
      ],
      "text/plain": [
       "          genre  jp_sales\n",
       "7  Role-Playing     65.44\n",
       "0        Action     52.80\n",
       "3          Misc     12.86\n",
       "9    Simulation     10.41\n",
       "2      Fighting      9.44"
      ]
     },
     "execution_count": 56,
     "metadata": {},
     "output_type": "execute_result"
    }
   ],
   "source": [
    "# Топ-5 самых популярных жанров:\n",
    "jp_genre = actual_data.groupby('genre', as_index=False).agg({'jp_sales': 'sum'}).sort_values(by ='jp_sales', ascending=False).head()\n",
    "jp_genre"
   ]
  },
  {
   "cell_type": "markdown",
   "metadata": {},
   "source": [
    "И жанры там распределены по-другому. Лидирующее место занимают игры в жанре role-Playing, после него идут action и misc."
   ]
  },
  {
   "cell_type": "code",
   "execution_count": 57,
   "metadata": {},
   "outputs": [
    {
     "data": {
      "text/html": [
       "<div>\n",
       "<style scoped>\n",
       "    .dataframe tbody tr th:only-of-type {\n",
       "        vertical-align: middle;\n",
       "    }\n",
       "\n",
       "    .dataframe tbody tr th {\n",
       "        vertical-align: top;\n",
       "    }\n",
       "\n",
       "    .dataframe thead th {\n",
       "        text-align: right;\n",
       "    }\n",
       "</style>\n",
       "<table border=\"1\" class=\"dataframe\">\n",
       "  <thead>\n",
       "    <tr style=\"text-align: right;\">\n",
       "      <th></th>\n",
       "      <th>rating</th>\n",
       "      <th>jp_sales</th>\n",
       "    </tr>\n",
       "  </thead>\n",
       "  <tbody>\n",
       "    <tr>\n",
       "      <th>4</th>\n",
       "      <td>undefined</td>\n",
       "      <td>108.84</td>\n",
       "    </tr>\n",
       "    <tr>\n",
       "      <th>0</th>\n",
       "      <td>E</td>\n",
       "      <td>28.33</td>\n",
       "    </tr>\n",
       "    <tr>\n",
       "      <th>3</th>\n",
       "      <td>T</td>\n",
       "      <td>26.02</td>\n",
       "    </tr>\n",
       "    <tr>\n",
       "      <th>2</th>\n",
       "      <td>M</td>\n",
       "      <td>21.20</td>\n",
       "    </tr>\n",
       "    <tr>\n",
       "      <th>1</th>\n",
       "      <td>E10+</td>\n",
       "      <td>8.19</td>\n",
       "    </tr>\n",
       "  </tbody>\n",
       "</table>\n",
       "</div>"
      ],
      "text/plain": [
       "      rating  jp_sales\n",
       "4  undefined    108.84\n",
       "0          E     28.33\n",
       "3          T     26.02\n",
       "2          M     21.20\n",
       "1       E10+      8.19"
      ]
     },
     "execution_count": 57,
     "metadata": {},
     "output_type": "execute_result"
    }
   ],
   "source": [
    "# Влияет ли рейтинг ESRB на продажи:\n",
    "jp_esbr = actual_data.groupby('rating', as_index=False).agg({'jp_sales': 'sum'}).sort_values(by ='jp_sales', ascending=False).head()\n",
    "jp_esbr"
   ]
  },
  {
   "cell_type": "markdown",
   "metadata": {},
   "source": [
    "Лидирующее место занимают игры с неопределенным рейтингом, за ними следуют игры с рейтингом \"для всех\", а вот \"М\", лидирующий в Америке и Европе стоит чуть ли не на последнем месте."
   ]
  },
  {
   "cell_type": "code",
   "execution_count": 58,
   "metadata": {},
   "outputs": [
    {
     "data": {
      "image/png": "[encoded data removed]",
      "text/plain": [
       "<Figure size 864x504 with 3 Axes>"
      ]
     },
     "metadata": {},
     "output_type": "display_data"
    }
   ],
   "source": [
    "plt.subplots(figsize=(12, 7))\n",
    "plt.subplot(221)\n",
    "sns.barplot(data=jp_platform, x='platform', y='jp_sales')\n",
    "plt.subplot(222)\n",
    "sns.barplot(data=jp_genre, x='genre', y='jp_sales')\n",
    "plt.subplot(223)\n",
    "sns.barplot(data=jp_esbr, x='rating', y='jp_sales')\n",
    "None"
   ]
  },
  {
   "cell_type": "markdown",
   "metadata": {},
   "source": [
    "### Портрет пользователя"
   ]
  },
  {
   "cell_type": "markdown",
   "metadata": {},
   "source": [
    "На основе полученных данных, можно выявить следующие закономерности:\n",
    "\n",
    "Рейтинг по платформам:\n",
    "* в Северной Америке - Xbox One\n",
    "* в Европе - PS4\n",
    "* в Японии - 3DS\n",
    "\n",
    "Рейтинг по жанрам:\n",
    "* в Северной Америке - Action\n",
    "* в Европе - Action\n",
    "* в Японии - Role-Playing\n",
    "\n",
    "Рейтинг от организации ESRB:\n",
    "* в Северной Америке - M\n",
    "* в Европе - M\n",
    "* в Японии - рейтинг неопределён, E"
   ]
  },
  {
   "cell_type": "markdown",
   "metadata": {},
   "source": [
    "## Проверка гипотез"
   ]
  },
  {
   "cell_type": "markdown",
   "metadata": {},
   "source": [
    "Нам предстоит проверить следующие гипотезы:\n",
    "* Средние пользовательские рейтинги платформ Xbox One и PC одинаковые;\n",
    "* Средние пользовательские рейтинги жанров Action (англ. «действие», экшен-игры) и Sports (англ. «спортивные соревнования») разные."
   ]
  },
  {
   "cell_type": "markdown",
   "metadata": {},
   "source": [
    "### Гипотеза: средние пользовательские рейтинги платформ Xbox One и PC одинаковые."
   ]
  },
  {
   "cell_type": "markdown",
   "metadata": {},
   "source": [
    "H0: средние пользовательские рейтинги по платформам одинаковые\n",
    "\n",
    "H1: средние пользовательские рейтинги по платформам разные"
   ]
  },
  {
   "cell_type": "code",
   "execution_count": 59,
   "metadata": {},
   "outputs": [
    {
     "name": "stdout",
     "output_type": "stream",
     "text": [
      "p-значение: 0.24400999542744453\n",
      "Не получилось отвергнуть нулевую гипотезу\n"
     ]
    }
   ],
   "source": [
    "# Создаем две новые переменные с выборками под нужные нам платформы:\n",
    "xone = data[(data['platform']=='XOne') & (data['year_of_release']>2012)]['user_score']\n",
    "pc = data[(data['platform']=='PC') & (data['year_of_release']>2012)]['user_score']\n",
    "\n",
    "alpha = .01 # Критический уровень статистической значимости\n",
    "\n",
    "results = st.ttest_ind(xone.dropna(), pc.dropna(), equal_var=False)\n",
    "\n",
    "print('p-значение:', results.pvalue)\n",
    "\n",
    "if (results.pvalue < alpha):\n",
    "    print(\"Отвергаем нулевую гипотезу\")\n",
    "else:\n",
    "    print(\"Не получилось отвергнуть нулевую гипотезу\")"
   ]
  },
  {
   "cell_type": "markdown",
   "metadata": {},
   "source": [
    "Значение p-value примерно равно `2%`, благодаря чему мы не можем отвергнуть нулевую гипотезу.\n",
    "\n",
    "То есть, с вероятностью в `2%` можно получить различность рейтингов двух платформ"
   ]
  },
  {
   "cell_type": "markdown",
   "metadata": {},
   "source": [
    "### Средние пользовательские рейтинги жанров Action и Sports разные"
   ]
  },
  {
   "cell_type": "code",
   "execution_count": 60,
   "metadata": {},
   "outputs": [
    {
     "name": "stdout",
     "output_type": "stream",
     "text": [
      "p-значение: 0.051807560603891564\n",
      "Не получилось отвергнуть нулевую гипотезу\n"
     ]
    }
   ],
   "source": [
    "# Создаем две новые переменные с выборками под нужные нам жанры:\n",
    "action = data[(data['genre']=='Action') & (data['year_of_release']>2012)]['user_score']\n",
    "sports = data[(data['genre']=='Sports') & (data['year_of_release']>2012)]['user_score']\n",
    "\n",
    "alpha = .01 # Критический уровень статистической значимости\n",
    "\n",
    "results = st.ttest_ind(action.dropna(), sports.dropna(), equal_var=False)\n",
    "\n",
    "print('p-значение:', results.pvalue)\n",
    "\n",
    "if (results.pvalue < alpha):\n",
    "    print(\"Отвергаем нулевую гипотезу\")\n",
    "else:\n",
    "    print(\"Не получилось отвергнуть нулевую гипотезу\")\n"
   ]
  },
  {
   "cell_type": "code",
   "execution_count": 61,
   "metadata": {},
   "outputs": [
    {
     "name": "stdout",
     "output_type": "stream",
     "text": [
      "p-значение: 0.014166975726904863\n",
      "Не получилось отвергнуть нулевую гипотезу\n"
     ]
    }
   ],
   "source": [
    "\n",
    "    \n",
    "# Создаем две новые переменные с выборками под нужные нам жанры:\n",
    "action =  actual_data[( actual_data['genre']=='Action')]['user_score']\n",
    "sports =  actual_data[( actual_data['genre']=='Sports')]['user_score']\n",
    "\n",
    "alpha = .01 # Критический уровень статистической значимости\n",
    "\n",
    "results = st.ttest_ind(action.dropna(), sports.dropna(), equal_var=False)\n",
    "\n",
    "print('p-значение:', results.pvalue)\n",
    "\n",
    "if (results.pvalue < alpha):\n",
    "    print(\"Отвергаем нулевую гипотезу\")\n",
    "else:\n",
    "    print(\"Не получилось отвергнуть нулевую гипотезу\")\n"
   ]
  },
  {
   "cell_type": "markdown",
   "metadata": {},
   "source": [
    "На основании pvalue вероятность получить одинакове средние рейнтинги по двум жанрам равняется `5%`\n",
    "Отвергнуть нулевую гипотезу не получилось"
   ]
  },
  {
   "cell_type": "markdown",
   "metadata": {},
   "source": [
    "## Общий вывод"
   ]
  },
  {
   "cell_type": "markdown",
   "metadata": {},
   "source": [
    "Мы выполнили предобработку данных и выявили определяющие успешность игры закономерности, что должно позволить сделать ставку на потенциально популярный продукт и спланировать рекламные кампании на 2017 год.\n",
    "\n",
    "На основании выполненного проекта было выяснено:\n",
    "\n",
    "Выпуск игр по годам:\n",
    "* Всего было выпущено `16715` игр\n",
    "* Наибольшее кол-во игр было выпущено в 2008-2009 гг.\n",
    "* Начиная с 2012 был спад\n",
    "\n",
    "Продажи по платформам:\n",
    "* Больше всего продаж было на PS2, X360, PS3, Wii и DS, среди которых PS2 лидирует\n",
    "* Среднее время жизни платформы - `10 лет`\n",
    "\n",
    "К началу `2016` года наиболее прибыльными себя показывают PS4, PS3, X360, 3DS, XOne.\n",
    "\n",
    "Оценки критиков слабо влияют на продажи, а пользовательские оценки практически никак на них не сказываются.\n",
    "\n",
    "Топ самых популярных жанров:\n",
    "* Shooter\n",
    "* Sports\n",
    "* Platform\n",
    "* Role-playing"
   ]
  },
  {
   "cell_type": "markdown",
   "metadata": {},
   "source": [
    "Портрет пользователя из Северной Америки:\n",
    "* Имеет `Xbox`\n",
    "* Любит играть в `Action` игры\n",
    "* В основном предпочитает игры с ESRB рейтингом `\"M\"`\n",
    "\n",
    "Портрет пользователя из Европы:\n",
    "* Имеет `PS4`\n",
    "* Любит играть в `Action` игры\n",
    "* В основном предпочитает игры с ESRB рейтингом `\"M\"`\n",
    "\n",
    "Портрет пользователя из Японии:\n",
    "* Имеет `3DS`\n",
    "* Любит играть в игры с жанром `\"Role-playing\"`\n",
    "* Предпочитает игры с неопределенным рейтингом, либо рейтингом `\"Е\"`"
   ]
  },
  {
   "cell_type": "markdown",
   "metadata": {},
   "source": [
    "Исходя из всех полученных данных предположим, что лучше всего продавать игры для приставок PS4 и XOne с жанром \"shooter\", либо \"action\" и возрастным ограничением 17+\n",
    "\n",
    "Тогда можно ожидать значительно больших продаж."
   ]
  }
 ],
 "metadata": {
  "ExecuteTimeLog": [
   {
    "duration": 13,
    "start_time": "2022-08-06T21:03:42.934Z"
   },
   {
    "duration": 461,
    "start_time": "2022-08-06T21:09:29.584Z"
   },
   {
    "duration": 174,
    "start_time": "2022-08-06T21:10:12.610Z"
   },
   {
    "duration": 87,
    "start_time": "2022-08-06T21:10:33.771Z"
   },
   {
    "duration": 134,
    "start_time": "2022-08-06T21:10:38.763Z"
   },
   {
    "duration": 64,
    "start_time": "2022-08-06T21:10:45.719Z"
   },
   {
    "duration": 3,
    "start_time": "2022-08-06T21:12:21.553Z"
   },
   {
    "duration": 17,
    "start_time": "2022-08-06T21:12:35.944Z"
   },
   {
    "duration": 1237,
    "start_time": "2022-08-06T21:13:23.293Z"
   },
   {
    "duration": 7,
    "start_time": "2022-08-06T21:13:31.131Z"
   },
   {
    "duration": 9,
    "start_time": "2022-08-06T21:14:21.623Z"
   },
   {
    "duration": 6,
    "start_time": "2022-08-06T21:15:09.125Z"
   },
   {
    "duration": 14,
    "start_time": "2022-08-06T21:23:41.170Z"
   },
   {
    "duration": 19,
    "start_time": "2022-08-06T21:23:44.888Z"
   },
   {
    "duration": 1396,
    "start_time": "2022-08-06T21:24:56.370Z"
   },
   {
    "duration": 20,
    "start_time": "2022-08-06T21:26:43.610Z"
   },
   {
    "duration": 17,
    "start_time": "2022-08-06T21:26:59.434Z"
   },
   {
    "duration": 15,
    "start_time": "2022-08-06T21:27:21.441Z"
   },
   {
    "duration": 3,
    "start_time": "2022-08-06T21:27:28.640Z"
   },
   {
    "duration": 17,
    "start_time": "2022-08-06T21:29:58.767Z"
   },
   {
    "duration": 6,
    "start_time": "2022-08-06T21:32:07.304Z"
   },
   {
    "duration": 3,
    "start_time": "2022-08-06T21:37:22.343Z"
   },
   {
    "duration": 12,
    "start_time": "2022-08-06T21:52:42.420Z"
   },
   {
    "duration": 5,
    "start_time": "2022-08-06T21:55:56.565Z"
   },
   {
    "duration": 71,
    "start_time": "2022-08-06T21:56:07.258Z"
   },
   {
    "duration": 8,
    "start_time": "2022-08-06T21:56:11.529Z"
   },
   {
    "duration": 6,
    "start_time": "2022-08-06T21:57:06.527Z"
   },
   {
    "duration": 10,
    "start_time": "2022-08-06T21:57:21.953Z"
   },
   {
    "duration": 11,
    "start_time": "2022-08-06T21:57:49.798Z"
   },
   {
    "duration": 10,
    "start_time": "2022-08-06T21:57:58.122Z"
   },
   {
    "duration": 9,
    "start_time": "2022-08-06T21:58:01.562Z"
   },
   {
    "duration": 10,
    "start_time": "2022-08-06T21:58:05.422Z"
   },
   {
    "duration": 14,
    "start_time": "2022-08-06T21:58:08.886Z"
   },
   {
    "duration": 15,
    "start_time": "2022-08-06T21:58:13.886Z"
   },
   {
    "duration": 12,
    "start_time": "2022-08-06T21:58:18.966Z"
   },
   {
    "duration": 73,
    "start_time": "2022-08-06T21:58:25.370Z"
   },
   {
    "duration": 8,
    "start_time": "2022-08-06T22:01:31.451Z"
   },
   {
    "duration": 453,
    "start_time": "2022-08-06T22:01:39.789Z"
   },
   {
    "duration": 83,
    "start_time": "2022-08-06T22:01:40.244Z"
   },
   {
    "duration": 21,
    "start_time": "2022-08-06T22:01:40.329Z"
   },
   {
    "duration": 1086,
    "start_time": "2022-08-06T22:01:40.352Z"
   },
   {
    "duration": 4,
    "start_time": "2022-08-06T22:01:41.440Z"
   },
   {
    "duration": 14,
    "start_time": "2022-08-06T22:01:41.445Z"
   },
   {
    "duration": 9,
    "start_time": "2022-08-06T22:01:41.460Z"
   },
   {
    "duration": 27,
    "start_time": "2022-08-06T22:01:41.471Z"
   },
   {
    "duration": 93,
    "start_time": "2022-08-06T22:01:41.500Z"
   },
   {
    "duration": 9,
    "start_time": "2022-08-06T22:02:26.818Z"
   },
   {
    "duration": 7,
    "start_time": "2022-08-06T22:04:05.813Z"
   },
   {
    "duration": 1161,
    "start_time": "2022-08-06T22:09:08.519Z"
   },
   {
    "duration": 1475,
    "start_time": "2022-08-06T22:09:32.600Z"
   },
   {
    "duration": 12,
    "start_time": "2022-08-06T22:09:41.324Z"
   },
   {
    "duration": 1288,
    "start_time": "2022-08-06T22:10:05.257Z"
   },
   {
    "duration": 16,
    "start_time": "2022-08-06T22:13:54.302Z"
   },
   {
    "duration": 10,
    "start_time": "2022-08-06T22:15:52.635Z"
   },
   {
    "duration": 4,
    "start_time": "2022-08-06T22:17:38.110Z"
   },
   {
    "duration": 15,
    "start_time": "2022-08-06T22:19:18.919Z"
   },
   {
    "duration": 16,
    "start_time": "2022-08-06T22:23:16.466Z"
   },
   {
    "duration": 5,
    "start_time": "2022-08-06T22:23:27.896Z"
   },
   {
    "duration": 6,
    "start_time": "2022-08-06T22:26:23.517Z"
   },
   {
    "duration": 6,
    "start_time": "2022-08-06T22:26:28.798Z"
   },
   {
    "duration": 16,
    "start_time": "2022-08-06T22:27:17.970Z"
   },
   {
    "duration": 5,
    "start_time": "2022-08-06T22:29:25.727Z"
   },
   {
    "duration": 7,
    "start_time": "2022-08-06T22:29:29.722Z"
   },
   {
    "duration": 11,
    "start_time": "2022-08-06T22:29:45.870Z"
   },
   {
    "duration": 9,
    "start_time": "2022-08-06T22:29:49.920Z"
   },
   {
    "duration": 6,
    "start_time": "2022-08-06T22:29:55.062Z"
   },
   {
    "duration": 12,
    "start_time": "2022-08-06T22:30:28.205Z"
   },
   {
    "duration": 8,
    "start_time": "2022-08-06T22:31:45.613Z"
   },
   {
    "duration": 5,
    "start_time": "2022-08-06T22:32:04.485Z"
   },
   {
    "duration": 18,
    "start_time": "2022-08-06T22:32:10.590Z"
   },
   {
    "duration": 11,
    "start_time": "2022-08-06T22:33:51.772Z"
   },
   {
    "duration": 9,
    "start_time": "2022-08-06T22:40:47.313Z"
   },
   {
    "duration": 8,
    "start_time": "2022-08-06T22:40:51.177Z"
   },
   {
    "duration": 384,
    "start_time": "2022-08-06T22:41:03.450Z"
   },
   {
    "duration": 73,
    "start_time": "2022-08-06T22:41:03.836Z"
   },
   {
    "duration": 17,
    "start_time": "2022-08-06T22:41:03.910Z"
   },
   {
    "duration": 1035,
    "start_time": "2022-08-06T22:41:03.929Z"
   },
   {
    "duration": 3,
    "start_time": "2022-08-06T22:41:04.966Z"
   },
   {
    "duration": 23,
    "start_time": "2022-08-06T22:41:04.971Z"
   },
   {
    "duration": 7,
    "start_time": "2022-08-06T22:41:04.996Z"
   },
   {
    "duration": 9,
    "start_time": "2022-08-06T22:41:05.005Z"
   },
   {
    "duration": 16,
    "start_time": "2022-08-06T22:41:05.015Z"
   },
   {
    "duration": 8,
    "start_time": "2022-08-06T22:41:05.034Z"
   },
   {
    "duration": 10,
    "start_time": "2022-08-06T22:41:05.043Z"
   },
   {
    "duration": 40,
    "start_time": "2022-08-06T22:41:05.054Z"
   },
   {
    "duration": 8,
    "start_time": "2022-08-06T22:41:05.095Z"
   },
   {
    "duration": 8,
    "start_time": "2022-08-06T22:41:05.105Z"
   },
   {
    "duration": 18,
    "start_time": "2022-08-06T22:41:05.115Z"
   },
   {
    "duration": 17,
    "start_time": "2022-08-06T22:41:05.134Z"
   },
   {
    "duration": 41,
    "start_time": "2022-08-06T22:41:05.153Z"
   },
   {
    "duration": 9,
    "start_time": "2022-08-06T22:41:05.196Z"
   },
   {
    "duration": 17,
    "start_time": "2022-08-06T22:41:24.737Z"
   },
   {
    "duration": 101,
    "start_time": "2022-08-06T22:52:46.783Z"
   },
   {
    "duration": 26,
    "start_time": "2022-08-06T22:53:00.631Z"
   },
   {
    "duration": 28,
    "start_time": "2022-08-06T22:53:14.705Z"
   },
   {
    "duration": 26,
    "start_time": "2022-08-06T22:53:52.467Z"
   },
   {
    "duration": 119,
    "start_time": "2022-08-07T08:23:51.179Z"
   },
   {
    "duration": 70,
    "start_time": "2022-08-07T08:24:04.453Z"
   },
   {
    "duration": 39,
    "start_time": "2022-08-07T08:24:14.993Z"
   },
   {
    "duration": 384,
    "start_time": "2022-08-07T08:24:23.831Z"
   },
   {
    "duration": 62,
    "start_time": "2022-08-07T08:24:24.217Z"
   },
   {
    "duration": 13,
    "start_time": "2022-08-07T08:24:24.281Z"
   },
   {
    "duration": 847,
    "start_time": "2022-08-07T08:24:24.295Z"
   },
   {
    "duration": 3,
    "start_time": "2022-08-07T08:24:25.144Z"
   },
   {
    "duration": 19,
    "start_time": "2022-08-07T08:24:25.148Z"
   },
   {
    "duration": 6,
    "start_time": "2022-08-07T08:24:25.168Z"
   },
   {
    "duration": 7,
    "start_time": "2022-08-07T08:24:25.175Z"
   },
   {
    "duration": 12,
    "start_time": "2022-08-07T08:24:25.183Z"
   },
   {
    "duration": 6,
    "start_time": "2022-08-07T08:24:25.197Z"
   },
   {
    "duration": 7,
    "start_time": "2022-08-07T08:24:25.204Z"
   },
   {
    "duration": 4,
    "start_time": "2022-08-07T08:24:25.212Z"
   },
   {
    "duration": 5,
    "start_time": "2022-08-07T08:24:25.217Z"
   },
   {
    "duration": 10,
    "start_time": "2022-08-07T08:24:25.255Z"
   },
   {
    "duration": 13,
    "start_time": "2022-08-07T08:24:25.266Z"
   },
   {
    "duration": 14,
    "start_time": "2022-08-07T08:24:25.280Z"
   },
   {
    "duration": 5,
    "start_time": "2022-08-07T08:24:25.295Z"
   },
   {
    "duration": 9,
    "start_time": "2022-08-07T08:24:25.301Z"
   },
   {
    "duration": 19,
    "start_time": "2022-08-07T08:24:25.311Z"
   },
   {
    "duration": 18,
    "start_time": "2022-08-07T08:24:25.355Z"
   },
   {
    "duration": 16,
    "start_time": "2022-08-07T08:24:47.206Z"
   },
   {
    "duration": 11,
    "start_time": "2022-08-07T08:25:13.435Z"
   },
   {
    "duration": 10,
    "start_time": "2022-08-07T08:25:19.947Z"
   },
   {
    "duration": 16,
    "start_time": "2022-08-07T08:25:31.599Z"
   },
   {
    "duration": 16,
    "start_time": "2022-08-07T08:25:47.126Z"
   },
   {
    "duration": 332,
    "start_time": "2022-08-07T08:26:04.596Z"
   },
   {
    "duration": 68,
    "start_time": "2022-08-07T08:26:04.930Z"
   },
   {
    "duration": 13,
    "start_time": "2022-08-07T08:26:05.000Z"
   },
   {
    "duration": 839,
    "start_time": "2022-08-07T08:26:05.014Z"
   },
   {
    "duration": 2,
    "start_time": "2022-08-07T08:26:05.856Z"
   },
   {
    "duration": 11,
    "start_time": "2022-08-07T08:26:05.860Z"
   },
   {
    "duration": 6,
    "start_time": "2022-08-07T08:26:05.872Z"
   },
   {
    "duration": 7,
    "start_time": "2022-08-07T08:26:05.879Z"
   },
   {
    "duration": 12,
    "start_time": "2022-08-07T08:26:05.887Z"
   },
   {
    "duration": 6,
    "start_time": "2022-08-07T08:26:05.900Z"
   },
   {
    "duration": 9,
    "start_time": "2022-08-07T08:26:05.907Z"
   },
   {
    "duration": 4,
    "start_time": "2022-08-07T08:26:05.917Z"
   },
   {
    "duration": 33,
    "start_time": "2022-08-07T08:26:05.922Z"
   },
   {
    "duration": 6,
    "start_time": "2022-08-07T08:26:05.957Z"
   },
   {
    "duration": 14,
    "start_time": "2022-08-07T08:26:05.964Z"
   },
   {
    "duration": 14,
    "start_time": "2022-08-07T08:26:05.979Z"
   },
   {
    "duration": 6,
    "start_time": "2022-08-07T08:26:05.994Z"
   },
   {
    "duration": 6,
    "start_time": "2022-08-07T08:26:06.001Z"
   },
   {
    "duration": 47,
    "start_time": "2022-08-07T08:26:06.008Z"
   },
   {
    "duration": 15,
    "start_time": "2022-08-07T08:26:06.057Z"
   },
   {
    "duration": 62,
    "start_time": "2022-08-07T08:28:31.641Z"
   },
   {
    "duration": 3,
    "start_time": "2022-08-07T08:29:02.183Z"
   },
   {
    "duration": 88,
    "start_time": "2022-08-07T08:29:10.069Z"
   },
   {
    "duration": 640,
    "start_time": "2022-08-07T08:30:01.760Z"
   },
   {
    "duration": 61,
    "start_time": "2022-08-07T08:30:02.401Z"
   },
   {
    "duration": 11,
    "start_time": "2022-08-07T08:30:02.464Z"
   },
   {
    "duration": 673,
    "start_time": "2022-08-07T08:30:02.477Z"
   },
   {
    "duration": 4,
    "start_time": "2022-08-07T08:30:03.151Z"
   },
   {
    "duration": 33,
    "start_time": "2022-08-07T08:30:03.157Z"
   },
   {
    "duration": 13,
    "start_time": "2022-08-07T08:30:03.192Z"
   },
   {
    "duration": 14,
    "start_time": "2022-08-07T08:30:03.206Z"
   },
   {
    "duration": 25,
    "start_time": "2022-08-07T08:30:03.222Z"
   },
   {
    "duration": 25,
    "start_time": "2022-08-07T08:30:03.249Z"
   },
   {
    "duration": 28,
    "start_time": "2022-08-07T08:30:03.275Z"
   },
   {
    "duration": 13,
    "start_time": "2022-08-07T08:30:03.305Z"
   },
   {
    "duration": 14,
    "start_time": "2022-08-07T08:30:03.319Z"
   },
   {
    "duration": 31,
    "start_time": "2022-08-07T08:30:03.334Z"
   },
   {
    "duration": 23,
    "start_time": "2022-08-07T08:30:03.367Z"
   },
   {
    "duration": 16,
    "start_time": "2022-08-07T08:30:03.391Z"
   },
   {
    "duration": 6,
    "start_time": "2022-08-07T08:30:03.409Z"
   },
   {
    "duration": 32,
    "start_time": "2022-08-07T08:30:03.416Z"
   },
   {
    "duration": 30,
    "start_time": "2022-08-07T08:30:03.449Z"
   },
   {
    "duration": 192,
    "start_time": "2022-08-07T08:30:03.480Z"
   },
   {
    "duration": 17,
    "start_time": "2022-08-07T08:30:03.673Z"
   },
   {
    "duration": 19640,
    "start_time": "2022-08-07T08:31:09.162Z"
   },
   {
    "duration": 106,
    "start_time": "2022-08-07T08:32:30.851Z"
   },
   {
    "duration": 17,
    "start_time": "2022-08-07T08:32:50.142Z"
   },
   {
    "duration": 89,
    "start_time": "2022-08-07T08:32:51.744Z"
   },
   {
    "duration": 612,
    "start_time": "2022-08-07T08:33:00.368Z"
   },
   {
    "duration": 81,
    "start_time": "2022-08-07T08:33:00.982Z"
   },
   {
    "duration": 13,
    "start_time": "2022-08-07T08:33:01.064Z"
   },
   {
    "duration": 659,
    "start_time": "2022-08-07T08:33:01.078Z"
   },
   {
    "duration": 3,
    "start_time": "2022-08-07T08:33:01.739Z"
   },
   {
    "duration": 33,
    "start_time": "2022-08-07T08:33:01.743Z"
   },
   {
    "duration": 27,
    "start_time": "2022-08-07T08:33:01.778Z"
   },
   {
    "duration": 11,
    "start_time": "2022-08-07T08:33:01.806Z"
   },
   {
    "duration": 13,
    "start_time": "2022-08-07T08:33:01.818Z"
   },
   {
    "duration": 8,
    "start_time": "2022-08-07T08:33:01.832Z"
   },
   {
    "duration": 15,
    "start_time": "2022-08-07T08:33:01.841Z"
   },
   {
    "duration": 4,
    "start_time": "2022-08-07T08:33:01.857Z"
   },
   {
    "duration": 16,
    "start_time": "2022-08-07T08:33:01.862Z"
   },
   {
    "duration": 17,
    "start_time": "2022-08-07T08:33:01.880Z"
   },
   {
    "duration": 16,
    "start_time": "2022-08-07T08:33:01.898Z"
   },
   {
    "duration": 27,
    "start_time": "2022-08-07T08:33:01.916Z"
   },
   {
    "duration": 11,
    "start_time": "2022-08-07T08:33:01.944Z"
   },
   {
    "duration": 19,
    "start_time": "2022-08-07T08:33:01.956Z"
   },
   {
    "duration": 30,
    "start_time": "2022-08-07T08:33:01.977Z"
   },
   {
    "duration": 198,
    "start_time": "2022-08-07T08:33:02.009Z"
   },
   {
    "duration": 18,
    "start_time": "2022-08-07T08:33:02.208Z"
   },
   {
    "duration": 231,
    "start_time": "2022-08-07T08:33:44.495Z"
   },
   {
    "duration": 162,
    "start_time": "2022-08-07T08:35:17.696Z"
   },
   {
    "duration": 176,
    "start_time": "2022-08-07T08:35:24.042Z"
   },
   {
    "duration": 11,
    "start_time": "2022-08-07T08:36:26.868Z"
   },
   {
    "duration": 2,
    "start_time": "2022-08-07T08:36:49.531Z"
   },
   {
    "duration": 10,
    "start_time": "2022-08-07T08:36:50.104Z"
   },
   {
    "duration": 179,
    "start_time": "2022-08-07T08:36:59.413Z"
   },
   {
    "duration": 1617,
    "start_time": "2022-08-07T08:45:13.738Z"
   },
   {
    "duration": 915,
    "start_time": "2022-08-07T08:46:01.842Z"
   },
   {
    "duration": 1213,
    "start_time": "2022-08-07T08:49:53.749Z"
   },
   {
    "duration": 531,
    "start_time": "2022-08-07T08:50:15.212Z"
   },
   {
    "duration": 62,
    "start_time": "2022-08-07T08:50:15.745Z"
   },
   {
    "duration": 12,
    "start_time": "2022-08-07T08:50:15.809Z"
   },
   {
    "duration": 700,
    "start_time": "2022-08-07T08:50:15.822Z"
   },
   {
    "duration": 3,
    "start_time": "2022-08-07T08:50:16.524Z"
   },
   {
    "duration": 13,
    "start_time": "2022-08-07T08:50:16.529Z"
   },
   {
    "duration": 15,
    "start_time": "2022-08-07T08:50:16.543Z"
   },
   {
    "duration": 7,
    "start_time": "2022-08-07T08:50:16.559Z"
   },
   {
    "duration": 13,
    "start_time": "2022-08-07T08:50:16.568Z"
   },
   {
    "duration": 5,
    "start_time": "2022-08-07T08:50:16.583Z"
   },
   {
    "duration": 9,
    "start_time": "2022-08-07T08:50:16.589Z"
   },
   {
    "duration": 4,
    "start_time": "2022-08-07T08:50:16.600Z"
   },
   {
    "duration": 6,
    "start_time": "2022-08-07T08:50:16.606Z"
   },
   {
    "duration": 9,
    "start_time": "2022-08-07T08:50:16.613Z"
   },
   {
    "duration": 11,
    "start_time": "2022-08-07T08:50:16.655Z"
   },
   {
    "duration": 17,
    "start_time": "2022-08-07T08:50:16.668Z"
   },
   {
    "duration": 6,
    "start_time": "2022-08-07T08:50:16.686Z"
   },
   {
    "duration": 12,
    "start_time": "2022-08-07T08:50:16.694Z"
   },
   {
    "duration": 10,
    "start_time": "2022-08-07T08:50:16.707Z"
   },
   {
    "duration": 222,
    "start_time": "2022-08-07T08:50:16.718Z"
   },
   {
    "duration": 24,
    "start_time": "2022-08-07T08:50:16.941Z"
   },
   {
    "duration": 1281,
    "start_time": "2022-08-07T08:50:16.966Z"
   },
   {
    "duration": 1664,
    "start_time": "2022-08-07T08:50:27.497Z"
   },
   {
    "duration": 12,
    "start_time": "2022-08-07T08:51:06.832Z"
   },
   {
    "duration": 1192,
    "start_time": "2022-08-07T08:53:28.765Z"
   },
   {
    "duration": 1089,
    "start_time": "2022-08-07T08:54:41.341Z"
   },
   {
    "duration": 1307,
    "start_time": "2022-08-07T08:54:49.813Z"
   },
   {
    "duration": 1592,
    "start_time": "2022-08-07T08:56:31.339Z"
   },
   {
    "duration": 13,
    "start_time": "2022-08-07T08:56:55.035Z"
   },
   {
    "duration": 1214,
    "start_time": "2022-08-07T08:58:03.962Z"
   },
   {
    "duration": 7,
    "start_time": "2022-08-07T08:58:26.859Z"
   },
   {
    "duration": 1125,
    "start_time": "2022-08-07T08:58:33.701Z"
   },
   {
    "duration": 8,
    "start_time": "2022-08-07T08:58:35.679Z"
   },
   {
    "duration": 1209,
    "start_time": "2022-08-07T08:58:41.256Z"
   },
   {
    "duration": 7,
    "start_time": "2022-08-07T08:58:42.757Z"
   },
   {
    "duration": 0,
    "start_time": "2022-08-07T08:58:42.765Z"
   },
   {
    "duration": 1103,
    "start_time": "2022-08-07T08:58:46.432Z"
   },
   {
    "duration": 71,
    "start_time": "2022-08-07T08:59:10.033Z"
   },
   {
    "duration": 6,
    "start_time": "2022-08-07T08:59:12.893Z"
   },
   {
    "duration": 6,
    "start_time": "2022-08-07T08:59:18.045Z"
   },
   {
    "duration": 3,
    "start_time": "2022-08-07T08:59:22.188Z"
   },
   {
    "duration": 5,
    "start_time": "2022-08-07T08:59:24.382Z"
   },
   {
    "duration": 5,
    "start_time": "2022-08-07T08:59:24.388Z"
   },
   {
    "duration": 861,
    "start_time": "2022-08-07T09:00:11.621Z"
   },
   {
    "duration": 812,
    "start_time": "2022-08-07T09:00:50.610Z"
   },
   {
    "duration": 533,
    "start_time": "2022-08-07T09:01:02.800Z"
   },
   {
    "duration": 63,
    "start_time": "2022-08-07T09:01:03.335Z"
   },
   {
    "duration": 13,
    "start_time": "2022-08-07T09:01:03.400Z"
   },
   {
    "duration": 695,
    "start_time": "2022-08-07T09:01:03.415Z"
   },
   {
    "duration": 3,
    "start_time": "2022-08-07T09:01:04.113Z"
   },
   {
    "duration": 38,
    "start_time": "2022-08-07T09:01:04.117Z"
   },
   {
    "duration": 12,
    "start_time": "2022-08-07T09:01:04.157Z"
   },
   {
    "duration": 25,
    "start_time": "2022-08-07T09:01:04.171Z"
   },
   {
    "duration": 19,
    "start_time": "2022-08-07T09:01:04.197Z"
   },
   {
    "duration": 9,
    "start_time": "2022-08-07T09:01:04.217Z"
   },
   {
    "duration": 26,
    "start_time": "2022-08-07T09:01:04.227Z"
   },
   {
    "duration": 11,
    "start_time": "2022-08-07T09:01:04.254Z"
   },
   {
    "duration": 18,
    "start_time": "2022-08-07T09:01:04.266Z"
   },
   {
    "duration": 13,
    "start_time": "2022-08-07T09:01:04.287Z"
   },
   {
    "duration": 13,
    "start_time": "2022-08-07T09:01:04.302Z"
   },
   {
    "duration": 18,
    "start_time": "2022-08-07T09:01:04.316Z"
   },
   {
    "duration": 5,
    "start_time": "2022-08-07T09:01:04.336Z"
   },
   {
    "duration": 31,
    "start_time": "2022-08-07T09:01:04.343Z"
   },
   {
    "duration": 24,
    "start_time": "2022-08-07T09:01:04.376Z"
   },
   {
    "duration": 183,
    "start_time": "2022-08-07T09:01:04.402Z"
   },
   {
    "duration": 20,
    "start_time": "2022-08-07T09:01:04.586Z"
   },
   {
    "duration": 10,
    "start_time": "2022-08-07T09:01:04.608Z"
   },
   {
    "duration": 892,
    "start_time": "2022-08-07T09:01:04.619Z"
   },
   {
    "duration": 842,
    "start_time": "2022-08-07T09:01:48.682Z"
   },
   {
    "duration": 892,
    "start_time": "2022-08-07T09:02:10.612Z"
   },
   {
    "duration": 911,
    "start_time": "2022-08-07T09:04:08.132Z"
   },
   {
    "duration": 24,
    "start_time": "2022-08-07T12:24:56.325Z"
   },
   {
    "duration": 23,
    "start_time": "2022-08-07T12:26:53.551Z"
   },
   {
    "duration": 69,
    "start_time": "2022-08-07T12:28:19.002Z"
   },
   {
    "duration": 417,
    "start_time": "2022-08-07T12:28:49.807Z"
   },
   {
    "duration": 188,
    "start_time": "2022-08-07T12:28:57.050Z"
   },
   {
    "duration": 273,
    "start_time": "2022-08-07T12:30:07.143Z"
   },
   {
    "duration": 1032,
    "start_time": "2022-08-07T12:30:15.702Z"
   },
   {
    "duration": 79,
    "start_time": "2022-08-07T12:30:16.736Z"
   },
   {
    "duration": 15,
    "start_time": "2022-08-07T12:30:16.816Z"
   },
   {
    "duration": 727,
    "start_time": "2022-08-07T12:30:16.833Z"
   },
   {
    "duration": 3,
    "start_time": "2022-08-07T12:30:17.562Z"
   },
   {
    "duration": 10,
    "start_time": "2022-08-07T12:30:17.566Z"
   },
   {
    "duration": 6,
    "start_time": "2022-08-07T12:30:17.577Z"
   },
   {
    "duration": 6,
    "start_time": "2022-08-07T12:30:17.585Z"
   },
   {
    "duration": 13,
    "start_time": "2022-08-07T12:30:17.593Z"
   },
   {
    "duration": 6,
    "start_time": "2022-08-07T12:30:17.607Z"
   },
   {
    "duration": 9,
    "start_time": "2022-08-07T12:30:17.614Z"
   },
   {
    "duration": 31,
    "start_time": "2022-08-07T12:30:17.625Z"
   },
   {
    "duration": 7,
    "start_time": "2022-08-07T12:30:17.658Z"
   },
   {
    "duration": 7,
    "start_time": "2022-08-07T12:30:17.667Z"
   },
   {
    "duration": 12,
    "start_time": "2022-08-07T12:30:17.676Z"
   },
   {
    "duration": 14,
    "start_time": "2022-08-07T12:30:17.689Z"
   },
   {
    "duration": 5,
    "start_time": "2022-08-07T12:30:17.705Z"
   },
   {
    "duration": 7,
    "start_time": "2022-08-07T12:30:17.711Z"
   },
   {
    "duration": 43,
    "start_time": "2022-08-07T12:30:17.719Z"
   },
   {
    "duration": 194,
    "start_time": "2022-08-07T12:30:17.764Z"
   },
   {
    "duration": 17,
    "start_time": "2022-08-07T12:30:17.959Z"
   },
   {
    "duration": 943,
    "start_time": "2022-08-07T12:30:17.978Z"
   },
   {
    "duration": 22,
    "start_time": "2022-08-07T12:30:18.922Z"
   },
   {
    "duration": 187,
    "start_time": "2022-08-07T12:30:18.945Z"
   },
   {
    "duration": 185,
    "start_time": "2022-08-07T12:30:28.150Z"
   },
   {
    "duration": 248,
    "start_time": "2022-08-07T12:30:37.328Z"
   },
   {
    "duration": 89,
    "start_time": "2022-08-07T12:32:54.894Z"
   },
   {
    "duration": 5,
    "start_time": "2022-08-07T12:33:25.874Z"
   },
   {
    "duration": 27,
    "start_time": "2022-08-07T12:42:49.912Z"
   },
   {
    "duration": 178,
    "start_time": "2022-08-07T12:45:47.975Z"
   },
   {
    "duration": 1070,
    "start_time": "2022-08-07T12:46:08.532Z"
   },
   {
    "duration": 61,
    "start_time": "2022-08-07T12:46:09.604Z"
   },
   {
    "duration": 12,
    "start_time": "2022-08-07T12:46:09.667Z"
   },
   {
    "duration": 670,
    "start_time": "2022-08-07T12:46:09.681Z"
   },
   {
    "duration": 4,
    "start_time": "2022-08-07T12:46:10.353Z"
   },
   {
    "duration": 20,
    "start_time": "2022-08-07T12:46:10.358Z"
   },
   {
    "duration": 8,
    "start_time": "2022-08-07T12:46:10.379Z"
   },
   {
    "duration": 8,
    "start_time": "2022-08-07T12:46:10.388Z"
   },
   {
    "duration": 14,
    "start_time": "2022-08-07T12:46:10.398Z"
   },
   {
    "duration": 7,
    "start_time": "2022-08-07T12:46:10.413Z"
   },
   {
    "duration": 36,
    "start_time": "2022-08-07T12:46:10.422Z"
   },
   {
    "duration": 6,
    "start_time": "2022-08-07T12:46:10.460Z"
   },
   {
    "duration": 11,
    "start_time": "2022-08-07T12:46:10.468Z"
   },
   {
    "duration": 10,
    "start_time": "2022-08-07T12:46:10.482Z"
   },
   {
    "duration": 20,
    "start_time": "2022-08-07T12:46:10.493Z"
   },
   {
    "duration": 42,
    "start_time": "2022-08-07T12:46:10.514Z"
   },
   {
    "duration": 6,
    "start_time": "2022-08-07T12:46:10.557Z"
   },
   {
    "duration": 12,
    "start_time": "2022-08-07T12:46:10.565Z"
   },
   {
    "duration": 11,
    "start_time": "2022-08-07T12:46:10.578Z"
   },
   {
    "duration": 215,
    "start_time": "2022-08-07T12:46:10.590Z"
   },
   {
    "duration": 18,
    "start_time": "2022-08-07T12:46:10.806Z"
   },
   {
    "duration": 954,
    "start_time": "2022-08-07T12:46:10.825Z"
   },
   {
    "duration": 5,
    "start_time": "2022-08-07T12:46:11.781Z"
   },
   {
    "duration": 197,
    "start_time": "2022-08-07T12:46:11.788Z"
   },
   {
    "duration": 188,
    "start_time": "2022-08-07T12:46:52.316Z"
   },
   {
    "duration": 1077,
    "start_time": "2022-08-07T12:46:57.028Z"
   },
   {
    "duration": 66,
    "start_time": "2022-08-07T12:46:58.106Z"
   },
   {
    "duration": 12,
    "start_time": "2022-08-07T12:46:58.174Z"
   },
   {
    "duration": 646,
    "start_time": "2022-08-07T12:46:58.187Z"
   },
   {
    "duration": 2,
    "start_time": "2022-08-07T12:46:58.835Z"
   },
   {
    "duration": 34,
    "start_time": "2022-08-07T12:46:58.839Z"
   },
   {
    "duration": 14,
    "start_time": "2022-08-07T12:46:58.874Z"
   },
   {
    "duration": 24,
    "start_time": "2022-08-07T12:46:58.890Z"
   },
   {
    "duration": 16,
    "start_time": "2022-08-07T12:46:58.915Z"
   },
   {
    "duration": 14,
    "start_time": "2022-08-07T12:46:58.933Z"
   },
   {
    "duration": 18,
    "start_time": "2022-08-07T12:46:58.949Z"
   },
   {
    "duration": 13,
    "start_time": "2022-08-07T12:46:58.968Z"
   },
   {
    "duration": 24,
    "start_time": "2022-08-07T12:46:58.983Z"
   },
   {
    "duration": 10,
    "start_time": "2022-08-07T12:46:59.010Z"
   },
   {
    "duration": 35,
    "start_time": "2022-08-07T12:46:59.021Z"
   },
   {
    "duration": 24,
    "start_time": "2022-08-07T12:46:59.057Z"
   },
   {
    "duration": 12,
    "start_time": "2022-08-07T12:46:59.082Z"
   },
   {
    "duration": 12,
    "start_time": "2022-08-07T12:46:59.096Z"
   },
   {
    "duration": 20,
    "start_time": "2022-08-07T12:46:59.109Z"
   },
   {
    "duration": 178,
    "start_time": "2022-08-07T12:46:59.131Z"
   },
   {
    "duration": 16,
    "start_time": "2022-08-07T12:46:59.310Z"
   },
   {
    "duration": 897,
    "start_time": "2022-08-07T12:46:59.328Z"
   },
   {
    "duration": 6,
    "start_time": "2022-08-07T12:47:00.226Z"
   },
   {
    "duration": 214,
    "start_time": "2022-08-07T12:47:00.233Z"
   },
   {
    "duration": 22,
    "start_time": "2022-08-07T12:51:27.081Z"
   },
   {
    "duration": 86,
    "start_time": "2022-08-07T13:04:00.398Z"
   },
   {
    "duration": 105,
    "start_time": "2022-08-07T13:04:11.016Z"
   },
   {
    "duration": 116,
    "start_time": "2022-08-07T13:04:25.606Z"
   },
   {
    "duration": 99,
    "start_time": "2022-08-07T13:05:03.471Z"
   },
   {
    "duration": 104,
    "start_time": "2022-08-07T13:05:21.464Z"
   },
   {
    "duration": 99,
    "start_time": "2022-08-07T13:05:29.034Z"
   },
   {
    "duration": 1076,
    "start_time": "2022-08-07T13:05:39.371Z"
   },
   {
    "duration": 63,
    "start_time": "2022-08-07T13:05:40.449Z"
   },
   {
    "duration": 12,
    "start_time": "2022-08-07T13:05:40.513Z"
   },
   {
    "duration": 678,
    "start_time": "2022-08-07T13:05:40.527Z"
   },
   {
    "duration": 4,
    "start_time": "2022-08-07T13:05:41.207Z"
   },
   {
    "duration": 15,
    "start_time": "2022-08-07T13:05:41.212Z"
   },
   {
    "duration": 8,
    "start_time": "2022-08-07T13:05:41.229Z"
   },
   {
    "duration": 29,
    "start_time": "2022-08-07T13:05:41.238Z"
   },
   {
    "duration": 15,
    "start_time": "2022-08-07T13:05:41.268Z"
   },
   {
    "duration": 5,
    "start_time": "2022-08-07T13:05:41.284Z"
   },
   {
    "duration": 9,
    "start_time": "2022-08-07T13:05:41.291Z"
   },
   {
    "duration": 5,
    "start_time": "2022-08-07T13:05:41.301Z"
   },
   {
    "duration": 6,
    "start_time": "2022-08-07T13:05:41.307Z"
   },
   {
    "duration": 6,
    "start_time": "2022-08-07T13:05:41.315Z"
   },
   {
    "duration": 45,
    "start_time": "2022-08-07T13:05:41.323Z"
   },
   {
    "duration": 15,
    "start_time": "2022-08-07T13:05:41.370Z"
   },
   {
    "duration": 6,
    "start_time": "2022-08-07T13:05:41.386Z"
   },
   {
    "duration": 9,
    "start_time": "2022-08-07T13:05:41.393Z"
   },
   {
    "duration": 14,
    "start_time": "2022-08-07T13:05:41.403Z"
   },
   {
    "duration": 233,
    "start_time": "2022-08-07T13:05:41.418Z"
   },
   {
    "duration": 23,
    "start_time": "2022-08-07T13:05:41.654Z"
   },
   {
    "duration": 949,
    "start_time": "2022-08-07T13:05:41.678Z"
   },
   {
    "duration": 6,
    "start_time": "2022-08-07T13:05:42.628Z"
   },
   {
    "duration": 203,
    "start_time": "2022-08-07T13:05:42.635Z"
   },
   {
    "duration": 35,
    "start_time": "2022-08-07T13:05:42.839Z"
   },
   {
    "duration": 111,
    "start_time": "2022-08-07T13:05:42.875Z"
   },
   {
    "duration": 126,
    "start_time": "2022-08-07T13:06:38.487Z"
   },
   {
    "duration": 78,
    "start_time": "2022-08-07T13:10:50.091Z"
   },
   {
    "duration": 122,
    "start_time": "2022-08-07T13:11:45.221Z"
   },
   {
    "duration": 122,
    "start_time": "2022-08-07T13:14:24.304Z"
   },
   {
    "duration": 87,
    "start_time": "2022-08-07T13:27:50.035Z"
   },
   {
    "duration": 7,
    "start_time": "2022-08-07T13:28:00.559Z"
   },
   {
    "duration": 369,
    "start_time": "2022-08-07T13:29:36.271Z"
   },
   {
    "duration": 363,
    "start_time": "2022-08-07T13:29:43.703Z"
   },
   {
    "duration": 999,
    "start_time": "2022-08-07T13:29:51.405Z"
   },
   {
    "duration": 61,
    "start_time": "2022-08-07T13:29:52.406Z"
   },
   {
    "duration": 13,
    "start_time": "2022-08-07T13:29:52.469Z"
   },
   {
    "duration": 674,
    "start_time": "2022-08-07T13:29:52.483Z"
   },
   {
    "duration": 3,
    "start_time": "2022-08-07T13:29:53.160Z"
   },
   {
    "duration": 17,
    "start_time": "2022-08-07T13:29:53.164Z"
   },
   {
    "duration": 8,
    "start_time": "2022-08-07T13:29:53.183Z"
   },
   {
    "duration": 8,
    "start_time": "2022-08-07T13:29:53.192Z"
   },
   {
    "duration": 12,
    "start_time": "2022-08-07T13:29:53.201Z"
   },
   {
    "duration": 4,
    "start_time": "2022-08-07T13:29:53.215Z"
   },
   {
    "duration": 35,
    "start_time": "2022-08-07T13:29:53.220Z"
   },
   {
    "duration": 5,
    "start_time": "2022-08-07T13:29:53.256Z"
   },
   {
    "duration": 7,
    "start_time": "2022-08-07T13:29:53.263Z"
   },
   {
    "duration": 7,
    "start_time": "2022-08-07T13:29:53.273Z"
   },
   {
    "duration": 17,
    "start_time": "2022-08-07T13:29:53.281Z"
   },
   {
    "duration": 17,
    "start_time": "2022-08-07T13:29:53.299Z"
   },
   {
    "duration": 5,
    "start_time": "2022-08-07T13:29:53.318Z"
   },
   {
    "duration": 36,
    "start_time": "2022-08-07T13:29:53.324Z"
   },
   {
    "duration": 11,
    "start_time": "2022-08-07T13:29:53.362Z"
   },
   {
    "duration": 189,
    "start_time": "2022-08-07T13:29:53.374Z"
   },
   {
    "duration": 18,
    "start_time": "2022-08-07T13:29:53.564Z"
   },
   {
    "duration": 951,
    "start_time": "2022-08-07T13:29:53.584Z"
   },
   {
    "duration": 7,
    "start_time": "2022-08-07T13:29:54.537Z"
   },
   {
    "duration": 215,
    "start_time": "2022-08-07T13:29:54.546Z"
   },
   {
    "duration": 22,
    "start_time": "2022-08-07T13:29:54.763Z"
   },
   {
    "duration": 132,
    "start_time": "2022-08-07T13:29:54.787Z"
   },
   {
    "duration": 134,
    "start_time": "2022-08-07T13:29:54.921Z"
   },
   {
    "duration": 133,
    "start_time": "2022-08-07T13:29:55.056Z"
   },
   {
    "duration": 6,
    "start_time": "2022-08-07T13:29:55.191Z"
   },
   {
    "duration": 376,
    "start_time": "2022-08-07T13:29:55.198Z"
   },
   {
    "duration": 373,
    "start_time": "2022-08-07T13:30:14.030Z"
   },
   {
    "duration": 7,
    "start_time": "2022-08-07T13:30:35.546Z"
   },
   {
    "duration": 8,
    "start_time": "2022-08-07T13:31:00.183Z"
   },
   {
    "duration": 80,
    "start_time": "2022-08-07T13:34:10.569Z"
   },
   {
    "duration": 6,
    "start_time": "2022-08-07T13:35:55.380Z"
   },
   {
    "duration": 354,
    "start_time": "2022-08-07T13:36:12.416Z"
   },
   {
    "duration": 7,
    "start_time": "2022-08-07T13:36:43.786Z"
   },
   {
    "duration": 91,
    "start_time": "2022-08-07T13:38:05.688Z"
   },
   {
    "duration": 7,
    "start_time": "2022-08-07T13:38:38.143Z"
   },
   {
    "duration": 7,
    "start_time": "2022-08-07T13:38:39.910Z"
   },
   {
    "duration": 357,
    "start_time": "2022-08-07T13:38:40.381Z"
   },
   {
    "duration": 7,
    "start_time": "2022-08-07T13:38:44.630Z"
   },
   {
    "duration": 6,
    "start_time": "2022-08-07T13:38:47.214Z"
   },
   {
    "duration": 1044,
    "start_time": "2022-08-07T13:38:52.960Z"
   },
   {
    "duration": 67,
    "start_time": "2022-08-07T13:38:54.006Z"
   },
   {
    "duration": 14,
    "start_time": "2022-08-07T13:38:54.074Z"
   },
   {
    "duration": 668,
    "start_time": "2022-08-07T13:38:54.089Z"
   },
   {
    "duration": 3,
    "start_time": "2022-08-07T13:38:54.758Z"
   },
   {
    "duration": 11,
    "start_time": "2022-08-07T13:38:54.762Z"
   },
   {
    "duration": 7,
    "start_time": "2022-08-07T13:38:54.774Z"
   },
   {
    "duration": 7,
    "start_time": "2022-08-07T13:38:54.783Z"
   },
   {
    "duration": 13,
    "start_time": "2022-08-07T13:38:54.791Z"
   },
   {
    "duration": 4,
    "start_time": "2022-08-07T13:38:54.806Z"
   },
   {
    "duration": 10,
    "start_time": "2022-08-07T13:38:54.812Z"
   },
   {
    "duration": 5,
    "start_time": "2022-08-07T13:38:54.854Z"
   },
   {
    "duration": 5,
    "start_time": "2022-08-07T13:38:54.861Z"
   },
   {
    "duration": 6,
    "start_time": "2022-08-07T13:38:54.868Z"
   },
   {
    "duration": 15,
    "start_time": "2022-08-07T13:38:54.875Z"
   },
   {
    "duration": 15,
    "start_time": "2022-08-07T13:38:54.891Z"
   },
   {
    "duration": 6,
    "start_time": "2022-08-07T13:38:54.908Z"
   },
   {
    "duration": 9,
    "start_time": "2022-08-07T13:38:54.915Z"
   },
   {
    "duration": 38,
    "start_time": "2022-08-07T13:38:54.926Z"
   },
   {
    "duration": 208,
    "start_time": "2022-08-07T13:38:54.965Z"
   },
   {
    "duration": 17,
    "start_time": "2022-08-07T13:38:55.174Z"
   },
   {
    "duration": 911,
    "start_time": "2022-08-07T13:38:55.193Z"
   },
   {
    "duration": 7,
    "start_time": "2022-08-07T13:38:56.106Z"
   },
   {
    "duration": 217,
    "start_time": "2022-08-07T13:38:56.114Z"
   },
   {
    "duration": 28,
    "start_time": "2022-08-07T13:38:56.333Z"
   },
   {
    "duration": 143,
    "start_time": "2022-08-07T13:38:56.363Z"
   },
   {
    "duration": 121,
    "start_time": "2022-08-07T13:38:56.508Z"
   },
   {
    "duration": 144,
    "start_time": "2022-08-07T13:38:56.632Z"
   },
   {
    "duration": 8,
    "start_time": "2022-08-07T13:38:56.778Z"
   },
   {
    "duration": 395,
    "start_time": "2022-08-07T13:38:56.787Z"
   },
   {
    "duration": 6,
    "start_time": "2022-08-07T13:38:57.183Z"
   },
   {
    "duration": 7,
    "start_time": "2022-08-07T13:38:57.190Z"
   },
   {
    "duration": 436,
    "start_time": "2022-08-07T13:38:57.198Z"
   },
   {
    "duration": 7,
    "start_time": "2022-08-07T13:38:57.636Z"
   },
   {
    "duration": 14,
    "start_time": "2022-08-07T13:38:57.645Z"
   },
   {
    "duration": 349,
    "start_time": "2022-08-07T13:38:57.660Z"
   },
   {
    "duration": 6,
    "start_time": "2022-08-07T13:38:58.010Z"
   },
   {
    "duration": 12,
    "start_time": "2022-08-07T14:19:12.501Z"
   },
   {
    "duration": 105,
    "start_time": "2022-08-07T14:19:23.213Z"
   },
   {
    "duration": 11,
    "start_time": "2022-08-07T14:19:31.059Z"
   },
   {
    "duration": 85,
    "start_time": "2022-08-07T14:46:37.041Z"
   },
   {
    "duration": 11,
    "start_time": "2022-08-07T14:46:46.360Z"
   },
   {
    "duration": 11,
    "start_time": "2022-08-07T14:47:56.595Z"
   },
   {
    "duration": 5,
    "start_time": "2022-08-07T14:48:19.009Z"
   },
   {
    "duration": 4,
    "start_time": "2022-08-07T14:48:38.394Z"
   },
   {
    "duration": 9,
    "start_time": "2022-08-07T14:49:14.489Z"
   },
   {
    "duration": 8,
    "start_time": "2022-08-07T14:49:29.057Z"
   },
   {
    "duration": 10,
    "start_time": "2022-08-07T14:49:54.718Z"
   },
   {
    "duration": 9,
    "start_time": "2022-08-07T14:50:02.116Z"
   },
   {
    "duration": 13,
    "start_time": "2022-08-07T14:52:07.521Z"
   },
   {
    "duration": 9,
    "start_time": "2022-08-07T14:58:24.478Z"
   },
   {
    "duration": 11,
    "start_time": "2022-08-07T14:58:30.077Z"
   },
   {
    "duration": 11,
    "start_time": "2022-08-07T14:59:53.414Z"
   },
   {
    "duration": 13,
    "start_time": "2022-08-07T15:00:33.972Z"
   },
   {
    "duration": 10,
    "start_time": "2022-08-07T15:00:53.994Z"
   },
   {
    "duration": 14,
    "start_time": "2022-08-07T15:01:56.610Z"
   },
   {
    "duration": 11,
    "start_time": "2022-08-07T15:02:09.217Z"
   },
   {
    "duration": 67,
    "start_time": "2022-08-07T15:02:25.884Z"
   },
   {
    "duration": 15,
    "start_time": "2022-08-07T15:02:50.050Z"
   },
   {
    "duration": 83,
    "start_time": "2022-08-07T15:03:34.188Z"
   },
   {
    "duration": 11,
    "start_time": "2022-08-07T15:05:00.296Z"
   },
   {
    "duration": 11,
    "start_time": "2022-08-07T15:05:18.984Z"
   },
   {
    "duration": 14,
    "start_time": "2022-08-07T15:05:27.717Z"
   },
   {
    "duration": 1150,
    "start_time": "2022-08-07T15:11:37.185Z"
   },
   {
    "duration": 73,
    "start_time": "2022-08-07T15:11:38.337Z"
   },
   {
    "duration": 13,
    "start_time": "2022-08-07T15:11:38.411Z"
   },
   {
    "duration": 736,
    "start_time": "2022-08-07T15:11:38.426Z"
   },
   {
    "duration": 3,
    "start_time": "2022-08-07T15:11:39.169Z"
   },
   {
    "duration": 11,
    "start_time": "2022-08-07T15:11:39.173Z"
   },
   {
    "duration": 7,
    "start_time": "2022-08-07T15:11:39.185Z"
   },
   {
    "duration": 8,
    "start_time": "2022-08-07T15:11:39.193Z"
   },
   {
    "duration": 13,
    "start_time": "2022-08-07T15:11:39.202Z"
   },
   {
    "duration": 5,
    "start_time": "2022-08-07T15:11:39.217Z"
   },
   {
    "duration": 7,
    "start_time": "2022-08-07T15:11:39.223Z"
   },
   {
    "duration": 6,
    "start_time": "2022-08-07T15:11:39.260Z"
   },
   {
    "duration": 10,
    "start_time": "2022-08-07T15:11:39.268Z"
   },
   {
    "duration": 8,
    "start_time": "2022-08-07T15:11:39.279Z"
   },
   {
    "duration": 12,
    "start_time": "2022-08-07T15:11:39.289Z"
   },
   {
    "duration": 15,
    "start_time": "2022-08-07T15:11:39.302Z"
   },
   {
    "duration": 6,
    "start_time": "2022-08-07T15:11:39.319Z"
   },
   {
    "duration": 8,
    "start_time": "2022-08-07T15:11:39.326Z"
   },
   {
    "duration": 27,
    "start_time": "2022-08-07T15:11:39.335Z"
   },
   {
    "duration": 203,
    "start_time": "2022-08-07T15:11:39.364Z"
   },
   {
    "duration": 18,
    "start_time": "2022-08-07T15:11:39.568Z"
   },
   {
    "duration": 979,
    "start_time": "2022-08-07T15:11:39.587Z"
   },
   {
    "duration": 6,
    "start_time": "2022-08-07T15:11:40.568Z"
   },
   {
    "duration": 199,
    "start_time": "2022-08-07T15:11:40.575Z"
   },
   {
    "duration": 22,
    "start_time": "2022-08-07T15:11:40.775Z"
   },
   {
    "duration": 136,
    "start_time": "2022-08-07T15:11:40.798Z"
   },
   {
    "duration": 140,
    "start_time": "2022-08-07T15:11:40.936Z"
   },
   {
    "duration": 127,
    "start_time": "2022-08-07T15:11:41.079Z"
   },
   {
    "duration": 6,
    "start_time": "2022-08-07T15:11:41.207Z"
   },
   {
    "duration": 394,
    "start_time": "2022-08-07T15:11:41.214Z"
   },
   {
    "duration": 7,
    "start_time": "2022-08-07T15:11:41.609Z"
   },
   {
    "duration": 5,
    "start_time": "2022-08-07T15:11:41.617Z"
   },
   {
    "duration": 381,
    "start_time": "2022-08-07T15:11:41.624Z"
   },
   {
    "duration": 8,
    "start_time": "2022-08-07T15:11:42.007Z"
   },
   {
    "duration": 5,
    "start_time": "2022-08-07T15:11:42.017Z"
   },
   {
    "duration": 361,
    "start_time": "2022-08-07T15:11:42.023Z"
   },
   {
    "duration": 5,
    "start_time": "2022-08-07T15:11:42.386Z"
   },
   {
    "duration": 12,
    "start_time": "2022-08-07T15:11:42.393Z"
   },
   {
    "duration": 11,
    "start_time": "2022-08-07T15:11:42.406Z"
   },
   {
    "duration": 9,
    "start_time": "2022-08-07T15:11:42.418Z"
   },
   {
    "duration": 28,
    "start_time": "2022-08-07T15:11:42.428Z"
   },
   {
    "duration": 22,
    "start_time": "2022-08-07T15:11:42.457Z"
   },
   {
    "duration": 10,
    "start_time": "2022-08-07T15:11:42.480Z"
   },
   {
    "duration": 5,
    "start_time": "2022-08-07T15:11:42.491Z"
   },
   {
    "duration": 7,
    "start_time": "2022-08-07T15:11:55.536Z"
   },
   {
    "duration": 8,
    "start_time": "2022-08-07T15:15:26.388Z"
   },
   {
    "duration": 75,
    "start_time": "2022-08-07T15:16:11.176Z"
   },
   {
    "duration": 11,
    "start_time": "2022-08-07T15:18:01.673Z"
   },
   {
    "duration": 11,
    "start_time": "2022-08-07T15:18:01.980Z"
   },
   {
    "duration": 6,
    "start_time": "2022-08-07T15:18:02.273Z"
   },
   {
    "duration": 7,
    "start_time": "2022-08-07T15:35:28.864Z"
   },
   {
    "duration": 102,
    "start_time": "2022-08-07T15:37:57.170Z"
   },
   {
    "duration": 2,
    "start_time": "2022-08-07T15:38:36.417Z"
   },
   {
    "duration": 8,
    "start_time": "2022-08-07T15:38:40.981Z"
   },
   {
    "duration": 9,
    "start_time": "2022-08-07T15:40:37.699Z"
   },
   {
    "duration": 12,
    "start_time": "2022-08-07T15:41:06.588Z"
   },
   {
    "duration": 2112,
    "start_time": "2022-08-07T15:41:28.112Z"
   },
   {
    "duration": 15,
    "start_time": "2022-08-07T15:41:55.834Z"
   },
   {
    "duration": 9,
    "start_time": "2022-08-07T15:43:03.900Z"
   },
   {
    "duration": 11,
    "start_time": "2022-08-07T15:43:12.766Z"
   },
   {
    "duration": 7,
    "start_time": "2022-08-07T15:43:17.768Z"
   },
   {
    "duration": 12,
    "start_time": "2022-08-07T15:43:46.154Z"
   },
   {
    "duration": 10,
    "start_time": "2022-08-07T15:44:07.583Z"
   },
   {
    "duration": 8,
    "start_time": "2022-08-07T15:45:36.425Z"
   },
   {
    "duration": 1094,
    "start_time": "2022-08-07T15:45:43.574Z"
   },
   {
    "duration": 64,
    "start_time": "2022-08-07T15:45:44.671Z"
   },
   {
    "duration": 13,
    "start_time": "2022-08-07T15:45:44.737Z"
   },
   {
    "duration": 722,
    "start_time": "2022-08-07T15:45:44.751Z"
   },
   {
    "duration": 3,
    "start_time": "2022-08-07T15:45:45.475Z"
   },
   {
    "duration": 10,
    "start_time": "2022-08-07T15:45:45.480Z"
   },
   {
    "duration": 6,
    "start_time": "2022-08-07T15:45:45.491Z"
   },
   {
    "duration": 8,
    "start_time": "2022-08-07T15:45:45.498Z"
   },
   {
    "duration": 14,
    "start_time": "2022-08-07T15:45:45.507Z"
   },
   {
    "duration": 8,
    "start_time": "2022-08-07T15:45:45.522Z"
   },
   {
    "duration": 33,
    "start_time": "2022-08-07T15:45:45.532Z"
   },
   {
    "duration": 13,
    "start_time": "2022-08-07T15:45:45.566Z"
   },
   {
    "duration": 8,
    "start_time": "2022-08-07T15:45:45.580Z"
   },
   {
    "duration": 6,
    "start_time": "2022-08-07T15:45:45.591Z"
   },
   {
    "duration": 15,
    "start_time": "2022-08-07T15:45:45.599Z"
   },
   {
    "duration": 14,
    "start_time": "2022-08-07T15:45:45.615Z"
   },
   {
    "duration": 34,
    "start_time": "2022-08-07T15:45:45.630Z"
   },
   {
    "duration": 9,
    "start_time": "2022-08-07T15:45:45.665Z"
   },
   {
    "duration": 14,
    "start_time": "2022-08-07T15:45:45.676Z"
   },
   {
    "duration": 199,
    "start_time": "2022-08-07T15:45:45.691Z"
   },
   {
    "duration": 18,
    "start_time": "2022-08-07T15:45:45.892Z"
   },
   {
    "duration": 1017,
    "start_time": "2022-08-07T15:45:45.911Z"
   },
   {
    "duration": 6,
    "start_time": "2022-08-07T15:45:46.930Z"
   },
   {
    "duration": 203,
    "start_time": "2022-08-07T15:45:46.937Z"
   },
   {
    "duration": 31,
    "start_time": "2022-08-07T15:45:47.141Z"
   },
   {
    "duration": 148,
    "start_time": "2022-08-07T15:45:47.174Z"
   },
   {
    "duration": 190,
    "start_time": "2022-08-07T15:45:47.324Z"
   },
   {
    "duration": 157,
    "start_time": "2022-08-07T15:45:47.516Z"
   },
   {
    "duration": 8,
    "start_time": "2022-08-07T15:45:47.675Z"
   },
   {
    "duration": 400,
    "start_time": "2022-08-07T15:45:47.685Z"
   },
   {
    "duration": 7,
    "start_time": "2022-08-07T15:45:48.086Z"
   },
   {
    "duration": 6,
    "start_time": "2022-08-07T15:45:48.095Z"
   },
   {
    "duration": 392,
    "start_time": "2022-08-07T15:45:48.103Z"
   },
   {
    "duration": 5,
    "start_time": "2022-08-07T15:45:48.497Z"
   },
   {
    "duration": 7,
    "start_time": "2022-08-07T15:45:48.504Z"
   },
   {
    "duration": 376,
    "start_time": "2022-08-07T15:45:48.513Z"
   },
   {
    "duration": 7,
    "start_time": "2022-08-07T15:45:48.891Z"
   },
   {
    "duration": 10,
    "start_time": "2022-08-07T15:45:48.900Z"
   },
   {
    "duration": 9,
    "start_time": "2022-08-07T15:45:48.912Z"
   },
   {
    "duration": 34,
    "start_time": "2022-08-07T15:45:48.922Z"
   },
   {
    "duration": 7,
    "start_time": "2022-08-07T15:45:48.963Z"
   },
   {
    "duration": 16,
    "start_time": "2022-08-07T15:45:48.972Z"
   },
   {
    "duration": 14,
    "start_time": "2022-08-07T15:45:48.990Z"
   },
   {
    "duration": 7,
    "start_time": "2022-08-07T15:45:49.006Z"
   },
   {
    "duration": 16,
    "start_time": "2022-08-07T15:45:49.014Z"
   },
   {
    "duration": 35,
    "start_time": "2022-08-07T15:45:49.032Z"
   },
   {
    "duration": 12,
    "start_time": "2022-08-07T15:45:49.068Z"
   },
   {
    "duration": 8,
    "start_time": "2022-08-07T15:45:49.082Z"
   },
   {
    "duration": 1079,
    "start_time": "2022-08-07T15:46:21.846Z"
   },
   {
    "duration": 68,
    "start_time": "2022-08-07T15:46:22.928Z"
   },
   {
    "duration": 16,
    "start_time": "2022-08-07T15:46:22.998Z"
   },
   {
    "duration": 695,
    "start_time": "2022-08-07T15:46:23.017Z"
   },
   {
    "duration": 4,
    "start_time": "2022-08-07T15:46:23.714Z"
   },
   {
    "duration": 11,
    "start_time": "2022-08-07T15:46:23.720Z"
   },
   {
    "duration": 36,
    "start_time": "2022-08-07T15:46:23.732Z"
   },
   {
    "duration": 7,
    "start_time": "2022-08-07T15:46:23.771Z"
   },
   {
    "duration": 13,
    "start_time": "2022-08-07T15:46:23.779Z"
   },
   {
    "duration": 17,
    "start_time": "2022-08-07T15:46:23.794Z"
   },
   {
    "duration": 14,
    "start_time": "2022-08-07T15:46:23.813Z"
   },
   {
    "duration": 6,
    "start_time": "2022-08-07T15:46:23.829Z"
   },
   {
    "duration": 6,
    "start_time": "2022-08-07T15:46:23.836Z"
   },
   {
    "duration": 21,
    "start_time": "2022-08-07T15:46:23.843Z"
   },
   {
    "duration": 19,
    "start_time": "2022-08-07T15:46:23.869Z"
   },
   {
    "duration": 21,
    "start_time": "2022-08-07T15:46:23.890Z"
   },
   {
    "duration": 13,
    "start_time": "2022-08-07T15:46:23.913Z"
   },
   {
    "duration": 9,
    "start_time": "2022-08-07T15:46:23.927Z"
   },
   {
    "duration": 28,
    "start_time": "2022-08-07T15:46:23.938Z"
   },
   {
    "duration": 210,
    "start_time": "2022-08-07T15:46:23.970Z"
   },
   {
    "duration": 18,
    "start_time": "2022-08-07T15:46:24.182Z"
   },
   {
    "duration": 1009,
    "start_time": "2022-08-07T15:46:24.201Z"
   },
   {
    "duration": 6,
    "start_time": "2022-08-07T15:46:25.211Z"
   },
   {
    "duration": 210,
    "start_time": "2022-08-07T15:46:25.219Z"
   },
   {
    "duration": 40,
    "start_time": "2022-08-07T15:46:25.431Z"
   },
   {
    "duration": 136,
    "start_time": "2022-08-07T15:46:25.473Z"
   },
   {
    "duration": 133,
    "start_time": "2022-08-07T15:46:25.610Z"
   },
   {
    "duration": 133,
    "start_time": "2022-08-07T15:46:25.755Z"
   },
   {
    "duration": 6,
    "start_time": "2022-08-07T15:46:25.889Z"
   },
   {
    "duration": 394,
    "start_time": "2022-08-07T15:46:25.896Z"
   },
   {
    "duration": 7,
    "start_time": "2022-08-07T15:46:26.292Z"
   },
   {
    "duration": 6,
    "start_time": "2022-08-07T15:46:26.301Z"
   },
   {
    "duration": 431,
    "start_time": "2022-08-07T15:46:26.309Z"
   },
   {
    "duration": 28,
    "start_time": "2022-08-07T15:46:26.742Z"
   },
   {
    "duration": 8,
    "start_time": "2022-08-07T15:46:26.773Z"
   },
   {
    "duration": 389,
    "start_time": "2022-08-07T15:46:26.782Z"
   },
   {
    "duration": 6,
    "start_time": "2022-08-07T15:46:27.173Z"
   },
   {
    "duration": 12,
    "start_time": "2022-08-07T15:46:27.181Z"
   },
   {
    "duration": 23,
    "start_time": "2022-08-07T15:46:27.195Z"
   },
   {
    "duration": 20,
    "start_time": "2022-08-07T15:46:27.219Z"
   },
   {
    "duration": 28,
    "start_time": "2022-08-07T15:46:27.241Z"
   },
   {
    "duration": 30,
    "start_time": "2022-08-07T15:46:27.272Z"
   },
   {
    "duration": 36,
    "start_time": "2022-08-07T15:46:27.304Z"
   },
   {
    "duration": 36,
    "start_time": "2022-08-07T15:46:27.342Z"
   },
   {
    "duration": 36,
    "start_time": "2022-08-07T15:46:27.380Z"
   },
   {
    "duration": 35,
    "start_time": "2022-08-07T15:46:27.418Z"
   },
   {
    "duration": 44,
    "start_time": "2022-08-07T15:46:27.456Z"
   },
   {
    "duration": 22,
    "start_time": "2022-08-07T15:46:27.502Z"
   },
   {
    "duration": 7,
    "start_time": "2022-08-07T15:46:59.500Z"
   },
   {
    "duration": 10,
    "start_time": "2022-08-07T15:47:09.113Z"
   },
   {
    "duration": 13,
    "start_time": "2022-08-07T15:47:16.649Z"
   },
   {
    "duration": 10,
    "start_time": "2022-08-07T15:48:05.782Z"
   },
   {
    "duration": 1092,
    "start_time": "2022-08-07T15:48:11.728Z"
   },
   {
    "duration": 68,
    "start_time": "2022-08-07T15:48:12.822Z"
   },
   {
    "duration": 13,
    "start_time": "2022-08-07T15:48:12.892Z"
   },
   {
    "duration": 729,
    "start_time": "2022-08-07T15:48:12.907Z"
   },
   {
    "duration": 3,
    "start_time": "2022-08-07T15:48:13.638Z"
   },
   {
    "duration": 26,
    "start_time": "2022-08-07T15:48:13.642Z"
   },
   {
    "duration": 7,
    "start_time": "2022-08-07T15:48:13.670Z"
   },
   {
    "duration": 13,
    "start_time": "2022-08-07T15:48:13.678Z"
   },
   {
    "duration": 19,
    "start_time": "2022-08-07T15:48:13.692Z"
   },
   {
    "duration": 5,
    "start_time": "2022-08-07T15:48:13.713Z"
   },
   {
    "duration": 9,
    "start_time": "2022-08-07T15:48:13.719Z"
   },
   {
    "duration": 5,
    "start_time": "2022-08-07T15:48:13.730Z"
   },
   {
    "duration": 21,
    "start_time": "2022-08-07T15:48:13.736Z"
   },
   {
    "duration": 7,
    "start_time": "2022-08-07T15:48:13.764Z"
   },
   {
    "duration": 14,
    "start_time": "2022-08-07T15:48:13.774Z"
   },
   {
    "duration": 15,
    "start_time": "2022-08-07T15:48:13.789Z"
   },
   {
    "duration": 10,
    "start_time": "2022-08-07T15:48:13.806Z"
   },
   {
    "duration": 9,
    "start_time": "2022-08-07T15:48:13.817Z"
   },
   {
    "duration": 31,
    "start_time": "2022-08-07T15:48:13.828Z"
   },
   {
    "duration": 205,
    "start_time": "2022-08-07T15:48:13.860Z"
   },
   {
    "duration": 21,
    "start_time": "2022-08-07T15:48:14.066Z"
   },
   {
    "duration": 1017,
    "start_time": "2022-08-07T15:48:14.088Z"
   },
   {
    "duration": 6,
    "start_time": "2022-08-07T15:48:15.107Z"
   },
   {
    "duration": 204,
    "start_time": "2022-08-07T15:48:15.115Z"
   },
   {
    "duration": 24,
    "start_time": "2022-08-07T15:48:15.320Z"
   },
   {
    "duration": 132,
    "start_time": "2022-08-07T15:48:15.355Z"
   },
   {
    "duration": 137,
    "start_time": "2022-08-07T15:48:15.489Z"
   },
   {
    "duration": 143,
    "start_time": "2022-08-07T15:48:15.629Z"
   },
   {
    "duration": 6,
    "start_time": "2022-08-07T15:48:15.774Z"
   },
   {
    "duration": 433,
    "start_time": "2022-08-07T15:48:15.781Z"
   },
   {
    "duration": 7,
    "start_time": "2022-08-07T15:48:16.216Z"
   },
   {
    "duration": 16,
    "start_time": "2022-08-07T15:48:16.225Z"
   },
   {
    "duration": 407,
    "start_time": "2022-08-07T15:48:16.243Z"
   },
   {
    "duration": 16,
    "start_time": "2022-08-07T15:48:16.659Z"
   },
   {
    "duration": 41,
    "start_time": "2022-08-07T15:48:16.676Z"
   },
   {
    "duration": 387,
    "start_time": "2022-08-07T15:48:16.718Z"
   },
   {
    "duration": 6,
    "start_time": "2022-08-07T15:48:17.107Z"
   },
   {
    "duration": 11,
    "start_time": "2022-08-07T15:48:17.114Z"
   },
   {
    "duration": 34,
    "start_time": "2022-08-07T15:48:17.126Z"
   },
   {
    "duration": 17,
    "start_time": "2022-08-07T15:48:17.161Z"
   },
   {
    "duration": 20,
    "start_time": "2022-08-07T15:48:17.181Z"
   },
   {
    "duration": 17,
    "start_time": "2022-08-07T15:48:17.203Z"
   },
   {
    "duration": 17,
    "start_time": "2022-08-07T15:48:17.222Z"
   },
   {
    "duration": 8,
    "start_time": "2022-08-07T15:48:17.240Z"
   },
   {
    "duration": 15,
    "start_time": "2022-08-07T15:48:17.249Z"
   },
   {
    "duration": 29,
    "start_time": "2022-08-07T15:48:17.265Z"
   },
   {
    "duration": 8,
    "start_time": "2022-08-07T15:48:17.298Z"
   },
   {
    "duration": 28,
    "start_time": "2022-08-07T15:48:17.309Z"
   },
   {
    "duration": 10,
    "start_time": "2022-08-07T15:48:21.055Z"
   },
   {
    "duration": 11,
    "start_time": "2022-08-07T15:51:39.190Z"
   },
   {
    "duration": 1106,
    "start_time": "2022-08-07T15:51:47.897Z"
   },
   {
    "duration": 70,
    "start_time": "2022-08-07T15:51:49.005Z"
   },
   {
    "duration": 14,
    "start_time": "2022-08-07T15:51:49.076Z"
   },
   {
    "duration": 696,
    "start_time": "2022-08-07T15:51:49.091Z"
   },
   {
    "duration": 3,
    "start_time": "2022-08-07T15:51:49.789Z"
   },
   {
    "duration": 10,
    "start_time": "2022-08-07T15:51:49.794Z"
   },
   {
    "duration": 6,
    "start_time": "2022-08-07T15:51:49.806Z"
   },
   {
    "duration": 7,
    "start_time": "2022-08-07T15:51:49.814Z"
   },
   {
    "duration": 47,
    "start_time": "2022-08-07T15:51:49.822Z"
   },
   {
    "duration": 7,
    "start_time": "2022-08-07T15:51:49.871Z"
   },
   {
    "duration": 12,
    "start_time": "2022-08-07T15:51:49.879Z"
   },
   {
    "duration": 6,
    "start_time": "2022-08-07T15:51:49.893Z"
   },
   {
    "duration": 7,
    "start_time": "2022-08-07T15:51:49.900Z"
   },
   {
    "duration": 5,
    "start_time": "2022-08-07T15:51:49.910Z"
   },
   {
    "duration": 12,
    "start_time": "2022-08-07T15:51:49.917Z"
   },
   {
    "duration": 41,
    "start_time": "2022-08-07T15:51:49.930Z"
   },
   {
    "duration": 8,
    "start_time": "2022-08-07T15:51:49.973Z"
   },
   {
    "duration": 11,
    "start_time": "2022-08-07T15:51:49.982Z"
   },
   {
    "duration": 10,
    "start_time": "2022-08-07T15:51:49.994Z"
   },
   {
    "duration": 210,
    "start_time": "2022-08-07T15:51:50.005Z"
   },
   {
    "duration": 19,
    "start_time": "2022-08-07T15:51:50.217Z"
   },
   {
    "duration": 991,
    "start_time": "2022-08-07T15:51:50.237Z"
   },
   {
    "duration": 6,
    "start_time": "2022-08-07T15:51:51.229Z"
   },
   {
    "duration": 211,
    "start_time": "2022-08-07T15:51:51.237Z"
   },
   {
    "duration": 30,
    "start_time": "2022-08-07T15:51:51.450Z"
   },
   {
    "duration": 139,
    "start_time": "2022-08-07T15:51:51.482Z"
   },
   {
    "duration": 154,
    "start_time": "2022-08-07T15:51:51.622Z"
   },
   {
    "duration": 137,
    "start_time": "2022-08-07T15:51:51.777Z"
   },
   {
    "duration": 7,
    "start_time": "2022-08-07T15:51:51.916Z"
   },
   {
    "duration": 386,
    "start_time": "2022-08-07T15:51:51.924Z"
   },
   {
    "duration": 6,
    "start_time": "2022-08-07T15:51:52.312Z"
   },
   {
    "duration": 6,
    "start_time": "2022-08-07T15:51:52.320Z"
   },
   {
    "duration": 411,
    "start_time": "2022-08-07T15:51:52.328Z"
   },
   {
    "duration": 18,
    "start_time": "2022-08-07T15:51:52.741Z"
   },
   {
    "duration": 14,
    "start_time": "2022-08-07T15:51:52.765Z"
   },
   {
    "duration": 402,
    "start_time": "2022-08-07T15:51:52.781Z"
   },
   {
    "duration": 8,
    "start_time": "2022-08-07T15:51:53.185Z"
   },
   {
    "duration": 11,
    "start_time": "2022-08-07T15:51:53.194Z"
   },
   {
    "duration": 12,
    "start_time": "2022-08-07T15:51:53.207Z"
   },
   {
    "duration": 10,
    "start_time": "2022-08-07T15:51:53.221Z"
   },
   {
    "duration": 7,
    "start_time": "2022-08-07T15:51:53.261Z"
   },
   {
    "duration": 21,
    "start_time": "2022-08-07T15:51:53.270Z"
   },
   {
    "duration": 14,
    "start_time": "2022-08-07T15:51:53.293Z"
   },
   {
    "duration": 7,
    "start_time": "2022-08-07T15:51:53.309Z"
   },
   {
    "duration": 14,
    "start_time": "2022-08-07T15:51:53.317Z"
   },
   {
    "duration": 36,
    "start_time": "2022-08-07T15:51:53.333Z"
   },
   {
    "duration": 6,
    "start_time": "2022-08-07T15:51:53.371Z"
   },
   {
    "duration": 13,
    "start_time": "2022-08-07T15:51:53.378Z"
   },
   {
    "duration": 12,
    "start_time": "2022-08-07T15:52:01.683Z"
   },
   {
    "duration": 5,
    "start_time": "2022-08-07T15:53:20.320Z"
   },
   {
    "duration": 13,
    "start_time": "2022-08-07T15:54:03.755Z"
   },
   {
    "duration": 13,
    "start_time": "2022-08-07T15:54:13.220Z"
   },
   {
    "duration": 10,
    "start_time": "2022-08-07T15:57:03.663Z"
   },
   {
    "duration": 11,
    "start_time": "2022-08-07T15:57:30.781Z"
   },
   {
    "duration": 11,
    "start_time": "2022-08-07T15:58:16.740Z"
   },
   {
    "duration": 15,
    "start_time": "2022-08-07T15:58:25.081Z"
   },
   {
    "duration": 16,
    "start_time": "2022-08-07T15:58:32.948Z"
   },
   {
    "duration": 5,
    "start_time": "2022-08-07T15:58:49.507Z"
   },
   {
    "duration": 13,
    "start_time": "2022-08-07T15:59:01.862Z"
   },
   {
    "duration": 12,
    "start_time": "2022-08-07T15:59:13.477Z"
   },
   {
    "duration": 1088,
    "start_time": "2022-08-07T19:38:57.693Z"
   },
   {
    "duration": 84,
    "start_time": "2022-08-07T19:38:58.784Z"
   },
   {
    "duration": 24,
    "start_time": "2022-08-07T19:38:58.869Z"
   },
   {
    "duration": 733,
    "start_time": "2022-08-07T19:38:58.895Z"
   },
   {
    "duration": 3,
    "start_time": "2022-08-07T19:38:59.630Z"
   },
   {
    "duration": 25,
    "start_time": "2022-08-07T19:38:59.634Z"
   },
   {
    "duration": 22,
    "start_time": "2022-08-07T19:38:59.667Z"
   },
   {
    "duration": 9,
    "start_time": "2022-08-07T19:38:59.691Z"
   },
   {
    "duration": 18,
    "start_time": "2022-08-07T19:38:59.702Z"
   },
   {
    "duration": 8,
    "start_time": "2022-08-07T19:38:59.722Z"
   },
   {
    "duration": 8,
    "start_time": "2022-08-07T19:38:59.731Z"
   },
   {
    "duration": 5,
    "start_time": "2022-08-07T19:38:59.742Z"
   },
   {
    "duration": 11,
    "start_time": "2022-08-07T19:38:59.749Z"
   },
   {
    "duration": 32,
    "start_time": "2022-08-07T19:38:59.766Z"
   },
   {
    "duration": 12,
    "start_time": "2022-08-07T19:38:59.799Z"
   },
   {
    "duration": 14,
    "start_time": "2022-08-07T19:38:59.813Z"
   },
   {
    "duration": 6,
    "start_time": "2022-08-07T19:38:59.828Z"
   },
   {
    "duration": 6,
    "start_time": "2022-08-07T19:38:59.836Z"
   },
   {
    "duration": 11,
    "start_time": "2022-08-07T19:38:59.843Z"
   },
   {
    "duration": 226,
    "start_time": "2022-08-07T19:38:59.857Z"
   },
   {
    "duration": 21,
    "start_time": "2022-08-07T19:39:00.085Z"
   },
   {
    "duration": 1119,
    "start_time": "2022-08-07T19:39:00.108Z"
   },
   {
    "duration": 7,
    "start_time": "2022-08-07T19:39:01.229Z"
   },
   {
    "duration": 223,
    "start_time": "2022-08-07T19:39:01.238Z"
   },
   {
    "duration": 30,
    "start_time": "2022-08-07T19:39:01.464Z"
   },
   {
    "duration": 152,
    "start_time": "2022-08-07T19:39:01.496Z"
   },
   {
    "duration": 166,
    "start_time": "2022-08-07T19:39:01.650Z"
   },
   {
    "duration": 146,
    "start_time": "2022-08-07T19:39:01.819Z"
   },
   {
    "duration": 7,
    "start_time": "2022-08-07T19:39:01.966Z"
   },
   {
    "duration": 409,
    "start_time": "2022-08-07T19:39:01.975Z"
   },
   {
    "duration": 8,
    "start_time": "2022-08-07T19:39:02.386Z"
   },
   {
    "duration": 8,
    "start_time": "2022-08-07T19:39:02.396Z"
   },
   {
    "duration": 436,
    "start_time": "2022-08-07T19:39:02.405Z"
   },
   {
    "duration": 16,
    "start_time": "2022-08-07T19:39:02.842Z"
   },
   {
    "duration": 26,
    "start_time": "2022-08-07T19:39:02.860Z"
   },
   {
    "duration": 446,
    "start_time": "2022-08-07T19:39:02.888Z"
   },
   {
    "duration": 6,
    "start_time": "2022-08-07T19:39:03.336Z"
   },
   {
    "duration": 14,
    "start_time": "2022-08-07T19:39:03.357Z"
   },
   {
    "duration": 18,
    "start_time": "2022-08-07T19:39:03.376Z"
   },
   {
    "duration": 16,
    "start_time": "2022-08-07T19:39:03.396Z"
   },
   {
    "duration": 7,
    "start_time": "2022-08-07T19:39:03.414Z"
   },
   {
    "duration": 12,
    "start_time": "2022-08-07T19:39:03.423Z"
   },
   {
    "duration": 31,
    "start_time": "2022-08-07T19:39:03.436Z"
   },
   {
    "duration": 10,
    "start_time": "2022-08-07T19:39:03.469Z"
   },
   {
    "duration": 14,
    "start_time": "2022-08-07T19:39:03.480Z"
   },
   {
    "duration": 13,
    "start_time": "2022-08-07T19:39:03.496Z"
   },
   {
    "duration": 13,
    "start_time": "2022-08-07T19:39:03.511Z"
   },
   {
    "duration": 12,
    "start_time": "2022-08-07T19:39:03.526Z"
   },
   {
    "duration": 34,
    "start_time": "2022-08-07T19:39:03.557Z"
   },
   {
    "duration": 10,
    "start_time": "2022-08-07T19:41:54.788Z"
   },
   {
    "duration": 1067,
    "start_time": "2022-08-07T20:15:24.469Z"
   },
   {
    "duration": 69,
    "start_time": "2022-08-07T20:15:25.538Z"
   },
   {
    "duration": 14,
    "start_time": "2022-08-07T20:15:25.610Z"
   },
   {
    "duration": 689,
    "start_time": "2022-08-07T20:15:25.627Z"
   },
   {
    "duration": 3,
    "start_time": "2022-08-07T20:15:26.318Z"
   },
   {
    "duration": 26,
    "start_time": "2022-08-07T20:15:26.323Z"
   },
   {
    "duration": 29,
    "start_time": "2022-08-07T20:15:26.356Z"
   },
   {
    "duration": 9,
    "start_time": "2022-08-07T20:15:26.387Z"
   },
   {
    "duration": 15,
    "start_time": "2022-08-07T20:15:26.398Z"
   },
   {
    "duration": 6,
    "start_time": "2022-08-07T20:15:26.415Z"
   },
   {
    "duration": 8,
    "start_time": "2022-08-07T20:15:26.423Z"
   },
   {
    "duration": 29,
    "start_time": "2022-08-07T20:15:26.432Z"
   },
   {
    "duration": 4,
    "start_time": "2022-08-07T20:15:26.470Z"
   },
   {
    "duration": 7,
    "start_time": "2022-08-07T20:15:26.476Z"
   },
   {
    "duration": 15,
    "start_time": "2022-08-07T20:15:26.485Z"
   },
   {
    "duration": 14,
    "start_time": "2022-08-07T20:15:26.502Z"
   },
   {
    "duration": 6,
    "start_time": "2022-08-07T20:15:26.517Z"
   },
   {
    "duration": 44,
    "start_time": "2022-08-07T20:15:26.524Z"
   },
   {
    "duration": 12,
    "start_time": "2022-08-07T20:15:26.569Z"
   },
   {
    "duration": 240,
    "start_time": "2022-08-07T20:15:26.583Z"
   },
   {
    "duration": 38,
    "start_time": "2022-08-07T20:15:26.826Z"
   },
   {
    "duration": 1043,
    "start_time": "2022-08-07T20:15:26.865Z"
   },
   {
    "duration": 8,
    "start_time": "2022-08-07T20:15:27.910Z"
   },
   {
    "duration": 226,
    "start_time": "2022-08-07T20:15:27.920Z"
   },
   {
    "duration": 34,
    "start_time": "2022-08-07T20:15:28.147Z"
   },
   {
    "duration": 128,
    "start_time": "2022-08-07T20:15:28.182Z"
   },
   {
    "duration": 142,
    "start_time": "2022-08-07T20:15:28.312Z"
   },
   {
    "duration": 137,
    "start_time": "2022-08-07T20:15:28.456Z"
   },
   {
    "duration": 6,
    "start_time": "2022-08-07T20:15:28.595Z"
   },
   {
    "duration": 416,
    "start_time": "2022-08-07T20:15:28.603Z"
   },
   {
    "duration": 7,
    "start_time": "2022-08-07T20:15:29.021Z"
   },
   {
    "duration": 12,
    "start_time": "2022-08-07T20:15:29.029Z"
   },
   {
    "duration": 372,
    "start_time": "2022-08-07T20:15:29.058Z"
   },
   {
    "duration": 7,
    "start_time": "2022-08-07T20:15:29.432Z"
   },
   {
    "duration": 9,
    "start_time": "2022-08-07T20:15:29.454Z"
   },
   {
    "duration": 354,
    "start_time": "2022-08-07T20:15:29.466Z"
   },
   {
    "duration": 7,
    "start_time": "2022-08-07T20:15:29.821Z"
   },
   {
    "duration": 36,
    "start_time": "2022-08-07T20:15:29.829Z"
   },
   {
    "duration": 11,
    "start_time": "2022-08-07T20:15:29.871Z"
   },
   {
    "duration": 20,
    "start_time": "2022-08-07T20:15:29.887Z"
   },
   {
    "duration": 8,
    "start_time": "2022-08-07T20:15:29.909Z"
   },
   {
    "duration": 27,
    "start_time": "2022-08-07T20:15:29.919Z"
   },
   {
    "duration": 19,
    "start_time": "2022-08-07T20:15:29.948Z"
   },
   {
    "duration": 11,
    "start_time": "2022-08-07T20:15:29.969Z"
   },
   {
    "duration": 12,
    "start_time": "2022-08-07T20:15:29.981Z"
   },
   {
    "duration": 11,
    "start_time": "2022-08-07T20:15:29.994Z"
   },
   {
    "duration": 13,
    "start_time": "2022-08-07T20:15:30.007Z"
   },
   {
    "duration": 35,
    "start_time": "2022-08-07T20:15:30.022Z"
   },
   {
    "duration": 26,
    "start_time": "2022-08-07T20:15:30.059Z"
   },
   {
    "duration": 381,
    "start_time": "2022-08-07T20:16:03.610Z"
   },
   {
    "duration": 385,
    "start_time": "2022-08-07T20:16:15.016Z"
   },
   {
    "duration": 455,
    "start_time": "2022-08-07T20:16:27.327Z"
   },
   {
    "duration": 382,
    "start_time": "2022-08-07T20:16:36.402Z"
   },
   {
    "duration": 1633,
    "start_time": "2022-08-08T10:57:03.785Z"
   },
   {
    "duration": 585,
    "start_time": "2022-08-08T10:57:05.421Z"
   },
   {
    "duration": 24,
    "start_time": "2022-08-08T10:57:06.009Z"
   },
   {
    "duration": 938,
    "start_time": "2022-08-08T10:57:06.035Z"
   },
   {
    "duration": 4,
    "start_time": "2022-08-08T10:57:06.976Z"
   },
   {
    "duration": 13,
    "start_time": "2022-08-08T10:57:06.995Z"
   },
   {
    "duration": 29,
    "start_time": "2022-08-08T10:57:07.011Z"
   },
   {
    "duration": 9,
    "start_time": "2022-08-08T10:57:07.042Z"
   },
   {
    "duration": 17,
    "start_time": "2022-08-08T10:57:07.053Z"
   },
   {
    "duration": 30,
    "start_time": "2022-08-08T10:57:07.072Z"
   },
   {
    "duration": 13,
    "start_time": "2022-08-08T10:57:07.104Z"
   },
   {
    "duration": 12,
    "start_time": "2022-08-08T10:57:07.122Z"
   },
   {
    "duration": 7,
    "start_time": "2022-08-08T10:57:07.136Z"
   },
   {
    "duration": 84,
    "start_time": "2022-08-08T10:57:07.146Z"
   },
   {
    "duration": 16,
    "start_time": "2022-08-08T10:57:07.231Z"
   },
   {
    "duration": 18,
    "start_time": "2022-08-08T10:57:07.248Z"
   },
   {
    "duration": 15,
    "start_time": "2022-08-08T10:57:07.268Z"
   },
   {
    "duration": 19,
    "start_time": "2022-08-08T10:57:07.285Z"
   },
   {
    "duration": 23,
    "start_time": "2022-08-08T10:57:07.307Z"
   },
   {
    "duration": 241,
    "start_time": "2022-08-08T10:57:07.332Z"
   },
   {
    "duration": 33,
    "start_time": "2022-08-08T10:57:07.575Z"
   },
   {
    "duration": 1262,
    "start_time": "2022-08-08T10:57:07.614Z"
   },
   {
    "duration": 30,
    "start_time": "2022-08-08T10:57:08.878Z"
   },
   {
    "duration": 268,
    "start_time": "2022-08-08T10:57:08.913Z"
   },
   {
    "duration": 44,
    "start_time": "2022-08-08T10:57:09.183Z"
   },
   {
    "duration": 201,
    "start_time": "2022-08-08T10:57:09.229Z"
   },
   {
    "duration": 192,
    "start_time": "2022-08-08T10:57:09.435Z"
   },
   {
    "duration": 172,
    "start_time": "2022-08-08T10:57:09.629Z"
   },
   {
    "duration": 14,
    "start_time": "2022-08-08T10:57:09.812Z"
   },
   {
    "duration": 540,
    "start_time": "2022-08-08T10:57:09.828Z"
   },
   {
    "duration": 8,
    "start_time": "2022-08-08T10:57:10.371Z"
   },
   {
    "duration": 35,
    "start_time": "2022-08-08T10:57:10.398Z"
   },
   {
    "duration": 524,
    "start_time": "2022-08-08T10:57:10.435Z"
   },
   {
    "duration": 8,
    "start_time": "2022-08-08T10:57:10.962Z"
   },
   {
    "duration": 26,
    "start_time": "2022-08-08T10:57:10.972Z"
   },
   {
    "duration": 510,
    "start_time": "2022-08-08T10:57:11.000Z"
   },
   {
    "duration": 9,
    "start_time": "2022-08-08T10:57:11.516Z"
   },
   {
    "duration": 22,
    "start_time": "2022-08-08T10:57:11.527Z"
   },
   {
    "duration": 27,
    "start_time": "2022-08-08T10:57:11.551Z"
   },
   {
    "duration": 51,
    "start_time": "2022-08-08T10:57:11.580Z"
   },
   {
    "duration": 15,
    "start_time": "2022-08-08T10:57:11.635Z"
   },
   {
    "duration": 25,
    "start_time": "2022-08-08T10:57:11.652Z"
   },
   {
    "duration": 33,
    "start_time": "2022-08-08T10:57:11.679Z"
   },
   {
    "duration": 19,
    "start_time": "2022-08-08T10:57:11.714Z"
   },
   {
    "duration": 25,
    "start_time": "2022-08-08T10:57:11.735Z"
   },
   {
    "duration": 32,
    "start_time": "2022-08-08T10:57:11.762Z"
   },
   {
    "duration": 21,
    "start_time": "2022-08-08T10:57:11.796Z"
   },
   {
    "duration": 54,
    "start_time": "2022-08-08T10:57:11.819Z"
   },
   {
    "duration": 69,
    "start_time": "2022-08-08T10:57:11.876Z"
   },
   {
    "duration": 6,
    "start_time": "2022-08-08T12:04:35.481Z"
   },
   {
    "duration": 42,
    "start_time": "2022-08-08T12:57:53.034Z"
   },
   {
    "duration": 1198,
    "start_time": "2022-08-08T12:57:58.193Z"
   },
   {
    "duration": 98,
    "start_time": "2022-08-08T12:57:59.393Z"
   },
   {
    "duration": 13,
    "start_time": "2022-08-08T12:57:59.493Z"
   },
   {
    "duration": 634,
    "start_time": "2022-08-08T12:57:59.508Z"
   },
   {
    "duration": 3,
    "start_time": "2022-08-08T12:58:00.144Z"
   },
   {
    "duration": 16,
    "start_time": "2022-08-08T12:58:00.148Z"
   },
   {
    "duration": 10,
    "start_time": "2022-08-08T12:58:00.166Z"
   },
   {
    "duration": 14,
    "start_time": "2022-08-08T12:58:00.177Z"
   },
   {
    "duration": 14,
    "start_time": "2022-08-08T12:58:00.193Z"
   },
   {
    "duration": 16,
    "start_time": "2022-08-08T12:58:00.209Z"
   },
   {
    "duration": 13,
    "start_time": "2022-08-08T12:58:00.226Z"
   },
   {
    "duration": 29,
    "start_time": "2022-08-08T12:58:00.240Z"
   },
   {
    "duration": 13,
    "start_time": "2022-08-08T12:58:00.271Z"
   },
   {
    "duration": 15,
    "start_time": "2022-08-08T12:58:00.287Z"
   },
   {
    "duration": 12,
    "start_time": "2022-08-08T12:58:00.304Z"
   },
   {
    "duration": 37,
    "start_time": "2022-08-08T12:58:00.317Z"
   },
   {
    "duration": 23,
    "start_time": "2022-08-08T12:58:00.356Z"
   },
   {
    "duration": 23,
    "start_time": "2022-08-08T12:58:00.381Z"
   },
   {
    "duration": 13,
    "start_time": "2022-08-08T12:58:00.405Z"
   },
   {
    "duration": 12,
    "start_time": "2022-08-08T12:58:00.420Z"
   },
   {
    "duration": 181,
    "start_time": "2022-08-08T12:58:00.434Z"
   },
   {
    "duration": 27,
    "start_time": "2022-08-08T12:58:00.616Z"
   },
   {
    "duration": 877,
    "start_time": "2022-08-08T12:58:00.645Z"
   },
   {
    "duration": 6,
    "start_time": "2022-08-08T12:58:01.523Z"
   },
   {
    "duration": 196,
    "start_time": "2022-08-08T12:58:01.530Z"
   },
   {
    "duration": 26,
    "start_time": "2022-08-08T12:58:01.727Z"
   },
   {
    "duration": 126,
    "start_time": "2022-08-08T12:58:01.755Z"
   },
   {
    "duration": 122,
    "start_time": "2022-08-08T12:58:01.882Z"
   },
   {
    "duration": 122,
    "start_time": "2022-08-08T12:58:02.005Z"
   },
   {
    "duration": 11,
    "start_time": "2022-08-08T12:58:02.129Z"
   },
   {
    "duration": 360,
    "start_time": "2022-08-08T12:58:02.142Z"
   },
   {
    "duration": 7,
    "start_time": "2022-08-08T12:58:02.504Z"
   },
   {
    "duration": 6,
    "start_time": "2022-08-08T12:58:02.513Z"
   },
   {
    "duration": 361,
    "start_time": "2022-08-08T12:58:02.538Z"
   },
   {
    "duration": 6,
    "start_time": "2022-08-08T12:58:02.901Z"
   },
   {
    "duration": 8,
    "start_time": "2022-08-08T12:58:02.908Z"
   },
   {
    "duration": 353,
    "start_time": "2022-08-08T12:58:02.917Z"
   },
   {
    "duration": 7,
    "start_time": "2022-08-08T12:58:03.271Z"
   },
   {
    "duration": 12,
    "start_time": "2022-08-08T12:58:03.279Z"
   },
   {
    "duration": 14,
    "start_time": "2022-08-08T12:58:03.292Z"
   },
   {
    "duration": 29,
    "start_time": "2022-08-08T12:58:03.310Z"
   },
   {
    "duration": 9,
    "start_time": "2022-08-08T12:58:03.341Z"
   },
   {
    "duration": 11,
    "start_time": "2022-08-08T12:58:03.351Z"
   },
   {
    "duration": 11,
    "start_time": "2022-08-08T12:58:03.363Z"
   },
   {
    "duration": 6,
    "start_time": "2022-08-08T12:58:03.375Z"
   },
   {
    "duration": 10,
    "start_time": "2022-08-08T12:58:03.382Z"
   },
   {
    "duration": 9,
    "start_time": "2022-08-08T12:58:03.394Z"
   },
   {
    "duration": 35,
    "start_time": "2022-08-08T12:58:03.404Z"
   },
   {
    "duration": 11,
    "start_time": "2022-08-08T12:58:03.440Z"
   },
   {
    "duration": 9,
    "start_time": "2022-08-08T12:58:03.452Z"
   },
   {
    "duration": 13,
    "start_time": "2022-08-08T12:58:47.322Z"
   },
   {
    "duration": 1049,
    "start_time": "2022-08-08T12:58:55.017Z"
   },
   {
    "duration": 67,
    "start_time": "2022-08-08T12:58:56.068Z"
   },
   {
    "duration": 17,
    "start_time": "2022-08-08T12:58:56.137Z"
   },
   {
    "duration": 633,
    "start_time": "2022-08-08T12:58:56.156Z"
   },
   {
    "duration": 3,
    "start_time": "2022-08-08T12:58:56.791Z"
   },
   {
    "duration": 25,
    "start_time": "2022-08-08T12:58:56.795Z"
   },
   {
    "duration": 23,
    "start_time": "2022-08-08T12:58:56.821Z"
   },
   {
    "duration": 6,
    "start_time": "2022-08-08T12:58:56.845Z"
   },
   {
    "duration": 17,
    "start_time": "2022-08-08T12:58:56.852Z"
   },
   {
    "duration": 17,
    "start_time": "2022-08-08T12:58:56.870Z"
   },
   {
    "duration": 7,
    "start_time": "2022-08-08T12:58:56.889Z"
   },
   {
    "duration": 20,
    "start_time": "2022-08-08T12:58:56.898Z"
   },
   {
    "duration": 10,
    "start_time": "2022-08-08T12:58:56.920Z"
   },
   {
    "duration": 15,
    "start_time": "2022-08-08T12:58:56.933Z"
   },
   {
    "duration": 11,
    "start_time": "2022-08-08T12:58:56.949Z"
   },
   {
    "duration": 29,
    "start_time": "2022-08-08T12:58:56.961Z"
   },
   {
    "duration": 31,
    "start_time": "2022-08-08T12:58:56.992Z"
   },
   {
    "duration": 18,
    "start_time": "2022-08-08T12:58:57.024Z"
   },
   {
    "duration": 36,
    "start_time": "2022-08-08T12:58:57.043Z"
   },
   {
    "duration": 20,
    "start_time": "2022-08-08T12:58:57.080Z"
   },
   {
    "duration": 197,
    "start_time": "2022-08-08T12:58:57.101Z"
   },
   {
    "duration": 17,
    "start_time": "2022-08-08T12:58:57.299Z"
   },
   {
    "duration": 878,
    "start_time": "2022-08-08T12:58:57.317Z"
   },
   {
    "duration": 7,
    "start_time": "2022-08-08T12:58:58.197Z"
   },
   {
    "duration": 190,
    "start_time": "2022-08-08T12:58:58.206Z"
   },
   {
    "duration": 22,
    "start_time": "2022-08-08T12:58:58.398Z"
   },
   {
    "duration": 127,
    "start_time": "2022-08-08T12:58:58.422Z"
   },
   {
    "duration": 123,
    "start_time": "2022-08-08T12:58:58.550Z"
   },
   {
    "duration": 123,
    "start_time": "2022-08-08T12:58:58.675Z"
   },
   {
    "duration": 6,
    "start_time": "2022-08-08T12:58:58.799Z"
   },
   {
    "duration": 426,
    "start_time": "2022-08-08T12:58:58.806Z"
   },
   {
    "duration": 7,
    "start_time": "2022-08-08T12:58:59.237Z"
   },
   {
    "duration": 12,
    "start_time": "2022-08-08T12:58:59.245Z"
   },
   {
    "duration": 355,
    "start_time": "2022-08-08T12:58:59.258Z"
   },
   {
    "duration": 7,
    "start_time": "2022-08-08T12:58:59.614Z"
   },
   {
    "duration": 17,
    "start_time": "2022-08-08T12:58:59.622Z"
   },
   {
    "duration": 348,
    "start_time": "2022-08-08T12:58:59.640Z"
   },
   {
    "duration": 6,
    "start_time": "2022-08-08T12:58:59.991Z"
   },
   {
    "duration": 14,
    "start_time": "2022-08-08T12:58:59.998Z"
   },
   {
    "duration": 31,
    "start_time": "2022-08-08T12:59:00.014Z"
   },
   {
    "duration": 11,
    "start_time": "2022-08-08T12:59:00.048Z"
   },
   {
    "duration": 8,
    "start_time": "2022-08-08T12:59:00.060Z"
   },
   {
    "duration": 10,
    "start_time": "2022-08-08T12:59:00.070Z"
   },
   {
    "duration": 12,
    "start_time": "2022-08-08T12:59:00.082Z"
   },
   {
    "duration": 10,
    "start_time": "2022-08-08T12:59:00.096Z"
   },
   {
    "duration": 37,
    "start_time": "2022-08-08T12:59:00.108Z"
   },
   {
    "duration": 11,
    "start_time": "2022-08-08T12:59:00.146Z"
   },
   {
    "duration": 11,
    "start_time": "2022-08-08T12:59:00.158Z"
   },
   {
    "duration": 17,
    "start_time": "2022-08-08T12:59:00.171Z"
   },
   {
    "duration": 14,
    "start_time": "2022-08-08T12:59:00.189Z"
   },
   {
    "duration": 1197,
    "start_time": "2022-08-08T19:02:10.100Z"
   },
   {
    "duration": 99,
    "start_time": "2022-08-08T19:02:11.299Z"
   },
   {
    "duration": 16,
    "start_time": "2022-08-08T19:02:11.399Z"
   },
   {
    "duration": 721,
    "start_time": "2022-08-08T19:02:11.417Z"
   },
   {
    "duration": 5,
    "start_time": "2022-08-08T19:02:12.140Z"
   },
   {
    "duration": 21,
    "start_time": "2022-08-08T19:02:12.147Z"
   },
   {
    "duration": 25,
    "start_time": "2022-08-08T19:02:12.170Z"
   },
   {
    "duration": 16,
    "start_time": "2022-08-08T19:02:12.196Z"
   },
   {
    "duration": 22,
    "start_time": "2022-08-08T19:02:12.214Z"
   },
   {
    "duration": 14,
    "start_time": "2022-08-08T19:02:12.239Z"
   },
   {
    "duration": 29,
    "start_time": "2022-08-08T19:02:12.255Z"
   },
   {
    "duration": 6,
    "start_time": "2022-08-08T19:02:12.285Z"
   },
   {
    "duration": 26,
    "start_time": "2022-08-08T19:02:12.293Z"
   },
   {
    "duration": 20,
    "start_time": "2022-08-08T19:02:12.321Z"
   },
   {
    "duration": 26,
    "start_time": "2022-08-08T19:02:12.343Z"
   },
   {
    "duration": 8,
    "start_time": "2022-08-08T19:02:12.371Z"
   },
   {
    "duration": 37,
    "start_time": "2022-08-08T19:02:12.380Z"
   },
   {
    "duration": 20,
    "start_time": "2022-08-08T19:02:12.418Z"
   },
   {
    "duration": 10,
    "start_time": "2022-08-08T19:02:12.440Z"
   },
   {
    "duration": 10,
    "start_time": "2022-08-08T19:02:12.451Z"
   },
   {
    "duration": 12,
    "start_time": "2022-08-08T19:02:12.462Z"
   },
   {
    "duration": 214,
    "start_time": "2022-08-08T19:02:12.476Z"
   },
   {
    "duration": 18,
    "start_time": "2022-08-08T19:02:12.692Z"
   },
   {
    "duration": 968,
    "start_time": "2022-08-08T19:02:12.711Z"
   },
   {
    "duration": 6,
    "start_time": "2022-08-08T19:02:13.681Z"
   },
   {
    "duration": 220,
    "start_time": "2022-08-08T19:02:13.688Z"
   },
   {
    "duration": 34,
    "start_time": "2022-08-08T19:02:13.910Z"
   },
   {
    "duration": 134,
    "start_time": "2022-08-08T19:02:13.948Z"
   },
   {
    "duration": 130,
    "start_time": "2022-08-08T19:02:14.084Z"
   },
   {
    "duration": 153,
    "start_time": "2022-08-08T19:02:14.216Z"
   },
   {
    "duration": 6,
    "start_time": "2022-08-08T19:02:14.370Z"
   },
   {
    "duration": 379,
    "start_time": "2022-08-08T19:02:14.377Z"
   },
   {
    "duration": 6,
    "start_time": "2022-08-08T19:02:14.758Z"
   },
   {
    "duration": 6,
    "start_time": "2022-08-08T19:02:14.765Z"
   },
   {
    "duration": 374,
    "start_time": "2022-08-08T19:02:14.772Z"
   },
   {
    "duration": 6,
    "start_time": "2022-08-08T19:02:15.148Z"
   },
   {
    "duration": 6,
    "start_time": "2022-08-08T19:02:15.155Z"
   },
   {
    "duration": 338,
    "start_time": "2022-08-08T19:02:15.163Z"
   },
   {
    "duration": 6,
    "start_time": "2022-08-08T19:02:15.503Z"
   },
   {
    "duration": 11,
    "start_time": "2022-08-08T19:02:15.510Z"
   },
   {
    "duration": 22,
    "start_time": "2022-08-08T19:02:15.522Z"
   },
   {
    "duration": 12,
    "start_time": "2022-08-08T19:02:15.545Z"
   },
   {
    "duration": 6,
    "start_time": "2022-08-08T19:02:15.559Z"
   },
   {
    "duration": 11,
    "start_time": "2022-08-08T19:02:15.566Z"
   },
   {
    "duration": 10,
    "start_time": "2022-08-08T19:02:15.578Z"
   },
   {
    "duration": 8,
    "start_time": "2022-08-08T19:02:15.589Z"
   },
   {
    "duration": 14,
    "start_time": "2022-08-08T19:02:15.598Z"
   },
   {
    "duration": 10,
    "start_time": "2022-08-08T19:02:15.638Z"
   },
   {
    "duration": 8,
    "start_time": "2022-08-08T19:02:15.649Z"
   },
   {
    "duration": 9,
    "start_time": "2022-08-08T19:02:15.658Z"
   },
   {
    "duration": 18,
    "start_time": "2022-08-08T19:02:15.668Z"
   },
   {
    "duration": 7,
    "start_time": "2022-08-08T19:02:33.276Z"
   },
   {
    "duration": 7,
    "start_time": "2022-08-08T19:02:59.765Z"
   },
   {
    "duration": 7,
    "start_time": "2022-08-08T19:03:09.066Z"
   },
   {
    "duration": 5,
    "start_time": "2022-08-08T19:08:06.023Z"
   },
   {
    "duration": 4,
    "start_time": "2022-08-08T19:08:47.854Z"
   },
   {
    "duration": 4,
    "start_time": "2022-08-08T19:08:58.258Z"
   },
   {
    "duration": 835,
    "start_time": "2022-08-08T19:22:06.782Z"
   },
   {
    "duration": 5,
    "start_time": "2022-08-08T19:22:13.627Z"
   },
   {
    "duration": 49,
    "start_time": "2022-08-08T19:37:48.685Z"
   },
   {
    "duration": 54,
    "start_time": "2022-08-08T19:42:37.139Z"
   },
   {
    "duration": 65,
    "start_time": "2022-08-08T19:45:18.911Z"
   },
   {
    "duration": 6,
    "start_time": "2022-08-08T19:49:22.421Z"
   },
   {
    "duration": 22,
    "start_time": "2022-08-08T19:49:29.034Z"
   },
   {
    "duration": 43,
    "start_time": "2022-08-08T19:49:42.431Z"
   },
   {
    "duration": 5,
    "start_time": "2022-08-08T19:49:45.870Z"
   },
   {
    "duration": 6,
    "start_time": "2022-08-08T19:51:18.992Z"
   },
   {
    "duration": 9,
    "start_time": "2022-08-08T19:56:22.825Z"
   },
   {
    "duration": 23,
    "start_time": "2022-08-08T19:56:31.037Z"
   },
   {
    "duration": 214,
    "start_time": "2022-08-08T19:56:39.115Z"
   },
   {
    "duration": 194,
    "start_time": "2022-08-08T19:56:53.982Z"
   },
   {
    "duration": 200,
    "start_time": "2022-08-08T19:57:23.717Z"
   },
   {
    "duration": 46,
    "start_time": "2022-08-08T19:59:01.389Z"
   },
   {
    "duration": 253,
    "start_time": "2022-08-08T20:00:34.342Z"
   },
   {
    "duration": 347,
    "start_time": "2022-08-08T20:01:47.448Z"
   },
   {
    "duration": 267,
    "start_time": "2022-08-08T20:01:54.050Z"
   },
   {
    "duration": 57,
    "start_time": "2022-08-08T20:02:38.957Z"
   },
   {
    "duration": 16,
    "start_time": "2022-08-08T20:08:12.465Z"
   },
   {
    "duration": 14,
    "start_time": "2022-08-08T20:09:37.575Z"
   },
   {
    "duration": 156,
    "start_time": "2022-08-08T20:09:52.361Z"
   },
   {
    "duration": 16,
    "start_time": "2022-08-08T20:10:43.927Z"
   },
   {
    "duration": 46,
    "start_time": "2022-08-08T20:19:05.474Z"
   },
   {
    "duration": 68,
    "start_time": "2022-08-08T20:19:33.467Z"
   },
   {
    "duration": 43,
    "start_time": "2022-08-08T20:19:40.951Z"
   },
   {
    "duration": 103,
    "start_time": "2022-08-08T20:19:50.866Z"
   },
   {
    "duration": 49,
    "start_time": "2022-08-08T20:20:09.910Z"
   },
   {
    "duration": 48,
    "start_time": "2022-08-08T20:20:26.614Z"
   },
   {
    "duration": 49,
    "start_time": "2022-08-08T20:20:58.472Z"
   },
   {
    "duration": 51,
    "start_time": "2022-08-08T20:21:07.061Z"
   },
   {
    "duration": 45,
    "start_time": "2022-08-08T20:21:18.977Z"
   },
   {
    "duration": 21,
    "start_time": "2022-08-08T20:21:23.142Z"
   },
   {
    "duration": 96,
    "start_time": "2022-08-08T20:22:20.113Z"
   },
   {
    "duration": 133,
    "start_time": "2022-08-08T20:22:24.011Z"
   },
   {
    "duration": 137,
    "start_time": "2022-08-08T20:22:33.440Z"
   },
   {
    "duration": 135,
    "start_time": "2022-08-08T20:22:44.714Z"
   },
   {
    "duration": 1078,
    "start_time": "2022-08-08T20:26:30.897Z"
   },
   {
    "duration": 3,
    "start_time": "2022-08-08T20:29:45.603Z"
   },
   {
    "duration": 932,
    "start_time": "2022-08-08T20:31:21.354Z"
   },
   {
    "duration": 3,
    "start_time": "2022-08-08T20:31:23.903Z"
   },
   {
    "duration": 1128,
    "start_time": "2022-08-08T20:31:24.840Z"
   },
   {
    "duration": 164,
    "start_time": "2022-08-08T20:31:44.313Z"
   },
   {
    "duration": 8,
    "start_time": "2022-08-08T20:32:25.270Z"
   },
   {
    "duration": 9,
    "start_time": "2022-08-08T20:32:32.973Z"
   },
   {
    "duration": 13,
    "start_time": "2022-08-08T20:32:40.471Z"
   },
   {
    "duration": 14,
    "start_time": "2022-08-08T20:33:03.029Z"
   },
   {
    "duration": 146,
    "start_time": "2022-08-08T20:33:20.873Z"
   },
   {
    "duration": 20,
    "start_time": "2022-08-08T20:35:54.656Z"
   },
   {
    "duration": 8,
    "start_time": "2022-08-08T20:36:02.097Z"
   },
   {
    "duration": 221,
    "start_time": "2022-08-08T20:37:22.027Z"
   },
   {
    "duration": 142,
    "start_time": "2022-08-08T20:37:30.114Z"
   },
   {
    "duration": 143,
    "start_time": "2022-08-08T20:37:45.214Z"
   },
   {
    "duration": 147,
    "start_time": "2022-08-08T20:39:09.796Z"
   },
   {
    "duration": 823,
    "start_time": "2022-08-08T20:39:46.993Z"
   },
   {
    "duration": 13,
    "start_time": "2022-08-08T20:40:19.428Z"
   },
   {
    "duration": 955,
    "start_time": "2022-08-08T20:40:31.488Z"
   },
   {
    "duration": 8,
    "start_time": "2022-08-08T20:40:50.198Z"
   },
   {
    "duration": 3,
    "start_time": "2022-08-08T20:40:54.870Z"
   },
   {
    "duration": 9,
    "start_time": "2022-08-08T20:41:18.972Z"
   },
   {
    "duration": 8,
    "start_time": "2022-08-08T20:41:24.255Z"
   },
   {
    "duration": 3,
    "start_time": "2022-08-08T20:41:51.347Z"
   },
   {
    "duration": 14,
    "start_time": "2022-08-08T20:41:52.914Z"
   },
   {
    "duration": 891,
    "start_time": "2022-08-08T20:41:53.781Z"
   },
   {
    "duration": 906,
    "start_time": "2022-08-08T20:43:27.860Z"
   },
   {
    "duration": 902,
    "start_time": "2022-08-08T20:44:18.567Z"
   },
   {
    "duration": 4,
    "start_time": "2022-08-08T20:45:42.803Z"
   },
   {
    "duration": 8,
    "start_time": "2022-08-08T20:45:44.179Z"
   },
   {
    "duration": 11,
    "start_time": "2022-08-08T20:45:51.469Z"
   },
   {
    "duration": 143,
    "start_time": "2022-08-08T20:45:54.365Z"
   },
   {
    "duration": 290,
    "start_time": "2022-08-08T20:46:05.127Z"
   },
   {
    "duration": 1131,
    "start_time": "2022-08-08T20:47:28.122Z"
   },
   {
    "duration": 65,
    "start_time": "2022-08-08T20:47:29.255Z"
   },
   {
    "duration": 13,
    "start_time": "2022-08-08T20:47:29.321Z"
   },
   {
    "duration": 646,
    "start_time": "2022-08-08T20:47:29.336Z"
   },
   {
    "duration": 3,
    "start_time": "2022-08-08T20:47:29.983Z"
   },
   {
    "duration": 25,
    "start_time": "2022-08-08T20:47:29.988Z"
   },
   {
    "duration": 28,
    "start_time": "2022-08-08T20:47:30.015Z"
   },
   {
    "duration": 15,
    "start_time": "2022-08-08T20:47:30.045Z"
   },
   {
    "duration": 20,
    "start_time": "2022-08-08T20:47:30.062Z"
   },
   {
    "duration": 32,
    "start_time": "2022-08-08T20:47:30.085Z"
   },
   {
    "duration": 6,
    "start_time": "2022-08-08T20:47:30.119Z"
   },
   {
    "duration": 35,
    "start_time": "2022-08-08T20:47:30.126Z"
   },
   {
    "duration": 19,
    "start_time": "2022-08-08T20:47:30.163Z"
   },
   {
    "duration": 11,
    "start_time": "2022-08-08T20:47:30.184Z"
   },
   {
    "duration": 31,
    "start_time": "2022-08-08T20:47:30.197Z"
   },
   {
    "duration": 28,
    "start_time": "2022-08-08T20:47:30.230Z"
   },
   {
    "duration": 42,
    "start_time": "2022-08-08T20:47:30.259Z"
   },
   {
    "duration": 57,
    "start_time": "2022-08-08T20:47:30.302Z"
   },
   {
    "duration": 202,
    "start_time": "2022-08-08T20:47:30.361Z"
   },
   {
    "duration": 5,
    "start_time": "2022-08-08T20:47:30.565Z"
   },
   {
    "duration": 54,
    "start_time": "2022-08-08T20:47:30.571Z"
   },
   {
    "duration": 232,
    "start_time": "2022-08-08T20:47:30.626Z"
   },
   {
    "duration": 16,
    "start_time": "2022-08-08T20:47:30.860Z"
   },
   {
    "duration": 820,
    "start_time": "2022-08-08T20:47:30.877Z"
   },
   {
    "duration": 7,
    "start_time": "2022-08-08T20:47:31.698Z"
   },
   {
    "duration": 300,
    "start_time": "2022-08-08T20:47:31.706Z"
   },
   {
    "duration": 31,
    "start_time": "2022-08-08T20:47:32.008Z"
   },
   {
    "duration": 122,
    "start_time": "2022-08-08T20:47:32.043Z"
   },
   {
    "duration": 121,
    "start_time": "2022-08-08T20:47:32.166Z"
   },
   {
    "duration": 123,
    "start_time": "2022-08-08T20:47:32.288Z"
   },
   {
    "duration": 3,
    "start_time": "2022-08-08T20:47:32.412Z"
   },
   {
    "duration": 36,
    "start_time": "2022-08-08T20:47:32.416Z"
   },
   {
    "duration": 291,
    "start_time": "2022-08-08T20:47:32.454Z"
   },
   {
    "duration": 6,
    "start_time": "2022-08-08T20:47:32.747Z"
   },
   {
    "duration": 376,
    "start_time": "2022-08-08T20:47:32.755Z"
   },
   {
    "duration": 7,
    "start_time": "2022-08-08T20:47:33.138Z"
   },
   {
    "duration": 13,
    "start_time": "2022-08-08T20:47:33.146Z"
   },
   {
    "duration": 400,
    "start_time": "2022-08-08T20:47:33.160Z"
   },
   {
    "duration": 7,
    "start_time": "2022-08-08T20:47:33.561Z"
   },
   {
    "duration": 22,
    "start_time": "2022-08-08T20:47:33.569Z"
   },
   {
    "duration": 351,
    "start_time": "2022-08-08T20:47:33.593Z"
   },
   {
    "duration": 6,
    "start_time": "2022-08-08T20:47:33.946Z"
   },
   {
    "duration": 26,
    "start_time": "2022-08-08T20:47:33.953Z"
   },
   {
    "duration": 18,
    "start_time": "2022-08-08T20:47:33.980Z"
   },
   {
    "duration": 13,
    "start_time": "2022-08-08T20:47:33.999Z"
   },
   {
    "duration": 9,
    "start_time": "2022-08-08T20:47:34.013Z"
   },
   {
    "duration": 22,
    "start_time": "2022-08-08T20:47:34.024Z"
   },
   {
    "duration": 10,
    "start_time": "2022-08-08T20:47:34.048Z"
   },
   {
    "duration": 8,
    "start_time": "2022-08-08T20:47:34.059Z"
   },
   {
    "duration": 19,
    "start_time": "2022-08-08T20:47:34.068Z"
   },
   {
    "duration": 18,
    "start_time": "2022-08-08T20:47:34.088Z"
   },
   {
    "duration": 16,
    "start_time": "2022-08-08T20:47:34.108Z"
   },
   {
    "duration": 20,
    "start_time": "2022-08-08T20:47:34.125Z"
   },
   {
    "duration": 10,
    "start_time": "2022-08-08T20:47:34.147Z"
   },
   {
    "duration": 3,
    "start_time": "2022-08-08T20:48:17.775Z"
   },
   {
    "duration": 11,
    "start_time": "2022-08-08T20:48:19.450Z"
   },
   {
    "duration": 1025,
    "start_time": "2022-08-08T20:48:19.915Z"
   },
   {
    "duration": 4,
    "start_time": "2022-08-08T20:48:26.781Z"
   },
   {
    "duration": 11,
    "start_time": "2022-08-08T20:48:27.175Z"
   },
   {
    "duration": 334,
    "start_time": "2022-08-08T20:48:27.792Z"
   },
   {
    "duration": 4,
    "start_time": "2022-08-08T20:48:41.580Z"
   },
   {
    "duration": 11,
    "start_time": "2022-08-08T20:48:42.047Z"
   },
   {
    "duration": 297,
    "start_time": "2022-08-08T20:48:42.863Z"
   },
   {
    "duration": 19,
    "start_time": "2022-08-08T20:50:52.216Z"
   },
   {
    "duration": 9,
    "start_time": "2022-08-08T20:52:22.671Z"
   },
   {
    "duration": 13,
    "start_time": "2022-08-08T20:52:31.857Z"
   },
   {
    "duration": 12,
    "start_time": "2022-08-08T20:53:13.023Z"
   },
   {
    "duration": 13,
    "start_time": "2022-08-08T20:54:16.663Z"
   },
   {
    "duration": 19,
    "start_time": "2022-08-08T20:54:47.307Z"
   },
   {
    "duration": 11,
    "start_time": "2022-08-08T20:55:13.571Z"
   },
   {
    "duration": 9,
    "start_time": "2022-08-08T20:55:22.730Z"
   },
   {
    "duration": 14,
    "start_time": "2022-08-08T20:55:41.026Z"
   },
   {
    "duration": 12,
    "start_time": "2022-08-08T20:55:56.573Z"
   },
   {
    "duration": 13,
    "start_time": "2022-08-08T20:56:13.949Z"
   },
   {
    "duration": 93,
    "start_time": "2022-08-08T20:56:59.980Z"
   },
   {
    "duration": 13,
    "start_time": "2022-08-08T20:57:05.854Z"
   },
   {
    "duration": 91,
    "start_time": "2022-08-08T20:57:34.095Z"
   },
   {
    "duration": 13,
    "start_time": "2022-08-08T20:57:39.477Z"
   },
   {
    "duration": 88,
    "start_time": "2022-08-08T20:58:06.730Z"
   },
   {
    "duration": 13,
    "start_time": "2022-08-08T20:58:10.673Z"
   },
   {
    "duration": 84,
    "start_time": "2022-08-08T21:01:56.274Z"
   },
   {
    "duration": 138,
    "start_time": "2022-08-08T21:01:59.616Z"
   },
   {
    "duration": 97,
    "start_time": "2022-08-08T21:02:04.957Z"
   },
   {
    "duration": 96,
    "start_time": "2022-08-08T21:02:16.889Z"
   },
   {
    "duration": 104,
    "start_time": "2022-08-08T21:03:28.707Z"
   },
   {
    "duration": 107,
    "start_time": "2022-08-08T21:03:46.637Z"
   },
   {
    "duration": 110,
    "start_time": "2022-08-08T21:03:51.831Z"
   },
   {
    "duration": 106,
    "start_time": "2022-08-08T21:03:55.144Z"
   },
   {
    "duration": 105,
    "start_time": "2022-08-08T21:04:12.412Z"
   },
   {
    "duration": 174,
    "start_time": "2022-08-08T21:04:19.816Z"
   },
   {
    "duration": 108,
    "start_time": "2022-08-08T21:04:29.434Z"
   },
   {
    "duration": 124,
    "start_time": "2022-08-08T21:04:48.770Z"
   },
   {
    "duration": 111,
    "start_time": "2022-08-08T21:04:51.714Z"
   },
   {
    "duration": 1056,
    "start_time": "2022-08-08T21:05:00.936Z"
   },
   {
    "duration": 62,
    "start_time": "2022-08-08T21:05:01.993Z"
   },
   {
    "duration": 12,
    "start_time": "2022-08-08T21:05:02.056Z"
   },
   {
    "duration": 627,
    "start_time": "2022-08-08T21:05:02.069Z"
   },
   {
    "duration": 3,
    "start_time": "2022-08-08T21:05:02.697Z"
   },
   {
    "duration": 24,
    "start_time": "2022-08-08T21:05:02.701Z"
   },
   {
    "duration": 14,
    "start_time": "2022-08-08T21:05:02.726Z"
   },
   {
    "duration": 6,
    "start_time": "2022-08-08T21:05:02.741Z"
   },
   {
    "duration": 7,
    "start_time": "2022-08-08T21:05:02.748Z"
   },
   {
    "duration": 14,
    "start_time": "2022-08-08T21:05:02.758Z"
   },
   {
    "duration": 4,
    "start_time": "2022-08-08T21:05:02.773Z"
   },
   {
    "duration": 11,
    "start_time": "2022-08-08T21:05:02.778Z"
   },
   {
    "duration": 4,
    "start_time": "2022-08-08T21:05:02.790Z"
   },
   {
    "duration": 7,
    "start_time": "2022-08-08T21:05:02.795Z"
   },
   {
    "duration": 10,
    "start_time": "2022-08-08T21:05:02.803Z"
   },
   {
    "duration": 32,
    "start_time": "2022-08-08T21:05:02.814Z"
   },
   {
    "duration": 14,
    "start_time": "2022-08-08T21:05:02.847Z"
   },
   {
    "duration": 6,
    "start_time": "2022-08-08T21:05:02.862Z"
   },
   {
    "duration": 184,
    "start_time": "2022-08-08T21:05:02.869Z"
   },
   {
    "duration": 5,
    "start_time": "2022-08-08T21:05:03.054Z"
   },
   {
    "duration": 13,
    "start_time": "2022-08-08T21:05:03.060Z"
   },
   {
    "duration": 211,
    "start_time": "2022-08-08T21:05:03.074Z"
   },
   {
    "duration": 15,
    "start_time": "2022-08-08T21:05:03.287Z"
   },
   {
    "duration": 819,
    "start_time": "2022-08-08T21:05:03.304Z"
   },
   {
    "duration": 13,
    "start_time": "2022-08-08T21:05:04.125Z"
   },
   {
    "duration": 282,
    "start_time": "2022-08-08T21:05:04.139Z"
   },
   {
    "duration": 31,
    "start_time": "2022-08-08T21:05:04.424Z"
   },
   {
    "duration": 114,
    "start_time": "2022-08-08T21:05:04.459Z"
   },
   {
    "duration": 13,
    "start_time": "2022-08-08T21:05:04.574Z"
   },
   {
    "duration": 15,
    "start_time": "2022-08-08T21:05:04.589Z"
   },
   {
    "duration": 144,
    "start_time": "2022-08-08T21:05:04.605Z"
   },
   {
    "duration": 13,
    "start_time": "2022-08-08T21:05:04.751Z"
   },
   {
    "duration": 120,
    "start_time": "2022-08-08T21:05:04.765Z"
   },
   {
    "duration": 12,
    "start_time": "2022-08-08T21:05:04.887Z"
   },
   {
    "duration": 8,
    "start_time": "2022-08-08T21:05:04.900Z"
   },
   {
    "duration": 372,
    "start_time": "2022-08-08T21:05:04.910Z"
   },
   {
    "duration": 7,
    "start_time": "2022-08-08T21:05:05.283Z"
   },
   {
    "duration": 7,
    "start_time": "2022-08-08T21:05:05.291Z"
   },
   {
    "duration": 374,
    "start_time": "2022-08-08T21:05:05.299Z"
   },
   {
    "duration": 8,
    "start_time": "2022-08-08T21:05:05.674Z"
   },
   {
    "duration": 14,
    "start_time": "2022-08-08T21:05:05.683Z"
   },
   {
    "duration": 349,
    "start_time": "2022-08-08T21:05:05.699Z"
   },
   {
    "duration": 6,
    "start_time": "2022-08-08T21:05:06.049Z"
   },
   {
    "duration": 13,
    "start_time": "2022-08-08T21:05:06.057Z"
   },
   {
    "duration": 12,
    "start_time": "2022-08-08T21:05:06.071Z"
   },
   {
    "duration": 17,
    "start_time": "2022-08-08T21:05:06.084Z"
   },
   {
    "duration": 20,
    "start_time": "2022-08-08T21:05:06.103Z"
   },
   {
    "duration": 21,
    "start_time": "2022-08-08T21:05:06.124Z"
   },
   {
    "duration": 18,
    "start_time": "2022-08-08T21:05:06.147Z"
   },
   {
    "duration": 22,
    "start_time": "2022-08-08T21:05:06.166Z"
   },
   {
    "duration": 23,
    "start_time": "2022-08-08T21:05:06.190Z"
   },
   {
    "duration": 16,
    "start_time": "2022-08-08T21:05:06.215Z"
   },
   {
    "duration": 11,
    "start_time": "2022-08-08T21:05:06.232Z"
   },
   {
    "duration": 30,
    "start_time": "2022-08-08T21:05:06.245Z"
   },
   {
    "duration": 19,
    "start_time": "2022-08-08T21:05:06.276Z"
   },
   {
    "duration": 227,
    "start_time": "2022-08-08T21:06:00.071Z"
   },
   {
    "duration": 124,
    "start_time": "2022-08-08T21:06:08.696Z"
   },
   {
    "duration": 8,
    "start_time": "2022-08-08T21:09:12.574Z"
   },
   {
    "duration": 11,
    "start_time": "2022-08-08T21:09:20.192Z"
   },
   {
    "duration": 9,
    "start_time": "2022-08-08T21:09:34.568Z"
   },
   {
    "duration": 10,
    "start_time": "2022-08-08T21:13:35.379Z"
   },
   {
    "duration": 16,
    "start_time": "2022-08-08T21:13:49.114Z"
   },
   {
    "duration": 14,
    "start_time": "2022-08-08T21:14:28.711Z"
   },
   {
    "duration": 383,
    "start_time": "2022-08-08T21:15:12.852Z"
   },
   {
    "duration": 322,
    "start_time": "2022-08-08T21:15:26.598Z"
   },
   {
    "duration": 29,
    "start_time": "2022-08-08T21:16:32.906Z"
   },
   {
    "duration": 30,
    "start_time": "2022-08-08T21:16:50.770Z"
   },
   {
    "duration": 88,
    "start_time": "2022-08-08T21:16:55.289Z"
   },
   {
    "duration": 160,
    "start_time": "2022-08-08T21:37:18.816Z"
   },
   {
    "duration": 114,
    "start_time": "2022-08-08T21:37:26.470Z"
   },
   {
    "duration": 89,
    "start_time": "2022-08-08T21:37:42.853Z"
   },
   {
    "duration": 103,
    "start_time": "2022-08-08T21:38:56.890Z"
   },
   {
    "duration": 131,
    "start_time": "2022-08-08T21:39:37.839Z"
   },
   {
    "duration": 3,
    "start_time": "2022-08-08T21:40:09.704Z"
   },
   {
    "duration": 109,
    "start_time": "2022-08-08T21:40:16.336Z"
   },
   {
    "duration": 113,
    "start_time": "2022-08-08T21:40:27.850Z"
   },
   {
    "duration": 103,
    "start_time": "2022-08-08T21:40:32.965Z"
   },
   {
    "duration": 107,
    "start_time": "2022-08-08T21:40:36.769Z"
   },
   {
    "duration": 3,
    "start_time": "2022-08-08T21:40:44.567Z"
   },
   {
    "duration": 174,
    "start_time": "2022-08-08T21:41:40.639Z"
   },
   {
    "duration": 107,
    "start_time": "2022-08-08T21:41:46.349Z"
   },
   {
    "duration": 92,
    "start_time": "2022-08-08T21:41:51.787Z"
   },
   {
    "duration": 110,
    "start_time": "2022-08-08T21:42:05.750Z"
   },
   {
    "duration": 107,
    "start_time": "2022-08-08T21:42:12.098Z"
   },
   {
    "duration": 91,
    "start_time": "2022-08-08T21:42:16.349Z"
   },
   {
    "duration": 134,
    "start_time": "2022-08-08T21:42:38.823Z"
   },
   {
    "duration": 92,
    "start_time": "2022-08-08T21:42:58.216Z"
   },
   {
    "duration": 90,
    "start_time": "2022-08-08T21:43:02.094Z"
   },
   {
    "duration": 99,
    "start_time": "2022-08-08T21:43:09.940Z"
   },
   {
    "duration": 101,
    "start_time": "2022-08-08T21:43:45.978Z"
   },
   {
    "duration": 98,
    "start_time": "2022-08-08T21:43:49.703Z"
   },
   {
    "duration": 218,
    "start_time": "2022-08-08T21:44:05.877Z"
   },
   {
    "duration": 105,
    "start_time": "2022-08-08T21:44:21.906Z"
   },
   {
    "duration": 100,
    "start_time": "2022-08-08T21:44:29.168Z"
   },
   {
    "duration": 90,
    "start_time": "2022-08-08T21:44:38.176Z"
   },
   {
    "duration": 109,
    "start_time": "2022-08-08T21:44:44.192Z"
   },
   {
    "duration": 195,
    "start_time": "2022-08-08T21:45:09.621Z"
   },
   {
    "duration": 110,
    "start_time": "2022-08-08T21:45:27.052Z"
   },
   {
    "duration": 108,
    "start_time": "2022-08-08T21:45:35.317Z"
   },
   {
    "duration": 106,
    "start_time": "2022-08-08T21:45:42.108Z"
   },
   {
    "duration": 112,
    "start_time": "2022-08-08T21:45:50.360Z"
   },
   {
    "duration": 123,
    "start_time": "2022-08-08T21:46:08.957Z"
   },
   {
    "duration": 57,
    "start_time": "2022-08-08T21:48:25.880Z"
   },
   {
    "duration": 85,
    "start_time": "2022-08-08T21:49:15.986Z"
   },
   {
    "duration": 48,
    "start_time": "2022-08-08T21:50:28.972Z"
   },
   {
    "duration": 22,
    "start_time": "2022-08-08T21:52:03.443Z"
   },
   {
    "duration": 9,
    "start_time": "2022-08-08T21:53:15.516Z"
   },
   {
    "duration": 5,
    "start_time": "2022-08-08T21:53:21.414Z"
   },
   {
    "duration": 7,
    "start_time": "2022-08-08T21:53:39.711Z"
   },
   {
    "duration": 132,
    "start_time": "2022-08-08T21:53:45.617Z"
   },
   {
    "duration": 29,
    "start_time": "2022-08-08T21:54:42.792Z"
   },
   {
    "duration": 28,
    "start_time": "2022-08-08T21:54:59.783Z"
   },
   {
    "duration": 12,
    "start_time": "2022-08-08T21:55:48.094Z"
   },
   {
    "duration": 16,
    "start_time": "2022-08-08T21:55:55.678Z"
   },
   {
    "duration": 23,
    "start_time": "2022-08-08T21:56:06.892Z"
   },
   {
    "duration": 58,
    "start_time": "2022-08-08T22:08:46.151Z"
   },
   {
    "duration": 50,
    "start_time": "2022-08-08T22:12:09.336Z"
   },
   {
    "duration": 13,
    "start_time": "2022-08-08T22:12:24.672Z"
   },
   {
    "duration": 15,
    "start_time": "2022-08-08T22:12:30.672Z"
   },
   {
    "duration": 10,
    "start_time": "2022-08-08T22:12:37.616Z"
   },
   {
    "duration": 11,
    "start_time": "2022-08-08T22:12:46.194Z"
   },
   {
    "duration": 10,
    "start_time": "2022-08-08T22:12:53.843Z"
   },
   {
    "duration": 10,
    "start_time": "2022-08-08T22:13:29.266Z"
   },
   {
    "duration": 18,
    "start_time": "2022-08-08T22:13:33.878Z"
   },
   {
    "duration": 9,
    "start_time": "2022-08-08T22:13:42.470Z"
   },
   {
    "duration": 11,
    "start_time": "2022-08-08T22:14:00.134Z"
   },
   {
    "duration": 11,
    "start_time": "2022-08-08T22:14:05.486Z"
   },
   {
    "duration": 68,
    "start_time": "2022-08-08T22:14:31.123Z"
   },
   {
    "duration": 45,
    "start_time": "2022-08-08T22:17:10.404Z"
   },
   {
    "duration": 19,
    "start_time": "2022-08-08T22:17:15.141Z"
   },
   {
    "duration": 29,
    "start_time": "2022-08-08T22:19:42.633Z"
   },
   {
    "duration": 32,
    "start_time": "2022-08-08T22:20:05.345Z"
   },
   {
    "duration": 14,
    "start_time": "2022-08-08T22:20:34.439Z"
   },
   {
    "duration": 22,
    "start_time": "2022-08-08T22:20:43.095Z"
   },
   {
    "duration": 18,
    "start_time": "2022-08-08T22:23:35.324Z"
   },
   {
    "duration": 25,
    "start_time": "2022-08-08T22:23:54.349Z"
   },
   {
    "duration": 21,
    "start_time": "2022-08-08T22:27:26.646Z"
   },
   {
    "duration": 21,
    "start_time": "2022-08-08T22:27:31.456Z"
   },
   {
    "duration": 22,
    "start_time": "2022-08-08T22:27:45.844Z"
   },
   {
    "duration": 24,
    "start_time": "2022-08-08T22:27:56.454Z"
   },
   {
    "duration": 57,
    "start_time": "2022-08-08T22:31:12.399Z"
   },
   {
    "duration": 7,
    "start_time": "2022-08-08T22:33:25.292Z"
   },
   {
    "duration": 12,
    "start_time": "2022-08-08T22:33:33.975Z"
   },
   {
    "duration": 11,
    "start_time": "2022-08-08T22:33:40.757Z"
   },
   {
    "duration": 140,
    "start_time": "2022-08-08T22:34:31.576Z"
   },
   {
    "duration": 50,
    "start_time": "2022-08-08T22:34:57.119Z"
   },
   {
    "duration": 8,
    "start_time": "2022-08-08T22:35:28.170Z"
   },
   {
    "duration": 12,
    "start_time": "2022-08-08T22:35:35.234Z"
   },
   {
    "duration": 143,
    "start_time": "2022-08-08T22:36:03.828Z"
   },
   {
    "duration": 6,
    "start_time": "2022-08-08T22:37:56.440Z"
   },
   {
    "duration": 139,
    "start_time": "2022-08-08T22:38:35.098Z"
   },
   {
    "duration": 141,
    "start_time": "2022-08-08T22:38:58.660Z"
   },
   {
    "duration": 131,
    "start_time": "2022-08-08T22:39:56.279Z"
   },
   {
    "duration": 166,
    "start_time": "2022-08-08T22:41:48.858Z"
   },
   {
    "duration": 130,
    "start_time": "2022-08-08T22:42:03.156Z"
   },
   {
    "duration": 1069,
    "start_time": "2022-08-08T22:42:08.623Z"
   },
   {
    "duration": 62,
    "start_time": "2022-08-08T22:42:09.694Z"
   },
   {
    "duration": 13,
    "start_time": "2022-08-08T22:42:09.757Z"
   },
   {
    "duration": 645,
    "start_time": "2022-08-08T22:42:09.771Z"
   },
   {
    "duration": 3,
    "start_time": "2022-08-08T22:42:10.418Z"
   },
   {
    "duration": 21,
    "start_time": "2022-08-08T22:42:10.423Z"
   },
   {
    "duration": 8,
    "start_time": "2022-08-08T22:42:10.446Z"
   },
   {
    "duration": 8,
    "start_time": "2022-08-08T22:42:10.455Z"
   },
   {
    "duration": 8,
    "start_time": "2022-08-08T22:42:10.464Z"
   },
   {
    "duration": 12,
    "start_time": "2022-08-08T22:42:10.473Z"
   },
   {
    "duration": 7,
    "start_time": "2022-08-08T22:42:10.486Z"
   },
   {
    "duration": 8,
    "start_time": "2022-08-08T22:42:10.494Z"
   },
   {
    "duration": 35,
    "start_time": "2022-08-08T22:42:10.504Z"
   },
   {
    "duration": 4,
    "start_time": "2022-08-08T22:42:10.541Z"
   },
   {
    "duration": 6,
    "start_time": "2022-08-08T22:42:10.546Z"
   },
   {
    "duration": 11,
    "start_time": "2022-08-08T22:42:10.553Z"
   },
   {
    "duration": 12,
    "start_time": "2022-08-08T22:42:10.566Z"
   },
   {
    "duration": 5,
    "start_time": "2022-08-08T22:42:10.580Z"
   },
   {
    "duration": 198,
    "start_time": "2022-08-08T22:42:10.586Z"
   },
   {
    "duration": 4,
    "start_time": "2022-08-08T22:42:10.786Z"
   },
   {
    "duration": 15,
    "start_time": "2022-08-08T22:42:10.792Z"
   },
   {
    "duration": 211,
    "start_time": "2022-08-08T22:42:10.808Z"
   },
   {
    "duration": 28,
    "start_time": "2022-08-08T22:42:11.021Z"
   },
   {
    "duration": 805,
    "start_time": "2022-08-08T22:42:11.050Z"
   },
   {
    "duration": 5,
    "start_time": "2022-08-08T22:42:11.856Z"
   },
   {
    "duration": 253,
    "start_time": "2022-08-08T22:42:11.863Z"
   },
   {
    "duration": 30,
    "start_time": "2022-08-08T22:42:12.117Z"
   },
   {
    "duration": 104,
    "start_time": "2022-08-08T22:42:12.148Z"
   },
   {
    "duration": 11,
    "start_time": "2022-08-08T22:42:12.253Z"
   },
   {
    "duration": 11,
    "start_time": "2022-08-08T22:42:12.265Z"
   },
   {
    "duration": 128,
    "start_time": "2022-08-08T22:42:12.278Z"
   },
   {
    "duration": 12,
    "start_time": "2022-08-08T22:42:12.408Z"
   },
   {
    "duration": 116,
    "start_time": "2022-08-08T22:42:12.422Z"
   },
   {
    "duration": 11,
    "start_time": "2022-08-08T22:42:12.540Z"
   },
   {
    "duration": 20,
    "start_time": "2022-08-08T22:42:12.553Z"
   },
   {
    "duration": 357,
    "start_time": "2022-08-08T22:42:12.575Z"
   },
   {
    "duration": 9,
    "start_time": "2022-08-08T22:42:12.933Z"
   },
   {
    "duration": 5,
    "start_time": "2022-08-08T22:42:12.944Z"
   },
   {
    "duration": 376,
    "start_time": "2022-08-08T22:42:12.950Z"
   },
   {
    "duration": 14,
    "start_time": "2022-08-08T22:42:13.328Z"
   },
   {
    "duration": 16,
    "start_time": "2022-08-08T22:42:13.346Z"
   },
   {
    "duration": 365,
    "start_time": "2022-08-08T22:42:13.363Z"
   },
   {
    "duration": 14,
    "start_time": "2022-08-08T22:42:13.729Z"
   },
   {
    "duration": 25,
    "start_time": "2022-08-08T22:42:13.744Z"
   },
   {
    "duration": 52,
    "start_time": "2022-08-08T22:42:13.771Z"
   },
   {
    "duration": 15,
    "start_time": "2022-08-08T22:42:13.825Z"
   },
   {
    "duration": 142,
    "start_time": "2022-08-08T22:42:13.842Z"
   },
   {
    "duration": 10,
    "start_time": "2022-08-08T22:42:13.986Z"
   },
   {
    "duration": 147,
    "start_time": "2022-08-08T22:42:13.997Z"
   },
   {
    "duration": 6,
    "start_time": "2022-08-08T22:42:14.145Z"
   },
   {
    "duration": 233,
    "start_time": "2022-08-08T22:42:14.153Z"
   },
   {
    "duration": 0,
    "start_time": "2022-08-08T22:42:14.388Z"
   },
   {
    "duration": 0,
    "start_time": "2022-08-08T22:42:14.389Z"
   },
   {
    "duration": 0,
    "start_time": "2022-08-08T22:42:14.390Z"
   },
   {
    "duration": 0,
    "start_time": "2022-08-08T22:42:14.391Z"
   },
   {
    "duration": 0,
    "start_time": "2022-08-08T22:42:14.392Z"
   },
   {
    "duration": 0,
    "start_time": "2022-08-08T22:42:14.393Z"
   },
   {
    "duration": 0,
    "start_time": "2022-08-08T22:42:14.394Z"
   },
   {
    "duration": 0,
    "start_time": "2022-08-08T22:42:14.395Z"
   },
   {
    "duration": 148,
    "start_time": "2022-08-08T22:42:40.896Z"
   },
   {
    "duration": 201,
    "start_time": "2022-08-08T22:42:48.384Z"
   },
   {
    "duration": 12,
    "start_time": "2022-08-08T22:43:30.823Z"
   },
   {
    "duration": 137,
    "start_time": "2022-08-08T22:43:44.981Z"
   },
   {
    "duration": 12,
    "start_time": "2022-08-08T22:44:03.049Z"
   },
   {
    "duration": 124,
    "start_time": "2022-08-08T22:44:03.683Z"
   },
   {
    "duration": 1022,
    "start_time": "2022-08-08T22:44:08.869Z"
   },
   {
    "duration": 61,
    "start_time": "2022-08-08T22:44:09.893Z"
   },
   {
    "duration": 13,
    "start_time": "2022-08-08T22:44:09.956Z"
   },
   {
    "duration": 656,
    "start_time": "2022-08-08T22:44:09.971Z"
   },
   {
    "duration": 9,
    "start_time": "2022-08-08T22:44:10.629Z"
   },
   {
    "duration": 15,
    "start_time": "2022-08-08T22:44:10.640Z"
   },
   {
    "duration": 8,
    "start_time": "2022-08-08T22:44:10.656Z"
   },
   {
    "duration": 7,
    "start_time": "2022-08-08T22:44:10.666Z"
   },
   {
    "duration": 8,
    "start_time": "2022-08-08T22:44:10.674Z"
   },
   {
    "duration": 12,
    "start_time": "2022-08-08T22:44:10.684Z"
   },
   {
    "duration": 7,
    "start_time": "2022-08-08T22:44:10.698Z"
   },
   {
    "duration": 37,
    "start_time": "2022-08-08T22:44:10.706Z"
   },
   {
    "duration": 4,
    "start_time": "2022-08-08T22:44:10.744Z"
   },
   {
    "duration": 11,
    "start_time": "2022-08-08T22:44:10.749Z"
   },
   {
    "duration": 10,
    "start_time": "2022-08-08T22:44:10.761Z"
   },
   {
    "duration": 13,
    "start_time": "2022-08-08T22:44:10.772Z"
   },
   {
    "duration": 13,
    "start_time": "2022-08-08T22:44:10.787Z"
   },
   {
    "duration": 12,
    "start_time": "2022-08-08T22:44:10.802Z"
   },
   {
    "duration": 179,
    "start_time": "2022-08-08T22:44:10.816Z"
   },
   {
    "duration": 4,
    "start_time": "2022-08-08T22:44:10.997Z"
   },
   {
    "duration": 14,
    "start_time": "2022-08-08T22:44:11.002Z"
   },
   {
    "duration": 211,
    "start_time": "2022-08-08T22:44:11.018Z"
   },
   {
    "duration": 23,
    "start_time": "2022-08-08T22:44:11.230Z"
   },
   {
    "duration": 809,
    "start_time": "2022-08-08T22:44:11.255Z"
   },
   {
    "duration": 6,
    "start_time": "2022-08-08T22:44:12.066Z"
   },
   {
    "duration": 257,
    "start_time": "2022-08-08T22:44:12.074Z"
   },
   {
    "duration": 23,
    "start_time": "2022-08-08T22:44:12.333Z"
   },
   {
    "duration": 117,
    "start_time": "2022-08-08T22:44:12.360Z"
   },
   {
    "duration": 12,
    "start_time": "2022-08-08T22:44:12.479Z"
   },
   {
    "duration": 12,
    "start_time": "2022-08-08T22:44:12.493Z"
   },
   {
    "duration": 119,
    "start_time": "2022-08-08T22:44:12.506Z"
   },
   {
    "duration": 20,
    "start_time": "2022-08-08T22:44:12.627Z"
   },
   {
    "duration": 114,
    "start_time": "2022-08-08T22:44:12.649Z"
   },
   {
    "duration": 12,
    "start_time": "2022-08-08T22:44:12.765Z"
   },
   {
    "duration": 9,
    "start_time": "2022-08-08T22:44:12.778Z"
   },
   {
    "duration": 358,
    "start_time": "2022-08-08T22:44:12.788Z"
   },
   {
    "duration": 6,
    "start_time": "2022-08-08T22:44:13.147Z"
   },
   {
    "duration": 7,
    "start_time": "2022-08-08T22:44:13.154Z"
   },
   {
    "duration": 345,
    "start_time": "2022-08-08T22:44:13.162Z"
   },
   {
    "duration": 6,
    "start_time": "2022-08-08T22:44:13.508Z"
   },
   {
    "duration": 7,
    "start_time": "2022-08-08T22:44:13.515Z"
   },
   {
    "duration": 342,
    "start_time": "2022-08-08T22:44:13.523Z"
   },
   {
    "duration": 6,
    "start_time": "2022-08-08T22:44:13.866Z"
   },
   {
    "duration": 12,
    "start_time": "2022-08-08T22:44:13.873Z"
   },
   {
    "duration": 27,
    "start_time": "2022-08-08T22:44:13.886Z"
   },
   {
    "duration": 25,
    "start_time": "2022-08-08T22:44:13.914Z"
   },
   {
    "duration": 143,
    "start_time": "2022-08-08T22:44:13.940Z"
   },
   {
    "duration": 9,
    "start_time": "2022-08-08T22:44:14.085Z"
   },
   {
    "duration": 144,
    "start_time": "2022-08-08T22:44:14.096Z"
   },
   {
    "duration": 11,
    "start_time": "2022-08-08T22:44:14.241Z"
   },
   {
    "duration": 144,
    "start_time": "2022-08-08T22:44:14.253Z"
   },
   {
    "duration": 11,
    "start_time": "2022-08-08T22:44:14.399Z"
   },
   {
    "duration": 10,
    "start_time": "2022-08-08T22:44:14.412Z"
   },
   {
    "duration": 5,
    "start_time": "2022-08-08T22:44:14.439Z"
   },
   {
    "duration": 16,
    "start_time": "2022-08-08T22:44:14.446Z"
   },
   {
    "duration": 10,
    "start_time": "2022-08-08T22:44:14.464Z"
   },
   {
    "duration": 6,
    "start_time": "2022-08-08T22:44:14.475Z"
   },
   {
    "duration": 11,
    "start_time": "2022-08-08T22:44:14.483Z"
   },
   {
    "duration": 10,
    "start_time": "2022-08-08T22:44:14.495Z"
   },
   {
    "duration": 10,
    "start_time": "2022-08-08T22:45:27.867Z"
   },
   {
    "duration": 217,
    "start_time": "2022-08-08T22:45:46.453Z"
   },
   {
    "duration": 221,
    "start_time": "2022-08-08T22:45:49.471Z"
   },
   {
    "duration": 10,
    "start_time": "2022-08-08T22:46:09.585Z"
   },
   {
    "duration": 130,
    "start_time": "2022-08-08T22:46:59.147Z"
   },
   {
    "duration": 146,
    "start_time": "2022-08-08T22:47:19.665Z"
   },
   {
    "duration": 8,
    "start_time": "2022-08-08T22:47:44.328Z"
   },
   {
    "duration": 10,
    "start_time": "2022-08-08T22:49:25.983Z"
   },
   {
    "duration": 136,
    "start_time": "2022-08-08T22:50:00.916Z"
   },
   {
    "duration": 133,
    "start_time": "2022-08-08T22:50:10.405Z"
   },
   {
    "duration": 140,
    "start_time": "2022-08-08T22:50:14.631Z"
   },
   {
    "duration": 11,
    "start_time": "2022-08-08T22:50:43.913Z"
   },
   {
    "duration": 134,
    "start_time": "2022-08-08T22:51:36.561Z"
   },
   {
    "duration": 132,
    "start_time": "2022-08-08T22:51:50.308Z"
   },
   {
    "duration": 12,
    "start_time": "2022-08-08T22:52:10.875Z"
   },
   {
    "duration": 137,
    "start_time": "2022-08-08T22:52:37.880Z"
   },
   {
    "duration": 10,
    "start_time": "2022-08-08T22:53:17.789Z"
   },
   {
    "duration": 125,
    "start_time": "2022-08-08T22:53:53.423Z"
   },
   {
    "duration": 14,
    "start_time": "2022-08-08T23:02:15.040Z"
   },
   {
    "duration": 11,
    "start_time": "2022-08-08T23:02:24.867Z"
   },
   {
    "duration": 388,
    "start_time": "2022-08-08T23:05:48.569Z"
   },
   {
    "duration": 469,
    "start_time": "2022-08-08T23:06:00.445Z"
   },
   {
    "duration": 432,
    "start_time": "2022-08-08T23:06:36.758Z"
   },
   {
    "duration": 379,
    "start_time": "2022-08-08T23:07:14.359Z"
   },
   {
    "duration": 405,
    "start_time": "2022-08-08T23:07:23.484Z"
   },
   {
    "duration": 382,
    "start_time": "2022-08-08T23:07:29.176Z"
   },
   {
    "duration": 578,
    "start_time": "2022-08-08T23:07:39.813Z"
   },
   {
    "duration": 190,
    "start_time": "2022-08-08T23:08:06.267Z"
   },
   {
    "duration": 233,
    "start_time": "2022-08-08T23:08:23.899Z"
   },
   {
    "duration": 405,
    "start_time": "2022-08-08T23:08:40.476Z"
   },
   {
    "duration": 316,
    "start_time": "2022-08-08T23:10:31.190Z"
   },
   {
    "duration": 310,
    "start_time": "2022-08-08T23:10:37.816Z"
   },
   {
    "duration": 401,
    "start_time": "2022-08-08T23:11:56.864Z"
   },
   {
    "duration": 305,
    "start_time": "2022-08-08T23:12:39.059Z"
   },
   {
    "duration": 193,
    "start_time": "2022-08-08T23:16:31.142Z"
   },
   {
    "duration": 212,
    "start_time": "2022-08-08T23:16:38.834Z"
   },
   {
    "duration": 7,
    "start_time": "2022-08-08T23:17:22.386Z"
   },
   {
    "duration": 5,
    "start_time": "2022-08-08T23:19:04.121Z"
   },
   {
    "duration": 1033,
    "start_time": "2022-08-08T23:19:10.377Z"
   },
   {
    "duration": 63,
    "start_time": "2022-08-08T23:19:11.412Z"
   },
   {
    "duration": 13,
    "start_time": "2022-08-08T23:19:11.477Z"
   },
   {
    "duration": 720,
    "start_time": "2022-08-08T23:19:11.492Z"
   },
   {
    "duration": 3,
    "start_time": "2022-08-08T23:19:12.214Z"
   },
   {
    "duration": 28,
    "start_time": "2022-08-08T23:19:12.218Z"
   },
   {
    "duration": 9,
    "start_time": "2022-08-08T23:19:12.247Z"
   },
   {
    "duration": 14,
    "start_time": "2022-08-08T23:19:12.257Z"
   },
   {
    "duration": 6,
    "start_time": "2022-08-08T23:19:12.273Z"
   },
   {
    "duration": 15,
    "start_time": "2022-08-08T23:19:12.282Z"
   },
   {
    "duration": 5,
    "start_time": "2022-08-08T23:19:12.298Z"
   },
   {
    "duration": 36,
    "start_time": "2022-08-08T23:19:12.304Z"
   },
   {
    "duration": 102,
    "start_time": "2022-08-08T23:19:12.341Z"
   },
   {
    "duration": 0,
    "start_time": "2022-08-08T23:19:12.445Z"
   },
   {
    "duration": 0,
    "start_time": "2022-08-08T23:19:12.446Z"
   },
   {
    "duration": 0,
    "start_time": "2022-08-08T23:19:12.447Z"
   },
   {
    "duration": 0,
    "start_time": "2022-08-08T23:19:12.448Z"
   },
   {
    "duration": 0,
    "start_time": "2022-08-08T23:19:12.449Z"
   },
   {
    "duration": 0,
    "start_time": "2022-08-08T23:19:12.450Z"
   },
   {
    "duration": 0,
    "start_time": "2022-08-08T23:19:12.451Z"
   },
   {
    "duration": 0,
    "start_time": "2022-08-08T23:19:12.452Z"
   },
   {
    "duration": 0,
    "start_time": "2022-08-08T23:19:12.453Z"
   },
   {
    "duration": 0,
    "start_time": "2022-08-08T23:19:12.454Z"
   },
   {
    "duration": 0,
    "start_time": "2022-08-08T23:19:12.455Z"
   },
   {
    "duration": 0,
    "start_time": "2022-08-08T23:19:12.455Z"
   },
   {
    "duration": 0,
    "start_time": "2022-08-08T23:19:12.456Z"
   },
   {
    "duration": 0,
    "start_time": "2022-08-08T23:19:12.457Z"
   },
   {
    "duration": 0,
    "start_time": "2022-08-08T23:19:12.458Z"
   },
   {
    "duration": 0,
    "start_time": "2022-08-08T23:19:12.459Z"
   },
   {
    "duration": 0,
    "start_time": "2022-08-08T23:19:12.460Z"
   },
   {
    "duration": 0,
    "start_time": "2022-08-08T23:19:12.461Z"
   },
   {
    "duration": 0,
    "start_time": "2022-08-08T23:19:12.462Z"
   },
   {
    "duration": 0,
    "start_time": "2022-08-08T23:19:12.462Z"
   },
   {
    "duration": 0,
    "start_time": "2022-08-08T23:19:12.463Z"
   },
   {
    "duration": 0,
    "start_time": "2022-08-08T23:19:12.464Z"
   },
   {
    "duration": 0,
    "start_time": "2022-08-08T23:19:12.465Z"
   },
   {
    "duration": 0,
    "start_time": "2022-08-08T23:19:12.466Z"
   },
   {
    "duration": 0,
    "start_time": "2022-08-08T23:19:12.467Z"
   },
   {
    "duration": 0,
    "start_time": "2022-08-08T23:19:12.468Z"
   },
   {
    "duration": 0,
    "start_time": "2022-08-08T23:19:12.469Z"
   },
   {
    "duration": 0,
    "start_time": "2022-08-08T23:19:12.470Z"
   },
   {
    "duration": 0,
    "start_time": "2022-08-08T23:19:12.470Z"
   },
   {
    "duration": 0,
    "start_time": "2022-08-08T23:19:12.471Z"
   },
   {
    "duration": 0,
    "start_time": "2022-08-08T23:19:12.472Z"
   },
   {
    "duration": 0,
    "start_time": "2022-08-08T23:19:12.473Z"
   },
   {
    "duration": 0,
    "start_time": "2022-08-08T23:19:12.474Z"
   },
   {
    "duration": 0,
    "start_time": "2022-08-08T23:19:12.474Z"
   },
   {
    "duration": 0,
    "start_time": "2022-08-08T23:19:12.476Z"
   },
   {
    "duration": 0,
    "start_time": "2022-08-08T23:19:12.476Z"
   },
   {
    "duration": 0,
    "start_time": "2022-08-08T23:19:12.478Z"
   },
   {
    "duration": 0,
    "start_time": "2022-08-08T23:19:12.479Z"
   },
   {
    "duration": 0,
    "start_time": "2022-08-08T23:19:12.538Z"
   },
   {
    "duration": 0,
    "start_time": "2022-08-08T23:19:12.540Z"
   },
   {
    "duration": 0,
    "start_time": "2022-08-08T23:19:12.540Z"
   },
   {
    "duration": 0,
    "start_time": "2022-08-08T23:19:12.541Z"
   },
   {
    "duration": 0,
    "start_time": "2022-08-08T23:19:12.542Z"
   },
   {
    "duration": 0,
    "start_time": "2022-08-08T23:19:12.543Z"
   },
   {
    "duration": 0,
    "start_time": "2022-08-08T23:19:12.544Z"
   },
   {
    "duration": 0,
    "start_time": "2022-08-08T23:19:12.545Z"
   },
   {
    "duration": 110,
    "start_time": "2022-08-08T23:19:37.283Z"
   },
   {
    "duration": 1044,
    "start_time": "2022-08-08T23:19:44.393Z"
   },
   {
    "duration": 62,
    "start_time": "2022-08-08T23:19:45.439Z"
   },
   {
    "duration": 14,
    "start_time": "2022-08-08T23:19:45.503Z"
   },
   {
    "duration": 658,
    "start_time": "2022-08-08T23:19:45.519Z"
   },
   {
    "duration": 3,
    "start_time": "2022-08-08T23:19:46.178Z"
   },
   {
    "duration": 22,
    "start_time": "2022-08-08T23:19:46.182Z"
   },
   {
    "duration": 21,
    "start_time": "2022-08-08T23:19:46.205Z"
   },
   {
    "duration": 10,
    "start_time": "2022-08-08T23:19:46.228Z"
   },
   {
    "duration": 7,
    "start_time": "2022-08-08T23:19:46.239Z"
   },
   {
    "duration": 18,
    "start_time": "2022-08-08T23:19:46.248Z"
   },
   {
    "duration": 6,
    "start_time": "2022-08-08T23:19:46.268Z"
   },
   {
    "duration": 7,
    "start_time": "2022-08-08T23:19:46.276Z"
   },
   {
    "duration": 103,
    "start_time": "2022-08-08T23:19:46.284Z"
   },
   {
    "duration": 0,
    "start_time": "2022-08-08T23:19:46.389Z"
   },
   {
    "duration": 0,
    "start_time": "2022-08-08T23:19:46.390Z"
   },
   {
    "duration": 0,
    "start_time": "2022-08-08T23:19:46.391Z"
   },
   {
    "duration": 0,
    "start_time": "2022-08-08T23:19:46.392Z"
   },
   {
    "duration": 0,
    "start_time": "2022-08-08T23:19:46.393Z"
   },
   {
    "duration": 0,
    "start_time": "2022-08-08T23:19:46.394Z"
   },
   {
    "duration": 0,
    "start_time": "2022-08-08T23:19:46.395Z"
   },
   {
    "duration": 0,
    "start_time": "2022-08-08T23:19:46.396Z"
   },
   {
    "duration": 0,
    "start_time": "2022-08-08T23:19:46.397Z"
   },
   {
    "duration": 0,
    "start_time": "2022-08-08T23:19:46.398Z"
   },
   {
    "duration": 0,
    "start_time": "2022-08-08T23:19:46.399Z"
   },
   {
    "duration": 0,
    "start_time": "2022-08-08T23:19:46.400Z"
   },
   {
    "duration": 0,
    "start_time": "2022-08-08T23:19:46.401Z"
   },
   {
    "duration": 0,
    "start_time": "2022-08-08T23:19:46.402Z"
   },
   {
    "duration": 0,
    "start_time": "2022-08-08T23:19:46.403Z"
   },
   {
    "duration": 0,
    "start_time": "2022-08-08T23:19:46.404Z"
   },
   {
    "duration": 0,
    "start_time": "2022-08-08T23:19:46.405Z"
   },
   {
    "duration": 0,
    "start_time": "2022-08-08T23:19:46.405Z"
   },
   {
    "duration": 0,
    "start_time": "2022-08-08T23:19:46.407Z"
   },
   {
    "duration": 0,
    "start_time": "2022-08-08T23:19:46.408Z"
   },
   {
    "duration": 0,
    "start_time": "2022-08-08T23:19:46.409Z"
   },
   {
    "duration": 0,
    "start_time": "2022-08-08T23:19:46.439Z"
   },
   {
    "duration": 0,
    "start_time": "2022-08-08T23:19:46.440Z"
   },
   {
    "duration": 0,
    "start_time": "2022-08-08T23:19:46.442Z"
   },
   {
    "duration": 0,
    "start_time": "2022-08-08T23:19:46.443Z"
   },
   {
    "duration": 0,
    "start_time": "2022-08-08T23:19:46.444Z"
   },
   {
    "duration": 0,
    "start_time": "2022-08-08T23:19:46.445Z"
   },
   {
    "duration": 0,
    "start_time": "2022-08-08T23:19:46.446Z"
   },
   {
    "duration": 0,
    "start_time": "2022-08-08T23:19:46.447Z"
   },
   {
    "duration": 0,
    "start_time": "2022-08-08T23:19:46.448Z"
   },
   {
    "duration": 0,
    "start_time": "2022-08-08T23:19:46.449Z"
   },
   {
    "duration": 0,
    "start_time": "2022-08-08T23:19:46.450Z"
   },
   {
    "duration": 0,
    "start_time": "2022-08-08T23:19:46.451Z"
   },
   {
    "duration": 0,
    "start_time": "2022-08-08T23:19:46.452Z"
   },
   {
    "duration": 0,
    "start_time": "2022-08-08T23:19:46.452Z"
   },
   {
    "duration": 0,
    "start_time": "2022-08-08T23:19:46.453Z"
   },
   {
    "duration": 0,
    "start_time": "2022-08-08T23:19:46.454Z"
   },
   {
    "duration": 0,
    "start_time": "2022-08-08T23:19:46.455Z"
   },
   {
    "duration": 0,
    "start_time": "2022-08-08T23:19:46.456Z"
   },
   {
    "duration": 0,
    "start_time": "2022-08-08T23:19:46.457Z"
   },
   {
    "duration": 0,
    "start_time": "2022-08-08T23:19:46.458Z"
   },
   {
    "duration": 0,
    "start_time": "2022-08-08T23:19:46.459Z"
   },
   {
    "duration": 0,
    "start_time": "2022-08-08T23:19:46.460Z"
   },
   {
    "duration": 0,
    "start_time": "2022-08-08T23:19:46.461Z"
   },
   {
    "duration": 0,
    "start_time": "2022-08-08T23:19:46.462Z"
   },
   {
    "duration": 0,
    "start_time": "2022-08-08T23:19:46.463Z"
   },
   {
    "duration": 10,
    "start_time": "2022-08-08T23:20:28.423Z"
   },
   {
    "duration": 12,
    "start_time": "2022-08-08T23:20:49.034Z"
   },
   {
    "duration": 1080,
    "start_time": "2022-08-08T23:20:55.529Z"
   },
   {
    "duration": 61,
    "start_time": "2022-08-08T23:20:56.611Z"
   },
   {
    "duration": 14,
    "start_time": "2022-08-08T23:20:56.674Z"
   },
   {
    "duration": 738,
    "start_time": "2022-08-08T23:20:56.690Z"
   },
   {
    "duration": 8,
    "start_time": "2022-08-08T23:20:57.430Z"
   },
   {
    "duration": 28,
    "start_time": "2022-08-08T23:20:57.440Z"
   },
   {
    "duration": 7,
    "start_time": "2022-08-08T23:20:57.470Z"
   },
   {
    "duration": 10,
    "start_time": "2022-08-08T23:20:57.478Z"
   },
   {
    "duration": 12,
    "start_time": "2022-08-08T23:20:57.489Z"
   },
   {
    "duration": 13,
    "start_time": "2022-08-08T23:20:57.502Z"
   },
   {
    "duration": 4,
    "start_time": "2022-08-08T23:20:57.516Z"
   },
   {
    "duration": 16,
    "start_time": "2022-08-08T23:20:57.522Z"
   },
   {
    "duration": 4,
    "start_time": "2022-08-08T23:20:57.540Z"
   },
   {
    "duration": 4,
    "start_time": "2022-08-08T23:20:57.546Z"
   },
   {
    "duration": 9,
    "start_time": "2022-08-08T23:20:57.551Z"
   },
   {
    "duration": 12,
    "start_time": "2022-08-08T23:20:57.561Z"
   },
   {
    "duration": 13,
    "start_time": "2022-08-08T23:20:57.575Z"
   },
   {
    "duration": 5,
    "start_time": "2022-08-08T23:20:57.589Z"
   },
   {
    "duration": 199,
    "start_time": "2022-08-08T23:20:57.595Z"
   },
   {
    "duration": 4,
    "start_time": "2022-08-08T23:20:57.795Z"
   },
   {
    "duration": 15,
    "start_time": "2022-08-08T23:20:57.801Z"
   },
   {
    "duration": 211,
    "start_time": "2022-08-08T23:20:57.817Z"
   },
   {
    "duration": 20,
    "start_time": "2022-08-08T23:20:58.029Z"
   },
   {
    "duration": 811,
    "start_time": "2022-08-08T23:20:58.051Z"
   },
   {
    "duration": 8,
    "start_time": "2022-08-08T23:20:58.864Z"
   },
   {
    "duration": 314,
    "start_time": "2022-08-08T23:20:58.873Z"
   },
   {
    "duration": 20,
    "start_time": "2022-08-08T23:20:59.189Z"
   },
   {
    "duration": 116,
    "start_time": "2022-08-08T23:20:59.210Z"
   },
   {
    "duration": 19,
    "start_time": "2022-08-08T23:20:59.328Z"
   },
   {
    "duration": 19,
    "start_time": "2022-08-08T23:20:59.349Z"
   },
   {
    "duration": 117,
    "start_time": "2022-08-08T23:20:59.370Z"
   },
   {
    "duration": 12,
    "start_time": "2022-08-08T23:20:59.489Z"
   },
   {
    "duration": 113,
    "start_time": "2022-08-08T23:20:59.502Z"
   },
   {
    "duration": 21,
    "start_time": "2022-08-08T23:20:59.617Z"
   },
   {
    "duration": 5,
    "start_time": "2022-08-08T23:20:59.640Z"
   },
   {
    "duration": 363,
    "start_time": "2022-08-08T23:20:59.647Z"
   },
   {
    "duration": 7,
    "start_time": "2022-08-08T23:21:00.012Z"
   },
   {
    "duration": 17,
    "start_time": "2022-08-08T23:21:00.021Z"
   },
   {
    "duration": 344,
    "start_time": "2022-08-08T23:21:00.039Z"
   },
   {
    "duration": 6,
    "start_time": "2022-08-08T23:21:00.384Z"
   },
   {
    "duration": 36,
    "start_time": "2022-08-08T23:21:00.393Z"
   },
   {
    "duration": 337,
    "start_time": "2022-08-08T23:21:00.430Z"
   },
   {
    "duration": 6,
    "start_time": "2022-08-08T23:21:00.769Z"
   },
   {
    "duration": 26,
    "start_time": "2022-08-08T23:21:00.776Z"
   },
   {
    "duration": 32,
    "start_time": "2022-08-08T23:21:00.804Z"
   },
   {
    "duration": 9,
    "start_time": "2022-08-08T23:21:00.837Z"
   },
   {
    "duration": 11,
    "start_time": "2022-08-08T23:21:00.847Z"
   },
   {
    "duration": 9,
    "start_time": "2022-08-08T23:21:00.859Z"
   },
   {
    "duration": 324,
    "start_time": "2022-08-08T23:21:00.869Z"
   },
   {
    "duration": 10,
    "start_time": "2022-08-08T23:21:01.195Z"
   },
   {
    "duration": 21,
    "start_time": "2022-08-08T23:21:01.206Z"
   },
   {
    "duration": 19,
    "start_time": "2022-08-08T23:21:01.228Z"
   },
   {
    "duration": 315,
    "start_time": "2022-08-08T23:21:01.249Z"
   },
   {
    "duration": 11,
    "start_time": "2022-08-08T23:21:01.565Z"
   },
   {
    "duration": 48,
    "start_time": "2022-08-08T23:21:01.578Z"
   },
   {
    "duration": 27,
    "start_time": "2022-08-08T23:21:01.628Z"
   },
   {
    "duration": 389,
    "start_time": "2022-08-08T23:21:01.656Z"
   },
   {
    "duration": 9,
    "start_time": "2022-08-08T23:21:02.047Z"
   },
   {
    "duration": 24,
    "start_time": "2022-08-08T23:21:02.057Z"
   },
   {
    "duration": 96,
    "start_time": "2022-08-08T23:21:36.150Z"
   },
   {
    "duration": 5,
    "start_time": "2022-08-08T23:21:58.447Z"
   },
   {
    "duration": 1079,
    "start_time": "2022-08-08T23:22:12.437Z"
   },
   {
    "duration": 63,
    "start_time": "2022-08-08T23:22:13.518Z"
   },
   {
    "duration": 14,
    "start_time": "2022-08-08T23:22:13.585Z"
   },
   {
    "duration": 746,
    "start_time": "2022-08-08T23:22:13.601Z"
   },
   {
    "duration": 3,
    "start_time": "2022-08-08T23:22:14.348Z"
   },
   {
    "duration": 21,
    "start_time": "2022-08-08T23:22:14.353Z"
   },
   {
    "duration": 8,
    "start_time": "2022-08-08T23:22:14.376Z"
   },
   {
    "duration": 11,
    "start_time": "2022-08-08T23:22:14.385Z"
   },
   {
    "duration": 7,
    "start_time": "2022-08-08T23:22:14.397Z"
   },
   {
    "duration": 39,
    "start_time": "2022-08-08T23:22:14.406Z"
   },
   {
    "duration": 7,
    "start_time": "2022-08-08T23:22:14.446Z"
   },
   {
    "duration": 12,
    "start_time": "2022-08-08T23:22:14.455Z"
   },
   {
    "duration": 104,
    "start_time": "2022-08-08T23:22:14.470Z"
   },
   {
    "duration": 0,
    "start_time": "2022-08-08T23:22:14.576Z"
   },
   {
    "duration": 0,
    "start_time": "2022-08-08T23:22:14.577Z"
   },
   {
    "duration": 0,
    "start_time": "2022-08-08T23:22:14.579Z"
   },
   {
    "duration": 0,
    "start_time": "2022-08-08T23:22:14.580Z"
   },
   {
    "duration": 0,
    "start_time": "2022-08-08T23:22:14.581Z"
   },
   {
    "duration": 0,
    "start_time": "2022-08-08T23:22:14.582Z"
   },
   {
    "duration": 0,
    "start_time": "2022-08-08T23:22:14.584Z"
   },
   {
    "duration": 0,
    "start_time": "2022-08-08T23:22:14.585Z"
   },
   {
    "duration": 0,
    "start_time": "2022-08-08T23:22:14.586Z"
   },
   {
    "duration": 0,
    "start_time": "2022-08-08T23:22:14.587Z"
   },
   {
    "duration": 0,
    "start_time": "2022-08-08T23:22:14.588Z"
   },
   {
    "duration": 0,
    "start_time": "2022-08-08T23:22:14.590Z"
   },
   {
    "duration": 0,
    "start_time": "2022-08-08T23:22:14.591Z"
   },
   {
    "duration": 0,
    "start_time": "2022-08-08T23:22:14.592Z"
   },
   {
    "duration": 0,
    "start_time": "2022-08-08T23:22:14.593Z"
   },
   {
    "duration": 0,
    "start_time": "2022-08-08T23:22:14.595Z"
   },
   {
    "duration": 0,
    "start_time": "2022-08-08T23:22:14.596Z"
   },
   {
    "duration": 0,
    "start_time": "2022-08-08T23:22:14.597Z"
   },
   {
    "duration": 0,
    "start_time": "2022-08-08T23:22:14.599Z"
   },
   {
    "duration": 0,
    "start_time": "2022-08-08T23:22:14.600Z"
   },
   {
    "duration": 0,
    "start_time": "2022-08-08T23:22:14.601Z"
   },
   {
    "duration": 0,
    "start_time": "2022-08-08T23:22:14.639Z"
   },
   {
    "duration": 0,
    "start_time": "2022-08-08T23:22:14.640Z"
   },
   {
    "duration": 0,
    "start_time": "2022-08-08T23:22:14.641Z"
   },
   {
    "duration": 0,
    "start_time": "2022-08-08T23:22:14.642Z"
   },
   {
    "duration": 1,
    "start_time": "2022-08-08T23:22:14.643Z"
   },
   {
    "duration": 0,
    "start_time": "2022-08-08T23:22:14.644Z"
   },
   {
    "duration": 0,
    "start_time": "2022-08-08T23:22:14.645Z"
   },
   {
    "duration": 0,
    "start_time": "2022-08-08T23:22:14.646Z"
   },
   {
    "duration": 0,
    "start_time": "2022-08-08T23:22:14.648Z"
   },
   {
    "duration": 0,
    "start_time": "2022-08-08T23:22:14.648Z"
   },
   {
    "duration": 0,
    "start_time": "2022-08-08T23:22:14.649Z"
   },
   {
    "duration": 0,
    "start_time": "2022-08-08T23:22:14.650Z"
   },
   {
    "duration": 0,
    "start_time": "2022-08-08T23:22:14.651Z"
   },
   {
    "duration": 0,
    "start_time": "2022-08-08T23:22:14.652Z"
   },
   {
    "duration": 0,
    "start_time": "2022-08-08T23:22:14.653Z"
   },
   {
    "duration": 0,
    "start_time": "2022-08-08T23:22:14.654Z"
   },
   {
    "duration": 0,
    "start_time": "2022-08-08T23:22:14.655Z"
   },
   {
    "duration": 0,
    "start_time": "2022-08-08T23:22:14.656Z"
   },
   {
    "duration": 0,
    "start_time": "2022-08-08T23:22:14.656Z"
   },
   {
    "duration": 0,
    "start_time": "2022-08-08T23:22:14.657Z"
   },
   {
    "duration": 0,
    "start_time": "2022-08-08T23:22:14.658Z"
   },
   {
    "duration": 0,
    "start_time": "2022-08-08T23:22:14.659Z"
   },
   {
    "duration": 0,
    "start_time": "2022-08-08T23:22:14.660Z"
   },
   {
    "duration": 0,
    "start_time": "2022-08-08T23:22:14.661Z"
   },
   {
    "duration": 0,
    "start_time": "2022-08-08T23:22:14.662Z"
   },
   {
    "duration": 0,
    "start_time": "2022-08-08T23:22:14.663Z"
   },
   {
    "duration": 9,
    "start_time": "2022-08-08T23:23:18.822Z"
   },
   {
    "duration": 1067,
    "start_time": "2022-08-08T23:23:25.828Z"
   },
   {
    "duration": 61,
    "start_time": "2022-08-08T23:23:26.897Z"
   },
   {
    "duration": 12,
    "start_time": "2022-08-08T23:23:26.959Z"
   },
   {
    "duration": 640,
    "start_time": "2022-08-08T23:23:26.972Z"
   },
   {
    "duration": 3,
    "start_time": "2022-08-08T23:23:27.614Z"
   },
   {
    "duration": 21,
    "start_time": "2022-08-08T23:23:27.618Z"
   },
   {
    "duration": 8,
    "start_time": "2022-08-08T23:23:27.641Z"
   },
   {
    "duration": 8,
    "start_time": "2022-08-08T23:23:27.650Z"
   },
   {
    "duration": 7,
    "start_time": "2022-08-08T23:23:27.659Z"
   },
   {
    "duration": 13,
    "start_time": "2022-08-08T23:23:27.669Z"
   },
   {
    "duration": 10,
    "start_time": "2022-08-08T23:23:27.683Z"
   },
   {
    "duration": 7,
    "start_time": "2022-08-08T23:23:27.694Z"
   },
   {
    "duration": 37,
    "start_time": "2022-08-08T23:23:27.702Z"
   },
   {
    "duration": 5,
    "start_time": "2022-08-08T23:23:27.740Z"
   },
   {
    "duration": 7,
    "start_time": "2022-08-08T23:23:27.746Z"
   },
   {
    "duration": 9,
    "start_time": "2022-08-08T23:23:27.754Z"
   },
   {
    "duration": 24,
    "start_time": "2022-08-08T23:23:27.764Z"
   },
   {
    "duration": 14,
    "start_time": "2022-08-08T23:23:27.789Z"
   },
   {
    "duration": 6,
    "start_time": "2022-08-08T23:23:27.804Z"
   },
   {
    "duration": 184,
    "start_time": "2022-08-08T23:23:27.811Z"
   },
   {
    "duration": 4,
    "start_time": "2022-08-08T23:23:27.997Z"
   },
   {
    "duration": 21,
    "start_time": "2022-08-08T23:23:28.002Z"
   },
   {
    "duration": 201,
    "start_time": "2022-08-08T23:23:28.024Z"
   },
   {
    "duration": 24,
    "start_time": "2022-08-08T23:23:28.226Z"
   },
   {
    "duration": 848,
    "start_time": "2022-08-08T23:23:28.251Z"
   },
   {
    "duration": 6,
    "start_time": "2022-08-08T23:23:29.101Z"
   },
   {
    "duration": 263,
    "start_time": "2022-08-08T23:23:29.108Z"
   },
   {
    "duration": 21,
    "start_time": "2022-08-08T23:23:29.375Z"
   },
   {
    "duration": 120,
    "start_time": "2022-08-08T23:23:29.397Z"
   },
   {
    "duration": 22,
    "start_time": "2022-08-08T23:23:29.519Z"
   },
   {
    "duration": 13,
    "start_time": "2022-08-08T23:23:29.542Z"
   },
   {
    "duration": 113,
    "start_time": "2022-08-08T23:23:29.556Z"
   },
   {
    "duration": 13,
    "start_time": "2022-08-08T23:23:29.670Z"
   },
   {
    "duration": 116,
    "start_time": "2022-08-08T23:23:29.685Z"
   },
   {
    "duration": 11,
    "start_time": "2022-08-08T23:23:29.802Z"
   },
   {
    "duration": 10,
    "start_time": "2022-08-08T23:23:29.815Z"
   },
   {
    "duration": 361,
    "start_time": "2022-08-08T23:23:29.826Z"
   },
   {
    "duration": 6,
    "start_time": "2022-08-08T23:23:30.188Z"
   },
   {
    "duration": 9,
    "start_time": "2022-08-08T23:23:30.195Z"
   },
   {
    "duration": 356,
    "start_time": "2022-08-08T23:23:30.205Z"
   },
   {
    "duration": 6,
    "start_time": "2022-08-08T23:23:30.562Z"
   },
   {
    "duration": 11,
    "start_time": "2022-08-08T23:23:30.570Z"
   },
   {
    "duration": 336,
    "start_time": "2022-08-08T23:23:30.582Z"
   },
   {
    "duration": 6,
    "start_time": "2022-08-08T23:23:30.920Z"
   },
   {
    "duration": 19,
    "start_time": "2022-08-08T23:23:30.927Z"
   },
   {
    "duration": 28,
    "start_time": "2022-08-08T23:23:30.948Z"
   },
   {
    "duration": 10,
    "start_time": "2022-08-08T23:23:30.977Z"
   },
   {
    "duration": 15,
    "start_time": "2022-08-08T23:23:30.988Z"
   },
   {
    "duration": 16,
    "start_time": "2022-08-08T23:23:31.004Z"
   },
   {
    "duration": 326,
    "start_time": "2022-08-08T23:23:31.021Z"
   },
   {
    "duration": 10,
    "start_time": "2022-08-08T23:23:31.349Z"
   },
   {
    "duration": 38,
    "start_time": "2022-08-08T23:23:31.361Z"
   },
   {
    "duration": 26,
    "start_time": "2022-08-08T23:23:31.400Z"
   },
   {
    "duration": 354,
    "start_time": "2022-08-08T23:23:31.427Z"
   },
   {
    "duration": 11,
    "start_time": "2022-08-08T23:23:31.782Z"
   },
   {
    "duration": 14,
    "start_time": "2022-08-08T23:23:31.795Z"
   },
   {
    "duration": 13,
    "start_time": "2022-08-08T23:23:31.810Z"
   },
   {
    "duration": 388,
    "start_time": "2022-08-08T23:23:31.824Z"
   },
   {
    "duration": 9,
    "start_time": "2022-08-08T23:23:32.214Z"
   },
   {
    "duration": 29,
    "start_time": "2022-08-08T23:23:32.224Z"
   },
   {
    "duration": 56,
    "start_time": "2022-08-08T23:28:44.837Z"
   },
   {
    "duration": 1454,
    "start_time": "2022-08-09T06:45:21.903Z"
   },
   {
    "duration": 114,
    "start_time": "2022-08-09T06:45:23.359Z"
   },
   {
    "duration": 14,
    "start_time": "2022-08-09T06:45:23.474Z"
   },
   {
    "duration": 665,
    "start_time": "2022-08-09T06:45:23.489Z"
   },
   {
    "duration": 3,
    "start_time": "2022-08-09T06:45:24.156Z"
   },
   {
    "duration": 21,
    "start_time": "2022-08-09T06:45:24.160Z"
   },
   {
    "duration": 8,
    "start_time": "2022-08-09T06:45:24.182Z"
   },
   {
    "duration": 22,
    "start_time": "2022-08-09T06:45:24.191Z"
   },
   {
    "duration": 6,
    "start_time": "2022-08-09T06:45:24.215Z"
   },
   {
    "duration": 28,
    "start_time": "2022-08-09T06:45:24.224Z"
   },
   {
    "duration": 11,
    "start_time": "2022-08-09T06:45:24.254Z"
   },
   {
    "duration": 14,
    "start_time": "2022-08-09T06:45:24.267Z"
   },
   {
    "duration": 11,
    "start_time": "2022-08-09T06:45:24.283Z"
   },
   {
    "duration": 7,
    "start_time": "2022-08-09T06:45:24.295Z"
   },
   {
    "duration": 14,
    "start_time": "2022-08-09T06:45:24.303Z"
   },
   {
    "duration": 11,
    "start_time": "2022-08-09T06:45:24.319Z"
   },
   {
    "duration": 18,
    "start_time": "2022-08-09T06:45:24.331Z"
   },
   {
    "duration": 14,
    "start_time": "2022-08-09T06:45:24.351Z"
   },
   {
    "duration": 6,
    "start_time": "2022-08-09T06:45:24.367Z"
   },
   {
    "duration": 189,
    "start_time": "2022-08-09T06:45:24.374Z"
   },
   {
    "duration": 4,
    "start_time": "2022-08-09T06:45:24.565Z"
   },
   {
    "duration": 17,
    "start_time": "2022-08-09T06:45:24.571Z"
   },
   {
    "duration": 227,
    "start_time": "2022-08-09T06:45:24.590Z"
   },
   {
    "duration": 17,
    "start_time": "2022-08-09T06:45:24.819Z"
   },
   {
    "duration": 866,
    "start_time": "2022-08-09T06:45:24.837Z"
   },
   {
    "duration": 11,
    "start_time": "2022-08-09T06:45:25.704Z"
   },
   {
    "duration": 273,
    "start_time": "2022-08-09T06:45:25.716Z"
   },
   {
    "duration": 27,
    "start_time": "2022-08-09T06:45:25.992Z"
   },
   {
    "duration": 118,
    "start_time": "2022-08-09T06:45:26.020Z"
   },
   {
    "duration": 12,
    "start_time": "2022-08-09T06:45:26.140Z"
   },
   {
    "duration": 23,
    "start_time": "2022-08-09T06:45:26.153Z"
   },
   {
    "duration": 134,
    "start_time": "2022-08-09T06:45:26.177Z"
   },
   {
    "duration": 13,
    "start_time": "2022-08-09T06:45:26.312Z"
   },
   {
    "duration": 123,
    "start_time": "2022-08-09T06:45:26.326Z"
   },
   {
    "duration": 12,
    "start_time": "2022-08-09T06:45:26.451Z"
   },
   {
    "duration": 18,
    "start_time": "2022-08-09T06:45:26.465Z"
   },
   {
    "duration": 389,
    "start_time": "2022-08-09T06:45:26.484Z"
   },
   {
    "duration": 6,
    "start_time": "2022-08-09T06:45:26.874Z"
   },
   {
    "duration": 12,
    "start_time": "2022-08-09T06:45:26.882Z"
   },
   {
    "duration": 405,
    "start_time": "2022-08-09T06:45:26.895Z"
   },
   {
    "duration": 11,
    "start_time": "2022-08-09T06:45:27.302Z"
   },
   {
    "duration": 7,
    "start_time": "2022-08-09T06:45:27.314Z"
   },
   {
    "duration": 368,
    "start_time": "2022-08-09T06:45:27.322Z"
   },
   {
    "duration": 6,
    "start_time": "2022-08-09T06:45:27.691Z"
   },
   {
    "duration": 40,
    "start_time": "2022-08-09T06:45:27.698Z"
   },
   {
    "duration": 23,
    "start_time": "2022-08-09T06:45:27.740Z"
   },
   {
    "duration": 11,
    "start_time": "2022-08-09T06:45:27.764Z"
   },
   {
    "duration": 28,
    "start_time": "2022-08-09T06:45:27.776Z"
   },
   {
    "duration": 11,
    "start_time": "2022-08-09T06:45:27.805Z"
   },
   {
    "duration": 354,
    "start_time": "2022-08-09T06:45:27.817Z"
   },
   {
    "duration": 11,
    "start_time": "2022-08-09T06:45:28.173Z"
   },
   {
    "duration": 26,
    "start_time": "2022-08-09T06:45:28.186Z"
   },
   {
    "duration": 16,
    "start_time": "2022-08-09T06:45:28.214Z"
   },
   {
    "duration": 339,
    "start_time": "2022-08-09T06:45:28.233Z"
   },
   {
    "duration": 11,
    "start_time": "2022-08-09T06:45:28.573Z"
   },
   {
    "duration": 25,
    "start_time": "2022-08-09T06:45:28.586Z"
   },
   {
    "duration": 10,
    "start_time": "2022-08-09T06:45:28.613Z"
   },
   {
    "duration": 396,
    "start_time": "2022-08-09T06:45:28.625Z"
   },
   {
    "duration": 10,
    "start_time": "2022-08-09T06:45:29.023Z"
   },
   {
    "duration": 18,
    "start_time": "2022-08-09T06:45:29.034Z"
   },
   {
    "duration": 1154,
    "start_time": "2022-08-09T06:50:56.998Z"
   },
   {
    "duration": 73,
    "start_time": "2022-08-09T06:50:58.154Z"
   },
   {
    "duration": 15,
    "start_time": "2022-08-09T06:50:58.229Z"
   },
   {
    "duration": 699,
    "start_time": "2022-08-09T06:50:58.246Z"
   },
   {
    "duration": 4,
    "start_time": "2022-08-09T06:50:58.947Z"
   },
   {
    "duration": 25,
    "start_time": "2022-08-09T06:50:58.953Z"
   },
   {
    "duration": 9,
    "start_time": "2022-08-09T06:50:58.980Z"
   },
   {
    "duration": 23,
    "start_time": "2022-08-09T06:50:58.991Z"
   },
   {
    "duration": 9,
    "start_time": "2022-08-09T06:50:59.016Z"
   },
   {
    "duration": 14,
    "start_time": "2022-08-09T06:50:59.028Z"
   },
   {
    "duration": 7,
    "start_time": "2022-08-09T06:50:59.044Z"
   },
   {
    "duration": 8,
    "start_time": "2022-08-09T06:50:59.053Z"
   },
   {
    "duration": 11,
    "start_time": "2022-08-09T06:50:59.062Z"
   },
   {
    "duration": 36,
    "start_time": "2022-08-09T06:50:59.075Z"
   },
   {
    "duration": 4,
    "start_time": "2022-08-09T06:50:59.112Z"
   },
   {
    "duration": 8,
    "start_time": "2022-08-09T06:50:59.118Z"
   },
   {
    "duration": 13,
    "start_time": "2022-08-09T06:50:59.127Z"
   },
   {
    "duration": 14,
    "start_time": "2022-08-09T06:50:59.141Z"
   },
   {
    "duration": 35,
    "start_time": "2022-08-09T06:50:59.156Z"
   },
   {
    "duration": 446,
    "start_time": "2022-08-09T06:50:59.193Z"
   },
   {
    "duration": 5,
    "start_time": "2022-08-09T06:50:59.641Z"
   },
   {
    "duration": 14,
    "start_time": "2022-08-09T06:50:59.647Z"
   },
   {
    "duration": 232,
    "start_time": "2022-08-09T06:50:59.663Z"
   },
   {
    "duration": 22,
    "start_time": "2022-08-09T06:50:59.896Z"
   },
   {
    "duration": 892,
    "start_time": "2022-08-09T06:50:59.920Z"
   },
   {
    "duration": 6,
    "start_time": "2022-08-09T06:51:00.813Z"
   },
   {
    "duration": 287,
    "start_time": "2022-08-09T06:51:00.820Z"
   },
   {
    "duration": 22,
    "start_time": "2022-08-09T06:51:01.112Z"
   },
   {
    "duration": 133,
    "start_time": "2022-08-09T06:51:01.136Z"
   },
   {
    "duration": 13,
    "start_time": "2022-08-09T06:51:01.271Z"
   },
   {
    "duration": 30,
    "start_time": "2022-08-09T06:51:01.285Z"
   },
   {
    "duration": 157,
    "start_time": "2022-08-09T06:51:01.316Z"
   },
   {
    "duration": 13,
    "start_time": "2022-08-09T06:51:01.475Z"
   },
   {
    "duration": 128,
    "start_time": "2022-08-09T06:51:01.489Z"
   },
   {
    "duration": 14,
    "start_time": "2022-08-09T06:51:01.618Z"
   },
   {
    "duration": 50,
    "start_time": "2022-08-09T06:51:01.634Z"
   },
   {
    "duration": 418,
    "start_time": "2022-08-09T06:51:01.686Z"
   },
   {
    "duration": 9,
    "start_time": "2022-08-09T06:51:02.105Z"
   },
   {
    "duration": 50,
    "start_time": "2022-08-09T06:51:02.116Z"
   },
   {
    "duration": 426,
    "start_time": "2022-08-09T06:51:02.167Z"
   },
   {
    "duration": 17,
    "start_time": "2022-08-09T06:51:02.595Z"
   },
   {
    "duration": 15,
    "start_time": "2022-08-09T06:51:02.613Z"
   },
   {
    "duration": 411,
    "start_time": "2022-08-09T06:51:02.631Z"
   },
   {
    "duration": 6,
    "start_time": "2022-08-09T06:51:03.044Z"
   },
   {
    "duration": 16,
    "start_time": "2022-08-09T06:51:03.051Z"
   },
   {
    "duration": 44,
    "start_time": "2022-08-09T06:51:03.068Z"
   },
   {
    "duration": 11,
    "start_time": "2022-08-09T06:51:03.113Z"
   },
   {
    "duration": 18,
    "start_time": "2022-08-09T06:51:03.125Z"
   },
   {
    "duration": 11,
    "start_time": "2022-08-09T06:51:03.144Z"
   },
   {
    "duration": 367,
    "start_time": "2022-08-09T06:51:03.157Z"
   },
   {
    "duration": 12,
    "start_time": "2022-08-09T06:51:03.526Z"
   },
   {
    "duration": 13,
    "start_time": "2022-08-09T06:51:03.539Z"
   },
   {
    "duration": 14,
    "start_time": "2022-08-09T06:51:03.553Z"
   },
   {
    "duration": 352,
    "start_time": "2022-08-09T06:51:03.568Z"
   },
   {
    "duration": 10,
    "start_time": "2022-08-09T06:51:03.922Z"
   },
   {
    "duration": 15,
    "start_time": "2022-08-09T06:51:03.934Z"
   },
   {
    "duration": 23,
    "start_time": "2022-08-09T06:51:03.951Z"
   },
   {
    "duration": 421,
    "start_time": "2022-08-09T06:51:03.977Z"
   },
   {
    "duration": 18,
    "start_time": "2022-08-09T06:51:04.400Z"
   },
   {
    "duration": 15,
    "start_time": "2022-08-09T06:51:04.420Z"
   },
   {
    "duration": 221,
    "start_time": "2022-08-09T06:51:54.453Z"
   },
   {
    "duration": 195,
    "start_time": "2022-08-09T06:52:04.710Z"
   },
   {
    "duration": 223,
    "start_time": "2022-08-09T06:52:22.309Z"
   },
   {
    "duration": 280,
    "start_time": "2022-08-09T06:59:02.795Z"
   },
   {
    "duration": 262,
    "start_time": "2022-08-09T06:59:15.856Z"
   },
   {
    "duration": 172,
    "start_time": "2022-08-09T06:59:32.334Z"
   },
   {
    "duration": 357,
    "start_time": "2022-08-09T06:59:46.007Z"
   },
   {
    "duration": 449,
    "start_time": "2022-08-09T07:00:55.513Z"
   },
   {
    "duration": 464,
    "start_time": "2022-08-09T07:01:04.331Z"
   },
   {
    "duration": 305,
    "start_time": "2022-08-09T07:01:08.892Z"
   },
   {
    "duration": 282,
    "start_time": "2022-08-09T07:01:14.278Z"
   },
   {
    "duration": 279,
    "start_time": "2022-08-09T07:01:19.036Z"
   },
   {
    "duration": 477,
    "start_time": "2022-08-09T07:01:32.666Z"
   },
   {
    "duration": 370,
    "start_time": "2022-08-09T07:01:45.913Z"
   },
   {
    "duration": 332,
    "start_time": "2022-08-09T07:01:53.233Z"
   },
   {
    "duration": 329,
    "start_time": "2022-08-09T07:02:40.867Z"
   },
   {
    "duration": 336,
    "start_time": "2022-08-09T07:02:46.669Z"
   },
   {
    "duration": 9,
    "start_time": "2022-08-09T07:10:41.747Z"
   },
   {
    "duration": 48,
    "start_time": "2022-08-09T07:42:59.135Z"
   },
   {
    "duration": 1207,
    "start_time": "2022-08-09T07:43:04.553Z"
   },
   {
    "duration": 184,
    "start_time": "2022-08-09T07:43:05.761Z"
   },
   {
    "duration": 12,
    "start_time": "2022-08-09T07:43:05.947Z"
   },
   {
    "duration": 712,
    "start_time": "2022-08-09T07:43:05.960Z"
   },
   {
    "duration": 3,
    "start_time": "2022-08-09T07:43:06.673Z"
   },
   {
    "duration": 17,
    "start_time": "2022-08-09T07:43:06.677Z"
   },
   {
    "duration": 8,
    "start_time": "2022-08-09T07:43:06.706Z"
   },
   {
    "duration": 6,
    "start_time": "2022-08-09T07:43:06.715Z"
   },
   {
    "duration": 6,
    "start_time": "2022-08-09T07:43:06.722Z"
   },
   {
    "duration": 12,
    "start_time": "2022-08-09T07:43:06.731Z"
   },
   {
    "duration": 5,
    "start_time": "2022-08-09T07:43:06.744Z"
   },
   {
    "duration": 6,
    "start_time": "2022-08-09T07:43:06.750Z"
   },
   {
    "duration": 10,
    "start_time": "2022-08-09T07:43:06.757Z"
   },
   {
    "duration": 39,
    "start_time": "2022-08-09T07:43:06.768Z"
   },
   {
    "duration": 6,
    "start_time": "2022-08-09T07:43:06.809Z"
   },
   {
    "duration": 6,
    "start_time": "2022-08-09T07:43:06.816Z"
   },
   {
    "duration": 12,
    "start_time": "2022-08-09T07:43:06.824Z"
   },
   {
    "duration": 14,
    "start_time": "2022-08-09T07:43:06.838Z"
   },
   {
    "duration": 5,
    "start_time": "2022-08-09T07:43:06.853Z"
   },
   {
    "duration": 351,
    "start_time": "2022-08-09T07:43:06.859Z"
   },
   {
    "duration": 4,
    "start_time": "2022-08-09T07:43:07.212Z"
   },
   {
    "duration": 10,
    "start_time": "2022-08-09T07:43:07.218Z"
   },
   {
    "duration": 413,
    "start_time": "2022-08-09T07:43:07.230Z"
   },
   {
    "duration": 68,
    "start_time": "2022-08-09T07:43:07.644Z"
   },
   {
    "duration": 1218,
    "start_time": "2022-08-09T07:43:07.713Z"
   },
   {
    "duration": 6,
    "start_time": "2022-08-09T07:43:08.933Z"
   },
   {
    "duration": 281,
    "start_time": "2022-08-09T07:43:08.940Z"
   },
   {
    "duration": 21,
    "start_time": "2022-08-09T07:43:09.224Z"
   },
   {
    "duration": 115,
    "start_time": "2022-08-09T07:43:09.246Z"
   },
   {
    "duration": 12,
    "start_time": "2022-08-09T07:43:09.362Z"
   },
   {
    "duration": 20,
    "start_time": "2022-08-09T07:43:09.376Z"
   },
   {
    "duration": 120,
    "start_time": "2022-08-09T07:43:09.406Z"
   },
   {
    "duration": 14,
    "start_time": "2022-08-09T07:43:09.528Z"
   },
   {
    "duration": 122,
    "start_time": "2022-08-09T07:43:09.544Z"
   },
   {
    "duration": 14,
    "start_time": "2022-08-09T07:43:09.667Z"
   },
   {
    "duration": 25,
    "start_time": "2022-08-09T07:43:09.682Z"
   },
   {
    "duration": 376,
    "start_time": "2022-08-09T07:43:09.708Z"
   },
   {
    "duration": 6,
    "start_time": "2022-08-09T07:43:10.086Z"
   },
   {
    "duration": 6,
    "start_time": "2022-08-09T07:43:10.105Z"
   },
   {
    "duration": 409,
    "start_time": "2022-08-09T07:43:10.112Z"
   },
   {
    "duration": 6,
    "start_time": "2022-08-09T07:43:10.523Z"
   },
   {
    "duration": 6,
    "start_time": "2022-08-09T07:43:10.530Z"
   },
   {
    "duration": 376,
    "start_time": "2022-08-09T07:43:10.537Z"
   },
   {
    "duration": 7,
    "start_time": "2022-08-09T07:43:10.915Z"
   },
   {
    "duration": 12,
    "start_time": "2022-08-09T07:43:10.924Z"
   },
   {
    "duration": 23,
    "start_time": "2022-08-09T07:43:10.937Z"
   },
   {
    "duration": 9,
    "start_time": "2022-08-09T07:43:10.961Z"
   },
   {
    "duration": 39,
    "start_time": "2022-08-09T07:43:10.971Z"
   },
   {
    "duration": 12,
    "start_time": "2022-08-09T07:43:11.011Z"
   },
   {
    "duration": 349,
    "start_time": "2022-08-09T07:43:11.025Z"
   },
   {
    "duration": 11,
    "start_time": "2022-08-09T07:43:11.376Z"
   },
   {
    "duration": 23,
    "start_time": "2022-08-09T07:43:11.389Z"
   },
   {
    "duration": 18,
    "start_time": "2022-08-09T07:43:11.415Z"
   },
   {
    "duration": 360,
    "start_time": "2022-08-09T07:43:11.434Z"
   },
   {
    "duration": 19,
    "start_time": "2022-08-09T07:43:11.796Z"
   },
   {
    "duration": 15,
    "start_time": "2022-08-09T07:43:11.817Z"
   },
   {
    "duration": 14,
    "start_time": "2022-08-09T07:43:11.833Z"
   },
   {
    "duration": 432,
    "start_time": "2022-08-09T07:43:11.848Z"
   },
   {
    "duration": 11,
    "start_time": "2022-08-09T07:43:12.282Z"
   },
   {
    "duration": 22,
    "start_time": "2022-08-09T07:43:12.294Z"
   },
   {
    "duration": 10,
    "start_time": "2022-08-09T07:43:12.317Z"
   },
   {
    "duration": 191,
    "start_time": "2022-08-09T07:43:12.474Z"
   },
   {
    "duration": 1094,
    "start_time": "2022-08-09T07:49:00.272Z"
   },
   {
    "duration": 63,
    "start_time": "2022-08-09T07:49:01.368Z"
   },
   {
    "duration": 13,
    "start_time": "2022-08-09T07:49:01.432Z"
   },
   {
    "duration": 687,
    "start_time": "2022-08-09T07:49:01.447Z"
   },
   {
    "duration": 3,
    "start_time": "2022-08-09T07:49:02.135Z"
   },
   {
    "duration": 53,
    "start_time": "2022-08-09T07:49:02.139Z"
   },
   {
    "duration": 10,
    "start_time": "2022-08-09T07:49:02.193Z"
   },
   {
    "duration": 16,
    "start_time": "2022-08-09T07:49:02.204Z"
   },
   {
    "duration": 42,
    "start_time": "2022-08-09T07:49:02.221Z"
   },
   {
    "duration": 39,
    "start_time": "2022-08-09T07:49:02.265Z"
   },
   {
    "duration": 38,
    "start_time": "2022-08-09T07:49:02.305Z"
   },
   {
    "duration": 24,
    "start_time": "2022-08-09T07:49:02.345Z"
   },
   {
    "duration": 19,
    "start_time": "2022-08-09T07:49:02.370Z"
   },
   {
    "duration": 24,
    "start_time": "2022-08-09T07:49:02.391Z"
   },
   {
    "duration": 17,
    "start_time": "2022-08-09T07:49:02.416Z"
   },
   {
    "duration": 32,
    "start_time": "2022-08-09T07:49:02.435Z"
   },
   {
    "duration": 43,
    "start_time": "2022-08-09T07:49:02.469Z"
   },
   {
    "duration": 23,
    "start_time": "2022-08-09T07:49:02.514Z"
   },
   {
    "duration": 6,
    "start_time": "2022-08-09T07:49:02.538Z"
   },
   {
    "duration": 200,
    "start_time": "2022-08-09T07:49:06.443Z"
   },
   {
    "duration": 171,
    "start_time": "2022-08-09T07:57:06.755Z"
   },
   {
    "duration": 153,
    "start_time": "2022-08-09T07:57:39.554Z"
   },
   {
    "duration": 1011,
    "start_time": "2022-08-09T07:57:53.666Z"
   },
   {
    "duration": 71,
    "start_time": "2022-08-09T07:57:54.679Z"
   },
   {
    "duration": 15,
    "start_time": "2022-08-09T07:57:54.752Z"
   },
   {
    "duration": 817,
    "start_time": "2022-08-09T07:57:54.769Z"
   },
   {
    "duration": 3,
    "start_time": "2022-08-09T07:57:55.588Z"
   },
   {
    "duration": 24,
    "start_time": "2022-08-09T07:57:55.593Z"
   },
   {
    "duration": 9,
    "start_time": "2022-08-09T07:57:55.618Z"
   },
   {
    "duration": 9,
    "start_time": "2022-08-09T07:57:55.628Z"
   },
   {
    "duration": 6,
    "start_time": "2022-08-09T07:57:55.639Z"
   },
   {
    "duration": 17,
    "start_time": "2022-08-09T07:57:55.649Z"
   },
   {
    "duration": 40,
    "start_time": "2022-08-09T07:57:55.669Z"
   },
   {
    "duration": 26,
    "start_time": "2022-08-09T07:57:55.711Z"
   },
   {
    "duration": 16,
    "start_time": "2022-08-09T07:57:55.739Z"
   },
   {
    "duration": 6,
    "start_time": "2022-08-09T07:57:55.756Z"
   },
   {
    "duration": 16,
    "start_time": "2022-08-09T07:57:55.763Z"
   },
   {
    "duration": 11,
    "start_time": "2022-08-09T07:57:55.781Z"
   },
   {
    "duration": 16,
    "start_time": "2022-08-09T07:57:55.794Z"
   },
   {
    "duration": 16,
    "start_time": "2022-08-09T07:57:55.811Z"
   },
   {
    "duration": 7,
    "start_time": "2022-08-09T07:57:55.829Z"
   },
   {
    "duration": 228,
    "start_time": "2022-08-09T07:57:55.838Z"
   },
   {
    "duration": 7,
    "start_time": "2022-08-09T07:57:56.068Z"
   },
   {
    "duration": 17,
    "start_time": "2022-08-09T07:57:56.077Z"
   },
   {
    "duration": 267,
    "start_time": "2022-08-09T07:57:56.106Z"
   },
   {
    "duration": 17,
    "start_time": "2022-08-09T07:57:56.375Z"
   },
   {
    "duration": 1042,
    "start_time": "2022-08-09T07:57:56.394Z"
   },
   {
    "duration": 6,
    "start_time": "2022-08-09T07:57:57.438Z"
   },
   {
    "duration": 669,
    "start_time": "2022-08-09T07:57:57.446Z"
   },
   {
    "duration": 23,
    "start_time": "2022-08-09T07:57:58.119Z"
   },
   {
    "duration": 270,
    "start_time": "2022-08-09T07:57:58.144Z"
   },
   {
    "duration": 14,
    "start_time": "2022-08-09T07:57:58.416Z"
   },
   {
    "duration": 15,
    "start_time": "2022-08-09T07:57:58.432Z"
   },
   {
    "duration": 288,
    "start_time": "2022-08-09T07:57:58.449Z"
   },
   {
    "duration": 68,
    "start_time": "2022-08-09T07:57:58.739Z"
   },
   {
    "duration": 299,
    "start_time": "2022-08-09T07:57:58.809Z"
   },
   {
    "duration": 18,
    "start_time": "2022-08-09T07:57:59.110Z"
   },
   {
    "duration": 11,
    "start_time": "2022-08-09T07:57:59.130Z"
   },
   {
    "duration": 508,
    "start_time": "2022-08-09T07:57:59.143Z"
   },
   {
    "duration": 6,
    "start_time": "2022-08-09T07:57:59.652Z"
   },
   {
    "duration": 13,
    "start_time": "2022-08-09T07:57:59.660Z"
   },
   {
    "duration": 437,
    "start_time": "2022-08-09T07:57:59.674Z"
   },
   {
    "duration": 7,
    "start_time": "2022-08-09T07:58:00.113Z"
   },
   {
    "duration": 15,
    "start_time": "2022-08-09T07:58:00.121Z"
   },
   {
    "duration": 361,
    "start_time": "2022-08-09T07:58:00.137Z"
   },
   {
    "duration": 9,
    "start_time": "2022-08-09T07:58:00.500Z"
   },
   {
    "duration": 25,
    "start_time": "2022-08-09T07:58:00.511Z"
   },
   {
    "duration": 40,
    "start_time": "2022-08-09T07:58:00.537Z"
   },
   {
    "duration": 26,
    "start_time": "2022-08-09T07:58:00.578Z"
   },
   {
    "duration": 18,
    "start_time": "2022-08-09T07:58:00.606Z"
   },
   {
    "duration": 10,
    "start_time": "2022-08-09T07:58:00.626Z"
   },
   {
    "duration": 361,
    "start_time": "2022-08-09T07:58:00.638Z"
   },
   {
    "duration": 14,
    "start_time": "2022-08-09T07:58:01.001Z"
   },
   {
    "duration": 10,
    "start_time": "2022-08-09T07:58:01.016Z"
   },
   {
    "duration": 15,
    "start_time": "2022-08-09T07:58:01.028Z"
   },
   {
    "duration": 358,
    "start_time": "2022-08-09T07:58:01.044Z"
   },
   {
    "duration": 11,
    "start_time": "2022-08-09T07:58:01.405Z"
   },
   {
    "duration": 23,
    "start_time": "2022-08-09T07:58:01.417Z"
   },
   {
    "duration": 19,
    "start_time": "2022-08-09T07:58:01.441Z"
   },
   {
    "duration": 391,
    "start_time": "2022-08-09T07:58:01.461Z"
   },
   {
    "duration": 9,
    "start_time": "2022-08-09T07:58:01.853Z"
   },
   {
    "duration": 43,
    "start_time": "2022-08-09T07:58:01.864Z"
   },
   {
    "duration": 82,
    "start_time": "2022-08-09T07:58:01.908Z"
   },
   {
    "duration": 1082,
    "start_time": "2022-08-09T07:58:14.903Z"
   },
   {
    "duration": 76,
    "start_time": "2022-08-09T07:58:15.987Z"
   },
   {
    "duration": 17,
    "start_time": "2022-08-09T07:58:16.065Z"
   },
   {
    "duration": 860,
    "start_time": "2022-08-09T07:58:16.085Z"
   },
   {
    "duration": 3,
    "start_time": "2022-08-09T07:58:16.947Z"
   },
   {
    "duration": 24,
    "start_time": "2022-08-09T07:58:16.952Z"
   },
   {
    "duration": 9,
    "start_time": "2022-08-09T07:58:16.977Z"
   },
   {
    "duration": 22,
    "start_time": "2022-08-09T07:58:16.988Z"
   },
   {
    "duration": 7,
    "start_time": "2022-08-09T07:58:17.012Z"
   },
   {
    "duration": 21,
    "start_time": "2022-08-09T07:58:17.022Z"
   },
   {
    "duration": 8,
    "start_time": "2022-08-09T07:58:17.045Z"
   },
   {
    "duration": 8,
    "start_time": "2022-08-09T07:58:17.055Z"
   },
   {
    "duration": 12,
    "start_time": "2022-08-09T07:58:17.064Z"
   },
   {
    "duration": 6,
    "start_time": "2022-08-09T07:58:17.106Z"
   },
   {
    "duration": 8,
    "start_time": "2022-08-09T07:58:17.113Z"
   },
   {
    "duration": 11,
    "start_time": "2022-08-09T07:58:17.123Z"
   },
   {
    "duration": 18,
    "start_time": "2022-08-09T07:58:17.136Z"
   },
   {
    "duration": 16,
    "start_time": "2022-08-09T07:58:17.155Z"
   },
   {
    "duration": 9,
    "start_time": "2022-08-09T07:58:17.172Z"
   },
   {
    "duration": 168,
    "start_time": "2022-08-09T07:58:22.430Z"
   },
   {
    "duration": 45,
    "start_time": "2022-08-09T07:58:29.563Z"
   },
   {
    "duration": 1294,
    "start_time": "2022-08-09T07:58:34.341Z"
   },
   {
    "duration": 77,
    "start_time": "2022-08-09T07:58:35.638Z"
   },
   {
    "duration": 14,
    "start_time": "2022-08-09T07:58:35.717Z"
   },
   {
    "duration": 856,
    "start_time": "2022-08-09T07:58:35.734Z"
   },
   {
    "duration": 3,
    "start_time": "2022-08-09T07:58:36.592Z"
   },
   {
    "duration": 30,
    "start_time": "2022-08-09T07:58:36.597Z"
   },
   {
    "duration": 14,
    "start_time": "2022-08-09T07:58:36.629Z"
   },
   {
    "duration": 7,
    "start_time": "2022-08-09T07:58:36.644Z"
   },
   {
    "duration": 7,
    "start_time": "2022-08-09T07:58:36.652Z"
   },
   {
    "duration": 17,
    "start_time": "2022-08-09T07:58:36.661Z"
   },
   {
    "duration": 30,
    "start_time": "2022-08-09T07:58:36.680Z"
   },
   {
    "duration": 6,
    "start_time": "2022-08-09T07:58:36.712Z"
   },
   {
    "duration": 10,
    "start_time": "2022-08-09T07:58:36.719Z"
   },
   {
    "duration": 5,
    "start_time": "2022-08-09T07:58:36.730Z"
   },
   {
    "duration": 5,
    "start_time": "2022-08-09T07:58:36.737Z"
   },
   {
    "duration": 7,
    "start_time": "2022-08-09T07:58:36.743Z"
   },
   {
    "duration": 12,
    "start_time": "2022-08-09T07:58:36.751Z"
   },
   {
    "duration": 47,
    "start_time": "2022-08-09T07:58:36.765Z"
   },
   {
    "duration": 161,
    "start_time": "2022-08-09T07:58:39.227Z"
   },
   {
    "duration": 1286,
    "start_time": "2022-08-09T07:59:09.416Z"
   },
   {
    "duration": 10,
    "start_time": "2022-08-09T07:59:29.035Z"
   },
   {
    "duration": 5,
    "start_time": "2022-08-09T07:59:35.599Z"
   },
   {
    "duration": 6,
    "start_time": "2022-08-09T07:59:45.591Z"
   },
   {
    "duration": 1116,
    "start_time": "2022-08-09T08:01:30.858Z"
   },
   {
    "duration": 67,
    "start_time": "2022-08-09T08:01:31.976Z"
   },
   {
    "duration": 13,
    "start_time": "2022-08-09T08:01:32.047Z"
   },
   {
    "duration": 735,
    "start_time": "2022-08-09T08:01:32.061Z"
   },
   {
    "duration": 10,
    "start_time": "2022-08-09T08:01:32.798Z"
   },
   {
    "duration": 19,
    "start_time": "2022-08-09T08:01:32.809Z"
   },
   {
    "duration": 8,
    "start_time": "2022-08-09T08:01:32.830Z"
   },
   {
    "duration": 8,
    "start_time": "2022-08-09T08:01:32.839Z"
   },
   {
    "duration": 7,
    "start_time": "2022-08-09T08:01:32.850Z"
   },
   {
    "duration": 18,
    "start_time": "2022-08-09T08:01:32.858Z"
   },
   {
    "duration": 32,
    "start_time": "2022-08-09T08:01:32.878Z"
   },
   {
    "duration": 10,
    "start_time": "2022-08-09T08:01:32.912Z"
   },
   {
    "duration": 11,
    "start_time": "2022-08-09T08:01:32.923Z"
   },
   {
    "duration": 5,
    "start_time": "2022-08-09T08:01:32.936Z"
   },
   {
    "duration": 5,
    "start_time": "2022-08-09T08:01:32.942Z"
   },
   {
    "duration": 8,
    "start_time": "2022-08-09T08:01:32.949Z"
   },
   {
    "duration": 48,
    "start_time": "2022-08-09T08:01:32.959Z"
   },
   {
    "duration": 17,
    "start_time": "2022-08-09T08:01:33.009Z"
   },
   {
    "duration": 6,
    "start_time": "2022-08-09T08:01:33.028Z"
   },
   {
    "duration": 202,
    "start_time": "2022-08-09T08:01:33.036Z"
   },
   {
    "duration": 5,
    "start_time": "2022-08-09T08:01:33.240Z"
   },
   {
    "duration": 14,
    "start_time": "2022-08-09T08:01:33.246Z"
   },
   {
    "duration": 259,
    "start_time": "2022-08-09T08:01:33.262Z"
   },
   {
    "duration": 20,
    "start_time": "2022-08-09T08:01:33.522Z"
   },
   {
    "duration": 985,
    "start_time": "2022-08-09T08:01:33.543Z"
   },
   {
    "duration": 7,
    "start_time": "2022-08-09T08:01:34.530Z"
   },
   {
    "duration": 321,
    "start_time": "2022-08-09T08:01:34.540Z"
   },
   {
    "duration": 24,
    "start_time": "2022-08-09T08:01:34.863Z"
   },
   {
    "duration": 141,
    "start_time": "2022-08-09T08:01:34.889Z"
   },
   {
    "duration": 15,
    "start_time": "2022-08-09T08:01:35.032Z"
   },
   {
    "duration": 16,
    "start_time": "2022-08-09T08:01:35.048Z"
   },
   {
    "duration": 150,
    "start_time": "2022-08-09T08:01:35.066Z"
   },
   {
    "duration": 13,
    "start_time": "2022-08-09T08:01:35.218Z"
   },
   {
    "duration": 148,
    "start_time": "2022-08-09T08:01:35.233Z"
   },
   {
    "duration": 14,
    "start_time": "2022-08-09T08:01:35.382Z"
   },
   {
    "duration": 5,
    "start_time": "2022-08-09T08:01:35.406Z"
   },
   {
    "duration": 435,
    "start_time": "2022-08-09T08:01:35.413Z"
   },
   {
    "duration": 8,
    "start_time": "2022-08-09T08:01:35.849Z"
   },
   {
    "duration": 8,
    "start_time": "2022-08-09T08:01:35.858Z"
   },
   {
    "duration": 541,
    "start_time": "2022-08-09T08:01:35.868Z"
   },
   {
    "duration": 8,
    "start_time": "2022-08-09T08:01:36.412Z"
   },
   {
    "duration": 17,
    "start_time": "2022-08-09T08:01:36.422Z"
   },
   {
    "duration": 443,
    "start_time": "2022-08-09T08:01:36.440Z"
   },
   {
    "duration": 6,
    "start_time": "2022-08-09T08:01:36.885Z"
   },
   {
    "duration": 21,
    "start_time": "2022-08-09T08:01:36.893Z"
   },
   {
    "duration": 26,
    "start_time": "2022-08-09T08:01:36.916Z"
   },
   {
    "duration": 12,
    "start_time": "2022-08-09T08:01:36.943Z"
   },
   {
    "duration": 12,
    "start_time": "2022-08-09T08:01:36.957Z"
   },
   {
    "duration": 45,
    "start_time": "2022-08-09T08:01:36.970Z"
   },
   {
    "duration": 374,
    "start_time": "2022-08-09T08:01:37.017Z"
   },
   {
    "duration": 15,
    "start_time": "2022-08-09T08:01:37.392Z"
   },
   {
    "duration": 15,
    "start_time": "2022-08-09T08:01:37.409Z"
   },
   {
    "duration": 16,
    "start_time": "2022-08-09T08:01:37.426Z"
   },
   {
    "duration": 373,
    "start_time": "2022-08-09T08:01:37.444Z"
   },
   {
    "duration": 11,
    "start_time": "2022-08-09T08:01:37.818Z"
   },
   {
    "duration": 12,
    "start_time": "2022-08-09T08:01:37.830Z"
   },
   {
    "duration": 9,
    "start_time": "2022-08-09T08:01:37.844Z"
   },
   {
    "duration": 442,
    "start_time": "2022-08-09T08:01:37.854Z"
   },
   {
    "duration": 12,
    "start_time": "2022-08-09T08:01:38.298Z"
   },
   {
    "duration": 16,
    "start_time": "2022-08-09T08:01:38.311Z"
   },
   {
    "duration": 28,
    "start_time": "2022-08-09T08:01:38.328Z"
   },
   {
    "duration": 1108,
    "start_time": "2022-08-09T08:24:52.672Z"
   },
   {
    "duration": 67,
    "start_time": "2022-08-09T08:24:53.783Z"
   },
   {
    "duration": 14,
    "start_time": "2022-08-09T08:24:53.852Z"
   },
   {
    "duration": 708,
    "start_time": "2022-08-09T08:24:53.869Z"
   },
   {
    "duration": 3,
    "start_time": "2022-08-09T08:24:54.579Z"
   },
   {
    "duration": 17,
    "start_time": "2022-08-09T08:24:54.583Z"
   },
   {
    "duration": 8,
    "start_time": "2022-08-09T08:24:54.611Z"
   },
   {
    "duration": 8,
    "start_time": "2022-08-09T08:24:54.620Z"
   },
   {
    "duration": 7,
    "start_time": "2022-08-09T08:24:54.629Z"
   },
   {
    "duration": 14,
    "start_time": "2022-08-09T08:24:54.639Z"
   },
   {
    "duration": 8,
    "start_time": "2022-08-09T08:24:54.654Z"
   },
   {
    "duration": 6,
    "start_time": "2022-08-09T08:24:54.663Z"
   },
   {
    "duration": 11,
    "start_time": "2022-08-09T08:24:54.671Z"
   },
   {
    "duration": 5,
    "start_time": "2022-08-09T08:24:54.711Z"
   },
   {
    "duration": 6,
    "start_time": "2022-08-09T08:24:54.718Z"
   },
   {
    "duration": 7,
    "start_time": "2022-08-09T08:24:54.726Z"
   },
   {
    "duration": 16,
    "start_time": "2022-08-09T08:24:54.734Z"
   },
   {
    "duration": 15,
    "start_time": "2022-08-09T08:24:54.751Z"
   },
   {
    "duration": 6,
    "start_time": "2022-08-09T08:24:54.767Z"
   },
   {
    "duration": 199,
    "start_time": "2022-08-09T08:24:54.774Z"
   },
   {
    "duration": 4,
    "start_time": "2022-08-09T08:24:54.975Z"
   },
   {
    "duration": 12,
    "start_time": "2022-08-09T08:24:54.981Z"
   },
   {
    "duration": 239,
    "start_time": "2022-08-09T08:24:54.994Z"
   },
   {
    "duration": 17,
    "start_time": "2022-08-09T08:24:55.235Z"
   },
   {
    "duration": 895,
    "start_time": "2022-08-09T08:24:55.254Z"
   },
   {
    "duration": 6,
    "start_time": "2022-08-09T08:24:56.151Z"
   },
   {
    "duration": 289,
    "start_time": "2022-08-09T08:24:56.158Z"
   },
   {
    "duration": 23,
    "start_time": "2022-08-09T08:24:56.451Z"
   },
   {
    "duration": 136,
    "start_time": "2022-08-09T08:24:56.475Z"
   },
   {
    "duration": 12,
    "start_time": "2022-08-09T08:24:56.612Z"
   },
   {
    "duration": 17,
    "start_time": "2022-08-09T08:24:56.625Z"
   },
   {
    "duration": 135,
    "start_time": "2022-08-09T08:24:56.643Z"
   },
   {
    "duration": 14,
    "start_time": "2022-08-09T08:24:56.779Z"
   },
   {
    "duration": 129,
    "start_time": "2022-08-09T08:24:56.794Z"
   },
   {
    "duration": 13,
    "start_time": "2022-08-09T08:24:56.924Z"
   },
   {
    "duration": 9,
    "start_time": "2022-08-09T08:24:56.939Z"
   },
   {
    "duration": 390,
    "start_time": "2022-08-09T08:24:56.950Z"
   },
   {
    "duration": 6,
    "start_time": "2022-08-09T08:24:57.342Z"
   },
   {
    "duration": 9,
    "start_time": "2022-08-09T08:24:57.349Z"
   },
   {
    "duration": 387,
    "start_time": "2022-08-09T08:24:57.359Z"
   },
   {
    "duration": 6,
    "start_time": "2022-08-09T08:24:57.748Z"
   },
   {
    "duration": 7,
    "start_time": "2022-08-09T08:24:57.755Z"
   },
   {
    "duration": 384,
    "start_time": "2022-08-09T08:24:57.763Z"
   },
   {
    "duration": 6,
    "start_time": "2022-08-09T08:24:58.149Z"
   },
   {
    "duration": 15,
    "start_time": "2022-08-09T08:24:58.157Z"
   },
   {
    "duration": 40,
    "start_time": "2022-08-09T08:24:58.173Z"
   },
   {
    "duration": 10,
    "start_time": "2022-08-09T08:24:58.215Z"
   },
   {
    "duration": 14,
    "start_time": "2022-08-09T08:24:58.227Z"
   },
   {
    "duration": 10,
    "start_time": "2022-08-09T08:24:58.243Z"
   },
   {
    "duration": 370,
    "start_time": "2022-08-09T08:24:58.254Z"
   },
   {
    "duration": 11,
    "start_time": "2022-08-09T08:24:58.625Z"
   },
   {
    "duration": 39,
    "start_time": "2022-08-09T08:24:58.638Z"
   },
   {
    "duration": 12,
    "start_time": "2022-08-09T08:24:58.678Z"
   },
   {
    "duration": 348,
    "start_time": "2022-08-09T08:24:58.692Z"
   },
   {
    "duration": 11,
    "start_time": "2022-08-09T08:24:59.042Z"
   },
   {
    "duration": 12,
    "start_time": "2022-08-09T08:24:59.055Z"
   },
   {
    "duration": 11,
    "start_time": "2022-08-09T08:24:59.069Z"
   },
   {
    "duration": 435,
    "start_time": "2022-08-09T08:24:59.082Z"
   },
   {
    "duration": 10,
    "start_time": "2022-08-09T08:24:59.519Z"
   },
   {
    "duration": 11,
    "start_time": "2022-08-09T08:24:59.531Z"
   },
   {
    "duration": 13,
    "start_time": "2022-08-09T08:24:59.543Z"
   }
  ],
  "kernelspec": {
   "display_name": "Python 3 (ipykernel)",
   "language": "python",
   "name": "python3"
  },
  "language_info": {
   "codemirror_mode": {
    "name": "ipython",
    "version": 3
   },
   "file_extension": ".py",
   "mimetype": "text/x-python",
   "name": "python",
   "nbconvert_exporter": "python",
   "pygments_lexer": "ipython3",
   "version": "3.9.13"
  },
  "toc": {
   "base_numbering": 1,
   "nav_menu": {},
   "number_sections": true,
   "sideBar": true,
   "skip_h1_title": true,
   "title_cell": "Table of Contents",
   "title_sidebar": "Contents",
   "toc_cell": false,
   "toc_position": {
    "height": "calc(100% - 180px)",
    "left": "10px",
    "top": "150px",
    "width": "249.438px"
   },
   "toc_section_display": true,
   "toc_window_display": true
  }
 },
 "nbformat": 4,
 "nbformat_minor": 2
}
