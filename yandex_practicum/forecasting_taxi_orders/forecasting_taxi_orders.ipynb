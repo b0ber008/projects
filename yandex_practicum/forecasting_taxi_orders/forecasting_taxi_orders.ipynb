{
 "cells": [
  {
   "cell_type": "markdown",
   "metadata": {},
   "source": [
    "#  Прогнозирование заказов такси"
   ]
  },
  {
   "cell_type": "markdown",
   "metadata": {},
   "source": [
    "Компания «Чётенькое такси» собрала исторические данные о заказах такси в аэропортах. Чтобы привлекать больше водителей в период пиковой нагрузки, нужно спрогнозировать количество заказов такси на следующий час. Постройте модель для такого предсказания.\n",
    "\n",
    "Значение метрики *RMSE* на тестовой выборке должно быть не больше 48.\n",
    "\n",
    "Вам нужно:\n",
    "\n",
    "1. Загрузить данные и выполнить их ресемплирование по одному часу.\n",
    "2. Проанализировать данные.\n",
    "3. Обучить разные модели с различными гиперпараметрами. Сделать тестовую выборку размером 10% от исходных данных.\n",
    "4. Проверить данные на тестовой выборке и сделать выводы.\n",
    "\n",
    "\n",
    "Данные лежат в файле `taxi.csv`. Количество заказов находится в столбце `num_orders` (от англ. *number of orders*, «число заказов»)."
   ]
  },
  {
   "cell_type": "markdown",
   "metadata": {},
   "source": [
    "## Подготовка"
   ]
  },
  {
   "cell_type": "markdown",
   "metadata": {},
   "source": [
    "### Импортируем и изучаем данные"
   ]
  },
  {
   "cell_type": "code",
   "execution_count": 1,
   "metadata": {},
   "outputs": [],
   "source": [
    "# Необходимые импорты\n",
    "\n",
    "import pandas as pd\n",
    "import numpy as np\n",
    "import matplotlib.pyplot as plt\n",
    "\n",
    "from statsmodels.tsa.seasonal import seasonal_decompose\n",
    "from sklearn.model_selection import train_test_split, TimeSeriesSplit, GridSearchCV\n",
    "from sklearn.metrics import mean_squared_error\n",
    "\n",
    "from sklearn.linear_model import LinearRegression\n",
    "import catboost as cat\n",
    "from catboost import CatBoostRegressor\n",
    "import lightgbm as lgb\n",
    "from lightgbm import LGBMRegressor"
   ]
  },
  {
   "cell_type": "code",
   "execution_count": 2,
   "metadata": {
    "scrolled": true
   },
   "outputs": [
    {
     "data": {
      "text/html": [
       "<div>\n",
       "<style scoped>\n",
       "    .dataframe tbody tr th:only-of-type {\n",
       "        vertical-align: middle;\n",
       "    }\n",
       "\n",
       "    .dataframe tbody tr th {\n",
       "        vertical-align: top;\n",
       "    }\n",
       "\n",
       "    .dataframe thead th {\n",
       "        text-align: right;\n",
       "    }\n",
       "</style>\n",
       "<table border=\"1\" class=\"dataframe\">\n",
       "  <thead>\n",
       "    <tr style=\"text-align: right;\">\n",
       "      <th></th>\n",
       "      <th>num_orders</th>\n",
       "    </tr>\n",
       "    <tr>\n",
       "      <th>datetime</th>\n",
       "      <th></th>\n",
       "    </tr>\n",
       "  </thead>\n",
       "  <tbody>\n",
       "    <tr>\n",
       "      <th>2018-03-01 00:00:00</th>\n",
       "      <td>9</td>\n",
       "    </tr>\n",
       "    <tr>\n",
       "      <th>2018-03-01 00:10:00</th>\n",
       "      <td>14</td>\n",
       "    </tr>\n",
       "    <tr>\n",
       "      <th>2018-03-01 00:20:00</th>\n",
       "      <td>28</td>\n",
       "    </tr>\n",
       "    <tr>\n",
       "      <th>2018-03-01 00:30:00</th>\n",
       "      <td>20</td>\n",
       "    </tr>\n",
       "    <tr>\n",
       "      <th>2018-03-01 00:40:00</th>\n",
       "      <td>32</td>\n",
       "    </tr>\n",
       "  </tbody>\n",
       "</table>\n",
       "</div>"
      ],
      "text/plain": [
       "                     num_orders\n",
       "datetime                       \n",
       "2018-03-01 00:00:00           9\n",
       "2018-03-01 00:10:00          14\n",
       "2018-03-01 00:20:00          28\n",
       "2018-03-01 00:30:00          20\n",
       "2018-03-01 00:40:00          32"
      ]
     },
     "execution_count": 2,
     "metadata": {},
     "output_type": "execute_result"
    }
   ],
   "source": [
    "# Сохраняем информацию файла в датафрейме data\n",
    "data = pd.read_csv('/datasets/taxi.csv', index_col=[0], parse_dates=[0])\n",
    "# data.sort_index(inplace=True) Изначально хотел отсортировать индексы, но в датафрейме они итак идут в нужном порядке\n",
    "# data.index.is_monotonic\n",
    "\n",
    "data.head() # Выводим первые строчки датафрейма для ознакомления"
   ]
  },
  {
   "cell_type": "code",
   "execution_count": 3,
   "metadata": {},
   "outputs": [
    {
     "name": "stdout",
     "output_type": "stream",
     "text": [
      "<class 'pandas.core.frame.DataFrame'>\n",
      "DatetimeIndex: 26496 entries, 2018-03-01 00:00:00 to 2018-08-31 23:50:00\n",
      "Data columns (total 1 columns):\n",
      " #   Column      Non-Null Count  Dtype\n",
      "---  ------      --------------  -----\n",
      " 0   num_orders  26496 non-null  int64\n",
      "dtypes: int64(1)\n",
      "memory usage: 414.0 KB\n"
     ]
    }
   ],
   "source": [
    "data.info() # Смотрим общую информацию"
   ]
  },
  {
   "cell_type": "code",
   "execution_count": 4,
   "metadata": {},
   "outputs": [
    {
     "data": {
      "text/html": [
       "<div>\n",
       "<style scoped>\n",
       "    .dataframe tbody tr th:only-of-type {\n",
       "        vertical-align: middle;\n",
       "    }\n",
       "\n",
       "    .dataframe tbody tr th {\n",
       "        vertical-align: top;\n",
       "    }\n",
       "\n",
       "    .dataframe thead th {\n",
       "        text-align: right;\n",
       "    }\n",
       "</style>\n",
       "<table border=\"1\" class=\"dataframe\">\n",
       "  <thead>\n",
       "    <tr style=\"text-align: right;\">\n",
       "      <th></th>\n",
       "      <th>num_orders</th>\n",
       "    </tr>\n",
       "  </thead>\n",
       "  <tbody>\n",
       "    <tr>\n",
       "      <th>count</th>\n",
       "      <td>26496.000000</td>\n",
       "    </tr>\n",
       "    <tr>\n",
       "      <th>mean</th>\n",
       "      <td>14.070463</td>\n",
       "    </tr>\n",
       "    <tr>\n",
       "      <th>std</th>\n",
       "      <td>9.211330</td>\n",
       "    </tr>\n",
       "    <tr>\n",
       "      <th>min</th>\n",
       "      <td>0.000000</td>\n",
       "    </tr>\n",
       "    <tr>\n",
       "      <th>25%</th>\n",
       "      <td>8.000000</td>\n",
       "    </tr>\n",
       "    <tr>\n",
       "      <th>50%</th>\n",
       "      <td>13.000000</td>\n",
       "    </tr>\n",
       "    <tr>\n",
       "      <th>75%</th>\n",
       "      <td>19.000000</td>\n",
       "    </tr>\n",
       "    <tr>\n",
       "      <th>max</th>\n",
       "      <td>119.000000</td>\n",
       "    </tr>\n",
       "  </tbody>\n",
       "</table>\n",
       "</div>"
      ],
      "text/plain": [
       "         num_orders\n",
       "count  26496.000000\n",
       "mean      14.070463\n",
       "std        9.211330\n",
       "min        0.000000\n",
       "25%        8.000000\n",
       "50%       13.000000\n",
       "75%       19.000000\n",
       "max      119.000000"
      ]
     },
     "execution_count": 4,
     "metadata": {},
     "output_type": "execute_result"
    }
   ],
   "source": [
    "data.describe() # Смотрим распределения значений"
   ]
  },
  {
   "cell_type": "code",
   "execution_count": 5,
   "metadata": {
    "scrolled": true
   },
   "outputs": [
    {
     "data": {
      "text/plain": [
       "num_orders    537\n",
       "dtype: int64"
      ]
     },
     "execution_count": 5,
     "metadata": {},
     "output_type": "execute_result"
    }
   ],
   "source": [
    "data[data['num_orders'] == 0].count() # Считаем строки, у которых количество заказов равно нулю"
   ]
  },
  {
   "cell_type": "code",
   "execution_count": 6,
   "metadata": {},
   "outputs": [
    {
     "data": {
      "text/plain": [
       "Timedelta('183 days 23:50:00')"
      ]
     },
     "execution_count": 6,
     "metadata": {},
     "output_type": "execute_result"
    }
   ],
   "source": [
    "data.index.max() - data.index.min()"
   ]
  },
  {
   "cell_type": "markdown",
   "metadata": {},
   "source": [
    "По полученным данным можно сделать следующие выводы:\n",
    "* Мы имеем датафрейм с одном столбцом - количество заказов такси. И индексом в виде времени;\n",
    "* Пропущенных значений у нас нет;\n",
    "* В данных есть 537 строк с нулевым количеством заказов;\n",
    "* Типы данных имеют корректный вид;\n",
    "* Данные у нас почти за 184 дня."
   ]
  },
  {
   "cell_type": "markdown",
   "metadata": {},
   "source": [
    "## Анализ"
   ]
  },
  {
   "cell_type": "code",
   "execution_count": 7,
   "metadata": {},
   "outputs": [],
   "source": [
    "data = data.resample('1H').sum() # Выполняем ресемплемирование по часам"
   ]
  },
  {
   "cell_type": "code",
   "execution_count": 8,
   "metadata": {},
   "outputs": [
    {
     "data": {
      "image/png": "[encoded data removed]",
      "text/plain": [
       "<Figure size 720x576 with 1 Axes>"
      ]
     },
     "metadata": {
      "needs_background": "light"
     },
     "output_type": "display_data"
    }
   ],
   "source": [
    "data.plot(figsize=(10,8)) # Выводим на экран график по заказам такси\n",
    "None"
   ]
  },
  {
   "cell_type": "markdown",
   "metadata": {},
   "source": [
    "По такому графику едва ли можно сделать какие-либо выводы."
   ]
  },
  {
   "cell_type": "code",
   "execution_count": 9,
   "metadata": {},
   "outputs": [],
   "source": [
    "# Раскладываем временной ряд на три составляющие: тренд, сезонность и остаток\n",
    "decomposed = seasonal_decompose(data)"
   ]
  },
  {
   "cell_type": "code",
   "execution_count": 10,
   "metadata": {},
   "outputs": [
    {
     "data": {
      "image/png": "[encoded data removed]",
      "text/plain": [
       "<Figure size 720x576 with 1 Axes>"
      ]
     },
     "metadata": {
      "needs_background": "light"
     },
     "output_type": "display_data"
    }
   ],
   "source": [
    "decomposed.trend.plot(figsize=(10,8))\n",
    "None"
   ]
  },
  {
   "cell_type": "code",
   "execution_count": 11,
   "metadata": {},
   "outputs": [
    {
     "data": {
      "image/png": "[encoded data removed]",
      "text/plain": [
       "<Figure size 720x576 with 1 Axes>"
      ]
     },
     "metadata": {
      "needs_background": "light"
     },
     "output_type": "display_data"
    }
   ],
   "source": [
    "decomposed.seasonal.plot(figsize=(10,8))\n",
    "None"
   ]
  },
  {
   "cell_type": "code",
   "execution_count": 12,
   "metadata": {},
   "outputs": [
    {
     "data": {
      "image/png": "[encoded data removed]",
      "text/plain": [
       "<Figure size 720x576 with 1 Axes>"
      ]
     },
     "metadata": {
      "needs_background": "light"
     },
     "output_type": "display_data"
    }
   ],
   "source": [
    "decomposed.resid.plot(figsize=(10,8))\n",
    "None"
   ]
  },
  {
   "cell_type": "code",
   "execution_count": 13,
   "metadata": {},
   "outputs": [
    {
     "name": "stdout",
     "output_type": "stream",
     "text": [
      "2018-08-31 23:00:00\n"
     ]
    },
    {
     "data": {
      "text/plain": [
       "<AxesSubplot:xlabel='datetime'>"
      ]
     },
     "metadata": {},
     "output_type": "display_data"
    },
    {
     "data": {
      "image/png": "[encoded data removed]",
      "text/plain": [
       "<Figure size 720x576 with 1 Axes>"
      ]
     },
     "metadata": {
      "needs_background": "light"
     },
     "output_type": "display_data"
    },
    {
     "data": {
      "text/plain": [
       "<AxesSubplot:xlabel='datetime'>"
      ]
     },
     "metadata": {},
     "output_type": "display_data"
    },
    {
     "data": {
      "image/png": "[encoded data removed]",
      "text/plain": [
       "<Figure size 720x576 with 1 Axes>"
      ]
     },
     "metadata": {
      "needs_background": "light"
     },
     "output_type": "display_data"
    },
    {
     "data": {
      "text/plain": [
       "<AxesSubplot:xlabel='datetime'>"
      ]
     },
     "metadata": {},
     "output_type": "display_data"
    },
    {
     "data": {
      "image/png": "[encoded data removed]",
      "text/plain": [
       "<Figure size 720x576 with 1 Axes>"
      ]
     },
     "metadata": {
      "needs_background": "light"
     },
     "output_type": "display_data"
    }
   ],
   "source": [
    "print(data.index.max()) # Смотрим, какой датой ограничивается наш набор данных\n",
    "# Возьмем для построения графиков последнюю неделю\n",
    "decomposed = seasonal_decompose(data['2018-08-25':'2018-08-31'])\n",
    "\n",
    "# Смотрим на графики еще раз\n",
    "display(decomposed.trend.plot(figsize=(10,8)))\n",
    "plt.show()\n",
    "display(decomposed.seasonal.plot(figsize=(10,8)))\n",
    "plt.show()\n",
    "display(decomposed.resid.plot(figsize=(10,8)))"
   ]
  },
  {
   "cell_type": "markdown",
   "metadata": {},
   "source": [
    "* Теперь хорошо прослеживается сезонность.\n",
    "* Можно смело заявить, что ночью заказы стремятся к нулю, а вечером происходит пик спроса.\n",
    "* В целом, количество заказов растет"
   ]
  },
  {
   "cell_type": "code",
   "execution_count": 14,
   "metadata": {},
   "outputs": [
    {
     "data": {
      "text/plain": [
       "<AxesSubplot:xlabel='datetime'>"
      ]
     },
     "metadata": {},
     "output_type": "display_data"
    },
    {
     "data": {
      "image/png": "[encoded data removed]",
      "text/plain": [
       "<Figure size 720x576 with 1 Axes>"
      ]
     },
     "metadata": {
      "needs_background": "light"
     },
     "output_type": "display_data"
    }
   ],
   "source": [
    "data_day = data.resample('1D').sum()\n",
    "decomposed_day = seasonal_decompose(data_day['2018-08-01':'2018-08-31'])\n",
    "display(decomposed_day.seasonal.plot(figsize=(10,8)))"
   ]
  },
  {
   "cell_type": "code",
   "execution_count": 15,
   "metadata": {
    "scrolled": false
   },
   "outputs": [
    {
     "data": {
      "image/png": "[encoded data removed]",
      "text/plain": [
       "<Figure size 720x576 with 1 Axes>"
      ]
     },
     "metadata": {
      "needs_background": "light"
     },
     "output_type": "display_data"
    }
   ],
   "source": [
    "new_data = data - data.shift()\n",
    "new_data['mean'] = new_data['num_orders'].shift().rolling(15).mean() # скользящее среднее с окном размером 15\n",
    "new_data['std'] = new_data['num_orders'].shift().rolling(15).std() # стандартное отклонение\n",
    "new_data.plot(figsize=(10,8))\n",
    "None"
   ]
  },
  {
   "cell_type": "markdown",
   "metadata": {},
   "source": [
    "## Обучение"
   ]
  },
  {
   "cell_type": "markdown",
   "metadata": {},
   "source": [
    "### Деление на выборки"
   ]
  },
  {
   "cell_type": "code",
   "execution_count": 16,
   "metadata": {},
   "outputs": [],
   "source": [
    "max_lag = 24 # задаем максимальный размер отставания\n",
    "rolling_mean_size = 48 # задаем ширину окна\n",
    "def make_features(data, max_lag, rolling_mean_size): # создаем признаки\n",
    "#     data['day'] = data.index.day\n",
    "    data['dayofweek'] = data.index.dayofweek\n",
    "#     data['month'] = data.index.month\n",
    "    data['hour'] = data.index.hour\n",
    "    \n",
    "    for lag in range(1, max_lag + 1):\n",
    "        data['lag_{}'.format(lag)] = data['num_orders'].shift(lag)\n",
    "\n",
    "    data['rolling_mean'] = data['num_orders'].shift().rolling(rolling_mean_size).mean()"
   ]
  },
  {
   "cell_type": "code",
   "execution_count": 17,
   "metadata": {},
   "outputs": [],
   "source": [
    "make_features(data, max_lag, rolling_mean_size) # запускаем функцию\n",
    "\n",
    "# производим деление на выборки\n",
    "# тестовая у нас должна быть 10%\n",
    "train, test = train_test_split(data, shuffle=False, test_size=0.2, random_state=12345)\n",
    "valid, test = train_test_split(test, shuffle = False, test_size = 0.5, random_state=12345)\n",
    "train = train.dropna()\n",
    "\n",
    "# features_train = train.drop('num_orders', axis=1)\n",
    "# target_train = train['num_orders']\n",
    "# features_test = test.drop('num_orders', axis=1)\n",
    "# target_test = test['num_orders']\n",
    "\n",
    "# print(features_train.shape) # проверяем\n",
    "# print(features_test.shape)\n",
    "# print(target_train.shape)\n",
    "# print(target_test.shape)\n",
    "\n",
    "(features_train,\n",
    "features_valid,\n",
    "features_test) = (train.drop('num_orders',axis = 1),\n",
    "                  valid.drop('num_orders',axis = 1),\n",
    "                  test.drop('num_orders',axis = 1))\n",
    "(target_train,\n",
    "target_valid,\n",
    "target_test) = (train['num_orders'],\n",
    "                valid['num_orders'],\n",
    "                test['num_orders'])"
   ]
  },
  {
   "cell_type": "markdown",
   "metadata": {},
   "source": [
    "### Линейная регрессия"
   ]
  },
  {
   "cell_type": "code",
   "execution_count": 83,
   "metadata": {},
   "outputs": [
    {
     "name": "stdout",
     "output_type": "stream",
     "text": [
      "CPU times: user 50.4 ms, sys: 35.6 ms, total: 85.9 ms\n",
      "Wall time: 15.8 ms\n"
     ]
    },
    {
     "data": {
      "text/plain": [
       "34.26160725839712"
      ]
     },
     "execution_count": 83,
     "metadata": {},
     "output_type": "execute_result"
    }
   ],
   "source": [
    "%%time\n",
    "\n",
    "model_LR = LinearRegression()\n",
    "model_LR.fit(features_train, target_train)\n",
    "pred_LR = model_LR.predict(features_valid)\n",
    "mean_squared_error(target_valid, pred_LR)**0.5"
   ]
  },
  {
   "cell_type": "markdown",
   "metadata": {},
   "source": [
    "### CatBoost"
   ]
  },
  {
   "cell_type": "code",
   "execution_count": 19,
   "metadata": {
    "scrolled": true
   },
   "outputs": [
    {
     "name": "stdout",
     "output_type": "stream",
     "text": [
      "CPU times: user 33min 20s, sys: 16.1 s, total: 33min 36s\n",
      "Wall time: 35min 20s\n"
     ]
    },
    {
     "data": {
      "text/plain": [
       "GridSearchCV(cv=TimeSeriesSplit(gap=0, max_train_size=None, n_splits=8, test_size=None),\n",
       "             estimator=<catboost.core.CatBoostRegressor object at 0x7f0ee9e8f2e0>,\n",
       "             param_grid={'depth': [3, 6, 10], 'iterations': [1000, 2000],\n",
       "                         'learning_rate': [0.03, 0.1], 'verbose': [False]},\n",
       "             scoring='neg_root_mean_squared_error')"
      ]
     },
     "execution_count": 19,
     "metadata": {},
     "output_type": "execute_result"
    }
   ],
   "source": [
    "%%time\n",
    "\n",
    "data_train = cat.Pool(features_train, target_train)\n",
    "# data_train = cat.Pool(features_test, target_test)\n",
    "model_cat = CatBoostRegressor(random_state = 12345)\n",
    "param = {'depth' : [3, 6, 10],\n",
    "                'learning_rate' : [0.03, 0.1],\n",
    "                'iterations' : [1000, 2000],\n",
    "                'verbose' : [False]\n",
    "               }\n",
    "tscv = TimeSeriesSplit(n_splits=8)\n",
    "gsearch_cat = GridSearchCV(estimator=model_cat, cv=tscv,\n",
    "                        param_grid=param, scoring = 'neg_root_mean_squared_error')\n",
    "gsearch_cat.fit(features_train, target_train)"
   ]
  },
  {
   "cell_type": "code",
   "execution_count": 20,
   "metadata": {},
   "outputs": [
    {
     "data": {
      "text/plain": [
       "'RMSE:'"
      ]
     },
     "metadata": {},
     "output_type": "display_data"
    },
    {
     "data": {
      "text/plain": [
       "22.258904091600584"
      ]
     },
     "metadata": {},
     "output_type": "display_data"
    },
    {
     "data": {
      "text/plain": [
       "'Лучшие параметры:'"
      ]
     },
     "metadata": {},
     "output_type": "display_data"
    },
    {
     "data": {
      "text/plain": [
       "{'depth': 6, 'iterations': 2000, 'learning_rate': 0.03, 'verbose': False}"
      ]
     },
     "metadata": {},
     "output_type": "display_data"
    }
   ],
   "source": [
    "display('RMSE:', np.abs(gsearch_cat.best_score_))\n",
    "display('Лучшие параметры:', gsearch_cat.best_params_)"
   ]
  },
  {
   "cell_type": "markdown",
   "metadata": {},
   "source": [
    "### LGBM"
   ]
  },
  {
   "cell_type": "code",
   "execution_count": 21,
   "metadata": {},
   "outputs": [
    {
     "name": "stdout",
     "output_type": "stream",
     "text": [
      "[LightGBM] [Warning] Unknown parameter: depth\n",
      "[LightGBM] [Warning] Unknown parameter: depth\n",
      "[LightGBM] [Warning] Unknown parameter: depth\n",
      "[LightGBM] [Warning] Unknown parameter: depth\n",
      "[LightGBM] [Warning] Unknown parameter: depth\n",
      "[LightGBM] [Warning] Unknown parameter: depth\n",
      "[LightGBM] [Warning] Unknown parameter: depth\n",
      "[LightGBM] [Warning] Unknown parameter: depth\n",
      "[LightGBM] [Warning] Unknown parameter: depth\n",
      "[LightGBM] [Warning] Unknown parameter: depth\n",
      "[LightGBM] [Warning] Unknown parameter: depth\n",
      "[LightGBM] [Warning] Unknown parameter: depth\n",
      "[LightGBM] [Warning] Unknown parameter: depth\n",
      "[LightGBM] [Warning] Unknown parameter: depth\n",
      "[LightGBM] [Warning] Unknown parameter: depth\n",
      "[LightGBM] [Warning] Unknown parameter: depth\n",
      "[LightGBM] [Warning] Unknown parameter: depth\n",
      "[LightGBM] [Warning] Unknown parameter: depth\n",
      "[LightGBM] [Warning] Unknown parameter: depth\n",
      "[LightGBM] [Warning] Unknown parameter: depth\n",
      "[LightGBM] [Warning] Unknown parameter: depth\n",
      "[LightGBM] [Warning] Unknown parameter: depth\n",
      "[LightGBM] [Warning] Unknown parameter: depth\n",
      "[LightGBM] [Warning] Unknown parameter: depth\n",
      "[LightGBM] [Warning] Unknown parameter: depth\n",
      "[LightGBM] [Warning] Unknown parameter: depth\n",
      "[LightGBM] [Warning] Unknown parameter: depth\n",
      "[LightGBM] [Warning] Unknown parameter: depth\n",
      "[LightGBM] [Warning] Unknown parameter: depth\n",
      "[LightGBM] [Warning] Unknown parameter: depth\n",
      "[LightGBM] [Warning] Unknown parameter: depth\n",
      "[LightGBM] [Warning] Unknown parameter: depth\n",
      "[LightGBM] [Warning] Unknown parameter: depth\n",
      "[LightGBM] [Warning] Unknown parameter: depth\n",
      "[LightGBM] [Warning] Unknown parameter: depth\n",
      "[LightGBM] [Warning] Unknown parameter: depth\n",
      "[LightGBM] [Warning] Unknown parameter: depth\n",
      "[LightGBM] [Warning] Unknown parameter: depth\n",
      "[LightGBM] [Warning] Unknown parameter: depth\n",
      "[LightGBM] [Warning] Unknown parameter: depth\n",
      "[LightGBM] [Warning] Unknown parameter: depth\n",
      "[LightGBM] [Warning] Unknown parameter: depth\n",
      "[LightGBM] [Warning] Unknown parameter: depth\n",
      "[LightGBM] [Warning] Unknown parameter: depth\n",
      "[LightGBM] [Warning] Unknown parameter: depth\n",
      "[LightGBM] [Warning] Unknown parameter: depth\n",
      "[LightGBM] [Warning] Unknown parameter: depth\n",
      "[LightGBM] [Warning] Unknown parameter: depth\n",
      "[LightGBM] [Warning] Unknown parameter: depth\n",
      "[LightGBM] [Warning] Unknown parameter: depth\n",
      "[LightGBM] [Warning] Unknown parameter: depth\n",
      "[LightGBM] [Warning] Unknown parameter: depth\n",
      "[LightGBM] [Warning] Unknown parameter: depth\n",
      "[LightGBM] [Warning] Unknown parameter: depth\n",
      "[LightGBM] [Warning] Unknown parameter: depth\n",
      "[LightGBM] [Warning] Unknown parameter: depth\n",
      "[LightGBM] [Warning] Unknown parameter: depth\n",
      "[LightGBM] [Warning] Unknown parameter: depth\n",
      "[LightGBM] [Warning] Unknown parameter: depth\n",
      "[LightGBM] [Warning] Unknown parameter: depth\n",
      "[LightGBM] [Warning] Unknown parameter: depth\n",
      "[LightGBM] [Warning] Unknown parameter: depth\n",
      "[LightGBM] [Warning] Unknown parameter: depth\n",
      "[LightGBM] [Warning] Unknown parameter: depth\n",
      "[LightGBM] [Warning] Unknown parameter: depth\n",
      "[LightGBM] [Warning] Unknown parameter: depth\n",
      "[LightGBM] [Warning] Unknown parameter: depth\n",
      "[LightGBM] [Warning] Unknown parameter: depth\n",
      "[LightGBM] [Warning] Unknown parameter: depth\n",
      "[LightGBM] [Warning] Unknown parameter: depth\n",
      "[LightGBM] [Warning] Unknown parameter: depth\n",
      "[LightGBM] [Warning] Unknown parameter: depth\n",
      "[LightGBM] [Warning] Unknown parameter: depth\n",
      "[LightGBM] [Warning] Unknown parameter: depth\n",
      "[LightGBM] [Warning] Unknown parameter: depth\n",
      "[LightGBM] [Warning] Unknown parameter: depth\n",
      "[LightGBM] [Warning] Unknown parameter: depth\n",
      "[LightGBM] [Warning] Unknown parameter: depth\n",
      "[LightGBM] [Warning] Unknown parameter: depth\n",
      "[LightGBM] [Warning] Unknown parameter: depth\n",
      "[LightGBM] [Warning] Unknown parameter: depth\n",
      "[LightGBM] [Warning] Unknown parameter: depth\n",
      "[LightGBM] [Warning] Unknown parameter: depth\n",
      "[LightGBM] [Warning] Unknown parameter: depth\n",
      "[LightGBM] [Warning] Unknown parameter: depth\n",
      "[LightGBM] [Warning] Unknown parameter: depth\n",
      "[LightGBM] [Warning] Unknown parameter: depth\n",
      "[LightGBM] [Warning] Unknown parameter: depth\n",
      "[LightGBM] [Warning] Unknown parameter: depth\n",
      "[LightGBM] [Warning] Unknown parameter: depth\n",
      "[LightGBM] [Warning] Unknown parameter: depth\n",
      "[LightGBM] [Warning] Unknown parameter: depth\n",
      "[LightGBM] [Warning] Unknown parameter: depth\n",
      "[LightGBM] [Warning] Unknown parameter: depth\n",
      "[LightGBM] [Warning] Unknown parameter: depth\n",
      "[LightGBM] [Warning] Unknown parameter: depth\n",
      "[LightGBM] [Warning] Unknown parameter: depth\n",
      "[LightGBM] [Warning] Unknown parameter: depth\n",
      "[LightGBM] [Warning] Unknown parameter: depth\n",
      "[LightGBM] [Warning] Unknown parameter: depth\n",
      "[LightGBM] [Warning] Unknown parameter: depth\n",
      "[LightGBM] [Warning] Unknown parameter: depth\n",
      "[LightGBM] [Warning] Unknown parameter: depth\n",
      "[LightGBM] [Warning] Unknown parameter: depth\n",
      "[LightGBM] [Warning] Unknown parameter: depth\n",
      "[LightGBM] [Warning] Unknown parameter: depth\n",
      "[LightGBM] [Warning] Unknown parameter: depth\n",
      "[LightGBM] [Warning] Unknown parameter: depth\n",
      "[LightGBM] [Warning] Unknown parameter: depth\n",
      "[LightGBM] [Warning] Unknown parameter: depth\n",
      "[LightGBM] [Warning] Unknown parameter: depth\n",
      "[LightGBM] [Warning] Unknown parameter: depth\n",
      "[LightGBM] [Warning] Unknown parameter: depth\n",
      "[LightGBM] [Warning] Unknown parameter: depth\n",
      "[LightGBM] [Warning] Unknown parameter: depth\n",
      "[LightGBM] [Warning] Unknown parameter: depth\n",
      "[LightGBM] [Warning] Unknown parameter: depth\n",
      "[LightGBM] [Warning] Unknown parameter: depth\n",
      "[LightGBM] [Warning] Unknown parameter: depth\n",
      "[LightGBM] [Warning] Unknown parameter: depth\n",
      "[LightGBM] [Warning] Unknown parameter: depth\n",
      "CPU times: user 8min 16s, sys: 4.66 s, total: 8min 20s\n",
      "Wall time: 8min 24s\n"
     ]
    },
    {
     "data": {
      "text/plain": [
       "GridSearchCV(cv=TimeSeriesSplit(gap=0, max_train_size=None, n_splits=5, test_size=None),\n",
       "             estimator=LGBMRegressor(random_state=12345),\n",
       "             param_grid={'depth': [-1, 3, 6, 10], 'learning_rate': [0.03, 0.1],\n",
       "                         'n_estimators': [100, 200, 1000]},\n",
       "             scoring='neg_root_mean_squared_error')"
      ]
     },
     "execution_count": 21,
     "metadata": {},
     "output_type": "execute_result"
    }
   ],
   "source": [
    "%%time\n",
    "\n",
    "model_LGBM = LGBMRegressor(random_state = 12345)\n",
    "param = {'depth' : [-1, 3, 6, 10],\n",
    "                'learning_rate' : [0.03, 0.1],\n",
    "                'n_estimators' : [100, 200, 1000]\n",
    "               }\n",
    "tscv = TimeSeriesSplit(n_splits=5)\n",
    "gsearch_LGBM = GridSearchCV(estimator=model_LGBM, cv=tscv,\n",
    "                        param_grid=param,scoring = 'neg_root_mean_squared_error')\n",
    "gsearch_LGBM.fit(features_train, target_train)"
   ]
  },
  {
   "cell_type": "code",
   "execution_count": 22,
   "metadata": {},
   "outputs": [
    {
     "data": {
      "text/plain": [
       "'RMSE:'"
      ]
     },
     "metadata": {},
     "output_type": "display_data"
    },
    {
     "data": {
      "text/plain": [
       "23.99822262172281"
      ]
     },
     "metadata": {},
     "output_type": "display_data"
    },
    {
     "data": {
      "text/plain": [
       "'Лучшие параметры:'"
      ]
     },
     "metadata": {},
     "output_type": "display_data"
    },
    {
     "data": {
      "text/plain": [
       "{'depth': -1, 'learning_rate': 0.03, 'n_estimators': 200}"
      ]
     },
     "metadata": {},
     "output_type": "display_data"
    }
   ],
   "source": [
    "display('RMSE:', np.abs(gsearch_LGBM.best_score_))\n",
    "display('Лучшие параметры:', gsearch_LGBM.best_params_)"
   ]
  },
  {
   "cell_type": "markdown",
   "metadata": {},
   "source": [
    "## Тестирование"
   ]
  },
  {
   "cell_type": "code",
   "execution_count": 82,
   "metadata": {
    "scrolled": true
   },
   "outputs": [
    {
     "data": {
      "text/plain": [
       "48.963078870617046"
      ]
     },
     "metadata": {},
     "output_type": "display_data"
    },
    {
     "name": "stdout",
     "output_type": "stream",
     "text": [
      "CPU times: user 2.98 s, sys: 273 ms, total: 3.25 s\n",
      "Wall time: 4.39 s\n"
     ]
    }
   ],
   "source": [
    "%%time\n",
    "\n",
    "model_cat = CatBoostRegressor(depth = 3, iterations = 2000, learning_rate = 0.1, loss_function = 'RMSE')\n",
    "model_cat.fit(data_train, eval_set = data_train, verbose = False);\n",
    "\n",
    "display(mean_squared_error(target_test, model_cat.predict(features_test))**0.5)"
   ]
  },
  {
   "cell_type": "code",
   "execution_count": 84,
   "metadata": {},
   "outputs": [
    {
     "name": "stdout",
     "output_type": "stream",
     "text": [
      "CPU times: user 10.9 ms, sys: 43.1 ms, total: 54 ms\n",
      "Wall time: 10.5 ms\n"
     ]
    },
    {
     "data": {
      "text/plain": [
       "45.495426280377195"
      ]
     },
     "execution_count": 84,
     "metadata": {},
     "output_type": "execute_result"
    }
   ],
   "source": [
    "%%time\n",
    "\n",
    "model_LR = LinearRegression()\n",
    "model_LR.fit(features_train, target_train)\n",
    "pred_LR = model_LR.predict(features_test)\n",
    "mean_squared_error(target_test, pred_LR)**0.5"
   ]
  },
  {
   "cell_type": "code",
   "execution_count": 87,
   "metadata": {},
   "outputs": [],
   "source": [
    "# model_LGBM = LGBMRegressor(depth = -1,n_estimators = 200, learning_rate = 0.03, random_state = 12345)\n",
    "# model_LGBM.fit(features_train, target_train, eval_set = (features_test, target_test), eval_metric = 'RMSE', verbose = 10);"
   ]
  },
  {
   "cell_type": "code",
   "execution_count": 88,
   "metadata": {},
   "outputs": [],
   "source": [
    "# mean_squared_error(target_test, model_LGBM.predict(features_test))**0.5"
   ]
  },
  {
   "cell_type": "markdown",
   "metadata": {},
   "source": [
    "## Общий вывод"
   ]
  },
  {
   "cell_type": "markdown",
   "metadata": {},
   "source": [
    "В данном проекте перед нами стояла цель спрогнозировать количество заказов такси на следующий час. Для ее достижения мы обучили три разные модели, которые добились необходимого результата RMSE < 48.\n",
    "По итогам обучения получили следующие показатели:\n",
    "* CatBoost - `22.25`;\n",
    "* Линейная регрессия - `34.26`;\n",
    "* LGBM - `23.99`.\n",
    "\n",
    "На их основе отдали свое предпочтение модели CatBoost, т.к. значение именно у нее было минимальным, и провели ее проверку на тестовом наборе данных."
   ]
  }
 ],
 "metadata": {
  "ExecuteTimeLog": [
   {
    "duration": 369,
    "start_time": "2022-10-13T13:00:03.227Z"
   },
   {
    "duration": 52,
    "start_time": "2022-10-14T11:46:47.371Z"
   },
   {
    "duration": 395,
    "start_time": "2022-10-14T11:46:49.691Z"
   },
   {
    "duration": 31,
    "start_time": "2022-10-14T11:46:50.088Z"
   },
   {
    "duration": 94,
    "start_time": "2022-10-14T11:47:08.148Z"
   },
   {
    "duration": 52,
    "start_time": "2022-10-14T11:48:47.449Z"
   },
   {
    "duration": 57,
    "start_time": "2022-10-14T11:48:55.636Z"
   },
   {
    "duration": 54,
    "start_time": "2022-10-14T11:49:04.029Z"
   },
   {
    "duration": 46,
    "start_time": "2022-10-14T11:50:17.423Z"
   },
   {
    "duration": 15,
    "start_time": "2022-10-14T11:50:29.347Z"
   },
   {
    "duration": 9,
    "start_time": "2022-10-14T11:51:26.481Z"
   },
   {
    "duration": 422,
    "start_time": "2022-10-14T11:51:47.969Z"
   },
   {
    "duration": 48,
    "start_time": "2022-10-14T11:51:48.393Z"
   },
   {
    "duration": 17,
    "start_time": "2022-10-14T11:51:48.443Z"
   },
   {
    "duration": 16,
    "start_time": "2022-10-14T11:51:48.465Z"
   },
   {
    "duration": 354,
    "start_time": "2022-10-14T18:56:01.837Z"
   },
   {
    "duration": 99,
    "start_time": "2022-10-14T18:56:02.193Z"
   },
   {
    "duration": 9,
    "start_time": "2022-10-14T18:56:02.294Z"
   },
   {
    "duration": 955,
    "start_time": "2022-10-14T18:56:02.304Z"
   },
   {
    "duration": 7,
    "start_time": "2022-10-14T18:56:03.261Z"
   },
   {
    "duration": 186,
    "start_time": "2022-10-14T18:56:11.743Z"
   },
   {
    "duration": 49,
    "start_time": "2022-10-14T19:06:04.038Z"
   },
   {
    "duration": 13,
    "start_time": "2022-10-14T19:06:14.483Z"
   },
   {
    "duration": 6,
    "start_time": "2022-10-14T19:06:56.897Z"
   },
   {
    "duration": 193,
    "start_time": "2022-10-14T19:07:13.808Z"
   },
   {
    "duration": 189,
    "start_time": "2022-10-14T19:08:07.688Z"
   },
   {
    "duration": 7,
    "start_time": "2022-10-14T19:09:58.652Z"
   },
   {
    "duration": 5,
    "start_time": "2022-10-14T19:10:01.763Z"
   },
   {
    "duration": 13,
    "start_time": "2022-10-14T19:10:33.247Z"
   },
   {
    "duration": 6,
    "start_time": "2022-10-14T19:11:01.691Z"
   },
   {
    "duration": 7,
    "start_time": "2022-10-14T19:11:08.836Z"
   },
   {
    "duration": 6,
    "start_time": "2022-10-14T19:13:43.070Z"
   },
   {
    "duration": 205,
    "start_time": "2022-10-14T19:13:43.603Z"
   },
   {
    "duration": 7,
    "start_time": "2022-10-14T19:14:23.708Z"
   },
   {
    "duration": 437,
    "start_time": "2022-10-14T19:18:46.556Z"
   },
   {
    "duration": 12,
    "start_time": "2022-10-14T19:20:39.932Z"
   },
   {
    "duration": 178,
    "start_time": "2022-10-14T19:21:16.410Z"
   },
   {
    "duration": 48,
    "start_time": "2022-10-14T19:21:31.568Z"
   },
   {
    "duration": 43,
    "start_time": "2022-10-14T19:21:34.814Z"
   },
   {
    "duration": 268,
    "start_time": "2022-10-14T19:21:56.650Z"
   },
   {
    "duration": 214,
    "start_time": "2022-10-14T19:22:30.923Z"
   },
   {
    "duration": 269,
    "start_time": "2022-10-14T19:23:42.259Z"
   },
   {
    "duration": 130,
    "start_time": "2022-10-14T19:23:56.280Z"
   },
   {
    "duration": 218,
    "start_time": "2022-10-14T19:24:07.352Z"
   },
   {
    "duration": 253,
    "start_time": "2022-10-14T19:26:34.236Z"
   },
   {
    "duration": 8,
    "start_time": "2022-10-14T19:27:08.546Z"
   },
   {
    "duration": 205,
    "start_time": "2022-10-14T19:27:17.234Z"
   },
   {
    "duration": 215,
    "start_time": "2022-10-14T19:27:26.441Z"
   },
   {
    "duration": 4,
    "start_time": "2022-10-14T19:28:45.004Z"
   },
   {
    "duration": 11,
    "start_time": "2022-10-14T19:30:17.274Z"
   },
   {
    "duration": 18,
    "start_time": "2022-10-14T19:31:27.043Z"
   },
   {
    "duration": 218,
    "start_time": "2022-10-14T19:31:50.405Z"
   },
   {
    "duration": 203,
    "start_time": "2022-10-14T19:31:55.201Z"
   },
   {
    "duration": 152,
    "start_time": "2022-10-14T19:32:04.564Z"
   },
   {
    "duration": 4,
    "start_time": "2022-10-14T19:32:24.489Z"
   },
   {
    "duration": 297,
    "start_time": "2022-10-14T19:32:28.083Z"
   },
   {
    "duration": 525,
    "start_time": "2022-10-14T19:32:47.227Z"
   },
   {
    "duration": 412,
    "start_time": "2022-10-14T19:32:55.873Z"
   },
   {
    "duration": 435,
    "start_time": "2022-10-14T19:33:00.372Z"
   },
   {
    "duration": 467,
    "start_time": "2022-10-14T19:33:14.259Z"
   },
   {
    "duration": 45,
    "start_time": "2022-10-15T02:01:28.046Z"
   },
   {
    "duration": 1203,
    "start_time": "2022-10-15T02:01:34.295Z"
   },
   {
    "duration": 169,
    "start_time": "2022-10-15T02:01:35.500Z"
   },
   {
    "duration": 13,
    "start_time": "2022-10-15T02:01:35.670Z"
   },
   {
    "duration": 17,
    "start_time": "2022-10-15T02:01:35.685Z"
   },
   {
    "duration": 7,
    "start_time": "2022-10-15T02:01:35.703Z"
   },
   {
    "duration": 14,
    "start_time": "2022-10-15T02:01:35.711Z"
   },
   {
    "duration": 248,
    "start_time": "2022-10-15T02:01:35.726Z"
   },
   {
    "duration": 7,
    "start_time": "2022-10-15T02:01:35.975Z"
   },
   {
    "duration": 233,
    "start_time": "2022-10-15T02:01:35.983Z"
   },
   {
    "duration": 264,
    "start_time": "2022-10-15T02:01:36.218Z"
   },
   {
    "duration": 241,
    "start_time": "2022-10-15T02:01:36.483Z"
   },
   {
    "duration": 552,
    "start_time": "2022-10-15T02:01:36.726Z"
   },
   {
    "duration": 3,
    "start_time": "2022-10-15T02:01:37.280Z"
   },
   {
    "duration": 321,
    "start_time": "2022-10-15T02:02:30.629Z"
   },
   {
    "duration": 287,
    "start_time": "2022-10-15T02:02:34.425Z"
   },
   {
    "duration": 364,
    "start_time": "2022-10-15T02:02:46.040Z"
   },
   {
    "duration": 307,
    "start_time": "2022-10-15T02:02:59.340Z"
   },
   {
    "duration": 301,
    "start_time": "2022-10-15T02:03:39.619Z"
   },
   {
    "duration": 304,
    "start_time": "2022-10-15T02:03:44.612Z"
   },
   {
    "duration": 4,
    "start_time": "2022-10-15T02:05:12.890Z"
   },
   {
    "duration": 3,
    "start_time": "2022-10-15T02:07:57.716Z"
   },
   {
    "duration": 110,
    "start_time": "2022-10-15T02:09:36.564Z"
   },
   {
    "duration": 365,
    "start_time": "2022-10-15T02:09:54.227Z"
   },
   {
    "duration": 24,
    "start_time": "2022-10-15T02:10:05.541Z"
   },
   {
    "duration": 95,
    "start_time": "2022-10-15T02:10:19.229Z"
   },
   {
    "duration": 17,
    "start_time": "2022-10-15T02:10:28.947Z"
   },
   {
    "duration": 16,
    "start_time": "2022-10-15T02:10:32.703Z"
   },
   {
    "duration": 4,
    "start_time": "2022-10-15T02:13:17.579Z"
   },
   {
    "duration": 22,
    "start_time": "2022-10-15T02:19:46.200Z"
   },
   {
    "duration": 16,
    "start_time": "2022-10-15T02:20:21.569Z"
   },
   {
    "duration": 63,
    "start_time": "2022-10-15T02:21:40.601Z"
   },
   {
    "duration": 1466,
    "start_time": "2022-11-20T05:18:00.673Z"
   },
   {
    "duration": 124,
    "start_time": "2022-11-20T05:18:02.141Z"
   },
   {
    "duration": 10,
    "start_time": "2022-11-20T05:18:02.267Z"
   },
   {
    "duration": 21,
    "start_time": "2022-11-20T05:18:02.279Z"
   },
   {
    "duration": 8,
    "start_time": "2022-11-20T05:18:02.303Z"
   },
   {
    "duration": 12,
    "start_time": "2022-11-20T05:18:02.313Z"
   },
   {
    "duration": 313,
    "start_time": "2022-11-20T05:18:02.326Z"
   },
   {
    "duration": 22,
    "start_time": "2022-11-20T05:18:02.641Z"
   },
   {
    "duration": 229,
    "start_time": "2022-11-20T05:18:02.665Z"
   },
   {
    "duration": 302,
    "start_time": "2022-11-20T05:18:02.896Z"
   },
   {
    "duration": 222,
    "start_time": "2022-11-20T05:18:03.200Z"
   },
   {
    "duration": 481,
    "start_time": "2022-11-20T05:18:03.424Z"
   },
   {
    "duration": 327,
    "start_time": "2022-11-20T05:18:03.906Z"
   },
   {
    "duration": 4,
    "start_time": "2022-11-20T05:18:04.236Z"
   },
   {
    "duration": 47,
    "start_time": "2022-11-20T05:18:04.241Z"
   },
   {
    "duration": 145,
    "start_time": "2022-11-20T05:18:04.290Z"
   },
   {
    "duration": 4,
    "start_time": "2022-11-20T06:17:10.965Z"
   },
   {
    "duration": 19,
    "start_time": "2022-11-20T06:17:43.202Z"
   },
   {
    "duration": 19,
    "start_time": "2022-11-20T06:22:48.866Z"
   },
   {
    "duration": 17,
    "start_time": "2022-11-20T06:23:24.644Z"
   },
   {
    "duration": 18,
    "start_time": "2022-11-20T06:23:43.044Z"
   },
   {
    "duration": 2,
    "start_time": "2022-11-20T06:24:41.094Z"
   },
   {
    "duration": 3,
    "start_time": "2022-11-20T06:53:39.065Z"
   },
   {
    "duration": 53,
    "start_time": "2022-11-20T06:53:59.827Z"
   },
   {
    "duration": 11,
    "start_time": "2022-11-20T06:56:02.354Z"
   },
   {
    "duration": 5,
    "start_time": "2022-11-20T06:56:09.460Z"
   },
   {
    "duration": 7,
    "start_time": "2022-11-20T06:58:55.290Z"
   },
   {
    "duration": 1752,
    "start_time": "2022-11-20T19:27:55.199Z"
   },
   {
    "duration": 210,
    "start_time": "2022-11-20T19:27:56.963Z"
   },
   {
    "duration": 14,
    "start_time": "2022-11-20T19:27:57.178Z"
   },
   {
    "duration": 27,
    "start_time": "2022-11-20T19:27:57.195Z"
   },
   {
    "duration": 57,
    "start_time": "2022-11-20T19:27:57.224Z"
   },
   {
    "duration": 5,
    "start_time": "2022-11-20T19:27:57.283Z"
   },
   {
    "duration": 15,
    "start_time": "2022-11-20T19:27:57.290Z"
   },
   {
    "duration": 312,
    "start_time": "2022-11-20T19:27:57.308Z"
   },
   {
    "duration": 10,
    "start_time": "2022-11-20T19:27:57.622Z"
   },
   {
    "duration": 290,
    "start_time": "2022-11-20T19:27:57.634Z"
   },
   {
    "duration": 379,
    "start_time": "2022-11-20T19:27:57.926Z"
   },
   {
    "duration": 282,
    "start_time": "2022-11-20T19:27:58.313Z"
   },
   {
    "duration": 572,
    "start_time": "2022-11-20T19:27:58.597Z"
   },
   {
    "duration": 475,
    "start_time": "2022-11-20T19:27:59.170Z"
   },
   {
    "duration": 5,
    "start_time": "2022-11-20T19:27:59.647Z"
   },
   {
    "duration": 35,
    "start_time": "2022-11-20T19:27:59.654Z"
   },
   {
    "duration": 21,
    "start_time": "2022-11-20T19:29:31.563Z"
   },
   {
    "duration": 17,
    "start_time": "2022-11-20T19:38:11.157Z"
   },
   {
    "duration": 8,
    "start_time": "2022-11-20T19:38:12.562Z"
   },
   {
    "duration": 22,
    "start_time": "2022-11-20T19:38:32.262Z"
   },
   {
    "duration": 8,
    "start_time": "2022-11-20T19:39:12.481Z"
   },
   {
    "duration": 8,
    "start_time": "2022-11-20T19:39:20.447Z"
   },
   {
    "duration": 132,
    "start_time": "2022-11-20T19:41:37.631Z"
   },
   {
    "duration": 11,
    "start_time": "2022-11-20T19:43:10.497Z"
   },
   {
    "duration": 23,
    "start_time": "2022-11-20T19:43:55.197Z"
   },
   {
    "duration": 9,
    "start_time": "2022-11-20T19:44:07.541Z"
   },
   {
    "duration": 21,
    "start_time": "2022-11-20T19:44:12.671Z"
   },
   {
    "duration": 15,
    "start_time": "2022-11-20T19:44:49.967Z"
   },
   {
    "duration": 1527,
    "start_time": "2022-11-20T19:45:08.237Z"
   },
   {
    "duration": 65,
    "start_time": "2022-11-20T19:45:09.767Z"
   },
   {
    "duration": 15,
    "start_time": "2022-11-20T19:45:09.833Z"
   },
   {
    "duration": 24,
    "start_time": "2022-11-20T19:45:09.850Z"
   },
   {
    "duration": 11,
    "start_time": "2022-11-20T19:45:09.876Z"
   },
   {
    "duration": 5,
    "start_time": "2022-11-20T19:45:09.889Z"
   },
   {
    "duration": 31,
    "start_time": "2022-11-20T19:45:09.895Z"
   },
   {
    "duration": 336,
    "start_time": "2022-11-20T19:45:09.928Z"
   },
   {
    "duration": 9,
    "start_time": "2022-11-20T19:45:10.266Z"
   },
   {
    "duration": 277,
    "start_time": "2022-11-20T19:45:10.277Z"
   },
   {
    "duration": 351,
    "start_time": "2022-11-20T19:45:10.555Z"
   },
   {
    "duration": 279,
    "start_time": "2022-11-20T19:45:10.911Z"
   },
   {
    "duration": 530,
    "start_time": "2022-11-20T19:45:11.192Z"
   },
   {
    "duration": 416,
    "start_time": "2022-11-20T19:45:11.724Z"
   },
   {
    "duration": 5,
    "start_time": "2022-11-20T19:45:12.143Z"
   },
   {
    "duration": 38,
    "start_time": "2022-11-20T19:45:12.150Z"
   },
   {
    "duration": 8,
    "start_time": "2022-11-20T19:45:12.191Z"
   },
   {
    "duration": 143,
    "start_time": "2022-11-20T19:45:12.201Z"
   },
   {
    "duration": 11,
    "start_time": "2022-11-20T19:45:52.046Z"
   },
   {
    "duration": 489,
    "start_time": "2022-11-20T19:45:53.749Z"
   },
   {
    "duration": 7,
    "start_time": "2022-11-20T19:46:44.951Z"
   },
   {
    "duration": 187,
    "start_time": "2022-11-20T19:46:50.973Z"
   },
   {
    "duration": 250,
    "start_time": "2022-11-20T19:47:31.695Z"
   },
   {
    "duration": 201,
    "start_time": "2022-11-20T19:47:39.063Z"
   },
   {
    "duration": 10,
    "start_time": "2022-11-20T19:48:45.990Z"
   },
   {
    "duration": 24,
    "start_time": "2022-11-20T19:48:46.359Z"
   },
   {
    "duration": 1462,
    "start_time": "2022-11-20T19:49:16.723Z"
   },
   {
    "duration": 88,
    "start_time": "2022-11-20T19:49:18.187Z"
   },
   {
    "duration": 14,
    "start_time": "2022-11-20T19:49:18.277Z"
   },
   {
    "duration": 20,
    "start_time": "2022-11-20T19:49:18.294Z"
   },
   {
    "duration": 10,
    "start_time": "2022-11-20T19:49:18.316Z"
   },
   {
    "duration": 31,
    "start_time": "2022-11-20T19:49:18.327Z"
   },
   {
    "duration": 12,
    "start_time": "2022-11-20T19:49:18.360Z"
   },
   {
    "duration": 321,
    "start_time": "2022-11-20T19:49:18.374Z"
   },
   {
    "duration": 8,
    "start_time": "2022-11-20T19:49:18.697Z"
   },
   {
    "duration": 289,
    "start_time": "2022-11-20T19:49:18.707Z"
   },
   {
    "duration": 490,
    "start_time": "2022-11-20T19:49:18.998Z"
   },
   {
    "duration": 310,
    "start_time": "2022-11-20T19:49:19.490Z"
   },
   {
    "duration": 557,
    "start_time": "2022-11-20T19:49:19.802Z"
   },
   {
    "duration": 409,
    "start_time": "2022-11-20T19:49:20.361Z"
   },
   {
    "duration": 6,
    "start_time": "2022-11-20T19:49:20.772Z"
   },
   {
    "duration": 6,
    "start_time": "2022-11-20T19:49:20.780Z"
   },
   {
    "duration": 7,
    "start_time": "2022-11-20T19:49:20.787Z"
   },
   {
    "duration": 10,
    "start_time": "2022-11-20T19:49:20.795Z"
   },
   {
    "duration": 10,
    "start_time": "2022-11-20T19:49:20.807Z"
   },
   {
    "duration": 188,
    "start_time": "2022-11-20T19:49:20.819Z"
   },
   {
    "duration": 8,
    "start_time": "2022-11-20T19:49:45.866Z"
   },
   {
    "duration": 26,
    "start_time": "2022-11-20T19:49:48.441Z"
   },
   {
    "duration": 21,
    "start_time": "2022-11-20T19:50:35.730Z"
   },
   {
    "duration": 18,
    "start_time": "2022-11-20T19:50:35.983Z"
   },
   {
    "duration": 19,
    "start_time": "2022-11-20T19:50:51.639Z"
   },
   {
    "duration": 17,
    "start_time": "2022-11-20T19:50:52.571Z"
   },
   {
    "duration": 11,
    "start_time": "2022-11-20T19:51:07.459Z"
   },
   {
    "duration": 22,
    "start_time": "2022-11-20T19:51:09.063Z"
   },
   {
    "duration": 1610,
    "start_time": "2022-11-20T19:53:02.198Z"
   },
   {
    "duration": 86,
    "start_time": "2022-11-20T19:53:03.810Z"
   },
   {
    "duration": 20,
    "start_time": "2022-11-20T19:53:03.898Z"
   },
   {
    "duration": 49,
    "start_time": "2022-11-20T19:53:03.931Z"
   },
   {
    "duration": 18,
    "start_time": "2022-11-20T19:53:03.982Z"
   },
   {
    "duration": 81,
    "start_time": "2022-11-20T19:53:04.002Z"
   },
   {
    "duration": 38,
    "start_time": "2022-11-20T19:53:04.085Z"
   },
   {
    "duration": 409,
    "start_time": "2022-11-20T19:53:04.139Z"
   },
   {
    "duration": 9,
    "start_time": "2022-11-20T19:53:04.550Z"
   },
   {
    "duration": 337,
    "start_time": "2022-11-20T19:53:04.561Z"
   },
   {
    "duration": 433,
    "start_time": "2022-11-20T19:53:04.901Z"
   },
   {
    "duration": 306,
    "start_time": "2022-11-20T19:53:05.339Z"
   },
   {
    "duration": 622,
    "start_time": "2022-11-20T19:53:05.651Z"
   },
   {
    "duration": 464,
    "start_time": "2022-11-20T19:53:06.276Z"
   },
   {
    "duration": 14,
    "start_time": "2022-11-20T19:53:06.742Z"
   },
   {
    "duration": 28,
    "start_time": "2022-11-20T19:53:06.761Z"
   },
   {
    "duration": 49,
    "start_time": "2022-11-20T19:53:06.791Z"
   },
   {
    "duration": 37,
    "start_time": "2022-11-20T19:53:06.847Z"
   },
   {
    "duration": 78,
    "start_time": "2022-11-20T19:53:06.887Z"
   },
   {
    "duration": 241,
    "start_time": "2022-11-20T19:53:06.970Z"
   },
   {
    "duration": 14,
    "start_time": "2022-11-20T19:55:08.054Z"
   },
   {
    "duration": 12,
    "start_time": "2022-11-20T19:55:12.783Z"
   },
   {
    "duration": 21,
    "start_time": "2022-11-20T19:55:13.312Z"
   },
   {
    "duration": 20,
    "start_time": "2022-11-20T19:55:51.808Z"
   },
   {
    "duration": 24,
    "start_time": "2022-11-20T19:55:54.440Z"
   },
   {
    "duration": 12,
    "start_time": "2022-11-20T19:55:56.066Z"
   },
   {
    "duration": 54,
    "start_time": "2022-11-20T19:59:23.592Z"
   },
   {
    "duration": 1477,
    "start_time": "2022-11-20T19:59:41.883Z"
   },
   {
    "duration": 61,
    "start_time": "2022-11-20T19:59:43.363Z"
   },
   {
    "duration": 24,
    "start_time": "2022-11-20T19:59:43.429Z"
   },
   {
    "duration": 21,
    "start_time": "2022-11-20T19:59:43.458Z"
   },
   {
    "duration": 11,
    "start_time": "2022-11-20T19:59:43.481Z"
   },
   {
    "duration": 5,
    "start_time": "2022-11-20T19:59:43.493Z"
   },
   {
    "duration": 24,
    "start_time": "2022-11-20T19:59:43.500Z"
   },
   {
    "duration": 379,
    "start_time": "2022-11-20T19:59:43.526Z"
   },
   {
    "duration": 9,
    "start_time": "2022-11-20T19:59:43.908Z"
   },
   {
    "duration": 361,
    "start_time": "2022-11-20T19:59:43.920Z"
   },
   {
    "duration": 413,
    "start_time": "2022-11-20T19:59:44.284Z"
   },
   {
    "duration": 361,
    "start_time": "2022-11-20T19:59:44.699Z"
   },
   {
    "duration": 616,
    "start_time": "2022-11-20T19:59:45.063Z"
   },
   {
    "duration": 523,
    "start_time": "2022-11-20T19:59:45.681Z"
   },
   {
    "duration": 5,
    "start_time": "2022-11-20T19:59:46.207Z"
   },
   {
    "duration": 108,
    "start_time": "2022-11-20T19:59:46.214Z"
   },
   {
    "duration": 7,
    "start_time": "2022-11-20T19:59:46.324Z"
   },
   {
    "duration": 55,
    "start_time": "2022-11-20T19:59:46.333Z"
   },
   {
    "duration": 16,
    "start_time": "2022-11-20T19:59:46.390Z"
   },
   {
    "duration": 79,
    "start_time": "2022-11-20T19:59:46.414Z"
   },
   {
    "duration": 230,
    "start_time": "2022-11-20T20:01:25.344Z"
   },
   {
    "duration": 5,
    "start_time": "2022-11-20T20:01:51.892Z"
   },
   {
    "duration": 337,
    "start_time": "2022-11-20T20:01:57.049Z"
   },
   {
    "duration": 4,
    "start_time": "2022-11-20T20:02:18.057Z"
   },
   {
    "duration": 438,
    "start_time": "2022-11-20T20:02:23.954Z"
   },
   {
    "duration": 4,
    "start_time": "2022-11-20T20:04:01.888Z"
   },
   {
    "duration": 1699,
    "start_time": "2022-11-20T20:04:42.853Z"
   },
   {
    "duration": 27,
    "start_time": "2022-11-20T20:08:52.901Z"
   },
   {
    "duration": 20,
    "start_time": "2022-11-20T20:09:51.449Z"
   },
   {
    "duration": 407,
    "start_time": "2022-11-20T20:09:52.272Z"
   },
   {
    "duration": 14,
    "start_time": "2022-11-20T20:09:52.989Z"
   },
   {
    "duration": 333,
    "start_time": "2022-11-20T20:09:54.333Z"
   },
   {
    "duration": 1616,
    "start_time": "2022-11-20T20:10:25.653Z"
   },
   {
    "duration": 71,
    "start_time": "2022-11-20T20:10:27.275Z"
   },
   {
    "duration": 14,
    "start_time": "2022-11-20T20:10:27.352Z"
   },
   {
    "duration": 21,
    "start_time": "2022-11-20T20:10:27.368Z"
   },
   {
    "duration": 9,
    "start_time": "2022-11-20T20:10:27.391Z"
   },
   {
    "duration": 19,
    "start_time": "2022-11-20T20:10:27.403Z"
   },
   {
    "duration": 42,
    "start_time": "2022-11-20T20:10:27.424Z"
   },
   {
    "duration": 357,
    "start_time": "2022-11-20T20:10:27.468Z"
   },
   {
    "duration": 18,
    "start_time": "2022-11-20T20:10:27.831Z"
   },
   {
    "duration": 313,
    "start_time": "2022-11-20T20:10:27.859Z"
   },
   {
    "duration": 403,
    "start_time": "2022-11-20T20:10:28.177Z"
   },
   {
    "duration": 375,
    "start_time": "2022-11-20T20:10:28.583Z"
   },
   {
    "duration": 585,
    "start_time": "2022-11-20T20:10:28.962Z"
   },
   {
    "duration": 423,
    "start_time": "2022-11-20T20:10:29.549Z"
   },
   {
    "duration": 4,
    "start_time": "2022-11-20T20:10:29.974Z"
   },
   {
    "duration": 40,
    "start_time": "2022-11-20T20:10:29.980Z"
   },
   {
    "duration": 4,
    "start_time": "2022-11-20T20:10:30.021Z"
   },
   {
    "duration": 50,
    "start_time": "2022-11-20T20:10:30.027Z"
   },
   {
    "duration": 30,
    "start_time": "2022-11-20T20:10:30.079Z"
   },
   {
    "duration": 307,
    "start_time": "2022-11-20T20:10:30.114Z"
   },
   {
    "duration": 1514,
    "start_time": "2022-11-20T20:10:55.156Z"
   },
   {
    "duration": 78,
    "start_time": "2022-11-20T20:10:56.673Z"
   },
   {
    "duration": 22,
    "start_time": "2022-11-20T20:10:56.752Z"
   },
   {
    "duration": 22,
    "start_time": "2022-11-20T20:10:56.779Z"
   },
   {
    "duration": 72,
    "start_time": "2022-11-20T20:10:56.803Z"
   },
   {
    "duration": 16,
    "start_time": "2022-11-20T20:10:56.877Z"
   },
   {
    "duration": 29,
    "start_time": "2022-11-20T20:10:56.896Z"
   },
   {
    "duration": 443,
    "start_time": "2022-11-20T20:10:56.927Z"
   },
   {
    "duration": 9,
    "start_time": "2022-11-20T20:10:57.373Z"
   },
   {
    "duration": 297,
    "start_time": "2022-11-20T20:10:57.386Z"
   },
   {
    "duration": 424,
    "start_time": "2022-11-20T20:10:57.685Z"
   },
   {
    "duration": 313,
    "start_time": "2022-11-20T20:10:58.113Z"
   },
   {
    "duration": 661,
    "start_time": "2022-11-20T20:10:58.427Z"
   },
   {
    "duration": 517,
    "start_time": "2022-11-20T20:10:59.091Z"
   },
   {
    "duration": 12,
    "start_time": "2022-11-20T20:10:59.609Z"
   },
   {
    "duration": 36,
    "start_time": "2022-11-20T20:10:59.628Z"
   },
   {
    "duration": 11,
    "start_time": "2022-11-20T20:10:59.666Z"
   },
   {
    "duration": 10,
    "start_time": "2022-11-20T20:10:59.679Z"
   },
   {
    "duration": 19,
    "start_time": "2022-11-20T20:10:59.691Z"
   },
   {
    "duration": 16,
    "start_time": "2022-11-20T20:10:59.712Z"
   },
   {
    "duration": 10,
    "start_time": "2022-11-20T20:15:05.585Z"
   },
   {
    "duration": 169,
    "start_time": "2022-11-20T20:16:08.138Z"
   },
   {
    "duration": 10,
    "start_time": "2022-11-20T20:16:13.985Z"
   },
   {
    "duration": 29,
    "start_time": "2022-11-20T20:16:48.902Z"
   },
   {
    "duration": 17,
    "start_time": "2022-11-20T20:16:49.257Z"
   },
   {
    "duration": 210,
    "start_time": "2022-11-20T20:16:49.452Z"
   },
   {
    "duration": 4,
    "start_time": "2022-11-20T20:17:03.845Z"
   },
   {
    "duration": 2,
    "start_time": "2022-11-20T20:17:04.085Z"
   },
   {
    "duration": 12,
    "start_time": "2022-11-20T20:17:04.488Z"
   },
   {
    "duration": 20,
    "start_time": "2022-11-20T20:17:04.810Z"
   },
   {
    "duration": 224,
    "start_time": "2022-11-20T20:17:05.000Z"
   },
   {
    "duration": 6,
    "start_time": "2022-11-20T20:17:12.356Z"
   },
   {
    "duration": 6,
    "start_time": "2022-11-20T20:17:12.640Z"
   },
   {
    "duration": 10,
    "start_time": "2022-11-20T20:17:13.088Z"
   },
   {
    "duration": 15,
    "start_time": "2022-11-20T20:17:13.231Z"
   },
   {
    "duration": 239,
    "start_time": "2022-11-20T20:17:13.624Z"
   },
   {
    "duration": 17,
    "start_time": "2022-11-20T20:18:06.033Z"
   },
   {
    "duration": 5,
    "start_time": "2022-11-20T20:20:29.388Z"
   },
   {
    "duration": 3,
    "start_time": "2022-11-20T20:20:29.571Z"
   },
   {
    "duration": 9,
    "start_time": "2022-11-20T20:20:30.153Z"
   },
   {
    "duration": 22,
    "start_time": "2022-11-20T20:20:30.432Z"
   },
   {
    "duration": 197,
    "start_time": "2022-11-20T20:20:30.740Z"
   },
   {
    "duration": 19,
    "start_time": "2022-11-20T20:20:31.236Z"
   },
   {
    "duration": 5,
    "start_time": "2022-11-20T20:20:38.403Z"
   },
   {
    "duration": 15,
    "start_time": "2022-11-20T20:20:38.635Z"
   },
   {
    "duration": 47,
    "start_time": "2022-11-20T20:20:38.948Z"
   },
   {
    "duration": 21,
    "start_time": "2022-11-20T20:20:39.145Z"
   },
   {
    "duration": 64,
    "start_time": "2022-11-20T20:20:39.480Z"
   },
   {
    "duration": 4,
    "start_time": "2022-11-20T20:20:50.060Z"
   },
   {
    "duration": 11,
    "start_time": "2022-11-20T20:20:50.188Z"
   },
   {
    "duration": 24,
    "start_time": "2022-11-20T20:20:50.607Z"
   },
   {
    "duration": 19,
    "start_time": "2022-11-20T20:20:50.998Z"
   },
   {
    "duration": 338,
    "start_time": "2022-11-20T20:20:51.434Z"
   },
   {
    "duration": 6,
    "start_time": "2022-11-20T20:21:00.478Z"
   },
   {
    "duration": 3,
    "start_time": "2022-11-20T20:21:00.674Z"
   },
   {
    "duration": 16,
    "start_time": "2022-11-20T20:21:00.988Z"
   },
   {
    "duration": 12,
    "start_time": "2022-11-20T20:21:01.480Z"
   },
   {
    "duration": 1036,
    "start_time": "2022-11-20T20:21:02.442Z"
   },
   {
    "duration": 10,
    "start_time": "2022-11-20T20:21:03.662Z"
   },
   {
    "duration": 25,
    "start_time": "2022-11-20T20:21:13.537Z"
   },
   {
    "duration": 775,
    "start_time": "2022-11-20T20:21:13.799Z"
   },
   {
    "duration": 1723,
    "start_time": "2022-11-20T20:21:26.581Z"
   },
   {
    "duration": 76,
    "start_time": "2022-11-20T20:21:28.306Z"
   },
   {
    "duration": 12,
    "start_time": "2022-11-20T20:21:28.384Z"
   },
   {
    "duration": 12,
    "start_time": "2022-11-20T20:21:28.398Z"
   },
   {
    "duration": 11,
    "start_time": "2022-11-20T20:21:28.414Z"
   },
   {
    "duration": 27,
    "start_time": "2022-11-20T20:21:28.438Z"
   },
   {
    "duration": 16,
    "start_time": "2022-11-20T20:21:28.468Z"
   },
   {
    "duration": 294,
    "start_time": "2022-11-20T20:21:28.485Z"
   },
   {
    "duration": 9,
    "start_time": "2022-11-20T20:21:28.781Z"
   },
   {
    "duration": 278,
    "start_time": "2022-11-20T20:21:28.793Z"
   },
   {
    "duration": 401,
    "start_time": "2022-11-20T20:21:29.073Z"
   },
   {
    "duration": 318,
    "start_time": "2022-11-20T20:21:29.475Z"
   },
   {
    "duration": 586,
    "start_time": "2022-11-20T20:21:29.795Z"
   },
   {
    "duration": 462,
    "start_time": "2022-11-20T20:21:30.382Z"
   },
   {
    "duration": 4,
    "start_time": "2022-11-20T20:21:30.848Z"
   },
   {
    "duration": 7,
    "start_time": "2022-11-20T20:21:30.854Z"
   },
   {
    "duration": 47,
    "start_time": "2022-11-20T20:21:30.863Z"
   },
   {
    "duration": 30,
    "start_time": "2022-11-20T20:21:30.920Z"
   },
   {
    "duration": 89,
    "start_time": "2022-11-20T20:21:30.955Z"
   },
   {
    "duration": 244,
    "start_time": "2022-11-20T20:21:31.051Z"
   },
   {
    "duration": 1562,
    "start_time": "2022-11-20T20:21:48.141Z"
   },
   {
    "duration": 80,
    "start_time": "2022-11-20T20:21:49.705Z"
   },
   {
    "duration": 9,
    "start_time": "2022-11-20T20:21:49.787Z"
   },
   {
    "duration": 18,
    "start_time": "2022-11-20T20:21:49.798Z"
   },
   {
    "duration": 10,
    "start_time": "2022-11-20T20:21:49.825Z"
   },
   {
    "duration": 23,
    "start_time": "2022-11-20T20:21:49.838Z"
   },
   {
    "duration": 10,
    "start_time": "2022-11-20T20:21:49.863Z"
   },
   {
    "duration": 294,
    "start_time": "2022-11-20T20:21:49.875Z"
   },
   {
    "duration": 12,
    "start_time": "2022-11-20T20:21:50.171Z"
   },
   {
    "duration": 300,
    "start_time": "2022-11-20T20:21:50.186Z"
   },
   {
    "duration": 380,
    "start_time": "2022-11-20T20:21:50.489Z"
   },
   {
    "duration": 292,
    "start_time": "2022-11-20T20:21:50.873Z"
   },
   {
    "duration": 602,
    "start_time": "2022-11-20T20:21:51.167Z"
   },
   {
    "duration": 417,
    "start_time": "2022-11-20T20:21:51.771Z"
   },
   {
    "duration": 6,
    "start_time": "2022-11-20T20:21:52.191Z"
   },
   {
    "duration": 51,
    "start_time": "2022-11-20T20:21:52.199Z"
   },
   {
    "duration": 30,
    "start_time": "2022-11-20T20:21:52.252Z"
   },
   {
    "duration": 11,
    "start_time": "2022-11-20T20:21:52.284Z"
   },
   {
    "duration": 241,
    "start_time": "2022-11-20T20:21:52.296Z"
   },
   {
    "duration": 62,
    "start_time": "2022-11-20T20:23:19.798Z"
   },
   {
    "duration": 12,
    "start_time": "2022-11-20T20:23:24.080Z"
   },
   {
    "duration": 10,
    "start_time": "2022-11-20T20:23:24.275Z"
   },
   {
    "duration": 59,
    "start_time": "2022-11-20T20:23:24.478Z"
   },
   {
    "duration": 147,
    "start_time": "2022-11-20T20:23:51.413Z"
   },
   {
    "duration": 4,
    "start_time": "2022-11-20T20:24:15.090Z"
   },
   {
    "duration": 11,
    "start_time": "2022-11-20T20:24:23.801Z"
   },
   {
    "duration": 11,
    "start_time": "2022-11-20T20:24:23.980Z"
   },
   {
    "duration": 175,
    "start_time": "2022-11-20T20:24:24.155Z"
   },
   {
    "duration": 1635,
    "start_time": "2022-11-21T07:08:20.122Z"
   },
   {
    "duration": 146,
    "start_time": "2022-11-21T07:08:21.759Z"
   },
   {
    "duration": 12,
    "start_time": "2022-11-21T07:08:21.906Z"
   },
   {
    "duration": 28,
    "start_time": "2022-11-21T07:08:21.920Z"
   },
   {
    "duration": 26,
    "start_time": "2022-11-21T07:08:21.950Z"
   },
   {
    "duration": 25,
    "start_time": "2022-11-21T07:08:21.977Z"
   },
   {
    "duration": 20,
    "start_time": "2022-11-21T07:08:22.004Z"
   },
   {
    "duration": 282,
    "start_time": "2022-11-21T07:08:22.026Z"
   },
   {
    "duration": 15,
    "start_time": "2022-11-21T07:08:22.310Z"
   },
   {
    "duration": 391,
    "start_time": "2022-11-21T07:08:22.327Z"
   },
   {
    "duration": 514,
    "start_time": "2022-11-21T07:08:22.722Z"
   },
   {
    "duration": 253,
    "start_time": "2022-11-21T07:08:23.237Z"
   },
   {
    "duration": 512,
    "start_time": "2022-11-21T07:08:23.492Z"
   },
   {
    "duration": 437,
    "start_time": "2022-11-21T07:08:24.007Z"
   },
   {
    "duration": 148,
    "start_time": "2022-11-21T07:08:24.445Z"
   },
   {
    "duration": 29,
    "start_time": "2022-11-21T07:08:24.595Z"
   },
   {
    "duration": 41,
    "start_time": "2022-11-21T07:08:24.626Z"
   },
   {
    "duration": 20,
    "start_time": "2022-11-21T07:08:24.669Z"
   },
   {
    "duration": 235,
    "start_time": "2022-11-21T07:08:24.691Z"
   },
   {
    "duration": 1828685,
    "start_time": "2022-11-21T07:08:24.930Z"
   },
   {
    "duration": 4,
    "start_time": "2022-11-21T07:38:53.617Z"
   },
   {
    "duration": 6,
    "start_time": "2022-11-21T07:38:53.623Z"
   },
   {
    "duration": 174,
    "start_time": "2022-11-21T07:38:53.631Z"
   },
   {
    "duration": 10,
    "start_time": "2022-11-21T07:38:53.807Z"
   },
   {
    "duration": 0,
    "start_time": "2022-11-21T07:38:53.819Z"
   },
   {
    "duration": 34,
    "start_time": "2022-11-21T07:44:44.070Z"
   },
   {
    "duration": 1465,
    "start_time": "2022-11-21T10:27:38.943Z"
   },
   {
    "duration": 134,
    "start_time": "2022-11-21T10:27:40.410Z"
   },
   {
    "duration": 17,
    "start_time": "2022-11-21T10:27:40.547Z"
   },
   {
    "duration": 12,
    "start_time": "2022-11-21T10:27:40.566Z"
   },
   {
    "duration": 8,
    "start_time": "2022-11-21T10:27:40.581Z"
   },
   {
    "duration": 6,
    "start_time": "2022-11-21T10:27:40.591Z"
   },
   {
    "duration": 11,
    "start_time": "2022-11-21T10:27:40.621Z"
   },
   {
    "duration": 279,
    "start_time": "2022-11-21T10:27:40.634Z"
   },
   {
    "duration": 12,
    "start_time": "2022-11-21T10:27:40.915Z"
   },
   {
    "duration": 249,
    "start_time": "2022-11-21T10:27:40.929Z"
   },
   {
    "duration": 358,
    "start_time": "2022-11-21T10:27:41.180Z"
   },
   {
    "duration": 324,
    "start_time": "2022-11-21T10:27:41.540Z"
   },
   {
    "duration": 527,
    "start_time": "2022-11-21T10:27:41.866Z"
   },
   {
    "duration": 364,
    "start_time": "2022-11-21T10:27:42.395Z"
   },
   {
    "duration": 5,
    "start_time": "2022-11-21T10:27:42.762Z"
   },
   {
    "duration": 15,
    "start_time": "2022-11-21T10:27:42.769Z"
   },
   {
    "duration": 46,
    "start_time": "2022-11-21T10:27:42.786Z"
   },
   {
    "duration": 11,
    "start_time": "2022-11-21T10:27:42.834Z"
   },
   {
    "duration": 181,
    "start_time": "2022-11-21T10:27:42.847Z"
   },
   {
    "duration": 1772242,
    "start_time": "2022-11-21T10:27:43.030Z"
   },
   {
    "duration": 4,
    "start_time": "2022-11-21T10:57:15.274Z"
   },
   {
    "duration": 28,
    "start_time": "2022-11-21T10:57:15.279Z"
   },
   {
    "duration": 12732636,
    "start_time": "2022-11-21T10:57:15.308Z"
   },
   {
    "duration": 4,
    "start_time": "2022-11-21T14:29:27.946Z"
   },
   {
    "duration": 4,
    "start_time": "2022-11-21T14:29:28.022Z"
   },
   {
    "duration": 6277,
    "start_time": "2022-11-21T18:56:26.227Z"
   },
   {
    "duration": 6,
    "start_time": "2022-11-21T19:08:47.649Z"
   },
   {
    "duration": 56300,
    "start_time": "2022-11-21T19:08:59.622Z"
   },
   {
    "duration": 14,
    "start_time": "2022-11-21T19:09:55.924Z"
   },
   {
    "duration": 58,
    "start_time": "2022-11-22T07:12:50.158Z"
   },
   {
    "duration": 4,
    "start_time": "2022-11-22T07:12:54.152Z"
   },
   {
    "duration": 11,
    "start_time": "2022-11-22T07:12:58.037Z"
   },
   {
    "duration": 1780,
    "start_time": "2022-11-22T07:13:13.177Z"
   },
   {
    "duration": 154,
    "start_time": "2022-11-22T07:13:14.960Z"
   },
   {
    "duration": 12,
    "start_time": "2022-11-22T07:13:15.116Z"
   },
   {
    "duration": 26,
    "start_time": "2022-11-22T07:13:15.130Z"
   },
   {
    "duration": 46,
    "start_time": "2022-11-22T07:13:15.157Z"
   },
   {
    "duration": 21,
    "start_time": "2022-11-22T07:13:15.205Z"
   },
   {
    "duration": 44,
    "start_time": "2022-11-22T07:13:15.228Z"
   },
   {
    "duration": 297,
    "start_time": "2022-11-22T07:13:15.274Z"
   },
   {
    "duration": 16,
    "start_time": "2022-11-22T07:13:15.578Z"
   },
   {
    "duration": 308,
    "start_time": "2022-11-22T07:13:15.596Z"
   },
   {
    "duration": 344,
    "start_time": "2022-11-22T07:13:15.906Z"
   },
   {
    "duration": 252,
    "start_time": "2022-11-22T07:13:16.252Z"
   },
   {
    "duration": 495,
    "start_time": "2022-11-22T07:13:16.506Z"
   },
   {
    "duration": 359,
    "start_time": "2022-11-22T07:13:17.003Z"
   },
   {
    "duration": 5,
    "start_time": "2022-11-22T07:13:17.363Z"
   },
   {
    "duration": 30,
    "start_time": "2022-11-22T07:13:30.971Z"
   },
   {
    "duration": 206,
    "start_time": "2022-11-22T07:15:19.477Z"
   },
   {
    "duration": 232,
    "start_time": "2022-11-22T07:17:17.181Z"
   },
   {
    "duration": 91,
    "start_time": "2022-11-22T07:17:26.559Z"
   },
   {
    "duration": 2820412,
    "start_time": "2022-11-22T07:17:42.575Z"
   },
   {
    "duration": 0,
    "start_time": "2022-11-22T08:04:43.001Z"
   },
   {
    "duration": 0,
    "start_time": "2022-11-22T08:04:43.003Z"
   },
   {
    "duration": 0,
    "start_time": "2022-11-22T08:04:43.004Z"
   },
   {
    "duration": 0,
    "start_time": "2022-11-22T08:04:43.005Z"
   },
   {
    "duration": 11,
    "start_time": "2022-11-22T08:20:04.540Z"
   },
   {
    "duration": 1760,
    "start_time": "2022-11-22T08:20:12.772Z"
   },
   {
    "duration": 59,
    "start_time": "2022-11-22T08:20:14.535Z"
   },
   {
    "duration": 11,
    "start_time": "2022-11-22T08:20:14.596Z"
   },
   {
    "duration": 16,
    "start_time": "2022-11-22T08:20:14.608Z"
   },
   {
    "duration": 9,
    "start_time": "2022-11-22T08:20:14.626Z"
   },
   {
    "duration": 8,
    "start_time": "2022-11-22T08:20:14.636Z"
   },
   {
    "duration": 38,
    "start_time": "2022-11-22T08:20:14.645Z"
   },
   {
    "duration": 304,
    "start_time": "2022-11-22T08:20:14.685Z"
   },
   {
    "duration": 8,
    "start_time": "2022-11-22T08:20:14.990Z"
   },
   {
    "duration": 269,
    "start_time": "2022-11-22T08:20:15.001Z"
   },
   {
    "duration": 361,
    "start_time": "2022-11-22T08:20:15.272Z"
   },
   {
    "duration": 256,
    "start_time": "2022-11-22T08:20:15.635Z"
   },
   {
    "duration": 521,
    "start_time": "2022-11-22T08:20:15.893Z"
   },
   {
    "duration": 372,
    "start_time": "2022-11-22T08:20:16.418Z"
   },
   {
    "duration": 5,
    "start_time": "2022-11-22T08:20:16.792Z"
   },
   {
    "duration": 35,
    "start_time": "2022-11-22T08:20:16.799Z"
   },
   {
    "duration": 145,
    "start_time": "2022-11-22T08:20:16.835Z"
   },
   {
    "duration": 2790282,
    "start_time": "2022-11-22T08:20:16.983Z"
   },
   {
    "duration": 121,
    "start_time": "2022-11-22T09:06:47.268Z"
   },
   {
    "duration": 0,
    "start_time": "2022-11-22T09:06:47.391Z"
   },
   {
    "duration": 0,
    "start_time": "2022-11-22T09:06:47.392Z"
   },
   {
    "duration": 0,
    "start_time": "2022-11-22T09:06:47.394Z"
   },
   {
    "duration": 0,
    "start_time": "2022-11-22T09:06:47.395Z"
   },
   {
    "duration": 0,
    "start_time": "2022-11-22T09:06:47.396Z"
   },
   {
    "duration": 14,
    "start_time": "2022-11-22T12:36:07.799Z"
   },
   {
    "duration": 7,
    "start_time": "2022-11-22T12:36:31.295Z"
   },
   {
    "duration": 1035878,
    "start_time": "2022-11-22T12:36:40.720Z"
   },
   {
    "duration": 10,
    "start_time": "2022-11-22T12:53:56.600Z"
   },
   {
    "duration": 0,
    "start_time": "2022-11-22T12:53:56.612Z"
   },
   {
    "duration": 0,
    "start_time": "2022-11-22T12:53:56.678Z"
   },
   {
    "duration": 0,
    "start_time": "2022-11-22T12:53:56.680Z"
   },
   {
    "duration": 7,
    "start_time": "2022-11-22T14:23:13.141Z"
   },
   {
    "duration": 10,
    "start_time": "2022-11-22T14:23:17.859Z"
   },
   {
    "duration": 10,
    "start_time": "2022-11-22T14:23:18.121Z"
   },
   {
    "duration": 10,
    "start_time": "2022-11-22T14:23:18.623Z"
   },
   {
    "duration": 3377,
    "start_time": "2022-11-22T14:24:16.201Z"
   },
   {
    "duration": 12,
    "start_time": "2022-11-22T14:24:35.926Z"
   },
   {
    "duration": 4267,
    "start_time": "2022-11-22T14:25:20.016Z"
   },
   {
    "duration": 3955,
    "start_time": "2022-11-22T15:33:18.381Z"
   },
   {
    "duration": 4020,
    "start_time": "2022-11-22T15:33:33.094Z"
   },
   {
    "duration": 4384,
    "start_time": "2022-11-22T15:34:02.030Z"
   },
   {
    "duration": 4172,
    "start_time": "2022-11-22T15:34:15.836Z"
   },
   {
    "duration": 4,
    "start_time": "2022-11-22T16:13:04.147Z"
   },
   {
    "duration": 1474,
    "start_time": "2022-11-22T16:13:12.948Z"
   },
   {
    "duration": 66,
    "start_time": "2022-11-22T16:13:14.424Z"
   },
   {
    "duration": 11,
    "start_time": "2022-11-22T16:13:14.492Z"
   },
   {
    "duration": 12,
    "start_time": "2022-11-22T16:13:14.505Z"
   },
   {
    "duration": 7,
    "start_time": "2022-11-22T16:13:14.519Z"
   },
   {
    "duration": 5,
    "start_time": "2022-11-22T16:13:14.527Z"
   },
   {
    "duration": 15,
    "start_time": "2022-11-22T16:13:14.533Z"
   },
   {
    "duration": 291,
    "start_time": "2022-11-22T16:13:14.550Z"
   },
   {
    "duration": 7,
    "start_time": "2022-11-22T16:13:14.843Z"
   },
   {
    "duration": 242,
    "start_time": "2022-11-22T16:13:14.852Z"
   },
   {
    "duration": 341,
    "start_time": "2022-11-22T16:13:15.096Z"
   },
   {
    "duration": 249,
    "start_time": "2022-11-22T16:13:15.439Z"
   },
   {
    "duration": 498,
    "start_time": "2022-11-22T16:13:15.695Z"
   },
   {
    "duration": 322,
    "start_time": "2022-11-22T16:13:16.195Z"
   },
   {
    "duration": 5,
    "start_time": "2022-11-22T16:13:16.519Z"
   },
   {
    "duration": 30,
    "start_time": "2022-11-22T16:13:16.525Z"
   },
   {
    "duration": 222,
    "start_time": "2022-11-22T16:13:16.557Z"
   },
   {
    "duration": 2608238,
    "start_time": "2022-11-22T16:13:16.786Z"
   },
   {
    "duration": 8,
    "start_time": "2022-11-22T16:56:45.026Z"
   },
   {
    "duration": 778948,
    "start_time": "2022-11-22T16:56:45.035Z"
   },
   {
    "duration": 8,
    "start_time": "2022-11-22T17:09:43.985Z"
   },
   {
    "duration": 3904,
    "start_time": "2022-11-22T17:09:43.996Z"
   },
   {
    "duration": 25692,
    "start_time": "2022-11-22T17:09:47.901Z"
   },
   {
    "duration": 86,
    "start_time": "2022-11-22T17:10:13.594Z"
   },
   {
    "duration": 48,
    "start_time": "2022-11-24T18:59:20.097Z"
   },
   {
    "duration": 1754,
    "start_time": "2022-11-24T18:59:27.847Z"
   },
   {
    "duration": 191,
    "start_time": "2022-11-24T18:59:29.603Z"
   },
   {
    "duration": 11,
    "start_time": "2022-11-24T18:59:29.795Z"
   },
   {
    "duration": 24,
    "start_time": "2022-11-24T18:59:29.808Z"
   },
   {
    "duration": 20,
    "start_time": "2022-11-24T18:59:29.833Z"
   },
   {
    "duration": 38,
    "start_time": "2022-11-24T18:59:29.854Z"
   },
   {
    "duration": 39,
    "start_time": "2022-11-24T18:59:29.894Z"
   },
   {
    "duration": 286,
    "start_time": "2022-11-24T18:59:29.935Z"
   },
   {
    "duration": 9,
    "start_time": "2022-11-24T18:59:30.223Z"
   },
   {
    "duration": 269,
    "start_time": "2022-11-24T18:59:30.234Z"
   },
   {
    "duration": 356,
    "start_time": "2022-11-24T18:59:30.504Z"
   },
   {
    "duration": 268,
    "start_time": "2022-11-24T18:59:30.862Z"
   },
   {
    "duration": 530,
    "start_time": "2022-11-24T18:59:31.131Z"
   },
   {
    "duration": 7,
    "start_time": "2022-11-24T18:59:38.945Z"
   },
   {
    "duration": 12,
    "start_time": "2022-11-24T19:00:52.508Z"
   },
   {
    "duration": 239,
    "start_time": "2022-11-24T19:01:18.953Z"
   },
   {
    "duration": 8,
    "start_time": "2022-11-24T19:48:14.684Z"
   },
   {
    "duration": 1353,
    "start_time": "2022-11-24T19:49:14.837Z"
   },
   {
    "duration": 55,
    "start_time": "2022-11-24T19:49:16.192Z"
   },
   {
    "duration": 10,
    "start_time": "2022-11-24T19:49:16.249Z"
   },
   {
    "duration": 12,
    "start_time": "2022-11-24T19:49:16.261Z"
   },
   {
    "duration": 7,
    "start_time": "2022-11-24T19:49:16.274Z"
   },
   {
    "duration": 11,
    "start_time": "2022-11-24T19:49:16.282Z"
   },
   {
    "duration": 24,
    "start_time": "2022-11-24T19:49:16.295Z"
   },
   {
    "duration": 298,
    "start_time": "2022-11-24T19:49:16.320Z"
   },
   {
    "duration": 10,
    "start_time": "2022-11-24T19:49:16.620Z"
   },
   {
    "duration": 245,
    "start_time": "2022-11-24T19:49:16.633Z"
   },
   {
    "duration": 328,
    "start_time": "2022-11-24T19:49:16.880Z"
   },
   {
    "duration": 243,
    "start_time": "2022-11-24T19:49:17.209Z"
   },
   {
    "duration": 483,
    "start_time": "2022-11-24T19:49:17.454Z"
   },
   {
    "duration": 253,
    "start_time": "2022-11-24T19:49:17.939Z"
   },
   {
    "duration": 8,
    "start_time": "2022-11-24T19:49:18.194Z"
   },
   {
    "duration": 354,
    "start_time": "2022-11-24T19:49:18.213Z"
   },
   {
    "duration": 9,
    "start_time": "2022-11-24T19:49:18.569Z"
   },
   {
    "duration": 44,
    "start_time": "2022-11-24T19:59:48.081Z"
   },
   {
    "duration": 11,
    "start_time": "2022-11-24T19:59:52.701Z"
   },
   {
    "duration": 420,
    "start_time": "2022-11-24T20:03:19.222Z"
   },
   {
    "duration": 12,
    "start_time": "2022-11-24T20:03:23.864Z"
   },
   {
    "duration": 327,
    "start_time": "2022-11-24T20:08:40.607Z"
   },
   {
    "duration": 320,
    "start_time": "2022-11-24T20:08:56.784Z"
   },
   {
    "duration": 400,
    "start_time": "2022-11-24T20:09:11.182Z"
   },
   {
    "duration": 1395,
    "start_time": "2022-11-24T20:09:25.944Z"
   },
   {
    "duration": 54,
    "start_time": "2022-11-24T20:09:27.341Z"
   },
   {
    "duration": 12,
    "start_time": "2022-11-24T20:09:27.397Z"
   },
   {
    "duration": 12,
    "start_time": "2022-11-24T20:09:27.411Z"
   },
   {
    "duration": 7,
    "start_time": "2022-11-24T20:09:27.427Z"
   },
   {
    "duration": 5,
    "start_time": "2022-11-24T20:09:27.436Z"
   },
   {
    "duration": 13,
    "start_time": "2022-11-24T20:09:27.443Z"
   },
   {
    "duration": 287,
    "start_time": "2022-11-24T20:09:27.458Z"
   },
   {
    "duration": 7,
    "start_time": "2022-11-24T20:09:27.747Z"
   },
   {
    "duration": 227,
    "start_time": "2022-11-24T20:09:27.756Z"
   },
   {
    "duration": 347,
    "start_time": "2022-11-24T20:09:27.984Z"
   },
   {
    "duration": 242,
    "start_time": "2022-11-24T20:09:28.333Z"
   },
   {
    "duration": 472,
    "start_time": "2022-11-24T20:09:28.577Z"
   },
   {
    "duration": 235,
    "start_time": "2022-11-24T20:09:29.052Z"
   },
   {
    "duration": 343,
    "start_time": "2022-11-24T20:09:29.288Z"
   },
   {
    "duration": 398,
    "start_time": "2022-11-24T20:09:47.155Z"
   },
   {
    "duration": 1360,
    "start_time": "2022-11-24T20:09:58.950Z"
   },
   {
    "duration": 58,
    "start_time": "2022-11-24T20:10:00.312Z"
   },
   {
    "duration": 11,
    "start_time": "2022-11-24T20:10:00.372Z"
   },
   {
    "duration": 18,
    "start_time": "2022-11-24T20:10:00.385Z"
   },
   {
    "duration": 23,
    "start_time": "2022-11-24T20:10:00.406Z"
   },
   {
    "duration": 29,
    "start_time": "2022-11-24T20:10:00.431Z"
   },
   {
    "duration": 25,
    "start_time": "2022-11-24T20:10:00.462Z"
   },
   {
    "duration": 295,
    "start_time": "2022-11-24T20:10:00.489Z"
   },
   {
    "duration": 8,
    "start_time": "2022-11-24T20:10:00.786Z"
   },
   {
    "duration": 241,
    "start_time": "2022-11-24T20:10:00.796Z"
   },
   {
    "duration": 349,
    "start_time": "2022-11-24T20:10:01.039Z"
   },
   {
    "duration": 254,
    "start_time": "2022-11-24T20:10:01.390Z"
   },
   {
    "duration": 483,
    "start_time": "2022-11-24T20:10:01.646Z"
   },
   {
    "duration": 227,
    "start_time": "2022-11-24T20:10:02.132Z"
   },
   {
    "duration": 338,
    "start_time": "2022-11-24T20:10:02.361Z"
   },
   {
    "duration": 404,
    "start_time": "2022-11-24T20:10:22.071Z"
   },
   {
    "duration": 1326,
    "start_time": "2022-11-24T20:11:09.144Z"
   },
   {
    "duration": 55,
    "start_time": "2022-11-24T20:11:10.472Z"
   },
   {
    "duration": 10,
    "start_time": "2022-11-24T20:11:10.529Z"
   },
   {
    "duration": 11,
    "start_time": "2022-11-24T20:11:10.541Z"
   },
   {
    "duration": 7,
    "start_time": "2022-11-24T20:11:10.554Z"
   },
   {
    "duration": 4,
    "start_time": "2022-11-24T20:11:10.562Z"
   },
   {
    "duration": 12,
    "start_time": "2022-11-24T20:11:10.567Z"
   },
   {
    "duration": 290,
    "start_time": "2022-11-24T20:11:10.580Z"
   },
   {
    "duration": 7,
    "start_time": "2022-11-24T20:11:10.872Z"
   },
   {
    "duration": 244,
    "start_time": "2022-11-24T20:11:10.881Z"
   },
   {
    "duration": 332,
    "start_time": "2022-11-24T20:11:11.127Z"
   },
   {
    "duration": 238,
    "start_time": "2022-11-24T20:11:11.461Z"
   },
   {
    "duration": 481,
    "start_time": "2022-11-24T20:11:11.701Z"
   },
   {
    "duration": 243,
    "start_time": "2022-11-24T20:11:12.184Z"
   },
   {
    "duration": 351,
    "start_time": "2022-11-24T20:11:12.429Z"
   },
   {
    "duration": 1417,
    "start_time": "2022-11-24T20:11:55.519Z"
   },
   {
    "duration": 57,
    "start_time": "2022-11-24T20:11:56.938Z"
   },
   {
    "duration": 11,
    "start_time": "2022-11-24T20:11:56.997Z"
   },
   {
    "duration": 17,
    "start_time": "2022-11-24T20:11:57.010Z"
   },
   {
    "duration": 8,
    "start_time": "2022-11-24T20:11:57.029Z"
   },
   {
    "duration": 4,
    "start_time": "2022-11-24T20:11:57.039Z"
   },
   {
    "duration": 15,
    "start_time": "2022-11-24T20:11:57.045Z"
   },
   {
    "duration": 315,
    "start_time": "2022-11-24T20:11:57.062Z"
   },
   {
    "duration": 9,
    "start_time": "2022-11-24T20:11:57.379Z"
   },
   {
    "duration": 244,
    "start_time": "2022-11-24T20:11:57.390Z"
   },
   {
    "duration": 341,
    "start_time": "2022-11-24T20:11:57.635Z"
   },
   {
    "duration": 258,
    "start_time": "2022-11-24T20:11:57.978Z"
   },
   {
    "duration": 475,
    "start_time": "2022-11-24T20:11:58.239Z"
   },
   {
    "duration": 238,
    "start_time": "2022-11-24T20:11:58.717Z"
   },
   {
    "duration": 411,
    "start_time": "2022-11-24T20:11:58.957Z"
   },
   {
    "duration": 407,
    "start_time": "2022-11-24T20:12:24.905Z"
   },
   {
    "duration": 296,
    "start_time": "2022-11-24T20:12:53.505Z"
   },
   {
    "duration": 1458,
    "start_time": "2022-11-24T20:13:04.996Z"
   },
   {
    "duration": 57,
    "start_time": "2022-11-24T20:13:06.456Z"
   },
   {
    "duration": 12,
    "start_time": "2022-11-24T20:13:06.515Z"
   },
   {
    "duration": 16,
    "start_time": "2022-11-24T20:13:06.529Z"
   },
   {
    "duration": 14,
    "start_time": "2022-11-24T20:13:06.547Z"
   },
   {
    "duration": 26,
    "start_time": "2022-11-24T20:13:06.563Z"
   },
   {
    "duration": 22,
    "start_time": "2022-11-24T20:13:06.591Z"
   },
   {
    "duration": 319,
    "start_time": "2022-11-24T20:13:06.615Z"
   },
   {
    "duration": 10,
    "start_time": "2022-11-24T20:13:06.935Z"
   },
   {
    "duration": 249,
    "start_time": "2022-11-24T20:13:06.948Z"
   },
   {
    "duration": 348,
    "start_time": "2022-11-24T20:13:07.199Z"
   },
   {
    "duration": 255,
    "start_time": "2022-11-24T20:13:07.548Z"
   },
   {
    "duration": 511,
    "start_time": "2022-11-24T20:13:07.805Z"
   },
   {
    "duration": 233,
    "start_time": "2022-11-24T20:13:08.318Z"
   },
   {
    "duration": 355,
    "start_time": "2022-11-24T20:13:08.552Z"
   },
   {
    "duration": 576,
    "start_time": "2022-11-24T20:13:48.589Z"
   },
   {
    "duration": 479,
    "start_time": "2022-11-24T20:13:54.925Z"
   },
   {
    "duration": 212,
    "start_time": "2022-11-24T20:13:59.931Z"
   },
   {
    "duration": 306,
    "start_time": "2022-11-24T20:14:02.355Z"
   },
   {
    "duration": 1455,
    "start_time": "2022-11-24T20:14:25.219Z"
   },
   {
    "duration": 62,
    "start_time": "2022-11-24T20:14:26.676Z"
   },
   {
    "duration": 10,
    "start_time": "2022-11-24T20:14:26.740Z"
   },
   {
    "duration": 12,
    "start_time": "2022-11-24T20:14:26.752Z"
   },
   {
    "duration": 7,
    "start_time": "2022-11-24T20:14:26.766Z"
   },
   {
    "duration": 5,
    "start_time": "2022-11-24T20:14:26.774Z"
   },
   {
    "duration": 40,
    "start_time": "2022-11-24T20:14:26.780Z"
   },
   {
    "duration": 285,
    "start_time": "2022-11-24T20:14:26.822Z"
   },
   {
    "duration": 11,
    "start_time": "2022-11-24T20:14:27.109Z"
   },
   {
    "duration": 251,
    "start_time": "2022-11-24T20:14:27.122Z"
   },
   {
    "duration": 374,
    "start_time": "2022-11-24T20:14:27.374Z"
   },
   {
    "duration": 249,
    "start_time": "2022-11-24T20:14:27.750Z"
   },
   {
    "duration": 506,
    "start_time": "2022-11-24T20:14:28.000Z"
   },
   {
    "duration": 224,
    "start_time": "2022-11-24T20:14:28.507Z"
   },
   {
    "duration": 343,
    "start_time": "2022-11-24T20:14:28.733Z"
   },
   {
    "duration": 1382,
    "start_time": "2022-11-24T20:15:48.773Z"
   },
   {
    "duration": 60,
    "start_time": "2022-11-24T20:15:50.157Z"
   },
   {
    "duration": 11,
    "start_time": "2022-11-24T20:15:50.219Z"
   },
   {
    "duration": 18,
    "start_time": "2022-11-24T20:15:50.232Z"
   },
   {
    "duration": 10,
    "start_time": "2022-11-24T20:15:50.252Z"
   },
   {
    "duration": 22,
    "start_time": "2022-11-24T20:15:50.263Z"
   },
   {
    "duration": 21,
    "start_time": "2022-11-24T20:15:50.287Z"
   },
   {
    "duration": 269,
    "start_time": "2022-11-24T20:15:50.309Z"
   },
   {
    "duration": 7,
    "start_time": "2022-11-24T20:15:50.580Z"
   },
   {
    "duration": 226,
    "start_time": "2022-11-24T20:15:50.589Z"
   },
   {
    "duration": 347,
    "start_time": "2022-11-24T20:15:50.817Z"
   },
   {
    "duration": 248,
    "start_time": "2022-11-24T20:15:51.166Z"
   },
   {
    "duration": 475,
    "start_time": "2022-11-24T20:15:51.415Z"
   },
   {
    "duration": 249,
    "start_time": "2022-11-24T20:15:51.892Z"
   },
   {
    "duration": 357,
    "start_time": "2022-11-24T20:15:54.578Z"
   },
   {
    "duration": 413,
    "start_time": "2022-11-24T20:16:22.132Z"
   },
   {
    "duration": 1540,
    "start_time": "2022-11-24T20:16:34.257Z"
   },
   {
    "duration": 60,
    "start_time": "2022-11-24T20:16:35.799Z"
   },
   {
    "duration": 16,
    "start_time": "2022-11-24T20:16:35.860Z"
   },
   {
    "duration": 16,
    "start_time": "2022-11-24T20:16:35.879Z"
   },
   {
    "duration": 16,
    "start_time": "2022-11-24T20:16:35.897Z"
   },
   {
    "duration": 5,
    "start_time": "2022-11-24T20:16:35.915Z"
   },
   {
    "duration": 17,
    "start_time": "2022-11-24T20:16:35.922Z"
   },
   {
    "duration": 323,
    "start_time": "2022-11-24T20:16:35.941Z"
   },
   {
    "duration": 10,
    "start_time": "2022-11-24T20:16:36.266Z"
   },
   {
    "duration": 659,
    "start_time": "2022-11-24T20:16:36.281Z"
   },
   {
    "duration": 393,
    "start_time": "2022-11-24T20:16:36.942Z"
   },
   {
    "duration": 257,
    "start_time": "2022-11-24T20:16:37.337Z"
   },
   {
    "duration": 504,
    "start_time": "2022-11-24T20:16:37.596Z"
   },
   {
    "duration": 249,
    "start_time": "2022-11-24T20:16:38.103Z"
   },
   {
    "duration": 369,
    "start_time": "2022-11-24T20:16:38.354Z"
   },
   {
    "duration": 1370,
    "start_time": "2022-11-24T20:17:13.328Z"
   },
   {
    "duration": 57,
    "start_time": "2022-11-24T20:17:14.701Z"
   },
   {
    "duration": 10,
    "start_time": "2022-11-24T20:17:14.760Z"
   },
   {
    "duration": 15,
    "start_time": "2022-11-24T20:17:14.772Z"
   },
   {
    "duration": 9,
    "start_time": "2022-11-24T20:17:14.790Z"
   },
   {
    "duration": 14,
    "start_time": "2022-11-24T20:17:14.801Z"
   },
   {
    "duration": 13,
    "start_time": "2022-11-24T20:17:14.817Z"
   },
   {
    "duration": 292,
    "start_time": "2022-11-24T20:17:14.832Z"
   },
   {
    "duration": 8,
    "start_time": "2022-11-24T20:17:15.126Z"
   },
   {
    "duration": 245,
    "start_time": "2022-11-24T20:17:15.136Z"
   },
   {
    "duration": 335,
    "start_time": "2022-11-24T20:17:15.382Z"
   },
   {
    "duration": 246,
    "start_time": "2022-11-24T20:17:15.719Z"
   },
   {
    "duration": 503,
    "start_time": "2022-11-24T20:17:15.966Z"
   },
   {
    "duration": 259,
    "start_time": "2022-11-24T20:17:16.472Z"
   },
   {
    "duration": 407,
    "start_time": "2022-11-24T20:17:16.733Z"
   },
   {
    "duration": 8,
    "start_time": "2022-11-24T20:17:27.020Z"
   },
   {
    "duration": 10,
    "start_time": "2022-11-24T20:21:06.747Z"
   },
   {
    "duration": 1409,
    "start_time": "2022-11-24T20:21:21.672Z"
   },
   {
    "duration": 56,
    "start_time": "2022-11-24T20:21:23.083Z"
   },
   {
    "duration": 16,
    "start_time": "2022-11-24T20:21:23.141Z"
   },
   {
    "duration": 15,
    "start_time": "2022-11-24T20:21:23.159Z"
   },
   {
    "duration": 10,
    "start_time": "2022-11-24T20:21:23.175Z"
   },
   {
    "duration": 21,
    "start_time": "2022-11-24T20:21:23.187Z"
   },
   {
    "duration": 12,
    "start_time": "2022-11-24T20:21:23.209Z"
   },
   {
    "duration": 273,
    "start_time": "2022-11-24T20:21:23.222Z"
   },
   {
    "duration": 15,
    "start_time": "2022-11-24T20:21:23.497Z"
   },
   {
    "duration": 227,
    "start_time": "2022-11-24T20:21:23.515Z"
   },
   {
    "duration": 323,
    "start_time": "2022-11-24T20:21:23.744Z"
   },
   {
    "duration": 249,
    "start_time": "2022-11-24T20:21:24.069Z"
   },
   {
    "duration": 493,
    "start_time": "2022-11-24T20:21:24.320Z"
   },
   {
    "duration": 241,
    "start_time": "2022-11-24T20:21:24.815Z"
   },
   {
    "duration": 371,
    "start_time": "2022-11-24T20:21:25.057Z"
   },
   {
    "duration": 4,
    "start_time": "2022-11-24T20:21:25.431Z"
   },
   {
    "duration": 127,
    "start_time": "2022-11-24T20:21:25.437Z"
   },
   {
    "duration": 33,
    "start_time": "2022-11-24T20:21:25.566Z"
   },
   {
    "duration": 5,
    "start_time": "2022-11-24T20:22:32.483Z"
   },
   {
    "duration": 33,
    "start_time": "2022-11-24T20:22:38.434Z"
   },
   {
    "duration": 12,
    "start_time": "2022-11-24T20:22:51.986Z"
   },
   {
    "duration": 4,
    "start_time": "2022-11-24T20:23:02.773Z"
   },
   {
    "duration": 12,
    "start_time": "2022-11-24T20:23:04.101Z"
   },
   {
    "duration": 19,
    "start_time": "2022-11-24T20:23:14.551Z"
   },
   {
    "duration": 11,
    "start_time": "2022-11-24T20:23:16.307Z"
   },
   {
    "duration": 1406,
    "start_time": "2022-11-24T20:24:06.769Z"
   },
   {
    "duration": 59,
    "start_time": "2022-11-24T20:24:08.178Z"
   },
   {
    "duration": 13,
    "start_time": "2022-11-24T20:24:08.239Z"
   },
   {
    "duration": 15,
    "start_time": "2022-11-24T20:24:08.254Z"
   },
   {
    "duration": 8,
    "start_time": "2022-11-24T20:24:08.272Z"
   },
   {
    "duration": 4,
    "start_time": "2022-11-24T20:24:08.282Z"
   },
   {
    "duration": 10,
    "start_time": "2022-11-24T20:24:08.312Z"
   },
   {
    "duration": 270,
    "start_time": "2022-11-24T20:24:08.323Z"
   },
   {
    "duration": 20,
    "start_time": "2022-11-24T20:24:08.596Z"
   },
   {
    "duration": 237,
    "start_time": "2022-11-24T20:24:08.618Z"
   },
   {
    "duration": 349,
    "start_time": "2022-11-24T20:24:08.857Z"
   },
   {
    "duration": 264,
    "start_time": "2022-11-24T20:24:09.208Z"
   },
   {
    "duration": 516,
    "start_time": "2022-11-24T20:24:09.474Z"
   },
   {
    "duration": 265,
    "start_time": "2022-11-24T20:24:09.993Z"
   },
   {
    "duration": 360,
    "start_time": "2022-11-24T20:24:10.260Z"
   },
   {
    "duration": 5,
    "start_time": "2022-11-24T20:24:10.621Z"
   },
   {
    "duration": 10,
    "start_time": "2022-11-24T20:24:18.371Z"
   },
   {
    "duration": 40,
    "start_time": "2022-11-24T20:24:27.850Z"
   },
   {
    "duration": 33,
    "start_time": "2022-11-24T20:24:28.031Z"
   },
   {
    "duration": 113,
    "start_time": "2022-11-24T20:31:12.517Z"
   },
   {
    "duration": 17,
    "start_time": "2022-11-24T20:34:52.791Z"
   },
   {
    "duration": 1345,
    "start_time": "2022-11-24T20:43:54.362Z"
   },
   {
    "duration": 59,
    "start_time": "2022-11-24T20:43:55.709Z"
   },
   {
    "duration": 11,
    "start_time": "2022-11-24T20:43:55.770Z"
   },
   {
    "duration": 14,
    "start_time": "2022-11-24T20:43:55.785Z"
   },
   {
    "duration": 16,
    "start_time": "2022-11-24T20:43:55.801Z"
   },
   {
    "duration": 6,
    "start_time": "2022-11-24T20:43:55.819Z"
   },
   {
    "duration": 18,
    "start_time": "2022-11-24T20:43:55.826Z"
   },
   {
    "duration": 290,
    "start_time": "2022-11-24T20:43:55.846Z"
   },
   {
    "duration": 9,
    "start_time": "2022-11-24T20:43:56.138Z"
   },
   {
    "duration": 245,
    "start_time": "2022-11-24T20:43:56.149Z"
   },
   {
    "duration": 434,
    "start_time": "2022-11-24T20:43:56.396Z"
   },
   {
    "duration": 252,
    "start_time": "2022-11-24T20:43:56.832Z"
   },
   {
    "duration": 493,
    "start_time": "2022-11-24T20:43:57.085Z"
   },
   {
    "duration": 241,
    "start_time": "2022-11-24T20:43:57.580Z"
   },
   {
    "duration": 377,
    "start_time": "2022-11-24T20:43:57.823Z"
   },
   {
    "duration": 4,
    "start_time": "2022-11-24T20:43:58.202Z"
   },
   {
    "duration": 145,
    "start_time": "2022-11-24T20:43:58.208Z"
   },
   {
    "duration": 59,
    "start_time": "2022-11-24T20:43:58.355Z"
   },
   {
    "duration": 2378019,
    "start_time": "2022-11-24T20:43:58.416Z"
   },
   {
    "duration": 9,
    "start_time": "2022-11-24T21:23:36.436Z"
   },
   {
    "duration": 10578969,
    "start_time": "2022-11-24T21:23:36.447Z"
   },
   {
    "duration": 8,
    "start_time": "2022-11-25T00:19:55.418Z"
   },
   {
    "duration": 3039,
    "start_time": "2022-11-25T00:19:55.427Z"
   },
   {
    "duration": 2650,
    "start_time": "2022-11-25T00:19:58.468Z"
   },
   {
    "duration": 10,
    "start_time": "2022-11-25T00:20:01.120Z"
   },
   {
    "duration": 3,
    "start_time": "2022-11-25T01:59:12.251Z"
   },
   {
    "duration": 2,
    "start_time": "2022-11-25T01:59:26.347Z"
   },
   {
    "duration": 119,
    "start_time": "2022-11-25T02:01:12.032Z"
   },
   {
    "duration": 3530,
    "start_time": "2022-11-25T13:24:37.488Z"
   },
   {
    "duration": 119,
    "start_time": "2022-11-25T13:24:41.020Z"
   },
   {
    "duration": 8,
    "start_time": "2022-11-25T13:24:41.141Z"
   },
   {
    "duration": 10,
    "start_time": "2022-11-25T13:24:41.151Z"
   },
   {
    "duration": 6,
    "start_time": "2022-11-25T13:24:41.162Z"
   },
   {
    "duration": 34,
    "start_time": "2022-11-25T13:24:41.169Z"
   },
   {
    "duration": 16,
    "start_time": "2022-11-25T13:24:41.204Z"
   },
   {
    "duration": 238,
    "start_time": "2022-11-25T13:24:41.221Z"
   },
   {
    "duration": 20,
    "start_time": "2022-11-25T13:24:41.461Z"
   },
   {
    "duration": 225,
    "start_time": "2022-11-25T13:24:41.483Z"
   },
   {
    "duration": 325,
    "start_time": "2022-11-25T13:24:41.710Z"
   },
   {
    "duration": 247,
    "start_time": "2022-11-25T13:24:42.037Z"
   },
   {
    "duration": 507,
    "start_time": "2022-11-25T13:24:42.286Z"
   },
   {
    "duration": 238,
    "start_time": "2022-11-25T13:24:42.795Z"
   },
   {
    "duration": 319,
    "start_time": "2022-11-25T13:24:43.034Z"
   },
   {
    "duration": 5,
    "start_time": "2022-11-25T13:24:43.355Z"
   },
   {
    "duration": 109,
    "start_time": "2022-11-25T13:24:43.361Z"
   },
   {
    "duration": 10,
    "start_time": "2022-11-25T13:24:43.472Z"
   },
   {
    "duration": 4,
    "start_time": "2022-11-25T13:25:17.267Z"
   },
   {
    "duration": 1532,
    "start_time": "2022-11-25T14:19:19.666Z"
   },
   {
    "duration": 199,
    "start_time": "2022-11-25T14:19:21.200Z"
   },
   {
    "duration": 11,
    "start_time": "2022-11-25T14:19:21.401Z"
   },
   {
    "duration": 24,
    "start_time": "2022-11-25T14:19:21.413Z"
   },
   {
    "duration": 7,
    "start_time": "2022-11-25T14:19:21.439Z"
   },
   {
    "duration": 10,
    "start_time": "2022-11-25T14:19:21.447Z"
   },
   {
    "duration": 23,
    "start_time": "2022-11-25T14:19:21.459Z"
   },
   {
    "duration": 261,
    "start_time": "2022-11-25T14:19:21.484Z"
   },
   {
    "duration": 7,
    "start_time": "2022-11-25T14:19:21.747Z"
   },
   {
    "duration": 232,
    "start_time": "2022-11-25T14:19:21.757Z"
   },
   {
    "duration": 322,
    "start_time": "2022-11-25T14:19:21.990Z"
   },
   {
    "duration": 304,
    "start_time": "2022-11-25T14:19:22.315Z"
   },
   {
    "duration": 498,
    "start_time": "2022-11-25T14:19:22.621Z"
   },
   {
    "duration": 224,
    "start_time": "2022-11-25T14:19:23.121Z"
   },
   {
    "duration": 334,
    "start_time": "2022-11-25T14:19:23.347Z"
   },
   {
    "duration": 5,
    "start_time": "2022-11-25T14:19:23.683Z"
   },
   {
    "duration": 113,
    "start_time": "2022-11-25T14:19:23.690Z"
   },
   {
    "duration": 141,
    "start_time": "2022-11-25T14:19:23.805Z"
   },
   {
    "duration": 2189236,
    "start_time": "2022-11-25T14:19:23.948Z"
   },
   {
    "duration": 8,
    "start_time": "2022-11-25T14:55:53.186Z"
   },
   {
    "duration": 1849051,
    "start_time": "2022-11-25T14:55:53.195Z"
   },
   {
    "duration": 8,
    "start_time": "2022-11-25T15:26:42.248Z"
   },
   {
    "duration": 4423,
    "start_time": "2022-11-25T15:26:42.258Z"
   },
   {
    "duration": 2,
    "start_time": "2022-11-25T15:26:46.683Z"
   },
   {
    "duration": 10,
    "start_time": "2022-11-25T15:26:46.686Z"
   },
   {
    "duration": 15977,
    "start_time": "2022-11-25T15:57:13.567Z"
   },
   {
    "duration": 94,
    "start_time": "2022-11-25T15:57:29.546Z"
   },
   {
    "duration": 3,
    "start_time": "2022-11-25T16:45:11.339Z"
   },
   {
    "duration": 13416,
    "start_time": "2022-11-25T16:45:46.866Z"
   },
   {
    "duration": 3541,
    "start_time": "2022-11-25T16:46:05.213Z"
   },
   {
    "duration": 4802,
    "start_time": "2022-11-25T16:46:11.268Z"
   },
   {
    "duration": 12083,
    "start_time": "2022-11-25T16:46:20.084Z"
   },
   {
    "duration": 4371,
    "start_time": "2022-11-25T16:46:42.100Z"
   },
   {
    "duration": 46,
    "start_time": "2022-11-25T19:29:18.013Z"
   },
   {
    "duration": 1503,
    "start_time": "2022-11-25T19:29:23.802Z"
   },
   {
    "duration": 152,
    "start_time": "2022-11-25T19:29:25.307Z"
   },
   {
    "duration": 10,
    "start_time": "2022-11-25T19:29:25.461Z"
   },
   {
    "duration": 29,
    "start_time": "2022-11-25T19:29:25.472Z"
   },
   {
    "duration": 18,
    "start_time": "2022-11-25T19:29:25.503Z"
   },
   {
    "duration": 18,
    "start_time": "2022-11-25T19:29:25.523Z"
   },
   {
    "duration": 19,
    "start_time": "2022-11-25T19:29:25.542Z"
   },
   {
    "duration": 242,
    "start_time": "2022-11-25T19:29:25.562Z"
   },
   {
    "duration": 7,
    "start_time": "2022-11-25T19:29:25.805Z"
   },
   {
    "duration": 227,
    "start_time": "2022-11-25T19:29:25.814Z"
   },
   {
    "duration": 310,
    "start_time": "2022-11-25T19:29:26.043Z"
   },
   {
    "duration": 229,
    "start_time": "2022-11-25T19:29:26.355Z"
   },
   {
    "duration": 470,
    "start_time": "2022-11-25T19:29:26.586Z"
   },
   {
    "duration": 217,
    "start_time": "2022-11-25T19:29:27.057Z"
   },
   {
    "duration": 343,
    "start_time": "2022-11-25T19:29:27.276Z"
   },
   {
    "duration": 3,
    "start_time": "2022-11-25T19:29:27.621Z"
   },
   {
    "duration": 29,
    "start_time": "2022-11-25T19:29:31.611Z"
   },
   {
    "duration": 171,
    "start_time": "2022-11-25T19:30:16.333Z"
   },
   {
    "duration": 98,
    "start_time": "2022-11-25T19:30:24.118Z"
   },
   {
    "duration": 25,
    "start_time": "2022-11-25T19:30:27.677Z"
   },
   {
    "duration": 18,
    "start_time": "2022-11-25T19:31:18.570Z"
   },
   {
    "duration": 20,
    "start_time": "2022-11-25T19:31:33.659Z"
   },
   {
    "duration": 19,
    "start_time": "2022-11-25T19:33:05.105Z"
   },
   {
    "duration": 17,
    "start_time": "2022-11-25T19:33:21.307Z"
   },
   {
    "duration": 1368,
    "start_time": "2022-11-25T19:39:35.826Z"
   },
   {
    "duration": 53,
    "start_time": "2022-11-25T19:39:37.196Z"
   },
   {
    "duration": 10,
    "start_time": "2022-11-25T19:39:37.251Z"
   },
   {
    "duration": 14,
    "start_time": "2022-11-25T19:39:37.264Z"
   },
   {
    "duration": 9,
    "start_time": "2022-11-25T19:39:37.279Z"
   },
   {
    "duration": 5,
    "start_time": "2022-11-25T19:39:37.290Z"
   },
   {
    "duration": 11,
    "start_time": "2022-11-25T19:39:37.296Z"
   },
   {
    "duration": 276,
    "start_time": "2022-11-25T19:39:37.308Z"
   },
   {
    "duration": 7,
    "start_time": "2022-11-25T19:39:37.585Z"
   },
   {
    "duration": 227,
    "start_time": "2022-11-25T19:39:37.594Z"
   },
   {
    "duration": 306,
    "start_time": "2022-11-25T19:39:37.822Z"
   },
   {
    "duration": 220,
    "start_time": "2022-11-25T19:39:38.130Z"
   },
   {
    "duration": 448,
    "start_time": "2022-11-25T19:39:38.352Z"
   },
   {
    "duration": 215,
    "start_time": "2022-11-25T19:39:38.801Z"
   },
   {
    "duration": 345,
    "start_time": "2022-11-25T19:39:39.018Z"
   },
   {
    "duration": 4,
    "start_time": "2022-11-25T19:39:39.364Z"
   },
   {
    "duration": 121,
    "start_time": "2022-11-25T19:39:39.370Z"
   },
   {
    "duration": 65,
    "start_time": "2022-11-25T19:39:39.493Z"
   },
   {
    "duration": 2120835,
    "start_time": "2022-11-25T19:39:39.561Z"
   },
   {
    "duration": 7,
    "start_time": "2022-11-25T20:15:00.397Z"
   },
   {
    "duration": 504857,
    "start_time": "2022-11-25T20:15:00.405Z"
   },
   {
    "duration": 8,
    "start_time": "2022-11-25T20:23:25.264Z"
   },
   {
    "duration": 4382,
    "start_time": "2022-11-25T20:23:25.274Z"
   },
   {
    "duration": 3,
    "start_time": "2022-11-25T20:23:29.657Z"
   },
   {
    "duration": 5,
    "start_time": "2022-11-25T20:23:29.661Z"
   },
   {
    "duration": 6335,
    "start_time": "2022-11-25T20:51:42.486Z"
   },
   {
    "duration": 3738,
    "start_time": "2022-11-25T20:51:53.139Z"
   },
   {
    "duration": 4587,
    "start_time": "2022-11-25T20:51:58.975Z"
   },
   {
    "duration": 4342,
    "start_time": "2022-11-25T20:52:06.862Z"
   },
   {
    "duration": 4647,
    "start_time": "2022-11-25T20:52:16.648Z"
   },
   {
    "duration": 4624,
    "start_time": "2022-11-25T20:52:25.844Z"
   },
   {
    "duration": 4381,
    "start_time": "2022-11-25T20:52:33.739Z"
   },
   {
    "duration": 6853,
    "start_time": "2022-11-25T20:52:40.714Z"
   },
   {
    "duration": 2564,
    "start_time": "2022-11-25T20:52:52.366Z"
   },
   {
    "duration": 4415,
    "start_time": "2022-11-25T20:53:06.891Z"
   },
   {
    "duration": 4451,
    "start_time": "2022-11-25T20:53:16.269Z"
   },
   {
    "duration": 4619,
    "start_time": "2022-11-25T20:53:24.001Z"
   },
   {
    "duration": 4573,
    "start_time": "2022-11-25T20:53:32.348Z"
   },
   {
    "duration": 4744,
    "start_time": "2022-11-25T20:53:40.548Z"
   },
   {
    "duration": 4712,
    "start_time": "2022-11-25T20:53:51.780Z"
   },
   {
    "duration": 6224,
    "start_time": "2022-11-25T20:54:01.620Z"
   },
   {
    "duration": 11934,
    "start_time": "2022-11-25T20:54:17.433Z"
   },
   {
    "duration": 3678,
    "start_time": "2022-11-25T20:54:33.349Z"
   },
   {
    "duration": 4705,
    "start_time": "2022-11-25T20:54:40.890Z"
   },
   {
    "duration": 38,
    "start_time": "2022-11-25T20:55:35.106Z"
   },
   {
    "duration": 4505,
    "start_time": "2022-11-25T20:55:49.019Z"
   },
   {
    "duration": 34333,
    "start_time": "2022-11-25T21:12:36.762Z"
   },
   {
    "duration": 391320,
    "start_time": "2022-11-25T21:13:15.848Z"
   },
   {
    "duration": 4580,
    "start_time": "2022-11-25T21:20:16.631Z"
   },
   {
    "duration": 4520,
    "start_time": "2022-11-25T21:20:31.947Z"
   },
   {
    "duration": 4777,
    "start_time": "2022-11-25T21:20:39.891Z"
   },
   {
    "duration": 4579,
    "start_time": "2022-11-25T21:20:50.650Z"
   },
   {
    "duration": 4536,
    "start_time": "2022-11-25T21:21:01.150Z"
   },
   {
    "duration": 4465,
    "start_time": "2022-11-25T21:21:09.385Z"
   },
   {
    "duration": 3417,
    "start_time": "2022-11-25T21:21:38.530Z"
   },
   {
    "duration": 4794,
    "start_time": "2022-11-25T21:21:47.141Z"
   },
   {
    "duration": 4459,
    "start_time": "2022-11-25T21:21:56.854Z"
   },
   {
    "duration": 4609,
    "start_time": "2022-11-25T21:22:06.693Z"
   },
   {
    "duration": 4329,
    "start_time": "2022-11-25T21:22:14.706Z"
   },
   {
    "duration": 6087,
    "start_time": "2022-11-25T21:22:31.846Z"
   },
   {
    "duration": 5684,
    "start_time": "2022-11-25T21:22:44.538Z"
   },
   {
    "duration": 8403,
    "start_time": "2022-11-25T21:22:55.527Z"
   },
   {
    "duration": 2338,
    "start_time": "2022-11-25T21:23:07.793Z"
   },
   {
    "duration": 2515,
    "start_time": "2022-11-25T21:23:16.341Z"
   },
   {
    "duration": 2665,
    "start_time": "2022-11-25T21:23:24.881Z"
   },
   {
    "duration": 3093,
    "start_time": "2022-11-25T21:23:31.495Z"
   },
   {
    "duration": 3111,
    "start_time": "2022-11-25T21:23:38.703Z"
   },
   {
    "duration": 3172,
    "start_time": "2022-11-25T21:23:48.677Z"
   },
   {
    "duration": 3896,
    "start_time": "2022-11-25T21:24:00.784Z"
   },
   {
    "duration": 3704,
    "start_time": "2022-11-25T21:24:08.916Z"
   },
   {
    "duration": 3918,
    "start_time": "2022-11-25T21:24:18.068Z"
   },
   {
    "duration": 4594,
    "start_time": "2022-11-25T21:24:27.266Z"
   },
   {
    "duration": 4309,
    "start_time": "2022-11-25T21:24:46.597Z"
   },
   {
    "duration": 93185,
    "start_time": "2022-11-25T21:24:58.267Z"
   },
   {
    "duration": 2772,
    "start_time": "2022-11-25T21:26:46.524Z"
   },
   {
    "duration": 2646,
    "start_time": "2022-11-25T21:26:55.388Z"
   },
   {
    "duration": 86,
    "start_time": "2022-11-25T21:27:18.439Z"
   },
   {
    "duration": 11535,
    "start_time": "2022-11-25T21:27:20.871Z"
   },
   {
    "duration": 4600,
    "start_time": "2022-11-25T21:27:49.498Z"
   },
   {
    "duration": 4577,
    "start_time": "2022-11-25T21:27:57.660Z"
   },
   {
    "duration": 4352,
    "start_time": "2022-11-25T21:31:34.813Z"
   },
   {
    "duration": 4391,
    "start_time": "2022-11-25T21:32:23.000Z"
   },
   {
    "duration": 107,
    "start_time": "2022-11-25T21:47:22.547Z"
   },
   {
    "duration": 16,
    "start_time": "2022-11-25T21:47:46.590Z"
   },
   {
    "duration": 2721,
    "start_time": "2022-11-25T21:48:00.444Z"
   },
   {
    "duration": 95,
    "start_time": "2022-11-25T21:48:03.167Z"
   },
   {
    "duration": 3,
    "start_time": "2022-11-25T21:50:44.235Z"
   },
   {
    "duration": 24,
    "start_time": "2022-11-25T21:50:44.241Z"
   }
  ],
  "kernelspec": {
   "display_name": "Python 3 (ipykernel)",
   "language": "python",
   "name": "python3"
  },
  "language_info": {
   "codemirror_mode": {
    "name": "ipython",
    "version": 3
   },
   "file_extension": ".py",
   "mimetype": "text/x-python",
   "name": "python",
   "nbconvert_exporter": "python",
   "pygments_lexer": "ipython3",
   "version": "3.9.13"
  },
  "toc": {
   "base_numbering": 1,
   "nav_menu": {},
   "number_sections": true,
   "sideBar": true,
   "skip_h1_title": true,
   "title_cell": "Содержание",
   "title_sidebar": "Contents",
   "toc_cell": true,
   "toc_position": {
    "height": "calc(100% - 180px)",
    "left": "10px",
    "top": "150px",
    "width": "281.438px"
   },
   "toc_section_display": true,
   "toc_window_display": true
  }
 },
 "nbformat": 4,
 "nbformat_minor": 2
}
